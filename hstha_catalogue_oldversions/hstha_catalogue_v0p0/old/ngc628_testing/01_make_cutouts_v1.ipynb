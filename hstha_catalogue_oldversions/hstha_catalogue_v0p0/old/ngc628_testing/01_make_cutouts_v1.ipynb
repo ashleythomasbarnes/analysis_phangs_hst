{
 "cells": [
  {
   "cell_type": "code",
   "execution_count": 14,
   "id": "d369fbac-009a-4e26-9824-3459a376f06b",
   "metadata": {},
   "outputs": [],
   "source": [
    "import warnings\n",
    "warnings.filterwarnings('ignore')\n",
    "\n",
    "from astropy.io import fits\n",
    "from tqdm.auto import tqdm \n",
    "import numpy as np\n",
    "import os\n",
    "import gc \n",
    "from glob import glob \n",
    "import sys\n",
    "sys.path.append('../')\n",
    "from modules import dendro_cutouts, dendro_misc"
   ]
  },
  {
   "cell_type": "code",
   "execution_count": 18,
   "id": "b50ee53c-0434-4980-b5a4-39e4768c62eb",
   "metadata": {},
   "outputs": [],
   "source": [
    "# Define names and filenames...\n",
    "\n",
    "galaxy = 'ngc0628'\n",
    "galaxy_hst = 'ngc628c'\n",
    "root_dir = '/Users/abarnes/Dropbox/work/Smallprojects/galaxies'\n",
    "\n",
    "hstha_file = '%s/data_hstha/%s/hst_contsub/%s_hst_ha_sic.fits' %(root_dir, galaxy_hst, galaxy_hst)\n",
    "muscat_file = '%s/data_hstha/%s/muse/%s_nebmask.fits' %(root_dir, galaxy_hst, galaxy.upper())\n",
    "musha_file = '%s/data_hstha/%s/muse/%s-*_MAPS.fits' %(root_dir, galaxy_hst, galaxy.upper())\n",
    "musha_file = glob(musha_file)[0] #because of resolution in name\n",
    "\n",
    "cutout_dir = '%s/data_hstha_nebulae_catalogue/%s/cutouts' %(root_dir, galaxy_hst)\n",
    "dendro_dir = '%s/data_hstha_nebulae_catalogue/%s/dendro' %(root_dir, galaxy_hst)\n",
    "cutouts_hdus_dir = '%s/data_hstha_nebulae_catalogue/%s/cutouts_hdus' %(root_dir, galaxy_hst)\n",
    "\n",
    "rerun_all = False\n",
    "rerun_regions = False\n",
    "rerun_masking = False\n",
    "\n",
    "regions_file = '%s/sample.reg' %cutout_dir\n",
    "regions_pickel_file = '%s/sample.pickel' %cutout_dir\n",
    "sample_table_file = '%s/data_misc/sample_table/phangs_sample_table_v1p6.fits' %root_dir\n",
    "muscat_table_file = '%s/data_misc/nebulae_catalogue/Nebulae_catalogue_v3.fits' %root_dir"
   ]
  },
  {
   "cell_type": "code",
   "execution_count": 16,
   "id": "d27a90fb",
   "metadata": {},
   "outputs": [
    {
     "name": "stdout",
     "output_type": "stream",
     "text": [
      "[Info] Outputing to the following:\n",
      "/Users/abarnes/Dropbox/work/Smallprojects/galaxies/data_hstha_nebulae_catalogue/ngc628c/\n"
     ]
    }
   ],
   "source": [
    "# Make paths \n",
    "\n",
    "def make_paths(rootdir, galaxy_hst, rerun_all=False):\n",
    "\n",
    "    root_dir = '%s/data_hstha_nebulae_catalogue/%s/' %(rootdir, galaxy_hst)\n",
    "    cutout_dir = '%s/cutouts' %(root_dir)\n",
    "    dendro_dir = '%s/dendro' %(root_dir)\n",
    "    cutouts_hdus_dir = '%s/cutouts_hdus' %(root_dir)\n",
    "\n",
    "    print('[Info] Outputing to the following:')\n",
    "    print(root_dir)\n",
    "\n",
    "    if rerun_all: \n",
    "        os.system('rm -rf '+root_dir)\n",
    "\n",
    "    if not os.path.isdir(root_dir):\n",
    "        os.mkdir(root_dir) \n",
    "\n",
    "    for path in [cutout_dir, dendro_dir, cutouts_hdus_dir]:\n",
    "\n",
    "        if not os.path.isdir(path):\n",
    "            os.mkdir(path)  \n",
    "\n",
    "make_paths(root_dir, galaxy_hst)"
   ]
  },
  {
   "cell_type": "code",
   "execution_count": 17,
   "id": "98971d8f-bd9c-4c7d-8ac9-4e0d9a821423",
   "metadata": {},
   "outputs": [],
   "source": [
    "# Loading files...\n",
    "\n",
    "hstha_hdu = fits.open(hstha_file)[0]\n",
    "musha_hdu = fits.open(musha_file)['HA6562_FLUX']\n",
    "muscat_hdu = fits.open(muscat_file)[0]\n",
    "\n",
    "# Update arrays\n",
    "musha_hdu.data[np.isnan(musha_hdu.data)] = -100\n",
    "muscat_hdu.data = np.array(muscat_hdu.data, dtype=float)\n",
    "muscat_hdu.data[muscat_hdu.data==-1] = np.nan\n",
    "\n",
    "# Convert all hdus to float32\n",
    "hdus = [hstha_hdu, musha_hdu, muscat_hdu]\n",
    "hdus = [dendro_misc.convert_to_float32(hdu.copy()) for hdu in hdus]"
   ]
  },
  {
   "cell_type": "code",
   "execution_count": 19,
   "id": "f9e934ac-124d-4f9c-bd3d-3e3369a1bbf4",
   "metadata": {
    "tags": []
   },
   "outputs": [
    {
     "name": "stdout",
     "output_type": "stream",
     "text": [
      "[INFO] [get_MuseProps] Getting MUSE catalouge properties for ngc0628...\n",
      "[INFO] [get_regions] Opening regions file (this may take a min)... \n",
      "[INFO] [get_regions] Getting info for 2869 regions...\n",
      "[INFO] [save_pickle] Saved to /Users/abarnes/Dropbox/work/Smallprojects/galaxies/data_hstha_nebulae_catalogue/ngc628c/cutouts/sample.pickel\n"
     ]
    }
   ],
   "source": [
    "# Get regions and sample table... \n",
    "\n",
    "if os.path.exists(regions_file) & ~rerun_regions:\n",
    "    regions = dendro_misc.load_pickle(regions_pickel_file)\n",
    "else: \n",
    "    muscat_table = dendro_misc.get_museprops(galaxy, muscat_table_file)\n",
    "    regions_sky = dendro_cutouts.get_ds9regions_all(muscat_table, outputfile=regions_file)\n",
    "    regions = dendro_cutouts.get_regions(regions_file)\n",
    "    dendro_misc.save_pickle(regions, regions_pickel_file) "
   ]
  },
  {
   "cell_type": "code",
   "execution_count": 21,
   "id": "d35645e5-f0c0-4bd2-aea2-d865bc2d5241",
   "metadata": {
    "tags": []
   },
   "outputs": [
    {
     "name": "stdout",
     "output_type": "stream",
     "text": [
      "[INFO] Running for hstha_hdu...\n"
     ]
    },
    {
     "data": {
      "application/vnd.jupyter.widget-view+json": {
       "model_id": "8458c35034e44f29b649703ca6b4b1dc",
       "version_major": 2,
       "version_minor": 0
      },
      "text/plain": [
       "Cropping regions:   0%|          | 0/2869 [00:00<?, ?it/s]"
      ]
     },
     "metadata": {},
     "output_type": "display_data"
    },
    {
     "name": "stdout",
     "output_type": "stream",
     "text": [
      "[INFO] [save_pickle] Saved to /Users/abarnes/Dropbox/work/Smallprojects/galaxies/data_hstha_nebulae_catalogue/ngc628c/cutouts/hstha_hdu.pickel\n",
      "[INFO] Running for musha_hdu...\n"
     ]
    },
    {
     "data": {
      "application/vnd.jupyter.widget-view+json": {
       "model_id": "6a6c3c7445274c5c864469bcb4e8d6c6",
       "version_major": 2,
       "version_minor": 0
      },
      "text/plain": [
       "Cropping regions:   0%|          | 0/2869 [00:00<?, ?it/s]"
      ]
     },
     "metadata": {},
     "output_type": "display_data"
    },
    {
     "name": "stdout",
     "output_type": "stream",
     "text": [
      "[INFO] [save_pickle] Saved to /Users/abarnes/Dropbox/work/Smallprojects/galaxies/data_hstha_nebulae_catalogue/ngc628c/cutouts/musha_hdu.pickel\n",
      "[INFO] Running for muscat_hdu...\n"
     ]
    },
    {
     "data": {
      "application/vnd.jupyter.widget-view+json": {
       "model_id": "58c6fc4fbe5b43efbdf7460a108a7bd4",
       "version_major": 2,
       "version_minor": 0
      },
      "text/plain": [
       "Cropping regions:   0%|          | 0/2869 [00:00<?, ?it/s]"
      ]
     },
     "metadata": {},
     "output_type": "display_data"
    },
    {
     "name": "stdout",
     "output_type": "stream",
     "text": [
      "[INFO] [save_pickle] Saved to /Users/abarnes/Dropbox/work/Smallprojects/galaxies/data_hstha_nebulae_catalogue/ngc628c/cutouts/muscat_hdu.pickel\n"
     ]
    }
   ],
   "source": [
    "# Get cutouts and save... \n",
    "\n",
    "hdus = [hstha_hdu, musha_hdu, muscat_hdu]\n",
    "names = ['hstha_hdu', 'musha_hdu', 'muscat_hdu']\n",
    "\n",
    "for hdu, name in zip(hdus, names):\n",
    "\n",
    "    print('[INFO] Running for %s...' %name)\n",
    "    hdu_cutouts = dendro_cutouts.get_croppeddata_all(hdu, regions)\n",
    "    dendro_misc.save_pickle(hdu_cutouts, '%s/%s.pickel' %(cutout_dir, name)) \n",
    "    del hdu_cutouts\n",
    "    _ = gc.collect()"
   ]
  },
  {
   "cell_type": "code",
   "execution_count": 22,
   "id": "a83091f3",
   "metadata": {},
   "outputs": [
    {
     "data": {
      "application/vnd.jupyter.widget-view+json": {
       "model_id": "38dbd4655d1944c28645a0c0e0d34fa8",
       "version_major": 2,
       "version_minor": 0
      },
      "text/plain": [
       "  0%|          | 0/3 [00:00<?, ?it/s]"
      ]
     },
     "metadata": {},
     "output_type": "display_data"
    },
    {
     "name": "stdout",
     "output_type": "stream",
     "text": [
      "[INFO] [load_pickle] Load /Users/abarnes/Dropbox/work/Smallprojects/galaxies/data_hstha_nebulae_catalogue/ngc628c/cutouts/hstha_hdu.pickel\n",
      "[INFO] [load_pickle] Load /Users/abarnes/Dropbox/work/Smallprojects/galaxies/data_hstha_nebulae_catalogue/ngc628c/cutouts/musha_hdu.pickel\n",
      "[INFO] [load_pickle] Load /Users/abarnes/Dropbox/work/Smallprojects/galaxies/data_hstha_nebulae_catalogue/ngc628c/cutouts/muscat_hdu.pickel\n",
      "[INFO] [save_pickle] Saved to /Users/abarnes/Dropbox/work/Smallprojects/galaxies/data_hstha_nebulae_catalogue/ngc628c/cutouts/hdus_all.pickel\n"
     ]
    }
   ],
   "source": [
    "# Load all cutouts and save in one file... \n",
    "\n",
    "names = ['hstha_hdu', 'musha_hdu', 'muscat_hdu']\n",
    "hdus_cutouts = {}\n",
    "\n",
    "for name in tqdm(names):\n",
    "\n",
    "    hdu_cutouts = dendro_misc.load_pickle('%s/%s.pickel' %(cutout_dir, name))\n",
    "    hdus_cutouts[name] = hdu_cutouts\n",
    "\n",
    "dendro_misc.save_pickle(hdus_cutouts, '%s/hdus_all.pickel' %cutout_dir) "
   ]
  },
  {
   "cell_type": "code",
   "execution_count": null,
   "id": "607531a0",
   "metadata": {},
   "outputs": [],
   "source": []
  }
 ],
 "metadata": {
  "kernelspec": {
   "display_name": "Python 3 (ipykernel)",
   "language": "python",
   "name": "python3"
  },
  "language_info": {
   "codemirror_mode": {
    "name": "ipython",
    "version": 3
   },
   "file_extension": ".py",
   "mimetype": "text/x-python",
   "name": "python",
   "nbconvert_exporter": "python",
   "pygments_lexer": "ipython3",
   "version": "3.9.13"
  }
 },
 "nbformat": 4,
 "nbformat_minor": 5
}
