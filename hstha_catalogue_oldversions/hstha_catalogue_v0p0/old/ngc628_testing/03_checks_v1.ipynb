{
 "cells": [
  {
   "cell_type": "code",
   "execution_count": 1,
   "metadata": {},
   "outputs": [],
   "source": [
    "import warnings\n",
    "warnings.filterwarnings('ignore')\n",
    "from astropy.io import fits\n",
    "import os\n",
    "from astropy.table import join\n",
    "\n",
    "import sys\n",
    "sys.path.append('../')\n",
    "from modules import dendro_misc\n"
   ]
  },
  {
   "cell_type": "code",
   "execution_count": 82,
   "metadata": {},
   "outputs": [
    {
     "name": "stdout",
     "output_type": "stream",
     "text": [
      "[INFO] [get_MuseProps] Getting MUSE catalouge properties for ngc0628...\n",
      "[INFO] [load_pickle] Load ./analysis/dendro/props_all.pickel\n"
     ]
    }
   ],
   "source": [
    "# Define names and filenames...\n",
    "\n",
    "galaxy = 'ngc0628'\n",
    "root_dir = '/Users/abarnes/Dropbox/work/Smallprojects/galaxies'\n",
    "cutout_dir = './analysis/cutouts'\n",
    "dendro_dir = './analysis/dendro'\n",
    "cutouts_hdus_dir = './analysis/cutouts_hdus/'\n",
    "rerun_masking = False\n",
    "\n",
    "regions_file = '%s/sample.reg' %cutout_dir\n",
    "regions_pickel_file = '%s/sample.pickel' %cutout_dir\n",
    "sample_table_file = '%s/data_misc/sample_table/phangs_sample_table_v1p6.fits' %root_dir\n",
    "muscat_table_file = '%s/data_misc/nebulae_catalogue/Nebulae_catalogue_v3.fits' %root_dir\n",
    "\n",
    "muscat_table = dendro_misc.get_museprops(galaxy, muscat_table_file)\n",
    "props_all_muscat_table = dendro_misc.load_pickle('%s/props_all.pickel' %dendro_dir)  "
   ]
  },
  {
   "cell_type": "code",
   "execution_count": 86,
   "metadata": {},
   "outputs": [
    {
     "data": {
      "text/html": [
       "&lt;Column name=&apos;region_ID&apos; dtype=&apos;float64&apos; length=0&gt;\n",
       "<table>\n",
       "</table>"
      ],
      "text/plain": [
       "<Column name='region_ID' dtype='float64' length=0>"
      ]
     },
     "execution_count": 86,
     "metadata": {},
     "output_type": "execute_result"
    }
   ],
   "source": [
    "muscat_table['region_ID'][np.isnan(muscat_table['region_ID'])]"
   ]
  },
  {
   "cell_type": "code",
   "execution_count": 59,
   "metadata": {},
   "outputs": [
    {
     "data": {
      "text/html": [
       "&lt;MaskedColumn name=&apos;HA6562_FLUX_HST&apos; dtype=&apos;float64&apos; unit=&apos;erg / (s cm2)&apos; length=2861&gt;\n",
       "<table>\n",
       "<tr><td>--</td></tr>\n",
       "<tr><td>--</td></tr>\n",
       "<tr><td>0.974941131271274</td></tr>\n",
       "<tr><td>0.6950336092515657</td></tr>\n",
       "<tr><td>0.901315742634657</td></tr>\n",
       "<tr><td>0.7732969934558841</td></tr>\n",
       "<tr><td>0.8145327612973811</td></tr>\n",
       "<tr><td>0.8814697310886734</td></tr>\n",
       "<tr><td>--</td></tr>\n",
       "<tr><td>0.9295514538458917</td></tr>\n",
       "<tr><td>0.7855921640818027</td></tr>\n",
       "<tr><td>--</td></tr>\n",
       "<tr><td>...</td></tr>\n",
       "<tr><td>0.04578182273229539</td></tr>\n",
       "<tr><td>0.560253667377182</td></tr>\n",
       "<tr><td>0.05585876366119731</td></tr>\n",
       "<tr><td>--</td></tr>\n",
       "<tr><td>--</td></tr>\n",
       "<tr><td>--</td></tr>\n",
       "<tr><td>0.03808180469205842</td></tr>\n",
       "<tr><td>0.3759657793786606</td></tr>\n",
       "<tr><td>--</td></tr>\n",
       "<tr><td>--</td></tr>\n",
       "<tr><td>--</td></tr>\n",
       "<tr><td>0.0411715351095304</td></tr>\n",
       "</table>"
      ],
      "text/plain": [
       "<MaskedColumn name='HA6562_FLUX_HST' dtype='float64' unit='erg / (s cm2)' length=2861>\n",
       "                 --\n",
       "                 --\n",
       "  0.974941131271274\n",
       " 0.6950336092515657\n",
       "  0.901315742634657\n",
       " 0.7732969934558841\n",
       " 0.8145327612973811\n",
       " 0.8814697310886734\n",
       "                 --\n",
       " 0.9295514538458917\n",
       " 0.7855921640818027\n",
       "                 --\n",
       "                ...\n",
       "0.04578182273229539\n",
       "  0.560253667377182\n",
       "0.05585876366119731\n",
       "                 --\n",
       "                 --\n",
       "                 --\n",
       "0.03808180469205842\n",
       " 0.3759657793786606\n",
       "                 --\n",
       "                 --\n",
       "                 --\n",
       " 0.0411715351095304"
      ]
     },
     "execution_count": 59,
     "metadata": {},
     "output_type": "execute_result"
    }
   ],
   "source": [
    "props_all_muscat_table['HA6562_FLUX_HST']/props_all_muscat_table['HA6562_FLUX']"
   ]
  },
  {
   "cell_type": "code",
   "execution_count": 6,
   "metadata": {},
   "outputs": [
    {
     "name": "stdout",
     "output_type": "stream",
     "text": [
      "[INFO] [load_pickle] Load ./analysis/dendro/hdus_all_withmasked_withdendro.pickel\n"
     ]
    }
   ],
   "source": [
    "# Load cutout hdus with smoothed, masked, and non-masked data...\n",
    "\n",
    "cutout_dir = './analysis/dendro'\n",
    "hdus_file = '%s/hdus_all_withmasked_withdendro.pickel' %cutout_dir\n",
    "rerun_masking = False\n",
    "\n",
    "hdus = dendro_misc.load_pickle(hdus_file)"
   ]
  },
  {
   "cell_type": "code",
   "execution_count": 9,
   "metadata": {},
   "outputs": [
    {
     "data": {
      "text/plain": [
       "dict_keys(['hstha_hdu', 'musha_hdu', 'muscat_hdu', 'hstha_hdu_smooth', 'hstha_hdu_smooth_masked', 'hstha_hdu_smooth_masked_ones', 'hstha_hdu_smooth_maskedall', 'musmask_hdu', 'indexmap_trunk_hdu', 'indexmap_trunk_close_hdu'])"
      ]
     },
     "execution_count": 9,
     "metadata": {},
     "output_type": "execute_result"
    }
   ],
   "source": [
    "hdus[hdus.keys()[0]]"
   ]
  },
  {
   "cell_type": "code",
   "execution_count": 91,
   "metadata": {},
   "outputs": [],
   "source": [
    "import numpy as np\n",
    "from tqdm.auto import tqdm\n",
    "\n",
    "def get_hdulists(hdus, regionIDs, outputdir='./'):\n",
    "\n",
    "    keys = list(hdus.keys())\n",
    "    # for i in tqdm(range(len(hdus[keys[0]]))): \n",
    "    for i in [1272]: \n",
    "        \n",
    "        regionID = regionIDs[i]\n",
    "        data = []\n",
    "        header = []\n",
    "        hdu = []\n",
    "\n",
    "        for key in keys:\n",
    "            data = np.array(hdus[key][i].data)\n",
    "            header = hdus[key][i].header\n",
    "            if key == keys[0]: \n",
    "                hdu += [fits.PrimaryHDU((), header=header)]\n",
    "                hdu += [fits.ImageHDU(data, header, key)]\n",
    "            else: \n",
    "                hdu += [fits.ImageHDU(data, header, key)]\n",
    "        \n",
    "        hdu_list = fits.HDUList(hdu)\n",
    "        hdu_list.writeto('%s/hdus_%i.fits' %(outputdir, regionID), overwrite=True)\n",
    "\n",
    "cutouts_hdus_dir = './analysis/cutouts_hdus/'\n",
    "get_hdulists(hdus, props_all_muscat_table['region_ID'], outputdir=cutouts_hdus_dir)"
   ]
  },
  {
   "cell_type": "code",
   "execution_count": 106,
   "metadata": {},
   "outputs": [
    {
     "data": {
      "text/plain": [
       "<matplotlib.image.AxesImage at 0x7fcbffd7bb20>"
      ]
     },
     "execution_count": 106,
     "metadata": {},
     "output_type": "execute_result"
    },
    {
     "data": {
      "image/png": "[encoded data removed]",
      "text/plain": [
       "<Figure size 640x480 with 1 Axes>"
      ]
     },
     "metadata": {},
     "output_type": "display_data"
    }
   ],
   "source": [
    "import matplotlib.pyplot as plt\n",
    "\n",
    "# plt.imshow(hdus['hstha_hdu_smooth_masked'][1723].data)\n",
    "plt.imshow(hdus['hstha_hdu_smooth_masked'][1272].data)\n",
    "# plt.imshow(hdus['hstha_hdu_smooth_maskedall'][1723].data)"
   ]
  },
  {
   "cell_type": "code",
   "execution_count": null,
   "metadata": {},
   "outputs": [],
   "source": []
  }
 ],
 "metadata": {
  "kernelspec": {
   "display_name": "base",
   "language": "python",
   "name": "python3"
  },
  "language_info": {
   "codemirror_mode": {
    "name": "ipython",
    "version": 3
   },
   "file_extension": ".py",
   "mimetype": "text/x-python",
   "name": "python",
   "nbconvert_exporter": "python",
   "pygments_lexer": "ipython3",
   "version": "3.9.13"
  }
 },
 "nbformat": 4,
 "nbformat_minor": 2
}
