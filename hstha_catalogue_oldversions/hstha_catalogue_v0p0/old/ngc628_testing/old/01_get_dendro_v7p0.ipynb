{
 "cells": [
  {
   "cell_type": "code",
   "execution_count": 1,
   "id": "b94e1b6d-3658-4bb5-aa10-63ed3da2ca52",
   "metadata": {
    "tags": []
   },
   "outputs": [],
   "source": [
    "import warnings\n",
    "warnings.filterwarnings('ignore')\n",
    "from analysis_phangs_hst import dendro_cutouts, dendro_dendro, dendro_misc"
   ]
  },
  {
   "cell_type": "code",
   "execution_count": 2,
   "id": "7ed3eb4d-73dc-43b4-94cf-5d00371ec33a",
   "metadata": {
    "tags": []
   },
   "outputs": [
    {
     "name": "stdout",
     "output_type": "stream",
     "text": [
      "[INFO] [get_GalaxyProps] Getting sample table properties for ngc0628...\n",
      "[INFO] [get_MuseProps] Getting MUSE catalouge properties for ngc0628...\n",
      "[INFO] [load_pickle] Load ../../analysis/catalogue/hdus_sample_sci.pickel\n"
     ]
    }
   ],
   "source": [
    "# Get Galaxy properties\n",
    "galaxy = 'ngc0628'\n",
    "min_value_sig = [2, 3, 4, 5]\n",
    "\n",
    "sampletable = dendro_dendro.get_GalaxyProps(galaxy)\n",
    "muscat_table = dendro_dendro.get_MuseProps(galaxy)\n",
    "\n",
    "hdus = dendro_misc.load_pickle('../../analysis/catalogue/hdus_sample_sci.pickel')"
   ]
  },
  {
   "cell_type": "code",
   "execution_count": 3,
   "id": "256f7f2b-4562-4202-bf6e-2a7f913eab3c",
   "metadata": {
    "tags": []
   },
   "outputs": [
    {
     "name": "stdout",
     "output_type": "stream",
     "text": [
      "[INFO] [get_regions] Opening regions file (this may take a min)... \n",
      "[INFO] [get_regions] Getting info for 215 regions...\n",
      "[INFO] [get_maskedhdus] Getting HST maps masked by MUSE catalouge...\n"
     ]
    },
    {
     "data": {
      "application/vnd.jupyter.widget-view+json": {
       "model_id": "d56e4dc79aa44ad9881212ec5e5ba256",
       "version_major": 2,
       "version_minor": 0
      },
      "text/plain": [
       "Masking regions:   0%|          | 0/215 [00:00<?, ?it/s]"
      ]
     },
     "metadata": {},
     "output_type": "display_data"
    }
   ],
   "source": [
    "# Specify the regions file\n",
    "regions_file = './../../analysis/catalogue/sample_v2.reg'\n",
    "\n",
    "# Call the get_regions function to retrieve the region properties with a progress bar\n",
    "regions = dendro_cutouts.get_regions(regions_file, hdus['hst07_hdus'])\n",
    "\n",
    "# Call the process_regions function and store the returned values\n",
    "hdus, muscat_ids = dendro_dendro.get_maskedhdus(hdus, regions)"
   ]
  },
  {
   "cell_type": "code",
   "execution_count": 4,
   "id": "27755504-57dd-47a7-ac3b-1e7024ae3de7",
   "metadata": {},
   "outputs": [
    {
     "data": {
      "application/vnd.jupyter.widget-view+json": {
       "model_id": "f52db5ca25214e1d965d5db5bfc8c2f2",
       "version_major": 2,
       "version_minor": 0
      },
      "text/plain": [
       "Dendrogram (with sigma ranges):   0%|          | 0/215 [00:00<?, ?it/s]"
      ]
     },
     "metadata": {},
     "output_type": "display_data"
    },
    {
     "name": "stdout",
     "output_type": "stream",
     "text": [
      "[INFO] [add_muse_info] Adding MUSE catalouge info to final table...\n"
     ]
    }
   ],
   "source": [
    "hdus, props_all = dendro_dendro.get_dedro_all_decorator(hdus, min_value_sig, sampletable, muscat_ids)\n",
    "props_all = dendro_dendro.add_muse_info(props_all, muscat_table)"
   ]
  },
  {
   "cell_type": "code",
   "execution_count": 7,
   "id": "bd0e5c22-3865-4f32-b603-a982586617ff",
   "metadata": {},
   "outputs": [
    {
     "name": "stdout",
     "output_type": "stream",
     "text": [
      "[INFO] [save_pickle] Saved to ../../analysis/catalogue/hdus_sample_withdendro.pickel\n",
      "[INFO] [save_pickle] Saved to ../../analysis/dendro/props_all/01_props_all_allsig.pickel\n",
      "[INFO] [save_fits] Saved to ../../analysis/dendro/props_all/01_props_all_2sig.fits\n",
      "[INFO] [save_fits] Saved to ../../analysis/dendro/props_all/01_props_all_3sig.fits\n",
      "[INFO] [save_fits] Saved to ../../analysis/dendro/props_all/01_props_all_4sig.fits\n",
      "[INFO] [save_fits] Saved to ../../analysis/dendro/props_all/01_props_all_5sig.fits\n"
     ]
    }
   ],
   "source": [
    "dendro_misc.save_pickle(hdus, '../../analysis/catalogue/hdus_sample_withdendro.pickel') \n",
    "dendro_misc.save_pickle(props_all, '../../analysis/dendro/props_all/01_props_all_allsig.pickel')        \n",
    "dendro_dendro.save_fits(props_all)"
   ]
  },
  {
   "cell_type": "code",
   "execution_count": null,
   "id": "af383765-91f5-4ce1-b08e-b310e452f8d0",
   "metadata": {},
   "outputs": [],
   "source": [
    "    min_value_sig_n = len(min_value_sig)\n",
    "    min_value_sig_str = ['%ssig' %min_value_sig[i] for i in range(min_value_sig_n)]"
   ]
  }
 ],
 "metadata": {
  "kernelspec": {
   "display_name": "Python 3 (ipykernel)",
   "language": "python",
   "name": "python3"
  },
  "language_info": {
   "codemirror_mode": {
    "name": "ipython",
    "version": 3
   },
   "file_extension": ".py",
   "mimetype": "text/x-python",
   "name": "python",
   "nbconvert_exporter": "python",
   "pygments_lexer": "ipython3",
   "version": "3.9.13"
  }
 },
 "nbformat": 4,
 "nbformat_minor": 5
}
