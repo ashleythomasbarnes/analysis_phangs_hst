{
 "cells": [
  {
   "cell_type": "code",
   "execution_count": null,
   "id": "b94e1b6d-3658-4bb5-aa10-63ed3da2ca52",
   "metadata": {
    "tags": []
   },
   "outputs": [],
   "source": [
    "import warnings\n",
    "warnings.filterwarnings('ignore')\n",
    "from astropy.io import fits\n",
    "import os\n",
    "from astropy.table import join\n",
    "\n",
    "import sys\n",
    "sys.path.append('../')\n",
    "from modules import dendro_dendro, dendro_misc, dendro_props, dendro_mask"
   ]
  },
  {
   "cell_type": "code",
   "execution_count": null,
   "id": "72118b00",
   "metadata": {},
   "outputs": [],
   "source": [
    "import warnings\n",
    "warnings.filterwarnings('ignore')\n",
    "\n",
    "from astropy.table import Table, join, vstack\n",
    "import numpy as np\n",
    "import matplotlib.pyplot as plt\n",
    "import scipy \n",
    "from reproject import reproject_interp\n",
    "\n",
    "import astropy.units as au\n",
    "from astropy import stats\n",
    "from astrodendro import Dendrogram, pp_catalog\n",
    "from astropy.wcs import WCS\n",
    "from astropy.table import Column\n",
    "\n",
    "from astropy.io import fits\n",
    "import aplpy\n",
    "from tqdm.auto import tqdm\n",
    "\n",
    "from astropy.convolution import Gaussian2DKernel\n",
    "from astropy.convolution import convolve\n",
    "\n",
    "from astropy.wcs import WCS"
   ]
  },
  {
   "cell_type": "code",
   "execution_count": null,
   "id": "7ed3eb4d-73dc-43b4-94cf-5d00371ec33a",
   "metadata": {
    "tags": []
   },
   "outputs": [],
   "source": [
    "# Define names and filenames...\n",
    "\n",
    "galaxy = 'ngc0628'\n",
    "root_dir = '/Users/abarnes/Dropbox/work/Smallprojects/galaxies'\n",
    "cutout_dir = './analysis/cutouts'\n",
    "dendro_dir = './analysis/dendro'\n",
    "cutouts_hdus_dir = './analysis/cutouts_hdus/'\n",
    "rerun_masking = False\n",
    "\n",
    "regions_file = '%s/sample.reg' %cutout_dir\n",
    "regions_pickel_file = '%s/sample.pickel' %cutout_dir\n",
    "sample_table_file = '%s/data_misc/sample_table/phangs_sample_table_v1p6.fits' %root_dir\n",
    "muscat_table_file = '%s/data_misc/nebulae_catalogue/Nebulae_catalogue_v3.fits' %root_dir"
   ]
  },
  {
   "cell_type": "code",
   "execution_count": null,
   "id": "97083a1f",
   "metadata": {},
   "outputs": [],
   "source": [
    "# Load regions, sample table and HDUs... \n",
    "\n",
    "hdus_cutouts = dendro_misc.load_pickle('%s/hdus_all.pickel' %cutout_dir)\n",
    "regions = dendro_misc.load_pickle(regions_pickel_file)\n",
    "\n",
    "sample_table = dendro_misc.get_galaxyprops(galaxy, sample_table_file)\n",
    "muscat_table = dendro_misc.get_museprops(galaxy, muscat_table_file)"
   ]
  },
  {
   "cell_type": "code",
   "execution_count": null,
   "id": "95e1cc62",
   "metadata": {},
   "outputs": [],
   "source": [
    "def get_maskeddata(muscat_hdu, hst_hdu, muscat_id): \n",
    "    \n",
    "    hst_masked_hdu = hst_hdu.copy() #only ID in mask\n",
    "    hst_masked_ones_hdu = hst_hdu.copy() #only ID in mask\n",
    "    hst_maskedall_hdu = hst_hdu.copy() #all MUSE regions out of mask - for noise measure\n",
    "    \n",
    "    #get mask \n",
    "    shape = muscat_hdu.data.shape\n",
    "    # muscat_id = muscat_hdu.data[int(shape[0]/2),int(shape[0]/2)]\n",
    "    \n",
    "    mask1 = muscat_hdu.data!=muscat_id #if catalouge is not ID\n",
    "    mask2 = np.isnan(muscat_hdu.data) #if catalouge is not a number\n",
    "    \n",
    "    muscat_hdu1 = muscat_hdu.copy()\n",
    "    muscat_hdu2 = muscat_hdu.copy()\n",
    "    \n",
    "    muscat_hdu1.data[mask1] = np.nan\n",
    "    muscat_hdu2.data[mask2] = 1\n",
    "    muscat_hdu2.data[~mask2] = np.nan\n",
    "\n",
    "    #regrid\n",
    "    data1 = reproject_interp(muscat_hdu1, hst_hdu.header, return_footprint=False, order='nearest-neighbor')\n",
    "    data2 = reproject_interp(muscat_hdu2, hst_hdu.header, return_footprint=False, order='nearest-neighbor')\n",
    "\n",
    "    #mask \n",
    "    hst_masked_hdu.data[np.isnan(data1)] = np.nan\n",
    "    hst_masked_ones_hdu.data[np.isnan(data1)] = 1\n",
    "    hst_maskedall_hdu.data[np.isnan(data2)] = np.nan\n",
    "    \n",
    "    return(hst_masked_hdu, hst_masked_ones_hdu, hst_maskedall_hdu, muscat_id)\n",
    "\n",
    "def get_maskedhdus(hdus, regions, muscat_regionIDs, hstha_hdu_name='hstha_hdu'):\n",
    "\n",
    "    hstha_hdu_smooth_arr = []\n",
    "    hstha_masked_hdu_arr = []\n",
    "    hst_masked_ones_hdu_arr = []\n",
    "    hstha_maskedall_hdu_arr = []\n",
    "    muscat_id_arr = []\n",
    "    mask_muse_arr = []\n",
    "\n",
    "    print(f'[INFO] [get_maskedhdus] Getting HST maps masked by MUSE catalouge...')\n",
    "    for i in tqdm(range(len(regions['ra'])), desc='Masking regions', position=0):\n",
    "    # for i in tqdm(range(50), desc='Masking regions', position=0):\n",
    "\n",
    "        if i != 1272: \n",
    "            continue\n",
    "\n",
    "        # Load\n",
    "        muscat_hdu = hdus['muscat_hdu'][i]\n",
    "        hstha_hdu_smooth = hdus[hstha_hdu_name][i].copy()\n",
    "        muscat_regionID = muscat_regionIDs[i]\n",
    "\n",
    "        # Smooth the data\n",
    "        kernel = Gaussian2DKernel(x_stddev=0.5)\n",
    "        hstha_hdu_smooth.data = convolve(hstha_hdu_smooth.data, kernel)\n",
    "\n",
    "        # Mask the data\n",
    "        output = get_maskeddata(muscat_hdu, hstha_hdu_smooth, muscat_regionID)\n",
    "        hstha_masked_hdu, hst_masked_ones_hdu, hstha_maskedall_hdu, muscat_id = output\n",
    "\n",
    "        # Make HDU\n",
    "        mask_muse = fits.PrimaryHDU(~np.isnan(hstha_masked_hdu.data) * 1, hstha_hdu_smooth.header)\n",
    "\n",
    "        # Extract the results in the correct order\n",
    "        hstha_hdu_smooth_arr += [hstha_hdu_smooth]\n",
    "        hstha_masked_hdu_arr += [hstha_masked_hdu]\n",
    "        hst_masked_ones_hdu_arr += [hst_masked_ones_hdu]\n",
    "        hstha_maskedall_hdu_arr += [hstha_maskedall_hdu]\n",
    "        muscat_id_arr += [muscat_regionID]\n",
    "        mask_muse_arr += [mask_muse]\n",
    "\n",
    "    # Assign the processed data to the corresponding keys in the hdus dictionary\n",
    "    hdus['%s_smooth' % hstha_hdu_name] = hstha_hdu_smooth_arr\n",
    "    hdus['%s_smooth_masked' % hstha_hdu_name] = hstha_masked_hdu_arr\n",
    "    hdus['%s_smooth_masked_ones' % hstha_hdu_name] = hst_masked_ones_hdu_arr\n",
    "    hdus['%s_smooth_maskedall' % hstha_hdu_name] = hstha_maskedall_hdu_arr\n",
    "    hdus['musmask_hdu'] = mask_muse_arr\n",
    "\n",
    "    # Return the modified hdus dictionary and muscat_id\n",
    "    return hdus"
   ]
  },
  {
   "cell_type": "code",
   "execution_count": null,
   "id": "256f7f2b-4562-4202-bf6e-2a7f913eab3c",
   "metadata": {
    "tags": []
   },
   "outputs": [],
   "source": [
    "# Load cutout hdus with smoothed, masked, and non-masked data...\n",
    "\n",
    "muscat_regionIDs = muscat_table['region_ID']\n",
    "hdus = get_maskedhdus(hdus_cutouts, regions, muscat_regionIDs)"
   ]
  },
  {
   "cell_type": "code",
   "execution_count": null,
   "id": "eafa7772",
   "metadata": {},
   "outputs": [],
   "source": [
    "import matplotlib.pyplot as plt\n",
    "\n",
    "plt.imshow(hdus['hstha_hdu_smooth_masked'][0].data)\n",
    "# plt.imshow(hdus['muscat_hdu'][2].data)\n",
    "# plt.imshow(hdus['hstha_hdu_smooth_maskedall'][2].data)"
   ]
  },
  {
   "cell_type": "code",
   "execution_count": null,
   "id": "75ee589a",
   "metadata": {},
   "outputs": [],
   "source": [
    "hdus.keys()"
   ]
  },
  {
   "cell_type": "code",
   "execution_count": null,
   "id": "34bdd167",
   "metadata": {},
   "outputs": [],
   "source": []
  }
 ],
 "metadata": {
  "kernelspec": {
   "display_name": "Python 3 (ipykernel)",
   "language": "python",
   "name": "python3"
  },
  "language_info": {
   "codemirror_mode": {
    "name": "ipython",
    "version": 3
   },
   "file_extension": ".py",
   "mimetype": "text/x-python",
   "name": "python",
   "nbconvert_exporter": "python",
   "pygments_lexer": "ipython3",
   "version": "3.9.13"
  }
 },
 "nbformat": 4,
 "nbformat_minor": 5
}
