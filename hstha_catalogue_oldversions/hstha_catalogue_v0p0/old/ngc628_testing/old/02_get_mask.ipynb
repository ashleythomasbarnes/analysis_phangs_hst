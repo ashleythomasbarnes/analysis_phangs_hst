{
 "cells": [
  {
   "cell_type": "code",
   "execution_count": 1,
   "id": "d911806a-6e45-422e-b299-fd868a526cc9",
   "metadata": {},
   "outputs": [],
   "source": [
    "import warnings\n",
    "warnings.filterwarnings('ignore')\n",
    "\n",
    "from astropy.table import Table, hstack, vstack, join\n",
    "import numpy as np\n",
    "import matplotlib.pyplot as plt\n",
    "import astropy.constants as ac\n",
    "import astropy.units as au\n",
    "from glob import glob\n",
    "from spectral_cube import SpectralCube\n",
    "import scipy \n",
    "from reproject import reproject_interp\n",
    "from astropy.wcs import WCS\n",
    "from astropy.coordinates import SkyCoord\n",
    "from tqdm.auto import tqdm \n",
    "\n",
    "from astropy.io import fits\n",
    "import matplotlib as mpl\n",
    "import pyregion\n",
    "import aplpy\n",
    "import math\n",
    "import os\n",
    "import pickle\n",
    "\n",
    "from analysis_phangs_hst import dendro_cutouts, dendro_dendro, dendro_misc, dendro_props, dendro_plot, dendro_mask"
   ]
  },
  {
   "cell_type": "code",
   "execution_count": 2,
   "id": "8b6a26bd-c208-4943-83a3-14e106d2db44",
   "metadata": {},
   "outputs": [
    {
     "name": "stdout",
     "output_type": "stream",
     "text": [
      "[INFO] [load_pickle] Load ../../analysis/catalogue/hdus_sample_withdendro.pickel\n"
     ]
    }
   ],
   "source": [
    "# Load properties of the hst nebula catalouge\n",
    "props_all_file = '../../analysis/dendro/props_all/01_props_all_3sig.fits'\n",
    "props_all = Table.read(props_all_file)\n",
    "props_all = props_all[~props_all['ra_cen'].mask] #remove masked values\n",
    "\n",
    "# Load data\n",
    "hdus = dendro_misc.load_pickle('../../analysis/catalogue/hdus_sample_withdendro.pickel')"
   ]
  },
  {
   "cell_type": "code",
   "execution_count": 3,
   "id": "7b7826f7-45fe-4452-af1c-90a0f08b2b1e",
   "metadata": {},
   "outputs": [
    {
     "name": "stdout",
     "output_type": "stream",
     "text": [
      "[INFO] [get_ds9regions_circ_decor] Saved regions to ds9_1.reg\n",
      "[INFO] [get_ds9regions_ellip_decor] Saved regions to ds9_2.reg\n"
     ]
    }
   ],
   "source": [
    "dendro_mask.get_ds9regions_circ_decor(props_all, outputfile='ds9_1.reg')\n",
    "dendro_mask.get_ds9regions_ellip_decor(props_all, outputfile='ds9_2.reg')"
   ]
  },
  {
   "cell_type": "code",
   "execution_count": 4,
   "id": "7e9a0858-af8d-4242-9aaa-3e5ab8db5861",
   "metadata": {
    "tags": []
   },
   "outputs": [
    {
     "data": {
      "application/vnd.jupyter.widget-view+json": {
       "model_id": "ff68460ca7c8424f8d3e7e217f49d479",
       "version_major": 2,
       "version_minor": 0
      },
      "text/plain": [
       "Masking regions:   0%|          | 0/2369 [00:00<?, ?it/s]"
      ]
     },
     "metadata": {},
     "output_type": "display_data"
    }
   ],
   "source": [
    "dir_hst = './../../../../data/ngc0628c/hst_contsub/f658n_f555w_f814w/'\n",
    "hst07_file = '%s/ngc628_halpha_bgsub_fit_anchored_intnegs_nocosmic_nnet.fits' %dir_hst\n",
    "hdu = fits.open(hst07_file)[0]\n",
    "\n",
    "dendro_mask.get_hdumask(hdus, hdu, outputfile='tmp1.fits')"
   ]
  },
  {
   "cell_type": "code",
   "execution_count": null,
   "id": "eba6769a-0629-4d81-85f4-3030df40d090",
   "metadata": {},
   "outputs": [],
   "source": []
  },
  {
   "cell_type": "code",
   "execution_count": null,
   "id": "eed8a5b7-03e0-436d-b14f-723bcf74a3a5",
   "metadata": {},
   "outputs": [],
   "source": []
  }
 ],
 "metadata": {
  "kernelspec": {
   "display_name": "Python 3 (ipykernel)",
   "language": "python",
   "name": "python3"
  },
  "language_info": {
   "codemirror_mode": {
    "name": "ipython",
    "version": 3
   },
   "file_extension": ".py",
   "mimetype": "text/x-python",
   "name": "python",
   "nbconvert_exporter": "python",
   "pygments_lexer": "ipython3",
   "version": "3.9.13"
  }
 },
 "nbformat": 4,
 "nbformat_minor": 5
}
