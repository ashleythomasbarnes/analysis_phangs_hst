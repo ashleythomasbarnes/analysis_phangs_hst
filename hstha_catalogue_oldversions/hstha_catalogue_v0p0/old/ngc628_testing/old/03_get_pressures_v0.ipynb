{
 "cells": [
  {
   "cell_type": "code",
   "execution_count": 33,
   "id": "f325fc9d-775f-4a4a-a337-f6e1110a604c",
   "metadata": {},
   "outputs": [],
   "source": [
    "import warnings\n",
    "warnings.filterwarnings('ignore')\n",
    "\n",
    "from astropy.table import Table, hstack, vstack, join, MaskedColumn\n",
    "import numpy as np\n",
    "import matplotlib.pyplot as plt\n",
    "import astropy.constants as ac\n",
    "import astropy.units as au\n",
    "from glob import glob\n",
    "from spectral_cube import SpectralCube\n",
    "import scipy \n",
    "from reproject import reproject_interp\n",
    "from scipy.optimize import curve_fit\n",
    "\n",
    "from tqdm.auto import tqdm \n",
    "from astropy.io import fits\n",
    "import matplotlib as mpl\n",
    "import pyregion\n",
    "import aplpy\n",
    "import math\n",
    "import os\n",
    "import pickle\n",
    "\n",
    "plt.rcParams[\"font.family\"] = \"sans-serif\"\n",
    "plt.rcParams[\"font.weight\"] = \"bold\"\n",
    "plt.rcParams[\"axes.labelweight\"] = \"bold\"\n",
    "plt.rcParams[\"xtick.direction\"] = \"in\"\n",
    "plt.rcParams[\"ytick.direction\"] = \"in\" "
   ]
  },
  {
   "cell_type": "code",
   "execution_count": 2,
   "id": "c30691ce-1acf-4130-a387-f79742c60781",
   "metadata": {},
   "outputs": [],
   "source": [
    "\"\"\"Easy pickel\"\"\"\n",
    "\n",
    "def save_pickle(a, filename): \n",
    "    with open(filename, 'wb') as handle:\n",
    "        pickle.dump(a, handle, protocol=pickle.HIGHEST_PROTOCOL)\n",
    "    print('[INFO] Saved to %s' %filename)\n",
    "    return()\n",
    "\n",
    "def load_pickle(filename):\n",
    "    with open('%s'%filename, 'rb') as handle:\n",
    "        b = pickle.load(handle)\n",
    "    print('[INFO] Load %s' %filename)\n",
    "    return(b)"
   ]
  },
  {
   "cell_type": "code",
   "execution_count": 3,
   "id": "f76b6f13-e926-47ca-a68e-c4008b9faa98",
   "metadata": {},
   "outputs": [],
   "source": [
    "def find_nearest(array, value):\n",
    "    \"\"\"find nearest value in array, and return id\"\"\"\n",
    "    array = np.asarray(array)\n",
    "    idx = (np.abs(array - value)).argmin()\n",
    "    return array[idx], idx"
   ]
  },
  {
   "cell_type": "code",
   "execution_count": 4,
   "id": "ac4b8be3-7bbd-46b4-a7d7-4be9b6416801",
   "metadata": {},
   "outputs": [],
   "source": [
    "\"\"\"Load properties of the hst nebula catalouge\"\"\"\n",
    "props_all = Table.read('../../analysis/dendro/props_all/props_all_2.fits')\n",
    "n = len(props_all)"
   ]
  },
  {
   "cell_type": "code",
   "execution_count": 5,
   "id": "b9f215ea-f88d-4f43-a449-b56542404ad2",
   "metadata": {},
   "outputs": [],
   "source": [
    "def get_SB99models(inputdir='/Users/abarnes/Dropbox/work/Projects/pressures/phangs/data/sb99/fiducial/fiducial_6p0linear/', tmin = 0, tmax = 1e8):\n",
    "    \n",
    "    \"\"\"Get SB99 models\"\"\"\n",
    "\n",
    "    t_ewidth = Table.read('%s/fiducial_6p0linear.ewidth1' %(inputdir), format='ascii', header_start=3, data_start=4)\n",
    "    names = ['TIME', 'QHI', 'QHIf', 'QHeI', 'QHeIf', 'QHeII', 'QHeIIf', 'logL']\n",
    "    t_quanta = Table.read('%s/fiducial_6p0linear.quanta1' %(inputdir), format='ascii', data_start=5, names=names)\n",
    "    names = ['TIME', 'ALLp', 'OBp', 'RSGp', 'LBVp', 'WRp', 'ALLe', 'ALLm', 'OBm', 'RSGm', 'LBVm', 'WRm']\n",
    "    t_power = Table.read('%s/fiducial_6p0linear.power1' %(inputdir), format='ascii', data_start=5, names=names)\n",
    "    names = ['TIME', '1', '2', '3', '4', '5', '6', '7', '8', '9', 'Mdotwind', 'Mdotsne','Mdotboth', 'Mtot']\n",
    "    t_yield = Table.read('%s/fiducial_6p0linear.yield1' %(inputdir), format='ascii', data_start=5, names=names)\n",
    "\n",
    "    time = t_ewidth['TIME']\n",
    "    mask = ((time>=tmin) & (time<=tmax))\n",
    "    time = time[mask]*au.yr\n",
    "\n",
    "    Q = t_quanta['QHI'][mask]\n",
    "    Mdot = t_yield['Mdotwind'][mask]\n",
    "    Lmech = t_power['ALLp'][mask]\n",
    "    Lbol = t_quanta['logL'][mask]\n",
    "    LHa = t_ewidth['LUM(H_A)'][mask]\n",
    "    Lfrac = 10**(t_quanta['logL'][mask]-t_ewidth['LUM(H_A)'][mask])\n",
    "    \n",
    "    return({'time':time, 'mdot':Mdot, 'lmech':Lmech, 'lbol':Lbol, 'lha':LHa, 'lfrac':Lfrac})\n",
    "\n",
    "SB99models = get_SB99models()"
   ]
  },
  {
   "cell_type": "code",
   "execution_count": 6,
   "id": "9d7bfcf1-2fe2-455d-8c2f-84d2ef7a7fa7",
   "metadata": {},
   "outputs": [],
   "source": [
    "def get_SB99models_arr(inputdir_='/Users/abarnes/Dropbox/work/Projects/pressures/phangs/data/sb99/fiducial/'):\n",
    "\n",
    "    masses = ['4p0', '4p5', '5p0', '5p5', '6p0', '6p5']\n",
    "    masses_ = [1e4, 5e4, 1e5, 5e5, 1e6, 5e6]\n",
    "    n = len(masses)\n",
    "\n",
    "    t_ewidth = dict.fromkeys(masses)\n",
    "    t_quanta = dict.fromkeys(masses)\n",
    "    t_power = dict.fromkeys(masses)\n",
    "    t_yield = dict.fromkeys(masses)\n",
    "\n",
    "    for mass, mass_,i in zip(masses, masses_, range(n)):\n",
    "\n",
    "\n",
    "        inputdir = '%s/fiducial_%s' %(inputdir_, mass) \n",
    "\n",
    "        t_ewidth_ = Table.read('%s/fiducial_%s.ewidth1' %(inputdir, mass), format='ascii', header_start=3, data_start=4)\n",
    "\n",
    "        names = ['TIME', 'QHI', 'QHIf', 'QHeI', 'QHeIf', 'QHeII', 'QHeIIf', 'logL']\n",
    "        t_quanta_ = Table.read('%s/fiducial_%s.quanta1' %(inputdir, mass), format='ascii', data_start=5, names=names)\n",
    "\n",
    "        names = ['TIME', 'ALLp', 'OBp', 'RSGp', 'LBVp', 'WRp', 'ALLe', 'ALLm', 'OBm', 'RSGm', 'LBVm', 'WRm']\n",
    "        t_power_ = Table.read('%s/fiducial_%s.power1' %(inputdir, mass), format='ascii', data_start=5, names=names)\n",
    "\n",
    "        names = ['TIME', '1', '2', '3', '4', '5', '6', '7', '8', '9', 'Mdotwind', 'Mdotsne','Mdotboth', 'Mtot']\n",
    "        t_yield_ = Table.read('%s/fiducial_%s.yield1' %(inputdir, mass), format='ascii', data_start=5, names=names)\n",
    "\n",
    "        t_ewidth_['TIME'] = np.log10(t_ewidth_['TIME'])\n",
    "        t_quanta_['TIME'] = np.log10(t_quanta_['TIME'])\n",
    "        t_power_['TIME'] = np.log10(t_power_['TIME'])\n",
    "        t_yield_['TIME'] = np.log10(t_yield_['TIME'])\n",
    "\n",
    "        t_ewidth_['MASS'] = np.array([mass_]*len(t_power_['TIME']))\n",
    "        t_quanta_['MASS'] = np.array([mass_]*len(t_power_['TIME']))\n",
    "        t_power_['MASS'] = np.array([mass_]*len(t_power_['TIME']))\n",
    "        t_yield_['MASS'] = np.array([mass_]*len(t_power_['TIME']))\n",
    "\n",
    "        if i == 0: \n",
    "            mass_arr = t_ewidth_['MASS']\n",
    "            time_arr = t_ewidth_['TIME']\n",
    "            mdot_arr = t_yield_['Mdotwind']\n",
    "            lmec_arr = t_power_['ALLp']\n",
    "        else: \n",
    "            mass_arr = np.vstack([mass_arr,t_ewidth_['MASS']])\n",
    "            time_arr = np.vstack([time_arr,t_ewidth_['TIME']])\n",
    "            mdot_arr = np.vstack([mdot_arr,t_yield_['Mdotwind']]) \n",
    "            lmec_arr = np.vstack([lmec_arr,t_power_['ALLp']]) \n",
    "\n",
    "    mass_arr = np.log10(mass_arr)\n",
    "    \n",
    "    return({'mass':mass_arr, 'time':time_arr, 'mdot':mdot_arr, 'lmec':lmec_arr})\n",
    "\n",
    "SB99models_arr = get_SB99models_arr()"
   ]
  },
  {
   "cell_type": "code",
   "execution_count": 7,
   "id": "c81363dc-bea0-4711-adcd-aef94b0a507b",
   "metadata": {},
   "outputs": [],
   "source": [
    "#### Defines\n",
    "\n",
    "age = props_all['reg_dolflux_Age_MinChiSq'].quantity.to('yr')\n",
    "mass = props_all['reg_dolflux_Mass_MinChiSq'].quantity.to('Msun')\n",
    "lha = props_all['ha_lum']\n",
    "te = props_all['T_N2_REFIT']*au.K\n",
    "te[np.isnan(te)] = 8000*au.K\n",
    "ne = props_all['ne']\n",
    "radius = props_all['mean_sigma_pc']\n",
    "\n",
    "lfrac = np.empty(n) *np.nan"
   ]
  },
  {
   "cell_type": "code",
   "execution_count": 8,
   "id": "2915b304-8e65-477c-b1d2-6621ed66dc74",
   "metadata": {},
   "outputs": [
    {
     "data": {
      "application/vnd.jupyter.widget-view+json": {
       "model_id": "166589e60c294dcdae93a495dfea6d88",
       "version_major": 2,
       "version_minor": 0
      },
      "text/plain": [
       "  0%|          | 0/184 [00:00<?, ?it/s]"
      ]
     },
     "metadata": {},
     "output_type": "display_data"
    },
    {
     "data": {
      "image/png": "[encoded data removed]",
      "text/plain": [
       "<Figure size 500x500 with 1 Axes>"
      ]
     },
     "metadata": {},
     "output_type": "display_data"
    }
   ],
   "source": [
    "# Get Lfrac \n",
    "\n",
    "for regionID in tqdm(range(n)):\n",
    "    \n",
    "    _, mask = find_nearest(SB99models['time'].value, age[regionID].value)\n",
    "    lfrac[regionID] = SB99models['lfrac'][mask]\n",
    "    \n",
    "props_all['lbol/lha'] = lfrac *au.dimensionless_unscaled\n",
    "####\n",
    "\n",
    "#### -- plot\n",
    "fig = plt.figure(figsize=(5,5))\n",
    "ax = fig.add_subplot()\n",
    "\n",
    "ax.plot(SB99models['time'].to('Myr'), np.log10(SB99models['lfrac']))\n",
    "\n",
    "ax.scatter(age.to('Myr')+np.random.normal(size=len(age))*au.Myr*0.1, \n",
    "           np.log10(lfrac)+np.random.normal(size=len(age))*0.05, \n",
    "           c=lfrac, zorder=10, cmap='jet', s=10)\n",
    "\n",
    "ax.set_xlim([0,20])\n",
    "\n",
    "ax.set_xlabel('time (Myr)')\n",
    "ax.set_ylabel('log(Lbol/Lha)')\n",
    "\n",
    "ax.grid(alpha=0.3, linestyle=':')"
   ]
  },
  {
   "cell_type": "code",
   "execution_count": 9,
   "id": "36e0feb4-517f-44e7-b0a4-0eba816b1fcb",
   "metadata": {},
   "outputs": [],
   "source": [
    "# Get Lbol \n",
    "\n",
    "def get_lbol(lha, conv=17.684):\n",
    "    \"\"\"Convert Lhalpha luminoisty to Lbolometric luminosity\n",
    "        conv = 138: Taken from Kennicutt & Evans (2012) - Lopez et al. (2014)\n",
    "        conv = 17.684\"\"\"\n",
    "    lbol=conv*lha\n",
    "    return lbol\n",
    "\n",
    "lbol = get_lbol(lha.quantity, conv=props_all['lbol/lha'].quantity.value)\n",
    "lbol_const = get_lbol(lha.quantity, conv=88.2) #with constant conversion from Barnes21"
   ]
  },
  {
   "cell_type": "code",
   "execution_count": 10,
   "id": "4698c5ac-7544-4bb7-9710-fd0ca299bd75",
   "metadata": {},
   "outputs": [],
   "source": [
    "### Get PDIR\n",
    "\n",
    "def get_pdir(lbol, radius):\n",
    "    \"\"\"Convert bolometric luminoisty to direct radiation pressure\n",
    "        Taken from Lopez et al. (2014)\"\"\"\n",
    "    pdir = (3 * lbol.to('Lsun')) / (4*np.pi * (radius.to('cm')**2) * ac.c.to('cm/s') ) / ac.k_B\n",
    "    return pdir.to('K/cm^3')\n",
    "\n",
    "pdir = get_pdir(lbol, radius)\n",
    "pdir_const = get_pdir(lbol_const, radius)\n",
    "\n",
    "props_all['pdir'] = np.log10(pdir.value) * pdir.unit\n",
    "props_all['pdir_const'] = np.log10(pdir_const.value) * pdir.unit\n",
    "\n",
    "props_all['lbol'] = lbol\n",
    "props_all['lbol_const'] = lbol_const"
   ]
  },
  {
   "cell_type": "code",
   "execution_count": 11,
   "id": "66a03f3b-99d2-442d-b411-1cc92f4eb856",
   "metadata": {},
   "outputs": [
    {
     "data": {
      "application/vnd.jupyter.widget-view+json": {
       "model_id": "c61b8868fa2549fcb2775a86d079517a",
       "version_major": 2,
       "version_minor": 0
      },
      "text/plain": [
       "  0%|          | 0/184 [00:00<?, ?it/s]"
      ]
     },
     "metadata": {},
     "output_type": "display_data"
    }
   ],
   "source": [
    "# Get Lmech, Mdot, vwind\n",
    "\n",
    "def func(x, a, b):\n",
    "    return (a*x)+b\n",
    "\n",
    "xdata = np.unique(SB99models_arr['mass'])\n",
    "ydata = np.log10(np.nanmean((10**SB99models_arr['mdot'])/(10**SB99models_arr['mdot'][0]),axis=1))\n",
    "\n",
    "popt_mdot, _ = curve_fit(func, xdata, ydata)\n",
    "\n",
    "# fig = plt.figure(figsize=(10,5))\n",
    "# ax = fig.add_subplot(1,2,1)\n",
    "# ax.scatter(xdata,ydata)\n",
    "# ax.plot(xdata, func(xdata, *popt_mdot), 'g--', label='fit: a=%5.3f, b=%5.3f' % tuple(popt_mdot))\n",
    "# ax.grid(alpha=0.3, linestyle=':')\n",
    "# ax.legend(fontsize=9)\n",
    "# ax.set_xlabel('Mass log(Msun)')\n",
    "# ax.set_ylabel('Mass loss rate (normalised to Mclust=1e4sun)')\n",
    "# plt.show()\n",
    "\n",
    "xdata = np.unique(SB99models_arr['mass'])\n",
    "ydata = np.log10(np.nanmean((10**SB99models_arr['lmec'])/(10**SB99models_arr['lmec'][0]),axis=1)) #fraction in logspace\n",
    "\n",
    "popt_lmec, _ = curve_fit(func, xdata, ydata)\n",
    "\n",
    "# fig = plt.figure(figsize=(10,5))\n",
    "# ax = fig.add_subplot(1,2,1)\n",
    "# ax.scatter(xdata,ydata)\n",
    "# ax.plot(xdata, func(xdata, *popt_lmec), 'g--', label='fit: a=%5.3f, b=%5.3f' % tuple(popt_lmec))\n",
    "# ax.grid(alpha=0.3, linestyle=':')\n",
    "# ax.legend(fontsize=9)\n",
    "# ax.set_xlabel('Mass log(Msun)')\n",
    "# ax.set_ylabel('Mech. lum (normalised to Mclust=1e4sun)')\n",
    "# plt.show()\n",
    "\n",
    "\n",
    "lmec = np.empty(len(props_all['_idx']))*np.nan\n",
    "mdot = np.empty(len(props_all['_idx']))*np.nan\n",
    "\n",
    "for regionID in tqdm(range(n)):\n",
    "\n",
    "    #Get in correct units\n",
    "    clust_mass_ = np.log10(mass.value[regionID]) \n",
    "    clust_age_ = np.log10(age.to('yr').value[regionID])\n",
    "\n",
    "    # Values for a 10^4Msun cluster, of the age of the obs cluster \n",
    "    _, id_ = find_nearest(SB99models_arr['time'][0,:], clust_age_)\n",
    "    lmec_ = SB99models_arr['lmec'][0,id_]\n",
    "    mdot_ = SB99models_arr['mdot'][0,id_]\n",
    "\n",
    "    # Values of offset from a 10^4Msun cluster, due to more or less mass of obs cluster \n",
    "    cf_lmec = func(clust_mass_, *popt_lmec)\n",
    "    cf_mdot = func(clust_mass_, *popt_mdot)\n",
    "\n",
    "    # Values of 10^4Msun cluster +- offset due to obs mass\n",
    "    lmec[regionID] = lmec_+cf_lmec\n",
    "    mdot[regionID] = mdot_+cf_mdot\n",
    "    \n",
    "lmec = (10**lmec) *au.erg/au.s\n",
    "mdot = ((10**mdot) *au.Msun/au.yr).to('g/s')\n",
    "\n",
    "windvelo = np.sqrt((2.0*lmec)/mdot)\n",
    "windvelo = windvelo.to('km/s')"
   ]
  },
  {
   "cell_type": "code",
   "execution_count": 12,
   "id": "96b85714-a5c2-42e7-9daf-e9991ea8a9f8",
   "metadata": {},
   "outputs": [],
   "source": [
    "### Get PDIR\n",
    "\n",
    "def get_Pwind(mdot, windvelo, radius):\n",
    "    pwind = (mdot * windvelo) / ((4./3.)*np.pi * (radius.to('cm')**2))\n",
    "    pwind = (pwind/ac.k_B.cgs)\n",
    "    return(pwind.to('K/cm^3'))\n",
    "\n",
    "pwind = get_Pwind(mdot, windvelo, radius)\n",
    "props_all['pwind'] = np.log10(pwind.value) * pwind.unit"
   ]
  },
  {
   "cell_type": "code",
   "execution_count": 15,
   "id": "55a97dbd-f1c2-43de-a00f-8a3ae7f16cc7",
   "metadata": {},
   "outputs": [],
   "source": [
    "# Get electron density from radius\n",
    "\n",
    "def func_reccoeff(temp):\n",
    "    \"\"\"Get recomination recoefficent\"\"\"\n",
    "    alpha = 2.753e-14 * (315614 /  temp)**1.500 / ((1.0 + (115188 / temp)**0.407)**2.242)\n",
    "    return(np.array(alpha) *au.cm**3/au.s)\n",
    "\n",
    "def get_ne(ha_lum, radius, temp):\n",
    "\n",
    "    volume = (4./3.)*np.pi*radius.quantity**3 #in units of cm^3\n",
    "    ha_lum = ha_lum.to('erg/s')\n",
    "    volume = volume.to('cm^3')\n",
    "    \n",
    "    #Recombination rate\n",
    "    ha_photon_energy = 3.02e-12   # Energy in erg of single H-alpha photon\n",
    "    ha_rate = ha_lum / ha_photon_energy   # Emission rate (in photons per s) of H-alpha\n",
    "    rec_rate = ha_rate / 0.45     # Per Calzetti (2012), ~45% of recombinations result in emission of an H-alpha photon\n",
    "\n",
    "    # rec_coeff = 2.6e-13    # Recombination rate coefficient: assumes case B, T_e = 1e4 K\n",
    "    rec_coeff = func_reccoeff(temp.value)\n",
    "\n",
    "    ne = np.sqrt(rec_rate/(rec_coeff*volume))\n",
    "    ne = np.array(ne)/au.cm**3\n",
    "    \n",
    "    return(ne)\n",
    "\n",
    "ne_radlim = get_ne(lha, radius, te)"
   ]
  },
  {
   "cell_type": "code",
   "execution_count": 36,
   "id": "bc812ab9-50a2-442c-bd72-2c21e8fd3703",
   "metadata": {
    "tags": []
   },
   "outputs": [],
   "source": [
    "### Get PTHERM\n",
    "\n",
    "def get_pth(ne, te, ionisation=2):\n",
    "    \"\"\"ionisation=2 assumes single ionised He\"\"\"\n",
    "    pth = ne*te*ionisation\n",
    "    return(pth.to('K/cm^3'))\n",
    "\n",
    "pth = get_pth(ne.quantity, te)\n",
    "pth_radlim = get_pth(ne_radlim, te)\n",
    "\n",
    "props_all['ne_radlim'] = ne\n",
    "props_all['pth'] = np.log10(pth.value) * pth.unit\n",
    "props_all['pth_radlim'] = np.log10(pth_radlim.value) * pth.unit\n",
    "\n",
    "# mask column \n",
    "props_all['pth'] = MaskedColumn(props_all['pth'], mask=np.isnan(props_all['pth']))"
   ]
  },
  {
   "cell_type": "code",
   "execution_count": 38,
   "id": "5e87e3a2-3615-4e9b-a72b-2abde3f94213",
   "metadata": {},
   "outputs": [
    {
     "name": "stdout",
     "output_type": "stream",
     "text": [
      "[INFO] Saved to ../../analysis/dendro/props_all/props_all_3.pickel\n"
     ]
    }
   ],
   "source": [
    "save_pickle(props_all, '../../analysis/dendro/props_all/props_all_3.pickel') \n",
    "props_all.write('../../analysis/dendro/props_all/props_all_3.fits', overwrite=True)"
   ]
  },
  {
   "cell_type": "code",
   "execution_count": null,
   "id": "2959992c-2aa6-4b7d-a608-b88d2ac16889",
   "metadata": {},
   "outputs": [],
   "source": []
  }
 ],
 "metadata": {
  "kernelspec": {
   "display_name": "Python 3 (ipykernel)",
   "language": "python",
   "name": "python3"
  },
  "language_info": {
   "codemirror_mode": {
    "name": "ipython",
    "version": 3
   },
   "file_extension": ".py",
   "mimetype": "text/x-python",
   "name": "python",
   "nbconvert_exporter": "python",
   "pygments_lexer": "ipython3",
   "version": "3.9.13"
  }
 },
 "nbformat": 4,
 "nbformat_minor": 5
}
