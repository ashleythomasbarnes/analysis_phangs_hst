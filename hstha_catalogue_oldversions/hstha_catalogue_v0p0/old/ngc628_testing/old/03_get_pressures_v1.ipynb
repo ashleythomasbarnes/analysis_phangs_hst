{
 "cells": [
  {
   "cell_type": "code",
   "execution_count": 1,
   "id": "f325fc9d-775f-4a4a-a337-f6e1110a604c",
   "metadata": {},
   "outputs": [],
   "source": [
    "import warnings\n",
    "warnings.filterwarnings('ignore')\n",
    "\n",
    "from astropy.table import Table, hstack, vstack, join, MaskedColumn\n",
    "import numpy as np\n",
    "import matplotlib.pyplot as plt\n",
    "import astropy.constants as ac\n",
    "import astropy.units as au\n",
    "from glob import glob\n",
    "from spectral_cube import SpectralCube\n",
    "import scipy \n",
    "from reproject import reproject_interp\n",
    "from scipy.optimize import curve_fit\n",
    "\n",
    "from tqdm.auto import tqdm \n",
    "from astropy.io import fits\n",
    "import matplotlib as mpl\n",
    "import pyregion\n",
    "import aplpy\n",
    "import math\n",
    "import os\n",
    "import pickle\n",
    "\n",
    "plt.rcParams[\"font.family\"] = \"sans-serif\"\n",
    "plt.rcParams[\"font.weight\"] = \"bold\"\n",
    "plt.rcParams[\"axes.labelweight\"] = \"bold\"\n",
    "plt.rcParams[\"xtick.direction\"] = \"in\"\n",
    "plt.rcParams[\"ytick.direction\"] = \"in\" \n",
    "\n",
    "from analysis_phangs_hst import dendro_misc, dendro_pressures, dendro_sb99, dendro_props, dendro_pressures"
   ]
  },
  {
   "cell_type": "code",
   "execution_count": 2,
   "id": "ac4b8be3-7bbd-46b4-a7d7-4be9b6416801",
   "metadata": {},
   "outputs": [],
   "source": [
    "\"\"\"Load properties of the hst nebula catalouge\"\"\"\n",
    "props_all_file = '../../analysis/dendro/props_all/02_props_all_3sig.fits'\n",
    "props_all = Table.read(props_all_file)"
   ]
  },
  {
   "cell_type": "code",
   "execution_count": 3,
   "id": "b9f215ea-f88d-4f43-a449-b56542404ad2",
   "metadata": {},
   "outputs": [],
   "source": [
    "SB99models = dendro_sb99.get_SB99models()\n",
    "SB99models_arr = dendro_sb99.get_SB99models_arr()"
   ]
  },
  {
   "cell_type": "code",
   "execution_count": 4,
   "id": "c81363dc-bea0-4711-adcd-aef94b0a507b",
   "metadata": {},
   "outputs": [],
   "source": [
    "#### Defines\n",
    "te = props_all['T_N2_REFIT']*au.K\n",
    "te[np.isnan(te)] = 8000*au.K\n",
    "ne = props_all['ne']\n",
    "\n",
    "# radius = props_all['mean_sigma_pc']\n",
    "# lha = calculate_luminosity(props_all['HA6562_FLUX_CORR']*1e-20, props_all['dist_pc'])\n",
    "\n",
    "radius = props_all['radius_trunkclose_pc']\n",
    "lha = props_all['ha_lum_hst']"
   ]
  },
  {
   "cell_type": "code",
   "execution_count": 5,
   "id": "36e0feb4-517f-44e7-b0a4-0eba816b1fcb",
   "metadata": {},
   "outputs": [
    {
     "data": {
      "application/vnd.jupyter.widget-view+json": {
       "model_id": "437ee32ee091486994bbe2556a4c49c4",
       "version_major": 2,
       "version_minor": 0
      },
      "text/plain": [
       "Calculate Lfrac:   0%|          | 0/2878 [00:00<?, ?it/s]"
      ]
     },
     "metadata": {},
     "output_type": "display_data"
    }
   ],
   "source": [
    "# Get Lfrac(t) - luminosity fraction for given age (from clusters)\n",
    "props_all['lbol/lha'] = dendro_props.get_lfrac(props_all, SB99models, showplot=False)\n",
    "\n",
    "# Get bolometric luminosity from factor - either constant or vary with age\n",
    "props_all['lbol'] = lbol = dendro_props.get_lbol(lha.quantity, conv=props_all['lbol/lha'].quantity.value)\n",
    "props_all['lbol_const'] = lbol_const = dendro_props.get_lbol(lha.quantity, conv=138) \n",
    "\n",
    "# Get electron density from radius\n",
    "props_all['ne_radlim'] = ne_radlim = dendro_props.get_ne(lha, radius, te)"
   ]
  },
  {
   "cell_type": "code",
   "execution_count": 6,
   "id": "4698c5ac-7544-4bb7-9710-fd0ca299bd75",
   "metadata": {},
   "outputs": [],
   "source": [
    "# Get PDIR\n",
    "pdir = dendro_pressures.get_pdir(lbol, radius)\n",
    "pdir_const = dendro_pressures.get_pdir(lbol_const, radius)\n",
    "\n",
    "props_all['pdir'] = np.log10(pdir.value) * pdir.unit\n",
    "props_all['pdir_const'] = np.log10(pdir_const.value) * pdir.unit"
   ]
  },
  {
   "cell_type": "code",
   "execution_count": 7,
   "id": "bc812ab9-50a2-442c-bd72-2c21e8fd3703",
   "metadata": {
    "tags": []
   },
   "outputs": [],
   "source": [
    "### Get PTHERM\n",
    "pth = dendro_pressures.get_pth(ne.quantity, te)\n",
    "pth_radlim = dendro_pressures.get_pth(ne_radlim, te)\n",
    "\n",
    "props_all['pth'] = np.log10(pth.value) * pth.unit\n",
    "props_all['pth_radlim'] = np.log10(pth_radlim.value) * pth.unit\n",
    "\n",
    "# mask column \n",
    "props_all['pth'] = MaskedColumn(props_all['pth'], mask=np.isnan(props_all['pth']))"
   ]
  },
  {
   "cell_type": "code",
   "execution_count": 8,
   "id": "66a03f3b-99d2-442d-b411-1cc92f4eb856",
   "metadata": {},
   "outputs": [
    {
     "data": {
      "application/vnd.jupyter.widget-view+json": {
       "model_id": "1b0ca69efcb849d08f13591d999c9840",
       "version_major": 2,
       "version_minor": 0
      },
      "text/plain": [
       "Calculate Lmech, Mdot, Vwind:   0%|          | 0/2878 [00:00<?, ?it/s]"
      ]
     },
     "metadata": {},
     "output_type": "display_data"
    }
   ],
   "source": [
    "# Get Lmech, Mdot, vwind\n",
    "lmec, mdot, windvelo = dendro_sb99.get_sb99props(SB99models_arr, props_all, showplots=False)"
   ]
  },
  {
   "cell_type": "code",
   "execution_count": 9,
   "id": "96b85714-a5c2-42e7-9daf-e9991ea8a9f8",
   "metadata": {},
   "outputs": [],
   "source": [
    "# ### Get PWIND\n",
    "pwind = dendro_pressures.get_pwind(mdot, windvelo, radius)\n",
    "props_all['pwind'] = np.log10(pwind.value) * pwind.unit"
   ]
  },
  {
   "cell_type": "code",
   "execution_count": 10,
   "id": "5e87e3a2-3615-4e9b-a72b-2abde3f94213",
   "metadata": {},
   "outputs": [
    {
     "name": "stdout",
     "output_type": "stream",
     "text": [
      "[INFO] [save_pickle] Saved to ../../analysis/dendro/props_all/03_props_all_3sig.pickel\n",
      "[INFO] [save_fits] Saved to ../../analysis/dendro/props_all/03_props_all_3sig.fits\n"
     ]
    }
   ],
   "source": [
    "dendro_misc.save_pickle(props_all, props_all_file.replace('02','03').replace('fits','pickel')) \n",
    "dendro_pressures.save_fits(props_all, props_all_file)"
   ]
  },
  {
   "cell_type": "code",
   "execution_count": null,
   "id": "2959992c-2aa6-4b7d-a608-b88d2ac16889",
   "metadata": {},
   "outputs": [],
   "source": []
  }
 ],
 "metadata": {
  "kernelspec": {
   "display_name": "Python 3 (ipykernel)",
   "language": "python",
   "name": "python3"
  },
  "language_info": {
   "codemirror_mode": {
    "name": "ipython",
    "version": 3
   },
   "file_extension": ".py",
   "mimetype": "text/x-python",
   "name": "python",
   "nbconvert_exporter": "python",
   "pygments_lexer": "ipython3",
   "version": "3.9.13"
  }
 },
 "nbformat": 4,
 "nbformat_minor": 5
}
