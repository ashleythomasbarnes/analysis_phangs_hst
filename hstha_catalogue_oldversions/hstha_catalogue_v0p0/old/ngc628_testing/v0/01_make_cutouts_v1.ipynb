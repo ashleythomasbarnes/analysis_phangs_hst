{
 "cells": [
  {
   "cell_type": "code",
   "execution_count": 11,
   "id": "d369fbac-009a-4e26-9824-3459a376f06b",
   "metadata": {},
   "outputs": [],
   "source": [
    "import warnings\n",
    "warnings.filterwarnings('ignore')\n",
    "\n",
    "import numpy as np\n",
    "import reproject \n",
    "import concurrent.futures\n",
    "from astropy.io import fits\n",
    "import os\n",
    "from tqdm.auto import tqdm \n",
    "import gc \n",
    "\n",
    "import sys\n",
    "sys.path.append('../')\n",
    "from modules import dendro_cutouts, dendro_misc, dendro_dendro"
   ]
  },
  {
   "cell_type": "code",
   "execution_count": 12,
   "id": "b50ee53c-0434-4980-b5a4-39e4768c62eb",
   "metadata": {},
   "outputs": [],
   "source": [
    "# Replace with your file dirs here... \n",
    "# \n",
    "# dir_hst = '../../../data/hst_cropped/'\n",
    "# hst01_file = '%s/ngc628_uvis_f275w_exp_drc_sci.fits' %dir_hst\n",
    "# hst02_file = '%s/ngc628_uvis_f336w_exp_drc_sci.fits' %dir_hst\n",
    "# hst03_file = '%s/ngc628_acs_f435w_exp_drc_sci.fits' %dir_hst\n",
    "# hst04_file = '%s/ngc628_uvis_f555w_exp_drc_sci.fits' %dir_hst\n",
    "# hst05_file = '%s/ngc628_acs_f814w_exp_drc_sci.fits' %dir_hst\n",
    "\n",
    "dir_hst = '/Users/abarnes/Dropbox/work/Smallprojects/galaxies/data/ngc628c/hst_contsub/'\n",
    "hst06_file = '%s/ngc628_halpha_raw.fits' %dir_hst\n",
    "hst07_file = '%s/ngc628c_hst_ha_sic.fits' %dir_hst\n",
    "\n",
    "# \n",
    "musha_file = '/Users/abarnes/Dropbox/work/Smallprojects/galaxies/data/ngc628c/muse/NGC0628-0.92asec_MAPS.fits'\n",
    "# almaco_file = '../../../data/alma/ngc0628_12m+7m+tp_co21_broad_tpeak.fits'\n",
    "# almaco1_file = '../../../data/alma/ngc0628_12m+7m+tp_co21_broad_mom0.fits'\n",
    "# vlahi_file = '../../../data/vla/NGC_628_NA_MOM0_THINGS.fits'\n",
    "\n",
    "# # \n",
    "# dir_hst = '../../../data/jwst_updated_v0p4p0/'\n",
    "# jwst01_file = '%s/ngc0628_nircam_lv3_f200w_i2d_align.fits' %dir_hst\n",
    "# jwst02_file = '%s/ngc0628_nircam_lv3_f300m_i2d_align.fits' %dir_hst\n",
    "# jwst03_file = '%s/ngc0628_nircam_lv3_f335m_i2d_align.fits' %dir_hst\n",
    "# jwst04_file = '%s/ngc0628_nircam_lv3_f360m_i2d_align.fits' %dir_hst\n",
    "\n",
    "# dir_hst = '../../../data/jwst_updated_v0p5_miri/'\n",
    "# jwst05_file = '%s/ngc0628_miri_f770w_anchored.fits' %dir_hst\n",
    "# jwst06_file = '%s/ngc0628_miri_f1000w_anchored.fits' %dir_hst\n",
    "# jwst07_file = '%s/ngc0628_miri_f1130w_anchored.fits' %dir_hst\n",
    "# jwst08_file = '%s/ngc0628_miri_f2100w_anchored.fits' %dir_hst\n",
    "\n",
    "\n",
    "# dir_hst = '../../../data/jwst_feast/'\n",
    "# jwst09_file = '%s/jw01783-o004_t008_nircam_clear-f115w_i2d_J2000.fits' %dir_hst\n",
    "# jwst10_file = '%s/jw01783-o004_t008_nircam_clear-f150w_i2d_J2000.fits' %dir_hst\n",
    "# jwst11_file = '%s/jw01783-o004_t008_nircam_clear-f187n_i2d_J2000.fits' %dir_hst\n",
    "# jwst12_file = '%s/jw01783-o004_t008_nircam_clear-f187n_ONLY_J2000.fits' %dir_hst\n",
    "# jwst13_file = '%s/jw01783-o004_t008_nircam_clear-f277w_i2d_J2000.fits' %dir_hst\n",
    "# jwst14_file = '%s/jw01783-o004_t008_nircam_clear-f444w_i2d_J2000.fits' %dir_hst\n",
    "# jwst15_file = '%s/jw01783-o004_t008_nircam_f405_ONLY_J2000.fits' %dir_hst\n",
    "# jwst16_file = '%s/jw01783-o004_t008_nircam_f405n-f444w_i2d_J2000.fits' %dir_hst\n",
    "\n",
    "# asto_file = '../../../data/astrosat/NGC0628_FUV_ave.fits'\n",
    "# spit_file = '../../../data/spitzer/NGC_0628_IRAC_I4_bms2014.fits'\n",
    "\n",
    "# Catalouges\n",
    "muscat_file = '/Users/abarnes/Dropbox/work/Smallprojects/galaxies/data/ngc628c/muse/NGC0628_nebmask.fits' \n",
    " \n",
    "dir_asscat = '/Users/abarnes/Dropbox/work/Smallprojects/galaxies/ngc0628/data/cluster_catalogs/ngc628-vselect/'\n",
    "asscat1_file = '%s/ws16pc/PHANGS_IR3_hst_wfc3_ngc628_v1p3_multi_assoc-vselect-ws16pc-idmask.fits' %dir_asscat #HST association catalogue\n",
    "asscat2_file = '%s/ws32pc/PHANGS_IR3_hst_wfc3_ngc628_v1p3_multi_assoc-vselect-ws32pc-idmask.fits' %dir_asscat #HST association catalogue\n",
    "asscat3_file = '%s/ws64pc/PHANGS_IR3_hst_wfc3_ngc628_v1p3_multi_assoc-vselect-ws64pc-idmask.fits' %dir_asscat #HST association catalogue"
   ]
  },
  {
   "cell_type": "code",
   "execution_count": 13,
   "id": "98971d8f-bd9c-4c7d-8ac9-4e0d9a821423",
   "metadata": {},
   "outputs": [
    {
     "name": "stdout",
     "output_type": "stream",
     "text": [
      "[INFO] [load_fits] Importing regrid asscat_files...\n"
     ]
    }
   ],
   "source": [
    "# # loading files\n",
    "# # changing everything into log scale\n",
    "# hst01_hdu = fits.open(hst01_file)[0]\n",
    "# hst02_hdu = fits.open(hst02_file)[0]\n",
    "# hst03_hdu = fits.open(hst03_file)[0]\n",
    "# hst04_hdu = fits.open(hst04_file)[0]\n",
    "# hst05_hdu = fits.open(hst05_file)[0]\n",
    "# hst06_hdu = fits.open(hst06_file)[0]\n",
    "hst07_hdu = fits.open(hst07_file)[0]\n",
    "\n",
    "#  \n",
    "musha_hdu = fits.open(musha_file)['HA6562_FLUX']\n",
    "musha_hdu.data[np.isnan(musha_hdu.data)] = -100\n",
    "\n",
    "# almaco_hdu = fits.open(almaco_file)[0]\n",
    "# almaco1_hdu = fits.open(almaco1_file)[0]\n",
    "\n",
    "# vlahi_hdu = fits.open(vlahi_file)[0]\n",
    "# vlahi_hdu.data = np.squeeze(vlahi_hdu.data)\n",
    "# del vlahi_hdu.header['*3*']\n",
    "# del vlahi_hdu.header['*4*']\n",
    "\n",
    "#\n",
    "# jwst01_hdu = fits.open(jwst01_file)[1]\n",
    "# jwst02_hdu = fits.open(jwst02_file)[1]\n",
    "# jwst03_hdu = fits.open(jwst03_file)[1]\n",
    "# jwst04_hdu = fits.open(jwst04_file)[1]\n",
    "# jwst05_hdu = fits.open(jwst05_file)[0]\n",
    "# jwst06_hdu = fits.open(jwst06_file)[0]\n",
    "# jwst07_hdu = fits.open(jwst07_file)[0]\n",
    "# jwst08_hdu = fits.open(jwst08_file)[0]\n",
    "\n",
    "# jwst01_hdu.data[jwst01_hdu.data == 0] = np.nan\n",
    "# jwst02_hdu.data[jwst02_hdu.data == 0] = np.nan\n",
    "# jwst03_hdu.data[jwst03_hdu.data == 0] = np.nan\n",
    "# jwst04_hdu.data[jwst04_hdu.data == 0] = np.nan\n",
    "# jwst05_hdu.data[jwst05_hdu.data == 0] = np.nan\n",
    "# jwst06_hdu.data[jwst06_hdu.data == 0] = np.nan\n",
    "# jwst07_hdu.data[jwst07_hdu.data == 0] = np.nan\n",
    "# jwst08_hdu.data[jwst08_hdu.data == 0] = np.nan\n",
    "\n",
    "# jwst09_hdu = fits.open(jwst09_file)[0]\n",
    "# jwst10_hdu = fits.open(jwst10_file)[0]\n",
    "# jwst11_hdu = fits.open(jwst11_file)[0]\n",
    "# jwst12_hdu = fits.open(jwst12_file)[0]\n",
    "# jwst13_hdu = fits.open(jwst13_file)[0]\n",
    "# jwst14_hdu = fits.open(jwst14_file)[0]\n",
    "# jwst15_hdu = fits.open(jwst15_file)[0]\n",
    "# jwst16_hdu = fits.open(jwst16_file)[0]\n",
    "\n",
    "# jwst09_hdu.data[jwst09_hdu.data == 0] = np.nan\n",
    "# jwst10_hdu.data[jwst10_hdu.data == 0] = np.nan\n",
    "# jwst11_hdu.data[jwst11_hdu.data == 0] = np.nan\n",
    "# jwst12_hdu.data[jwst12_hdu.data == 0] = np.nan\n",
    "# jwst13_hdu.data[jwst13_hdu.data == 0] = np.nan\n",
    "# jwst14_hdu.data[jwst14_hdu.data == 0] = np.nan\n",
    "# jwst15_hdu.data[jwst15_hdu.data == 0] = np.nan\n",
    "# jwst16_hdu.data[jwst16_hdu.data == 0] = np.nan\n",
    "\n",
    "#\n",
    "# asto_hdu = fits.open(asto_file)[0]\n",
    "# spit_hdu = fits.open(spit_file)[0]\n",
    "\n",
    "# data, _ = reproject.reproject_interp(spit_hdu, musha_hdu.header)\n",
    "# spit_hdu = fits.PrimaryHDU(data, musha_hdu.header)\n",
    "\n",
    "# loading catalouges\n",
    "muscat_hdu = fits.open(muscat_file)[0]\n",
    "muscat_hdu.data = np.array(muscat_hdu.data, dtype=float)\n",
    "muscat_hdu.data[muscat_hdu.data==-1] = np.nan\n",
    "\n",
    "if os.path.isfile(asscat1_file.replace('.fits', 'regrid.fits')):\n",
    "    \n",
    "    print('[INFO] [load_fits] Importing regrid asscat_files...')\n",
    "    asscat1_hdu = fits.open(asscat1_file.replace('.fits', 'regrid.fits'))[0]\n",
    "    asscat2_hdu = fits.open(asscat2_file.replace('.fits', 'regrid.fits'))[0]\n",
    "    asscat3_hdu = fits.open(asscat3_file.replace('.fits', 'regrid.fits'))[0]\n",
    "\n",
    "else: \n",
    "    \n",
    "    print('[INFO] [load_fits] No regrid asscat_files, making them now - could take a min...')\n",
    "    asscat1_hdu = fits.open(asscat1_file)[0]\n",
    "    asscat2_hdu = fits.open(asscat2_file)[0]\n",
    "    asscat3_hdu = fits.open(asscat3_file)[0]\n",
    "\n",
    "    asscat1_hdu = fits.PrimaryHDU(reproject.reproject_interp(asscat1_hdu, hst07_hdu.header, return_footprint=False, order='nearest-neighbor', parallel=True), hst07_hdu.header)\n",
    "    asscat2_hdu = fits.PrimaryHDU(reproject.reproject_interp(asscat2_hdu, hst07_hdu.header, return_footprint=False, order='nearest-neighbor', parallel=True), hst07_hdu.header)\n",
    "    asscat3_hdu = fits.PrimaryHDU(reproject.reproject_interp(asscat3_hdu, hst07_hdu.header, return_footprint=False, order='nearest-neighbor', parallel=True), hst07_hdu.header)\n",
    "\n",
    "    asscat1_hdu.data[asscat1_hdu.data==0] = np.nan\n",
    "    asscat2_hdu.data[asscat2_hdu.data==0] = np.nan\n",
    "    asscat3_hdu.data[asscat3_hdu.data==0] = np.nan\n",
    "\n",
    "    asscat1_hdu.writeto(asscat1_file.replace('.fits', 'regrid.fits'))\n",
    "    asscat2_hdu.writeto(asscat2_file.replace('.fits', 'regrid.fits'))\n",
    "    asscat3_hdu.writeto(asscat3_file.replace('.fits', 'regrid.fits'))"
   ]
  },
  {
   "cell_type": "code",
   "execution_count": 14,
   "id": "4878bbc4-143a-4db7-b50c-8ed67e45c0c3",
   "metadata": {},
   "outputs": [
    {
     "data": {
      "application/vnd.jupyter.widget-view+json": {
       "model_id": "d456a2cd4f2341499a4492ffb472ef7a",
       "version_major": 2,
       "version_minor": 0
      },
      "text/plain": [
       "Converting to float32:   0%|          | 0/6 [00:00<?, ?it/s]"
      ]
     },
     "metadata": {},
     "output_type": "display_data"
    }
   ],
   "source": [
    "# hdus = [hst01_hdu, hst02_hdu, hst03_hdu, hst04_hdu, hst05_hdu, hst06_hdu, hst07_hdu, musha_hdu,\n",
    "#         almaco_hdu, almaco1_hdu, vlahi_hdu, jwst01_hdu, jwst02_hdu, jwst03_hdu, jwst04_hdu,\n",
    "#         jwst05_hdu, jwst06_hdu, jwst07_hdu, jwst08_hdu, jwst09_hdu, jwst10_hdu, jwst11_hdu,\n",
    "#         jwst12_hdu, jwst13_hdu, jwst14_hdu, jwst15_hdu, jwst16_hdu, asto_hdu, spit_hdu,\n",
    "#         muscat_hdu, asscat1_hdu, asscat2_hdu, asscat3_hdu]\n",
    "\n",
    "hdus = [hst07_hdu, musha_hdu, muscat_hdu, asscat1_hdu, asscat2_hdu, asscat3_hdu]\n",
    "\n",
    "# Define the conversion function\n",
    "def convert_to_float32(hdu):\n",
    "    hdu.data = hdu.data.astype('float32')\n",
    "\n",
    "# Create a ThreadPoolExecutor with the number of workers\n",
    "with concurrent.futures.ThreadPoolExecutor() as executor:\n",
    "    # Submit conversion tasks to the executor\n",
    "    futures = [executor.submit(convert_to_float32, hdu) for hdu in hdus]\n",
    "\n",
    "    # Wait for all tasks to complete and track the progress\n",
    "    with tqdm(total=len(futures), desc=\"Converting to float32\") as pbar:\n",
    "        for future in concurrent.futures.as_completed(futures):\n",
    "            # Update the progress bar for each completed task\n",
    "            pbar.update(1)"
   ]
  },
  {
   "cell_type": "code",
   "execution_count": 15,
   "id": "f9e934ac-124d-4f9c-bd3d-3e3369a1bbf4",
   "metadata": {
    "tags": []
   },
   "outputs": [
    {
     "name": "stdout",
     "output_type": "stream",
     "text": [
      "[INFO] [get_regions] Opening regions file (this may take a min)... \n",
      "[INFO] [get_regions] Getting info for 2369 regions...\n"
     ]
    }
   ],
   "source": [
    "galaxy = 'ngc0628'\n",
    "regions_file = './analysis/catalogue/sample_muse.reg'\n",
    "\n",
    "if os.path.exists(regions_file):\n",
    "    regions = dendro_cutouts.get_regions(regions_file)\n",
    "else: \n",
    "    muscat_table = dendro_dendro.get_MuseProps(galaxy)\n",
    "    dendro_cutouts.get_ds9regions_sq_decor(muscat_table, outputfile=regions_file)"
   ]
  },
  {
   "cell_type": "code",
   "execution_count": 16,
   "id": "d35645e5-f0c0-4bd2-aea2-d865bc2d5241",
   "metadata": {
    "tags": []
   },
   "outputs": [
    {
     "data": {
      "application/vnd.jupyter.widget-view+json": {
       "model_id": "572b6afa49374b80a3013086db36cfdd",
       "version_major": 2,
       "version_minor": 0
      },
      "text/plain": [
       "Cropping regions:   0%|          | 0/2369 [00:00<?, ?it/s]"
      ]
     },
     "metadata": {},
     "output_type": "display_data"
    },
    {
     "name": "stdout",
     "output_type": "stream",
     "text": [
      "[INFO] [save_pickle] Saved to ./analysis/catalogue/muscat_hdus.pickel\n"
     ]
    }
   ],
   "source": [
    "# hdus = dendro_cutouts.get_croppeddata_all(hst07_hdu, regions)\n",
    "# dendro_misc.save_pickle(hdus, './analysis/catalogue/hst07_hdus.pickel') \n",
    "# del hdus\n",
    "# _ = gc.collect()\n",
    "\n",
    "# hdus = dendro_cutouts.get_croppeddata_all(musha_hdu, regions)\n",
    "# dendro_misc.save_pickle(hdus, './analysis/catalogue/musha_hdus.pickel')\n",
    "# del hdus\n",
    "# _ = gc.collect()\n",
    "\n",
    "hdus = dendro_cutouts.get_croppeddata_all(muscat_hdu, regions)\n",
    "dendro_misc.save_pickle(hdus, './analysis/catalogue/muscat_hdus.pickel')\n",
    "del hdus\n",
    "\n",
    "# hdus = dendro_cutouts.get_croppeddata_all(asscat1_hdu, regions)\n",
    "# dendro_misc.save_pickle(hdus, './analysis/catalogue/asscat1_hdus.pickel') \n",
    "# del hdus\n",
    "# _ = gc.collect()\n",
    "\n",
    "# hdus = dendro_cutouts.get_croppeddata_all(asscat2_hdu, regions)\n",
    "# dendro_misc.save_pickle(hdus, './analysis/catalogue/asscat2_hdus.pickel') \n",
    "# del hdus\n",
    "# _ = gc.collect()\n",
    "\n",
    "# hdus = dendro_cutouts.get_croppeddata_all(asscat3_hdu, regions)\n",
    "# dendro_misc.save_pickle(hdus, './analysis/catalogue/asscat3_hdus.pickel') \n",
    "# del hdus\n",
    "# _ = gc.collect()"
   ]
  },
  {
   "cell_type": "code",
   "execution_count": 17,
   "id": "605f5985-e3a3-4598-af4d-d764a6e86e93",
   "metadata": {},
   "outputs": [
    {
     "name": "stdout",
     "output_type": "stream",
     "text": [
      "[INFO] [load_pickle] Load ./analysis/catalogue/hst07_hdus.pickel\n",
      "[INFO] [load_pickle] Load ./analysis/catalogue/musha_hdus.pickel\n",
      "[INFO] [load_pickle] Load ./analysis/catalogue/muscat_hdus.pickel\n",
      "[INFO] [load_pickle] Load ./analysis/catalogue/asscat1_hdus.pickel\n",
      "[INFO] [load_pickle] Load ./analysis/catalogue/asscat2_hdus.pickel\n",
      "[INFO] [load_pickle] Load ./analysis/catalogue/asscat3_hdus.pickel\n",
      "[INFO] [save_pickle] Saved to ./analysis/catalogue/hdus_sample_sci.pickel\n"
     ]
    }
   ],
   "source": [
    "hst07_hdus = dendro_misc.load_pickle('./analysis/catalogue/hst07_hdus.pickel')\n",
    "musha_hdus = dendro_misc.load_pickle('./analysis/catalogue/musha_hdus.pickel')\n",
    "muscat_hdus = dendro_misc.load_pickle('./analysis/catalogue/muscat_hdus.pickel')\n",
    "asscat1_hdus = dendro_misc.load_pickle('./analysis/catalogue/asscat1_hdus.pickel')\n",
    "asscat2_hdus = dendro_misc.load_pickle('./analysis/catalogue/asscat2_hdus.pickel')\n",
    "asscat3_hdus = dendro_misc.load_pickle('./analysis/catalogue/asscat3_hdus.pickel')\n",
    "\n",
    "hdus = {'hst07_hdus' : hst07_hdus,\n",
    "        'musha_hdus' : musha_hdus,\n",
    "        'muscat_hdus' : muscat_hdus,\n",
    "        'asscat1_hdus' : asscat1_hdus,\n",
    "        'asscat2_hdus' : asscat2_hdus,\n",
    "        'asscat3_hdus' : asscat3_hdus}\n",
    "\n",
    "dendro_misc.save_pickle(hdus, './analysis/catalogue/hdus_sample_sci.pickel') "
   ]
  },
  {
   "cell_type": "code",
   "execution_count": null,
   "id": "4aba3eb8",
   "metadata": {},
   "outputs": [],
   "source": []
  }
 ],
 "metadata": {
  "kernelspec": {
   "display_name": "Python 3 (ipykernel)",
   "language": "python",
   "name": "python3"
  },
  "language_info": {
   "codemirror_mode": {
    "name": "ipython",
    "version": 3
   },
   "file_extension": ".py",
   "mimetype": "text/x-python",
   "name": "python",
   "nbconvert_exporter": "python",
   "pygments_lexer": "ipython3",
   "version": "3.9.13"
  }
 },
 "nbformat": 4,
 "nbformat_minor": 5
}
