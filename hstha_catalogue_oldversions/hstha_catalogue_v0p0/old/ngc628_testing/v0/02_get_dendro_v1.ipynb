{
 "cells": [
  {
   "cell_type": "code",
   "execution_count": null,
   "id": "b94e1b6d-3658-4bb5-aa10-63ed3da2ca52",
   "metadata": {
    "tags": []
   },
   "outputs": [],
   "source": [
    "import warnings\n",
    "warnings.filterwarnings('ignore')\n",
    "from astropy.io import fits\n",
    "\n",
    "import sys\n",
    "sys.path.append('../')\n",
    "from modules import dendro_cutouts, dendro_dendro, dendro_misc, dendro_props, dendro_plot, dendro_mask"
   ]
  },
  {
   "cell_type": "code",
   "execution_count": null,
   "id": "9753b965",
   "metadata": {},
   "outputs": [],
   "source": [
    "import warnings\n",
    "warnings.filterwarnings('ignore')\n",
    "\n",
    "import numpy as np\n",
    "\n",
    "import astropy.units as au\n",
    "from astropy import stats\n",
    "from astrodendro import Dendrogram, pp_catalog\n",
    "from astropy.wcs import WCS\n",
    "\n",
    "import os\n",
    "from astropy.wcs import WCS"
   ]
  },
  {
   "cell_type": "code",
   "execution_count": 10,
   "id": "7ed3eb4d-73dc-43b4-94cf-5d00371ec33a",
   "metadata": {
    "tags": []
   },
   "outputs": [
    {
     "name": "stdout",
     "output_type": "stream",
     "text": [
      "[INFO] [get_GalaxyProps] Getting sample table properties for ngc0628...\n",
      "[INFO] [get_MuseProps] Getting MUSE catalouge properties for ngc0628...\n",
      "[INFO] [load_pickle] Load ./analysis/catalogue/hdus_sample_sci.pickel\n"
     ]
    }
   ],
   "source": [
    "# Get Galaxy properties\n",
    "galaxy = 'ngc0628'\n",
    "# min_value_sig = [2, 3, 4, 5]\n",
    "min_value_sig = [3]\n",
    "\n",
    "sampletable_file = \"/Users/abarnes/Dropbox/work/Smallprojects/galaxies/data_misc/sample_table/phangs_sample_table_v1p6.fits\"\n",
    "sampletable = dendro_dendro.get_GalaxyProps(galaxy, sampletable_file=sampletable_file)\n",
    "muscat_table = dendro_dendro.get_MuseProps(galaxy)\n",
    "\n",
    "hdus = dendro_misc.load_pickle('./analysis/catalogue/hdus_sample_sci.pickel')"
   ]
  },
  {
   "cell_type": "code",
   "execution_count": 11,
   "id": "256f7f2b-4562-4202-bf6e-2a7f913eab3c",
   "metadata": {
    "tags": []
   },
   "outputs": [
    {
     "name": "stdout",
     "output_type": "stream",
     "text": [
      "[INFO] [load_pickle] Load ./analysis/catalogue/hdus_sample_withoutdendro.pickel\n",
      "[INFO] [load_pickle] Load ./analysis/catalogue/muscat_ids.pickel\n"
     ]
    }
   ],
   "source": [
    "# Load the regions...\n",
    "regions_file = './analysis/catalogue/sample_muse.reg'\n",
    "# regions = dendro_cutouts.get_regions(regions_file)\n",
    "\n",
    "# Load HDUS with smoothed, masked, and non-masked data...\n",
    "hdus_file = './analysis/catalogue/hdus_sample_withoutdendro.pickel'\n",
    "muscat_ids_file = './analysis/catalogue/muscat_ids.pickel'\n",
    "\n",
    "if os.path.exists(hdus_file):\n",
    "    hdus = dendro_misc.load_pickle(hdus_file)\n",
    "    muscat_ids = dendro_misc.load_pickle(muscat_ids_file)\n",
    "else: \n",
    "    hdus, muscat_ids = dendro_dendro.get_maskedhdus(hdus, regions)\n",
    "    dendro_misc.save_pickle(hdus, hdus_file)\n",
    "    dendro_misc.save_pickle(muscat_ids, muscat_ids_file)"
   ]
  },
  {
   "cell_type": "code",
   "execution_count": null,
   "id": "78836c70",
   "metadata": {},
   "outputs": [],
   "source": [
    "# from importlib import reload\n",
    "# import astrodendro\n",
    "# reload(astrodendro)\n",
    "\n",
    "# # Replace variable names with appropriate names\n",
    "\n",
    "# regionID = 20\n",
    "# hdu = hdus['hst07_hdus_smooth_masked'][regionID]\n",
    "# hdu_outmask = hdus['hst07_hdus_smooth_maskedall'][regionID]\n",
    "# hdu_nomask = hdus['hst07_hdus_smooth'][regionID]\n",
    "\n",
    "# min_delta_sig = 3 \n",
    "# min_value_sig = 3\n",
    "# min_npix = 9\n",
    "\n",
    "# data_nomask = hdu_nomask.data\n",
    "# data_outmask = hdu_outmask.data\n",
    "\n",
    "# wcs = WCS(hdu.header)\n",
    "# header = hdu.header\n",
    "# data = hdu.data\n",
    "\n",
    "# # Calculate statistics for dendrogram\n",
    "# std = stats.mad_std(data_outmask, ignore_nan=True)  # Get noise\n",
    "# std = stats.mad_std(data_outmask[data_outmask<20*std], ignore_nan=True)  # Get noise below threshold\n",
    "\n",
    "# pixsize = np.array([np.abs(header['CDELT1']), np.abs(header['CDELT2'])]).mean() * au.degree\n",
    "# if pixsize.value==1: \n",
    "#     if 'CD1_1' in np.array(header.cards)[:,0]: \n",
    "#         pixsize = np.array([np.abs(header['CD1_1']), np.abs(header['CD2_2'])]).mean() * au.degree\n",
    "#     elif 'PC1_1' in np.array(header.cards)[:,0]:\n",
    "#         pixsize = np.array([np.abs(header['PC1_1']), np.abs(header['PC2_2'])]).mean() * au.degree\n",
    "\n",
    "# bmaj = bmin = 0.05 * au.arcsec  # Dummy values \n",
    "\n",
    "# min_value = std * min_value_sig  # Minimum value within structure\n",
    "# min_delta = std * min_delta_sig  # Minimum values between levels within structure (sort of)\n",
    "\n",
    "# # Running the dendrogram\n",
    "# dendro = Dendrogram.compute(data,\n",
    "#                             min_delta=min_delta,\n",
    "#                             min_value=min_value,\n",
    "#                             min_npix=min_npix,\n",
    "#                             wcs=wcs)\n",
    "\n",
    "# dendro.leaves\n",
    "\n",
    "# # Provide metadata for table output\n",
    "# metadata = {}\n",
    "# metadata['data_unit'] = au.Jy / au.beam  # Dummy unit\n",
    "# metadata['spatial_scale'] = pixsize.to('arcsec')\n",
    "# metadata['beam_major'] = bmaj.to('arcsec')\n",
    "# metadata['beam_minor'] = bmin.to('arcsec')\n",
    "\n",
    "# props = pp_catalog(dendro, metadata, verbose=False)  # Get table\n",
    "# props"
   ]
  },
  {
   "cell_type": "code",
   "execution_count": 15,
   "id": "27755504-57dd-47a7-ac3b-1e7024ae3de7",
   "metadata": {
    "tags": []
   },
   "outputs": [
    {
     "name": "stdout",
     "output_type": "stream",
     "text": [
      "[INFO] [save_fits] Saved to ./analysis/catalogue//01_props_all_3sig.fits\n"
     ]
    }
   ],
   "source": [
    "from importlib import reload\n",
    "reload(dendro_dendro)\n",
    "\n",
    "hdus, props_all = dendro_dendro.get_dedro_all_decorator(hdus, min_value_sig, sampletable, muscat_ids)\n",
    "props_all = dendro_dendro.add_muse_info(props_all, muscat_table)\n",
    "\n",
    "for key in props_all.keys():\n",
    "    props_all[key]['flux_corr'] = dendro_props.correct_ha_flux(props_all[key]['flux'], props_all[key])\n",
    "    props_all[key]['ha_lum_hst'] = dendro_props.calculate_luminosity(props_all[key]['flux_corr']*1e-20, props_all[key]['dist_pc'])\n",
    "    \n",
    "dendro_misc.save_pickle(hdus, './analysis/catalogue/hdus_sample_withdendro.pickel')\n",
    "dendro_misc.save_pickle(props_all, './analysis/catalogue/01_props_all_allsig.pickel')        \n",
    "dendro_dendro.save_fits(props_all, './analysis/catalogue/')"
   ]
  },
  {
   "cell_type": "code",
   "execution_count": 19,
   "id": "b7220e89-f028-4631-bdf6-4cafcb0ca77a",
   "metadata": {},
   "outputs": [
    {
     "name": "stdout",
     "output_type": "stream",
     "text": [
      "[INFO] [get_ds9regions_circ_decor] Saved regions to ./analysis/catalogue/ngc0628_trunk_regions.reg\n",
      "[INFO] [get_ds9regions_ellip_decor] Saved regions to ./analysis/catalogue/ngc0628_sigma_regions.reg\n"
     ]
    },
    {
     "data": {
      "application/vnd.jupyter.widget-view+json": {
       "model_id": "d6f4a0ea9adf46ff8d11a4f109ea1a0c",
       "version_major": 2,
       "version_minor": 0
      },
      "text/plain": [
       "Masking regions:   0%|          | 0/2369 [00:00<?, ?it/s]"
      ]
     },
     "metadata": {},
     "output_type": "display_data"
    }
   ],
   "source": [
    "from importlib import reload\n",
    "reload(dendro_mask)\n",
    "\n",
    "dendro_mask.get_ds9regions_circ_decor(props_all['3sig'], outputfile='./analysis/catalogue/%s_trunk_regions.reg' %galaxy)\n",
    "dendro_mask.get_ds9regions_ellip_decor(props_all['3sig'], outputfile='./analysis/catalogue/%s_sigma_regions.reg' %galaxy)\n",
    "\n",
    "dir_hst = '/Users/abarnes/Dropbox/work/Smallprojects/galaxies/data_hstha/ngc628c/hst_contsub/'\n",
    "hst07_file = '%s/ngc628c_hst_ha_sic.fits' %dir_hst\n",
    "hdu = fits.open(hst07_file)[0]\n",
    "\n",
    "dendro_mask.get_hdumask(hdus, hdu, outputfile='./analysis/catalogue/%s_trunk_mask.fits' %galaxy)"
   ]
  },
  {
   "cell_type": "code",
   "execution_count": null,
   "id": "af383765-91f5-4ce1-b08e-b310e452f8d0",
   "metadata": {
    "tags": []
   },
   "outputs": [],
   "source": [
    "# Using the `plot_sigmacomp_decorator` function from the `dendro_dendro_plot` module,\n",
    "# plot a sigma comparison based on the provided HDUs, dendrogram properties (`props_all`), \n",
    "# regions, region ID (`regionID`), and minimum value significance (`min_value_sig`).\n",
    "\n",
    "# dendro_dendro_plot.plot_sigmacomp_decorator(hdus, props_all, regions, min_value_sig)"
   ]
  }
 ],
 "metadata": {
  "kernelspec": {
   "display_name": "Python 3 (ipykernel)",
   "language": "python",
   "name": "python3"
  },
  "language_info": {
   "codemirror_mode": {
    "name": "ipython",
    "version": 3
   },
   "file_extension": ".py",
   "mimetype": "text/x-python",
   "name": "python",
   "nbconvert_exporter": "python",
   "pygments_lexer": "ipython3",
   "version": "3.9.13"
  }
 },
 "nbformat": 4,
 "nbformat_minor": 5
}
