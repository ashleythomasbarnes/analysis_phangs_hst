{
 "cells": [
  {
   "cell_type": "code",
   "execution_count": 1,
   "id": "d911806a-6e45-422e-b299-fd868a526cc9",
   "metadata": {
    "execution": {
     "iopub.execute_input": "2024-03-18T12:20:43.844872Z",
     "iopub.status.busy": "2024-03-18T12:20:43.844594Z",
     "iopub.status.idle": "2024-03-18T12:20:44.474815Z",
     "shell.execute_reply": "2024-03-18T12:20:44.474330Z"
    }
   },
   "outputs": [],
   "source": [
    "import warnings\n",
    "warnings.filterwarnings('ignore')\n",
    "from glob import glob \n",
    "import sys\n",
    "sys.path.append('./')\n",
    "from modules import dendro_misc, dendro_clusters"
   ]
  },
  {
   "cell_type": "code",
   "execution_count": 2,
   "id": "18040bbc",
   "metadata": {
    "execution": {
     "iopub.execute_input": "2024-03-18T12:20:44.477558Z",
     "iopub.status.busy": "2024-03-18T12:20:44.477429Z",
     "iopub.status.idle": "2024-03-18T12:20:44.512296Z",
     "shell.execute_reply": "2024-03-18T12:20:44.511918Z"
    }
   },
   "outputs": [
    {
     "name": "stdout",
     "output_type": "stream",
     "text": [
      "/Users/abarnes/Dropbox/work/Smallprojects/galaxies/data_hstha/ic5332/hst_contsub/ic5332_hst_ha_sic.fits\n",
      "/Users/abarnes/Dropbox/work/Smallprojects/galaxies/data_hstha/ic5332/muse/IC5332_nebmask.fits\n",
      "/Users/abarnes/Dropbox/work/Smallprojects/galaxies/data_hstha/ic5332/muse/IC5332-0.87asec_MAPS.fits\n",
      "/Users/abarnes/Dropbox/work/Smallprojects/galaxies/data_hstha_nebulae_catalogue/ic5332/cutouts\n",
      "/Users/abarnes/Dropbox/work/Smallprojects/galaxies/data_hstha_nebulae_catalogue/ic5332/dendro\n",
      "/Users/abarnes/Dropbox/work/Smallprojects/galaxies/data_hstha_nebulae_catalogue/ic5332/cutouts_hdus\n",
      "/Users/abarnes/Dropbox/work/Smallprojects/galaxies/data_hstha_nebulae_catalogue/ic5332/cutouts/sample.reg\n",
      "/Users/abarnes/Dropbox/work/Smallprojects/galaxies/data_hstha_nebulae_catalogue/ic5332/cutouts/sample.pickel\n",
      "/Users/abarnes/Dropbox/work/Smallprojects/galaxies/data_misc/sample_table/phangs_sample_table_v1p6.fits\n",
      "/Users/abarnes/Dropbox/work/Smallprojects/galaxies/data_misc/nebulae_catalogue/Nebulae_catalogue_v3.fits\n"
     ]
    }
   ],
   "source": [
    "# Define names and filenames...\n",
    "\n",
    "galaxy = 'ic5332'\n",
    "galaxy_hst = galaxy\n",
    "root_dir = '/Users/abarnes/Dropbox/work/Smallprojects/galaxies'\n",
    "\n",
    "hstha_file = '%s/data_hstha/%s/hst_contsub/%s_hst_ha_sic.fits' %(root_dir, galaxy_hst, galaxy_hst)\n",
    "muscat_file = '%s/data_hstha/%s/muse/%s_nebmask.fits' %(root_dir, galaxy_hst, galaxy.upper())\n",
    "musha_file = '%s/data_hstha/%s/muse/%s-*_MAPS.fits' %(root_dir, galaxy_hst, galaxy.upper())\n",
    "musha_file = glob(musha_file)[0] #because of resolution in name\n",
    "\n",
    "cutout_dir = '%s/data_hstha_nebulae_catalogue/%s/cutouts' %(root_dir, galaxy_hst)\n",
    "dendro_dir = '%s/data_hstha_nebulae_catalogue/%s/dendro' %(root_dir, galaxy_hst)\n",
    "cutouts_hdus_dir = '%s/data_hstha_nebulae_catalogue/%s/cutouts_hdus' %(root_dir, galaxy_hst)\n",
    "\n",
    "rerun_all = True\n",
    "rerun_masking = True\n",
    "\n",
    "regions_file = '%s/sample.reg' %cutout_dir\n",
    "regions_pickel_file = '%s/sample.pickel' %cutout_dir\n",
    "sample_table_file = '%s/data_misc/sample_table/phangs_sample_table_v1p6.fits' %root_dir\n",
    "muscat_table_file = '%s/data_misc/nebulae_catalogue/Nebulae_catalogue_v3.fits' %root_dir\n",
    "cluster_table_file = '%s/data_misc/compact_clusters/PHANGS_IR4_%s_phangs_hst_v1p2_ml_class12.fits' %(root_dir, galaxy)\n",
    "# cluster_table_file = '%s/data_misc/compact_clusters/PHANGS_IR4_%s_phangs_hst_v1p2_human_class12.fits' %(root_dir, galaxy_hst)\n",
    "\n",
    "print(hstha_file)\n",
    "print(muscat_file)\n",
    "print(musha_file)\n",
    "print(cutout_dir)\n",
    "print(dendro_dir)\n",
    "print(cutouts_hdus_dir)\n",
    "print(regions_file)\n",
    "print(regions_pickel_file)\n",
    "print(sample_table_file)\n",
    "print(muscat_table_file)"
   ]
  },
  {
   "cell_type": "code",
   "execution_count": 3,
   "id": "3f2916b0",
   "metadata": {
    "execution": {
     "iopub.execute_input": "2024-03-18T12:20:44.514229Z",
     "iopub.status.busy": "2024-03-18T12:20:44.514110Z",
     "iopub.status.idle": "2024-03-18T12:20:46.164087Z",
     "shell.execute_reply": "2024-03-18T12:20:46.163731Z"
    }
   },
   "outputs": [
    {
     "name": "stdout",
     "output_type": "stream",
     "text": [
      "[INFO] [load_pickle] Load /Users/abarnes/Dropbox/work/Smallprojects/galaxies/data_hstha_nebulae_catalogue/ic5332/cutouts/hdus_all.pickel\n",
      "[INFO] [load_pickle] Load /Users/abarnes/Dropbox/work/Smallprojects/galaxies/data_hstha_nebulae_catalogue/ic5332/cutouts/sample.pickel\n",
      "[INFO] [get_galaxyprops] Getting sample table properties for ic5332...\n",
      "[INFO] [get_MuseProps] Getting MUSE catalouge properties for ic5332...\n",
      "[INFO] [load_pickle] Load /Users/abarnes/Dropbox/work/Smallprojects/galaxies/data_hstha_nebulae_catalogue/ic5332/dendro/hdus_all_withmasked_withdendro.pickel\n",
      "[INFO] [load_pickle] Load /Users/abarnes/Dropbox/work/Smallprojects/galaxies/data_hstha_nebulae_catalogue/ic5332/dendro/props_all.pickel\n",
      "[INFO] [load_table] /Users/abarnes/Dropbox/work/Smallprojects/galaxies/data_misc/compact_clusters/PHANGS_IR4_ic5332_phangs_hst_v1p2_ml_class12.fits\n"
     ]
    }
   ],
   "source": [
    "# Load regions, sample table and HDUs... \n",
    "\n",
    "hdus_cutouts  = dendro_misc.load_pickle('%s/hdus_all.pickel' %cutout_dir)\n",
    "regions       = dendro_misc.load_pickle(regions_pickel_file)\n",
    "sample_table  = dendro_misc.get_galaxyprops(galaxy, sample_table_file)\n",
    "muscat_table  = dendro_misc.get_museprops(galaxy, muscat_table_file)\n",
    "hdus          = dendro_misc.load_pickle('%s/hdus_all_withmasked_withdendro.pickel' %dendro_dir)\n",
    "props_all     = dendro_misc.load_pickle('%s/props_all.pickel' %dendro_dir)\n",
    "cluster_table = dendro_misc.load_table(cluster_table_file)"
   ]
  },
  {
   "cell_type": "code",
   "execution_count": 4,
   "id": "f2a37a97",
   "metadata": {
    "execution": {
     "iopub.execute_input": "2024-03-18T12:20:46.166167Z",
     "iopub.status.busy": "2024-03-18T12:20:46.166037Z",
     "iopub.status.idle": "2024-03-18T12:21:02.690426Z",
     "shell.execute_reply": "2024-03-18T12:21:02.689982Z"
    }
   },
   "outputs": [
    {
     "data": {
      "application/vnd.jupyter.widget-view+json": {
       "model_id": "cc5ebc0390a54d069e9ebf5e8fbf2887",
       "version_major": 2,
       "version_minor": 0
      },
      "text/plain": [
       "  0%|          | 0/816 [00:00<?, ?it/s]"
      ]
     },
     "metadata": {},
     "output_type": "display_data"
    },
    {
     "data": {
      "application/vnd.jupyter.widget-view+json": {
       "model_id": "1d288f7639c245b59ef5ab378b1e9e61",
       "version_major": 2,
       "version_minor": 0
      },
      "text/plain": [
       "  0%|          | 0/628 [00:00<?, ?it/s]"
      ]
     },
     "metadata": {},
     "output_type": "display_data"
    }
   ],
   "source": [
    "# Get clusters withing the Dendro leaves, and export region file of these clusters\n",
    "\n",
    "props_all_cluster = dendro_clusters.get_clusters(cluster_table, hdus, props_all)\n",
    "dendro_clusters.get_clusters_regions(props_all_cluster, dendro_dir, galaxy)"
   ]
  },
  {
   "cell_type": "code",
   "execution_count": 5,
   "id": "7b7826f7-45fe-4452-af1c-90a0f08b2b1e",
   "metadata": {
    "execution": {
     "iopub.execute_input": "2024-03-18T12:21:02.693472Z",
     "iopub.status.busy": "2024-03-18T12:21:02.693337Z",
     "iopub.status.idle": "2024-03-18T12:21:02.892401Z",
     "shell.execute_reply": "2024-03-18T12:21:02.892076Z"
    }
   },
   "outputs": [
    {
     "name": "stdout",
     "output_type": "stream",
     "text": [
      "[INFO] [save_pickle] Saved to /Users/abarnes/Dropbox/work/Smallprojects/galaxies/data_hstha_nebulae_catalogue/ic5332/dendro/props_all_cluster.pickel\n"
     ]
    }
   ],
   "source": [
    "# Save table with appended cluster information\n",
    "\n",
    "dendro_misc.save_pickle(props_all_cluster, '%s/props_all_cluster.pickel' %dendro_dir)        \n",
    "props_all_cluster.write('%s/props_all_cluster.fits' %dendro_dir, overwrite=True)"
   ]
  },
  {
   "cell_type": "code",
   "execution_count": 6,
   "id": "57222d40",
   "metadata": {
    "execution": {
     "iopub.execute_input": "2024-03-18T12:21:02.894344Z",
     "iopub.status.busy": "2024-03-18T12:21:02.894236Z",
     "iopub.status.idle": "2024-03-18T12:21:03.005072Z",
     "shell.execute_reply": "2024-03-18T12:21:03.004724Z"
    }
   },
   "outputs": [
    {
     "data": {
      "text/html": [
       "<div><i>Table length=22</i>\n",
       "<table id=\"table140476200974320\" class=\"table-striped table-bordered table-condensed\">\n",
       "<thead><tr><th>region_ID</th><th>hstcat_region_ID</th><th>_idx</th><th>area_ellipse</th><th>area_exact</th><th>HA6562_FLUX_HST</th><th>major_sigma</th><th>minor_sigma</th><th>position_angle</th><th>mean_sigma</th><th>x_cen</th><th>y_cen</th><th>radius_trunk</th><th>radius_trunkclose</th><th>major_fwtm</th><th>minor_fwtm</th><th>mean_fwtm</th><th>mean_hwtm</th><th>major_fwhm</th><th>minor_fwhm</th><th>mean_fwhm</th><th>mean_hwhm</th><th>min_npix</th><th>min_value_sig</th><th>min_delta_sig</th><th>radius_trunk_pc</th><th>radius_trunkclose_pc</th><th>major_fwtm_pc</th><th>minor_fwtm_pc</th><th>mean_fwtm_pc</th><th>mean_hwtm_pc</th><th>major_fwhm_pc</th><th>minor_fwhm_pc</th><th>mean_fwhm_pc</th><th>mean_hwhm_pc</th><th>ra_cen</th><th>dec_cen</th><th>mean_sigma_pc</th><th>x_max</th><th>y_max</th><th>ra_max</th><th>dec_max</th><th>flag_edge_hst</th><th>gal_name</th><th>cen_x</th><th>cen_y</th><th>cen_ra</th><th>cen_dec</th><th>cen_x_geo</th><th>cen_y_geo</th><th>flag_edge</th><th>flag_nearby</th><th>flag_star</th><th>deproj_dist</th><th>deproj_phi</th><th>region_area</th><th>region_circ_rad</th><th>HB4861_FLUX</th><th>OIII5006_FLUX</th><th>HA6562_FLUX</th><th>NII6583_FLUX</th><th>SII6716_FLUX</th><th>SII6730_FLUX</th><th>SIII9068_FLUX</th><th>OI6300_FLUX</th><th>NII5754_FLUX</th><th>HEI5875_FLUX</th><th>SIII6312_FLUX</th><th>OI6363_FLUX</th><th>OII7319_FLUX</th><th>OII7330_FLUX</th><th>HB4861_FLUX_ERR</th><th>OIII5006_FLUX_ERR</th><th>HA6562_FLUX_ERR</th><th>NII6583_FLUX_ERR</th><th>SII6716_FLUX_ERR</th><th>SII6730_FLUX_ERR</th><th>SIII9068_FLUX_ERR</th><th>OI6300_FLUX_ERR</th><th>NII5754_FLUX_ERR</th><th>HEI5875_FLUX_ERR</th><th>SIII6312_FLUX_ERR</th><th>OI6363_FLUX_ERR</th><th>OII7319_FLUX_ERR</th><th>OII7330_FLUX_ERR</th><th>HA6562_SIGMA</th><th>NII6583_SIGMA</th><th>OIII5006_SIGMA</th><th>HA6562_VEL</th><th>NII6583_VEL</th><th>OIII5006_VEL</th><th>HA6562_SIGMA_ERR</th><th>NII6583_SIGMA_ERR</th><th>OIII5006_SIGMA_ERR</th><th>HA6562_VEL_ERR</th><th>NII6583_VEL_ERR</th><th>OIII5006_VEL_ERR</th><th>HB4861_FLUX_CORR</th><th>OIII5006_FLUX_CORR</th><th>HA6562_FLUX_CORR</th><th>NII6583_FLUX_CORR</th><th>SII6716_FLUX_CORR</th><th>SII6730_FLUX_CORR</th><th>SIII9068_FLUX_CORR</th><th>OI6300_FLUX_CORR</th><th>NII5754_FLUX_CORR</th><th>HEI5875_FLUX_CORR</th><th>SIII6312_FLUX_CORR</th><th>OI6363_FLUX_CORR</th><th>OII7319_FLUX_CORR</th><th>OII7330_FLUX_CORR</th><th>HB4861_FLUX_CORR_ERR</th><th>OIII5006_FLUX_CORR_ERR</th><th>HA6562_FLUX_CORR_ERR</th><th>NII6583_FLUX_CORR_ERR</th><th>SII6716_FLUX_CORR_ERR</th><th>SII6730_FLUX_CORR_ERR</th><th>SIII9068_FLUX_CORR_ERR</th><th>OI6300_FLUX_CORR_ERR</th><th>NII5754_FLUX_CORR_ERR</th><th>HEI5875_FLUX_CORR_ERR</th><th>SIII6312_FLUX_CORR_ERR</th><th>OI6363_FLUX_CORR_ERR</th><th>OII7319_FLUX_CORR_ERR</th><th>OII7330_FLUX_CORR_ERR</th><th>EBV</th><th>EBV_ERR</th><th>met_scal</th><th>met_scal_err</th><th>logq_D91</th><th>logq_D91_err</th><th>t_N2</th><th>t_S3</th><th>t_N2_err</th><th>t_S3_err</th><th>BPT_NII</th><th>BPT_SII</th><th>BPT_OI</th><th>LOG_SIGMA_SFR_CHAB</th><th>LOG_SIGMA_STMASS_CHAB</th><th>5thNN_dist</th><th>NN_number</th><th>Environment</th><th>r_R25</th><th>r_reff</th><th>Lum_HA6562_CORR</th><th>Delta_met_scal</th><th>pc_per_pixel</th><th>EW_HA6562_raw</th><th>EW_HA6562_raw_ERR</th><th>EW_HB4861_raw</th><th>EW_HB4861_raw_ERR</th><th>EW_HA6562_fit</th><th>EW_HA6562_fit_ERR</th><th>EW_HB4861_fit</th><th>EW_HB4861_fit_ERR</th><th>EW_HA6562_bgcorr</th><th>EW_HA6562_bgcorr_ERR</th><th>EW_HB4861_bgcorr</th><th>EW_HB4861_bgcorr_ERR</th><th>HII_class_v2</th><th>HII_class_v3</th><th>HA6562_FLUX_HST_CORR</th><th>HA6562_LUMINOSITY_HST</th><th>INDEX</th><th>ID_PHANGS_CLUSTERS</th><th>PHANGS_X</th><th>PHANGS_Y</th><th>PHANGS_RA</th><th>PHANGS_DEC</th><th>PHANGS_CLUSTER_CLASS_HUMAN</th><th>PHANGS_CLUSTER_CLASS_ML_VGG</th><th>PHANGS_CLUSTER_CLASS_ML_VGG_QUAL</th><th>PHANGS_F275W_VEGA_TOT</th><th>PHANGS_F275W_VEGA_TOT_ERR</th><th>PHANGS_F336W_VEGA_TOT</th><th>PHANGS_F336W_VEGA_TOT_ERR</th><th>PHANGS_F438W_VEGA_TOT</th><th>PHANGS_F438W_VEGA_TOT_ERR</th><th>PHANGS_F555W_VEGA_TOT</th><th>PHANGS_F555W_VEGA_TOT_ERR</th><th>PHANGS_F814W_VEGA_TOT</th><th>PHANGS_F814W_VEGA_TOT_ERR</th><th>PHANGS_F275W_mJy_TOT</th><th>PHANGS_F275W_mJy_TOT_ERR</th><th>PHANGS_F336W_mJy_TOT</th><th>PHANGS_F336W_mJy_TOT_ERR</th><th>PHANGS_F438W_mJy_TOT</th><th>PHANGS_F438W_mJy_TOT_ERR</th><th>PHANGS_F555W_mJy_TOT</th><th>PHANGS_F555W_mJy_TOT_ERR</th><th>PHANGS_F814W_mJy_TOT</th><th>PHANGS_F814W_mJy_TOT_ERR</th><th>PHANGS_CI</th><th>PHANGS_AGE_MINCHISQ</th><th>PHANGS_AGE_MINCHISQ_ERR</th><th>PHANGS_MASS_MINCHISQ</th><th>PHANGS_MASS_MINCHISQ_ERR</th><th>PHANGS_EBV_MINCHISQ</th><th>PHANGS_EBV_MINCHISQ_ERR</th><th>PHANGS_REDUCED_MINCHISQ</th><th>PHANGS_NO_COVERAGE_FLAG</th><th>PHANGS_NON_DETECTION_FLAG</th><th>x_cluster</th><th>y_cluster</th></tr></thead>\n",
       "<thead><tr><th></th><th></th><th></th><th>arcsec2</th><th>arcsec2</th><th>erg / (s cm2)</th><th>arcsec</th><th>arcsec</th><th>deg</th><th>arcsec</th><th>pix</th><th>pix</th><th>arcsec</th><th>arcsec</th><th>arcsec</th><th>arcsec</th><th>arcsec</th><th>arcsec</th><th>arcsec</th><th>arcsec</th><th>arcsec</th><th>arcsec</th><th></th><th></th><th></th><th>pc</th><th>pc</th><th>pc</th><th>pc</th><th>pc</th><th>pc</th><th>pc</th><th>pc</th><th>pc</th><th>pc</th><th>deg</th><th>deg</th><th>pc</th><th>pix</th><th>pix</th><th>deg</th><th>deg</th><th></th><th></th><th>pix</th><th>pix</th><th>deg</th><th>deg</th><th>pix</th><th>pix</th><th></th><th></th><th></th><th>arcsec</th><th>rad</th><th>pix2</th><th>arcsec</th><th>1e-20 erg / (s cm2)</th><th>1e-20 erg / (s cm2)</th><th>1e-20 erg / (s cm2)</th><th>1e-20 erg / (s cm2)</th><th>1e-20 erg / (s cm2)</th><th>1e-20 erg / (s cm2)</th><th>1e-20 erg / (s cm2)</th><th>1e-20 erg / (s cm2)</th><th>1e-20 erg / (s cm2)</th><th>1e-20 erg / (s cm2)</th><th>1e-20 erg / (s cm2)</th><th>1e-20 erg / (s cm2)</th><th>1e-20 erg / (s cm2)</th><th>1e-20 erg / (s cm2)</th><th>1e-20 erg / (s cm2)</th><th>1e-20 erg / (s cm2)</th><th>1e-20 erg / (s cm2)</th><th>1e-20 erg / (s cm2)</th><th>1e-20 erg / (s cm2)</th><th>1e-20 erg / (s cm2)</th><th>1e-20 erg / (s cm2)</th><th>1e-20 erg / (s cm2)</th><th>1e-20 erg / (s cm2)</th><th>1e-20 erg / (s cm2)</th><th>1e-20 erg / (s cm2)</th><th>1e-20 erg / (s cm2)</th><th>1e-20 erg / (s cm2)</th><th>1e-20 erg / (s cm2)</th><th>km / s</th><th>km / s</th><th>km / s</th><th>km / s</th><th>km / s</th><th>km / s</th><th>km / s</th><th>km / s</th><th>km / s</th><th>km / s</th><th>km / s</th><th>km / s</th><th>erg / (s cm2)</th><th>erg / (s cm2)</th><th>erg / (s cm2)</th><th>erg / (s cm2)</th><th>erg / (s cm2)</th><th>erg / (s cm2)</th><th>erg / (s cm2)</th><th>erg / (s cm2)</th><th>erg / (s cm2)</th><th>erg / (s cm2)</th><th>erg / (s cm2)</th><th>erg / (s cm2)</th><th>erg / (s cm2)</th><th>erg / (s cm2)</th><th>erg / (s cm2)</th><th>erg / (s cm2)</th><th>erg / (s cm2)</th><th>erg / (s cm2)</th><th>erg / (s cm2)</th><th>erg / (s cm2)</th><th>erg / (s cm2)</th><th>erg / (s cm2)</th><th>erg / (s cm2)</th><th>erg / (s cm2)</th><th>erg / (s cm2)</th><th>erg / (s cm2)</th><th>erg / (s cm2)</th><th>erg / (s cm2)</th><th>mag</th><th>mag</th><th></th><th></th><th></th><th></th><th>K</th><th>K</th><th>K</th><th>K</th><th></th><th></th><th></th><th>solMass / (yr kpc2)</th><th>solMass / kpc2</th><th>pc</th><th></th><th></th><th></th><th></th><th>erg / s</th><th></th><th>pc</th><th></th><th></th><th></th><th></th><th>Angstrom</th><th>Angstrom</th><th>Angstrom</th><th>Angstrom</th><th>Angstrom</th><th>Angstrom</th><th>Angstrom</th><th>Angstrom</th><th></th><th></th><th>erg / (s cm2)</th><th>erg / s</th><th></th><th></th><th></th><th></th><th></th><th></th><th></th><th></th><th></th><th></th><th></th><th></th><th></th><th></th><th></th><th></th><th></th><th></th><th></th><th></th><th></th><th></th><th></th><th></th><th></th><th></th><th></th><th></th><th></th><th></th><th></th><th></th><th></th><th></th><th></th><th></th><th></th><th></th><th></th><th>pix</th><th>pix</th></tr></thead>\n",
       "<thead><tr><th>float64</th><th>int64</th><th>int64</th><th>float64</th><th>float64</th><th>float64</th><th>float64</th><th>float64</th><th>float64</th><th>float64</th><th>float64</th><th>float64</th><th>float64</th><th>float64</th><th>float64</th><th>float64</th><th>float64</th><th>float64</th><th>float64</th><th>float64</th><th>float64</th><th>float64</th><th>int64</th><th>int64</th><th>int64</th><th>float64</th><th>float64</th><th>float64</th><th>float64</th><th>float64</th><th>float64</th><th>float64</th><th>float64</th><th>float64</th><th>float64</th><th>float64</th><th>float64</th><th>float64</th><th>float64</th><th>float64</th><th>float64</th><th>float64</th><th>int64</th><th>bytes32</th><th>float64</th><th>float64</th><th>float64</th><th>float64</th><th>float64</th><th>float64</th><th>float64</th><th>float64</th><th>float64</th><th>float64</th><th>float64</th><th>float64</th><th>float64</th><th>float64</th><th>float64</th><th>float64</th><th>float64</th><th>float64</th><th>float64</th><th>float64</th><th>float64</th><th>float64</th><th>float64</th><th>float64</th><th>float64</th><th>float64</th><th>float64</th><th>float64</th><th>float64</th><th>float64</th><th>float64</th><th>float64</th><th>float64</th><th>float64</th><th>float64</th><th>float64</th><th>float64</th><th>float64</th><th>float64</th><th>float64</th><th>float64</th><th>float64</th><th>float64</th><th>float64</th><th>float64</th><th>float64</th><th>float64</th><th>float64</th><th>float64</th><th>float64</th><th>float64</th><th>float64</th><th>float64</th><th>float64</th><th>float64</th><th>float64</th><th>float64</th><th>float64</th><th>float64</th><th>float64</th><th>float64</th><th>float64</th><th>float64</th><th>float64</th><th>float64</th><th>float64</th><th>float64</th><th>float64</th><th>float64</th><th>float64</th><th>float64</th><th>float64</th><th>float64</th><th>float64</th><th>float64</th><th>float64</th><th>float64</th><th>float64</th><th>float64</th><th>float64</th><th>float64</th><th>float64</th><th>float64</th><th>float64</th><th>float64</th><th>float64</th><th>float64</th><th>float64</th><th>float64</th><th>float64</th><th>float64</th><th>float64</th><th>float64</th><th>float64</th><th>float64</th><th>float64</th><th>float64</th><th>float64</th><th>float64</th><th>float64</th><th>float64</th><th>float64</th><th>float64</th><th>float64</th><th>float64</th><th>float64</th><th>float64</th><th>float64</th><th>float64</th><th>float64</th><th>float64</th><th>float64</th><th>float64</th><th>float64</th><th>float64</th><th>float64</th><th>int64</th><th>int64</th><th>float64</th><th>float64</th><th>int64</th><th>int64</th><th>float64</th><th>float64</th><th>float64</th><th>float64</th><th>float64</th><th>int64</th><th>float64</th><th>float64</th><th>float64</th><th>float64</th><th>float64</th><th>float64</th><th>float64</th><th>float64</th><th>float64</th><th>float64</th><th>float64</th><th>float64</th><th>float64</th><th>float64</th><th>float64</th><th>float64</th><th>float64</th><th>float64</th><th>float64</th><th>float64</th><th>float64</th><th>float64</th><th>float64</th><th>float64</th><th>float64</th><th>float64</th><th>float64</th><th>float64</th><th>float64</th><th>float64</th><th>float64</th><th>float64</th><th>float64</th></tr></thead>\n",
       "<tr><td>7.0</td><td>7</td><td>0</td><td>0.03987061746627025</td><td>0.1711021395999983</td><td>75119.21875</td><td>0.10364605635871856</td><td>0.08832878237309436</td><td>48.15372042727102</td><td>0.09568139817090218</td><td>54.50670124860293</td><td>50.3323262245305</td><td>0.2333741686260039</td><td>0.239711271219541</td><td>0.44484887389162003</td><td>0.379107133945321</td><td>0.4119780039184705</td><td>0.20598900195923525</td><td>0.24406781110191794</td><td>0.20799838728533898</td><td>0.22603309919362846</td><td>0.11301654959681423</td><td>9</td><td>3</td><td>3</td><td>10.194174061209624</td><td>10.470989302856132</td><td>19.431742930605402</td><td>16.560033760541433</td><td>17.995888345573416</td><td>8.997944172786708</td><td>10.661290252301502</td><td>9.085717485021487</td><td>9.873503868661494</td><td>4.936751934330747</td><td>353.606491413466</td><td>-36.11488681636605</td><td>4.179523522747741</td><td>55.0</td><td>50.0</td><td>353.60648469283115</td><td>-36.11489047357892</td><td>0</td><td>IC5332</td><td>393.4020821488674</td><td>189.06606743567843</td><td>353.60649589359434</td><td>-36.11484625903955</td><td>393.531914893617</td><td>189.17021276595744</td><td>0.0</td><td>0.0</td><td>0.0</td><td>58.6190854745826</td><td>3.856939592462555</td><td>94.0</td><td>1.0940041919714263</td><td>27660.297731869545</td><td>46881.97764601335</td><td>110409.94089061781</td><td>19821.20064090757</td><td>13745.22216219105</td><td>9889.413551683723</td><td>15360.072758124417</td><td>1404.0825088937595</td><td>257.2135865675992</td><td>4693.621215639467</td><td>412.4868449213735</td><td>472.27046946227324</td><td>705.3498018129512</td><td>780.3209559178713</td><td>139.3897085415152</td><td>155.00287897571573</td><td>192.69196481401846</td><td>90.20528584273026</td><td>81.08441033242906</td><td>76.08007222445119</td><td>123.13058966557678</td><td>65.1285468749085</td><td>82.40501986473376</td><td>154.74208430385005</td><td>67.33514953718118</td><td>21.906326168995832</td><td>58.492506553804404</td><td>62.15041436459977</td><td>15.708034030177432</td><td>25.12651547042828</td><td>18.17019345842434</td><td>-33.041417519767194</td><td>-33.74482796716762</td><td>-29.227154690741635</td><td>0.27032744170539275</td><td>0.47738787657546056</td><td>0.7816477772421622</td><td>0.09607332862479094</td><td>0.22905742227494127</td><td>0.2525383110080392</td><td>80393.70513581387</td><td>130795.30766902144</td><td>229954.1168123891</td><td>41176.49018344866</td><td>28098.03049570009</td><td>20181.876925175446</td><td>23545.372534348906</td><td>3022.68645652891</td><td>602.2537507185984</td><td>10759.012668170517</td><td>886.5957331056197</td><td>1008.3945843576238</td><td>1338.3125035387875</td><td>1478.4569976973614</td><td>1430.6801096813801</td><td>2189.8198236708527</td><td>2728.5255384392904</td><td>516.7521672104004</td><td>361.60578766848465</td><td>277.74072070242283</td><td>248.01258589644252</td><td>145.02681324345775</td><td>193.121566959881</td><td>382.36426943894213</td><td>145.13590298373285</td><td>48.34856894872807</td><td>111.82598229186998</td><td>118.72099002997442</td><td>0.3162349300862151</td><td>0.005058722860284619</td><td>8.389782901968061</td><td>0.004317482389122403</td><td>7.87382726879262</td><td>0.010321994603012198</td><td>--</td><td>8003.988382998562</td><td>--</td><td>446.85097627875666</td><td>0.0</td><td>0.0</td><td>0.0</td><td>-1.83468757712496</td><td>7.846387755283314</td><td>199.0661583152151</td><td>17.0</td><td>9.0</td><td>0.3220458969940658</td><td>0.7097133721325022</td><td>2.233581210414285e+37</td><td>0.03751105649367936</td><td>8.714273434258303</td><td>81.44156452753957</td><td>0.3031628324107482</td><td>14.37049802879836</td><td>0.2019079577486737</td><td>83.32517493288998</td><td>1.6737796221902268</td><td>16.60638704835703</td><td>0.47617350324332636</td><td>--</td><td>--</td><td>--</td><td>--</td><td>1</td><td>1</td><td>156453.06449720945</td><td>1.5196537591816148e+37</td><td>35</td><td>239</td><td>4290.68</td><td>2645.82</td><td>353.6064890522477</td><td>-36.114892454722536</td><td>2.0</td><td>2</td><td>0.8</td><td>23.357561711668914</td><td>0.16014342320133018</td><td>23.31471180666873</td><td>0.12736133745766098</td><td>24.807471793126687</td><td>0.12565141487854423</td><td>23.831002181882685</td><td>0.05051265531863514</td><td>23.206122545821078</td><td>0.05612357046782451</td><td>0.0004023975384006318</td><td>5.941196080555535e-05</td><td>0.0005777703850718383</td><td>6.78425793465031e-05</td><td>0.0004920523187838972</td><td>5.7001742098520565e-05</td><td>0.0010737894365238673</td><td>5.0006768286326724e-05</td><td>0.0012612203852133063</td><td>6.525979973190125e-05</td><td>1.995452018795607</td><td>1.0</td><td>7.0</td><td>4429.301524171351</td><td>3788.011119911994</td><td>0.76</td><td>0.43</td><td>5.600679098403185</td><td>0.0</td><td>0.0</td><td>54.68000000128848</td><td>49.82000000318499</td></tr>\n",
       "<tr><td>17.0</td><td>17</td><td>0</td><td>0.13922244569236414</td><td>0.5431315623999945</td><td>211715.390625</td><td>0.20026339583355274</td><td>0.1596282479209798</td><td>-135.3779540413142</td><td>0.17879512017842003</td><td>68.32525619685792</td><td>66.13472776055174</td><td>0.4157933931778699</td><td>0.43688910677336146</td><td>0.8595304949176084</td><td>0.6851244400768453</td><td>0.7723274674972268</td><td>0.3861637337486134</td><td>0.47158425879481747</td><td>0.37589579795749317</td><td>0.4237400283761553</td><td>0.21187001418807766</td><td>9</td><td>3</td><td>3</td><td>18.162550930599775</td><td>19.08404698821403</td><td>37.54572979389896</td><td>29.92738158148457</td><td>33.73655568769176</td><td>16.86827784384588</td><td>20.599589264675906</td><td>16.419757232844805</td><td>18.509673248760357</td><td>9.254836624380179</td><td>353.63192127622165</td><td>-36.086844987441864</td><td>7.8100699281532</td><td>67.0</td><td>67.0</td><td>353.6319393217867</td><td>-36.0868354614215</td><td>0</td><td>IC5332</td><td>23.610167212593044</td><td>693.490206350576</td><td>353.63192339092694</td><td>-36.08682339103021</td><td>23.625</td><td>692.6041666666666</td><td>0.0</td><td>0.0</td><td>0.0</td><td>74.34647046725247</td><td>1.048459150701778</td><td>144.0</td><td>1.3540550005146152</td><td>114163.88512590676</td><td>99553.56452498234</td><td>385534.27519268927</td><td>69340.90427929997</td><td>48680.34316653542</td><td>34405.08261508064</td><td>34713.917474925904</td><td>3372.4277307563757</td><td>264.20934375374634</td><td>10420.740819839024</td><td>1467.040256980141</td><td>1134.3336431751065</td><td>1163.0659452806</td><td>1991.208097329493</td><td>289.64418470533224</td><td>241.92553965226455</td><td>411.55369628030684</td><td>167.3907585616348</td><td>157.8126742925389</td><td>140.20409361092754</td><td>221.27057756906171</td><td>96.50153976200161</td><td>116.62453464835177</td><td>236.39750056326554</td><td>102.55520173942487</td><td>32.45879583183468</td><td>97.79476191187024</td><td>93.85764840246974</td><td>19.079461890644264</td><td>19.51424222086553</td><td>12.091900550178792</td><td>32.93692002832855</td><td>33.7809149731011</td><td>36.3352907713035</td><td>0.12956418898306707</td><td>0.2775712208509224</td><td>0.7193296430977522</td><td>0.05762561327232729</td><td>0.11254979831757736</td><td>0.18236268321022975</td><td>194309.07924320942</td><td>166019.5567608438</td><td>555757.8429777042</td><td>99829.0667731586</td><td>69523.93717822837</td><td>49095.07392835233</td><td>42950.89504763641</td><td>4942.272838722623</td><td>403.75531477757556</td><td>15756.95714712904</td><td>2148.249355228811</td><td>1655.5794202729924</td><td>1600.477893097516</td><td>2738.1306521102265</td><td>1781.256979027157</td><td>1463.086050065694</td><td>3418.4033473255336</td><td>649.0067635580406</td><td>468.2392251572867</td><td>351.61142838856233</td><td>312.8864808727898</td><td>144.84213034201366</td><td>178.24402719811073</td><td>373.38705773106375</td><td>150.78796125147775</td><td>48.49562530005927</td><td>134.8397932033553</td><td>129.87067111043157</td><td>0.15762728241782528</td><td>0.0026109595301682066</td><td>8.390865191763242</td><td>0.0022575803692551737</td><td>7.65656762214288</td><td>0.00642045334194631</td><td>--</td><td>8879.364688746575</td><td>--</td><td>237.57167078005753</td><td>0.0</td><td>0.0</td><td>0.0</td><td>-1.636677804394063</td><td>7.400015851586922</td><td>370.42558262143706</td><td>7.0</td><td>9.0</td><td>0.4084501758450477</td><td>0.9001280697963492</td><td>5.398165046238885e+37</td><td>0.07158354239653342</td><td>8.714273434258303</td><td>175.64248511821458</td><td>0.5421734345885789</td><td>33.24852930541483</td><td>0.21596636873252414</td><td>177.62618716493844</td><td>3.345753470696804</td><td>36.18780367670572</td><td>0.8119058526721712</td><td>1022.2913211061401</td><td>32.774387735174436</td><td>133.01219478806328</td><td>4.488215285610611</td><td>1</td><td>1</td><td>305193.32881654834</td><td>2.9643918507041495e+37</td><td>191</td><td>1289</td><td>2422.69</td><td>5194.83</td><td>353.6319299254472</td><td>-36.08683733404247</td><td>1.0</td><td>2</td><td>0.8</td><td>21.391679994002097</td><td>0.04067645009212941</td><td>21.742574828519093</td><td>0.03979336602417381</td><td>23.202208653960817</td><td>0.038321175875275136</td><td>22.786844208877287</td><td>0.028590708030848417</td><td>22.65817250395548</td><td>0.04312661753056131</td><td>0.0024604129398031983</td><td>9.226999763730474e-05</td><td>0.0024581595538852715</td><td>9.018414828161025e-05</td><td>0.00215832349515704</td><td>7.625438593117503e-05</td><td>0.002809197779422863</td><td>7.404857235817761e-05</td><td>0.002089156615219196</td><td>8.30664897976828e-05</td><td>1.5488045849059948</td><td>1.0</td><td>0.0</td><td>3566.290238947556</td><td>523.5673701399537</td><td>0.37</td><td>0.03999999999999998</td><td>4.448579392363489</td><td>0.0</td><td>0.0</td><td>67.69000000234541</td><td>66.82999999883418</td></tr>\n",
       "<tr><td>26.0</td><td>26</td><td>0</td><td>0.1515454913205373</td><td>0.9120214963999909</td><td>747588.75</td><td>0.20544263719851083</td><td>0.1693770260155982</td><td>62.23952924622711</td><td>0.1865402447341733</td><td>81.80541274793949</td><td>81.38091750965006</td><td>0.5388000173684588</td><td>0.5654959798557795</td><td>0.8817597988560084</td><td>0.7269661956589475</td><td>0.804362997257478</td><td>0.402181498628739</td><td>0.48378044017907423</td><td>0.39885241602925925</td><td>0.4413164281041667</td><td>0.22065821405208336</td><td>9</td><td>3</td><td>3</td><td>23.535686034040438</td><td>24.70181033104177</td><td>38.516742973899774</td><td>31.755099455925503</td><td>35.13592121491264</td><td>17.56796060745632</td><td>21.13233886864962</td><td>17.422540710802604</td><td>19.27743978972611</td><td>9.638719894863055</td><td>353.6007800932153</td><td>-36.10684089711433</td><td>8.148389924371925</td><td>82.0</td><td>82.0</td><td>353.60077744336894</td><td>-36.106834083554624</td><td>0</td><td>IC5332</td><td>476.35226168558654</td><td>333.00925572827373</td><td>353.6007935589837</td><td>-36.10684852234219</td><td>476.747572815534</td><td>331.9854368932039</td><td>0.0</td><td>1.0</td><td>0.0</td><td>45.316607151111654</td><td>4.508381916005357</td><td>206.0</td><td>1.6195287778099023</td><td>331019.92052770196</td><td>608989.2371910431</td><td>1144234.2112250114</td><td>202707.2634177702</td><td>115368.52940095737</td><td>84706.59952382946</td><td>142752.48394421532</td><td>9611.347467705955</td><td>2531.8023372505854</td><td>46970.124715171536</td><td>4230.02707747361</td><td>3232.8268118052465</td><td>6714.96664637851</td><td>6920.355294790228</td><td>524.5083352787664</td><td>560.1587450353557</td><td>761.5320487644441</td><td>290.86522759141826</td><td>251.83428419255443</td><td>229.25686203415887</td><td>436.3947617930744</td><td>149.1572613104252</td><td>182.9964635495994</td><td>348.64569109108044</td><td>150.01902264163476</td><td>50.16982219818502</td><td>150.63517787371202</td><td>156.84932273281132</td><td>19.631490240382448</td><td>24.787114538525827</td><td>17.209040689387162</td><td>-28.046696938674863</td><td>-28.753438081991703</td><td>-28.3581315414948</td><td>0.07301763821665552</td><td>0.14387658392936875</td><td>0.21912308558662685</td><td>0.03373225515088012</td><td>0.07181901864147913</td><td>0.06890587801203682</td><td>607053.6571710806</td><td>1091131.6580625847</td><td>1736294.1459734512</td><td>307145.88203973684</td><td>173215.47926178886</td><td>127057.38193202627</td><td>181981.5372837403</td><td>14861.375094804149</td><td>4106.221426482381</td><td>75264.99066731044</td><td>6534.743610443087</td><td>4975.460150553192</td><td>9663.706258667857</td><td>9951.240828213415</td><td>3474.7087445342154</td><td>5857.79273546168</td><td>6667.928862392075</td><td>1238.6877218467937</td><td>742.0258284716856</td><td>580.1287958436081</td><td>685.6214879707082</td><td>237.9953697799991</td><td>297.33999204966034</td><td>644.7538935003545</td><td>233.1855249283635</td><td>79.62715060100894</td><td>219.11899919176204</td><td>227.91419835478027</td><td>0.17974532272132063</td><td>0.0016302316658686282</td><td>8.41129153395107</td><td>0.0012843355529617328</td><td>8.03237241289781</td><td>0.00357687187339924</td><td>9602.53891142987</td><td>7878.1656759825955</td><td>273.3854361035495</td><td>97.56283260897126</td><td>0.0</td><td>0.0</td><td>0.0</td><td>-1.2974448319450689</td><td>7.772017668906747</td><td>190.53146023252373</td><td>19.0</td><td>9.0</td><td>0.24896375097894458</td><td>0.548657520233146</td><td>1.6864903459687386e+38</td><td>0.03111604341338392</td><td>8.714273434258303</td><td>276.10089505730906</td><td>0.6660161930033434</td><td>63.12474918365497</td><td>0.3114280210037062</td><td>278.38025675428094</td><td>4.231117188537498</td><td>64.88665641238498</td><td>1.4088373776076157</td><td>3352.7461343794407</td><td>190.6497219983324</td><td>468.69849090371684</td><td>28.27833532968061</td><td>1</td><td>1</td><td>1134412.830421266</td><td>1.101873413444248e+38</td><td>68</td><td>500</td><td>4709.91</td><td>3377.73</td><td>353.6007786689912</td><td>-36.10683705515312</td><td>1.0</td><td>1</td><td>0.8</td><td>20.530330773348574</td><td>0.018257085995421342</td><td>20.61680114575907</td><td>0.01872808971811125</td><td>22.235920608294364</td><td>0.018323433650411523</td><td>21.509492765186952</td><td>0.011665062268097636</td><td>21.235853117761675</td><td>0.015955046529244427</td><td>0.005439358590189634</td><td>9.15563803622651e-05</td><td>0.0069329735240127215</td><td>0.00011970781002964695</td><td>0.005255714393000739</td><td>8.878673371552697e-05</td><td>0.009110094750567711</td><td>9.797593533175356e-05</td><td>0.007742812685105674</td><td>0.00011389542796369902</td><td>1.6570784005992332</td><td>1.0</td><td>0.0</td><td>15452.856974983704</td><td>2495.1482179990344</td><td>0.49</td><td>0.040000000000000036</td><td>17.77251134117665</td><td>0.0</td><td>0.0</td><td>81.91000000132851</td><td>81.73000000048728</td></tr>\n",
       "<tr><td>31.0</td><td>31</td><td>1</td><td>0.11377468186126717</td><td>0.5180156519999948</td><td>262541.03125</td><td>0.1669373190834658</td><td>0.15649276337043022</td><td>-162.26240638865477</td><td>0.16163069749593614</td><td>68.74556586530706</td><td>68.14970446590125</td><td>0.40606588533086657</td><td>0.41519210089916814</td><td>0.7164949735062351</td><td>0.6716669403858865</td><td>0.6940809569460609</td><td>0.34704047847303043</td><td>0.3931073452414729</td><td>0.36851229608697417</td><td>0.38080982066422353</td><td>0.19040491033211177</td><td>9</td><td>3</td><td>3</td><td>17.73763711619622</td><td>18.136285478057037</td><td>31.297698956603703</td><td>29.339535484009403</td><td>30.318617220306557</td><td>15.159308610153278</td><td>17.171586408749917</td><td>16.097233520419888</td><td>16.6344099645849</td><td>8.31720498229245</td><td>353.59495517728254</td><td>-36.08390725537318</td><td>7.060299233668898</td><td>66.0</td><td>69.0</td><td>353.5949925685627</td><td>-36.08389790220837</td><td>0</td><td>IC5332</td><td>561.3039125580939</td><td>745.845412702429</td><td>353.5949600063106</td><td>-36.08391198815194</td><td>561.3819444444445</td><td>745.2708333333334</td><td>0.0</td><td>0.0</td><td>0.0</td><td>92.37322256569047</td><td>5.810828139874105</td><td>144.0</td><td>1.3540550005146152</td><td>134931.33716318844</td><td>326978.21467935224</td><td>456049.6227940523</td><td>55398.16605507852</td><td>40697.71489943305</td><td>29019.978783990962</td><td>47222.176718976356</td><td>4411.184942003684</td><td>550.7546612221441</td><td>17608.71554320451</td><td>1900.8062078369876</td><td>1483.7250448240022</td><td>3169.2818960845193</td><td>3587.2483422362625</td><td>316.7747344716339</td><td>417.0782313082308</td><td>412.54974620717485</td><td>144.2361486975387</td><td>137.39230810489624</td><td>124.61729463559335</td><td>238.0104620869724</td><td>87.14742974627302</td><td>105.03704922308954</td><td>214.23760724406765</td><td>87.47947825421377</td><td>29.312492177635274</td><td>87.38112470800402</td><td>90.43247490711907</td><td>15.677574691525336</td><td>18.175820199889383</td><td>1.0000000000004547</td><td>-3.6824468011554217</td><td>-3.96643009820323</td><td>-2.6895322146824707</td><td>0.12225665735186622</td><td>0.3124073871696856</td><td>4.002594460830266</td><td>0.046543346122122894</td><td>0.11822104364617385</td><td>0.0929966299404892</td><td>230274.25251104907</td><td>546694.4106420537</td><td>658624.7118492629</td><td>79903.0587942342</td><td>58228.23466636816</td><td>41485.22279244092</td><td>58490.09061401023</td><td>6477.074142207459</td><td>843.4508530629573</td><td>26681.467347952737</td><td>2788.8060402026376</td><td>2169.667549413511</td><td>4368.249835208884</td><td>4940.815801762714</td><td>1931.3460097077455</td><td>4290.075367115365</td><td>3695.0738501771693</td><td>487.48687792677276</td><td>370.623134344322</td><td>285.6739329770669</td><td>349.9435543358396</td><td>133.33715960646322</td><td>160.94966736528644</td><td>365.0749520692267</td><td>129.3536734899633</td><td>44.627263414849814</td><td>122.27488847619426</td><td>126.81389665946475</td><td>0.15842455122650967</td><td>0.0023865369493974342</td><td>8.330042204749065</td><td>0.0017919830936862803</td><td>8.008545429505123</td><td>0.005547897816818634</td><td>--</td><td>8716.196081630229</td><td>--</td><td>159.01113714265628</td><td>0.0</td><td>0.0</td><td>0.0</td><td>-1.5629253830927519</td><td>7.456384974227426</td><td>559.0390994716179</td><td>3.0</td><td>9.0</td><td>0.507486888929703</td><td>1.1183816798074868</td><td>6.39732743859178e+37</td><td>0.04857396728707464</td><td>8.714273434258303</td><td>409.2412180191397</td><td>2.0637325498353203</td><td>80.71705518165116</td><td>0.7402571729018995</td><td>414.0302911349366</td><td>13.549604027285868</td><td>81.89670964472538</td><td>3.5145786541548096</td><td>2378.788812955283</td><td>140.41614614967074</td><td>326.4418633528156</td><td>20.50485300664068</td><td>1</td><td>1</td><td>379160.51765648933</td><td>3.682847043243491e+37</td><td>196</td><td>1329</td><td>5134.79</td><td>5459.65</td><td>353.59499542327904</td><td>-36.08392376562828</td><td>2.0</td><td>2</td><td>1.0</td><td>21.07806203806441</td><td>0.025635647913781957</td><td>21.337642741219035</td><td>0.026972425380372526</td><td>22.84581604661306</td><td>0.027067150481219614</td><td>22.317445150595596</td><td>0.020887373071662326</td><td>22.278753089036922</td><td>0.031111434585923362</td><td>0.0032843935061175004</td><td>7.762631064331719e-05</td><td>0.0035692987797874905</td><td>8.875899305809078e-05</td><td>0.0029969091752445162</td><td>7.478690861631039e-05</td><td>0.004328545029051139</td><td>8.335568530893967e-05</td><td>0.0029630485286171247</td><td>8.499008520974982e-05</td><td>1.89558274461469</td><td>1.0</td><td>1.0</td><td>5455.7231041761015</td><td>499.5428247460968</td><td>0.39</td><td>0.02999999999999997</td><td>7.272215335196794</td><td>0.0</td><td>0.0</td><td>65.79000000074848</td><td>66.6500000013807</td></tr>\n",
       "<tr><td>41.0</td><td>41</td><td>0</td><td>0.05966066722626582</td><td>0.15383495119999846</td><td>31026.53125</td><td>0.13470314886665977</td><td>0.1016980023937426</td><td>131.3436857280892</td><td>0.11704290305646999</td><td>41.670168805634994</td><td>36.294651747626006</td><td>0.22128530409306554</td><td>0.239711271219541</td><td>0.5781459149357037</td><td>0.4364878262739432</td><td>0.5073168706048234</td><td>0.2536584353024117</td><td>0.3172016750799984</td><td>0.23948049457639056</td><td>0.2783410848281945</td><td>0.13917054241409724</td><td>9</td><td>3</td><td>3</td><td>9.666112236815296</td><td>10.470989302856132</td><td>25.254380655456757</td><td>19.066518384759235</td><td>22.160449520107996</td><td>11.080224760053998</td><td>13.855899765217014</td><td>10.460908593052695</td><td>12.158404179134854</td><td>6.079202089567427</td><td>353.6256392572955</td><td>-36.09132344461524</td><td>5.112629788513752</td><td>40.0</td><td>35.0</td><td>353.6256620067545</td><td>-36.09133769010461</td><td>0</td><td>IC5332</td><td>114.69400593727147</td><td>613.0912852865172</td><td>353.6256619023958</td><td>-36.09129032508117</td><td>114.57142857142857</td><td>612.9591836734694</td><td>0.0</td><td>0.0</td><td>0.0</td><td>49.56840282465332</td><td>1.012197449459074</td><td>49.0</td><td>0.7898654169668589</td><td>19916.063776818755</td><td>4446.879168624094</td><td>64494.20060502048</td><td>16767.73080154411</td><td>11303.869874768981</td><td>8065.9255958615</td><td>4508.947377865798</td><td>799.009146070397</td><td>309.8899981261963</td><td>2479.5767084444333</td><td>14.25712837640455</td><td>268.7508904420579</td><td>7.28358208493869</td><td>278.23128745667987</td><td>115.39805445734696</td><td>79.86879736980084</td><td>192.00681697696248</td><td>101.32337626756377</td><td>82.41522599131072</td><td>76.7260830767119</td><td>121.25876268935191</td><td>64.70538295410788</td><td>70.47603513012339</td><td>139.71114266376358</td><td>68.17113909745495</td><td>21.76399277884952</td><td>61.64500783107092</td><td>57.921240676159236</td><td>19.51355276313961</td><td>19.605020529864134</td><td>18.268893478297244</td><td>30.73733506948756</td><td>33.38376119237095</td><td>38.90790265597392</td><td>0.39838176309055795</td><td>0.6940463150601677</td><td>3.1558999426348526</td><td>0.16899628066657332</td><td>0.2769316749830893</td><td>1.22321046258144</td><td>29639.206475444927</td><td>6517.686218475593</td><td>84771.99348796757</td><td>22018.668318203232</td><td>14754.934162231702</td><td>10521.827168574264</td><td>5286.915011854148</td><td>1063.2544449059617</td><td>425.4890780895721</td><td>3377.7096416659783</td><td>18.9610459040169</td><td>356.5402205919311</td><td>9.246827187452356</td><td>353.03971769828576</td><td>641.3432843193023</td><td>175.43540935974036</td><td>1241.2380290741553</td><td>341.5435294811196</td><td>232.52782909384794</td><td>177.55532526087276</td><td>148.87122143583707</td><td>87.56575999706986</td><td>97.02407902414936</td><td>198.03503190521738</td><td>90.66358828690811</td><td>29.35301484982541</td><td>78.26112905852754</td><td>73.62670256284504</td><td>0.11783813850256927</td><td>0.0061792819801078196</td><td>8.437094817844708</td><td>0.005721457262547932</td><td>7.256161431912845</td><td>0.02221274435883414</td><td>--</td><td>--</td><td>--</td><td>--</td><td>0.0</td><td>0.0</td><td>0.0</td><td>-1.9851445965074535</td><td>7.665494848525291</td><td>236.17612829404717</td><td>12.0</td><td>9.0</td><td>0.2723225826706286</td><td>0.6001348884086707</td><td>8.234039661858545e+36</td><td>0.06583801106438258</td><td>8.714273434258303</td><td>76.00982837319172</td><td>0.45521978978584493</td><td>14.983311966717864</td><td>0.25599162228190836</td><td>78.09187518096124</td><td>2.4975734921706225</td><td>19.147628233364955</td><td>0.7083971563075069</td><td>--</td><td>--</td><td>--</td><td>--</td><td>1</td><td>1</td><td>40781.66533433207</td><td>3.9611886945244e+36</td><td>160</td><td>1085</td><td>2886.19</td><td>4788.59</td><td>353.6256185553514</td><td>-36.091309191198214</td><td>2.0</td><td>2</td><td>0.7</td><td>21.867606473369847</td><td>0.04810305614817152</td><td>22.254147153193763</td><td>0.0510652082779905</td><td>23.949075427027</td><td>0.06327066151469099</td><td>23.8029769343384</td><td>0.056374037245102294</td><td>24.39094627101837</td><td>0.17431770474221764</td><td>0.0015872210358023864</td><td>7.039139028470254e-05</td><td>0.0015345503362968233</td><td>7.224631646844608e-05</td><td>0.0010848503393905526</td><td>6.328221431686323e-05</td><td>0.0011018671262567337</td><td>5.726876625750509e-05</td><td>0.0004235078762454485</td><td>6.806321405459066e-05</td><td>1.3034816813746648</td><td>3.0</td><td>2.0</td><td>409.0504432401062</td><td>388.5297038141752</td><td>0.11</td><td>0.06999999999999999</td><td>2.4858747751253767</td><td>0.0</td><td>0.0</td><td>43.19000000042274</td><td>37.589999999998895</td></tr>\n",
       "<tr><td>46.0</td><td>46</td><td>0</td><td>0.10293643423126302</td><td>0.2919724583999971</td><td>70646.5546875</td><td>0.24638139509298268</td><td>0.09593195042355453</td><td>63.106350443424574</td><td>0.1537395452684384</td><td>45.277382930780306</td><td>43.687847873926756</td><td>0.30485688445909276</td><td>0.3153305679743496</td><td>1.0574689477390815</td><td>0.41173993121789604</td><td>0.7346044394784887</td><td>0.3673022197392444</td><td>0.5801838478876455</td><td>0.22590247981630146</td><td>0.4030431638519735</td><td>0.20152158192598674</td><td>9</td><td>3</td><td>3</td><td>13.316658661201023</td><td>13.774166676955998</td><td>46.19201251382715</td><td>17.98548893177725</td><td>32.0887507228022</td><td>16.0443753614011</td><td>25.343400975741062</td><td>9.867798195766856</td><td>17.605599585753957</td><td>8.802799792876979</td><td>353.61594817515805</td><td>-36.09967316620167</td><td>6.7156005044812215</td><td>47.0</td><td>50.0</td><td>353.61592470681273</td><td>-36.09960369852954</td><td>0</td><td>IC5332</td><td>256.0712976127855</td><td>462.5942621572667</td><td>353.61594149980874</td><td>-36.09965113383212</td><td>256.1515151515151</td><td>462.59090909090907</td><td>0.0</td><td>0.0</td><td>0.0</td><td>6.914894533774207</td><td>0.9236263672153374</td><td>66.0</td><td>0.9166995688475083</td><td>28522.383186151794</td><td>2910.809042854687</td><td>94348.6321488093</td><td>31383.290729039967</td><td>14526.79369178191</td><td>9800.56871553857</td><td>3847.1861072620786</td><td>761.082372344914</td><td>0.0</td><td>4174.671663551538</td><td>68.74375802584989</td><td>255.9940224381714</td><td>0.0</td><td>181.24939472205236</td><td>243.73080283760498</td><td>157.65369374726777</td><td>259.90564924752874</td><td>160.73960037335078</td><td>137.53035434914122</td><td>128.5434183609534</td><td>188.2617134929426</td><td>118.01974439674726</td><td>138.9005858144894</td><td>265.4117119934444</td><td>122.14675117323857</td><td>39.696556106224314</td><td>114.45909570081191</td><td>118.39517574061823</td><td>16.032503047149717</td><td>21.057488100866152</td><td>1.0000000000004547</td><td>12.84667354075577</td><td>14.328226854060217</td><td>20.451816260495768</td><td>0.4818113979199548</td><td>0.7336577951939774</td><td>83.79470592838194</td><td>0.16452919056080087</td><td>0.2998961410914207</td><td>2.4623175766632044</td><td>45435.641214567295</td><td>4554.764187510233</td><td>129952.86905673133</td><td>43178.02305177162</td><td>19846.38174035854</td><td>13379.593763419947</td><td>4635.537216881289</td><td>1063.5351134694508</td><td>0.0</td><td>5995.706467815046</td><td>95.996309252393</td><td>356.4479269557854</td><td>0.0</td><td>239.547694491348</td><td>1362.0480472933248</td><td>276.94139979968975</td><td>2592.545890800616</td><td>878.4562977297251</td><td>425.85281115607194</td><td>311.22153014271976</td><td>233.023414811766</td><td>166.37641890710242</td><td>--</td><td>404.0361465754297</td><td>170.58168183988334</td><td>55.75136883965191</td><td>--</td><td>156.53091362110342</td><td>0.13800375003238904</td><td>0.008516549337210392</td><td>8.537659485337835</td><td>0.007657155981175935</td><td>6.960719034833804</td><td>0.038462343212517</td><td>--</td><td>--</td><td>--</td><td>--</td><td>0.0</td><td>0.0</td><td>0.0</td><td>-1.9289589759611145</td><td>8.594806997681662</td><td>150.00162472049328</td><td>26.0</td><td>9.0</td><td>0.03798956252421019</td><td>0.08372005598131424</td><td>1.262253055470868e+37</td><td>0.0769315043062111</td><td>8.714273434258303</td><td>23.871035520288903</td><td>0.1027606165182063</td><td>4.643498026877167</td><td>0.15647027230914792</td><td>25.76508326412924</td><td>0.38230149263312063</td><td>7.420252920795719</td><td>0.20719738785276712</td><td>--</td><td>--</td><td>--</td><td>--</td><td>1</td><td>1</td><td>97306.36535497202</td><td>9.451523648910079e+36</td><td>108</td><td>761</td><td>3598.3</td><td>4031.52</td><td>353.6159206232248</td><td>-36.099641998048305</td><td>5.0</td><td>2</td><td>0.8</td><td>21.8816397255764</td><td>0.05689507633856598</td><td>22.80565638977857</td><td>0.10028270287474068</td><td>23.74585262495652</td><td>0.06489613800947426</td><td>23.779475542288143</td><td>0.06339559128398456</td><td>23.85956766151121</td><td>0.15453334081972295</td><td>0.0015668380503880612</td><td>8.218797063667292e-05</td><td>0.0009233735798597909</td><td>8.537150502754484e-05</td><td>0.0013081542304532933</td><td>7.826854590252338e-05</td><td>0.0011259776836427837</td><td>6.581097163108156e-05</td><td>0.000690896408988474</td><td>9.843387721109262e-05</td><td>1.3531059559892977</td><td>6.0</td><td>0.0</td><td>205.0379841237886</td><td>26.011447164557637</td><td>0.0</td><td>0.03</td><td>2.5426736386439104</td><td>0.0</td><td>0.0</td><td>47.300000000887735</td><td>46.52000000060937</td></tr>\n",
       "<tr><td>57.0</td><td>57</td><td>0</td><td>0.10253749243806586</td><td>0.2872632251999971</td><td>103620.203125</td><td>0.2864623791603003</td><td>0.08218965592279989</td><td>52.19081593311825</td><td>0.15344133855650413</td><td>55.81817614647703</td><td>52.64939872806726</td><td>0.302388367035175</td><td>0.32469885899806544</td><td>1.229496531356009</td><td>0.35275800322065715</td><td>0.791127267288333</td><td>0.3955636336441665</td><td>0.6745673525939313</td><td>0.19354184926120588</td><td>0.4340546009275686</td><td>0.2170273004637843</td><td>9</td><td>3</td><td>3</td><td>13.20882969092251</td><td>14.18338929963998</td><td>53.706465124607</td><td>15.409059655094273</td><td>34.55776238985064</td><td>17.27888119492532</td><td>29.46623034090871</td><td>8.454231722016235</td><td>18.96023103146247</td><td>9.480115515731235</td><td>353.6155047304478</td><td>-36.09638294767277</td><td>6.702574336479953</td><td>61.0</td><td>59.0</td><td>353.6154341481253</td><td>-36.096313058718145</td><td>0</td><td>IC5332</td><td>263.03383896264313</td><td>522.6497810362575</td><td>353.61546307202775</td><td>-36.096314689122096</td><td>263.4</td><td>522.8090909090909</td><td>0.0</td><td>1.0</td><td>0.0</td><td>19.2429237693751</td><td>0.4223226163672449</td><td>110.0</td><td>1.1834540545406398</td><td>59176.23098381946</td><td>36704.439666447804</td><td>214742.98048383818</td><td>71703.0529574961</td><td>27182.041350782267</td><td>19789.141810990448</td><td>21820.84761184445</td><td>1989.8968565916994</td><td>410.46536049855996</td><td>11598.60599419354</td><td>452.14362579342793</td><td>669.3121783736796</td><td>0.0</td><td>471.06717575955184</td><td>303.7013037123728</td><td>222.06706482486237</td><td>359.04165280215926</td><td>208.69998330950406</td><td>175.04967127005008</td><td>167.5784896341751</td><td>291.43780106348885</td><td>137.75170547486297</td><td>185.3555696675823</td><td>356.75470501265994</td><td>141.19133207037916</td><td>46.33350405105351</td><td>150.3291272569331</td><td>155.1809025925457</td><td>17.881102046030183</td><td>24.554310278642873</td><td>1.0000000000004547</td><td>10.625323942061106</td><td>12.705325778042463</td><td>17.66495415321305</td><td>0.2516689030531155</td><td>0.3774440698294422</td><td>7.967856721116733</td><td>0.09720098025210233</td><td>0.17838649126535233</td><td>0.45257975439815745</td><td>126789.32121332566</td><td>76375.88353792747</td><td>362649.13173270697</td><td>120867.61382976476</td><td>45295.844560785285</td><td>32936.66882321276</td><td>29604.959954381535</td><td>3440.800315698</td><td>753.6385362797415</td><td>20975.22270757464</td><td>780.9372422024928</td><td>1150.5739540295451</td><td>0.0</td><td>743.5302084174702</td><td>2284.8219350353047</td><td>1350.2517691975256</td><td>4350.268071537828</td><td>1473.3506451499454</td><td>600.0386272233654</td><td>471.68691507382306</td><td>445.26808452288293</td><td>241.9910881575583</td><td>340.48201509994135</td><td>703.9882138393104</td><td>244.0558775506261</td><td>80.89291282306739</td><td>--</td><td>245.0575862278195</td><td>0.22585495584145174</td><td>0.0051200340757385715</td><td>8.563381148246993</td><td>0.004519696483870207</td><td>7.688755205029404</td><td>0.013080093824460683</td><td>--</td><td>--</td><td>--</td><td>--</td><td>0.0</td><td>0.0</td><td>0.0</td><td>-1.705106955735276</td><td>8.21474825818369</td><td>190.42566906840682</td><td>26.0</td><td>9.0</td><td>0.1057182075756524</td><td>0.23297805155922433</td><td>3.522469168369282e+37</td><td>0.1285127810223159</td><td>8.714273434258303</td><td>57.119476175086334</td><td>0.18982744152839887</td><td>11.155778520891689</td><td>0.1755583680949019</td><td>59.17806559385781</td><td>1.003990909072465</td><td>14.416206116809947</td><td>0.3889382807690223</td><td>--</td><td>--</td><td>--</td><td>--</td><td>1</td><td>1</td><td>174989.54614759167</td><td>1.6997015844673052e+37</td><td>137</td><td>894</td><td>3633.94</td><td>4333.68</td><td>353.6154349655646</td><td>-36.09631658046207</td><td>2.0</td><td>2</td><td>0.8</td><td>21.742287890606477</td><td>0.04199737379805656</td><td>21.967117923939124</td><td>0.041470460065523254</td><td>23.387939164825337</td><td>0.04220042349304317</td><td>23.239243808451306</td><td>0.03640041440082348</td><td>23.200520164192206</td><td>0.07694030459577045</td><td>0.001781413928940678</td><td>6.897575141368839e-05</td><td>0.00199890811187274</td><td>7.64260029334985e-05</td><td>0.00181896496437905</td><td>7.07702298586147e-05</td><td>0.0018519210860910974</td><td>6.214958991852704e-05</td><td>0.0012677450816235142</td><td>8.992807530184863e-05</td><td>1.4375442886377554</td><td>2.0</td><td>2.0</td><td>1760.0507965551444</td><td>1120.987800650223</td><td>0.32</td><td>0.1</td><td>0.5050304004237848</td><td>0.0</td><td>0.0</td><td>60.94000000001415</td><td>58.68000000083805</td></tr>\n",
       "<tr><td>84.0</td><td>84</td><td>0</td><td>0.37516223034404944</td><td>1.4410253591999855</td><td>591424.5</td><td>0.37662466912547177</td><td>0.22872435433054436</td><td>-171.2438223448537</td><td>0.29350167677660455</td><td>84.27490113904265</td><td>82.77597105392756</td><td>0.6772684977724148</td><td>0.729823993814636</td><td>1.6164730798865248</td><td>0.9816849287866963</td><td>1.2990790043366105</td><td>0.6495395021683052</td><td>0.8868833203098098</td><td>0.5386046943643272</td><td>0.7127440073370686</td><td>0.3563720036685343</td><td>9</td><td>3</td><td>3</td><td>29.58422088063372</td><td>31.879932859735415</td><td>70.61024807775877</td><td>42.881639798598805</td><td>56.74594393817878</td><td>28.37297196908939</td><td>38.74054696135005</td><td>23.527153998494263</td><td>31.13385047992216</td><td>15.56692523996108</td><td>353.60336123404113</td><td>-36.11416642890505</td><td>12.820644195255664</td><td>90.0</td><td>82.0</td><td>353.6032832381574</td><td>-36.11417496427325</td><td>0</td><td>IC5332</td><td>438.8392806503721</td><td>201.57479114992947</td><td>353.6033713136816</td><td>-36.11415087395252</td><td>438.7</td><td>201.35</td><td>0.0</td><td>1.0</td><td>0.0</td><td>60.06000194647933</td><td>4.020092577560075</td><td>220.0</td><td>1.6736567743768012</td><td>209442.87787594344</td><td>170695.92215710419</td><td>720151.2165407337</td><td>142039.1145403073</td><td>91596.59393659659</td><td>64575.15725749861</td><td>79577.25700090895</td><td>6576.531979258447</td><td>1660.9487850689598</td><td>24474.58499160802</td><td>1992.2004669938315</td><td>2212.050805849792</td><td>3947.1300795706497</td><td>4200.524042110942</td><td>326.3762820236449</td><td>259.69666088461486</td><td>557.27293061357</td><td>222.87966795894903</td><td>189.88019064863607</td><td>170.91452570638208</td><td>264.9213354264384</td><td>112.07083136193731</td><td>127.67454867809627</td><td>242.01688902855244</td><td>112.26315965097213</td><td>37.69560820327419</td><td>108.89214929635087</td><td>115.45431117118132</td><td>15.154280879685816</td><td>23.204518149108985</td><td>15.461520684013744</td><td>-31.223798364541786</td><td>-31.823402023439602</td><td>-28.705144093160065</td><td>0.10537416880456547</td><td>0.15254401814952293</td><td>0.35150206205872264</td><td>0.03813417613142468</td><td>0.07262339660981866</td><td>0.10663821772855164</td><td>377632.2591234247</td><td>300887.3891630294</td><td>1080101.2362211135</td><td>212732.30524585643</td><td>135969.0381018407</td><td>95768.16014972403</td><td>100758.61592888147</td><td>10045.592170207976</td><td>2657.617231629897</td><td>38704.09462996617</td><td>3040.4175108864583</td><td>3363.6161598499903</td><td>5622.862903687052</td><td>5979.134684005836</td><td>2183.5218552337196</td><td>1674.8874852385572</td><td>4219.286781080614</td><td>877.6569796402956</td><td>580.4083407895723</td><td>437.4405766096657</td><td>403.6968350441217</td><td>175.84361470539807</td><td>204.62741123632293</td><td>417.7977087663291</td><td>171.76126453046354</td><td>58.84586671103204</td><td>156.25615267449024</td><td>165.54605492965229</td><td>0.174715854309173</td><td>0.0016503847769289994</td><td>8.41600837739866</td><td>0.001448110418741404</td><td>7.790074738906125</td><td>0.0037123621898237946</td><td>9359.513389455888</td><td>7438.069781911642</td><td>284.3662067952178</td><td>135.92363911116098</td><td>0.0</td><td>0.0</td><td>0.0</td><td>-1.5321591302492414</td><td>7.904802234421652</td><td>303.1760159049459</td><td>9.0</td><td>9.0</td><td>0.3299621112087471</td><td>0.7271588453935022</td><td>1.049119650480962e+38</td><td>0.06675903801825278</td><td>8.714273434258303</td><td>188.4373508074086</td><td>0.3840231953694493</td><td>35.26573990826863</td><td>0.1384717681443205</td><td>189.67865026566454</td><td>2.2927538970714734</td><td>37.722421283048135</td><td>0.5174173536596794</td><td>1191.7373270408189</td><td>26.780624777537945</td><td>148.9825833408512</td><td>3.38625247572344</td><td>1</td><td>1</td><td>887033.6103158159</td><td>8.615900013009411e+37</td><td>39</td><td>255</td><td>4524.79</td><td>2709.1</td><td>353.60329972052443</td><td>-36.114195875808804</td><td>2.0</td><td>2</td><td>1.0</td><td>20.111140108103896</td><td>0.015294955269356402</td><td>20.528284220398834</td><td>0.016470770496624397</td><td>22.052650329927474</td><td>0.01597214505374814</td><td>22.03291527680737</td><td>0.017428248218875817</td><td>21.903116342247234</td><td>0.023943517469712072</td><td>0.008002468194968797</td><td>0.00011284482070176938</td><td>0.007521878461966383</td><td>0.0001142219816399573</td><td>0.006222141280711577</td><td>9.162470229378063e-05</td><td>0.005625406222975756</td><td>9.038931367395895e-05</td><td>0.004187872615826318</td><td>9.244658601309858e-05</td><td>1.5837299446741206</td><td>1.0</td><td>0.0</td><td>5419.298435260207</td><td>899.044420946977</td><td>0.23</td><td>0.04000000000000001</td><td>1.4244504275804453</td><td>0.0</td><td>0.0</td><td>88.78999999963526</td><td>80.1000000007898</td></tr>\n",
       "<tr><td>92.0</td><td>92</td><td>0</td><td>0.41305551620587133</td><td>1.1678898335999883</td><td>340638.875</td><td>0.3704196713109832</td><td>0.2560450880045341</td><td>-150.23499286597914</td><td>0.3079677537331324</td><td>81.95912035858741</td><td>81.32990597341916</td><td>0.6097137689181855</td><td>0.6820471136012708</td><td>1.5898412292667399</td><td>1.0989455177154603</td><td>1.3443933734911</td><td>0.67219668674555</td><td>0.8722716670768789</td><td>0.6029401056647904</td><td>0.7376058863708346</td><td>0.3688029431854173</td><td>9</td><td>3</td><td>3</td><td>26.633317322402046</td><td>29.792958813446997</td><td>69.44692429437426</td><td>48.00377847014745</td><td>58.72535138226085</td><td>29.362675691130423</td><td>38.10228550655622</td><td>26.337432380877996</td><td>32.21985894371711</td><td>16.109929471858553</td><td>353.597892187017</td><td>-36.093887652943096</td><td>13.452546634784126</td><td>83.0</td><td>84.0</td><td>353.59787801509873</td><td>-36.09385826559535</td><td>0</td><td>IC5332</td><td>519.1334875601981</td><td>566.9315995222132</td><td>353.5978558386675</td><td>-36.093852271345106</td><td>519.5176991150443</td><td>566.712389380531</td><td>0.0</td><td>1.0</td><td>0.0</td><td>58.49920407335473</td><td>5.47764325535952</td><td>226.0</td><td>1.6963258446128409</td><td>169156.90859660358</td><td>256871.6287861006</td><td>530511.2450846385</td><td>95516.48538369492</td><td>65963.85808024507</td><td>46002.233702376216</td><td>50430.891055034095</td><td>6713.603776620725</td><td>1850.43716538923</td><td>23942.41463593378</td><td>1166.12170969153</td><td>2258.1556192637313</td><td>2316.603529220529</td><td>3027.5655214412404</td><td>418.67600065390315</td><td>418.74174705005026</td><td>558.8584885698518</td><td>247.80103477432746</td><td>235.17544597738097</td><td>214.17477307580214</td><td>306.1018266840005</td><td>161.62837833266912</td><td>185.50621841465704</td><td>353.3531864971519</td><td>164.02012260497622</td><td>54.36454740379595</td><td>146.91626232573014</td><td>153.5686897167329</td><td>16.320136418790128</td><td>22.292979035708466</td><td>20.499387305075285</td><td>-22.765885376760984</td><td>-23.3575758000642</td><td>-22.088639986605017</td><td>0.15100231535844386</td><td>0.2909327607159414</td><td>0.4046677225426498</td><td>0.05637617163434491</td><td>0.12896462401880252</td><td>0.13591062466951204</td><td>227210.51060069024</td><td>341144.3935825325</td><td>649844.0369543437</td><td>116918.95140249052</td><td>80385.58277250963</td><td>56033.57151248273</td><td>56754.209380512126</td><td>8299.337339951006</td><td>2341.270684248572</td><td>30115.855227751632</td><td>1440.9276657853522</td><td>2785.2032269312535</td><td>2765.4890349498814</td><td>3612.792331331141</td><td>2035.2337846282603</td><td>2878.374824762788</td><td>3907.3826152635716</td><td>753.4702853778784</td><td>545.1650513038431</td><td>414.8077420201698</td><td>396.1450250025751</td><td>206.29647870844406</td><td>235.26186332315993</td><td>488.0366025837638</td><td>202.86794005883146</td><td>69.18611717182807</td><td>175.96535748206637</td><td>184.1978356854527</td><td>0.08745138045235581</td><td>0.0025515877960024277</td><td>8.391469617199402</td><td>0.0022183483177779665</td><td>7.757879696036958</td><td>0.006273682988401289</td><td>11363.28972149467</td><td>7047.6179846869745</td><td>513.8324769789762</td><td>305.60952734178795</td><td>0.0</td><td>0.0</td><td>0.0</td><td>-1.7645002135660384</td><td>7.798674111236921</td><td>289.90606455991497</td><td>8.0</td><td>9.0</td><td>0.3213872836247379</td><td>0.7082619432534507</td><td>6.312039335330515e+37</td><td>0.03894630519463149</td><td>8.714273434258303</td><td>155.2666286392196</td><td>0.5173868765367275</td><td>34.44405087678704</td><td>0.2439332649038172</td><td>157.48386177449302</td><td>3.1944665127961613</td><td>36.79263663424237</td><td>0.9385323790450453</td><td>1359.9821610528675</td><td>70.34886290510259</td><td>152.41051243554938</td><td>6.277861890220289</td><td>1</td><td>1</td><td>417261.92182461586</td><td>4.0529321052412664e+37</td><td>150</td><td>1007</td><td>4922.69</td><td>4557.9</td><td>353.5978822388348</td><td>-36.09384836103683</td><td>2.0</td><td>2</td><td>1.0</td><td>21.430382954019066</td><td>0.03543562521435381</td><td>21.840887658233658</td><td>0.03869879809292475</td><td>23.278289842393278</td><td>0.04227134320233846</td><td>23.014975283211015</td><td>0.03262071543467927</td><td>22.774010435022177</td><td>0.04560503516958875</td><td>0.002374252032142404</td><td>7.756689034948475e-05</td><td>0.0022453545975982163</td><td>8.011094900478366e-05</td><td>0.002012259855119626</td><td>7.842229975760858e-05</td><td>0.0022768262336208857</td><td>6.847512461643095e-05</td><td>0.0018777415919280828</td><td>7.895108155892634e-05</td><td>1.5812074694981821</td><td>8.0</td><td>5.0</td><td>563.3182489468802</td><td>1192.8076274672517</td><td>0.0</td><td>0.31</td><td>2.6371163836782787</td><td>0.0</td><td>0.0</td><td>82.69000000201595</td><td>84.9000000016099</td></tr>\n",
       "<tr><td>114.0</td><td>114</td><td>0</td><td>0.06439169347701439</td><td>0.17424162839999824</td><td>38642.3984375</td><td>0.14605850826113864</td><td>0.10122902423512288</td><td>45.666931632785605</td><td>0.12159506680993559</td><td>49.9851619581736</td><td>54.86222156449101</td><td>0.2355054838097869</td><td>0.2616373962153048</td><td>0.626883117456807</td><td>0.4344749720171474</td><td>0.5306790447369772</td><td>0.2653395223684886</td><td>0.3439415030006478</td><td>0.23837613540779112</td><td>0.2911588192042195</td><td>0.14557940960210974</td><td>9</td><td>3</td><td>3</td><td>10.287273473585472</td><td>11.428759119501338</td><td>27.38330318652214</td><td>18.978593543829188</td><td>23.180948365175666</td><td>11.590474182587833</td><td>15.023940177721858</td><td>10.412668337256274</td><td>12.718304257489068</td><td>6.359152128744534</td><td>353.6054632457906</td><td>-36.11312005752548</td><td>5.311475915877254</td><td>48.0</td><td>53.0</td><td>353.60549028871844</td><td>-36.11314055342625</td><td>0</td><td>IC5332</td><td>409.48052618312875</td><td>220.24184990273136</td><td>353.60539054447406</td><td>-36.11311411918936</td><td>409.63917525773195</td><td>220.05154639175257</td><td>0.0</td><td>0.0</td><td>0.0</td><td>53.718820506044906</td><td>3.9669540148505806</td><td>97.0</td><td>1.1113245963232832</td><td>32919.701700011945</td><td>14622.570541118961</td><td>109242.64725050682</td><td>24955.879616688686</td><td>19105.70963471869</td><td>13411.523232034328</td><td>9261.150290562624</td><td>1863.5950361056027</td><td>61.833620397162086</td><td>3987.333429885884</td><td>212.23026514972346</td><td>626.8299028114662</td><td>294.62451975574015</td><td>586.0011868797694</td><td>148.20279628961552</td><td>110.93062358017136</td><td>195.41463951608617</td><td>102.84285533720197</td><td>98.99226461627343</td><td>90.20749459656636</td><td>121.00910401103849</td><td>69.9792641168186</td><td>81.35764141187144</td><td>147.84368690255488</td><td>68.5197308160034</td><td>23.537890193584783</td><td>63.752577405348134</td><td>69.41751951452677</td><td>16.235001472946923</td><td>20.99274136842562</td><td>8.516931399112028</td><td>-32.61187228344117</td><td>-32.67747651057584</td><td>-27.87813883624813</td><td>0.27592808112177714</td><td>0.466329303309777</td><td>2.878422040971991</td><td>0.09931677338788023</td><td>0.19591872463623766</td><td>0.5095364521443885</td><td>52979.045262717584</td><td>23106.971734822968</td><td>151528.3335006038</td><td>34576.247500822945</td><td>26281.39768547314</td><td>18434.715859959917</td><td>11204.651527872846</td><td>2623.3767849795295</td><td>90.3660246646345</td><td>5772.323201203331</td><td>298.5458095202537</td><td>879.1658939878738</td><td>392.028401716985</td><td>779.2408745766741</td><td>855.2922022813939</td><td>386.52971478644776</td><td>1638.0288108899545</td><td>393.99746261760157</td><td>305.1266747898985</td><td>227.78445672522727</td><td>162.0826455053174</td><td>102.75442167854919</td><td>118.90442598780797</td><td>225.0540356556067</td><td>96.44433092662153</td><td>34.406192086489064</td><td>84.90782189956705</td><td>92.59181037554856</td><td>0.14103215219621032</td><td>0.004595175391562037</td><td>8.403923214395718</td><td>0.004323231882311814</td><td>7.387963148315954</td><td>0.012247236124406691</td><td>--</td><td>--</td><td>--</td><td>--</td><td>0.0</td><td>0.0</td><td>0.0</td><td>-2.0294787999252204</td><td>7.7734304412450514</td><td>303.1760159049459</td><td>14.0</td><td>9.0</td><td>0.29512445639967794</td><td>0.6503848522996292</td><td>1.4718190013030614e+37</td><td>0.04137243810308533</td><td>8.714273434258303</td><td>63.34977602075962</td><td>0.22238700984998025</td><td>12.512120799247866</td><td>0.16078681989340102</td><td>65.497937735586</td><td>1.184895810767599</td><td>15.438225789720846</td><td>0.3678145416443472</td><td>915.7038688990488</td><td>71.55581664395017</td><td>147.77492332891504</td><td>14.997363644685862</td><td>1</td><td>1</td><td>53600.11300599039</td><td>5.2062651175212686e+36</td><td>41</td><td>275</td><td>4367.02</td><td>2803.63</td><td>353.6054491457361</td><td>-36.11315562933173</td><td>2.0</td><td>2</td><td>0.4</td><td>22.025988302934124</td><td>0.053852294092924635</td><td>22.80331300745365</td><td>0.08192497878522134</td><td>23.8685795908834</td><td>0.05975332219468393</td><td>23.756716203639833</td><td>0.05158321581820728</td><td>23.782265969860568</td><td>0.10955631429573817</td><td>0.0013717806699363195</td><td>6.810803500000422e-05</td><td>0.0009253686815418971</td><td>6.989411294858604e-05</td><td>0.0011683370890114614</td><td>6.43635045200159e-05</td><td>0.001149829690206522</td><td>5.4682881934161086e-05</td><td>0.0007418799124717299</td><td>7.493427126622477e-05</td><td>1.3537616282192224</td><td>6.0</td><td>1.0</td><td>195.05059579455403</td><td>44.93843442981</td><td>0.0</td><td>0.07</td><td>1.7219082845449933</td><td>0.0</td><td>0.0</td><td>51.020000000846494</td><td>51.629999999015126</td></tr>\n",
       "<tr><td>125.0</td><td>125</td><td>0</td><td>0.19712576161033207</td><td>0.6561531591999934</td><td>176578.546875</td><td>0.23467614049471391</td><td>0.192875254207588</td><td>67.00359550709648</td><td>0.21275154583309985</td><td>69.24712578605224</td><td>60.988208941328196</td><td>0.45701207579678305</td><td>0.4699489347741134</td><td>1.0072299950033121</td><td>0.8278205910589677</td><td>0.9175252930311399</td><td>0.45876264651556997</td><td>0.5526200797274516</td><td>0.45418651479846817</td><td>0.5034032972629598</td><td>0.2517016486314799</td><td>9</td><td>3</td><td>3</td><td>19.963051935766018</td><td>20.52815557597041</td><td>43.997491021339016</td><td>36.16058815074974</td><td>40.07903958604438</td><td>20.03951979302219</td><td>24.13936947533046</td><td>19.839626704914753</td><td>21.989498090122602</td><td>10.994749045061301</td><td>353.61086791846844</td><td>-36.082237185741846</td><td>9.293343401212974</td><td>67.0</td><td>60.0</td><td>353.6108985195045</td><td>-36.082248061420565</td><td>0</td><td>IC5332</td><td>329.38116783278645</td><td>777.180479369624</td><td>353.61090348029205</td><td>-36.08217374264077</td><td>329.62857142857143</td><td>777.6785714285714</td><td>0.0</td><td>1.0</td><td>0.0</td><td>77.26246601044778</td><td>0.11710830712004593</td><td>140.0</td><td>1.3351162356249093</td><td>78175.94150118675</td><td>52008.31909021796</td><td>276116.6177837446</td><td>59370.25028092034</td><td>38174.28136089374</td><td>26523.937752301375</td><td>27491.138204476523</td><td>3257.885495988673</td><td>623.1035517923127</td><td>8512.7418908373</td><td>686.2998204768606</td><td>1095.8067655561977</td><td>985.6978051466667</td><td>2029.9170255620686</td><td>236.9079692163802</td><td>174.09987565305144</td><td>366.5611717213071</td><td>172.27938377512294</td><td>156.63068079645882</td><td>141.2412853621098</td><td>222.04924210036248</td><td>103.37995409164492</td><td>112.12788753048571</td><td>238.12193402694686</td><td>105.49291710499185</td><td>34.77238633954356</td><td>99.2310920750235</td><td>99.72174991428216</td><td>18.766793739593993</td><td>19.6218363205849</td><td>1.0000000000004547</td><td>16.56343609683094</td><td>17.285141861868567</td><td>22.174436914200044</td><td>0.17283230121232254</td><td>0.34877742087241626</td><td>9.703243561575349</td><td>0.07270665420450693</td><td>0.1411533330298125</td><td>0.2456576878134829</td><td>153602.06404805044</td><td>99573.12633721063</td><td>439335.91317344585</td><td>94312.24236888335</td><td>60026.339333444885</td><td>41662.46043818314</td><td>36026.95135403497</td><td>5293.403564116279</td><td>1067.715608839701</td><td>14392.211070123858</td><td>1113.9853753022612</td><td>1771.2468948911537</td><td>1478.5053222367358</td><td>3042.05075027321</td><td>1691.6887640488578</td><td>1067.2466204085547</td><td>3251.566288977371</td><td>736.9895267806205</td><td>492.01378099661645</td><td>369.05629708298096</td><td>328.6362343668177</td><td>172.73346054028943</td><td>192.34748126781045</td><td>419.6576827480382</td><td>171.44239345816965</td><td>57.76559552138341</td><td>149.1388398665466</td><td>150.68399413226274</td><td>0.20018610393157768</td><td>0.003138323785713899</td><td>8.428865087735536</td><td>0.0028972485191162797</td><td>7.64066889574785</td><td>0.007985600735471618</td><td>--</td><td>7494.929622045766</td><td>--</td><td>374.00783199025204</td><td>0.0</td><td>0.0</td><td>0.0</td><td>-1.726532242469231</td><td>7.7315654603383415</td><td>285.364855464138</td><td>13.0</td><td>9.0</td><td>0.42447028930700575</td><td>0.9354326299635636</td><td>4.267340173452993e+37</td><td>0.11570011096659094</td><td>8.714273434258303</td><td>189.08307880978535</td><td>0.9157989306034933</td><td>37.131938874539166</td><td>0.3468391754060135</td><td>192.0403441533778</td><td>5.808393821124396</td><td>40.910874472851866</td><td>1.4277064398078658</td><td>3760.2771803779337</td><td>645.563489738389</td><td>473.4447556035528</td><td>81.67870843411464</td><td>1</td><td>1</td><td>280958.4506750949</td><td>2.728994584505986e+37</td><td>201</td><td>1346</td><td>3968.54</td><td>5613.86</td><td>353.61087754793505</td><td>-36.082227591164475</td><td>-9999.0</td><td>2</td><td>0.8</td><td>22.075227174804418</td><td>0.05172783624357143</td><td>22.429422111511403</td><td>0.06069004188759102</td><td>23.8240492153453</td><td>0.05565263931032466</td><td>23.837592417904585</td><td>0.052541427229761746</td><td>23.264608942247133</td><td>0.0657679068868962</td><td>0.0013109590623498896</td><td>6.252056661951051e-05</td><td>0.001305783436490568</td><td>7.306309335592037e-05</td><td>0.001217251487301282</td><td>6.245619785614863e-05</td><td>0.0010672914561483137</td><td>5.1700454551237677e-05</td><td>0.0011950784718932274</td><td>7.24636000424727e-05</td><td>1.305328694267138</td><td>8.0</td><td>0.0</td><td>316.7279702505932</td><td>66.92376766079218</td><td>0.0</td><td>0.05</td><td>1.1560129629989742</td><td>0.0</td><td>0.0</td><td>68.5400000000705</td><td>61.86000000072863</td></tr>\n",
       "<tr><td>141.0</td><td>141</td><td>1</td><td>0.8580478389611297</td><td>3.4848325679999648</td><td>1724684.375</td><td>0.4604239425076506</td><td>0.427913183622314</td><td>48.68600513823076</td><td>0.44387101173019405</td><td>105.00986116029141</td><td>106.62472983065764</td><td>1.0532125417453193</td><td>1.1196695448683998</td><td>1.9761395612428363</td><td>1.8366033841069715</td><td>1.906371472674904</td><td>0.953185736337452</td><td>1.084215529029193</td><td>1.0076585423268343</td><td>1.0459370356780138</td><td>0.5229685178390069</td><td>9</td><td>3</td><td>3</td><td>46.006085580135</td><td>48.90903864221415</td><td>86.3210816139452</td><td>80.22590798811707</td><td>83.27349480103113</td><td>41.63674740051557</td><td>47.360347924806774</td><td>44.01621068528114</td><td>45.68827930504396</td><td>22.84413965252198</td><td>353.61213822703144</td><td>-36.11117477982253</td><td>19.389028275679635</td><td>99.0</td><td>107.0</td><td>353.61222009834626</td><td>-36.11117064859361</td><td>0</td><td>IC5332</td><td>311.8160026420307</td><td>255.42913035948322</td><td>353.6121071152969</td><td>-36.11116003771137</td><td>312.7368421052632</td><td>254.85872576177286</td><td>0.0</td><td>1.0</td><td>0.0</td><td>40.49670073765432</td><td>3.608923487209427</td><td>361.0</td><td>2.1439204174814743</td><td>670732.9656813912</td><td>403637.6965689545</td><td>2061934.131662812</td><td>565175.9161769903</td><td>357997.6719495085</td><td>253712.86080848315</td><td>179085.33721807296</td><td>21313.633822328527</td><td>4864.465450460259</td><td>74585.31067475997</td><td>4694.588134919795</td><td>7168.951815480322</td><td>8841.920712804776</td><td>9495.932040682506</td><td>631.0187439864435</td><td>415.6812949151323</td><td>909.7241965686384</td><td>387.7871426384048</td><td>341.2592353100124</td><td>296.2978239445497</td><td>427.46101812711754</td><td>157.8231982638484</td><td>173.8990270452215</td><td>355.0249027882286</td><td>153.41483608423863</td><td>53.084655256356335</td><td>146.40223814514445</td><td>150.92593789684344</td><td>27.791802585857177</td><td>30.501543112059192</td><td>27.10660268756049</td><td>-8.187337756304304</td><td>-3.4011694849510192</td><td>-12.313306822000355</td><td>0.03733861213559714</td><td>0.053432053131257214</td><td>0.16097063417187416</td><td>0.023021123871467288</td><td>0.032616697792674246</td><td>0.07857756713666068</td><td>845103.884789435</td><td>504082.26131181524</td><td>2417061.131674918</td><td>662148.3319548088</td><td>417961.94403718435</td><td>296101.2479755864</td><td>196444.65115573475</td><td>25164.146252481118</td><td>5848.737817993527</td><td>89265.38948883269</td><td>5540.817509293603</td><td>8449.074434746963</td><td>10157.618064333736</td><td>10905.588414814887</td><td>2920.7042259508216</td><td>1693.5400272299148</td><td>5629.245740545804</td><td>1575.8160047595945</td><td>1013.0992401203357</td><td>743.6254327574798</td><td>536.9078884628914</td><td>195.80019352330825</td><td>209.6600626747098</td><td>483.54034332950243</td><td>181.55041723100223</td><td>65.67556974936971</td><td>169.40516594833508</td><td>174.6864905267133</td><td>0.06849344552912343</td><td>0.0009856660146878417</td><td>8.462650102054404</td><td>0.0009669442919976025</td><td>7.456119500565659</td><td>0.0023718010167947377</td><td>8292.82790415238</td><td>7280.788930992429</td><td>100.15959794896264</td><td>74.32990177120686</td><td>0.0</td><td>0.0</td><td>0.0</td><td>-1.3974204798701553</td><td>7.812408228929087</td><td>196.39040181141883</td><td>23.0</td><td>9.0</td><td>0.22248379019855388</td><td>0.4903019180199193</td><td>2.3477302354784027e+38</td><td>0.07236424301777689</td><td>8.714273434258303</td><td>246.54016346714033</td><td>0.2960889337156112</td><td>48.10356092175337</td><td>0.10393820304327446</td><td>247.7938620426452</td><td>1.8069111697430993</td><td>49.973750380083274</td><td>0.41549412671465846</td><td>823.0586537888504</td><td>5.761608538520286</td><td>104.90185903158893</td><td>0.6594400240366114</td><td>1</td><td>1</td><td>2021726.8355986702</td><td>1.9637357667805022e+38</td><td>55</td><td>340</td><td>3877.62</td><td>2983.79</td><td>353.61211629232105</td><td>-36.111172961237216</td><td>2.0</td><td>2</td><td>0.6</td><td>18.193667041802215</td><td>0.007456893739954613</td><td>18.87146623916314</td><td>0.009023048801210194</td><td>20.53488013375751</td><td>0.009604935723647175</td><td>20.729835860821304</td><td>0.011762727393047833</td><td>20.94834261379272</td><td>0.017992706533332098</td><td>0.04679647960320856</td><td>0.00032172188203907363</td><td>0.03459819995891055</td><td>0.00028781688823452124</td><td>0.025179548968742388</td><td>0.00022297279213541409</td><td>0.018680377814197405</td><td>0.00020258307112524398</td><td>0.01009027388102178</td><td>0.00016738206207441773</td><td>1.6974788669779546</td><td>1.0</td><td>1.0</td><td>9687.451233989954</td><td>1201.6104157051304</td><td>0.03</td><td>0.020000000000000004</td><td>0.37681385887564844</td><td>0.0</td><td>0.0</td><td>106.6199999994934</td><td>106.78999999802136</td></tr>\n",
       "<tr><td>154.0</td><td>154</td><td>0</td><td>0.21386513221690928</td><td>0.6074910827999939</td><td>178574.625</td><td>0.36510396538234746</td><td>0.13450099560507356</td><td>92.05174914003277</td><td>0.22160064720863532</td><td>68.32403894783845</td><td>64.50634316421211</td><td>0.43973903331832376</td><td>0.479422542439082</td><td>1.5670262194210351</td><td>0.5772782731369757</td><td>1.0721522462790054</td><td>0.5360761231395027</td><td>0.8597541362026376</td><td>0.31672564052744684</td><td>0.5882398883650423</td><td>0.29411994418252113</td><td>9</td><td>3</td><td>3</td><td>19.20853654690022</td><td>20.941978605712265</td><td>68.45032650060536</td><td>25.216480610344274</td><td>46.83340355547482</td><td>23.41670177773741</td><td>37.55549881932402</td><td>13.835105779676832</td><td>25.69530229950043</td><td>12.847651149750215</td><td>353.6189726058071</td><td>-36.11108774867683</td><td>9.67988695159221</td><td>68.0</td><td>72.0</td><td>353.61897701118926</td><td>-36.1110052765117</td><td>0</td><td>IC5332</td><td>211.9540465057925</td><td>257.464227177994</td><td>353.6189743777694</td><td>-36.1110473737332</td><td>212.20833333333334</td><td>257.3888888888889</td><td>0.0</td><td>0.0</td><td>0.0</td><td>42.59433244027329</td><td>3.0697028697201274</td><td>144.0</td><td>1.3540550005146152</td><td>75961.50731743437</td><td>46985.892300055726</td><td>241959.67766996927</td><td>62601.42600644953</td><td>31604.863162881058</td><td>22002.73557725081</td><td>21397.790087721638</td><td>2237.8192434240104</td><td>237.5553862913216</td><td>10320.165074794255</td><td>699.1634962148962</td><td>752.7021652710683</td><td>407.2628404032934</td><td>888.7480733436299</td><td>208.93164111551607</td><td>152.5334495846381</td><td>318.491366626652</td><td>156.12892955512862</td><td>125.5880198210213</td><td>114.56588240594448</td><td>159.00625758052894</td><td>95.4819182587209</td><td>106.27076124359844</td><td>239.19442708524133</td><td>100.0752738420124</td><td>32.115840825289084</td><td>79.89809779231139</td><td>82.68553652256062</td><td>17.905012376369196</td><td>22.470156113887683</td><td>13.237528121083058</td><td>3.8399342335976394</td><td>4.703150311435305</td><td>8.219555151564768</td><td>0.17829186998580387</td><td>0.2896840214956646</td><td>0.9727470301871859</td><td>0.07079988082737389</td><td>0.13044957408218108</td><td>0.2460658557660029</td><td>107230.24718742481</td><td>65455.54323629508</td><td>306690.6258157145</td><td>79283.3307918103</td><td>39819.08276796417</td><td>27706.21089377524</td><td>24564.737301265817</td><td>2866.981947156942</td><td>312.7188108563764</td><td>13492.616657417624</td><td>895.276904577558</td><td>961.7729510828083</td><td>500.9014424280679</td><td>1092.5884902646633</td><td>1087.1939868203685</td><td>649.9664089880791</td><td>2097.2809028151855</td><td>565.8480982560625</td><td>304.71045377557044</td><td>231.27401514974832</td><td>206.23212560200906</td><td>123.96806769139839</td><td>139.91639558476146</td><td>329.0535061245008</td><td>128.2992017113932</td><td>41.57534766400612</td><td>98.31221072199354</td><td>101.85043655488123</td><td>0.1021826302419286</td><td>0.0028924188241767315</td><td>8.489345157436611</td><td>0.002477436626425958</td><td>7.65997419707647</td><td>0.007389569635282621</td><td>--</td><td>7916.967434078529</td><td>--</td><td>393.69540157367845</td><td>0.0</td><td>0.0</td><td>0.0</td><td>-1.8948629029560975</td><td>7.839335899138041</td><td>330.4134768006866</td><td>9.0</td><td>9.0</td><td>0.23400791545168545</td><td>0.5156983781848132</td><td>2.9789352272873576e+37</td><td>0.10345934845683225</td><td>8.714273434258303</td><td>93.87882810608353</td><td>0.2608714130510549</td><td>19.454997290020895</td><td>0.1358464364519292</td><td>95.42002199482589</td><td>1.4415099781396108</td><td>23.147620020018664</td><td>0.40907196327364714</td><td>1103.5926578319113</td><td>56.00199560476791</td><td>127.95371571230382</td><td>5.543138219605425</td><td>1</td><td>1</td><td>226348.30738516038</td><td>2.198557486282986e+37</td><td>57</td><td>351</td><td>3374.3</td><td>2997.55</td><td>353.61897292607466</td><td>-36.111021234855805</td><td>1.0</td><td>1</td><td>0.8</td><td>20.83215448657454</td><td>0.022106237644314058</td><td>21.29790255932977</td><td>0.025533391019102524</td><td>22.928746975115565</td><td>0.027623223119998576</td><td>22.9097500210554</td><td>0.025212287778729074</td><td>22.662745328294264</td><td>0.0406919460282564</td><td>0.004119250521626125</td><td>8.395421451021382e-05</td><td>0.003702362822234198</td><td>8.715592875733447e-05</td><td>0.002776522581546399</td><td>7.071068169863482e-05</td><td>0.002508533999207137</td><td>5.830982124567044e-05</td><td>0.0020803761615992827</td><td>7.80476428598482e-05</td><td>1.4334023317064015</td><td>1.0</td><td>2.0</td><td>2358.388508191735</td><td>1034.2580044138015</td><td>0.21</td><td>0.04999999999999999</td><td>4.4847495038884535</td><td>0.0</td><td>0.0</td><td>68.29999999983693</td><td>70.54999999984022</td></tr>\n",
       "<tr><td>171.0</td><td>171</td><td>0</td><td>0.057592652007177066</td><td>0.15540469559999842</td><td>36126.703125</td><td>0.13713881297781969</td><td>0.09642924258026808</td><td>108.62668164704587</td><td>0.11499648631070512</td><td>40.330645533672815</td><td>37.873971538297816</td><td>0.22241144522902173</td><td>0.23656394075552475</td><td>0.588599785300802</td><td>0.41387430915451057</td><td>0.5012370472276563</td><td>0.25061852361382814</td><td>0.3229372257519203</td><td>0.22707351335516723</td><td>0.27500536955354377</td><td>0.13750268477677188</td><td>9</td><td>3</td><td>3</td><td>9.715303965381551</td><td>10.333508643504555</td><td>25.71102319967045</td><td>18.078722130319985</td><td>21.894872664995216</td><td>10.947436332497608</td><td>14.106438212684008</td><td>9.918950899585772</td><td>12.012694556134889</td><td>6.0063472780674445</td><td>353.6262192485567</td><td>-36.10803443289568</td><td>5.02323888192403</td><td>40.0</td><td>37.0</td><td>353.6262237546397</td><td>-36.10804405084737</td><td>0</td><td>IC5332</td><td>106.6439602323134</td><td>312.22661326621153</td><td>353.6262161351236</td><td>-36.10800501309954</td><td>106.83018867924528</td><td>312.20754716981133</td><td>0.0</td><td>0.0</td><td>0.0</td><td>45.22202861765225</td><td>2.475316037204058</td><td>53.0</td><td>0.8214724333230157</td><td>21108.773534436863</td><td>2843.954332862197</td><td>71782.55639409985</td><td>18769.59229900244</td><td>17506.619373607235</td><td>12485.581782732888</td><td>3130.1811292350926</td><td>1741.0531819315652</td><td>77.67949556627548</td><td>3622.8636860629017</td><td>384.50177384969004</td><td>585.6123115139676</td><td>0.0</td><td>326.0611683337332</td><td>195.76645541976424</td><td>127.79082862632396</td><td>234.43020701646682</td><td>132.40913168704765</td><td>121.87351766820878</td><td>112.33567023266923</td><td>162.86257753940038</td><td>94.11170774959399</td><td>125.50255359256522</td><td>277.4107902947374</td><td>96.04851490068835</td><td>31.654963379477643</td><td>104.45494320525923</td><td>103.93467606872144</td><td>28.896191230496452</td><td>30.143865682975434</td><td>9.502661627560421</td><td>25.99391689183788</td><td>27.187610516184158</td><td>31.207692125351734</td><td>0.3734326231011884</td><td>0.5798284357567731</td><td>10.63325206908177</td><td>0.2111147960178362</td><td>0.31954895283215456</td><td>2.6370108027544332</td><td>36736.499875944166</td><td>4845.3419156723385</td><td>105073.0625538303</td><td>27437.780134439785</td><td>25378.365529185652</td><td>18083.788898664952</td><td>3907.596375937403</td><td>2592.661477947452</td><td>120.83357728178309</td><td>5573.7112072062955</td><td>572.1058969118104</td><td>868.3499912955717</td><td>0.0</td><td>454.3899904416934</td><td>1205.1565662493956</td><td>262.48791938876667</td><td>2299.3655422130187</td><td>622.4927701843449</td><td>563.5806780620417</td><td>413.7775482867004</td><td>209.1863783044266</td><td>151.91501600729237</td><td>195.2478084140905</td><td>448.0471591239592</td><td>143.49403628752492</td><td>50.79963327804221</td><td>--</td><td>145.09351001428908</td><td>0.16422709842886077</td><td>0.009326722860225432</td><td>8.36125553719402</td><td>0.009824241505898106</td><td>6.640134909557939</td><td>0.040784063595414026</td><td>--</td><td>--</td><td>--</td><td>--</td><td>0.0</td><td>0.0</td><td>0.0</td><td>-1.9259853913947966</td><td>7.975321049535989</td><td>273.8963849758219</td><td>10.0</td><td>9.0</td><td>0.2484441483888031</td><td>0.5475124383989722</td><td>1.0205915053584112e+37</td><td>-0.019118343881435962</td><td>8.714273434258303</td><td>71.02743778237675</td><td>0.5100518580508525</td><td>12.81596826705362</td><td>0.34963098060243236</td><td>73.07204693698264</td><td>2.8331971426021796</td><td>15.378052493164677</td><td>0.8199330408252443</td><td>682.5937749199354</td><td>78.26965492930508</td><td>65.09678546556115</td><td>6.503437092413065</td><td>1</td><td>1</td><td>52881.13892846519</td><td>5.136430009901193e+36</td><td>64</td><td>454</td><td>2844.57</td><td>3266.43</td><td>353.6261887487853</td><td>-36.108061334150605</td><td>-9999.0</td><td>2</td><td>0.7</td><td>21.143043229678675</td><td>0.027644099831602466</td><td>21.64326221211859</td><td>0.03363738457869403</td><td>23.30876766543669</td><td>0.04189099140074959</td><td>23.356516494149773</td><td>0.04018904906260735</td><td>23.420456687558836</td><td>0.07087794128358879</td><td>0.0030935896645944553</td><td>7.884508462850621e-05</td><td>0.002693612477531431</td><td>8.353467717146115e-05</td><td>0.001956558933545499</td><td>7.556540864236859e-05</td><td>0.0016623153006991443</td><td>6.159289188719478e-05</td><td>0.0010352788099462157</td><td>6.765157040774101e-05</td><td>1.3449918421977038</td><td>1.0</td><td>2.0</td><td>1117.1448458311775</td><td>519.859524495258</td><td>0.12</td><td>0.06</td><td>0.7890468683560118</td><td>0.0</td><td>0.0</td><td>42.569999997943114</td><td>35.429999999160486</td></tr>\n",
       "<tr><td>189.0</td><td>189</td><td>0</td><td>0.04259533259961198</td><td>0.1711021395999983</td><td>86689.703125</td><td>0.11358388051572048</td><td>0.08610876809624356</td><td>51.78555781362957</td><td>0.09889675437950232</td><td>68.84345606132734</td><td>57.85300038353536</td><td>0.2333741686260039</td><td>0.24689906779653872</td><td>0.48750201517347225</td><td>0.3695788326690773</td><td>0.4285404239212748</td><td>0.2142702119606374</td><td>0.26746959863081887</td><td>0.20277065316595583</td><td>0.23512012589838735</td><td>0.11756006294919367</td><td>9</td><td>3</td><td>3</td><td>10.194174061209624</td><td>10.784964280694862</td><td>21.294903489653315</td><td>16.14382162237058</td><td>18.719362556011948</td><td>9.359681278005974</td><td>11.683519476802223</td><td>8.857361314017314</td><td>10.27044039540977</td><td>5.135220197704885</td><td>353.61431956664006</td><td>-36.09933023968585</td><td>4.319975660412511</td><td>68.0</td><td>57.0</td><td>353.61433105564214</td><td>-36.099339627059564</td><td>0</td><td>IC5332</td><td>278.17032348217833</td><td>469.0103158225662</td><td>353.6144220642098</td><td>-36.099294594058144</td><td>277.6470588235294</td><td>469.03361344537814</td><td>0.0</td><td>1.0</td><td>0.0</td><td>7.328683062417608</td><td>0.20871323678145834</td><td>119.0</td><td>1.2309163489997377</td><td>59299.783030295344</td><td>20758.696106807103</td><td>197182.39600973195</td><td>77268.83433694665</td><td>38105.680391452195</td><td>26325.526926837323</td><td>12238.9208559973</td><td>4192.669776202762</td><td>1540.053811830462</td><td>11112.94188631155</td><td>257.3780744102011</td><td>1410.2263299808587</td><td>0.0</td><td>334.7314419482947</td><td>335.50567202383456</td><td>226.35390062577886</td><td>391.6419985709376</td><td>256.9711628343547</td><td>217.25573993206228</td><td>205.38236869451222</td><td>311.5248240003377</td><td>186.17730400979573</td><td>219.6347730887786</td><td>386.6046655528905</td><td>186.95796812070753</td><td>62.621706495867755</td><td>188.65253093797568</td><td>192.883298504193</td><td>24.35279460959443</td><td>34.67264554938873</td><td>21.22285628205397</td><td>4.782896949514618</td><td>5.44398939824316</td><td>10.766947631618983</td><td>0.2566358181670195</td><td>0.35025815742496985</td><td>2.6312803140998535</td><td>0.1238690165846384</td><td>0.20996641917619752</td><td>0.9438810834437186</td><td>96053.57467407951</td><td>33008.338842047015</td><td>274728.41059412766</td><td>107531.6676365329</td><td>52645.29879119612</td><td>36342.56324096166</td><td>14845.759948921954</td><td>5929.537004356681</td><td>2262.344970270631</td><td>16169.016175426297</td><td>363.7408299001965</td><td>1987.052464984669</td><td>0.0</td><td>446.84213380793034</td><td>1921.739706640095</td><td>707.5250752198906</td><td>3666.208153750315</td><td>1458.5707802690492</td><td>740.5891504468646</td><td>545.7135491212914</td><td>394.7172578962456</td><td>275.7101112704429</td><td>324.49628310681544</td><td>612.0502102566129</td><td>264.2666890274132</td><td>92.30697458651024</td><td>--</td><td>257.5363969449597</td><td>0.14295140100828066</td><td>0.0056879081920938514</td><td>8.55596705520878</td><td>0.005909662509905984</td><td>7.091169908248124</td><td>0.020813644887295372</td><td>11622.941290660858</td><td>--</td><td>825.7616130786269</td><td>--</td><td>0.0</td><td>0.0</td><td>0.0</td><td>-1.859844300361271</td><td>8.551906919500087</td><td>156.28737004256726</td><td>28.0</td><td>9.0</td><td>0.04026286475664778</td><td>0.08872987914105274</td><td>2.668481105605343e+37</td><td>0.09610704839622741</td><td>8.714273434258303</td><td>24.787886431074853</td><td>0.0770339557477628</td><td>4.248901334815815</td><td>0.09730457754780869</td><td>26.70130834988358</td><td>0.2840511733370683</td><td>7.342825036322458</td><td>0.1292775730493889</td><td>--</td><td>--</td><td>--</td><td>--</td><td>1</td><td>1</td><td>120782.20386992652</td><td>1.1731769572110098e+37</td><td>109</td><td>770</td><td>3715.43</td><td>4059.44</td><td>353.61432519846267</td><td>-36.099334784803574</td><td>2.0</td><td>2</td><td>0.7</td><td>21.45013243637422</td><td>0.035235054017613295</td><td>21.76240242673863</td><td>0.03716139140296789</td><td>23.32714840654628</td><td>0.04139546497404613</td><td>23.211250162405037</td><td>0.04064840013885354</td><td>23.176280559688287</td><td>0.09596276320768278</td><td>0.002331454935612033</td><td>7.57375809943607e-05</td><td>0.00241367631782749</td><td>8.269522986195237e-05</td><td>0.001923714583660468</td><td>7.341805338791862e-05</td><td>0.0019002902279278292</td><td>7.121522569166917e-05</td><td>0.0012963664296197033</td><td>0.00011469381106453924</td><td>1.3959810764115836</td><td>1.0</td><td>1.0</td><td>1832.7882084668192</td><td>79.39437862986574</td><td>0.25</td><td>0.03999999999999998</td><td>0.9437125868041997</td><td>0.0</td><td>0.0</td><td>68.43000000007851</td><td>57.439999999797806</td></tr>\n",
       "<tr><td>195.0</td><td>195</td><td>0</td><td>1.382113562470642</td><td>5.301026838799946</td><td>2327270.75</td><td>0.681865586358559</td><td>0.46542212079151746</td><td>155.26193778398434</td><td>0.563342992587777</td><td>130.88386361193062</td><td>124.4747326201847</td><td>1.2989877788938704</td><td>1.3764920238257141</td><td>2.926567096650935</td><td>1.997591742437193</td><td>2.462079419544064</td><td>1.231039709772032</td><td>1.6056707507739165</td><td>1.095985339440681</td><td>1.3508280451072987</td><td>0.6754140225536494</td><td>9</td><td>3</td><td>3</td><td>56.741959058242934</td><td>60.12747412175456</td><td>127.837346184098</td><td>87.2581487725575</td><td>107.54774747832775</td><td>53.773873739163875</td><td>70.13838427257099</td><td>47.87447293147976</td><td>59.00642860202537</td><td>29.503214301012687</td><td>353.60609267278943</td><td>-36.08826279694088</td><td>24.607764245775332</td><td>122.0</td><td>131.0</td><td>353.60621366487777</td><td>-36.08819098707635</td><td>0</td><td>IC5332</td><td>399.32669717837024</td><td>668.9100618231823</td><td>353.6060940197335</td><td>-36.08818820606752</td><td>398.561797752809</td><td>670.1685393258427</td><td>0.0</td><td>1.0</td><td>0.0</td><td>58.76315559372497</td><td>6.068124214544024</td><td>534.0</td><td>2.607508229878819</td><td>928028.2535784582</td><td>751326.870068419</td><td>3073181.8760074386</td><td>698158.6988005122</td><td>414983.0649297999</td><td>293341.1148777546</td><td>334982.0962441715</td><td>36200.13822958268</td><td>6370.976234808123</td><td>106113.46338113009</td><td>10204.6183667894</td><td>12176.105156209018</td><td>16802.574797164423</td><td>19012.55975932435</td><td>803.3428084839376</td><td>603.4805063491016</td><td>1309.2647645361399</td><td>523.8277856481476</td><td>428.3223516004906</td><td>373.1654343876161</td><td>609.8855806407378</td><td>224.47348330314796</td><td>249.64597384688238</td><td>492.8502091706964</td><td>214.76633783901627</td><td>75.50282598772186</td><td>201.1898456069616</td><td>206.18949766863722</td><td>17.305303933353986</td><td>21.86759565475626</td><td>12.880376299951873</td><td>0.6772403953311258</td><td>0.7569533153788576</td><td>5.119557527548108</td><td>0.04956203863385703</td><td>0.07114946909349193</td><td>0.19888140212663938</td><td>0.02070084986812256</td><td>0.033394742592933804</td><td>0.053694366475146686</td><td>1483540.7353675512</td><td>1179641.1742380713</td><td>4243154.6576327</td><td>962864.3131693453</td><td>568284.158947106</td><td>401407.77053109504</td><td>404194.11942988494</td><td>50714.02653917022</td><td>9261.175133944338</td><td>152818.5572806283</td><td>14286.092924375069</td><td>16996.54373789867</td><td>22267.81812937301</td><td>25180.87886276075</td><td>4757.359009183054</td><td>3628.53187826148</td><td>9188.909074498939</td><td>2161.5703251330265</td><td>1314.0807415418876</td><td>973.3465695241387</td><td>889.4973930616975</td><td>334.00167067036733</td><td>363.613754330844</td><td>798.9824656401196</td><td>302.32478669360705</td><td>111.80369793796348</td><td>269.8049619550852</td><td>277.02671217860257</td><td>0.13904617937006125</td><td>0.0009151822690732782</td><td>8.446421545148796</td><td>0.0008318631788568301</td><td>7.759279949837298</td><td>0.0020228802653071655</td><td>8532.60171275798</td><td>7835.703353486206</td><td>115.84616772408599</td><td>54.8376910908694</td><td>0.0</td><td>0.0</td><td>0.0</td><td>-1.3230533080605889</td><td>7.913502125788263</td><td>294.1862520453795</td><td>11.0</td><td>9.0</td><td>0.3228374001431445</td><td>0.7114576588140882</td><td>4.121444159185258e+38</td><td>0.094451905125986</td><td>8.714273434258303</td><td>346.42764403180286</td><td>0.5397958104743966</td><td>76.96205810246056</td><td>0.21189045327770117</td><td>350.25528581618187</td><td>3.4682344570979695</td><td>78.87014519616275</td><td>0.9795333955809601</td><td>2267.171378830385</td><td>42.81988711823663</td><td>373.3085943400298</td><td>8.315877644336885</td><td>1</td><td>1</td><td>3213272.146217403</td><td>3.1211028764220525e+38</td><td>179</td><td>1223</td><td>4296.21</td><td>5079.74</td><td>353.6064150922077</td><td>-36.08810581101063</td><td>3.0</td><td>2</td><td>0.4</td><td>20.83326512943275</td><td>0.020492413605855048</td><td>21.262571111233367</td><td>0.025811162265859746</td><td>22.771750799910713</td><td>0.026852576686366925</td><td>22.627815695972977</td><td>0.02581103530141416</td><td>22.478404340998928</td><td>0.04196496848648232</td><td>0.004115038930479571</td><td>7.774572608709129e-05</td><td>0.003824824878056228</td><td>9.10182706095928e-05</td><td>0.0032084825382016516</td><td>7.943192880360903e-05</td><td>0.0032523233833176603</td><td>7.7394234541838e-05</td><td>0.002465348182519454</td><td>9.538380163667165e-05</td><td>1.3138805171594545</td><td>1.0</td><td>0.0</td><td>3399.602252051476</td><td>514.6647470062348</td><td>0.27</td><td>0.04000000000000001</td><td>2.2352102123822917</td><td>0.0</td><td>0.0</td><td>107.2099999990877</td><td>138.7399999999459</td></tr>\n",
       "<tr><td>204.0</td><td>204</td><td>0</td><td>1.263263042469691</td><td>5.1471918875999485</td><td>2855426.0</td><td>0.5970594188440767</td><td>0.4858232570186595</td><td>148.7773230583992</td><td>0.5385771546366382</td><td>123.62412283319331</td><td>121.86213860527296</td><td>1.2800008062138362</td><td>1.3365264500388143</td><td>2.562579025678777</td><td>2.0851534191240866</td><td>2.3238662224014317</td><td>1.1619331112007159</td><td>1.405967487568561</td><td>1.1440263439697622</td><td>1.2749969157691616</td><td>0.6374984578845808</td><td>9</td><td>3</td><td>3</td><td>55.91257633120305</td><td>58.38171100650301</td><td>111.93773838457116</td><td>91.08298927865494</td><td>101.51036383161305</td><td>50.755181915806524</td><td>61.415011682995925</td><td>49.97298436969145</td><td>55.693998026343685</td><td>27.846999013171843</td><td>353.5934837230782</td><td>-36.09479471561096</td><td>23.525951017121848</td><td>129.0</td><td>118.0</td><td>353.59341049438757</td><td>-36.094837210242616</td><td>0</td><td>IC5332</td><td>583.3844601049857</td><td>550.9306693199347</td><td>353.5934381049537</td><td>-36.09474022637523</td><td>583.752</td><td>552.194</td><td>1.0</td><td>0.0</td><td>0.0</td><td>68.46540193577238</td><td>5.3415695659277755</td><td>500.0</td><td>2.5231325220201604</td><td>1156944.6805730588</td><td>1861323.9325408647</td><td>3666427.5453947843</td><td>519587.08650568983</td><td>266184.6041155749</td><td>188455.84915923656</td><td>418072.656003047</td><td>18103.796108583985</td><td>5560.519819146892</td><td>158138.67649511795</td><td>13196.091284928743</td><td>6089.306171890475</td><td>17808.08085576874</td><td>16755.088986386312</td><td>1165.358894074176</td><td>1162.9276305113854</td><td>1860.8609382834006</td><td>596.177502829371</td><td>489.2776674145746</td><td>440.9116196503187</td><td>838.7932347358783</td><td>302.65423416189867</td><td>374.21860769802606</td><td>767.6719461138568</td><td>329.83223575949773</td><td>101.7993289902879</td><td>292.19657860821485</td><td>298.8890051329007</td><td>22.772765271981605</td><td>26.060005265351336</td><td>29.609145163531874</td><td>-21.66641574474233</td><td>-22.090838181245548</td><td>-19.287641629689062</td><td>0.04767209022028762</td><td>0.1144405189063414</td><td>0.10114663585606752</td><td>0.025219066792372718</td><td>0.0595218754697272</td><td>0.04964624673437458</td><td>1606700.8159817492</td><td>2552537.160001582</td><td>4595337.305869508</td><td>650713.5651199337</td><td>331712.10981497366</td><td>234726.6329285399</td><td>476817.17730567214</td><td>22922.72258836076</td><td>7225.068316849548</td><td>204139.19525867415</td><td>16700.56017079745</td><td>7690.744251803631</td><td>21688.612831929648</td><td>20397.2356290242</td><td>6021.340149564322</td><td>9002.840949496567</td><td>11642.72053422448</td><td>1774.3193648734684</td><td>1007.801673733897</td><td>788.9756315786956</td><td>1178.9975283897331</td><td>387.80201239589974</td><td>486.68594424208345</td><td>1144.6763896379914</td><td>419.6584114611087</td><td>130.07792321434925</td><td>358.9585264912681</td><td>366.52293760829104</td><td>0.0973361654878856</td><td>0.0010699086635514172</td><td>--</td><td>--</td><td>8.272087740679186</td><td>0.002443888415287971</td><td>8969.36073004761</td><td>7810.71963706926</td><td>221.134418050853</td><td>67.56278000459749</td><td>0.0</td><td>0.0</td><td>0.0</td><td>-1.259853522035287</td><td>7.805489492379403</td><td>264.31786658426455</td><td>11.0</td><td>9.0</td><td>0.3761403235986268</td><td>0.8289247587001894</td><td>4.4635248127694924e+38</td><td>--</td><td>8.714273434258303</td><td>478.29588726900266</td><td>1.2193695781457403</td><td>109.72387045182465</td><td>0.470381284724062</td><td>483.83270388158644</td><td>7.985151185656323</td><td>111.36955602743582</td><td>2.2969791048030297</td><td>1935.3483775881516</td><td>35.280091350353516</td><td>301.36843953688543</td><td>5.865301472406212</td><td>1</td><td>0</td><td>3578864.019399807</td><td>3.476208138305751e+38</td><td>145</td><td>972</td><td>5250.91</td><td>4470.74</td><td>353.5934117267296</td><td>-36.09480705519557</td><td>1.0</td><td>2</td><td>0.8</td><td>18.131574436471094</td><td>0.004536979745266382</td><td>18.729513169345474</td><td>0.005785548301318015</td><td>20.380413839594404</td><td>0.00647633803169665</td><td>20.390091709906514</td><td>0.006897276158478856</td><td>20.473156682246408</td><td>0.010791091579513407</td><td>0.04955074920824755</td><td>0.0002072652662804268</td><td>0.03943072226558722</td><td>0.00021032394484145266</td><td>0.029029159670922105</td><td>0.0001733298797185492</td><td>0.025543671243541486</td><td>0.00016243155197264225</td><td>0.015630660386503178</td><td>0.00015550779671523132</td><td>1.3952678792778537</td><td>1.0</td><td>2.0</td><td>16994.523844788546</td><td>5340.95795667299</td><td>0.12</td><td>0.0</td><td>1.92170636373737</td><td>0.0</td><td>0.0</td><td>128.91000000262352</td><td>120.73999999940668</td></tr>\n",
       "<tr><td>208.0</td><td>208</td><td>0</td><td>0.08457291295383237</td><td>0.15069546239999848</td><td>30352.09765625</td><td>0.2401390842024441</td><td>0.08086684575125147</td><td>-149.52955031833844</td><td>0.1393531136395805</td><td>67.91319329999165</td><td>49.54995741552811</td><td>0.2190156512328679</td><td>0.25289749039207493</td><td>1.03067694939689</td><td>0.3470805019643713</td><td>0.6888787256806306</td><td>0.3444393628403153</td><td>0.5654843290752903</td><td>0.19042686935347283</td><td>0.3779555992143816</td><td>0.1889777996071908</td><td>9</td><td>3</td><td>3</td><td>9.56697000332991</td><td>11.046985413503197</td><td>45.0216932100415</td><td>15.161056903204168</td><td>30.091375056622834</td><td>15.045687528311417</td><td>24.701301405461212</td><td>8.31816418907736</td><td>16.509732797269287</td><td>8.254866398634643</td><td>353.5986822033948</td><td>-36.09762719986986</td><td>6.087177106091759</td><td>64.0</td><td>46.0</td><td>353.5987354972</td><td>-36.09766627432472</td><td>0</td><td>IC5332</td><td>505.78117414937736</td><td>501.36315610995666</td><td>353.59877274175903</td><td>-36.09749514674415</td><td>505.8474576271187</td><td>501.4830508474576</td><td>0.0</td><td>0.0</td><td>0.0</td><td>49.39269214362844</td><td>5.26050927248403</td><td>118.0</td><td>1.2257335203001882</td><td>44365.23498460968</td><td>18944.05313468679</td><td>141224.9467760512</td><td>47332.29508112072</td><td>72075.19218215266</td><td>50292.9276790962</td><td>2878.719904341891</td><td>16524.442819032804</td><td>1432.7654401052862</td><td>4289.6142643664</td><td>746.4213240936671</td><td>5558.082461902959</td><td>2130.1027764224086</td><td>2612.061972570332</td><td>256.9808107162772</td><td>214.45954552768907</td><td>304.75217691343505</td><td>188.9261001827383</td><td>225.57194362594853</td><td>202.43758097387766</td><td>220.87045994732657</td><td>156.6881795566179</td><td>155.30553959164837</td><td>262.81455262896475</td><td>150.03229827178626</td><td>52.70288579885169</td><td>113.75503854844881</td><td>119.3800464665115</td><td>52.52196582892095</td><td>52.37411677247871</td><td>62.679844864115076</td><td>-31.92977173141385</td><td>-33.932696620961515</td><td>-28.814726597709072</td><td>0.21768314644441492</td><td>0.23295359823491824</td><td>2.2057946322841966</td><td>0.1692739785874451</td><td>0.18093945724926355</td><td>1.462124389178459</td><td>62498.254869242046</td><td>26338.29798986282</td><td>178752.0299076889</td><td>59860.37624582242</td><td>90681.9667590199</td><td>63242.143279569056</td><td>3302.0438647532173</td><td>21138.831326692303</td><td>1882.9884596958957</td><td>5599.24020207127</td><td>954.3731152273429</td><td>7091.457092164281</td><td>2616.607718355197</td><td>3207.178902835506</td><td>1288.2742602460319</td><td>583.0500776256166</td><td>2462.0309133075934</td><td>845.9010123945234</td><td>1235.2305077455119</td><td>874.3105665206372</td><td>254.6963157311264</td><td>361.2377362626834</td><td>206.2577127333162</td><td>353.69697318507144</td><td>192.30832180191513</td><td>120.2892870335851</td><td>143.14919106325186</td><td>151.4247687213739</td><td>0.10156933915420013</td><td>0.0058633961107883645</td><td>--</td><td>--</td><td>--</td><td>--</td><td>14296.430014745927</td><td>--</td><td>951.1291903928931</td><td>--</td><td>0.0</td><td>2.0</td><td>3.0</td><td>-2.042831937530702</td><td>7.417542777517788</td><td>486.78317903490534</td><td>4.0</td><td>9.0</td><td>0.27135725024648777</td><td>0.5980075229108937</td><td>1.736247129904463e+37</td><td>--</td><td>8.714273434258303</td><td>59.10739273530565</td><td>0.25278686123693844</td><td>10.899576238049155</td><td>0.19620214054558974</td><td>60.70966014285912</td><td>1.361982758242009</td><td>14.355914430081235</td><td>0.43536915851238606</td><td>414.5720372446225</td><td>18.930374044728012</td><td>53.90472184406664</td><td>2.993497457591467</td><td>0</td><td>0</td><td>38417.426891402065</td><td>3.731546414972608e+36</td><td>126</td><td>845</td><td>4855.65</td><td>4213.25</td><td>353.59879475006124</td><td>-36.097641517580456</td><td>2.0</td><td>2</td><td>1.0</td><td>24.998131211149207</td><td>0.7509648162555072</td><td>23.95432941005775</td><td>0.2351250214255616</td><td>23.379725360736003</td><td>0.04285892431848166</td><td>22.924626520619192</td><td>0.03099094313218312</td><td>22.072338936419694</td><td>0.025718449645075008</td><td>8.880297503315627e-05</td><td>6.14832149429792e-05</td><td>0.0003205591929089982</td><td>6.94890776138923e-05</td><td>0.0018327779687957468</td><td>7.242034433252556e-05</td><td>0.002474397064397339</td><td>7.069906133078184e-05</td><td>0.0035834753833344926</td><td>8.496864122021694e-05</td><td>1.756568616020555</td><td>577.0</td><td>174.0</td><td>20992.905526649913</td><td>4693.654178538738</td><td>0.13</td><td>0.15999999999999998</td><td>0.60794792110588</td><td>0.0</td><td>0.0</td><td>59.64999999989175</td><td>48.24999999992667</td></tr>\n",
       "<tr><td>209.0</td><td>209</td><td>0</td><td>0.1786371253999829</td><td>0.5305736071999947</td><td>131622.796875</td><td>0.26141400482269256</td><td>0.15690794530664282</td><td>-150.97468802056375</td><td>0.20252884824416867</td><td>87.09269390699797</td><td>72.14564863764652</td><td>0.4109584218871218</td><td>0.43973903331832376</td><td>1.1219889086989965</td><td>0.6734489012561109</td><td>0.8977189049775537</td><td>0.44885945248877684</td><td>0.6155829386082937</td><td>0.36948997483270235</td><td>0.49253645672049806</td><td>0.24626822836024903</td><td>9</td><td>3</td><td>3</td><td>17.951351296942697</td><td>19.20853654690022</td><td>49.01035233404038</td><td>29.4173745155881</td><td>39.21386342481424</td><td>19.60693171240712</td><td>26.88969247209405</td><td>16.139940163441164</td><td>21.514816317767608</td><td>10.757408158883804</td><td>353.62167013104556</td><td>-36.09044507530032</td><td>8.846798870555519</td><td>83.0</td><td>69.0</td><td>353.6217258754361</td><td>-36.090479689703535</td><td>0</td><td>IC5332</td><td>171.50217308444908</td><td>630.0490383753678</td><td>353.62175634321795</td><td>-36.09034826705398</td><td>171.22549019607843</td><td>629.9754901960785</td><td>0.0</td><td>1.0</td><td>0.0</td><td>46.87601406070111</td><td>0.7672066341295452</td><td>204.0</td><td>1.6116478124142795</td><td>117974.8945863047</td><td>58251.34483559152</td><td>386748.9811830455</td><td>98329.66937818335</td><td>54129.509972807966</td><td>37660.98424480322</td><td>36290.94286452021</td><td>3959.4417510304474</td><td>989.033809686945</td><td>15925.107240472198</td><td>1210.4434173874251</td><td>1331.7788682097766</td><td>194.09867336961042</td><td>1671.541322181617</td><td>305.80980361435167</td><td>214.99153861586936</td><td>389.7849055606562</td><td>194.62172303516442</td><td>169.5630895655236</td><td>152.70206442052836</td><td>233.76234353349</td><td>110.89895523672176</td><td>138.5621428995637</td><td>278.3025912594296</td><td>113.37230268202225</td><td>37.301441561142</td><td>109.37424368000683</td><td>108.1609254732344</td><td>17.669444047056825</td><td>18.877035755228004</td><td>3.10580089364645</td><td>22.81108678542339</td><td>24.59917286978168</td><td>26.242638296957118</td><td>0.13820181066919054</td><td>0.25494957231629156</td><td>2.1874144531327824</td><td>0.05540953834286874</td><td>0.0999631452664943</td><td>0.23903438887934386</td><td>182593.93218983867</td><td>88659.27723380734</td><td>522244.7918855268</td><td>132639.72240564384</td><td>72536.9582169301</td><td>50433.230351533806</td><td>43225.994701684474</td><td>5419.519476657105</td><td>1401.117589637831</td><td>22365.09468208068</td><td>1655.7353094217294</td><td>1816.7752590039452</td><td>252.28731699170928</td><td>2171.3865627857663</td><td>1692.756274782756</td><td>826.4051073609263</td><td>3239.5261096626346</td><td>850.5357914375468</td><td>488.71163889647215</td><td>363.16238093492126</td><td>318.2020285671715</td><td>155.70217030009394</td><td>196.54619230237253</td><td>420.3756635674943</td><td>155.4388986449787</td><td>52.16821714539235</td><td>142.16982745883925</td><td>140.9806305179618</td><td>0.1294631904474161</td><td>0.0026381616139986557</td><td>8.474730628890274</td><td>0.0023010321088135356</td><td>7.634941381225326</td><td>0.006472871335726555</td><td>8814.827662891494</td><td>8053.295512611444</td><td>450.3557426110636</td><td>272.2871733141814</td><td>0.0</td><td>0.0</td><td>0.0</td><td>-1.8149569623501536</td><td>7.635978983076871</td><td>197.19206226830897</td><td>16.0</td><td>9.0</td><td>0.2575309367839028</td><td>0.5675375816904565</td><td>5.072647407064753e+37</td><td>0.09782619325351227</td><td>8.714273434258303</td><td>126.97608775541764</td><td>0.33597126548422873</td><td>29.824628719614164</td><td>0.20829266818294653</td><td>129.60071326489492</td><td>2.0592749276177273</td><td>32.38620789715725</td><td>0.7439231788265308</td><td>2354.107094503535</td><td>204.3836729612845</td><td>270.55021429954377</td><td>20.50478640427275</td><td>1</td><td>1</td><td>177736.2669478928</td><td>1.726380925028732e+37</td><td>165</td><td>1121</td><td>3171.41</td><td>4868.65</td><td>353.62173390345305</td><td>-36.09042851311997</td><td>1.0</td><td>2</td><td>0.8</td><td>21.077384625635442</td><td>0.02632279201132376</td><td>21.726360510149657</td><td>0.03550286507290922</td><td>23.270020549322517</td><td>0.035381420618466934</td><td>23.302500709639006</td><td>0.03591374447914267</td><td>23.414499507481615</td><td>0.07938549942465226</td><td>0.0032864433440003555</td><td>7.975677133677345e-05</td><td>0.0024951450411077564</td><td>8.167114809285102e-05</td><td>0.0020276443426930375</td><td>6.614187613382475e-05</td><td>0.0017471078543404733</td><td>5.784820231259461e-05</td><td>0.0010409747539899357</td><td>7.618874874917506e-05</td><td>1.6120340687873673</td><td>1.0</td><td>2.0</td><td>1133.140021306523</td><td>285.51669676721133</td><td>0.12</td><td>0.020000000000000018</td><td>0.7616196702107478</td><td>0.0</td><td>0.0</td><td>82.40999999758003</td><td>73.65000000152918</td></tr>\n",
       "<tr><td>277.0</td><td>277</td><td>0</td><td>0.7687397598089063</td><td>2.3436283891999765</td><td>803136.0</td><td>0.58830684940411</td><td>0.30003885767685196</td><td>45.832042123514256</td><td>0.4201367813684931</td><td>93.9559610957778</td><td>90.87994259655805</td><td>0.8637129649503619</td><td>0.9388340346068036</td><td>2.52501299764244</td><td>1.2877667771490486</td><td>1.9063898873957443</td><td>0.9531949436978722</td><td>1.3853567616058022</td><td>0.7065375163456391</td><td>1.0459471389757207</td><td>0.5229735694878603</td><td>9</td><td>3</td><td>3</td><td>37.72842708113819</td><td>41.00984106217418</td><td>110.29679144153391</td><td>56.25180693214725</td><td>83.27429918684058</td><td>41.63714959342029</td><td>60.514700696440386</td><td>30.862740571535703</td><td>45.68872063398805</td><td>22.844360316994024</td><td>353.60182690554115</td><td>-36.10718766245008</td><td>18.352277392149905</td><td>100.0</td><td>99.0</td><td>353.60174458262446</td><td>-36.10709829077792</td><td>0</td><td>IC5332</td><td>461.173561954659</td><td>327.40367984037533</td><td>353.60183722098805</td><td>-36.107160126906194</td><td>461.09293680297395</td><td>327.5650557620818</td><td>0.0</td><td>1.0</td><td>0.0</td><td>43.330056172334984</td><td>4.452678616306111</td><td>269.0</td><td>1.85067943613625</td><td>330194.596874718</td><td>194671.71779175353</td><td>1054177.0940377698</td><td>236806.41296915547</td><td>160305.12456307508</td><td>112074.12592738285</td><td>88148.3944523969</td><td>8977.632914051243</td><td>2936.639357981504</td><td>36754.059943650944</td><td>2172.238218608547</td><td>3019.673618980854</td><td>2659.7840101450047</td><td>2504.8544780500315</td><td>599.679438572654</td><td>434.0434439705101</td><td>734.8573347682426</td><td>337.0309431096306</td><td>324.74552781968544</td><td>289.6287510857842</td><td>383.54744823414023</td><td>196.70289417401932</td><td>223.6559299914265</td><td>392.91119819801764</td><td>202.16720830612735</td><td>66.16204360336562</td><td>173.11653638661778</td><td>180.71493167881874</td><td>25.103421647844154</td><td>28.714454374344886</td><td>27.75901846523542</td><td>-29.22117738076634</td><td>-29.328331485298463</td><td>-27.387204658794325</td><td>0.07251406742329358</td><td>0.1316872603549178</td><td>0.35523389943413386</td><td>0.03909656493339569</td><td>0.0729233701991442</td><td>0.16939330942475775</td><td>469543.09782593016</td><td>273112.4494473509</td><td>1342947.453949593</td><td>301419.54766149475</td><td>202963.06045750322</td><td>141818.5504739813</td><td>101491.91689443232</td><td>11562.410777712288</td><td>3888.4531109034033</td><td>48326.86970295864</td><td>2796.198379628406</td><td>3878.56920160573</td><td>3285.744924338126</td><td>3092.9021961140143</td><td>3045.0990138314924</td><td>1744.798187684725</td><td>5825.058297223681</td><td>1355.5781267513264</td><td>941.3412561262109</td><td>694.8159203959035</td><td>508.93195214921803</td><td>258.5642506570147</td><td>296.7750189734378</td><td>567.1204152379081</td><td>260.53762906983934</td><td>86.69751486939789</td><td>214.21051586623906</td><td>223.43800931441177</td><td>0.10435410391805928</td><td>0.0018452804658435232</td><td>8.424806753109683</td><td>0.0016102670603778636</td><td>7.505484283590762</td><td>0.004417679484206103</td><td>9478.188181258762</td><td>7229.104543158333</td><td>283.2800071054946</td><td>219.08020689829024</td><td>0.0</td><td>0.0</td><td>0.0</td><td>-1.524894172390774</td><td>7.752761960810145</td><td>181.08293499715845</td><td>16.0</td><td>9.0</td><td>0.23804988927835605</td><td>0.5246059373289391</td><td>1.3044263965766527e+38</td><td>0.04046421850216042</td><td>8.714273434258303</td><td>147.8101237660434</td><td>0.28431532354635153</td><td>27.45421108286878</td><td>0.12219884664632835</td><td>149.88442317698568</td><td>1.7345379087271091</td><td>30.040238606769226</td><td>0.4173447566321852</td><td>436.4640062685969</td><td>4.2780702966114905</td><td>52.505849423957066</td><td>0.5002914848799584</td><td>1</td><td>1</td><td>1023138.7614808262</td><td>9.937911219862949e+37</td><td>67</td><td>489</td><td>4633.19</td><td>3342.91</td><td>353.6018237138359</td><td>-36.10722034808878</td><td>5.0</td><td>2</td><td>0.5</td><td>18.63463906509053</td><td>0.007902669365125825</td><td>19.23494084873413</td><td>0.008418407225308604</td><td>20.887599553405902</td><td>0.009345140468571676</td><td>21.05214674396671</td><td>0.010061488605588255</td><td>21.201780556142246</td><td>0.01836152402183975</td><td>0.031176285791819417</td><td>0.0002271473366376036</td><td>0.02475504160120967</td><td>0.00019213348201445248</td><td>0.01819534014111017</td><td>0.00015676729879421472</td><td>0.01388229606931972</td><td>0.0001287754288866399</td><td>0.007989650419624456</td><td>0.00013525270686394133</td><td>1.3987734566758152</td><td>1.0</td><td>2.0</td><td>7905.269804332053</td><td>2265.6908738744196</td><td>0.06</td><td>0.010000000000000009</td><td>0.5448266562644382</td><td>0.0</td><td>0.0</td><td>94.1900000007729</td><td>87.9099999999554</td></tr>\n",
       "<tr><td>491.0</td><td>491</td><td>0</td><td>0.04690536343476971</td><td>0.1711021395999983</td><td>49156.3671875</td><td>0.11214544384837168</td><td>0.09603796203311557</td><td>-168.29977086755852</td><td>0.10377966987082206</td><td>53.98823793275164</td><td>45.360251521917384</td><td>0.2333741686260039</td><td>0.23866677269445513</td><td>0.4813282449972112</td><td>0.41219493304613203</td><td>0.4467615890216716</td><td>0.2233807945108358</td><td>0.2640823391330384</td><td>0.2261521180795018</td><td>0.2451172286062701</td><td>0.12255861430313506</td><td>9</td><td>3</td><td>3</td><td>10.194174061209624</td><td>10.425363860100015</td><td>21.025222881207018</td><td>18.00536417273693</td><td>19.515293526971973</td><td>9.757646763485987</td><td>11.535558315915578</td><td>9.878702812684766</td><td>10.707130564300172</td><td>5.353565282150086</td><td>353.5997992273746</td><td>-36.08903405306591</td><td>4.533269576949013</td><td>55.0</td><td>44.0</td><td>353.59978544614773</td><td>-36.08904902216807</td><td>0</td><td>IC5332</td><td>490.7160272758426</td><td>655.1997140655753</td><td>353.5998110215179</td><td>-36.08894887183859</td><td>490.4318181818182</td><td>655.0681818181819</td><td>0.0</td><td>1.0</td><td>0.0</td><td>67.09480330292554</td><td>5.77976059552641</td><td>88.0</td><td>1.0585134856802454</td><td>31393.391205624594</td><td>8208.21511692233</td><td>98630.62459499846</td><td>21990.14644635739</td><td>16952.65986827224</td><td>11524.820148536397</td><td>6795.192242802493</td><td>1332.5338583526682</td><td>375.35252686133583</td><td>2894.9429905458796</td><td>444.2750739661934</td><td>448.20470796578115</td><td>341.61397910946613</td><td>686.1516494305538</td><td>170.4312691004571</td><td>114.56997606774229</td><td>213.02116389922512</td><td>111.98183009957447</td><td>106.41059835506255</td><td>95.71073082102068</td><td>121.04998697873104</td><td>76.46529893524377</td><td>95.69885013829952</td><td>174.28639662727642</td><td>80.13559279523419</td><td>25.719501807748166</td><td>66.54626669463345</td><td>69.84705241164903</td><td>17.00586447514087</td><td>19.772345995948445</td><td>14.457195040483821</td><td>-11.462731186466359</td><td>-10.589074680327828</td><td>-3.129779154419133</td><td>0.32068389651637247</td><td>0.5990648669523954</td><td>2.7140981414099845</td><td>0.12184437198924526</td><td>0.23876762185620992</td><td>0.8370249449978767</td><td>42406.9480443303</td><td>10960.655916984497</td><td>121288.05191291978</td><td>27022.186058278414</td><td>20737.60536746451</td><td>14091.210104130403</td><td>7664.575559639784</td><td>1653.9940272605472</td><td>477.0658279219054</td><td>3657.4634258256797</td><td>551.2068215513905</td><td>555.0453955064999</td><td>409.1971845360405</td><td>821.567131699156</td><td>825.7058476597724</td><td>249.49768353955687</td><td>1581.401065388209</td><td>372.58630734869877</td><td>290.64227389563194</td><td>211.4879426806389</td><td>148.10387483531468</td><td>97.47953559524161</td><td>121.83921469447549</td><td>226.5222694839219</td><td>99.6976886321703</td><td>32.69397636056592</td><td>79.84367055617946</td><td>84.13637736028772</td><td>0.08913034154080117</td><td>0.005542245168358462</td><td>8.398312906505181</td><td>0.005229680874106799</td><td>7.29323651910569</td><td>0.015983285414154936</td><td>--</td><td>--</td><td>--</td><td>--</td><td>0.0</td><td>0.0</td><td>0.0</td><td>-2.083865564102744</td><td>7.744295806712879</td><td>172.82335136355127</td><td>20.0</td><td>9.0</td><td>0.368610426764508</td><td>0.8123306380365414</td><td>1.1780902971242414e+37</td><td>0.06381996028459547</td><td>8.714273434258303</td><td>93.72852823555624</td><td>0.5211606639904176</td><td>19.84624710250684</td><td>0.31291240509988827</td><td>96.21631293761742</td><td>3.1016410425078704</td><td>23.145766656428723</td><td>0.9696006756227117</td><td>--</td><td>--</td><td>--</td><td>--</td><td>1</td><td>1</td><td>60448.56797541139</td><td>5.871466554917993e+36</td><td>175</td><td>1170</td><td>4784.07</td><td>4994.71</td><td>353.5997708748705</td><td>-36.08904120693135</td><td>1.0</td><td>2</td><td>0.7</td><td>21.36505718319272</td><td>0.029212464657525954</td><td>21.856988102073675</td><td>0.03608393089943294</td><td>23.472780735070984</td><td>0.04098181573463152</td><td>23.480690589545787</td><td>0.03990452143790952</td><td>23.53967663049261</td><td>0.07666049185457967</td><td>0.002521489283527621</td><td>6.791016560796318e-05</td><td>0.0022123037687212634</td><td>7.359834771180557e-05</td><td>0.0016822390340780768</td><td>6.356065516058047e-05</td><td>0.001482667487136314</td><td>5.454756065207016e-05</td><td>0.0009276183854713117</td><td>6.55617310714643e-05</td><td>1.392829543651155</td><td>1.0</td><td>0.0</td><td>1076.2408148589388</td><td>190.99885438178876</td><td>0.15</td><td>0.04000000000000001</td><td>0.608437525758936</td><td>0.0</td><td>0.0</td><td>56.070000000526875</td><td>44.71000000007848</td></tr>\n",
       "<tr><td>627.0</td><td>627</td><td>0</td><td>0.04123352565701817</td><td>0.13656776279999863</td><td>44785.671875</td><td>0.10782811793782225</td><td>0.08780525529438146</td><td>61.442319662534224</td><td>0.09730300829595741</td><td>30.3075818955474</td><td>29.862790056280602</td><td>0.20849668830281812</td><td>0.2132358545799675</td><td>0.4627982821891331</td><td>0.37686015572348525</td><td>0.4198292189563092</td><td>0.2099146094781546</td><td>0.2539158135379451</td><td>0.20676557522626934</td><td>0.23034069438210725</td><td>0.11517034719105362</td><td>9</td><td>3</td><td>3</td><td>9.107484106995836</td><td>9.314498817401502</td><td>20.215803109835452</td><td>16.461881993188598</td><td>18.338842551512027</td><td>9.169421275756013</td><td>11.091467471910422</td><td>9.031866192100313</td><td>10.061666832005368</td><td>5.030833416002684</td><td>353.6148855160346</td><td>-36.102840884662804</td><td>4.250358165551438</td><td>30.0</td><td>29.0</td><td>353.61488970626647</td><td>-36.102850379992375</td><td>0</td><td>IC5332</td><td>271.87666174593795</td><td>405.8905796558272</td><td>353.61485445718205</td><td>-36.1028012742892</td><td>272.22857142857146</td><td>406.1714285714286</td><td>0.0</td><td>1.0</td><td>0.0</td><td>6.887487910923933</td><td>3.2768505154335883</td><td>35.0</td><td>0.6675581178124547</td><td>16754.408804301383</td><td>3112.4114035623506</td><td>57138.231885093</td><td>18844.802067054636</td><td>8795.877468592702</td><td>6049.593703824354</td><td>3337.128490703618</td><td>226.10116288628802</td><td>469.8838360525786</td><td>1687.2671623847073</td><td>0.0</td><td>76.05030449841806</td><td>0.0</td><td>0.8822183419210924</td><td>168.29915691189169</td><td>114.17494939570481</td><td>223.60339924328045</td><td>140.75700763874175</td><td>121.94202115804573</td><td>114.73166679682608</td><td>158.26803268843048</td><td>100.64172189802295</td><td>121.51856437270153</td><td>203.8757693785568</td><td>110.21025133244468</td><td>33.851367670492955</td><td>97.68303346113076</td><td>102.85946652595678</td><td>16.667281377181514</td><td>24.123194261542416</td><td>24.13737580613859</td><td>-0.990941440203252</td><td>-0.46067319844817484</td><td>7.903133923784627</td><td>0.6614912706710402</td><td>0.9663484989381205</td><td>5.425473887595104</td><td>0.23013134073233737</td><td>0.4455549504749086</td><td>2.5296115787673537</td><td>29426.458152954478</td><td>5349.589207898501</td><td>84165.1036896954</td><td>27721.00409471258</td><td>12829.324148880003</td><td>8815.84232620264</td><td>4181.231631815398</td><td>338.91640703355324</td><td>736.2760625064316</td><td>2614.364728858522</td><td>0.0</td><td>113.50396783469552</td><td>0.0</td><td>1.2361924175999979</td><td>1057.4064911137095</td><td>264.59899862951914</td><td>2023.783580077184</td><td>687.3071614559232</td><td>345.8639913455873</td><td>263.25876306362494</td><td>206.54017535595247</td><td>151.09169460813055</td><td>191.48570909530153</td><td>323.5894804845605</td><td>--</td><td>50.599328543709554</td><td>--</td><td>144.1299602976933</td><td>0.1669393265980052</td><td>0.010226009149189112</td><td>8.535436210518414</td><td>0.009442019533220259</td><td>7.198138256430138</td><td>0.03890501685870033</td><td>--</td><td>--</td><td>--</td><td>--</td><td>0.0</td><td>0.0</td><td>-1.0</td><td>-1.8421368941217948</td><td>8.672785808480958</td><td>156.6614204947676</td><td>26.0</td><td>9.0</td><td>0.03783899397869404</td><td>0.08338823833925522</td><td>8.175091482586818e+36</td><td>0.07465074059954624</td><td>8.714273434258303</td><td>25.87263161793912</td><td>0.16006435348968054</td><td>5.090366163105394</td><td>0.1910768786216085</td><td>27.850569780556075</td><td>0.6166120654082178</td><td>8.108749794701044</td><td>0.2748237023577893</td><td>--</td><td>--</td><td>--</td><td>--</td><td>1</td><td>1</td><td>65969.67726884563</td><td>6.407740773616314e+36</td><td>93</td><td>651</td><td>3673.27</td><td>3738.96</td><td>353.61489965053704</td><td>-36.10286182540335</td><td>4.0</td><td>2</td><td>0.7</td><td>21.658125544926698</td><td>0.03776758230610532</td><td>22.3166838854381</td><td>0.058922250594030084</td><td>23.864531067166812</td><td>0.06185307560115876</td><td>23.834530323906584</td><td>0.05836616891406914</td><td>23.31875928719355</td><td>0.08367672660197484</td><td>0.0019249957811063086</td><td>6.702833464041631e-05</td><td>0.0014486599238086035</td><td>7.869646698255223e-05</td><td>0.0011727017497075007</td><td>6.687415931506057e-05</td><td>0.0010703057791934408</td><td>5.759416960280469e-05</td><td>0.0011369366987115347</td><td>8.771026646831262e-05</td><td>1.3598106914223649</td><td>1.0</td><td>0.0</td><td>936.7099540130181</td><td>216.53696753239262</td><td>0.19</td><td>0.06</td><td>6.47804602035738</td><td>0.0</td><td>0.0</td><td>29.270000001104677</td><td>27.95999999957934</td></tr>\n",
       "</table></div>"
      ],
      "text/plain": [
       "<Table length=22>\n",
       "region_ID hstcat_region_ID  _idx     area_ellipse          area_exact     HA6562_FLUX_HST     major_sigma     ... PHANGS_EBV_MINCHISQ PHANGS_EBV_MINCHISQ_ERR PHANGS_REDUCED_MINCHISQ PHANGS_NO_COVERAGE_FLAG PHANGS_NON_DETECTION_FLAG     x_cluster          y_cluster     \n",
       "                                       arcsec2              arcsec2        erg / (s cm2)         arcsec       ...                                                                                                                              pix                pix        \n",
       " float64       int64       int64       float64              float64           float64           float64       ...       float64               float64                 float64                 float64                  float64               float64            float64      \n",
       "--------- ---------------- ----- -------------------- ------------------- --------------- ------------------- ... ------------------- ----------------------- ----------------------- ----------------------- ------------------------- ------------------ ------------------\n",
       "      7.0                7     0  0.03987061746627025  0.1711021395999983     75119.21875 0.10364605635871856 ...                0.76                    0.43       5.600679098403185                     0.0                       0.0  54.68000000128848  49.82000000318499\n",
       "     17.0               17     0  0.13922244569236414  0.5431315623999945   211715.390625 0.20026339583355274 ...                0.37     0.03999999999999998       4.448579392363489                     0.0                       0.0  67.69000000234541  66.82999999883418\n",
       "     26.0               26     0   0.1515454913205373  0.9120214963999909       747588.75 0.20544263719851083 ...                0.49    0.040000000000000036       17.77251134117665                     0.0                       0.0  81.91000000132851  81.73000000048728\n",
       "     31.0               31     1  0.11377468186126717  0.5180156519999948    262541.03125  0.1669373190834658 ...                0.39     0.02999999999999997       7.272215335196794                     0.0                       0.0  65.79000000074848   66.6500000013807\n",
       "     41.0               41     0  0.05966066722626582 0.15383495119999846     31026.53125 0.13470314886665977 ...                0.11     0.06999999999999999      2.4858747751253767                     0.0                       0.0  43.19000000042274 37.589999999998895\n",
       "     46.0               46     0  0.10293643423126302  0.2919724583999971   70646.5546875 0.24638139509298268 ...                 0.0                    0.03      2.5426736386439104                     0.0                       0.0 47.300000000887735  46.52000000060937\n",
       "     57.0               57     0  0.10253749243806586  0.2872632251999971   103620.203125  0.2864623791603003 ...                0.32                     0.1      0.5050304004237848                     0.0                       0.0  60.94000000001415  58.68000000083805\n",
       "     84.0               84     0  0.37516223034404944  1.4410253591999855        591424.5 0.37662466912547177 ...                0.23     0.04000000000000001      1.4244504275804453                     0.0                       0.0  88.78999999963526   80.1000000007898\n",
       "     92.0               92     0  0.41305551620587133  1.1678898335999883      340638.875  0.3704196713109832 ...                 0.0                    0.31      2.6371163836782787                     0.0                       0.0  82.69000000201595   84.9000000016099\n",
       "    114.0              114     0  0.06439169347701439 0.17424162839999824   38642.3984375 0.14605850826113864 ...                 0.0                    0.07      1.7219082845449933                     0.0                       0.0 51.020000000846494 51.629999999015126\n",
       "    125.0              125     0  0.19712576161033207  0.6561531591999934   176578.546875 0.23467614049471391 ...                 0.0                    0.05      1.1560129629989742                     0.0                       0.0   68.5400000000705  61.86000000072863\n",
       "    141.0              141     1   0.8580478389611297  3.4848325679999648     1724684.375  0.4604239425076506 ...                0.03    0.020000000000000004     0.37681385887564844                     0.0                       0.0  106.6199999994934 106.78999999802136\n",
       "    154.0              154     0  0.21386513221690928  0.6074910827999939      178574.625 0.36510396538234746 ...                0.21     0.04999999999999999      4.4847495038884535                     0.0                       0.0  68.29999999983693  70.54999999984022\n",
       "    171.0              171     0 0.057592652007177066 0.15540469559999842    36126.703125 0.13713881297781969 ...                0.12                    0.06      0.7890468683560118                     0.0                       0.0 42.569999997943114 35.429999999160486\n",
       "    189.0              189     0  0.04259533259961198  0.1711021395999983    86689.703125 0.11358388051572048 ...                0.25     0.03999999999999998      0.9437125868041997                     0.0                       0.0  68.43000000007851 57.439999999797806\n",
       "    195.0              195     0    1.382113562470642   5.301026838799946      2327270.75   0.681865586358559 ...                0.27     0.04000000000000001      2.2352102123822917                     0.0                       0.0  107.2099999990877  138.7399999999459\n",
       "    204.0              204     0    1.263263042469691  5.1471918875999485       2855426.0  0.5970594188440767 ...                0.12                     0.0        1.92170636373737                     0.0                       0.0 128.91000000262352 120.73999999940668\n",
       "    208.0              208     0  0.08457291295383237 0.15069546239999848  30352.09765625  0.2401390842024441 ...                0.13     0.15999999999999998        0.60794792110588                     0.0                       0.0  59.64999999989175  48.24999999992667\n",
       "    209.0              209     0   0.1786371253999829  0.5305736071999947   131622.796875 0.26141400482269256 ...                0.12    0.020000000000000018      0.7616196702107478                     0.0                       0.0  82.40999999758003  73.65000000152918\n",
       "    277.0              277     0   0.7687397598089063  2.3436283891999765        803136.0    0.58830684940411 ...                0.06    0.010000000000000009      0.5448266562644382                     0.0                       0.0   94.1900000007729   87.9099999999554\n",
       "    491.0              491     0  0.04690536343476971  0.1711021395999983   49156.3671875 0.11214544384837168 ...                0.15     0.04000000000000001       0.608437525758936                     0.0                       0.0 56.070000000526875  44.71000000007848\n",
       "    627.0              627     0  0.04123352565701817 0.13656776279999863    44785.671875 0.10782811793782225 ...                0.19                    0.06        6.47804602035738                     0.0                       0.0 29.270000001104677  27.95999999957934"
      ]
     },
     "execution_count": 6,
     "metadata": {},
     "output_type": "execute_result"
    }
   ],
   "source": [
    "props_all_cluster = props_all_cluster[~props_all_cluster.mask['PHANGS_EBV_MINCHISQ']]\n",
    "props_all_cluster"
   ]
  },
  {
   "cell_type": "code",
   "execution_count": 7,
   "id": "1ad2f913",
   "metadata": {
    "execution": {
     "iopub.execute_input": "2024-03-18T12:21:03.007560Z",
     "iopub.status.busy": "2024-03-18T12:21:03.007472Z",
     "iopub.status.idle": "2024-03-18T12:21:03.009590Z",
     "shell.execute_reply": "2024-03-18T12:21:03.009291Z"
    }
   },
   "outputs": [],
   "source": [
    "# import matplotlib.pyplot as plt\n",
    "# import numpy as np\n",
    "\n",
    "# fig = plt.figure(figsize=(8,3))\n",
    "# ax1 = fig.add_subplot(121)\n",
    "# ax2 = fig.add_subplot(122)\n",
    "\n",
    "# ax1.hist(props_all_cluster['PHANGS_AGE_MINCHISQ'], alpha=0.3, fc='C0', bins=np.linspace(0,20,10))\n",
    "# ax1.hist(props_all_cluster['PHANGS_AGE_MINCHISQ'], fc='none', ec='C0', lw=1.5, bins=np.linspace(0,20,10))\n",
    "# ax1.set_ylabel('#')\n",
    "# ax1.set_xlabel('Cluster age, log(Myr)')\n",
    "# ax1.grid(alpha=0.3, linestyle=':')\n",
    "# ax1.set_xlim(0,20)\n",
    "\n",
    "# ax2.hist(np.log10(props_all_cluster['PHANGS_MASS_MINCHISQ']), alpha=0.3, fc='C1')\n",
    "# ax2.hist(np.log10(props_all_cluster['PHANGS_MASS_MINCHISQ']), fc='none', ec='C1', lw=1.5)\n",
    "# ax2.set_ylabel('#')\n",
    "# ax2.set_xlabel('Cluster mass, log(Msun)')\n",
    "# ax2.grid(alpha=0.3, linestyle=':')"
   ]
  }
 ],
 "metadata": {
  "kernelspec": {
   "display_name": "Python 3 (ipykernel)",
   "language": "python",
   "name": "python3"
  },
  "language_info": {
   "codemirror_mode": {
    "name": "ipython",
    "version": 3
   },
   "file_extension": ".py",
   "mimetype": "text/x-python",
   "name": "python",
   "nbconvert_exporter": "python",
   "pygments_lexer": "ipython3",
   "version": "3.9.13"
  },
  "widgets": {
   "application/vnd.jupyter.widget-state+json": {
    "state": {
     "0494703315cf4d9ab635782367a97751": {
      "model_module": "@jupyter-widgets/base",
      "model_module_version": "1.2.0",
      "model_name": "LayoutModel",
      "state": {
       "_model_module": "@jupyter-widgets/base",
       "_model_module_version": "1.2.0",
       "_model_name": "LayoutModel",
       "_view_count": null,
       "_view_module": "@jupyter-widgets/base",
       "_view_module_version": "1.2.0",
       "_view_name": "LayoutView",
       "align_content": null,
       "align_items": null,
       "align_self": null,
       "border": null,
       "bottom": null,
       "display": null,
       "flex": null,
       "flex_flow": null,
       "grid_area": null,
       "grid_auto_columns": null,
       "grid_auto_flow": null,
       "grid_auto_rows": null,
       "grid_column": null,
       "grid_gap": null,
       "grid_row": null,
       "grid_template_areas": null,
       "grid_template_columns": null,
       "grid_template_rows": null,
       "height": null,
       "justify_content": null,
       "justify_items": null,
       "left": null,
       "margin": null,
       "max_height": null,
       "max_width": null,
       "min_height": null,
       "min_width": null,
       "object_fit": null,
       "object_position": null,
       "order": null,
       "overflow": null,
       "overflow_x": null,
       "overflow_y": null,
       "padding": null,
       "right": null,
       "top": null,
       "visibility": null,
       "width": null
      }
     },
     "1d288f7639c245b59ef5ab378b1e9e61": {
      "model_module": "@jupyter-widgets/controls",
      "model_module_version": "1.5.0",
      "model_name": "HBoxModel",
      "state": {
       "_dom_classes": [],
       "_model_module": "@jupyter-widgets/controls",
       "_model_module_version": "1.5.0",
       "_model_name": "HBoxModel",
       "_view_count": null,
       "_view_module": "@jupyter-widgets/controls",
       "_view_module_version": "1.5.0",
       "_view_name": "HBoxView",
       "box_style": "",
       "children": [
        "IPY_MODEL_3da01a2cd4254030ba1e2b758c1167d9",
        "IPY_MODEL_5cded302aa774819885f7ee06b1e6557",
        "IPY_MODEL_51c6ec03aac84761a3f3984f47ec7b3a"
       ],
       "layout": "IPY_MODEL_cdcdbf1597df4f839a50b71c0deb0e60"
      }
     },
     "22c4783389a441d887d207b5241f176f": {
      "model_module": "@jupyter-widgets/controls",
      "model_module_version": "1.5.0",
      "model_name": "DescriptionStyleModel",
      "state": {
       "_model_module": "@jupyter-widgets/controls",
       "_model_module_version": "1.5.0",
       "_model_name": "DescriptionStyleModel",
       "_view_count": null,
       "_view_module": "@jupyter-widgets/base",
       "_view_module_version": "1.2.0",
       "_view_name": "StyleView",
       "description_width": ""
      }
     },
     "25f4f6505c4b402488e73b7adb46d311": {
      "model_module": "@jupyter-widgets/controls",
      "model_module_version": "1.5.0",
      "model_name": "FloatProgressModel",
      "state": {
       "_dom_classes": [],
       "_model_module": "@jupyter-widgets/controls",
       "_model_module_version": "1.5.0",
       "_model_name": "FloatProgressModel",
       "_view_count": null,
       "_view_module": "@jupyter-widgets/controls",
       "_view_module_version": "1.5.0",
       "_view_name": "ProgressView",
       "bar_style": "success",
       "description": "",
       "description_tooltip": null,
       "layout": "IPY_MODEL_aa297355ae5c4808851f95116bc436fc",
       "max": 816.0,
       "min": 0.0,
       "orientation": "horizontal",
       "style": "IPY_MODEL_d924ef60c72648888ce2ee88bbfa94d7",
       "value": 816.0
      }
     },
     "290e5d8ed63e4361b07076ea12edcb05": {
      "model_module": "@jupyter-widgets/controls",
      "model_module_version": "1.5.0",
      "model_name": "DescriptionStyleModel",
      "state": {
       "_model_module": "@jupyter-widgets/controls",
       "_model_module_version": "1.5.0",
       "_model_name": "DescriptionStyleModel",
       "_view_count": null,
       "_view_module": "@jupyter-widgets/base",
       "_view_module_version": "1.2.0",
       "_view_name": "StyleView",
       "description_width": ""
      }
     },
     "3da01a2cd4254030ba1e2b758c1167d9": {
      "model_module": "@jupyter-widgets/controls",
      "model_module_version": "1.5.0",
      "model_name": "HTMLModel",
      "state": {
       "_dom_classes": [],
       "_model_module": "@jupyter-widgets/controls",
       "_model_module_version": "1.5.0",
       "_model_name": "HTMLModel",
       "_view_count": null,
       "_view_module": "@jupyter-widgets/controls",
       "_view_module_version": "1.5.0",
       "_view_name": "HTMLView",
       "description": "",
       "description_tooltip": null,
       "layout": "IPY_MODEL_a8b003ab879e4062b8091386d21c446d",
       "placeholder": "​",
       "style": "IPY_MODEL_ef092c96b20c49479ad25cf6228b971f",
       "value": "100%"
      }
     },
     "51c6ec03aac84761a3f3984f47ec7b3a": {
      "model_module": "@jupyter-widgets/controls",
      "model_module_version": "1.5.0",
      "model_name": "HTMLModel",
      "state": {
       "_dom_classes": [],
       "_model_module": "@jupyter-widgets/controls",
       "_model_module_version": "1.5.0",
       "_model_name": "HTMLModel",
       "_view_count": null,
       "_view_module": "@jupyter-widgets/controls",
       "_view_module_version": "1.5.0",
       "_view_name": "HTMLView",
       "description": "",
       "description_tooltip": null,
       "layout": "IPY_MODEL_f9b887a0818e4af49d7cfcd9356fd437",
       "placeholder": "​",
       "style": "IPY_MODEL_b96eb05aacf24b6eb6099f0a0c030f9c",
       "value": " 628/628 [00:00&lt;00:00, 50954.13it/s]"
      }
     },
     "5cded302aa774819885f7ee06b1e6557": {
      "model_module": "@jupyter-widgets/controls",
      "model_module_version": "1.5.0",
      "model_name": "FloatProgressModel",
      "state": {
       "_dom_classes": [],
       "_model_module": "@jupyter-widgets/controls",
       "_model_module_version": "1.5.0",
       "_model_name": "FloatProgressModel",
       "_view_count": null,
       "_view_module": "@jupyter-widgets/controls",
       "_view_module_version": "1.5.0",
       "_view_name": "ProgressView",
       "bar_style": "success",
       "description": "",
       "description_tooltip": null,
       "layout": "IPY_MODEL_c88b8f2cec3443b1a78ba58c12080a09",
       "max": 628.0,
       "min": 0.0,
       "orientation": "horizontal",
       "style": "IPY_MODEL_f7dc5f6c042d4216aa070704769d05f7",
       "value": 628.0
      }
     },
     "866ece7b47af4aaea303d6a77024054e": {
      "model_module": "@jupyter-widgets/controls",
      "model_module_version": "1.5.0",
      "model_name": "HTMLModel",
      "state": {
       "_dom_classes": [],
       "_model_module": "@jupyter-widgets/controls",
       "_model_module_version": "1.5.0",
       "_model_name": "HTMLModel",
       "_view_count": null,
       "_view_module": "@jupyter-widgets/controls",
       "_view_module_version": "1.5.0",
       "_view_name": "HTMLView",
       "description": "",
       "description_tooltip": null,
       "layout": "IPY_MODEL_0494703315cf4d9ab635782367a97751",
       "placeholder": "​",
       "style": "IPY_MODEL_22c4783389a441d887d207b5241f176f",
       "value": " 816/816 [00:16&lt;00:00, 90.59it/s]"
      }
     },
     "a8b003ab879e4062b8091386d21c446d": {
      "model_module": "@jupyter-widgets/base",
      "model_module_version": "1.2.0",
      "model_name": "LayoutModel",
      "state": {
       "_model_module": "@jupyter-widgets/base",
       "_model_module_version": "1.2.0",
       "_model_name": "LayoutModel",
       "_view_count": null,
       "_view_module": "@jupyter-widgets/base",
       "_view_module_version": "1.2.0",
       "_view_name": "LayoutView",
       "align_content": null,
       "align_items": null,
       "align_self": null,
       "border": null,
       "bottom": null,
       "display": null,
       "flex": null,
       "flex_flow": null,
       "grid_area": null,
       "grid_auto_columns": null,
       "grid_auto_flow": null,
       "grid_auto_rows": null,
       "grid_column": null,
       "grid_gap": null,
       "grid_row": null,
       "grid_template_areas": null,
       "grid_template_columns": null,
       "grid_template_rows": null,
       "height": null,
       "justify_content": null,
       "justify_items": null,
       "left": null,
       "margin": null,
       "max_height": null,
       "max_width": null,
       "min_height": null,
       "min_width": null,
       "object_fit": null,
       "object_position": null,
       "order": null,
       "overflow": null,
       "overflow_x": null,
       "overflow_y": null,
       "padding": null,
       "right": null,
       "top": null,
       "visibility": null,
       "width": null
      }
     },
     "aa297355ae5c4808851f95116bc436fc": {
      "model_module": "@jupyter-widgets/base",
      "model_module_version": "1.2.0",
      "model_name": "LayoutModel",
      "state": {
       "_model_module": "@jupyter-widgets/base",
       "_model_module_version": "1.2.0",
       "_model_name": "LayoutModel",
       "_view_count": null,
       "_view_module": "@jupyter-widgets/base",
       "_view_module_version": "1.2.0",
       "_view_name": "LayoutView",
       "align_content": null,
       "align_items": null,
       "align_self": null,
       "border": null,
       "bottom": null,
       "display": null,
       "flex": null,
       "flex_flow": null,
       "grid_area": null,
       "grid_auto_columns": null,
       "grid_auto_flow": null,
       "grid_auto_rows": null,
       "grid_column": null,
       "grid_gap": null,
       "grid_row": null,
       "grid_template_areas": null,
       "grid_template_columns": null,
       "grid_template_rows": null,
       "height": null,
       "justify_content": null,
       "justify_items": null,
       "left": null,
       "margin": null,
       "max_height": null,
       "max_width": null,
       "min_height": null,
       "min_width": null,
       "object_fit": null,
       "object_position": null,
       "order": null,
       "overflow": null,
       "overflow_x": null,
       "overflow_y": null,
       "padding": null,
       "right": null,
       "top": null,
       "visibility": null,
       "width": null
      }
     },
     "b2a3fee719fa47b5ac46d76647c92a36": {
      "model_module": "@jupyter-widgets/base",
      "model_module_version": "1.2.0",
      "model_name": "LayoutModel",
      "state": {
       "_model_module": "@jupyter-widgets/base",
       "_model_module_version": "1.2.0",
       "_model_name": "LayoutModel",
       "_view_count": null,
       "_view_module": "@jupyter-widgets/base",
       "_view_module_version": "1.2.0",
       "_view_name": "LayoutView",
       "align_content": null,
       "align_items": null,
       "align_self": null,
       "border": null,
       "bottom": null,
       "display": null,
       "flex": null,
       "flex_flow": null,
       "grid_area": null,
       "grid_auto_columns": null,
       "grid_auto_flow": null,
       "grid_auto_rows": null,
       "grid_column": null,
       "grid_gap": null,
       "grid_row": null,
       "grid_template_areas": null,
       "grid_template_columns": null,
       "grid_template_rows": null,
       "height": null,
       "justify_content": null,
       "justify_items": null,
       "left": null,
       "margin": null,
       "max_height": null,
       "max_width": null,
       "min_height": null,
       "min_width": null,
       "object_fit": null,
       "object_position": null,
       "order": null,
       "overflow": null,
       "overflow_x": null,
       "overflow_y": null,
       "padding": null,
       "right": null,
       "top": null,
       "visibility": null,
       "width": null
      }
     },
     "b96eb05aacf24b6eb6099f0a0c030f9c": {
      "model_module": "@jupyter-widgets/controls",
      "model_module_version": "1.5.0",
      "model_name": "DescriptionStyleModel",
      "state": {
       "_model_module": "@jupyter-widgets/controls",
       "_model_module_version": "1.5.0",
       "_model_name": "DescriptionStyleModel",
       "_view_count": null,
       "_view_module": "@jupyter-widgets/base",
       "_view_module_version": "1.2.0",
       "_view_name": "StyleView",
       "description_width": ""
      }
     },
     "c88b8f2cec3443b1a78ba58c12080a09": {
      "model_module": "@jupyter-widgets/base",
      "model_module_version": "1.2.0",
      "model_name": "LayoutModel",
      "state": {
       "_model_module": "@jupyter-widgets/base",
       "_model_module_version": "1.2.0",
       "_model_name": "LayoutModel",
       "_view_count": null,
       "_view_module": "@jupyter-widgets/base",
       "_view_module_version": "1.2.0",
       "_view_name": "LayoutView",
       "align_content": null,
       "align_items": null,
       "align_self": null,
       "border": null,
       "bottom": null,
       "display": null,
       "flex": null,
       "flex_flow": null,
       "grid_area": null,
       "grid_auto_columns": null,
       "grid_auto_flow": null,
       "grid_auto_rows": null,
       "grid_column": null,
       "grid_gap": null,
       "grid_row": null,
       "grid_template_areas": null,
       "grid_template_columns": null,
       "grid_template_rows": null,
       "height": null,
       "justify_content": null,
       "justify_items": null,
       "left": null,
       "margin": null,
       "max_height": null,
       "max_width": null,
       "min_height": null,
       "min_width": null,
       "object_fit": null,
       "object_position": null,
       "order": null,
       "overflow": null,
       "overflow_x": null,
       "overflow_y": null,
       "padding": null,
       "right": null,
       "top": null,
       "visibility": null,
       "width": null
      }
     },
     "cc5ebc0390a54d069e9ebf5e8fbf2887": {
      "model_module": "@jupyter-widgets/controls",
      "model_module_version": "1.5.0",
      "model_name": "HBoxModel",
      "state": {
       "_dom_classes": [],
       "_model_module": "@jupyter-widgets/controls",
       "_model_module_version": "1.5.0",
       "_model_name": "HBoxModel",
       "_view_count": null,
       "_view_module": "@jupyter-widgets/controls",
       "_view_module_version": "1.5.0",
       "_view_name": "HBoxView",
       "box_style": "",
       "children": [
        "IPY_MODEL_e13f95e2ef9e4e62bfc5dac08a01e2d5",
        "IPY_MODEL_25f4f6505c4b402488e73b7adb46d311",
        "IPY_MODEL_866ece7b47af4aaea303d6a77024054e"
       ],
       "layout": "IPY_MODEL_b2a3fee719fa47b5ac46d76647c92a36"
      }
     },
     "cdcdbf1597df4f839a50b71c0deb0e60": {
      "model_module": "@jupyter-widgets/base",
      "model_module_version": "1.2.0",
      "model_name": "LayoutModel",
      "state": {
       "_model_module": "@jupyter-widgets/base",
       "_model_module_version": "1.2.0",
       "_model_name": "LayoutModel",
       "_view_count": null,
       "_view_module": "@jupyter-widgets/base",
       "_view_module_version": "1.2.0",
       "_view_name": "LayoutView",
       "align_content": null,
       "align_items": null,
       "align_self": null,
       "border": null,
       "bottom": null,
       "display": null,
       "flex": null,
       "flex_flow": null,
       "grid_area": null,
       "grid_auto_columns": null,
       "grid_auto_flow": null,
       "grid_auto_rows": null,
       "grid_column": null,
       "grid_gap": null,
       "grid_row": null,
       "grid_template_areas": null,
       "grid_template_columns": null,
       "grid_template_rows": null,
       "height": null,
       "justify_content": null,
       "justify_items": null,
       "left": null,
       "margin": null,
       "max_height": null,
       "max_width": null,
       "min_height": null,
       "min_width": null,
       "object_fit": null,
       "object_position": null,
       "order": null,
       "overflow": null,
       "overflow_x": null,
       "overflow_y": null,
       "padding": null,
       "right": null,
       "top": null,
       "visibility": null,
       "width": null
      }
     },
     "d924ef60c72648888ce2ee88bbfa94d7": {
      "model_module": "@jupyter-widgets/controls",
      "model_module_version": "1.5.0",
      "model_name": "ProgressStyleModel",
      "state": {
       "_model_module": "@jupyter-widgets/controls",
       "_model_module_version": "1.5.0",
       "_model_name": "ProgressStyleModel",
       "_view_count": null,
       "_view_module": "@jupyter-widgets/base",
       "_view_module_version": "1.2.0",
       "_view_name": "StyleView",
       "bar_color": null,
       "description_width": ""
      }
     },
     "dff31ed9a18546cfa97300be90281006": {
      "model_module": "@jupyter-widgets/base",
      "model_module_version": "1.2.0",
      "model_name": "LayoutModel",
      "state": {
       "_model_module": "@jupyter-widgets/base",
       "_model_module_version": "1.2.0",
       "_model_name": "LayoutModel",
       "_view_count": null,
       "_view_module": "@jupyter-widgets/base",
       "_view_module_version": "1.2.0",
       "_view_name": "LayoutView",
       "align_content": null,
       "align_items": null,
       "align_self": null,
       "border": null,
       "bottom": null,
       "display": null,
       "flex": null,
       "flex_flow": null,
       "grid_area": null,
       "grid_auto_columns": null,
       "grid_auto_flow": null,
       "grid_auto_rows": null,
       "grid_column": null,
       "grid_gap": null,
       "grid_row": null,
       "grid_template_areas": null,
       "grid_template_columns": null,
       "grid_template_rows": null,
       "height": null,
       "justify_content": null,
       "justify_items": null,
       "left": null,
       "margin": null,
       "max_height": null,
       "max_width": null,
       "min_height": null,
       "min_width": null,
       "object_fit": null,
       "object_position": null,
       "order": null,
       "overflow": null,
       "overflow_x": null,
       "overflow_y": null,
       "padding": null,
       "right": null,
       "top": null,
       "visibility": null,
       "width": null
      }
     },
     "e13f95e2ef9e4e62bfc5dac08a01e2d5": {
      "model_module": "@jupyter-widgets/controls",
      "model_module_version": "1.5.0",
      "model_name": "HTMLModel",
      "state": {
       "_dom_classes": [],
       "_model_module": "@jupyter-widgets/controls",
       "_model_module_version": "1.5.0",
       "_model_name": "HTMLModel",
       "_view_count": null,
       "_view_module": "@jupyter-widgets/controls",
       "_view_module_version": "1.5.0",
       "_view_name": "HTMLView",
       "description": "",
       "description_tooltip": null,
       "layout": "IPY_MODEL_dff31ed9a18546cfa97300be90281006",
       "placeholder": "​",
       "style": "IPY_MODEL_290e5d8ed63e4361b07076ea12edcb05",
       "value": "100%"
      }
     },
     "ef092c96b20c49479ad25cf6228b971f": {
      "model_module": "@jupyter-widgets/controls",
      "model_module_version": "1.5.0",
      "model_name": "DescriptionStyleModel",
      "state": {
       "_model_module": "@jupyter-widgets/controls",
       "_model_module_version": "1.5.0",
       "_model_name": "DescriptionStyleModel",
       "_view_count": null,
       "_view_module": "@jupyter-widgets/base",
       "_view_module_version": "1.2.0",
       "_view_name": "StyleView",
       "description_width": ""
      }
     },
     "f7dc5f6c042d4216aa070704769d05f7": {
      "model_module": "@jupyter-widgets/controls",
      "model_module_version": "1.5.0",
      "model_name": "ProgressStyleModel",
      "state": {
       "_model_module": "@jupyter-widgets/controls",
       "_model_module_version": "1.5.0",
       "_model_name": "ProgressStyleModel",
       "_view_count": null,
       "_view_module": "@jupyter-widgets/base",
       "_view_module_version": "1.2.0",
       "_view_name": "StyleView",
       "bar_color": null,
       "description_width": ""
      }
     },
     "f9b887a0818e4af49d7cfcd9356fd437": {
      "model_module": "@jupyter-widgets/base",
      "model_module_version": "1.2.0",
      "model_name": "LayoutModel",
      "state": {
       "_model_module": "@jupyter-widgets/base",
       "_model_module_version": "1.2.0",
       "_model_name": "LayoutModel",
       "_view_count": null,
       "_view_module": "@jupyter-widgets/base",
       "_view_module_version": "1.2.0",
       "_view_name": "LayoutView",
       "align_content": null,
       "align_items": null,
       "align_self": null,
       "border": null,
       "bottom": null,
       "display": null,
       "flex": null,
       "flex_flow": null,
       "grid_area": null,
       "grid_auto_columns": null,
       "grid_auto_flow": null,
       "grid_auto_rows": null,
       "grid_column": null,
       "grid_gap": null,
       "grid_row": null,
       "grid_template_areas": null,
       "grid_template_columns": null,
       "grid_template_rows": null,
       "height": null,
       "justify_content": null,
       "justify_items": null,
       "left": null,
       "margin": null,
       "max_height": null,
       "max_width": null,
       "min_height": null,
       "min_width": null,
       "object_fit": null,
       "object_position": null,
       "order": null,
       "overflow": null,
       "overflow_x": null,
       "overflow_y": null,
       "padding": null,
       "right": null,
       "top": null,
       "visibility": null,
       "width": null
      }
     }
    },
    "version_major": 2,
    "version_minor": 0
   }
  }
 },
 "nbformat": 4,
 "nbformat_minor": 5
}
