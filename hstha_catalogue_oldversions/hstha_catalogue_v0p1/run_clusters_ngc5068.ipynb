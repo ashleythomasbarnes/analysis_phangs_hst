{
 "cells": [
  {
   "cell_type": "code",
   "execution_count": 1,
   "id": "d911806a-6e45-422e-b299-fd868a526cc9",
   "metadata": {
    "execution": {
     "iopub.execute_input": "2024-03-17T18:24:29.000717Z",
     "iopub.status.busy": "2024-03-17T18:24:29.000399Z",
     "iopub.status.idle": "2024-03-17T18:24:29.555833Z",
     "shell.execute_reply": "2024-03-17T18:24:29.555379Z"
    }
   },
   "outputs": [],
   "source": [
    "import warnings\n",
    "warnings.filterwarnings('ignore')\n",
    "from glob import glob \n",
    "import sys\n",
    "sys.path.append('./')\n",
    "from modules import dendro_misc, dendro_clusters"
   ]
  },
  {
   "cell_type": "code",
   "execution_count": 2,
   "id": "18040bbc",
   "metadata": {
    "execution": {
     "iopub.execute_input": "2024-03-17T18:24:29.558191Z",
     "iopub.status.busy": "2024-03-17T18:24:29.558064Z",
     "iopub.status.idle": "2024-03-17T18:24:29.589773Z",
     "shell.execute_reply": "2024-03-17T18:24:29.589446Z"
    }
   },
   "outputs": [
    {
     "name": "stdout",
     "output_type": "stream",
     "text": [
      "/Users/abarnes/Dropbox/work/Smallprojects/galaxies/data_hstha/ngc5068/hst_contsub/ngc5068_hst_ha_sic.fits\n",
      "/Users/abarnes/Dropbox/work/Smallprojects/galaxies/data_hstha/ngc5068/muse/NGC5068_nebmask.fits\n",
      "/Users/abarnes/Dropbox/work/Smallprojects/galaxies/data_hstha/ngc5068/muse/NGC5068-1.04asec_MAPS.fits\n",
      "/Users/abarnes/Dropbox/work/Smallprojects/galaxies/data_hstha_nebulae_catalogue/ngc5068/cutouts\n",
      "/Users/abarnes/Dropbox/work/Smallprojects/galaxies/data_hstha_nebulae_catalogue/ngc5068/dendro\n",
      "/Users/abarnes/Dropbox/work/Smallprojects/galaxies/data_hstha_nebulae_catalogue/ngc5068/cutouts_hdus\n",
      "/Users/abarnes/Dropbox/work/Smallprojects/galaxies/data_hstha_nebulae_catalogue/ngc5068/cutouts/sample.reg\n",
      "/Users/abarnes/Dropbox/work/Smallprojects/galaxies/data_hstha_nebulae_catalogue/ngc5068/cutouts/sample.pickel\n",
      "/Users/abarnes/Dropbox/work/Smallprojects/galaxies/data_misc/sample_table/phangs_sample_table_v1p6.fits\n",
      "/Users/abarnes/Dropbox/work/Smallprojects/galaxies/data_misc/nebulae_catalogue/Nebulae_catalogue_v3.fits\n"
     ]
    }
   ],
   "source": [
    "# Define names and filenames...\n",
    "\n",
    "galaxy = 'ngc5068'\n",
    "galaxy_hst = galaxy\n",
    "root_dir = '/Users/abarnes/Dropbox/work/Smallprojects/galaxies'\n",
    "\n",
    "hstha_file = '%s/data_hstha/%s/hst_contsub/%s_hst_ha_sic.fits' %(root_dir, galaxy_hst, galaxy_hst)\n",
    "muscat_file = '%s/data_hstha/%s/muse/%s_nebmask.fits' %(root_dir, galaxy_hst, galaxy.upper())\n",
    "musha_file = '%s/data_hstha/%s/muse/%s-*_MAPS.fits' %(root_dir, galaxy_hst, galaxy.upper())\n",
    "musha_file = glob(musha_file)[0] #because of resolution in name\n",
    "\n",
    "cutout_dir = '%s/data_hstha_nebulae_catalogue/%s/cutouts' %(root_dir, galaxy_hst)\n",
    "dendro_dir = '%s/data_hstha_nebulae_catalogue/%s/dendro' %(root_dir, galaxy_hst)\n",
    "cutouts_hdus_dir = '%s/data_hstha_nebulae_catalogue/%s/cutouts_hdus' %(root_dir, galaxy_hst)\n",
    "\n",
    "rerun_all = True\n",
    "rerun_masking = True\n",
    "\n",
    "regions_file = '%s/sample.reg' %cutout_dir\n",
    "regions_pickel_file = '%s/sample.pickel' %cutout_dir\n",
    "sample_table_file = '%s/data_misc/sample_table/phangs_sample_table_v1p6.fits' %root_dir\n",
    "muscat_table_file = '%s/data_misc/nebulae_catalogue/Nebulae_catalogue_v3.fits' %root_dir\n",
    "cluster_table_file = '%s/data_misc/compact_clusters/PHANGS_IR4_%s_phangs_hst_v1p2_ml_class12.fits' %(root_dir, galaxy)\n",
    "# cluster_table_file = '%s/data_misc/compact_clusters/PHANGS_IR4_%s_phangs_hst_v1p2_human_class12.fits' %(root_dir, galaxy_hst)\n",
    "\n",
    "print(hstha_file)\n",
    "print(muscat_file)\n",
    "print(musha_file)\n",
    "print(cutout_dir)\n",
    "print(dendro_dir)\n",
    "print(cutouts_hdus_dir)\n",
    "print(regions_file)\n",
    "print(regions_pickel_file)\n",
    "print(sample_table_file)\n",
    "print(muscat_table_file)"
   ]
  },
  {
   "cell_type": "code",
   "execution_count": 3,
   "id": "3f2916b0",
   "metadata": {
    "execution": {
     "iopub.execute_input": "2024-03-17T18:24:29.591649Z",
     "iopub.status.busy": "2024-03-17T18:24:29.591536Z",
     "iopub.status.idle": "2024-03-17T18:24:32.760654Z",
     "shell.execute_reply": "2024-03-17T18:24:32.760348Z"
    }
   },
   "outputs": [
    {
     "name": "stdout",
     "output_type": "stream",
     "text": [
      "[INFO] [load_pickle] Load /Users/abarnes/Dropbox/work/Smallprojects/galaxies/data_hstha_nebulae_catalogue/ngc5068/cutouts/hdus_all.pickel\n",
      "[INFO] [load_pickle] Load /Users/abarnes/Dropbox/work/Smallprojects/galaxies/data_hstha_nebulae_catalogue/ngc5068/cutouts/sample.pickel\n",
      "[INFO] [get_galaxyprops] Getting sample table properties for ngc5068...\n",
      "[INFO] [get_MuseProps] Getting MUSE catalouge properties for ngc5068...\n",
      "[INFO] [load_pickle] Load /Users/abarnes/Dropbox/work/Smallprojects/galaxies/data_hstha_nebulae_catalogue/ngc5068/dendro/hdus_all_withmasked_withdendro.pickel\n",
      "[INFO] [load_pickle] Load /Users/abarnes/Dropbox/work/Smallprojects/galaxies/data_hstha_nebulae_catalogue/ngc5068/dendro/props_all.pickel\n",
      "[INFO] [load_table] /Users/abarnes/Dropbox/work/Smallprojects/galaxies/data_misc/compact_clusters/PHANGS_IR4_ngc5068_phangs_hst_v1p2_ml_class12.fits\n"
     ]
    }
   ],
   "source": [
    "# Load regions, sample table and HDUs... \n",
    "\n",
    "hdus_cutouts  = dendro_misc.load_pickle('%s/hdus_all.pickel' %cutout_dir)\n",
    "regions       = dendro_misc.load_pickle(regions_pickel_file)\n",
    "sample_table  = dendro_misc.get_galaxyprops(galaxy, sample_table_file)\n",
    "muscat_table  = dendro_misc.get_museprops(galaxy, muscat_table_file)\n",
    "hdus          = dendro_misc.load_pickle('%s/hdus_all_withmasked_withdendro.pickel' %dendro_dir)\n",
    "props_all     = dendro_misc.load_pickle('%s/props_all.pickel' %dendro_dir)\n",
    "cluster_table = dendro_misc.load_table(cluster_table_file)"
   ]
  },
  {
   "cell_type": "code",
   "execution_count": 4,
   "id": "f2a37a97",
   "metadata": {
    "execution": {
     "iopub.execute_input": "2024-03-17T18:24:32.762624Z",
     "iopub.status.busy": "2024-03-17T18:24:32.762501Z",
     "iopub.status.idle": "2024-03-17T18:25:10.582514Z",
     "shell.execute_reply": "2024-03-17T18:25:10.582234Z"
    }
   },
   "outputs": [
    {
     "data": {
      "application/vnd.jupyter.widget-view+json": {
       "model_id": "27bd1deb93024bad8727f0666f49e85c",
       "version_major": 2,
       "version_minor": 0
      },
      "text/plain": [
       "  0%|          | 0/1857 [00:00<?, ?it/s]"
      ]
     },
     "metadata": {},
     "output_type": "display_data"
    },
    {
     "name": "stderr",
     "output_type": "stream",
     "text": [
      "rm: /Users/abarnes/Dropbox/work/Smallprojects/galaxies/data_hstha_nebulae_catalogue/ngc5068/dendro/ngc5068_clusters_regions.reg: No such file or directory\n"
     ]
    },
    {
     "data": {
      "application/vnd.jupyter.widget-view+json": {
       "model_id": "d17b14e138384b8198e7ceaff4cd2786",
       "version_major": 2,
       "version_minor": 0
      },
      "text/plain": [
       "  0%|          | 0/1591 [00:00<?, ?it/s]"
      ]
     },
     "metadata": {},
     "output_type": "display_data"
    }
   ],
   "source": [
    "# Get clusters withing the Dendro leaves, and export region file of these clusters\n",
    "\n",
    "props_all_cluster = dendro_clusters.get_clusters(cluster_table, hdus, props_all)\n",
    "dendro_clusters.get_clusters_regions(props_all_cluster, dendro_dir, galaxy)"
   ]
  },
  {
   "cell_type": "code",
   "execution_count": 5,
   "id": "7b7826f7-45fe-4452-af1c-90a0f08b2b1e",
   "metadata": {
    "execution": {
     "iopub.execute_input": "2024-03-17T18:25:10.586478Z",
     "iopub.status.busy": "2024-03-17T18:25:10.586363Z",
     "iopub.status.idle": "2024-03-17T18:25:10.795848Z",
     "shell.execute_reply": "2024-03-17T18:25:10.795529Z"
    }
   },
   "outputs": [
    {
     "name": "stdout",
     "output_type": "stream",
     "text": [
      "[INFO] [save_pickle] Saved to /Users/abarnes/Dropbox/work/Smallprojects/galaxies/data_hstha_nebulae_catalogue/ngc5068/dendro/props_all_cluster.pickel\n"
     ]
    }
   ],
   "source": [
    "# Save table with appended cluster information\n",
    "\n",
    "dendro_misc.save_pickle(props_all_cluster, '%s/props_all_cluster.pickel' %dendro_dir)        \n",
    "props_all_cluster.write('%s/props_all_cluster.fits' %dendro_dir, overwrite=True)"
   ]
  },
  {
   "cell_type": "code",
   "execution_count": 6,
   "id": "57222d40",
   "metadata": {
    "execution": {
     "iopub.execute_input": "2024-03-17T18:25:10.797705Z",
     "iopub.status.busy": "2024-03-17T18:25:10.797595Z",
     "iopub.status.idle": "2024-03-17T18:25:10.922545Z",
     "shell.execute_reply": "2024-03-17T18:25:10.922164Z"
    }
   },
   "outputs": [
    {
     "data": {
      "text/html": [
       "<div><i>Table length=27</i>\n",
       "<table id=\"table140392294968576\" class=\"table-striped table-bordered table-condensed\">\n",
       "<thead><tr><th>region_ID</th><th>hstcat_region_ID</th><th>_idx</th><th>area_ellipse</th><th>area_exact</th><th>HA6562_FLUX_HST</th><th>major_sigma</th><th>minor_sigma</th><th>position_angle</th><th>mean_sigma</th><th>x_cen</th><th>y_cen</th><th>radius_trunk</th><th>radius_trunkclose</th><th>major_fwtm</th><th>minor_fwtm</th><th>mean_fwtm</th><th>mean_hwtm</th><th>major_fwhm</th><th>minor_fwhm</th><th>mean_fwhm</th><th>mean_hwhm</th><th>min_npix</th><th>min_value_sig</th><th>min_delta_sig</th><th>radius_trunk_pc</th><th>radius_trunkclose_pc</th><th>major_fwtm_pc</th><th>minor_fwtm_pc</th><th>mean_fwtm_pc</th><th>mean_hwtm_pc</th><th>major_fwhm_pc</th><th>minor_fwhm_pc</th><th>mean_fwhm_pc</th><th>mean_hwhm_pc</th><th>ra_cen</th><th>dec_cen</th><th>mean_sigma_pc</th><th>x_max</th><th>y_max</th><th>ra_max</th><th>dec_max</th><th>flag_edge_hst</th><th>gal_name</th><th>cen_x</th><th>cen_y</th><th>cen_ra</th><th>cen_dec</th><th>cen_x_geo</th><th>cen_y_geo</th><th>flag_edge</th><th>flag_nearby</th><th>flag_star</th><th>deproj_dist</th><th>deproj_phi</th><th>region_area</th><th>region_circ_rad</th><th>HB4861_FLUX</th><th>OIII5006_FLUX</th><th>HA6562_FLUX</th><th>NII6583_FLUX</th><th>SII6716_FLUX</th><th>SII6730_FLUX</th><th>SIII9068_FLUX</th><th>OI6300_FLUX</th><th>NII5754_FLUX</th><th>HEI5875_FLUX</th><th>SIII6312_FLUX</th><th>OI6363_FLUX</th><th>OII7319_FLUX</th><th>OII7330_FLUX</th><th>HB4861_FLUX_ERR</th><th>OIII5006_FLUX_ERR</th><th>HA6562_FLUX_ERR</th><th>NII6583_FLUX_ERR</th><th>SII6716_FLUX_ERR</th><th>SII6730_FLUX_ERR</th><th>SIII9068_FLUX_ERR</th><th>OI6300_FLUX_ERR</th><th>NII5754_FLUX_ERR</th><th>HEI5875_FLUX_ERR</th><th>SIII6312_FLUX_ERR</th><th>OI6363_FLUX_ERR</th><th>OII7319_FLUX_ERR</th><th>OII7330_FLUX_ERR</th><th>HA6562_SIGMA</th><th>NII6583_SIGMA</th><th>OIII5006_SIGMA</th><th>HA6562_VEL</th><th>NII6583_VEL</th><th>OIII5006_VEL</th><th>HA6562_SIGMA_ERR</th><th>NII6583_SIGMA_ERR</th><th>OIII5006_SIGMA_ERR</th><th>HA6562_VEL_ERR</th><th>NII6583_VEL_ERR</th><th>OIII5006_VEL_ERR</th><th>HB4861_FLUX_CORR</th><th>OIII5006_FLUX_CORR</th><th>HA6562_FLUX_CORR</th><th>NII6583_FLUX_CORR</th><th>SII6716_FLUX_CORR</th><th>SII6730_FLUX_CORR</th><th>SIII9068_FLUX_CORR</th><th>OI6300_FLUX_CORR</th><th>NII5754_FLUX_CORR</th><th>HEI5875_FLUX_CORR</th><th>SIII6312_FLUX_CORR</th><th>OI6363_FLUX_CORR</th><th>OII7319_FLUX_CORR</th><th>OII7330_FLUX_CORR</th><th>HB4861_FLUX_CORR_ERR</th><th>OIII5006_FLUX_CORR_ERR</th><th>HA6562_FLUX_CORR_ERR</th><th>NII6583_FLUX_CORR_ERR</th><th>SII6716_FLUX_CORR_ERR</th><th>SII6730_FLUX_CORR_ERR</th><th>SIII9068_FLUX_CORR_ERR</th><th>OI6300_FLUX_CORR_ERR</th><th>NII5754_FLUX_CORR_ERR</th><th>HEI5875_FLUX_CORR_ERR</th><th>SIII6312_FLUX_CORR_ERR</th><th>OI6363_FLUX_CORR_ERR</th><th>OII7319_FLUX_CORR_ERR</th><th>OII7330_FLUX_CORR_ERR</th><th>EBV</th><th>EBV_ERR</th><th>met_scal</th><th>met_scal_err</th><th>logq_D91</th><th>logq_D91_err</th><th>t_N2</th><th>t_S3</th><th>t_N2_err</th><th>t_S3_err</th><th>BPT_NII</th><th>BPT_SII</th><th>BPT_OI</th><th>LOG_SIGMA_SFR_CHAB</th><th>LOG_SIGMA_STMASS_CHAB</th><th>5thNN_dist</th><th>NN_number</th><th>Environment</th><th>r_R25</th><th>r_reff</th><th>Lum_HA6562_CORR</th><th>Delta_met_scal</th><th>pc_per_pixel</th><th>EW_HA6562_raw</th><th>EW_HA6562_raw_ERR</th><th>EW_HB4861_raw</th><th>EW_HB4861_raw_ERR</th><th>EW_HA6562_fit</th><th>EW_HA6562_fit_ERR</th><th>EW_HB4861_fit</th><th>EW_HB4861_fit_ERR</th><th>EW_HA6562_bgcorr</th><th>EW_HA6562_bgcorr_ERR</th><th>EW_HB4861_bgcorr</th><th>EW_HB4861_bgcorr_ERR</th><th>HII_class_v2</th><th>HII_class_v3</th><th>HA6562_FLUX_HST_CORR</th><th>HA6562_LUMINOSITY_HST</th><th>INDEX</th><th>ID_PHANGS_CLUSTERS</th><th>PHANGS_X</th><th>PHANGS_Y</th><th>PHANGS_RA</th><th>PHANGS_DEC</th><th>PHANGS_CLUSTER_CLASS_HUMAN</th><th>PHANGS_CLUSTER_CLASS_ML_VGG</th><th>PHANGS_CLUSTER_CLASS_ML_VGG_QUAL</th><th>PHANGS_F275W_VEGA_TOT</th><th>PHANGS_F275W_VEGA_TOT_ERR</th><th>PHANGS_F336W_VEGA_TOT</th><th>PHANGS_F336W_VEGA_TOT_ERR</th><th>PHANGS_F438W_VEGA_TOT</th><th>PHANGS_F438W_VEGA_TOT_ERR</th><th>PHANGS_F555W_VEGA_TOT</th><th>PHANGS_F555W_VEGA_TOT_ERR</th><th>PHANGS_F814W_VEGA_TOT</th><th>PHANGS_F814W_VEGA_TOT_ERR</th><th>PHANGS_F275W_mJy_TOT</th><th>PHANGS_F275W_mJy_TOT_ERR</th><th>PHANGS_F336W_mJy_TOT</th><th>PHANGS_F336W_mJy_TOT_ERR</th><th>PHANGS_F438W_mJy_TOT</th><th>PHANGS_F438W_mJy_TOT_ERR</th><th>PHANGS_F555W_mJy_TOT</th><th>PHANGS_F555W_mJy_TOT_ERR</th><th>PHANGS_F814W_mJy_TOT</th><th>PHANGS_F814W_mJy_TOT_ERR</th><th>PHANGS_CI</th><th>PHANGS_AGE_MINCHISQ</th><th>PHANGS_AGE_MINCHISQ_ERR</th><th>PHANGS_MASS_MINCHISQ</th><th>PHANGS_MASS_MINCHISQ_ERR</th><th>PHANGS_EBV_MINCHISQ</th><th>PHANGS_EBV_MINCHISQ_ERR</th><th>PHANGS_REDUCED_MINCHISQ</th><th>PHANGS_NO_COVERAGE_FLAG</th><th>PHANGS_NON_DETECTION_FLAG</th><th>x_cluster</th><th>y_cluster</th></tr></thead>\n",
       "<thead><tr><th></th><th></th><th></th><th>arcsec2</th><th>arcsec2</th><th>erg / (s cm2)</th><th>arcsec</th><th>arcsec</th><th>deg</th><th>arcsec</th><th>pix</th><th>pix</th><th>arcsec</th><th>arcsec</th><th>arcsec</th><th>arcsec</th><th>arcsec</th><th>arcsec</th><th>arcsec</th><th>arcsec</th><th>arcsec</th><th>arcsec</th><th></th><th></th><th></th><th>pc</th><th>pc</th><th>pc</th><th>pc</th><th>pc</th><th>pc</th><th>pc</th><th>pc</th><th>pc</th><th>pc</th><th>deg</th><th>deg</th><th>pc</th><th>pix</th><th>pix</th><th>deg</th><th>deg</th><th></th><th></th><th>pix</th><th>pix</th><th>deg</th><th>deg</th><th>pix</th><th>pix</th><th></th><th></th><th></th><th>arcsec</th><th>rad</th><th>pix2</th><th>arcsec</th><th>1e-20 erg / (s cm2)</th><th>1e-20 erg / (s cm2)</th><th>1e-20 erg / (s cm2)</th><th>1e-20 erg / (s cm2)</th><th>1e-20 erg / (s cm2)</th><th>1e-20 erg / (s cm2)</th><th>1e-20 erg / (s cm2)</th><th>1e-20 erg / (s cm2)</th><th>1e-20 erg / (s cm2)</th><th>1e-20 erg / (s cm2)</th><th>1e-20 erg / (s cm2)</th><th>1e-20 erg / (s cm2)</th><th>1e-20 erg / (s cm2)</th><th>1e-20 erg / (s cm2)</th><th>1e-20 erg / (s cm2)</th><th>1e-20 erg / (s cm2)</th><th>1e-20 erg / (s cm2)</th><th>1e-20 erg / (s cm2)</th><th>1e-20 erg / (s cm2)</th><th>1e-20 erg / (s cm2)</th><th>1e-20 erg / (s cm2)</th><th>1e-20 erg / (s cm2)</th><th>1e-20 erg / (s cm2)</th><th>1e-20 erg / (s cm2)</th><th>1e-20 erg / (s cm2)</th><th>1e-20 erg / (s cm2)</th><th>1e-20 erg / (s cm2)</th><th>1e-20 erg / (s cm2)</th><th>km / s</th><th>km / s</th><th>km / s</th><th>km / s</th><th>km / s</th><th>km / s</th><th>km / s</th><th>km / s</th><th>km / s</th><th>km / s</th><th>km / s</th><th>km / s</th><th>erg / (s cm2)</th><th>erg / (s cm2)</th><th>erg / (s cm2)</th><th>erg / (s cm2)</th><th>erg / (s cm2)</th><th>erg / (s cm2)</th><th>erg / (s cm2)</th><th>erg / (s cm2)</th><th>erg / (s cm2)</th><th>erg / (s cm2)</th><th>erg / (s cm2)</th><th>erg / (s cm2)</th><th>erg / (s cm2)</th><th>erg / (s cm2)</th><th>erg / (s cm2)</th><th>erg / (s cm2)</th><th>erg / (s cm2)</th><th>erg / (s cm2)</th><th>erg / (s cm2)</th><th>erg / (s cm2)</th><th>erg / (s cm2)</th><th>erg / (s cm2)</th><th>erg / (s cm2)</th><th>erg / (s cm2)</th><th>erg / (s cm2)</th><th>erg / (s cm2)</th><th>erg / (s cm2)</th><th>erg / (s cm2)</th><th>mag</th><th>mag</th><th></th><th></th><th></th><th></th><th>K</th><th>K</th><th>K</th><th>K</th><th></th><th></th><th></th><th>solMass / (yr kpc2)</th><th>solMass / kpc2</th><th>pc</th><th></th><th></th><th></th><th></th><th>erg / s</th><th></th><th>pc</th><th></th><th></th><th></th><th></th><th>Angstrom</th><th>Angstrom</th><th>Angstrom</th><th>Angstrom</th><th>Angstrom</th><th>Angstrom</th><th>Angstrom</th><th>Angstrom</th><th></th><th></th><th>erg / (s cm2)</th><th>erg / s</th><th></th><th></th><th></th><th></th><th></th><th></th><th></th><th></th><th></th><th></th><th></th><th></th><th></th><th></th><th></th><th></th><th></th><th></th><th></th><th></th><th></th><th></th><th></th><th></th><th></th><th></th><th></th><th></th><th></th><th></th><th></th><th></th><th></th><th></th><th></th><th></th><th></th><th></th><th></th><th>pix</th><th>pix</th></tr></thead>\n",
       "<thead><tr><th>float64</th><th>int64</th><th>int64</th><th>float64</th><th>float64</th><th>float64</th><th>float64</th><th>float64</th><th>float64</th><th>float64</th><th>float64</th><th>float64</th><th>float64</th><th>float64</th><th>float64</th><th>float64</th><th>float64</th><th>float64</th><th>float64</th><th>float64</th><th>float64</th><th>float64</th><th>int64</th><th>int64</th><th>int64</th><th>float64</th><th>float64</th><th>float64</th><th>float64</th><th>float64</th><th>float64</th><th>float64</th><th>float64</th><th>float64</th><th>float64</th><th>float64</th><th>float64</th><th>float64</th><th>float64</th><th>float64</th><th>float64</th><th>float64</th><th>int64</th><th>bytes32</th><th>float64</th><th>float64</th><th>float64</th><th>float64</th><th>float64</th><th>float64</th><th>float64</th><th>float64</th><th>float64</th><th>float64</th><th>float64</th><th>float64</th><th>float64</th><th>float64</th><th>float64</th><th>float64</th><th>float64</th><th>float64</th><th>float64</th><th>float64</th><th>float64</th><th>float64</th><th>float64</th><th>float64</th><th>float64</th><th>float64</th><th>float64</th><th>float64</th><th>float64</th><th>float64</th><th>float64</th><th>float64</th><th>float64</th><th>float64</th><th>float64</th><th>float64</th><th>float64</th><th>float64</th><th>float64</th><th>float64</th><th>float64</th><th>float64</th><th>float64</th><th>float64</th><th>float64</th><th>float64</th><th>float64</th><th>float64</th><th>float64</th><th>float64</th><th>float64</th><th>float64</th><th>float64</th><th>float64</th><th>float64</th><th>float64</th><th>float64</th><th>float64</th><th>float64</th><th>float64</th><th>float64</th><th>float64</th><th>float64</th><th>float64</th><th>float64</th><th>float64</th><th>float64</th><th>float64</th><th>float64</th><th>float64</th><th>float64</th><th>float64</th><th>float64</th><th>float64</th><th>float64</th><th>float64</th><th>float64</th><th>float64</th><th>float64</th><th>float64</th><th>float64</th><th>float64</th><th>float64</th><th>float64</th><th>float64</th><th>float64</th><th>float64</th><th>float64</th><th>float64</th><th>float64</th><th>float64</th><th>float64</th><th>float64</th><th>float64</th><th>float64</th><th>float64</th><th>float64</th><th>float64</th><th>float64</th><th>float64</th><th>float64</th><th>float64</th><th>float64</th><th>float64</th><th>float64</th><th>float64</th><th>float64</th><th>float64</th><th>float64</th><th>float64</th><th>float64</th><th>float64</th><th>float64</th><th>float64</th><th>float64</th><th>float64</th><th>int64</th><th>int64</th><th>float64</th><th>float64</th><th>int64</th><th>int64</th><th>float64</th><th>float64</th><th>float64</th><th>float64</th><th>float64</th><th>int64</th><th>float64</th><th>float64</th><th>float64</th><th>float64</th><th>float64</th><th>float64</th><th>float64</th><th>float64</th><th>float64</th><th>float64</th><th>float64</th><th>float64</th><th>float64</th><th>float64</th><th>float64</th><th>float64</th><th>float64</th><th>float64</th><th>float64</th><th>float64</th><th>float64</th><th>float64</th><th>float64</th><th>float64</th><th>float64</th><th>float64</th><th>float64</th><th>float64</th><th>float64</th><th>float64</th><th>float64</th><th>float64</th><th>float64</th></tr></thead>\n",
       "<tr><td>6.0</td><td>6</td><td>0</td><td>0.16063343544041783</td><td>0.9324281735999906</td><td>921528.375</td><td>0.21366709190901237</td><td>0.17262368086451724</td><td>59.14191692165057</td><td>0.19205207597146878</td><td>89.92408452509514</td><td>86.38589907125501</td><td>0.5447945537660714</td><td>0.563282679856695</td><td>0.9170591584734811</td><td>0.7409008382705079</td><td>0.8289799983719945</td><td>0.41448999918599727</td><td>0.5031475509908125</td><td>0.4064977039467907</td><td>0.45482262746880164</td><td>0.22741131373440082</td><td>9</td><td>3</td><td>3</td><td>13.734426954026405</td><td>14.200517915386367</td><td>23.11932440863427</td><td>18.67832263200747</td><td>20.89882352032087</td><td>10.449411760160435</td><td>12.684494069204401</td><td>10.247923704894323</td><td>11.466208887049362</td><td>5.733104443524681</td><td>199.7137511445993</td><td>-21.026736095609728</td><td>4.841687918069527</td><td>90.0</td><td>85.0</td><td>199.71375024927588</td><td>-21.02675134818657</td><td>0</td><td>NGC5068</td><td>698.2509061792724</td><td>741.661104917133</td><td>199.71377073431225</td><td>-21.026710665039193</td><td>697.9918032786885</td><td>742.2295081967213</td><td>0.0</td><td>0.0</td><td>0.0</td><td>68.98983276610352</td><td>1.0408278360436853</td><td>244.0</td><td>1.7625846048215097</td><td>337912.55533347186</td><td>341045.4848783144</td><td>1125553.756821791</td><td>223836.71395601588</td><td>98721.36522918174</td><td>73330.02745150136</td><td>100927.85410726017</td><td>8707.375679899114</td><td>2468.643830725918</td><td>38520.197547497904</td><td>2469.741079050592</td><td>2928.771189785892</td><td>5329.491381653877</td><td>5286.443539503474</td><td>534.8693975318616</td><td>444.139168344326</td><td>784.0917386261251</td><td>303.41990482380135</td><td>246.75442369577405</td><td>225.66173756933358</td><td>308.87372367196286</td><td>170.8410931733914</td><td>191.34583682131606</td><td>376.36743444572494</td><td>170.02438067281122</td><td>57.46329205397892</td><td>149.06664125658406</td><td>148.18620096355673</td><td>10.532507720616026</td><td>21.350354561553214</td><td>1.0</td><td>4.018787738781717</td><td>5.169651764080305</td><td>5.067065281196606</td><td>0.12873751736413236</td><td>0.1651242931359205</td><td>3.400151386878982</td><td>0.0339349524094878</td><td>0.07222649727513616</td><td>0.08819605524400922</td><td>550370.3584080035</td><td>545173.1625120224</td><td>1574147.237133458</td><td>312680.8419349376</td><td>136893.5142475007</td><td>101605.77518499359</td><td>122695.1275171185</td><td>12363.322520840178</td><td>3642.3977391350286</td><td>56286.14300858467</td><td>3504.1782402071044</td><td>4142.908875507031</td><td>7142.617511391804</td><td>7080.319888828394</td><td>3168.222005690794</td><td>2987.157754944332</td><td>6090.562615883449</td><td>1259.3396478062828</td><td>612.2744045019863</td><td>488.99822885289154</td><td>463.58028593130814</td><td>247.50607209474515</td><td>282.78136640728815</td><td>600.9260831851088</td><td>241.63878882312483</td><td>82.9036453853749</td><td>201.18449232397307</td><td>199.85403737013584</td><td>0.14458270594684214</td><td>0.0016404367299761716</td><td>8.46494567530474</td><td>0.0012284789731677778</td><td>7.91280509874821</td><td>0.003653170751001286</td><td>9126.602922073544</td><td>7311.25830337258</td><td>261.26448706390335</td><td>160.69999045692566</td><td>0.0</td><td>0.0</td><td>0.0</td><td>-1.4135453874553459</td><td>8.060333305058288</td><td>154.289645745288</td><td>42.0</td><td>9.0</td><td>0.30737168967493766</td><td>0.8848712290977042</td><td>5.092874347874151e+37</td><td>0.1357002125447906</td><td>5.0347049077200685</td><td>129.90108939450647</td><td>0.19258615416293937</td><td>23.774950487941236</td><td>0.09134968238719816</td><td>132.22734853657448</td><td>1.105550647798248</td><td>27.85742828637034</td><td>0.2933057704961093</td><td>1428.1850338653283</td><td>37.38450366148566</td><td>167.6886600113348</td><td>4.609728774181216</td><td>1</td><td>1</td><td>1288806.8087857773</td><td>4.169705831042038e+37</td><td>518</td><td>4863</td><td>6188.85</td><td>7042.33</td><td>199.71376380842435</td><td>-21.026758722085976</td><td>2.0</td><td>2</td><td>1.0</td><td>19.462445759700746</td><td>0.019922060629375543</td><td>19.76241884465576</td><td>0.023236441821092364</td><td>21.376498817219776</td><td>0.022135432215844568</td><td>21.082154419040283</td><td>0.01746731439509463</td><td>20.817653565176304</td><td>0.025335864098451944</td><td>0.014668364592592322</td><td>0.00026941726089168677</td><td>0.015343076913900869</td><td>0.0003286938290283201</td><td>0.011805393648306803</td><td>0.0002409228224668263</td><td>0.013734670101303881</td><td>0.0002211840634872332</td><td>0.011512736742643588</td><td>0.0002689204055953337</td><td>1.5846533626856165</td><td>1.0</td><td>2.0</td><td>5664.054051637209</td><td>2210.557907189688</td><td>0.33</td><td>0.030000000000000027</td><td>6.374322166918953</td><td>0.0</td><td>0.0</td><td>88.8499999991092</td><td>84.33000000038123</td></tr>\n",
       "<tr><td>8.0</td><td>8</td><td>0</td><td>0.03753165296840602</td><td>0.20406677199999795</td><td>154029.65625</td><td>0.10169828673835749</td><td>0.08473954343291838</td><td>-165.12505243831893</td><td>0.09283246407436588</td><td>74.1247799830591</td><td>70.71676674490026</td><td>0.25486559392984554</td><td>0.2597206129203477</td><td>0.43648904668103033</td><td>0.3637021204140857</td><td>0.40009558354755803</td><td>0.20004779177377902</td><td>0.23948116415678938</td><td>0.19954637548260695</td><td>0.21951376981969817</td><td>0.10975688490984908</td><td>9</td><td>3</td><td>3</td><td>6.425234721467251</td><td>6.547631142695233</td><td>11.004014057099745</td><td>9.169034769750423</td><td>10.086524413425085</td><td>5.0432622067125426</td><td>6.037388834450331</td><td>5.030621358199915</td><td>5.5340050963251235</td><td>2.7670025481625617</td><td>199.70766605341345</td><td>-21.004291942359995</td><td>2.3403330447740296</td><td>74.0</td><td>70.0</td><td>199.70766752398904</td><td>-21.004299830844943</td><td>0</td><td>NGC5068</td><td>800.8192514184835</td><td>1145.736139006304</td><td>199.70766920236113</td><td>-21.004261409483956</td><td>800.4674556213017</td><td>1145.9171597633135</td><td>0.0</td><td>0.0</td><td>0.0</td><td>143.35969963808532</td><td>1.3729947341465565</td><td>169.0</td><td>1.4668929172241665</td><td>83166.27716447852</td><td>199636.38403734108</td><td>321757.68278454023</td><td>31298.64731763042</td><td>30917.207274654844</td><td>21795.155277969177</td><td>25811.708503081274</td><td>4392.435055803018</td><td>512.3180894176858</td><td>8019.0468484228895</td><td>1871.0485340125704</td><td>1477.4184228824402</td><td>1454.9842391288064</td><td>2983.2249606931637</td><td>340.93356070800303</td><td>401.23610081536987</td><td>425.61113747704815</td><td>172.46367426970767</td><td>172.48423007976652</td><td>159.1162853310726</td><td>240.7002861060642</td><td>148.14964040843472</td><td>171.81804860636922</td><td>302.2876973796468</td><td>161.01961556526953</td><td>49.83090365642644</td><td>151.9607809071112</td><td>129.12411181904412</td><td>23.400149496573615</td><td>24.73488172505978</td><td>7.712434902116884</td><td>34.20129355658198</td><td>38.72775594784043</td><td>32.62918829845102</td><td>0.1633244873107649</td><td>0.5382475865635757</td><td>1.0565670217543226</td><td>0.08037692318688314</td><td>0.24993858388396306</td><td>0.16364977704071412</td><td>218718.05632172275</td><td>505899.6844755924</td><td>625602.9738350896</td><td>60713.62682050893</td><td>59104.59256783859</td><td>41602.223716487744</td><td>38013.892306248235</td><td>8800.272709879195</td><td>1107.633610092638</td><td>17006.784005263806</td><td>3743.3039469751043</td><td>2938.1046376987288</td><td>2599.812565817976</td><td>5323.657083024493</td><td>3145.6720161016233</td><td>6783.229117987578</td><td>5988.010411513111</td><td>663.9788318754813</td><td>637.8749432005192</td><td>489.14907347640013</td><td>411.9238343091995</td><td>309.35866858941483</td><td>371.67075116563217</td><td>666.5025681904178</td><td>324.2620300970697</td><td>103.1967996787338</td><td>272.3794192506163</td><td>234.58132479245378</td><td>0.2865965519033475</td><td>0.004086013618844493</td><td>8.265382006320422</td><td>0.0032954281434998314</td><td>7.686917753119001</td><td>0.00981957386293437</td><td>--</td><td>12025.067959573096</td><td>--</td><td>537.4899462337879</td><td>0.0</td><td>0.0</td><td>0.0</td><td>-1.654788812689343</td><td>6.734828803659716</td><td>171.70255768439281</td><td>31.0</td><td>9.0</td><td>0.6387131457245677</td><td>1.8387473709627156</td><td>2.0240275256592083e+37</td><td>0.025512069957681405</td><td>5.0347049077200685</td><td>153.12294500755573</td><td>0.7196720383492219</td><td>25.923918741249828</td><td>0.31561753362597766</td><td>155.96776978457885</td><td>4.635713943238424</td><td>28.839926451133202</td><td>1.1221899529727561</td><td>917.7180857182157</td><td>48.33752386757944</td><td>186.21451844259298</td><td>18.56755005198209</td><td>1</td><td>1</td><td>299484.41378266463</td><td>9.689287005181778e+36</td><td>693</td><td>6246</td><td>6706.06</td><td>9083.6</td><td>199.70766681702523</td><td>-21.004293227479597</td><td>-9999.0</td><td>2</td><td>0.5</td><td>22.031223461431406</td><td>0.10924731940237024</td><td>22.109573518105268</td><td>0.08922748908951159</td><td>23.69993275368499</td><td>0.08939339849842837</td><td>22.643070206737985</td><td>0.03206672335150215</td><td>22.671830810028904</td><td>0.0596643178302764</td><td>0.001376799233154184</td><td>0.00013867266689039187</td><td>0.0017662435657096914</td><td>0.00014529769592845808</td><td>0.0013890148810495077</td><td>0.00011447794102357453</td><td>0.0032617593599036016</td><td>9.643084340018054e-05</td><td>0.0020869290092583857</td><td>0.00011479733823426963</td><td>1.4459617632580202</td><td>2.0</td><td>1.0</td><td>1484.7075030913013</td><td>507.3260555598504</td><td>0.55</td><td>0.07000000000000006</td><td>13.695048498160297</td><td>0.0</td><td>0.0</td><td>74.05999999978451</td><td>70.59999999870934</td></tr>\n",
       "<tr><td>13.0</td><td>13</td><td>0</td><td>0.1455780301013038</td><td>1.0203338599999898</td><td>1452175.125</td><td>0.22572111548594068</td><td>0.14808999379283502</td><td>149.1233579491638</td><td>0.18283062815410536</td><td>106.50616082552337</td><td>102.52752669504187</td><td>0.5698967931529924</td><td>0.5930971872773914</td><td>0.9687950276656574</td><td>0.6356022533588479</td><td>0.8021986405122526</td><td>0.4010993202561263</td><td>0.531532607333039</td><td>0.3487252858518768</td><td>0.4401289465924579</td><td>0.22006447329622894</td><td>9</td><td>3</td><td>3</td><td>14.367261608592699</td><td>14.952150198618883</td><td>24.42360050943413</td><td>16.023715105492933</td><td>20.223657807463532</td><td>10.111828903731766</td><td>13.40008948076505</td><td>8.791464474902138</td><td>11.095776977833594</td><td>5.547888488916797</td><td>199.7294978310812</td><td>-21.040303868447584</td><td>4.609212573772443</td><td>107.0</td><td>101.0</td><td>199.72949200938507</td><td>-21.040320680186717</td><td>1</td><td>NGC5068</td><td>433.6492286138022</td><td>497.45434774795285</td><td>199.7295195391382</td><td>-21.04027837647406</td><td>433.50877192982455</td><td>497.57602339181284</td><td>0.0</td><td>1.0</td><td>0.0</td><td>7.573191496408382</td><td>4.303129231173403</td><td>342.0</td><td>2.086738901490615</td><td>718433.7496280831</td><td>860883.1739314365</td><td>2349852.1428505043</td><td>542015.8943600415</td><td>328358.43978496117</td><td>240608.0058944594</td><td>229753.82744152177</td><td>32505.20759758504</td><td>9663.014369420718</td><td>87556.05080887006</td><td>3346.0310295146255</td><td>10933.295981427043</td><td>6217.611970882832</td><td>8628.75922462533</td><td>1106.4427098947735</td><td>1048.9364438339178</td><td>1291.7755395495788</td><td>616.720031974111</td><td>579.5252069369657</td><td>543.4768232162269</td><td>752.4025013014219</td><td>423.53929184607466</td><td>522.9373971725013</td><td>784.5306880258498</td><td>415.88489935241734</td><td>142.4596481537677</td><td>410.83513479504904</td><td>409.1113566172981</td><td>22.492539315450987</td><td>27.87985445010396</td><td>14.967871173225038</td><td>0.3186036658178177</td><td>1.3365448093009678</td><td>1.0415355452794217</td><td>0.06444951188817283</td><td>0.12126256607537919</td><td>0.34198702368109224</td><td>0.030642839760232445</td><td>0.063089674878953</td><td>0.09309230201665407</td><td>1103897.24740102</td><td>1301153.9333333897</td><td>3157301.5669329115</td><td>727510.4218577358</td><td>437884.15098841384</td><td>320646.11656767194</td><td>272864.12487234507</td><td>44260.11476670818</td><td>13610.072300953994</td><td>122270.49840883244</td><td>4553.169452284362</td><td>14838.062795585305</td><td>8046.419364531377</td><td>11160.374838417083</td><td>6022.072265303227</td><td>6737.348304497475</td><td>11494.089364730386</td><td>2737.138011779587</td><td>1719.2198292194091</td><td>1335.3710915335053</td><td>1060.8217558008948</td><td>600.248093346496</td><td>738.7285490924738</td><td>1203.253692895813</td><td>566.1805171071779</td><td>201.06659574066535</td><td>532.2760500869819</td><td>530.2968181877513</td><td>0.1273101070634448</td><td>0.0015511476330479187</td><td>8.443473518323648</td><td>0.0014965942841945158</td><td>7.651789039606413</td><td>0.0035256917112708674</td><td>11018.106716857452</td><td>6253.72694875834</td><td>293.7074943627827</td><td>205.94978394248864</td><td>0.0</td><td>0.0</td><td>0.0</td><td>-1.257910953493285</td><td>8.748267344962729</td><td>110.5161544182529</td><td>62.0</td><td>2.0</td><td>0.0337409814338123</td><td>0.09713459214111457</td><td>1.0214889547445954e+38</td><td>0.04041933606610293</td><td>5.0347049077200685</td><td>41.71295207540105</td><td>0.034696689890652124</td><td>6.426580753481953</td><td>0.03313364516672176</td><td>43.725999163533956</td><td>0.14833948127808852</td><td>10.406826842724564</td><td>0.055566952560478174</td><td>321.0824809185164</td><td>2.470798438970965</td><td>40.10001733676849</td><td>0.49090787956277127</td><td>1</td><td>1</td><td>1951167.358156282</td><td>6.312655904035847e+37</td><td>366</td><td>3233</td><td>4855.3</td><td>5810.08</td><td>199.72948847178532</td><td>-21.040319800021464</td><td>2.0</td><td>2</td><td>0.8</td><td>20.914379171984027</td><td>0.03540781232072621</td><td>20.5757862751698</td><td>0.023365240393714595</td><td>22.2846964394713</td><td>0.0344618272507829</td><td>21.449718650258546</td><td>0.017477752546689283</td><td>21.186147293865243</td><td>0.022809500497930298</td><td>0.0038513087044357874</td><td>0.00012572362329114483</td><td>0.007253798543273244</td><td>0.00015625905964098335</td><td>0.005114479288195885</td><td>0.0001624984370381536</td><td>0.009790222001273266</td><td>0.00015775661862885867</td><td>0.008199381287817427</td><td>0.00017242741609252047</td><td>1.8111292052224697</td><td>1.0</td><td>2.0</td><td>7017.252166411428</td><td>2222.437500085126</td><td>0.58</td><td>0.0</td><td>17.92933735222096</td><td>0.0</td><td>0.0</td><td>107.29999999843767</td><td>101.08000000006547</td></tr>\n",
       "<tr><td>22.0</td><td>22</td><td>0</td><td>1.093862417771324</td><td>4.861498406799951</td><td>2422559.0</td><td>0.6050835699332039</td><td>0.41509681893057054</td><td>47.55639879728128</td><td>0.5011669034028747</td><td>141.61610685569661</td><td>143.44668013613685</td><td>1.2439706606472567</td><td>1.3591402066498346</td><td>2.597018682153311</td><td>1.7815955468500086</td><td>2.18930711450166</td><td>1.09465355725083</td><td>1.4248629193975948</td><td>0.9774783098462899</td><td>1.2011706146219423</td><td>0.6005853073109712</td><td>9</td><td>3</td><td>3</td><td>31.36085714055783</td><td>34.26431442728392</td><td>65.4715858330556</td><td>44.91453471896668</td><td>55.193060276011146</td><td>27.596530138005573</td><td>35.92120286571381</td><td>24.642508543676897</td><td>30.28185570469535</td><td>15.140927852347675</td><td>199.72512143323564</td><td>-21.03428500894513</td><td>12.634561375439109</td><td>143.0</td><td>146.0</td><td>199.7251051136791</td><td>-21.034256909111864</td><td>0</td><td>NGC5068</td><td>508.08703004359086</td><td>605.3544974136689</td><td>199.7250888478332</td><td>-21.03428388189035</td><td>510.3007751937985</td><td>604.6682170542636</td><td>0.0</td><td>1.0</td><td>0.0</td><td>19.405849612122417</td><td>1.3175570014383828</td><td>645.0</td><td>2.865727667372076</td><td>1066762.9709325898</td><td>243631.6451623444</td><td>3657615.810064733</td><td>998818.1572184835</td><td>678259.0256772933</td><td>472430.5147708444</td><td>245465.8043138393</td><td>38122.89959840952</td><td>9089.461949413497</td><td>90766.12712552803</td><td>122.53977037289134</td><td>12822.835963385882</td><td>6265.762455434571</td><td>9098.46252218226</td><td>1177.1406665018449</td><td>688.3132468616018</td><td>1660.6223599729797</td><td>807.9273283672926</td><td>723.8987763110874</td><td>648.2783456693609</td><td>718.4525681545418</td><td>463.0431928218925</td><td>541.732851625017</td><td>878.9037829879417</td><td>456.38328128559107</td><td>155.74699112774985</td><td>427.3957992997439</td><td>428.25554877048614</td><td>22.908400272067478</td><td>29.59067050776031</td><td>18.823644542354288</td><td>-0.4412666362346701</td><td>-0.7575041885832691</td><td>7.360034736460125</td><td>0.049684426053372636</td><td>0.07272542798433691</td><td>0.3427738850517832</td><td>0.02457554417709046</td><td>0.04066443624708733</td><td>0.14307138229465102</td><td>1906081.8447075828</td><td>425731.16818892094</td><td>5451756.760032091</td><td>1486685.0835101318</td><td>1000743.2640680118</td><td>696411.9644285077</td><td>309678.36600350065</td><td>57854.92025595857</td><td>14439.119032777433</td><td>142531.19269840344</td><td>185.80561165586056</td><td>19373.201083705066</td><td>8877.504884801248</td><td>12880.984209009794</td><td>7576.625368472486</td><td>1972.52120734037</td><td>14528.471731428739</td><td>4071.9482406111138</td><td>2774.828742145914</td><td>2018.5419049724208</td><td>1022.601987892239</td><td>720.4236406103505</td><td>861.6954097451373</td><td>1443.574642476161</td><td>692.0087853744014</td><td>241.11518860434995</td><td>605.8879999294257</td><td>607.0104837761368</td><td>0.17203381316862987</td><td>0.001131854941756448</td><td>8.444035205558269</td><td>0.0010885818697899475</td><td>7.156551542279058</td><td>0.002825024999249391</td><td>8558.207174056113</td><td>--</td><td>176.69516515411664</td><td>--</td><td>0.0</td><td>0.0</td><td>0.0</td><td>-1.2962241564455146</td><td>8.58123205796526</td><td>138.0238296074688</td><td>54.0</td><td>2.0</td><td>0.08645924400307382</td><td>0.24890157447085243</td><td>1.763819260298519e+38</td><td>0.05520116503622674</td><td>5.0347049077200685</td><td>49.16846401398162</td><td>0.03296393720147197</td><td>8.592991718562976</td><td>0.027462541953523097</td><td>51.58747914357063</td><td>0.14299305519914005</td><td>12.40256761478773</td><td>0.051622358968856176</td><td>267.8058217434755</td><td>1.08546926516143</td><td>35.90480476935738</td><td>0.22772062888927408</td><td>1</td><td>1</td><td>3610877.4378337017</td><td>1.1682353480036546e+38</td><td>450</td><td>4098</td><td>5223.66</td><td>6362.74</td><td>199.72514449529064</td><td>-21.034237757343504</td><td>1.0</td><td>1</td><td>0.9</td><td>18.761770749007194</td><td>0.01873461069275765</td><td>19.243804944862266</td><td>0.019459998293384084</td><td>20.9780686037243</td><td>0.028645719091452495</td><td>21.05541648636373</td><td>0.0295237617599052</td><td>21.18592448626275</td><td>0.04989710602147514</td><td>0.02796737465973299</td><td>0.0004830652934744622</td><td>0.02473762615808474</td><td>0.00044382348855883183</td><td>0.017039331747823346</td><td>0.0004500095704977013</td><td>0.01407710679778344</td><td>0.00038317270110030404</td><td>0.008201064083271906</td><td>0.00037727239242173194</td><td>1.3504405727268534</td><td>1.0</td><td>1.0</td><td>2872.5631732964293</td><td>900.9355616471962</td><td>0.09</td><td>0.039999999999999994</td><td>1.1043786921634287</td><td>0.0</td><td>0.0</td><td>139.6600000007404</td><td>147.7400000008015</td></tr>\n",
       "<tr><td>23.0</td><td>23</td><td>0</td><td>0.26267115621893994</td><td>1.7973573379999819</td><td>2624190.25</td><td>0.31135602224718806</td><td>0.19371229205762594</td><td>94.80976502156491</td><td>0.24558804676825777</td><td>119.06659517840777</td><td>113.71363180481109</td><td>0.7563839036431006</td><td>0.8213086921232546</td><td>1.3363400474849312</td><td>0.8314131575113305</td><td>1.0838766024981308</td><td>0.5419383012490654</td><td>0.7331874023287807</td><td>0.45615758830618713</td><td>0.5946724953174839</td><td>0.29733624765874195</td><td>9</td><td>3</td><td>3</td><td>19.06865515077857</td><td>20.705427689567898</td><td>33.68951587537879</td><td>20.960164160082627</td><td>27.324840017730708</td><td>13.662420008865354</td><td>18.483864699610987</td><td>11.49986363264256</td><td>14.991864166126774</td><td>7.495932083063387</td><td>199.71580105588797</td><td>-21.013800976899855</td><td>6.1913450966123085</td><td>118.0</td><td>121.0</td><td>199.71581363075427</td><td>-21.01372078639839</td><td>0</td><td>NGC5068</td><td>663.4036050501402</td><td>974.3507920767821</td><td>199.71584593545467</td><td>-21.013783633727034</td><td>662.5169902912621</td><td>974.5922330097087</td><td>0.0</td><td>1.0</td><td>0.0</td><td>99.3190740305233</td><td>1.4485738201215093</td><td>412.0</td><td>2.2903595622322865</td><td>1088573.7877279755</td><td>2094085.780163671</td><td>3635595.2913499908</td><td>483336.57077395637</td><td>302705.594457136</td><td>223269.46303367458</td><td>311559.26299429697</td><td>29694.969589029395</td><td>4385.151587963421</td><td>124042.00168434002</td><td>12780.227574648088</td><td>9988.05778125392</td><td>25089.285598943963</td><td>25330.53053256915</td><td>1031.3543984665348</td><td>1228.0693647042979</td><td>1931.3946525232627</td><td>508.8491309285626</td><td>443.81437552332113</td><td>394.90633179036547</td><td>630.3526089491099</td><td>253.56010744781432</td><td>280.03908118762996</td><td>550.3134350789603</td><td>257.87587054430486</td><td>85.28626360827673</td><td>258.15521016795503</td><td>239.17140665045085</td><td>16.387849581381605</td><td>22.035562323442665</td><td>1.0</td><td>19.722298726052703</td><td>20.0382431899796</td><td>19.27939446755485</td><td>0.05684687673067145</td><td>0.10477461902443835</td><td>1.5421377648668695</td><td>0.02347196395658754</td><td>0.04810090330090563</td><td>0.0397321585874006</td><td>1788164.1571245186</td><td>3374997.9806898492</td><td>5114440.435118527</td><td>679132.0104618988</td><td>422154.0123871178</td><td>311127.7698161408</td><td>380047.4244158226</td><td>42421.78829600222</td><td>6514.228018925391</td><td>182455.75017162613</td><td>18244.25165133758</td><td>14214.471949115361</td><td>33797.16540274758</td><td>34099.57683651845</td><td>6442.878408545426</td><td>11454.544336574056</td><td>12524.12763790392</td><td>1768.7146620444846</td><td>1162.0179768603482</td><td>908.6849698051888</td><td>933.2775805992886</td><td>377.41743202081875</td><td>416.3952197570608</td><td>947.8512829294749</td><td>370.9267798858091</td><td>126.35696700721178</td><td>354.8341753972658</td><td>329.70437907539684</td><td>0.14710704644928801</td><td>0.0010303494032816412</td><td>8.363417538943601</td><td>0.0007511887195861826</td><td>7.918225906674015</td><td>0.0023161376241114034</td><td>8524.424156047495</td><td>8739.781065150486</td><td>192.0442584423985</td><td>63.875758662513256</td><td>0.0</td><td>0.0</td><td>0.0</td><td>-1.1293000036046046</td><td>7.313868068872704</td><td>145.43385949085265</td><td>55.0</td><td>9.0</td><td>0.44249812440060443</td><td>1.2738774336240308</td><td>1.6546865427390227e+38</td><td>0.070620869455011</td><td>5.0347049077200685</td><td>457.1468190149865</td><td>0.9435871326956833</td><td>86.91235652923831</td><td>0.2693721902113293</td><td>457.34320414534665</td><td>5.88207928219706</td><td>88.92314805827266</td><td>1.2807674419978938</td><td>3048.8376940232697</td><td>78.88885619781115</td><td>373.9704178316937</td><td>8.629578311932468</td><td>1</td><td>1</td><td>3691627.8211649167</td><td>1.1943607022413672e+38</td><td>614</td><td>5459</td><td>6014.75</td><td>8226.71</td><td>199.71581657815761</td><td>-21.01372397801205</td><td>5.0</td><td>2</td><td>0.6</td><td>19.76686008702165</td><td>0.028806197931455953</td><td>20.016164598698474</td><td>0.028431276344264008</td><td>21.607287567532314</td><td>0.027276841397303207</td><td>20.899224355620742</td><td>0.016813813741508667</td><td>20.852875730414713</td><td>0.019191478546601845</td><td>0.011081944356398168</td><td>0.0002943143031234897</td><td>0.012145465383361495</td><td>0.00031836108780326934</td><td>0.00954475912790137</td><td>0.0002400316521019552</td><td>0.016255122912715674</td><td>0.00025197993103228154</td><td>0.01114524725956611</td><td>0.0001972003155567406</td><td>1.5118796356504656</td><td>1.0</td><td>0.0</td><td>6962.337240412453</td><td>1104.8343785467332</td><td>0.42</td><td>0.040000000000000036</td><td>14.319737378750588</td><td>0.0</td><td>0.0</td><td>117.74999999971766</td><td>120.71000000026334</td></tr>\n",
       "<tr><td>34.0</td><td>34</td><td>1</td><td>0.1356393878172921</td><td>0.7738839891999922</td><td>546377.75</td><td>0.1966691967047414</td><td>0.1583622054758115</td><td>48.43333189378972</td><td>0.17647936916058787</td><td>79.71384071445387</td><td>77.28451183497677</td><td>0.49632139236759426</td><td>0.5189600388677174</td><td>0.84410419225675</td><td>0.679690585902183</td><td>0.7618973890794665</td><td>0.38094869453973323</td><td>0.46312056664045975</td><td>0.3729144958297509</td><td>0.4180175312351053</td><td>0.20900876561755266</td><td>9</td><td>3</td><td>3</td><td>12.51240465248926</td><td>13.08313142379152</td><td>21.280108785954972</td><td>17.135194613970672</td><td>19.20765169996282</td><td>9.60382584998141</td><td>11.675402313514908</td><td>9.401281396198623</td><td>10.538341854856766</td><td>5.269170927428383</td><td>199.7088837241184</td><td>-21.03422085589645</td><td>4.449095512928944</td><td>78.0</td><td>76.0</td><td>199.70890393177137</td><td>-21.03423499350185</td><td>0</td><td>NGC5068</td><td>779.9383584051217</td><td>606.5581867400819</td><td>199.70890779440595</td><td>-21.034215882235166</td><td>780.8359788359788</td><td>606.4708994708994</td><td>0.0</td><td>1.0</td><td>0.0</td><td>77.96602044409615</td><td>0.5561137148308654</td><td>189.0</td><td>1.5512648837479233</td><td>232762.92102544403</td><td>238247.3605136716</td><td>815095.989015494</td><td>164322.82632333203</td><td>91176.63678442292</td><td>66417.35077221737</td><td>75843.61032248226</td><td>5862.99455511293</td><td>931.6519826545243</td><td>24168.348386936956</td><td>1990.1607338783137</td><td>1972.048774526431</td><td>4447.224286190338</td><td>4565.17828869935</td><td>451.6186981889916</td><td>379.1159764075053</td><td>590.2507853193721</td><td>244.1145699778072</td><td>210.15887081252924</td><td>190.46410234180652</td><td>258.433609394715</td><td>137.105954159075</td><td>159.97653126967572</td><td>316.1829173965215</td><td>140.64771326315628</td><td>46.11630223055411</td><td>126.8538566276936</td><td>125.23654217504703</td><td>21.551138484673523</td><td>26.085615864495445</td><td>16.824672146507556</td><td>11.288451087306893</td><td>11.417931777658058</td><td>13.84754662226205</td><td>0.07937383296709809</td><td>0.15081430442309202</td><td>0.3272472899190727</td><td>0.038632928296444144</td><td>0.07723200513887718</td><td>0.11338450494376383</td><td>444957.04816660116</td><td>444257.87086049176</td><td>1272671.674806077</td><td>256170.54728147123</td><td>140755.90149365616</td><td>102428.16126610523</td><td>98306.36970920546</td><td>9340.122066082731</td><td>1561.8682733654177</td><td>39997.934031208766</td><td>3167.4170390620934</td><td>3125.9947599181232</td><td>6561.647683709669</td><td>6729.8683840740105</td><td>3072.895609194609</td><td>2918.4301690252855</td><td>5873.1745579496055</td><td>1224.1184830189336</td><td>704.3618040116995</td><td>540.6335280104045</td><td>424.56501201476726</td><td>222.90328193287638</td><td>268.319709843648</td><td>562.4047589326358</td><td>224.35198440522322</td><td>74.57067560982246</td><td>188.97818993286583</td><td>186.54352764285855</td><td>0.19205125386392483</td><td>0.001964473374276901</td><td>8.437763363510811</td><td>0.0015930142216205327</td><td>7.736919719782103</td><td>0.004126264976653284</td><td>--</td><td>7598.748240741259</td><td>--</td><td>174.74760627063574</td><td>0.0</td><td>0.0</td><td>0.0</td><td>-1.3949463383958773</td><td>8.01420535499163</td><td>99.4010160688625</td><td>70.0</td><td>9.0</td><td>0.3473634661846429</td><td>1.0000008055117449</td><td>4.1175036063900223e+37</td><td>0.11930522003088129</td><td>5.0347049077200685</td><td>131.15651569634161</td><td>0.2118429528332586</td><td>22.37571769830809</td><td>0.10316716931553506</td><td>133.1176151292226</td><td>1.24563379612656</td><td>25.640944377090754</td><td>0.3149948584329254</td><td>1165.3568389377742</td><td>27.291583242761185</td><td>140.34801138801785</td><td>3.8009150801891556</td><td>1</td><td>1</td><td>853101.3470071905</td><td>2.7600580915901774e+37</td><td>449</td><td>4097</td><td>6600.4</td><td>6362.6</td><td>199.70891100631331</td><td>-21.034239396017274</td><td>2.0</td><td>2</td><td>0.8</td><td>20.27374993392772</td><td>0.0329750147655425</td><td>20.526628764591038</td><td>0.028137916385011837</td><td>22.094803920338</td><td>0.03181952011609425</td><td>21.681454751442793</td><td>0.021967037746902597</td><td>21.284820294899056</td><td>0.01744014637292489</td><td>0.0069480034661074195</td><td>0.00021122945960632086</td><td>0.007589767883756645</td><td>0.00019689282569377068</td><td>0.006091979480840464</td><td>0.00017871521185787662</td><td>0.007908572484550203</td><td>0.0001601692192411801</td><td>0.007487069801365777</td><td>0.00012038474869147235</td><td>1.5481685911048262</td><td>8.0</td><td>6.0</td><td>778.8848802751165</td><td>492.3512936755885</td><td>0.06</td><td>0.06</td><td>6.943698998651535</td><td>0.0</td><td>0.0</td><td>77.39999999823874</td><td>75.59999999984069</td></tr>\n",
       "<tr><td>44.0</td><td>44</td><td>0</td><td>1.9806874223685105</td><td>9.724566557999902</td><td>4744973.5</td><td>0.8061201791939209</td><td>0.5641806870302859</td><td>-165.78884515065997</td><td>0.6743867114101548</td><td>181.53230763124992</td><td>173.07051157351694</td><td>1.7593821853888498</td><td>1.8688658265104128</td><td>3.459867809100308</td><td>2.421463508733987</td><td>2.9406656589171476</td><td>1.4703328294585738</td><td>1.8982679566697858</td><td>1.3285439908382497</td><td>1.6134059737540176</td><td>0.8067029868770088</td><td>9</td><td>3</td><td>3</td><td>44.35452950547353</td><td>47.114643499363815</td><td>87.22425979882281</td><td>61.0457895598343</td><td>74.13502467932855</td><td>37.067512339664276</td><td>47.855879633563646</td><td>33.492975051313806</td><td>40.674427342438726</td><td>20.337213671219363</td><td>199.72150293547125</td><td>-21.045911170247688</td><td>17.0014824168121</td><td>175.0</td><td>169.0</td><td>199.72157996727486</td><td>-21.045955965989315</td><td>0</td><td>NGC5068</td><td>567.6643094690872</td><td>397.0387895159978</td><td>199.72154213133146</td><td>-21.04585686038457</td><td>566.8734693877551</td><td>398.5295918367347</td><td>0.0</td><td>1.0</td><td>0.0</td><td>39.548277642388385</td><td>5.732081492302919</td><td>980.0</td><td>3.5323855308282246</td><td>1834837.2964412952</td><td>1302945.6589010893</td><td>6852905.173124073</td><td>1466014.9108901792</td><td>826930.3640464148</td><td>592119.1474846727</td><td>744585.2850059164</td><td>58610.05441142406</td><td>13164.645771603451</td><td>230402.12829014077</td><td>14699.747877425114</td><td>19713.797256758677</td><td>28495.493869530823</td><td>31856.63067159459</td><td>1116.712324278676</td><td>838.887939087048</td><td>1672.7267193101954</td><td>675.8881407090438</td><td>576.9792984494725</td><td>519.4899419375281</td><td>815.4707000313465</td><td>360.13407295475815</td><td>426.1793232610249</td><td>788.0851717468227</td><td>362.3847873583722</td><td>121.13297233344667</td><td>334.85503581989775</td><td>337.1307844601651</td><td>18.30660229703997</td><td>23.72966919712957</td><td>16.11054220625948</td><td>-6.394803058423589</td><td>-6.945651086946949</td><td>-2.0240470310316607</td><td>0.02928706474595551</td><td>0.0477914829711865</td><td>0.1217329322488001</td><td>0.012302927122709313</td><td>0.022953806772653216</td><td>0.040309150332875236</td><td>4310771.5501619615</td><td>2962445.77505293</td><td>12330013.739955049</td><td>2632301.7525551175</td><td>1465770.6388574063</td><td>1048139.9721818373</td><td>1048167.0334255579</td><td>108283.71722236808</td><td>26014.12412750822</td><td>447614.61204688874</td><td>27123.927576393166</td><td>36183.50830898239</td><td>47583.65854856858</td><td>53135.782571362404</td><td>9419.353375441877</td><td>6275.33831721798</td><td>18046.223110300205</td><td>3975.187393903972</td><td>2301.183139385107</td><td>1734.4412710049098</td><td>1446.8469438743218</td><td>685.1068452204065</td><td>843.2801103572648</td><td>1696.3328880446293</td><td>669.9162570780037</td><td>228.79324770197204</td><td>562.3670152688069</td><td>566.2753687818499</td><td>0.25316899997300274</td><td>0.0006220151252099241</td><td>8.446832557792128</td><td>0.0005205845074967858</td><td>7.7594890352001675</td><td>0.001309109676706236</td><td>8610.422819582065</td><td>7089.2918191603485</td><td>101.89032697394428</td><td>52.682152746395005</td><td>0.0</td><td>0.0</td><td>0.0</td><td>-1.1234634277132414</td><td>8.256311623913316</td><td>124.29625975990993</td><td>49.0</td><td>9.0</td><td>0.17620017958134615</td><td>0.5072505852385756</td><td>3.989157380189147e+38</td><td>0.0822050969486785</td><td>5.0347049077200685</td><td>152.401903117869</td><td>0.08701456371085685</td><td>30.30951136679161</td><td>0.04426158057122451</td><td>153.1908082578845</td><td>0.5082894721636421</td><td>32.607321489431165</td><td>0.15305712498228657</td><td>2156.000382711996</td><td>29.781276275300208</td><td>255.86588250130782</td><td>3.732518095863945</td><td>1</td><td>1</td><td>8537341.02146511</td><td>2.7621052586101376e+38</td><td>264</td><td>2442</td><td>5526.0</td><td>5296.72</td><td>199.72157996780294</td><td>-21.045970053100106</td><td>2.0</td><td>2</td><td>0.8</td><td>19.962941039267985</td><td>0.017645903235500502</td><td>20.098230645795947</td><td>0.016897274929962916</td><td>21.58690840381474</td><td>0.01819930684390414</td><td>21.17813893166167</td><td>0.015277783401233366</td><td>20.638963002771995</td><td>0.01946554686064308</td><td>0.00925089143551713</td><td>0.00015050015268000492</td><td>0.011261279605728411</td><td>0.0001754340441398476</td><td>0.009725605257775667</td><td>0.00016318526785843044</td><td>0.012572580567250316</td><td>0.00017709008189304335</td><td>0.013572342134251689</td><td>0.00024357396787850783</td><td>1.907025209739194</td><td>8.0</td><td>14.0</td><td>1586.403345917777</td><td>1760.7786300900023</td><td>0.13</td><td>0.11</td><td>6.93335606466962</td><td>0.0</td><td>0.0</td><td>174.99999999943122</td><td>167.72000000021433</td></tr>\n",
       "<tr><td>49.0</td><td>49</td><td>2</td><td>1.7737532298414926</td><td>9.722996813599902</td><td>6067567.0</td><td>0.7346419633498311</td><td>0.5543952896058608</td><td>-139.41630748581102</td><td>0.6381865276139476</td><td>156.587339152299</td><td>153.91183568381564</td><td>1.7592401794815693</td><td>1.8836460151533063</td><td>3.153083306697475</td><td>2.3794645829883545</td><td>2.766273944842915</td><td>1.3831369724214575</td><td>1.7299496212170744</td><td>1.3055011408346193</td><td>1.5177253810258469</td><td>0.7588626905129234</td><td>9</td><td>3</td><td>3</td><td>44.350949495822</td><td>47.48725629418576</td><td>79.4901345037886</td><td>59.986984595993455</td><td>69.73855954989104</td><td>34.86927977494552</td><td>43.612526121092195</td><td>32.91205819375773</td><td>38.262292157424966</td><td>19.131146078712483</td><td>199.70741090952308</td><td>-21.04115838974503</td><td>16.088865400664712</td><td>164.0</td><td>156.0</td><td>199.7073235022463</td><td>-21.041135403925594</td><td>0</td><td>NGC5068</td><td>805.2917447896209</td><td>482.3475261479462</td><td>199.70739772044956</td><td>-21.041116290688596</td><td>806.7096774193549</td><td>483.6851612903226</td><td>0.0</td><td>1.0</td><td>1.0</td><td>85.79555160894091</td><td>0.18636803144126562</td><td>775.0</td><td>3.1412746571571093</td><td>2282525.2351712706</td><td>3273027.583895445</td><td>7709217.3860687595</td><td>1336962.7954529284</td><td>849298.1457879932</td><td>598090.8299133524</td><td>658375.33728565</td><td>85186.91012088233</td><td>13231.674143491098</td><td>285688.45194015006</td><td>21729.511980467432</td><td>28653.0611840801</td><td>52248.94695598347</td><td>48525.70562122453</td><td>1238.8355952314796</td><td>1257.086472492732</td><td>2102.020327418293</td><td>671.4339852714193</td><td>587.4646745869697</td><td>514.310547609039</td><td>758.0308398942827</td><td>321.03754506384064</td><td>337.58933645498223</td><td>754.7605690856069</td><td>297.3006073979975</td><td>107.98265141965938</td><td>294.9655024954735</td><td>291.35977605793187</td><td>17.580041874642262</td><td>26.252837367768564</td><td>8.806795590450424</td><td>5.628662290453689</td><td>4.8686010598215</td><td>5.613650743586981</td><td>0.02945291503745597</td><td>0.04347977305371</td><td>0.14430821875862637</td><td>0.012551908349864247</td><td>0.023278986351701163</td><td>0.026352119127892665</td><td>3886631.8369829133</td><td>5460572.027765939</td><td>11116445.226710204</td><td>1925393.0575518615</td><td>1213306.5774844354</td><td>853712.8130340442</td><td>814741.0528193903</td><td>124880.88391727868</td><td>20227.357149376625</td><td>432132.43139719975</td><td>31829.614463050493</td><td>41832.88142967621</td><td>71918.23411852327</td><td>66746.00120353418</td><td>7844.040360953456</td><td>10420.554368601706</td><td>15165.299335400246</td><td>2740.8982372793607</td><td>1789.5464033283579</td><td>1330.3769636040242</td><td>1132.2566448025232</td><td>501.92265225228584</td><td>517.0268018063682</td><td>1315.259493396311</td><td>437.7438631268233</td><td>167.9190154318246</td><td>414.5884706621889</td><td>408.2237646830763</td><td>0.1577593154282569</td><td>0.0005761506579571913</td><td>--</td><td>--</td><td>7.718487600273355</td><td>0.0012836025937982924</td><td>--</td><td>--</td><td>--</td><td>--</td><td>0.0</td><td>0.0</td><td>0.0</td><td>-1.0665366826206324</td><td>7.885723180801556</td><td>154.2428839438927</td><td>40.0</td><td>9.0</td><td>0.3822465225280311</td><td>1.100423238605378</td><td>3.596528799793624e+38</td><td>--</td><td>5.0347049077200685</td><td>323.7942855917104</td><td>0.2599546118481682</td><td>64.43310559384358</td><td>0.0933297587134655</td><td>0.0</td><td>0.0</td><td>0.0</td><td>0.0</td><td>1672.824416990287</td><td>12.285157104109057</td><td>239.09393288103217</td><td>1.9263302042278545</td><td>0</td><td>0</td><td>8749237.80678206</td><td>2.8306607050348475e+38</td><td>356</td><td>3133</td><td>6729.47</td><td>5738.52</td><td>199.70738871249333</td><td>-21.041107673221173</td><td>1.0</td><td>1</td><td>0.8</td><td>18.145972737733832</td><td>0.006536796082138343</td><td>18.665966666179497</td><td>0.007072860886441557</td><td>20.297945842402616</td><td>0.009461702506782611</td><td>20.354984879914774</td><td>0.013054927091551384</td><td>20.42035538866814</td><td>0.01842030519903593</td><td>0.04931407654110057</td><td>0.0002971976047712132</td><td>0.04212048211604876</td><td>0.00027466157908144305</td><td>0.031878777829769105</td><td>0.0002780868257395547</td><td>0.0268340390865293</td><td>0.00032297578437724813</td><td>0.01659960846793341</td><td>0.0002819058764163436</td><td>1.3548598295002252</td><td>1.0</td><td>0.0</td><td>6223.188252952599</td><td>707.608079220825</td><td>0.13</td><td>0.03</td><td>0.8159706971579034</td><td>0.0</td><td>0.0</td><td>158.46999999965624</td><td>158.5200000003307</td></tr>\n",
       "<tr><td>52.0</td><td>52</td><td>0</td><td>0.05325142955924572</td><td>0.07377798679999925</td><td>18616.72265625</td><td>0.19603428407875217</td><td>0.06237367089934546</td><td>86.2502276467926</td><td>0.11057747474109221</td><td>82.54593339062552</td><td>74.64664767963524</td><td>0.15324575877060015</td><td>0.16273368904128854</td><td>0.8413791472660043</td><td>0.2677077954999907</td><td>0.5545434713829975</td><td>0.27727173569149877</td><td>0.46162546166193713</td><td>0.14687877051594228</td><td>0.3042521160889397</td><td>0.15212605804446985</td><td>9</td><td>3</td><td>3</td><td>3.8633695313204464</td><td>4.102562974696204</td><td>21.211409620162826</td><td>6.748990306347377</td><td>13.980199963255103</td><td>6.9900999816275515</td><td>11.637710288192391</td><td>3.702855931292258</td><td>7.670283109742325</td><td>3.8351415548711625</td><td>199.68785254751606</td><td>-21.02133820429252</td><td>2.7876898531631635</td><td>83.0</td><td>79.0</td><td>199.6878472030194</td><td>-21.02129029236106</td><td>0</td><td>NGC5068</td><td>1132.8274814190206</td><td>839.0032423787751</td><td>199.68790679271856</td><td>-21.021298524566532</td><td>1132.6387434554974</td><td>839.2670157068063</td><td>0.0</td><td>0.0</td><td>0.0</td><td>168.57839427988597</td><td>0.7429005046877833</td><td>191.0</td><td>1.5594510349620347</td><td>73554.59892143104</td><td>54682.0852886362</td><td>285522.91285372246</td><td>51540.27942207562</td><td>65020.62179435596</td><td>45074.5177901194</td><td>19577.817494265775</td><td>8337.259822050077</td><td>870.3153581135934</td><td>8442.147706695385</td><td>948.49852553273</td><td>2804.2807920816203</td><td>2113.5946095838303</td><td>3197.139854552208</td><td>330.39424667139934</td><td>299.2855870256574</td><td>434.1083073717821</td><td>215.48074406986802</td><td>225.89547041789254</td><td>204.17303514830812</td><td>248.11779786853887</td><td>170.49950846338436</td><td>209.99648132847503</td><td>409.0229880583225</td><td>178.69937541962491</td><td>57.348398256545785</td><td>168.0527958160593</td><td>160.3447444739143</td><td>30.558371567082755</td><td>33.47582013968014</td><td>32.296000659426376</td><td>1.1083326272016352</td><td>1.3276925039212162</td><td>4.267187796874239</td><td>0.16286742583253877</td><td>0.29186806004353916</td><td>0.9813815321590943</td><td>0.09651611604468152</td><td>0.17280168983950536</td><td>0.49110183238713256</td><td>195517.67937124884</td><td>140000.8327890579</td><td>559243.2260095065</td><td>100713.13529410538</td><td>125193.21633299228</td><td>86654.08405360243</td><td>28956.566072623362</td><td>16832.469667155176</td><td>1897.7196908433086</td><td>18053.40221886481</td><td>1912.201106114996</td><td>5619.314267670345</td><td>3800.93180619048</td><td>5742.0128019263275</td><td>3094.5352940872276</td><td>2182.171091169204</td><td>5897.986785594491</td><td>1128.8573218580175</td><td>1345.5301283436834</td><td>962.8804856159448</td><td>406.97560179451557</td><td>390.12598268267504</td><td>458.47217874901946</td><td>900.2562990856204</td><td>360.8639343368577</td><td>129.9316760080882</td><td>304.1910583613453</td><td>292.66863249966644</td><td>0.2897624321239034</td><td>0.004498274124891812</td><td>8.284423357302105</td><td>0.004649556798880864</td><td>6.945770045975238</td><td>0.011731454578278708</td><td>--</td><td>--</td><td>--</td><td>--</td><td>0.0</td><td>0.0</td><td>0.0</td><td>-1.756633547533925</td><td>7.299347165777845</td><td>151.72113540565832</td><td>17.0</td><td>9.0</td><td>0.7510704666899127</td><td>2.1622051390020363</td><td>1.80933232468948e+37</td><td>0.07486050905801456</td><td>5.0347049077200685</td><td>163.92511444503995</td><td>1.016229998064495</td><td>27.111846053886815</td><td>0.39311430555154847</td><td>163.74161447900443</td><td>6.285731067405464</td><td>28.584767759786022</td><td>1.3364939373114646</td><td>--</td><td>--</td><td>--</td><td>--</td><td>1</td><td>1</td><td>36463.889822178186</td><td>1.1797244783122742e+36</td><td>556</td><td>5059</td><td>8387.17</td><td>7538.76</td><td>199.687845198182</td><td>-21.021292933364098</td><td>-9999.0</td><td>2</td><td>0.7</td><td>22.887341273352696</td><td>0.2203133040307517</td><td>23.147754448916846</td><td>0.19117847487969578</td><td>24.179294711842903</td><td>0.1150300890830678</td><td>24.130675068330337</td><td>0.0806018675430937</td><td>23.18818098352532</td><td>0.08443511027781136</td><td>0.0006257826105455227</td><td>0.00012710823175372146</td><td>0.0006788568747409826</td><td>0.00011965384969875476</td><td>0.000893227561565696</td><td>9.472901777974032e-05</td><td>0.0008287241076108678</td><td>6.158352443736477e-05</td><td>0.0012970825198281859</td><td>0.00010097181069213193</td><td>1.5396523084574631</td><td>19.0</td><td>9.0</td><td>337.40760247833765</td><td>110.28251240696636</td><td>0.12</td><td>0.08000000000000002</td><td>0.19975240785278434</td><td>0.0</td><td>0.0</td><td>83.17000000260123</td><td>78.7600000010932</td></tr>\n",
       "<tr><td>66.0</td><td>66</td><td>0</td><td>0.26319251031119</td><td>1.1694595779999881</td><td>479006.5625</td><td>0.32090049998224524</td><td>0.18832379487482984</td><td>123.24674884029452</td><td>0.2458316495772802</td><td>93.21757918871634</td><td>93.95136829926827</td><td>0.6101233852014855</td><td>0.6600818287568808</td><td>1.3773049459237965</td><td>0.8082857276027696</td><td>1.092795336763283</td><td>0.5463976683816415</td><td>0.7556629298186449</td><td>0.4434686471275461</td><td>0.5995657884730955</td><td>0.29978289423654775</td><td>9</td><td>3</td><td>3</td><td>15.38138553160218</td><td>16.640852222311892</td><td>34.72225271424464</td><td>20.377115018864732</td><td>27.549683866554684</td><td>13.774841933277342</td><td>19.050479193880143</td><td>11.179971786189164</td><td>15.115225490034653</td><td>7.557612745017327</td><td>199.71374739460958</td><td>-21.045912555379488</td><td>6.197486393295959</td><td>91.0</td><td>98.0</td><td>199.71377354536008</td><td>-21.045867998281228</td><td>0</td><td>NGC5068</td><td>698.7308479233761</td><td>395.924639187467</td><td>199.71374021107655</td><td>-21.04591824282291</td><td>699.0439560439561</td><td>394.8791208791209</td><td>0.0</td><td>0.0</td><td>0.0</td><td>66.9653938317477</td><td>6.100539390728256</td><td>273.0</td><td>1.8643883600599407</td><td>199087.6198984545</td><td>179260.926988414</td><td>706586.0586857889</td><td>156141.7535896092</td><td>86372.79036609046</td><td>62148.474423896114</td><td>69023.4028307935</td><td>9775.041361831049</td><td>1363.145907490418</td><td>28190.683774904064</td><td>1140.6305119861781</td><td>3287.886106210581</td><td>2203.2728678557005</td><td>3780.987342887879</td><td>326.4124229964134</td><td>271.61772973570396</td><td>422.8619408473125</td><td>203.4448602761571</td><td>187.86813338026727</td><td>175.1770310548978</td><td>226.99276055642423</td><td>142.5829430014203</td><td>166.87526902516777</td><td>335.0638911858908</td><td>140.52296099231222</td><td>47.958515971861914</td><td>124.27997505856032</td><td>127.13787059488709</td><td>16.023079080188815</td><td>24.26655968122811</td><td>5.783515993995367</td><td>-2.9154731162127585</td><td>-2.1096232157451027</td><td>-0.16353500144684038</td><td>0.08827832728859163</td><td>0.15181943019531532</td><td>0.8912512815590603</td><td>0.0322895746389548</td><td>0.07166455007917277</td><td>0.10643175577892627</td><td>397276.95772578917</td><td>348355.05236336036</td><td>1136302.0795444413</td><td>250684.02357469633</td><td>137231.82044565008</td><td>98635.58665510081</td><td>91017.23682225906</td><td>16060.198020563414</td><td>2364.8323065783215</td><td>48238.35282053187</td><td>1872.1202920533628</td><td>5373.327510410938</td><td>3335.6805019205526</td><td>5719.018305075495</td><td>2312.708654043541</td><td>1944.1871032161946</td><td>4417.241720069028</td><td>1013.5922897985822</td><td>594.1237148592005</td><td>461.49577081630065</td><td>361.97150103255876</td><td>242.97014966446906</td><td>289.6924970415801</td><td>610.4178659605709</td><td>230.7626589655727</td><td>81.23064280584695</td><td>188.48781398101227</td><td>193.25479469135698</td><td>0.2047758749994879</td><td>0.0016555882733418118</td><td>8.45200763651608</td><td>0.0014825385958510194</td><td>7.702999116896482</td><td>0.003719548303588527</td><td>8476.920036071166</td><td>6624.561251881431</td><td>350.07764969593666</td><td>239.25071808907086</td><td>0.0</td><td>0.0</td><td>0.0</td><td>-1.6038697581335672</td><td>8.069623228646483</td><td>154.17622134198368</td><td>35.0</td><td>9.0</td><td>0.2983521691028802</td><td>0.8589055513122549</td><td>3.676303954188058e+37</td><td>0.12032926237646535</td><td>5.0347049077200685</td><td>83.98462453797822</td><td>0.10631439152468031</td><td>15.791836948110973</td><td>0.07020440837712426</td><td>86.1832775750042</td><td>0.6082576253453131</td><td>19.213521609670874</td><td>0.18598020091788825</td><td>--</td><td>--</td><td>--</td><td>--</td><td>1</td><td>1</td><td>770318.2738936928</td><td>2.4922281419655813e+37</td><td>266</td><td>2457</td><td>6187.94</td><td>5304.95</td><td>199.71377425271808</td><td>-21.04587955412354</td><td>2.0</td><td>2</td><td>0.9</td><td>20.90879141478399</td><td>0.028973020930857667</td><td>21.16410548395618</td><td>0.033323824664169305</td><td>22.600546049017414</td><td>0.029531760877678646</td><td>22.158330438922235</td><td>0.019313381200325806</td><td>21.839983235064683</td><td>0.03614847454092466</td><td>0.003871180612478157</td><td>0.0001034062233955367</td><td>0.00421927474807855</td><td>0.00012962898186704957</td><td>0.0038235042775529937</td><td>0.00010410231479239122</td><td>0.005097389551779799</td><td>9.076441227296812e-05</td><td>0.004490003773291299</td><td>0.00014963946392733578</td><td>1.695321585436322</td><td>1.0</td><td>2.0</td><td>2785.6258471396013</td><td>804.6584577243666</td><td>0.44</td><td>0.010000000000000009</td><td>5.4552985009821615</td><td>0.0</td><td>0.0</td><td>90.93999999943702</td><td>96.94999999975073</td></tr>\n",
       "<tr><td>79.0</td><td>79</td><td>0</td><td>0.011568279124113609</td><td>0.050231820799999494</td><td>20648.14453125</td><td>0.055219556439163396</td><td>0.04810363654800902</td><td>131.27978625776475</td><td>0.05153893162738035</td><td>39.78207342552121</td><td>38.6385168615786</td><td>0.12644874519603747</td><td>0.12644874519603747</td><td>0.2370023362368893</td><td>0.2064608080640547</td><td>0.221731572150472</td><td>0.110865786075236</td><td>0.13003211838065978</td><td>0.11327540758213502</td><td>0.1216537629813974</td><td>0.0608268814906987</td><td>9</td><td>3</td><td>3</td><td>3.1878091334022285</td><td>3.1878091334022285</td><td>5.974896871632201</td><td>5.2049361867200465</td><td>5.589916529176124</td><td>2.794958264588062</td><td>3.2781469991407777</td><td>2.855705513885209</td><td>3.0669262565129936</td><td>1.5334631282564968</td><td>199.7146489193473</td><td>-21.02559975266584</td><td>1.2993112483073073</td><td>40.0</td><td>38.0</td><td>199.71464634980532</td><td>-21.025606779878025</td><td>0</td><td>NGC5068</td><td>683.1241186613378</td><td>761.5145232489383</td><td>199.71467116666707</td><td>-21.025607774846083</td><td>683.1086956521739</td><td>761.3695652173913</td><td>0.0</td><td>0.0</td><td>0.0</td><td>68.61554471972248</td><td>1.1169203000463868</td><td>46.0</td><td>0.7653039857325813</td><td>5936.3211546989805</td><td>1654.2522668231272</td><td>36649.4493419276</td><td>3254.7619750281456</td><td>4417.864042170714</td><td>3018.8168864556715</td><td>314.7982037814347</td><td>1293.6309645598537</td><td>363.0468175858625</td><td>1026.7657052472603</td><td>0.0</td><td>435.1195168900455</td><td>0.0</td><td>10.111552193437172</td><td>134.58145504043478</td><td>110.59726581957631</td><td>162.63853191575413</td><td>81.34354509217934</td><td>85.60252903097845</td><td>81.91344766530378</td><td>111.12579076799881</td><td>83.32068285170709</td><td>88.2256273962953</td><td>177.80002460552217</td><td>99.94620028441948</td><td>28.025345915957374</td><td>70.56676189668299</td><td>70.63410960767432</td><td>70.80322137564929</td><td>34.475270537483155</td><td>67.5389532012754</td><td>8.187558634907726</td><td>6.956163866732099</td><td>4.7499944741868685</td><td>0.5270185583652574</td><td>1.8589098039006868</td><td>12.852400676939578</td><td>0.4464953715896667</td><td>1.071767074172658</td><td>8.433141485491142</td><td>69666.96665088147</td><td>17663.429230562022</td><td>199303.77404437182</td><td>17595.307510885566</td><td>23011.450116159496</td><td>15663.049330505823</td><td>843.7614886509114</td><td>7593.124302923081</td><td>2586.9341312847855</td><td>6966.429577599567</td><td>0.0</td><td>2506.109038268359</td><td>0.0</td><td>44.19845769963332</td><td>5387.326238468802</td><td>1723.817563973347</td><td>10170.975511250492</td><td>993.9711931161338</td><td>1224.1992856568374</td><td>883.1849264847316</td><td>298.8984517082278</td><td>633.9875758595244</td><td>646.89638867381</td><td>1271.0690853515298</td><td>--</td><td>208.3443267356796</td><td>--</td><td>308.7539253943985</td><td>0.7299129723762559</td><td>0.02191301983653299</td><td>8.223149537602346</td><td>0.04050252249666881</td><td>--</td><td>--</td><td>--</td><td>--</td><td>--</td><td>--</td><td>0.0</td><td>0.0</td><td>0.0</td><td>-1.5864432216146196</td><td>8.10868543944758</td><td>135.20046563672523</td><td>47.0</td><td>9.0</td><td>0.3057041171555012</td><td>0.8800705691981415</td><td>6.448120317597915e+36</td><td>-0.10654573356222485</td><td>5.0347049077200685</td><td>19.592390203586763</td><td>0.1243522781718938</td><td>-2.4816930248656828</td><td>-0.1365861127813557</td><td>21.70105184027843</td><td>0.4239620939774793</td><td>1.6747829722685903</td><td>0.09503018679892584</td><td>176.37960616355988</td><td>8.64818763711679</td><td>--</td><td>--</td><td>1</td><td>1</td><td>112286.9021495464</td><td>3.632843553051356e+36</td><td>532</td><td>4918</td><td>6113.39</td><td>7148.42</td><td>199.71465354219353</td><td>-21.025591152046495</td><td>2.0</td><td>2</td><td>0.9</td><td>20.211921715180655</td><td>0.027599488419771324</td><td>20.66110167836588</td><td>0.03402873080909511</td><td>21.886099296158722</td><td>0.023816559461840636</td><td>21.963557126161806</td><td>0.02145404575067803</td><td>22.042209045297763</td><td>0.03927147815501303</td><td>0.007355146271183314</td><td>0.00018715516150059967</td><td>0.006705626019342365</td><td>0.00021037520043351086</td><td>0.007383126023908601</td><td>0.00016211707819256704</td><td>0.0060989791620251095</td><td>0.00012063569061740639</td><td>0.003726974161576928</td><td>0.0001349407416942988</td><td>1.630226514987958</td><td>5.0</td><td>0.0</td><td>416.7385827217287</td><td>61.99814076653092</td><td>0.04</td><td>0.04</td><td>0.08042879431111209</td><td>0.0</td><td>0.0</td><td>39.389999999354515</td><td>39.42000000089001</td></tr>\n",
       "<tr><td>111.0</td><td>111</td><td>1</td><td>0.020319464745895834</td><td>0.14598622919999854</td><td>189668.46875</td><td>0.07517933298176836</td><td>0.06206058424755437</td><td>-178.98069948783265</td><td>0.06830573422627106</td><td>99.12654115876371</td><td>83.56291001783549</td><td>0.21556637029242828</td><td>0.22128530409306554</td><td>0.3226696971577498</td><td>0.2663640275905033</td><td>0.29451686237412655</td><td>0.14725843118706328</td><td>0.17703380027752452</td><td>0.146141507792473</td><td>0.16158765403499875</td><td>0.08079382701749938</td><td>9</td><td>3</td><td>3</td><td>5.434490022081326</td><td>5.5786659834539</td><td>8.134595610869212</td><td>6.715113531940517</td><td>7.4248545714048655</td><td>3.7124272857024327</td><td>4.463072880404382</td><td>3.6842693265778443</td><td>4.073671103491113</td><td>2.0368355517455563</td><td>199.69795162043732</td><td>-21.007374441904517</td><td>1.72200715074455</td><td>99.0</td><td>84.0</td><td>199.69795311282945</td><td>-21.00736963164529</td><td>0</td><td>NGC5068</td><td>961.6188045680968</td><td>1090.2619988059898</td><td>199.69809942688642</td><td>-21.007341849341717</td><td>960.4127659574468</td><td>1089.8340425531915</td><td>0.0</td><td>1.0</td><td>0.0</td><td>157.9462931959882</td><td>1.1500200913197802</td><td>235.0</td><td>1.7297725082009001</td><td>162710.69195171088</td><td>105696.95142786863</td><td>594917.1734947114</td><td>54261.673567816</td><td>68298.00197702457</td><td>47527.32207421954</td><td>14297.600514448262</td><td>11313.90927726089</td><td>1085.2579951019898</td><td>0.0</td><td>0.0</td><td>3805.4923496165193</td><td>0.0</td><td>1367.1297283187264</td><td>507.90914672680697</td><td>410.3332062485374</td><td>638.6175242009873</td><td>281.0119678258051</td><td>302.4991838413654</td><td>283.0772627774211</td><td>373.07277461986075</td><td>260.8318618861054</td><td>304.9933321445761</td><td>516.51414067886</td><td>271.8080816565915</td><td>87.73215611148282</td><td>269.07389930646684</td><td>246.92000676435353</td><td>70.09755794682084</td><td>40.02319453027844</td><td>31.69458214121192</td><td>43.05717745711694</td><td>25.39397138452741</td><td>32.552990384352434</td><td>0.11727132770918992</td><td>0.3837607611410817</td><td>0.9681626043956508</td><td>0.10283695694134277</td><td>0.24650078486942573</td><td>0.4063633761272133</td><td>357118.7148889805</td><td>225091.8997969108</td><td>1021451.5560792085</td><td>92989.50721274567</td><td>115663.09906677812</td><td>80387.78069530916</td><td>19585.9314170014</td><td>19904.880041805314</td><td>2031.240059880252</td><td>0.0</td><td>0.0</td><td>6654.788301450402</td><td>0.0</td><td>2189.229375687994</td><td>3933.9511615527995</td><td>2447.973265136091</td><td>7500.934028475317</td><td>827.6867515601616</td><td>965.8971643402604</td><td>742.7070763502602</td><td>517.7333948695158</td><td>483.1315771621159</td><td>571.1019208076766</td><td>--</td><td>--</td><td>161.35696243230723</td><td>--</td><td>395.64362947476303</td><td>0.23299441866221435</td><td>0.0031311981671249666</td><td>8.227423993995105</td><td>0.0026893146068423896</td><td>6.717040246644462</td><td>0.019812471245777966</td><td>--</td><td>--</td><td>--</td><td>--</td><td>0.0</td><td>0.0</td><td>0.0</td><td>-1.5850510004757095</td><td>8.224421236589357</td><td>107.07109180795025</td><td>49.0</td><td>9.0</td><td>0.7037010682738892</td><td>2.0258366340094853</td><td>3.3047254442507366e+37</td><td>0.005083798270785422</td><td>5.0347049077200685</td><td>40.85238955613381</td><td>0.06609692352220777</td><td>3.6071361190734037</td><td>0.04762312357366302</td><td>43.0709561891247</td><td>0.3064253051734535</td><td>6.9749630322959835</td><td>0.06202474056674073</td><td>79.55300665598983</td><td>0.30579920434191704</td><td>7.280692603040352</td><td>0.10333315069893022</td><td>1</td><td>1</td><td>325653.9921444552</td><td>1.0535957295462712e+37</td><td>668</td><td>5999</td><td>7530.71</td><td>8803.41</td><td>199.69794474176393</td><td>-21.00737612403852</td><td>-9999.0</td><td>2</td><td>0.6</td><td>18.44356520548924</td><td>0.012458791846882443</td><td>19.25228684859211</td><td>0.01768298241437314</td><td>20.753434911590077</td><td>0.01623581567489687</td><td>20.628653540313486</td><td>0.013477552866348889</td><td>20.11774888128407</td><td>0.014562615616915003</td><td>0.0374915950739523</td><td>0.00043064490227043067</td><td>0.024545125701213876</td><td>0.0004001568341278964</td><td>0.020955886392931635</td><td>0.0003136820086962053</td><td>0.02085540288039483</td><td>0.0002591427664846362</td><td>0.02193514186233621</td><td>0.00029450271082794157</td><td>1.215345875303632</td><td>8.0</td><td>0.0</td><td>2068.9725993499446</td><td>0.0</td><td>0.0</td><td>0.0</td><td>12.213995635030061</td><td>0.0</td><td>0.0</td><td>99.7099999999889</td><td>83.41000000122176</td></tr>\n",
       "<tr><td>146.0</td><td>146</td><td>0</td><td>1.9338869445562599</td><td>10.107584191599898</td><td>9610556.0</td><td>0.7072812202237787</td><td>0.6278284893809623</td><td>93.43349820268145</td><td>0.6663717431438841</td><td>164.48233195263148</td><td>160.84089642440279</td><td>1.7936956190004052</td><td>1.953443840211591</td><td>3.035650997200458</td><td>2.6946398764230897</td><td>2.865145436811774</td><td>1.432572718405887</td><td>1.6655199948569033</td><td>1.4784231116357904</td><td>1.571971553246347</td><td>0.7859857766231735</td><td>9</td><td>3</td><td>3</td><td>45.21958100832336</td><td>49.24687948275485</td><td>76.52963230038011</td><td>67.93264413952099</td><td>72.23113821995055</td><td>36.115569109975276</td><td>41.988236761366046</td><td>37.27147067374145</td><td>39.62985371755375</td><td>19.814926858776875</td><td>199.70544540067323</td><td>-21.006095364295334</td><td>16.799422768030805</td><td>159.0</td><td>175.0</td><td>199.70551004298895</td><td>-21.005939539516888</td><td>0</td><td>NGC5068</td><td>838.0073200366076</td><td>1113.1992813503732</td><td>199.70545586561795</td><td>-21.006068722770813</td><td>837.496991576414</td><td>1114.756919374248</td><td>0.0</td><td>1.0</td><td>0.0</td><td>142.68251108630284</td><td>1.3040405003137299</td><td>831.0</td><td>3.2527865925617077</td><td>3353281.8955025915</td><td>6004803.021145824</td><td>12266879.654405305</td><td>1238627.8407261292</td><td>967900.8884210794</td><td>683016.9002301892</td><td>1116697.9742812188</td><td>97251.26066433504</td><td>14460.137558278213</td><td>311659.37075759063</td><td>48872.33603298129</td><td>32710.968364622408</td><td>107156.51718642075</td><td>98471.36482545754</td><td>1891.7008461723867</td><td>2120.6860607763833</td><td>3567.206643219234</td><td>790.2079554384572</td><td>765.9005077734723</td><td>657.6954367325606</td><td>1158.4623272930073</td><td>380.8794779067292</td><td>416.52068809614155</td><td>819.452053726977</td><td>405.4523525491809</td><td>128.11079740696857</td><td>446.10199086707996</td><td>380.35397263273444</td><td>18.40603011298697</td><td>19.789624314494432</td><td>17.121446705848374</td><td>42.76321106350098</td><td>41.600093428595166</td><td>44.00612109562859</td><td>0.028081204793673924</td><td>0.06173910826490359</td><td>0.07112594451217581</td><td>0.01318975122573873</td><td>0.02639275973302674</td><td>0.023532458295559697</td><td>7371948.079580775</td><td>12808090.754145402</td><td>21085675.282791093</td><td>2125064.030280912</td><td>1640957.4910924574</td><td>1156529.2695830602</td><td>1530746.694543032</td><td>171299.63777713128</td><td>27100.129635557736</td><td>575004.0564539132</td><td>85984.18914447377</td><td>57269.794502522</td><td>171943.09948275905</td><td>157841.1227351783</td><td>15540.604365000376</td><td>25423.082877969468</td><td>30082.868204006412</td><td>3253.703192128414</td><td>2583.673220319552</td><td>1925.3194941312227</td><td>2017.7418115228088</td><td>715.970287182342</td><td>781.8455914651547</td><td>1763.6151977855686</td><td>724.2512696322333</td><td>239.05621768795524</td><td>745.8841627191765</td><td>639.201136953708</td><td>0.23348285580605696</td><td>0.0006020337516690846</td><td>8.311167109928178</td><td>0.00042102797271006465</td><td>7.957820805573068</td><td>0.0012771681088551356</td><td>9432.997495585283</td><td>9293.352572633554</td><td>100.64846191245742</td><td>31.393489450356075</td><td>0.0</td><td>0.0</td><td>0.0</td><td>-0.8188144222134981</td><td>7.526802869909774</td><td>105.80377543939433</td><td>45.0</td><td>9.0</td><td>0.6356960549295285</td><td>1.8300616756635515</td><td>6.821896466996525e+38</td><td>0.0704833482107432</td><td>5.0347049077200685</td><td>705.4978266988123</td><td>0.9117438888056566</td><td>125.89174419015222</td><td>0.25330639825694445</td><td>706.6538316883359</td><td>5.917660769830213</td><td>127.75050765356526</td><td>1.2555711417052873</td><td>1303.4682750503375</td><td>5.745536183862162</td><td>219.26026566190484</td><td>1.3017319425821117</td><td>1</td><td>1</td><td>16519691.136800658</td><td>5.3446530535501404e+38</td><td>675</td><td>6131</td><td>6892.38</td><td>8926.76</td><td>199.7054701904969</td><td>-21.00601921726738</td><td>2.0</td><td>2</td><td>1.0</td><td>17.901082212624498</td><td>0.013831731143220304</td><td>18.296529172036518</td><td>0.012856911725213215</td><td>19.7367638725141</td><td>0.014141445240278373</td><td>19.76626805108192</td><td>0.019210174080257488</td><td>19.429493627919342</td><td>0.01707471408591913</td><td>0.061791269083875076</td><td>0.0007879762293969931</td><td>0.059192724665436125</td><td>0.0007016401877827168</td><td>0.05345329125638186</td><td>0.0006969116267174228</td><td>0.046150114149817636</td><td>0.0008173603057463396</td><td>0.041346861453684026</td><td>0.0006508867816634001</td><td>1.829299922987858</td><td>1.0</td><td>2.0</td><td>19113.14945549726</td><td>6013.232610099441</td><td>0.29</td><td>0.0</td><td>2.994015339143745</td><td>0.0</td><td>0.0</td><td>162.38000000041313</td><td>167.76000000044496</td></tr>\n",
       "<tr><td>212.0</td><td>212</td><td>1</td><td>1.6970840917479464</td><td>5.826891212799941</td><td>1800510.5</td><td>0.8511688685531883</td><td>0.457814660481922</td><td>-157.92214213604896</td><td>0.6242416091301985</td><td>141.47566210878287</td><td>129.40767761066056</td><td>1.3618946650720383</td><td>1.4622131257821849</td><td>3.653216783830284</td><td>1.9649405227884091</td><td>2.8090786533093466</td><td>1.4045393266546733</td><td>2.0043495133753613</td><td>1.0780711394118683</td><td>1.5412103263936148</td><td>0.7706051631968074</td><td>9</td><td>3</td><td>3</td><td>34.33375511411924</td><td>36.86281228115453</td><td>92.09864290656036</td><td>49.53671414790229</td><td>70.81767852723132</td><td>35.40883926361566</td><td>50.53022610356845</td><td>27.17848262824989</td><td>38.854354365909174</td><td>19.427177182954587</td><td>199.71106789073</td><td>-21.034923932827056</td><td>15.737310006120254</td><td>140.0</td><td>93.0</td><td>199.71108527750485</td><td>-21.03532462004354</td><td>0</td><td>NGC5068</td><td>742.1083353820792</td><td>594.7001433498216</td><td>199.71115942325955</td><td>-21.03487491104572</td><td>739.5819819819819</td><td>596.0306306306306</td><td>0.0</td><td>1.0</td><td>0.0</td><td>68.78216088369788</td><td>0.5487815372247721</td><td>555.0</td><td>2.65828506245665</td><td>874326.2086781508</td><td>189772.9792204564</td><td>2794614.129937834</td><td>664342.3501698484</td><td>439882.229132965</td><td>305376.3696393422</td><td>203688.38608799945</td><td>28610.580095488294</td><td>6214.717415009742</td><td>77100.14931848343</td><td>4805.772541108316</td><td>9623.317723635722</td><td>12086.879954222139</td><td>13058.473583879033</td><td>563.1331707770696</td><td>310.54934008730277</td><td>725.7474740060202</td><td>338.6983385193247</td><td>315.37921963023655</td><td>278.8692315480332</td><td>341.76223568200027</td><td>195.3225367886494</td><td>227.7431561582015</td><td>447.7857848959724</td><td>195.62249379745646</td><td>65.69775320284784</td><td>180.92115577743044</td><td>180.71904280171637</td><td>23.68310864270689</td><td>27.097782614854644</td><td>20.29777430210086</td><td>6.354237215640467</td><td>6.7992214596714025</td><td>13.545431635605407</td><td>0.027757510788545606</td><td>0.0480779769666061</td><td>0.18188536969320634</td><td>0.014345965512729028</td><td>0.02552542137975585</td><td>0.08400433024645226</td><td>1247941.8468595983</td><td>267193.80496597715</td><td>3569259.2398299035</td><td>847767.5861918749</td><td>558326.8871909942</td><td>387385.25138117117</td><td>234871.34584287246</td><td>36946.56762901768</td><td>8253.453581972017</td><td>101670.3912053275</td><td>6202.720858120902</td><td>12393.239285568936</td><td>14964.81532921653</td><td>16160.084486593732</td><td>2887.7004484824565</td><td>719.229224212853</td><td>5533.161923704956</td><td>1361.5540412040173</td><td>922.9170366466997</td><td>675.6356875486994</td><td>446.07004483538714</td><td>259.0430802312534</td><td>302.8077139508726</td><td>616.0678179555639</td><td>252.67979793158</td><td>86.84461321849223</td><td>224.88723620021577</td><td>224.67515764383873</td><td>0.10545654088985794</td><td>0.0006587455395317197</td><td>8.432958168819713</td><td>0.0005883168836937421</td><td>7.38147292020274</td><td>0.0016428112717526016</td><td>8569.369518707024</td><td>7134.716602430165</td><td>111.39631672079695</td><td>91.53019800453086</td><td>0.0</td><td>0.0</td><td>0.0</td><td>-1.414915803234822</td><td>8.097439391556707</td><td>117.0417840856173</td><td>55.0</td><td>9.0</td><td>0.30644644526088893</td><td>0.8822076065541286</td><td>1.1547705573301066e+38</td><td>0.10346313207787183</td><td>5.0347049077200685</td><td>139.0755389220948</td><td>0.09076722792629296</td><td>27.69729170425544</td><td>0.04409289151092159</td><td>140.7061725668933</td><td>0.547242815660609</td><td>30.617596959477808</td><td>0.15015729012563225</td><td>952.5442933300227</td><td>8.385611679384397</td><td>107.62696523913787</td><td>0.8366512625560646</td><td>1</td><td>1</td><td>2299597.8835470625</td><td>7.439941066971751e+37</td><td>424</td><td>3924</td><td>6418.33</td><td>6265.71</td><td>199.71105780431012</td><td>-21.035305799752486</td><td>5.0</td><td>1</td><td>0.7</td><td>17.317916930064744</td><td>0.003870015161269877</td><td>17.871896965240147</td><td>0.004437819044404773</td><td>19.41511089731811</td><td>0.004477690565097864</td><td>19.634748080631915</td><td>0.004484123294832822</td><td>19.63349312487516</td><td>0.006351432782843542</td><td>0.10572878171493276</td><td>0.0003772379336067524</td><td>0.08752280219449553</td><td>0.00035809665669271504</td><td>0.07188456368676352</td><td>0.00029675577678951075</td><td>0.052093167793219076</td><td>0.0002153613554796264</td><td>0.03426436991757674</td><td>0.00020064295679484692</td><td>1.5521719036418826</td><td>1.0</td><td>2.0</td><td>12527.970153227843</td><td>5462.568483892789</td><td>0.12</td><td>0.04999999999999999</td><td>1.1469917164645962</td><td>0.0</td><td>0.0</td><td>142.33000000195358</td><td>94.71000000109944</td></tr>\n",
       "<tr><td>268.0</td><td>268</td><td>1</td><td>4.0571085079356095</td><td>23.77377893799976</td><td>29735584.0</td><td>1.2279168608652777</td><td>0.7586644335331909</td><td>150.96817018934047</td><td>0.9651822883135651</td><td>218.17480128066097</td><td>215.16729569593736</td><td>2.7508960118320185</td><td>2.8849475890908973</td><td>5.270219166833772</td><td>3.256187748724455</td><td>4.263203457779113</td><td>2.1316017288895566</td><td>2.8915232375970352</td><td>1.7865182155360082</td><td>2.3390207265665217</td><td>1.1695103632832609</td><td>9</td><td>3</td><td>3</td><td>69.3508774481115</td><td>72.730356158401</td><td>132.86373675767135</td><td>82.08942705887397</td><td>107.47658190827265</td><td>53.738290954136325</td><td>72.89613014321525</td><td>45.03863660842089</td><td>58.967383375818066</td><td>29.483691687909033</td><td>199.70037898451957</td><td>-21.013355049573256</td><td>24.332522314191095</td><td>204.0</td><td>199.0</td><td>199.70054608129107</td><td>-21.013532994770685</td><td>0</td><td>NGC5068</td><td>923.2221132747359</td><td>982.466361606307</td><td>199.7003833034227</td><td>-21.01333088927955</td><td>922.6830601092896</td><td>984.4474043715848</td><td>0.0</td><td>1.0</td><td>0.0</td><td>137.82241421680047</td><td>1.0840494952963367</td><td>1464.0</td><td>4.317432910297829</td><td>9266330.931103151</td><td>24576472.708420336</td><td>33532433.805087224</td><td>3445770.411454065</td><td>2726687.6772702457</td><td>1977199.607711379</td><td>3124522.8702957635</td><td>329629.07345431176</td><td>41445.532651293404</td><td>1190041.10346914</td><td>128939.22495510842</td><td>110872.45676988989</td><td>264711.6934548052</td><td>235276.49249014584</td><td>3202.6336655327955</td><td>5036.79192892778</td><td>6764.73897669134</td><td>1239.2061486679177</td><td>1186.4778464731057</td><td>1034.714316114922</td><td>1989.9604022458177</td><td>587.444736891915</td><td>595.3321378851479</td><td>1338.9134080101849</td><td>559.7459262141127</td><td>197.5900988138286</td><td>604.2389586627494</td><td>549.1728109238466</td><td>16.591656082175927</td><td>20.139945650892603</td><td>10.802896932258577</td><td>24.782281023382062</td><td>24.054756303385027</td><td>24.650834164101067</td><td>0.018405851790748558</td><td>0.03217372212167578</td><td>0.05006201623876493</td><td>0.008203685796740136</td><td>0.01425941899119282</td><td>0.01242996005769859</td><td>19676898.477035843</td><td>50701380.756072484</td><td>56280787.37263425</td><td>5772918.182714904</td><td>4516553.156856745</td><td>3271182.804025264</td><td>4223967.426352067</td><td>566319.2541695236</td><td>75555.34633170204</td><td>2137179.410697331</td><td>221277.5918486445</td><td>189385.2985044577</td><td>416003.43523487414</td><td>369374.1052654105</td><td>26102.678378899545</td><td>63302.89253885002</td><td>50850.66736811697</td><td>5475.355937512512</td><td>4346.256987533127</td><td>3282.713182379812</td><td>3453.707901485838</td><td>1135.9170471826326</td><td>1088.0320747365076</td><td>3211.050077092974</td><td>981.8685110456883</td><td>379.0152830179435</td><td>1001.9972489242318</td><td>907.5456352078104</td><td>0.22320249327641928</td><td>0.0003796077531448412</td><td>8.301115209018139</td><td>0.00026292914856834276</td><td>7.951393211961434</td><td>0.0007850364640606738</td><td>9523.595362067808</td><td>9040.034266295537</td><td>52.895638866446966</td><td>15.62207539486018</td><td>0.0</td><td>0.0</td><td>0.0</td><td>-0.6383818246762166</td><td>7.472153883253308</td><td>143.06701142661115</td><td>53.0</td><td>9.0</td><td>0.614042774629119</td><td>1.7677255354234285</td><td>1.8208651104975865e+39</td><td>0.0545907253211837</td><td>5.0347049077200685</td><td>990.6441846635895</td><td>0.9045471577654102</td><td>177.98302116979173</td><td>0.24797895458667035</td><td>992.7236132922634</td><td>5.848345852297426</td><td>178.77266830100174</td><td>1.2383877312094518</td><td>1932.8255294361977</td><td>6.277300937947824</td><td>297.1695862754135</td><td>1.1812135788291103</td><td>1</td><td>1</td><td>49908160.267544046</td><td>1.614690002144063e+39</td><td>616</td><td>5479</td><td>7309.96</td><td>8243.72</td><td>199.70054655255603</td><td>-21.013536076368112</td><td>4.0</td><td>1</td><td>0.8</td><td>19.73810108059835</td><td>0.0302032639821841</td><td>19.85782144029087</td><td>0.030461059591541384</td><td>21.51335460424438</td><td>0.031415471853904524</td><td>20.50120823358363</td><td>0.02279733343331323</td><td>20.7688461465235</td><td>0.04098442970618903</td><td>0.011379405347341885</td><td>0.0003168713025566539</td><td>0.014052429782687004</td><td>0.00039464435314492475</td><td>0.01040730202785541</td><td>0.000301433286241889</td><td>0.02345290835829059</td><td>0.0004929356414043466</td><td>0.012042080924190974</td><td>0.0004550193865043327</td><td>1.4291115626821496</td><td>1.0</td><td>0.0</td><td>8001.478689224081</td><td>1325.434897375335</td><td>0.43</td><td>0.040000000000000036</td><td>23.601089139212363</td><td>0.0</td><td>0.0</td><td>203.9600000002083</td><td>198.7200000021744</td></tr>\n",
       "<tr><td>287.0</td><td>287</td><td>5</td><td>1.3233944365113732</td><td>4.334064288399956</td><td>2227506.75</td><td>0.7313992717122595</td><td>0.41546729781238606</td><td>-175.11463914043892</td><td>0.5512462961691802</td><td>152.22830402722593</td><td>154.13088867991414</td><td>1.174553323759216</td><td>1.2393428524186656</td><td>3.1391656741890177</td><td>1.7831856422107608</td><td>2.461175658199889</td><td>1.2305878290999446</td><td>1.7223136659490665</td><td>0.9783507209434498</td><td>1.3503321934462582</td><td>0.6751660967231291</td><td>9</td><td>3</td><td>3</td><td>29.61082616788915</td><td>31.244188767804385</td><td>79.13926699650719</td><td>44.95462147906957</td><td>62.04694423778838</td><td>31.02347211889419</td><td>43.42002149870256</td><td>24.66450227765422</td><td>34.042261888178395</td><td>17.021130944089197</td><td>199.68664336575034</td><td>-21.01389291794315</td><td>13.897077230445543</td><td>144.0</td><td>164.0</td><td>199.68674039581663</td><td>-21.013784319532853</td><td>0</td><td>NGC5068</td><td>1154.8979915738264</td><td>972.7526752500983</td><td>199.68659534428966</td><td>-21.013867684124616</td><td>1154.3086092715232</td><td>973.435761589404</td><td>1.0</td><td>1.0</td><td>0.0</td><td>182.426348559588</td><td>0.8783323331700374</td><td>755.0</td><td>3.1004771508189637</td><td>981304.9277435313</td><td>1508661.017478874</td><td>3447665.5134183466</td><td>399443.83134197834</td><td>401627.6520984605</td><td>281420.21400582575</td><td>263852.54717162077</td><td>56748.65108217845</td><td>6739.517882257955</td><td>75370.61610276761</td><td>12189.170861670256</td><td>19087.70454597198</td><td>24276.5601536619</td><td>27617.768860736673</td><td>1071.9311492400545</td><td>1120.1994664092613</td><td>1474.2076616291256</td><td>512.9161579040959</td><td>560.9565133010117</td><td>496.7260698662594</td><td>748.6704250619421</td><td>379.41943209111747</td><td>433.56448251272275</td><td>828.978191887006</td><td>396.25698459470857</td><td>127.61970338763012</td><td>394.7963198482277</td><td>345.0032718530671</td><td>24.494292588846456</td><td>21.005369535749306</td><td>13.239481384041776</td><td>33.91658896784044</td><td>34.87077207040994</td><td>36.14351135951398</td><td>0.04478828372619627</td><td>0.1302323983161985</td><td>0.2470991388436898</td><td>0.02390594779872506</td><td>0.05477304163077455</td><td>0.05831642504555231</td><td>1895712.9924373138</td><td>2841763.2109146826</td><td>5422148.374324741</td><td>627212.492082444</td><td>624403.6393242307</td><td>437063.63224597124</td><td>343440.34747453005</td><td>91089.59671698934</td><td>11393.550658926344</td><td>125759.66944563489</td><td>19546.305784217304</td><td>30483.820676423067</td><td>36045.489926715454</td><td>40970.49799160817</td><td>7412.0678302618735</td><td>10473.998489219824</td><td>14188.465919515367</td><td>1803.3798977389097</td><td>1796.774362528574</td><td>1341.1030570469109</td><td>1102.7739906727065</td><td>656.7382351561808</td><td>733.759365206371</td><td>1431.0717612446604</td><td>637.6052376581323</td><td>219.45482166300465</td><td>591.7897030380321</td><td>520.0320387878553</td><td>0.19516628253702092</td><td>0.0011127315616326803</td><td>--</td><td>--</td><td>7.5744606251507305</td><td>0.0028042171298201194</td><td>10880.15086541419</td><td>9342.566412943637</td><td>327.30237808314786</td><td>118.25395767145606</td><td>0.0</td><td>0.0</td><td>0.0</td><td>-1.3669764665480795</td><td>7.2379641040794365</td><td>206.42317506251308</td><td>22.0</td><td>9.0</td><td>0.8127675158757547</td><td>2.3398205329327966</td><td>1.754239991949675e+38</td><td>--</td><td>5.0347049077200685</td><td>280.59744339591737</td><td>0.535454104347255</td><td>50.031487629779086</td><td>0.17098013173204976</td><td>283.17410923720695</td><td>3.498055838792564</td><td>52.471604713770816</td><td>0.7510061026559798</td><td>538.2090758198544</td><td>3.6091713657560485</td><td>89.19034502122925</td><td>0.835553496195678</td><td>1</td><td>0</td><td>3503202.980771393</td><td>1.1333991872690612e+38</td><td>610</td><td>5441</td><td>8508.642925842309</td><td>8207.73530522257</td><td>199.68641446693894</td><td>-21.013930248807643</td><td>7.0</td><td>2</td><td>0.4</td><td>20.428701336886817</td><td>0.04578396514070077</td><td>20.798621096522353</td><td>0.044342357742700636</td><td>22.3915353933689</td><td>0.03975882478872004</td><td>22.072391444903698</td><td>0.039359905633601665</td><td>22.199092320239323</td><td>0.05279831395319781</td><td>0.006023923739704952</td><td>0.00025427421974967356</td><td>0.005907878585083173</td><td>0.00024152372917517402</td><td>0.0046351718746700755</td><td>0.00016990605033864593</td><td>0.005517259638447155</td><td>0.00020021053835316566</td><td>0.003225544752921748</td><td>0.00015701190717738495</td><td>1.7478260766682587</td><td>2.0</td><td>0.0</td><td>1258.3088450019495</td><td>187.73140759920284</td><td>0.25</td><td>0.04000000000000001</td><td>3.10127055751565</td><td>0.0</td><td>0.0</td><td>171.64292584315308</td><td>150.73530522348483</td></tr>\n",
       "<tr><td>335.0</td><td>335</td><td>0</td><td>0.45364641540115136</td><td>1.5603259335999842</td><td>736780.6875</td><td>0.5022953432015164</td><td>0.20737690859212038</td><td>120.70864863063704</td><td>0.32274518659981377</td><td>95.30788663434801</td><td>95.18933325959573</td><td>0.7047461744016976</td><td>0.774014553093586</td><td>2.155851613020908</td><td>0.8900616916773806</td><td>1.5229566523491442</td><td>0.7614783261745721</td><td>1.182815142696631</td><td>0.488335301229276</td><td>0.8355752219629534</td><td>0.4177876109814767</td><td>9</td><td>3</td><td>3</td><td>17.76685318628542</td><td>19.513128880106112</td><td>54.34963748824405</td><td>22.438710527508707</td><td>38.39417400787637</td><td>19.197087003938186</td><td>29.81910899288971</td><td>12.31107300438595</td><td>21.065090998637828</td><td>10.532545499318914</td><td>199.70185111226942</td><td>-21.013387951685615</td><td>8.13649872135492</td><td>93.0</td><td>103.0</td><td>199.7018783294793</td><td>-21.01330199322413</td><td>0</td><td>NGC5068</td><td>897.9646881893597</td><td>980.9036200918691</td><td>199.7018864416727</td><td>-21.01341795223465</td><td>896.1178707224335</td><td>979.5361216730038</td><td>0.0</td><td>1.0</td><td>0.0</td><td>133.16886877208313</td><td>1.1102036981817398</td><td>263.0</td><td>1.8299234963936275</td><td>351588.415508133</td><td>454124.4568210498</td><td>1255067.1442237285</td><td>180143.27555863495</td><td>165108.37706967397</td><td>116162.43432498057</td><td>96680.20709578753</td><td>21755.572849890515</td><td>2386.4507080822914</td><td>34079.996293652825</td><td>4545.209630322679</td><td>7317.60031063524</td><td>9603.363321528584</td><td>10843.890131278706</td><td>569.4475677550495</td><td>577.7205269297557</td><td>825.3839111298039</td><td>310.27760507380424</td><td>321.3503401514456</td><td>283.27520806006146</td><td>410.13094799672166</td><td>207.80869734958088</td><td>233.56464787798097</td><td>471.29879414471975</td><td>210.0743520806847</td><td>69.8975383810981</td><td>215.3082278343038</td><td>191.85236528258287</td><td>18.834242755144825</td><td>20.17438080886081</td><td>11.029292986255843</td><td>28.106791921568348</td><td>29.313544835281057</td><td>29.81871471382197</td><td>0.08128849414681026</td><td>0.17669519427383706</td><td>0.46996282378928955</td><td>0.03529019118978211</td><td>0.07288579005324956</td><td>0.0971177527960942</td><td>714696.5496579772</td><td>898340.4635118347</td><td>2044198.3423925806</td><td>292909.64679525996</td><td>265603.4132052263</td><td>186656.3701606731</td><td>128434.86649871962</td><td>36222.58014823329</td><td>4201.650743545108</td><td>59161.05539955949</td><td>7559.7488763931415</td><td>12117.416336147537</td><td>14701.601475045902</td><td>16585.01181147239</td><td>4162.517972500061</td><td>4966.166348154098</td><td>7978.145293250942</td><td>1231.0190798191668</td><td>1121.9642197760857</td><td>833.4243570750173</td><td>616.1177198675413</td><td>375.3968718345113</td><td>411.6472867356303</td><td>857.6639671537595</td><td>350.716927879091</td><td>125.37906240238638</td><td>333.2883505814078</td><td>298.6418045641273</td><td>0.21026160951113784</td><td>0.0016581639818998345</td><td>8.320145018994957</td><td>0.0014492445343054366</td><td>7.479289064319775</td><td>0.004163450391757911</td><td>9869.454922081304</td><td>9471.978213850967</td><td>374.1516681539622</td><td>184.72805644025888</td><td>0.0</td><td>0.0</td><td>0.0</td><td>-1.3326336292734282</td><td>7.252371974931546</td><td>127.40685438996124</td><td>49.0</td><td>9.0</td><td>0.5933097467470069</td><td>1.7080386466134554</td><td>6.613641376327868e+37</td><td>0.06802804076724023</td><td>5.0347049077200685</td><td>350.116364377855</td><td>1.2007892460112508</td><td>65.3495530250807</td><td>0.37255692256448164</td><td>352.39727498754223</td><td>7.905852868414818</td><td>66.51486563668063</td><td>1.7318725985713528</td><td>1881.932408036179</td><td>66.0777750656712</td><td>267.54648441641024</td><td>10.553434079441164</td><td>1</td><td>1</td><td>1200036.0833490863</td><td>3.882503894370141e+37</td><td>620</td><td>5509</td><td>7197.29</td><td>8264.46</td><td>199.70187490993348</td><td>-21.01330793594078</td><td>-9999.0</td><td>2</td><td>0.9</td><td>21.566822593726602</td><td>0.08673617926939436</td><td>21.99724322899185</td><td>0.08998879316893128</td><td>23.383737127934523</td><td>0.06537387488939717</td><td>22.816120780510893</td><td>0.03955906335930717</td><td>22.666291310556616</td><td>0.059513484176973726</td><td>0.0021116938860002575</td><td>0.00016886541548841966</td><td>0.0019587666829275095</td><td>0.00016251019028734853</td><td>0.0018585966448610453</td><td>0.00011202084368675491</td><td>0.002781196587222441</td><td>0.00010143484056129576</td><td>0.0020976038708388207</td><td>0.00011509284222419508</td><td>1.4547659854271884</td><td>1.0</td><td>6.0</td><td>1437.6369260142612</td><td>1172.1313563280428</td><td>0.45</td><td>0.30000000000000004</td><td>5.105035147268559</td><td>0.0</td><td>0.0</td><td>93.29000000082192</td><td>102.46000000134018</td></tr>\n",
       "<tr><td>424.0</td><td>424</td><td>9</td><td>1.5094086321132463</td><td>4.01540617519996</td><td>1451339.5</td><td>0.738366449870377</td><td>0.4693933567823269</td><td>-141.06097750406823</td><td>0.5887141126558</td><td>164.88872723454662</td><td>161.5280067424189</td><td>1.1305500796557353</td><td>1.2443722653907774</td><td>3.169068802843658</td><td>2.014636287309747</td><td>2.5918525450767023</td><td>1.2959262725383511</td><td>1.7387201167331034</td><td>1.1053368855553876</td><td>1.4220285011442455</td><td>0.7110142505721228</td><td>9</td><td>3</td><td>3</td><td>28.50149176338452</td><td>31.370981711327023</td><td>79.89313344646506</td><td>50.789558624823925</td><td>65.34134603564449</td><td>32.670673017822246</td><td>43.833632828534135</td><td>27.865859908669602</td><td>35.84974636860187</td><td>17.924873184300935</td><td>199.72788950291877</td><td>-21.038532088181494</td><td>14.841651630290421</td><td>142.0</td><td>144.0</td><td>199.72815941320158</td><td>-21.038724974644733</td><td>0</td><td>NGC5068</td><td>459.89693458382857</td><td>528.4009163954247</td><td>199.7279571783361</td><td>-21.038559120997043</td><td>460.3341836734694</td><td>527.6173469387755</td><td>0.0</td><td>1.0</td><td>0.0</td><td>1.9814070310010101</td><td>2.200401269041704</td><td>784.0</td><td>3.1594616678674354</td><td>971501.8582580411</td><td>596176.6208507017</td><td>3084499.8882192518</td><td>875946.0730880536</td><td>806577.8569851808</td><td>572019.7284242413</td><td>154251.9398760868</td><td>84212.743624222</td><td>26499.462908048525</td><td>57094.25061682818</td><td>0.0</td><td>28325.395205907153</td><td>0.0</td><td>0.0</td><td>1422.0919107772688</td><td>1258.686042616379</td><td>1564.397031428653</td><td>967.4634877403046</td><td>1009.5264929680534</td><td>952.5649375413296</td><td>1139.7453391066447</td><td>798.5433739123536</td><td>949.5775154151384</td><td>1266.6582312334249</td><td>820.5074456716131</td><td>268.5942255492554</td><td>758.2925835209221</td><td>755.7950843081439</td><td>29.961770458277673</td><td>34.882565660893235</td><td>34.51685057880066</td><td>-4.003705141346693</td><td>0.7319102584840699</td><td>-5.886674844347829</td><td>0.05948204700562746</td><td>0.09759316725664381</td><td>0.45227011745767626</td><td>0.033164966522705105</td><td>0.058157571502387685</td><td>0.21317446268331075</td><td>1357251.4055656116</td><td>822280.057701853</td><td>3881887.7950349515</td><td>1101505.2665348107</td><td>1009167.4197375107</td><td>715316.4010646945</td><td>176347.5342110377</td><td>107087.4891916703</td><td>34596.5088852139</td><td>74045.33268416488</td><td>0.0</td><td>35927.00144374462</td><td>0.0</td><td>0.0</td><td>7016.335421291771</td><td>4287.580173068427</td><td>13380.269121899702</td><td>3935.0540874023704</td><td>3583.0380966529005</td><td>2653.4744829652036</td><td>1349.205427089239</td><td>1084.7719035357431</td><td>1247.2479569300447</td><td>1667.3372235568186</td><td>--</td><td>363.45314539320924</td><td>--</td><td>--</td><td>0.09910667073871933</td><td>0.0014695085743422747</td><td>8.405623578726454</td><td>0.0016627739228666652</td><td>6.734066766798235</td><td>0.0058922828836975635</td><td>14284.012427224992</td><td>--</td><td>309.54076120699887</td><td>--</td><td>0.0</td><td>0.0</td><td>0.0</td><td>-1.5284739971935637</td><td>8.868050342815028</td><td>137.0198675967927</td><td>69.0</td><td>1.0</td><td>0.008827799729814876</td><td>0.0254137458313442</td><td>1.2559159846229261e+38</td><td>-0.004150646219292398</td><td>5.0347049077200685</td><td>14.429295711694303</td><td>0.01102365741231183</td><td>-0.33873847328370116</td><td>-0.013990806508886981</td><td>16.630321906993462</td><td>0.030355315054015865</td><td>3.783336519802518</td><td>0.012676981838130761</td><td>47.889433809771894</td><td>0.07846245099314726</td><td>--</td><td>--</td><td>1</td><td>1</td><td>1826531.786569369</td><td>5.909419619079511e+37</td><td>385</td><td>3461</td><td>4962.87</td><td>5950.38</td><td>199.72821990831883</td><td>-21.03877581599683</td><td>15.0</td><td>1</td><td>1.0</td><td>19.434116964891118</td><td>0.05047479927701765</td><td>19.23155233601103</td><td>0.03710813922854455</td><td>19.445818482896943</td><td>0.021445965290404174</td><td>18.986481105374505</td><td>0.011976396365243851</td><td>17.904309580671406</td><td>0.009913049119004761</td><td>0.01505612508028368</td><td>0.0007006437906034174</td><td>0.02501837314103962</td><td>0.0008559289305197196</td><td>0.06987995342300007</td><td>0.0013816806276760972</td><td>0.09464279509045914</td><td>0.0010450165813649184</td><td>0.16846751419809183</td><td>0.0015396885803821807</td><td>1.8886443773884842</td><td>82.0</td><td>29.0</td><td>204559.82787172706</td><td>10445.919740170997</td><td>0.42</td><td>0.07</td><td>0.0998053073958269</td><td>0.0</td><td>0.0</td><td>136.86999999874956</td><td>139.3799999999854</td></tr>\n",
       "<tr><td>429.0</td><td>429</td><td>1</td><td>2.1282567748477224</td><td>5.734276293199942</td><td>2166890.75</td><td>0.7902129230103269</td><td>0.6184177710587182</td><td>154.6604588536877</td><td>0.6990577333166702</td><td>166.44575952568204</td><td>162.9156696279383</td><td>1.351028065672539</td><td>1.525595071224022</td><td>3.391593865560323</td><td>2.6542490733840185</td><td>3.0229214694721707</td><td>1.5114607347360853</td><td>1.860809230947216</td><td>1.4562625634924302</td><td>1.658535897219823</td><td>0.8292679486099115</td><td>9</td><td>3</td><td>3</td><td>34.0598050265874</td><td>38.460689304442084</td><td>85.50305410039748</td><td>66.91438041034137</td><td>76.20871725536942</td><td>38.10435862768471</td><td>46.91153441448781</td><td>36.712796899137494</td><td>41.81216565681265</td><td>20.906082828406326</td><td>199.69588391688836</td><td>-21.013621482969988</td><td>17.623445955019047</td><td>182.0</td><td>166.0</td><td>199.69570054293524</td><td>-21.01358751656318</td><td>0</td><td>NGC5068</td><td>999.7154390190123</td><td>978.630604613766</td><td>199.69583088217954</td><td>-21.01354316726007</td><td>1000.6777777777778</td><td>979.4744444444444</td><td>0.0</td><td>1.0</td><td>0.0</td><td>151.61678899171147</td><td>1.0042688967332687</td><td>900.0</td><td>3.3851375012865383</td><td>958337.6606268822</td><td>1844446.2512062525</td><td>3755096.377742047</td><td>481582.88514832535</td><td>508973.1319835064</td><td>353045.29907543137</td><td>316771.98496453743</td><td>75261.81117774757</td><td>5705.143379810484</td><td>106141.60205366579</td><td>12742.896686669208</td><td>25314.70242834944</td><td>23288.473876891992</td><td>27710.52452613802</td><td>1027.6046547968404</td><td>1114.3704619649818</td><td>1446.4490695504799</td><td>526.8345661983813</td><td>569.2285483173746</td><td>499.83864927409877</td><td>738.8551921251219</td><td>377.96413073839824</td><td>423.65738137982174</td><td>851.0102441563545</td><td>375.2288741039955</td><td>127.13020519311208</td><td>375.14225301080944</td><td>335.9390232287152</td><td>17.82646805189697</td><td>19.479801117053455</td><td>1.0</td><td>29.578418463386488</td><td>31.140758243367596</td><td>30.19367378990957</td><td>0.05061455334790796</td><td>0.1100454261425004</td><td>1.9977565389114107</td><td>0.020848091071090584</td><td>0.043864785620372874</td><td>0.04546152084941524</td><td>2624972.1687537064</td><td>4860506.76758251</td><td>7508287.521070291</td><td>960592.3331928466</td><td>999899.9620783292</td><td>692468.1151212548</td><td>474183.24098775105</td><td>155261.30307480507</td><td>12741.249143237581</td><td>232339.19210881347</td><td>26248.824750995194</td><td>51820.13954606602</td><td>42641.36972508118</td><td>50670.085201540016</td><td>9976.93377149207</td><td>17294.393946388107</td><td>19047.406390509303</td><td>2620.168222835613</td><td>2687.1255129600313</td><td>1952.1713636208797</td><td>1304.7818444604704</td><td>879.4892567859898</td><td>946.8755021689348</td><td>1975.8507785242577</td><td>775.9681904752957</td><td>292.8701501863516</td><td>693.2007621096136</td><td>624.1700733237608</td><td>0.29865503779090286</td><td>0.0010807700084878571</td><td>8.283925354190702</td><td>0.0009995373253191147</td><td>7.469471829259945</td><td>0.002465968234760944</td><td>9577.538930147544</td><td>9239.857191144574</td><td>267.63424065266486</td><td>112.56414879967302</td><td>0.0</td><td>0.0</td><td>0.0</td><td>-1.3019025269463769</td><td>7.108333610099236</td><td>140.84128511513885</td><td>48.0</td><td>9.0</td><td>0.6755011100471598</td><td>1.9446537126969226</td><td>2.4291733333760924e+38</td><td>0.05397854581687511</td><td>5.0347049077200685</td><td>332.75146587764715</td><td>0.6611942710067834</td><td>56.50108563166968</td><td>0.2045981255680543</td><td>334.3405996167449</td><td>4.3229359253537</td><td>59.410638284072895</td><td>0.9406009526629238</td><td>1323.1491333382266</td><td>20.037306931837882</td><td>179.25230192801695</td><td>3.3682602889995414</td><td>1</td><td>1</td><td>4332682.078197587</td><td>1.4017624365697083e+38</td><td>615</td><td>5467</td><td>7677.41</td><td>8236.74</td><td>199.69621444903188</td><td>-21.013612449278057</td><td>-9999.0</td><td>2</td><td>0.6</td><td>22.08754728557537</td><td>0.131036026325864</td><td>21.922226570382104</td><td>0.08437933150636732</td><td>22.951353772098336</td><td>0.05225022713616052</td><td>22.59567931511159</td><td>0.03802296402142871</td><td>21.954346234544925</td><td>0.043981921878623896</td><td>0.0013071971302714412</td><td>0.00015792150101719038</td><td>0.0020988885185202043</td><td>0.00016328072312203783</td><td>0.002767824129718423</td><td>0.00013333253514048136</td><td>0.003407283529790659</td><td>0.00011944382579263152</td><td>0.004041117760160779</td><td>0.00016386461119101138</td><td>1.2444018854238603</td><td>1.0</td><td>2.0</td><td>4077.1152955589205</td><td>945.3655961221425</td><td>0.67</td><td>0.039999999999999925</td><td>0.05374096445194301</td><td>0.0</td><td>0.0</td><td>138.40999999984933</td><td>163.73999999908847</td></tr>\n",
       "<tr><td>472.0</td><td>472</td><td>0</td><td>0.03922848147926975</td><td>0.10674261919999892</td><td>28408.529296875</td><td>0.11400695539456311</td><td>0.07900820836820908</td><td>-175.5718070621069</td><td>0.0949077725333324</td><td>85.64404547183632</td><td>61.57527358986752</td><td>0.1843291376004113</td><td>0.19614845760348487</td><td>0.4893178525534648</td><td>0.33910323031635337</td><td>0.4142105414349091</td><td>0.20710527071745455</td><td>0.2684658638360665</td><td>0.18605011278744074</td><td>0.22725798831175364</td><td>0.11362899415587682</td><td>9</td><td>3</td><td>3</td><td>4.64699042670422</td><td>4.944958873903823</td><td>12.335843405076204</td><td>8.548889695131162</td><td>10.442366550103683</td><td>5.221183275051842</td><td>6.7681014265229</td><td>4.690376704765467</td><td>5.729239065644184</td><td>2.864619532822092</td><td>199.7027195025228</td><td>-21.014253212474024</td><td>2.392652166247824</td><td>84.0</td><td>60.0</td><td>199.70273888373416</td><td>-21.014270550733944</td><td>0</td><td>NGC5068</td><td>882.392996575624</td><td>969.0751846902266</td><td>199.70281305060337</td><td>-21.014075231158184</td><td>882.4736842105264</td><td>969.4947368421052</td><td>0.0</td><td>1.0</td><td>0.0</td><td>128.99635602703336</td><td>1.1150696170925936</td><td>190.0</td><td>1.5553633450087505</td><td>69956.88369145646</td><td>49157.34850009723</td><td>260287.8805357949</td><td>39764.76398794944</td><td>49944.27532019495</td><td>35306.729803841576</td><td>12971.463646949971</td><td>6556.686260505682</td><td>311.8358136131927</td><td>4972.855780023826</td><td>703.7385212878754</td><td>2205.3755949182296</td><td>0.0</td><td>1925.9862319828494</td><td>337.76267497773074</td><td>256.84265846649066</td><td>395.82079584435866</td><td>191.80712753804713</td><td>202.45804726402358</td><td>184.1138159737809</td><td>230.29954360165468</td><td>145.69049227658337</td><td>187.49549683265198</td><td>340.2141249631034</td><td>152.20279551906938</td><td>49.00375636604266</td><td>151.2769686818628</td><td>137.3881233484857</td><td>23.321140125082845</td><td>23.873320451445753</td><td>14.083389062026555</td><td>24.095131675309656</td><td>26.861517415111845</td><td>21.031955883035245</td><td>0.1974713313028726</td><td>0.4097000455173204</td><td>1.917581540034207</td><td>0.09488964849041477</td><td>0.18701863688031053</td><td>0.4581019547096932</td><td>162366.17499795737</td><td>110464.63832497208</td><td>464412.0777494481</td><td>70805.84898515171</td><td>87808.41368559824</td><td>61991.10562208074</td><td>18171.308182240296</td><td>12008.038078877658</td><td>610.2473852587358</td><td>9569.932160920129</td><td>1287.2368358777298</td><td>4012.917607215941</td><td>0.0</td><td>3189.117618975966</td><td>2744.690309495808</td><td>1815.0906203720447</td><td>5221.547669786597</td><td>857.0170107928815</td><td>1017.5802044686463</td><td>745.18742571297</td><td>343.4725806969773</td><td>301.2268395281999</td><td>367.0041602990965</td><td>665.723128970943</td><td>278.8017600662063</td><td>100.43489674092619</td><td>--</td><td>229.5871908923019</td><td>0.24955711017440435</td><td>0.004801643877756978</td><td>8.263370090352984</td><td>0.004628757432588073</td><td>6.858664818385949</td><td>0.015097436089728666</td><td>--</td><td>--</td><td>--</td><td>--</td><td>0.0</td><td>0.0</td><td>0.0</td><td>-1.8350510078172724</td><td>7.476114502159385</td><td>123.10506873345564</td><td>47.0</td><td>9.0</td><td>0.5747198728305957</td><td>1.654521536437881</td><td>1.5025229545364165e+37</td><td>0.006238708595006415</td><td>5.0347049077200685</td><td>116.5471588206269</td><td>0.5612381630362197</td><td>20.594924099353587</td><td>0.29745304632948677</td><td>119.91277600090628</td><td>3.568595899454514</td><td>23.134714985345987</td><td>0.9153220159024393</td><td>1763.3854097317192</td><td>223.27344586668178</td><td>243.331310739398</td><td>39.63170912874748</td><td>1</td><td>1</td><td>50687.20099226227</td><td>1.6398944829889238e+36</td><td>609</td><td>5424</td><td>7127.08</td><td>8181.76</td><td>199.70270257621974</td><td>-21.014218161483605</td><td>-9999.0</td><td>2</td><td>0.4</td><td>22.945675054597473</td><td>0.2268622338665139</td><td>23.536972229700925</td><td>0.2912119044408157</td><td>24.39412246106861</td><td>0.13678489941295144</td><td>24.258787385683508</td><td>0.08955650327779154</td><td>24.334482604010635</td><td>0.20047275157374714</td><td>0.0005930481809817072</td><td>0.00012403996790570748</td><td>0.00047434148417111583</td><td>0.00012735315118933386</td><td>0.0007328768704009467</td><td>9.242269620218435e-05</td><td>0.000736486932794847</td><td>6.080952861495319e-05</td><td>0.000451280905771183</td><td>8.34087806962269e-05</td><td>1.456948419898054</td><td>5.0</td><td>0.0</td><td>69.27611085008076</td><td>36.623923915027135</td><td>0.17</td><td>0.12999999999999998</td><td>0.41447389111961563</td><td>0.0</td><td>0.0</td><td>87.08000000094307</td><td>64.76000000121621</td></tr>\n",
       "<tr><td>494.0</td><td>494</td><td>0</td><td>0.008669205439640112</td><td>0.02668565479999973</td><td>4678.89501953125</td><td>0.06357993277810364</td><td>0.031308430349069626</td><td>-153.90096927446837</td><td>0.04461600494196883</td><td>39.35193520214053</td><td>32.39238200804534</td><td>0.09216456880020565</td><td>0.09216456880020565</td><td>0.27288507148362084</td><td>0.13437578305820683</td><td>0.20363042727091385</td><td>0.10181521363545692</td><td>0.14971930016759874</td><td>0.07372571936444447</td><td>0.1117225097660216</td><td>0.0558612548830108</td><td>9</td><td>3</td><td>3</td><td>2.32349521335211</td><td>2.32349521335211</td><td>6.87951091879927</td><td>3.3876520314766383</td><td>5.133581475137955</td><td>2.5667907375689776</td><td>3.774466498508342</td><td>1.8586465305943627</td><td>2.8165565145513525</td><td>1.4082782572756762</td><td>199.70700133420485</td><td>-21.035166057847373</td><td>1.1247822809900385</td><td>41.0</td><td>33.0</td><td>199.70698190174062</td><td>-21.035159369650703</td><td>0</td><td>NGC5068</td><td>811.8217819891214</td><td>590.7267011277512</td><td>199.70700990936948</td><td>-21.035095176529797</td><td>811.8333333333334</td><td>590.7916666666666</td><td>0.0</td><td>0.0</td><td>0.0</td><td>85.34705230821383</td><td>0.49173147643777676</td><td>48.0</td><td>0.781764019044672</td><td>10835.866441042686</td><td>918.3297593492829</td><td>26078.123325668897</td><td>3034.946299945668</td><td>3401.4951272765215</td><td>2708.209087640261</td><td>0.0</td><td>0.0</td><td>110.83700550845118</td><td>0.0</td><td>0.0</td><td>0.0</td><td>0.0</td><td>0.0</td><td>137.70338772959573</td><td>112.13114857712915</td><td>121.39050350754229</td><td>79.32659774392445</td><td>83.24224372664328</td><td>82.8938709088856</td><td>87.39281141830266</td><td>85.47504474010924</td><td>110.32848824119137</td><td>180.15247144029578</td><td>80.2822653076897</td><td>28.74997676491575</td><td>83.03454139464358</td><td>78.86974413488772</td><td>73.16366290544096</td><td>47.259948565226615</td><td>1.0</td><td>23.982171550954586</td><td>33.555186528043514</td><td>-59.49901223630104</td><td>0.631669223718773</td><td>2.140597362383718</td><td>775.196421367711</td><td>0.5105730142009001</td><td>1.4763307975636302</td><td>13.040830498576947</td><td>10835.866441042686</td><td>918.3297593492829</td><td>26078.123325668897</td><td>3034.946299945668</td><td>3401.4951272765215</td><td>2708.209087640261</td><td>0.0</td><td>0.0</td><td>110.83700550845118</td><td>0.0</td><td>0.0</td><td>0.0</td><td>0.0</td><td>0.0</td><td>137.70338772959573</td><td>112.13114857712915</td><td>121.39050350754229</td><td>79.32659774392445</td><td>83.24224372664328</td><td>82.8938709088856</td><td>--</td><td>--</td><td>110.32848824119137</td><td>--</td><td>--</td><td>--</td><td>--</td><td>--</td><td>0.0</td><td>0.0</td><td>8.254337472057902</td><td>0.00910024446716025</td><td>--</td><td>--</td><td>--</td><td>--</td><td>--</td><td>--</td><td>0.0</td><td>0.0</td><td>-1.0</td><td>-2.4881658151368105</td><td>7.606362427060326</td><td>112.86135940158464</td><td>59.0</td><td>9.0</td><td>0.38024831522189245</td><td>1.0946707369457593</td><td>8.437114533698329e+35</td><td>-0.05525036364877778</td><td>5.0347049077200685</td><td>3.9351975617491455</td><td>0.03712870411819433</td><td>-2.806245457402062</td><td>-0.048183429055912816</td><td>6.38802214328863</td><td>0.060940851995323835</td><td>2.004255747275583</td><td>0.03531984672305091</td><td>6.5476598543235305</td><td>0.06499499218848122</td><td>--</td><td>--</td><td>1</td><td>1</td><td>4678.89501953125</td><td>1.5137734928754436e+35</td><td>429</td><td>3943</td><td>6760.89</td><td>6278.56</td><td>199.70701857247016</td><td>-21.035164214024064</td><td>1.0</td><td>2</td><td>1.0</td><td>17.357027116228583</td><td>0.0051992527948870205</td><td>17.79843332585906</td><td>0.004954967643913987</td><td>19.098093819782246</td><td>0.004812986601491067</td><td>19.156527833524766</td><td>0.004031836735764088</td><td>18.645474164725556</td><td>0.004462300267926786</td><td>0.10198801836907545</td><td>0.0004888769376900301</td><td>0.09364976020002326</td><td>0.00042781593356459695</td><td>0.0962592496720164</td><td>0.0004271364045414877</td><td>0.08092242086457069</td><td>0.0003008023792228214</td><td>0.08512366896012516</td><td>0.00035020197221472</td><td>1.6955452634361645</td><td>8.0</td><td>0.0</td><td>8001.0090756351865</td><td>625.1853145773521</td><td>0.0</td><td>0.02</td><td>0.8738759521950352</td><td>0.0</td><td>0.0</td><td>37.88999999996156</td><td>32.56000000015382</td></tr>\n",
       "<tr><td>671.0</td><td>671</td><td>2</td><td>1.172772715849441</td><td>1.9590410111999803</td><td>476455.8125</td><td>0.761314455269918</td><td>0.3537136681877599</td><td>-164.00771835469303</td><td>0.5189290207898273</td><td>124.66692804402152</td><td>140.33805334770116</td><td>0.7896721606492431</td><td>0.8709142982268038</td><td>3.267561642018488</td><td>1.5181390638618655</td><td>2.392850352940177</td><td>1.1964251764700884</td><td>1.792758539841421</td><td>0.832932036049963</td><td>1.312845287945692</td><td>0.656422643972846</td><td>9</td><td>3</td><td>3</td><td>19.90786165737305</td><td>21.955999246918573</td><td>82.37616617098496</td><td>38.27272122037017</td><td>60.324443695677566</td><td>30.162221847838783</td><td>45.19595697395987</td><td>20.998455523674057</td><td>33.09720624881697</td><td>16.548603124408483</td><td>199.70832989367244</td><td>-21.03800615379249</td><td>13.082349449151556</td><td>138.0</td><td>148.0</td><td>199.70817268050854</td><td>-21.037921822693</td><td>0</td><td>NGC5068</td><td>791.026999007688</td><td>536.576066787331</td><td>199.70824723995423</td><td>-21.038103698971206</td><td>791.4227188081936</td><td>536.1657355679702</td><td>0.0</td><td>1.0</td><td>0.0</td><td>80.61413706259876</td><td>0.3431365749946994</td><td>537.0</td><td>2.614822432829393</td><td>366408.49987506145</td><td>78474.99031578956</td><td>1248352.9392126813</td><td>368617.23403365735</td><td>279618.89439825044</td><td>195836.0476705365</td><td>80693.77165525948</td><td>23955.383752007823</td><td>2806.6882610731413</td><td>42933.733712635505</td><td>1664.6407758646178</td><td>8057.518172221375</td><td>5859.991320607316</td><td>8067.4352838913155</td><td>561.6725845169026</td><td>337.7240288724354</td><td>673.3122477692768</td><td>360.1878977855978</td><td>355.5138535036934</td><td>316.6524809111181</td><td>340.96797683616546</td><td>231.13863414843993</td><td>261.2584488368107</td><td>564.3644048468843</td><td>226.7832984731264</td><td>77.74468421101317</td><td>204.87342161604153</td><td>206.11985260100445</td><td>19.88700645996971</td><td>24.02681757183868</td><td>14.828914020504318</td><td>5.440126295620963</td><td>5.511848332614024</td><td>11.840502791487104</td><td>0.06950341293470683</td><td>0.09750007765335526</td><td>0.6082626090923827</td><td>0.030320458260425377</td><td>0.04661162531277856</td><td>0.21303301837699393</td><td>641522.0371242092</td><td>134475.8052483495</td><td>1834870.8183717572</td><td>541077.0682489265</td><td>406984.44571756053</td><td>284786.2964559023</td><td>100977.74936812183</td><td>35827.25317157336</td><td>4386.898908322633</td><td>66362.29151841135</td><td>2487.547301407097</td><td>11998.927674954444</td><td>8201.90760435062</td><td>11283.119782018766</td><td>3478.270702843809</td><td>887.2585217850778</td><td>6636.17734713891</td><td>1999.4355331653712</td><td>1509.8762460651285</td><td>1092.0390885934553</td><td>475.66627149164435</td><td>370.7154379494878</td><td>408.75620727249515</td><td>912.6717431771651</td><td>339.01942798842157</td><td>123.98413251848605</td><td>287.8910373760697</td><td>290.41397791065145</td><td>0.1660092198352903</td><td>0.001541459156644173</td><td>8.430622453871422</td><td>0.0015340761039661945</td><td>6.993716192225197</td><td>0.003959171691477793</td><td>8065.408877834603</td><td>6983.850271352367</td><td>242.99171176050086</td><td>285.4912660952366</td><td>0.0</td><td>0.0</td><td>0.0</td><td>-1.6895697045308238</td><td>7.81148545627667</td><td>138.35392689945897</td><td>44.0</td><td>9.0</td><td>0.3591616695843379</td><td>1.0339658422868414</td><td>5.936399278358046e+37</td><td>0.11534673933340933</td><td>5.0347049077200685</td><td>86.16529839692353</td><td>0.10066710348080411</td><td>16.327713791077773</td><td>0.06770212687164544</td><td>88.41946004610152</td><td>0.5758345547223691</td><td>20.087516198445673</td><td>0.1855954872464237</td><td>1867.5860296812198</td><td>78.25415564521622</td><td>211.28207136795652</td><td>8.978738959531764</td><td>1</td><td>1</td><td>700310.6566571015</td><td>2.2657309138171735e+37</td><td>401</td><td>3570</td><td>6663.65</td><td>6026.66</td><td>199.7081650152297</td><td>-21.037936569786467</td><td>-9999.0</td><td>2</td><td>0.6</td><td>20.4092922490401</td><td>0.021179397316829204</td><td>21.088152413269306</td><td>0.028259029190614012</td><td>22.76108498457736</td><td>0.03449650879049314</td><td>22.820499165961902</td><td>0.026835323885251016</td><td>23.03663685474698</td><td>0.061052654382849</td><td>0.006132578278140905</td><td>0.00011974741881371016</td><td>0.004525004700634426</td><td>0.00011789238008227425</td><td>0.0032979647253451494</td><td>0.00010488916151526333</td><td>0.002770003600797994</td><td>6.853250994645064e-05</td><td>0.0014913695034782654</td><td>8.3945857827945e-05</td><td>1.3222755412315306</td><td>1.0</td><td>1.0</td><td>497.5459989810193</td><td>41.755601573386855</td><td>0.06</td><td>0.03</td><td>0.7494570209621709</td><td>0.0</td><td>0.0</td><td>138.6499999989885</td><td>146.65999999987443</td></tr>\n",
       "<tr><td>688.0</td><td>688</td><td>0</td><td>0.34655282552415156</td><td>1.1302159679999886</td><td>425194.0</td><td>0.3353539921863246</td><td>0.23728376664411294</td><td>128.9802794385001</td><td>0.2820887421098395</td><td>72.61803580548363</td><td>68.50740006449739</td><td>0.5997990631346295</td><td>0.6318484500891084</td><td>1.439339334463705</td><td>1.0184219264365326</td><td>1.228880630450119</td><td>0.6144403152250595</td><td>0.7896983029815096</td><td>0.5587605700540033</td><td>0.6742294365177564</td><td>0.3371147182588782</td><td>9</td><td>3</td><td>3</td><td>15.121106411157884</td><td>15.929080648427197</td><td>36.28615744153916</td><td>25.67470886103509</td><td>30.980433151287126</td><td>15.490216575643563</td><td>19.90852071306742</td><td>14.086514230265415</td><td>16.997517471666416</td><td>8.498758735833208</td><td>199.70198898095026</td><td>-21.012856195969086</td><td>7.111538095008884</td><td>70.0</td><td>76.0</td><td>199.70201985417518</td><td>-21.012773738285972</td><td>0</td><td>NGC5068</td><td>896.8296537057511</td><td>992.3161405786053</td><td>199.70195410620337</td><td>-21.012783934217143</td><td>895.5819209039548</td><td>993.0225988700565</td><td>0.0</td><td>1.0</td><td>0.0</td><td>134.39966100328314</td><td>1.1238362942034181</td><td>177.0</td><td>1.5012108426804138</td><td>257697.03588114274</td><td>588029.2575073788</td><td>948209.962326023</td><td>124744.67910884</td><td>130409.52765559596</td><td>93129.15926077339</td><td>79660.7265060246</td><td>23477.06835754031</td><td>1812.5695953059953</td><td>30687.07484812428</td><td>3310.4048998145636</td><td>7896.634296476655</td><td>8135.100823166786</td><td>9356.804066341232</td><td>555.8979426397038</td><td>669.7989846160428</td><td>660.939928453701</td><td>241.55388232256968</td><td>266.1096320896369</td><td>233.9794198367361</td><td>316.9257170165499</td><td>178.81982709753547</td><td>191.9176873540036</td><td>385.238002397678</td><td>169.51799607256706</td><td>60.146980791785964</td><td>169.63450286122793</td><td>151.13228751318366</td><td>22.073385308414153</td><td>22.840071917065384</td><td>11.28603953892376</td><td>29.4885532364352</td><td>30.90510247656778</td><td>31.655977937487858</td><td>0.07727226902635205</td><td>0.1728277025479057</td><td>0.3804042694741604</td><td>0.03871591654434801</td><td>0.07924443469894546</td><td>0.08435009899860604</td><td>577194.1240781567</td><td>1276950.4308465277</td><td>1650927.7823116838</td><td>216772.35588915632</td><td>223874.25927619598</td><td>159671.14624582964</td><td>110015.75418388256</td><td>41910.841929554525</td><td>3447.8849209420414</td><td>57443.92929837747</td><td>5902.635429866441</td><td>14009.844611690167</td><td>13200.537225451048</td><td>15166.642450412333</td><td>4368.846570859837</td><td>9027.021005673592</td><td>8316.549134020417</td><td>1156.566393760003</td><td>1180.4715201471606</td><td>872.2275688188619</td><td>541.9346639741427</td><td>386.85607453918675</td><td>365.61195299662126</td><td>790.5929525671487</td><td>303.8163743207031</td><td>128.8776149299653</td><td>281.199617396324</td><td>253.6844905360486</td><td>0.23901108655685088</td><td>0.0021504065848600793</td><td>8.285957815321467</td><td>0.0018843045625721363</td><td>7.486585518228016</td><td>0.004551159021424474</td><td>10287.117442704193</td><td>9122.576458815463</td><td>482.6493960626399</td><td>191.1182988133139</td><td>0.0</td><td>0.0</td><td>0.0</td><td>-1.2534461029036468</td><td>7.15013860631681</td><td>137.74856015487535</td><td>53.0</td><td>9.0</td><td>0.5987933183484242</td><td>1.723824923963601</td><td>5.341284191457815e+37</td><td>0.035319967125520435</td><td>5.0347049077200685</td><td>427.851367058751</td><td>1.8808322198626124</td><td>81.70688051878862</td><td>0.6726213116951355</td><td>431.0810126912909</td><td>12.517350926039079</td><td>83.42072567271845</td><td>3.308101635805806</td><td>--</td><td>--</td><td>--</td><td>--</td><td>1</td><td>1</td><td>740305.0119303403</td><td>2.395125556408102e+37</td><td>624</td><td>5529</td><td>7186.71</td><td>8311.86</td><td>199.70199969286062</td><td>-21.012786282969124</td><td>-9999.0</td><td>2</td><td>0.7</td><td>21.583757132763136</td><td>0.08055074057994163</td><td>21.748081769310875</td><td>0.07397711682265283</td><td>23.415529080695116</td><td>0.07124606542216763</td><td>22.86030228231192</td><td>0.04194429288749589</td><td>22.911135178304328</td><td>0.06761788249844253</td><td>0.0020790127219920723</td><td>0.00015439603651376202</td><td>0.002464037382204438</td><td>0.00016805605179803844</td><td>0.001804963266017814</td><td>0.00011856014340117725</td><td>0.00267029404398184</td><td>0.00010326221278723336</td><td>0.0016741174709264525</td><td>0.00010436549996342592</td><td>1.3797993681502883</td><td>2.0</td><td>0.0</td><td>819.8962150108338</td><td>158.63415791606155</td><td>0.36</td><td>0.050000000000000044</td><td>5.185572770539268</td><td>0.0</td><td>0.0</td><td>71.70999999942842</td><td>74.8600000007682</td></tr>\n",
       "<tr><td>732.0</td><td>732</td><td>1</td><td>0.3171758337070676</td><td>0.5148761631999949</td><td>144967.75</td><td>0.34743332597926274</td><td>0.2096190172658475</td><td>-149.28991457505705</td><td>0.26986780533657195</td><td>96.49960177045087</td><td>98.22174996897306</td><td>0.404833512578859</td><td>0.5023254985139886</td><td>1.4911838351029956</td><td>0.8996848221050174</td><td>1.1954343286040066</td><td>0.5977171643020033</td><td>0.81814296032774</td><td>0.49361506367730634</td><td>0.6558790120025232</td><td>0.3279395060012616</td><td>9</td><td>3</td><td>3</td><td>10.205968963198808</td><td>12.6637698904892</td><td>37.59317217227756</td><td>22.681312405618154</td><td>30.13724228894786</td><td>15.06862114447393</td><td>20.62561868303329</td><td>12.444177329999714</td><td>16.534898006516503</td><td>8.267449003258251</td><td>199.68681585451586</td><td>-21.019801929393438</td><td>6.803444773844205</td><td>89.0</td><td>98.0</td><td>199.68690427514764</td><td>-21.01980438492952</td><td>0</td><td>NGC5068</td><td>1150.3555720585773</td><td>864.8159574401825</td><td>199.68686398670656</td><td>-21.01986423221761</td><td>1150.5261194029852</td><td>863.9589552238806</td><td>0.0</td><td>1.0</td><td>0.0</td><td>173.94684536949194</td><td>0.7636352333326298</td><td>268.0</td><td>1.8472363086216763</td><td>152406.41023890683</td><td>126562.01870214424</td><td>633946.417622747</td><td>107609.78770380071</td><td>176944.39777901542</td><td>125530.31785521976</td><td>32303.386285140783</td><td>32021.988675687942</td><td>1510.8360767455033</td><td>12330.755205770813</td><td>1470.9887338075418</td><td>10770.762778675871</td><td>6659.167650169478</td><td>8001.522769348155</td><td>466.5043535509849</td><td>411.58535458413024</td><td>602.3958478819002</td><td>288.92980293953633</td><td>344.75147221710347</td><td>306.8391626582783</td><td>352.3276736869871</td><td>242.48764295221326</td><td>270.2644366118433</td><td>493.19496216609525</td><td>233.1305672347923</td><td>81.5619824692988</td><td>225.50471464130928</td><td>211.35355607851156</td><td>40.46868744132045</td><td>44.08813955244376</td><td>40.19394054684019</td><td>8.092825366121877</td><td>10.872073857176566</td><td>7.438488470015923</td><td>0.09063379251190636</td><td>0.14992079428654453</td><td>0.6013647512613186</td><td>0.06581338606212825</td><td>0.10641242893738993</td><td>0.3260574689442621</td><td>505415.38697806967</td><td>400840.75914098875</td><td>1445686.6461644187</td><td>244693.3023070885</td><td>395136.4897973884</td><td>279791.9557362641</td><td>52202.69254039785</td><td>75790.2684167616</td><td>3929.8667928261657</td><td>31317.639947760355</td><td>3475.4007089426977</td><td>25258.681570865712</td><td>13675.949965502117</td><td>16406.513445258395</td><td>5410.075195200674</td><td>4163.111742694042</td><td>10289.110144418619</td><td>1841.0997124658375</td><td>2823.123561092453</td><td>2036.960581491487</td><td>608.3864733013386</td><td>800.9469069810161</td><td>703.724828768579</td><td>1277.272698116049</td><td>551.3940662186081</td><td>265.54728681765465</td><td>470.71287069220733</td><td>444.9319633456835</td><td>0.3553270910718098</td><td>0.0030401937829242164</td><td>8.219919847504503</td><td>0.0032392739008046986</td><td>6.530324605882463</td><td>0.009298732229014199</td><td>--</td><td>9972.216747331746</td><td>--</td><td>676.439082228436</td><td>0.0</td><td>0.0</td><td>0.0</td><td>-1.4912615371488935</td><td>7.341036264175894</td><td>89.73499748091939</td><td>20.0</td><td>9.0</td><td>0.7749886270360006</td><td>2.231061486720921</td><td>4.677262877088012e+37</td><td>0.016808646442962427</td><td>5.0347049077200685</td><td>118.25560406000733</td><td>0.3122941166356965</td><td>15.022559302716434</td><td>0.12890924189967143</td><td>120.37255589933557</td><td>1.910535358281729</td><td>18.26132061684231</td><td>0.3443466028301119</td><td>233.8172035464902</td><td>2.1635776542818377</td><td>24.7060086241614</td><td>0.32851515729284975</td><td>1</td><td>1</td><td>330592.5145620413</td><td>1.069573442870692e+37</td><td>569</td><td>5144</td><td>8479.7</td><td>7679.08</td><td>199.6867545517582</td><td>-21.019748451198996</td><td>2.0</td><td>2</td><td>0.7</td><td>20.459840400894866</td><td>0.03791787320040184</td><td>20.58125757151136</td><td>0.03215819117532575</td><td>21.55949551452907</td><td>0.02221930389463752</td><td>21.311690823134654</td><td>0.016915980973762963</td><td>20.702911575999618</td><td>0.01953049719255276</td><td>0.005853610750616718</td><td>0.0002046337544651651</td><td>0.007217336784936699</td><td>0.00021398239642376747</td><td>0.009974285478291251</td><td>0.0002043250933064353</td><td>0.011117411239061426</td><td>0.0001733845204481822</td><td>0.012796033535479753</td><td>0.0002304083064715734</td><td>1.541577586597155</td><td>7.0</td><td>27.0</td><td>1921.6697600097446</td><td>3818.9083631991357</td><td>0.28</td><td>0.16000000000000003</td><td>0.20036909736605485</td><td>0.0</td><td>0.0</td><td>101.69999999969605</td><td>103.08000000068523</td></tr>\n",
       "<tr><td>967.0</td><td>967</td><td>0</td><td>0.011121741071742783</td><td>0.02668565479999973</td><td>4442.6669921875</td><td>0.06089942832771823</td><td>0.04193354981348355</td><td>123.06272514260135</td><td>0.050534435896654115</td><td>53.983980469297634</td><td>40.63474565372582</td><td>0.09216456880020565</td><td>0.09743530194303868</td><td>0.26138034638256663</td><td>0.1799787957994714</td><td>0.22067957109101902</td><td>0.11033978554550951</td><td>0.14340719455703652</td><td>0.09874596366009489</td><td>0.1210765791085657</td><td>0.06053828955428285</td><td>9</td><td>3</td><td>3</td><td>2.32349521335211</td><td>2.456371907592137</td><td>6.5894734993091495</td><td>4.537317062172546</td><td>5.563395280740848</td><td>2.781697640370424</td><td>3.6153365056788025</td><td>2.489414065392556</td><td>3.052375285535679</td><td>1.5261876427678396</td><td>199.72674413943315</td><td>-21.032213800501417</td><td>1.2739876228343279</td><td>54.0</td><td>40.0</td><td>199.7267439510494</td><td>-21.032220786241638</td><td>0</td><td>NGC5068</td><td>477.34765366788685</td><td>642.3208047488957</td><td>199.7269185365132</td><td>-21.032230229421362</td><td>477.3541666666667</td><td>642.3541666666666</td><td>0.0</td><td>1.0</td><td>0.0</td><td>24.00876830219767</td><td>1.7105807645407236</td><td>48.0</td><td>0.781764019044672</td><td>19574.80761112109</td><td>19225.160099807177</td><td>65852.14698211876</td><td>17678.075727444597</td><td>15974.572202820078</td><td>10974.540691718763</td><td>3369.784566832367</td><td>1476.9494846820808</td><td>366.6860885366732</td><td>3580.241112435841</td><td>0.0</td><td>496.7796565263296</td><td>0.0</td><td>82.98930427395196</td><td>209.55796246414496</td><td>212.43909920015608</td><td>232.43848087722205</td><td>151.49037235080215</td><td>150.89397774260772</td><td>145.45257349262008</td><td>149.65923597178653</td><td>142.64829434306003</td><td>150.971056665076</td><td>279.39570712917606</td><td>140.9350164009195</td><td>47.98049723621121</td><td>128.5257922277143</td><td>131.79201110548382</td><td>29.22056898729296</td><td>38.66357836504449</td><td>28.17769762461796</td><td>0.7407315752506837</td><td>1.6306492007091549</td><td>-4.514028308301164</td><td>0.43286448398912264</td><td>0.7547783022698762</td><td>2.739560213215522</td><td>0.2358807371495227</td><td>0.47370092660225255</td><td>1.0853603780510765</td><td>32911.178916468234</td><td>31685.31632816194</td><td>94131.57739154289</td><td>25238.182346198646</td><td>22627.982167820162</td><td>15532.663887670295</td><td>4148.98107849963</td><td>2145.4954180238933</td><td>554.9113767263484</td><td>5362.298542266998</td><td>0.0</td><td>718.7730139225001</td><td>0.0</td><td>113.28545224383858</td><td>1238.4668507115878</td><td>1153.6246813895057</td><td>2358.6807555061337</td><td>660.3286782968497</td><td>587.3295157451691</td><td>427.46898103321854</td><td>193.76414580720717</td><td>214.5543127421132</td><td>229.02367315884317</td><td>444.6730856779069</td><td>--</td><td>71.82749795049116</td><td>--</td><td>179.92077025182195</td><td>0.15399759858579745</td><td>0.010692641834064147</td><td>8.410976084150798</td><td>0.01191900856268482</td><td>6.77878075341368</td><td>0.03679605949844376</td><td>--</td><td>--</td><td>--</td><td>--</td><td>0.0</td><td>0.0</td><td>0.0</td><td>-1.930706813594487</td><td>8.412452060313733</td><td>95.68387312866574</td><td>59.0</td><td>2.0</td><td>0.10696671356023894</td><td>0.30793911892370474</td><td>3.045460326159281e+36</td><td>0.027673696409541648</td><td>5.0347049077200685</td><td>14.314123914096202</td><td>0.07940833927871604</td><td>0.0012330650672689705</td><td>0.10934839203241549</td><td>16.47773533961338</td><td>0.22799799882483976</td><td>4.058232518712002</td><td>0.10192275057843829</td><td>--</td><td>--</td><td>--</td><td>--</td><td>1</td><td>1</td><td>6350.518107078662</td><td>2.0545974928679444e+35</td><td>473</td><td>4416</td><td>5088.15166432633</td><td>6545.21250161329</td><td>199.7267421633865</td><td>-21.03222945321099</td><td>-9999.0</td><td>2</td><td>0.9</td><td>21.69547003298453</td><td>0.05415805392785276</td><td>22.438331427422188</td><td>0.08510383054728178</td><td>23.20165510067549</td><td>0.050922666635751304</td><td>23.130558083670934</td><td>0.0437208572311751</td><td>22.190870467690228</td><td>0.054939579686359534</td><td>0.001875737179667319</td><td>9.365791816640384e-05</td><td>0.0013048104584003797</td><td>0.0001023778488872733</td><td>0.002197950764535238</td><td>0.00010319022528204608</td><td>0.002081885145861408</td><td>8.391795614980059e-05</td><td>0.003250063249914059</td><td>0.00016462152037094538</td><td>1.7598244316834217</td><td>12.0</td><td>1.0</td><td>454.9707710571732</td><td>75.16256803110758</td><td>0.1</td><td>0.03</td><td>2.3523879175487536</td><td>0.0</td><td>0.0</td><td>54.151664326046216</td><td>39.21250161316607</td></tr>\n",
       "<tr><td>1364.0</td><td>1364</td><td>1</td><td>0.47598322469895576</td><td>0.9779507611999901</td><td>181898.25</td><td>0.5954304474505501</td><td>0.18355350111482963</td><td>92.18598731899799</td><td>0.3305954375062034</td><td>71.08761564118663</td><td>80.83266221564956</td><td>0.5579349384031442</td><td>0.6353970808334921</td><td>2.5555874804577607</td><td>0.7878116267848487</td><td>1.6716995536213046</td><td>0.8358497768106523</td><td>1.4021315530783027</td><td>0.4322354637608115</td><td>0.9171835084195571</td><td>0.45859175420977855</td><td>9</td><td>3</td><td>3</td><td>14.065699819546243</td><td>16.018542647282782</td><td>64.42709335534738</td><td>19.860957065028337</td><td>42.144025210187856</td><td>21.072012605093928</td><td>35.34813860117714</td><td>10.896780011702653</td><td>23.122459306439897</td><td>11.561229653219948</td><td>199.7093863555563</td><td>-21.03388467669847</td><td>8.334405798250707</td><td>75.0</td><td>76.0</td><td>199.70934022137783</td><td>-21.033937861041156</td><td>0</td><td>NGC5068</td><td>772.0144380250819</td><td>610.7773099749709</td><td>199.70937947039627</td><td>-21.03398154105992</td><td>772.79375</td><td>611.1125</td><td>0.0</td><td>1.0</td><td>0.0</td><td>76.18682058149035</td><td>0.5745869892719496</td><td>160.0</td><td>1.427299292922217</td><td>142760.4797522043</td><td>42606.83420694349</td><td>447569.003032035</td><td>111939.7183286635</td><td>94687.54220105374</td><td>65788.30358255022</td><td>24397.575386518223</td><td>7707.148550395369</td><td>805.0450822486263</td><td>14414.785785455408</td><td>617.1908678286253</td><td>2592.3395819369985</td><td>1126.0449416532767</td><td>1911.6460875035748</td><td>335.77535906947963</td><td>205.1705592409757</td><td>404.0348694552892</td><td>204.43044168261875</td><td>209.0328642003988</td><td>184.00347049401864</td><td>195.87307264114088</td><td>131.58716880538063</td><td>149.67951393889447</td><td>298.33458612310454</td><td>131.08343501945524</td><td>44.26003001482496</td><td>121.2885371059503</td><td>121.175014357909</td><td>24.260622542558703</td><td>25.91057688547621</td><td>20.107844152586665</td><td>13.151833467773987</td><td>13.355594271140038</td><td>17.254051291042963</td><td>0.10158204516434743</td><td>0.16780562883371095</td><td>0.8402800356771369</td><td>0.05236480795980286</td><td>0.08510989649087865</td><td>0.34502420469867673</td><td>191539.12360756905</td><td>56523.74830084585</td><td>547820.349159001</td><td>136916.43363831786</td><td>115302.0782575944</td><td>80073.90751972454</td><td>27444.30626457892</td><td>9519.845230212408</td><td>1017.671038433625</td><td>18115.699581029625</td><td>762.0210365257989</td><td>3194.825330535275</td><td>1343.328724585375</td><td>2279.6277871505854</td><td>1608.6903241495502</td><td>515.8940435140265</td><td>3077.284772040299</td><td>796.709195263431</td><td>672.9955481536208</td><td>486.2782463594419</td><td>237.47609041621445</td><td>171.64118965035223</td><td>189.32548036089108</td><td>391.75128647448395</td><td>161.90347909232023</td><td>57.53884783728781</td><td>144.83860418433386</td><td>144.9193055817982</td><td>0.08711752703411485</td><td>0.0023897427699412473</td><td>8.392174681505635</td><td>0.0024650636292965233</td><td>6.965689723489614</td><td>0.0070336873146397486</td><td>--</td><td>--</td><td>--</td><td>--</td><td>0.0</td><td>0.0</td><td>0.0</td><td>-1.6886827348477635</td><td>8.006829649563802</td><td>84.75734820637041</td><td>70.0</td><td>9.0</td><td>0.33943656382654275</td><td>0.9771805911973832</td><td>1.7723756314917062e+37</td><td>0.07157834777507688</td><td>5.0347049077200685</td><td>90.68488418345706</td><td>0.17920387123415346</td><td>17.65567218409556</td><td>0.10864179649453728</td><td>92.85169936329044</td><td>1.0310519651611711</td><td>21.339978627637926</td><td>0.30644531156551114</td><td>1515.0903843059943</td><td>80.38063507966854</td><td>372.27705314706446</td><td>39.807006095576384</td><td>1</td><td>1</td><td>222641.7874145742</td><td>7.203180126669244e+36</td><td>454</td><td>4151</td><td>6559.62</td><td>6402.16</td><td>199.70939187289252</td><td>-21.033804035489432</td><td>-9999.0</td><td>2</td><td>0.8</td><td>22.646668373915336</td><td>0.10785880842190797</td><td>22.552685632460076</td><td>0.07889038773943538</td><td>23.067126624109296</td><td>0.034524941441404285</td><td>22.95160953128336</td><td>0.027443046372424715</td><td>22.4152370135561</td><td>0.03825714235845882</td><td>0.0007810748434285252</td><td>7.767079159622172e-05</td><td>0.0011743721595410873</td><td>8.541601391358588e-05</td><td>0.00248787955043362</td><td>7.919025908643153e-05</td><td>0.0024549134622560737</td><td>6.211235126908883e-05</td><td>0.002643292322690897</td><td>9.323246878383722e-05</td><td>1.8549936228074544</td><td>127.0</td><td>45.0</td><td>2141.677986983824</td><td>106.06143316748671</td><td>0.04</td><td>0.07</td><td>0.4213552443550674</td><td>0.0</td><td>0.0</td><td>70.6199999979126</td><td>88.15999999912162</td></tr>\n",
       "<tr><td>1590.0</td><td>1590</td><td>0</td><td>0.6981092808265847</td><td>1.287190407999987</td><td>360287.5625</td><td>0.628223637110275</td><td>0.2551591831594271</td><td>164.77319080811372</td><td>0.4003711154497813</td><td>98.85789775449786</td><td>99.84692742171761</td><td>0.6400979864578102</td><td>0.7668806262072524</td><td>2.6963358504773</td><td>1.095143214120261</td><td>1.8957395322987804</td><td>0.9478697661493902</td><td>1.4793536134295244</td><td>0.6008539591775424</td><td>1.0401037863035334</td><td>0.5200518931517667</td><td>9</td><td>3</td><td>3</td><td>16.137053826347714</td><td>19.333280537206218</td><td>67.97540013185325</td><td>27.608874528123366</td><td>47.7921373299883</td><td>23.89606866499415</td><td>37.29492889084051</td><td>15.147700642956499</td><td>26.2213147668985</td><td>13.11065738344925</td><td>199.70515796447154</td><td>-21.00708577965117</td><td>10.093470651705974</td><td>120.0</td><td>98.0</td><td>199.70490871653078</td><td>-21.00710609014696</td><td>0</td><td>NGC5068</td><td>840.6904995124277</td><td>1092.4062326706267</td><td>199.70529600518464</td><td>-21.00722386962068</td><td>839.4958333333333</td><td>1091.1208333333334</td><td>0.0</td><td>1.0</td><td>0.0</td><td>139.81185649566712</td><td>1.2842887520928865</td><td>240.0</td><td>1.7480774889473267</td><td>322495.07523009594</td><td>321025.1136771126</td><td>1019929.7704577913</td><td>140722.57393450633</td><td>172583.76197380375</td><td>118856.94587040633</td><td>54811.98409644788</td><td>18068.218350239582</td><td>1437.0157717231673</td><td>25581.408563554247</td><td>3245.6481187840886</td><td>6077.3394074522785</td><td>5532.637365046527</td><td>7562.4374002620825</td><td>568.6809633311752</td><td>476.3242977280979</td><td>734.9756215667229</td><td>285.5139439779702</td><td>328.7506182658894</td><td>289.348966561523</td><td>343.12719517518025</td><td>193.70781947385137</td><td>215.18157489149002</td><td>389.21613960785186</td><td>200.2651008034977</td><td>65.15463461866338</td><td>196.89935038467144</td><td>171.56239104160295</td><td>24.139264012734944</td><td>22.678585382348963</td><td>20.603680983361695</td><td>33.252881665253526</td><td>35.57949849933475</td><td>31.231844689787575</td><td>0.07784179489305512</td><td>0.17129642054811087</td><td>0.37863180024210236</td><td>0.0409383201359259</td><td>0.07822696436105661</td><td>0.12602593107785315</td><td>444957.4950489791</td><td>437492.4959959246</td><td>1272625.3889934085</td><td>175451.91100238948</td><td>214133.10996868194</td><td>147396.53896425918</td><td>62351.060632289686</td><td>22770.902849070204</td><td>1857.5216140754542</td><td>32856.00737971912</td><td>4088.459602683032</td><td>7640.18976275879</td><td>6711.967692473103</td><td>9170.502408385264</td><td>2823.8745384803647</td><td>2645.701060545435</td><td>5413.408712865179</td><td>814.8379339986374</td><td>965.2716783190168</td><td>699.7772837075715</td><td>418.9414742514333</td><td>263.7236656336255</td><td>278.2954880013752</td><td>523.595115702983</td><td>252.90135707078107</td><td>88.3508973195402</td><td>240.12981345795905</td><td>210.72088152021408</td><td>0.09540682303160955</td><td>0.0018069684176609572</td><td>8.261389396103542</td><td>0.0016884139681484188</td><td>7.115409393438289</td><td>0.00546097211060489</td><td>8819.054721073155</td><td>9908.726379079024</td><td>484.1617100944522</td><td>256.8977481913288</td><td>0.0</td><td>0.0</td><td>0.0</td><td>-1.4987115710831203</td><td>7.079518186207795</td><td>125.2937092303621</td><td>52.0</td><td>9.0</td><td>0.6229063739487342</td><td>1.7932423422330341</td><td>4.1173538568478904e+37</td><td>0.01725576583135613</td><td>5.0347049077200685</td><td>229.68651053567658</td><td>0.6280229083612812</td><td>43.436586913370824</td><td>0.21061510941412545</td><td>231.52812089853398</td><td>4.032089630112525</td><td>45.710827802165845</td><td>0.8751092239006565</td><td>588.751643495333</td><td>7.533540582296191</td><td>96.8820997357924</td><td>1.49796348630321</td><td>1</td><td>1</td><td>449551.6384135435</td><td>1.4544445880243866e+37</td><td>670</td><td>6026</td><td>6917.25</td><td>8828.42</td><td>199.70517691900397</td><td>-21.007101484974207</td><td>-9999.0</td><td>2</td><td>1.0</td><td>22.279290165672112</td><td>0.15090917222063868</td><td>22.75770338741609</td><td>0.17193637027933273</td><td>23.03008259912136</td><td>0.06397366982070415</td><td>22.637619321167623</td><td>0.04161197154348675</td><td>22.0426464282134</td><td>0.04214324407976251</td><td>0.001095579591824625</td><td>0.00015242950295369783</td><td>0.0009722963267610704</td><td>0.0001541259839122964</td><td>0.002574227706663821</td><td>0.00015183003346361528</td><td>0.0032781760384954567</td><td>0.0001257650672018096</td><td>0.0037254730727113287</td><td>0.00014475009419572058</td><td>1.7324338065623064</td><td>95.0</td><td>63.0</td><td>3195.278453363781</td><td>114.4406036461196</td><td>0.16</td><td>0.11</td><td>1.4431784101438159</td><td>0.0</td><td>0.0</td><td>97.2499999994601</td><td>98.4200000005535</td></tr>\n",
       "</table></div>"
      ],
      "text/plain": [
       "<Table length=27>\n",
       "region_ID hstcat_region_ID  _idx     area_ellipse     ... PHANGS_NO_COVERAGE_FLAG PHANGS_NON_DETECTION_FLAG     x_cluster          y_cluster     \n",
       "                                       arcsec2        ...                                                          pix                pix        \n",
       " float64       int64       int64       float64        ...         float64                  float64               float64            float64      \n",
       "--------- ---------------- ----- -------------------- ... ----------------------- ------------------------- ------------------ ------------------\n",
       "      6.0                6     0  0.16063343544041783 ...                     0.0                       0.0   88.8499999991092  84.33000000038123\n",
       "      8.0                8     0  0.03753165296840602 ...                     0.0                       0.0  74.05999999978451  70.59999999870934\n",
       "     13.0               13     0   0.1455780301013038 ...                     0.0                       0.0 107.29999999843767 101.08000000006547\n",
       "     22.0               22     0    1.093862417771324 ...                     0.0                       0.0  139.6600000007404  147.7400000008015\n",
       "     23.0               23     0  0.26267115621893994 ...                     0.0                       0.0 117.74999999971766 120.71000000026334\n",
       "     34.0               34     1   0.1356393878172921 ...                     0.0                       0.0  77.39999999823874  75.59999999984069\n",
       "     44.0               44     0   1.9806874223685105 ...                     0.0                       0.0 174.99999999943122 167.72000000021433\n",
       "     49.0               49     2   1.7737532298414926 ...                     0.0                       0.0 158.46999999965624  158.5200000003307\n",
       "     52.0               52     0  0.05325142955924572 ...                     0.0                       0.0  83.17000000260123   78.7600000010932\n",
       "     66.0               66     0     0.26319251031119 ...                     0.0                       0.0  90.93999999943702  96.94999999975073\n",
       "     79.0               79     0 0.011568279124113609 ...                     0.0                       0.0 39.389999999354515  39.42000000089001\n",
       "    111.0              111     1 0.020319464745895834 ...                     0.0                       0.0   99.7099999999889  83.41000000122176\n",
       "    146.0              146     0   1.9338869445562599 ...                     0.0                       0.0 162.38000000041313 167.76000000044496\n",
       "    212.0              212     1   1.6970840917479464 ...                     0.0                       0.0 142.33000000195358  94.71000000109944\n",
       "    268.0              268     1   4.0571085079356095 ...                     0.0                       0.0  203.9600000002083  198.7200000021744\n",
       "    287.0              287     5   1.3233944365113732 ...                     0.0                       0.0 171.64292584315308 150.73530522348483\n",
       "    335.0              335     0  0.45364641540115136 ...                     0.0                       0.0  93.29000000082192 102.46000000134018\n",
       "    424.0              424     9   1.5094086321132463 ...                     0.0                       0.0 136.86999999874956  139.3799999999854\n",
       "    429.0              429     1   2.1282567748477224 ...                     0.0                       0.0 138.40999999984933 163.73999999908847\n",
       "    472.0              472     0  0.03922848147926975 ...                     0.0                       0.0  87.08000000094307  64.76000000121621\n",
       "    494.0              494     0 0.008669205439640112 ...                     0.0                       0.0  37.88999999996156  32.56000000015382\n",
       "    671.0              671     2    1.172772715849441 ...                     0.0                       0.0  138.6499999989885 146.65999999987443\n",
       "    688.0              688     0  0.34655282552415156 ...                     0.0                       0.0  71.70999999942842   74.8600000007682\n",
       "    732.0              732     1   0.3171758337070676 ...                     0.0                       0.0 101.69999999969605 103.08000000068523\n",
       "    967.0              967     0 0.011121741071742783 ...                     0.0                       0.0 54.151664326046216  39.21250161316607\n",
       "   1364.0             1364     1  0.47598322469895576 ...                     0.0                       0.0   70.6199999979126  88.15999999912162\n",
       "   1590.0             1590     0   0.6981092808265847 ...                     0.0                       0.0   97.2499999994601   98.4200000005535"
      ]
     },
     "execution_count": 6,
     "metadata": {},
     "output_type": "execute_result"
    }
   ],
   "source": [
    "props_all_cluster = props_all_cluster[~props_all_cluster.mask['PHANGS_EBV_MINCHISQ']]\n",
    "props_all_cluster"
   ]
  },
  {
   "cell_type": "code",
   "execution_count": 7,
   "id": "1ad2f913",
   "metadata": {
    "execution": {
     "iopub.execute_input": "2024-03-17T18:25:10.924830Z",
     "iopub.status.busy": "2024-03-17T18:25:10.924699Z",
     "iopub.status.idle": "2024-03-17T18:25:10.927055Z",
     "shell.execute_reply": "2024-03-17T18:25:10.926702Z"
    }
   },
   "outputs": [],
   "source": [
    "# import matplotlib.pyplot as plt\n",
    "# import numpy as np\n",
    "\n",
    "# fig = plt.figure(figsize=(8,3))\n",
    "# ax1 = fig.add_subplot(121)\n",
    "# ax2 = fig.add_subplot(122)\n",
    "\n",
    "# ax1.hist(props_all_cluster['PHANGS_AGE_MINCHISQ'], alpha=0.3, fc='C0', bins=np.linspace(0,20,10))\n",
    "# ax1.hist(props_all_cluster['PHANGS_AGE_MINCHISQ'], fc='none', ec='C0', lw=1.5, bins=np.linspace(0,20,10))\n",
    "# ax1.set_ylabel('#')\n",
    "# ax1.set_xlabel('Cluster age, log(Myr)')\n",
    "# ax1.grid(alpha=0.3, linestyle=':')\n",
    "# ax1.set_xlim(0,20)\n",
    "\n",
    "# ax2.hist(np.log10(props_all_cluster['PHANGS_MASS_MINCHISQ']), alpha=0.3, fc='C1')\n",
    "# ax2.hist(np.log10(props_all_cluster['PHANGS_MASS_MINCHISQ']), fc='none', ec='C1', lw=1.5)\n",
    "# ax2.set_ylabel('#')\n",
    "# ax2.set_xlabel('Cluster mass, log(Msun)')\n",
    "# ax2.grid(alpha=0.3, linestyle=':')"
   ]
  }
 ],
 "metadata": {
  "kernelspec": {
   "display_name": "Python 3 (ipykernel)",
   "language": "python",
   "name": "python3"
  },
  "language_info": {
   "codemirror_mode": {
    "name": "ipython",
    "version": 3
   },
   "file_extension": ".py",
   "mimetype": "text/x-python",
   "name": "python",
   "nbconvert_exporter": "python",
   "pygments_lexer": "ipython3",
   "version": "3.9.13"
  },
  "widgets": {
   "application/vnd.jupyter.widget-state+json": {
    "state": {
     "0284646ef0404629987c6bca71cc6828": {
      "model_module": "@jupyter-widgets/controls",
      "model_module_version": "1.5.0",
      "model_name": "DescriptionStyleModel",
      "state": {
       "_model_module": "@jupyter-widgets/controls",
       "_model_module_version": "1.5.0",
       "_model_name": "DescriptionStyleModel",
       "_view_count": null,
       "_view_module": "@jupyter-widgets/base",
       "_view_module_version": "1.2.0",
       "_view_name": "StyleView",
       "description_width": ""
      }
     },
     "0aaa5bc2668f4ab4a8230f8abad5b69c": {
      "model_module": "@jupyter-widgets/controls",
      "model_module_version": "1.5.0",
      "model_name": "FloatProgressModel",
      "state": {
       "_dom_classes": [],
       "_model_module": "@jupyter-widgets/controls",
       "_model_module_version": "1.5.0",
       "_model_name": "FloatProgressModel",
       "_view_count": null,
       "_view_module": "@jupyter-widgets/controls",
       "_view_module_version": "1.5.0",
       "_view_name": "ProgressView",
       "bar_style": "success",
       "description": "",
       "description_tooltip": null,
       "layout": "IPY_MODEL_6d6f34b5e0f3493f824c4c9057efd4bc",
       "max": 1857.0,
       "min": 0.0,
       "orientation": "horizontal",
       "style": "IPY_MODEL_d883f52d3d3b41b59dbd87dc7b6b26e3",
       "value": 1857.0
      }
     },
     "153767b6f25b4977bdcd9c761d128a09": {
      "model_module": "@jupyter-widgets/controls",
      "model_module_version": "1.5.0",
      "model_name": "DescriptionStyleModel",
      "state": {
       "_model_module": "@jupyter-widgets/controls",
       "_model_module_version": "1.5.0",
       "_model_name": "DescriptionStyleModel",
       "_view_count": null,
       "_view_module": "@jupyter-widgets/base",
       "_view_module_version": "1.2.0",
       "_view_name": "StyleView",
       "description_width": ""
      }
     },
     "27bd1deb93024bad8727f0666f49e85c": {
      "model_module": "@jupyter-widgets/controls",
      "model_module_version": "1.5.0",
      "model_name": "HBoxModel",
      "state": {
       "_dom_classes": [],
       "_model_module": "@jupyter-widgets/controls",
       "_model_module_version": "1.5.0",
       "_model_name": "HBoxModel",
       "_view_count": null,
       "_view_module": "@jupyter-widgets/controls",
       "_view_module_version": "1.5.0",
       "_view_name": "HBoxView",
       "box_style": "",
       "children": [
        "IPY_MODEL_e85cb2517e464d8ab61392ea90ea128c",
        "IPY_MODEL_0aaa5bc2668f4ab4a8230f8abad5b69c",
        "IPY_MODEL_4d415e3ca0bb4ab0b761b26e1787232a"
       ],
       "layout": "IPY_MODEL_a26cdaff16494c5ba25f2eec67880256"
      }
     },
     "40a9474b529f4628b7436663e96308a3": {
      "model_module": "@jupyter-widgets/controls",
      "model_module_version": "1.5.0",
      "model_name": "DescriptionStyleModel",
      "state": {
       "_model_module": "@jupyter-widgets/controls",
       "_model_module_version": "1.5.0",
       "_model_name": "DescriptionStyleModel",
       "_view_count": null,
       "_view_module": "@jupyter-widgets/base",
       "_view_module_version": "1.2.0",
       "_view_name": "StyleView",
       "description_width": ""
      }
     },
     "46c2862c748f4a0682eb5cf03879f1e1": {
      "model_module": "@jupyter-widgets/controls",
      "model_module_version": "1.5.0",
      "model_name": "DescriptionStyleModel",
      "state": {
       "_model_module": "@jupyter-widgets/controls",
       "_model_module_version": "1.5.0",
       "_model_name": "DescriptionStyleModel",
       "_view_count": null,
       "_view_module": "@jupyter-widgets/base",
       "_view_module_version": "1.2.0",
       "_view_name": "StyleView",
       "description_width": ""
      }
     },
     "4d415e3ca0bb4ab0b761b26e1787232a": {
      "model_module": "@jupyter-widgets/controls",
      "model_module_version": "1.5.0",
      "model_name": "HTMLModel",
      "state": {
       "_dom_classes": [],
       "_model_module": "@jupyter-widgets/controls",
       "_model_module_version": "1.5.0",
       "_model_name": "HTMLModel",
       "_view_count": null,
       "_view_module": "@jupyter-widgets/controls",
       "_view_module_version": "1.5.0",
       "_view_name": "HTMLView",
       "description": "",
       "description_tooltip": null,
       "layout": "IPY_MODEL_ec39c3dbcf814d6d8f055f875067798a",
       "placeholder": "​",
       "style": "IPY_MODEL_153767b6f25b4977bdcd9c761d128a09",
       "value": " 1857/1857 [00:37&lt;00:00, 93.67it/s]"
      }
     },
     "4f2a47aca4ef473c86a061815df06bfa": {
      "model_module": "@jupyter-widgets/controls",
      "model_module_version": "1.5.0",
      "model_name": "FloatProgressModel",
      "state": {
       "_dom_classes": [],
       "_model_module": "@jupyter-widgets/controls",
       "_model_module_version": "1.5.0",
       "_model_name": "FloatProgressModel",
       "_view_count": null,
       "_view_module": "@jupyter-widgets/controls",
       "_view_module_version": "1.5.0",
       "_view_name": "ProgressView",
       "bar_style": "success",
       "description": "",
       "description_tooltip": null,
       "layout": "IPY_MODEL_d6460ea1bd014df09e824ff8f047a875",
       "max": 1591.0,
       "min": 0.0,
       "orientation": "horizontal",
       "style": "IPY_MODEL_a9d477a1ab004a15b5dfe4488ba5a84a",
       "value": 1591.0
      }
     },
     "54bdd1c2cde8412e893b916f3a433335": {
      "model_module": "@jupyter-widgets/base",
      "model_module_version": "1.2.0",
      "model_name": "LayoutModel",
      "state": {
       "_model_module": "@jupyter-widgets/base",
       "_model_module_version": "1.2.0",
       "_model_name": "LayoutModel",
       "_view_count": null,
       "_view_module": "@jupyter-widgets/base",
       "_view_module_version": "1.2.0",
       "_view_name": "LayoutView",
       "align_content": null,
       "align_items": null,
       "align_self": null,
       "border": null,
       "bottom": null,
       "display": null,
       "flex": null,
       "flex_flow": null,
       "grid_area": null,
       "grid_auto_columns": null,
       "grid_auto_flow": null,
       "grid_auto_rows": null,
       "grid_column": null,
       "grid_gap": null,
       "grid_row": null,
       "grid_template_areas": null,
       "grid_template_columns": null,
       "grid_template_rows": null,
       "height": null,
       "justify_content": null,
       "justify_items": null,
       "left": null,
       "margin": null,
       "max_height": null,
       "max_width": null,
       "min_height": null,
       "min_width": null,
       "object_fit": null,
       "object_position": null,
       "order": null,
       "overflow": null,
       "overflow_x": null,
       "overflow_y": null,
       "padding": null,
       "right": null,
       "top": null,
       "visibility": null,
       "width": null
      }
     },
     "6d6f34b5e0f3493f824c4c9057efd4bc": {
      "model_module": "@jupyter-widgets/base",
      "model_module_version": "1.2.0",
      "model_name": "LayoutModel",
      "state": {
       "_model_module": "@jupyter-widgets/base",
       "_model_module_version": "1.2.0",
       "_model_name": "LayoutModel",
       "_view_count": null,
       "_view_module": "@jupyter-widgets/base",
       "_view_module_version": "1.2.0",
       "_view_name": "LayoutView",
       "align_content": null,
       "align_items": null,
       "align_self": null,
       "border": null,
       "bottom": null,
       "display": null,
       "flex": null,
       "flex_flow": null,
       "grid_area": null,
       "grid_auto_columns": null,
       "grid_auto_flow": null,
       "grid_auto_rows": null,
       "grid_column": null,
       "grid_gap": null,
       "grid_row": null,
       "grid_template_areas": null,
       "grid_template_columns": null,
       "grid_template_rows": null,
       "height": null,
       "justify_content": null,
       "justify_items": null,
       "left": null,
       "margin": null,
       "max_height": null,
       "max_width": null,
       "min_height": null,
       "min_width": null,
       "object_fit": null,
       "object_position": null,
       "order": null,
       "overflow": null,
       "overflow_x": null,
       "overflow_y": null,
       "padding": null,
       "right": null,
       "top": null,
       "visibility": null,
       "width": null
      }
     },
     "796e252f668043f68f643f37afc9cd6b": {
      "model_module": "@jupyter-widgets/base",
      "model_module_version": "1.2.0",
      "model_name": "LayoutModel",
      "state": {
       "_model_module": "@jupyter-widgets/base",
       "_model_module_version": "1.2.0",
       "_model_name": "LayoutModel",
       "_view_count": null,
       "_view_module": "@jupyter-widgets/base",
       "_view_module_version": "1.2.0",
       "_view_name": "LayoutView",
       "align_content": null,
       "align_items": null,
       "align_self": null,
       "border": null,
       "bottom": null,
       "display": null,
       "flex": null,
       "flex_flow": null,
       "grid_area": null,
       "grid_auto_columns": null,
       "grid_auto_flow": null,
       "grid_auto_rows": null,
       "grid_column": null,
       "grid_gap": null,
       "grid_row": null,
       "grid_template_areas": null,
       "grid_template_columns": null,
       "grid_template_rows": null,
       "height": null,
       "justify_content": null,
       "justify_items": null,
       "left": null,
       "margin": null,
       "max_height": null,
       "max_width": null,
       "min_height": null,
       "min_width": null,
       "object_fit": null,
       "object_position": null,
       "order": null,
       "overflow": null,
       "overflow_x": null,
       "overflow_y": null,
       "padding": null,
       "right": null,
       "top": null,
       "visibility": null,
       "width": null
      }
     },
     "9124fc18dd304e71a72af10f7c3e68e1": {
      "model_module": "@jupyter-widgets/controls",
      "model_module_version": "1.5.0",
      "model_name": "HTMLModel",
      "state": {
       "_dom_classes": [],
       "_model_module": "@jupyter-widgets/controls",
       "_model_module_version": "1.5.0",
       "_model_name": "HTMLModel",
       "_view_count": null,
       "_view_module": "@jupyter-widgets/controls",
       "_view_module_version": "1.5.0",
       "_view_name": "HTMLView",
       "description": "",
       "description_tooltip": null,
       "layout": "IPY_MODEL_b8be14c7414f4b1085fdaea1717a364d",
       "placeholder": "​",
       "style": "IPY_MODEL_46c2862c748f4a0682eb5cf03879f1e1",
       "value": "100%"
      }
     },
     "a26cdaff16494c5ba25f2eec67880256": {
      "model_module": "@jupyter-widgets/base",
      "model_module_version": "1.2.0",
      "model_name": "LayoutModel",
      "state": {
       "_model_module": "@jupyter-widgets/base",
       "_model_module_version": "1.2.0",
       "_model_name": "LayoutModel",
       "_view_count": null,
       "_view_module": "@jupyter-widgets/base",
       "_view_module_version": "1.2.0",
       "_view_name": "LayoutView",
       "align_content": null,
       "align_items": null,
       "align_self": null,
       "border": null,
       "bottom": null,
       "display": null,
       "flex": null,
       "flex_flow": null,
       "grid_area": null,
       "grid_auto_columns": null,
       "grid_auto_flow": null,
       "grid_auto_rows": null,
       "grid_column": null,
       "grid_gap": null,
       "grid_row": null,
       "grid_template_areas": null,
       "grid_template_columns": null,
       "grid_template_rows": null,
       "height": null,
       "justify_content": null,
       "justify_items": null,
       "left": null,
       "margin": null,
       "max_height": null,
       "max_width": null,
       "min_height": null,
       "min_width": null,
       "object_fit": null,
       "object_position": null,
       "order": null,
       "overflow": null,
       "overflow_x": null,
       "overflow_y": null,
       "padding": null,
       "right": null,
       "top": null,
       "visibility": null,
       "width": null
      }
     },
     "a9d477a1ab004a15b5dfe4488ba5a84a": {
      "model_module": "@jupyter-widgets/controls",
      "model_module_version": "1.5.0",
      "model_name": "ProgressStyleModel",
      "state": {
       "_model_module": "@jupyter-widgets/controls",
       "_model_module_version": "1.5.0",
       "_model_name": "ProgressStyleModel",
       "_view_count": null,
       "_view_module": "@jupyter-widgets/base",
       "_view_module_version": "1.2.0",
       "_view_name": "StyleView",
       "bar_color": null,
       "description_width": ""
      }
     },
     "b8be14c7414f4b1085fdaea1717a364d": {
      "model_module": "@jupyter-widgets/base",
      "model_module_version": "1.2.0",
      "model_name": "LayoutModel",
      "state": {
       "_model_module": "@jupyter-widgets/base",
       "_model_module_version": "1.2.0",
       "_model_name": "LayoutModel",
       "_view_count": null,
       "_view_module": "@jupyter-widgets/base",
       "_view_module_version": "1.2.0",
       "_view_name": "LayoutView",
       "align_content": null,
       "align_items": null,
       "align_self": null,
       "border": null,
       "bottom": null,
       "display": null,
       "flex": null,
       "flex_flow": null,
       "grid_area": null,
       "grid_auto_columns": null,
       "grid_auto_flow": null,
       "grid_auto_rows": null,
       "grid_column": null,
       "grid_gap": null,
       "grid_row": null,
       "grid_template_areas": null,
       "grid_template_columns": null,
       "grid_template_rows": null,
       "height": null,
       "justify_content": null,
       "justify_items": null,
       "left": null,
       "margin": null,
       "max_height": null,
       "max_width": null,
       "min_height": null,
       "min_width": null,
       "object_fit": null,
       "object_position": null,
       "order": null,
       "overflow": null,
       "overflow_x": null,
       "overflow_y": null,
       "padding": null,
       "right": null,
       "top": null,
       "visibility": null,
       "width": null
      }
     },
     "cd717bc5eb2c41ffb4c353c99982a14c": {
      "model_module": "@jupyter-widgets/controls",
      "model_module_version": "1.5.0",
      "model_name": "HTMLModel",
      "state": {
       "_dom_classes": [],
       "_model_module": "@jupyter-widgets/controls",
       "_model_module_version": "1.5.0",
       "_model_name": "HTMLModel",
       "_view_count": null,
       "_view_module": "@jupyter-widgets/controls",
       "_view_module_version": "1.5.0",
       "_view_name": "HTMLView",
       "description": "",
       "description_tooltip": null,
       "layout": "IPY_MODEL_fc65d1a19adb4ef288bf0c31e7431515",
       "placeholder": "​",
       "style": "IPY_MODEL_40a9474b529f4628b7436663e96308a3",
       "value": " 1591/1591 [00:00&lt;00:00, 124410.64it/s]"
      }
     },
     "d17b14e138384b8198e7ceaff4cd2786": {
      "model_module": "@jupyter-widgets/controls",
      "model_module_version": "1.5.0",
      "model_name": "HBoxModel",
      "state": {
       "_dom_classes": [],
       "_model_module": "@jupyter-widgets/controls",
       "_model_module_version": "1.5.0",
       "_model_name": "HBoxModel",
       "_view_count": null,
       "_view_module": "@jupyter-widgets/controls",
       "_view_module_version": "1.5.0",
       "_view_name": "HBoxView",
       "box_style": "",
       "children": [
        "IPY_MODEL_9124fc18dd304e71a72af10f7c3e68e1",
        "IPY_MODEL_4f2a47aca4ef473c86a061815df06bfa",
        "IPY_MODEL_cd717bc5eb2c41ffb4c353c99982a14c"
       ],
       "layout": "IPY_MODEL_54bdd1c2cde8412e893b916f3a433335"
      }
     },
     "d6460ea1bd014df09e824ff8f047a875": {
      "model_module": "@jupyter-widgets/base",
      "model_module_version": "1.2.0",
      "model_name": "LayoutModel",
      "state": {
       "_model_module": "@jupyter-widgets/base",
       "_model_module_version": "1.2.0",
       "_model_name": "LayoutModel",
       "_view_count": null,
       "_view_module": "@jupyter-widgets/base",
       "_view_module_version": "1.2.0",
       "_view_name": "LayoutView",
       "align_content": null,
       "align_items": null,
       "align_self": null,
       "border": null,
       "bottom": null,
       "display": null,
       "flex": null,
       "flex_flow": null,
       "grid_area": null,
       "grid_auto_columns": null,
       "grid_auto_flow": null,
       "grid_auto_rows": null,
       "grid_column": null,
       "grid_gap": null,
       "grid_row": null,
       "grid_template_areas": null,
       "grid_template_columns": null,
       "grid_template_rows": null,
       "height": null,
       "justify_content": null,
       "justify_items": null,
       "left": null,
       "margin": null,
       "max_height": null,
       "max_width": null,
       "min_height": null,
       "min_width": null,
       "object_fit": null,
       "object_position": null,
       "order": null,
       "overflow": null,
       "overflow_x": null,
       "overflow_y": null,
       "padding": null,
       "right": null,
       "top": null,
       "visibility": null,
       "width": null
      }
     },
     "d883f52d3d3b41b59dbd87dc7b6b26e3": {
      "model_module": "@jupyter-widgets/controls",
      "model_module_version": "1.5.0",
      "model_name": "ProgressStyleModel",
      "state": {
       "_model_module": "@jupyter-widgets/controls",
       "_model_module_version": "1.5.0",
       "_model_name": "ProgressStyleModel",
       "_view_count": null,
       "_view_module": "@jupyter-widgets/base",
       "_view_module_version": "1.2.0",
       "_view_name": "StyleView",
       "bar_color": null,
       "description_width": ""
      }
     },
     "e85cb2517e464d8ab61392ea90ea128c": {
      "model_module": "@jupyter-widgets/controls",
      "model_module_version": "1.5.0",
      "model_name": "HTMLModel",
      "state": {
       "_dom_classes": [],
       "_model_module": "@jupyter-widgets/controls",
       "_model_module_version": "1.5.0",
       "_model_name": "HTMLModel",
       "_view_count": null,
       "_view_module": "@jupyter-widgets/controls",
       "_view_module_version": "1.5.0",
       "_view_name": "HTMLView",
       "description": "",
       "description_tooltip": null,
       "layout": "IPY_MODEL_796e252f668043f68f643f37afc9cd6b",
       "placeholder": "​",
       "style": "IPY_MODEL_0284646ef0404629987c6bca71cc6828",
       "value": "100%"
      }
     },
     "ec39c3dbcf814d6d8f055f875067798a": {
      "model_module": "@jupyter-widgets/base",
      "model_module_version": "1.2.0",
      "model_name": "LayoutModel",
      "state": {
       "_model_module": "@jupyter-widgets/base",
       "_model_module_version": "1.2.0",
       "_model_name": "LayoutModel",
       "_view_count": null,
       "_view_module": "@jupyter-widgets/base",
       "_view_module_version": "1.2.0",
       "_view_name": "LayoutView",
       "align_content": null,
       "align_items": null,
       "align_self": null,
       "border": null,
       "bottom": null,
       "display": null,
       "flex": null,
       "flex_flow": null,
       "grid_area": null,
       "grid_auto_columns": null,
       "grid_auto_flow": null,
       "grid_auto_rows": null,
       "grid_column": null,
       "grid_gap": null,
       "grid_row": null,
       "grid_template_areas": null,
       "grid_template_columns": null,
       "grid_template_rows": null,
       "height": null,
       "justify_content": null,
       "justify_items": null,
       "left": null,
       "margin": null,
       "max_height": null,
       "max_width": null,
       "min_height": null,
       "min_width": null,
       "object_fit": null,
       "object_position": null,
       "order": null,
       "overflow": null,
       "overflow_x": null,
       "overflow_y": null,
       "padding": null,
       "right": null,
       "top": null,
       "visibility": null,
       "width": null
      }
     },
     "fc65d1a19adb4ef288bf0c31e7431515": {
      "model_module": "@jupyter-widgets/base",
      "model_module_version": "1.2.0",
      "model_name": "LayoutModel",
      "state": {
       "_model_module": "@jupyter-widgets/base",
       "_model_module_version": "1.2.0",
       "_model_name": "LayoutModel",
       "_view_count": null,
       "_view_module": "@jupyter-widgets/base",
       "_view_module_version": "1.2.0",
       "_view_name": "LayoutView",
       "align_content": null,
       "align_items": null,
       "align_self": null,
       "border": null,
       "bottom": null,
       "display": null,
       "flex": null,
       "flex_flow": null,
       "grid_area": null,
       "grid_auto_columns": null,
       "grid_auto_flow": null,
       "grid_auto_rows": null,
       "grid_column": null,
       "grid_gap": null,
       "grid_row": null,
       "grid_template_areas": null,
       "grid_template_columns": null,
       "grid_template_rows": null,
       "height": null,
       "justify_content": null,
       "justify_items": null,
       "left": null,
       "margin": null,
       "max_height": null,
       "max_width": null,
       "min_height": null,
       "min_width": null,
       "object_fit": null,
       "object_position": null,
       "order": null,
       "overflow": null,
       "overflow_x": null,
       "overflow_y": null,
       "padding": null,
       "right": null,
       "top": null,
       "visibility": null,
       "width": null
      }
     }
    },
    "version_major": 2,
    "version_minor": 0
   }
  }
 },
 "nbformat": 4,
 "nbformat_minor": 5
}
