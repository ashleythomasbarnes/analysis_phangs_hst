{
 "cells": [
  {
   "cell_type": "code",
   "execution_count": 1,
   "id": "d911806a-6e45-422e-b299-fd868a526cc9",
   "metadata": {
    "execution": {
     "iopub.execute_input": "2024-03-17T18:28:49.101227Z",
     "iopub.status.busy": "2024-03-17T18:28:49.100682Z",
     "iopub.status.idle": "2024-03-17T18:28:49.621395Z",
     "shell.execute_reply": "2024-03-17T18:28:49.620987Z"
    }
   },
   "outputs": [],
   "source": [
    "import warnings\n",
    "warnings.filterwarnings('ignore')\n",
    "from glob import glob \n",
    "import sys\n",
    "sys.path.append('./')\n",
    "from modules import dendro_misc, dendro_clusters"
   ]
  },
  {
   "cell_type": "code",
   "execution_count": 2,
   "id": "18040bbc",
   "metadata": {
    "execution": {
     "iopub.execute_input": "2024-03-17T18:28:49.623770Z",
     "iopub.status.busy": "2024-03-17T18:28:49.623646Z",
     "iopub.status.idle": "2024-03-17T18:28:49.654915Z",
     "shell.execute_reply": "2024-03-17T18:28:49.654579Z"
    }
   },
   "outputs": [
    {
     "name": "stdout",
     "output_type": "stream",
     "text": [
      "/Users/abarnes/Dropbox/work/Smallprojects/galaxies/data_hstha/ngc628e/hst_contsub/ngc628e_hst_ha_sic.fits\n",
      "/Users/abarnes/Dropbox/work/Smallprojects/galaxies/data_hstha/ngc628e/muse/NGC0628_nebmask.fits\n",
      "/Users/abarnes/Dropbox/work/Smallprojects/galaxies/data_hstha/ngc628e/muse/NGC0628-0.92asec_MAPS.fits\n",
      "/Users/abarnes/Dropbox/work/Smallprojects/galaxies/data_hstha_nebulae_catalogue/ngc628e/cutouts\n",
      "/Users/abarnes/Dropbox/work/Smallprojects/galaxies/data_hstha_nebulae_catalogue/ngc628e/dendro\n",
      "/Users/abarnes/Dropbox/work/Smallprojects/galaxies/data_hstha_nebulae_catalogue/ngc628e/cutouts_hdus\n",
      "/Users/abarnes/Dropbox/work/Smallprojects/galaxies/data_hstha_nebulae_catalogue/ngc628e/cutouts/sample.reg\n",
      "/Users/abarnes/Dropbox/work/Smallprojects/galaxies/data_hstha_nebulae_catalogue/ngc628e/cutouts/sample.pickel\n",
      "/Users/abarnes/Dropbox/work/Smallprojects/galaxies/data_misc/sample_table/phangs_sample_table_v1p6.fits\n",
      "/Users/abarnes/Dropbox/work/Smallprojects/galaxies/data_misc/nebulae_catalogue/Nebulae_catalogue_v3.fits\n"
     ]
    }
   ],
   "source": [
    "# Define names and filenames...\n",
    "\n",
    "galaxy = 'ngc0628'\n",
    "galaxy_hst = 'ngc628e'\n",
    "root_dir = '/Users/abarnes/Dropbox/work/Smallprojects/galaxies'\n",
    "\n",
    "hstha_file = '%s/data_hstha/%s/hst_contsub/%s_hst_ha_sic.fits' %(root_dir, galaxy_hst, galaxy_hst)\n",
    "muscat_file = '%s/data_hstha/%s/muse/%s_nebmask.fits' %(root_dir, galaxy_hst, galaxy.upper())\n",
    "musha_file = '%s/data_hstha/%s/muse/%s-*_MAPS.fits' %(root_dir, galaxy_hst, galaxy.upper())\n",
    "musha_file = glob(musha_file)[0] #because of resolution in name\n",
    "\n",
    "cutout_dir = '%s/data_hstha_nebulae_catalogue/%s/cutouts' %(root_dir, galaxy_hst)\n",
    "dendro_dir = '%s/data_hstha_nebulae_catalogue/%s/dendro' %(root_dir, galaxy_hst)\n",
    "cutouts_hdus_dir = '%s/data_hstha_nebulae_catalogue/%s/cutouts_hdus' %(root_dir, galaxy_hst)\n",
    "\n",
    "rerun_all = True\n",
    "rerun_masking = True\n",
    "\n",
    "regions_file = '%s/sample.reg' %cutout_dir\n",
    "regions_pickel_file = '%s/sample.pickel' %cutout_dir\n",
    "sample_table_file = '%s/data_misc/sample_table/phangs_sample_table_v1p6.fits' %root_dir\n",
    "muscat_table_file = '%s/data_misc/nebulae_catalogue/Nebulae_catalogue_v3.fits' %root_dir\n",
    "cluster_table_file = '%s/data_misc/compact_clusters/PHANGS_IR4_%s_phangs_hst_v1p2_ml_class12.fits' %(root_dir, galaxy_hst)\n",
    "# cluster_table_file = '%s/data_misc/compact_clusters/PHANGS_IR4_%s_phangs_hst_v1p2_human_class12.fits' %(root_dir, galaxy_hst)\n",
    "\n",
    "print(hstha_file)\n",
    "print(muscat_file)\n",
    "print(musha_file)\n",
    "print(cutout_dir)\n",
    "print(dendro_dir)\n",
    "print(cutouts_hdus_dir)\n",
    "print(regions_file)\n",
    "print(regions_pickel_file)\n",
    "print(sample_table_file)\n",
    "print(muscat_table_file)"
   ]
  },
  {
   "cell_type": "code",
   "execution_count": 3,
   "id": "3f2916b0",
   "metadata": {
    "execution": {
     "iopub.execute_input": "2024-03-17T18:28:49.656845Z",
     "iopub.status.busy": "2024-03-17T18:28:49.656736Z",
     "iopub.status.idle": "2024-03-17T18:29:52.592686Z",
     "shell.execute_reply": "2024-03-17T18:29:52.591563Z"
    }
   },
   "outputs": [
    {
     "name": "stdout",
     "output_type": "stream",
     "text": [
      "[INFO] [load_pickle] Load /Users/abarnes/Dropbox/work/Smallprojects/galaxies/data_hstha_nebulae_catalogue/ngc628e/cutouts/hdus_all.pickel\n",
      "[INFO] [load_pickle] Load /Users/abarnes/Dropbox/work/Smallprojects/galaxies/data_hstha_nebulae_catalogue/ngc628e/cutouts/sample.pickel\n",
      "[INFO] [get_galaxyprops] Getting sample table properties for ngc0628...\n",
      "[INFO] [get_MuseProps] Getting MUSE catalouge properties for ngc0628...\n",
      "[INFO] [load_pickle] Load /Users/abarnes/Dropbox/work/Smallprojects/galaxies/data_hstha_nebulae_catalogue/ngc628e/dendro/hdus_all_withmasked_withdendro.pickel\n",
      "[INFO] [load_pickle] Load /Users/abarnes/Dropbox/work/Smallprojects/galaxies/data_hstha_nebulae_catalogue/ngc628e/dendro/props_all.pickel\n",
      "[INFO] [load_table] /Users/abarnes/Dropbox/work/Smallprojects/galaxies/data_misc/compact_clusters/PHANGS_IR4_ngc628e_phangs_hst_v1p2_ml_class12.fits\n"
     ]
    }
   ],
   "source": [
    "# Load regions, sample table and HDUs... \n",
    "\n",
    "hdus_cutouts  = dendro_misc.load_pickle('%s/hdus_all.pickel' %cutout_dir)\n",
    "regions       = dendro_misc.load_pickle(regions_pickel_file)\n",
    "sample_table  = dendro_misc.get_galaxyprops(galaxy, sample_table_file)\n",
    "muscat_table  = dendro_misc.get_museprops(galaxy, muscat_table_file)\n",
    "hdus          = dendro_misc.load_pickle('%s/hdus_all_withmasked_withdendro.pickel' %dendro_dir)\n",
    "props_all     = dendro_misc.load_pickle('%s/props_all.pickel' %dendro_dir)\n",
    "cluster_table = dendro_misc.load_table(cluster_table_file)"
   ]
  },
  {
   "cell_type": "code",
   "execution_count": 4,
   "id": "f2a37a97",
   "metadata": {
    "execution": {
     "iopub.execute_input": "2024-03-17T18:29:52.599285Z",
     "iopub.status.busy": "2024-03-17T18:29:52.599140Z",
     "iopub.status.idle": "2024-03-17T18:30:33.128004Z",
     "shell.execute_reply": "2024-03-17T18:30:33.127704Z"
    }
   },
   "outputs": [
    {
     "data": {
      "application/vnd.jupyter.widget-view+json": {
       "model_id": "bcad3b1d98274b4ab2ae4102351813a7",
       "version_major": 2,
       "version_minor": 0
      },
      "text/plain": [
       "  0%|          | 0/2869 [00:00<?, ?it/s]"
      ]
     },
     "metadata": {},
     "output_type": "display_data"
    },
    {
     "name": "stderr",
     "output_type": "stream",
     "text": [
      "rm: /Users/abarnes/Dropbox/work/Smallprojects/galaxies/data_hstha_nebulae_catalogue/ngc628e/dendro/ngc0628_clusters_regions.reg: No such file or directory\n"
     ]
    },
    {
     "data": {
      "application/vnd.jupyter.widget-view+json": {
       "model_id": "c9581c76b5cc414a943939130b157b50",
       "version_major": 2,
       "version_minor": 0
      },
      "text/plain": [
       "  0%|          | 0/2483 [00:00<?, ?it/s]"
      ]
     },
     "metadata": {},
     "output_type": "display_data"
    }
   ],
   "source": [
    "# Get clusters withing the Dendro leaves, and export region file of these clusters\n",
    "\n",
    "props_all_cluster = dendro_clusters.get_clusters(cluster_table, hdus, props_all)\n",
    "dendro_clusters.get_clusters_regions(props_all_cluster, dendro_dir, galaxy)"
   ]
  },
  {
   "cell_type": "code",
   "execution_count": 5,
   "id": "7b7826f7-45fe-4452-af1c-90a0f08b2b1e",
   "metadata": {
    "execution": {
     "iopub.execute_input": "2024-03-17T18:30:33.131168Z",
     "iopub.status.busy": "2024-03-17T18:30:33.131055Z",
     "iopub.status.idle": "2024-03-17T18:30:33.345925Z",
     "shell.execute_reply": "2024-03-17T18:30:33.345532Z"
    }
   },
   "outputs": [
    {
     "name": "stdout",
     "output_type": "stream",
     "text": [
      "[INFO] [save_pickle] Saved to /Users/abarnes/Dropbox/work/Smallprojects/galaxies/data_hstha_nebulae_catalogue/ngc628e/dendro/props_all_cluster.pickel\n"
     ]
    }
   ],
   "source": [
    "# Save table with appended cluster information\n",
    "\n",
    "dendro_misc.save_pickle(props_all_cluster, '%s/props_all_cluster.pickel' %dendro_dir)        \n",
    "props_all_cluster.write('%s/props_all_cluster.fits' %dendro_dir, overwrite=True)"
   ]
  },
  {
   "cell_type": "code",
   "execution_count": 6,
   "id": "57222d40",
   "metadata": {
    "execution": {
     "iopub.execute_input": "2024-03-17T18:30:33.347974Z",
     "iopub.status.busy": "2024-03-17T18:30:33.347849Z",
     "iopub.status.idle": "2024-03-17T18:30:33.426433Z",
     "shell.execute_reply": "2024-03-17T18:30:33.426058Z"
    }
   },
   "outputs": [
    {
     "data": {
      "text/html": [
       "<div><i>Table length=11</i>\n",
       "<table id=\"table140185193562064\" class=\"table-striped table-bordered table-condensed\">\n",
       "<thead><tr><th>region_ID</th><th>hstcat_region_ID</th><th>_idx</th><th>area_ellipse</th><th>area_exact</th><th>HA6562_FLUX_HST</th><th>major_sigma</th><th>minor_sigma</th><th>position_angle</th><th>mean_sigma</th><th>x_cen</th><th>y_cen</th><th>radius_trunk</th><th>radius_trunkclose</th><th>major_fwtm</th><th>minor_fwtm</th><th>mean_fwtm</th><th>mean_hwtm</th><th>major_fwhm</th><th>minor_fwhm</th><th>mean_fwhm</th><th>mean_hwhm</th><th>min_npix</th><th>min_value_sig</th><th>min_delta_sig</th><th>radius_trunk_pc</th><th>radius_trunkclose_pc</th><th>major_fwtm_pc</th><th>minor_fwtm_pc</th><th>mean_fwtm_pc</th><th>mean_hwtm_pc</th><th>major_fwhm_pc</th><th>minor_fwhm_pc</th><th>mean_fwhm_pc</th><th>mean_hwhm_pc</th><th>ra_cen</th><th>dec_cen</th><th>mean_sigma_pc</th><th>x_max</th><th>y_max</th><th>ra_max</th><th>dec_max</th><th>flag_edge_hst</th><th>gal_name</th><th>cen_x</th><th>cen_y</th><th>cen_ra</th><th>cen_dec</th><th>cen_x_geo</th><th>cen_y_geo</th><th>flag_edge</th><th>flag_nearby</th><th>flag_star</th><th>deproj_dist</th><th>deproj_phi</th><th>region_area</th><th>region_circ_rad</th><th>HB4861_FLUX</th><th>OIII5006_FLUX</th><th>HA6562_FLUX</th><th>NII6583_FLUX</th><th>SII6716_FLUX</th><th>SII6730_FLUX</th><th>SIII9068_FLUX</th><th>OI6300_FLUX</th><th>NII5754_FLUX</th><th>HEI5875_FLUX</th><th>SIII6312_FLUX</th><th>OI6363_FLUX</th><th>OII7319_FLUX</th><th>OII7330_FLUX</th><th>HB4861_FLUX_ERR</th><th>OIII5006_FLUX_ERR</th><th>HA6562_FLUX_ERR</th><th>NII6583_FLUX_ERR</th><th>SII6716_FLUX_ERR</th><th>SII6730_FLUX_ERR</th><th>SIII9068_FLUX_ERR</th><th>OI6300_FLUX_ERR</th><th>NII5754_FLUX_ERR</th><th>HEI5875_FLUX_ERR</th><th>SIII6312_FLUX_ERR</th><th>OI6363_FLUX_ERR</th><th>OII7319_FLUX_ERR</th><th>OII7330_FLUX_ERR</th><th>HA6562_SIGMA</th><th>NII6583_SIGMA</th><th>OIII5006_SIGMA</th><th>HA6562_VEL</th><th>NII6583_VEL</th><th>OIII5006_VEL</th><th>HA6562_SIGMA_ERR</th><th>NII6583_SIGMA_ERR</th><th>OIII5006_SIGMA_ERR</th><th>HA6562_VEL_ERR</th><th>NII6583_VEL_ERR</th><th>OIII5006_VEL_ERR</th><th>HB4861_FLUX_CORR</th><th>OIII5006_FLUX_CORR</th><th>HA6562_FLUX_CORR</th><th>NII6583_FLUX_CORR</th><th>SII6716_FLUX_CORR</th><th>SII6730_FLUX_CORR</th><th>SIII9068_FLUX_CORR</th><th>OI6300_FLUX_CORR</th><th>NII5754_FLUX_CORR</th><th>HEI5875_FLUX_CORR</th><th>SIII6312_FLUX_CORR</th><th>OI6363_FLUX_CORR</th><th>OII7319_FLUX_CORR</th><th>OII7330_FLUX_CORR</th><th>HB4861_FLUX_CORR_ERR</th><th>OIII5006_FLUX_CORR_ERR</th><th>HA6562_FLUX_CORR_ERR</th><th>NII6583_FLUX_CORR_ERR</th><th>SII6716_FLUX_CORR_ERR</th><th>SII6730_FLUX_CORR_ERR</th><th>SIII9068_FLUX_CORR_ERR</th><th>OI6300_FLUX_CORR_ERR</th><th>NII5754_FLUX_CORR_ERR</th><th>HEI5875_FLUX_CORR_ERR</th><th>SIII6312_FLUX_CORR_ERR</th><th>OI6363_FLUX_CORR_ERR</th><th>OII7319_FLUX_CORR_ERR</th><th>OII7330_FLUX_CORR_ERR</th><th>EBV</th><th>EBV_ERR</th><th>met_scal</th><th>met_scal_err</th><th>logq_D91</th><th>logq_D91_err</th><th>t_N2</th><th>t_S3</th><th>t_N2_err</th><th>t_S3_err</th><th>BPT_NII</th><th>BPT_SII</th><th>BPT_OI</th><th>LOG_SIGMA_SFR_CHAB</th><th>LOG_SIGMA_STMASS_CHAB</th><th>5thNN_dist</th><th>NN_number</th><th>Environment</th><th>r_R25</th><th>r_reff</th><th>Lum_HA6562_CORR</th><th>Delta_met_scal</th><th>pc_per_pixel</th><th>EW_HA6562_raw</th><th>EW_HA6562_raw_ERR</th><th>EW_HB4861_raw</th><th>EW_HB4861_raw_ERR</th><th>EW_HA6562_fit</th><th>EW_HA6562_fit_ERR</th><th>EW_HB4861_fit</th><th>EW_HB4861_fit_ERR</th><th>EW_HA6562_bgcorr</th><th>EW_HA6562_bgcorr_ERR</th><th>EW_HB4861_bgcorr</th><th>EW_HB4861_bgcorr_ERR</th><th>HII_class_v2</th><th>HII_class_v3</th><th>HA6562_FLUX_HST_CORR</th><th>HA6562_LUMINOSITY_HST</th><th>INDEX</th><th>ID_PHANGS_CLUSTERS</th><th>PHANGS_X</th><th>PHANGS_Y</th><th>PHANGS_RA</th><th>PHANGS_DEC</th><th>PHANGS_CLUSTER_CLASS_HUMAN</th><th>PHANGS_CLUSTER_CLASS_ML_VGG</th><th>PHANGS_CLUSTER_CLASS_ML_VGG_QUAL</th><th>PHANGS_F275W_VEGA_TOT</th><th>PHANGS_F275W_VEGA_TOT_ERR</th><th>PHANGS_F336W_VEGA_TOT</th><th>PHANGS_F336W_VEGA_TOT_ERR</th><th>PHANGS_F435W_VEGA_TOT</th><th>PHANGS_F435W_VEGA_TOT_ERR</th><th>PHANGS_F555W_VEGA_TOT</th><th>PHANGS_F555W_VEGA_TOT_ERR</th><th>PHANGS_F814W_VEGA_TOT</th><th>PHANGS_F814W_VEGA_TOT_ERR</th><th>PHANGS_F275W_mJy_TOT</th><th>PHANGS_F275W_mJy_TOT_ERR</th><th>PHANGS_F336W_mJy_TOT</th><th>PHANGS_F336W_mJy_TOT_ERR</th><th>PHANGS_F435W_mJy_TOT</th><th>PHANGS_F435W_mJy_TOT_ERR</th><th>PHANGS_F555W_mJy_TOT</th><th>PHANGS_F555W_mJy_TOT_ERR</th><th>PHANGS_F814W_mJy_TOT</th><th>PHANGS_F814W_mJy_TOT_ERR</th><th>PHANGS_CI</th><th>PHANGS_AGE_MINCHISQ</th><th>PHANGS_AGE_MINCHISQ_ERR</th><th>PHANGS_MASS_MINCHISQ</th><th>PHANGS_MASS_MINCHISQ_ERR</th><th>PHANGS_EBV_MINCHISQ</th><th>PHANGS_EBV_MINCHISQ_ERR</th><th>PHANGS_REDUCED_MINCHISQ</th><th>PHANGS_NO_COVERAGE_FLAG</th><th>PHANGS_NON_DETECTION_FLAG</th><th>x_cluster</th><th>y_cluster</th></tr></thead>\n",
       "<thead><tr><th></th><th></th><th></th><th>arcsec2</th><th>arcsec2</th><th>erg / (s cm2)</th><th>arcsec</th><th>arcsec</th><th>deg</th><th>arcsec</th><th>pix</th><th>pix</th><th>arcsec</th><th>arcsec</th><th>arcsec</th><th>arcsec</th><th>arcsec</th><th>arcsec</th><th>arcsec</th><th>arcsec</th><th>arcsec</th><th>arcsec</th><th></th><th></th><th></th><th>pc</th><th>pc</th><th>pc</th><th>pc</th><th>pc</th><th>pc</th><th>pc</th><th>pc</th><th>pc</th><th>pc</th><th>deg</th><th>deg</th><th>pc</th><th>pix</th><th>pix</th><th>deg</th><th>deg</th><th></th><th></th><th>pix</th><th>pix</th><th>deg</th><th>deg</th><th>pix</th><th>pix</th><th></th><th></th><th></th><th>arcsec</th><th>rad</th><th>pix2</th><th>arcsec</th><th>1e-20 erg / (s cm2)</th><th>1e-20 erg / (s cm2)</th><th>1e-20 erg / (s cm2)</th><th>1e-20 erg / (s cm2)</th><th>1e-20 erg / (s cm2)</th><th>1e-20 erg / (s cm2)</th><th>1e-20 erg / (s cm2)</th><th>1e-20 erg / (s cm2)</th><th>1e-20 erg / (s cm2)</th><th>1e-20 erg / (s cm2)</th><th>1e-20 erg / (s cm2)</th><th>1e-20 erg / (s cm2)</th><th>1e-20 erg / (s cm2)</th><th>1e-20 erg / (s cm2)</th><th>1e-20 erg / (s cm2)</th><th>1e-20 erg / (s cm2)</th><th>1e-20 erg / (s cm2)</th><th>1e-20 erg / (s cm2)</th><th>1e-20 erg / (s cm2)</th><th>1e-20 erg / (s cm2)</th><th>1e-20 erg / (s cm2)</th><th>1e-20 erg / (s cm2)</th><th>1e-20 erg / (s cm2)</th><th>1e-20 erg / (s cm2)</th><th>1e-20 erg / (s cm2)</th><th>1e-20 erg / (s cm2)</th><th>1e-20 erg / (s cm2)</th><th>1e-20 erg / (s cm2)</th><th>km / s</th><th>km / s</th><th>km / s</th><th>km / s</th><th>km / s</th><th>km / s</th><th>km / s</th><th>km / s</th><th>km / s</th><th>km / s</th><th>km / s</th><th>km / s</th><th>erg / (s cm2)</th><th>erg / (s cm2)</th><th>erg / (s cm2)</th><th>erg / (s cm2)</th><th>erg / (s cm2)</th><th>erg / (s cm2)</th><th>erg / (s cm2)</th><th>erg / (s cm2)</th><th>erg / (s cm2)</th><th>erg / (s cm2)</th><th>erg / (s cm2)</th><th>erg / (s cm2)</th><th>erg / (s cm2)</th><th>erg / (s cm2)</th><th>erg / (s cm2)</th><th>erg / (s cm2)</th><th>erg / (s cm2)</th><th>erg / (s cm2)</th><th>erg / (s cm2)</th><th>erg / (s cm2)</th><th>erg / (s cm2)</th><th>erg / (s cm2)</th><th>erg / (s cm2)</th><th>erg / (s cm2)</th><th>erg / (s cm2)</th><th>erg / (s cm2)</th><th>erg / (s cm2)</th><th>erg / (s cm2)</th><th>mag</th><th>mag</th><th></th><th></th><th></th><th></th><th>K</th><th>K</th><th>K</th><th>K</th><th></th><th></th><th></th><th>solMass / (yr kpc2)</th><th>solMass / kpc2</th><th>pc</th><th></th><th></th><th></th><th></th><th>erg / s</th><th></th><th>pc</th><th></th><th></th><th></th><th></th><th>Angstrom</th><th>Angstrom</th><th>Angstrom</th><th>Angstrom</th><th>Angstrom</th><th>Angstrom</th><th>Angstrom</th><th>Angstrom</th><th></th><th></th><th>erg / (s cm2)</th><th>erg / s</th><th></th><th></th><th></th><th></th><th></th><th></th><th></th><th></th><th></th><th></th><th></th><th></th><th></th><th></th><th></th><th></th><th></th><th></th><th></th><th></th><th></th><th></th><th></th><th></th><th></th><th></th><th></th><th></th><th></th><th></th><th></th><th></th><th></th><th></th><th></th><th></th><th></th><th></th><th></th><th>pix</th><th>pix</th></tr></thead>\n",
       "<thead><tr><th>float64</th><th>int64</th><th>int64</th><th>float64</th><th>float64</th><th>float64</th><th>float64</th><th>float64</th><th>float64</th><th>float64</th><th>float64</th><th>float64</th><th>float64</th><th>float64</th><th>float64</th><th>float64</th><th>float64</th><th>float64</th><th>float64</th><th>float64</th><th>float64</th><th>float64</th><th>int64</th><th>int64</th><th>int64</th><th>float64</th><th>float64</th><th>float64</th><th>float64</th><th>float64</th><th>float64</th><th>float64</th><th>float64</th><th>float64</th><th>float64</th><th>float64</th><th>float64</th><th>float64</th><th>float64</th><th>float64</th><th>float64</th><th>float64</th><th>int64</th><th>bytes32</th><th>float64</th><th>float64</th><th>float64</th><th>float64</th><th>float64</th><th>float64</th><th>float64</th><th>float64</th><th>float64</th><th>float64</th><th>float64</th><th>float64</th><th>float64</th><th>float64</th><th>float64</th><th>float64</th><th>float64</th><th>float64</th><th>float64</th><th>float64</th><th>float64</th><th>float64</th><th>float64</th><th>float64</th><th>float64</th><th>float64</th><th>float64</th><th>float64</th><th>float64</th><th>float64</th><th>float64</th><th>float64</th><th>float64</th><th>float64</th><th>float64</th><th>float64</th><th>float64</th><th>float64</th><th>float64</th><th>float64</th><th>float64</th><th>float64</th><th>float64</th><th>float64</th><th>float64</th><th>float64</th><th>float64</th><th>float64</th><th>float64</th><th>float64</th><th>float64</th><th>float64</th><th>float64</th><th>float64</th><th>float64</th><th>float64</th><th>float64</th><th>float64</th><th>float64</th><th>float64</th><th>float64</th><th>float64</th><th>float64</th><th>float64</th><th>float64</th><th>float64</th><th>float64</th><th>float64</th><th>float64</th><th>float64</th><th>float64</th><th>float64</th><th>float64</th><th>float64</th><th>float64</th><th>float64</th><th>float64</th><th>float64</th><th>float64</th><th>float64</th><th>float64</th><th>float64</th><th>float64</th><th>float64</th><th>float64</th><th>float64</th><th>float64</th><th>float64</th><th>float64</th><th>float64</th><th>float64</th><th>float64</th><th>float64</th><th>float64</th><th>float64</th><th>float64</th><th>float64</th><th>float64</th><th>float64</th><th>float64</th><th>float64</th><th>float64</th><th>float64</th><th>float64</th><th>float64</th><th>float64</th><th>float64</th><th>float64</th><th>float64</th><th>float64</th><th>float64</th><th>float64</th><th>float64</th><th>float64</th><th>float64</th><th>float64</th><th>int64</th><th>int64</th><th>float64</th><th>float64</th><th>int64</th><th>int64</th><th>float64</th><th>float64</th><th>float64</th><th>float64</th><th>float64</th><th>int64</th><th>float64</th><th>float64</th><th>float64</th><th>float64</th><th>float64</th><th>float64</th><th>float64</th><th>float64</th><th>float64</th><th>float64</th><th>float64</th><th>float64</th><th>float64</th><th>float64</th><th>float64</th><th>float64</th><th>float64</th><th>float64</th><th>float64</th><th>float64</th><th>float64</th><th>float64</th><th>float64</th><th>float64</th><th>float64</th><th>float64</th><th>float64</th><th>float64</th><th>float64</th><th>float64</th><th>float64</th><th>float64</th><th>float64</th></tr></thead>\n",
       "<tr><td>10.0</td><td>10</td><td>0</td><td>0.043085751872079824</td><td>0.14441648479999855</td><td>39644.328125</td><td>0.1026144499987089</td><td>0.09641114011854063</td><td>-178.61040201746613</td><td>0.0994644464972912</td><td>42.04048907609982</td><td>38.21880388890586</td><td>0.21440427896791303</td><td>0.22128530409306554</td><td>0.4404212193944586</td><td>0.4137966133887764</td><td>0.4271089163916175</td><td>0.21355445819580876</td><td>0.2416385637667858</td><td>0.227030885315427</td><td>0.2343347245411064</td><td>0.1171673622705532</td><td>9</td><td>3</td><td>3</td><td>10.228289519597414</td><td>10.55655310421653</td><td>21.010568278885984</td><td>19.74042488490976</td><td>20.375496581897874</td><td>10.187748290948937</td><td>11.527518019713916</td><td>10.830649631037575</td><td>11.179083825375747</td><td>5.589541912687873</td><td>24.19713610339266</td><td>15.772156168423862</td><td>4.745013301870969</td><td>40.0</td><td>40.0</td><td>24.197159438682913</td><td>15.772175771470277</td><td>0</td><td>NGC0628</td><td>304.39693895714834</td><td>549.9005844579453</td><td>24.197133945824795</td><td>15.772200527090455</td><td>304.3818181818182</td><td>549.8181818181819</td><td>0.0</td><td>0.0</td><td>0.0</td><td>91.5129088107456</td><td>3.2520799795857025</td><td>55.0</td><td>0.8368283871884006</td><td>12517.650743530425</td><td>2209.2138891905643</td><td>67301.97762575254</td><td>22450.193610923085</td><td>10477.724681435859</td><td>7487.455100913314</td><td>4830.202661118017</td><td>1758.5825070571025</td><td>20.692213545684467</td><td>3009.633351683849</td><td>18.619165058457806</td><td>591.5083913767647</td><td>0.0</td><td>0.0</td><td>178.2323673300468</td><td>133.0836556708036</td><td>244.70058904273822</td><td>144.10542999476147</td><td>126.03546626469118</td><td>121.88944564298548</td><td>161.41048695455873</td><td>116.7541332595233</td><td>129.33452921617476</td><td>264.17830990331186</td><td>114.77554594193536</td><td>39.27086120428842</td><td>96.20544417814219</td><td>103.4765071143878</td><td>14.486320229881091</td><td>24.75466124848703</td><td>19.66875273130985</td><td>-0.9515558203306902</td><td>1.0681853283345526</td><td>20.00290012745388</td><td>0.6660658141564595</td><td>0.8269042222370565</td><td>4.717269851341814</td><td>0.20770269692376467</td><td>0.3878451126894462</td><td>2.0525536482189652</td><td>94377.0611314205</td><td>15414.108360060487</td><td>269980.90227045445</td><td>89622.4302758779</td><td>40571.27707506077</td><td>28900.00122609147</td><td>10844.699344400815</td><td>7510.546883359741</td><td>103.6089685244094</td><td>14475.85947890716</td><td>79.28155212986024</td><td>2487.297450445582</td><td>0.0</td><td>0.0</td><td>4637.555886487077</td><td>1161.111016890526</td><td>8786.32498359314</td><td>2945.037830656763</td><td>1368.669218909632</td><td>1023.2711905264083</td><td>415.9651400530113</td><td>559.5295967873196</td><td>647.6087409920341</td><td>1376.4992908832764</td><td>488.7286629002078</td><td>184.89553353208512</td><td>--</td><td>--</td><td>0.5987646496569661</td><td>0.01393959722523512</td><td>8.53742099718875</td><td>0.012107415980726484</td><td>7.042686057495426</td><td>0.03324608615272214</td><td>--</td><td>--</td><td>--</td><td>--</td><td>0.0</td><td>0.0</td><td>0.0</td><td>-1.53223055765599</td><td>8.151423324741673</td><td>212.85021576490138</td><td>20.0</td><td>6.0</td><td>0.3085752720256566</td><td>1.1186395138927454</td><td>3.127765674604675e+37</td><td>0.06539219896530213</td><td>9.514815573393857</td><td>38.711850946782626</td><td>0.2565588861393589</td><td>-0.3204588374210435</td><td>-0.261113312164329</td><td>41.22396779141561</td><td>1.2131416234528336</td><td>5.644176217272788</td><td>0.2902607265619586</td><td>--</td><td>--</td><td>--</td><td>--</td><td>1</td><td>1</td><td>159032.64442853397</td><td>1.8424148711338116e+37</td><td>321</td><td>1432</td><td>5994.66</td><td>7112.64</td><td>24.19715189083688</td><td>15.772160803917433</td><td>-9999.0</td><td>2</td><td>0.6</td><td>23.60117303368518</td><td>0.26906792222595766</td><td>23.443553318947455</td><td>0.18673605534460685</td><td>24.71110906032192</td><td>0.05225301801698962</td><td>24.365415445364366</td><td>0.07430985512662817</td><td>23.68990291446842</td><td>0.06062256616676093</td><td>0.0003335575586545699</td><td>8.274507890908953e-05</td><td>0.000533652652511456</td><td>9.187478075345244e-05</td><td>0.0005093266207776364</td><td>2.4536760176179803e-05</td><td>0.0006811987178352205</td><td>4.666912940099531e-05</td><td>0.0008111082788800892</td><td>4.533385104079839e-05</td><td>1.5364615941874344</td><td>10.0</td><td>3.0</td><td>667.3229155699314</td><td>358.09291404490705</td><td>0.23</td><td>0.09</td><td>0.8617743293138778</td><td>0.0</td><td>0.0</td><td>40.66000000014661</td><td>38.64000000034275</td></tr>\n",
       "<tr><td>122.0</td><td>122</td><td>0</td><td>0.30682690115520594</td><td>1.6419526423999835</td><td>1087136.875</td><td>0.27842361300618473</td><td>0.2530401482560795</td><td>164.8324044177452</td><td>0.26542861999618333</td><td>84.50360397773501</td><td>76.91857892491909</td><td>0.7229451975921225</td><td>0.772722374307524</td><td>1.194994147022545</td><td>1.0860483163150931</td><td>1.140521231668819</td><td>0.5702606158344095</td><td>0.6556375049169035</td><td>0.5958640133110192</td><td>0.6257507591139614</td><td>0.3128753795569807</td><td>9</td><td>3</td><td>3</td><td>34.48855043084948</td><td>36.86320161488431</td><td>57.00793924826547</td><td>51.810610613813964</td><td>54.40927493103971</td><td>27.204637465519856</td><td>31.277595076356505</td><td>28.42606347127269</td><td>29.851829273814598</td><td>14.925914636907299</td><td>24.193791681619146</td><td>15.758494945114679</td><td>12.662437453099834</td><td>86.0</td><td>78.0</td><td>24.19377456960692</td><td>15.758506846495719</td><td>0</td><td>NGC0628</td><td>361.6282213325876</td><td>304.13024916920085</td><td>24.193829857969167</td><td>15.758546687226785</td><td>360.21153846153845</td><td>304.47115384615387</td><td>0.0</td><td>1.0</td><td>0.0</td><td>114.66640468310942</td><td>3.697651826934827</td><td>208.0</td><td>1.627371578051288</td><td>358894.13598129095</td><td>186939.78619507744</td><td>1547975.7769364682</td><td>509633.22268750786</td><td>184291.3526073614</td><td>134978.05178615288</td><td>194410.3237891701</td><td>14726.89149019088</td><td>2781.9006440075564</td><td>48629.71778253246</td><td>2105.65745908056</td><td>4953.466704226756</td><td>6490.306955266585</td><td>6525.0251364685355</td><td>511.84055975061733</td><td>359.2841752389752</td><td>927.8838523474176</td><td>426.53733511725443</td><td>279.4845011007708</td><td>250.04183329888596</td><td>404.2769488466749</td><td>151.29318145655802</td><td>168.6834969968416</td><td>285.05491673497136</td><td>145.67216035742533</td><td>50.88825007101912</td><td>137.00454647079988</td><td>140.26874140371712</td><td>22.072528328648865</td><td>23.115929536216388</td><td>19.820487052392483</td><td>-11.364831698941668</td><td>-11.404021902720531</td><td>-5.245682837671838</td><td>0.058127696773080044</td><td>0.08154587907155222</td><td>0.18293906267379786</td><td>0.028905211462822062</td><td>0.041077191916247854</td><td>0.08840434209217282</td><td>1336633.7029634395</td><td>661968.3179662775</td><td>3823348.574861005</td><td>1254772.5902881827</td><td>444827.2454281378</td><td>325121.8161784647</td><td>329111.140862461</td><td>37887.601755204494</td><td>7937.642154007424</td><td>135172.2407872149</td><td>5406.667273155659</td><td>12615.574728927988</td><td>14290.842880021375</td><td>14342.132241397681</td><td>6886.736230891815</td><td>3398.748018369228</td><td>13216.968763539033</td><td>4384.622118266126</td><td>1622.7571975414005</td><td>1233.2437929411342</td><td>945.4906716588997</td><td>411.91271448129515</td><td>482.3264197000175</td><td>947.9195859285422</td><td>374.53271057229455</td><td>136.9997684812124</td><td>304.6421129297049</td><td>311.2330465162981</td><td>0.3897243652748498</td><td>0.00146744667617323</td><td>8.568148658815392</td><td>0.001321161305052131</td><td>7.777632908841057</td><td>0.0028502537194019417</td><td>7471.652469260904</td><td>6227.664795397187</td><td>136.67606743315517</td><td>121.27050231448632</td><td>0.0</td><td>0.0</td><td>0.0</td><td>-0.9588203530642656</td><td>7.866597649126098</td><td>237.5619722711928</td><td>18.0</td><td>6.0</td><td>0.3866472771668663</td><td>1.401664233619909</td><td>4.429401610977446e+38</td><td>0.11146153445725737</td><td>9.514815573393857</td><td>263.8422271590913</td><td>0.44350903351856014</td><td>41.77509462194962</td><td>0.15588708239247082</td><td>265.18228388444226</td><td>2.7102500444864046</td><td>43.89019727337569</td><td>0.6055020119383863</td><td>1544.221768423598</td><td>26.86498814916815</td><td>269.39717281010616</td><td>9.048388864850903</td><td>1</td><td>1</td><td>2685121.6173007903</td><td>3.110750007518725e+38</td><td>101</td><td>391</td><td>6289.35</td><td>5870.92</td><td>24.19378200278118</td><td>15.758494960608262</td><td>2.0</td><td>2</td><td>1.0</td><td>20.640536479619076</td><td>0.030688180392930316</td><td>20.820368300495876</td><td>0.03230436663094554</td><td>22.14210287590665</td><td>0.015159213507789614</td><td>21.975449619560973</td><td>0.01994698898960989</td><td>21.30668885281885</td><td>0.014195208006657202</td><td>0.005098300246695668</td><td>0.0001442467408598834</td><td>0.0059776802385905605</td><td>0.00017803417369027496</td><td>0.0054274877215716635</td><td>7.585513441454195e-05</td><td>0.006155454879046846</td><td>0.0001132001397434275</td><td>0.0072839081192</td><td>9.532694661056587e-05</td><td>1.6888717122940036</td><td>9.0</td><td>0.0</td><td>3825.056303942566</td><td>427.7899245591384</td><td>0.11</td><td>0.03</td><td>2.343762427308172</td><td>0.0</td><td>0.0</td><td>85.34999999988435</td><td>76.91999999987999</td></tr>\n",
       "<tr><td>134.0</td><td>134</td><td>0</td><td>0.02069509312790135</td><td>0.09261491959999907</td><td>41713.765625</td><td>0.07724700683548918</td><td>0.06151595761425687</td><td>170.259826516944</td><td>0.06893419759683987</td><td>50.40509777129043</td><td>44.085615288005854</td><td>0.17169812030653286</td><td>0.17169812030653286</td><td>0.3315441533379196</td><td>0.2640264900803905</td><td>0.29778532170915506</td><td>0.14889266085457753</td><td>0.1819028001148527</td><td>0.14485901007932633</td><td>0.16338090509708952</td><td>0.08169045254854476</td><td>9</td><td>3</td><td>3</td><td>8.190965651057317</td><td>8.190965651057317</td><td>15.816520104888138</td><td>12.595547973133044</td><td>14.206034039010593</td><td>7.103017019505296</td><td>8.67778625014576</td><td>6.910589199739664</td><td>7.794187724942712</td><td>3.897093862471356</td><td>24.201306277174595</td><td>15.779803522639613</td><td>3.288548783707503</td><td>50.0</td><td>44.0</td><td>24.201310910077495</td><td>15.779802580306786</td><td>0</td><td>NGC0628</td><td>231.50121198484774</td><td>687.381900548974</td><td>24.20134253094118</td><td>15.77983822218678</td><td>231.53623188405797</td><td>687.5072463768116</td><td>0.0</td><td>1.0</td><td>0.0</td><td>97.20898450672102</td><td>2.922297159502725</td><td>69.0</td><td>0.9373021315815208</td><td>18359.81169827947</td><td>10945.124638679114</td><td>72538.48009561565</td><td>21508.70481261293</td><td>10574.248775831911</td><td>7427.961264930235</td><td>4706.411424158792</td><td>2514.2590610589086</td><td>584.0618868262994</td><td>5627.89458478013</td><td>70.45685457097629</td><td>845.6841386419626</td><td>0.0</td><td>330.44531494721497</td><td>205.26893927672833</td><td>165.13674609197005</td><td>264.0843953313556</td><td>150.6711364840344</td><td>134.15485869917887</td><td>132.02856432096866</td><td>151.94151171411187</td><td>124.45390143807086</td><td>149.30620259786392</td><td>295.17898585185674</td><td>116.58794918964921</td><td>41.86071835969042</td><td>110.10666670895807</td><td>120.40038383007281</td><td>18.357700901371736</td><td>27.74596577804292</td><td>10.033416446771612</td><td>-4.111916106554223</td><td>-1.49154285168816</td><td>-1.947278113687934</td><td>0.5533907404977473</td><td>0.859879027360976</td><td>6.340583215565821</td><td>0.2106010434282712</td><td>0.4349196231917733</td><td>1.1776360481393104</td><td>51640.24531165593</td><td>29587.509175280567</td><td>147708.60899417617</td><td>43689.010488055595</td><td>21145.95357251576</td><td>14829.852028695685</td><td>7120.312013644102</td><td>5286.559745781937</td><td>1332.2492111056579</td><td>12575.77669473473</td><td>147.91849927061392</td><td>1764.0870695246206</td><td>0.0</td><td>613.9073367119458</td><td>2027.1942998929633</td><td>1160.0037587953798</td><td>3859.8224958492488</td><td>1167.3976532692152</td><td>596.9392827294637</td><td>456.81722984156755</td><td>253.66964448735317</td><td>298.1878954968344</td><td>342.9066321714305</td><td>755.2716803270743</td><td>244.799572996563</td><td>99.25959244596056</td><td>--</td><td>224.10958884791484</td><td>0.306512998810587</td><td>0.011153434888621446</td><td>8.513964350256936</td><td>0.010290333055003258</td><td>7.215854192810994</td><td>0.03013391530498368</td><td>--</td><td>--</td><td>--</td><td>--</td><td>0.0</td><td>0.0</td><td>0.0</td><td>-1.8926441950009212</td><td>8.147139486062759</td><td>294.1495088363064</td><td>10.0</td><td>7.0</td><td>0.32778204984756276</td><td>1.188267454152186</td><td>1.7112244353964685e+37</td><td>0.04570981299699639</td><td>9.514815573393857</td><td>40.23285428195279</td><td>0.2689350899265743</td><td>1.9096917974977603</td><td>0.2728683039518119</td><td>42.607193804294155</td><td>1.2884920824995885</td><td>7.317708180562625</td><td>0.3598559352902036</td><td>--</td><td>--</td><td>--</td><td>--</td><td>1</td><td>1</td><td>84940.87949259696</td><td>9.840516713200472e+36</td><td>456</td><td>1959</td><td>5630.88</td><td>7807.18</td><td>24.20131228250509</td><td>15.779804561280134</td><td>-9999.0</td><td>1</td><td>0.9</td><td>21.785819794836886</td><td>0.05786744956483726</td><td>22.044883004597978</td><td>0.05493456390811796</td><td>23.605978385953875</td><td>0.018338536944658156</td><td>23.598524486931357</td><td>0.0359109325929909</td><td>23.466176695530613</td><td>0.0503665713179371</td><td>0.0017754648636744844</td><td>9.472309650377555e-05</td><td>0.0019352042011172845</td><td>9.80126072940903e-05</td><td>0.0014094466626537738</td><td>2.382993144854599e-05</td><td>0.00138048027381415</td><td>4.570527767966581e-05</td><td>0.0009967111617911809</td><td>4.628296488979441e-05</td><td>1.4313041101637758</td><td>1.0</td><td>2.0</td><td>1470.8940062198606</td><td>387.2697422137908</td><td>0.23</td><td>0.01999999999999999</td><td>2.091778141712158</td><td>0.0</td><td>0.0</td><td>49.87999999981554</td><td>44.18000000094548</td></tr>\n",
       "<tr><td>204.0</td><td>204</td><td>0</td><td>0.027255866433700475</td><td>0.06749900919999932</td><td>13744.4658203125</td><td>0.08186221859166118</td><td>0.0764501859632199</td><td>133.60995349573136</td><td>0.07910993512002304</td><td>38.6815384403693</td><td>33.242181595769665</td><td>0.14657967777277459</td><td>0.15160671957362357</td><td>0.3513526421954098</td><td>0.3281241981541398</td><td>0.3397384201747748</td><td>0.1698692100873874</td><td>0.192770793270349</td><td>0.18002643035253393</td><td>0.18639861181144146</td><td>0.09319930590572073</td><td>9</td><td>3</td><td>3</td><td>6.992674722567502</td><td>7.232492879246626</td><td>16.761496389668586</td><td>15.65336901512382</td><td>16.207432702396204</td><td>8.103716351198102</td><td>9.196250625141069</td><td>8.588272863252548</td><td>8.892261744196809</td><td>4.446130872098404</td><td>24.19636257534406</td><td>15.765707169093965</td><td>3.7739886730770844</td><td>39.0</td><td>33.0</td><td>24.19635893350385</td><td>15.765704503738762</td><td>0</td><td>NGC0628</td><td>316.7568200979273</td><td>433.2538398992211</td><td>24.19642025325679</td><td>15.765720171530653</td><td>316.7567567567568</td><td>433.2432432432432</td><td>0.0</td><td>0.0</td><td>0.0</td><td>102.32870840642913</td><td>3.4702035766782777</td><td>37.0</td><td>0.6863662517577698</td><td>10799.821210377786</td><td>3335.4704844548028</td><td>41312.27636095404</td><td>16644.921836814556</td><td>6820.7833106846165</td><td>4698.935091044144</td><td>3010.041881734648</td><td>788.53339743303</td><td>108.05266746861743</td><td>1199.2456389807762</td><td>221.0630741789929</td><td>265.2273177918749</td><td>46.90397240162728</td><td>113.56232782644153</td><td>113.33954149999607</td><td>82.56636827614547</td><td>139.412764803257</td><td>89.75667395321898</td><td>65.8583974682529</td><td>60.44874083978299</td><td>82.01241782086109</td><td>53.61272092892929</td><td>65.00338917504453</td><td>100.76907133332769</td><td>55.16005430785594</td><td>18.03291809553558</td><td>50.49430729173079</td><td>50.57343614504479</td><td>9.948694709082462</td><td>20.5459626294779</td><td>1.0</td><td>-0.4507288507025946</td><td>-0.5750699610580402</td><td>4.9508328357088</td><td>0.8433932995325127</td><td>0.7300749020529749</td><td>44.323846662685376</td><td>0.18718591967000708</td><td>0.3007283953462767</td><td>1.246927499437217</td><td>27391.198370635255</td><td>8162.871297809978</td><td>78347.18471298825</td><td>31495.941524652673</td><td>12726.386678799918</td><td>8754.489425663278</td><td>4369.133507506142</td><td>1539.2073466036754</td><td>226.9543926342352</td><td>2472.6779218343504</td><td>430.91912467487424</td><td>514.0309075500663</td><td>82.00551897670397</td><td>198.30288982071656</td><td>1008.2132891195422</td><td>342.8179599204836</td><td>1919.0324166943346</td><td>780.144519874326</td><td>325.0140245270791</td><td>235.20844949563377</td><td>134.08803509363776</td><td>111.69108744647147</td><td>136.6826651033981</td><td>218.56231717603188</td><td>108.07510337242554</td><td>37.251689615861615</td><td>88.29983561135994</td><td>88.41085262633874</td><td>0.27585241775070196</td><td>0.010456850780857127</td><td>8.587075297331374</td><td>0.010297904872806685</td><td>7.2357703043356425</td><td>0.026212271659339995</td><td>--</td><td>--</td><td>--</td><td>--</td><td>0.0</td><td>0.0</td><td>0.0</td><td>-1.8973792412671349</td><td>7.915210386529628</td><td>223.91128740690687</td><td>20.0</td><td>6.0</td><td>0.3450454088160319</td><td>1.2508501600115156</td><td>9.076628494326438e+36</td><td>0.12221312616520841</td><td>9.514815573393857</td><td>40.45475666011734</td><td>0.22969327421125987</td><td>4.084863498337238</td><td>0.2371424478454408</td><td>43.12310809674295</td><td>1.0684989304693677</td><td>9.107711422294656</td><td>0.38162319168220254</td><td>688.5214715911468</td><td>86.26420524659842</td><td>55.863069617603216</td><td>11.08037140293592</td><td>1</td><td>1</td><td>26065.864611206554</td><td>3.0197659581915944e+36</td><td>208</td><td>939</td><td>6061.5</td><td>6526.83</td><td>24.196387522871017</td><td>15.765713638444153</td><td>-9999.0</td><td>2</td><td>1.0</td><td>22.25655518250003</td><td>0.07909054374023156</td><td>22.54261982757741</td><td>0.0860625014503331</td><td>23.68228455126272</td><td>0.017013018720021728</td><td>23.663397578582643</td><td>0.036669006090042845</td><td>23.352860891736967</td><td>0.04417066732697916</td><td>0.0011508478931730622</td><td>8.391738675022472e-05</td><td>0.0012235791529478614</td><td>9.708575152061144e-05</td><td>0.0013137906885520685</td><td>2.0607106815043404e-05</td><td>0.001300412000366272</td><td>4.396322770024108e-05</td><td>0.00110635790510606</td><td>4.505459257534525e-05</td><td>1.525072224269146</td><td>2.0</td><td>4.0</td><td>1840.8237180882418</td><td>1495.0924259683047</td><td>0.38</td><td>0.31</td><td>0.07594286361589384</td><td>0.0</td><td>0.0</td><td>36.50000000008599</td><td>33.83000000012987</td></tr>\n",
       "<tr><td>215.0</td><td>215</td><td>2</td><td>1.2569846223643169</td><td>5.404629969199945</td><td>2984938.0</td><td>0.6253251838171974</td><td>0.4615578158845015</td><td>172.62921868698638</td><td>0.5372371227495732</td><td>129.91986797682836</td><td>126.28677036281583</td><td>1.311620048017542</td><td>1.3955983658466302</td><td>2.683895688943411</td><td>1.9810061457762804</td><td>2.3324509173598456</td><td>1.1662254586799228</td><td>1.4725282775153994</td><td>1.0868855967855284</td><td>1.279706937150464</td><td>0.639853468575232</td><td>9</td><td>3</td><td>3</td><td>62.571650413933284</td><td>66.57788831300634</td><td>128.03691362438195</td><td>94.50513066548444</td><td>111.27102214493318</td><td>55.63551107246659</td><td>70.24787761104169</td><td>51.85055359956939</td><td>61.049215605305534</td><td>30.524607802652767</td><td>24.197823657272675</td><td>15.774126909568384</td><td>25.62923118237064</td><td>123.0</td><td>119.0</td><td>24.197902794184152</td><td>15.774046714340223</td><td>0</td><td>NGC0628</td><td>292.45092819711476</td><td>585.245254461439</td><td>24.19782364230922</td><td>15.774164099798409</td><td>292.9293893129771</td><td>585.486641221374</td><td>0.0</td><td>1.0</td><td>0.0</td><td>90.73970464910653</td><td>3.169665601844319</td><td>524.0</td><td>2.58297797404706</td><td>1025466.0522547415</td><td>163730.3769111958</td><td>3990269.268856396</td><td>1164124.1079422222</td><td>395348.50638301135</td><td>277361.0127410311</td><td>288557.4557229482</td><td>26091.4427247363</td><td>5803.42564149298</td><td>122683.17313146961</td><td>2010.0220858025637</td><td>8775.992740104419</td><td>469.3084654196664</td><td>3199.6688010000034</td><td>1124.3976985706418</td><td>552.3988893128903</td><td>1796.1356827274963</td><td>800.6471651009635</td><td>555.0174801387129</td><td>504.9554820066337</td><td>710.7616703567353</td><td>376.59653152179544</td><td>428.9980966288903</td><td>885.510453026663</td><td>362.67346400309964</td><td>126.67020606915031</td><td>321.3306122372403</td><td>345.49089515048297</td><td>24.791376865700833</td><td>26.87935693349094</td><td>15.195124410105244</td><td>-0.16398750389650305</td><td>-0.46096039745049383</td><td>8.486756721798828</td><td>0.04356546366298686</td><td>0.07128551364972928</td><td>0.3452736869933134</td><td>0.023352637088520305</td><td>0.03850443416097128</td><td>0.11891835117613624</td><td>2746990.583732259</td><td>422323.8277231536</td><td>7857280.441272379</td><td>2286866.6444687173</td><td>765175.8781608539</td><td>535981.1735988166</td><td>428114.719377142</td><td>52970.863842838604</td><td>12732.651054394313</td><td>263938.8066365272</td><td>4074.808703028014</td><td>17682.624253961123</td><td>847.897885888383</td><td>5773.243166748601</td><td>10846.753306242897</td><td>2098.438481302989</td><td>20798.357836113504</td><td>6148.920976896613</td><td>2222.0455913074793</td><td>1673.2728158017715</td><td>1238.837493111224</td><td>778.0836526975631</td><td>942.0046586188246</td><td>2057.9745444411697</td><td>735.3117990290214</td><td>259.64310977554385</td><td>580.5500509434837</td><td>623.5159272454368</td><td>0.2920553285978498</td><td>0.0011243156190145387</td><td>8.574397252702601</td><td>0.0008384440348921207</td><td>7.586700657131463</td><td>0.0026249595037113995</td><td>7200.752357523616</td><td>--</td><td>156.58730137748972</td><td>--</td><td>0.0</td><td>0.0</td><td>0.0</td><td>-1.0472599453396794</td><td>8.097711392894851</td><td>196.8497452580877</td><td>24.0</td><td>6.0</td><td>0.30596808045443724</td><td>1.1091879869032086</td><td>9.102766845091726e+38</td><td>0.10185612380802844</td><td>9.514815573393857</td><td>208.05957928685552</td><td>0.28173693908023834</td><td>35.60287770009031</td><td>0.10579277956075041</td><td>208.75484068079018</td><td>1.6621665265776335</td><td>38.59164883774582</td><td>0.4054935869399599</td><td>1080.755682044908</td><td>13.68318638535083</td><td>107.5446582563437</td><td>1.2600941044181064</td><td>1</td><td>1</td><td>5877672.253565089</td><td>6.809363452725131e+38</td><td>357</td><td>1588</td><td>5933.22</td><td>7290.95</td><td>24.197854533580998</td><td>15.774123203118979</td><td>2.0</td><td>2</td><td>1.0</td><td>17.39920118185315</td><td>0.004171002348697736</td><td>17.930722195043565</td><td>0.005143620875124381</td><td>19.43419668261094</td><td>0.003327232467056356</td><td>19.673073027551908</td><td>0.00458450914837419</td><td>19.69609119192207</td><td>0.008620760790426375</td><td>0.10091588362340793</td><td>0.0003880694226589535</td><td>0.08558371256851996</td><td>0.000405853723782835</td><td>0.06572965109251984</td><td>0.00020162943586846577</td><td>0.051311036658588875</td><td>0.00021687679944925987</td><td>0.03210728057614675</td><td>0.00025518702008129</td><td>1.4439913892385476</td><td>2.0</td><td>0.0</td><td>28713.612430442976</td><td>3299.326661464853</td><td>0.08</td><td>0.03</td><td>0.2877409677898532</td><td>0.0</td><td>0.0</td><td>127.22000000022058</td><td>125.94999999862966</td></tr>\n",
       "<tr><td>321.0</td><td>321</td><td>0</td><td>0.04577304749007195</td><td>0.11302159679999886</td><td>25771.75</td><td>0.14297457075040926</td><td>0.07351112869169965</td><td>-155.2084056336864</td><td>0.10251937412057222</td><td>45.208845538453055</td><td>48.936899344840874</td><td>0.18967311779405618</td><td>0.20364726462203203</td><td>0.6136468576607566</td><td>0.3155097643447749</td><td>0.4645783110027657</td><td>0.23228915550138285</td><td>0.33667938513275936</td><td>0.17310547937606408</td><td>0.2548924322544117</td><td>0.12744621612720586</td><td>9</td><td>3</td><td>3</td><td>9.048474089328455</td><td>9.71511945776017</td><td>29.274405124557845</td><td>15.051589602189194</td><td>22.162997363373517</td><td>11.081498681686758</td><td>16.061499532540903</td><td>8.258104591056506</td><td>12.159802061798704</td><td>6.079901030899352</td><td>24.20634011307084</td><td>15.768994276569508</td><td>4.890750524760118</td><td>43.0</td><td>48.0</td><td>24.206365372835418</td><td>15.76898396440486</td><td>0</td><td>NGC0628</td><td>146.26836092275087</td><td>492.96865409085746</td><td>24.206262322728687</td><td>15.769037203148063</td><td>146.45977011494253</td><td>493.1034482758621</td><td>1.0</td><td>0.0</td><td>0.0</td><td>125.34291578562812</td><td>3.2179134023408187</td><td>87.0</td><td>1.052482020710849</td><td>30805.95511564098</td><td>6495.181072147856</td><td>125832.16883175245</td><td>31169.629160000346</td><td>17315.69095451023</td><td>12104.57277984597</td><td>6973.552847963725</td><td>1856.9668650352326</td><td>0.0</td><td>4767.267841395864</td><td>0.0</td><td>624.600482928196</td><td>17.247655869533876</td><td>529.5626295141141</td><td>243.8833799103808</td><td>173.55949363448164</td><td>338.35156950743357</td><td>176.24134590411927</td><td>147.4632067569017</td><td>141.32763377543444</td><td>176.34574884392046</td><td>138.60165522325283</td><td>160.00015454830674</td><td>346.46652615619763</td><td>135.35921633870046</td><td>46.6193890785706</td><td>111.29897029297045</td><td>122.46038292119124</td><td>14.6775946418714</td><td>24.424245041208504</td><td>4.384232388912211</td><td>2.567963817685495</td><td>3.2797826767424736</td><td>15.929739304403682</td><td>0.4660459726897893</td><td>0.6801299908171777</td><td>11.653567828815579</td><td>0.1504938180392518</td><td>0.315923167226267</td><td>1.2866396771547273</td><td>96387.70720502672</td><td>19452.2852874767</td><td>275704.88717590796</td><td>68107.32340994012</td><td>37189.75618699072</td><td>25950.70781320631</td><td>11009.981454008466</td><td>4215.191288466998</td><td>0.0</td><td>11572.594157554602</td><td>0.0</td><td>1405.4280571470613</td><td>34.20624350388632</td><td>1048.6544325846523</td><td>2689.6615202774283</td><td>721.605992414378</td><td>5126.895322669449</td><td>1306.8338171397295</td><td>738.2683650583576</td><td>554.371056489187</td><td>302.37119743047555</td><td>324.89055964597026</td><td>--</td><td>874.832637641969</td><td>--</td><td>108.25319296820429</td><td>220.7332696503902</td><td>243.08111030003997</td><td>0.33808897659419423</td><td>0.00793094428392898</td><td>--</td><td>--</td><td>7.123437932475221</td><td>0.022700734282161704</td><td>--</td><td>--</td><td>--</td><td>--</td><td>0.0</td><td>0.0</td><td>0.0</td><td>-1.7222757006646257</td><td>7.924723752030068</td><td>219.49705105999067</td><td>10.0</td><td>7.0</td><td>0.42264774268105837</td><td>1.5321722389384946</td><td>3.19407882252985e+37</td><td>--</td><td>9.514815573393857</td><td>89.52694257270554</td><td>0.6551740752466249</td><td>11.267239758984415</td><td>0.3850993377016958</td><td>92.44113846502263</td><td>3.7546061883880637</td><td>15.965219527681384</td><td>0.9352736074893344</td><td>845.9565197308293</td><td>105.78469417987412</td><td>61.39511893207569</td><td>7.973972805374356</td><td>1</td><td>0</td><td>56467.25707776828</td><td>6.541808730280403e+36</td><td>265</td><td>1155</td><td>5194.7</td><td>6825.79</td><td>24.20630018884727</td><td>15.769003667096715</td><td>-9999.0</td><td>2</td><td>0.8</td><td>22.23172270904428</td><td>0.09078338047360633</td><td>22.46845938605851</td><td>0.08318923941505194</td><td>23.746386310322013</td><td>0.021250310294187853</td><td>23.780390639092545</td><td>0.03917087618709977</td><td>23.283784359170483</td><td>0.03467087375927846</td><td>0.0011774728889488606</td><td>9.855229214899835e-05</td><td>0.0013100752607654916</td><td>0.00010047843499289786</td><td>0.0012384699570164176</td><td>2.4263878056836896e-05</td><td>0.0011675721960074424</td><td>4.2165426090180385e-05</td><td>0.0011790338024523428</td><td>3.768777564367606e-05</td><td>1.5791960818224593</td><td>8.0</td><td>2.0</td><td>481.0399225397055</td><td>168.3364427167873</td><td>0.06</td><td>0.039999999999999994</td><td>0.9840291861313945</td><td>0.0</td><td>0.0</td><td>48.70000000026914</td><td>49.789999999701536</td></tr>\n",
       "<tr><td>359.0</td><td>359</td><td>1</td><td>1.1132677997368483</td><td>5.01062412479995</td><td>2785236.25</td><td>0.5924052104923737</td><td>0.4315020291439471</td><td>-141.34028335477484</td><td>0.5055927713119585</td><td>102.63691443672974</td><td>97.13169784517183</td><td>1.2629058535278186</td><td>1.3367133637450688</td><td>2.542603163433268</td><td>1.8520067090858208</td><td>2.1973049362595445</td><td>1.0986524681297722</td><td>1.3950076644482206</td><td>1.0161096276996955</td><td>1.205558646073958</td><td>0.602779323036979</td><td>9</td><td>3</td><td>3</td><td>60.24770945830788</td><td>63.768742652499206</td><td>121.29646578990041</td><td>88.35113228128026</td><td>104.82379903559034</td><td>52.41189951779517</td><td>66.54970853529085</td><td>48.47414196112296</td><td>57.51192524820691</td><td>28.755962624103454</td><td>24.196614676786112</td><td>15.763846014983077</td><td>24.119617709533877</td><td>99.0</td><td>95.0</td><td>24.19665626733554</td><td>15.763822554551652</td><td>1</td><td>NGC0628</td><td>313.1022625753489</td><td>400.35409766752264</td><td>24.19663117127023</td><td>15.76389240323767</td><td>312.9716088328076</td><td>401.1577287066246</td><td>0.0</td><td>1.0</td><td>0.0</td><td>107.19904537085382</td><td>3.5136877413671885</td><td>317.0</td><td>2.0090219901261577</td><td>880241.5663354441</td><td>201364.74137081008</td><td>3503461.944573693</td><td>1107304.4128841944</td><td>463806.9685999302</td><td>334612.1951091215</td><td>288552.1379399736</td><td>28564.87822737314</td><td>4834.264645080877</td><td>88327.87297515878</td><td>2995.2021992969803</td><td>9607.945662112754</td><td>9706.347199232881</td><td>9678.810676398622</td><td>811.076590209221</td><td>402.9661221727637</td><td>1417.347180721643</td><td>623.9574101988983</td><td>446.2659327922832</td><td>386.96388442762327</td><td>491.96788181982754</td><td>204.4541998994024</td><td>226.47980697714627</td><td>384.4807113986035</td><td>195.22861511715186</td><td>68.76923568124181</td><td>177.37256456684074</td><td>177.72993644264358</td><td>26.552847602236422</td><td>25.545211780987945</td><td>21.05163619167592</td><td>-1.4924988315857286</td><td>-2.781443614016725</td><td>6.199862739008635</td><td>0.033989348573431714</td><td>0.04880125661839267</td><td>0.16169424823053474</td><td>0.019803928325253798</td><td>0.026812140956176508</td><td>0.0794655447106893</td><td>2534825.509487266</td><td>556807.2441463956</td><td>7250479.898168848</td><td>2285769.2932991907</td><td>942254.1405930592</td><td>678649.928548239</td><td>440684.2701058965</td><td>61086.405172146035</td><td>11235.988769492067</td><td>201019.13504089942</td><td>6395.276730331129</td><td>20380.40720828997</td><td>18314.54986841914</td><td>18236.866475839928</td><td>8491.213817374615</td><td>2053.1244592091307</td><td>16322.96606807508</td><td>5206.318499101598</td><td>2226.5908815285898</td><td>1658.687561654988</td><td>942.0143839660999</td><td>459.5195937458623</td><td>527.1835861775788</td><td>1009.4605737545162</td><td>417.10862961726184</td><td>153.1562097011849</td><td>336.54553175387326</td><td>336.72238217863435</td><td>0.313492066536071</td><td>0.0009545702700415232</td><td>8.545787494786138</td><td>0.0007882580778938969</td><td>7.447495514887546</td><td>0.0019986047081504833</td><td>6951.745329738662</td><td>6025.999780038455</td><td>91.42062657994781</td><td>99.03327542519207</td><td>0.0</td><td>0.0</td><td>0.0</td><td>-0.8638934219812214</td><td>8.004383173583975</td><td>192.03824543351206</td><td>25.0</td><td>6.0</td><td>0.36146785208861965</td><td>1.3103843988984583</td><td>8.399780117478881e+38</td><td>0.08415244412627843</td><td>9.514815573393857</td><td>304.66667993737417</td><td>0.3428968896271012</td><td>48.950254424361</td><td>0.11082255442179996</td><td>304.97450128772994</td><td>2.0939999796085944</td><td>50.77278410576014</td><td>0.4425388639233622</td><td>914.6824750330175</td><td>5.309817944288366</td><td>117.65469802931965</td><td>0.8879544383696665</td><td>1</td><td>1</td><td>5764098.415155887</td><td>6.6777866122539335e+38</td><td>173</td><td>806</td><td>6038.33</td><td>6351.71</td><td>24.196652493649044</td><td>15.76378634626643</td><td>1.0</td><td>2</td><td>0.7</td><td>19.689860683506748</td><td>0.01605091939160708</td><td>20.063300528310336</td><td>0.0190055593532915</td><td>21.379656430445642</td><td>0.01450240196481875</td><td>21.386653207336664</td><td>0.018228021756296547</td><td>20.921854998947982</td><td>0.025671823504489932</td><td>0.01223758514783793</td><td>0.00018109443434639907</td><td>0.012004934329336598</td><td>0.00021035357987332973</td><td>0.010954118325242124</td><td>0.00014646263020903126</td><td>0.010587141487423379</td><td>0.00017792120784723342</td><td>0.010382405823737314</td><td>0.0002457333954292245</td><td>1.515492675417957</td><td>8.0</td><td>0.0</td><td>3694.1602960071923</td><td>628.3113401064593</td><td>0.01</td><td>0.04</td><td>2.1251508175266953</td><td>0.0</td><td>0.0</td><td>99.32999999998961</td><td>91.71000000037617</td></tr>\n",
       "<tr><td>636.0</td><td>636</td><td>4</td><td>0.59182847043892</td><td>1.4739899915999852</td><td>460522.8125</td><td>0.49707926279238046</td><td>0.2733834829772245</td><td>55.823505960654046</td><td>0.3686370303943054</td><td>94.0770006140448</td><td>107.88493572013753</td><td>0.6849712303901806</td><td>0.7804433558091813</td><td>2.1334641959048968</td><td>1.1733619089382474</td><td>1.653413052421572</td><td>0.826706526210786</td><td>1.1705322119927044</td><td>0.6437689056951456</td><td>0.907150558843925</td><td>0.4535752794219625</td><td>9</td><td>3</td><td>3</td><td>32.67697870001063</td><td>37.23153584102271</td><td>101.77823679851154</td><td>55.97595987197621</td><td>78.87709833524387</td><td>39.438549167621936</td><td>55.84096741869562</td><td>30.711396166443997</td><td>43.27618179256981</td><td>21.638090896284904</td><td>24.195511827101104</td><td>15.76309491625408</td><td>17.58605888216378</td><td>87.0</td><td>102.0</td><td>24.19559275741842</td><td>15.763030149837583</td><td>0</td><td>NGC0628</td><td>333.30745266783214</td><td>384.0730206907539</td><td>24.195464773383957</td><td>15.76298792518118</td><td>333.83666666666664</td><td>383.43333333333334</td><td>0.0</td><td>1.0</td><td>0.0</td><td>106.45237877697434</td><td>3.5623216813814658</td><td>300.0</td><td>1.95441004761168</td><td>366304.36866563995</td><td>78207.70612493608</td><td>1235401.2710865894</td><td>323628.9454643255</td><td>176072.48871746895</td><td>122048.24003290798</td><td>52942.24331487649</td><td>11636.016177866313</td><td>1749.8268603020786</td><td>36675.91883304352</td><td>185.13633962736884</td><td>3913.834684345702</td><td>0.0</td><td>1572.7853093068993</td><td>553.9758788079562</td><td>314.7150094131917</td><td>702.9345780084757</td><td>339.95095916491056</td><td>302.629888132763</td><td>269.58414337834313</td><td>285.20250910040187</td><td>185.45950846334327</td><td>220.22459387082384</td><td>348.6047650728925</td><td>184.4730553154881</td><td>62.3802722229146</td><td>164.49171243550265</td><td>167.7474095948575</td><td>31.196911858323794</td><td>32.6012731638034</td><td>25.490800236733158</td><td>-3.030056453515499</td><td>-3.2471998329316025</td><td>5.43259657327232</td><td>0.054058703865922056</td><td>0.09665649628752246</td><td>0.5450205827670683</td><td>0.03322812077906457</td><td>0.05865112921032677</td><td>0.26304482959794273</td><td>620851.3919064199</td><td>129898.15301883424</td><td>1775742.3692746027</td><td>464588.5976874003</td><td>250757.1737742948</td><td>173672.4168872184</td><td>65394.73162263929</td><td>17001.267237166194</td><td>2665.108289158707</td><td>55276.51556698831</td><td>270.28997145548624</td><td>5695.3257994255055</td><td>0.0</td><td>2157.334973248804</td><td>3345.0581594734813</td><td>830.9664373844155</td><td>6394.881435726648</td><td>1717.1171946044194</td><td>970.0117136310859</td><td>712.5244194784086</td><td>377.40566927600145</td><td>278.24170028748205</td><td>335.5973936715639</td><td>570.4754024208379</td><td>269.32347443899937</td><td>93.15822100632857</td><td>--</td><td>230.19029879260748</td><td>0.1563860025370267</td><td>0.00153273232797656</td><td>8.48101909531486</td><td>0.0013462950348529991</td><td>7.033151857536506</td><td>0.0046916131225528315</td><td>7261.202731765587</td><td>--</td><td>240.05547873197412</td><td>--</td><td>0.0</td><td>0.0</td><td>0.0</td><td>-1.450942210196054</td><td>7.836413841555946</td><td>189.34279769166912</td><td>27.0</td><td>6.0</td><td>0.35895014338158554</td><td>1.3012572629952093</td><td>2.057221819339812e+38</td><td>0.018889297968256002</td><td>9.514815573393857</td><td>118.06439336850164</td><td>0.1495475291888111</td><td>19.841315961095997</td><td>0.07395963725212834</td><td>119.56091492663944</td><td>0.8602602032541355</td><td>22.970348354312915</td><td>0.21352503261553687</td><td>502.9724991436643</td><td>4.483281281021146</td><td>59.82314781410453</td><td>0.6222746945719119</td><td>1</td><td>1</td><td>661946.7611964567</td><td>7.668743490430158e+37</td><td>164</td><td>730</td><td>6123.86</td><td>6284.58</td><td>24.195674407544747</td><td>15.763047539160334</td><td>1.0</td><td>2</td><td>0.6</td><td>19.21871908903621</td><td>0.015101411712260142</td><td>19.645948828191173</td><td>0.015094074209550803</td><td>21.171667207172316</td><td>0.011460573053518745</td><td>21.556689441311146</td><td>0.015520467640317795</td><td>21.579358358879198</td><td>0.020901153658935665</td><td>0.018886538330105073</td><td>0.00026295375394516895</td><td>0.017631954997970583</td><td>0.00024536714657312644</td><td>0.013267011852553154</td><td>0.00014018092255647127</td><td>0.00905241016187096</td><td>0.00012953242287595384</td><td>0.005666262060440319</td><td>0.00010918836864859585</td><td>1.5161386474398317</td><td>1.0</td><td>2.0</td><td>6153.778361776348</td><td>1758.9005807147032</td><td>0.06</td><td>0.010000000000000009</td><td>1.796605358231861</td><td>0.0</td><td>0.0</td><td>79.85999999951844</td><td>103.57999999899334</td></tr>\n",
       "<tr><td>643.0</td><td>643</td><td>0</td><td>0.166038202622957</td><td>0.4787720419999952</td><td>136078.90625</td><td>0.2577636357585826</td><td>0.1479069014436345</td><td>-158.6850062338664</td><td>0.19525629482784307</td><td>64.28131941239369</td><td>57.29432787010923</td><td>0.39038170320469623</td><td>0.4340204670412646</td><td>1.1063215246758364</td><td>0.6348164209960793</td><td>0.8705689728359578</td><td>0.4352844864179789</td><td>0.6069869763643666</td><td>0.3482941363178876</td><td>0.4776405563411271</td><td>0.23882027817056356</td><td>9</td><td>3</td><td>3</td><td>18.62340202701249</td><td>20.705216405654433</td><td>52.77775663162193</td><td>30.284312314094578</td><td>41.53103447285825</td><td>20.765517236429126</td><td>28.956691343874287</td><td>16.615588463934653</td><td>22.78613990390447</td><td>11.393069951952235</td><td>24.197201967972234</td><td>15.77601994934738</td><td>9.314823023293927</td><td>66.0</td><td>57.0</td><td>24.197182312554066</td><td>15.77601671011448</td><td>0</td><td>NGC0628</td><td>303.68671356337154</td><td>620.4568471762824</td><td>24.197175062891212</td><td>15.776120318054907</td><td>303.9347826086956</td><td>620.4347826086956</td><td>0.0</td><td>1.0</td><td>0.0</td><td>86.11720068225351</td><td>3.1030307289035854</td><td>138.0</td><td>1.325545386523798</td><td>74130.84280597116</td><td>15853.978029513477</td><td>346464.3735136222</td><td>105476.14095076478</td><td>54021.70561330111</td><td>37988.819288021834</td><td>16356.362986361595</td><td>7132.9927718116605</td><td>583.0239946249676</td><td>13159.342476013302</td><td>0.0</td><td>2399.219293507622</td><td>0.0</td><td>0.0</td><td>345.1077166079367</td><td>238.84844725348253</td><td>516.8987806942126</td><td>278.0454226143076</td><td>229.82631610371777</td><td>212.1693989357018</td><td>255.1437004781901</td><td>188.86645010992726</td><td>203.5161076483312</td><td>426.9631774707393</td><td>181.04354019482494</td><td>63.52621480155297</td><td>151.77733622305743</td><td>165.7070353897107</td><td>16.199267437056676</td><td>26.21837623087965</td><td>13.809278840909483</td><td>3.620666694627011</td><td>3.98716879358432</td><td>15.1014972569053</td><td>0.23040295426221705</td><td>0.29158010956051195</td><td>2.6122837096683074</td><td>0.08228257261632872</td><td>0.14617113264522724</td><td>0.7949138916175774</td><td>356956.64975272963</td><td>71872.59700383278</td><td>1021079.958481178</td><td>309681.17890179856</td><td>154890.10136182784</td><td>108650.36363426072</td><td>30688.680794462434</td><td>22071.84758402225</td><td>2041.7483288609194</td><td>44664.8127229327</td><td>0.0</td><td>7334.850109119013</td><td>0.0</td><td>0.0</td><td>5826.688108807472</td><td>1530.2654400348229</td><td>11090.401190142798</td><td>3418.9481500164547</td><td>1752.5745214389256</td><td>1288.3348827939897</td><td>515.8662848799711</td><td>634.9238843521576</td><td>713.1678426384387</td><td>1547.6764346637492</td><td>--</td><td>210.65288215588652</td><td>--</td><td>--</td><td>0.46586838256710233</td><td>0.0046371876894227655</td><td>8.51060177348523</td><td>0.0040327449503812975</td><td>6.828853449910646</td><td>0.013663227090425072</td><td>--</td><td>--</td><td>--</td><td>--</td><td>0.0</td><td>0.0</td><td>0.0</td><td>-1.3540202469289224</td><td>8.2654620144942</td><td>189.53130660050542</td><td>19.0</td><td>6.0</td><td>0.2903813131060054</td><td>1.052683219896605</td><td>1.1829350958924104e+38</td><td>0.03499774002145273</td><td>9.514815573393857</td><td>84.01889386280924</td><td>0.28951922358525833</td><td>10.86151389955799</td><td>0.19704081907425938</td><td>86.07221419204654</td><td>1.6094754447623103</td><td>15.362854692320349</td><td>0.45748947701554865</td><td>2772.7145537642286</td><td>533.0053334407661</td><td>--</td><td>--</td><td>1</td><td>1</td><td>401043.95881976886</td><td>4.646148948620168e+37</td><td>396</td><td>1760</td><td>5994.72</td><td>7462.23</td><td>24.19715120570551</td><td>15.776008235847339</td><td>-9999.0</td><td>2</td><td>0.5</td><td>21.51184607263158</td><td>0.058303975863107</td><td>21.843461404915097</td><td>0.05661231752536797</td><td>23.261250107959896</td><td>0.0395247081189341</td><td>23.40775892764459</td><td>0.05070876519157058</td><td>23.40476962590171</td><td>0.08238588283142652</td><td>0.002285080851058383</td><td>0.00012283134431655466</td><td>0.0023296755299349126</td><td>0.00012159503295015189</td><td>0.0019361542633239595</td><td>7.05534233418541e-05</td><td>0.0016456460395905832</td><td>7.693588023475816e-05</td><td>0.0010547077801582115</td><td>8.01114167842184e-05</td><td>1.2950435103731015</td><td>2.0</td><td>1.0</td><td>1224.4302348885196</td><td>50.339465098853225</td><td>0.18</td><td>0.03999999999999998</td><td>0.5076305364974093</td><td>0.0</td><td>0.0</td><td>68.72000000010277</td><td>56.22999999894205</td></tr>\n",
       "<tr><td>905.0</td><td>905</td><td>0</td><td>0.9203532466361598</td><td>2.571241327199974</td><td>819914.25</td><td>0.5587066947631134</td><td>0.3782446009655548</td><td>-158.8647649114497</td><td>0.45970402523521353</td><td>106.05055051317919</td><td>108.58228015930804</td><td>0.9046831125936212</td><td>1.0221545148761633</td><td>2.3979691339232825</td><td>1.623425827344161</td><td>2.0106974806337217</td><td>1.0053487403168608</td><td>1.3156537241211677</td><td>0.8906979682784212</td><td>1.1031758461997945</td><td>0.5515879230998972</td><td>9</td><td>3</td><td>3</td><td>43.15847073407956</td><td>48.76251706469758</td><td>114.39660942819262</td><td>77.44653910640034</td><td>95.92157426729648</td><td>47.96078713364824</td><td>62.76407944200478</td><td>42.49130072367774</td><td>52.62769008284126</td><td>26.31384504142063</td><td>24.193236532496694</td><td>15.758370173776575</td><td>21.93046652829985</td><td>101.0</td><td>111.0</td><td>24.19329428679327</td><td>15.758396783135895</td><td>1</td><td>NGC0628</td><td>372.36181581614017</td><td>300.9398184671543</td><td>24.193210257679862</td><td>15.758369447809189</td><td>372.89502762430936</td><td>300.22375690607737</td><td>0.0</td><td>1.0</td><td>0.0</td><td>113.85963877307665</td><td>3.716195613308972</td><td>362.0</td><td>2.1468877828012554</td><td>423041.83527125965</td><td>192395.48179693826</td><td>1623915.6172740685</td><td>515275.56650499254</td><td>270917.9872933525</td><td>191231.53951353423</td><td>117308.8096017846</td><td>23639.761470071575</td><td>3094.9207239098346</td><td>51117.204208916955</td><td>1187.5054448026037</td><td>7951.3569727771755</td><td>6312.78197720017</td><td>5249.881814120934</td><td>579.4311822595332</td><td>389.21017920143703</td><td>827.9602681739946</td><td>421.7397868350916</td><td>344.0568156083665</td><td>305.6301508698562</td><td>367.17846942004775</td><td>200.7961012049702</td><td>226.37975334982883</td><td>365.44923292040505</td><td>193.09911024511084</td><td>67.53881512061538</td><td>177.70804197829466</td><td>180.2095103262319</td><td>26.224478440028058</td><td>27.925116787875194</td><td>25.224687682300477</td><td>-8.400658174617988</td><td>-9.874145955760243</td><td>-2.8509033495418987</td><td>0.05054174497861167</td><td>0.07465901324079156</td><td>0.27996054552069427</td><td>0.02777998756907762</td><td>0.04161930460024677</td><td>0.13639410056127582</td><td>1085012.1251468067</td><td>475938.86537227366</td><td>3103469.7058436857</td><td>982517.9524282868</td><td>509288.05567761516</td><td>358953.3427928244</td><td>171040.07168374828</td><td>46516.87186687707</td><td>6558.815706477966</td><td>106316.98239330309</td><td>2333.4493069664854</td><td>15533.355612842639</td><td>11111.424340400843</td><td>9228.971348205008</td><td>5288.060415076042</td><td>2347.2545666023734</td><td>10106.493516955356</td><td>3250.137324214986</td><td>1722.4113505128505</td><td>1260.5892227404527</td><td>623.8543148390346</td><td>424.928264354113</td><td>480.37159691106575</td><td>852.768538859443</td><td>379.5206599397313</td><td>141.69158849433765</td><td>314.3442766920289</td><td>317.8506158600033</td><td>0.27916706445689754</td><td>0.0013863319945023622</td><td>8.513536032986492</td><td>0.0012983014350057265</td><td>7.212441916656884</td><td>0.003209231623910552</td><td>7592.735189180367</td><td>5930.542572118188</td><td>175.85837459987619</td><td>267.14677538405346</td><td>0.0</td><td>0.0</td><td>0.0</td><td>-1.2900619726787692</td><td>7.888935074163918</td><td>223.75920876820592</td><td>19.0</td><td>6.0</td><td>0.3839269176745872</td><td>1.3918024530563529</td><td>3.595412096367245e+38</td><td>0.05631433969994859</td><td>9.514815573393857</td><td>153.216958669377</td><td>0.19434124080450235</td><td>24.454683930035362</td><td>0.08472016292145723</td><td>155.2172871339074</td><td>1.1646477711842715</td><td>27.853285373540967</td><td>0.2781862479611353</td><td>691.9721644592158</td><td>6.814413327715695</td><td>90.29779813088135</td><td>1.2254400025725</td><td>1</td><td>1</td><td>1566940.4303998987</td><td>1.815321855159698e+38</td><td>99</td><td>375</td><td>6332.36</td><td>5861.69</td><td>24.193290170131974</td><td>15.75839337134224</td><td>2.0</td><td>2</td><td>1.0</td><td>19.99233668296948</td><td>0.028057155495969766</td><td>20.46026948501149</td><td>0.031554552094654686</td><td>21.825592860147456</td><td>0.012639979113562587</td><td>21.915860442261636</td><td>0.022611866602790923</td><td>21.731386919766297</td><td>0.021454801213056957</td><td>0.009262011732897526</td><td>0.00023958434053795985</td><td>0.008328603862161634</td><td>0.00024229457411094815</td><td>0.0072644519571467775</td><td>8.465618146306915e-05</td><td>0.0065027315132425816</td><td>0.0001355631652740287</td><td>0.004925895928702445</td><td>9.743594238377036e-05</td><td>1.4956091944960388</td><td>1.0</td><td>1.0</td><td>7008.229550549889</td><td>2162.8654466692706</td><td>0.22</td><td>0.04000000000000001</td><td>0.6643668558474322</td><td>0.0</td><td>0.0</td><td>101.36000000040144</td><td>110.6899999994996</td></tr>\n",
       "<tr><td>2482.0</td><td>2482</td><td>0</td><td>0.23123551898264513</td><td>0.794290666399992</td><td>245702.25</td><td>0.23431590586896353</td><td>0.22659735630874203</td><td>-169.6873402565427</td><td>0.23042431471308575</td><td>64.63490835857256</td><td>53.93445678705686</td><td>0.5028226045223392</td><td>0.5303880521022528</td><td>1.0056838679895914</td><td>0.9725558532771208</td><td>0.9891198606333561</td><td>0.49455993031667805</td><td>0.5517717920098204</td><td>0.533595996786846</td><td>0.5426838943983332</td><td>0.2713419471991666</td><td>9</td><td>3</td><td>3</td><td>23.987465179378265</td><td>25.302492005996953</td><td>47.97677460777523</td><td>46.39638205535168</td><td>47.18657833156346</td><td>23.59328916578173</td><td>26.322616622162396</td><td>25.455529002995426</td><td>25.889072812578913</td><td>12.944536406289457</td><td>24.19692346207448</td><td>15.764240044695063</td><td>10.992535291671993</td><td>69.0</td><td>59.0</td><td>24.196873544234553</td><td>15.764295793766863</td><td>1</td><td>NGC0628</td><td>307.2842478953606</td><td>408.03506138746303</td><td>24.19696703820949</td><td>15.764319114713045</td><td>306.20512820512823</td><td>408.982905982906</td><td>0.0</td><td>1.0</td><td>0.0</td><td>107.06569896988879</td><td>3.4955527185918007</td><td>117.0</td><td>1.2205286835384659</td><td>120333.2218456253</td><td>19596.330074651756</td><td>503043.65526367334</td><td>153967.35125979682</td><td>75570.5168027465</td><td>54366.30277098211</td><td>32538.737609216918</td><td>6197.001202870252</td><td>1140.8577899348427</td><td>10428.412152514567</td><td>260.75893929192455</td><td>2084.393651227553</td><td>1170.7246901148108</td><td>1089.031945259294</td><td>300.95201855453075</td><td>172.98710797681127</td><td>447.59664308025674</td><td>227.16829009258552</td><td>181.32742765660245</td><td>161.88506437320743</td><td>193.1517207571466</td><td>106.71945821446508</td><td>122.37990774604846</td><td>197.91152404888138</td><td>100.73391015976438</td><td>35.895645955602795</td><td>96.25627375564777</td><td>97.23575502139883</td><td>21.774040971541293</td><td>26.650814008521717</td><td>17.7542968308852</td><td>0.7663614038092434</td><td>-1.556992082486336</td><td>9.061706631686732</td><td>0.09891138526184035</td><td>0.14051090765858446</td><td>0.7460205963374611</td><td>0.047407969841657585</td><td>0.07519403368977318</td><td>0.3012773450836507</td><td>405488.13877513766</td><td>63026.62435862198</td><td>1159857.5693818978</td><td>353964.42586008506</td><td>170576.22595019764</td><td>122478.87593278821</td><td>52920.87287438539</td><td>14836.77497397322</td><td>3005.6043639255618</td><td>26817.549956060484</td><td>623.1853840894727</td><td>4944.055702000442</td><td>2427.519738018756</td><td>2254.475142736771</td><td>3591.0064256060678</td><td>758.0688073889014</td><td>6853.9675062990855</td><td>2125.764669177081</td><td>1053.861861467041</td><td>785.461600391452</td><td>362.0549540550128</td><td>271.08835540937173</td><td>323.0536969075162</td><td>538.8910797490474</td><td>240.7729833176807</td><td>90.22738082572025</td><td>199.97276820022296</td><td>201.62062079041974</td><td>0.36006850378012834</td><td>0.0025180303419372572</td><td>8.515651989197709</td><td>0.002207601013819522</td><td>7.148972074249964</td><td>0.005968638265430355</td><td>8188.994807978124</td><td>--</td><td>317.2734748913514</td><td>--</td><td>0.0</td><td>0.0</td><td>0.0</td><td>-1.2269821132209486</td><td>8.003439717876201</td><td>240.62227981614978</td><td>21.0</td><td>6.0</td><td>0.3610182171410897</td><td>1.3087543933058772</td><td>1.3437108560030606e+38</td><td>0.05392858224789698</td><td>9.514815573393857</td><td>173.1704260445039</td><td>0.4241642977995344</td><td>29.37115889734221</td><td>0.19738032313611578</td><td>174.76500953622963</td><td>2.584519002233097</td><td>31.34927802064194</td><td>0.6835994032401626</td><td>1857.700132012033</td><td>86.90680686589849</td><td>216.45556875295244</td><td>12.824846533249673</td><td>1</td><td>1</td><td>566510.7023908087</td><td>6.563103735663064e+37</td><td>181</td><td>843</td><td>6015.35</td><td>6393.2</td><td>24.196915284514738</td><td>15.764242967138992</td><td>2.0</td><td>2</td><td>0.9</td><td>20.84235742115894</td><td>0.02659178051023899</td><td>21.107672153590414</td><td>0.029831020998013554</td><td>22.406422229630905</td><td>0.011143860316364792</td><td>22.366048683166824</td><td>0.016694155518974622</td><td>22.15139397822018</td><td>0.01893495817122943</td><td>0.004233475312582655</td><td>0.0001037896175942443</td><td>0.004587870371326653</td><td>0.00012617947591077227</td><td>0.0042547212088115275</td><td>4.371356545580736e-05</td><td>0.004295567290906072</td><td>6.611415392535929e-05</td><td>0.0033456646581770393</td><td>5.8405832905677575e-05</td><td>1.7737775164138478</td><td>1.0</td><td>1.0</td><td>6298.019813286199</td><td>575.9192363062084</td><td>0.33</td><td>0.02999999999999997</td><td>0.5095374008851431</td><td>0.0</td><td>0.0</td><td>65.34999999991737</td><td>54.19999999903973</td></tr>\n",
       "</table></div>"
      ],
      "text/plain": [
       "<Table length=11>\n",
       "region_ID hstcat_region_ID  _idx     area_ellipse     ... PHANGS_NO_COVERAGE_FLAG PHANGS_NON_DETECTION_FLAG     x_cluster          y_cluster     \n",
       "                                       arcsec2        ...                                                          pix                pix        \n",
       " float64       int64       int64       float64        ...         float64                  float64               float64            float64      \n",
       "--------- ---------------- ----- -------------------- ... ----------------------- ------------------------- ------------------ ------------------\n",
       "     10.0               10     0 0.043085751872079824 ...                     0.0                       0.0  40.66000000014661  38.64000000034275\n",
       "    122.0              122     0  0.30682690115520594 ...                     0.0                       0.0  85.34999999988435  76.91999999987999\n",
       "    134.0              134     0  0.02069509312790135 ...                     0.0                       0.0  49.87999999981554  44.18000000094548\n",
       "    204.0              204     0 0.027255866433700475 ...                     0.0                       0.0  36.50000000008599  33.83000000012987\n",
       "    215.0              215     2   1.2569846223643169 ...                     0.0                       0.0 127.22000000022058 125.94999999862966\n",
       "    321.0              321     0  0.04577304749007195 ...                     0.0                       0.0  48.70000000026914 49.789999999701536\n",
       "    359.0              359     1   1.1132677997368483 ...                     0.0                       0.0  99.32999999998961  91.71000000037617\n",
       "    636.0              636     4     0.59182847043892 ...                     0.0                       0.0  79.85999999951844 103.57999999899334\n",
       "    643.0              643     0    0.166038202622957 ...                     0.0                       0.0  68.72000000010277  56.22999999894205\n",
       "    905.0              905     0   0.9203532466361598 ...                     0.0                       0.0 101.36000000040144  110.6899999994996\n",
       "   2482.0             2482     0  0.23123551898264513 ...                     0.0                       0.0  65.34999999991737  54.19999999903973"
      ]
     },
     "execution_count": 6,
     "metadata": {},
     "output_type": "execute_result"
    }
   ],
   "source": [
    "props_all_cluster = props_all_cluster[~props_all_cluster.mask['PHANGS_EBV_MINCHISQ']]\n",
    "props_all_cluster"
   ]
  },
  {
   "cell_type": "code",
   "execution_count": 7,
   "id": "1ad2f913",
   "metadata": {
    "execution": {
     "iopub.execute_input": "2024-03-17T18:30:33.428659Z",
     "iopub.status.busy": "2024-03-17T18:30:33.428544Z",
     "iopub.status.idle": "2024-03-17T18:30:33.432608Z",
     "shell.execute_reply": "2024-03-17T18:30:33.432299Z"
    }
   },
   "outputs": [],
   "source": [
    "# import matplotlib.pyplot as plt\n",
    "# import numpy as np\n",
    "\n",
    "# fig = plt.figure(figsize=(8,3))\n",
    "# ax1 = fig.add_subplot(121)\n",
    "# ax2 = fig.add_subplot(122)\n",
    "\n",
    "# ax1.hist(props_all_cluster['PHANGS_AGE_MINCHISQ'], alpha=0.3, fc='C0', bins=np.linspace(0,20,10))\n",
    "# ax1.hist(props_all_cluster['PHANGS_AGE_MINCHISQ'], fc='none', ec='C0', lw=1.5, bins=np.linspace(0,20,10))\n",
    "# ax1.set_ylabel('#')\n",
    "# ax1.set_xlabel('Cluster age, log(Myr)')\n",
    "# ax1.grid(alpha=0.3, linestyle=':')\n",
    "# ax1.set_xlim(0,20)\n",
    "\n",
    "# ax2.hist(np.log10(props_all_cluster['PHANGS_MASS_MINCHISQ']), alpha=0.3, fc='C1')\n",
    "# ax2.hist(np.log10(props_all_cluster['PHANGS_MASS_MINCHISQ']), fc='none', ec='C1', lw=1.5)\n",
    "# ax2.set_ylabel('#')\n",
    "# ax2.set_xlabel('Cluster mass, log(Msun)')\n",
    "# ax2.grid(alpha=0.3, linestyle=':')"
   ]
  }
 ],
 "metadata": {
  "kernelspec": {
   "display_name": "Python 3 (ipykernel)",
   "language": "python",
   "name": "python3"
  },
  "language_info": {
   "codemirror_mode": {
    "name": "ipython",
    "version": 3
   },
   "file_extension": ".py",
   "mimetype": "text/x-python",
   "name": "python",
   "nbconvert_exporter": "python",
   "pygments_lexer": "ipython3",
   "version": "3.9.13"
  },
  "widgets": {
   "application/vnd.jupyter.widget-state+json": {
    "state": {
     "0aeb333004b1490d803cdb6311882487": {
      "model_module": "@jupyter-widgets/controls",
      "model_module_version": "1.5.0",
      "model_name": "FloatProgressModel",
      "state": {
       "_dom_classes": [],
       "_model_module": "@jupyter-widgets/controls",
       "_model_module_version": "1.5.0",
       "_model_name": "FloatProgressModel",
       "_view_count": null,
       "_view_module": "@jupyter-widgets/controls",
       "_view_module_version": "1.5.0",
       "_view_name": "ProgressView",
       "bar_style": "success",
       "description": "",
       "description_tooltip": null,
       "layout": "IPY_MODEL_3380cd51224249cdbe9729196c5bd231",
       "max": 2869.0,
       "min": 0.0,
       "orientation": "horizontal",
       "style": "IPY_MODEL_704c8a802b164ac1aa307b8d7adcee2c",
       "value": 2869.0
      }
     },
     "0d14e480c40a41c8bbb91af957e38758": {
      "model_module": "@jupyter-widgets/base",
      "model_module_version": "1.2.0",
      "model_name": "LayoutModel",
      "state": {
       "_model_module": "@jupyter-widgets/base",
       "_model_module_version": "1.2.0",
       "_model_name": "LayoutModel",
       "_view_count": null,
       "_view_module": "@jupyter-widgets/base",
       "_view_module_version": "1.2.0",
       "_view_name": "LayoutView",
       "align_content": null,
       "align_items": null,
       "align_self": null,
       "border": null,
       "bottom": null,
       "display": null,
       "flex": null,
       "flex_flow": null,
       "grid_area": null,
       "grid_auto_columns": null,
       "grid_auto_flow": null,
       "grid_auto_rows": null,
       "grid_column": null,
       "grid_gap": null,
       "grid_row": null,
       "grid_template_areas": null,
       "grid_template_columns": null,
       "grid_template_rows": null,
       "height": null,
       "justify_content": null,
       "justify_items": null,
       "left": null,
       "margin": null,
       "max_height": null,
       "max_width": null,
       "min_height": null,
       "min_width": null,
       "object_fit": null,
       "object_position": null,
       "order": null,
       "overflow": null,
       "overflow_x": null,
       "overflow_y": null,
       "padding": null,
       "right": null,
       "top": null,
       "visibility": null,
       "width": null
      }
     },
     "0db87eb50a494aee9b25c13b6aeb6b09": {
      "model_module": "@jupyter-widgets/controls",
      "model_module_version": "1.5.0",
      "model_name": "ProgressStyleModel",
      "state": {
       "_model_module": "@jupyter-widgets/controls",
       "_model_module_version": "1.5.0",
       "_model_name": "ProgressStyleModel",
       "_view_count": null,
       "_view_module": "@jupyter-widgets/base",
       "_view_module_version": "1.2.0",
       "_view_name": "StyleView",
       "bar_color": null,
       "description_width": ""
      }
     },
     "3380cd51224249cdbe9729196c5bd231": {
      "model_module": "@jupyter-widgets/base",
      "model_module_version": "1.2.0",
      "model_name": "LayoutModel",
      "state": {
       "_model_module": "@jupyter-widgets/base",
       "_model_module_version": "1.2.0",
       "_model_name": "LayoutModel",
       "_view_count": null,
       "_view_module": "@jupyter-widgets/base",
       "_view_module_version": "1.2.0",
       "_view_name": "LayoutView",
       "align_content": null,
       "align_items": null,
       "align_self": null,
       "border": null,
       "bottom": null,
       "display": null,
       "flex": null,
       "flex_flow": null,
       "grid_area": null,
       "grid_auto_columns": null,
       "grid_auto_flow": null,
       "grid_auto_rows": null,
       "grid_column": null,
       "grid_gap": null,
       "grid_row": null,
       "grid_template_areas": null,
       "grid_template_columns": null,
       "grid_template_rows": null,
       "height": null,
       "justify_content": null,
       "justify_items": null,
       "left": null,
       "margin": null,
       "max_height": null,
       "max_width": null,
       "min_height": null,
       "min_width": null,
       "object_fit": null,
       "object_position": null,
       "order": null,
       "overflow": null,
       "overflow_x": null,
       "overflow_y": null,
       "padding": null,
       "right": null,
       "top": null,
       "visibility": null,
       "width": null
      }
     },
     "3453fc438dc2467193f090759297c748": {
      "model_module": "@jupyter-widgets/base",
      "model_module_version": "1.2.0",
      "model_name": "LayoutModel",
      "state": {
       "_model_module": "@jupyter-widgets/base",
       "_model_module_version": "1.2.0",
       "_model_name": "LayoutModel",
       "_view_count": null,
       "_view_module": "@jupyter-widgets/base",
       "_view_module_version": "1.2.0",
       "_view_name": "LayoutView",
       "align_content": null,
       "align_items": null,
       "align_self": null,
       "border": null,
       "bottom": null,
       "display": null,
       "flex": null,
       "flex_flow": null,
       "grid_area": null,
       "grid_auto_columns": null,
       "grid_auto_flow": null,
       "grid_auto_rows": null,
       "grid_column": null,
       "grid_gap": null,
       "grid_row": null,
       "grid_template_areas": null,
       "grid_template_columns": null,
       "grid_template_rows": null,
       "height": null,
       "justify_content": null,
       "justify_items": null,
       "left": null,
       "margin": null,
       "max_height": null,
       "max_width": null,
       "min_height": null,
       "min_width": null,
       "object_fit": null,
       "object_position": null,
       "order": null,
       "overflow": null,
       "overflow_x": null,
       "overflow_y": null,
       "padding": null,
       "right": null,
       "top": null,
       "visibility": null,
       "width": null
      }
     },
     "3e3f4b8e758240158cf4e500c321c186": {
      "model_module": "@jupyter-widgets/controls",
      "model_module_version": "1.5.0",
      "model_name": "DescriptionStyleModel",
      "state": {
       "_model_module": "@jupyter-widgets/controls",
       "_model_module_version": "1.5.0",
       "_model_name": "DescriptionStyleModel",
       "_view_count": null,
       "_view_module": "@jupyter-widgets/base",
       "_view_module_version": "1.2.0",
       "_view_name": "StyleView",
       "description_width": ""
      }
     },
     "430a937705f74f8d9a8704a6ac92b447": {
      "model_module": "@jupyter-widgets/controls",
      "model_module_version": "1.5.0",
      "model_name": "DescriptionStyleModel",
      "state": {
       "_model_module": "@jupyter-widgets/controls",
       "_model_module_version": "1.5.0",
       "_model_name": "DescriptionStyleModel",
       "_view_count": null,
       "_view_module": "@jupyter-widgets/base",
       "_view_module_version": "1.2.0",
       "_view_name": "StyleView",
       "description_width": ""
      }
     },
     "563221eefeca4be3b55deb972b118cbb": {
      "model_module": "@jupyter-widgets/base",
      "model_module_version": "1.2.0",
      "model_name": "LayoutModel",
      "state": {
       "_model_module": "@jupyter-widgets/base",
       "_model_module_version": "1.2.0",
       "_model_name": "LayoutModel",
       "_view_count": null,
       "_view_module": "@jupyter-widgets/base",
       "_view_module_version": "1.2.0",
       "_view_name": "LayoutView",
       "align_content": null,
       "align_items": null,
       "align_self": null,
       "border": null,
       "bottom": null,
       "display": null,
       "flex": null,
       "flex_flow": null,
       "grid_area": null,
       "grid_auto_columns": null,
       "grid_auto_flow": null,
       "grid_auto_rows": null,
       "grid_column": null,
       "grid_gap": null,
       "grid_row": null,
       "grid_template_areas": null,
       "grid_template_columns": null,
       "grid_template_rows": null,
       "height": null,
       "justify_content": null,
       "justify_items": null,
       "left": null,
       "margin": null,
       "max_height": null,
       "max_width": null,
       "min_height": null,
       "min_width": null,
       "object_fit": null,
       "object_position": null,
       "order": null,
       "overflow": null,
       "overflow_x": null,
       "overflow_y": null,
       "padding": null,
       "right": null,
       "top": null,
       "visibility": null,
       "width": null
      }
     },
     "66d81b4065c641bdbae922bfee2c3943": {
      "model_module": "@jupyter-widgets/controls",
      "model_module_version": "1.5.0",
      "model_name": "HTMLModel",
      "state": {
       "_dom_classes": [],
       "_model_module": "@jupyter-widgets/controls",
       "_model_module_version": "1.5.0",
       "_model_name": "HTMLModel",
       "_view_count": null,
       "_view_module": "@jupyter-widgets/controls",
       "_view_module_version": "1.5.0",
       "_view_name": "HTMLView",
       "description": "",
       "description_tooltip": null,
       "layout": "IPY_MODEL_b5e8b74ea1244146b2bbf58c5a4141f5",
       "placeholder": "​",
       "style": "IPY_MODEL_6fda5516b93f41ccb7aba61c776ebee2",
       "value": "100%"
      }
     },
     "6e1e5e1412ab47c58944740e4df498a1": {
      "model_module": "@jupyter-widgets/controls",
      "model_module_version": "1.5.0",
      "model_name": "FloatProgressModel",
      "state": {
       "_dom_classes": [],
       "_model_module": "@jupyter-widgets/controls",
       "_model_module_version": "1.5.0",
       "_model_name": "FloatProgressModel",
       "_view_count": null,
       "_view_module": "@jupyter-widgets/controls",
       "_view_module_version": "1.5.0",
       "_view_name": "ProgressView",
       "bar_style": "success",
       "description": "",
       "description_tooltip": null,
       "layout": "IPY_MODEL_563221eefeca4be3b55deb972b118cbb",
       "max": 2483.0,
       "min": 0.0,
       "orientation": "horizontal",
       "style": "IPY_MODEL_0db87eb50a494aee9b25c13b6aeb6b09",
       "value": 2483.0
      }
     },
     "6fda5516b93f41ccb7aba61c776ebee2": {
      "model_module": "@jupyter-widgets/controls",
      "model_module_version": "1.5.0",
      "model_name": "DescriptionStyleModel",
      "state": {
       "_model_module": "@jupyter-widgets/controls",
       "_model_module_version": "1.5.0",
       "_model_name": "DescriptionStyleModel",
       "_view_count": null,
       "_view_module": "@jupyter-widgets/base",
       "_view_module_version": "1.2.0",
       "_view_name": "StyleView",
       "description_width": ""
      }
     },
     "704c8a802b164ac1aa307b8d7adcee2c": {
      "model_module": "@jupyter-widgets/controls",
      "model_module_version": "1.5.0",
      "model_name": "ProgressStyleModel",
      "state": {
       "_model_module": "@jupyter-widgets/controls",
       "_model_module_version": "1.5.0",
       "_model_name": "ProgressStyleModel",
       "_view_count": null,
       "_view_module": "@jupyter-widgets/base",
       "_view_module_version": "1.2.0",
       "_view_name": "StyleView",
       "bar_color": null,
       "description_width": ""
      }
     },
     "7ce3233e6edc407f96d51c39b2e7d900": {
      "model_module": "@jupyter-widgets/controls",
      "model_module_version": "1.5.0",
      "model_name": "HTMLModel",
      "state": {
       "_dom_classes": [],
       "_model_module": "@jupyter-widgets/controls",
       "_model_module_version": "1.5.0",
       "_model_name": "HTMLModel",
       "_view_count": null,
       "_view_module": "@jupyter-widgets/controls",
       "_view_module_version": "1.5.0",
       "_view_name": "HTMLView",
       "description": "",
       "description_tooltip": null,
       "layout": "IPY_MODEL_3453fc438dc2467193f090759297c748",
       "placeholder": "​",
       "style": "IPY_MODEL_3e3f4b8e758240158cf4e500c321c186",
       "value": "100%"
      }
     },
     "88fe34ee164946188f3d984ab8645ee9": {
      "model_module": "@jupyter-widgets/controls",
      "model_module_version": "1.5.0",
      "model_name": "HTMLModel",
      "state": {
       "_dom_classes": [],
       "_model_module": "@jupyter-widgets/controls",
       "_model_module_version": "1.5.0",
       "_model_name": "HTMLModel",
       "_view_count": null,
       "_view_module": "@jupyter-widgets/controls",
       "_view_module_version": "1.5.0",
       "_view_name": "HTMLView",
       "description": "",
       "description_tooltip": null,
       "layout": "IPY_MODEL_a5d617d36dd8464a9a9152407dbc24d1",
       "placeholder": "​",
       "style": "IPY_MODEL_d5bb2cbce47647589e3e06ffe443aa13",
       "value": " 2483/2483 [00:00&lt;00:00, 90399.35it/s]"
      }
     },
     "8e6fd7f003e4422f8a388da77cdc4392": {
      "model_module": "@jupyter-widgets/controls",
      "model_module_version": "1.5.0",
      "model_name": "HTMLModel",
      "state": {
       "_dom_classes": [],
       "_model_module": "@jupyter-widgets/controls",
       "_model_module_version": "1.5.0",
       "_model_name": "HTMLModel",
       "_view_count": null,
       "_view_module": "@jupyter-widgets/controls",
       "_view_module_version": "1.5.0",
       "_view_name": "HTMLView",
       "description": "",
       "description_tooltip": null,
       "layout": "IPY_MODEL_9b45f990e0ae49c5ad4b6d464fc7b1a8",
       "placeholder": "​",
       "style": "IPY_MODEL_430a937705f74f8d9a8704a6ac92b447",
       "value": " 2869/2869 [00:40&lt;00:00, 95.81it/s]"
      }
     },
     "9b45f990e0ae49c5ad4b6d464fc7b1a8": {
      "model_module": "@jupyter-widgets/base",
      "model_module_version": "1.2.0",
      "model_name": "LayoutModel",
      "state": {
       "_model_module": "@jupyter-widgets/base",
       "_model_module_version": "1.2.0",
       "_model_name": "LayoutModel",
       "_view_count": null,
       "_view_module": "@jupyter-widgets/base",
       "_view_module_version": "1.2.0",
       "_view_name": "LayoutView",
       "align_content": null,
       "align_items": null,
       "align_self": null,
       "border": null,
       "bottom": null,
       "display": null,
       "flex": null,
       "flex_flow": null,
       "grid_area": null,
       "grid_auto_columns": null,
       "grid_auto_flow": null,
       "grid_auto_rows": null,
       "grid_column": null,
       "grid_gap": null,
       "grid_row": null,
       "grid_template_areas": null,
       "grid_template_columns": null,
       "grid_template_rows": null,
       "height": null,
       "justify_content": null,
       "justify_items": null,
       "left": null,
       "margin": null,
       "max_height": null,
       "max_width": null,
       "min_height": null,
       "min_width": null,
       "object_fit": null,
       "object_position": null,
       "order": null,
       "overflow": null,
       "overflow_x": null,
       "overflow_y": null,
       "padding": null,
       "right": null,
       "top": null,
       "visibility": null,
       "width": null
      }
     },
     "a5d617d36dd8464a9a9152407dbc24d1": {
      "model_module": "@jupyter-widgets/base",
      "model_module_version": "1.2.0",
      "model_name": "LayoutModel",
      "state": {
       "_model_module": "@jupyter-widgets/base",
       "_model_module_version": "1.2.0",
       "_model_name": "LayoutModel",
       "_view_count": null,
       "_view_module": "@jupyter-widgets/base",
       "_view_module_version": "1.2.0",
       "_view_name": "LayoutView",
       "align_content": null,
       "align_items": null,
       "align_self": null,
       "border": null,
       "bottom": null,
       "display": null,
       "flex": null,
       "flex_flow": null,
       "grid_area": null,
       "grid_auto_columns": null,
       "grid_auto_flow": null,
       "grid_auto_rows": null,
       "grid_column": null,
       "grid_gap": null,
       "grid_row": null,
       "grid_template_areas": null,
       "grid_template_columns": null,
       "grid_template_rows": null,
       "height": null,
       "justify_content": null,
       "justify_items": null,
       "left": null,
       "margin": null,
       "max_height": null,
       "max_width": null,
       "min_height": null,
       "min_width": null,
       "object_fit": null,
       "object_position": null,
       "order": null,
       "overflow": null,
       "overflow_x": null,
       "overflow_y": null,
       "padding": null,
       "right": null,
       "top": null,
       "visibility": null,
       "width": null
      }
     },
     "b5e8b74ea1244146b2bbf58c5a4141f5": {
      "model_module": "@jupyter-widgets/base",
      "model_module_version": "1.2.0",
      "model_name": "LayoutModel",
      "state": {
       "_model_module": "@jupyter-widgets/base",
       "_model_module_version": "1.2.0",
       "_model_name": "LayoutModel",
       "_view_count": null,
       "_view_module": "@jupyter-widgets/base",
       "_view_module_version": "1.2.0",
       "_view_name": "LayoutView",
       "align_content": null,
       "align_items": null,
       "align_self": null,
       "border": null,
       "bottom": null,
       "display": null,
       "flex": null,
       "flex_flow": null,
       "grid_area": null,
       "grid_auto_columns": null,
       "grid_auto_flow": null,
       "grid_auto_rows": null,
       "grid_column": null,
       "grid_gap": null,
       "grid_row": null,
       "grid_template_areas": null,
       "grid_template_columns": null,
       "grid_template_rows": null,
       "height": null,
       "justify_content": null,
       "justify_items": null,
       "left": null,
       "margin": null,
       "max_height": null,
       "max_width": null,
       "min_height": null,
       "min_width": null,
       "object_fit": null,
       "object_position": null,
       "order": null,
       "overflow": null,
       "overflow_x": null,
       "overflow_y": null,
       "padding": null,
       "right": null,
       "top": null,
       "visibility": null,
       "width": null
      }
     },
     "b73fcfe15e7b4f9fbcc185f91daca76d": {
      "model_module": "@jupyter-widgets/base",
      "model_module_version": "1.2.0",
      "model_name": "LayoutModel",
      "state": {
       "_model_module": "@jupyter-widgets/base",
       "_model_module_version": "1.2.0",
       "_model_name": "LayoutModel",
       "_view_count": null,
       "_view_module": "@jupyter-widgets/base",
       "_view_module_version": "1.2.0",
       "_view_name": "LayoutView",
       "align_content": null,
       "align_items": null,
       "align_self": null,
       "border": null,
       "bottom": null,
       "display": null,
       "flex": null,
       "flex_flow": null,
       "grid_area": null,
       "grid_auto_columns": null,
       "grid_auto_flow": null,
       "grid_auto_rows": null,
       "grid_column": null,
       "grid_gap": null,
       "grid_row": null,
       "grid_template_areas": null,
       "grid_template_columns": null,
       "grid_template_rows": null,
       "height": null,
       "justify_content": null,
       "justify_items": null,
       "left": null,
       "margin": null,
       "max_height": null,
       "max_width": null,
       "min_height": null,
       "min_width": null,
       "object_fit": null,
       "object_position": null,
       "order": null,
       "overflow": null,
       "overflow_x": null,
       "overflow_y": null,
       "padding": null,
       "right": null,
       "top": null,
       "visibility": null,
       "width": null
      }
     },
     "bcad3b1d98274b4ab2ae4102351813a7": {
      "model_module": "@jupyter-widgets/controls",
      "model_module_version": "1.5.0",
      "model_name": "HBoxModel",
      "state": {
       "_dom_classes": [],
       "_model_module": "@jupyter-widgets/controls",
       "_model_module_version": "1.5.0",
       "_model_name": "HBoxModel",
       "_view_count": null,
       "_view_module": "@jupyter-widgets/controls",
       "_view_module_version": "1.5.0",
       "_view_name": "HBoxView",
       "box_style": "",
       "children": [
        "IPY_MODEL_7ce3233e6edc407f96d51c39b2e7d900",
        "IPY_MODEL_0aeb333004b1490d803cdb6311882487",
        "IPY_MODEL_8e6fd7f003e4422f8a388da77cdc4392"
       ],
       "layout": "IPY_MODEL_0d14e480c40a41c8bbb91af957e38758"
      }
     },
     "c9581c76b5cc414a943939130b157b50": {
      "model_module": "@jupyter-widgets/controls",
      "model_module_version": "1.5.0",
      "model_name": "HBoxModel",
      "state": {
       "_dom_classes": [],
       "_model_module": "@jupyter-widgets/controls",
       "_model_module_version": "1.5.0",
       "_model_name": "HBoxModel",
       "_view_count": null,
       "_view_module": "@jupyter-widgets/controls",
       "_view_module_version": "1.5.0",
       "_view_name": "HBoxView",
       "box_style": "",
       "children": [
        "IPY_MODEL_66d81b4065c641bdbae922bfee2c3943",
        "IPY_MODEL_6e1e5e1412ab47c58944740e4df498a1",
        "IPY_MODEL_88fe34ee164946188f3d984ab8645ee9"
       ],
       "layout": "IPY_MODEL_b73fcfe15e7b4f9fbcc185f91daca76d"
      }
     },
     "d5bb2cbce47647589e3e06ffe443aa13": {
      "model_module": "@jupyter-widgets/controls",
      "model_module_version": "1.5.0",
      "model_name": "DescriptionStyleModel",
      "state": {
       "_model_module": "@jupyter-widgets/controls",
       "_model_module_version": "1.5.0",
       "_model_name": "DescriptionStyleModel",
       "_view_count": null,
       "_view_module": "@jupyter-widgets/base",
       "_view_module_version": "1.2.0",
       "_view_name": "StyleView",
       "description_width": ""
      }
     }
    },
    "version_major": 2,
    "version_minor": 0
   }
  }
 },
 "nbformat": 4,
 "nbformat_minor": 5
}
