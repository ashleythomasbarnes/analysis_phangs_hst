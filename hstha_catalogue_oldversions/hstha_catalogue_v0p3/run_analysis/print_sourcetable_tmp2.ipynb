{
 "cells": [
  {
   "cell_type": "code",
   "execution_count": 8,
   "metadata": {},
   "outputs": [],
   "source": [
    "from astropy.table import Table, vstack\n",
    "import numpy as np\n",
    "import matplotlib.pyplot as plt\n",
    "import astropy.units as au\n",
    "import glob"
   ]
  },
  {
   "cell_type": "code",
   "execution_count": 9,
   "metadata": {},
   "outputs": [
    {
     "name": "stdout",
     "output_type": "stream",
     "text": [
      "/Users/abarnes/Dropbox/work/Smallprojects/galaxies/data_misc/sample_table/phangs_sample_table_v1p5.fits\n"
     ]
    }
   ],
   "source": [
    "# Define names and filenames...\n",
    "root_dir = '/Users/abarnes/Dropbox/work/Smallprojects/galaxies'\n",
    "\n",
    "sample_table_file = '%s/data_misc/sample_table/phangs_sample_table_v1p5.fits' %root_dir\n",
    "\n",
    "print(sample_table_file)\n",
    "\n",
    "sample_table = Table.read(sample_table_file)"
   ]
  },
  {
   "cell_type": "code",
   "execution_count": 10,
   "metadata": {},
   "outputs": [],
   "source": [
    "sample_table_ = []\n",
    "gals = ['NGC3627', 'NGC4321', 'NGC6946']\n",
    "\n",
    "for i, gal in enumerate(gals):\n",
    "    mask = sample_table['name'] == gal.lower()\n",
    "    sample_table_ += sample_table[mask]\n",
    "    \n",
    "sample_table = vstack(sample_table_)"
   ]
  },
  {
   "cell_type": "code",
   "execution_count": 11,
   "metadata": {},
   "outputs": [],
   "source": [
    "# mass_co = (sample_table['lco_phangs'].quantity * sample_table['appcor_phangs'].quantity * sample_table['aco10_phangs'].quantity) / 0.65\n",
    "# sample_table['props_mmol'] = mass_co"
   ]
  },
  {
   "cell_type": "code",
   "execution_count": 12,
   "metadata": {},
   "outputs": [
    {
     "data": {
      "text/html": [
       "<div><i>Table length=3</i>\n",
       "<table id=\"table140272568151680\" class=\"table-striped table-bordered table-condensed\">\n",
       "<thead><tr><th>name</th><th>pgc</th><th>alias</th><th>survey_astrosat_status</th><th>survey_astrosat_instrument</th><th>survey_astrosat_notes</th><th>survey_astrosat_references</th><th>survey_galex_status</th><th>survey_galex_instrument</th><th>survey_galex_notes</th><th>survey_galex_references</th><th>survey_halpha_status</th><th>survey_halpha_instrument</th><th>survey_halpha_notes</th><th>survey_halpha_references</th><th>survey_muse_status</th><th>survey_muse_instrument</th><th>survey_muse_notes</th><th>survey_muse_references</th><th>survey_kcwi_status</th><th>survey_kcwi_instrument</th><th>survey_kcwi_notes</th><th>survey_kcwi_references</th><th>survey_sitelle_status</th><th>survey_sitelle_instrument</th><th>survey_sitelle_notes</th><th>survey_sitelle_references</th><th>survey_typhoon_status</th><th>survey_typhoon_instrument</th><th>survey_typhoon_notes</th><th>survey_typhoon_references</th><th>survey_hst_status</th><th>survey_hst_instrument</th><th>survey_hst_notes</th><th>survey_hst_references</th><th>survey_irac_status</th><th>survey_irac_instrument</th><th>survey_irac_notes</th><th>survey_irac_references</th><th>survey_mips_status</th><th>survey_mips_instrument</th><th>survey_mips_notes</th><th>survey_mips_references</th><th>survey_wise_status</th><th>survey_wise_instrument</th><th>survey_wise_notes</th><th>survey_wise_references</th><th>survey_herschel_status</th><th>survey_herschel_instrument</th><th>survey_herschel_notes</th><th>survey_herschel_references</th><th>survey_alma_status</th><th>survey_alma_instrument</th><th>survey_alma_notes</th><th>survey_alma_references</th><th>survey_otherco_status</th><th>survey_otherco_instrument</th><th>survey_otherco_notes</th><th>survey_otherco_references</th><th>survey_hiresco_status</th><th>survey_hiresco_instrument</th><th>survey_hiresco_notes</th><th>survey_hiresco_references</th><th>survey_multijco_status</th><th>survey_multijco_instrument</th><th>survey_multijco_notes</th><th>survey_multijco_references</th><th>survey_dense_status</th><th>survey_dense_instrument</th><th>survey_dense_notes</th><th>survey_dense_references</th><th>survey_hi_status</th><th>survey_hi_instrument</th><th>survey_hi_notes</th><th>survey_hi_references</th><th>orient_ra</th><th>orient_ra_unc</th><th>orient_dec</th><th>orient_dec_unc</th><th>orient_pos_ref</th><th>orient_vlsr</th><th>orient_vlsr_unc</th><th>orient_vlsr_ref</th><th>orient_incl</th><th>orient_incl_unc</th><th>orient_posang</th><th>orient_posang_unc</th><th>orient_ref</th><th>rotcur_v0</th><th>rotcur_v0_unc</th><th>rotcur_rt</th><th>rotcur_rt_unc</th><th>rotcur_ref</th><th>dist</th><th>dist_unc</th><th>dist_label</th><th>dist_ref</th><th>size_r25</th><th>size_r25_ref</th><th>size_reff</th><th>size_reff_unc</th><th>size_reff_ref</th><th>size_r90</th><th>size_r90_unc</th><th>size_r90_ref</th><th>mwext_sfd98</th><th>mwext_sfd98_unc</th><th>mwext_sf11</th><th>mwext_sf11_unc</th><th>props_mtol</th><th>props_mtol_method</th><th>props_mstar</th><th>props_mstar_unc</th><th>props_sfr</th><th>props_sfr_unc</th><th>props_sfr_method</th><th>props_deltams</th><th>props_mhi</th><th>props_mhi_unc</th><th>morph_t</th><th>morph_t_unc</th><th>morph_string</th><th>morph_bar</th><th>morph_buta15</th><th>morph_class</th><th>morph_gold</th><th>morph_bar_flag</th><th>morph_bar_axis_ratio</th><th>morph_bar_pa</th><th>morph_bar_r</th><th>morph_bar_red</th><th>morph_bar_q_flag</th><th>morph_nuclear_bar_axis_ratio</th><th>morph_nuclear_bar_pa</th><th>morph_nuclear_bar_r</th><th>morph_spiral_arms</th><th>morph_multi_arm</th><th>morph_featureless</th><th>morph_disk_1_axis_ratio</th><th>morph_disk_1_pa</th><th>morph_disk_1_r</th><th>morph_disk_2_axis_ratio</th><th>morph_disk_2_pa</th><th>morph_disk_2_r</th><th>morph_bulge_axis_ratio</th><th>morph_bulge_pa</th><th>morph_bulge_r</th><th>morph_rings_outer</th><th>morph_ring_inner</th><th>morph_lens_1_axis_ratio</th><th>morph_lens_1_pa</th><th>morph_lens_1_r</th><th>morph_lens_2_axis_ratio</th><th>morph_lens_2_pa</th><th>morph_lens_2_r</th><th>morph_ring_1_axis_ratio</th><th>morph_ring_1_pa</th><th>morph_ring_1_r</th><th>morph_ring_2_axis_ratio</th><th>morph_ring_2_pa</th><th>morph_ring_2_r</th><th>morph_vcc</th><th>morph_interacting</th><th>morph_in_virgo_fornax</th><th>morph_high_peculiar</th><th>morph_comments</th></tr></thead>\n",
       "<thead><tr><th></th><th></th><th></th><th></th><th></th><th></th><th></th><th></th><th></th><th></th><th></th><th></th><th></th><th></th><th></th><th></th><th></th><th></th><th></th><th></th><th></th><th></th><th></th><th></th><th></th><th></th><th></th><th></th><th></th><th></th><th></th><th></th><th></th><th></th><th></th><th></th><th></th><th></th><th></th><th></th><th></th><th></th><th></th><th></th><th></th><th></th><th></th><th></th><th></th><th></th><th></th><th></th><th></th><th></th><th></th><th></th><th></th><th></th><th></th><th></th><th></th><th></th><th></th><th></th><th></th><th></th><th></th><th></th><th></th><th></th><th></th><th></th><th></th><th></th><th></th><th>deg</th><th>arcsec</th><th>deg</th><th>arcsec</th><th></th><th>km / s</th><th>km / s</th><th></th><th>deg</th><th>deg</th><th>deg</th><th>deg</th><th></th><th>km / s</th><th>km / s</th><th>kpc</th><th>kpc</th><th></th><th>Mpc</th><th></th><th></th><th></th><th>arcsec</th><th></th><th>arcsec</th><th>arcsec</th><th></th><th>arcsec</th><th>arcsec</th><th></th><th>mag</th><th>mag</th><th>mag</th><th>mag</th><th>solMass / solLum</th><th></th><th>solMass</th><th></th><th>solMass / yr</th><th></th><th></th><th></th><th>solMass</th><th></th><th></th><th></th><th></th><th></th><th></th><th></th><th></th><th></th><th></th><th>deg</th><th>arcsec</th><th></th><th></th><th></th><th>deg</th><th>arcsec</th><th></th><th></th><th></th><th></th><th>deg</th><th>arcsec</th><th></th><th>deg</th><th>arcsec</th><th></th><th>deg</th><th>arcsec</th><th></th><th></th><th></th><th>deg</th><th>arcsec</th><th></th><th>deg</th><th>arcsec</th><th></th><th>deg</th><th>arcsec</th><th></th><th>deg</th><th>arcsec</th><th></th><th></th><th></th><th></th><th></th></tr></thead>\n",
       "<thead><tr><th>bytes100</th><th>int64</th><th>bytes1000</th><th>bytes100</th><th>bytes100</th><th>bytes1000</th><th>bytes100</th><th>bytes100</th><th>bytes100</th><th>bytes1000</th><th>bytes100</th><th>bytes100</th><th>bytes100</th><th>bytes1000</th><th>bytes100</th><th>bytes100</th><th>bytes100</th><th>bytes1000</th><th>bytes100</th><th>bytes100</th><th>bytes100</th><th>bytes1000</th><th>bytes100</th><th>bytes100</th><th>bytes100</th><th>bytes1000</th><th>bytes100</th><th>bytes100</th><th>bytes100</th><th>bytes1000</th><th>bytes100</th><th>bytes100</th><th>bytes100</th><th>bytes1000</th><th>bytes100</th><th>bytes100</th><th>bytes100</th><th>bytes1000</th><th>bytes100</th><th>bytes100</th><th>bytes100</th><th>bytes1000</th><th>bytes100</th><th>bytes100</th><th>bytes100</th><th>bytes1000</th><th>bytes100</th><th>bytes100</th><th>bytes100</th><th>bytes1000</th><th>bytes100</th><th>bytes100</th><th>bytes100</th><th>bytes1000</th><th>bytes100</th><th>bytes100</th><th>bytes100</th><th>bytes1000</th><th>bytes100</th><th>bytes100</th><th>bytes100</th><th>bytes1000</th><th>bytes100</th><th>bytes100</th><th>bytes100</th><th>bytes1000</th><th>bytes100</th><th>bytes100</th><th>bytes100</th><th>bytes1000</th><th>bytes100</th><th>bytes100</th><th>bytes100</th><th>bytes1000</th><th>bytes100</th><th>float32</th><th>float32</th><th>float32</th><th>float32</th><th>bytes100</th><th>float32</th><th>float32</th><th>bytes100</th><th>float32</th><th>float32</th><th>float32</th><th>float32</th><th>bytes100</th><th>float32</th><th>float32</th><th>float32</th><th>float32</th><th>bytes100</th><th>float32</th><th>float32</th><th>bytes100</th><th>bytes100</th><th>float32</th><th>bytes100</th><th>float32</th><th>float32</th><th>bytes100</th><th>float32</th><th>float32</th><th>bytes100</th><th>float64</th><th>float64</th><th>float64</th><th>float64</th><th>float64</th><th>bytes100</th><th>float64</th><th>float64</th><th>float64</th><th>float64</th><th>bytes100</th><th>float64</th><th>float64</th><th>float64</th><th>float64</th><th>float64</th><th>bytes100</th><th>bytes100</th><th>bytes100</th><th>bytes100</th><th>float64</th><th>float64</th><th>float64</th><th>float64</th><th>float64</th><th>float64</th><th>float64</th><th>float64</th><th>float64</th><th>float64</th><th>float64</th><th>float64</th><th>float64</th><th>float64</th><th>float64</th><th>float64</th><th>float64</th><th>float64</th><th>float64</th><th>float64</th><th>float64</th><th>float64</th><th>float64</th><th>float64</th><th>float64</th><th>float64</th><th>float64</th><th>float64</th><th>float64</th><th>float64</th><th>float64</th><th>float64</th><th>float64</th><th>float64</th><th>float64</th><th>float64</th><th>float64</th><th>float64</th><th>float64</th><th>float64</th><th>bytes100</th></tr></thead>\n",
       "<tr><td>ngc3627</td><td>34695</td><td>2masxj11201502+1259286;adbsj112020+1259;agc006346;ark288;arp016;arp317:;cgcg067-057;hipassj1120+13a;iras11176+1315;lgg231:[g93]003;m066;m66;mcg+02-29-019;messier066;messier66;mrc1117+132;ngc3627;pgc034695;pgc34695;sdssj112014.98+125929.4;ugc06346;ugc6346;uzc111736+13160;vv308:</td><td>not_in_survey</td><td></td><td></td><td></td><td>released</td><td>NUV;FUV</td><td></td><td>2019ApJS..244...24L</td><td>released</td><td>WFI</td><td></td><td></td><td>released</td><td></td><td></td><td></td><td>observed_not_released</td><td></td><td></td><td></td><td>observed_not_released</td><td>SIGNALS</td><td></td><td></td><td>not_in_survey</td><td></td><td></td><td></td><td>observed_not_released</td><td></td><td></td><td></td><td>released</td><td></td><td></td><td></td><td>not_in_survey</td><td></td><td></td><td></td><td>released</td><td>W1;W2;W3;W4</td><td></td><td>2019ApJS..244...24L;2014AJ....147..108L</td><td>released</td><td></td><td></td><td></td><td>released</td><td>12m;7m;tp</td><td></td><td>LeroyEtAlInPrep</td><td>not_in_survey</td><td></td><td></td><td></td><td>not_in_survey</td><td></td><td></td><td></td><td>observed_not_released</td><td></td><td></td><td></td><td>released</td><td>30m - ALMA7m</td><td>EMPIRE. Observed at 1mm with ACA but not released yet.</td><td>2019ApJ...880..127J</td><td>released</td><td>VLA</td><td>THINGS</td><td>2008AJ....136.2563W</td><td>170.06252</td><td>1.0</td><td>12.9915</td><td>1.0</td><td>2015ApJS..219....4S</td><td>715.35803</td><td>5.0</td><td>LANGMEIDT19</td><td>57.3</td><td>1.0</td><td>173.1</td><td>3.6</td><td>LANGMEIDT19</td><td>205.7</td><td>6.8</td><td>0.48</td><td>0.12</td><td>LANGMEIDT19</td><td>11.32</td><td>0.018</td><td>TRGB</td><td>2009AJ....138..332J</td><td>308.40494</td><td>LEDA</td><td>64.45497</td><td>--</td><td>FIT_TO_MAJORAXIS</td><td>179.24435</td><td>--</td><td>FIT_TO_MAJORAXIS</td><td>0.0334</td><td>0.0014</td><td>0.0287</td><td>0.0012</td><td>0.35643792152404785</td><td>SSFRLIKE</td><td>54006132878.81277</td><td>0.10000944882631302</td><td>3.6584029289296365</td><td>0.20000045001506805</td><td>FUV+WISE4</td><td>0.1898791028471205</td><td>1079100279.9885387</td><td>--</td><td>3.0999999046325684</td><td>0.4000000059604645</td><td>Sb</td><td>BAR</td><td>SB_x_(s)b_pec</td><td>G</td><td>1.0</td><td>1.0</td><td>4.167</td><td>160.0</td><td>66.4</td><td>1.0</td><td>1.0</td><td>--</td><td>--</td><td>--</td><td>1.0</td><td>0.0</td><td>0.0</td><td>1.712</td><td>166.2</td><td>90.293</td><td>--</td><td>--</td><td>--</td><td>1.712</td><td>170.9</td><td>4.7</td><td>0.0</td><td>0.0</td><td>--</td><td>--</td><td>--</td><td>--</td><td>--</td><td>--</td><td>--</td><td>--</td><td>--</td><td>--</td><td>--</td><td>--</td><td>0.0</td><td>1.0</td><td>0.0</td><td>0.0</td><td>part of Leo triplet</td></tr>\n",
       "<tr><td>ngc4321</td><td>40153</td><td>2masxj12225489+1549205;agc007450;alfalfa1-289;cgcg099-030;evcc0467;hipassj1222+15;iras12203+1606;iras12204+1605;kug1220+160;lgg289:[g93]057;m100;mcg+03-32-015;messier100;ngc4321;nibles1641;pgc040153;pgc40153;sdssj122254.91+154920.2;ugc07450;ugc7450;uzc122024+16060;vcc0596;[th2002]006</td><td>not_in_survey</td><td></td><td></td><td></td><td>released</td><td>NUV;FUV</td><td></td><td>2019ApJS..244...24L</td><td>released</td><td>WFI</td><td></td><td></td><td>awarded_not_observed</td><td></td><td></td><td></td><td>not_in_survey</td><td></td><td></td><td></td><td>awarded_not_observed</td><td>PHANGS</td><td>[OII] only</td><td></td><td>not_in_survey</td><td></td><td></td><td></td><td>awarded_not_observed</td><td></td><td></td><td></td><td>released</td><td></td><td></td><td></td><td>not_in_survey</td><td></td><td></td><td></td><td>released</td><td>W1;W2;W3;W4</td><td></td><td>2019ApJS..244...24L;2014AJ....147..108L</td><td>released</td><td></td><td></td><td></td><td>released</td><td>12m;7m;tp</td><td></td><td>LeroyEtAlInPrep</td><td>not_in_survey</td><td></td><td></td><td></td><td>awarded_not_observed</td><td>ALMA Band 6 0.25&quot; center</td><td>2019.1.00876.S (PI E. Schinnerer)</td><td></td><td>not_in_survey</td><td></td><td></td><td></td><td>released</td><td>30m - ALMA12m+TP - ALMA7m</td><td>EMPIRE and ALMA beta. Observed at 1mm with ACA but not released yet.</td><td>2019ApJ...880..127J</td><td>released</td><td>VLA</td><td>VLA-HERACLES</td><td>2009AJ....137.4670L</td><td>185.72887</td><td>1.0</td><td>15.822304</td><td>1.0</td><td>2015ApJS..219....4S</td><td>1572.3125</td><td>5.0</td><td>LANGMEIDT19</td><td>38.5</td><td>2.4</td><td>156.2</td><td>1.7</td><td>LANGMEIDT19</td><td>178.7</td><td>14.0</td><td>0.44</td><td>0.09</td><td>LANGMEIDT19</td><td>15.21</td><td>0.014</td><td>Cepheid</td><td>2001ApJ...553...47F</td><td>182.86105</td><td>LEDA</td><td>73.863754</td><td>--</td><td>FIT_TO_MAJORAXIS</td><td>172.41925</td><td>--</td><td>FIT_TO_MAJORAXIS</td><td>0.0265</td><td>0.0003</td><td>0.0228</td><td>0.0003</td><td>0.3560020625591278</td><td>SSFRLIKE</td><td>51151964681.78748</td><td>0.10056576877832413</td><td>3.4785976726475867</td><td>0.2000010758638382</td><td>FUV+WISE4</td><td>0.18355507147430394</td><td>2702708041.4385495</td><td>--</td><td>4.0</td><td>0.30000001192092896</td><td>SABb</td><td>BAR</td><td>SAB(rs_nr_nb)bc</td><td>G</td><td>1.0</td><td>1.0</td><td>2.5</td><td>115.0</td><td>7.9</td><td>1.0</td><td>1.0</td><td>2.5</td><td>115.0</td><td>7.9</td><td>1.0</td><td>0.0</td><td>0.0</td><td>1.215</td><td>158.2</td><td>102.165</td><td>--</td><td>--</td><td>--</td><td>1.258</td><td>127.7</td><td>7.2</td><td>0.0</td><td>1.0</td><td>--</td><td>--</td><td>--</td><td>--</td><td>--</td><td>--</td><td>1.429</td><td>109.0</td><td>8.4</td><td>--</td><td>--</td><td>--</td><td>0.0</td><td>0.5</td><td>1.0</td><td>0.0</td><td>several nearby companions, in Virgo,</td></tr>\n",
       "<tr><td>ngc6946</td><td>65001</td><td>2masxj20345233+6009132;arp029;cgcg304-006;iras20338+5958;mcg+10-29-006;ngc6946;pgc065001;pgc65001;ugc11597;uzc203348+59590</td><td>not_in_survey</td><td></td><td></td><td></td><td>released</td><td>NUV;FUV</td><td></td><td>2019ApJS..244...24L</td><td>not_in_survey</td><td></td><td></td><td></td><td>not_in_survey</td><td></td><td></td><td></td><td>not_in_survey</td><td></td><td></td><td></td><td>observed_not_released</td><td>SIGNALS</td><td></td><td></td><td>not_in_survey</td><td></td><td></td><td></td><td>not_in_survey</td><td></td><td></td><td></td><td>released</td><td></td><td></td><td></td><td>not_in_survey</td><td></td><td></td><td></td><td>released</td><td>W1;W2;W3;W4</td><td></td><td>2019ApJS..244...24L;2014AJ....147..108L</td><td>released</td><td></td><td></td><td></td><td>cannot_be_observed</td><td></td><td></td><td></td><td>observed_not_released</td><td>CARMA CO(1-0)</td><td>CANON</td><td>2013ApJ...772..107D</td><td>not_in_survey</td><td></td><td></td><td></td><td>not_in_survey</td><td></td><td></td><td></td><td>released</td><td>30m</td><td>EMPIRE</td><td>2019ApJ...880..127J</td><td>released</td><td>VLA</td><td>THINGS</td><td>2008AJ....136.2563W</td><td>308.71918</td><td>1.0</td><td>60.153515</td><td>1.0</td><td>LEDA</td><td>61.289387</td><td>2.2</td><td>LEDA</td><td>33.0</td><td>5.0</td><td>243.0</td><td>10.0</td><td>2008AJ....136.2648D</td><td>--</td><td>--</td><td>--</td><td>--</td><td></td><td>7.34</td><td>0.038</td><td>TRGB</td><td>2009AJ....138..332J</td><td>342.07486</td><td>LEDA</td><td>127.74216</td><td>--</td><td>FIT_TO_MAJORAXIS</td><td>270.7973</td><td>--</td><td>FIT_TO_MAJORAXIS</td><td>0.3421</td><td>0.0032</td><td>0.2942</td><td>0.0028</td><td>0.24620231986045837</td><td>SSFRLIKE</td><td>28767760219.353504</td><td>0.10024914145469666</td><td>5.551465555112527</td><td>0.20000606775283813</td><td>FUV+WISE4</td><td>0.5515296563808842</td><td>11645189681.783123</td><td>--</td><td>5.900000095367432</td><td>0.30000001192092896</td><td>SABc</td><td>BAR</td><td></td><td></td><td>--</td><td>--</td><td>--</td><td>--</td><td>--</td><td>--</td><td>--</td><td>--</td><td>--</td><td>--</td><td>--</td><td>--</td><td>--</td><td>--</td><td>--</td><td>--</td><td>--</td><td>--</td><td>--</td><td>--</td><td>--</td><td>--</td><td>--</td><td>--</td><td>--</td><td>--</td><td>--</td><td>--</td><td>--</td><td>--</td><td>--</td><td>--</td><td>--</td><td>--</td><td>--</td><td>--</td><td>--</td><td>--</td><td>--</td><td>--</td><td></td></tr>\n",
       "</table></div>"
      ],
      "text/plain": [
       "<Table length=3>\n",
       "  name    pgc  ... morph_high_peculiar            morph_comments           \n",
       "               ...                                                         \n",
       "bytes100 int64 ...       float64                     bytes100              \n",
       "-------- ----- ... ------------------- ------------------------------------\n",
       " ngc3627 34695 ...                 0.0                  part of Leo triplet\n",
       " ngc4321 40153 ...                 0.0 several nearby companions, in Virgo,\n",
       " ngc6946 65001 ...                  --                                     "
      ]
     },
     "execution_count": 12,
     "metadata": {},
     "output_type": "execute_result"
    }
   ],
   "source": [
    "sample_table"
   ]
  },
  {
   "cell_type": "code",
   "execution_count": 13,
   "metadata": {},
   "outputs": [],
   "source": [
    "sample_table_cut = sample_table['name', 'orient_ra', 'orient_dec', 'orient_incl', 'orient_posang', \n",
    "                                'morph_string', 'dist', 'size_reff', 'orient_vlsr', 'props_mhi',  \n",
    "                                'props_mstar', 'props_sfr']\n",
    "\n",
    "for i, n in enumerate(sample_table_cut['name']):\n",
    "    sample_table_cut['name'][i] = n.upper()\n",
    "    \n",
    "sample_table_cut['size_reff'] = sample_table_cut['size_reff']*sample_table_cut['dist']*1e6/206268*1e-3*au.kpc/au.arcsec\n",
    "\n",
    "sample_table_cut['props_mhi'] = np.log10(sample_table_cut['props_mhi'])\n",
    "sample_table_cut['props_mstar'] = np.log10(sample_table_cut['props_mstar'])\n",
    "# sample_table_cut['props_mmol'] = np.log10(sample_table_cut['props_mmol'])\n",
    "# sample_table_cut['props_sfr'] = np.log10(sample_table_cut['props_sfr'])"
   ]
  },
  {
   "cell_type": "code",
   "execution_count": 14,
   "metadata": {},
   "outputs": [
    {
     "data": {
      "text/html": [
       "<div><i>Table length=3</i>\n",
       "<table id=\"table140272569232832\" class=\"table-striped table-bordered table-condensed\">\n",
       "<thead><tr><th>name</th><th>orient_ra</th><th>orient_dec</th><th>orient_incl</th><th>orient_posang</th><th>morph_string</th><th>dist</th><th>size_reff</th><th>orient_vlsr</th><th>props_mhi</th><th>props_mstar</th><th>props_sfr</th></tr></thead>\n",
       "<thead><tr><th></th><th>deg</th><th>deg</th><th>deg</th><th>deg</th><th></th><th>Mpc</th><th>kpc</th><th>km / s</th><th>solMass</th><th>solMass</th><th>solMass / yr</th></tr></thead>\n",
       "<thead><tr><th>bytes100</th><th>float32</th><th>float32</th><th>float32</th><th>float32</th><th>bytes100</th><th>float32</th><th>float64</th><th>float32</th><th>float64</th><th>float64</th><th>float64</th></tr></thead>\n",
       "<tr><td>NGC3627</td><td>170.06252</td><td>12.9915</td><td>57.3</td><td>173.1</td><td>Sb</td><td>11.32</td><td>3.5372926096146764</td><td>715.35803</td><td>9.033061805222319</td><td>10.732443080641303</td><td>3.6584029289296365</td></tr>\n",
       "<tr><td>NGC4321</td><td>185.72887</td><td>15.822304</td><td>38.5</td><td>156.2</td><td>SABb</td><td>15.21</td><td>5.446640525917738</td><td>1572.3125</td><td>9.43179913380806</td><td>10.708862319066217</td><td>3.4785976726475867</td></tr>\n",
       "<tr><td>NGC6946</td><td>308.71918</td><td>60.153515</td><td>33.0</td><td>243.0</td><td>SABc</td><td>7.34</td><td>4.545675800414994</td><td>61.289387</td><td>10.066146566900827</td><td>10.458906050203106</td><td>5.551465555112527</td></tr>\n",
       "</table></div>"
      ],
      "text/plain": [
       "<Table length=3>\n",
       "  name   orient_ra orient_dec ...    props_mstar         props_sfr     \n",
       "            deg       deg     ...      solMass          solMass / yr   \n",
       "bytes100  float32   float32   ...      float64            float64      \n",
       "-------- --------- ---------- ... ------------------ ------------------\n",
       " NGC3627 170.06252    12.9915 ... 10.732443080641303 3.6584029289296365\n",
       " NGC4321 185.72887  15.822304 ... 10.708862319066217 3.4785976726475867\n",
       " NGC6946 308.71918  60.153515 ... 10.458906050203106  5.551465555112527"
      ]
     },
     "execution_count": 14,
     "metadata": {},
     "output_type": "execute_result"
    }
   ],
   "source": [
    "sample_table_cut"
   ]
  },
  {
   "cell_type": "code",
   "execution_count": 15,
   "metadata": {},
   "outputs": [
    {
     "ename": "ValueError",
     "evalue": "Arguments \"names\" and \"dtype\" must match number of columns",
     "output_type": "error",
     "traceback": [
      "\u001b[0;31m---------------------------------------------------------------------------\u001b[0m",
      "\u001b[0;31mValueError\u001b[0m                                Traceback (most recent call last)",
      "\u001b[0;32m/var/folders/3y/cmsgt3_x7x72bbs__zhy_q6h0008wr/T/ipykernel_44573/1109352265.py\u001b[0m in \u001b[0;36m<module>\u001b[0;34m\u001b[0m\n\u001b[1;32m     24\u001b[0m         'SFR': '%0.1f'}\n\u001b[1;32m     25\u001b[0m \u001b[0;34m\u001b[0m\u001b[0m\n\u001b[0;32m---> 26\u001b[0;31m \u001b[0msample_table_cut\u001b[0m\u001b[0;34m.\u001b[0m\u001b[0mwrite\u001b[0m\u001b[0;34m(\u001b[0m\u001b[0;34m'./tabs/sourceprops_tmp.tex'\u001b[0m\u001b[0;34m,\u001b[0m \u001b[0mformats\u001b[0m\u001b[0;34m=\u001b[0m\u001b[0mformats\u001b[0m\u001b[0;34m,\u001b[0m \u001b[0mnames\u001b[0m\u001b[0;34m=\u001b[0m\u001b[0mnames\u001b[0m\u001b[0;34m,\u001b[0m \u001b[0moverwrite\u001b[0m\u001b[0;34m=\u001b[0m\u001b[0;32mTrue\u001b[0m\u001b[0;34m)\u001b[0m\u001b[0;34m\u001b[0m\u001b[0;34m\u001b[0m\u001b[0m\n\u001b[0m",
      "\u001b[0;32m~/opt/anaconda3/lib/python3.9/site-packages/astropy/table/connect.py\u001b[0m in \u001b[0;36m__call__\u001b[0;34m(self, serialize_method, *args, **kwargs)\u001b[0m\n\u001b[1;32m    128\u001b[0m         \u001b[0minstance\u001b[0m \u001b[0;34m=\u001b[0m \u001b[0mself\u001b[0m\u001b[0;34m.\u001b[0m\u001b[0m_instance\u001b[0m\u001b[0;34m\u001b[0m\u001b[0;34m\u001b[0m\u001b[0m\n\u001b[1;32m    129\u001b[0m         \u001b[0;32mwith\u001b[0m \u001b[0mserialize_method_as\u001b[0m\u001b[0;34m(\u001b[0m\u001b[0minstance\u001b[0m\u001b[0;34m,\u001b[0m \u001b[0mserialize_method\u001b[0m\u001b[0;34m)\u001b[0m\u001b[0;34m:\u001b[0m\u001b[0;34m\u001b[0m\u001b[0;34m\u001b[0m\u001b[0m\n\u001b[0;32m--> 130\u001b[0;31m             \u001b[0mself\u001b[0m\u001b[0;34m.\u001b[0m\u001b[0mregistry\u001b[0m\u001b[0;34m.\u001b[0m\u001b[0mwrite\u001b[0m\u001b[0;34m(\u001b[0m\u001b[0minstance\u001b[0m\u001b[0;34m,\u001b[0m \u001b[0;34m*\u001b[0m\u001b[0margs\u001b[0m\u001b[0;34m,\u001b[0m \u001b[0;34m**\u001b[0m\u001b[0mkwargs\u001b[0m\u001b[0;34m)\u001b[0m\u001b[0;34m\u001b[0m\u001b[0;34m\u001b[0m\u001b[0m\n\u001b[0m",
      "\u001b[0;32m~/opt/anaconda3/lib/python3.9/site-packages/astropy/io/registry/core.py\u001b[0m in \u001b[0;36mwrite\u001b[0;34m(self, data, format, *args, **kwargs)\u001b[0m\n\u001b[1;32m    381\u001b[0m \u001b[0;34m\u001b[0m\u001b[0m\n\u001b[1;32m    382\u001b[0m         \u001b[0mwriter\u001b[0m \u001b[0;34m=\u001b[0m \u001b[0mself\u001b[0m\u001b[0;34m.\u001b[0m\u001b[0mget_writer\u001b[0m\u001b[0;34m(\u001b[0m\u001b[0mformat\u001b[0m\u001b[0;34m,\u001b[0m \u001b[0mdata\u001b[0m\u001b[0;34m.\u001b[0m\u001b[0m__class__\u001b[0m\u001b[0;34m)\u001b[0m\u001b[0;34m\u001b[0m\u001b[0;34m\u001b[0m\u001b[0m\n\u001b[0;32m--> 383\u001b[0;31m         \u001b[0;32mreturn\u001b[0m \u001b[0mwriter\u001b[0m\u001b[0;34m(\u001b[0m\u001b[0mdata\u001b[0m\u001b[0;34m,\u001b[0m \u001b[0;34m*\u001b[0m\u001b[0margs\u001b[0m\u001b[0;34m,\u001b[0m \u001b[0;34m**\u001b[0m\u001b[0mkwargs\u001b[0m\u001b[0;34m)\u001b[0m\u001b[0;34m\u001b[0m\u001b[0;34m\u001b[0m\u001b[0m\n\u001b[0m\u001b[1;32m    384\u001b[0m \u001b[0;34m\u001b[0m\u001b[0m\n\u001b[1;32m    385\u001b[0m \u001b[0;34m\u001b[0m\u001b[0m\n",
      "\u001b[0;32m~/opt/anaconda3/lib/python3.9/site-packages/astropy/io/ascii/connect.py\u001b[0m in \u001b[0;36mio_write\u001b[0;34m(format, table, filename, **kwargs)\u001b[0m\n\u001b[1;32m     26\u001b[0m         \u001b[0mformat\u001b[0m \u001b[0;34m=\u001b[0m \u001b[0mre\u001b[0m\u001b[0;34m.\u001b[0m\u001b[0msub\u001b[0m\u001b[0;34m(\u001b[0m\u001b[0;34mr\"^ascii\\.\"\u001b[0m\u001b[0;34m,\u001b[0m \u001b[0;34m\"\"\u001b[0m\u001b[0;34m,\u001b[0m \u001b[0mformat\u001b[0m\u001b[0;34m)\u001b[0m\u001b[0;34m\u001b[0m\u001b[0;34m\u001b[0m\u001b[0m\n\u001b[1;32m     27\u001b[0m         \u001b[0mkwargs\u001b[0m\u001b[0;34m[\u001b[0m\u001b[0;34m\"format\"\u001b[0m\u001b[0;34m]\u001b[0m \u001b[0;34m=\u001b[0m \u001b[0mformat\u001b[0m\u001b[0;34m\u001b[0m\u001b[0;34m\u001b[0m\u001b[0m\n\u001b[0;32m---> 28\u001b[0;31m     \u001b[0;32mreturn\u001b[0m \u001b[0mwrite\u001b[0m\u001b[0;34m(\u001b[0m\u001b[0mtable\u001b[0m\u001b[0;34m,\u001b[0m \u001b[0mfilename\u001b[0m\u001b[0;34m,\u001b[0m \u001b[0;34m**\u001b[0m\u001b[0mkwargs\u001b[0m\u001b[0;34m)\u001b[0m\u001b[0;34m\u001b[0m\u001b[0;34m\u001b[0m\u001b[0m\n\u001b[0m\u001b[1;32m     29\u001b[0m \u001b[0;34m\u001b[0m\u001b[0m\n\u001b[1;32m     30\u001b[0m \u001b[0;34m\u001b[0m\u001b[0m\n",
      "\u001b[0;32m~/opt/anaconda3/lib/python3.9/site-packages/astropy/io/ascii/ui.py\u001b[0m in \u001b[0;36mwrite\u001b[0;34m(table, output, format, Writer, fast_writer, overwrite, **kwargs)\u001b[0m\n\u001b[1;32m    949\u001b[0m         \u001b[0;31m# While we are only going to read data from columns, we may need to\u001b[0m\u001b[0;34m\u001b[0m\u001b[0;34m\u001b[0m\u001b[0m\n\u001b[1;32m    950\u001b[0m         \u001b[0;31m# to adjust info attributes such as format, so we make a shallow copy.\u001b[0m\u001b[0;34m\u001b[0m\u001b[0;34m\u001b[0m\u001b[0m\n\u001b[0;32m--> 951\u001b[0;31m         \u001b[0mtable\u001b[0m \u001b[0;34m=\u001b[0m \u001b[0mtable\u001b[0m\u001b[0;34m.\u001b[0m\u001b[0m__class__\u001b[0m\u001b[0;34m(\u001b[0m\u001b[0mtable\u001b[0m\u001b[0;34m,\u001b[0m \u001b[0mnames\u001b[0m\u001b[0;34m=\u001b[0m\u001b[0mnames\u001b[0m\u001b[0;34m,\u001b[0m \u001b[0mcopy\u001b[0m\u001b[0;34m=\u001b[0m\u001b[0;32mFalse\u001b[0m\u001b[0;34m)\u001b[0m\u001b[0;34m\u001b[0m\u001b[0;34m\u001b[0m\u001b[0m\n\u001b[0m\u001b[1;32m    952\u001b[0m     \u001b[0;32melse\u001b[0m\u001b[0;34m:\u001b[0m\u001b[0;34m\u001b[0m\u001b[0;34m\u001b[0m\u001b[0m\n\u001b[1;32m    953\u001b[0m         \u001b[0;31m# Otherwise, create a table from the input.\u001b[0m\u001b[0;34m\u001b[0m\u001b[0;34m\u001b[0m\u001b[0m\n",
      "\u001b[0;32m~/opt/anaconda3/lib/python3.9/site-packages/astropy/table/table.py\u001b[0m in \u001b[0;36m__init__\u001b[0;34m(self, data, masked, names, dtype, meta, copy, rows, copy_indices, units, descriptions, **kwargs)\u001b[0m\n\u001b[1;32m    865\u001b[0m         \u001b[0mnames\u001b[0m \u001b[0;34m=\u001b[0m \u001b[0;34m[\u001b[0m\u001b[0;32mNone\u001b[0m \u001b[0;32mif\u001b[0m \u001b[0mname\u001b[0m \u001b[0;32mis\u001b[0m \u001b[0;32mNone\u001b[0m \u001b[0;32melse\u001b[0m \u001b[0mstr\u001b[0m\u001b[0;34m(\u001b[0m\u001b[0mname\u001b[0m\u001b[0;34m)\u001b[0m \u001b[0;32mfor\u001b[0m \u001b[0mname\u001b[0m \u001b[0;32min\u001b[0m \u001b[0mnames\u001b[0m\u001b[0;34m]\u001b[0m\u001b[0;34m\u001b[0m\u001b[0;34m\u001b[0m\u001b[0m\n\u001b[1;32m    866\u001b[0m \u001b[0;34m\u001b[0m\u001b[0m\n\u001b[0;32m--> 867\u001b[0;31m         \u001b[0mself\u001b[0m\u001b[0;34m.\u001b[0m\u001b[0m_check_names_dtype\u001b[0m\u001b[0;34m(\u001b[0m\u001b[0mnames\u001b[0m\u001b[0;34m,\u001b[0m \u001b[0mdtype\u001b[0m\u001b[0;34m,\u001b[0m \u001b[0mn_cols\u001b[0m\u001b[0;34m)\u001b[0m\u001b[0;34m\u001b[0m\u001b[0;34m\u001b[0m\u001b[0m\n\u001b[0m\u001b[1;32m    868\u001b[0m \u001b[0;34m\u001b[0m\u001b[0m\n\u001b[1;32m    869\u001b[0m         \u001b[0;31m# Finally do the real initialization\u001b[0m\u001b[0;34m\u001b[0m\u001b[0;34m\u001b[0m\u001b[0m\n",
      "\u001b[0;32m~/opt/anaconda3/lib/python3.9/site-packages/astropy/table/table.py\u001b[0m in \u001b[0;36m_check_names_dtype\u001b[0;34m(self, names, dtype, n_cols)\u001b[0m\n\u001b[1;32m   1155\u001b[0m \u001b[0;34m\u001b[0m\u001b[0m\n\u001b[1;32m   1156\u001b[0m         \u001b[0;32mif\u001b[0m \u001b[0mlen\u001b[0m\u001b[0;34m(\u001b[0m\u001b[0mnames\u001b[0m\u001b[0;34m)\u001b[0m \u001b[0;34m!=\u001b[0m \u001b[0mn_cols\u001b[0m \u001b[0;32mor\u001b[0m \u001b[0mlen\u001b[0m\u001b[0;34m(\u001b[0m\u001b[0mdtype\u001b[0m\u001b[0;34m)\u001b[0m \u001b[0;34m!=\u001b[0m \u001b[0mn_cols\u001b[0m\u001b[0;34m:\u001b[0m\u001b[0;34m\u001b[0m\u001b[0;34m\u001b[0m\u001b[0m\n\u001b[0;32m-> 1157\u001b[0;31m             raise ValueError(\n\u001b[0m\u001b[1;32m   1158\u001b[0m                 \u001b[0;34m'Arguments \"names\" and \"dtype\" must match number of columns'\u001b[0m\u001b[0;34m\u001b[0m\u001b[0;34m\u001b[0m\u001b[0m\n\u001b[1;32m   1159\u001b[0m             )\n",
      "\u001b[0;31mValueError\u001b[0m: Arguments \"names\" and \"dtype\" must match number of columns"
     ]
    }
   ],
   "source": [
    "names = ['Galaxy',\n",
    "         'RA',\n",
    "         'DEC',\n",
    "         '$i$',\n",
    "         'PA',\n",
    "         'Morph.',\n",
    "         'Dist.',\n",
    "         '$R_\\mathrm{eff}$',\n",
    "         '$V_\\mathrm{LSR}$',\n",
    "         '$M_\\mathrm{H_I}$',\n",
    "         '$M_\\mathrm{CO}$',\n",
    "         '$M_\\mathrm{star}$',\n",
    "         'SFR']\n",
    "\n",
    "formats={\n",
    "        'RA': '%0.3f',\n",
    "        'DEC': '%0.3f',\n",
    "        'Dist.': '%0.1f', \n",
    "        '$R_\\mathrm{eff}$': '%0.1f',\n",
    "        '$V_\\mathrm{LSR}$': '%0.1f',\n",
    "        '$M_\\mathrm{H_I}$': '%0.1f',\n",
    "        '$M_\\mathrm{CO}$': '%0.1f',\n",
    "        '$M_\\mathrm{star}$': '%0.1f',\n",
    "        'SFR': '%0.1f'}\n",
    "\n",
    "sample_table_cut.write('./tabs/sourceprops_tmp.tex', formats=formats, names=names, overwrite=True)"
   ]
  },
  {
   "cell_type": "code",
   "execution_count": null,
   "metadata": {},
   "outputs": [],
   "source": []
  }
 ],
 "metadata": {
  "kernelspec": {
   "display_name": "Python 3",
   "language": "python",
   "name": "python3"
  },
  "language_info": {
   "codemirror_mode": {
    "name": "ipython",
    "version": 3
   },
   "file_extension": ".py",
   "mimetype": "text/x-python",
   "name": "python",
   "nbconvert_exporter": "python",
   "pygments_lexer": "ipython3",
   "version": "3.9.13"
  }
 },
 "nbformat": 4,
 "nbformat_minor": 4
}
