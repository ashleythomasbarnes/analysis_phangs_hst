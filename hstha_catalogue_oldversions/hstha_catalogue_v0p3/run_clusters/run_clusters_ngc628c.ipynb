{
 "cells": [
  {
   "cell_type": "code",
   "execution_count": 10,
   "id": "d911806a-6e45-422e-b299-fd868a526cc9",
   "metadata": {
    "execution": {
     "iopub.execute_input": "2024-03-17T18:25:15.265402Z",
     "iopub.status.busy": "2024-03-17T18:25:15.265088Z",
     "iopub.status.idle": "2024-03-17T18:25:15.842067Z",
     "shell.execute_reply": "2024-03-17T18:25:15.841636Z"
    }
   },
   "outputs": [],
   "source": [
    "import warnings\n",
    "warnings.filterwarnings('ignore')\n",
    "from glob import glob \n",
    "import sys\n",
    "sys.path.append('./')\n",
    "from modules import dendro_misc, dendro_clusters"
   ]
  },
  {
   "cell_type": "code",
   "execution_count": 15,
   "id": "18040bbc",
   "metadata": {
    "execution": {
     "iopub.execute_input": "2024-03-17T18:25:15.844507Z",
     "iopub.status.busy": "2024-03-17T18:25:15.844387Z",
     "iopub.status.idle": "2024-03-17T18:25:15.876517Z",
     "shell.execute_reply": "2024-03-17T18:25:15.876174Z"
    }
   },
   "outputs": [
    {
     "name": "stdout",
     "output_type": "stream",
     "text": [
      "/Users/abarnes/Dropbox/work/Smallprojects/galaxies/data_hstha/ngc628c/hst_contsub/ngc628c_hst_ha_sic.fits\n",
      "/Users/abarnes/Dropbox/work/Smallprojects/galaxies/data_hstha/ngc628c/muse/NGC0628_nebmask.fits\n",
      "/Users/abarnes/Dropbox/work/Smallprojects/galaxies/data_hstha/ngc628c/muse/NGC0628-0.92asec_MAPS.fits\n",
      "/Users/abarnes/Dropbox/work/Smallprojects/galaxies/data_hstha_nebulae_catalogue/ngc628c/cutouts\n",
      "/Users/abarnes/Dropbox/work/Smallprojects/galaxies/data_hstha_nebulae_catalogue/ngc628c/dendro\n",
      "/Users/abarnes/Dropbox/work/Smallprojects/galaxies/data_hstha_nebulae_catalogue/ngc628c/cutouts_hdus\n",
      "/Users/abarnes/Dropbox/work/Smallprojects/galaxies/data_hstha_nebulae_catalogue/ngc628c/cutouts/sample.reg\n",
      "/Users/abarnes/Dropbox/work/Smallprojects/galaxies/data_hstha_nebulae_catalogue/ngc628c/cutouts/sample.pickel\n",
      "/Users/abarnes/Dropbox/work/Smallprojects/galaxies/data_misc/sample_table/phangs_sample_table_v1p6.fits\n",
      "/Users/abarnes/Dropbox/work/Smallprojects/galaxies/data_misc/nebulae_catalogue/Nebulae_catalogue_v3.fits\n",
      "/Users/abarnes/Dropbox/work/Smallprojects/galaxies/data_misc/multiscale_stellar_associations/ngc628/vselect/ws32pc/PHANGS_IR4_hst_wfc3_ngc628_v1p3_multi_assoc-vselect-ws32pc-main.fits\n",
      "/Users/abarnes/Dropbox/work/Smallprojects/galaxies/data_misc/multiscale_stellar_associations/ngc628/vselect/ws32pc/PHANGS_IR4_hst_wfc3_ngc628_v1p3_multi_assoc-vselect-ws32pc-idmask.fits\n"
     ]
    }
   ],
   "source": [
    "# Define names and filenames...\n",
    "\n",
    "galaxy = 'ngc0628'\n",
    "galaxy_cat = 'ngc628'\n",
    "galaxy_hst = 'ngc628c'\n",
    "root_dir = '/Users/abarnes/Dropbox/work/Smallprojects/galaxies'\n",
    "\n",
    "hstha_file = '%s/data_hstha/%s/hst_contsub/%s_hst_ha_sic.fits' %(root_dir, galaxy_hst, galaxy_hst)\n",
    "muscat_file = '%s/data_hstha/%s/muse/%s_nebmask.fits' %(root_dir, galaxy_hst, galaxy.upper())\n",
    "musha_file = '%s/data_hstha/%s/muse/%s-*_MAPS.fits' %(root_dir, galaxy_hst, galaxy.upper())\n",
    "musha_file = glob(musha_file)[0] #because of resolution in name\n",
    "\n",
    "cutout_dir = '%s/data_hstha_nebulae_catalogue/%s/cutouts' %(root_dir, galaxy_hst)\n",
    "dendro_dir = '%s/data_hstha_nebulae_catalogue/%s/dendro' %(root_dir, galaxy_hst)\n",
    "cutouts_hdus_dir = '%s/data_hstha_nebulae_catalogue/%s/cutouts_hdus' %(root_dir, galaxy_hst)\n",
    "\n",
    "rerun_all = True\n",
    "rerun_masking = True\n",
    "rerun_getcutouts = False\n",
    "\n",
    "regions_file = '%s/sample.reg' %cutout_dir\n",
    "regions_pickel_file = '%s/sample.pickel' %cutout_dir\n",
    "sample_table_file = '%s/data_misc/sample_table/phangs_sample_table_v1p6.fits' %root_dir\n",
    "muscat_table_file = '%s/data_misc/nebulae_catalogue/Nebulae_catalogue_v3.fits' %root_dir\n",
    "\n",
    "cluster_table_file = '%s/data_misc/multiscale_stellar_associations/%s/vselect/ws32pc/PHANGS_IR4_hst_wfc3_%s_v1p3_multi_assoc-vselect-ws32pc-main.fits' %(root_dir, galaxy_cat, galaxy_cat)\n",
    "cluster_mask_file =  '%s/data_misc/multiscale_stellar_associations/%s/vselect/ws32pc/PHANGS_IR4_hst_wfc3_%s_v1p3_multi_assoc-vselect-ws32pc-idmask.fits' %(root_dir, galaxy_cat, galaxy_cat)\n",
    "\n",
    "print(hstha_file)\n",
    "print(muscat_file)\n",
    "print(musha_file)\n",
    "print(cutout_dir)\n",
    "print(dendro_dir)\n",
    "print(cutouts_hdus_dir)\n",
    "print(regions_file)\n",
    "print(regions_pickel_file)\n",
    "print(sample_table_file)\n",
    "print(muscat_table_file)\n",
    "print(cluster_table_file)\n",
    "print(cluster_mask_file)"
   ]
  },
  {
   "cell_type": "code",
   "execution_count": 16,
   "id": "3f2916b0",
   "metadata": {
    "execution": {
     "iopub.execute_input": "2024-03-17T18:25:15.878400Z",
     "iopub.status.busy": "2024-03-17T18:25:15.878282Z",
     "iopub.status.idle": "2024-03-17T18:25:21.689259Z",
     "shell.execute_reply": "2024-03-17T18:25:21.688866Z"
    }
   },
   "outputs": [
    {
     "name": "stdout",
     "output_type": "stream",
     "text": [
      "[INFO] [load_pickle] Load /Users/abarnes/Dropbox/work/Smallprojects/galaxies/data_hstha_nebulae_catalogue/ngc628c/cutouts/hdus_all.pickel\n",
      "[INFO] [load_pickle] Load /Users/abarnes/Dropbox/work/Smallprojects/galaxies/data_hstha_nebulae_catalogue/ngc628c/cutouts/sample.pickel\n",
      "[INFO] [get_galaxyprops] Getting sample table properties for ngc0628...\n",
      "[INFO] [get_MuseProps] Getting MUSE catalouge properties for ngc0628...\n",
      "[INFO] [load_pickle] Load /Users/abarnes/Dropbox/work/Smallprojects/galaxies/data_hstha_nebulae_catalogue/ngc628c/dendro/hdus_all_withmasked_withdendro.pickel\n",
      "[INFO] [load_pickle] Load /Users/abarnes/Dropbox/work/Smallprojects/galaxies/data_hstha_nebulae_catalogue/ngc628c/dendro/props_all.pickel\n"
     ]
    }
   ],
   "source": [
    "# Load regions, sample table and HDUs... \n",
    "\n",
    "hdus_cutouts  = dendro_misc.load_pickle('%s/hdus_all.pickel' %cutout_dir)\n",
    "regions       = dendro_misc.load_pickle(regions_pickel_file)\n",
    "sample_table  = dendro_misc.get_galaxyprops(galaxy, sample_table_file)\n",
    "muscat_table  = dendro_misc.get_museprops(galaxy, muscat_table_file)\n",
    "hdus          = dendro_misc.load_pickle('%s/hdus_all_withmasked_withdendro.pickel' %dendro_dir)\n",
    "props_all     = dendro_misc.load_pickle('%s/props_all.pickel' %dendro_dir)"
   ]
  },
  {
   "cell_type": "code",
   "execution_count": 18,
   "id": "02cd03b3",
   "metadata": {},
   "outputs": [
    {
     "name": "stdout",
     "output_type": "stream",
     "text": [
      "[INFO] Loading /Users/abarnes/Dropbox/work/Smallprojects/galaxies/data_misc/multiscale_stellar_associations/ngc628/vselect/ws32pc/PHANGS_IR4_hst_wfc3_ngc628_v1p3_multi_assoc-vselect-ws32pc-main.fits\n",
      "[INFO] Loading /Users/abarnes/Dropbox/work/Smallprojects/galaxies/data_misc/multiscale_stellar_associations/ngc628/vselect/ws32pc/PHANGS_IR4_hst_wfc3_ngc628_v1p3_multi_assoc-vselect-ws32pc-idmask.fits\n"
     ]
    }
   ],
   "source": [
    "cluster_table, cluster_mask = dendro_clusters.load_clusters(cluster_table_file, cluster_mask_file)"
   ]
  },
  {
   "cell_type": "code",
   "execution_count": 5,
   "id": "57ae785b",
   "metadata": {},
   "outputs": [
    {
     "name": "stdout",
     "output_type": "stream",
     "text": [
      "[INFO] [load_pickle] Load /Users/abarnes/Dropbox/work/Smallprojects/galaxies/data_hstha_nebulae_catalogue/ngc628c/dendro/hdus_all_withmasked_withdendro_withclusters.pickel\n"
     ]
    }
   ],
   "source": [
    "if rerun_getcutouts:\n",
    "    hdus = dendro_clusters.get_clusters_cutouts(cluster_mask, hdus, props_all)\n",
    "    dendro_misc.save_pickle(hdus, '%s/hdus_all_withmasked_withdendro_withclusters.pickel' %dendro_dir)\n",
    "else:\n",
    "    hdus = dendro_misc.load_pickle('%s/hdus_all_withmasked_withdendro_withclusters.pickel' %dendro_dir)"
   ]
  },
  {
   "cell_type": "code",
   "execution_count": 6,
   "id": "f2a37a97",
   "metadata": {
    "execution": {
     "iopub.execute_input": "2024-03-17T18:25:21.691665Z",
     "iopub.status.busy": "2024-03-17T18:25:21.691541Z",
     "iopub.status.idle": "2024-03-17T18:28:44.658225Z",
     "shell.execute_reply": "2024-03-17T18:28:44.657873Z"
    }
   },
   "outputs": [
    {
     "data": {
      "application/vnd.jupyter.widget-view+json": {
       "model_id": "eb173f5d85ad4229bed15872d617cf22",
       "version_major": 2,
       "version_minor": 0
      },
      "text/plain": [
       "  0%|          | 0/2869 [00:00<?, ?it/s]"
      ]
     },
     "metadata": {},
     "output_type": "display_data"
    }
   ],
   "source": [
    "# Get clusters withing the Dendro leaves, and export region file of these clusters\n",
    "\n",
    "props_all_cluster = dendro_clusters.get_clusters_all(cluster_table, hdus, props_all)"
   ]
  },
  {
   "cell_type": "code",
   "execution_count": 7,
   "id": "9d915127",
   "metadata": {},
   "outputs": [
    {
     "data": {
      "text/html": [
       "<div><i>Table length=2869</i>\n",
       "<table id=\"table140171650513552\" class=\"table-striped table-bordered table-condensed\">\n",
       "<thead><tr><th>region_ID</th><th>hstcat_region_ID</th><th>_idx</th><th>area_ellipse</th><th>area_exact</th><th>HA6562_FLUX_HST</th><th>major_sigma</th><th>minor_sigma</th><th>position_angle</th><th>mean_sigma</th><th>x_cen</th><th>y_cen</th><th>radius_trunk</th><th>radius_trunkclose</th><th>major_fwtm</th><th>minor_fwtm</th><th>mean_fwtm</th><th>mean_hwtm</th><th>major_fwhm</th><th>minor_fwhm</th><th>mean_fwhm</th><th>mean_hwhm</th><th>min_npix</th><th>min_value_sig</th><th>min_delta_sig</th><th>radius_trunk_pc</th><th>radius_trunkclose_pc</th><th>major_fwtm_pc</th><th>minor_fwtm_pc</th><th>mean_fwtm_pc</th><th>mean_hwtm_pc</th><th>major_fwhm_pc</th><th>minor_fwhm_pc</th><th>mean_fwhm_pc</th><th>mean_hwhm_pc</th><th>ra_cen</th><th>dec_cen</th><th>mean_sigma_pc</th><th>x_max</th><th>y_max</th><th>ra_max</th><th>dec_max</th><th>flag_edge_hst</th><th>gal_name</th><th>cen_x</th><th>cen_y</th><th>cen_ra</th><th>cen_dec</th><th>cen_x_geo</th><th>cen_y_geo</th><th>flag_edge</th><th>flag_nearby</th><th>flag_star</th><th>deproj_dist</th><th>deproj_phi</th><th>region_area</th><th>region_circ_rad</th><th>HB4861_FLUX</th><th>OIII5006_FLUX</th><th>HA6562_FLUX</th><th>NII6583_FLUX</th><th>SII6716_FLUX</th><th>SII6730_FLUX</th><th>SIII9068_FLUX</th><th>OI6300_FLUX</th><th>NII5754_FLUX</th><th>HEI5875_FLUX</th><th>SIII6312_FLUX</th><th>OI6363_FLUX</th><th>OII7319_FLUX</th><th>OII7330_FLUX</th><th>HB4861_FLUX_ERR</th><th>OIII5006_FLUX_ERR</th><th>HA6562_FLUX_ERR</th><th>NII6583_FLUX_ERR</th><th>SII6716_FLUX_ERR</th><th>SII6730_FLUX_ERR</th><th>SIII9068_FLUX_ERR</th><th>OI6300_FLUX_ERR</th><th>NII5754_FLUX_ERR</th><th>HEI5875_FLUX_ERR</th><th>SIII6312_FLUX_ERR</th><th>OI6363_FLUX_ERR</th><th>OII7319_FLUX_ERR</th><th>OII7330_FLUX_ERR</th><th>HA6562_SIGMA</th><th>NII6583_SIGMA</th><th>OIII5006_SIGMA</th><th>HA6562_VEL</th><th>NII6583_VEL</th><th>OIII5006_VEL</th><th>HA6562_SIGMA_ERR</th><th>NII6583_SIGMA_ERR</th><th>OIII5006_SIGMA_ERR</th><th>HA6562_VEL_ERR</th><th>NII6583_VEL_ERR</th><th>OIII5006_VEL_ERR</th><th>HB4861_FLUX_CORR</th><th>OIII5006_FLUX_CORR</th><th>HA6562_FLUX_CORR</th><th>NII6583_FLUX_CORR</th><th>SII6716_FLUX_CORR</th><th>SII6730_FLUX_CORR</th><th>SIII9068_FLUX_CORR</th><th>OI6300_FLUX_CORR</th><th>NII5754_FLUX_CORR</th><th>HEI5875_FLUX_CORR</th><th>SIII6312_FLUX_CORR</th><th>OI6363_FLUX_CORR</th><th>OII7319_FLUX_CORR</th><th>OII7330_FLUX_CORR</th><th>HB4861_FLUX_CORR_ERR</th><th>OIII5006_FLUX_CORR_ERR</th><th>HA6562_FLUX_CORR_ERR</th><th>NII6583_FLUX_CORR_ERR</th><th>SII6716_FLUX_CORR_ERR</th><th>SII6730_FLUX_CORR_ERR</th><th>SIII9068_FLUX_CORR_ERR</th><th>OI6300_FLUX_CORR_ERR</th><th>NII5754_FLUX_CORR_ERR</th><th>HEI5875_FLUX_CORR_ERR</th><th>SIII6312_FLUX_CORR_ERR</th><th>OI6363_FLUX_CORR_ERR</th><th>OII7319_FLUX_CORR_ERR</th><th>OII7330_FLUX_CORR_ERR</th><th>EBV</th><th>EBV_ERR</th><th>met_scal</th><th>met_scal_err</th><th>logq_D91</th><th>logq_D91_err</th><th>t_N2</th><th>t_S3</th><th>t_N2_err</th><th>t_S3_err</th><th>BPT_NII</th><th>BPT_SII</th><th>BPT_OI</th><th>LOG_SIGMA_SFR_CHAB</th><th>LOG_SIGMA_STMASS_CHAB</th><th>5thNN_dist</th><th>NN_number</th><th>Environment</th><th>r_R25</th><th>r_reff</th><th>Lum_HA6562_CORR</th><th>Delta_met_scal</th><th>pc_per_pixel</th><th>EW_HA6562_raw</th><th>EW_HA6562_raw_ERR</th><th>EW_HB4861_raw</th><th>EW_HB4861_raw_ERR</th><th>EW_HA6562_fit</th><th>EW_HA6562_fit_ERR</th><th>EW_HB4861_fit</th><th>EW_HB4861_fit_ERR</th><th>EW_HA6562_bgcorr</th><th>EW_HA6562_bgcorr_ERR</th><th>EW_HB4861_bgcorr</th><th>EW_HB4861_bgcorr_ERR</th><th>HII_class_v2</th><th>HII_class_v3</th><th>HA6562_FLUX_HST_CORR</th><th>HA6562_LUMINOSITY_HST</th><th>reg_id</th><th>reg_x</th><th>reg_y</th><th>reg_ra</th><th>reg_dec</th><th>reg_area</th><th>reg_rad</th><th>NUV_dolflux_mjy</th><th>NUV_dolflux_mjy_err</th><th>U_dolflux_mjy</th><th>U_dolflux_mjy_err</th><th>B_dolflux_mjy</th><th>B_dolflux_mjy_err</th><th>V_dolflux_mjy</th><th>V_dolflux_mjy_err</th><th>I_dolflux_mjy</th><th>I_dolflux_mjy_err</th><th>NUV_dolmag_vega</th><th>NUV_dolmag_vega_err</th><th>U_dolmag_vega</th><th>U_dolmag_vega_err</th><th>B_dolmag_vega</th><th>B_dolmag_vega_err</th><th>V_dolmag_vega</th><th>V_dolmag_vega_err</th><th>I_dolmag_vega</th><th>I_dolmag_vega_err</th><th>reg_dolflux_Age_MinChiSq</th><th>reg_dolflux_Age_MinChiSq_err</th><th>reg_dolflux_Mass_MinChiSq</th><th>reg_dolflux_Mass_MinChiSq_err</th><th>reg_dolflux_Ebv_MinChiSq</th><th>reg_dolflux_Ebv_MinChiSq_err</th><th>reg_dolflux_ChiSq_Reduced</th><th>cluster_ID</th></tr></thead>\n",
       "<thead><tr><th></th><th></th><th></th><th>arcsec2</th><th>arcsec2</th><th>erg / (s cm2)</th><th>arcsec</th><th>arcsec</th><th>deg</th><th>arcsec</th><th>pix</th><th>pix</th><th>arcsec</th><th>arcsec</th><th>arcsec</th><th>arcsec</th><th>arcsec</th><th>arcsec</th><th>arcsec</th><th>arcsec</th><th>arcsec</th><th>arcsec</th><th></th><th></th><th></th><th>pc</th><th>pc</th><th>pc</th><th>pc</th><th>pc</th><th>pc</th><th>pc</th><th>pc</th><th>pc</th><th>pc</th><th>deg</th><th>deg</th><th>pc</th><th>pix</th><th>pix</th><th>deg</th><th>deg</th><th></th><th></th><th>pix</th><th>pix</th><th>deg</th><th>deg</th><th>pix</th><th>pix</th><th></th><th></th><th></th><th>arcsec</th><th>rad</th><th>pix2</th><th>arcsec</th><th>1e-20 erg / (s cm2)</th><th>1e-20 erg / (s cm2)</th><th>1e-20 erg / (s cm2)</th><th>1e-20 erg / (s cm2)</th><th>1e-20 erg / (s cm2)</th><th>1e-20 erg / (s cm2)</th><th>1e-20 erg / (s cm2)</th><th>1e-20 erg / (s cm2)</th><th>1e-20 erg / (s cm2)</th><th>1e-20 erg / (s cm2)</th><th>1e-20 erg / (s cm2)</th><th>1e-20 erg / (s cm2)</th><th>1e-20 erg / (s cm2)</th><th>1e-20 erg / (s cm2)</th><th>1e-20 erg / (s cm2)</th><th>1e-20 erg / (s cm2)</th><th>1e-20 erg / (s cm2)</th><th>1e-20 erg / (s cm2)</th><th>1e-20 erg / (s cm2)</th><th>1e-20 erg / (s cm2)</th><th>1e-20 erg / (s cm2)</th><th>1e-20 erg / (s cm2)</th><th>1e-20 erg / (s cm2)</th><th>1e-20 erg / (s cm2)</th><th>1e-20 erg / (s cm2)</th><th>1e-20 erg / (s cm2)</th><th>1e-20 erg / (s cm2)</th><th>1e-20 erg / (s cm2)</th><th>km / s</th><th>km / s</th><th>km / s</th><th>km / s</th><th>km / s</th><th>km / s</th><th>km / s</th><th>km / s</th><th>km / s</th><th>km / s</th><th>km / s</th><th>km / s</th><th>erg / (s cm2)</th><th>erg / (s cm2)</th><th>erg / (s cm2)</th><th>erg / (s cm2)</th><th>erg / (s cm2)</th><th>erg / (s cm2)</th><th>erg / (s cm2)</th><th>erg / (s cm2)</th><th>erg / (s cm2)</th><th>erg / (s cm2)</th><th>erg / (s cm2)</th><th>erg / (s cm2)</th><th>erg / (s cm2)</th><th>erg / (s cm2)</th><th>erg / (s cm2)</th><th>erg / (s cm2)</th><th>erg / (s cm2)</th><th>erg / (s cm2)</th><th>erg / (s cm2)</th><th>erg / (s cm2)</th><th>erg / (s cm2)</th><th>erg / (s cm2)</th><th>erg / (s cm2)</th><th>erg / (s cm2)</th><th>erg / (s cm2)</th><th>erg / (s cm2)</th><th>erg / (s cm2)</th><th>erg / (s cm2)</th><th>mag</th><th>mag</th><th></th><th></th><th></th><th></th><th>K</th><th>K</th><th>K</th><th>K</th><th></th><th></th><th></th><th>solMass / (yr kpc2)</th><th>solMass / kpc2</th><th>pc</th><th></th><th></th><th></th><th></th><th>erg / s</th><th></th><th>pc</th><th></th><th></th><th></th><th></th><th>Angstrom</th><th>Angstrom</th><th>Angstrom</th><th>Angstrom</th><th>Angstrom</th><th>Angstrom</th><th>Angstrom</th><th>Angstrom</th><th></th><th></th><th>erg / (s cm2)</th><th>erg / s</th><th></th><th></th><th></th><th></th><th></th><th></th><th></th><th></th><th></th><th></th><th></th><th></th><th></th><th></th><th></th><th></th><th></th><th></th><th></th><th></th><th></th><th></th><th></th><th></th><th></th><th></th><th></th><th>Myr</th><th></th><th>solMass</th><th></th><th></th><th></th><th></th><th></th></tr></thead>\n",
       "<thead><tr><th>float64</th><th>int64</th><th>int64</th><th>float64</th><th>float64</th><th>float64</th><th>float64</th><th>float64</th><th>float64</th><th>float64</th><th>float64</th><th>float64</th><th>float64</th><th>float64</th><th>float64</th><th>float64</th><th>float64</th><th>float64</th><th>float64</th><th>float64</th><th>float64</th><th>float64</th><th>int64</th><th>int64</th><th>int64</th><th>float64</th><th>float64</th><th>float64</th><th>float64</th><th>float64</th><th>float64</th><th>float64</th><th>float64</th><th>float64</th><th>float64</th><th>float64</th><th>float64</th><th>float64</th><th>float64</th><th>float64</th><th>float64</th><th>float64</th><th>int64</th><th>bytes32</th><th>float64</th><th>float64</th><th>float64</th><th>float64</th><th>float64</th><th>float64</th><th>float64</th><th>float64</th><th>float64</th><th>float64</th><th>float64</th><th>float64</th><th>float64</th><th>float64</th><th>float64</th><th>float64</th><th>float64</th><th>float64</th><th>float64</th><th>float64</th><th>float64</th><th>float64</th><th>float64</th><th>float64</th><th>float64</th><th>float64</th><th>float64</th><th>float64</th><th>float64</th><th>float64</th><th>float64</th><th>float64</th><th>float64</th><th>float64</th><th>float64</th><th>float64</th><th>float64</th><th>float64</th><th>float64</th><th>float64</th><th>float64</th><th>float64</th><th>float64</th><th>float64</th><th>float64</th><th>float64</th><th>float64</th><th>float64</th><th>float64</th><th>float64</th><th>float64</th><th>float64</th><th>float64</th><th>float64</th><th>float64</th><th>float64</th><th>float64</th><th>float64</th><th>float64</th><th>float64</th><th>float64</th><th>float64</th><th>float64</th><th>float64</th><th>float64</th><th>float64</th><th>float64</th><th>float64</th><th>float64</th><th>float64</th><th>float64</th><th>float64</th><th>float64</th><th>float64</th><th>float64</th><th>float64</th><th>float64</th><th>float64</th><th>float64</th><th>float64</th><th>float64</th><th>float64</th><th>float64</th><th>float64</th><th>float64</th><th>float64</th><th>float64</th><th>float64</th><th>float64</th><th>float64</th><th>float64</th><th>float64</th><th>float64</th><th>float64</th><th>float64</th><th>float64</th><th>float64</th><th>float64</th><th>float64</th><th>float64</th><th>float64</th><th>float64</th><th>float64</th><th>float64</th><th>float64</th><th>float64</th><th>float64</th><th>float64</th><th>float64</th><th>float64</th><th>float64</th><th>float64</th><th>float64</th><th>float64</th><th>float64</th><th>float64</th><th>int64</th><th>int64</th><th>float64</th><th>float64</th><th>float64</th><th>float64</th><th>float64</th><th>float64</th><th>float64</th><th>float64</th><th>float64</th><th>float64</th><th>float64</th><th>float64</th><th>float64</th><th>float64</th><th>float64</th><th>float64</th><th>float64</th><th>float64</th><th>float64</th><th>float64</th><th>float64</th><th>float64</th><th>float64</th><th>float64</th><th>float64</th><th>float64</th><th>float64</th><th>float64</th><th>float64</th><th>float64</th><th>float64</th><th>float64</th><th>float64</th><th>float64</th><th>float64</th><th>float64</th><th>float64</th></tr></thead>\n",
       "<tr><td>0.0</td><td>0</td><td>--</td><td>--</td><td>--</td><td>--</td><td>--</td><td>--</td><td>--</td><td>--</td><td>--</td><td>--</td><td>--</td><td>--</td><td>--</td><td>--</td><td>--</td><td>--</td><td>--</td><td>--</td><td>--</td><td>--</td><td>--</td><td>--</td><td>--</td><td>--</td><td>--</td><td>--</td><td>--</td><td>--</td><td>--</td><td>--</td><td>--</td><td>--</td><td>--</td><td>--</td><td>--</td><td>--</td><td>--</td><td>--</td><td>--</td><td>--</td><td>0</td><td>NGC0628</td><td>839.5356400106734</td><td>265.63709936630255</td><td>24.16624283867601</td><td>15.75640678032868</td><td>839.6037735849056</td><td>265.8301886792453</td><td>0.0</td><td>0.0</td><td>0.0</td><td>101.47636568399342</td><td>4.615164240055107</td><td>53.0</td><td>0.8214724333230157</td><td>1097.508085254943</td><td>650.4656007862758</td><td>4017.8132377371476</td><td>1780.1745413463423</td><td>1480.6597205793119</td><td>776.294330449659</td><td>0.0</td><td>232.16074542163722</td><td>251.36258469908802</td><td>469.1453498978136</td><td>0.0</td><td>78.08847666464602</td><td>0.0</td><td>0.0</td><td>105.84887819959089</td><td>92.45029349149546</td><td>88.15638654492373</td><td>68.13851951817553</td><td>69.42309815736733</td><td>69.47828971106343</td><td>68.86685123273995</td><td>68.36658840651623</td><td>88.56761111042987</td><td>126.9119581126048</td><td>66.64495072689179</td><td>22.99545831371258</td><td>59.520715878711165</td><td>64.12991552597323</td><td>45.643272875349645</td><td>35.78404276465431</td><td>1.0</td><td>-8.441722930566705</td><td>-3.463415396616238</td><td>-5.069444383865249</td><td>2.939808710257103</td><td>4.019261331309338</td><td>872.8146409813224</td><td>1.9489342211472418</td><td>2.3510044067727685</td><td>15.182141836058527</td><td>2418.452554417847</td><td>1390.5562411488638</td><td>6917.400718907107</td><td>3059.0818881837545</td><td>2514.2223088388882</td><td>1316.5336201486136</td><td>0.0</td><td>409.6201647727882</td><td>471.96635409815275</td><td>867.140250192251</td><td>0.0</td><td>136.9438987581404</td><td>0.0</td><td>0.0</td><td>800.2930433069643</td><td>467.1517433637276</td><td>1513.354825555966</td><td>673.8009724274128</td><td>546.2204620234118</td><td>302.5112367887631</td><td>--</td><td>152.42524709509848</td><td>204.56470365688847</td><td>317.1302228568921</td><td>--</td><td>50.75572914149081</td><td>--</td><td>--</td><td>0.2341773689859349</td><td>0.09382227994447459</td><td>8.52688083087439</td><td>--</td><td>--</td><td>--</td><td>--</td><td>--</td><td>--</td><td>--</td><td>0.0</td><td>0.0</td><td>-1.0</td><td>-3.1075338474710117</td><td>7.826541590729294</td><td>657.7635736747565</td><td>1.0</td><td>7.0</td><td>0.3421713674282905</td><td>1.2404312556068122</td><td>8.01390333321036e+35</td><td>0.06145389125420131</td><td>9.514815573393857</td><td>2.513825275248962</td><td>0.1653402987786195</td><td>-3.7934088187209243</td><td>-0.3349317568095703</td><td>5.203829961945002</td><td>0.2399439180280925</td><td>1.467892948478792</td><td>0.23793546605677318</td><td>--</td><td>--</td><td>--</td><td>--</td><td>1</td><td>1</td><td>--</td><td>1.6760687415791825e+56</td><td>--</td><td>--</td><td>--</td><td>--</td><td>--</td><td>--</td><td>--</td><td>--</td><td>--</td><td>--</td><td>--</td><td>--</td><td>--</td><td>--</td><td>--</td><td>--</td><td>--</td><td>--</td><td>--</td><td>--</td><td>--</td><td>--</td><td>--</td><td>--</td><td>--</td><td>--</td><td>--</td><td>--</td><td>--</td><td>--</td><td>--</td><td>--</td><td>--</td><td>--</td><td>--</td></tr>\n",
       "<tr><td>1.0</td><td>1</td><td>--</td><td>--</td><td>--</td><td>--</td><td>--</td><td>--</td><td>--</td><td>--</td><td>--</td><td>--</td><td>--</td><td>--</td><td>--</td><td>--</td><td>--</td><td>--</td><td>--</td><td>--</td><td>--</td><td>--</td><td>--</td><td>--</td><td>--</td><td>--</td><td>--</td><td>--</td><td>--</td><td>--</td><td>--</td><td>--</td><td>--</td><td>--</td><td>--</td><td>--</td><td>--</td><td>--</td><td>--</td><td>--</td><td>--</td><td>--</td><td>0</td><td>NGC0628</td><td>522.2066631895433</td><td>416.3802480788054</td><td>24.18456023826858</td><td>15.764782713893588</td><td>522.1470588235294</td><td>416.38235294117646</td><td>0.0</td><td>0.0</td><td>0.0</td><td>77.77303481799458</td><td>3.851721991484956</td><td>34.0</td><td>0.6579524642479542</td><td>1993.4386416116101</td><td>1253.0762173929145</td><td>5471.863369820346</td><td>2279.899586375635</td><td>1773.5662493953653</td><td>1139.124739797493</td><td>0.0</td><td>441.31981495545625</td><td>53.703624011658356</td><td>90.87721532727625</td><td>0.0</td><td>148.4402197675886</td><td>0.0</td><td>0.0</td><td>83.5690007123861</td><td>132.13007314797196</td><td>77.32991845154893</td><td>61.756123998750354</td><td>59.99905096456156</td><td>58.841979837049294</td><td>168.3456021175833</td><td>58.30845444387015</td><td>73.40162278240972</td><td>106.25110860311369</td><td>128.67610666336742</td><td>19.61235253583645</td><td>54.61859441084525</td><td>53.85911856861817</td><td>29.433539944522813</td><td>50.61129147052816</td><td>261.05091737456985</td><td>1.6665537791858736</td><td>15.541843248445476</td><td>42.76952798765073</td><td>1.9222906321817002</td><td>2.6273619903479513</td><td>45.246003699878486</td><td>0.9932497980497821</td><td>1.8734728142019184</td><td>42.0110041721876</td><td>1993.4386416116101</td><td>1253.0762173929145</td><td>5471.863369820346</td><td>2279.899586375635</td><td>1773.5662493953653</td><td>1139.124739797493</td><td>0.0</td><td>441.31981495545625</td><td>53.703624011658356</td><td>90.87721532727625</td><td>0.0</td><td>148.4402197675886</td><td>0.0</td><td>0.0</td><td>83.5690007123861</td><td>132.13007314797196</td><td>77.32991845154893</td><td>61.756123998750354</td><td>59.99905096456157</td><td>58.841979837049294</td><td>--</td><td>58.308454443870154</td><td>73.40162278240972</td><td>106.25110860311369</td><td>--</td><td>19.61235253583645</td><td>--</td><td>--</td><td>0.0</td><td>0.0</td><td>8.50499964302346</td><td>0.014016902606487533</td><td>--</td><td>--</td><td>--</td><td>--</td><td>--</td><td>--</td><td>0.0</td><td>0.0</td><td>0.0</td><td>-3.016544584922501</td><td>8.056416777825488</td><td>366.4228263460634</td><td>7.0</td><td>7.0</td><td>0.26224535627923956</td><td>0.9506854387361507</td><td>6.339228545545795e+35</td><td>0.023866704893482193</td><td>9.514815573393857</td><td>5.364981140093993</td><td>0.1461444515221374</td><td>-2.2647552462454694</td><td>-0.2689968073366687</td><td>7.587345472591249</td><td>0.26017136633885946</td><td>2.512245431024099</td><td>0.21661195590513324</td><td>--</td><td>--</td><td>--</td><td>--</td><td>1</td><td>1</td><td>--</td><td>1.6760687415791825e+56</td><td>--</td><td>--</td><td>--</td><td>--</td><td>--</td><td>--</td><td>--</td><td>--</td><td>--</td><td>--</td><td>--</td><td>--</td><td>--</td><td>--</td><td>--</td><td>--</td><td>--</td><td>--</td><td>--</td><td>--</td><td>--</td><td>--</td><td>--</td><td>--</td><td>--</td><td>--</td><td>--</td><td>--</td><td>--</td><td>--</td><td>--</td><td>--</td><td>--</td><td>--</td><td>--</td></tr>\n",
       "<tr><td>2.0</td><td>2</td><td>1</td><td>0.1531141811092939</td><td>1.0564379811999893</td><td>526456.4375</td><td>0.19195436993931675</td><td>0.18315529426347685</td><td>58.52607421795276</td><td>0.18750322426933316</td><td>60.69910700475261</td><td>55.521130574144735</td><td>0.5798919326529748</td><td>0.6060147634808114</td><td>0.8238681557795474</td><td>0.7861025229788426</td><td>0.804985339379195</td><td>0.4024926696895975</td><td>0.45201799806438936</td><td>0.4312977582851773</td><td>0.4416578781747833</td><td>0.22082893908739165</td><td>9</td><td>3</td><td>3</td><td>27.664105426464783</td><td>28.910311323402897</td><td>39.30314294031004</td><td>37.50150993169727</td><td>38.402326436003655</td><td>19.201163218001827</td><td>21.563799820260655</td><td>20.575327890514433</td><td>21.069563855387543</td><td>10.534781927693771</td><td>24.189224207859642</td><td>15.791248045145883</td><td>8.9449579687342</td><td>60.0</td><td>59.0</td><td>24.18923220830068</td><td>15.791286331137355</td><td>0</td><td>NGC0628</td><td>441.12040812661144</td><td>893.389486016169</td><td>24.18924084914365</td><td>15.791283316553766</td><td>440.74545454545455</td><td>893.6181818181818</td><td>0.0</td><td>1.0</td><td>0.0</td><td>60.26446227344595</td><td>2.30169858964748</td><td>110.0</td><td>1.1834540545406398</td><td>152036.23671389703</td><td>41120.30822078811</td><td>533017.3108220277</td><td>174513.38672962072</td><td>42831.63947246263</td><td>30003.80006019577</td><td>38786.402296130254</td><td>2547.724960755531</td><td>470.3546760909839</td><td>15922.4937956854</td><td>613.1043109238686</td><td>856.9405684176977</td><td>0.0</td><td>965.5017233621058</td><td>390.4599437829316</td><td>237.7855691408451</td><td>535.0887956391579</td><td>262.8765864563387</td><td>169.31923940264554</td><td>154.95981239884767</td><td>220.43616248967362</td><td>132.67391416877368</td><td>164.5331783573329</td><td>270.2533213685221</td><td>135.00148392591962</td><td>44.62556248154582</td><td>113.50338081794635</td><td>114.48142972176811</td><td>16.30251845539198</td><td>23.911376365425514</td><td>18.62060918222958</td><td>25.594324479645387</td><td>26.405851034074146</td><td>32.582211411453606</td><td>0.13303846593196525</td><td>0.18205352751455225</td><td>0.6254922646576351</td><td>0.050941158106726545</td><td>0.08854428902529961</td><td>0.27728754963063423</td><td>291708.55647421983</td><td>76948.44617775502</td><td>834348.787607038</td><td>272743.814323986</td><td>66285.49206905805</td><td>46385.50668757679</td><td>50347.95523072287</td><td>4069.43248674846</td><td>790.8428787331304</td><td>26426.760621915313</td><td>978.3569803875224</td><td>1361.9377673146612</td><td>0.0</td><td>1426.4576165192846</td><td>2681.0636956671588</td><td>790.1928307671067</td><td>5131.947868895859</td><td>1699.7252125879884</td><td>471.5218095479525</td><td>363.7153259403915</td><td>336.9289511935531</td><td>213.48325823127104</td><td>276.6980412567408</td><td>483.8054037475443</td><td>215.51665655585333</td><td>71.43642642053436</td><td>--</td><td>169.3058419181277</td><td>0.19314168789307198</td><td>0.0026156232898025683</td><td>8.621832761486797</td><td>0.0018750248457792174</td><td>7.810038602347944</td><td>0.006221756551340633</td><td>--</td><td>--</td><td>--</td><td>--</td><td>0.0</td><td>0.0</td><td>0.0</td><td>-1.3432459585234415</td><td>8.412550063397413</td><td>273.79597910774527</td><td>13.0</td><td>6.0</td><td>0.20320764667164548</td><td>0.7366633807039406</td><td>9.666044807536406e+37</td><td>0.12909851652581672</td><td>9.514815573393857</td><td>130.55183234815695</td><td>0.31039863218401803</td><td>26.65136111482215</td><td>0.18299773725020227</td><td>132.25118457656893</td><td>1.8670059445888276</td><td>28.544683518975848</td><td>0.6202301527057036</td><td>1487.5195587469848</td><td>68.3997063949423</td><td>200.47728580731638</td><td>12.03785848109204</td><td>1</td><td>1</td><td>824078.8459170861</td><td>9.547065799982465e+37</td><td>--</td><td>5617.0</td><td>8421.0</td><td>24.189244636918982</td><td>15.791243328195106</td><td>3086.4418854836667</td><td>31.34397813426353</td><td>-999.0</td><td>-999.0</td><td>-999.0</td><td>-999.0</td><td>0.010346857897648196</td><td>8.253047296705565e-05</td><td>0.008890623747613435</td><td>0.00011221871792802508</td><td>0.007337603366628865</td><td>0.00010970058731922282</td><td>-999.0</td><td>-999.0</td><td>-999.0</td><td>-999.0</td><td>21.442202155531753</td><td>0.00869425447067731</td><td>21.57625583296433</td><td>0.013758135088596234</td><td>21.299171561290088</td><td>0.016296007593129</td><td>7.000000000000001</td><td>6.0</td><td>2361.8897335477936</td><td>7828.536</td><td>0.0</td><td>0.23</td><td>0.006361996448466942</td><td>2570.0</td></tr>\n",
       "<tr><td>3.0</td><td>3</td><td>0</td><td>0.017899279323942672</td><td>0.10360313039999895</td><td>36169.30078125</td><td>0.07258465171881698</td><td>0.05662299178810734</td><td>136.37133225316435</td><td>0.0641089708092183</td><td>41.31459330818417</td><td>37.6449870154989</td><td>0.18159818458869045</td><td>0.1843291376004113</td><td>0.3115333251771625</td><td>0.2430258807545567</td><td>0.2772796029658596</td><td>0.1386398014829298</td><td>0.17092379282906037</td><td>0.133336956072258</td><td>0.1521303744506592</td><td>0.0760651872253296</td><td>9</td><td>3</td><td>3</td><td>8.663254376953908</td><td>8.79353618943806</td><td>14.861891097760122</td><td>11.593700839733568</td><td>13.227795968746845</td><td>6.6138979843734225</td><td>8.154025876997332</td><td>6.360922444896728</td><td>7.257474160947031</td><td>3.6287370804735155</td><td>24.16077262092014</td><td>15.80299366251974</td><td>3.0583583377934245</td><td>41.0</td><td>38.0</td><td>24.16077621911788</td><td>15.80299756970003</td><td>0</td><td>NGC0628</td><td>934.1276995220431</td><td>1104.7544980325101</td><td>24.160775567120204</td><td>15.803023714753103</td><td>934.1346153846154</td><td>1104.6923076923076</td><td>0.0</td><td>0.0</td><td>0.0</td><td>83.99186351046532</td><td>0.6333370774264511</td><td>52.0</td><td>0.813685789025644</td><td>16689.44039834737</td><td>1605.7522785322635</td><td>49125.64818162869</td><td>3682.1363335143847</td><td>2965.5656308558478</td><td>1605.2919247535756</td><td>469.13848091003456</td><td>429.0796030963842</td><td>783.9941038876636</td><td>2437.932673330613</td><td>0.0</td><td>144.32316071700902</td><td>0.0</td><td>80.29830412288239</td><td>270.6151132178059</td><td>182.660632737273</td><td>270.16149343711623</td><td>140.70537938798896</td><td>128.34154744393462</td><td>126.66398838400747</td><td>204.24303897912708</td><td>135.10483419382638</td><td>167.34680471960183</td><td>344.8557145954757</td><td>161.1740271402082</td><td>45.44321510109267</td><td>117.96358888288415</td><td>127.09186320127313</td><td>119.42713946992028</td><td>50.03170137565654</td><td>73.47278687755926</td><td>43.315007503445095</td><td>5.730847898714576</td><td>18.37239978758382</td><td>0.9261711678825955</td><td>3.571859235791503</td><td>22.886372509833265</td><td>0.8214377396536959</td><td>2.5666986609241045</td><td>15.961331815861712</td><td>18299.863083538105</td><td>1754.4848060882498</td><td>52338.1610320457</td><td>3922.0568100093083</td><td>3154.406062076797</td><td>1707.2644034038135</td><td>486.7633083773885</td><td>458.4463238766164</td><td>843.7494018860108</td><td>2618.944204808347</td><td>0.0</td><td>154.09169305882557</td><td>0.0</td><td>84.85320518158723</td><td>1045.74859142948</td><td>219.95257159550857</td><td>1993.0355090342896</td><td>210.11994062770728</td><td>179.03621010929132</td><td>148.5219751099492</td><td>212.18502980897878</td><td>145.47613620728455</td><td>183.83649224364842</td><td>386.89863642314833</td><td>--</td><td>48.88902111071014</td><td>--</td><td>134.32998898560777</td><td>0.02730311963963117</td><td>0.016241389325128183</td><td>8.39920416459119</td><td>0.41492937270369135</td><td>--</td><td>--</td><td>--</td><td>--</td><td>--</td><td>--</td><td>0.0</td><td>0.0</td><td>-1.0</td><td>-2.220385797125626</td><td>8.115412842863993</td><td>167.16842893929206</td><td>15.0</td><td>7.0</td><td>0.28321482146615307</td><td>1.0267034300330338</td><td>6.063447531706368e+36</td><td>-0.07780813265802955</td><td>9.514815573393857</td><td>37.05926050917629</td><td>0.3345231486518579</td><td>5.4405607116684624</td><td>0.40270510586561375</td><td>39.58542331534148</td><td>1.6788675079252477</td><td>10.717298814508224</td><td>0.7350420858621909</td><td>206.66789890811947</td><td>13.969680572337912</td><td>21.988256869993744</td><td>2.632051067498216</td><td>1</td><td>1</td><td>38534.548830919826</td><td>4.464280027137646e+36</td><td>--</td><td>--</td><td>--</td><td>--</td><td>--</td><td>--</td><td>--</td><td>--</td><td>--</td><td>--</td><td>--</td><td>--</td><td>--</td><td>--</td><td>--</td><td>--</td><td>--</td><td>--</td><td>--</td><td>--</td><td>--</td><td>--</td><td>--</td><td>--</td><td>--</td><td>--</td><td>--</td><td>--</td><td>--</td><td>--</td><td>--</td><td>--</td><td>--</td><td>--</td><td>--</td></tr>\n",
       "<tr><td>4.0</td><td>4</td><td>0</td><td>0.05980009929613162</td><td>0.27627501439999724</td><td>71083.1875</td><td>0.119795244405173</td><td>0.11462105238084017</td><td>119.5287877703029</td><td>0.11717959286471721</td><td>48.48862514904603</td><td>43.20401581931322</td><td>0.2965485936386957</td><td>0.30485688445909276</td><td>0.5141611889870025</td><td>0.49195355681856595</td><td>0.5030573729027842</td><td>0.2515286864513921</td><td>0.28209624282468304</td><td>0.26991195172894483</td><td>0.27600409727681396</td><td>0.13800204863840698</td><td>9</td><td>3</td><td>3</td><td>14.14703515698005</td><td>14.5433873395629</td><td>24.528379405555356</td><td>23.468950496501318</td><td>23.998664951028335</td><td>11.999332475514167</td><td>13.457576769880259</td><td>12.876317582712105</td><td>13.166947176296183</td><td>6.583473588148092</td><td>24.19602889662024</td><td>15.772743353041442</td><td>5.59012538079172</td><td>49.0</td><td>42.0</td><td>24.196023046418066</td><td>15.772730103014611</td><td>0</td><td>NGC0628</td><td>323.3698315481648</td><td>560.4165004795525</td><td>24.19603867279524</td><td>15.772784771750485</td><td>323.30882352941177</td><td>560.3235294117648</td><td>0.0</td><td>0.0</td><td>0.0</td><td>87.12546184549385</td><td>3.250349009621173</td><td>68.0</td><td>0.9304852983362557</td><td>19410.992004097487</td><td>5225.143253586317</td><td>77104.04962733401</td><td>28829.053791402162</td><td>10466.11973706927</td><td>7586.4651918529335</td><td>5039.580025917475</td><td>935.4756357409722</td><td>254.98167336639943</td><td>4808.214228238404</td><td>0.0</td><td>314.65210545923566</td><td>0.0</td><td>275.21011657359344</td><td>202.90153014613347</td><td>160.109662042192</td><td>270.6396068788301</td><td>163.31505328116694</td><td>134.1866984269673</td><td>128.33954020168997</td><td>192.88881588837114</td><td>118.58177575455122</td><td>144.23993579994846</td><td>301.60208706863494</td><td>133.93435607419784</td><td>39.8855982825361</td><td>110.15208479388654</td><td>118.36776995546293</td><td>17.737705813229148</td><td>28.847305796361173</td><td>41.17181089736882</td><td>4.376695189192011</td><td>4.952965461440944</td><td>18.95445002441215</td><td>0.5410550550088266</td><td>0.7066388022865748</td><td>3.961097862249711</td><td>0.20409896883044756</td><td>0.3721421977570024</td><td>2.4820519325148718</td><td>55542.0848953781</td><td>14359.9937417814</td><td>158869.5055878461</td><td>59251.10044001971</td><td>21171.859182723834</td><td>15321.116336424937</td><td>7676.935727040032</td><td>1991.3735593660242</td><td>589.6301192407626</td><td>10888.508996932535</td><td>0.0</td><td>664.419430821771</td><td>0.0</td><td>516.573902483269</td><td>2044.1937610739167</td><td>656.5696164830093</td><td>3895.305762293838</td><td>1471.5743659232041</td><td>569.5368840991931</td><td>444.7902498805385</td><td>313.2118735177502</td><td>257.43072715747763</td><td>333.95877424376675</td><td>745.4763512110895</td><td>--</td><td>85.85629242326853</td><td>--</td><td>222.44636964623479</td><td>0.311600418477084</td><td>0.010459428262497216</td><td>8.589291920722426</td><td>0.009243988935570605</td><td>7.260357614099614</td><td>0.03308858591742874</td><td>--</td><td>--</td><td>--</td><td>--</td><td>0.0</td><td>0.0</td><td>0.0</td><td>-1.854669281286861</td><td>8.154487263725684</td><td>206.3980723941437</td><td>17.0</td><td>6.0</td><td>0.29378110081642794</td><td>1.0650080469858263</td><td>1.8405249487658299e+37</td><td>0.114355968399515</td><td>9.514815573393857</td><td>40.01844197210105</td><td>0.2518651176492502</td><td>3.036096231310496</td><td>0.2655429752747632</td><td>42.809492130861074</td><td>1.2081913888218316</td><td>8.02083179193507</td><td>0.3747958005598186</td><td>--</td><td>--</td><td>--</td><td>--</td><td>1</td><td>1</td><td>146463.78378717112</td><td>1.6968029067345044e+37</td><td>--</td><td>5022.0</td><td>6739.0</td><td>24.19604822776258</td><td>15.772731565587183</td><td>828.7668025835773</td><td>16.242064727222417</td><td>0.0015385790289602565</td><td>7.01174154205215e-05</td><td>0.0016161586377210302</td><td>7.949204170800488e-05</td><td>0.0013043918665737392</td><td>4.751819826569373e-05</td><td>0.001226966803117208</td><td>5.014455456710338e-05</td><td>0.0010189975390374393</td><td>6.124652819381107e-05</td><td>21.941302783107982</td><td>0.04967439525028302</td><td>22.240444459871124</td><td>0.05361251268248433</td><td>23.690703161658366</td><td>0.03970803363383141</td><td>23.72650437957387</td><td>0.044546897551980005</td><td>23.44262430419345</td><td>0.06551410889011114</td><td>1.0</td><td>1.0</td><td>1514.5570798885624</td><td>514.808</td><td>0.26</td><td>0.05</td><td>1.1614284853505168</td><td>1393.0</td></tr>\n",
       "<tr><td>5.0</td><td>5</td><td>0</td><td>0.019887578034609183</td><td>0.1601139287999984</td><td>90844.125</td><td>0.07030686089358172</td><td>0.06495106153148632</td><td>99.9850687013097</td><td>0.06757592210236332</td><td>55.01753165749891</td><td>51.36663275849258</td><td>0.22575616592413825</td><td>0.23761768290067362</td><td>0.30175704695525274</td><td>0.27876995609313926</td><td>0.290263501524196</td><td>0.145131750762098</td><td>0.1655600053354088</td><td>0.15294806164038258</td><td>0.15925403348789569</td><td>0.07962701674394784</td><td>9</td><td>3</td><td>3</td><td>10.7698383494106</td><td>11.335699396408549</td><td>14.395507662881041</td><td>13.298894191905605</td><td>13.847200927393324</td><td>6.923600463696662</td><td>7.898143057537025</td><td>7.296482437056149</td><td>7.597312747296587</td><td>3.7986563736482934</td><td>24.190966286602283</td><td>15.758944841488702</td><td>3.223751406193598</td><td>55.0</td><td>51.0</td><td>24.190966486562488</td><td>15.75894080646838</td><td>0</td><td>NGC0628</td><td>411.03477392047233</td><td>311.553516664322</td><td>24.190977856295312</td><td>15.758959107096612</td><td>411.1011235955056</td><td>311.19101123595505</td><td>0.0</td><td>0.0</td><td>0.0</td><td>107.56679428112682</td><td>3.76276762492395</td><td>89.0</td><td>1.0645107772184812</td><td>24479.81798310408</td><td>1920.1612227554622</td><td>114350.89477047694</td><td>12077.160387946691</td><td>8074.8308877740765</td><td>5650.339126631298</td><td>832.4751178514578</td><td>1600.7421636569456</td><td>518.2597139703599</td><td>3438.5496114100993</td><td>0.0</td><td>538.4179692644561</td><td>0.0</td><td>68.19440745184326</td><td>217.11747246684484</td><td>122.36211486787407</td><td>241.4745239656682</td><td>106.86548697472128</td><td>99.94214109346768</td><td>94.88631607689264</td><td>113.18094330180128</td><td>92.02625104285002</td><td>109.147471966272</td><td>199.25266822393806</td><td>92.07908802911838</td><td>30.953509147480116</td><td>89.02088570242569</td><td>91.98816128624077</td><td>91.54177999718434</td><td>36.978130130604306</td><td>28.610836732199623</td><td>-19.16804527312737</td><td>-8.270878362594797</td><td>-12.810712267460612</td><td>0.26444889003474975</td><td>0.8872914880513038</td><td>12.094496938568088</td><td>0.23955181882359794</td><td>0.5432104443676478</td><td>5.823792911342856</td><td>117677.70782280249</td><td>8690.810635904305</td><td>336618.81893572066</td><td>35418.06455963639</td><td>23125.93218327606</td><td>16142.15446610647</td><td>1560.8827111384965</td><td>4947.243581839289</td><td>1812.5112666725051</td><td>11655.707598213927</td><td>0.0</td><td>1644.0743823190726</td><td>0.0</td><td>174.64999377383918</td><td>3588.750421121767</td><td>605.1297761389039</td><td>6791.3594806244855</td><td>774.4078443413542</td><td>535.1745029289158</td><td>415.50080109350756</td><td>212.99507001287077</td><td>302.74440798788083</td><td>384.0441543329667</td><td>725.3254443847433</td><td>--</td><td>100.48269137007355</td><td>--</td><td>235.60700530785348</td><td>0.4653698192149863</td><td>0.008648278258840923</td><td>8.418654410244113</td><td>0.006856398292890207</td><td>6.044628807390472</td><td>0.10035455448864886</td><td>--</td><td>--</td><td>--</td><td>--</td><td>0.0</td><td>0.0</td><td>0.0</td><td>-1.6454525273300613</td><td>8.034701503631334</td><td>239.68918097512417</td><td>13.0</td><td>6.0</td><td>0.36270787627208545</td><td>1.3148797041790838</td><td>3.899775052379082e+37</td><td>-0.04273696732737875</td><td>9.514815573393857</td><td>58.409541904300816</td><td>0.21479233187912652</td><td>7.4914261215522755</td><td>0.19074043004928487</td><td>57.75059847392474</td><td>1.0882659458662336</td><td>9.427549763425143</td><td>0.29628685612966416</td><td>587.6940472157679</td><td>32.83578681075428</td><td>81.2570942699313</td><td>9.27446082406692</td><td>1</td><td>1</td><td>267421.0999933869</td><td>3.098109908523766e+37</td><td>--</td><td>5467.0</td><td>5484.0</td><td>24.19095833455602</td><td>15.758919927406263</td><td>6465.809968432219</td><td>45.36663129589499</td><td>-999.0</td><td>-999.0</td><td>-999.0</td><td>-999.0</td><td>0.008082120804459296</td><td>4.571614059493653e-05</td><td>0.008185798126432515</td><td>0.0001549180097981534</td><td>0.010941923163195302</td><td>8.183730270369567e-05</td><td>-999.0</td><td>-999.0</td><td>-999.0</td><td>-999.0</td><td>21.710410022975882</td><td>0.006165534326211368</td><td>21.665933835763724</td><td>0.020628487054270787</td><td>20.86532299024001</td><td>0.008152374917699476</td><td>9.0</td><td>48.0</td><td>5950.254350005416</td><td>22298.262</td><td>0.14</td><td>0.05</td><td>0.6311667028155108</td><td>452.0</td></tr>\n",
       "<tr><td>6.0</td><td>6</td><td>0</td><td>0.060777413078588506</td><td>0.197787794399998</td><td>19777.763671875</td><td>0.12235647038255384</td><td>0.11405578944069779</td><td>113.30050054625178</td><td>0.1181332460514801</td><td>32.38140192895898</td><td>28.524759734199712</td><td>0.25091395003866634</td><td>0.26259054107036306</td><td>0.5251539708819211</td><td>0.48952744827947486</td><td>0.507340709580698</td><td>0.253670354790349</td><td>0.28812746909607345</td><td>0.26858085922678443</td><td>0.27835416416142894</td><td>0.13917708208071447</td><td>9</td><td>3</td><td>3</td><td>11.970006092487369</td><td>12.527045132235276</td><td>25.052796905002012</td><td>23.353211479242688</td><td>24.20300419212235</td><td>12.101502096061175</td><td>13.745300171479046</td><td>12.812816986758516</td><td>13.27905857911878</td><td>6.63952928955939</td><td>24.188038365345868</td><td>15.79118218100203</td><td>5.635619999380733</td><td>33.0</td><td>26.0</td><td>24.188031287134088</td><td>15.791154395374386</td><td>0</td><td>NGC0628</td><td>461.9061220477422</td><td>892.1639887963925</td><td>24.188040797611496</td><td>15.791215219580028</td><td>461.90625</td><td>892.21875</td><td>0.0</td><td>0.0</td><td>0.0</td><td>56.44520929124434</td><td>2.271475267842164</td><td>32.0</td><td>0.6383076486422924</td><td>6437.990949897997</td><td>1001.1955878296199</td><td>22627.327094116798</td><td>7378.330996286425</td><td>2957.3483324483554</td><td>2061.111560281034</td><td>1297.0097802343214</td><td>306.43003133701734</td><td>0.0</td><td>465.81557275729256</td><td>214.3414650662304</td><td>103.0693380482973</td><td>0.0</td><td>48.341938228580695</td><td>125.44940018151036</td><td>105.35548824572359</td><td>115.45846121217008</td><td>79.99857957054368</td><td>69.63207676683338</td><td>66.36131818935598</td><td>105.04430910873793</td><td>67.81098669140273</td><td>84.63990213315331</td><td>129.34986579421007</td><td>86.0271600055863</td><td>22.80857878122882</td><td>59.7466443116617</td><td>62.85040751153258</td><td>13.738956933930112</td><td>26.44240702132543</td><td>54.25497787635047</td><td>18.242816919139646</td><td>21.341035536572566</td><td>67.06737417998674</td><td>1.0785458077390504</td><td>1.4839997068530701</td><td>8.024285381791199</td><td>0.31662011787127353</td><td>0.7137369018476917</td><td>6.683821738233552</td><td>12451.928579170319</td><td>1888.0475879002138</td><td>35615.20852377574</td><td>11595.028870034159</td><td>4601.41289273465</td><td>3203.5902739928842</td><td>1689.0422814457816</td><td>492.2849698997611</td><td>0.0</td><td>777.9573667086302</td><td>344.0075449035885</td><td>164.74536973691164</td><td>0.0</td><td>71.76567306762647</td><td>838.5742730233306</td><td>230.59043529172257</td><td>1589.206262562515</td><td>527.4007794768854</td><td>226.3918874191147</td><td>172.34419078506306</td><td>143.57268789923026</td><td>111.30114140987385</td><td>--</td><td>219.51757726489313</td><td>138.98236866949637</td><td>37.23078830422598</td><td>--</td><td>93.34525295497292</td><td>0.19551956704652443</td><td>0.019106884436542317</td><td>8.55909056395816</td><td>0.01624976032137805</td><td>7.2810028129947035</td><td>0.06748183418257331</td><td>--</td><td>--</td><td>--</td><td>--</td><td>0.0</td><td>0.0</td><td>-1.0</td><td>-2.1767153994505124</td><td>8.145363379593341</td><td>250.1224978205242</td><td>12.0</td><td>7.0</td><td>0.1903293867274126</td><td>0.6899774283616437</td><td>4.126070613800757e+36</td><td>0.06382565434139487</td><td>9.514815573393857</td><td>18.877163057894574</td><td>0.16294902030527805</td><td>2.836101116067662</td><td>0.26698715224000613</td><td>20.684045146141703</td><td>0.5788435187848918</td><td>5.589689586383249</td><td>0.30928444487025597</td><td>--</td><td>--</td><td>--</td><td>--</td><td>1</td><td>1</td><td>31130.021428422668</td><td>3.60645543086684e+36</td><td>--</td><td>--</td><td>--</td><td>--</td><td>--</td><td>--</td><td>--</td><td>--</td><td>--</td><td>--</td><td>--</td><td>--</td><td>--</td><td>--</td><td>--</td><td>--</td><td>--</td><td>--</td><td>--</td><td>--</td><td>--</td><td>--</td><td>--</td><td>--</td><td>--</td><td>--</td><td>--</td><td>--</td><td>--</td><td>--</td><td>--</td><td>--</td><td>--</td><td>--</td><td>--</td></tr>\n",
       "<tr><td>7.0</td><td>7</td><td>0</td><td>0.11268799441427983</td><td>0.4615048535999953</td><td>105414.015625</td><td>0.17317082530705194</td><td>0.14941871155175676</td><td>-162.97342625142988</td><td>0.16085696004753433</td><td>54.642303780926675</td><td>52.27726754226296</td><td>0.3832773896575188</td><td>0.39420282237042564</td><td>0.7432491822178668</td><td>0.64130510998014</td><td>0.6922771460990034</td><td>0.3461385730495017</td><td>0.4077861306475987</td><td>0.3518541770647743</td><td>0.3798201538561865</td><td>0.18991007692809325</td><td>9</td><td>3</td><td>3</td><td>18.28448632930198</td><td>18.805690894119532</td><td>35.457164649526746</td><td>30.593859259011328</td><td>33.025511954269035</td><td>16.512755977134518</td><td>19.45369106632534</td><td>16.785422422641094</td><td>18.11955674448322</td><td>9.05977837224161</td><td>24.18090883255841</td><td>15.77638863290102</td><td>7.673781356083494</td><td>56.0</td><td>55.0</td><td>24.18089330783431</td><td>15.77641859922585</td><td>0</td><td>NGC0628</td><td>585.4992216700356</td><td>625.663801177939</td><td>24.18090596456621</td><td>15.776409436094214</td><td>585.6483516483516</td><td>625.6703296703297</td><td>0.0</td><td>1.0</td><td>0.0</td><td>35.914518164634124</td><td>3.5978466097308135</td><td>91.0</td><td>1.0764051215546115</td><td>34514.09546588196</td><td>4010.681754535734</td><td>116815.81992364698</td><td>43813.51430851741</td><td>13594.063438552714</td><td>9660.982497353634</td><td>5785.142179871183</td><td>2001.6592168115178</td><td>778.0134742702058</td><td>3954.3801770660684</td><td>0.0</td><td>673.2685095349979</td><td>0.0</td><td>0.0</td><td>200.7943175134077</td><td>140.75465968728662</td><td>247.8641965386054</td><td>153.22659493580576</td><td>118.33815921332935</td><td>115.37525558162973</td><td>145.66173225298255</td><td>117.93672438354511</td><td>141.25584411851744</td><td>221.25533239073303</td><td>115.16407379065295</td><td>39.668631892111975</td><td>96.88839941927287</td><td>104.37016302917047</td><td>1.0</td><td>20.721647714051922</td><td>12.795744176400246</td><td>-10.23973886572998</td><td>-8.894847350486327</td><td>1.997740218483798</td><td>4.267456906321569</td><td>0.5295409189664045</td><td>4.4122424406564305</td><td>0.1154851009250275</td><td>0.21643589031513602</td><td>1.3072826760093312</td><td>59165.4424181239</td><td>6734.551538066675</td><td>169223.61914778844</td><td>63387.678010685864</td><td>19507.982341297822</td><td>13852.049239275277</td><td>7178.383391363199</td><td>2948.5416274129966</td><td>1195.7349420620908</td><td>6012.67965017922</td><td>0.0</td><td>987.6582318172132</td><td>0.0</td><td>0.0</td><td>1222.0525541199536</td><td>268.94973980301864</td><td>2334.00544782699</td><td>888.9288198838743</td><td>309.78739921511306</td><td>247.08923502869672</td><td>189.50366772235552</td><td>178.7303058022673</td><td>217.91804249998114</td><td>348.94554222217596</td><td>--</td><td>59.83323182770995</td><td>--</td><td>--</td><td>0.15974791251011466</td><td>0.005874126041168653</td><td>8.616293677430589</td><td>0.0047279075033229935</td><td>7.2768578483089685</td><td>0.021121199650601497</td><td>--</td><td>--</td><td>--</td><td>--</td><td>0.0</td><td>0.0</td><td>0.0</td><td>-1.9537813259211314</td><td>8.403860493999733</td><td>239.52422728787283</td><td>20.0</td><td>7.0</td><td>0.1211012998749861</td><td>0.4390134644770578</td><td>1.96047877035616e+37</td><td>0.1074249833473111</td><td>9.514815573393857</td><td>23.262523666732164</td><td>0.07507836378846192</td><td>5.405628494304093</td><td>0.10077125580401775</td><td>25.0653894787075</td><td>0.2627212368252822</td><td>7.781311430780052</td><td>0.14242608947362742</td><td>--</td><td>--</td><td>--</td><td>--</td><td>1</td><td>1</td><td>152706.55331292993</td><td>1.7691262429441822e+37</td><td>--</td><td>6345.0</td><td>7071.0</td><td>24.180918226071295</td><td>15.7763860550225</td><td>1050.2475860326367</td><td>18.28398724498706</td><td>0.002096654464747367</td><td>6.315393409835845e-05</td><td>0.0021548940724177056</td><td>4.911631732135431e-05</td><td>0.001903995207598668</td><td>2.1661502780440885e-05</td><td>0.0015493305494647127</td><td>6.239360246719855e-05</td><td>0.0021130491355969734</td><td>3.853776512917849e-05</td><td>21.605285146568793</td><td>0.03283220450705272</td><td>21.92808961280708</td><td>0.024844277296753647</td><td>23.280058739696415</td><td>0.012400786481211247</td><td>23.473226200263582</td><td>0.04389575014366254</td><td>22.650783152077803</td><td>0.01987940710093193</td><td>9.0</td><td>1.0</td><td>817.6498422891696</td><td>269.986</td><td>0.0</td><td>0.03</td><td>4.277373925582754</td><td>1640.0</td></tr>\n",
       "<tr><td>8.0</td><td>8</td><td>--</td><td>--</td><td>--</td><td>--</td><td>--</td><td>--</td><td>--</td><td>--</td><td>--</td><td>--</td><td>--</td><td>--</td><td>--</td><td>--</td><td>--</td><td>--</td><td>--</td><td>--</td><td>--</td><td>--</td><td>--</td><td>--</td><td>--</td><td>--</td><td>--</td><td>--</td><td>--</td><td>--</td><td>--</td><td>--</td><td>--</td><td>--</td><td>--</td><td>--</td><td>--</td><td>--</td><td>--</td><td>--</td><td>--</td><td>--</td><td>1</td><td>NGC0628</td><td>362.3058223934789</td><td>939.5051708193666</td><td>24.1937912023293</td><td>15.793845291543127</td><td>362.27536231884056</td><td>939.5507246376811</td><td>0.0</td><td>0.0</td><td>0.0</td><td>78.5967926166728</td><td>2.2898392174428666</td><td>69.0</td><td>0.9373021315815208</td><td>16063.859132849519</td><td>10584.627625575891</td><td>92854.93829132164</td><td>29399.000130517856</td><td>9057.252064272996</td><td>6357.800470218065</td><td>12215.299963411844</td><td>662.2624724176344</td><td>516.122812105845</td><td>2684.7224617291527</td><td>388.3523469243488</td><td>222.75543408224846</td><td>0.0</td><td>440.32578827164053</td><td>189.5451368758046</td><td>155.39777577085133</td><td>229.7060149422835</td><td>133.4839379539984</td><td>100.79391733975088</td><td>98.09230285609371</td><td>139.9725733256291</td><td>100.116034589375</td><td>121.56831659030811</td><td>191.31618376271692</td><td>107.08073283178267</td><td>33.6745500045275</td><td>80.73383435823895</td><td>80.87848221862195</td><td>10.01112818990912</td><td>25.748541238719223</td><td>20.575077393468906</td><td>13.898157442092762</td><td>14.50462112680164</td><td>26.397894398978686</td><td>0.6112218714329135</td><td>0.6069302878831314</td><td>1.3561274869463793</td><td>0.14115542013126925</td><td>0.29350127153675865</td><td>0.6215877727457633</td><td>152702.1845636637</td><td>92288.17183929526</td><td>436840.9892247366</td><td>137562.6200231078</td><td>40963.7683254055</td><td>28652.53368488456</td><td>30092.14198011052</td><td>3340.973278762179</td><td>3108.871440195321</td><td>15462.739798354849</td><td>1952.6443006469929</td><td>1104.474519899084</td><td>0.0</td><td>1696.4866496938241</td><td>6161.151876494155</td><td>3682.5065428537787</td><td>11640.53599834004</td><td>3690.296132348375</td><td>1153.1265347747014</td><td>861.2284823234735</td><td>578.773080076579</td><td>513.4898745230952</td><td>738.4884917526769</td><td>1195.546167701693</td><td>541.1087681741772</td><td>169.69310170461</td><td>--</td><td>314.0651939681659</td><td>0.6674568983171356</td><td>0.011435979452416591</td><td>8.58110023570306</td><td>0.009077051052475324</td><td>7.7858003333727535</td><td>0.02060219135521662</td><td>--</td><td>--</td><td>--</td><td>--</td><td>0.0</td><td>0.0</td><td>0.0</td><td>-1.4217266214181679</td><td>8.386849960947586</td><td>233.14911542990504</td><td>13.0</td><td>6.0</td><td>0.2650230112583428</td><td>0.9607549254944009</td><td>5.060862601269289e+37</td><td>0.10051312544983126</td><td>9.514815573393857</td><td>54.041764201892086</td><td>0.26205468705759705</td><td>6.561990181841564</td><td>0.2717930453280871</td><td>56.24366654995471</td><td>1.418124961639121</td><td>9.05248549625422</td><td>0.4343419554530212</td><td>--</td><td>--</td><td>--</td><td>--</td><td>1</td><td>1</td><td>--</td><td>1.6760687415791825e+56</td><td>--</td><td>--</td><td>--</td><td>--</td><td>--</td><td>--</td><td>--</td><td>--</td><td>--</td><td>--</td><td>--</td><td>--</td><td>--</td><td>--</td><td>--</td><td>--</td><td>--</td><td>--</td><td>--</td><td>--</td><td>--</td><td>--</td><td>--</td><td>--</td><td>--</td><td>--</td><td>--</td><td>--</td><td>--</td><td>--</td><td>--</td><td>--</td><td>--</td><td>--</td><td>--</td></tr>\n",
       "<tr><td>...</td><td>...</td><td>...</td><td>...</td><td>...</td><td>...</td><td>...</td><td>...</td><td>...</td><td>...</td><td>...</td><td>...</td><td>...</td><td>...</td><td>...</td><td>...</td><td>...</td><td>...</td><td>...</td><td>...</td><td>...</td><td>...</td><td>...</td><td>...</td><td>...</td><td>...</td><td>...</td><td>...</td><td>...</td><td>...</td><td>...</td><td>...</td><td>...</td><td>...</td><td>...</td><td>...</td><td>...</td><td>...</td><td>...</td><td>...</td><td>...</td><td>...</td><td>...</td><td>...</td><td>...</td><td>...</td><td>...</td><td>...</td><td>...</td><td>...</td><td>...</td><td>...</td><td>...</td><td>...</td><td>...</td><td>...</td><td>...</td><td>...</td><td>...</td><td>...</td><td>...</td><td>...</td><td>...</td><td>...</td><td>...</td><td>...</td><td>...</td><td>...</td><td>...</td><td>...</td><td>...</td><td>...</td><td>...</td><td>...</td><td>...</td><td>...</td><td>...</td><td>...</td><td>...</td><td>...</td><td>...</td><td>...</td><td>...</td><td>...</td><td>...</td><td>...</td><td>...</td><td>...</td><td>...</td><td>...</td><td>...</td><td>...</td><td>...</td><td>...</td><td>...</td><td>...</td><td>...</td><td>...</td><td>...</td><td>...</td><td>...</td><td>...</td><td>...</td><td>...</td><td>...</td><td>...</td><td>...</td><td>...</td><td>...</td><td>...</td><td>...</td><td>...</td><td>...</td><td>...</td><td>...</td><td>...</td><td>...</td><td>...</td><td>...</td><td>...</td><td>...</td><td>...</td><td>...</td><td>...</td><td>...</td><td>...</td><td>...</td><td>...</td><td>...</td><td>...</td><td>...</td><td>...</td><td>...</td><td>...</td><td>...</td><td>...</td><td>...</td><td>...</td><td>...</td><td>...</td><td>...</td><td>...</td><td>...</td><td>...</td><td>...</td><td>...</td><td>...</td><td>...</td><td>...</td><td>...</td><td>...</td><td>...</td><td>...</td><td>...</td><td>...</td><td>...</td><td>...</td><td>...</td><td>...</td><td>...</td><td>...</td><td>...</td><td>...</td><td>...</td><td>...</td><td>...</td><td>...</td><td>...</td><td>...</td><td>...</td><td>...</td><td>...</td><td>...</td><td>...</td><td>...</td><td>...</td><td>...</td><td>...</td><td>...</td><td>...</td><td>...</td><td>...</td><td>...</td><td>...</td><td>...</td><td>...</td><td>...</td><td>...</td><td>...</td><td>...</td><td>...</td><td>...</td><td>...</td><td>...</td><td>...</td><td>...</td><td>...</td><td>...</td><td>...</td></tr>\n",
       "<tr><td>2859.0</td><td>2859</td><td>0</td><td>0.014588386066189818</td><td>0.040813354399999585</td><td>3543.529296875</td><td>0.08938657661858715</td><td>0.037474600141339055</td><td>-176.58269767138376</td><td>0.05787681933887453</td><td>36.529342644046125</td><td>28.979927204066605</td><td>0.11397935863059847</td><td>0.11615058912956153</td><td>0.383647186846976</td><td>0.16084098380662723</td><td>0.2722440853268016</td><td>0.1361220426634008</td><td>0.21048930237814378</td><td>0.08824593959234485</td><td>0.1493676209852443</td><td>0.07468381049262215</td><td>9</td><td>3</td><td>3</td><td>5.437456215630179</td><td>5.541036117412352</td><td>18.302127734294032</td><td>7.673019199571417</td><td>12.987573466932725</td><td>6.493786733466362</td><td>10.04152312568324</td><td>4.2098274503863236</td><td>7.125675288034781</td><td>3.5628376440173906</td><td>24.14853254284295</td><td>15.791881172293083</td><td>2.7610496745731323</td><td>38.0</td><td>29.0</td><td>24.148515722571688</td><td>15.791881391955226</td><td>0</td><td>NGC0628</td><td>1146.3427239166824</td><td>905.5373418397917</td><td>24.14852506466364</td><td>15.791954052556108</td><td>1146.341463414634</td><td>905.4146341463414</td><td>0.0</td><td>1.0</td><td>0.0</td><td>93.96586677931852</td><td>6.251337196274386</td><td>41.0</td><td>0.7225151993843567</td><td>15729.45822734742</td><td>5004.717474809032</td><td>52828.71628241293</td><td>13767.99235420137</td><td>8495.322307493283</td><td>5794.165459456175</td><td>1531.068642957324</td><td>760.3043867120998</td><td>315.91859577163774</td><td>2014.4818888323905</td><td>0.0</td><td>255.7323429159804</td><td>0.0</td><td>104.39338492049623</td><td>120.69448005439034</td><td>80.49506470594093</td><td>151.64182173955848</td><td>85.00579379154833</td><td>70.56079652016342</td><td>66.06029211946426</td><td>83.02262433787988</td><td>59.42005032802882</td><td>68.01081639728628</td><td>124.85841804758041</td><td>65.23264211301905</td><td>19.986243604729236</td><td>52.81483139228393</td><td>56.88058426424499</td><td>19.72648268683048</td><td>30.553957761965133</td><td>42.832216780244885</td><td>12.337238995926551</td><td>10.422266717586627</td><td>12.338233866631619</td><td>0.3986641331257597</td><td>0.6158593582514418</td><td>3.2439702361519545</td><td>0.16715765059669097</td><td>0.3390968529784767</td><td>1.7570289741243015</td><td>26306.785553713602</td><td>8206.607635217593</td><td>75241.84194869618</td><td>19584.981783730957</td><td>11991.14138646386</td><td>8171.808535184354</td><td>1881.1195213537308</td><td>1100.2777853450966</td><td>476.07658228187245</td><td>3004.831517972532</td><td>0.0</td><td>368.6244426553046</td><td>0.0</td><td>142.05359886826102</td><td>718.66501854235</td><td>245.4282398096788</td><td>1373.6511249607333</td><td>372.06909426100634</td><td>233.04567167338107</td><td>170.87797200149978</td><td>103.89787701073331</td><td>88.45386662112425</td><td>102.97172726651492</td><td>196.05512012008785</td><td>--</td><td>29.617248829452116</td><td>--</td><td>77.43255967685216</td><td>0.15243342366450796</td><td>0.007771142516006788</td><td>8.459711968897652</td><td>0.007220246612004476</td><td>6.667122213360438</td><td>0.04163268893699386</td><td>--</td><td>--</td><td>--</td><td>--</td><td>0.0</td><td>0.0</td><td>0.0</td><td>-1.9595253505913397</td><td>7.763925167136309</td><td>225.49249153651604</td><td>20.0</td><td>7.0</td><td>0.3168464785937404</td><td>1.1486240892408908</td><td>8.716870288306927e+36</td><td>-0.010691481630283661</td><td>9.514815573393857</td><td>36.656575381730725</td><td>0.1678048658744717</td><td>3.5086645435666077</td><td>0.13109209397475932</td><td>38.70497487816444</td><td>0.7224659490192661</td><td>7.5436361403300465</td><td>0.17779750974567793</td><td>226.2423251069514</td><td>7.7488103310888645</td><td>13.473365599412366</td><td>0.6286320779747571</td><td>1</td><td>1</td><td>5046.908008718804</td><td>5.846911746906411e+35</td><td>--</td><td>--</td><td>--</td><td>--</td><td>--</td><td>--</td><td>--</td><td>--</td><td>--</td><td>--</td><td>--</td><td>--</td><td>--</td><td>--</td><td>--</td><td>--</td><td>--</td><td>--</td><td>--</td><td>--</td><td>--</td><td>--</td><td>--</td><td>--</td><td>--</td><td>--</td><td>--</td><td>--</td><td>--</td><td>--</td><td>--</td><td>--</td><td>--</td><td>--</td><td>--</td></tr>\n",
       "<tr><td>2860.0</td><td>2860</td><td>--</td><td>--</td><td>--</td><td>--</td><td>--</td><td>--</td><td>--</td><td>--</td><td>--</td><td>--</td><td>--</td><td>--</td><td>--</td><td>--</td><td>--</td><td>--</td><td>--</td><td>--</td><td>--</td><td>--</td><td>--</td><td>--</td><td>--</td><td>--</td><td>--</td><td>--</td><td>--</td><td>--</td><td>--</td><td>--</td><td>--</td><td>--</td><td>--</td><td>--</td><td>--</td><td>--</td><td>--</td><td>--</td><td>--</td><td>--</td><td>0</td><td>NGC0628</td><td>549.8039993625624</td><td>565.32598051895</td><td>24.182966794151213</td><td>15.773057421948662</td><td>549.75</td><td>565.25</td><td>0.0</td><td>0.0</td><td>0.0</td><td>49.79883130732434</td><td>3.659636436050844</td><td>36.0</td><td>0.6770275002573076</td><td>6250.782158045768</td><td>1319.0330735434611</td><td>17869.11928454615</td><td>6937.725301884679</td><td>4339.537756795816</td><td>3219.6455418009114</td><td>368.07036778642123</td><td>1082.605522865503</td><td>132.55863079449756</td><td>1179.939955467085</td><td>0.0</td><td>364.1400097840169</td><td>0.0</td><td>0.0</td><td>101.44923274652936</td><td>98.02723266351711</td><td>118.02819891489735</td><td>82.92246074820245</td><td>76.29881068365353</td><td>75.54428196673746</td><td>105.62358185810227</td><td>81.08137879821078</td><td>92.45442112980994</td><td>141.77265676987682</td><td>87.69414851592501</td><td>27.27214432708017</td><td>64.09287621731582</td><td>70.07340089065987</td><td>14.274587477298319</td><td>29.8955311362317</td><td>49.418572814775494</td><td>-7.240384849869579</td><td>-3.6782319856725696</td><td>-6.022479128291144</td><td>1.3769659234440068</td><td>1.341011850095206</td><td>14.556165409285127</td><td>0.40297886553043755</td><td>0.702721714363707</td><td>8.958168166095923</td><td>6250.782158045768</td><td>1319.0330735434611</td><td>17869.11928454615</td><td>6937.725301884679</td><td>4339.537756795816</td><td>3219.6455418009114</td><td>368.07036778642123</td><td>1082.605522865503</td><td>132.55863079449756</td><td>1179.939955467085</td><td>0.0</td><td>364.1400097840169</td><td>0.0</td><td>0.0</td><td>101.44923274652935</td><td>98.02723266351711</td><td>118.02819891489735</td><td>82.92246074820245</td><td>76.29881068365353</td><td>75.54428196673746</td><td>105.62358185810227</td><td>81.08137879821078</td><td>92.45442112980994</td><td>141.77265676987682</td><td>--</td><td>27.27214432708017</td><td>--</td><td>--</td><td>0.0</td><td>0.0</td><td>8.50165538328916</td><td>0.005856405913062917</td><td>--</td><td>0.20963074740293158</td><td>--</td><td>--</td><td>--</td><td>--</td><td>0.0</td><td>0.0</td><td>0.0</td><td>-2.5274002653834193</td><td>8.341788825688894</td><td>209.00417827203864</td><td>23.0</td><td>6.0</td><td>0.1679182545600934</td><td>0.6087331412583286</td><td>2.0701619064014922e+36</td><td>0.0019865355380854766</td><td>9.514815573393857</td><td>8.090661458052528</td><td>0.0931345201531594</td><td>0.4075352451494813</td><td>0.13561990363958806</td><td>10.043670318960988</td><td>0.19345214856355267</td><td>3.497622913616144</td><td>0.12314097425180628</td><td>259.54369034175863</td><td>42.42586157900384</td><td>--</td><td>--</td><td>1</td><td>1</td><td>--</td><td>1.6760687415791825e+56</td><td>--</td><td>--</td><td>--</td><td>--</td><td>--</td><td>--</td><td>--</td><td>--</td><td>--</td><td>--</td><td>--</td><td>--</td><td>--</td><td>--</td><td>--</td><td>--</td><td>--</td><td>--</td><td>--</td><td>--</td><td>--</td><td>--</td><td>--</td><td>--</td><td>--</td><td>--</td><td>--</td><td>--</td><td>--</td><td>--</td><td>--</td><td>--</td><td>--</td><td>--</td><td>--</td></tr>\n",
       "<tr><td>2861.0</td><td>2861</td><td>--</td><td>--</td><td>--</td><td>--</td><td>--</td><td>--</td><td>--</td><td>--</td><td>--</td><td>--</td><td>--</td><td>--</td><td>--</td><td>--</td><td>--</td><td>--</td><td>--</td><td>--</td><td>--</td><td>--</td><td>--</td><td>--</td><td>--</td><td>--</td><td>--</td><td>--</td><td>--</td><td>--</td><td>--</td><td>--</td><td>--</td><td>--</td><td>--</td><td>--</td><td>--</td><td>--</td><td>--</td><td>--</td><td>--</td><td>--</td><td>1</td><td>NGC0628</td><td>225.0241330884124</td><td>809.2997327211461</td><td>24.20171681365042</td><td>15.786611417176816</td><td>224.9375</td><td>809.1875</td><td>0.0</td><td>0.0</td><td>0.0</td><td>97.9611515070408</td><td>2.6689119688359737</td><td>32.0</td><td>0.6383076486422924</td><td>4446.245545120535</td><td>2157.121454507979</td><td>17228.90100753486</td><td>5021.24117545052</td><td>3093.609886856303</td><td>2211.726070846721</td><td>458.4653737847053</td><td>617.0431676199089</td><td>0.0</td><td>2123.4495965815</td><td>318.8663856149878</td><td>207.54568524604582</td><td>0.0</td><td>128.88140220143006</td><td>147.05468885201242</td><td>128.57007618283922</td><td>160.3067453610194</td><td>98.82725986483534</td><td>88.22575974285449</td><td>85.60861445060044</td><td>126.58079992141019</td><td>86.76721552428334</td><td>107.91972863592093</td><td>231.46855991808857</td><td>96.41887839597531</td><td>29.184605142523093</td><td>81.44539373655375</td><td>87.22202219701923</td><td>37.31000070812331</td><td>37.36915655049322</td><td>50.3668554997076</td><td>8.598155887487419</td><td>10.707797526204125</td><td>1.3117856131044714</td><td>1.0228583907647926</td><td>2.0507661548205607</td><td>12.156339088075764</td><td>0.6554726107241119</td><td>1.2563630209936731</td><td>6.673155792647522</td><td>11752.086095893583</td><td>5492.874200414657</td><td>33614.71097601014</td><td>9773.910718484312</td><td>5934.036614781298</td><td>4235.924040369465</td><td>676.5603934182868</td><td>1240.7262756827279</td><td>0.0</td><td>4521.05265360246</td><td>640.2435321030747</td><td>414.219293466981</td><td>0.0</td><td>230.68668512910097</td><td>1349.4184775078827</td><td>666.7241902710518</td><td>2560.851419263223</td><td>761.1532285854275</td><td>468.8722199840073</td><td>351.9260791544668</td><td>189.15566807973687</td><td>200.12939143400817</td><td>--</td><td>626.3094643083704</td><td>200.07228553705426</td><td>66.6428834030355</td><td>--</td><td>156.85747248540002</td><td>0.2880871750674552</td><td>0.032590784660640304</td><td>8.475549728758583</td><td>0.03233705774555061</td><td>--</td><td>0.20827963865280757</td><td>--</td><td>--</td><td>--</td><td>--</td><td>0.0</td><td>0.0</td><td>0.0</td><td>-2.201821509410805</td><td>8.046451426321239</td><td>243.23414643099542</td><td>19.0</td><td>7.0</td><td>0.330318305549066</td><td>1.1974618261652532</td><td>3.89431023706996e+36</td><td>0.007793582794487719</td><td>9.514815573393857</td><td>18.972508139706196</td><td>0.27863769169591507</td><td>-2.9862204093771925</td><td>-0.35732990722611885</td><td>21.98815786295215</td><td>1.00227984867167</td><td>2.4657929995738552</td><td>0.2691559344100367</td><td>--</td><td>--</td><td>--</td><td>--</td><td>1</td><td>1</td><td>--</td><td>1.6760687415791825e+56</td><td>--</td><td>--</td><td>--</td><td>--</td><td>--</td><td>--</td><td>--</td><td>--</td><td>--</td><td>--</td><td>--</td><td>--</td><td>--</td><td>--</td><td>--</td><td>--</td><td>--</td><td>--</td><td>--</td><td>--</td><td>--</td><td>--</td><td>--</td><td>--</td><td>--</td><td>--</td><td>--</td><td>--</td><td>--</td><td>--</td><td>--</td><td>--</td><td>--</td><td>--</td><td>--</td></tr>\n",
       "<tr><td>2862.0</td><td>2862</td><td>--</td><td>--</td><td>--</td><td>--</td><td>--</td><td>--</td><td>--</td><td>--</td><td>--</td><td>--</td><td>--</td><td>--</td><td>--</td><td>--</td><td>--</td><td>--</td><td>--</td><td>--</td><td>--</td><td>--</td><td>--</td><td>--</td><td>--</td><td>--</td><td>--</td><td>--</td><td>--</td><td>--</td><td>--</td><td>--</td><td>--</td><td>--</td><td>--</td><td>--</td><td>--</td><td>--</td><td>--</td><td>--</td><td>--</td><td>--</td><td>0</td><td>NGC0628</td><td>729.3947088091671</td><td>1105.0589304004377</td><td>24.172596403105956</td><td>15.803041950552236</td><td>729.3703703703703</td><td>1105.037037037037</td><td>0.0</td><td>0.0</td><td>0.0</td><td>70.22571060760046</td><td>1.1459174045361995</td><td>27.0</td><td>0.586323014283504</td><td>7603.54268905235</td><td>2205.3535341266042</td><td>25303.305516048524</td><td>8268.09509407545</td><td>5530.3873957934065</td><td>3896.5317830175313</td><td>613.4560939598125</td><td>505.1481046186949</td><td>202.32389212528477</td><td>658.442473451791</td><td>0.0</td><td>169.90919764694533</td><td>0.0</td><td>38.08058055131853</td><td>73.93501468382337</td><td>56.60517746774804</td><td>82.65955930133975</td><td>52.22674720907167</td><td>49.26375104534034</td><td>45.94502124410442</td><td>55.68043387704501</td><td>42.880562352985535</td><td>50.27364961754681</td><td>95.06511321242876</td><td>43.56938306112777</td><td>14.42310062619196</td><td>39.59901631962787</td><td>39.783110395075525</td><td>27.21626351607854</td><td>33.15624957438956</td><td>22.814873176392737</td><td>20.98689446636293</td><td>23.669543909570198</td><td>18.29912479556635</td><td>0.4088570574096149</td><td>0.6433890435091987</td><td>7.372484423493744</td><td>0.2123695458783651</td><td>0.369848284841643</td><td>2.516363141486563</td><td>12347.655233286105</td><td>3515.340357751897</td><td>35316.25658259069</td><td>11526.482369385454</td><td>7653.639584938442</td><td>5388.37150408888</td><td>744.8801848594975</td><td>715.7233429833758</td><td>297.8198776785107</td><td>959.917515134755</td><td>0.0</td><td>239.84198898763347</td><td>0.0</td><td>50.91255120351372</td><td>422.7660183758944</td><td>143.0279170920007</td><td>805.5580175920799</td><td>269.32560062316753</td><td>181.6603818845991</td><td>134.25154337165495</td><td>68.3143185206608</td><td>63.05856797890662</td><td>74.41212266481443</td><td>140.74078234371154</td><td>--</td><td>21.11507717613401</td><td>--</td><td>53.198200831779275</td><td>0.14370763639112227</td><td>0.009730279578500273</td><td>8.472983284343826</td><td>0.010272326601174496</td><td>6.309079836212918</td><td>0.06809707038987108</td><td>--</td><td>--</td><td>--</td><td>--</td><td>0.0</td><td>0.0</td><td>0.0</td><td>-2.106590013301023</td><td>8.211528874368872</td><td>149.7554916518333</td><td>23.0</td><td>6.0</td><td>0.23679629503144844</td><td>0.8584281255808413</td><td>4.0914366225765056e+36</td><td>-0.013150565407876513</td><td>9.514815573393857</td><td>25.522927575333046</td><td>0.13430678562260082</td><td>3.2486883510841653</td><td>0.16025954807881648</td><td>27.561079215849045</td><td>0.5404459327766752</td><td>7.0676395550203</td><td>0.21512989976491192</td><td>--</td><td>--</td><td>--</td><td>--</td><td>1</td><td>1</td><td>--</td><td>1.6760687415791825e+56</td><td>--</td><td>--</td><td>--</td><td>--</td><td>--</td><td>--</td><td>--</td><td>--</td><td>--</td><td>--</td><td>--</td><td>--</td><td>--</td><td>--</td><td>--</td><td>--</td><td>--</td><td>--</td><td>--</td><td>--</td><td>--</td><td>--</td><td>--</td><td>--</td><td>--</td><td>--</td><td>--</td><td>--</td><td>--</td><td>--</td><td>--</td><td>--</td><td>--</td><td>--</td><td>--</td></tr>\n",
       "<tr><td>2863.0</td><td>2863</td><td>0</td><td>0.008077379091542077</td><td>0.02197642159999978</td><td>2645.98095703125</td><td>0.06004830069727678</td><td>0.030886721232584322</td><td>62.310712225073395</td><td>0.04306617145889784</td><td>45.06003505674455</td><td>41.94219478056466</td><td>0.08363798334622212</td><td>0.08941276520064796</td><td>0.2577273065927119</td><td>0.1325658075302519</td><td>0.19514655706148193</td><td>0.09757327853074096</td><td>0.14140294215199328</td><td>0.07273267028377259</td><td>0.10706780621788294</td><td>0.05353390310894147</td><td>9</td><td>3</td><td>3</td><td>3.990002030829123</td><td>4.265491591969947</td><td>12.295041505821885</td><td>6.3241343239309415</td><td>9.309587914876415</td><td>4.654793957438208</td><td>6.745715329076627</td><td>3.4697572864540613</td><td>5.107736307765344</td><td>2.553868153882672</td><td>24.165293404003663</td><td>15.769397010491096</td><td>2.054498503027324</td><td>45.0</td><td>41.0</td><td>24.165294090536612</td><td>15.76938664111267</td><td>0</td><td>NGC0628</td><td>856.0020405005954</td><td>500.0616103114952</td><td>24.165290661046573</td><td>15.76943025011474</td><td>856.015625</td><td>499.8125</td><td>0.0</td><td>1.0</td><td>0.0</td><td>59.131264190335926</td><td>4.87899890960765</td><td>64.0</td><td>0.9027033336764102</td><td>17665.435551019313</td><td>2282.0650491069505</td><td>64428.89519958313</td><td>18809.39305225416</td><td>12008.762366033176</td><td>8370.563953199073</td><td>730.6844521388598</td><td>1600.980714964492</td><td>259.12832543271355</td><td>1410.0041536435565</td><td>0.0</td><td>538.498207239997</td><td>0.0</td><td>46.45985667088087</td><td>161.46418868292463</td><td>126.9124049204643</td><td>175.9548095933067</td><td>112.52276442671169</td><td>99.57919558861252</td><td>96.06629916281526</td><td>128.138954242909</td><td>88.75478971974067</td><td>100.53948888552222</td><td>126.09756481072806</td><td>106.16157592627277</td><td>29.853136081719324</td><td>77.04350491687019</td><td>82.73882059174925</td><td>19.743034207141246</td><td>31.71891224805949</td><td>64.4145051698763</td><td>-15.153940368198842</td><td>-16.356258731473506</td><td>-25.84395113069369</td><td>0.42640889623295525</td><td>0.6106833534492927</td><td>10.573784309833272</td><td>0.16774747190199069</td><td>0.34273638587714533</td><td>7.173150656973285</td><td>38463.732249757784</td><td>4822.6872599221215</td><td>110016.08581541645</td><td>32058.125056893645</td><td>20228.32993852981</td><td>14082.567913695437</td><td>997.7504097960524</td><td>2800.5261585282838</td><td>481.9218591931733</td><td>2582.0056641317833</td><td>0.0</td><td>936.3559501720189</td><td>0.0</td><td>74.04254878145095</td><td>1225.7764493666782</td><td>303.2815124806803</td><td>2329.0959686825004</td><td>697.5453251050321</td><td>446.5587627116832</td><td>329.7622338570762</td><td>175.3983560007411</td><td>166.9714847765455</td><td>187.34909489025827</td><td>238.90547313845389</td><td>--</td><td>55.74645335002402</td><td>--</td><td>131.8668746429237</td><td>0.23062661094544354</td><td>0.009048792550528715</td><td>8.459327995421699</td><td>0.008396921515941402</td><td>5.81658443532096</td><td>0.12880382668328338</td><td>--</td><td>--</td><td>--</td><td>--</td><td>0.0</td><td>0.0</td><td>0.0</td><td>-1.987924697124745</td><td>8.226879425339419</td><td>197.41655483844758</td><td>18.0</td><td>6.0</td><td>0.19938658020901362</td><td>0.7228113442064891</td><td>1.2745513996509047e+37</td><td>-0.03415711478709049</td><td>9.514815573393857</td><td>25.85932722710917</td><td>0.1127844862857463</td><td>2.7309100415520393</td><td>0.1618651004324888</td><td>28.10527192652956</td><td>0.4486533482824957</td><td>6.551734931814149</td><td>0.19974582830772533</td><td>--</td><td>--</td><td>--</td><td>--</td><td>1</td><td>1</td><td>4518.166377569535</td><td>5.234357357386259e+35</td><td>--</td><td>--</td><td>--</td><td>--</td><td>--</td><td>--</td><td>--</td><td>--</td><td>--</td><td>--</td><td>--</td><td>--</td><td>--</td><td>--</td><td>--</td><td>--</td><td>--</td><td>--</td><td>--</td><td>--</td><td>--</td><td>--</td><td>--</td><td>--</td><td>--</td><td>--</td><td>--</td><td>--</td><td>--</td><td>--</td><td>--</td><td>--</td><td>--</td><td>--</td><td>--</td></tr>\n",
       "<tr><td>2864.0</td><td>2864</td><td>1</td><td>0.09186247361660278</td><td>0.3453437679999965</td><td>55315.421875</td><td>0.1861896764131943</td><td>0.1132881807930445</td><td>151.36168725825172</td><td>0.14523460236216576</td><td>50.14421124967128</td><td>47.789760776283224</td><td>0.3315514070040426</td><td>0.3733719057496921</td><td>0.79912609116543</td><td>0.4862328719637469</td><td>0.6426794815645884</td><td>0.3213397407822942</td><td>0.4384431821956161</td><td>0.26677327899655134</td><td>0.3526082305960837</td><td>0.17630411529804185</td><td>9</td><td>3</td><td>3</td><td>15.816866145543399</td><td>17.81193905679103</td><td>38.12280735463988</td><td>23.196041666383138</td><td>30.65942451051151</td><td>15.329712255255755</td><td>20.916204783681103</td><td>12.726585247290801</td><td>16.82139501548595</td><td>8.410697507742976</td><td>24.153627687943377</td><td>15.770605660406263</td><td>6.928507063266927</td><td>52.0</td><td>46.0</td><td>24.15360646616321</td><td>15.770585962013206</td><td>0</td><td>NGC0628</td><td>1057.5829826388078</td><td>521.1616598234712</td><td>24.153653529881677</td><td>15.770600791692448</td><td>1057.1690140845071</td><td>521.112676056338</td><td>0.0</td><td>1.0</td><td>0.0</td><td>84.65261770833904</td><td>5.332765443132217</td><td>71.0</td><td>0.9507891862878783</td><td>35362.726667989235</td><td>5669.399225048818</td><td>138940.57706549583</td><td>44624.834147537666</td><td>20735.52621444768</td><td>14226.963484145264</td><td>7134.463089958878</td><td>2577.6454243409958</td><td>383.13155912929227</td><td>3927.5145129852044</td><td>0.0</td><td>867.0044722798501</td><td>0.0</td><td>0.0</td><td>142.2451912029262</td><td>93.10929675965258</td><td>186.8239158242646</td><td>105.00733970043068</td><td>83.72177277973253</td><td>78.08076292065276</td><td>91.54495200089923</td><td>67.4869766222611</td><td>77.22790617635607</td><td>120.62453774864738</td><td>65.64630695104717</td><td>22.69959630584381</td><td>57.82343141026725</td><td>61.56755326083966</td><td>15.630694877594873</td><td>24.400830390040024</td><td>20.012586390010537</td><td>-17.03269635250154</td><td>-17.80241039421157</td><td>-5.560769993906135</td><td>0.22174408999238915</td><td>0.2734294665874376</td><td>1.6003593240660856</td><td>0.07419805835369589</td><td>0.13075983289506898</td><td>0.7015110477876101</td><td>97708.18515335473</td><td>15065.607319506918</td><td>279477.9646536106</td><td>89543.54227526461</td><td>40974.087339424565</td><td>28067.783549651944</td><td>10717.011769041457</td><td>5350.90918852989</td><td>861.6021520804454</td><td>8655.513403594437</td><td>0.0</td><td>1785.8044117704162</td><td>0.0</td><td>0.0</td><td>1383.2566646255916</td><td>316.0523032162465</td><td>2635.5329976207436</td><td>859.1041748352076</td><td>407.77967638151705</td><td>297.66829112352906</td><td>149.33823116551392</td><td>149.50334710752435</td><td>173.92351209613702</td><td>281.0901031616464</td><td>--</td><td>49.83029517044085</td><td>--</td><td>--</td><td>0.3012341462388729</td><td>0.004023128331236059</td><td>8.533967573847562</td><td>0.003657949085615845</td><td>7.038568260246953</td><td>0.011481824129500873</td><td>--</td><td>--</td><td>--</td><td>--</td><td>0.0</td><td>0.0</td><td>0.0</td><td>-1.6281116895225338</td><td>8.023083194368095</td><td>193.2885759875691</td><td>15.0</td><td>6.0</td><td>0.2854428394474483</td><td>1.0347803862167855</td><td>3.237790441104116e+37</td><td>0.057393097109974534</td><td>9.514815573393857</td><td>58.92011313135935</td><td>0.1431899562128377</td><td>7.498984732689848</td><td>0.10855833422311371</td><td>61.03140321051632</td><td>0.7396075767519042</td><td>11.633455251443813</td><td>0.20649910919281184</td><td>1015.1191806156669</td><td>62.139888774418125</td><td>83.46884301652932</td><td>5.850660573075894</td><td>1</td><td>1</td><td>111266.57054471072</td><td>1.289038391886622e+37</td><td>--</td><td>8715.0</td><td>6534.0</td><td>24.153814788274705</td><td>15.770474614331194</td><td>3929.497770870409</td><td>35.36662251622594</td><td>0.0075866436596074656</td><td>0.00012541406790908842</td><td>0.0072534565611523105</td><td>9.098007652132366e-05</td><td>0.006726753444471433</td><td>7.964262319965847e-05</td><td>0.005573422720637651</td><td>0.0001021410813872844</td><td>0.005230354886473617</td><td>0.00010177742666837492</td><td>20.208978089794297</td><td>0.018018683907447337</td><td>20.610291892778534</td><td>0.013671865623262044</td><td>21.909709592523193</td><td>0.01290525362706363</td><td>22.083281451767512</td><td>0.01997583608720108</td><td>21.666729248770526</td><td>0.02121029977438573</td><td>1.0</td><td>0.0</td><td>7687.686652147528</td><td>1299.821</td><td>0.27</td><td>0.04</td><td>2.142460632526017</td><td>1243.0</td></tr>\n",
       "<tr><td>2865.0</td><td>2865</td><td>--</td><td>--</td><td>--</td><td>--</td><td>--</td><td>--</td><td>--</td><td>--</td><td>--</td><td>--</td><td>--</td><td>--</td><td>--</td><td>--</td><td>--</td><td>--</td><td>--</td><td>--</td><td>--</td><td>--</td><td>--</td><td>--</td><td>--</td><td>--</td><td>--</td><td>--</td><td>--</td><td>--</td><td>--</td><td>--</td><td>--</td><td>--</td><td>--</td><td>--</td><td>--</td><td>--</td><td>--</td><td>--</td><td>--</td><td>--</td><td>0</td><td>NGC0628</td><td>595.6966978776182</td><td>812.4442462114001</td><td>24.180316706663245</td><td>15.786786098751135</td><td>595.6829268292682</td><td>812.390243902439</td><td>0.0</td><td>0.0</td><td>0.0</td><td>25.179607838476084</td><td>2.3070430552738785</td><td>41.0</td><td>0.7225151993843567</td><td>3601.0958717196745</td><td>3618.798513434948</td><td>10718.90909641661</td><td>5855.441809945754</td><td>3281.266537696006</td><td>2286.3451236315695</td><td>0.0</td><td>1030.49088185683</td><td>391.2900476145759</td><td>1901.9653280787682</td><td>0.0</td><td>346.6109786771378</td><td>0.0</td><td>0.0</td><td>80.55021337991151</td><td>80.78394274338527</td><td>79.3519804954692</td><td>67.68327501943276</td><td>60.27839874875778</td><td>59.499887374725475</td><td>79.59267673961456</td><td>63.65333700931759</td><td>77.96627278992435</td><td>130.15614576262004</td><td>62.34756900947918</td><td>21.410131642417134</td><td>57.83163213661778</td><td>59.53415681565274</td><td>35.713881864770705</td><td>49.0422987863946</td><td>45.06873676086608</td><td>11.36300978628748</td><td>15.776016009156494</td><td>-2.6346579770553378</td><td>0.9549221741656029</td><td>1.2307889276580712</td><td>5.280379326676645</td><td>0.5589750980982205</td><td>0.8661095528973756</td><td>2.7228146870284435</td><td>4092.2346898073447</td><td>4092.2274992059897</td><td>11703.962728652854</td><td>6391.5848961479915</td><td>3574.803289914388</td><td>2490.3740271998236</td><td>0.0</td><td>1129.661097279264</td><td>433.2862410625232</td><td>2100.7467318174854</td><td>0.0</td><td>379.59426521438894</td><td>0.0</td><td>0.0</td><td>321.8662662134346</td><td>310.47902248165224</td><td>613.0322616940534</td><td>338.4233733634822</td><td>192.21132039850232</td><td>141.28937679302845</td><td>--</td><td>92.82575820382772</td><td>90.17943143254271</td><td>189.30223148622792</td><td>--</td><td>31.047148850339497</td><td>--</td><td>--</td><td>0.03789497603384443</td><td>0.022349719984174624</td><td>--</td><td>--</td><td>--</td><td>--</td><td>--</td><td>--</td><td>--</td><td>--</td><td>1.0</td><td>0.0</td><td>3.0</td><td>-2.767651839186898</td><td>8.517974066560223</td><td>209.16719080420052</td><td>22.0</td><td>6.0</td><td>0.08490391617127539</td><td>0.30779159616370366</td><td>1.355920088112803e+36</td><td>--</td><td>9.514815573393857</td><td>1.9177445822663948</td><td>0.04095776276919615</td><td>-0.9589397187130729</td><td>-0.08665717960282975</td><td>3.876141428228048</td><td>0.05034330897716983</td><td>1.7686271459746525</td><td>0.06261604518890379</td><td>--</td><td>--</td><td>--</td><td>--</td><td>0</td><td>0</td><td>--</td><td>1.6760687415791825e+56</td><td>--</td><td>--</td><td>--</td><td>--</td><td>--</td><td>--</td><td>--</td><td>--</td><td>--</td><td>--</td><td>--</td><td>--</td><td>--</td><td>--</td><td>--</td><td>--</td><td>--</td><td>--</td><td>--</td><td>--</td><td>--</td><td>--</td><td>--</td><td>--</td><td>--</td><td>--</td><td>--</td><td>--</td><td>--</td><td>--</td><td>--</td><td>--</td><td>--</td><td>--</td><td>--</td></tr>\n",
       "<tr><td>2866.0</td><td>2866</td><td>--</td><td>--</td><td>--</td><td>--</td><td>--</td><td>--</td><td>--</td><td>--</td><td>--</td><td>--</td><td>--</td><td>--</td><td>--</td><td>--</td><td>--</td><td>--</td><td>--</td><td>--</td><td>--</td><td>--</td><td>--</td><td>--</td><td>--</td><td>--</td><td>--</td><td>--</td><td>--</td><td>--</td><td>--</td><td>--</td><td>--</td><td>--</td><td>--</td><td>--</td><td>--</td><td>--</td><td>--</td><td>--</td><td>--</td><td>--</td><td>1</td><td>NGC0628</td><td>898.254486708943</td><td>1230.0866828848077</td><td>24.1628458353445</td><td>15.809986890376567</td><td>898.2105263157895</td><td>1230.157894736842</td><td>0.0</td><td>1.0</td><td>0.0</td><td>102.9236785280037</td><td>0.8267559296451134</td><td>38.0</td><td>0.6955796338302049</td><td>6999.604644513928</td><td>1030.750024617677</td><td>23137.39431928816</td><td>7491.743659813546</td><td>5805.364664514838</td><td>3854.1889886031818</td><td>696.7352682191199</td><td>1050.6092973255963</td><td>0.0</td><td>1263.809427905143</td><td>119.53729771338264</td><td>353.37791257033</td><td>0.0</td><td>11.277862597767722</td><td>115.87259434279349</td><td>105.41847234636737</td><td>144.79589866043548</td><td>86.19183408494712</td><td>72.83126350290317</td><td>68.47246356610903</td><td>138.76913902103746</td><td>71.45443225829284</td><td>81.75394839163428</td><td>185.39981496666573</td><td>104.97642671018377</td><td>24.034070686039414</td><td>63.76361298742665</td><td>65.53058404663327</td><td>21.076537061012697</td><td>34.567433962647165</td><td>106.98024064834821</td><td>20.975032432750154</td><td>23.64231601205218</td><td>-35.11384339533313</td><td>0.8785125339759585</td><td>1.0498015189825223</td><td>19.393529121203205</td><td>0.38411930944284434</td><td>0.6167038076715167</td><td>14.581516763505215</td><td>11124.894382008317</td><td>1609.36664802136</td><td>31818.887707793638</td><td>10291.290566557578</td><td>7919.151603208669</td><td>5253.6822149288055</td><td>838.7430421057097</td><td>1465.7200960003568</td><td>0.0</td><td>1811.8869717306009</td><td>166.6540198871568</td><td>491.25037905414433</td><td>0.0</td><td>14.88504603573583</td><td>656.4604671822951</td><td>186.48083600247125</td><td>1255.163002096223</td><td>416.5988225844504</td><td>316.5754436475666</td><td>219.74662636930717</td><td>168.13209181858474</td><td>116.17600534254619</td><td>--</td><td>277.5196029069501</td><td>146.51032306177478</td><td>38.82815402851434</td><td>--</td><td>86.49177767925694</td><td>0.13732914759789183</td><td>0.016787396392769452</td><td>8.436043362323774</td><td>0.017142163855199354</td><td>6.388389042934943</td><td>0.14780585358353263</td><td>--</td><td>--</td><td>--</td><td>--</td><td>0.0</td><td>0.0</td><td>0.0</td><td>-2.30029951523717</td><td>7.880049292747584</td><td>165.45332546367263</td><td>22.0</td><td>7.0</td><td>0.3470516073895216</td><td>1.2581229819142192</td><td>3.686261655531508e+36</td><td>-0.02842457733561865</td><td>9.514815573393857</td><td>29.595008526278658</td><td>0.3051544140129246</td><td>7.464779876610858</td><td>0.3473144384017326</td><td>31.26804410321568</td><td>1.2467947520397256</td><td>10.10059113405226</td><td>0.606204696260636</td><td>--</td><td>--</td><td>--</td><td>--</td><td>1</td><td>1</td><td>--</td><td>1.6760687415791825e+56</td><td>--</td><td>--</td><td>--</td><td>--</td><td>--</td><td>--</td><td>--</td><td>--</td><td>--</td><td>--</td><td>--</td><td>--</td><td>--</td><td>--</td><td>--</td><td>--</td><td>--</td><td>--</td><td>--</td><td>--</td><td>--</td><td>--</td><td>--</td><td>--</td><td>--</td><td>--</td><td>--</td><td>--</td><td>--</td><td>--</td><td>--</td><td>--</td><td>--</td><td>--</td><td>--</td></tr>\n",
       "<tr><td>2867.0</td><td>2867</td><td>--</td><td>--</td><td>--</td><td>--</td><td>--</td><td>--</td><td>--</td><td>--</td><td>--</td><td>--</td><td>--</td><td>--</td><td>--</td><td>--</td><td>--</td><td>--</td><td>--</td><td>--</td><td>--</td><td>--</td><td>--</td><td>--</td><td>--</td><td>--</td><td>--</td><td>--</td><td>--</td><td>--</td><td>--</td><td>--</td><td>--</td><td>--</td><td>--</td><td>--</td><td>--</td><td>--</td><td>--</td><td>--</td><td>--</td><td>--</td><td>0</td><td>NGC0628</td><td>977.6237810447738</td><td>817.8584727030681</td><td>24.15826678553126</td><td>15.787084686227741</td><td>977.675</td><td>817.875</td><td>0.0</td><td>0.0</td><td>0.0</td><td>56.18999275401463</td><td>6.148941259568139</td><td>40.0</td><td>0.7136496464611085</td><td>4173.4090211947205</td><td>1229.7455927919862</td><td>16482.5508614068</td><td>4810.208696496274</td><td>3714.9611420762717</td><td>2617.117229567856</td><td>77.24345652357589</td><td>661.4484587692209</td><td>355.11472246857636</td><td>1074.8150622822504</td><td>0.0</td><td>222.48163634924504</td><td>0.0</td><td>0.0</td><td>100.19550034892916</td><td>104.06265725202944</td><td>107.68085609431611</td><td>79.3627904917065</td><td>74.49587154899409</td><td>71.10713258197057</td><td>115.99028380546052</td><td>70.7088140447241</td><td>84.45791771381212</td><td>141.80784452553877</td><td>91.53815839002135</td><td>23.78327811399948</td><td>62.101477080685335</td><td>67.15000311281437</td><td>23.449219483909687</td><td>30.909035362552373</td><td>74.7136385527996</td><td>10.0962989761823</td><td>13.637444739237276</td><td>-9.499925147275716</td><td>0.9914992216919647</td><td>1.6894930620774207</td><td>17.780236822327577</td><td>0.44260603418120165</td><td>0.906240841117777</td><td>12.362634574376541</td><td>11724.041552253619</td><td>3320.3951446868887</td><td>33534.72887486138</td><td>9762.390352786464</td><td>7422.913225177226</td><td>5220.758037462198</td><td>116.80385413598337</td><td>1389.5545486756535</td><td>809.225820573222</td><td>2399.4277461716233</td><td>0.0</td><td>463.68876497838306</td><td>0.0</td><td>0.0</td><td>975.0760818037994</td><td>378.93562019902186</td><td>1849.2666371904636</td><td>556.5042456853947</td><td>423.153382086744</td><td>312.04183625122204</td><td>175.43447323666524</td><td>168.48804854609062</td><td>199.20123869189916</td><td>349.69388947689157</td><td>--</td><td>56.09043310733823</td><td>--</td><td>--</td><td>0.3061487789065624</td><td>0.023601457384473706</td><td>8.431026894640251</td><td>0.024368013844305727</td><td>--</td><td>--</td><td>--</td><td>--</td><td>--</td><td>--</td><td>0.0</td><td>0.0</td><td>0.0</td><td>-2.2997661044402165</td><td>8.096574569348778</td><td>234.86042386105382</td><td>20.0</td><td>6.0</td><td>0.189468814012322</td><td>0.6868577012449539</td><td>3.8850442012706856e+36</td><td>-0.06440712330040554</td><td>9.514815573393857</td><td>9.749329514706227</td><td>0.11283469813544506</td><td>-1.1006110776153086</td><td>-0.19697738936251816</td><td>12.090311388502798</td><td>0.27469670073127644</td><td>3.2133705930819723</td><td>0.170010921440577</td><td>--</td><td>--</td><td>--</td><td>--</td><td>1</td><td>1</td><td>--</td><td>1.6760687415791825e+56</td><td>--</td><td>--</td><td>--</td><td>--</td><td>--</td><td>--</td><td>--</td><td>--</td><td>--</td><td>--</td><td>--</td><td>--</td><td>--</td><td>--</td><td>--</td><td>--</td><td>--</td><td>--</td><td>--</td><td>--</td><td>--</td><td>--</td><td>--</td><td>--</td><td>--</td><td>--</td><td>--</td><td>--</td><td>--</td><td>--</td><td>--</td><td>--</td><td>--</td><td>--</td><td>--</td></tr>\n",
       "<tr><td>2868.0</td><td>2868</td><td>0</td><td>0.008803921261201003</td><td>0.023546165999999764</td><td>2245.29931640625</td><td>0.07072667083132833</td><td>0.028582156849895835</td><td>179.87578303478537</td><td>0.044961325594025575</td><td>26.255862639533845</td><td>51.208252487484955</td><td>0.08657353764011592</td><td>0.08941276520064796</td><td>0.3035588712080612</td><td>0.12267461719975292</td><td>0.21311674420390705</td><td>0.10655837210195353</td><td>0.1665485821919177</td><td>0.06730583588035337</td><td>0.11692720903613554</td><td>0.05846360451806777</td><td>9</td><td>3</td><td>3</td><td>4.130044474771843</td><td>4.265491591969947</td><td>14.481464809864638</td><td>5.852268935419144</td><td>10.166866872641892</td><td>5.083433436320946</td><td>7.945303731519002</td><td>3.210866774938708</td><td>5.578085253228855</td><td>2.7890426266144277</td><td>24.159927282251953</td><td>15.786656596247749</td><td>2.1449080101120668</td><td>25.0</td><td>51.0</td><td>24.159941645533568</td><td>15.786654304631837</td><td>0</td><td>NGC0628</td><td>952.8096823955154</td><td>808.9238923723407</td><td>24.159699461785248</td><td>15.786588531332034</td><td>952.8461538461538</td><td>809.1384615384616</td><td>0.0</td><td>0.0</td><td>0.0</td><td>50.89142485868117</td><td>6.136517046539448</td><td>65.0</td><td>0.9097283682934462</td><td>15153.226928660706</td><td>2649.646763556308</td><td>50590.55047276709</td><td>12800.606936936772</td><td>9078.599431321185</td><td>6122.7712320999235</td><td>428.6417297967092</td><td>1636.101097577424</td><td>206.452091964602</td><td>3306.088053096173</td><td>0.0</td><td>550.31113096723</td><td>0.0</td><td>0.0</td><td>143.4493495161268</td><td>114.63097725564874</td><td>171.29663631007992</td><td>109.35489412807321</td><td>97.61665648102304</td><td>95.45981422870415</td><td>117.95598241021142</td><td>100.01993254063788</td><td>113.87032550162223</td><td>205.71557044410724</td><td>100.07487560676475</td><td>33.64222557958389</td><td>83.81212928637767</td><td>87.63619026855713</td><td>23.558973993913305</td><td>33.842635271961065</td><td>32.756582928201446</td><td>3.3766162555503847</td><td>3.918806240199312</td><td>-17.309843848136676</td><td>0.4694524674472116</td><td>0.8501272019823114</td><td>11.776180464552253</td><td>0.21368603750925091</td><td>0.49019052457278983</td><td>4.819179776285657</td><td>24863.585817225965</td><td>4265.745947003903</td><td>71113.89168854486</td><td>17972.096206913593</td><td>12651.451851591526</td><td>8525.685267433342</td><td>522.630857067714</td><td>2335.411697595826</td><td>306.41231043146365</td><td>4858.716399102991</td><td>0.0</td><td>782.5443890451236</td><td>0.0</td><td>0.0</td><td>833.9196159776824</td><td>226.88969233366487</td><td>1591.775726260839</td><td>424.96351449639036</td><td>304.8366644229732</td><td>226.50737726933247</td><td>143.97792119580592</td><td>152.6429709849358</td><td>169.18694795398503</td><td>325.84470130952894</td><td>--</td><td>51.07912218895819</td><td>--</td><td>--</td><td>0.14677203516095297</td><td>0.009536833551796754</td><td>8.426969914941758</td><td>0.009124952242613876</td><td>--</td><td>0.20142468268893501</td><td>--</td><td>--</td><td>--</td><td>--</td><td>0.0</td><td>0.0</td><td>0.0</td><td>-2.184159823276803</td><td>8.169516259243943</td><td>165.72820280202185</td><td>20.0</td><td>6.0</td><td>0.1716024053176729</td><td>0.6220888342972174</td><td>8.23864160540391e+36</td><td>-0.07197497241799411</td><td>9.514815573393857</td><td>16.106900697729756</td><td>0.08574758222284112</td><td>1.676789314837184</td><td>0.11839878157364364</td><td>18.23057073261884</td><td>0.2588662907960284</td><td>4.952428540754657</td><td>0.12254201956294841</td><td>--</td><td>--</td><td>--</td><td>--</td><td>1</td><td>1</td><td>3156.1619888130954</td><td>3.65645670094459e+35</td><td>--</td><td>--</td><td>--</td><td>--</td><td>--</td><td>--</td><td>--</td><td>--</td><td>--</td><td>--</td><td>--</td><td>--</td><td>--</td><td>--</td><td>--</td><td>--</td><td>--</td><td>--</td><td>--</td><td>--</td><td>--</td><td>--</td><td>--</td><td>--</td><td>--</td><td>--</td><td>--</td><td>--</td><td>--</td><td>--</td><td>--</td><td>--</td><td>--</td><td>--</td><td>--</td></tr>\n",
       "</table></div>"
      ],
      "text/plain": [
       "<Table length=2869>\n",
       "region_ID hstcat_region_ID  _idx ... reg_dolflux_ChiSq_Reduced cluster_ID\n",
       "                                 ...                                     \n",
       " float64       int64       int64 ...          float64           float64  \n",
       "--------- ---------------- ----- ... ------------------------- ----------\n",
       "      0.0                0    -- ...                        --         --\n",
       "      1.0                1    -- ...                        --         --\n",
       "      2.0                2     1 ...      0.006361996448466942     2570.0\n",
       "      3.0                3     0 ...                        --         --\n",
       "      4.0                4     0 ...        1.1614284853505168     1393.0\n",
       "      5.0                5     0 ...        0.6311667028155108      452.0\n",
       "      6.0                6     0 ...                        --         --\n",
       "      7.0                7     0 ...         4.277373925582754     1640.0\n",
       "      8.0                8    -- ...                        --         --\n",
       "      ...              ...   ... ...                       ...        ...\n",
       "   2859.0             2859     0 ...                        --         --\n",
       "   2860.0             2860    -- ...                        --         --\n",
       "   2861.0             2861    -- ...                        --         --\n",
       "   2862.0             2862    -- ...                        --         --\n",
       "   2863.0             2863     0 ...                        --         --\n",
       "   2864.0             2864     1 ...         2.142460632526017     1243.0\n",
       "   2865.0             2865    -- ...                        --         --\n",
       "   2866.0             2866    -- ...                        --         --\n",
       "   2867.0             2867    -- ...                        --         --\n",
       "   2868.0             2868     0 ...                        --         --"
      ]
     },
     "execution_count": 7,
     "metadata": {},
     "output_type": "execute_result"
    }
   ],
   "source": [
    "props_all_cluster"
   ]
  },
  {
   "cell_type": "code",
   "execution_count": 8,
   "id": "7b7826f7-45fe-4452-af1c-90a0f08b2b1e",
   "metadata": {
    "execution": {
     "iopub.execute_input": "2024-03-17T18:28:44.661698Z",
     "iopub.status.busy": "2024-03-17T18:28:44.661582Z",
     "iopub.status.idle": "2024-03-17T18:28:44.867190Z",
     "shell.execute_reply": "2024-03-17T18:28:44.866865Z"
    }
   },
   "outputs": [
    {
     "name": "stdout",
     "output_type": "stream",
     "text": [
      "[INFO] [save_pickle] Saved to /Users/abarnes/Dropbox/work/Smallprojects/galaxies/data_hstha_nebulae_catalogue/ngc628c/dendro/props_all_cluster.pickel\n"
     ]
    }
   ],
   "source": [
    "# Save table with appended cluster information\n",
    "\n",
    "# Only take non-masked values in table\n",
    "props_all_cluster_masked = props_all_cluster[~props_all_cluster.mask['reg_dolflux_Ebv_MinChiSq']]\n",
    "\n",
    "dendro_misc.save_pickle(props_all_cluster_masked, '%s/props_all_cluster.pickel' %dendro_dir)        \n",
    "props_all_cluster_masked.write('%s/props_all_cluster.fits' %dendro_dir, overwrite=True)"
   ]
  },
  {
   "cell_type": "code",
   "execution_count": 9,
   "id": "1ad2f913",
   "metadata": {
    "execution": {
     "iopub.execute_input": "2024-03-17T18:28:45.040778Z",
     "iopub.status.busy": "2024-03-17T18:28:45.040656Z",
     "iopub.status.idle": "2024-03-17T18:28:45.042925Z",
     "shell.execute_reply": "2024-03-17T18:28:45.042626Z"
    }
   },
   "outputs": [
    {
     "data": {
      "image/png": "[encoded data removed]",
      "text/plain": [
       "<Figure size 1200x300 with 3 Axes>"
      ]
     },
     "metadata": {},
     "output_type": "display_data"
    }
   ],
   "source": [
    "import matplotlib.pyplot as plt\n",
    "import numpy as np\n",
    "\n",
    "fig = plt.figure(figsize=(12,3))\n",
    "ax1 = fig.add_subplot(131)\n",
    "ax2 = fig.add_subplot(132)\n",
    "ax3 = fig.add_subplot(133)\n",
    "\n",
    "ax1.hist(props_all_cluster_masked['reg_dolflux_Age_MinChiSq'], alpha=0.3, fc='C0', bins=np.linspace(0,20,10))\n",
    "ax1.hist(props_all_cluster_masked['reg_dolflux_Age_MinChiSq'], fc='none', ec='C0', lw=1.5, bins=np.linspace(0,20,10))\n",
    "ax1.set_ylabel('#')\n",
    "ax1.set_xlabel('Cluster age, log(Myr)')\n",
    "ax1.grid(alpha=0.3, linestyle=':')\n",
    "ax1.set_xlim(0,20)\n",
    "\n",
    "ax2.hist(np.log10(props_all_cluster_masked['reg_dolflux_Mass_MinChiSq']), alpha=0.3, fc='C1')\n",
    "ax2.hist(np.log10(props_all_cluster_masked['reg_dolflux_Mass_MinChiSq']), fc='none', ec='C1', lw=1.5)\n",
    "ax2.set_ylabel('#')\n",
    "ax2.set_xlabel('Cluster mass, log(Msun)')\n",
    "ax2.grid(alpha=0.3, linestyle=':')\n",
    "\n",
    "ax3.hist(props_all_cluster_masked['reg_dolflux_Ebv_MinChiSq'], alpha=0.3, fc='C2')\n",
    "ax3.hist(props_all_cluster_masked['reg_dolflux_Ebv_MinChiSq'], fc='none', ec='C2')\n",
    "ax3.set_ylabel('#')\n",
    "ax3.set_xlabel('EBV (mag)')\n",
    "ax3.grid(alpha=0.3, linestyle=':')\n",
    "\n",
    "fig.tight_layout()"
   ]
  }
 ],
 "metadata": {
  "kernelspec": {
   "display_name": "Python 3 (ipykernel)",
   "language": "python",
   "name": "python3"
  },
  "language_info": {
   "codemirror_mode": {
    "name": "ipython",
    "version": 3
   },
   "file_extension": ".py",
   "mimetype": "text/x-python",
   "name": "python",
   "nbconvert_exporter": "python",
   "pygments_lexer": "ipython3",
   "version": "3.9.13"
  },
  "widgets": {
   "application/vnd.jupyter.widget-state+json": {
    "state": {
     "118f2140422d4fd193d780b927dc8fdb": {
      "model_module": "@jupyter-widgets/base",
      "model_module_version": "1.2.0",
      "model_name": "LayoutModel",
      "state": {
       "_model_module": "@jupyter-widgets/base",
       "_model_module_version": "1.2.0",
       "_model_name": "LayoutModel",
       "_view_count": null,
       "_view_module": "@jupyter-widgets/base",
       "_view_module_version": "1.2.0",
       "_view_name": "LayoutView",
       "align_content": null,
       "align_items": null,
       "align_self": null,
       "border": null,
       "bottom": null,
       "display": null,
       "flex": null,
       "flex_flow": null,
       "grid_area": null,
       "grid_auto_columns": null,
       "grid_auto_flow": null,
       "grid_auto_rows": null,
       "grid_column": null,
       "grid_gap": null,
       "grid_row": null,
       "grid_template_areas": null,
       "grid_template_columns": null,
       "grid_template_rows": null,
       "height": null,
       "justify_content": null,
       "justify_items": null,
       "left": null,
       "margin": null,
       "max_height": null,
       "max_width": null,
       "min_height": null,
       "min_width": null,
       "object_fit": null,
       "object_position": null,
       "order": null,
       "overflow": null,
       "overflow_x": null,
       "overflow_y": null,
       "padding": null,
       "right": null,
       "top": null,
       "visibility": null,
       "width": null
      }
     },
     "22d17d9617fc4d26bcabd6d80142a273": {
      "model_module": "@jupyter-widgets/base",
      "model_module_version": "1.2.0",
      "model_name": "LayoutModel",
      "state": {
       "_model_module": "@jupyter-widgets/base",
       "_model_module_version": "1.2.0",
       "_model_name": "LayoutModel",
       "_view_count": null,
       "_view_module": "@jupyter-widgets/base",
       "_view_module_version": "1.2.0",
       "_view_name": "LayoutView",
       "align_content": null,
       "align_items": null,
       "align_self": null,
       "border": null,
       "bottom": null,
       "display": null,
       "flex": null,
       "flex_flow": null,
       "grid_area": null,
       "grid_auto_columns": null,
       "grid_auto_flow": null,
       "grid_auto_rows": null,
       "grid_column": null,
       "grid_gap": null,
       "grid_row": null,
       "grid_template_areas": null,
       "grid_template_columns": null,
       "grid_template_rows": null,
       "height": null,
       "justify_content": null,
       "justify_items": null,
       "left": null,
       "margin": null,
       "max_height": null,
       "max_width": null,
       "min_height": null,
       "min_width": null,
       "object_fit": null,
       "object_position": null,
       "order": null,
       "overflow": null,
       "overflow_x": null,
       "overflow_y": null,
       "padding": null,
       "right": null,
       "top": null,
       "visibility": null,
       "width": null
      }
     },
     "4a737df50e004f0ebf9bd887b7a5e49b": {
      "model_module": "@jupyter-widgets/base",
      "model_module_version": "1.2.0",
      "model_name": "LayoutModel",
      "state": {
       "_model_module": "@jupyter-widgets/base",
       "_model_module_version": "1.2.0",
       "_model_name": "LayoutModel",
       "_view_count": null,
       "_view_module": "@jupyter-widgets/base",
       "_view_module_version": "1.2.0",
       "_view_name": "LayoutView",
       "align_content": null,
       "align_items": null,
       "align_self": null,
       "border": null,
       "bottom": null,
       "display": null,
       "flex": null,
       "flex_flow": null,
       "grid_area": null,
       "grid_auto_columns": null,
       "grid_auto_flow": null,
       "grid_auto_rows": null,
       "grid_column": null,
       "grid_gap": null,
       "grid_row": null,
       "grid_template_areas": null,
       "grid_template_columns": null,
       "grid_template_rows": null,
       "height": null,
       "justify_content": null,
       "justify_items": null,
       "left": null,
       "margin": null,
       "max_height": null,
       "max_width": null,
       "min_height": null,
       "min_width": null,
       "object_fit": null,
       "object_position": null,
       "order": null,
       "overflow": null,
       "overflow_x": null,
       "overflow_y": null,
       "padding": null,
       "right": null,
       "top": null,
       "visibility": null,
       "width": null
      }
     },
     "4b705b380b8a4365a5429e8ce8039f87": {
      "model_module": "@jupyter-widgets/controls",
      "model_module_version": "1.5.0",
      "model_name": "DescriptionStyleModel",
      "state": {
       "_model_module": "@jupyter-widgets/controls",
       "_model_module_version": "1.5.0",
       "_model_name": "DescriptionStyleModel",
       "_view_count": null,
       "_view_module": "@jupyter-widgets/base",
       "_view_module_version": "1.2.0",
       "_view_name": "StyleView",
       "description_width": ""
      }
     },
     "56a383d745fe40db91262b70083bc690": {
      "model_module": "@jupyter-widgets/controls",
      "model_module_version": "1.5.0",
      "model_name": "HTMLModel",
      "state": {
       "_dom_classes": [],
       "_model_module": "@jupyter-widgets/controls",
       "_model_module_version": "1.5.0",
       "_model_name": "HTMLModel",
       "_view_count": null,
       "_view_module": "@jupyter-widgets/controls",
       "_view_module_version": "1.5.0",
       "_view_name": "HTMLView",
       "description": "",
       "description_tooltip": null,
       "layout": "IPY_MODEL_f9b763dce7f141ff8586f2ec5951e773",
       "placeholder": "​",
       "style": "IPY_MODEL_d9384adb2fdb432f865faaf6299e867e",
       "value": " 2869/2869 [03:22&lt;00:00, 87.36it/s]"
      }
     },
     "64325cc90c634d2da12a45c9bc298f57": {
      "model_module": "@jupyter-widgets/controls",
      "model_module_version": "1.5.0",
      "model_name": "DescriptionStyleModel",
      "state": {
       "_model_module": "@jupyter-widgets/controls",
       "_model_module_version": "1.5.0",
       "_model_name": "DescriptionStyleModel",
       "_view_count": null,
       "_view_module": "@jupyter-widgets/base",
       "_view_module_version": "1.2.0",
       "_view_name": "StyleView",
       "description_width": ""
      }
     },
     "671d82754ef74cadb25d3ddc35bffdf2": {
      "model_module": "@jupyter-widgets/controls",
      "model_module_version": "1.5.0",
      "model_name": "HTMLModel",
      "state": {
       "_dom_classes": [],
       "_model_module": "@jupyter-widgets/controls",
       "_model_module_version": "1.5.0",
       "_model_name": "HTMLModel",
       "_view_count": null,
       "_view_module": "@jupyter-widgets/controls",
       "_view_module_version": "1.5.0",
       "_view_name": "HTMLView",
       "description": "",
       "description_tooltip": null,
       "layout": "IPY_MODEL_8e178af3f92648478c1524802548bc30",
       "placeholder": "​",
       "style": "IPY_MODEL_c601c85d67034ef88b9e3b4b5122e05a",
       "value": " 2682/2682 [00:00&lt;00:00, 170782.83it/s]"
      }
     },
     "76fb4024998846f7a9f5548dfb1a3e68": {
      "model_module": "@jupyter-widgets/base",
      "model_module_version": "1.2.0",
      "model_name": "LayoutModel",
      "state": {
       "_model_module": "@jupyter-widgets/base",
       "_model_module_version": "1.2.0",
       "_model_name": "LayoutModel",
       "_view_count": null,
       "_view_module": "@jupyter-widgets/base",
       "_view_module_version": "1.2.0",
       "_view_name": "LayoutView",
       "align_content": null,
       "align_items": null,
       "align_self": null,
       "border": null,
       "bottom": null,
       "display": null,
       "flex": null,
       "flex_flow": null,
       "grid_area": null,
       "grid_auto_columns": null,
       "grid_auto_flow": null,
       "grid_auto_rows": null,
       "grid_column": null,
       "grid_gap": null,
       "grid_row": null,
       "grid_template_areas": null,
       "grid_template_columns": null,
       "grid_template_rows": null,
       "height": null,
       "justify_content": null,
       "justify_items": null,
       "left": null,
       "margin": null,
       "max_height": null,
       "max_width": null,
       "min_height": null,
       "min_width": null,
       "object_fit": null,
       "object_position": null,
       "order": null,
       "overflow": null,
       "overflow_x": null,
       "overflow_y": null,
       "padding": null,
       "right": null,
       "top": null,
       "visibility": null,
       "width": null
      }
     },
     "7c0e4e6527b74bc3a41eb18b5ced5e43": {
      "model_module": "@jupyter-widgets/controls",
      "model_module_version": "1.5.0",
      "model_name": "HTMLModel",
      "state": {
       "_dom_classes": [],
       "_model_module": "@jupyter-widgets/controls",
       "_model_module_version": "1.5.0",
       "_model_name": "HTMLModel",
       "_view_count": null,
       "_view_module": "@jupyter-widgets/controls",
       "_view_module_version": "1.5.0",
       "_view_name": "HTMLView",
       "description": "",
       "description_tooltip": null,
       "layout": "IPY_MODEL_a79d46dd849e4b3a82b2cdb829ba04b9",
       "placeholder": "​",
       "style": "IPY_MODEL_4b705b380b8a4365a5429e8ce8039f87",
       "value": "100%"
      }
     },
     "86a26972b6ee4df68d2f6ddf4133535e": {
      "model_module": "@jupyter-widgets/controls",
      "model_module_version": "1.5.0",
      "model_name": "HTMLModel",
      "state": {
       "_dom_classes": [],
       "_model_module": "@jupyter-widgets/controls",
       "_model_module_version": "1.5.0",
       "_model_name": "HTMLModel",
       "_view_count": null,
       "_view_module": "@jupyter-widgets/controls",
       "_view_module_version": "1.5.0",
       "_view_name": "HTMLView",
       "description": "",
       "description_tooltip": null,
       "layout": "IPY_MODEL_76fb4024998846f7a9f5548dfb1a3e68",
       "placeholder": "​",
       "style": "IPY_MODEL_64325cc90c634d2da12a45c9bc298f57",
       "value": "100%"
      }
     },
     "8e178af3f92648478c1524802548bc30": {
      "model_module": "@jupyter-widgets/base",
      "model_module_version": "1.2.0",
      "model_name": "LayoutModel",
      "state": {
       "_model_module": "@jupyter-widgets/base",
       "_model_module_version": "1.2.0",
       "_model_name": "LayoutModel",
       "_view_count": null,
       "_view_module": "@jupyter-widgets/base",
       "_view_module_version": "1.2.0",
       "_view_name": "LayoutView",
       "align_content": null,
       "align_items": null,
       "align_self": null,
       "border": null,
       "bottom": null,
       "display": null,
       "flex": null,
       "flex_flow": null,
       "grid_area": null,
       "grid_auto_columns": null,
       "grid_auto_flow": null,
       "grid_auto_rows": null,
       "grid_column": null,
       "grid_gap": null,
       "grid_row": null,
       "grid_template_areas": null,
       "grid_template_columns": null,
       "grid_template_rows": null,
       "height": null,
       "justify_content": null,
       "justify_items": null,
       "left": null,
       "margin": null,
       "max_height": null,
       "max_width": null,
       "min_height": null,
       "min_width": null,
       "object_fit": null,
       "object_position": null,
       "order": null,
       "overflow": null,
       "overflow_x": null,
       "overflow_y": null,
       "padding": null,
       "right": null,
       "top": null,
       "visibility": null,
       "width": null
      }
     },
     "9a668bea00e24eca82e80c23e2b86d0e": {
      "model_module": "@jupyter-widgets/controls",
      "model_module_version": "1.5.0",
      "model_name": "ProgressStyleModel",
      "state": {
       "_model_module": "@jupyter-widgets/controls",
       "_model_module_version": "1.5.0",
       "_model_name": "ProgressStyleModel",
       "_view_count": null,
       "_view_module": "@jupyter-widgets/base",
       "_view_module_version": "1.2.0",
       "_view_name": "StyleView",
       "bar_color": null,
       "description_width": ""
      }
     },
     "9c4f51aea35047869e2a9492a619a6f1": {
      "model_module": "@jupyter-widgets/base",
      "model_module_version": "1.2.0",
      "model_name": "LayoutModel",
      "state": {
       "_model_module": "@jupyter-widgets/base",
       "_model_module_version": "1.2.0",
       "_model_name": "LayoutModel",
       "_view_count": null,
       "_view_module": "@jupyter-widgets/base",
       "_view_module_version": "1.2.0",
       "_view_name": "LayoutView",
       "align_content": null,
       "align_items": null,
       "align_self": null,
       "border": null,
       "bottom": null,
       "display": null,
       "flex": null,
       "flex_flow": null,
       "grid_area": null,
       "grid_auto_columns": null,
       "grid_auto_flow": null,
       "grid_auto_rows": null,
       "grid_column": null,
       "grid_gap": null,
       "grid_row": null,
       "grid_template_areas": null,
       "grid_template_columns": null,
       "grid_template_rows": null,
       "height": null,
       "justify_content": null,
       "justify_items": null,
       "left": null,
       "margin": null,
       "max_height": null,
       "max_width": null,
       "min_height": null,
       "min_width": null,
       "object_fit": null,
       "object_position": null,
       "order": null,
       "overflow": null,
       "overflow_x": null,
       "overflow_y": null,
       "padding": null,
       "right": null,
       "top": null,
       "visibility": null,
       "width": null
      }
     },
     "a79d46dd849e4b3a82b2cdb829ba04b9": {
      "model_module": "@jupyter-widgets/base",
      "model_module_version": "1.2.0",
      "model_name": "LayoutModel",
      "state": {
       "_model_module": "@jupyter-widgets/base",
       "_model_module_version": "1.2.0",
       "_model_name": "LayoutModel",
       "_view_count": null,
       "_view_module": "@jupyter-widgets/base",
       "_view_module_version": "1.2.0",
       "_view_name": "LayoutView",
       "align_content": null,
       "align_items": null,
       "align_self": null,
       "border": null,
       "bottom": null,
       "display": null,
       "flex": null,
       "flex_flow": null,
       "grid_area": null,
       "grid_auto_columns": null,
       "grid_auto_flow": null,
       "grid_auto_rows": null,
       "grid_column": null,
       "grid_gap": null,
       "grid_row": null,
       "grid_template_areas": null,
       "grid_template_columns": null,
       "grid_template_rows": null,
       "height": null,
       "justify_content": null,
       "justify_items": null,
       "left": null,
       "margin": null,
       "max_height": null,
       "max_width": null,
       "min_height": null,
       "min_width": null,
       "object_fit": null,
       "object_position": null,
       "order": null,
       "overflow": null,
       "overflow_x": null,
       "overflow_y": null,
       "padding": null,
       "right": null,
       "top": null,
       "visibility": null,
       "width": null
      }
     },
     "ba125b9bbea9457bbf9429db13a33d3e": {
      "model_module": "@jupyter-widgets/controls",
      "model_module_version": "1.5.0",
      "model_name": "FloatProgressModel",
      "state": {
       "_dom_classes": [],
       "_model_module": "@jupyter-widgets/controls",
       "_model_module_version": "1.5.0",
       "_model_name": "FloatProgressModel",
       "_view_count": null,
       "_view_module": "@jupyter-widgets/controls",
       "_view_module_version": "1.5.0",
       "_view_name": "ProgressView",
       "bar_style": "success",
       "description": "",
       "description_tooltip": null,
       "layout": "IPY_MODEL_22d17d9617fc4d26bcabd6d80142a273",
       "max": 2869,
       "min": 0,
       "orientation": "horizontal",
       "style": "IPY_MODEL_c6dd0c4c10bf4cb884039ba2b205dd4d",
       "value": 2869
      }
     },
     "c601c85d67034ef88b9e3b4b5122e05a": {
      "model_module": "@jupyter-widgets/controls",
      "model_module_version": "1.5.0",
      "model_name": "DescriptionStyleModel",
      "state": {
       "_model_module": "@jupyter-widgets/controls",
       "_model_module_version": "1.5.0",
       "_model_name": "DescriptionStyleModel",
       "_view_count": null,
       "_view_module": "@jupyter-widgets/base",
       "_view_module_version": "1.2.0",
       "_view_name": "StyleView",
       "description_width": ""
      }
     },
     "c6dd0c4c10bf4cb884039ba2b205dd4d": {
      "model_module": "@jupyter-widgets/controls",
      "model_module_version": "1.5.0",
      "model_name": "ProgressStyleModel",
      "state": {
       "_model_module": "@jupyter-widgets/controls",
       "_model_module_version": "1.5.0",
       "_model_name": "ProgressStyleModel",
       "_view_count": null,
       "_view_module": "@jupyter-widgets/base",
       "_view_module_version": "1.2.0",
       "_view_name": "StyleView",
       "bar_color": null,
       "description_width": ""
      }
     },
     "d4a9d99e3473469aaa6d1d969d3ddb98": {
      "model_module": "@jupyter-widgets/controls",
      "model_module_version": "1.5.0",
      "model_name": "HBoxModel",
      "state": {
       "_dom_classes": [],
       "_model_module": "@jupyter-widgets/controls",
       "_model_module_version": "1.5.0",
       "_model_name": "HBoxModel",
       "_view_count": null,
       "_view_module": "@jupyter-widgets/controls",
       "_view_module_version": "1.5.0",
       "_view_name": "HBoxView",
       "box_style": "",
       "children": [
        "IPY_MODEL_7c0e4e6527b74bc3a41eb18b5ced5e43",
        "IPY_MODEL_ba125b9bbea9457bbf9429db13a33d3e",
        "IPY_MODEL_56a383d745fe40db91262b70083bc690"
       ],
       "layout": "IPY_MODEL_9c4f51aea35047869e2a9492a619a6f1"
      }
     },
     "d9384adb2fdb432f865faaf6299e867e": {
      "model_module": "@jupyter-widgets/controls",
      "model_module_version": "1.5.0",
      "model_name": "DescriptionStyleModel",
      "state": {
       "_model_module": "@jupyter-widgets/controls",
       "_model_module_version": "1.5.0",
       "_model_name": "DescriptionStyleModel",
       "_view_count": null,
       "_view_module": "@jupyter-widgets/base",
       "_view_module_version": "1.2.0",
       "_view_name": "StyleView",
       "description_width": ""
      }
     },
     "e873187c49284772a08019debd0600a4": {
      "model_module": "@jupyter-widgets/controls",
      "model_module_version": "1.5.0",
      "model_name": "FloatProgressModel",
      "state": {
       "_dom_classes": [],
       "_model_module": "@jupyter-widgets/controls",
       "_model_module_version": "1.5.0",
       "_model_name": "FloatProgressModel",
       "_view_count": null,
       "_view_module": "@jupyter-widgets/controls",
       "_view_module_version": "1.5.0",
       "_view_name": "ProgressView",
       "bar_style": "success",
       "description": "",
       "description_tooltip": null,
       "layout": "IPY_MODEL_118f2140422d4fd193d780b927dc8fdb",
       "max": 2682,
       "min": 0,
       "orientation": "horizontal",
       "style": "IPY_MODEL_9a668bea00e24eca82e80c23e2b86d0e",
       "value": 2682
      }
     },
     "f93acf1d71b84b668e4b5cc1d20dd68d": {
      "model_module": "@jupyter-widgets/controls",
      "model_module_version": "1.5.0",
      "model_name": "HBoxModel",
      "state": {
       "_dom_classes": [],
       "_model_module": "@jupyter-widgets/controls",
       "_model_module_version": "1.5.0",
       "_model_name": "HBoxModel",
       "_view_count": null,
       "_view_module": "@jupyter-widgets/controls",
       "_view_module_version": "1.5.0",
       "_view_name": "HBoxView",
       "box_style": "",
       "children": [
        "IPY_MODEL_86a26972b6ee4df68d2f6ddf4133535e",
        "IPY_MODEL_e873187c49284772a08019debd0600a4",
        "IPY_MODEL_671d82754ef74cadb25d3ddc35bffdf2"
       ],
       "layout": "IPY_MODEL_4a737df50e004f0ebf9bd887b7a5e49b"
      }
     },
     "f9b763dce7f141ff8586f2ec5951e773": {
      "model_module": "@jupyter-widgets/base",
      "model_module_version": "1.2.0",
      "model_name": "LayoutModel",
      "state": {
       "_model_module": "@jupyter-widgets/base",
       "_model_module_version": "1.2.0",
       "_model_name": "LayoutModel",
       "_view_count": null,
       "_view_module": "@jupyter-widgets/base",
       "_view_module_version": "1.2.0",
       "_view_name": "LayoutView",
       "align_content": null,
       "align_items": null,
       "align_self": null,
       "border": null,
       "bottom": null,
       "display": null,
       "flex": null,
       "flex_flow": null,
       "grid_area": null,
       "grid_auto_columns": null,
       "grid_auto_flow": null,
       "grid_auto_rows": null,
       "grid_column": null,
       "grid_gap": null,
       "grid_row": null,
       "grid_template_areas": null,
       "grid_template_columns": null,
       "grid_template_rows": null,
       "height": null,
       "justify_content": null,
       "justify_items": null,
       "left": null,
       "margin": null,
       "max_height": null,
       "max_width": null,
       "min_height": null,
       "min_width": null,
       "object_fit": null,
       "object_position": null,
       "order": null,
       "overflow": null,
       "overflow_x": null,
       "overflow_y": null,
       "padding": null,
       "right": null,
       "top": null,
       "visibility": null,
       "width": null
      }
     }
    },
    "version_major": 2,
    "version_minor": 0
   }
  }
 },
 "nbformat": 4,
 "nbformat_minor": 5
}
