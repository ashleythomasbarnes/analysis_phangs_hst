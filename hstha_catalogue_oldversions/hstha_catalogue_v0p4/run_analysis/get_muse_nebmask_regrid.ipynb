{
 "cells": [
  {
   "cell_type": "code",
   "execution_count": 1,
   "metadata": {},
   "outputs": [],
   "source": [
    "import numpy as np\n",
    "from astropy import units as u \n",
    "from astropy.io import fits\n",
    "import matplotlib.pyplot as plt\n",
    "import aplpy\n",
    "import colorcet\n",
    "import matplotlib as mpl\n",
    "from itertools import cycle\n",
    "from reproject import reproject_interp\n",
    "import imageio.v3 as iio\n",
    "from astropy.visualization import wcsaxes\n",
    "\n",
    "import warnings\n",
    "warnings.filterwarnings('ignore')   \n",
    "\n",
    "plt.style.use('paper.mplstyle')"
   ]
  },
  {
   "cell_type": "code",
   "execution_count": 7,
   "metadata": {},
   "outputs": [],
   "source": [
    "root_dir = '/Users/abarnes/Dropbox/work/Smallprojects/galaxies'\n",
    "\n",
    "file_mus = '%s/data_hstha/ngc1566/muse/NGC1566-0.80asec_MAPS.fits' %root_dir \n",
    "file_hst = '%s/data_hstha/ngc1566/hst_contsub/ngc1566_hst_ha.fits' %root_dir \n",
    "file_hstcat = '%s/data_hstha_nebulae_catalogue/ngc1566/catalogue/ngc1566_mask.fits' %root_dir \n",
    "file_hstcpx = '%s/data_hstha_nebulae_catalogue/ngc1566/catalogue/ngc1566_complexity.fits' %root_dir \n",
    "\n",
    "file_muscat_input = '%s/data_hstha/ngc1566/muse/NGC1566_nebmask.fits' %root_dir \n",
    "file_muscat_output = '%s/data_hstha/ngc1566/muse/NGC1566_nebmask_regrid.fits' %root_dir \n",
    "\n",
    "hdu_mus = fits.open(file_mus)['HA6562_FLUX']\n",
    "hdu_hst = fits.open(file_hst)[0]\n",
    "hdu_hstcat = fits.open(file_hstcat)[0]\n",
    "\n",
    "hdu_muscat_input = fits.open(file_muscat_input)[0]"
   ]
  },
  {
   "cell_type": "code",
   "execution_count": 8,
   "metadata": {},
   "outputs": [],
   "source": [
    "data_musecat_re, _ = reproject_interp(hdu_muscat_input, hdu_hst.header)"
   ]
  },
  {
   "cell_type": "code",
   "execution_count": 9,
   "metadata": {},
   "outputs": [],
   "source": [
    "hdu_musecat_re = fits.PrimaryHDU(data_musecat_re, header=hdu_hst.header)\n",
    "hdu_musecat_re.writeto(file_muscat_output, overwrite=True)"
   ]
  }
 ],
 "metadata": {
  "kernelspec": {
   "display_name": "base",
   "language": "python",
   "name": "python3"
  },
  "language_info": {
   "codemirror_mode": {
    "name": "ipython",
    "version": 3
   },
   "file_extension": ".py",
   "mimetype": "text/x-python",
   "name": "python",
   "nbconvert_exporter": "python",
   "pygments_lexer": "ipython3",
   "version": "3.9.13"
  }
 },
 "nbformat": 4,
 "nbformat_minor": 2
}
