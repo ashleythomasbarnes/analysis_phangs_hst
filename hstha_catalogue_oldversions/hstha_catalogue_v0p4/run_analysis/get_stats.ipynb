{
 "cells": [
  {
   "cell_type": "code",
   "execution_count": 1,
   "metadata": {},
   "outputs": [],
   "source": [
    "import numpy as np\n",
    "from astropy import units as u \n",
    "from astropy.io import fits\n",
    "import matplotlib.pyplot as plt\n",
    "import matplotlib as mpl\n",
    "from astropy.table import QTable\n",
    "import numpy as np\n",
    "\n",
    "plt.style.use('paper.mplstyle')"
   ]
  },
  {
   "cell_type": "code",
   "execution_count": 2,
   "metadata": {},
   "outputs": [],
   "source": [
    "root_dir = '/Users/abarnes/Dropbox/work/Smallprojects/galaxies'\n",
    "table = QTable.read('%s/data_hstha_nebulae_catalogue/all/nebulae_catalogue.fits' %root_dir)\n",
    "table_muse = QTable.read('%s/data_misc/Nebulae_catalogue_v4/Nebulae_catalogue_v4.fits' %root_dir)"
   ]
  },
  {
   "cell_type": "code",
   "execution_count": 3,
   "metadata": {},
   "outputs": [],
   "source": [
    "table = table[table['HII_class_v3_MUSE']==1]\n",
    "table_muse = table_muse[table_muse['HII_class_v3']==1]"
   ]
  },
  {
   "cell_type": "code",
   "execution_count": 4,
   "metadata": {},
   "outputs": [],
   "source": [
    "# Calculate the percentiles for each \"gal_name\"\n",
    "percentiles = [10, 50, 90]\n",
    "columns = ['gal_name'] + [f'percentile_{p}' for p in percentiles]\n",
    "data = []\n",
    "\n",
    "for gal_name in np.unique(table['gal_name']):\n",
    "\n",
    "    table_masked = table[table['gal_name'] == gal_name]\n",
    "    table_muse_masked = table_muse[table_muse['gal_name'] == gal_name]\n",
    "\n",
    "    gal_data = [gal_name.replace('NGC', 'NGC~').replace('IC', 'IC~')]\n",
    "        \n",
    "    p_lum = np.percentile(table_masked['HA6562_LUMINOSITY_HST'], percentiles).to('dex(erg/s)')\n",
    "    p_rad = np.percentile(table_masked['radius_circ_pc'], percentiles)\n",
    "    p_muse_rad = np.percentile(table_masked['region_circ_rad_pc_MUSE'], percentiles)\n",
    "    p_muse_rad_ratio = np.percentile(table_masked['radius_circ_pc']/table_masked['region_circ_rad_pc_MUSE'], percentiles)\n",
    "\n",
    "    for values in [p_lum, p_rad, p_muse_rad, p_muse_rad_ratio]:\n",
    "        for value in values:\n",
    "            gal_data.extend([value])\n",
    "    \n",
    "    data.append(gal_data)"
   ]
  },
  {
   "cell_type": "code",
   "execution_count": 5,
   "metadata": {},
   "outputs": [],
   "source": [
    "# Calculate the percentiles for each \"gal_name\"\n",
    "percentiles = [10, 50, 90]\n",
    "\n",
    "gal_data = ['All']\n",
    "\n",
    "p_lum = np.percentile(table['HA6562_LUMINOSITY_HST'], percentiles).to('dex(erg/s)')\n",
    "p_rad = np.percentile(table['radius_circ_pc'], percentiles)\n",
    "p_muse_rad = np.percentile(table['region_circ_rad_pc_MUSE'], percentiles)\n",
    "p_muse_rad_ratio = np.percentile(table['radius_circ_pc']/table['region_circ_rad_pc_MUSE'], percentiles)\n",
    "\n",
    "for values in [p_lum, p_rad, p_muse_rad, p_muse_rad_ratio]:\n",
    "    for value in values:\n",
    "        gal_data.extend([value])\n",
    "\n",
    "data.append(gal_data)"
   ]
  },
  {
   "cell_type": "code",
   "execution_count": 6,
   "metadata": {},
   "outputs": [
    {
     "data": {
      "text/html": [
       "<div><i>QTable length=19</i>\n",
       "<table id=\"table140340097496448\" class=\"table-striped table-bordered table-condensed\">\n",
       "<thead><tr><th>gal_name</th><th>p10_lum</th><th>p50_lum</th><th>p90_lum</th><th>p10_rad</th><th>p50_rad</th><th>p90_rad</th><th>p10_muse_rad</th><th>p50_muse_rad</th><th>p90_muse_rad</th><th>p10_rad_ratio</th><th>p50_rad_ratio</th><th>p90_rad_ratio</th></tr></thead>\n",
       "<thead><tr><th></th><th>dex(erg / s)</th><th>dex(erg / s)</th><th>dex(erg / s)</th><th>pc</th><th>pc</th><th>pc</th><th>pc</th><th>pc</th><th>pc</th><th></th><th></th><th></th></tr></thead>\n",
       "<thead><tr><th>str8</th><th>float64</th><th>float64</th><th>float64</th><th>float64</th><th>float64</th><th>float64</th><th>float64</th><th>float64</th><th>float64</th><th>float64</th><th>float64</th><th>float64</th></tr></thead>\n",
       "<tr><td>IC~5332</td><td>36.34992159520272</td><td>36.90373231082586</td><td>37.653467105814975</td><td>8.528219049502558</td><td>14.350416557230577</td><td>32.82415815280308</td><td>29.118096139435547</td><td>45.974175199373455</td><td>71.47809475813379</td><td>0.23611500201247465</td><td>0.3408435058929893</td><td>0.49617795423117206</td></tr>\n",
       "<tr><td>NGC~0628</td><td>36.488172817057844</td><td>37.25203505080238</td><td>38.19496740708628</td><td>9.296423396959716</td><td>20.53979258560183</td><td>52.066960345825656</td><td>31.38803165149418</td><td>45.67629525153207</td><td>79.11366407717058</td><td>0.2685579850820873</td><td>0.4605241449534478</td><td>0.7193667347256512</td></tr>\n",
       "<tr><td>NGC~1087</td><td>37.043302145495645</td><td>37.76009096563498</td><td>38.77998206132096</td><td>14.371175425367591</td><td>30.34034869591672</td><td>92.53198350499477</td><td>51.29710043866201</td><td>65.4630480859476</td><td>128.90059796653202</td><td>0.2618409828714189</td><td>0.48016268987708494</td><td>0.7685768892015531</td></tr>\n",
       "<tr><td>NGC~1300</td><td>36.83019946989189</td><td>37.535882863823005</td><td>38.49329801461271</td><td>16.591881280264</td><td>32.27799178933874</td><td>82.75494667850211</td><td>58.76645141744895</td><td>62.33123445532192</td><td>98.55433512439103</td><td>0.26439115021592396</td><td>0.5078253439914133</td><td>0.8961863900737482</td></tr>\n",
       "<tr><td>NGC~1365</td><td>37.33800396073866</td><td>38.14945472336546</td><td>39.56416859121111</td><td>17.488770109263623</td><td>42.36344409392414</td><td>138.97472798400332</td><td>77.93961781900917</td><td>98.12055139921425</td><td>174.9347012880643</td><td>0.2086258159742189</td><td>0.4542766332123595</td><td>0.8813480085767563</td></tr>\n",
       "<tr><td>NGC~1385</td><td>37.28384731936523</td><td>38.14646961057564</td><td>39.20469419989987</td><td>17.899505667988887</td><td>44.200639636312594</td><td>121.67256848171291</td><td>47.10127380454329</td><td>76.53051145907668</td><td>145.3286122653777</td><td>0.3364561206960649</td><td>0.5870785896579597</td><td>0.9274561845822153</td></tr>\n",
       "<tr><td>NGC~1433</td><td>37.1225304726672</td><td>37.77754718615889</td><td>38.56587101152621</td><td>8.657607772620512</td><td>24.142610511885557</td><td>55.09716268516814</td><td>58.54628242932918</td><td>76.59991791380654</td><td>124.52935728046278</td><td>0.13293933739560318</td><td>0.3213366704415592</td><td>0.4530573990543479</td></tr>\n",
       "<tr><td>NGC~1512</td><td>36.93734141840625</td><td>37.47850340304309</td><td>38.48372929025732</td><td>15.540976680121545</td><td>25.075683846687816</td><td>74.93863446034528</td><td>79.12356420177082</td><td>83.68580617875041</td><td>126.91514887158725</td><td>0.17439825983662768</td><td>0.2956454333703235</td><td>0.64508127725292</td></tr>\n",
       "<tr><td>NGC~1566</td><td>37.06717657413171</td><td>37.86822142128129</td><td>39.038553852255276</td><td>15.57448904253183</td><td>37.07469960278864</td><td>109.90935246177992</td><td>49.345100541950515</td><td>72.41880893050333</td><td>132.6540810994978</td><td>0.3019071087521027</td><td>0.5257517342274276</td><td>0.8765171457536738</td></tr>\n",
       "<tr><td>NGC~1672</td><td>37.18893727121473</td><td>38.037874127742576</td><td>39.169272542795476</td><td>20.165529441198316</td><td>49.77327555898877</td><td>131.3770678228401</td><td>63.67698468827126</td><td>81.51870002923486</td><td>149.78744611042453</td><td>0.2887437041522975</td><td>0.6040020192104346</td><td>0.964529960896936</td></tr>\n",
       "<tr><td>NGC~2835</td><td>36.47170634316771</td><td>37.35307566731361</td><td>38.47329927434068</td><td>9.998218808862385</td><td>24.984310056440304</td><td>71.06140937969626</td><td>47.740374513511476</td><td>61.813300668033555</td><td>110.55484443963208</td><td>0.16944366064695146</td><td>0.43397206960943924</td><td>0.7369920958667671</td></tr>\n",
       "<tr><td>NGC~3351</td><td>36.51606752238752</td><td>37.09720645718804</td><td>38.03726818088786</td><td>8.56729277488628</td><td>14.76026440096652</td><td>39.27177794904611</td><td>36.142250905501946</td><td>50.96723953211496</td><td>86.90528965645005</td><td>0.2055669581160475</td><td>0.3180862942009492</td><td>0.47002564275888703</td></tr>\n",
       "<tr><td>NGC~3627</td><td>37.008741420390024</td><td>37.98878340314978</td><td>39.23247683254067</td><td>11.702566158925718</td><td>34.42588732565525</td><td>99.53489519624002</td><td>42.45461064698321</td><td>65.82868127193984</td><td>123.07541745945609</td><td>0.2553432651780344</td><td>0.5017768652261672</td><td>0.940144701303957</td></tr>\n",
       "<tr><td>NGC~4254</td><td>36.87777515402793</td><td>37.83068443952395</td><td>38.84466999572595</td><td>12.457493367417403</td><td>32.528568667255115</td><td>84.70866581940209</td><td>41.167813027764375</td><td>54.81189204637349</td><td>106.48700339045017</td><td>0.2765048357240514</td><td>0.5883609428483898</td><td>0.908174310700437</td></tr>\n",
       "<tr><td>NGC~4303</td><td>37.12360800016214</td><td>37.938020171283995</td><td>38.99168153848195</td><td>16.05144603021411</td><td>38.180498510395665</td><td>102.61434857005297</td><td>46.47216394125825</td><td>70.7842912630266</td><td>129.7896905258227</td><td>0.3154013128373658</td><td>0.5615911518438169</td><td>0.887936772023269</td></tr>\n",
       "<tr><td>NGC~4321</td><td>37.163176393878274</td><td>37.84316522707276</td><td>38.942268793640146</td><td>13.859597835666587</td><td>27.802435068243437</td><td>86.07027351199466</td><td>60.57545265643592</td><td>76.26027663760043</td><td>134.06345321407431</td><td>0.20650289886782325</td><td>0.3839094010626675</td><td>0.6713592069685814</td></tr>\n",
       "<tr><td>NGC~5068</td><td>35.83102493071554</td><td>36.84029472483673</td><td>37.809970315450144</td><td>4.748391247442354</td><td>14.705839571281086</td><td>37.13422341292625</td><td>20.57214317694929</td><td>35.301503810459415</td><td>61.011508324076566</td><td>0.20058155930649715</td><td>0.4072640775322567</td><td>0.7107277454411183</td></tr>\n",
       "<tr><td>NGC~7496</td><td>37.16438101765965</td><td>37.86151024175962</td><td>38.939624697706606</td><td>15.883530284563525</td><td>35.020163762219966</td><td>101.77349854534909</td><td>57.01855324465027</td><td>79.65431845535144</td><td>134.83511136224496</td><td>0.26070597517237365</td><td>0.46389352760554836</td><td>0.839989702087272</td></tr>\n",
       "<tr><td>All</td><td>36.814918794890154</td><td>37.725085999433176</td><td>38.882839233085626</td><td>12.230943195013184</td><td>30.678817240899043</td><td>93.35612956957343</td><td>40.729565437525984</td><td>63.891276313589344</td><td>120.46739407930285</td><td>0.25535960372639765</td><td>0.4971203870182622</td><td>0.8763204241736898</td></tr>\n",
       "</table></div>"
      ],
      "text/plain": [
       "<QTable length=19>\n",
       "gal_name      p10_lum       ...    p50_rad_ratio       p90_rad_ratio   \n",
       "            dex(erg / s)    ...                                        \n",
       "  str8        float64       ...       float64             float64      \n",
       "-------- ------------------ ... ------------------- -------------------\n",
       " IC~5332  36.34992159520272 ...  0.3408435058929893 0.49617795423117206\n",
       "NGC~0628 36.488172817057844 ...  0.4605241449534478  0.7193667347256512\n",
       "NGC~1087 37.043302145495645 ... 0.48016268987708494  0.7685768892015531\n",
       "NGC~1300  36.83019946989189 ...  0.5078253439914133  0.8961863900737482\n",
       "NGC~1365  37.33800396073866 ...  0.4542766332123595  0.8813480085767563\n",
       "NGC~1385  37.28384731936523 ...  0.5870785896579597  0.9274561845822153\n",
       "NGC~1433   37.1225304726672 ...  0.3213366704415592  0.4530573990543479\n",
       "NGC~1512  36.93734141840625 ...  0.2956454333703235    0.64508127725292\n",
       "NGC~1566  37.06717657413171 ...  0.5257517342274276  0.8765171457536738\n",
       "NGC~1672  37.18893727121473 ...  0.6040020192104346   0.964529960896936\n",
       "NGC~2835  36.47170634316771 ... 0.43397206960943924  0.7369920958667671\n",
       "NGC~3351  36.51606752238752 ...  0.3180862942009492 0.47002564275888703\n",
       "NGC~3627 37.008741420390024 ...  0.5017768652261672   0.940144701303957\n",
       "NGC~4254  36.87777515402793 ...  0.5883609428483898   0.908174310700437\n",
       "NGC~4303  37.12360800016214 ...  0.5615911518438169   0.887936772023269\n",
       "NGC~4321 37.163176393878274 ...  0.3839094010626675  0.6713592069685814\n",
       "NGC~5068  35.83102493071554 ...  0.4072640775322567  0.7107277454411183\n",
       "NGC~7496  37.16438101765965 ... 0.46389352760554836   0.839989702087272\n",
       "     All 36.814918794890154 ...  0.4971203870182622  0.8763204241736898"
      ]
     },
     "execution_count": 6,
     "metadata": {},
     "output_type": "execute_result"
    }
   ],
   "source": [
    "# Create a new QTable with the calculated percentiles\n",
    "names1 = ['gal_name']\n",
    "names2 = [f'p{p}_lum' for p in percentiles]\n",
    "names3 = [f'p{p}_rad' for p in percentiles]\n",
    "names4 = [f'p{p}_muse_rad' for p in percentiles]\n",
    "names5 = [f'p{p}_rad_ratio' for p in percentiles]\n",
    "\n",
    "names = names1 + names2 + names3 + names4 + names5\n",
    "new_table = QTable(rows=data, names=names)\n",
    "\n",
    "new_table"
   ]
  },
  {
   "cell_type": "code",
   "execution_count": 7,
   "metadata": {},
   "outputs": [],
   "source": [
    "names = ['gal_name',\n",
    "        'p10_lum',\n",
    "        'p50_lum',\n",
    "        'p90_lum',\n",
    "        'p10_rad',\n",
    "        'p50_rad',\n",
    "        'p90_rad',\n",
    "        'p10_muse_rad',\n",
    "        'p50_muse_rad',\n",
    "        'p90_muse_rad',\n",
    "        'p10_rad_ratio',\n",
    "        'p50_rad_ratio',\n",
    "        'p90_rad_ratio']\n",
    "\n",
    "formats={\n",
    "        'gal_name': '%s',\n",
    "        'p10_lum': '%0.1f',\n",
    "        'p50_lum': '%0.1f',\n",
    "        'p90_lum': '%0.1f',\n",
    "        'p10_rad': '%0.1f',\n",
    "        'p50_rad': '%0.1f',\n",
    "        'p90_rad': '%0.1f', \n",
    "        'p10_muse_rad': '%0.1f',\n",
    "        'p50_muse_rad': '%0.1f',\n",
    "        'p90_muse_rad': '%0.1f',\n",
    "        'p10_rad_ratio': '%0.2f',\n",
    "        'p50_rad_ratio': '%0.2f',\n",
    "        'p90_rad_ratio': '%0.2f'\n",
    "        }\n",
    "\n",
    "new_table.write('./tabs/lumrad_props.tex', formats=formats, names=names, overwrite=True)\n",
    "# new_table.write('./tabs/lumrad_props.fits', overwrite=True)\n",
    "# new_table.write('./tabs/lumrad_props.dat', format='ascii', overwrite=True)"
   ]
  }
 ],
 "metadata": {
  "kernelspec": {
   "display_name": "base",
   "language": "python",
   "name": "python3"
  },
  "language_info": {
   "codemirror_mode": {
    "name": "ipython",
    "version": 3
   },
   "file_extension": ".py",
   "mimetype": "text/x-python",
   "name": "python",
   "nbconvert_exporter": "python",
   "pygments_lexer": "ipython3",
   "version": "3.9.13"
  }
 },
 "nbformat": 4,
 "nbformat_minor": 2
}
