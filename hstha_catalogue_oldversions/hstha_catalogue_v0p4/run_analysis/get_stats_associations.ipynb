{
 "cells": [
  {
   "cell_type": "code",
   "execution_count": 1,
   "metadata": {},
   "outputs": [],
   "source": [
    "import numpy as np\n",
    "from astropy import units as u \n",
    "from astropy.io import fits\n",
    "import matplotlib.pyplot as plt\n",
    "import matplotlib as mpl\n",
    "from astropy.table import QTable\n",
    "import numpy as np\n",
    "\n",
    "plt.style.use('paper.mplstyle')"
   ]
  },
  {
   "cell_type": "code",
   "execution_count": 2,
   "metadata": {},
   "outputs": [],
   "source": [
    "root_dir = '/Users/abarnes/Dropbox/work/Smallprojects/galaxies'\n",
    "table = QTable.read('%s/data_hstha_nebulae_catalogue/all/nebulae_catalogue.fits' %root_dir)\n",
    "table_assoc = QTable.read('%s/data_hstha_nebulae_catalogue/all/nebulae_catalogue_wassociations.fits' %root_dir)\n",
    "table_muse = QTable.read('%s/data_misc/Nebulae_catalogue_v4/Nebulae_catalogue_v4.fits' %root_dir)\n",
    "\n",
    "table = table[table['HII_class_v3_MUSE']==1]\n",
    "table_assoc = table_assoc[table_assoc['HII_class_v3_MUSE']==1]\n",
    "table_muse = table_muse[table_muse['HII_class_v3']==1]\n",
    "\n",
    "table_assoc = table_assoc['gal_name', 'region_ID', 'region_ID_association_nuv_32pc', 'age_association_nuv_32pc', 'mass_association_nuv_32pc']\n",
    "table_assoc = table_assoc[np.isfinite(table_assoc['age_association_nuv_32pc'])]\n",
    "table_assoc = table_assoc[table_assoc['mass_association_nuv_32pc']>1]"
   ]
  },
  {
   "cell_type": "code",
   "execution_count": 3,
   "metadata": {},
   "outputs": [
    {
     "name": "stderr",
     "output_type": "stream",
     "text": [
      "/Users/abarnes/opt/anaconda3/lib/python3.9/site-packages/numpy/lib/function_base.py:4823: UserWarning: Warning: 'partition' will ignore the 'mask' of the MaskedColumn.\n",
      "  arr.partition(\n"
     ]
    }
   ],
   "source": [
    "# Calculate the percentiles for each \"gal_name\"\n",
    "percentiles = [10, 50, 90]\n",
    "columns = ['gal_name'] + [f'percentile_{p}' for p in percentiles]\n",
    "data = []\n",
    "\n",
    "for gal_name in np.unique(table['gal_name']):\n",
    "\n",
    "    table_masked = table[table['gal_name'] == gal_name]\n",
    "    table_muse_masked = table_muse[table_muse['gal_name'] == gal_name]\n",
    "\n",
    "    gal_data = [gal_name.replace('NGC', 'NGC~').replace('IC', 'IC~')]\n",
    "\n",
    "    p_age = np.nanpercentile(table_assoc[table_assoc['gal_name'] == gal_name]['age_association_nuv_32pc'], percentiles)\n",
    "    p_mass = np.log10(np.nanpercentile(table_assoc[table_assoc['gal_name'] == gal_name]['mass_association_nuv_32pc'], percentiles))\n",
    "\n",
    "    for values in [p_age, p_mass]:\n",
    "        for value in values:\n",
    "            gal_data.extend([value])\n",
    "    \n",
    "    data.append(gal_data)"
   ]
  },
  {
   "cell_type": "code",
   "execution_count": 4,
   "metadata": {},
   "outputs": [],
   "source": [
    "# Calculate the percentiles for each \"gal_name\"\n",
    "percentiles = [10, 50, 90]\n",
    "\n",
    "gal_data = ['All']\n",
    "\n",
    "p_age = np.nanpercentile(table_assoc['age_association_nuv_32pc'], percentiles)\n",
    "p_mass = np.log10(np.nanpercentile(table_assoc['mass_association_nuv_32pc'], percentiles))\n",
    "\n",
    "for values in [p_age, p_mass]:\n",
    "    for value in values:\n",
    "        gal_data.extend([value])\n",
    "\n",
    "data.append(gal_data)"
   ]
  },
  {
   "cell_type": "code",
   "execution_count": 5,
   "metadata": {},
   "outputs": [
    {
     "data": {
      "text/html": [
       "<div><i>QTable length=19</i>\n",
       "<table id=\"table140573618092784\" class=\"table-striped table-bordered table-condensed\">\n",
       "<thead><tr><th>gal_name</th><th>p10_age</th><th>p50_age</th><th>p90_age</th><th>p10_mass</th><th>p50_mass</th><th>p90_mass</th></tr></thead>\n",
       "<thead><tr><th>str8</th><th>float64</th><th>float64</th><th>float64</th><th>float64</th><th>float64</th><th>float64</th></tr></thead>\n",
       "<tr><td>IC~5332</td><td>1.0</td><td>2.0</td><td>8.0</td><td>2.8379570675946844</td><td>3.4800973852244064</td><td>4.128659726422383</td></tr>\n",
       "<tr><td>NGC~0628</td><td>1.0</td><td>4.0</td><td>12.400000000000013</td><td>2.9525689873082217</td><td>3.6296468393766115</td><td>4.549223763244159</td></tr>\n",
       "<tr><td>NGC~1087</td><td>1.0</td><td>3.0</td><td>8.0</td><td>3.3068673711771446</td><td>4.029733282857735</td><td>4.892938775292047</td></tr>\n",
       "<tr><td>NGC~1300</td><td>1.0</td><td>4.0</td><td>6.0</td><td>2.999644471702198</td><td>3.7683482870234344</td><td>4.460208507428614</td></tr>\n",
       "<tr><td>NGC~1365</td><td>1.0</td><td>3.0</td><td>8.0</td><td>3.5532092172967005</td><td>4.3745463441416454</td><td>5.314378196740826</td></tr>\n",
       "<tr><td>NGC~1385</td><td>1.0</td><td>5.0</td><td>12.800000000000011</td><td>3.4747450122452235</td><td>4.18038187498812</td><td>5.000209650617437</td></tr>\n",
       "<tr><td>NGC~1433</td><td>1.0</td><td>1.0</td><td>6.0</td><td>3.1694970512502625</td><td>4.051695751371738</td><td>4.577443802923829</td></tr>\n",
       "<tr><td>NGC~1512</td><td>1.0</td><td>1.0</td><td>7.000000000000001</td><td>3.085178481054135</td><td>3.869973414756753</td><td>4.48555698294015</td></tr>\n",
       "<tr><td>NGC~1566</td><td>1.0</td><td>3.0</td><td>8.0</td><td>3.3443214371648944</td><td>4.083982388364554</td><td>4.953263372351347</td></tr>\n",
       "<tr><td>NGC~1672</td><td>1.0</td><td>3.0</td><td>7.699999999999989</td><td>3.3869588849959267</td><td>4.2196870296290525</td><td>5.025081911213793</td></tr>\n",
       "<tr><td>NGC~2835</td><td>1.0</td><td>3.0</td><td>8.0</td><td>2.9939210232836087</td><td>3.7733148002325314</td><td>4.450193211756532</td></tr>\n",
       "<tr><td>NGC~3351</td><td>1.0</td><td>3.0</td><td>8.0</td><td>2.9157217864857503</td><td>3.770626021293975</td><td>4.618757714345465</td></tr>\n",
       "<tr><td>NGC~3627</td><td>1.0</td><td>5.0</td><td>8.0</td><td>3.660250671108307</td><td>4.352113143176497</td><td>5.162612087990187</td></tr>\n",
       "<tr><td>NGC~4254</td><td>1.0</td><td>4.0</td><td>7.000000000000001</td><td>3.4683527781336254</td><td>4.244520400278304</td><td>5.015190647117711</td></tr>\n",
       "<tr><td>NGC~4303</td><td>1.0</td><td>3.0</td><td>8.0</td><td>3.469527322510488</td><td>4.179534161409811</td><td>5.035646556297077</td></tr>\n",
       "<tr><td>NGC~4321</td><td>1.0</td><td>3.0</td><td>7.000000000000001</td><td>3.4287535720049016</td><td>4.246947949852609</td><td>5.052610034588192</td></tr>\n",
       "<tr><td>NGC~5068</td><td>1.0</td><td>8.0</td><td>15.0</td><td>2.825331723196451</td><td>3.721388175543002</td><td>4.53663828191211</td></tr>\n",
       "<tr><td>NGC~7496</td><td>1.0</td><td>1.0</td><td>7.000000000000001</td><td>3.503824122284626</td><td>4.016427847083303</td><td>4.873281402964837</td></tr>\n",
       "<tr><td>All</td><td>1.0</td><td>4.0</td><td>8.0</td><td>3.2909806107144073</td><td>4.094420495052263</td><td>4.9418371879993375</td></tr>\n",
       "</table></div>"
      ],
      "text/plain": [
       "<QTable length=19>\n",
       "gal_name p10_age p50_age ...      p50_mass           p90_mass     \n",
       "  str8   float64 float64 ...      float64            float64      \n",
       "-------- ------- ------- ... ------------------ ------------------\n",
       " IC~5332     1.0     2.0 ... 3.4800973852244064  4.128659726422383\n",
       "NGC~0628     1.0     4.0 ... 3.6296468393766115  4.549223763244159\n",
       "NGC~1087     1.0     3.0 ...  4.029733282857735  4.892938775292047\n",
       "NGC~1300     1.0     4.0 ... 3.7683482870234344  4.460208507428614\n",
       "NGC~1365     1.0     3.0 ... 4.3745463441416454  5.314378196740826\n",
       "NGC~1385     1.0     5.0 ...   4.18038187498812  5.000209650617437\n",
       "NGC~1433     1.0     1.0 ...  4.051695751371738  4.577443802923829\n",
       "NGC~1512     1.0     1.0 ...  3.869973414756753   4.48555698294015\n",
       "NGC~1566     1.0     3.0 ...  4.083982388364554  4.953263372351347\n",
       "NGC~1672     1.0     3.0 ... 4.2196870296290525  5.025081911213793\n",
       "NGC~2835     1.0     3.0 ... 3.7733148002325314  4.450193211756532\n",
       "NGC~3351     1.0     3.0 ...  3.770626021293975  4.618757714345465\n",
       "NGC~3627     1.0     5.0 ...  4.352113143176497  5.162612087990187\n",
       "NGC~4254     1.0     4.0 ...  4.244520400278304  5.015190647117711\n",
       "NGC~4303     1.0     3.0 ...  4.179534161409811  5.035646556297077\n",
       "NGC~4321     1.0     3.0 ...  4.246947949852609  5.052610034588192\n",
       "NGC~5068     1.0     8.0 ...  3.721388175543002   4.53663828191211\n",
       "NGC~7496     1.0     1.0 ...  4.016427847083303  4.873281402964837\n",
       "     All     1.0     4.0 ...  4.094420495052263 4.9418371879993375"
      ]
     },
     "execution_count": 5,
     "metadata": {},
     "output_type": "execute_result"
    }
   ],
   "source": [
    "# Create a new QTable with the calculated percentiles\n",
    "names1 = ['gal_name']\n",
    "names2 = [f'p{p}_age' for p in percentiles]\n",
    "names3 = [f'p{p}_mass' for p in percentiles]\n",
    "\n",
    "names = names1 + names2 + names3\n",
    "new_table = QTable(rows=data, names=names)\n",
    "\n",
    "new_table"
   ]
  },
  {
   "cell_type": "code",
   "execution_count": 6,
   "metadata": {},
   "outputs": [],
   "source": [
    "names = ['gal_name',\n",
    "        'p10_age',\n",
    "        'p50_age',\n",
    "        'p90_age',\n",
    "        'p10_mass',\n",
    "        'p50_mass',\n",
    "        'p90_mass'\n",
    "        ]\n",
    "\n",
    "formats={\n",
    "        'gal_name': '%s',\n",
    "        'p10_age': '%.1f',\n",
    "        'p50_age': '%.1f',\n",
    "        'p90_age': '%.1f',\n",
    "        'p10_mass': '%.2f',\n",
    "        'p50_mass': '%.2f',\n",
    "        'p90_mass': '%.2f'\n",
    "        }\n",
    "\n",
    "new_table.write('./tabs/agemass_props.tex', formats=formats, names=names, overwrite=True)\n",
    "# new_table.write('./tabs/lumrad_props.fits', overwrite=True)\n",
    "# new_table.write('./tabs/lumrad_props.dat', format='ascii', overwrite=True)"
   ]
  }
 ],
 "metadata": {
  "kernelspec": {
   "display_name": "base",
   "language": "python",
   "name": "python3"
  },
  "language_info": {
   "codemirror_mode": {
    "name": "ipython",
    "version": 3
   },
   "file_extension": ".py",
   "mimetype": "text/x-python",
   "name": "python",
   "nbconvert_exporter": "python",
   "pygments_lexer": "ipython3",
   "version": "3.9.13"
  }
 },
 "nbformat": 4,
 "nbformat_minor": 2
}
