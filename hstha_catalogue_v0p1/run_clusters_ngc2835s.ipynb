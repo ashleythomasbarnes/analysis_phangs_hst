{
 "cells": [
  {
   "cell_type": "code",
   "execution_count": 1,
   "id": "d911806a-6e45-422e-b299-fd868a526cc9",
   "metadata": {
    "execution": {
     "iopub.execute_input": "2024-03-17T18:11:31.757130Z",
     "iopub.status.busy": "2024-03-17T18:11:31.756813Z",
     "iopub.status.idle": "2024-03-17T18:11:32.273434Z",
     "shell.execute_reply": "2024-03-17T18:11:32.273033Z"
    }
   },
   "outputs": [],
   "source": [
    "import warnings\n",
    "warnings.filterwarnings('ignore')\n",
    "from glob import glob \n",
    "import sys\n",
    "sys.path.append('./')\n",
    "from modules import dendro_misc, dendro_clusters"
   ]
  },
  {
   "cell_type": "code",
   "execution_count": 2,
   "id": "18040bbc",
   "metadata": {
    "execution": {
     "iopub.execute_input": "2024-03-17T18:11:32.275884Z",
     "iopub.status.busy": "2024-03-17T18:11:32.275619Z",
     "iopub.status.idle": "2024-03-17T18:11:32.308667Z",
     "shell.execute_reply": "2024-03-17T18:11:32.308353Z"
    }
   },
   "outputs": [
    {
     "name": "stdout",
     "output_type": "stream",
     "text": [
      "/Users/abarnes/Dropbox/work/Smallprojects/galaxies/data_hstha/ngc2835s/hst_contsub/ngc2835s_hst_ha_sic.fits\n",
      "/Users/abarnes/Dropbox/work/Smallprojects/galaxies/data_hstha/ngc2835s/muse/NGC2835_nebmask.fits\n",
      "/Users/abarnes/Dropbox/work/Smallprojects/galaxies/data_hstha/ngc2835s/muse/NGC2835-1.15asec_MAPS.fits\n",
      "/Users/abarnes/Dropbox/work/Smallprojects/galaxies/data_hstha_nebulae_catalogue/ngc2835s/cutouts\n",
      "/Users/abarnes/Dropbox/work/Smallprojects/galaxies/data_hstha_nebulae_catalogue/ngc2835s/dendro\n",
      "/Users/abarnes/Dropbox/work/Smallprojects/galaxies/data_hstha_nebulae_catalogue/ngc2835s/cutouts_hdus\n",
      "/Users/abarnes/Dropbox/work/Smallprojects/galaxies/data_hstha_nebulae_catalogue/ngc2835s/cutouts/sample.reg\n",
      "/Users/abarnes/Dropbox/work/Smallprojects/galaxies/data_hstha_nebulae_catalogue/ngc2835s/cutouts/sample.pickel\n",
      "/Users/abarnes/Dropbox/work/Smallprojects/galaxies/data_misc/sample_table/phangs_sample_table_v1p6.fits\n",
      "/Users/abarnes/Dropbox/work/Smallprojects/galaxies/data_misc/nebulae_catalogue/Nebulae_catalogue_v3.fits\n"
     ]
    }
   ],
   "source": [
    "# Define names and filenames...\n",
    "\n",
    "galaxy = 'ngc2835'\n",
    "galaxy_hst = 'ngc2835s'\n",
    "root_dir = '/Users/abarnes/Dropbox/work/Smallprojects/galaxies'\n",
    "\n",
    "hstha_file = '%s/data_hstha/%s/hst_contsub/%s_hst_ha_sic.fits' %(root_dir, galaxy_hst, galaxy_hst)\n",
    "muscat_file = '%s/data_hstha/%s/muse/%s_nebmask.fits' %(root_dir, galaxy_hst, galaxy.upper())\n",
    "musha_file = '%s/data_hstha/%s/muse/%s-*_MAPS.fits' %(root_dir, galaxy_hst, galaxy.upper())\n",
    "musha_file = glob(musha_file)[0] #because of resolution in name\n",
    "\n",
    "cutout_dir = '%s/data_hstha_nebulae_catalogue/%s/cutouts' %(root_dir, galaxy_hst)\n",
    "dendro_dir = '%s/data_hstha_nebulae_catalogue/%s/dendro' %(root_dir, galaxy_hst)\n",
    "cutouts_hdus_dir = '%s/data_hstha_nebulae_catalogue/%s/cutouts_hdus' %(root_dir, galaxy_hst)\n",
    "\n",
    "rerun_all = True\n",
    "rerun_masking = True\n",
    "\n",
    "regions_file = '%s/sample.reg' %cutout_dir\n",
    "regions_pickel_file = '%s/sample.pickel' %cutout_dir\n",
    "sample_table_file = '%s/data_misc/sample_table/phangs_sample_table_v1p6.fits' %root_dir\n",
    "muscat_table_file = '%s/data_misc/nebulae_catalogue/Nebulae_catalogue_v3.fits' %root_dir\n",
    "cluster_table_file = '%s/data_misc/compact_clusters/PHANGS_IR4_%s_phangs_hst_v1p2_ml_class12.fits' %(root_dir, galaxy)\n",
    "# cluster_table_file = '%s/data_misc/compact_clusters/PHANGS_IR4_%s_phangs_hst_v1p2_human_class12.fits' %(root_dir, galaxy_hst)\n",
    "\n",
    "print(hstha_file)\n",
    "print(muscat_file)\n",
    "print(musha_file)\n",
    "print(cutout_dir)\n",
    "print(dendro_dir)\n",
    "print(cutouts_hdus_dir)\n",
    "print(regions_file)\n",
    "print(regions_pickel_file)\n",
    "print(sample_table_file)\n",
    "print(muscat_table_file)"
   ]
  },
  {
   "cell_type": "code",
   "execution_count": 3,
   "id": "3f2916b0",
   "metadata": {
    "execution": {
     "iopub.execute_input": "2024-03-17T18:11:32.310563Z",
     "iopub.status.busy": "2024-03-17T18:11:32.310448Z",
     "iopub.status.idle": "2024-03-17T18:11:44.033472Z",
     "shell.execute_reply": "2024-03-17T18:11:44.033129Z"
    }
   },
   "outputs": [
    {
     "name": "stdout",
     "output_type": "stream",
     "text": [
      "[INFO] [load_pickle] Load /Users/abarnes/Dropbox/work/Smallprojects/galaxies/data_hstha_nebulae_catalogue/ngc2835s/cutouts/hdus_all.pickel\n",
      "[INFO] [load_pickle] Load /Users/abarnes/Dropbox/work/Smallprojects/galaxies/data_hstha_nebulae_catalogue/ngc2835s/cutouts/sample.pickel\n",
      "[INFO] [get_galaxyprops] Getting sample table properties for ngc2835...\n",
      "[INFO] [get_MuseProps] Getting MUSE catalouge properties for ngc2835...\n",
      "[INFO] [load_pickle] Load /Users/abarnes/Dropbox/work/Smallprojects/galaxies/data_hstha_nebulae_catalogue/ngc2835s/dendro/hdus_all_withmasked_withdendro.pickel\n",
      "[INFO] [load_pickle] Load /Users/abarnes/Dropbox/work/Smallprojects/galaxies/data_hstha_nebulae_catalogue/ngc2835s/dendro/props_all.pickel\n",
      "[INFO] [load_table] /Users/abarnes/Dropbox/work/Smallprojects/galaxies/data_misc/compact_clusters/PHANGS_IR4_ngc2835_phangs_hst_v1p2_ml_class12.fits\n"
     ]
    }
   ],
   "source": [
    "# Load regions, sample table and HDUs... \n",
    "\n",
    "hdus_cutouts  = dendro_misc.load_pickle('%s/hdus_all.pickel' %cutout_dir)\n",
    "regions       = dendro_misc.load_pickle(regions_pickel_file)\n",
    "sample_table  = dendro_misc.get_galaxyprops(galaxy, sample_table_file)\n",
    "muscat_table  = dendro_misc.get_museprops(galaxy, muscat_table_file)\n",
    "hdus          = dendro_misc.load_pickle('%s/hdus_all_withmasked_withdendro.pickel' %dendro_dir)\n",
    "props_all     = dendro_misc.load_pickle('%s/props_all.pickel' %dendro_dir)\n",
    "cluster_table = dendro_misc.load_table(cluster_table_file)"
   ]
  },
  {
   "cell_type": "code",
   "execution_count": 4,
   "id": "f2a37a97",
   "metadata": {
    "execution": {
     "iopub.execute_input": "2024-03-17T18:11:44.036013Z",
     "iopub.status.busy": "2024-03-17T18:11:44.035884Z",
     "iopub.status.idle": "2024-03-17T18:12:06.268988Z",
     "shell.execute_reply": "2024-03-17T18:12:06.268651Z"
    }
   },
   "outputs": [
    {
     "data": {
      "application/vnd.jupyter.widget-view+json": {
       "model_id": "c5537bf0ae6a43aaae1cc14eaf0234e9",
       "version_major": 2,
       "version_minor": 0
      },
      "text/plain": [
       "  0%|          | 0/1121 [00:00<?, ?it/s]"
      ]
     },
     "metadata": {},
     "output_type": "display_data"
    },
    {
     "name": "stderr",
     "output_type": "stream",
     "text": [
      "rm: /Users/abarnes/Dropbox/work/Smallprojects/galaxies/data_hstha_nebulae_catalogue/ngc2835s/dendro/ngc2835_clusters_regions.reg: No such file or directory\n"
     ]
    },
    {
     "data": {
      "application/vnd.jupyter.widget-view+json": {
       "model_id": "d71f93db71bb4c10905d3211e10d0290",
       "version_major": 2,
       "version_minor": 0
      },
      "text/plain": [
       "  0%|          | 0/886 [00:00<?, ?it/s]"
      ]
     },
     "metadata": {},
     "output_type": "display_data"
    }
   ],
   "source": [
    "# Get clusters withing the Dendro leaves, and export region file of these clusters\n",
    "\n",
    "props_all_cluster = dendro_clusters.get_clusters(cluster_table, hdus, props_all)\n",
    "dendro_clusters.get_clusters_regions(props_all_cluster, dendro_dir, galaxy)"
   ]
  },
  {
   "cell_type": "code",
   "execution_count": 5,
   "id": "7b7826f7-45fe-4452-af1c-90a0f08b2b1e",
   "metadata": {
    "execution": {
     "iopub.execute_input": "2024-03-17T18:12:06.272932Z",
     "iopub.status.busy": "2024-03-17T18:12:06.272802Z",
     "iopub.status.idle": "2024-03-17T18:12:06.466052Z",
     "shell.execute_reply": "2024-03-17T18:12:06.465734Z"
    }
   },
   "outputs": [
    {
     "name": "stdout",
     "output_type": "stream",
     "text": [
      "[INFO] [save_pickle] Saved to /Users/abarnes/Dropbox/work/Smallprojects/galaxies/data_hstha_nebulae_catalogue/ngc2835s/dendro/props_all_cluster.pickel\n"
     ]
    }
   ],
   "source": [
    "# Save table with appended cluster information\n",
    "\n",
    "dendro_misc.save_pickle(props_all_cluster, '%s/props_all_cluster.pickel' %dendro_dir)        \n",
    "props_all_cluster.write('%s/props_all_cluster.fits' %dendro_dir, overwrite=True)"
   ]
  },
  {
   "cell_type": "code",
   "execution_count": 6,
   "id": "57222d40",
   "metadata": {
    "execution": {
     "iopub.execute_input": "2024-03-17T18:12:06.468079Z",
     "iopub.status.busy": "2024-03-17T18:12:06.467969Z",
     "iopub.status.idle": "2024-03-17T18:12:06.598534Z",
     "shell.execute_reply": "2024-03-17T18:12:06.598178Z"
    }
   },
   "outputs": [
    {
     "data": {
      "text/html": [
       "<div><i>Table length=29</i>\n",
       "<table id=\"table140412469320144\" class=\"table-striped table-bordered table-condensed\">\n",
       "<thead><tr><th>region_ID</th><th>hstcat_region_ID</th><th>_idx</th><th>area_ellipse</th><th>area_exact</th><th>HA6562_FLUX_HST</th><th>major_sigma</th><th>minor_sigma</th><th>position_angle</th><th>mean_sigma</th><th>x_cen</th><th>y_cen</th><th>radius_trunk</th><th>radius_trunkclose</th><th>major_fwtm</th><th>minor_fwtm</th><th>mean_fwtm</th><th>mean_hwtm</th><th>major_fwhm</th><th>minor_fwhm</th><th>mean_fwhm</th><th>mean_hwhm</th><th>min_npix</th><th>min_value_sig</th><th>min_delta_sig</th><th>radius_trunk_pc</th><th>radius_trunkclose_pc</th><th>major_fwtm_pc</th><th>minor_fwtm_pc</th><th>mean_fwtm_pc</th><th>mean_hwtm_pc</th><th>major_fwhm_pc</th><th>minor_fwhm_pc</th><th>mean_fwhm_pc</th><th>mean_hwhm_pc</th><th>ra_cen</th><th>dec_cen</th><th>mean_sigma_pc</th><th>x_max</th><th>y_max</th><th>ra_max</th><th>dec_max</th><th>flag_edge_hst</th><th>gal_name</th><th>cen_x</th><th>cen_y</th><th>cen_ra</th><th>cen_dec</th><th>cen_x_geo</th><th>cen_y_geo</th><th>flag_edge</th><th>flag_nearby</th><th>flag_star</th><th>deproj_dist</th><th>deproj_phi</th><th>region_area</th><th>region_circ_rad</th><th>HB4861_FLUX</th><th>OIII5006_FLUX</th><th>HA6562_FLUX</th><th>NII6583_FLUX</th><th>SII6716_FLUX</th><th>SII6730_FLUX</th><th>SIII9068_FLUX</th><th>OI6300_FLUX</th><th>NII5754_FLUX</th><th>HEI5875_FLUX</th><th>SIII6312_FLUX</th><th>OI6363_FLUX</th><th>OII7319_FLUX</th><th>OII7330_FLUX</th><th>HB4861_FLUX_ERR</th><th>OIII5006_FLUX_ERR</th><th>HA6562_FLUX_ERR</th><th>NII6583_FLUX_ERR</th><th>SII6716_FLUX_ERR</th><th>SII6730_FLUX_ERR</th><th>SIII9068_FLUX_ERR</th><th>OI6300_FLUX_ERR</th><th>NII5754_FLUX_ERR</th><th>HEI5875_FLUX_ERR</th><th>SIII6312_FLUX_ERR</th><th>OI6363_FLUX_ERR</th><th>OII7319_FLUX_ERR</th><th>OII7330_FLUX_ERR</th><th>HA6562_SIGMA</th><th>NII6583_SIGMA</th><th>OIII5006_SIGMA</th><th>HA6562_VEL</th><th>NII6583_VEL</th><th>OIII5006_VEL</th><th>HA6562_SIGMA_ERR</th><th>NII6583_SIGMA_ERR</th><th>OIII5006_SIGMA_ERR</th><th>HA6562_VEL_ERR</th><th>NII6583_VEL_ERR</th><th>OIII5006_VEL_ERR</th><th>HB4861_FLUX_CORR</th><th>OIII5006_FLUX_CORR</th><th>HA6562_FLUX_CORR</th><th>NII6583_FLUX_CORR</th><th>SII6716_FLUX_CORR</th><th>SII6730_FLUX_CORR</th><th>SIII9068_FLUX_CORR</th><th>OI6300_FLUX_CORR</th><th>NII5754_FLUX_CORR</th><th>HEI5875_FLUX_CORR</th><th>SIII6312_FLUX_CORR</th><th>OI6363_FLUX_CORR</th><th>OII7319_FLUX_CORR</th><th>OII7330_FLUX_CORR</th><th>HB4861_FLUX_CORR_ERR</th><th>OIII5006_FLUX_CORR_ERR</th><th>HA6562_FLUX_CORR_ERR</th><th>NII6583_FLUX_CORR_ERR</th><th>SII6716_FLUX_CORR_ERR</th><th>SII6730_FLUX_CORR_ERR</th><th>SIII9068_FLUX_CORR_ERR</th><th>OI6300_FLUX_CORR_ERR</th><th>NII5754_FLUX_CORR_ERR</th><th>HEI5875_FLUX_CORR_ERR</th><th>SIII6312_FLUX_CORR_ERR</th><th>OI6363_FLUX_CORR_ERR</th><th>OII7319_FLUX_CORR_ERR</th><th>OII7330_FLUX_CORR_ERR</th><th>EBV</th><th>EBV_ERR</th><th>met_scal</th><th>met_scal_err</th><th>logq_D91</th><th>logq_D91_err</th><th>t_N2</th><th>t_S3</th><th>t_N2_err</th><th>t_S3_err</th><th>BPT_NII</th><th>BPT_SII</th><th>BPT_OI</th><th>LOG_SIGMA_SFR_CHAB</th><th>LOG_SIGMA_STMASS_CHAB</th><th>5thNN_dist</th><th>NN_number</th><th>Environment</th><th>r_R25</th><th>r_reff</th><th>Lum_HA6562_CORR</th><th>Delta_met_scal</th><th>pc_per_pixel</th><th>EW_HA6562_raw</th><th>EW_HA6562_raw_ERR</th><th>EW_HB4861_raw</th><th>EW_HB4861_raw_ERR</th><th>EW_HA6562_fit</th><th>EW_HA6562_fit_ERR</th><th>EW_HB4861_fit</th><th>EW_HB4861_fit_ERR</th><th>EW_HA6562_bgcorr</th><th>EW_HA6562_bgcorr_ERR</th><th>EW_HB4861_bgcorr</th><th>EW_HB4861_bgcorr_ERR</th><th>HII_class_v2</th><th>HII_class_v3</th><th>HA6562_FLUX_HST_CORR</th><th>HA6562_LUMINOSITY_HST</th><th>INDEX</th><th>ID_PHANGS_CLUSTERS</th><th>PHANGS_X</th><th>PHANGS_Y</th><th>PHANGS_RA</th><th>PHANGS_DEC</th><th>PHANGS_CLUSTER_CLASS_HUMAN</th><th>PHANGS_CLUSTER_CLASS_ML_VGG</th><th>PHANGS_CLUSTER_CLASS_ML_VGG_QUAL</th><th>PHANGS_F275W_VEGA_TOT</th><th>PHANGS_F275W_VEGA_TOT_ERR</th><th>PHANGS_F336W_VEGA_TOT</th><th>PHANGS_F336W_VEGA_TOT_ERR</th><th>PHANGS_F438W_VEGA_TOT</th><th>PHANGS_F438W_VEGA_TOT_ERR</th><th>PHANGS_F555W_VEGA_TOT</th><th>PHANGS_F555W_VEGA_TOT_ERR</th><th>PHANGS_F814W_VEGA_TOT</th><th>PHANGS_F814W_VEGA_TOT_ERR</th><th>PHANGS_F275W_mJy_TOT</th><th>PHANGS_F275W_mJy_TOT_ERR</th><th>PHANGS_F336W_mJy_TOT</th><th>PHANGS_F336W_mJy_TOT_ERR</th><th>PHANGS_F438W_mJy_TOT</th><th>PHANGS_F438W_mJy_TOT_ERR</th><th>PHANGS_F555W_mJy_TOT</th><th>PHANGS_F555W_mJy_TOT_ERR</th><th>PHANGS_F814W_mJy_TOT</th><th>PHANGS_F814W_mJy_TOT_ERR</th><th>PHANGS_CI</th><th>PHANGS_AGE_MINCHISQ</th><th>PHANGS_AGE_MINCHISQ_ERR</th><th>PHANGS_MASS_MINCHISQ</th><th>PHANGS_MASS_MINCHISQ_ERR</th><th>PHANGS_EBV_MINCHISQ</th><th>PHANGS_EBV_MINCHISQ_ERR</th><th>PHANGS_REDUCED_MINCHISQ</th><th>PHANGS_NO_COVERAGE_FLAG</th><th>PHANGS_NON_DETECTION_FLAG</th><th>x_cluster</th><th>y_cluster</th></tr></thead>\n",
       "<thead><tr><th></th><th></th><th></th><th>arcsec2</th><th>arcsec2</th><th>erg / (s cm2)</th><th>arcsec</th><th>arcsec</th><th>deg</th><th>arcsec</th><th>pix</th><th>pix</th><th>arcsec</th><th>arcsec</th><th>arcsec</th><th>arcsec</th><th>arcsec</th><th>arcsec</th><th>arcsec</th><th>arcsec</th><th>arcsec</th><th>arcsec</th><th></th><th></th><th></th><th>pc</th><th>pc</th><th>pc</th><th>pc</th><th>pc</th><th>pc</th><th>pc</th><th>pc</th><th>pc</th><th>pc</th><th>deg</th><th>deg</th><th>pc</th><th>pix</th><th>pix</th><th>deg</th><th>deg</th><th></th><th></th><th>pix</th><th>pix</th><th>deg</th><th>deg</th><th>pix</th><th>pix</th><th></th><th></th><th></th><th>arcsec</th><th>rad</th><th>pix2</th><th>arcsec</th><th>1e-20 erg / (s cm2)</th><th>1e-20 erg / (s cm2)</th><th>1e-20 erg / (s cm2)</th><th>1e-20 erg / (s cm2)</th><th>1e-20 erg / (s cm2)</th><th>1e-20 erg / (s cm2)</th><th>1e-20 erg / (s cm2)</th><th>1e-20 erg / (s cm2)</th><th>1e-20 erg / (s cm2)</th><th>1e-20 erg / (s cm2)</th><th>1e-20 erg / (s cm2)</th><th>1e-20 erg / (s cm2)</th><th>1e-20 erg / (s cm2)</th><th>1e-20 erg / (s cm2)</th><th>1e-20 erg / (s cm2)</th><th>1e-20 erg / (s cm2)</th><th>1e-20 erg / (s cm2)</th><th>1e-20 erg / (s cm2)</th><th>1e-20 erg / (s cm2)</th><th>1e-20 erg / (s cm2)</th><th>1e-20 erg / (s cm2)</th><th>1e-20 erg / (s cm2)</th><th>1e-20 erg / (s cm2)</th><th>1e-20 erg / (s cm2)</th><th>1e-20 erg / (s cm2)</th><th>1e-20 erg / (s cm2)</th><th>1e-20 erg / (s cm2)</th><th>1e-20 erg / (s cm2)</th><th>km / s</th><th>km / s</th><th>km / s</th><th>km / s</th><th>km / s</th><th>km / s</th><th>km / s</th><th>km / s</th><th>km / s</th><th>km / s</th><th>km / s</th><th>km / s</th><th>erg / (s cm2)</th><th>erg / (s cm2)</th><th>erg / (s cm2)</th><th>erg / (s cm2)</th><th>erg / (s cm2)</th><th>erg / (s cm2)</th><th>erg / (s cm2)</th><th>erg / (s cm2)</th><th>erg / (s cm2)</th><th>erg / (s cm2)</th><th>erg / (s cm2)</th><th>erg / (s cm2)</th><th>erg / (s cm2)</th><th>erg / (s cm2)</th><th>erg / (s cm2)</th><th>erg / (s cm2)</th><th>erg / (s cm2)</th><th>erg / (s cm2)</th><th>erg / (s cm2)</th><th>erg / (s cm2)</th><th>erg / (s cm2)</th><th>erg / (s cm2)</th><th>erg / (s cm2)</th><th>erg / (s cm2)</th><th>erg / (s cm2)</th><th>erg / (s cm2)</th><th>erg / (s cm2)</th><th>erg / (s cm2)</th><th>mag</th><th>mag</th><th></th><th></th><th></th><th></th><th>K</th><th>K</th><th>K</th><th>K</th><th></th><th></th><th></th><th>solMass / (yr kpc2)</th><th>solMass / kpc2</th><th>pc</th><th></th><th></th><th></th><th></th><th>erg / s</th><th></th><th>pc</th><th></th><th></th><th></th><th></th><th>Angstrom</th><th>Angstrom</th><th>Angstrom</th><th>Angstrom</th><th>Angstrom</th><th>Angstrom</th><th>Angstrom</th><th>Angstrom</th><th></th><th></th><th>erg / (s cm2)</th><th>erg / s</th><th></th><th></th><th></th><th></th><th></th><th></th><th></th><th></th><th></th><th></th><th></th><th></th><th></th><th></th><th></th><th></th><th></th><th></th><th></th><th></th><th></th><th></th><th></th><th></th><th></th><th></th><th></th><th></th><th></th><th></th><th></th><th></th><th></th><th></th><th></th><th></th><th></th><th></th><th></th><th>pix</th><th>pix</th></tr></thead>\n",
       "<thead><tr><th>float64</th><th>int64</th><th>int64</th><th>float64</th><th>float64</th><th>float64</th><th>float64</th><th>float64</th><th>float64</th><th>float64</th><th>float64</th><th>float64</th><th>float64</th><th>float64</th><th>float64</th><th>float64</th><th>float64</th><th>float64</th><th>float64</th><th>float64</th><th>float64</th><th>float64</th><th>int64</th><th>int64</th><th>int64</th><th>float64</th><th>float64</th><th>float64</th><th>float64</th><th>float64</th><th>float64</th><th>float64</th><th>float64</th><th>float64</th><th>float64</th><th>float64</th><th>float64</th><th>float64</th><th>float64</th><th>float64</th><th>float64</th><th>float64</th><th>int64</th><th>bytes32</th><th>float64</th><th>float64</th><th>float64</th><th>float64</th><th>float64</th><th>float64</th><th>float64</th><th>float64</th><th>float64</th><th>float64</th><th>float64</th><th>float64</th><th>float64</th><th>float64</th><th>float64</th><th>float64</th><th>float64</th><th>float64</th><th>float64</th><th>float64</th><th>float64</th><th>float64</th><th>float64</th><th>float64</th><th>float64</th><th>float64</th><th>float64</th><th>float64</th><th>float64</th><th>float64</th><th>float64</th><th>float64</th><th>float64</th><th>float64</th><th>float64</th><th>float64</th><th>float64</th><th>float64</th><th>float64</th><th>float64</th><th>float64</th><th>float64</th><th>float64</th><th>float64</th><th>float64</th><th>float64</th><th>float64</th><th>float64</th><th>float64</th><th>float64</th><th>float64</th><th>float64</th><th>float64</th><th>float64</th><th>float64</th><th>float64</th><th>float64</th><th>float64</th><th>float64</th><th>float64</th><th>float64</th><th>float64</th><th>float64</th><th>float64</th><th>float64</th><th>float64</th><th>float64</th><th>float64</th><th>float64</th><th>float64</th><th>float64</th><th>float64</th><th>float64</th><th>float64</th><th>float64</th><th>float64</th><th>float64</th><th>float64</th><th>float64</th><th>float64</th><th>float64</th><th>float64</th><th>float64</th><th>float64</th><th>float64</th><th>float64</th><th>float64</th><th>float64</th><th>float64</th><th>float64</th><th>float64</th><th>float64</th><th>float64</th><th>float64</th><th>float64</th><th>float64</th><th>float64</th><th>float64</th><th>float64</th><th>float64</th><th>float64</th><th>float64</th><th>float64</th><th>float64</th><th>float64</th><th>float64</th><th>float64</th><th>float64</th><th>float64</th><th>float64</th><th>float64</th><th>float64</th><th>float64</th><th>float64</th><th>float64</th><th>float64</th><th>int64</th><th>int64</th><th>float64</th><th>float64</th><th>int64</th><th>int64</th><th>float64</th><th>float64</th><th>float64</th><th>float64</th><th>float64</th><th>int64</th><th>float64</th><th>float64</th><th>float64</th><th>float64</th><th>float64</th><th>float64</th><th>float64</th><th>float64</th><th>float64</th><th>float64</th><th>float64</th><th>float64</th><th>float64</th><th>float64</th><th>float64</th><th>float64</th><th>float64</th><th>float64</th><th>float64</th><th>float64</th><th>float64</th><th>float64</th><th>float64</th><th>float64</th><th>float64</th><th>float64</th><th>float64</th><th>float64</th><th>float64</th><th>float64</th><th>float64</th><th>float64</th><th>float64</th></tr></thead>\n",
       "<tr><td>0.0</td><td>0</td><td>0</td><td>0.12168902273029648</td><td>0.4834812751999951</td><td>268053.9375</td><td>0.18229796623488342</td><td>0.15327511270081898</td><td>137.45956544238004</td><td>0.16715783355793365</td><td>62.14474493167375</td><td>60.362694467772535</td><td>0.39229691520696974</td><td>0.4217591699339601</td><td>0.7824228710801197</td><td>0.657856783711915</td><td>0.7201398273960173</td><td>0.36006991369800867</td><td>0.42927890505827865</td><td>0.3609353077922664</td><td>0.3951071064252725</td><td>0.19755355321263626</td><td>9</td><td>3</td><td>3</td><td>23.241308067698096</td><td>24.986775115578702</td><td>46.353999435330806</td><td>38.9741840478332</td><td>42.664091741582006</td><td>21.332045870791003</td><td>25.432275637854215</td><td>21.383315432097646</td><td>23.40779553497593</td><td>11.703897767487964</td><td>139.4744000283661</td><td>-22.36434051443417</td><td>9.903128357762618</td><td>62.0</td><td>58.0</td><td>139.4744017515136</td><td>-22.364366517165582</td><td>0</td><td>NGC2835</td><td>387.6122245992109</td><td>277.12362784168187</td><td>139.47438669203788</td><td>-22.364308012145678</td><td>387.8</td><td>277.168</td><td>0.0</td><td>1.0</td><td>0.0</td><td>38.835078249135655</td><td>4.334525132413769</td><td>125.0</td><td>1.2615662610100802</td><td>76468.15562069828</td><td>49664.06458433649</td><td>347280.29056970647</td><td>119864.23557400877</td><td>58702.96770036272</td><td>42647.17460427294</td><td>42389.74426962772</td><td>6782.5030264354555</td><td>982.5822520873575</td><td>8764.766315016821</td><td>954.5777296227602</td><td>2281.3302410181445</td><td>681.1358481577236</td><td>1646.6524922273582</td><td>239.4074818391103</td><td>197.17899234389233</td><td>405.49438054900145</td><td>210.4755738725275</td><td>172.6203937979771</td><td>155.15172135981098</td><td>272.92374391488534</td><td>118.16979060838582</td><td>116.38509453701685</td><td>158.3292022192614</td><td>138.3412738398681</td><td>39.74702493149827</td><td>179.02065344782778</td><td>99.93190618914441</td><td>18.70053200745506</td><td>21.08145841911654</td><td>16.062880723785337</td><td>-38.37595648905659</td><td>-34.96739141407964</td><td>-30.139631763358523</td><td>0.15864284741582607</td><td>0.20955719546963705</td><td>0.6966328114408651</td><td>0.0636969270984706</td><td>0.08939428729571391</td><td>0.2450171633709784</td><td>335907.931417654</td><td>206120.1711866552</td><td>960859.6650142283</td><td>330464.41230474884</td><td>158267.56968111836</td><td>114711.04787016181</td><td>76663.24774711324</td><td>19647.129373405616</td><td>3198.0629889382726</td><td>27699.221271147995</td><td>2759.1183061476454</td><td>6533.683547634786</td><td>1656.010998783599</td><td>3995.5338087233295</td><td>3742.9386867856974</td><td>2272.1370538001593</td><td>7154.333271046834</td><td>2490.1770863702623</td><td>1225.9931571158538</td><td>920.2067076193862</td><td>592.7598439685055</td><td>374.1292929619776</td><td>379.7851489043262</td><td>550.8233372090862</td><td>400.4221351593575</td><td>124.20155851511107</td><td>435.3736283666805</td><td>243.82740055309398</td><td>0.4386534178439066</td><td>0.0031696096340659372</td><td>8.53858879365849</td><td>0.00318395697711643</td><td>7.471163938169496</td><td>0.006972226891967593</td><td>8550.77368985786</td><td>7882.037278685493</td><td>365.01501879248264</td><td>399.4708180202125</td><td>0.0</td><td>0.0</td><td>0.0</td><td>-1.337450962637127</td><td>8.183604778074859</td><td>296.54509627820954</td><td>12.0</td><td>7.0</td><td>0.20188445013822848</td><td>0.696857445271635</td><td>1.716774872765865e+38</td><td>0.09294486535114288</td><td>11.808279551410747</td><td>65.2593452810152</td><td>0.12425510439158047</td><td>8.914199166409325</td><td>0.08478513484422205</td><td>67.00939262124461</td><td>0.6079514138646744</td><td>12.48864923406618</td><td>0.16360219714610819</td><td>--</td><td>--</td><td>--</td><td>--</td><td>1</td><td>1</td><td>741655.1517204421</td><td>1.325120531677253e+38</td><td>174</td><td>1100</td><td>3738.54</td><td>3127.04</td><td>139.47438342443894</td><td>-22.364366077293955</td><td>3.0</td><td>2</td><td>0.6</td><td>22.954760225126165</td><td>0.1987695625780338</td><td>22.698685952389933</td><td>0.11889609712423697</td><td>24.34754418718538</td><td>0.13919195919554056</td><td>23.433098352023922</td><td>0.06357059629215733</td><td>22.972031827697855</td><td>0.10606345428138733</td><td>0.0005831441321845725</td><td>0.00010686494210155688</td><td>0.0010189799039338756</td><td>0.00011169730137853286</td><td>0.00075159230516597</td><td>9.645082255788883e-05</td><td>0.0015491042990499909</td><td>9.079175418665733e-05</td><td>0.0015646862600585268</td><td>0.0001530038992930758</td><td>1.865286783658777</td><td>1.0</td><td>2.0</td><td>8767.367914495426</td><td>1366.462492917225</td><td>0.67</td><td>0.06999999999999995</td><td>4.593931295776566</td><td>0.0</td><td>0.0</td><td>63.54000000114826</td><td>58.040000000220516</td></tr>\n",
       "<tr><td>7.0</td><td>7</td><td>1</td><td>0.1510680144560778</td><td>0.6953967691999929</td><td>544719.4375</td><td>0.22915767165725442</td><td>0.1513701302156049</td><td>93.07790953264568</td><td>0.18624614519141983</td><td>74.71364535732138</td><td>76.65022650968707</td><td>0.4704802508677974</td><td>0.5369420807415312</td><td>0.9835447267529359</td><td>0.6496805988853761</td><td>0.816612662819156</td><td>0.408306331409578</td><td>0.5396250786911234</td><td>0.35644941685065135</td><td>0.4480372477708874</td><td>0.2240186238854437</td><td>9</td><td>3</td><td>3</td><td>27.87321548123174</td><td>31.810691925632145</td><td>58.26929834705672</td><td>38.489792702895464</td><td>48.37954552497609</td><td>24.189772762488044</td><td>31.969643932324775</td><td>21.11755251301589</td><td>26.543598222670333</td><td>13.271799111335167</td><td>139.4679787845386</td><td>-22.364425390939644</td><td>11.03399967988867</td><td>74.0</td><td>76.0</td><td>139.46798727724635</td><td>-22.36443254721525</td><td>0</td><td>NGC2835</td><td>494.69063658951495</td><td>275.11716314898</td><td>139.4679540469194</td><td>-22.36441951261337</td><td>494.8378378378378</td><td>274.75135135135133</td><td>0.0</td><td>1.0</td><td>0.0</td><td>36.608716885328676</td><td>4.930383761242231</td><td>185.0</td><td>1.5347615963921077</td><td>189263.10774744544</td><td>89477.70742668539</td><td>719633.3000381074</td><td>207152.54507589107</td><td>119104.89637404872</td><td>87179.46865564925</td><td>69624.9436363404</td><td>10996.163404855879</td><td>2036.3170045725608</td><td>15789.25119926018</td><td>1478.2049165947476</td><td>3698.616869450725</td><td>597.3187225437653</td><td>2162.1472355156147</td><td>378.9888155266349</td><td>276.14973705400405</td><td>601.3955796296663</td><td>275.6912582820016</td><td>242.3503272848623</td><td>216.37783703657098</td><td>325.5279843765112</td><td>148.68380634168238</td><td>164.45833049791858</td><td>213.39361153853793</td><td>166.04863623662703</td><td>50.010573151963676</td><td>203.15186207877457</td><td>134.03097673564417</td><td>23.813120483415872</td><td>26.69440642070384</td><td>19.307476807559514</td><td>-52.78241260637841</td><td>-49.43312364937942</td><td>-42.21041239258688</td><td>0.0912332857333862</td><td>0.13116339905349447</td><td>0.423594549583635</td><td>0.044946953452535236</td><td>0.06834551245063734</td><td>0.18616748255902546</td><td>470851.770868446</td><td>214954.16193536753</td><td>1346776.7497240356</td><td>386832.8338403912</td><td>219375.00864082004</td><td>160341.34407735453</td><td>100284.57508270095</td><td>21168.914550416102</td><td>4211.815298956284</td><td>32070.701441849673</td><td>2841.8879940346474</td><td>7070.580364421916</td><td>1032.3130742550532</td><td>3732.1838526057822</td><td>3402.937560737208</td><td>1581.3077187886513</td><td>6528.884804665338</td><td>1911.3891642259152</td><td>1114.2232919589221</td><td>844.1159351051979</td><td>545.508391069555</td><td>305.1073922583085</td><td>340.9558879356888</td><td>466.74601360248266</td><td>319.546482832444</td><td>101.77818785958054</td><td>351.1225532877015</td><td>231.87735566532075</td><td>0.27013585695548187</td><td>0.0020582394283445637</td><td>8.482862040619652</td><td>0.0019519156801867303</td><td>7.426335245464696</td><td>0.0047922719796032855</td><td>8903.355882855752</td><td>7291.528300376857</td><td>258.44630279855744</td><td>251.40098393943205</td><td>0.0</td><td>0.0</td><td>0.0</td><td>-1.3610770307010454</td><td>8.326071777048599</td><td>380.27396560148696</td><td>6.0</td><td>6.0</td><td>0.19031069362722744</td><td>0.6569075710295628</td><td>2.4062957030434504e+38</td><td>0.030950435683996247</td><td>11.808279551410747</td><td>69.9781545818889</td><td>0.09124811900078335</td><td>11.45639717039426</td><td>0.060994676070671314</td><td>71.56646388127893</td><td>0.43252904501250855</td><td>14.9658759101594</td><td>0.1318757245255456</td><td>664.2604142224408</td><td>10.673217804097185</td><td>67.97336244301877</td><td>1.3065856503593236</td><td>1</td><td>1</td><td>1019429.5810225946</td><td>1.8214220790869296e+38</td><td>173</td><td>1091</td><td>4275.59</td><td>3120.1</td><td>139.46799215629855</td><td>-22.364442452313483</td><td>1.0</td><td>2</td><td>0.6</td><td>19.8990371746684</td><td>0.021632957962980804</td><td>20.081857374937737</td><td>0.018997635240705354</td><td>21.64293613135561</td><td>0.02174814770097759</td><td>21.405817698555392</td><td>0.016201318913139622</td><td>21.07515156127796</td><td>0.02112393725866536</td><td>0.009728931153533023</td><td>0.00019403965748788832</td><td>0.011347417920223684</td><td>0.00019874950593840805</td><td>0.009074559393257502</td><td>0.00018195218872477307</td><td>0.01002288899661512</td><td>0.0001497106701364223</td><td>0.008977995336739852</td><td>0.00017484922321089826</td><td>1.7967383224380595</td><td>1.0</td><td>2.0</td><td>27030.440115950587</td><td>11166.678757477512</td><td>0.37</td><td>0.03999999999999998</td><td>4.603665362905956</td><td>0.0</td><td>0.0</td><td>73.58999999956978</td><td>75.10000000043124</td></tr>\n",
       "<tr><td>13.0</td><td>13</td><td>0</td><td>0.34297080603524066</td><td>1.885263024399981</td><td>1838843.25</td><td>0.2984614808475732</td><td>0.2638584026696073</td><td>145.14994083811544</td><td>0.2806271006065634</td><td>96.87512973468029</td><td>92.18653866262026</td><td>0.7746598342003197</td><td>0.8173446767798086</td><td>1.280996675797784</td><td>1.1324802642579546</td><td>1.2067384700278692</td><td>0.6033692350139346</td><td>0.702823077769486</td><td>0.621339055656239</td><td>0.6620810667128625</td><td>0.33104053335643124</td><td>9</td><td>3</td><td>3</td><td>45.8940847006734</td><td>48.422913089975694</td><td>75.89159440676768</td><td>67.09286176344537</td><td>71.49222808510652</td><td>35.74611404255326</td><td>41.63817515340522</td><td>36.810721285892754</td><td>39.224448219648984</td><td>19.612224109824492</td><td>139.47614103963852</td><td>-22.3729927765544</td><td>16.625521752831187</td><td>93.0</td><td>96.0</td><td>139.4761871577383</td><td>-22.372950805913757</td><td>0</td><td>NGC2835</td><td>358.2921429791274</td><td>121.6116290379722</td><td>139.47614842675682</td><td>-22.37294751446574</td><td>358.2229965156794</td><td>121.88153310104529</td><td>0.0</td><td>0.0</td><td>0.0</td><td>70.56611360670145</td><td>4.414810306300648</td><td>287.0</td><td>1.9115955360352561</td><td>597000.5697522815</td><td>858281.5720447418</td><td>2134479.6533435876</td><td>331604.754528536</td><td>196223.61934497813</td><td>139024.25881307747</td><td>198892.22229158017</td><td>20693.148583170776</td><td>3371.274307676863</td><td>75388.78296383482</td><td>7842.034721520709</td><td>6960.248371533624</td><td>10454.231053126281</td><td>11051.586036861827</td><td>640.9612145092636</td><td>684.1726383293342</td><td>1369.772321684356</td><td>361.5138180054638</td><td>294.6663703562463</td><td>256.3481197105548</td><td>459.0509322649564</td><td>160.1684430449896</td><td>170.26606171238478</td><td>294.55260477258867</td><td>177.02445796184054</td><td>53.8734905611036</td><td>210.34949469644528</td><td>148.32599800095792</td><td>17.130404725026114</td><td>21.57186438501988</td><td>1.0000000000004547</td><td>-74.24151288427754</td><td>-67.12303501606634</td><td>-69.1233691259355</td><td>0.06859101771374397</td><td>0.10819328750768353</td><td>2.041620084349573</td><td>0.02781658919517912</td><td>0.04888858427212444</td><td>0.051207974079556795</td><td>1219701.915515943</td><td>1706096.4976772575</td><td>3488633.151271629</td><td>541051.1366181568</td><td>316726.7037700014</td><td>224147.08113595258</td><td>264752.8756158706</td><td>34578.855072878134</td><td>5959.493219938905</td><td>131385.4418665729</td><td>13090.43704466267</td><td>11567.097970531755</td><td>16052.737828972295</td><td>16953.840639083537</td><td>5055.069573950679</td><td>6706.855357823242</td><td>9860.624714389533</td><td>1597.0573604042052</td><td>973.726453167839</td><td>728.4808651688273</td><td>743.9286805251139</td><td>285.5347148847955</td><td>301.5844811793746</td><td>656.2990857541191</td><td>297.8809648920758</td><td>95.39187017834655</td><td>325.292245867362</td><td>231.14396195147498</td><td>0.211757478872459</td><td>0.0011864791601342605</td><td>8.395502235588888</td><td>0.0009237761984777462</td><td>7.876524703277316</td><td>0.002625658431318596</td><td>8942.123208496243</td><td>8838.016989830392</td><td>167.72722949101976</td><td>77.28476260104007</td><td>0.0</td><td>0.0</td><td>0.0</td><td>-1.1384275058820026</td><td>7.8834764494982785</td><td>337.78414818598316</td><td>6.0</td><td>7.0</td><td>0.3668384791833852</td><td>1.2662397983402647</td><td>6.233165937205245e+38</td><td>0.03918786174458333</td><td>11.808279551410747</td><td>266.66969939290414</td><td>0.35967426149108706</td><td>49.80285224760577</td><td>0.13155691020736204</td><td>268.26316334200925</td><td>2.0823569091955494</td><td>52.15999172100082</td><td>0.5237949551377755</td><td>1401.5169056131786</td><td>15.556140137821995</td><td>200.64457443697717</td><td>2.9661565497323275</td><td>1</td><td>1</td><td>3005439.5280335015</td><td>5.3698401690773495e+38</td><td>49</td><td>257</td><td>3586.7</td><td>2345.22</td><td>139.47619072885664</td><td>-22.372970395692896</td><td>-9999.0</td><td>2</td><td>0.9</td><td>19.399781272992897</td><td>0.02004611401393769</td><td>19.69204661885487</td><td>0.01819320861280466</td><td>21.295467999995363</td><td>0.020174670748995156</td><td>21.002441556815093</td><td>0.016925692674274732</td><td>20.957944582191683</td><td>0.023568036637938945</td><td>0.01540875290273111</td><td>0.0002847784682766449</td><td>0.01624880221883312</td><td>0.0002725461896388538</td><td>0.012497202297895494</td><td>0.00023244955473647108</td><td>0.014532601914716428</td><td>0.0002267771489900141</td><td>0.010001431553371893</td><td>0.00021731766728557176</td><td>1.9321965520651645</td><td>1.0</td><td>2.0</td><td>27474.62023692433</td><td>7904.883551783234</td><td>0.29</td><td>0.010000000000000009</td><td>4.11901850670203</td><td>0.0</td><td>0.0</td><td>92.69999999939165</td><td>94.2199999991617</td></tr>\n",
       "<tr><td>15.0</td><td>15</td><td>0</td><td>0.04509308338138707</td><td>0.16168367319999838</td><td>65721.1953125</td><td>0.10813137271597974</td><td>0.09575473982223767</td><td>65.08799030215582</td><td>0.1017550561939801</td><td>42.048761964579164</td><td>38.301847471273874</td><td>0.22686011463910682</td><td>0.24075123823355507</td><td>0.46409985169698503</td><td>0.41097934331704405</td><td>0.43753959750701454</td><td>0.21876979875350727</td><td>0.25462992396830175</td><td>0.22548518074012855</td><td>0.24005755235421516</td><td>0.12002877617710758</td><td>9</td><td>3</td><td>3</td><td>13.440140893840795</td><td>14.26310908540741</td><td>27.495213980390215</td><td>24.348133154328668</td><td>25.92167356735944</td><td>12.96083678367972</td><td>15.085340406206447</td><td>13.358684065912346</td><td>14.222012236059397</td><td>7.111006118029699</td><td>139.45064745268257</td><td>-22.363954712683515</td><td>6.028394608207734</td><td>41.0</td><td>37.0</td><td>139.45065993151636</td><td>-22.36396904181771</td><td>0</td><td>NGC2835</td><td>782.4891584992395</td><td>284.0846105661429</td><td>139.45066485669793</td><td>-22.363920142932574</td><td>782.4905660377359</td><td>284.07547169811323</td><td>0.0</td><td>0.0</td><td>0.0</td><td>93.52388057439754</td><td>5.799685395059994</td><td>53.0</td><td>0.8214724333230157</td><td>27192.14200199073</td><td>44346.481084710074</td><td>85567.46775832667</td><td>10546.75062350166</td><td>10969.971725493944</td><td>7570.404052746605</td><td>5740.306259042206</td><td>1669.0486470841852</td><td>255.46450954673986</td><td>2534.5712570136843</td><td>145.32549685873423</td><td>561.3932109551424</td><td>688.4520947144005</td><td>763.343165851913</td><td>144.88772470416887</td><td>142.72983901969795</td><td>159.39423448931308</td><td>68.19640312104607</td><td>68.48079446655632</td><td>61.672043345198944</td><td>112.57119923234131</td><td>50.524253665379874</td><td>62.19066626109453</td><td>81.85037285747671</td><td>71.50827597515777</td><td>16.99409603540998</td><td>150.70610633856836</td><td>53.07040429725674</td><td>14.017594640176679</td><td>22.719011707251845</td><td>1.0000000000004547</td><td>-8.361219288537157</td><td>-8.141298420156367</td><td>-5.004916864824007</td><td>0.3431991071278715</td><td>0.6069385652506516</td><td>13.045664038993234</td><td>0.103778969656819</td><td>0.27078587801266235</td><td>0.267297086335267</td><td>36919.50962752632</td><td>59508.05536504187</td><td>105593.4987787879</td><td>13005.527696589468</td><td>13465.10636208728</td><td>9287.807677751478</td><td>6487.953180549693</td><td>2079.2924782290015</td><td>326.012873749946</td><td>3214.886447555656</td><td>180.96395667697365</td><td>697.7392247503609</td><td>827.1791882443803</td><td>916.7875067073991</td><td>695.3404329611908</td><td>1051.3317397474082</td><td>1326.3561764806182</td><td>181.63168744704612</td><td>183.40417372718971</td><td>135.30508160324052</td><td>135.6097159883304</td><td>68.48699162737397</td><td>79.50388024617274</td><td>113.21421126286161</td><td>89.07525118957248</td><td>22.943881268289584</td><td>181.29629597800113</td><td>64.50567652572494</td><td>0.0906411478362071</td><td>0.00535423435261135</td><td>8.281463242080159</td><td>0.004724023579702541</td><td>7.482272261932718</td><td>0.016911049570591558</td><td>--</td><td>--</td><td>--</td><td>--</td><td>0.0</td><td>0.0</td><td>0.0</td><td>-1.923839601962821</td><td>7.4631991842316445</td><td>328.7184918030174</td><td>8.0</td><td>7.0</td><td>0.48618460566577654</td><td>1.678194442428211</td><td>1.8866466356267725e+37</td><td>-0.010220177508134753</td><td>11.808279551410747</td><td>136.77317319135946</td><td>0.728540493355175</td><td>26.427759692063347</td><td>0.41159803967614744</td><td>138.26215800408386</td><td>4.493361978026001</td><td>31.77001855309951</td><td>1.581225672023247</td><td>--</td><td>--</td><td>--</td><td>--</td><td>1</td><td>1</td><td>81102.44627749472</td><td>1.449063172854078e+37</td><td>186</td><td>1155</td><td>5732.42</td><td>3164.19</td><td>139.45065493517953</td><td>-22.363955944574823</td><td>2.0</td><td>2</td><td>0.9</td><td>21.956005765469865</td><td>0.09056376717104447</td><td>21.957007601188796</td><td>0.06126206714680159</td><td>23.65601248418406</td><td>0.06863114917623939</td><td>23.161396828338443</td><td>0.03906440011107881</td><td>23.615721934277815</td><td>0.09922853377990917</td><td>0.0014631124094436792</td><td>0.00012216354764225067</td><td>0.0020176087817566474</td><td>0.00011395622902089532</td><td>0.001421003037699776</td><td>8.991367320285573e-05</td><td>0.0019895793681222887</td><td>7.165588942245096e-05</td><td>0.0008648707834716758</td><td>7.912200123112e-05</td><td>1.5822772368578308</td><td>3.0</td><td>1.0</td><td>1953.5832448919962</td><td>1181.2147803134335</td><td>0.27</td><td>0.12000000000000002</td><td>7.94068762975467</td><td>0.0</td><td>0.0</td><td>41.41999999844302</td><td>38.190000000482996</td></tr>\n",
       "<tr><td>36.0</td><td>36</td><td>0</td><td>0.07198029432004172</td><td>0.31237913559999686</td><td>168839.40625</td><td>0.14057899955482378</td><td>0.11756965239509765</td><td>65.7865216069767</td><td>0.12856058537402207</td><td>69.02547153544324</td><td>61.1680884887668</td><td>0.3153305679743496</td><td>0.3277621236199389</td><td>0.6033650660893036</td><td>0.5046089480797591</td><td>0.5539870070845314</td><td>0.2769935035422657</td><td>0.3310382460620959</td><td>0.2768553741472969</td><td>0.3039468101046964</td><td>0.1519734050523482</td><td>9</td><td>3</td><td>3</td><td>18.681500132591076</td><td>19.417997421557622</td><td>35.74586705804254</td><td>29.895142075872215</td><td>32.82050456695738</td><td>16.41025228347869</td><td>19.61208860095295</td><td>16.402068921088546</td><td>18.007078761020747</td><td>9.003539380510373</td><td>139.45651448683657</td><td>-22.366466088937823</td><td>7.616466136280656</td><td>71.0</td><td>63.0</td><td>139.45649099036973</td><td>-22.366445925603017</td><td>0</td><td>NGC2835</td><td>684.6559154832394</td><td>239.26291720251584</td><td>139.4565418396908</td><td>-22.36641084330447</td><td>684.5869565217391</td><td>239.53623188405797</td><td>0.0</td><td>0.0</td><td>0.0</td><td>74.3954040228657</td><td>5.528254328902633</td><td>138.0</td><td>1.325545386523798</td><td>100780.15734824738</td><td>129002.1193778962</td><td>313419.1705045616</td><td>51281.9901696773</td><td>46365.348288062276</td><td>32780.03993376416</td><td>22281.86358747138</td><td>5454.710342614111</td><td>875.0894775617776</td><td>8763.555230403206</td><td>906.1643428894428</td><td>1834.720251815348</td><td>710.6906334686564</td><td>1964.635696275609</td><td>276.6521274158784</td><td>255.79663626064786</td><td>357.0622157797281</td><td>154.43352845502744</td><td>138.5093916694828</td><td>125.58966698569918</td><td>214.76261203437787</td><td>97.2346285428571</td><td>111.40567068179018</td><td>143.0596058968187</td><td>132.78625503368636</td><td>32.70537406388238</td><td>241.7966322886956</td><td>99.05765653972605</td><td>17.995744179612302</td><td>27.847000410129713</td><td>16.51295549041561</td><td>-30.13100147542017</td><td>-25.963810704128694</td><td>-30.527562402599845</td><td>0.16531570036114085</td><td>0.250531857780759</td><td>0.6310076712931952</td><td>0.06329111496795503</td><td>0.13127871708651268</td><td>0.16808632599333673</td><td>131770.60406225472</td><td>166944.6498227408</td><td>376875.50967511884</td><td>61625.06249048815</td><td>55491.71202556946</td><td>39215.68881390064</td><td>24806.796440749287</td><td>6613.853802749461</td><td>1083.6874918462809</td><td>10794.800881926523</td><td>1098.291801774563</td><td>2220.02535771021</td><td>834.7959551926722</td><td>2306.888385472325</td><td>1304.5351705391336</td><td>1562.4934211985058</td><td>2502.188336712132</td><td>442.4693142833607</td><td>390.6426845695278</td><td>291.1475286843337</td><td>257.0847564257344</td><td>126.26867963871365</td><td>138.20644583176417</td><td>193.45827022835104</td><td>161.11425990639503</td><td>42.32588105841645</td><td>284.0606937324899</td><td>117.05433280927876</td><td>0.0794697229077482</td><td>0.0028192645118700456</td><td>8.33640344434986</td><td>0.0027174789158414623</td><td>7.4203072828278716</td><td>0.008441668529085922</td><td>10725.266537790663</td><td>8481.734732629273</td><td>612.1658089388594</td><td>470.77721946458036</td><td>0.0</td><td>0.0</td><td>0.0</td><td>-1.7868820821627538</td><td>7.58178933670743</td><td>317.7732181784394</td><td>8.0</td><td>7.0</td><td>0.3867450745847763</td><td>1.3349526645663234</td><td>6.733661831475585e+37</td><td>-0.009130669634313193</td><td>11.808279551410747</td><td>94.6542098218042</td><td>0.21344565196428195</td><td>16.62839623419314</td><td>0.12154145862632762</td><td>96.58477638349781</td><td>1.194793001846106</td><td>20.28715500825833</td><td>0.33357523923005333</td><td>500.617197833374</td><td>9.582230912163457</td><td>68.48184748852835</td><td>1.728238626443283</td><td>1</td><td>1</td><td>203023.4372111807</td><td>3.6274341846900695e+37</td><td>145</td><td>836</td><td>5239.98</td><td>2935.68</td><td>139.45651502741816</td><td>-22.366471460671473</td><td>2.0</td><td>2</td><td>1.0</td><td>20.119841564713635</td><td>0.02436855320630546</td><td>20.604501306991796</td><td>0.025349716565699593</td><td>22.269984661906342</td><td>0.028657566353501616</td><td>22.08019777622785</td><td>0.02514699115048398</td><td>21.991695855215312</td><td>0.04259902686483683</td><td>0.007938590024853986</td><td>0.00017835388847555655</td><td>0.007011960762466512</td><td>0.00016387852557516353</td><td>0.005093380663775234</td><td>0.00013457206129883332</td><td>0.005385684266753708</td><td>0.0001248637521509982</td><td>0.0038597720588988945</td><td>0.0001515900858574965</td><td>1.5873515384392873</td><td>1.0</td><td>2.0</td><td>8368.882667019501</td><td>2394.448273892309</td><td>0.21</td><td>0.010000000000000009</td><td>4.881426653706883</td><td>0.0</td><td>0.0</td><td>68.97999999955914</td><td>60.67999999935273</td></tr>\n",
       "<tr><td>38.0</td><td>38</td><td>0</td><td>0.03023872929397833</td><td>0.15226520679999847</td><td>108667.453125</td><td>0.08725155154384416</td><td>0.07957789425946481</td><td>84.28523693940348</td><td>0.08332643483751284</td><td>48.80345376444179</td><td>42.77338136025193</td><td>0.22015340253164126</td><td>0.22795871726119693</td><td>0.3744836592261791</td><td>0.34154832216162295</td><td>0.358015990693901</td><td>0.1790079953469505</td><td>0.2054617025354953</td><td>0.18739162054354105</td><td>0.19642666153951818</td><td>0.09821333076975909</td><td>9</td><td>3</td><td>3</td><td>13.042807251467563</td><td>13.50522670255919</td><td>22.185976368951756</td><td>20.234749414676624</td><td>21.21036289181419</td><td>10.605181445907094</td><td>12.1724095694759</td><td>11.1018624249438</td><td>11.63713599720985</td><td>5.818567998604925</td><td>139.47096477406245</td><td>-22.37177577937425</td><td>4.9366060939323955</td><td>49.0</td><td>43.0</td><td>139.4709624349076</td><td>-22.37177328530595</td><td>0</td><td>NGC2835</td><td>444.27035385108434</td><td>143.46364052146782</td><td>139.47098303461462</td><td>-22.37173361422075</td><td>444.2</td><td>143.5</td><td>0.0</td><td>0.0</td><td>0.0</td><td>61.37024448767951</td><td>4.6672837594206324</td><td>70.0</td><td>0.9440697438826298</td><td>33300.291540467384</td><td>55843.44909985047</td><td>134286.1756449653</td><td>25978.607768006947</td><td>18247.902992661602</td><td>13039.28263870795</td><td>12987.609261951775</td><td>2793.1597375646875</td><td>658.1870424418544</td><td>4681.180022661368</td><td>744.5825428379746</td><td>939.4938347192289</td><td>60.302273921955255</td><td>798.6195691527081</td><td>176.59325058503333</td><td>178.27692049070228</td><td>242.42910312425536</td><td>102.38237544704344</td><td>89.69253866326703</td><td>81.48108530928317</td><td>165.53332691189004</td><td>68.41762626469205</td><td>74.96854142045403</td><td>117.52933098530607</td><td>77.78885772329932</td><td>23.012625163301795</td><td>82.97165368277463</td><td>58.9303682268935</td><td>10.151113773467499</td><td>18.933577332152705</td><td>1.0000000000004547</td><td>-75.95926065895057</td><td>-70.71891200241325</td><td>-73.20924845236536</td><td>0.3972593628411984</td><td>0.47563211045224696</td><td>11.28085491164826</td><td>0.09619618790263504</td><td>0.18071725958556167</td><td>0.24603096580207776</td><td>99999.32008644831</td><td>160767.43025184155</td><td>286034.10397961555</td><td>55189.27022055319</td><td>38127.854037630896</td><td>27197.41052303686</td><td>20170.660627438036</td><td>6155.87139895916</td><td>1581.7762748883315</td><td>11006.457945747818</td><td>1638.3274664150088</td><td>2053.137080572722</td><td>116.68124762136061</td><td>1543.0175268471664</td><td>1869.5914566696977</td><td>2818.7956271692365</td><td>3563.9250944514365</td><td>712.045006117347</td><td>494.9418925417439</td><td>367.6358574950763</td><td>295.0483677731766</td><td>170.37349647951882</td><td>181.58034231836103</td><td>316.0689968617783</td><td>172.45256491055048</td><td>56.692695650836825</td><td>160.5500353114198</td><td>115.05899428441961</td><td>0.3259150237372713</td><td>0.005313820911461403</td><td>8.399126455066485</td><td>0.004823529649551277</td><td>7.540346945523068</td><td>0.012701229599705268</td><td>13570.148737005877</td><td>10922.433425879879</td><td>876.8067721085431</td><td>543.3791999742849</td><td>0.0</td><td>0.0</td><td>0.0</td><td>-1.6118811352373574</td><td>7.87226324932004</td><td>342.1716463252785</td><td>6.0</td><td>7.0</td><td>0.31903368351059214</td><td>1.1012289331574043</td><td>5.110591903751431e+37</td><td>0.016923770864641696</td><td>11.808279551410747</td><td>79.62868544249689</td><td>0.25406917668474954</td><td>14.34331957623085</td><td>0.20642155878536878</td><td>81.98037353918133</td><td>1.3435786302048078</td><td>17.90992781156645</td><td>0.5103692481102654</td><td>1650.905491853213</td><td>163.3139980177623</td><td>240.1552936814325</td><td>40.155246682511184</td><td>1</td><td>1</td><td>231465.35700394423</td><td>4.1356079874376163e+37</td><td>66</td><td>344</td><td>4026.44</td><td>2454.17</td><td>139.47095719832924</td><td>-22.371771414351436</td><td>2.0</td><td>1</td><td>1.0</td><td>21.551316468755246</td><td>0.05934731548488211</td><td>21.658720916055355</td><td>0.048949110959713486</td><td>23.232812584509347</td><td>0.05165195092312647</td><td>22.735528373048737</td><td>0.027996120984435335</td><td>22.614285931653598</td><td>0.05167663210172023</td><td>0.0021239946206796723</td><td>0.00011621547302227502</td><td>0.002655532577250126</td><td>0.00011984113258048125</td><td>0.0020983356837686027</td><td>9.992431016659189e-05</td><td>0.0029451583544870302</td><td>7.601791877419655e-05</td><td>0.002175332394699423</td><td>0.00010364045048372961</td><td>1.576939844965819</td><td>1.0</td><td>2.0</td><td>7670.707029648983</td><td>2035.7363175598948</td><td>0.41000000000000003</td><td>0.019999999999999962</td><td>4.858400062154158</td><td>0.0</td><td>0.0</td><td>49.439999998918054</td><td>43.16999999958489</td></tr>\n",
       "<tr><td>44.0</td><td>44</td><td>1</td><td>0.7497009048093398</td><td>3.583726465199964</td><td>2955462.0</td><td>0.4603446209040747</td><td>0.37394439371074745</td><td>87.3466116537713</td><td>0.41490154273270435</td><td>130.10467488816843</td><td>121.54259467079608</td><td>1.0680522287096446</td><td>1.1832420639781147</td><td>1.9757991129202885</td><td>1.604969337806528</td><td>1.7903842253634084</td><td>0.8951921126817042</td><td>1.0840287409270883</td><td>0.8805717540370134</td><td>0.9823002474820508</td><td>0.4911501237410254</td><td>9</td><td>3</td><td>3</td><td>63.27587579100948</td><td>70.10020283505335</td><td>117.05459330221419</td><td>95.08508829209426</td><td>106.06984079715423</td><td>53.034920398577114</td><td>64.22239111626268</td><td>52.168749276272415</td><td>58.195570196267546</td><td>29.097785098133773</td><td>139.46929507713867</td><td>-22.36661670231358</td><td>24.5805006326052</td><td>127.0</td><td>118.0</td><td>139.46933202496888</td><td>-22.366655690980107</td><td>0</td><td>NGC2835</td><td>472.5706486773676</td><td>237.37754385180577</td><td>139.4692828702623</td><td>-22.366516172638782</td><td>473.0694183864916</td><td>238.4596622889306</td><td>0.0</td><td>1.0</td><td>0.0</td><td>42.81097373992628</td><td>4.788008316520077</td><td>533.0</td><td>2.605065598682386</td><td>1146074.3744243325</td><td>884461.0390204974</td><td>3959625.346963252</td><td>983715.7552080636</td><td>520184.8689063749</td><td>368733.4755595744</td><td>345058.9865870094</td><td>40767.27491646079</td><td>8027.289320987654</td><td>117619.86892329897</td><td>8836.19826080986</td><td>13712.285383188473</td><td>8774.848301192356</td><td>12458.654391973669</td><td>918.4118344718529</td><td>732.1914902686859</td><td>1730.5193742476772</td><td>603.8184210699457</td><td>487.609150347383</td><td>420.29919890599695</td><td>671.0757913568934</td><td>250.46278835024472</td><td>274.7565194154298</td><td>403.1011530704804</td><td>274.1045269928202</td><td>84.24446418764568</td><td>339.78421634940673</td><td>230.1788316820517</td><td>23.346694139988696</td><td>24.133193673496546</td><td>14.973872974775361</td><td>-61.120602482348076</td><td>-56.33339269079863</td><td>-54.104803517388746</td><td>0.03998019054143078</td><td>0.05817237358730466</td><td>0.1688798865290641</td><td>0.020352354725300722</td><td>0.029160033483943786</td><td>0.054743012885469226</td><td>2098375.7427342273</td><td>1582233.9739388132</td><td>6001770.683065133</td><td>1488893.4916605586</td><td>780164.6743609838</td><td>552491.4432497333</td><td>439598.040772842</td><td>62962.43960207458</td><td>13002.334004980548</td><td>188237.35137094688</td><td>13634.745720975177</td><td>21079.54352917506</td><td>12615.886642322788</td><td>17897.782237277268</td><td>6356.310699188492</td><td>4633.7175513098655</td><td>12338.326077253601</td><td>3117.3890313543257</td><td>1693.358814410766</td><td>1249.367760543478</td><td>997.6197360914854</td><td>408.7841171514014</td><td>446.07081357257323</td><td>773.9266350604394</td><td>423.9220596042437</td><td>136.70681874384837</td><td>489.01956556121735</td><td>332.14853005027067</td><td>0.17926588802044183</td><td>0.0008658398178916167</td><td>8.475964013730971</td><td>0.0007760040232101272</td><td>7.588560771132907</td><td>0.0020171746330605164</td><td>8264.05349588738</td><td>7505.984854999823</td><td>93.07342458348052</td><td>77.13539411969757</td><td>0.0</td><td>0.0</td><td>0.0</td><td>-1.1716487238099242</td><td>8.17423959189705</td><td>359.9612779505236</td><td>7.0</td><td>6.0</td><td>0.2225531731369569</td><td>0.7682009959812576</td><td>1.0723406836560744e+39</td><td>0.041513069477932873</td><td>11.808279551410747</td><td>155.60660106689602</td><td>0.11944982095406197</td><td>29.203925986299936</td><td>0.05183798162261821</td><td>156.96041263881617</td><td>0.6258268230824447</td><td>32.40202229704964</td><td>0.1694966293011531</td><td>893.2844175794097</td><td>5.6353022291210015</td><td>110.33522910446288</td><td>0.8025773951873288</td><td>1</td><td>1</td><td>4479718.0622446565</td><td>8.003944106146246e+38</td><td>142</td><td>813</td><td>4162.27</td><td>2918.36</td><td>139.46934071251846</td><td>-22.366662734638936</td><td>1.0</td><td>2</td><td>0.6</td><td>18.930911131753014</td><td>0.015432683507377712</td><td>19.32908811648354</td><td>0.01652276832932058</td><td>20.918405580654447</td><td>0.018694654335432704</td><td>20.7327447640537</td><td>0.013971537490919426</td><td>20.666459063051462</td><td>0.02231098723217476</td><td>0.023730973114293646</td><td>0.00033764977133928973</td><td>0.022698896959700805</td><td>0.0003457777386979739</td><td>0.017686331780036004</td><td>0.0003048348880229174</td><td>0.018630396351768205</td><td>0.0002399803916119633</td><td>0.013081464735081705</td><td>0.0002690819865659751</td><td>1.6479636201754313</td><td>1.0</td><td>0.0</td><td>32712.675394161724</td><td>5395.159365216019</td><td>0.25</td><td>0.03999999999999998</td><td>3.0735571660117427</td><td>0.0</td><td>0.0</td><td>126.26999999986094</td><td>117.36000000017793</td></tr>\n",
       "<tr><td>47.0</td><td>47</td><td>0</td><td>0.3567890844390447</td><td>1.3719566055999861</td><td>964148.375</td><td>0.33760689640964126</td><td>0.2426623024457106</td><td>106.27120072790582</td><td>0.2862245041996126</td><td>97.44361184123895</td><td>89.3613283242103</td><td>0.6608383697831349</td><td>0.71355364154797</td><td>1.4490087993901801</td><td>1.0415066020969899</td><td>1.245257700743585</td><td>0.6226288503717925</td><td>0.7950034870061105</td><td>0.5714260539725221</td><td>0.6832147704893163</td><td>0.34160738524465817</td><td>9</td><td>3</td><td>3</td><td>39.15082566219568</td><td>42.27389857831223</td><td>85.84533447494773</td><td>61.70320197676524</td><td>73.77426822585649</td><td>36.887134112928244</td><td>47.099327678004045</td><td>33.853666555796856</td><td>40.476497116900454</td><td>20.238248558450227</td><td>139.4644834369058</td><td>-22.359431939974332</td><td>16.957135324701014</td><td>97.0</td><td>84.0</td><td>139.46448871313106</td><td>-22.3594909445904</td><td>1</td><td>NGC2835</td><td>551.9051135003212</td><td>365.89426692824</td><td>139.46451714704352</td><td>-22.359376252266454</td><td>551.6223021582733</td><td>366.28057553956836</td><td>0.0</td><td>0.0</td><td>0.0</td><td>31.158632029262705</td><td>5.562497059071935</td><td>278.0</td><td>1.8813840475468462</td><td>413651.719893712</td><td>167634.41731059898</td><td>1364357.7440328149</td><td>402361.4044543105</td><td>166323.52583113677</td><td>117293.74022444992</td><td>102761.18793232749</td><td>11588.157165062503</td><td>3641.0881558752862</td><td>38600.25542246805</td><td>2327.155182323323</td><td>3897.737055964401</td><td>0.0</td><td>2494.0864729504106</td><td>524.2853195317095</td><td>337.5036332356525</td><td>674.1406208507512</td><td>332.663431637388</td><td>264.52362451793385</td><td>239.84923959294449</td><td>364.5116279666688</td><td>170.5332532118734</td><td>189.39763569939973</td><td>271.4992254188227</td><td>230.98551098132543</td><td>57.35974847856615</td><td>368.0678706091511</td><td>155.60187238721173</td><td>23.574334744253306</td><td>25.03134959933232</td><td>23.948035211759567</td><td>-26.642955366050213</td><td>-23.09521319082054</td><td>-20.141504200964345</td><td>0.05572592219612658</td><td>0.09296501096732543</td><td>0.3015480159947332</td><td>0.02741104211768073</td><td>0.045922506514176245</td><td>0.14093995622523028</td><td>652867.1865036954</td><td>259985.3061409708</td><td>1867297.8238473132</td><td>550079.3219735385</td><td>225824.3071506876</td><td>159139.60570829493</td><td>123360.52598183266</td><td>16085.88427601648</td><td>5239.226046936499</td><td>55040.45667535092</td><td>3228.218689306722</td><td>5391.630217125408</td><td>0.0</td><td>3278.0730541960097</td><td>2960.357586935406</td><td>1207.7759296417637</td><td>5665.922487182101</td><td>1702.9189387571691</td><td>750.3965937020208</td><td>566.0918936522884</td><td>487.55599224985866</td><td>242.01363218635979</td><td>273.1338736361717</td><td>429.6314233773621</td><td>320.58051064139977</td><td>81.0802601972935</td><td>--</td><td>204.69204420100013</td><td>0.13525962622416393</td><td>0.001290400502199206</td><td>8.536662594845671</td><td>0.0010901261658861048</td><td>7.567423921044971</td><td>0.00338957528905963</td><td>8502.613171165387</td><td>7115.46301103747</td><td>151.3364072456861</td><td>224.4087879933907</td><td>0.0</td><td>0.0</td><td>0.0</td><td>-1.3960321174095751</td><td>8.186502960614355</td><td>308.1798582945781</td><td>10.0</td><td>7.0</td><td>0.16197838598219125</td><td>0.5591111359368566</td><td>3.3363144491073808e+38</td><td>0.06940785198552035</td><td>11.808279551410747</td><td>95.15462563591004</td><td>0.08829540268880164</td><td>20.149163325269004</td><td>0.05971504547733099</td><td>96.64532199372859</td><td>0.47965935697506196</td><td>22.93408349852277</td><td>0.1689877616013666</td><td>1791.0086848640026</td><td>49.16461964764665</td><td>229.6186265896991</td><td>7.137854212025332</td><td>1</td><td>1</td><td>1319560.1889441996</td><td>2.3576675697561644e+38</td><td>258</td><td>1647</td><td>4571.56</td><td>3570.72</td><td>139.4644701490895</td><td>-22.359483019815553</td><td>2.0</td><td>2</td><td>0.8</td><td>20.312657350913778</td><td>0.028981228047508523</td><td>20.647866986972875</td><td>0.029279068781957983</td><td>22.2830120948529</td><td>0.029362501552877347</td><td>22.32290452213394</td><td>0.02893518910946336</td><td>22.47592240797983</td><td>0.07431492442401319</td><td>0.0066468680829364695</td><td>0.00017760014121605833</td><td>0.006737413543137256</td><td>0.00018186952309566003</td><td>0.005032631853027049</td><td>0.00013623781748812438</td><td>0.004306834577603014</td><td>0.00011489310834377598</td><td>0.0024709902786526766</td><td>0.00016929983706027334</td><td>1.4776827383556057</td><td>1.0</td><td>2.0</td><td>5891.073966786915</td><td>2734.269138510716</td><td>0.16</td><td>0.06</td><td>1.0581592628874001</td><td>0.0</td><td>0.0</td><td>98.55999999912774</td><td>84.71999999951873</td></tr>\n",
       "<tr><td>52.0</td><td>52</td><td>1</td><td>0.1201027597036149</td><td>0.4159822659999958</td><td>169229.484375</td><td>0.2142769858041231</td><td>0.12870028908867545</td><td>94.09365264668865</td><td>0.16606477657239854</td><td>65.0564406435257</td><td>67.67898913797583</td><td>0.36388359092563377</td><td>0.3890996580240032</td><td>0.9196768230712963</td><td>0.552381640768595</td><td>0.7360292319199456</td><td>0.3680146159599728</td><td>0.5045837413603612</td><td>0.3030660205472909</td><td>0.40382488095382607</td><td>0.20191244047691304</td><td>9</td><td>3</td><td>3</td><td>21.557984041299523</td><td>23.051889195714917</td><td>54.48549692633964</td><td>32.7253959600225</td><td>43.60544644318107</td><td>21.802723221590536</td><td>29.893648724514627</td><td>17.95489710816306</td><td>23.924272916338843</td><td>11.962136458169422</td><td>139.47290159172053</td><td>-22.364282027496838</td><td>9.838371095720504</td><td>63.0</td><td>69.0</td><td>139.47292606459933</td><td>-22.364267488792937</td><td>0</td><td>NGC2835</td><td>412.72022454350275</td><td>277.6404948713937</td><td>139.47287835011093</td><td>-22.364279327202937</td><td>412.86713286713285</td><td>277.5874125874126</td><td>0.0</td><td>0.0</td><td>0.0</td><td>36.18429593063937</td><td>4.466687680664005</td><td>143.0</td><td>1.3493452297211723</td><td>97045.8282249909</td><td>34144.7867498023</td><td>339611.339932708</td><td>95392.6883384248</td><td>48384.47671051555</td><td>32704.10854038883</td><td>28328.545051953406</td><td>4627.102010760949</td><td>1188.4458138512387</td><td>8076.912790004678</td><td>497.3869628250691</td><td>1556.3498761861215</td><td>0.0</td><td>505.2415389353585</td><td>263.4107147236163</td><td>190.07394261366525</td><td>407.7038934724168</td><td>203.7575140239517</td><td>170.06390242990688</td><td>152.3307800476426</td><td>232.3008404702523</td><td>113.19541821375763</td><td>122.80593486874021</td><td>158.37554787466087</td><td>136.0929737117924</td><td>38.07386885184441</td><td>183.93939035523306</td><td>109.3217045439435</td><td>15.178031866150285</td><td>21.21056925292289</td><td>16.15423968187401</td><td>-46.03145792500491</td><td>-41.84193535749409</td><td>-37.559366345771586</td><td>0.1985931770867886</td><td>0.2680702471254993</td><td>0.8986114345768099</td><td>0.06438546161884465</td><td>0.11308775422017865</td><td>0.33525041415823736</td><td>185120.363527213</td><td>63538.950422080576</td><td>529483.4331153946</td><td>148494.77974057195</td><td>74587.81501784909</td><td>50364.0217061631</td><td>36687.305020770626</td><td>7359.968636037507</td><td>1988.982284613766</td><td>13344.898260675429</td><td>790.3995629649019</td><td>2463.3083589751654</td><td>0.0</td><td>743.8624971608214</td><td>1828.7384322133896</td><td>679.6527164717165</td><td>3516.3027705192976</td><td>1017.2326911826226</td><td>542.3520066949518</td><td>396.63850867284805</td><td>331.6196791920576</td><td>186.92899102203043</td><td>206.07930227562193</td><td>279.6157332708381</td><td>216.33288960024856</td><td>62.5151915214857</td><td>--</td><td>161.0089713707065</td><td>0.19141862175486712</td><td>0.0028152875855340987</td><td>8.503152920085626</td><td>0.0025444846561385186</td><td>7.5036124366697985</td><td>0.00767384345489853</td><td>9610.886731621378</td><td>--</td><td>389.2119641532489</td><td>--</td><td>0.0</td><td>0.0</td><td>0.0</td><td>-1.6546845739214708</td><td>8.19564022775987</td><td>296.54509627820954</td><td>11.0</td><td>6.0</td><td>0.18810433806087812</td><td>0.6492917526627974</td><td>9.460318573210733e+37</td><td>0.050046480680816074</td><td>11.808279551410747</td><td>54.97718174990841</td><td>0.10387019178384534</td><td>10.774854581345418</td><td>0.08296377522681275</td><td>56.70373907909726</td><td>0.4813200613905499</td><td>13.962412006495065</td><td>0.16967446317839327</td><td>--</td><td>--</td><td>--</td><td>--</td><td>1</td><td>1</td><td>263843.39341842226</td><td>4.714108665666452e+37</td><td>181</td><td>1112</td><td>3862.69</td><td>3135.85</td><td>139.47290595246432</td><td>-22.36426913982856</td><td>-9999.0</td><td>1</td><td>0.6</td><td>20.249236001832923</td><td>0.02265387994769425</td><td>20.715706252895675</td><td>0.024657144496776452</td><td>22.342486956233863</td><td>0.02795094435032638</td><td>22.306688517712224</td><td>0.024822937822824322</td><td>22.15317463855144</td><td>0.039676110500288346</td><td>0.0070466970249801865</td><td>0.00014717622415670454</td><td>0.006329326491144167</td><td>0.00014388308532486328</td><td>0.004764367105637986</td><td>0.00012277534577051938</td><td>0.0043716420319697006</td><td>0.00010004772905973808</td><td>0.0033263668551667853</td><td>0.0001216770574655044</td><td>1.3274648927473744</td><td>1.0</td><td>0.0</td><td>7125.3320681013265</td><td>1199.644711770623</td><td>0.2</td><td>0.03999999999999998</td><td>3.104852115320571</td><td>0.0</td><td>0.0</td><td>64.69000000055428</td><td>68.84999999998308</td></tr>\n",
       "<tr><td>61.0</td><td>61</td><td>0</td><td>0.8830853300565726</td><td>2.758040910799972</td><td>1010966.0625</td><td>0.5457495226124202</td><td>0.3715449562719274</td><td>83.4948168358518</td><td>0.45030043583640567</td><td>103.3867346568274</td><td>97.20037096411198</td><td>0.9369694170072882</td><td>1.0110959005075388</td><td>2.342356951052507</td><td>1.5946709523191123</td><td>1.9685139516858097</td><td>0.9842569758429048</td><td>1.2851419154137984</td><td>0.8749215106592821</td><td>1.0800317130365402</td><td>0.5400158565182701</td><td>9</td><td>3</td><td>3</td><td>55.50998243049906</td><td>59.90154497463873</td><td>138.77101091963456</td><td>94.47496891456446</td><td>116.6229899170995</td><td>58.31149495854975</td><td>76.13717571825822</td><td>51.83400525482111</td><td>63.98559048653966</td><td>31.99279524326983</td><td>139.4905113301178</td><td>-22.369040566721747</td><td>26.677678938084824</td><td>109.0</td><td>104.0</td><td>139.49044451584834</td><td>-22.368965740913954</td><td>0</td><td>NGC2835</td><td>118.57566054446494</td><td>192.50763026472276</td><td>139.49054951027242</td><td>-22.369007703140827</td><td>118.42765273311898</td><td>191.83601286173632</td><td>0.0</td><td>1.0</td><td>0.0</td><td>103.2388224072436</td><td>3.7805323541810516</td><td>311.0</td><td>1.9899183360445618</td><td>406907.3996517537</td><td>432635.978469747</td><td>1328373.5093851313</td><td>186080.6029183852</td><td>154862.67853727742</td><td>108502.68780122478</td><td>102039.15146166345</td><td>15892.865452369253</td><td>2456.4453168383484</td><td>39007.35454631496</td><td>5166.660259283335</td><td>5345.648123061332</td><td>9756.562710622507</td><td>10317.079758634927</td><td>570.6738906033082</td><td>487.5446444703223</td><td>727.0969818258335</td><td>258.438214817355</td><td>258.01851086366815</td><td>223.79518364206538</td><td>423.99021523736235</td><td>148.06885312599297</td><td>170.34091724220454</td><td>300.15156662344737</td><td>215.76828691633074</td><td>49.80373043294159</td><td>325.6413892229934</td><td>141.21124248031649</td><td>21.950746492279038</td><td>25.036403599382773</td><td>14.736409620660966</td><td>-39.11118864121581</td><td>-34.28400312334321</td><td>-35.455703165933436</td><td>0.06315667520766781</td><td>0.12656887174842504</td><td>0.31321945935390094</td><td>0.029852862436758328</td><td>0.06266019744550243</td><td>0.08536536663244275</td><td>621417.9564955648</td><td>650062.6284375367</td><td>1777341.612397969</td><td>248719.51003293737</td><td>205674.0138982462</td><td>144006.54132415788</td><td>120889.36214792037</td><td>21545.406352474052</td><td>3443.0144599059627</td><td>54214.91297969171</td><td>6999.879565374708</td><td>7223.368168600851</td><td>12580.065252974025</td><td>13295.288339808061</td><td>3118.3321934381793</td><td>3099.71629131945</td><td>5968.477341513129</td><td>890.8705022202853</td><td>747.2933489348055</td><td>550.8251549447011</td><td>553.8053883274325</td><td>214.14670897057562</td><td>239.12019704992318</td><td>463.9799457795515</td><td>293.32552958440715</td><td>71.70264215269675</td><td>421.4539744469029</td><td>185.9752395543241</td><td>0.1254990151218429</td><td>0.0014280678094994272</td><td>8.334833162416968</td><td>0.0011441476369855872</td><td>7.622797410777082</td><td>0.0038631586533156674</td><td>9732.748834324399</td><td>9409.360968613668</td><td>265.0623556448452</td><td>166.2143931365949</td><td>0.0</td><td>0.0</td><td>0.0</td><td>-1.4661903925785436</td><td>7.284397016696078</td><td>464.87399815683693</td><td>5.0</td><td>7.0</td><td>0.5366878047958736</td><td>1.8525195590964212</td><td>3.175589039259773e+38</td><td>0.07049935231299465</td><td>11.808279551410747</td><td>271.29139830029357</td><td>0.4989140000001324</td><td>49.987759495015645</td><td>0.18857961076012172</td><td>272.6030236514321</td><td>3.129518355966098</td><td>52.613449570222585</td><td>0.7899907048481607</td><td>1365.8848284178712</td><td>22.865259215674875</td><td>186.81545178957882</td><td>3.6562661689094376</td><td>1</td><td>1</td><td>1352655.7394501802</td><td>2.416799625106826e+38</td><td>96</td><td>565</td><td>2377.39</td><td>2699.46</td><td>139.49058270197327</td><td>-22.36907071757604</td><td>2.0</td><td>1</td><td>0.7</td><td>19.631478050967363</td><td>0.015436980958820831</td><td>20.059853176546472</td><td>0.016487513113633803</td><td>21.54905459145534</td><td>0.016289705523905348</td><td>21.571471906021223</td><td>0.01408825896043801</td><td>20.891364045034255</td><td>0.01383397525646438</td><td>0.012447690447059977</td><td>0.00017715793563040678</td><td>0.011579737896214729</td><td>0.00017602053887323083</td><td>0.009894142555483217</td><td>0.0001485938583830352</td><td>0.00860461092486309</td><td>0.00011176299370983014</td><td>0.010633944319886207</td><td>0.00013562846276100394</td><td>1.4013370100598186</td><td>8.0</td><td>0.0</td><td>5022.869037304579</td><td>386.85527898212786</td><td>0.0</td><td>0.02</td><td>5.8006011689933485</td><td>0.0</td><td>0.0</td><td>97.38999999972793</td><td>94.45999999980086</td></tr>\n",
       "<tr><td>67.0</td><td>67</td><td>0</td><td>0.0699795547856338</td><td>0.27156578119999725</td><td>131259.3125</td><td>0.1289241987605267</td><td>0.12463465000973518</td><td>151.99243502197643</td><td>0.12676128111652935</td><td>55.11136730893593</td><td>53.81904153954951</td><td>0.2940103278886361</td><td>0.32082865088414003</td><td>0.5533426610801805</td><td>0.5349319178417834</td><td>0.5441372894609819</td><td>0.27206864473049097</td><td>0.3035932875308425</td><td>0.2934921721483412</td><td>0.29854272983959185</td><td>0.14927136491979592</td><td>9</td><td>3</td><td>3</td><td>17.418400045128166</td><td>19.007229532274906</td><td>32.78233081791985</td><td>31.69160147804439</td><td>32.236966147982116</td><td>16.118483073991058</td><td>17.986134606913676</td><td>17.387702334490072</td><td>17.686918470701873</td><td>8.843459235350936</td><td>139.46189292613923</td><td>-22.362486318286674</td><td>7.509867835516944</td><td>53.0</td><td>53.0</td><td>139.46191805192487</td><td>-22.362495333739712</td><td>0</td><td>NGC2835</td><td>595.9823586705224</td><td>310.59233620499106</td><td>139.4618691501128</td><td>-22.362448464416875</td><td>596.0769230769231</td><td>310.5769230769231</td><td>0.0</td><td>0.0</td><td>0.0</td><td>47.00640068790644</td><td>5.494059314472677</td><td>104.0</td><td>1.1507254783503187</td><td>71996.0732696989</td><td>49692.360959793725</td><td>275120.42527768697</td><td>79690.179507091</td><td>55904.084311573846</td><td>39729.57987112545</td><td>26167.059222181826</td><td>6901.261365852494</td><td>978.1053743981016</td><td>7446.828106158015</td><td>929.0767219513067</td><td>2321.275227408748</td><td>788.253745094225</td><td>1285.1731563430815</td><td>167.9126149546873</td><td>134.68256249062077</td><td>218.8657171327413</td><td>117.68560751318871</td><td>106.41089409389286</td><td>96.71911064956196</td><td>150.23517468220064</td><td>75.70137729318263</td><td>83.45002359326368</td><td>108.9549340046279</td><td>95.18460264859104</td><td>25.462552782143653</td><td>135.52532777899518</td><td>66.04135310669429</td><td>23.439185966465853</td><td>28.462333092242208</td><td>27.198951913325804</td><td>-36.92394405054977</td><td>-34.34338770089334</td><td>-30.58466997227917</td><td>0.10061431936774</td><td>0.1389732093939478</td><td>0.43742358800965603</td><td>0.04725966152945139</td><td>0.07400871359599617</td><td>0.21083815188689628</td><td>181998.4964479944</td><td>121225.80567165965</td><td>520571.0324756467</td><td>150450.6209911558</td><td>104076.43685456499</td><td>73855.9749048294</td><td>37931.759528722294</td><td>13439.214804798672</td><td>2049.01010996192</td><td>15314.917271529288</td><td>1806.7649181294742</td><td>4488.24992083636</td><td>1375.4277981447906</td><td>2239.734886444838</td><td>1496.743996890373</td><td>976.2895630798308</td><td>2853.277529157959</td><td>842.8561987505449</td><td>584.6317596385729</td><td>428.9119467474923</td><td>248.53948048592315</td><td>165.9319035572324</td><td>175.2917255820166</td><td>242.9545374118515</td><td>185.38626848451193</td><td>55.291399022294094</td><td>236.56843128734613</td><td>115.57875106935846</td><td>0.2748727410213383</td><td>0.0023374595787168436</td><td>8.45777778831399</td><td>0.002437819168032861</td><td>7.270050028755275</td><td>0.005629809976195649</td><td>9673.727137739366</td><td>8716.196081630229</td><td>322.06257085038976</td><td>346.03574843891704</td><td>0.0</td><td>0.0</td><td>0.0</td><td>-1.5237542540339717</td><td>8.121603432144218</td><td>363.15199456994543</td><td>8.0</td><td>6.0</td><td>0.24436313208835755</td><td>0.8434838236876314</td><td>9.30108007011346e+37</td><td>0.035137855451599975</td><td>11.808279551410747</td><td>54.98108764322783</td><td>0.07160333515457504</td><td>7.877716971237413</td><td>0.06011375954822795</td><td>56.78207327165238</td><td>0.3414937697422029</td><td>11.630085318467703</td><td>0.1103954023255957</td><td>646.5362559362474</td><td>13.717352109511637</td><td>70.92848052300006</td><td>2.2844678073953038</td><td>1</td><td>1</td><td>248363.2240725178</td><td>4.437523379546428e+37</td><td>214</td><td>1277</td><td>4785.89</td><td>3296.92</td><td>139.46191936092418</td><td>-22.362496214259362</td><td>5.0</td><td>2</td><td>0.5</td><td>21.85801830710021</td><td>0.08421714811239796</td><td>21.946519448042046</td><td>0.06331087899765307</td><td>23.227023024000427</td><td>0.0547414255656079</td><td>23.154446965686</td><td>0.05429973629330221</td><td>22.373676602966192</td><td>0.05270551396447962</td><td>0.001601299902331441</td><td>0.000124331928677115</td><td>0.0020371932136945166</td><td>0.00011891045115930371</td><td>0.0021095546972560663</td><td>0.00010646732837576677</td><td>0.002002355632338524</td><td>0.00010024169394625193</td><td>0.00271499702983425</td><td>0.00013192736078496714</td><td>1.48528738698794</td><td>8.0</td><td>20.0</td><td>1769.8190516363973</td><td>3041.080879901794</td><td>0.15</td><td>0.09</td><td>1.694556729979839</td><td>0.0</td><td>0.0</td><td>52.88999999904115</td><td>52.920000000550885</td></tr>\n",
       "<tr><td>74.0</td><td>74</td><td>0</td><td>0.20613530595497756</td><td>0.598072616399994</td><td>186899.65625</td><td>0.24610074585358432</td><td>0.19232755768500698</td><td>79.6107597582216</td><td>0.21755908483554182</td><td>70.1220089508382</td><td>68.57337844083649</td><td>0.43631688765841276</td><td>0.4715410870531102</td><td>1.0562644012035838</td><td>0.8254698775840499</td><td>0.9408671393938168</td><td>0.4704335696969084</td><td>0.5795229694330877</td><td>0.45289678804850064</td><td>0.5162098787407942</td><td>0.2581049393703971</td><td>9</td><td>3</td><td>3</td><td>25.84923512808757</td><td>27.936063848467075</td><td>62.57751564618727</td><td>48.904283928448</td><td>55.74089978731764</td><td>27.87044989365882</td><td>34.33336165234848</td><td>26.831497689327648</td><td>30.582429670838064</td><td>15.291214835419032</td><td>139.48381423199734</td><td>-22.36976348162211</td><td>12.889109033451454</td><td>72.0</td><td>72.0</td><td>139.4837918783527</td><td>-22.36972577147122</td><td>0</td><td>NGC2835</td><td>230.01424556303445</td><td>178.52513337418773</td><td>139.48385478314984</td><td>-22.36978519915574</td><td>229.94244604316546</td><td>178.23021582733813</td><td>1.0</td><td>0.0</td><td>0.0</td><td>80.79848731289076</td><td>4.007751858765945</td><td>139.0</td><td>1.3303394180365689</td><td>101468.90125026912</td><td>55934.430299649335</td><td>350702.43249131535</td><td>68141.54005062196</td><td>46762.83309082833</td><td>32701.33556307858</td><td>27266.872041170718</td><td>4560.159717259762</td><td>611.4697630301932</td><td>9620.620729400296</td><td>833.7578970548216</td><td>1533.833486886753</td><td>1381.2820595478304</td><td>1746.034503827952</td><td>271.8415981290859</td><td>205.73383361942865</td><td>388.1710160436685</td><td>169.12515138688627</td><td>152.09150954039706</td><td>133.91132153573068</td><td>256.31422447028694</td><td>96.99392982432539</td><td>107.61885562986284</td><td>184.34803274446017</td><td>151.86971056192203</td><td>32.62441379546517</td><td>245.17268192426684</td><td>90.52646175466823</td><td>18.69098884785527</td><td>22.95843771277305</td><td>18.512122216483537</td><td>-28.536295038298363</td><td>-24.520865060910673</td><td>-24.10963597740637</td><td>0.1542200329008616</td><td>0.26057678269277273</td><td>0.7963335947781149</td><td>0.06196708140338627</td><td>0.11917523866141565</td><td>0.28059512071156395</td><td>186007.28693095726</td><td>100179.2002221244</td><td>532017.7954517768</td><td>103220.69111534789</td><td>70191.1318272448</td><td>49037.747240397075</td><td>34754.29897476652</td><td>7049.013210622008</td><td>991.3962078794589</td><td>15411.240327729281</td><td>1287.6539927231336</td><td>2359.9561478494297</td><td>1987.3603066326355</td><td>2510.1303831126947</td><td>1796.0840523149939</td><td>966.6740357453058</td><td>3444.58260936195</td><td>704.4089804276796</td><td>492.4799804243382</td><td>364.45480387249785</td><td>351.2734831257444</td><td>157.1241054864218</td><td>174.64007141809117</td><td>315.5342680880822</td><td>234.7036764182346</td><td>52.553884426702766</td><td>352.9229983411566</td><td>130.88769925374947</td><td>0.1796252418928485</td><td>0.002749623434039184</td><td>--</td><td>--</td><td>7.4983269984069905</td><td>0.00827279848546834</td><td>--</td><td>--</td><td>--</td><td>--</td><td>0.0</td><td>0.0</td><td>0.0</td><td>-1.6402895535822752</td><td>7.596551638993242</td><td>379.5193660308748</td><td>6.0</td><td>7.0</td><td>0.42003155184904595</td><td>1.4498497232183853</td><td>9.505600207314096e+37</td><td>--</td><td>11.808279551410747</td><td>179.2355530907851</td><td>0.5891714596730847</td><td>34.09786354460528</td><td>0.251718987014713</td><td>180.31445163114526</td><td>3.6140211483955245</td><td>37.55556155226818</td><td>0.989620811844363</td><td>3058.081931241383</td><td>306.488437078451</td><td>214.9948063396788</td><td>13.539114804829556</td><td>1</td><td>0</td><td>283527.95383385953</td><td>5.065814105897379e+37</td><td>89</td><td>497</td><td>2945.96</td><td>2637.03</td><td>139.48381615963817</td><td>-22.36975845610015</td><td>2.0</td><td>2</td><td>0.8</td><td>20.76920914372928</td><td>0.032875285650447277</td><td>21.13458404766757</td><td>0.035906785579516654</td><td>22.66363569605973</td><td>0.0341123114251301</td><td>22.627787431901343</td><td>0.025772425599131833</td><td>22.57086073505848</td><td>0.04585822322382416</td><td>0.004365121560564212</td><td>0.00013230472073445573</td><td>0.0043033471401285</td><td>0.00014245981370121044</td><td>0.0035444244324443217</td><td>0.00011147213837851632</td><td>0.0032524080494614072</td><td>7.7280475333559e-05</td><td>0.002264100527925999</td><td>9.572434268091913e-05</td><td>1.340820594019849</td><td>1.0</td><td>2.0</td><td>5601.526418992885</td><td>2451.0290465227095</td><td>0.23</td><td>0.05000000000000002</td><td>0.5665656836010353</td><td>0.0</td><td>0.0</td><td>69.96000000069398</td><td>69.0299999997012</td></tr>\n",
       "<tr><td>78.0</td><td>78</td><td>0</td><td>0.5690407068198745</td><td>1.9370645895999805</td><td>1062522.5</td><td>0.4148031829398506</td><td>0.314994752734602</td><td>47.21396324007162</td><td>0.36147036675730987</td><td>92.2948640475084</td><td>86.6508089597843</td><td>0.7852304178050039</td><td>0.85294341831987</td><td>1.7803352611778387</td><td>1.3519574787369117</td><td>1.5661463699573752</td><td>0.7830731849786876</td><td>0.9767868499294</td><td>0.7417559578190082</td><td>0.8592714038742041</td><td>0.42963570193710204</td><td>9</td><td>3</td><td>3</td><td>46.52033023177122</td><td>50.531931251687276</td><td>105.47449817949722</td><td>80.09560880991276</td><td>92.78505349470498</td><td>46.39252674735249</td><td>57.86893349316412</td><td>43.94472160869992</td><td>50.90682755093202</td><td>25.45341377546601</td><td>139.4849903172835</td><td>-22.36903616803855</td><td>21.41501456038265</td><td>96.0</td><td>80.0</td><td>139.48494622930963</td><td>-22.369109367587473</td><td>0</td><td>NGC2835</td><td>211.3158391479445</td><td>193.4177500844079</td><td>139.4849780313281</td><td>-22.368957734965978</td><td>211.78021978021977</td><td>194.34432234432234</td><td>0.0</td><td>0.0</td><td>0.0</td><td>82.64753483461041</td><td>3.939837522063677</td><td>273.0</td><td>1.8643883600599407</td><td>412568.4819600682</td><td>346889.6177186072</td><td>1399387.7958058217</td><td>298694.7574063962</td><td>280857.3444088601</td><td>202282.4736160166</td><td>115641.27194490112</td><td>35447.31444020124</td><td>3402.592591858155</td><td>43641.4429689365</td><td>5840.810561366284</td><td>11922.888951191508</td><td>13405.307556399584</td><td>12971.065117804528</td><td>476.3402240879426</td><td>393.96636623989343</td><td>738.880289067359</td><td>301.5019107920298</td><td>316.8488375166725</td><td>277.10239228933654</td><td>388.6502418056082</td><td>153.86706382497175</td><td>155.1407894799863</td><td>265.9641920565117</td><td>203.7074233862851</td><td>51.75398881982606</td><td>344.3445182222782</td><td>145.4257713156843</td><td>29.318446024667193</td><td>31.962367427101448</td><td>25.42353733319079</td><td>-24.74226547168928</td><td>-22.21714659259385</td><td>-16.62389194598836</td><td>0.05052453786904242</td><td>0.07160263616389177</td><td>0.20111826619249598</td><td>0.029837386983923013</td><td>0.04421558087325728</td><td>0.08973008458733125</td><td>712140.9958675926</td><td>586360.9735149189</td><td>2036850.6868678243</td><td>434189.12532932847</td><td>404909.69029158185</td><td>291377.2010420684</td><td>143888.43081658267</td><td>52475.335417882634</td><td>5258.339262631568</td><td>66714.45270096567</td><td>8639.618673818666</td><td>17576.46795705888</td><td>18603.18214496111</td><td>17987.47218742957</td><td>3008.0554092344887</td><td>2385.854359269723</td><td>5791.67251122001</td><td>1285.8746650163214</td><td>1193.4081705566905</td><td>886.4630477558162</td><td>537.2513964890252</td><td>274.5225339970312</td><td>240.35786192134813</td><td>457.9552107154253</td><td>302.37013610481</td><td>91.64537954609597</td><td>480.01256899945975</td><td>206.36374443084324</td><td>0.1617941895252173</td><td>0.001204282987964078</td><td>8.36172797196236</td><td>0.0011750311749190924</td><td>7.247352782078779</td><td>0.0031381763785441673</td><td>9254.379133553399</td><td>9549.076575542356</td><td>151.46446977424708</td><td>130.20415930366318</td><td>0.0</td><td>0.0</td><td>0.0</td><td>-1.3504043657859128</td><td>7.380197514562663</td><td>211.87229530368506</td><td>10.0</td><td>7.0</td><td>0.4296438394774386</td><td>1.4830290700940436</td><td>3.6392557686754324e+38</td><td>0.03942534603009307</td><td>11.808279551410747</td><td>291.33375744024636</td><td>0.49952780431180693</td><td>54.46180754476929</td><td>0.17779037190003041</td><td>293.6651445476126</td><td>3.1662574068927873</td><td>57.07439919967103</td><td>0.7656565261533285</td><td>1568.3118040610445</td><td>26.849246529453865</td><td>204.64162582702497</td><td>3.9438634267041937</td><td>1</td><td>1</td><td>1546533.1986058145</td><td>2.7632018595692766e+38</td><td>95</td><td>563</td><td>2850.26</td><td>2699.0</td><td>139.48495503287913</td><td>-22.369076350184162</td><td>-9999.0</td><td>2</td><td>0.7</td><td>19.88681288900852</td><td>0.021937100183164696</td><td>20.348408754320868</td><td>0.02295221517354342</td><td>21.86432430156675</td><td>0.02334023625599177</td><td>21.924357323566188</td><td>0.02068455428185457</td><td>21.795386927133265</td><td>0.0338134715947945</td><td>0.009839087988998048</td><td>0.0001989956238473952</td><td>0.008877210093297427</td><td>0.0001878497268211557</td><td>0.007400657051914697</td><td>0.00015925203475637104</td><td>0.006216945648471227</td><td>0.00011855850121391611</td><td>0.004624717713596857</td><td>0.00014417317200646383</td><td>1.5765003644940228</td><td>1.0</td><td>0.0</td><td>10281.09626200596</td><td>1719.6452845518706</td><td>0.2</td><td>0.03999999999999998</td><td>1.2843326280195408</td><td>0.0</td><td>0.0</td><td>95.25999999905207</td><td>83.00000000010459</td></tr>\n",
       "<tr><td>90.0</td><td>90</td><td>2</td><td>0.22512085582720912</td><td>0.9073122631999908</td><td>515672.875</td><td>0.23648784826897495</td><td>0.21857926722982735</td><td>48.05278688292013</td><td>0.2273572971852699</td><td>87.10611248010972</td><td>85.46451354441975</td><td>0.5374071670831593</td><td>0.5529874128012339</td><td>1.0150058447704404</td><td>0.9381422149504189</td><td>0.9765740298604297</td><td>0.48828701493021487</td><td>0.5568863255100199</td><td>0.5147148399009739</td><td>0.5358005827054969</td><td>0.26790029135274845</td><td>9</td><td>3</td><td>3</td><td>31.838245583397097</td><td>32.76128442583399</td><td>60.13318640647024</td><td>55.579463879985056</td><td>57.85632514322765</td><td>28.928162571613825</td><td>32.99227230231564</td><td>30.49385732447866</td><td>31.74306481339715</td><td>15.871532406698575</td><td>139.48507545180024</td><td>-22.36480107252103</td><td>13.46959606484351</td><td>87.0</td><td>83.0</td><td>139.4850767173026</td><td>-22.36482819575314</td><td>0</td><td>NGC2835</td><td>208.78828070054269</td><td>267.565495168387</td><td>139.48512944190108</td><td>-22.364838402460112</td><td>208.2688679245283</td><td>266.7122641509434</td><td>0.0</td><td>1.0</td><td>0.0</td><td>74.81020414729251</td><td>3.7660659318847842</td><td>212.0</td><td>1.6429448666460313</td><td>216391.3322468066</td><td>350231.2091346719</td><td>742680.0931407331</td><td>127004.87964450507</td><td>81241.86462561044</td><td>57365.9244692181</td><td>72826.2728148293</td><td>10348.010009618585</td><td>1108.8844826802451</td><td>27528.063669784493</td><td>2891.5847273006543</td><td>3480.6070970097485</td><td>5791.946531590158</td><td>5278.660158368633</td><td>382.6542169413594</td><td>388.0113626166866</td><td>488.1637668229364</td><td>196.61895884903578</td><td>181.85673044789579</td><td>161.7751483930844</td><td>301.27876922919955</td><td>111.08865795173593</td><td>125.90550084078195</td><td>209.08338347107357</td><td>168.55591050262188</td><td>37.36524905800241</td><td>335.02612178958907</td><td>112.93806863348749</td><td>18.677102335241436</td><td>20.286968937981865</td><td>1.0000000000004547</td><td>-7.734912884654419</td><td>-3.8604038406551093</td><td>-3.2218508243128925</td><td>0.08710896269829588</td><td>0.17814895899324806</td><td>3.370709946389959</td><td>0.035351038371171394</td><td>0.07544577334060232</td><td>0.08088089328375</td><td>387878.1263334925</td><td>613882.6917189884</td><td>1109405.6503230815</td><td>189452.2847049853</td><td>120124.88920917688</td><td>84743.44530559515</td><td>91994.35379973975</td><td>15739.983226843095</td><td>1765.9999275827302</td><td>43334.733892772376</td><td>4394.492169056749</td><td>5270.535386032089</td><td>8221.877968434483</td><td>7487.423312111358</td><td>2440.2517633586167</td><td>3628.5042256876204</td><td>4663.385143470916</td><td>836.8936666320944</td><td>555.464039943351</td><td>417.28453617648114</td><td>440.78017995983487</td><td>182.25301662292745</td><td>200.69619574505222</td><td>386.92905871257966</td><td>256.86898106265505</td><td>60.93623273277264</td><td>476.51436754098614</td><td>162.46721050281917</td><td>0.17297686722278302</td><td>0.0017895289283803204</td><td>8.394797146732072</td><td>0.0014846870370642368</td><td>7.813594562599924</td><td>0.004282866160486071</td><td>8443.710898109968</td><td>8722.6220306331</td><td>334.2388604781698</td><td>193.32280395659623</td><td>0.0</td><td>0.0</td><td>0.0</td><td>-1.504446400044442</td><td>7.331151787024929</td><td>266.8023978006992</td><td>7.0</td><td>7.0</td><td>0.388901416191711</td><td>1.3423958465563803</td><td>1.9821830528716564e+38</td><td>0.05043078255148181</td><td>11.808279551410747</td><td>229.0436631018513</td><td>0.4972380711319729</td><td>48.32586355115837</td><td>0.24296781945191756</td><td>230.82397101675818</td><td>3.122851596672852</td><td>51.35210051807534</td><td>1.0387927857279065</td><td>3301.607330567071</td><td>192.59087520127892</td><td>499.72992739062573</td><td>38.932503049753606</td><td>1</td><td>1</td><td>770305.285582686</td><td>1.3763099295100498e+38</td><td>167</td><td>1039</td><td>2837.47</td><td>3081.89</td><td>139.48510682954785</td><td>-22.364862420474477</td><td>-9999.0</td><td>2</td><td>0.8</td><td>21.033025444258506</td><td>0.04417192319110655</td><td>21.384776086174995</td><td>0.04719396732363731</td><td>22.862366328585075</td><td>0.04265986723614608</td><td>22.59103344219547</td><td>0.034634185010461484</td><td>22.46471345792608</td><td>0.06129922394929989</td><td>0.0034234959804584782</td><td>0.00013942016535113647</td><td>0.003417665587571834</td><td>0.00014870498102006357</td><td>0.0029515725898815867</td><td>0.00011608669071952483</td><td>0.0033643922440373237</td><td>0.00010742888260085467</td><td>0.0024966324837468233</td><td>0.00014109741460853695</td><td>1.466968924489322</td><td>1.0</td><td>0.0</td><td>7378.148043591268</td><td>1351.756316204087</td><td>0.33</td><td>0.04999999999999999</td><td>2.0694003512252555</td><td>0.0</td><td>0.0</td><td>84.4699999985321</td><td>79.88999999898613</td></tr>\n",
       "<tr><td>104.0</td><td>104</td><td>1</td><td>0.9338162859602614</td><td>3.880408156799961</td><td>2245940.0</td><td>0.47940339469881293</td><td>0.4472624137354112</td><td>-176.7634684523161</td><td>0.4630541215300228</td><td>99.13440203453158</td><td>94.1940245589739</td><td>1.1113830477102162</td><td>1.2161450889811</td><td>2.057599370047305</td><td>1.919650279752385</td><td>1.988624824899845</td><td>0.9943124124499225</td><td>1.1289087234926487</td><td>1.0532224972530722</td><td>1.0910656103728604</td><td>0.5455328051864302</td><td>9</td><td>3</td><td>3</td><td>65.84297452204753</td><td>72.04951548781818</td><td>121.90078225300645</td><td>113.72810186496046</td><td>117.81444205898346</td><td>58.90722102949173</td><td>66.88126876848384</td><td>62.39730054867908</td><td>64.63928465858146</td><td>32.31964232929073</td><td>139.45942942039338</td><td>-22.36039097528294</td><td>27.43326055678699</td><td>95.0</td><td>99.0</td><td>139.45947862571018</td><td>-22.360338086427046</td><td>0</td><td>NGC2835</td><td>636.7398981036456</td><td>348.5752780039638</td><td>139.45942087524804</td><td>-22.360338154291977</td><td>636.9902912621359</td><td>350.294498381877</td><td>0.0</td><td>1.0</td><td>0.0</td><td>52.82762829325302</td><td>5.762101622523207</td><td>309.0</td><td>1.9835095646937662</td><td>672743.9374250595</td><td>919460.9856160283</td><td>2822042.890700725</td><td>540399.8936672375</td><td>342440.1047263968</td><td>247292.69513290434</td><td>350045.22517852415</td><td>31391.40612733891</td><td>5040.3804698946615</td><td>90807.93784400779</td><td>6390.91455010473</td><td>10558.663052158987</td><td>17808.325024273494</td><td>14342.323047209484</td><td>655.9163837079263</td><td>637.4810481998284</td><td>1128.5372665988998</td><td>419.80593276294377</td><td>367.7083732322307</td><td>323.46179846966953</td><td>616.3606939999056</td><td>195.39525512737296</td><td>220.29971360181952</td><td>319.01414715649526</td><td>235.18796930250454</td><td>65.72221239506051</td><td>407.62266081885844</td><td>192.03861640911373</td><td>24.989055569224497</td><td>26.318872876195538</td><td>19.629512549850034</td><td>-21.53427877149784</td><td>-18.158563342018564</td><td>-17.443903468828893</td><td>0.03873203921439323</td><td>0.06959220769257678</td><td>0.12752083588655114</td><td>0.020786023077990906</td><td>0.03675532143187384</td><td>0.04853547323986302</td><td>2292042.8809796833</td><td>2988680.7441400457</td><td>6556163.755861102</td><td>1251762.5124907733</td><td>778671.4856847848</td><td>561227.131974576</td><td>571826.5370792834</td><td>75753.74697528486</td><td>13396.009340336888</td><td>235527.38724750912</td><td>15394.635759505321</td><td>25241.271571621328</td><td>37170.69216026044</td><td>29887.359230323127</td><td>8046.633028016101</td><td>9911.828321673862</td><td>15429.137895550704</td><td>3051.9465575468794</td><td>1948.4259248001974</td><td>1462.9638012867306</td><td>1268.8338399124552</td><td>506.0136481868428</td><td>586.6061386884468</td><td>1032.4960722309806</td><td>567.7505256610526</td><td>168.36830772231133</td><td>854.137974705213</td><td>404.70961411008676</td><td>0.3633309609735</td><td>0.00099961515932511</td><td>8.412341617739344</td><td>0.0008336498286562188</td><td>7.776476694161539</td><td>0.0020931535121634795</td><td>8849.36382177911</td><td>7177.787049073121</td><td>147.6233174013264</td><td>82.38395943476853</td><td>0.0</td><td>0.0</td><td>0.0</td><td>-0.8965095994210661</td><td>8.247175470536748</td><td>327.9458734092975</td><td>11.0</td><td>6.0</td><td>0.27462482814303274</td><td>0.9479400519301178</td><td>1.1713944926217657e+39</td><td>0.0060896678896043</td><td>11.808279551410747</td><td>182.64088618712708</td><td>0.1575520444622645</td><td>29.859880574900053</td><td>0.06690155019120325</td><td>183.73888772330105</td><td>0.9234564047533155</td><td>32.427903797372245</td><td>0.22497071813402858</td><td>1025.3429554112522</td><td>8.183493111080557</td><td>129.60962282195396</td><td>1.4599277892516953</td><td>1</td><td>1</td><td>5217762.803804328</td><td>9.322613892324442e+38</td><td>247</td><td>1558</td><td>4989.5</td><td>3492.77</td><td>139.45949647601648</td><td>-22.36034061899709</td><td>2.0</td><td>2</td><td>0.8</td><td>22.181223940784832</td><td>0.12068077488052135</td><td>21.957487696578006</td><td>0.07323074775442291</td><td>23.139218026534973</td><td>0.062190340817026894</td><td>22.158737287202094</td><td>0.030268350300973194</td><td>21.41888559997766</td><td>0.03771948579143905</td><td>0.0011890234603985415</td><td>0.00013229333860712892</td><td>0.002016716824261823</td><td>0.00013615947021425342</td><td>0.0022872455398321658</td><td>0.00013114302259325606</td><td>0.005009854179067723</td><td>0.00013980519174083</td><td>0.006541626740142873</td><td>0.00022748930635087283</td><td>1.6131921037951664</td><td>1.0</td><td>1.0</td><td>51174.98383549161</td><td>1267.4929787200308</td><td>0.87</td><td>0.06000000000000005</td><td>6.930370517698645</td><td>0.0</td><td>0.0</td><td>93.49999999978274</td><td>98.7699999996604</td></tr>\n",
       "<tr><td>124.0</td><td>124</td><td>1</td><td>0.39229810738240417</td><td>1.1223672459999887</td><td>490199.1875</td><td>0.3985270118020475</td><td>0.22602710078740362</td><td>173.41172398894034</td><td>0.3001298136858186</td><td>74.98547142685584</td><td>79.66532959789157</td><td>0.5977127992026531</td><td>0.6951087763643068</td><td>1.710477934654388</td><td>0.9701083165795363</td><td>1.3402931256169621</td><td>0.6701465628084811</td><td>0.9384593958777472</td><td>0.5322531476544087</td><td>0.735356271766078</td><td>0.367678135883039</td><td>9</td><td>3</td><td>3</td><td>35.4110031554697</td><td>41.18114771185561</td><td>101.33585832896277</td><td>57.473269278107296</td><td>79.40456380353503</td><td>39.70228190176751</td><td>55.5982550031356</td><td>31.5328999416469</td><td>43.565577472391254</td><td>21.782788736195627</td><td>139.46114476846665</td><td>-22.36142042627493</td><td>17.780943947756572</td><td>72.0</td><td>79.0</td><td>139.46118029635798</td><td>-22.36142775080342</td><td>0</td><td>NGC2835</td><td>608.5718075281894</td><td>328.6400528169754</td><td>139.4611129268324</td><td>-22.36144577212093</td><td>608.5935828877006</td><td>328.2139037433155</td><td>0.0</td><td>1.0</td><td>0.0</td><td>47.84835738584505</td><td>5.604217881321739</td><td>187.0</td><td>1.543035303761633</td><td>226179.07594094344</td><td>88088.6335682621</td><td>821078.9309479333</td><td>217611.22314725572</td><td>173564.155392417</td><td>124106.19256254513</td><td>54414.69588538022</td><td>20609.018738100538</td><td>2699.596945730049</td><td>15363.411496399312</td><td>578.3175761224359</td><td>6931.95085968839</td><td>2293.252263987191</td><td>3499.8625722324346</td><td>384.9870499970572</td><td>243.8840570684381</td><td>521.3603866818391</td><td>261.10648045846233</td><td>249.46365848406924</td><td>219.10791378499027</td><td>308.3771855533316</td><td>146.81159135402504</td><td>166.1993962463325</td><td>198.18770253812673</td><td>175.18913690519526</td><td>49.380843883523525</td><td>310.84119157912494</td><td>148.25691742795954</td><td>23.922837249379317</td><td>30.558467813554778</td><td>26.032683239406325</td><td>-29.681132042460995</td><td>-26.38904835456531</td><td>-23.639063477983022</td><td>0.07255469030018272</td><td>0.09779735640760981</td><td>0.4552601315106343</td><td>0.03589252510509029</td><td>0.05627977515115956</td><td>0.21364807223085264</td><td>485179.49953999004</td><td>183506.90756911255</td><td>1387734.759185701</td><td>367118.4802616712</td><td>289455.10845866054</td><td>206723.68439677756</td><td>73860.98735029652</td><td>35666.1365209201</td><td>4961.304533657961</td><td>27809.20534565749</td><td>999.7126847457786</td><td>11926.3398832078</td><td>3625.914840381345</td><td>5528.088832306172</td><td>2939.3010420928995</td><td>1144.8999162884747</td><td>5617.826666842022</td><td>1527.5345925767392</td><td>1202.1039822891366</td><td>882.5633972409927</td><td>452.51632609442726</td><td>294.5540497575921</td><td>306.3051913551974</td><td>380.1266096783888</td><td>302.87060385116706</td><td>98.2269192576076</td><td>491.6411845369666</td><td>234.96413746618344</td><td>0.2262061851133247</td><td>0.0017232807167844402</td><td>8.413751503630639</td><td>0.0017389297368570955</td><td>7.008018727596817</td><td>0.004978977561389602</td><td>9644.350645999712</td><td>--</td><td>229.19489018849006</td><td>--</td><td>0.0</td><td>0.0</td><td>0.0</td><td>-1.3527360527239263</td><td>8.097603155124279</td><td>379.9736937259007</td><td>7.0</td><td>6.0</td><td>0.24874005039693123</td><td>0.8585919120450405</td><td>2.4794756730667026e+38</td><td>-0.0065181436152705885</td><td>11.808279551410747</td><td>85.64751541874058</td><td>0.09789957691495091</td><td>14.244051392841211</td><td>0.0633728442450538</td><td>87.56922371470807</td><td>0.5282218887143989</td><td>17.806715451160418</td><td>0.1556965970224563</td><td>555.9060401064628</td><td>5.958344618421631</td><td>64.5142331928632</td><td>0.934416893425382</td><td>1</td><td>1</td><td>828503.1143509833</td><td>1.4802924038729825e+38</td><td>229</td><td>1398</td><td>4862.05</td><td>3393.21</td><td>139.4610130945339</td><td>-22.36143643473869</td><td>2.0</td><td>2</td><td>0.7</td><td>20.313612632222213</td><td>0.037970274006199844</td><td>20.89372627172613</td><td>0.042979423402618046</td><td>22.38149902021267</td><td>0.0440957515595907</td><td>22.577240767983426</td><td>0.04959198487483854</td><td>23.044791654721685</td><td>0.11435852366779398</td><td>0.006641022430667712</td><td>0.0002324813619160548</td><td>0.005372166833733321</td><td>0.0002128724894219713</td><td>0.0045962155943634776</td><td>0.00018685580900105247</td><td>0.0034074045014648585</td><td>0.00015579181844567114</td><td>0.0014632661904678858</td><td>0.000154277055382228</td><td>1.5152181457277085</td><td>3.0</td><td>0.0</td><td>2072.4289497089117</td><td>484.6790994781645</td><td>0.04</td><td>0.049999999999999996</td><td>0.9423311505072276</td><td>0.0</td><td>0.0</td><td>86.05000000067776</td><td>78.21000000023162</td></tr>\n",
       "<tr><td>125.0</td><td>125</td><td>1</td><td>0.13448409639306724</td><td>0.24174063759999756</td><td>66529.09375</td><td>0.26975940822825223</td><td>0.11447124160379891</td><td>-176.10993058235763</td><td>0.1757261915429629</td><td>52.13791287534218</td><td>44.16372358388945</td><td>0.27739580898141236</td><td>0.3345519333848885</td><td>1.1578073801156585</td><td>0.49131056896350495</td><td>0.8245589745395817</td><td>0.41227948726979086</td><td>0.6352348618315752</td><td>0.2695591743082064</td><td>0.4523970180698908</td><td>0.2261985090349454</td><td>9</td><td>3</td><td>3</td><td>16.43408653831494</td><td>19.820254116298653</td><td>68.59334591026725</td><td>29.107290543369484</td><td>48.85031822681836</td><td>24.42515911340918</td><td>37.633966893112536</td><td>15.96981156292317</td><td>26.801889228017853</td><td>13.400944614008926</td><td>139.45551380686237</td><td>-22.36353856556029</td><td>10.41075367890317</td><td>50.0</td><td>42.0</td><td>139.45553924666072</td><td>-22.363562381000044</td><td>0</td><td>NGC2835</td><td>701.7213121180803</td><td>292.42564706749636</td><td>139.45551695095486</td><td>-22.363457267985623</td><td>701.6265060240963</td><td>292.48192771084337</td><td>0.0</td><td>0.0</td><td>1.0</td><td>73.09841484062947</td><td>5.701629418371214</td><td>83.0</td><td>1.0280023453913836</td><td>62644.03416380628</td><td>24483.7099571525</td><td>203794.78126424697</td><td>39418.99926704445</td><td>52049.50408958961</td><td>36130.756166063264</td><td>6991.4963739524355</td><td>6864.258634128383</td><td>645.2999946568336</td><td>2130.483839515059</td><td>0.0</td><td>2308.829165747814</td><td>490.59720870066025</td><td>775.986041273452</td><td>235.27107661751384</td><td>172.4769437442207</td><td>294.7864406557925</td><td>146.15299249754935</td><td>169.71750338676745</td><td>151.64113685932153</td><td>142.58634971688727</td><td>105.13275867705293</td><td>119.1242076644302</td><td>132.26990726980287</td><td>127.39958552616653</td><td>35.36195129686111</td><td>214.94806676398832</td><td>98.00167251804571</td><td>27.07857197164391</td><td>28.373572737484615</td><td>18.177461914167303</td><td>-24.30634943650822</td><td>-20.328122279544512</td><td>-22.356983907224365</td><td>0.16617801109485156</td><td>0.2786252388863457</td><td>1.9533877162494795</td><td>0.08823529655575123</td><td>0.14884524743868074</td><td>0.6046585526818655</td><td>94608.74769940134</td><td>36396.42567860195</td><td>270593.8053101885</td><td>52287.76235706489</td><td>68613.24876031025</td><td>47597.61110378318</td><td>8246.22148974802</td><td>9231.456801950271</td><td>896.4719260522672</td><td>2935.55383690705</td><td>0.0</td><td>3095.226755222406</td><td>628.3588674189698</td><td>993.3400582862022</td><td>1269.3260228585673</td><td>518.6186837998255</td><td>2428.418625892714</td><td>500.5638274225117</td><td>633.0952245039646</td><td>455.9670447953302</td><td>173.46826702055716</td><td>165.2045307654027</td><td>165.7471908161652</td><td>184.60793434496864</td><td>--</td><td>55.23379471162767</td><td>275.3492086036951</td><td>125.68582236909401</td><td>0.12219813528252599</td><td>0.0038176254125302173</td><td>--</td><td>--</td><td>6.467447429654666</td><td>0.016110953840382344</td><td>--</td><td>--</td><td>--</td><td>--</td><td>0.0</td><td>0.0</td><td>0.0</td><td>-1.7099611548544469</td><td>8.137597785626571</td><td>248.23800265399763</td><td>13.0</td><td>7.0</td><td>0.38000266643997443</td><td>1.3116794639233402</td><td>4.834718977154184e+37</td><td>--</td><td>11.808279551410747</td><td>45.51600487122394</td><td>0.10451352521680568</td><td>6.83069862234278</td><td>0.0819959989686119</td><td>0.0</td><td>0.0</td><td>0.0</td><td>0.0</td><td>76.54521956431253</td><td>0.35632175655827514</td><td>11.21157629407401</td><td>0.15259026630394687</td><td>0</td><td>0</td><td>88335.72935466061</td><td>1.5783007557758924e+37</td><td>197</td><td>1201</td><td>5325.93</td><td>3208.32</td><td>139.45549248759164</td><td>-22.363470810256256</td><td>-9999.0</td><td>2</td><td>0.8</td><td>19.82360862307273</td><td>0.016562297849718813</td><td>20.162719336923292</td><td>0.016060229589549935</td><td>21.655800562560763</td><td>0.016298079673119015</td><td>21.698985411010188</td><td>0.013967012852177432</td><td>21.576911458894582</td><td>0.020611625455825233</td><td>0.010428853116992697</td><td>0.00015924529297678636</td><td>0.010533004390924847</td><td>0.00015596009014778606</td><td>0.00896767323432865</td><td>0.00013474903830956256</td><td>0.00765113448347584</td><td>9.852327307009874e-05</td><td>0.005655557424852492</td><td>0.00010747244306506591</td><td>1.2577844477274853</td><td>1.0</td><td>0.0</td><td>14241.848980917246</td><td>1603.843467273413</td><td>0.24</td><td>0.03</td><td>0.7584385833704954</td><td>0.0</td><td>0.0</td><td>53.92999999855806</td><td>50.320000000247546</td></tr>\n",
       "<tr><td>144.0</td><td>144</td><td>3</td><td>1.9295032072315892</td><td>8.675977298799912</td><td>7513114.0</td><td>0.7947789540810517</td><td>0.557443955640612</td><td>54.148286695633644</td><td>0.6656160485015741</td><td>157.96402233201252</td><td>149.00862051436238</td><td>1.6618210934135336</td><td>1.7844792161791454</td><td>3.411191270915874</td><td>2.3925494576095065</td><td>2.90187036426269</td><td>1.450935182131345</td><td>1.871561412438793</td><td>1.3126802007238565</td><td>1.5921208065813248</td><td>0.7960604032906624</td><td>9</td><td>3</td><td>3</td><td>98.4532237910818</td><td>105.72000338504601</td><td>202.09322105775735</td><td>141.74462468604852</td><td>171.91892287190294</td><td>85.95946143595147</td><td>110.8791164752278</td><td>77.76865878054423</td><td>94.32388762788602</td><td>47.16194381394301</td><td>139.47114138447301</td><td>-22.370221407472066</td><td>39.433875308112846</td><td>170.0</td><td>154.0</td><td>139.47099814210625</td><td>-22.370166474388764</td><td>0</td><td>NGC2835</td><td>441.2323625555047</td><td>171.9107396035518</td><td>139.4711655404266</td><td>-22.37015321920661</td><td>440.5313751668892</td><td>173.31909212283045</td><td>0.0</td><td>1.0</td><td>0.0</td><td>55.745174610691855</td><td>4.653571857313323</td><td>749.0</td><td>3.088132799940179</td><td>2298187.2676223936</td><td>1413456.5577064783</td><td>8211519.765303893</td><td>2012535.93272464</td><td>1046541.9812697144</td><td>737527.424382949</td><td>782592.3651986661</td><td>72727.36557407712</td><td>17090.79599608764</td><td>246026.05911013868</td><td>24595.930341644675</td><td>24462.228440894756</td><td>42574.30598580558</td><td>39220.56257843334</td><td>1267.5072466370125</td><td>868.9911732383468</td><td>2752.9272899052876</td><td>815.285393498955</td><td>643.9142031977881</td><td>541.3517783500428</td><td>951.7725742135499</td><td>276.78797303816367</td><td>294.20852483617557</td><td>512.1631342365756</td><td>301.8202277485334</td><td>93.09907725524943</td><td>352.51352135570266</td><td>256.1542609567297</td><td>17.4577441082767</td><td>21.164332332768822</td><td>15.517078356698143</td><td>-76.08581717704257</td><td>-69.8132676095304</td><td>-68.48094685045395</td><td>0.0328554955095094</td><td>0.038427644865462525</td><td>0.1041337600501494</td><td>0.013827025229265464</td><td>0.01772304915209633</td><td>0.03607247999964442</td><td>4685662.550216891</td><td>2804123.779535456</td><td>13402089.18770013</td><td>3279057.499472168</td><td>1686907.8701095413</td><td>1187472.0538222955</td><td>1040880.3872933196</td><td>121350.02390021147</td><td>30162.34915070883</td><td>428082.06767647556</td><td>40996.60911635917</td><td>40593.87741187801</td><td>65293.25476300224</td><td>60092.769446107275</td><td>10017.73777904931</td><td>5830.632377770341</td><td>19559.44436301326</td><td>4827.6590825618305</td><td>2555.391893829773</td><td>1857.1315468209957</td><td>1530.832056573064</td><td>495.72543844150647</td><td>521.5993402614553</td><td>1125.5267789084637</td><td>506.7279427775589</td><td>165.59647293355704</td><td>546.6539413451621</td><td>399.45292119308004</td><td>0.2111477793991558</td><td>0.0006122312134925291</td><td>8.477733028216061</td><td>0.0005165648726915431</td><td>7.6566326973272245</td><td>0.001339551712032703</td><td>8403.452456536861</td><td>8130.821855192527</td><td>49.96044326815098</td><td>35.344395518588776</td><td>0.0</td><td>0.0</td><td>0.0</td><td>-0.9705102265369366</td><td>7.998232502637437</td><td>386.8441530523332</td><td>6.0</td><td>7.0</td><td>0.2897917149011935</td><td>1.000292563239332</td><td>2.3945609122503817e+39</td><td>0.07969458636331161</td><td>11.808279551410747</td><td>308.80289724847137</td><td>0.2133477824004536</td><td>62.58627241307613</td><td>0.0807400003254328</td><td>309.8199888305138</td><td>1.2059254739933252</td><td>64.65017920156488</td><td>0.33593040516008843</td><td>1181.7714043444464</td><td>4.892623050700737</td><td>182.22587400651688</td><td>0.982095750012513</td><td>1</td><td>1</td><td>12262215.373433016</td><td>2.1908987374376624e+39</td><td>83</td><td>436</td><td>4011.07</td><td>2595.5</td><td>139.47114012321782</td><td>-22.37021599956718</td><td>2.0</td><td>2</td><td>0.6</td><td>17.72604638879254</td><td>0.010448757526345654</td><td>18.28978529740284</td><td>0.011765157304998951</td><td>19.911125197518984</td><td>0.012898244730274363</td><td>20.068550146411127</td><td>0.013714248934888694</td><td>20.164553407371947</td><td>0.01819545803265328</td><td>0.07198822153622221</td><td>0.0006934825834495164</td><td>0.059118836879351926</td><td>0.0006412584222318749</td><td>0.0447249558978096</td><td>0.0005318510203882164</td><td>0.03434788035477869</td><td>0.0004342916032242816</td><td>0.020769145893239162</td><td>0.0003484103857747784</td><td>1.5041672057682476</td><td>1.0</td><td>0.0</td><td>39948.48571118495</td><td>4539.34173956536</td><td>0.09</td><td>0.03</td><td>0.6050306168337074</td><td>0.0</td><td>0.0</td><td>158.0700000010951</td><td>149.4999999986676</td></tr>\n",
       "<tr><td>186.0</td><td>186</td><td>0</td><td>0.21077401520428649</td><td>0.7471983343999925</td><td>354383.875</td><td>0.26197156140597827</td><td>0.18474172079899845</td><td>78.38454527863617</td><td>0.21999335684183946</td><td>72.19494993595835</td><td>77.40781531007943</td><td>0.48768905747369357</td><td>0.5155791557195377</td><td>1.1243819415544587</td><td>0.7929114656693013</td><td>0.95864670361188</td><td>0.47932335180594</td><td>0.6168958840268538</td><td>0.4350335072909926</td><td>0.5259646956589232</td><td>0.2629823478294616</td><td>9</td><td>3</td><td>3</td><td>28.892737073936747</td><td>30.545063004228727</td><td>66.61308329594384</td><td>46.97538759464313</td><td>56.79423544529348</td><td>28.39711772264674</td><td>36.54748923732638</td><td>25.77320231383128</td><td>31.160345775578833</td><td>15.580172887789416</td><td>139.47674431403965</td><td>-22.375741710698335</td><td>13.033325476216723</td><td>71.0</td><td>82.0</td><td>139.47675853394287</td><td>-22.37569117068333</td><td>0</td><td>NGC2835</td><td>348.79516284374836</td><td>70.82813358074863</td><td>139.4767191128819</td><td>-22.3757687982866</td><td>349.0574712643678</td><td>70.08620689655173</td><td>0.0</td><td>1.0</td><td>0.0</td><td>80.99038741536894</td><td>4.4273028515006745</td><td>174.0</td><td>1.4884343478431232</td><td>121595.7173862939</td><td>73522.76564328659</td><td>463474.1929209893</td><td>100453.91826783985</td><td>64194.65829280892</td><td>45145.6298919801</td><td>39924.16949981939</td><td>6966.942164707641</td><td>1105.598002581482</td><td>12513.752653140215</td><td>1769.8466118674214</td><td>2343.3673064094446</td><td>1550.3346481837468</td><td>2903.9257564773734</td><td>306.2664832532938</td><td>225.81028634917826</td><td>459.39733020513034</td><td>191.3306068750629</td><td>169.54983013223247</td><td>147.6649452537098</td><td>243.39346829088214</td><td>103.5270887867069</td><td>116.47099154372656</td><td>183.70678574758935</td><td>122.91084774493119</td><td>34.82187586104314</td><td>147.7299588032047</td><td>97.10958070707746</td><td>14.912296284942713</td><td>21.773355615661046</td><td>11.006061149573313</td><td>-71.6419392995214</td><td>-66.04232219063975</td><td>-62.354791778353174</td><td>0.14817887604055238</td><td>0.20450994546742265</td><td>0.7985326903129482</td><td>0.0514743962905331</td><td>0.09017639517446051</td><td>0.19627630267347562</td><td>304884.4548142088</td><td>177959.50891937618</td><td>872061.4189546001</td><td>188594.45791379435</td><td>118859.55665692083</td><td>83467.86806636899</td><td>57685.398404971114</td><td>13487.832142160854</td><td>2301.0779678016265</td><td>25572.72525347859</td><td>3421.727828493258</td><td>4504.768810756599</td><td>2691.974810736527</td><td>5036.153773784105</td><td>2750.456570230889</td><td>1579.9848195610925</td><td>5266.130358133634</td><td>1175.7124882413277</td><td>758.0628903519357</td><td>555.1718042177637</td><td>404.59621250066505</td><td>217.30408062356727</td><td>242.93128446595856</td><td>413.04149245182526</td><td>238.57827898321284</td><td>72.46152581504946</td><td>256.8974673413769</td><td>170.4280227385168</td><td>0.27245542473711437</td><td>0.0025675397841846068</td><td>8.430717876159102</td><td>0.0021856936417557937</td><td>7.482172237365925</td><td>0.0061374853729026365</td><td>9278.535579881185</td><td>9502.275706092174</td><td>367.1020506304726</td><td>260.3658795973301</td><td>0.0</td><td>0.0</td><td>0.0</td><td>-1.5232030876503615</td><td>7.589939132435564</td><td>402.0217312810803</td><td>5.0</td><td>7.0</td><td>0.4210291459937453</td><td>1.4532931826161601</td><td>1.5581184080066821e+38</td><td>0.10375003086124224</td><td>11.808279551410747</td><td>154.8169171841185</td><td>0.3648849451148598</td><td>27.613439217976126</td><td>0.17288474129061696</td><td>156.9198492145018</td><td>2.2031733327014322</td><td>31.06301895206894</td><td>0.6026136447377962</td><td>1123.2856773460855</td><td>32.65568988143836</td><td>158.32499550503843</td><td>6.317787343552469</td><td>1</td><td>1</td><td>666799.8123895843</td><td>1.1913759647813207e+38</td><td>19</td><td>86</td><td>3540.89</td><td>2095.95</td><td>139.4767360406916</td><td>-22.37571373282497</td><td>2.0</td><td>2</td><td>1.0</td><td>20.632262997744466</td><td>0.028706466393709506</td><td>20.89810414751267</td><td>0.027150554674249115</td><td>22.46883742315132</td><td>0.028475385124598716</td><td>22.331930359206478</td><td>0.021010461711573218</td><td>22.230002661181473</td><td>0.03556665988381074</td><td>0.004951933466182374</td><td>0.00013105814006964637</td><td>0.005350548942593561</td><td>0.0001339326649322536</td><td>0.004240968343866226</td><td>0.00011133817547536346</td><td>0.00427117982363338</td><td>8.273569424051206e-05</td><td>0.003099123873342457</td><td>0.00010162287568960255</td><td>1.5179756635572401</td><td>1.0</td><td>0.0</td><td>8471.903898730288</td><td>1252.8964328240409</td><td>0.28</td><td>0.040000000000000036</td><td>1.6413599925312936</td><td>0.0</td><td>0.0</td><td>72.89000000110343</td><td>79.95000000073765</td></tr>\n",
       "<tr><td>187.0</td><td>187</td><td>0</td><td>0.21189726274705786</td><td>0.5588290063999943</td><td>157478.328125</td><td>0.22591191590730914</td><td>0.21537151954900352</td><td>-135.8483326351522</td><td>0.22057876736708787</td><td>67.44914880138779</td><td>68.16728691180758</td><td>0.4217591699339601</td><td>0.45372022927821365</td><td>0.9696139430741708</td><td>0.9243745619043231</td><td>0.946994252489247</td><td>0.4734971262446235</td><td>0.5319819079898778</td><td>0.5071611713627685</td><td>0.5195715396763232</td><td>0.2597857698381616</td><td>9</td><td>3</td><td>3</td><td>24.986775115578702</td><td>26.88028178768159</td><td>57.443980526416134</td><td>54.76381059949806</td><td>56.10389556295709</td><td>28.051947781478546</td><td>31.51683057082298</td><td>30.04634644500848</td><td>30.781588507915732</td><td>15.390794253957866</td><td>139.4542486412982</td><td>-22.363505382283297</td><td>13.068007641270691</td><td>64.0</td><td>74.0</td><td>139.4542896961246</td><td>-22.36344119432719</td><td>0</td><td>NGC2835</td><td>722.3656667508737</td><td>290.95104620772406</td><td>139.4542767573458</td><td>-22.363539072132202</td><td>722.2537313432836</td><td>290.6044776119403</td><td>0.0</td><td>0.0</td><td>0.0</td><td>78.210671433086</td><td>5.732927081694696</td><td>134.0</td><td>1.3061933202803935</td><td>95368.1571458708</td><td>40470.7361096292</td><td>312954.45035228657</td><td>69846.80553962049</td><td>57431.59079154353</td><td>40015.1908195674</td><td>20739.13813338836</td><td>5738.600051217807</td><td>547.5692501808784</td><td>6978.973748677544</td><td>169.32596312384894</td><td>1930.2080348398706</td><td>181.80412094858352</td><td>1728.4304696650815</td><td>263.868789154253</td><td>182.50937599581087</td><td>351.59082881711976</td><td>167.45701967828165</td><td>161.7128152130178</td><td>143.9030951531999</td><td>177.609637611902</td><td>91.88589397323781</td><td>105.1946102683363</td><td>137.4722837266288</td><td>129.9999827948246</td><td>30.90629931562319</td><td>248.30708364517443</td><td>93.19344717977044</td><td>17.321488394518305</td><td>23.246549465698735</td><td>18.36313516776566</td><td>-20.041058386702883</td><td>-18.403510097632598</td><td>-12.928907933322195</td><td>0.165004889217208</td><td>0.2303665934423825</td><td>0.9114284041691646</td><td>0.06165574405939444</td><td>0.1076306458661374</td><td>0.3266610153209176</td><td>148082.04618729497</td><td>61788.521412997456</td><td>423536.0128719701</td><td>94427.06178647053</td><td>77128.66657414829</td><td>53701.63733488534</td><td>24734.25652644868</td><td>7873.005117022459</td><td>777.715340749356</td><td>9825.851611141848</td><td>232.15372254069027</td><td>2639.187122453587</td><td>236.76545809842426</td><td>2249.633871474979</td><td>1473.3385149938752</td><td>632.5379781867947</td><td>2823.8070621496345</td><td>658.5313042450011</td><td>539.6128919413795</td><td>393.7419087056718</td><td>232.0040237188812</td><td>137.16965419350026</td><td>149.52593595492573</td><td>206.86316596925346</td><td>178.24308825327176</td><td>45.90592044343705</td><td>323.37583299395016</td><td>121.97732718843147</td><td>0.1304202059346717</td><td>0.0028326518298185588</td><td>8.387719633859762</td><td>0.002746059336244172</td><td>7.182425575199726</td><td>0.0077918981918955</td><td>--</td><td>--</td><td>--</td><td>--</td><td>0.0</td><td>0.0</td><td>0.0</td><td>-1.7234153670464312</td><td>7.255226024051789</td><td>244.39539616495904</td><td>12.0</td><td>7.0</td><td>0.40657877128293535</td><td>1.4034139016844285</td><td>7.567348397325754e+37</td><td>0.052926302017482385</td><td>11.808279551410747</td><td>123.42128371534395</td><td>0.32157226724753485</td><td>22.72672037287048</td><td>0.16355297685456593</td><td>125.72049823937812</td><td>1.9487778955267634</td><td>25.747903409573155</td><td>0.5165404799486674</td><td>706.7763749605184</td><td>17.65949565545238</td><td>100.03150803463703</td><td>3.332811098871157</td><td>1</td><td>1</td><td>213122.84625678277</td><td>3.8078810440301475e+37</td><td>196</td><td>1200</td><td>5427.75</td><td>3207.86</td><td>139.45428076644978</td><td>-22.363475750837903</td><td>2.0</td><td>2</td><td>1.0</td><td>20.663359877989567</td><td>0.029296523854574742</td><td>21.252443618762474</td><td>0.03793410843075487</td><td>22.695718378608014</td><td>0.03416364960474284</td><td>22.655353843449554</td><td>0.027446000288273036</td><td>22.533857747151824</td><td>0.044624196977834006</td><td>0.004812115567710308</td><td>0.00012997553219405163</td><td>0.003860668858975266</td><td>0.00013502117921498392</td><td>0.003441221665943135</td><td>0.00010838928971957396</td><td>0.003170870186365153</td><td>8.023557864963849e-05</td><td>0.0023425933232147232</td><td>9.637774883735332e-05</td><td>1.6072795174689953</td><td>1.0</td><td>1.0</td><td>5535.520392562895</td><td>1865.2759496748608</td><td>0.23</td><td>0.05000000000000002</td><td>2.1109773666643084</td><td>0.0</td><td>0.0</td><td>64.74999999994839</td><td>70.86000000017088</td></tr>\n",
       "<tr><td>240.0</td><td>240</td><td>0</td><td>0.14289339090429035</td><td>0.400284821999996</td><td>135078.390625</td><td>0.2670959359149281</td><td>0.12284201360988527</td><td>172.69188272362075</td><td>0.18113697191574843</td><td>72.48070386339081</td><td>55.82743659210183</td><td>0.3569518400735842</td><td>0.3786870756885823</td><td>1.1463757569468713</td><td>0.5272379224136275</td><td>0.8368068396802495</td><td>0.41840341984012475</td><td>0.6289628638387745</td><td>0.2892708360205225</td><td>0.4591168499296485</td><td>0.22955842496482426</td><td>9</td><td>3</td><td>3</td><td>21.147318163603245</td><td>22.435004319854723</td><td>67.91608879842009</td><td>31.235777047401367</td><td>49.57593292291073</td><td>24.787966461455365</td><td>37.26238753089971</td><td>17.137612747748925</td><td>27.200000139324317</td><td>13.600000069662158</td><td>139.46161396589574</td><td>-22.37477941424227</td><td>10.731310911590603</td><td>68.0</td><td>58.0</td><td>139.46166729500422</td><td>-22.374755507135614</td><td>0</td><td>NGC2835</td><td>599.5106429014627</td><td>91.09710174949397</td><td>139.46165642850372</td><td>-22.37464263194809</td><td>599.2585034013606</td><td>91.36054421768708</td><td>1.0</td><td>0.0</td><td>0.0</td><td>81.37640339158762</td><td>5.083165082839223</td><td>147.0</td><td>1.3680870333281758</td><td>82093.70128363953</td><td>219586.60539972046</td><td>300728.18176689104</td><td>47412.08472285221</td><td>52366.89881600438</td><td>36405.08755495424</td><td>25891.488736725012</td><td>8566.51625510228</td><td>324.90218455712557</td><td>7986.859518522879</td><td>2004.6875440543831</td><td>2881.3923881445266</td><td>1008.2058139287251</td><td>2191.32635715235</td><td>268.2048727866555</td><td>362.57218731281864</td><td>419.5620225421904</td><td>168.1203757013119</td><td>173.12655051791972</td><td>153.90388469470193</td><td>257.9439251431563</td><td>114.44110564164853</td><td>122.84648135852484</td><td>186.29566940686922</td><td>134.30978748185805</td><td>38.492862310310606</td><td>173.57652850877636</td><td>100.90443239912699</td><td>19.83684852421607</td><td>26.300925466327104</td><td>16.30826365946671</td><td>-56.07538828674972</td><td>-51.81628743236599</td><td>-54.46633516941835</td><td>0.1855146453112227</td><td>0.28335925148484226</td><td>0.49752204538138767</td><td>0.07732015867855524</td><td>0.14382392057433613</td><td>0.13313989985014651</td><td>181277.14858775146</td><td>470369.1049867619</td><td>518499.72191831685</td><td>81589.93881525772</td><td>89045.23200905026</td><td>61826.0628574759</td><td>35554.430130927365</td><td>15137.215806240123</td><td>611.0593447405798</td><td>14786.328480462802</td><td>3538.1798805729627</td><td>5060.581465039701</td><td>1622.0660200099608</td><td>3521.825825233577</td><td>2144.3857413426545</td><td>5200.858716517604</td><td>4117.6927395319735</td><td>698.3878784663765</td><td>739.5593520207868</td><td>537.7400186717057</td><td>389.4305195150355</td><td>237.04328906746431</td><td>231.10975731646096</td><td>368.8308490692323</td><td>238.79956509162866</td><td>79.01707810946967</td><td>279.4803599305465</td><td>163.93392624207806</td><td>0.23479390358549335</td><td>0.0033697792772571914</td><td>--</td><td>--</td><td>7.343195853039509</td><td>0.00913338178490834</td><td>--</td><td>12096.174352224794</td><td>--</td><td>421.3407086976327</td><td>0.0</td><td>0.0</td><td>0.0</td><td>-1.67576971951675</td><td>7.337729868394427</td><td>604.3471001957623</td><td>1.0</td><td>7.0</td><td>0.42303585298693164</td><td>1.4602198612569524</td><td>9.264071815443242e+37</td><td>--</td><td>11.808279551410747</td><td>112.96790520272623</td><td>0.3307266100294405</td><td>19.072701890430583</td><td>0.1662322895750981</td><td>114.60751063294424</td><td>1.9148112542950013</td><td>22.333923857375503</td><td>0.47852908087756246</td><td>916.5938372335742</td><td>34.32031925260144</td><td>128.60017970936852</td><td>7.010984784421793</td><td>1</td><td>0</td><td>232895.06013282854</td><td>4.161152594872662e+37</td><td>31</td><td>144</td><td>4807.84</td><td>2183.14</td><td>139.46165729778448</td><td>-22.37475396576746</td><td>5.0</td><td>2</td><td>0.9</td><td>21.551193364071853</td><td>0.061394417921528284</td><td>21.905615957960222</td><td>0.06028236049346655</td><td>23.450621812245522</td><td>0.06561031333126123</td><td>22.866624125893114</td><td>0.04056297765259221</td><td>23.27711174853751</td><td>0.09182482505353143</td><td>0.0021242354604970497</td><td>0.00012023779503983518</td><td>0.0021154054398086785</td><td>0.00011756913675901528</td><td>0.001716924805108596</td><td>0.00010385630082757498</td><td>0.0026101793508644723</td><td>9.761344510403532e-05</td><td>0.0011813954682041673</td><td>0.00010001493868377669</td><td>1.8817643521274245</td><td>2.0</td><td>2.0</td><td>3119.2325598895795</td><td>2156.258428721242</td><td>0.29</td><td>0.13999999999999999</td><td>7.285033782229059</td><td>0.0</td><td>0.0</td><td>68.84000000118635</td><td>58.14000000018882</td></tr>\n",
       "<tr><td>241.0</td><td>241</td><td>0</td><td>0.03627220331240456</td><td>0.1601139287999984</td><td>101537.4375</td><td>0.09293829615046005</td><td>0.08961512093485022</td><td>-171.3592821937382</td><td>0.09126158364285819</td><td>67.05138910046229</td><td>55.401271310958315</td><td>0.22575616592413825</td><td>0.22905205071483634</td><td>0.3988911670777745</td><td>0.3846280990523771</td><td>0.3917596330650758</td><td>0.1958798165325379</td><td>0.21885296272612603</td><td>0.21102748311525796</td><td>0.21494022292069198</td><td>0.10747011146034599</td><td>9</td><td>3</td><td>3</td><td>13.374738360247106</td><td>13.570000343726742</td><td>23.631979095851634</td><td>22.786975362406764</td><td>23.2094772291292</td><td>11.6047386145646</td><td>12.965763764833133</td><td>12.502149661934258</td><td>12.733956713383694</td><td>6.366978356691847</td><td>139.47343738740085</td><td>-22.377491743266752</td><td>5.4067174580525</td><td>66.0</td><td>56.0</td><td>139.47344990073435</td><td>-22.37748515375943</td><td>0</td><td>NGC2835</td><td>401.50066029276</td><td>40.06656645946008</td><td>139.47355265375376</td><td>-22.37747786600621</td><td>401.3137254901961</td><td>40.03921568627451</td><td>0.0</td><td>0.0</td><td>0.0</td><td>83.25268912439324</td><td>4.570560860338005</td><td>102.0</td><td>1.1396070970426018</td><td>49522.63006555355</td><td>47025.01707987629</td><td>167364.74897602323</td><td>30287.54509032038</td><td>21851.708608471523</td><td>15181.926242474736</td><td>13442.392656946782</td><td>2798.718940539977</td><td>412.40609226596024</td><td>4382.46551167532</td><td>940.1160892560549</td><td>941.3637016126255</td><td>0.0</td><td>947.0830426611102</td><td>218.91869931995384</td><td>182.12906644509647</td><td>263.9289676196642</td><td>114.3553940874357</td><td>112.11281248952112</td><td>99.71932979269958</td><td>168.55727532797496</td><td>82.02861138952419</td><td>95.44786238843459</td><td>149.9528491590983</td><td>96.64859244663516</td><td>27.59075094581939</td><td>99.19289627952512</td><td>68.8511354699592</td><td>18.957147374526713</td><td>21.9135787993735</td><td>1.4258526548755912</td><td>-75.6864120597023</td><td>-71.2428408306607</td><td>-69.3322523876222</td><td>0.21590310692775364</td><td>0.4360696351895787</td><td>5.481779228611918</td><td>0.08898008977228074</td><td>0.186485689102743</td><td>0.29576627311062476</td><td>84491.20118416869</td><td>78602.21616694696</td><td>241659.6323486718</td><td>43676.37539613356</td><td>31258.301935376134</td><td>21699.003683873732</td><td>16648.032494174284</td><td>4108.593923065385</td><td>631.4328591801493</td><td>6639.013137422299</td><td>1379.026046002575</td><td>1376.2854019869403</td><td>0.0</td><td>1304.219070805324</td><td>1322.935528431549</td><td>1175.464145764237</td><td>2525.0203882830574</td><td>478.8470464753665</td><td>353.1633699585556</td><td>260.3801346645051</td><td>231.51930701835138</td><td>128.3278727924347</td><td>146.33530020178307</td><td>240.03132614436606</td><td>142.5469141959007</td><td>42.93227025636436</td><td>--</td><td>95.53753793946892</td><td>0.15833939621164472</td><td>0.004452056562555612</td><td>8.388031021189262</td><td>0.003921805589253465</td><td>7.553447734887836</td><td>0.011810852878574502</td><td>--</td><td>11022.163313628922</td><td>--</td><td>543.9134985320891</td><td>0.0</td><td>0.0</td><td>0.0</td><td>-1.8485969739040273</td><td>7.588850684516089</td><td>423.6318040612246</td><td>5.0</td><td>7.0</td><td>0.4327897386631655</td><td>1.4938879711542628</td><td>4.317750028271748e+37</td><td>0.06743203216888816</td><td>11.808279551410747</td><td>86.91417653573556</td><td>0.27463228842708903</td><td>15.009542682790283</td><td>0.1834786074963314</td><td>88.9031256497903</td><td>1.5441585612012252</td><td>19.031206772028693</td><td>0.4787924760803937</td><td>1890.9434544213373</td><td>203.81554894003273</td><td>280.3606405242854</td><td>46.92106803579681</td><td>1</td><td>1</td><td>146610.91995777137</td><td>2.6195077288071425e+37</td><td>8</td><td>35</td><td>3817.74</td><td>1934.61</td><td>139.47344109345997</td><td>-22.37748944604271</td><td>2.0</td><td>2</td><td>1.0</td><td>21.35644343336427</td><td>0.057696008928894</td><td>21.7142010056169</td><td>0.06121838056810333</td><td>23.331603631776787</td><td>0.06580790865408112</td><td>22.929466290234064</td><td>0.03980259117615594</td><td>22.939120652091873</td><td>0.07249883777115726</td><td>0.002541573225131583</td><td>0.00013519413821844498</td><td>0.0025232460249650663</td><td>0.0001424134139359945</td><td>0.0019158369597806508</td><td>0.00011623745684504319</td><td>0.002463391757294106</td><td>9.039705720277824e-05</td><td>0.001612841683566095</td><td>0.00010780334743511751</td><td>1.6930582919402184</td><td>1.0</td><td>0.0</td><td>4612.790693875364</td><td>957.2557533279969</td><td>0.3</td><td>0.050000000000000044</td><td>3.6345041282584605</td><td>0.0</td><td>0.0</td><td>66.73999999969388</td><td>55.6100000002898</td></tr>\n",
       "<tr><td>259.0</td><td>259</td><td>1</td><td>0.13039225807225674</td><td>0.7456285899999925</td><td>801653.75</td><td>0.18544159204715185</td><td>0.1614532246774137</td><td>81.87986056663156</td><td>0.17303220227843746</td><td>103.52245564588554</td><td>84.30642057938732</td><td>0.4871765097151934</td><td>0.5189600388677174</td><td>0.7959153130663758</td><td>0.6929572403154595</td><td>0.7444362766909176</td><td>0.3722181383454588</td><td>0.43668157813508507</td><td>0.3801932898052593</td><td>0.4084374339701722</td><td>0.2042187169850861</td><td>9</td><td>3</td><td>3</td><td>28.862371603567382</td><td>30.745360645484144</td><td>47.15334806294538</td><td>41.05368172833229</td><td>44.10351489563884</td><td>22.05175744781942</td><td>25.870840915411247</td><td>22.524238736299566</td><td>24.197539825855408</td><td>12.098769912927704</td><td>139.46655286750476</td><td>-22.36763175611553</td><td>10.251150500797948</td><td>101.0</td><td>85.0</td><td>139.46658288743185</td><td>-22.36762412375754</td><td>0</td><td>NGC2835</td><td>517.140523160541</td><td>220.18168217502676</td><td>139.4666053050334</td><td>-22.36747145776024</td><td>516.7450980392157</td><td>220.4738562091503</td><td>0.0</td><td>1.0</td><td>0.0</td><td>48.89758590945769</td><td>4.968234559339874</td><td>306.0</td><td>1.9738573927438625</td><td>375315.51343193045</td><td>486800.21430206124</td><td>1560234.7626602433</td><td>352852.5921597327</td><td>197711.81764500885</td><td>147455.21696769877</td><td>189868.36792321954</td><td>24056.87606487713</td><td>3549.9904717291497</td><td>44311.715013781795</td><td>5863.082423086252</td><td>8091.655640598047</td><td>7521.8688011297545</td><td>8543.933765007452</td><td>510.39409595878755</td><td>467.47663437559464</td><td>856.5050460451546</td><td>322.0256183870863</td><td>288.49607304696934</td><td>254.55264890304565</td><td>469.6770991098303</td><td>164.80124997828796</td><td>186.59096066874838</td><td>275.3263058290258</td><td>181.547143064793</td><td>55.431759317717265</td><td>238.16603202657714</td><td>162.25029483991523</td><td>19.886141938966134</td><td>23.23729483669771</td><td>8.801365740967794</td><td>-63.45436596583155</td><td>-59.06840845613557</td><td>-56.934832361322584</td><td>0.062031280947013594</td><td>0.09484010947315015</td><td>0.32106422331377427</td><td>0.027445440148329937</td><td>0.04498642320863633</td><td>0.06360801760117513</td><td>1242289.5147431546</td><td>1538975.6298476174</td><td>3553435.4913597116</td><td>801313.4940337642</td><td>440954.8753858144</td><td>328245.84176520864</td><td>306598.2049353006</td><td>56861.177977248066</td><td>9220.079488184198</td><td>112377.97485939389</td><td>13833.568506356023</td><td>18950.443506006803</td><td>15430.205806877939</td><td>17498.91122402633</td><td>6070.400020842648</td><td>7101.396223568097</td><td>11633.17040652335</td><td>2678.8937233734177</td><td>1528.9156212107819</td><td>1175.5755976978428</td><td>952.4311411875312</td><td>434.18251312056043</td><td>485.8432939302533</td><td>809.7635840390228</td><td>430.87234719811477</td><td>144.4018290041474</td><td>490.49918389706244</td><td>335.9276343625476</td><td>0.3547681976494026</td><td>0.0013911048339991358</td><td>8.451042469474627</td><td>0.0012333126648805316</td><td>7.726643795603441</td><td>0.002912667651030884</td><td>9083.088546115743</td><td>8538.178827564352</td><td>187.19146402065928</td><td>90.97398465298683</td><td>0.0</td><td>0.0</td><td>0.0</td><td>-1.1582739033342853</td><td>8.208383542759595</td><td>378.0852954141849</td><td>7.0</td><td>7.0</td><td>0.2541944728703454</td><td>0.8774192903183702</td><td>6.348948744216922e+38</td><td>0.03372662173409324</td><td>11.808279551410747</td><td>143.43504860263977</td><td>0.15453968200941873</td><td>25.49860963026268</td><td>0.08189139117407909</td><td>144.40361149551097</td><td>0.8587150840105156</td><td>28.500061999227803</td><td>0.26213234215701886</td><td>1977.3622422022445</td><td>48.88171886598546</td><td>385.34018389645325</td><td>19.93290119180177</td><td>1</td><td>1</td><td>1825766.8366359314</td><td>3.2621105855860765e+38</td><td>120</td><td>689</td><td>4394.57</td><td>2830.5</td><td>139.4665761036934</td><td>-22.36762962633926</td><td>3.0</td><td>2</td><td>0.9</td><td>21.343020120027283</td><td>0.05577026607663228</td><td>21.213465635053332</td><td>0.041695823985742286</td><td>22.609801594434195</td><td>0.03686904249692882</td><td>21.780062911123473</td><td>0.0217081872538019</td><td>21.064210567417373</td><td>0.023612247386970556</td><td>0.002573190574868221</td><td>0.00013230739884967995</td><td>0.004001784944416539</td><td>0.00015383521737705533</td><td>0.0037245976269225404</td><td>0.00012660494941264773</td><td>0.007100596524701948</td><td>0.00014211105302767553</td><td>0.009068924221846266</td><td>0.0001974251881577023</td><td>1.4905100620913214</td><td>9.0</td><td>6.0</td><td>8457.209204368819</td><td>4382.614654760011</td><td>0.28</td><td>0.030000000000000027</td><td>11.698266527956989</td><td>0.0</td><td>0.0</td><td>101.57000000080194</td><td>84.4999999999718</td></tr>\n",
       "<tr><td>329.0</td><td>329</td><td>0</td><td>0.09499643813247496</td><td>0.296681691599997</td><td>101789.6640625</td><td>0.15722048291430765</td><td>0.13873954320800644</td><td>87.20160232509494</td><td>0.1476912251370176</td><td>45.33731348493327</td><td>41.351731447216906</td><td>0.30730557347046206</td><td>0.31769854041674606</td><td>0.6747903126682084</td><td>0.5954701194487636</td><td>0.635130216058486</td><td>0.317565108029243</td><td>0.37022594465605757</td><td>0.32670665738465104</td><td>0.3484663010203543</td><td>0.17423315051017715</td><td>9</td><td>3</td><td>3</td><td>18.206065933961106</td><td>18.821788712226017</td><td>39.97739704261004</td><td>35.27813743810907</td><td>37.62776724035955</td><td>18.813883620179777</td><td>21.93373157131853</td><td>19.3554671925946</td><td>20.644599381956564</td><td>10.322299690978282</td><td>139.4639846433863</td><td>-22.364153407252378</td><td>8.749845153623577</td><td>47.0</td><td>45.0</td><td>139.46396485840526</td><td>-22.364113255144087</td><td>0</td><td>NGC2835</td><td>561.7692062977404</td><td>281.65655759073957</td><td>139.46392437345347</td><td>-22.364056102399317</td><td>561.8205128205128</td><td>281.7692307692308</td><td>0.0</td><td>0.0</td><td>0.0</td><td>44.22720777161688</td><td>5.269834279096901</td><td>78.0</td><td>0.9965574970333759</td><td>45806.04620451082</td><td>17895.667709572477</td><td>163608.45930160434</td><td>49504.03990084179</td><td>35726.003358702794</td><td>25002.720644754037</td><td>11068.925249981685</td><td>4278.081547607275</td><td>475.5537023598761</td><td>3564.63967540126</td><td>653.3173265719834</td><td>1438.9550244295883</td><td>0.0</td><td>655.5042209334483</td><td>208.11869211071263</td><td>162.67331620707074</td><td>289.8640297462994</td><td>157.0015651803285</td><td>144.03584377856674</td><td>130.93478094772527</td><td>176.66961892516272</td><td>101.64662660586858</td><td>99.04437647099756</td><td>126.98285204695043</td><td>116.12705759923365</td><td>34.18937260619505</td><td>150.49568549006668</td><td>90.20448796742296</td><td>20.05921431462714</td><td>25.886954441722185</td><td>19.39241756325588</td><td>-43.692044368739566</td><td>-41.03905921872877</td><td>-33.6834107501339</td><td>0.2483998140632588</td><td>0.31524973234154985</td><td>1.597244000065389</td><td>0.10150966906481894</td><td>0.15591104937024747</td><td>0.6313652290675267</td><td>93284.98980205349</td><td>35463.78170172576</td><td>266816.8217263523</td><td>80594.55751946568</td><td>57542.181999503824</td><td>40225.40817893598</td><td>14715.392218195677</td><td>7132.374854589626</td><td>838.5064869189656</td><td>6196.913476614402</td><td>1088.0595988385935</td><td>2385.9352102850808</td><td>0.0</td><td>1003.6595743411907</td><td>1516.3519408255406</td><td>622.2651984168689</td><td>2902.3036794727013</td><td>899.0395402442527</td><td>645.0064139941422</td><td>469.62519842962024</td><td>252.22735122151755</td><td>187.39748691677994</td><td>174.94866650502996</td><td>233.2080580676328</td><td>193.7855084720774</td><td>62.5669319535575</td><td>--</td><td>138.43274284148652</td><td>0.2108088402035512</td><td>0.0046258822927194255</td><td>8.453023894571068</td><td>0.00516580349437132</td><td>7.01608276253474</td><td>0.013850979935636852</td><td>--</td><td>--</td><td>--</td><td>--</td><td>0.0</td><td>0.0</td><td>0.0</td><td>-1.689082308637242</td><td>8.265386283965146</td><td>329.3113685284656</td><td>9.0</td><td>6.0</td><td>0.22991547654009906</td><td>0.7936139286628757</td><td>4.767235339868991e+37</td><td>0.022559947705309114</td><td>11.808279551410747</td><td>39.24407180317504</td><td>0.10559249594153367</td><td>4.7136585514202585</td><td>0.09258305484370309</td><td>41.66507140765352</td><td>0.4475673955113462</td><td>9.351220325494744</td><td>0.14533842316535991</td><td>--</td><td>--</td><td>--</td><td>--</td><td>1</td><td>1</td><td>166001.163788742</td><td>2.9659545937017394e+37</td><td>183</td><td>1128</td><td>4612.65</td><td>3147.25</td><td>139.46398092272412</td><td>-22.364143521141553</td><td>2.0</td><td>2</td><td>0.9</td><td>20.673539351161736</td><td>0.03076770572628711</td><td>21.27403286787373</td><td>0.03866615471353915</td><td>22.727990298215143</td><td>0.03954801717728186</td><td>22.849779036740426</td><td>0.039210782226233414</td><td>22.92848018609066</td><td>0.09132352285096315</td><td>0.004767209737807355</td><td>0.00013522868833012048</td><td>0.003784659849138579</td><td>0.0001349171939582998</td><td>0.0033404415785095983</td><td>0.00012179741125798035</td><td>0.0026509918056189176</td><td>9.583482505766705e-05</td><td>0.001628725611162586</td><td>0.0001371323898585932</td><td>1.419718434513736</td><td>1.0</td><td>2.0</td><td>3479.7030676756576</td><td>1701.0133410828132</td><td>0.14</td><td>0.07</td><td>0.24179684082280795</td><td>0.0</td><td>0.0</td><td>45.64999999913516</td><td>42.24999999980798</td></tr>\n",
       "<tr><td>345.0</td><td>345</td><td>1</td><td>1.833905171850758</td><td>5.866134822799941</td><td>2403890.75</td><td>0.7928918461093682</td><td>0.5310861648775637</td><td>88.78777801317463</td><td>0.6489174752716371</td><td>109.79942532657117</td><td>107.82500646313342</td><td>1.3664730907647689</td><td>1.5109500726321776</td><td>3.4030918035014084</td><td>2.279421819654503</td><td>2.8412568115779555</td><td>1.4206284057889778</td><td>1.8671176127599352</td><td>1.2506123466922987</td><td>1.558864979726117</td><td>0.7794324898630585</td><td>9</td><td>3</td><td>3</td><td>80.95557430505978</td><td>89.51499425996853</td><td>201.61337477279596</td><td>135.04247082563361</td><td>168.32792279921478</td><td>84.16396139960739</td><td>110.61584721838702</td><td>74.09149982076171</td><td>92.35367351957437</td><td>46.176836759787186</td><td>139.45877873794757</td><td>-22.362056826730942</td><td>38.4445820720872</td><td>113.0</td><td>89.0</td><td>139.4587406308845</td><td>-22.362264003449045</td><td>0</td><td>NGC2835</td><td>646.7690540557855</td><td>317.3064453317872</td><td>139.45881825506808</td><td>-22.362075269851093</td><td>645.7740112994351</td><td>316.1694915254237</td><td>0.0</td><td>1.0</td><td>0.0</td><td>57.834381618452255</td><td>5.666160173120997</td><td>354.0</td><td>2.123032733700184</td><td>870616.4229320693</td><td>754248.9345517713</td><td>3068083.866090107</td><td>591141.5816060873</td><td>493953.76746346685</td><td>344956.45079625805</td><td>224706.65945616568</td><td>41646.287089895886</td><td>6573.630851985992</td><td>86027.20613457763</td><td>5293.422512920044</td><td>14007.945708832953</td><td>16557.108353809082</td><td>14599.887634361055</td><td>813.5256561717295</td><td>624.4098401611591</td><td>1110.0867954312262</td><td>432.9477843335054</td><td>429.3740079399552</td><td>373.6971042453474</td><td>527.8389189169359</td><td>224.3439900557029</td><td>242.8224537705333</td><td>338.94419573121763</td><td>265.4218239477236</td><td>75.45927025906937</td><td>404.1731530154276</td><td>192.483487389378</td><td>22.681190247422787</td><td>24.89443083689951</td><td>19.47303963433617</td><td>-29.140857687515158</td><td>-26.3840681552399</td><td>-24.11434455778194</td><td>0.03810414566053989</td><td>0.06267754141657435</td><td>0.17725035633619912</td><td>0.018858336155905406</td><td>0.031752070022365124</td><td>0.06217699710781469</td><td>1698311.9423583031</td><td>1434071.9159641194</td><td>4857544.172044558</td><td>934423.1764276463</td><td>772960.8454024988</td><td>539232.8560889591</td><td>293627.19900642184</td><td>67316.83588272179</td><td>11199.591376834918</td><td>144629.78078372427</td><td>8547.812996530512</td><td>22526.404022592873</td><td>24727.64143410472</td><td>21785.170295891076</td><td>5672.733750156756</td><td>4578.986899312025</td><td>10855.048430626432</td><td>2164.4236941766135</td><td>1791.8902622787548</td><td>1295.316274162593</td><td>786.0352284219632</td><td>394.42091119391233</td><td>414.6902716609901</td><td>674.352449482803</td><td>429.05349570378996</td><td>131.76871062600026</td><td>605.4968661678963</td><td>290.24568797925747</td><td>0.19804769086124915</td><td>0.0009504952149077309</td><td>8.371286523716295</td><td>0.0008907470780331882</td><td>7.305414717856826</td><td>0.0023078741860446217</td><td>9222.268340165943</td><td>7352.684630861541</td><td>129.83775983915865</td><td>116.92888643239506</td><td>0.0</td><td>0.0</td><td>0.0</td><td>-1.085787416055077</td><td>7.956642477473354</td><td>281.5766504889375</td><td>16.0</td><td>6.0</td><td>0.3006524734473934</td><td>1.0377813368870048</td><td>8.679009101493377e+38</td><td>-0.02087035993700681</td><td>11.808279551410747</td><td>162.48514002383115</td><td>0.12561370079835582</td><td>27.021024046485376</td><td>0.055781816388962645</td><td>163.83877365771323</td><td>0.7333555892050897</td><td>30.02846214429394</td><td>0.17932319057390536</td><td>441.51239435200137</td><td>1.4738765124539182</td><td>57.78736019389035</td><td>0.26439140338164346</td><td>1</td><td>1</td><td>3805960.3363369666</td><td>6.800136387821398e+38</td><td>218</td><td>1308</td><td>5069.26</td><td>3324.9</td><td>139.45854713550926</td><td>-22.362188050106163</td><td>2.0</td><td>2</td><td>0.9</td><td>19.345426703831127</td><td>0.015989342640709787</td><td>19.759938886812026</td><td>0.019190991868126023</td><td>21.116922078730205</td><td>0.015539066533560178</td><td>21.14603800298318</td><td>0.014299494489673348</td><td>20.949001807450067</td><td>0.02065099635650291</td><td>0.016199787527092595</td><td>0.00023880828545884712</td><td>0.015263862503908375</td><td>0.00027006688146444995</td><td>0.014730964011394105</td><td>0.00021104037872624404</td><td>0.012732239484680394</td><td>0.00016785525664135767</td><td>0.010084149533556469</td><td>0.00019199492535067677</td><td>1.3400214182720855</td><td>1.0</td><td>1.0</td><td>26845.645365088425</td><td>2447.3052056361594</td><td>0.28</td><td>0.02999999999999997</td><td>0.7914332518384053</td><td>0.0</td><td>0.0</td><td>129.26000000150407</td><td>95.8999999993041</td></tr>\n",
       "<tr><td>467.0</td><td>467</td><td>0</td><td>0.0958227288820133</td><td>0.3453437679999965</td><td>161158.8125</td><td>0.18014154229602727</td><td>0.12213966441408217</td><td>98.6586930972458</td><td>0.14833215269479494</td><td>61.367781773837244</td><td>54.71963401987832</td><td>0.3315514070040426</td><td>0.33900293081237026</td><td>0.773167499534549</td><td>0.5242234396652407</td><td>0.6486954695998948</td><td>0.3243477347999474</td><td>0.4242009147414756</td><td>0.287616930055634</td><td>0.35590892239855476</td><td>0.17795446119927738</td><td>9</td><td>3</td><td>3</td><td>19.64249039887125</td><td>20.083949797836343</td><td>45.80567256088132</td><td>31.057186496458446</td><td>38.43142952866988</td><td>19.21571476433494</td><td>25.131434278305562</td><td>17.039628449236922</td><td>21.08553136377124</td><td>10.54276568188562</td><td>139.49064236589928</td><td>-22.368308469816263</td><td>8.787816379605616</td><td>60.0</td><td>52.0</td><td>139.49065864807113</td><td>-22.368338398959228</td><td>0</td><td>NGC2835</td><td>116.44567849263318</td><td>205.8537209735724</td><td>139.4906773635144</td><td>-22.36826623786488</td><td>116.21296296296296</td><td>206.2037037037037</td><td>0.0</td><td>1.0</td><td>0.0</td><td>102.40591086525328</td><td>3.7519855979077406</td><td>108.0</td><td>1.172646028567008</td><td>80237.10097094729</td><td>95294.62916559006</td><td>258187.84935359898</td><td>37458.84648810239</td><td>33031.274190361735</td><td>23318.47667056066</td><td>18601.981016694222</td><td>3931.0277695085024</td><td>480.6226519368891</td><td>7736.805411527419</td><td>1473.91586375984</td><td>1322.2216774409567</td><td>1837.2427137761733</td><td>2225.949153828636</td><td>243.49425296376506</td><td>227.25435918507605</td><td>292.6994742017652</td><td>116.90189627138588</td><td>118.51049431037464</td><td>104.28148618485599</td><td>205.8124696583211</td><td>77.06921947846055</td><td>81.18092536598768</td><td>144.94686492415684</td><td>116.64741868004292</td><td>25.92263362988561</td><td>190.09819059551666</td><td>75.78217161049909</td><td>19.838516445712205</td><td>23.942410955770555</td><td>8.952638767767777</td><td>-34.59712343279842</td><td>-29.349497055866717</td><td>-32.54197728196554</td><td>0.1544840941280075</td><td>0.30292872040878466</td><td>1.1784308376005461</td><td>0.06486792514891093</td><td>0.14194184972636392</td><td>0.19078709572052457</td><td>117008.18070467358</td><td>136969.21714476447</td><td>334657.8676447444</td><td>48509.39591304969</td><td>42532.738638599985</td><td>30008.133240245315</td><td>21634.873893364605</td><td>5155.2713782258315</td><td>649.3074883144247</td><td>10374.025765282704</td><td>1931.8612308655638</td><td>1728.982698669121</td><td>2304.190955493078</td><td>2790.286584311426</td><td>1263.9989978678273</td><td>1404.0840297122418</td><td>2415.8555473271495</td><td>376.41487139324494</td><td>332.58717412387443</td><td>247.5344974085343</td><td>255.65906182167345</td><td>108.12366076147457</td><td>109.804399926461</td><td>211.58081747634134</td><td>153.56303973396004</td><td>36.213970256179664</td><td>238.84388059947736</td><td>96.56226133022298</td><td>0.11181730343872534</td><td>0.00307291696332807</td><td>8.327149995471743</td><td>0.002635552230608134</td><td>7.515033800573445</td><td>0.009577313812835683</td><td>--</td><td>11435.88969641933</td><td>--</td><td>458.7514344332915</td><td>0.0</td><td>0.0</td><td>0.0</td><td>-1.7320236285469692</td><td>7.268271118833049</td><td>352.26275820248406</td><td>6.0</td><td>7.0</td><td>0.5323579077994065</td><td>1.83757377720395</td><td>5.979356185561125e+37</td><td>0.06047136377229556</td><td>11.808279551410747</td><td>179.1684841161353</td><td>0.6216400577400654</td><td>33.63856458581326</td><td>0.27810965908519836</td><td>181.7457966814243</td><td>3.8873877149248877</td><td>38.40763827034315</td><td>1.1274001126005384</td><td>1348.9413333172333</td><td>63.27995529462436</td><td>182.33834337688054</td><td>10.134732635231526</td><td>1</td><td>1</td><td>208890.79280235842</td><td>3.732266644121992e+37</td><td>109</td><td>639</td><td>2372.1</td><td>2766.39</td><td>139.49064555634192</td><td>-22.368334108350904</td><td>1.0</td><td>1</td><td>1.0</td><td>20.682115930069433</td><td>0.031070157444230688</td><td>21.006606319482316</td><td>0.0318491269856323</td><td>22.591041554068166</td><td>0.031730602712017324</td><td>22.391957531249705</td><td>0.022504707152295814</td><td>22.421767511472883</td><td>0.04275493870304286</td><td>0.0047297003617023554</td><td>0.00013548354286420448</td><td>0.004841695494872189</td><td>0.00014216885557938148</td><td>0.003789512800290351</td><td>0.0001108590525712488</td><td>0.004041447927933941</td><td>8.385323389252916e-05</td><td>0.002597365068044708</td><td>0.00010238321109017253</td><td>1.7976917801461703</td><td>1.0</td><td>0.0</td><td>6839.391240310768</td><td>1137.5313717418985</td><td>0.25</td><td>0.03999999999999998</td><td>1.9375307366187013</td><td>0.0</td><td>0.0</td><td>61.099999999124975</td><td>52.38999999985117</td></tr>\n",
       "<tr><td>525.0</td><td>525</td><td>2</td><td>0.9082657787190919</td><td>2.5100212955999748</td><td>1258269.375</td><td>0.7877265836561763</td><td>0.2647521610163454</td><td>163.5416598873131</td><td>0.4566752843246453</td><td>94.14130632386248</td><td>88.83088240177396</td><td>0.8938481934430023</td><td>1.0024104146394297</td><td>3.3809224970523086</td><td>1.1363162750821545</td><td>2.2586193860672314</td><td>1.1293096930336157</td><td>1.854954349197313</td><td>0.6234436957265517</td><td>1.2391990224619325</td><td>0.6195995112309662</td><td>9</td><td>3</td><td>3</td><td>52.955301008686426</td><td>59.38698050840564</td><td>200.29997244701192</td><td>67.32012306951304</td><td>133.8100477582625</td><td>66.90502387913125</td><td>109.89524467319912</td><td>36.93540895574086</td><td>73.41532681446999</td><td>36.707663407234996</td><td>139.4574180448829</td><td>-22.361737490837957</td><td>27.055351593302902</td><td>77.0</td><td>95.0</td><td>139.45762204107578</td><td>-22.361669613508283</td><td>0</td><td>NGC2835</td><td>669.6724484055566</td><td>323.943596023836</td><td>139.4574424098445</td><td>-22.361706435556645</td><td>669.9734848484849</td><td>323.7651515151515</td><td>0.0</td><td>1.0</td><td>0.0</td><td>62.777000183457616</td><td>5.739425308190128</td><td>264.0</td><td>1.8333991376950165</td><td>622592.5821342992</td><td>753078.7971618557</td><td>2074404.1948005464</td><td>380322.6180922507</td><td>310347.5167867264</td><td>217639.3531948876</td><td>159836.8053616865</td><td>30248.9120678037</td><td>3656.3909641762316</td><td>65905.49167082495</td><td>4790.684632450884</td><td>10174.379220947627</td><td>11990.081128878131</td><td>10742.242006671713</td><td>651.1343061222927</td><td>646.5991079829893</td><td>965.5845229427008</td><td>359.968100426281</td><td>356.57591611737513</td><td>309.7151534127081</td><td>413.74773314771744</td><td>186.2729461775434</td><td>190.42757926856385</td><td>280.2250905285139</td><td>222.86523252353007</td><td>62.6538762374438</td><td>355.61618754151084</td><td>156.5427240528025</td><td>18.134472239332926</td><td>21.414518844570228</td><td>1.0000000000004547</td><td>-25.047178102932087</td><td>-22.305238760249484</td><td>-20.342969972921765</td><td>0.05628406651780567</td><td>0.08838093252180093</td><td>2.4632911604692365</td><td>0.023206301788404386</td><td>0.040026049254076115</td><td>0.0586393424085712</td><td>1014992.377092553</td><td>1204911.2411215273</td><td>2903040.822975859</td><td>531620.5687339905</td><td>430619.3130889191</td><td>301749.692336308</td><td>194382.1880770376</td><td>42978.47307760387</td><td>5398.92135769232</td><td>96372.2300523536</td><td>6801.818649044738</td><td>14401.841529398647</td><td>16078.248930844622</td><td>14395.563390224486</td><td>3867.092049120306</td><td>4369.206753486618</td><td>7437.378990478412</td><td>1426.3233861891251</td><td>1167.2862217451936</td><td>854.7862181783184</td><td>578.3335627800395</td><td>287.83738478130334</td><td>281.6218718690217</td><td>493.2196523360467</td><td>316.92856009557613</td><td>96.29399201256345</td><td>478.17713042688564</td><td>212.14622003530982</td><td>0.14486124515080803</td><td>0.0010858776406679606</td><td>8.369028044719933</td><td>0.0009933582986913021</td><td>7.429950054841628</td><td>0.0026057209212854266</td><td>8692.20875041394</td><td>7806.883065103258</td><td>153.798286802512</td><td>117.28594305032956</td><td>0.0</td><td>0.0</td><td>0.0</td><td>-1.1819516964569614</td><td>7.805632505960514</td><td>265.00561700037457</td><td>14.0</td><td>6.0</td><td>0.3263467137122837</td><td>1.1264717863838705</td><td>5.1868839134013315e+38</td><td>-0.009214325608564167</td><td>11.808279551410747</td><td>209.58710851580724</td><td>0.23485982274765088</td><td>38.12392334004383</td><td>0.0966575495921447</td><td>211.291447951658</td><td>1.4265580605598727</td><td>41.2724861798207</td><td>0.36240617254530455</td><td>941.3868427798841</td><td>7.979049442510386</td><td>135.38655106680164</td><td>1.5434344966648348</td><td>1</td><td>1</td><td>1760894.704648694</td><td>3.1462030862171948e+38</td><td>226</td><td>1368</td><td>5157.37</td><td>3372.52</td><td>139.45749863386663</td><td>-22.361663880224217</td><td>2.0</td><td>2</td><td>1.0</td><td>20.99755971134044</td><td>0.04541707430053667</td><td>21.297729454338228</td><td>0.04444603033097962</td><td>23.018951461050815</td><td>0.051782877375649315</td><td>22.413101974572996</td><td>0.03360756019250722</td><td>22.54155860740676</td><td>0.05719562905502189</td><td>0.0035371714864895583</td><td>0.00014811011955723644</td><td>0.0037029531576912803</td><td>0.00015173670863547061</td><td>0.0025551677393509872</td><td>0.00012198742311384929</td><td>0.003963503172679445</td><td>0.00012280771707988547</td><td>0.002326036669638129</td><td>0.0001226560178434837</td><td>1.8418358582269212</td><td>1.0</td><td>1.0</td><td>6775.418371785766</td><td>2281.5770937772804</td><td>0.31</td><td>0.04999999999999999</td><td>9.552269183985572</td><td>0.0</td><td>0.0</td><td>87.36999999939076</td><td>95.52000000076134</td></tr>\n",
       "<tr><td>585.0</td><td>585</td><td>0</td><td>0.15170325184131622</td><td>0.5195853963999948</td><td>267134.3125</td><td>0.20552969455474343</td><td>0.16948153070428948</td><td>48.229058862909284</td><td>0.1866373146997218</td><td>67.4223336018128</td><td>63.00104208447138</td><td>0.40668067127765256</td><td>0.4157933931778699</td><td>0.8821334490289587</td><td>0.7274147297828104</td><td>0.8047740894058846</td><td>0.4023870447029423</td><td>0.4839854445865982</td><td>0.3990985057649892</td><td>0.4415419751757937</td><td>0.22077098758789684</td><td>9</td><td>3</td><td>3</td><td>24.093461865117057</td><td>24.633337578660385</td><td>52.261270611538166</td><td>43.09508734970369</td><td>47.67817898062093</td><td>23.839089490310464</td><td>28.673319574752316</td><td>23.644262705834564</td><td>26.15879114029344</td><td>13.07939557014672</td><td>139.4898198657106</td><td>-22.363198891119797</td><td>11.057174195661602</td><td>63.0</td><td>59.0</td><td>139.48987249996955</td><td>-22.36324291880621</td><td>1</td><td>NGC2835</td><td>130.7976816814319</td><td>298.10463179413546</td><td>139.48981444088244</td><td>-22.36314129282758</td><td>130.78472222222223</td><td>299.03472222222223</td><td>0.0</td><td>1.0</td><td>0.0</td><td>91.21612437095217</td><td>3.564809718057838</td><td>144.0</td><td>1.3540550005146152</td><td>148953.86516699416</td><td>184519.91493856383</td><td>461160.82320458646</td><td>71973.08415037229</td><td>68283.99012114783</td><td>48185.64677600238</td><td>32966.78609322717</td><td>8571.495034279751</td><td>920.4383200495672</td><td>14895.477663665713</td><td>1959.9069363040228</td><td>2883.0670264685577</td><td>2999.990348301386</td><td>3717.343502880335</td><td>310.5537491312796</td><td>304.90353874183677</td><td>382.6727982628169</td><td>155.73547024396134</td><td>159.6288978383422</td><td>141.09190410518326</td><td>208.89409012705673</td><td>96.6210098431937</td><td>109.72806148044053</td><td>163.85143607620103</td><td>139.61008504237572</td><td>32.498980216280664</td><td>277.24629786672597</td><td>93.42109425141483</td><td>19.061063295834774</td><td>24.123323448955144</td><td>1.0000000000004547</td><td>-4.036674810776511</td><td>0.43661907016961404</td><td>-0.3659077885661142</td><td>0.11127520259040266</td><td>0.19077937240436096</td><td>5.388724795540078</td><td>0.04499893469069664</td><td>0.0929928691284641</td><td>0.12631538108183585</td><td>191979.52398718055</td><td>235514.6745961151</td><td>549077.4084369428</td><td>85641.9253608523</td><td>80941.547683847</td><td>57094.720493071385</td><td>36491.97721015526</td><td>10286.195891665839</td><td>1126.8607240936376</td><td>18144.160603815675</td><td>2351.0981672725775</td><td>3453.075623848688</td><td>3493.6031959835386</td><td>4327.524519688189</td><td>1435.625594923074</td><td>1672.363104655285</td><td>2749.5527244243317</td><td>460.39377750755085</td><td>433.0699239074781</td><td>321.0853644829716</td><td>253.92197345263085</td><td>127.52494298789104</td><td>134.4911591861386</td><td>223.82727224572085</td><td>167.91301396829803</td><td>42.73114073361452</td><td>323.21497440648176</td><td>110.33714748978738</td><td>0.07521082858738042</td><td>0.0021285590122518414</td><td>8.322372604935111</td><td>0.0019380210299659922</td><td>7.427056549087824</td><td>0.0058219252433919805</td><td>9544.306838690298</td><td>9838.386960923615</td><td>444.28772458064543</td><td>286.19545272658337</td><td>0.0</td><td>0.0</td><td>0.0</td><td>-1.641929829458213</td><td>7.564267172684563</td><td>293.09814477564663</td><td>7.0</td><td>7.0</td><td>0.47418771746081917</td><td>1.636784017504489</td><td>9.810405539231213e+37</td><td>0.024192365084255485</td><td>11.808279551410747</td><td>168.85294596438962</td><td>0.37726048617323465</td><td>30.411096862638885</td><td>0.16249790788676122</td><td>173.16318515925246</td><td>2.3661112264072757</td><td>34.771626063270055</td><td>0.6023842158542498</td><td>1435.3138754346303</td><td>49.82396123735921</td><td>174.53595777423777</td><td>6.482210081950505</td><td>1</td><td>1</td><td>318061.31100389117</td><td>5.682824053277907e+37</td><td>203</td><td>1227</td><td>2441.37</td><td>3236.06</td><td>139.48982048403047</td><td>-22.36316522552009</td><td>-9999.0</td><td>2</td><td>0.5</td><td>21.29132642044967</td><td>0.05673935939380276</td><td>21.812392861237598</td><td>0.07134245211672009</td><td>23.349650760275956</td><td>0.07446709531255982</td><td>23.163057319552337</td><td>0.06054570320920678</td><td>23.3106158750452</td><td>0.09537910254602201</td><td>0.0026986678289418644</td><td>0.00014117029519093873</td><td>0.002305063296449403</td><td>0.00015161436481217602</td><td>0.001884255084664729</td><td>0.0001293640408026066</td><td>0.0019865388928567702</td><td>0.00011088935636783448</td><td>0.001145496192499804</td><td>0.00010072942260772794</td><td>1.4947330987416647</td><td>2.0</td><td>2.0</td><td>2269.0640579786295</td><td>1376.0811895509896</td><td>0.2</td><td>0.08000000000000002</td><td>1.082164092776613</td><td>0.0</td><td>0.0</td><td>67.37000000056469</td><td>66.06000000066467</td></tr>\n",
       "<tr><td>885.0</td><td>885</td><td>0</td><td>0.01827312684262942</td><td>0.08476619759999915</td><td>55272.9296875</td><td>0.0702766035824938</td><td>0.059704101789556124</td><td>56.73978787528172</td><td>0.06477500670562292</td><td>46.45701706933324</td><td>36.31529322525427</td><td>0.16426173842465092</td><td>0.16426173842465092</td><td>0.30162718257606336</td><td>0.2562500048807749</td><td>0.2789385937284191</td><td>0.13946929686420956</td><td>0.16548875481275022</td><td>0.14059241566461494</td><td>0.15304058523868258</td><td>0.07652029261934129</td><td>9</td><td>3</td><td>3</td><td>9.731551583699854</td><td>9.731551583699854</td><td>17.869654336036852</td><td>15.181320767310025</td><td>16.52548755167344</td><td>8.26274377583672</td><td>9.804245160362022</td><td>8.329282025374251</td><td>9.066763592868137</td><td>4.533381796434068</td><td>139.46588719280376</td><td>-22.367609626677744</td><td>3.837541993258696</td><td>47.0</td><td>37.0</td><td>139.46588073107299</td><td>-22.367602090885622</td><td>0</td><td>NGC2835</td><td>528.1558374774106</td><td>218.74040954811792</td><td>139.465943551947</td><td>-22.367551511666004</td><td>528.4181818181818</td><td>218.72727272727272</td><td>0.0</td><td>1.0</td><td>0.0</td><td>50.230900207902984</td><td>5.010209737802565</td><td>55.0</td><td>0.8368283871884006</td><td>21657.25960666695</td><td>45855.99138071024</td><td>78329.49470428996</td><td>38763.82691923784</td><td>24063.21757472212</td><td>26837.184572790786</td><td>6528.419818665392</td><td>13616.544926087858</td><td>481.8305621480228</td><td>2339.0116962833463</td><td>693.2261807399236</td><td>4579.99585064572</td><td>2886.720627751031</td><td>3265.0926020368256</td><td>144.26058924800327</td><td>176.4718085710152</td><td>192.06767811078237</td><td>137.28354786946795</td><td>125.45540065988664</td><td>127.58348952053919</td><td>144.01348717128568</td><td>97.02120254954608</td><td>81.18460264620971</td><td>102.93225925232423</td><td>82.68001939690531</td><td>32.63358711872923</td><td>124.91574250506434</td><td>84.78851466650899</td><td>57.62239722665455</td><td>86.02325997408916</td><td>47.01385057923399</td><td>-55.86875912940089</td><td>-43.84652908332014</td><td>-54.364235738612585</td><td>0.26451564593901794</td><td>0.3212921613666333</td><td>0.6611248207015507</td><td>0.20572338021904915</td><td>0.29064220524755163</td><td>0.3879029661395159</td><td>45909.10487086437</td><td>94443.42267932002</td><td>131311.34761290115</td><td>64866.33588349245</td><td>39812.59259043321</td><td>44349.37209823441</td><td>8819.48549556864</td><td>23364.754471887238</td><td>877.1643403487635</td><td>4194.938108642506</td><td>1188.1928417642323</td><td>7813.613903450057</td><td>4531.857221804783</td><td>5120.7324941377055</td><td>1086.7979685274527</td><td>2094.8624349533543</td><td>2076.3179852790195</td><td>1035.531929311454</td><td>640.6389142508898</td><td>705.7795372729951</td><td>210.43920967634682</td><td>416.18330346807807</td><td>148.646811039705</td><td>198.91853829602718</td><td>143.02991639747978</td><td>137.93051011863457</td><td>205.6116969525027</td><td>150.1232728927348</td><td>0.2226882377541311</td><td>0.0067330101733473445</td><td>--</td><td>--</td><td>--</td><td>--</td><td>--</td><td>--</td><td>--</td><td>--</td><td>1.0</td><td>2.0</td><td>3.0</td><td>-1.845261343664559</td><td>8.069105319129195</td><td>338.31948374779176</td><td>7.0</td><td>7.0</td><td>0.26112571740849844</td><td>0.9013443095959973</td><td>2.346149290047621e+37</td><td>--</td><td>11.808279551410747</td><td>52.033573946436285</td><td>0.20127741397483032</td><td>7.910465789310226</td><td>0.1736980776924463</td><td>52.77544701815696</td><td>0.9589583075637459</td><td>11.362347979173958</td><td>0.31771778338949697</td><td>--</td><td>--</td><td>--</td><td>--</td><td>0</td><td>0</td><td>92659.38598453964</td><td>1.6555518361315615e+37</td><td>121</td><td>691</td><td>4452.79</td><td>2832.91</td><td>139.46588323023786</td><td>-22.36760308146839</td><td>2.0</td><td>2</td><td>1.0</td><td>23.43255685892007</td><td>0.29905051874900096</td><td>23.274557139012142</td><td>0.18402103759345456</td><td>24.647618213052265</td><td>0.17493255935799476</td><td>23.248692239930154</td><td>0.04358864300820978</td><td>22.959518397580187</td><td>0.06505068470879975</td><td>0.00037554091183646256</td><td>0.0001035407435410009</td><td>0.0005995385930235078</td><td>0.00010171712637764739</td><td>0.0005701021971749241</td><td>9.194599730278064e-05</td><td>0.0018358749837196764</td><td>7.377783652672295e-05</td><td>0.0015828240518101575</td><td>9.492792241270283e-05</td><td>1.7313484289084524</td><td>3.0</td><td>1.0</td><td>8008.680084669604</td><td>4926.134618787976</td><td>0.79</td><td>0.14</td><td>10.043364162417959</td><td>0.0</td><td>0.0</td><td>46.789999999451084</td><td>36.910000000301125</td></tr>\n",
       "</table></div>"
      ],
      "text/plain": [
       "<Table length=29>\n",
       "region_ID hstcat_region_ID  _idx     area_ellipse    ... PHANGS_NO_COVERAGE_FLAG PHANGS_NON_DETECTION_FLAG     x_cluster          y_cluster     \n",
       "                                       arcsec2       ...                                                          pix                pix        \n",
       " float64       int64       int64       float64       ...         float64                  float64               float64            float64      \n",
       "--------- ---------------- ----- ------------------- ... ----------------------- ------------------------- ------------------ ------------------\n",
       "      0.0                0     0 0.12168902273029648 ...                     0.0                       0.0  63.54000000114826 58.040000000220516\n",
       "      7.0                7     1  0.1510680144560778 ...                     0.0                       0.0  73.58999999956978  75.10000000043124\n",
       "     13.0               13     0 0.34297080603524066 ...                     0.0                       0.0  92.69999999939165   94.2199999991617\n",
       "     15.0               15     0 0.04509308338138707 ...                     0.0                       0.0  41.41999999844302 38.190000000482996\n",
       "     36.0               36     0 0.07198029432004172 ...                     0.0                       0.0  68.97999999955914  60.67999999935273\n",
       "     38.0               38     0 0.03023872929397833 ...                     0.0                       0.0 49.439999998918054  43.16999999958489\n",
       "     44.0               44     1  0.7497009048093398 ...                     0.0                       0.0 126.26999999986094 117.36000000017793\n",
       "     47.0               47     0  0.3567890844390447 ...                     0.0                       0.0  98.55999999912774  84.71999999951873\n",
       "     52.0               52     1  0.1201027597036149 ...                     0.0                       0.0  64.69000000055428  68.84999999998308\n",
       "     61.0               61     0  0.8830853300565726 ...                     0.0                       0.0  97.38999999972793  94.45999999980086\n",
       "     67.0               67     0  0.0699795547856338 ...                     0.0                       0.0  52.88999999904115 52.920000000550885\n",
       "     74.0               74     0 0.20613530595497756 ...                     0.0                       0.0  69.96000000069398   69.0299999997012\n",
       "     78.0               78     0  0.5690407068198745 ...                     0.0                       0.0  95.25999999905207  83.00000000010459\n",
       "     90.0               90     2 0.22512085582720912 ...                     0.0                       0.0   84.4699999985321  79.88999999898613\n",
       "    104.0              104     1  0.9338162859602614 ...                     0.0                       0.0  93.49999999978274   98.7699999996604\n",
       "    124.0              124     1 0.39229810738240417 ...                     0.0                       0.0  86.05000000067776  78.21000000023162\n",
       "    125.0              125     1 0.13448409639306724 ...                     0.0                       0.0  53.92999999855806 50.320000000247546\n",
       "    144.0              144     3  1.9295032072315892 ...                     0.0                       0.0  158.0700000010951  149.4999999986676\n",
       "    186.0              186     0 0.21077401520428649 ...                     0.0                       0.0  72.89000000110343  79.95000000073765\n",
       "    187.0              187     0 0.21189726274705786 ...                     0.0                       0.0  64.74999999994839  70.86000000017088\n",
       "    240.0              240     0 0.14289339090429035 ...                     0.0                       0.0  68.84000000118635  58.14000000018882\n",
       "    241.0              241     0 0.03627220331240456 ...                     0.0                       0.0  66.73999999969388   55.6100000002898\n",
       "    259.0              259     1 0.13039225807225674 ...                     0.0                       0.0 101.57000000080194   84.4999999999718\n",
       "    329.0              329     0 0.09499643813247496 ...                     0.0                       0.0  45.64999999913516  42.24999999980798\n",
       "    345.0              345     1   1.833905171850758 ...                     0.0                       0.0 129.26000000150407   95.8999999993041\n",
       "    467.0              467     0  0.0958227288820133 ...                     0.0                       0.0 61.099999999124975  52.38999999985117\n",
       "    525.0              525     2  0.9082657787190919 ...                     0.0                       0.0  87.36999999939076  95.52000000076134\n",
       "    585.0              585     0 0.15170325184131622 ...                     0.0                       0.0  67.37000000056469  66.06000000066467\n",
       "    885.0              885     0 0.01827312684262942 ...                     0.0                       0.0 46.789999999451084 36.910000000301125"
      ]
     },
     "execution_count": 6,
     "metadata": {},
     "output_type": "execute_result"
    }
   ],
   "source": [
    "props_all_cluster = props_all_cluster[~props_all_cluster.mask['PHANGS_EBV_MINCHISQ']]\n",
    "props_all_cluster"
   ]
  },
  {
   "cell_type": "code",
   "execution_count": 7,
   "id": "1ad2f913",
   "metadata": {
    "execution": {
     "iopub.execute_input": "2024-03-17T18:12:06.601026Z",
     "iopub.status.busy": "2024-03-17T18:12:06.600906Z",
     "iopub.status.idle": "2024-03-17T18:12:06.603244Z",
     "shell.execute_reply": "2024-03-17T18:12:06.602958Z"
    }
   },
   "outputs": [],
   "source": [
    "# import matplotlib.pyplot as plt\n",
    "# import numpy as np\n",
    "\n",
    "# fig = plt.figure(figsize=(8,3))\n",
    "# ax1 = fig.add_subplot(121)\n",
    "# ax2 = fig.add_subplot(122)\n",
    "\n",
    "# ax1.hist(props_all_cluster['PHANGS_AGE_MINCHISQ'], alpha=0.3, fc='C0', bins=np.linspace(0,20,10))\n",
    "# ax1.hist(props_all_cluster['PHANGS_AGE_MINCHISQ'], fc='none', ec='C0', lw=1.5, bins=np.linspace(0,20,10))\n",
    "# ax1.set_ylabel('#')\n",
    "# ax1.set_xlabel('Cluster age, log(Myr)')\n",
    "# ax1.grid(alpha=0.3, linestyle=':')\n",
    "# ax1.set_xlim(0,20)\n",
    "\n",
    "# ax2.hist(np.log10(props_all_cluster['PHANGS_MASS_MINCHISQ']), alpha=0.3, fc='C1')\n",
    "# ax2.hist(np.log10(props_all_cluster['PHANGS_MASS_MINCHISQ']), fc='none', ec='C1', lw=1.5)\n",
    "# ax2.set_ylabel('#')\n",
    "# ax2.set_xlabel('Cluster mass, log(Msun)')\n",
    "# ax2.grid(alpha=0.3, linestyle=':')"
   ]
  }
 ],
 "metadata": {
  "kernelspec": {
   "display_name": "Python 3 (ipykernel)",
   "language": "python",
   "name": "python3"
  },
  "language_info": {
   "codemirror_mode": {
    "name": "ipython",
    "version": 3
   },
   "file_extension": ".py",
   "mimetype": "text/x-python",
   "name": "python",
   "nbconvert_exporter": "python",
   "pygments_lexer": "ipython3",
   "version": "3.9.13"
  },
  "widgets": {
   "application/vnd.jupyter.widget-state+json": {
    "state": {
     "02494a0a03a54cdf91068c1a2430da4b": {
      "model_module": "@jupyter-widgets/base",
      "model_module_version": "1.2.0",
      "model_name": "LayoutModel",
      "state": {
       "_model_module": "@jupyter-widgets/base",
       "_model_module_version": "1.2.0",
       "_model_name": "LayoutModel",
       "_view_count": null,
       "_view_module": "@jupyter-widgets/base",
       "_view_module_version": "1.2.0",
       "_view_name": "LayoutView",
       "align_content": null,
       "align_items": null,
       "align_self": null,
       "border": null,
       "bottom": null,
       "display": null,
       "flex": null,
       "flex_flow": null,
       "grid_area": null,
       "grid_auto_columns": null,
       "grid_auto_flow": null,
       "grid_auto_rows": null,
       "grid_column": null,
       "grid_gap": null,
       "grid_row": null,
       "grid_template_areas": null,
       "grid_template_columns": null,
       "grid_template_rows": null,
       "height": null,
       "justify_content": null,
       "justify_items": null,
       "left": null,
       "margin": null,
       "max_height": null,
       "max_width": null,
       "min_height": null,
       "min_width": null,
       "object_fit": null,
       "object_position": null,
       "order": null,
       "overflow": null,
       "overflow_x": null,
       "overflow_y": null,
       "padding": null,
       "right": null,
       "top": null,
       "visibility": null,
       "width": null
      }
     },
     "044cb9a27fc948dfa1767fabf806a639": {
      "model_module": "@jupyter-widgets/controls",
      "model_module_version": "1.5.0",
      "model_name": "FloatProgressModel",
      "state": {
       "_dom_classes": [],
       "_model_module": "@jupyter-widgets/controls",
       "_model_module_version": "1.5.0",
       "_model_name": "FloatProgressModel",
       "_view_count": null,
       "_view_module": "@jupyter-widgets/controls",
       "_view_module_version": "1.5.0",
       "_view_name": "ProgressView",
       "bar_style": "success",
       "description": "",
       "description_tooltip": null,
       "layout": "IPY_MODEL_20e579d17d024e32863f2ea284fc97c5",
       "max": 886.0,
       "min": 0.0,
       "orientation": "horizontal",
       "style": "IPY_MODEL_e9033173f8f040d7b62b9b8d186516c8",
       "value": 886.0
      }
     },
     "09e2f2dbbc95416a946d9d61ccee400c": {
      "model_module": "@jupyter-widgets/base",
      "model_module_version": "1.2.0",
      "model_name": "LayoutModel",
      "state": {
       "_model_module": "@jupyter-widgets/base",
       "_model_module_version": "1.2.0",
       "_model_name": "LayoutModel",
       "_view_count": null,
       "_view_module": "@jupyter-widgets/base",
       "_view_module_version": "1.2.0",
       "_view_name": "LayoutView",
       "align_content": null,
       "align_items": null,
       "align_self": null,
       "border": null,
       "bottom": null,
       "display": null,
       "flex": null,
       "flex_flow": null,
       "grid_area": null,
       "grid_auto_columns": null,
       "grid_auto_flow": null,
       "grid_auto_rows": null,
       "grid_column": null,
       "grid_gap": null,
       "grid_row": null,
       "grid_template_areas": null,
       "grid_template_columns": null,
       "grid_template_rows": null,
       "height": null,
       "justify_content": null,
       "justify_items": null,
       "left": null,
       "margin": null,
       "max_height": null,
       "max_width": null,
       "min_height": null,
       "min_width": null,
       "object_fit": null,
       "object_position": null,
       "order": null,
       "overflow": null,
       "overflow_x": null,
       "overflow_y": null,
       "padding": null,
       "right": null,
       "top": null,
       "visibility": null,
       "width": null
      }
     },
     "0ce69186d8764358b35754e53cd1ec58": {
      "model_module": "@jupyter-widgets/base",
      "model_module_version": "1.2.0",
      "model_name": "LayoutModel",
      "state": {
       "_model_module": "@jupyter-widgets/base",
       "_model_module_version": "1.2.0",
       "_model_name": "LayoutModel",
       "_view_count": null,
       "_view_module": "@jupyter-widgets/base",
       "_view_module_version": "1.2.0",
       "_view_name": "LayoutView",
       "align_content": null,
       "align_items": null,
       "align_self": null,
       "border": null,
       "bottom": null,
       "display": null,
       "flex": null,
       "flex_flow": null,
       "grid_area": null,
       "grid_auto_columns": null,
       "grid_auto_flow": null,
       "grid_auto_rows": null,
       "grid_column": null,
       "grid_gap": null,
       "grid_row": null,
       "grid_template_areas": null,
       "grid_template_columns": null,
       "grid_template_rows": null,
       "height": null,
       "justify_content": null,
       "justify_items": null,
       "left": null,
       "margin": null,
       "max_height": null,
       "max_width": null,
       "min_height": null,
       "min_width": null,
       "object_fit": null,
       "object_position": null,
       "order": null,
       "overflow": null,
       "overflow_x": null,
       "overflow_y": null,
       "padding": null,
       "right": null,
       "top": null,
       "visibility": null,
       "width": null
      }
     },
     "1b2f23d01fba49d6b79c512cee41bd5b": {
      "model_module": "@jupyter-widgets/controls",
      "model_module_version": "1.5.0",
      "model_name": "HTMLModel",
      "state": {
       "_dom_classes": [],
       "_model_module": "@jupyter-widgets/controls",
       "_model_module_version": "1.5.0",
       "_model_name": "HTMLModel",
       "_view_count": null,
       "_view_module": "@jupyter-widgets/controls",
       "_view_module_version": "1.5.0",
       "_view_name": "HTMLView",
       "description": "",
       "description_tooltip": null,
       "layout": "IPY_MODEL_6d8eb9ba8b094c68bf25b2e2cb3b0139",
       "placeholder": "​",
       "style": "IPY_MODEL_a7d431107ab24e05af4a322ead599e58",
       "value": "100%"
      }
     },
     "20e579d17d024e32863f2ea284fc97c5": {
      "model_module": "@jupyter-widgets/base",
      "model_module_version": "1.2.0",
      "model_name": "LayoutModel",
      "state": {
       "_model_module": "@jupyter-widgets/base",
       "_model_module_version": "1.2.0",
       "_model_name": "LayoutModel",
       "_view_count": null,
       "_view_module": "@jupyter-widgets/base",
       "_view_module_version": "1.2.0",
       "_view_name": "LayoutView",
       "align_content": null,
       "align_items": null,
       "align_self": null,
       "border": null,
       "bottom": null,
       "display": null,
       "flex": null,
       "flex_flow": null,
       "grid_area": null,
       "grid_auto_columns": null,
       "grid_auto_flow": null,
       "grid_auto_rows": null,
       "grid_column": null,
       "grid_gap": null,
       "grid_row": null,
       "grid_template_areas": null,
       "grid_template_columns": null,
       "grid_template_rows": null,
       "height": null,
       "justify_content": null,
       "justify_items": null,
       "left": null,
       "margin": null,
       "max_height": null,
       "max_width": null,
       "min_height": null,
       "min_width": null,
       "object_fit": null,
       "object_position": null,
       "order": null,
       "overflow": null,
       "overflow_x": null,
       "overflow_y": null,
       "padding": null,
       "right": null,
       "top": null,
       "visibility": null,
       "width": null
      }
     },
     "336e18fb435e431db4bb27dd619cbc28": {
      "model_module": "@jupyter-widgets/controls",
      "model_module_version": "1.5.0",
      "model_name": "ProgressStyleModel",
      "state": {
       "_model_module": "@jupyter-widgets/controls",
       "_model_module_version": "1.5.0",
       "_model_name": "ProgressStyleModel",
       "_view_count": null,
       "_view_module": "@jupyter-widgets/base",
       "_view_module_version": "1.2.0",
       "_view_name": "StyleView",
       "bar_color": null,
       "description_width": ""
      }
     },
     "35162a3bfd484e56a2d9056eea973a7f": {
      "model_module": "@jupyter-widgets/controls",
      "model_module_version": "1.5.0",
      "model_name": "FloatProgressModel",
      "state": {
       "_dom_classes": [],
       "_model_module": "@jupyter-widgets/controls",
       "_model_module_version": "1.5.0",
       "_model_name": "FloatProgressModel",
       "_view_count": null,
       "_view_module": "@jupyter-widgets/controls",
       "_view_module_version": "1.5.0",
       "_view_name": "ProgressView",
       "bar_style": "success",
       "description": "",
       "description_tooltip": null,
       "layout": "IPY_MODEL_02494a0a03a54cdf91068c1a2430da4b",
       "max": 1121.0,
       "min": 0.0,
       "orientation": "horizontal",
       "style": "IPY_MODEL_336e18fb435e431db4bb27dd619cbc28",
       "value": 1121.0
      }
     },
     "42afe41fc07b40b79d2d7e304e1ab8d7": {
      "model_module": "@jupyter-widgets/controls",
      "model_module_version": "1.5.0",
      "model_name": "DescriptionStyleModel",
      "state": {
       "_model_module": "@jupyter-widgets/controls",
       "_model_module_version": "1.5.0",
       "_model_name": "DescriptionStyleModel",
       "_view_count": null,
       "_view_module": "@jupyter-widgets/base",
       "_view_module_version": "1.2.0",
       "_view_name": "StyleView",
       "description_width": ""
      }
     },
     "6d8eb9ba8b094c68bf25b2e2cb3b0139": {
      "model_module": "@jupyter-widgets/base",
      "model_module_version": "1.2.0",
      "model_name": "LayoutModel",
      "state": {
       "_model_module": "@jupyter-widgets/base",
       "_model_module_version": "1.2.0",
       "_model_name": "LayoutModel",
       "_view_count": null,
       "_view_module": "@jupyter-widgets/base",
       "_view_module_version": "1.2.0",
       "_view_name": "LayoutView",
       "align_content": null,
       "align_items": null,
       "align_self": null,
       "border": null,
       "bottom": null,
       "display": null,
       "flex": null,
       "flex_flow": null,
       "grid_area": null,
       "grid_auto_columns": null,
       "grid_auto_flow": null,
       "grid_auto_rows": null,
       "grid_column": null,
       "grid_gap": null,
       "grid_row": null,
       "grid_template_areas": null,
       "grid_template_columns": null,
       "grid_template_rows": null,
       "height": null,
       "justify_content": null,
       "justify_items": null,
       "left": null,
       "margin": null,
       "max_height": null,
       "max_width": null,
       "min_height": null,
       "min_width": null,
       "object_fit": null,
       "object_position": null,
       "order": null,
       "overflow": null,
       "overflow_x": null,
       "overflow_y": null,
       "padding": null,
       "right": null,
       "top": null,
       "visibility": null,
       "width": null
      }
     },
     "84556a565f28470da7cfb73792252521": {
      "model_module": "@jupyter-widgets/controls",
      "model_module_version": "1.5.0",
      "model_name": "HTMLModel",
      "state": {
       "_dom_classes": [],
       "_model_module": "@jupyter-widgets/controls",
       "_model_module_version": "1.5.0",
       "_model_name": "HTMLModel",
       "_view_count": null,
       "_view_module": "@jupyter-widgets/controls",
       "_view_module_version": "1.5.0",
       "_view_name": "HTMLView",
       "description": "",
       "description_tooltip": null,
       "layout": "IPY_MODEL_0ce69186d8764358b35754e53cd1ec58",
       "placeholder": "​",
       "style": "IPY_MODEL_42afe41fc07b40b79d2d7e304e1ab8d7",
       "value": " 886/886 [00:00&lt;00:00, 74297.81it/s]"
      }
     },
     "8f8619c26e9649959bbdf8334fe30822": {
      "model_module": "@jupyter-widgets/base",
      "model_module_version": "1.2.0",
      "model_name": "LayoutModel",
      "state": {
       "_model_module": "@jupyter-widgets/base",
       "_model_module_version": "1.2.0",
       "_model_name": "LayoutModel",
       "_view_count": null,
       "_view_module": "@jupyter-widgets/base",
       "_view_module_version": "1.2.0",
       "_view_name": "LayoutView",
       "align_content": null,
       "align_items": null,
       "align_self": null,
       "border": null,
       "bottom": null,
       "display": null,
       "flex": null,
       "flex_flow": null,
       "grid_area": null,
       "grid_auto_columns": null,
       "grid_auto_flow": null,
       "grid_auto_rows": null,
       "grid_column": null,
       "grid_gap": null,
       "grid_row": null,
       "grid_template_areas": null,
       "grid_template_columns": null,
       "grid_template_rows": null,
       "height": null,
       "justify_content": null,
       "justify_items": null,
       "left": null,
       "margin": null,
       "max_height": null,
       "max_width": null,
       "min_height": null,
       "min_width": null,
       "object_fit": null,
       "object_position": null,
       "order": null,
       "overflow": null,
       "overflow_x": null,
       "overflow_y": null,
       "padding": null,
       "right": null,
       "top": null,
       "visibility": null,
       "width": null
      }
     },
     "9e0796b11ea549589480b455f5adcc35": {
      "model_module": "@jupyter-widgets/controls",
      "model_module_version": "1.5.0",
      "model_name": "DescriptionStyleModel",
      "state": {
       "_model_module": "@jupyter-widgets/controls",
       "_model_module_version": "1.5.0",
       "_model_name": "DescriptionStyleModel",
       "_view_count": null,
       "_view_module": "@jupyter-widgets/base",
       "_view_module_version": "1.2.0",
       "_view_name": "StyleView",
       "description_width": ""
      }
     },
     "a1452e0f4ae34ac0856c1c657652feb0": {
      "model_module": "@jupyter-widgets/controls",
      "model_module_version": "1.5.0",
      "model_name": "HTMLModel",
      "state": {
       "_dom_classes": [],
       "_model_module": "@jupyter-widgets/controls",
       "_model_module_version": "1.5.0",
       "_model_name": "HTMLModel",
       "_view_count": null,
       "_view_module": "@jupyter-widgets/controls",
       "_view_module_version": "1.5.0",
       "_view_name": "HTMLView",
       "description": "",
       "description_tooltip": null,
       "layout": "IPY_MODEL_8f8619c26e9649959bbdf8334fe30822",
       "placeholder": "​",
       "style": "IPY_MODEL_9e0796b11ea549589480b455f5adcc35",
       "value": "100%"
      }
     },
     "a7d431107ab24e05af4a322ead599e58": {
      "model_module": "@jupyter-widgets/controls",
      "model_module_version": "1.5.0",
      "model_name": "DescriptionStyleModel",
      "state": {
       "_model_module": "@jupyter-widgets/controls",
       "_model_module_version": "1.5.0",
       "_model_name": "DescriptionStyleModel",
       "_view_count": null,
       "_view_module": "@jupyter-widgets/base",
       "_view_module_version": "1.2.0",
       "_view_name": "StyleView",
       "description_width": ""
      }
     },
     "ab1c94a0a92d442c9bff61e1318bb868": {
      "model_module": "@jupyter-widgets/base",
      "model_module_version": "1.2.0",
      "model_name": "LayoutModel",
      "state": {
       "_model_module": "@jupyter-widgets/base",
       "_model_module_version": "1.2.0",
       "_model_name": "LayoutModel",
       "_view_count": null,
       "_view_module": "@jupyter-widgets/base",
       "_view_module_version": "1.2.0",
       "_view_name": "LayoutView",
       "align_content": null,
       "align_items": null,
       "align_self": null,
       "border": null,
       "bottom": null,
       "display": null,
       "flex": null,
       "flex_flow": null,
       "grid_area": null,
       "grid_auto_columns": null,
       "grid_auto_flow": null,
       "grid_auto_rows": null,
       "grid_column": null,
       "grid_gap": null,
       "grid_row": null,
       "grid_template_areas": null,
       "grid_template_columns": null,
       "grid_template_rows": null,
       "height": null,
       "justify_content": null,
       "justify_items": null,
       "left": null,
       "margin": null,
       "max_height": null,
       "max_width": null,
       "min_height": null,
       "min_width": null,
       "object_fit": null,
       "object_position": null,
       "order": null,
       "overflow": null,
       "overflow_x": null,
       "overflow_y": null,
       "padding": null,
       "right": null,
       "top": null,
       "visibility": null,
       "width": null
      }
     },
     "c0cc081f30f74536be12811c20d82f01": {
      "model_module": "@jupyter-widgets/base",
      "model_module_version": "1.2.0",
      "model_name": "LayoutModel",
      "state": {
       "_model_module": "@jupyter-widgets/base",
       "_model_module_version": "1.2.0",
       "_model_name": "LayoutModel",
       "_view_count": null,
       "_view_module": "@jupyter-widgets/base",
       "_view_module_version": "1.2.0",
       "_view_name": "LayoutView",
       "align_content": null,
       "align_items": null,
       "align_self": null,
       "border": null,
       "bottom": null,
       "display": null,
       "flex": null,
       "flex_flow": null,
       "grid_area": null,
       "grid_auto_columns": null,
       "grid_auto_flow": null,
       "grid_auto_rows": null,
       "grid_column": null,
       "grid_gap": null,
       "grid_row": null,
       "grid_template_areas": null,
       "grid_template_columns": null,
       "grid_template_rows": null,
       "height": null,
       "justify_content": null,
       "justify_items": null,
       "left": null,
       "margin": null,
       "max_height": null,
       "max_width": null,
       "min_height": null,
       "min_width": null,
       "object_fit": null,
       "object_position": null,
       "order": null,
       "overflow": null,
       "overflow_x": null,
       "overflow_y": null,
       "padding": null,
       "right": null,
       "top": null,
       "visibility": null,
       "width": null
      }
     },
     "c5537bf0ae6a43aaae1cc14eaf0234e9": {
      "model_module": "@jupyter-widgets/controls",
      "model_module_version": "1.5.0",
      "model_name": "HBoxModel",
      "state": {
       "_dom_classes": [],
       "_model_module": "@jupyter-widgets/controls",
       "_model_module_version": "1.5.0",
       "_model_name": "HBoxModel",
       "_view_count": null,
       "_view_module": "@jupyter-widgets/controls",
       "_view_module_version": "1.5.0",
       "_view_name": "HBoxView",
       "box_style": "",
       "children": [
        "IPY_MODEL_1b2f23d01fba49d6b79c512cee41bd5b",
        "IPY_MODEL_35162a3bfd484e56a2d9056eea973a7f",
        "IPY_MODEL_dc4f0e4e8eed4e71a776801a6257291d"
       ],
       "layout": "IPY_MODEL_09e2f2dbbc95416a946d9d61ccee400c"
      }
     },
     "d275261ecca84c679d2a5102cd495bf3": {
      "model_module": "@jupyter-widgets/controls",
      "model_module_version": "1.5.0",
      "model_name": "DescriptionStyleModel",
      "state": {
       "_model_module": "@jupyter-widgets/controls",
       "_model_module_version": "1.5.0",
       "_model_name": "DescriptionStyleModel",
       "_view_count": null,
       "_view_module": "@jupyter-widgets/base",
       "_view_module_version": "1.2.0",
       "_view_name": "StyleView",
       "description_width": ""
      }
     },
     "d71f93db71bb4c10905d3211e10d0290": {
      "model_module": "@jupyter-widgets/controls",
      "model_module_version": "1.5.0",
      "model_name": "HBoxModel",
      "state": {
       "_dom_classes": [],
       "_model_module": "@jupyter-widgets/controls",
       "_model_module_version": "1.5.0",
       "_model_name": "HBoxModel",
       "_view_count": null,
       "_view_module": "@jupyter-widgets/controls",
       "_view_module_version": "1.5.0",
       "_view_name": "HBoxView",
       "box_style": "",
       "children": [
        "IPY_MODEL_a1452e0f4ae34ac0856c1c657652feb0",
        "IPY_MODEL_044cb9a27fc948dfa1767fabf806a639",
        "IPY_MODEL_84556a565f28470da7cfb73792252521"
       ],
       "layout": "IPY_MODEL_ab1c94a0a92d442c9bff61e1318bb868"
      }
     },
     "dc4f0e4e8eed4e71a776801a6257291d": {
      "model_module": "@jupyter-widgets/controls",
      "model_module_version": "1.5.0",
      "model_name": "HTMLModel",
      "state": {
       "_dom_classes": [],
       "_model_module": "@jupyter-widgets/controls",
       "_model_module_version": "1.5.0",
       "_model_name": "HTMLModel",
       "_view_count": null,
       "_view_module": "@jupyter-widgets/controls",
       "_view_module_version": "1.5.0",
       "_view_name": "HTMLView",
       "description": "",
       "description_tooltip": null,
       "layout": "IPY_MODEL_c0cc081f30f74536be12811c20d82f01",
       "placeholder": "​",
       "style": "IPY_MODEL_d275261ecca84c679d2a5102cd495bf3",
       "value": " 1121/1121 [00:22&lt;00:00, 90.34it/s]"
      }
     },
     "e9033173f8f040d7b62b9b8d186516c8": {
      "model_module": "@jupyter-widgets/controls",
      "model_module_version": "1.5.0",
      "model_name": "ProgressStyleModel",
      "state": {
       "_model_module": "@jupyter-widgets/controls",
       "_model_module_version": "1.5.0",
       "_model_name": "ProgressStyleModel",
       "_view_count": null,
       "_view_module": "@jupyter-widgets/base",
       "_view_module_version": "1.2.0",
       "_view_name": "StyleView",
       "bar_color": null,
       "description_width": ""
      }
     }
    },
    "version_major": 2,
    "version_minor": 0
   }
  }
 },
 "nbformat": 4,
 "nbformat_minor": 5
}
