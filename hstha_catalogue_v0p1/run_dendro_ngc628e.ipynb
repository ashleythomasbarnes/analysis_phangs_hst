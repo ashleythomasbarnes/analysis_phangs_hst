{
 "cells": [
  {
   "cell_type": "code",
   "execution_count": 4,
   "id": "b94e1b6d-3658-4bb5-aa10-63ed3da2ca52",
   "metadata": {
    "tags": []
   },
   "outputs": [],
   "source": [
    "import warnings\n",
    "warnings.filterwarnings('ignore')\n",
    "from astropy.io import fits\n",
    "import os\n",
    "from astropy.table import join\n",
    "from glob import glob \n",
    "import sys\n",
    "sys.path.append('./')\n",
    "from modules import dendro_dendro, dendro_misc, dendro_props, dendro_mask"
   ]
  },
  {
   "cell_type": "code",
   "execution_count": 5,
   "id": "7ed3eb4d-73dc-43b4-94cf-5d00371ec33a",
   "metadata": {
    "tags": []
   },
   "outputs": [
    {
     "name": "stdout",
     "output_type": "stream",
     "text": [
      "/Users/abarnes/Dropbox/work/Smallprojects/galaxies/data_hstha/ngc628c/hst_contsub/ngc628c_hst_ha_sic.fits\n",
      "/Users/abarnes/Dropbox/work/Smallprojects/galaxies/data_hstha/ngc628c/muse/NGC0628_nebmask.fits\n",
      "/Users/abarnes/Dropbox/work/Smallprojects/galaxies/data_hstha/ngc628c/muse/NGC0628-0.92asec_MAPS.fits\n",
      "/Users/abarnes/Dropbox/work/Smallprojects/galaxies/data_hstha_nebulae_catalogue/ngc628c/cutouts\n",
      "/Users/abarnes/Dropbox/work/Smallprojects/galaxies/data_hstha_nebulae_catalogue/ngc628c/dendro\n",
      "/Users/abarnes/Dropbox/work/Smallprojects/galaxies/data_hstha_nebulae_catalogue/ngc628c/cutouts_hdus\n",
      "/Users/abarnes/Dropbox/work/Smallprojects/galaxies/data_hstha_nebulae_catalogue/ngc628c/cutouts/sample.reg\n",
      "/Users/abarnes/Dropbox/work/Smallprojects/galaxies/data_hstha_nebulae_catalogue/ngc628c/cutouts/sample.pickel\n",
      "/Users/abarnes/Dropbox/work/Smallprojects/galaxies/data_misc/sample_table/phangs_sample_table_v1p6.fits\n",
      "/Users/abarnes/Dropbox/work/Smallprojects/galaxies/data_misc/nebulae_catalogue/Nebulae_catalogue_v3.fits\n"
     ]
    }
   ],
   "source": [
    "# Define names and filenames...\n",
    "\n",
    "galaxy = 'ngc0628'\n",
    "galaxy_hst = 'ngc628e'\n",
    "root_dir = '/Users/abarnes/Dropbox/work/Smallprojects/galaxies'\n",
    "\n",
    "hstha_file = '%s/data_hstha/%s/hst_contsub/%s_hst_ha_sic.fits' %(root_dir, galaxy_hst, galaxy_hst)\n",
    "muscat_file = '%s/data_hstha/%s/muse/%s_nebmask.fits' %(root_dir, galaxy_hst, galaxy.upper())\n",
    "musha_file = '%s/data_hstha/%s/muse/%s-*_MAPS.fits' %(root_dir, galaxy_hst, galaxy.upper())\n",
    "musha_file = glob(musha_file)[0] #because of resolution in name\n",
    "\n",
    "cutout_dir = '%s/data_hstha_nebulae_catalogue/%s/cutouts' %(root_dir, galaxy_hst)\n",
    "dendro_dir = '%s/data_hstha_nebulae_catalogue/%s/dendro' %(root_dir, galaxy_hst)\n",
    "cutouts_hdus_dir = '%s/data_hstha_nebulae_catalogue/%s/cutouts_hdus' %(root_dir, galaxy_hst)\n",
    "\n",
    "rerun_all = True\n",
    "rerun_masking = True\n",
    "\n",
    "regions_file = '%s/sample.reg' %cutout_dir\n",
    "regions_pickel_file = '%s/sample.pickel' %cutout_dir\n",
    "sample_table_file = '%s/data_misc/sample_table/phangs_sample_table_v1p6.fits' %root_dir\n",
    "muscat_table_file = '%s/data_misc/nebulae_catalogue/Nebulae_catalogue_v3.fits' %root_dir\n",
    "\n",
    "print(hstha_file)\n",
    "print(muscat_file)\n",
    "print(musha_file)\n",
    "print(cutout_dir)\n",
    "print(dendro_dir)\n",
    "print(cutouts_hdus_dir)\n",
    "print(regions_file)\n",
    "print(regions_pickel_file)\n",
    "print(sample_table_file)\n",
    "print(muscat_table_file)"
   ]
  },
  {
   "cell_type": "code",
   "execution_count": null,
   "id": "97083a1f",
   "metadata": {},
   "outputs": [],
   "source": [
    "# Load regions, sample table and HDUs... \n",
    "\n",
    "hdus_cutouts = dendro_misc.load_pickle('%s/hdus_all.pickel' %cutout_dir)\n",
    "regions = dendro_misc.load_pickle(regions_pickel_file)\n",
    "\n",
    "sample_table = dendro_misc.get_galaxyprops(galaxy, sample_table_file)\n",
    "muscat_table = dendro_misc.get_museprops(galaxy, muscat_table_file)"
   ]
  },
  {
   "cell_type": "code",
   "execution_count": null,
   "id": "256f7f2b-4562-4202-bf6e-2a7f913eab3c",
   "metadata": {
    "tags": []
   },
   "outputs": [],
   "source": [
    "# Load cutout hdus with smoothed, masked, and non-masked data...\n",
    "\n",
    "hdus_file = '%s/hdus_all_withmasked.pickel' %cutout_dir\n",
    "muscat_regionIDs_file =  '%s/muscat_regionIDs.pickel' %cutout_dir\n",
    "\n",
    "if os.path.exists(hdus_file) & ~rerun_masking:\n",
    "    muscat_regionIDs = muscat_table['region_ID']\n",
    "    hdus = dendro_misc.load_pickle(hdus_file)\n",
    "else: \n",
    "    muscat_regionIDs = muscat_table['region_ID']\n",
    "    hdus = dendro_dendro.get_maskedhdus(hdus_cutouts, regions, muscat_regionIDs)\n",
    "    dendro_misc.save_pickle(hdus, hdus_file)"
   ]
  },
  {
   "cell_type": "code",
   "execution_count": null,
   "id": "8055005d",
   "metadata": {},
   "outputs": [],
   "source": [
    "# Get dendrogram for all... \n",
    "\n",
    "props_all, hdus = dendro_dendro.get_dedro_all(hdus, sample_table, muscat_regionIDs)"
   ]
  },
  {
   "cell_type": "code",
   "execution_count": null,
   "id": "27755504-57dd-47a7-ac3b-1e7024ae3de7",
   "metadata": {
    "tags": []
   },
   "outputs": [],
   "source": [
    "# Add additional infomation from MUSE and save... \n",
    "\n",
    "props_all_muscat_table = join(props_all, muscat_table, keys='region_ID')\n",
    "\n",
    "props_all_muscat_table['flux_corr'] = dendro_props.correct_ha_flux(props_all_muscat_table)\n",
    "props_all_muscat_table['ha_lum_hst'] = dendro_props.calculate_luminosity(props_all_muscat_table['flux_corr']*1e-20, sample_table['dist'].quantity[0])\n",
    "    \n",
    "props_all_muscat_table.rename_column('flux', 'HA6562_FLUX_HST')\n",
    "props_all_muscat_table.rename_column('flux_corr', 'HA6562_FLUX_HST_CORR')\n",
    "props_all_muscat_table.rename_column('ha_lum_hst', 'HA6562_LUMINOSITY_HST')\n",
    "\n",
    "dendro_misc.save_pickle(hdus, '%s/hdus_all_withmasked_withdendro.pickel' %dendro_dir)\n",
    "dendro_misc.save_pickle(props_all_muscat_table, '%s/props_all.pickel' %dendro_dir)        \n",
    "props_all_muscat_table.write('%s/props_all.fits' %dendro_dir, overwrite=True)"
   ]
  },
  {
   "cell_type": "code",
   "execution_count": null,
   "id": "b7220e89-f028-4631-bdf6-4cafcb0ca77a",
   "metadata": {},
   "outputs": [],
   "source": [
    "# Creat masks and region files... \n",
    "\n",
    "# Save HDUs as HDU lists for each region with RegionID\n",
    "dendro_dendro.get_hdulists(hdus, muscat_regionIDs, outputdir=cutouts_hdus_dir)\n",
    "\n",
    "# Save region file of masks \n",
    "dendro_mask.get_ds9regions_circ_decor(props_all, '%s/%s_trunk_regions.reg' %(dendro_dir, galaxy))\n",
    "dendro_mask.get_ds9regions_ellip_decor(props_all, '%s/%s_sigma_regions.reg' %(dendro_dir, galaxy))\n",
    "\n",
    "# Save the mask for whole mosaic\n",
    "hstha_hdu = fits.open(hstha_file)[0]\n",
    "dendro_mask.get_hdumask(hstha_hdu, hdus['indexmap_trunk_hdu'], '%s/%s_trunk_mask.fits'  %(dendro_dir, galaxy))\n",
    "# dendro_mask.get_hdumask(hstha_hdu, hdus['indexmap_trunk_close_hdu'], '%s/%s_trunk_close_mask.fits'  %(dendro_dir, galaxy))"
   ]
  },
  {
   "cell_type": "code",
   "execution_count": null,
   "id": "a42aa4a9",
   "metadata": {},
   "outputs": [],
   "source": [
    "# Save flags for when regions are touching\n",
    "hdu_mask = fits.open('%s/%s_trunk_mask.fits'  %(dendro_dir, galaxy))[0]\n",
    "props_all_muscat_table = dendro_dendro.get_flag_touch(props_all_muscat_table, hdu_mask)\n",
    "props_all_muscat_table.write('%s/props_all.fits' %dendro_dir, overwrite=True)"
   ]
  }
 ],
 "metadata": {
  "kernelspec": {
   "display_name": "Python 3 (ipykernel)",
   "language": "python",
   "name": "python3"
  },
  "language_info": {
   "codemirror_mode": {
    "name": "ipython",
    "version": 3
   },
   "file_extension": ".py",
   "mimetype": "text/x-python",
   "name": "python",
   "nbconvert_exporter": "python",
   "pygments_lexer": "ipython3",
   "version": "3.9.13"
  }
 },
 "nbformat": 4,
 "nbformat_minor": 5
}
