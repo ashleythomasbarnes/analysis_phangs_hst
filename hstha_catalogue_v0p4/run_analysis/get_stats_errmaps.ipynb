{
 "cells": [
  {
   "cell_type": "code",
   "execution_count": 67,
   "metadata": {},
   "outputs": [],
   "source": [
    "import numpy as np\n",
    "from astropy import units as u \n",
    "from astropy.io import fits\n",
    "import matplotlib.pyplot as plt\n",
    "import matplotlib as mpl\n",
    "from astropy.table import QTable\n",
    "from reproject import reproject_interp\n",
    "from astropy import stats\n",
    "import os \n",
    "from astropy.table import QTable, join, vstack, hstack, Column\n",
    "\n",
    "\n",
    "plt.style.use('paper.mplstyle')"
   ]
  },
  {
   "cell_type": "code",
   "execution_count": 68,
   "metadata": {},
   "outputs": [],
   "source": [
    "# Define names and filenames...\n",
    "root_dir = '/Users/abarnes/Dropbox/work/Smallprojects/galaxies/data_hstha/'"
   ]
  },
  {
   "cell_type": "code",
   "execution_count": 69,
   "metadata": {},
   "outputs": [
    {
     "name": "stdout",
     "output_type": "stream",
     "text": [
      "/Users/abarnes/Dropbox/work/Smallprojects/galaxies/data_hstha/ngc3627/hst_contsub/ngc3627_hst_ha_err.fits\n",
      "/Users/abarnes/Dropbox/work/Smallprojects/galaxies/data_hstha/ngc4254/hst_contsub/ngc4254_hst_ha_err.fits\n",
      "/Users/abarnes/Dropbox/work/Smallprojects/galaxies/data_hstha/ngc1512/hst_contsub/ngc1512_hst_ha_err.fits\n",
      "/Users/abarnes/Dropbox/work/Smallprojects/galaxies/data_hstha/ngc1433/hst_contsub/ngc1433_hst_ha_err.fits\n",
      "/Users/abarnes/Dropbox/work/Smallprojects/galaxies/data_hstha/ngc5068/hst_contsub/ngc5068_hst_ha_err.fits\n",
      "/Users/abarnes/Dropbox/work/Smallprojects/galaxies/data_hstha/ngc4321/hst_contsub/ngc4321_hst_ha_err.fits\n",
      "/Users/abarnes/Dropbox/work/Smallprojects/galaxies/data_hstha/ngc1365n/hst_contsub/ngc1365n_hst_ha_err.fits\n",
      "/Users/abarnes/Dropbox/work/Smallprojects/galaxies/data_hstha/ngc4303/hst_contsub/ngc4303_hst_ha_err.fits\n",
      "/Users/abarnes/Dropbox/work/Smallprojects/galaxies/data_hstha/ngc1087/hst_contsub/ngc1087_hst_ha_err.fits\n",
      "/Users/abarnes/Dropbox/work/Smallprojects/galaxies/data_hstha/ngc7496/hst_contsub/ngc7496_hst_ha_err.fits\n",
      "/Users/abarnes/Dropbox/work/Smallprojects/galaxies/data_hstha/ngc1385/hst_contsub/ngc1385_hst_ha_err.fits\n",
      "/Users/abarnes/Dropbox/work/Smallprojects/galaxies/data_hstha/ngc2835s/hst_contsub/ngc2835s_hst_ha_err.fits\n",
      "/Users/abarnes/Dropbox/work/Smallprojects/galaxies/data_hstha/ic5332/hst_contsub/ic5332_hst_ha_err.fits\n",
      "/Users/abarnes/Dropbox/work/Smallprojects/galaxies/data_hstha/ngc3351/hst_contsub/ngc3351_hst_ha_err.fits\n",
      "/Users/abarnes/Dropbox/work/Smallprojects/galaxies/data_hstha/ngc628c/hst_contsub/ngc628c_hst_ha_err.fits\n",
      "/Users/abarnes/Dropbox/work/Smallprojects/galaxies/data_hstha/ngc1672/hst_contsub/ngc1672_hst_ha_err.fits\n",
      "/Users/abarnes/Dropbox/work/Smallprojects/galaxies/data_hstha/ngc1300/hst_contsub/ngc1300_hst_ha_err.fits\n",
      "/Users/abarnes/Dropbox/work/Smallprojects/galaxies/data_hstha/ngc1566/hst_contsub/ngc1566_hst_ha_err.fits\n",
      "TOTAL NUMBER OF FILES: 18\n"
     ]
    }
   ],
   "source": [
    "def get_files(endswith, root_dir): \n",
    "\n",
    "    file_list = []\n",
    "    for root, dirs, files in os.walk(root_dir):\n",
    "        for file in files:\n",
    "            if file.endswith(endswith):\n",
    "                if '628e' in file: \n",
    "                    continue\n",
    "                else: \n",
    "                    print(os.path.join(root, file))\n",
    "                    file_list += [os.path.join(root, file)]\n",
    "\n",
    "    print('TOTAL NUMBER OF FILES:', len(file_list))\n",
    "    return(file_list)\n",
    "\n",
    "files_maps = get_files('_hst_ha_err.fits', root_dir)"
   ]
  },
  {
   "cell_type": "code",
   "execution_count": 70,
   "metadata": {},
   "outputs": [
    {
     "name": "stdout",
     "output_type": "stream",
     "text": [
      "Galaxy: ngc3627 STD: 920.2913 MAD_STD: 13.117781011970113 MEAN: 157.14175 MEDIAN: 147.61073 MEDIAN_ARCSEC2: 94.03488429851474\n",
      "Galaxy: ngc4254 STD: 973.1109 MAD_STD: 11.907216935516663 MEAN: 128.5448 MEDIAN: 118.87257 MEDIAN_ARCSEC2: 75.72733893693552\n",
      "Galaxy: ngc1512 STD: 1342.9034 MAD_STD: 9.554262332803042 MEAN: 140.4964 MEDIAN: 125.729454 MEDIAN_ARCSEC2: 80.09549455346998\n",
      "Galaxy: ngc1433 STD: 2059.9712 MAD_STD: 19.41782241846571 MEAN: 232.75398 MEDIAN: 206.28331 MEDIAN_ARCSEC2: 131.4120374861947\n",
      "Galaxy: ngc5068 STD: 937.4707 MAD_STD: 9.263956348779404 MEAN: 117.493645 MEDIAN: 111.91892 MEDIAN_ARCSEC2: 71.29754527191031\n",
      "Galaxy: ngc4321 STD: 1195.2693 MAD_STD: 12.984352241756092 MEAN: 167.12244 MEDIAN: 154.03271 MEDIAN_ARCSEC2: 98.12598461492553\n",
      "Galaxy: ngc1365n STD: 1703.2129 MAD_STD: 15.303859161058146 MEAN: 178.81073 MEDIAN: 158.79604 MEDIAN_ARCSEC2: 101.16044100340002\n",
      "Galaxy: ngc4303 STD: 1274.2167 MAD_STD: 10.00041619712583 MEAN: 130.88756 MEDIAN: 118.13002 MEDIAN_ARCSEC2: 75.25430263781382\n",
      "Galaxy: ngc1087 STD: 1853.5106 MAD_STD: 13.323534600491055 MEAN: 167.70982 MEDIAN: 145.26837 MEDIAN_ARCSEC2: 92.54269139743124\n",
      "Galaxy: ngc7496 STD: 4818.1167 MAD_STD: 13.022584629287747 MEAN: 165.26704 MEDIAN: 148.77121 MEDIAN_ARCSEC2: 94.77416177870222\n",
      "Galaxy: ngc1385 STD: 1576.6577 MAD_STD: 14.363319805064945 MEAN: 176.89937 MEDIAN: 159.90714 MEDIAN_ARCSEC2: 101.86826276289422\n",
      "Galaxy: ngc2835s STD: 748.2089 MAD_STD: 7.16626514530449 MEAN: 109.02384 MEDIAN: 102.050354 MEDIAN_ARCSEC2: 65.01080940560547\n",
      "Galaxy: ic5332 STD: 1404.158 MAD_STD: 9.140051741376523 MEAN: 147.56943 MEDIAN: 133.87311 MEDIAN_ARCSEC2: 85.2833798357043\n",
      "Galaxy: ngc3351 STD: 1299.7697 MAD_STD: 10.504800928612214 MEAN: 145.32433 MEDIAN: 130.63484 MEDIAN_ARCSEC2: 83.22045418283287\n",
      "Galaxy: ngc628c STD: 349.03113 MAD_STD: 7.314579661669888 MEAN: 95.732895 MEDIAN: 89.04512 MEDIAN_ARCSEC2: 56.72587221159494\n",
      "Galaxy: ngc1672 STD: 389.52634 MAD_STD: 15.600143197392576 MEAN: 104.01312 MEDIAN: 101.458374 MEDIAN_ARCSEC2: 64.63369069731844\n",
      "Galaxy: ngc1300 STD: 216.42212 MAD_STD: 4.625932253935362 MEAN: 62.729046 MEDIAN: 59.69546 MEDIAN_ARCSEC2: 38.02877798015994\n",
      "Galaxy: ngc1566 STD: 1304.1506 MAD_STD: 9.886578697682468 MEAN: 134.14282 MEDIAN: 119.60688 MEDIAN_ARCSEC2: 76.19513099584896\n"
     ]
    }
   ],
   "source": [
    "output_stats = []\n",
    "\n",
    "for file_maps in files_maps: \n",
    "\n",
    "    # Loading files...\n",
    "    hstha_hdu = fits.open(file_maps)[0]\n",
    "    gal = file_maps.split(root_dir)[-1].split('/')[0]\n",
    "\n",
    "    # Get RMS for whole map... \n",
    "    std = np.nanstd(hstha_hdu.data)\n",
    "    mad_std = stats.mad_std(hstha_hdu.data, ignore_nan=True)\n",
    "    mean = np.nanmean(hstha_hdu.data)\n",
    "    median = np.nanmedian(hstha_hdu.data)\n",
    "\n",
    "    pix_scale = (np.absolute(hstha_hdu.header['CD1_1'])*u.deg).to('arcsec')\n",
    "    pix_area = pix_scale**2\n",
    "    median_arcsec2 = (median/pix_area.value)/1e3 # erg/s/cm2/arcsec2 10-17\n",
    "\n",
    "    output_stats += [[std, mean, median, median_arcsec2]]\n",
    "    print(\"Galaxy:\", gal, \"STD:\", std, \"MAD_STD:\", mad_std, \"MEAN:\", mean, \"MEDIAN:\", median, \"MEDIAN_ARCSEC2:\", median_arcsec2)"
   ]
  },
  {
   "cell_type": "code",
   "execution_count": 71,
   "metadata": {},
   "outputs": [
    {
     "data": {
      "text/html": [
       "<div><i>QTable length=19</i>\n",
       "<table id=\"table140492556498832\" class=\"table-striped table-bordered table-condensed\">\n",
       "<thead><tr><th>gal_name</th><th>filter</th></tr></thead>\n",
       "<thead><tr><th>str10</th><th>str10</th></tr></thead>\n",
       "<tr><td>IC~5332</td><td>F658N WFC3</td></tr>\n",
       "<tr><td>NGC~0628</td><td>F658N ACS</td></tr>\n",
       "<tr><td>NGC~1087</td><td>F657N WFC3</td></tr>\n",
       "<tr><td>NGC~1300</td><td>F658N ACS</td></tr>\n",
       "<tr><td>NGC~1300</td><td>F658N ACS</td></tr>\n",
       "<tr><td>NGC~1365</td><td>F657N WFC3</td></tr>\n",
       "<tr><td>NGC~1385</td><td>F657N WFC3</td></tr>\n",
       "<tr><td>NGC~1433</td><td>F657N WFC3</td></tr>\n",
       "<tr><td>NGC~1512</td><td>F658N WFC3</td></tr>\n",
       "<tr><td>NGC~1566</td><td>F658N WFC3</td></tr>\n",
       "<tr><td>NGC~1672</td><td>F658N ACS</td></tr>\n",
       "<tr><td>NGC~2835</td><td>F658N WFC3</td></tr>\n",
       "<tr><td>NGC~3351</td><td>F658N WFC3</td></tr>\n",
       "<tr><td>NGC~3627</td><td>F658N WFC3</td></tr>\n",
       "<tr><td>NGC~4254</td><td>F657N WFC3</td></tr>\n",
       "<tr><td>NGC~4303</td><td>F658N WFC3</td></tr>\n",
       "<tr><td>NGC~4321</td><td>F657N WFC3</td></tr>\n",
       "<tr><td>NGC~5068</td><td>F658N WFC3</td></tr>\n",
       "<tr><td>NGC~7496</td><td>F657N WFC3</td></tr>\n",
       "</table></div>"
      ],
      "text/plain": [
       "<QTable length=19>\n",
       "gal_name   filter  \n",
       " str10     str10   \n",
       "-------- ----------\n",
       " IC~5332 F658N WFC3\n",
       "NGC~0628  F658N ACS\n",
       "NGC~1087 F657N WFC3\n",
       "NGC~1300  F658N ACS\n",
       "NGC~1300  F658N ACS\n",
       "NGC~1365 F657N WFC3\n",
       "NGC~1385 F657N WFC3\n",
       "NGC~1433 F657N WFC3\n",
       "NGC~1512 F658N WFC3\n",
       "NGC~1566 F658N WFC3\n",
       "NGC~1672  F658N ACS\n",
       "NGC~2835 F658N WFC3\n",
       "NGC~3351 F658N WFC3\n",
       "NGC~3627 F658N WFC3\n",
       "NGC~4254 F657N WFC3\n",
       "NGC~4303 F658N WFC3\n",
       "NGC~4321 F657N WFC3\n",
       "NGC~5068 F658N WFC3\n",
       "NGC~7496 F657N WFC3"
      ]
     },
     "execution_count": 71,
     "metadata": {},
     "output_type": "execute_result"
    }
   ],
   "source": [
    "filters = [\n",
    "            ['IC~5332', 'F658N WFC3'],\n",
    "            ['NGC~0628', 'F658N ACS'],\n",
    "            ['NGC~1087', 'F657N WFC3'],\n",
    "            ['NGC~1300', 'F658N ACS'],\n",
    "            ['NGC~1300', 'F658N ACS'],\n",
    "            ['NGC~1365', 'F657N WFC3'],\n",
    "            ['NGC~1385', 'F657N WFC3'],\n",
    "            ['NGC~1433', 'F657N WFC3'],\n",
    "            ['NGC~1512', 'F658N WFC3'],\n",
    "            ['NGC~1566', 'F658N WFC3'],\n",
    "            ['NGC~1672', 'F658N ACS'],\n",
    "            ['NGC~2835', 'F658N WFC3'],\n",
    "            ['NGC~3351', 'F658N WFC3'],\n",
    "            ['NGC~3627', 'F658N WFC3'],\n",
    "            ['NGC~4254', 'F657N WFC3'],\n",
    "            ['NGC~4303', 'F658N WFC3'],\n",
    "            ['NGC~4321', 'F657N WFC3'],\n",
    "            ['NGC~5068', 'F658N WFC3'],\n",
    "            ['NGC~7496', 'F657N WFC3'],\n",
    "            ]\n",
    "\n",
    "filters = np.array(filters)\n",
    "\n",
    "table_filters = QTable(filters, names=('gal_name', 'filter'))\n",
    "table_filters"
   ]
  },
  {
   "cell_type": "code",
   "execution_count": 72,
   "metadata": {
    "vscode": {
     "languageId": "ruby"
    }
   },
   "outputs": [
    {
     "data": {
      "text/html": [
       "<div><i>QTable length=18</i>\n",
       "<table id=\"table140491212689168\" class=\"table-striped table-bordered table-condensed\">\n",
       "<thead><tr><th>gal_name</th><th>std</th><th>mean</th><th>median</th><th>median_arcsec2</th></tr></thead>\n",
       "<thead><tr><th>str8</th><th>float64</th><th>float64</th><th>float64</th><th>float64</th></tr></thead>\n",
       "<tr><td>IC~5332</td><td>1404.157958984375</td><td>147.56942749023438</td><td>133.87310791015625</td><td>85.2833798357043</td></tr>\n",
       "<tr><td>NGC~0628</td><td>349.0311279296875</td><td>95.73289489746094</td><td>89.04512023925781</td><td>56.72587221159494</td></tr>\n",
       "<tr><td>NGC~1087</td><td>1853.5106201171875</td><td>167.70982360839844</td><td>145.26837158203125</td><td>92.54269139743124</td></tr>\n",
       "<tr><td>NGC~1300</td><td>216.422119140625</td><td>62.72904586791992</td><td>59.69546127319336</td><td>38.02877798015994</td></tr>\n",
       "<tr><td>NGC~1365</td><td>1703.212890625</td><td>178.81072998046875</td><td>158.79603576660156</td><td>101.16044100340002</td></tr>\n",
       "<tr><td>NGC~1385</td><td>1576.65771484375</td><td>176.8993682861328</td><td>159.90713500976562</td><td>101.86826276289422</td></tr>\n",
       "<tr><td>NGC~1433</td><td>2059.97119140625</td><td>232.7539825439453</td><td>206.28330993652344</td><td>131.4120374861947</td></tr>\n",
       "<tr><td>NGC~1512</td><td>1342.9034423828125</td><td>140.49639892578125</td><td>125.72945404052734</td><td>80.09549455346998</td></tr>\n",
       "<tr><td>NGC~1566</td><td>1304.150634765625</td><td>134.142822265625</td><td>119.60688018798828</td><td>76.19513099584896</td></tr>\n",
       "<tr><td>NGC~1672</td><td>389.5263366699219</td><td>104.01312255859375</td><td>101.4583740234375</td><td>64.63369069731844</td></tr>\n",
       "<tr><td>NGC~2835</td><td>748.2089233398438</td><td>109.02384185791016</td><td>102.05035400390625</td><td>65.01080940560547</td></tr>\n",
       "<tr><td>NGC~3351</td><td>1299.7696533203125</td><td>145.32432556152344</td><td>130.6348419189453</td><td>83.22045418283287</td></tr>\n",
       "<tr><td>NGC~3627</td><td>920.2913208007812</td><td>157.14175415039062</td><td>147.61073303222656</td><td>94.03488429851474</td></tr>\n",
       "<tr><td>NGC~4254</td><td>973.1109008789062</td><td>128.5447998046875</td><td>118.87256622314453</td><td>75.72733893693552</td></tr>\n",
       "<tr><td>NGC~4303</td><td>1274.2166748046875</td><td>130.88755798339844</td><td>118.13002014160156</td><td>75.25430263781382</td></tr>\n",
       "<tr><td>NGC~4321</td><td>1195.269287109375</td><td>167.1224365234375</td><td>154.03271484375</td><td>98.12598461492553</td></tr>\n",
       "<tr><td>NGC~5068</td><td>937.470703125</td><td>117.49364471435547</td><td>111.9189224243164</td><td>71.29754527191031</td></tr>\n",
       "<tr><td>NGC~7496</td><td>4818.11669921875</td><td>165.2670440673828</td><td>148.77120971679688</td><td>94.77416177870222</td></tr>\n",
       "</table></div>"
      ],
      "text/plain": [
       "<QTable length=18>\n",
       "gal_name        std         ...       median         median_arcsec2  \n",
       "  str8        float64       ...      float64            float64      \n",
       "-------- ------------------ ... ------------------ ------------------\n",
       " IC~5332  1404.157958984375 ... 133.87310791015625   85.2833798357043\n",
       "NGC~0628  349.0311279296875 ...  89.04512023925781  56.72587221159494\n",
       "NGC~1087 1853.5106201171875 ... 145.26837158203125  92.54269139743124\n",
       "NGC~1300   216.422119140625 ...  59.69546127319336  38.02877798015994\n",
       "NGC~1365     1703.212890625 ... 158.79603576660156 101.16044100340002\n",
       "NGC~1385   1576.65771484375 ... 159.90713500976562 101.86826276289422\n",
       "NGC~1433   2059.97119140625 ... 206.28330993652344  131.4120374861947\n",
       "NGC~1512 1342.9034423828125 ... 125.72945404052734  80.09549455346998\n",
       "NGC~1566  1304.150634765625 ... 119.60688018798828  76.19513099584896\n",
       "NGC~1672  389.5263366699219 ...  101.4583740234375  64.63369069731844\n",
       "NGC~2835  748.2089233398438 ... 102.05035400390625  65.01080940560547\n",
       "NGC~3351 1299.7696533203125 ...  130.6348419189453  83.22045418283287\n",
       "NGC~3627  920.2913208007812 ... 147.61073303222656  94.03488429851474\n",
       "NGC~4254  973.1109008789062 ... 118.87256622314453  75.72733893693552\n",
       "NGC~4303 1274.2166748046875 ... 118.13002014160156  75.25430263781382\n",
       "NGC~4321  1195.269287109375 ...    154.03271484375  98.12598461492553\n",
       "NGC~5068      937.470703125 ...  111.9189224243164  71.29754527191031\n",
       "NGC~7496   4818.11669921875 ... 148.77120971679688  94.77416177870222"
      ]
     },
     "execution_count": 72,
     "metadata": {},
     "output_type": "execute_result"
    }
   ],
   "source": [
    "# Get into a astropy table the output of the stats of the maps to .tex\n",
    "gals = []\n",
    "for file_maps in files_maps:\n",
    "    gal = file_maps.split(root_dir)[-1].split('/')[0]\n",
    "    gals += [gal]\n",
    "\n",
    "output_stats = np.array([output_stats][0], dtype=np.float64)\n",
    "gals = np.array(gals)\n",
    "\n",
    "for i, gal in enumerate(gals):\n",
    "    gal = gal.upper()\n",
    "    if 'NGC' in gal:\n",
    "        gal_split = gal.split('NGC')\n",
    "        gal = 'NGC~' + gal_split[1]\n",
    "    if 'IC' in gal:\n",
    "        gal_split = gal.split('IC')\n",
    "        gal = 'IC~' + gal_split[1]\n",
    "    if '628C' in gal:\n",
    "        gal_split = gal.split('628C')\n",
    "        gal = gal_split[0] + '0628'\n",
    "    gals[i] = gal\n",
    "\n",
    "table1 = Column(gals, name='gal_name')\n",
    "table2 = QTable(output_stats, names=('std', 'mean', 'median', 'median_arcsec2'))\n",
    "\n",
    "table = hstack([table1, table2])\n",
    "table.sort('gal_name')\n",
    "table"
   ]
  },
  {
   "cell_type": "code",
   "execution_count": 73,
   "metadata": {
    "vscode": {
     "languageId": "ruby"
    }
   },
   "outputs": [
    {
     "data": {
      "text/html": [
       "<div><i>QTable length=19</i>\n",
       "<table id=\"table140492556440960\" class=\"table-striped table-bordered table-condensed\">\n",
       "<thead><tr><th>gal_name</th><th>filter</th><th>std</th><th>mean</th><th>median</th><th>median_arcsec2</th></tr></thead>\n",
       "<thead><tr><th>str10</th><th>str10</th><th>float64</th><th>float64</th><th>float64</th><th>float64</th></tr></thead>\n",
       "<tr><td>IC~5332</td><td>F658N WFC3</td><td>1404.157958984375</td><td>147.56942749023438</td><td>133.87310791015625</td><td>85.2833798357043</td></tr>\n",
       "<tr><td>NGC~0628</td><td>F658N ACS</td><td>349.0311279296875</td><td>95.73289489746094</td><td>89.04512023925781</td><td>56.72587221159494</td></tr>\n",
       "<tr><td>NGC~1087</td><td>F657N WFC3</td><td>1853.5106201171875</td><td>167.70982360839844</td><td>145.26837158203125</td><td>92.54269139743124</td></tr>\n",
       "<tr><td>NGC~1300</td><td>F658N ACS</td><td>216.422119140625</td><td>62.72904586791992</td><td>59.69546127319336</td><td>38.02877798015994</td></tr>\n",
       "<tr><td>NGC~1300</td><td>F658N ACS</td><td>216.422119140625</td><td>62.72904586791992</td><td>59.69546127319336</td><td>38.02877798015994</td></tr>\n",
       "<tr><td>NGC~1365</td><td>F657N WFC3</td><td>1703.212890625</td><td>178.81072998046875</td><td>158.79603576660156</td><td>101.16044100340002</td></tr>\n",
       "<tr><td>NGC~1385</td><td>F657N WFC3</td><td>1576.65771484375</td><td>176.8993682861328</td><td>159.90713500976562</td><td>101.86826276289422</td></tr>\n",
       "<tr><td>NGC~1433</td><td>F657N WFC3</td><td>2059.97119140625</td><td>232.7539825439453</td><td>206.28330993652344</td><td>131.4120374861947</td></tr>\n",
       "<tr><td>NGC~1512</td><td>F658N WFC3</td><td>1342.9034423828125</td><td>140.49639892578125</td><td>125.72945404052734</td><td>80.09549455346998</td></tr>\n",
       "<tr><td>NGC~1566</td><td>F658N WFC3</td><td>1304.150634765625</td><td>134.142822265625</td><td>119.60688018798828</td><td>76.19513099584896</td></tr>\n",
       "<tr><td>NGC~1672</td><td>F658N ACS</td><td>389.5263366699219</td><td>104.01312255859375</td><td>101.4583740234375</td><td>64.63369069731844</td></tr>\n",
       "<tr><td>NGC~2835</td><td>F658N WFC3</td><td>748.2089233398438</td><td>109.02384185791016</td><td>102.05035400390625</td><td>65.01080940560547</td></tr>\n",
       "<tr><td>NGC~3351</td><td>F658N WFC3</td><td>1299.7696533203125</td><td>145.32432556152344</td><td>130.6348419189453</td><td>83.22045418283287</td></tr>\n",
       "<tr><td>NGC~3627</td><td>F658N WFC3</td><td>920.2913208007812</td><td>157.14175415039062</td><td>147.61073303222656</td><td>94.03488429851474</td></tr>\n",
       "<tr><td>NGC~4254</td><td>F657N WFC3</td><td>973.1109008789062</td><td>128.5447998046875</td><td>118.87256622314453</td><td>75.72733893693552</td></tr>\n",
       "<tr><td>NGC~4303</td><td>F658N WFC3</td><td>1274.2166748046875</td><td>130.88755798339844</td><td>118.13002014160156</td><td>75.25430263781382</td></tr>\n",
       "<tr><td>NGC~4321</td><td>F657N WFC3</td><td>1195.269287109375</td><td>167.1224365234375</td><td>154.03271484375</td><td>98.12598461492553</td></tr>\n",
       "<tr><td>NGC~5068</td><td>F658N WFC3</td><td>937.470703125</td><td>117.49364471435547</td><td>111.9189224243164</td><td>71.29754527191031</td></tr>\n",
       "<tr><td>NGC~7496</td><td>F657N WFC3</td><td>4818.11669921875</td><td>165.2670440673828</td><td>148.77120971679688</td><td>94.77416177870222</td></tr>\n",
       "</table></div>"
      ],
      "text/plain": [
       "<QTable length=19>\n",
       "gal_name   filter          std         ...       median         median_arcsec2  \n",
       " str10     str10         float64       ...      float64            float64      \n",
       "-------- ---------- ------------------ ... ------------------ ------------------\n",
       " IC~5332 F658N WFC3  1404.157958984375 ... 133.87310791015625   85.2833798357043\n",
       "NGC~0628  F658N ACS  349.0311279296875 ...  89.04512023925781  56.72587221159494\n",
       "NGC~1087 F657N WFC3 1853.5106201171875 ... 145.26837158203125  92.54269139743124\n",
       "NGC~1300  F658N ACS   216.422119140625 ...  59.69546127319336  38.02877798015994\n",
       "NGC~1300  F658N ACS   216.422119140625 ...  59.69546127319336  38.02877798015994\n",
       "NGC~1365 F657N WFC3     1703.212890625 ... 158.79603576660156 101.16044100340002\n",
       "NGC~1385 F657N WFC3   1576.65771484375 ... 159.90713500976562 101.86826276289422\n",
       "NGC~1433 F657N WFC3   2059.97119140625 ... 206.28330993652344  131.4120374861947\n",
       "NGC~1512 F658N WFC3 1342.9034423828125 ... 125.72945404052734  80.09549455346998\n",
       "NGC~1566 F658N WFC3  1304.150634765625 ... 119.60688018798828  76.19513099584896\n",
       "NGC~1672  F658N ACS  389.5263366699219 ...  101.4583740234375  64.63369069731844\n",
       "NGC~2835 F658N WFC3  748.2089233398438 ... 102.05035400390625  65.01080940560547\n",
       "NGC~3351 F658N WFC3 1299.7696533203125 ...  130.6348419189453  83.22045418283287\n",
       "NGC~3627 F658N WFC3  920.2913208007812 ... 147.61073303222656  94.03488429851474\n",
       "NGC~4254 F657N WFC3  973.1109008789062 ... 118.87256622314453  75.72733893693552\n",
       "NGC~4303 F658N WFC3 1274.2166748046875 ... 118.13002014160156  75.25430263781382\n",
       "NGC~4321 F657N WFC3  1195.269287109375 ...    154.03271484375  98.12598461492553\n",
       "NGC~5068 F658N WFC3      937.470703125 ...  111.9189224243164  71.29754527191031\n",
       "NGC~7496 F657N WFC3   4818.11669921875 ... 148.77120971679688  94.77416177870222"
      ]
     },
     "execution_count": 73,
     "metadata": {},
     "output_type": "execute_result"
    }
   ],
   "source": [
    "table = join(table_filters, table, keys='gal_name')\n",
    "table"
   ]
  },
  {
   "cell_type": "code",
   "execution_count": 79,
   "metadata": {
    "vscode": {
     "languageId": "ruby"
    }
   },
   "outputs": [],
   "source": [
    "table_out = table['gal_name', 'filter', 'median_arcsec2']\n",
    "\n",
    "formats={\n",
    "        'gal_name': '%s',\n",
    "        'filter': '%s',\n",
    "        'median_arcsec2': '%0.1f'}\n",
    "\n",
    "table_out.write('./tabs/galmap_errprops.tex', formats=formats, overwrite=True)"
   ]
  },
  {
   "cell_type": "code",
   "execution_count": 76,
   "metadata": {
    "vscode": {
     "languageId": "ruby"
    }
   },
   "outputs": [
    {
     "data": {
      "text/html": [
       "<div><i>QTable length=19</i>\n",
       "<table id=\"table140492556440960\" class=\"table-striped table-bordered table-condensed\">\n",
       "<thead><tr><th>gal_name</th><th>filter</th><th>std</th><th>mean</th><th>median</th><th>median_arcsec2</th></tr></thead>\n",
       "<thead><tr><th>str10</th><th>str10</th><th>float64</th><th>float64</th><th>float64</th><th>float64</th></tr></thead>\n",
       "<tr><td>IC~5332</td><td>F658N WFC3</td><td>1404.157958984375</td><td>147.56942749023438</td><td>133.87310791015625</td><td>85.2833798357043</td></tr>\n",
       "<tr><td>NGC~0628</td><td>F658N ACS</td><td>349.0311279296875</td><td>95.73289489746094</td><td>89.04512023925781</td><td>56.72587221159494</td></tr>\n",
       "<tr><td>NGC~1087</td><td>F657N WFC3</td><td>1853.5106201171875</td><td>167.70982360839844</td><td>145.26837158203125</td><td>92.54269139743124</td></tr>\n",
       "<tr><td>NGC~1300</td><td>F658N ACS</td><td>216.422119140625</td><td>62.72904586791992</td><td>59.69546127319336</td><td>38.02877798015994</td></tr>\n",
       "<tr><td>NGC~1300</td><td>F658N ACS</td><td>216.422119140625</td><td>62.72904586791992</td><td>59.69546127319336</td><td>38.02877798015994</td></tr>\n",
       "<tr><td>NGC~1365</td><td>F657N WFC3</td><td>1703.212890625</td><td>178.81072998046875</td><td>158.79603576660156</td><td>101.16044100340002</td></tr>\n",
       "<tr><td>NGC~1385</td><td>F657N WFC3</td><td>1576.65771484375</td><td>176.8993682861328</td><td>159.90713500976562</td><td>101.86826276289422</td></tr>\n",
       "<tr><td>NGC~1433</td><td>F657N WFC3</td><td>2059.97119140625</td><td>232.7539825439453</td><td>206.28330993652344</td><td>131.4120374861947</td></tr>\n",
       "<tr><td>NGC~1512</td><td>F658N WFC3</td><td>1342.9034423828125</td><td>140.49639892578125</td><td>125.72945404052734</td><td>80.09549455346998</td></tr>\n",
       "<tr><td>NGC~1566</td><td>F658N WFC3</td><td>1304.150634765625</td><td>134.142822265625</td><td>119.60688018798828</td><td>76.19513099584896</td></tr>\n",
       "<tr><td>NGC~1672</td><td>F658N ACS</td><td>389.5263366699219</td><td>104.01312255859375</td><td>101.4583740234375</td><td>64.63369069731844</td></tr>\n",
       "<tr><td>NGC~2835</td><td>F658N WFC3</td><td>748.2089233398438</td><td>109.02384185791016</td><td>102.05035400390625</td><td>65.01080940560547</td></tr>\n",
       "<tr><td>NGC~3351</td><td>F658N WFC3</td><td>1299.7696533203125</td><td>145.32432556152344</td><td>130.6348419189453</td><td>83.22045418283287</td></tr>\n",
       "<tr><td>NGC~3627</td><td>F658N WFC3</td><td>920.2913208007812</td><td>157.14175415039062</td><td>147.61073303222656</td><td>94.03488429851474</td></tr>\n",
       "<tr><td>NGC~4254</td><td>F657N WFC3</td><td>973.1109008789062</td><td>128.5447998046875</td><td>118.87256622314453</td><td>75.72733893693552</td></tr>\n",
       "<tr><td>NGC~4303</td><td>F658N WFC3</td><td>1274.2166748046875</td><td>130.88755798339844</td><td>118.13002014160156</td><td>75.25430263781382</td></tr>\n",
       "<tr><td>NGC~4321</td><td>F657N WFC3</td><td>1195.269287109375</td><td>167.1224365234375</td><td>154.03271484375</td><td>98.12598461492553</td></tr>\n",
       "<tr><td>NGC~5068</td><td>F658N WFC3</td><td>937.470703125</td><td>117.49364471435547</td><td>111.9189224243164</td><td>71.29754527191031</td></tr>\n",
       "<tr><td>NGC~7496</td><td>F657N WFC3</td><td>4818.11669921875</td><td>165.2670440673828</td><td>148.77120971679688</td><td>94.77416177870222</td></tr>\n",
       "</table></div>"
      ],
      "text/plain": [
       "<QTable length=19>\n",
       "gal_name   filter          std         ...       median         median_arcsec2  \n",
       " str10     str10         float64       ...      float64            float64      \n",
       "-------- ---------- ------------------ ... ------------------ ------------------\n",
       " IC~5332 F658N WFC3  1404.157958984375 ... 133.87310791015625   85.2833798357043\n",
       "NGC~0628  F658N ACS  349.0311279296875 ...  89.04512023925781  56.72587221159494\n",
       "NGC~1087 F657N WFC3 1853.5106201171875 ... 145.26837158203125  92.54269139743124\n",
       "NGC~1300  F658N ACS   216.422119140625 ...  59.69546127319336  38.02877798015994\n",
       "NGC~1300  F658N ACS   216.422119140625 ...  59.69546127319336  38.02877798015994\n",
       "NGC~1365 F657N WFC3     1703.212890625 ... 158.79603576660156 101.16044100340002\n",
       "NGC~1385 F657N WFC3   1576.65771484375 ... 159.90713500976562 101.86826276289422\n",
       "NGC~1433 F657N WFC3   2059.97119140625 ... 206.28330993652344  131.4120374861947\n",
       "NGC~1512 F658N WFC3 1342.9034423828125 ... 125.72945404052734  80.09549455346998\n",
       "NGC~1566 F658N WFC3  1304.150634765625 ... 119.60688018798828  76.19513099584896\n",
       "NGC~1672  F658N ACS  389.5263366699219 ...  101.4583740234375  64.63369069731844\n",
       "NGC~2835 F658N WFC3  748.2089233398438 ... 102.05035400390625  65.01080940560547\n",
       "NGC~3351 F658N WFC3 1299.7696533203125 ...  130.6348419189453  83.22045418283287\n",
       "NGC~3627 F658N WFC3  920.2913208007812 ... 147.61073303222656  94.03488429851474\n",
       "NGC~4254 F657N WFC3  973.1109008789062 ... 118.87256622314453  75.72733893693552\n",
       "NGC~4303 F658N WFC3 1274.2166748046875 ... 118.13002014160156  75.25430263781382\n",
       "NGC~4321 F657N WFC3  1195.269287109375 ...    154.03271484375  98.12598461492553\n",
       "NGC~5068 F658N WFC3      937.470703125 ...  111.9189224243164  71.29754527191031\n",
       "NGC~7496 F657N WFC3   4818.11669921875 ... 148.77120971679688  94.77416177870222"
      ]
     },
     "execution_count": 76,
     "metadata": {},
     "output_type": "execute_result"
    }
   ],
   "source": [
    "# Reorganise to match names in .fits files\n",
    "gals = table['gal_name']\n",
    "\n",
    "# for i, gal in enumerate(gals):\n",
    "#     if '~' in gal:\n",
    "#         gal_split = gal.split('~')\n",
    "#         gal = gal_split[0] + gal_split[1]\n",
    "#     table['gal_name'][i] = gal\n",
    "\n",
    "table.write('./tabs/galmap_props.fits', overwrite=True)\n",
    "table"
   ]
  }
 ],
 "metadata": {
  "kernelspec": {
   "display_name": "base",
   "language": "python",
   "name": "python3"
  },
  "language_info": {
   "codemirror_mode": {
    "name": "ipython",
    "version": 3
   },
   "file_extension": ".py",
   "mimetype": "text/x-python",
   "name": "python",
   "nbconvert_exporter": "python",
   "pygments_lexer": "ipython3",
   "version": "3.9.13"
  }
 },
 "nbformat": 4,
 "nbformat_minor": 2
}
