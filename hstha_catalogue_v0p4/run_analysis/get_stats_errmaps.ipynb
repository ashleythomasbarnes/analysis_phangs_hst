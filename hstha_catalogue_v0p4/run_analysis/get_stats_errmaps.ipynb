{
 "cells": [
  {
   "cell_type": "code",
   "execution_count": 1,
   "metadata": {},
   "outputs": [],
   "source": [
    "import numpy as np\n",
    "from astropy import units as u \n",
    "from astropy.io import fits\n",
    "import matplotlib.pyplot as plt\n",
    "import matplotlib as mpl\n",
    "from astropy.table import QTable\n",
    "from reproject import reproject_interp\n",
    "from astropy import stats\n",
    "import os \n",
    "from astropy.table import QTable, join, vstack, hstack, Column\n",
    "\n",
    "\n",
    "plt.style.use('paper.mplstyle')"
   ]
  },
  {
   "cell_type": "code",
   "execution_count": 2,
   "metadata": {},
   "outputs": [],
   "source": [
    "# Define names and filenames...\n",
    "root_dir = '/Users/abarnes/Dropbox/work/Smallprojects/galaxies/data_hstha/'"
   ]
  },
  {
   "cell_type": "code",
   "execution_count": 3,
   "metadata": {},
   "outputs": [
    {
     "name": "stdout",
     "output_type": "stream",
     "text": [
      "/Users/abarnes/Dropbox/work/Smallprojects/galaxies/data_hstha/ngc3627/hst_contsub/ngc3627_hst_ha_err.fits\n",
      "/Users/abarnes/Dropbox/work/Smallprojects/galaxies/data_hstha/ngc4254/hst_contsub/ngc4254_hst_ha_err.fits\n",
      "/Users/abarnes/Dropbox/work/Smallprojects/galaxies/data_hstha/ngc1512/hst_contsub/ngc1512_hst_ha_err.fits\n",
      "/Users/abarnes/Dropbox/work/Smallprojects/galaxies/data_hstha/ngc1433/hst_contsub/ngc1433_hst_ha_err.fits\n",
      "/Users/abarnes/Dropbox/work/Smallprojects/galaxies/data_hstha/ngc5068/hst_contsub/ngc5068_hst_ha_err.fits\n",
      "/Users/abarnes/Dropbox/work/Smallprojects/galaxies/data_hstha/ngc4321/hst_contsub/ngc4321_hst_ha_err.fits\n",
      "/Users/abarnes/Dropbox/work/Smallprojects/galaxies/data_hstha/ngc1365n/hst_contsub/ngc1365n_hst_ha_err.fits\n",
      "/Users/abarnes/Dropbox/work/Smallprojects/galaxies/data_hstha/ngc4303/hst_contsub/ngc4303_hst_ha_err.fits\n",
      "/Users/abarnes/Dropbox/work/Smallprojects/galaxies/data_hstha/ngc1087/hst_contsub/ngc1087_hst_ha_err.fits\n",
      "/Users/abarnes/Dropbox/work/Smallprojects/galaxies/data_hstha/ngc628mosaic/hst_contsub/ngc628mosaic_hst_ha_err.fits\n",
      "/Users/abarnes/Dropbox/work/Smallprojects/galaxies/data_hstha/ngc7496/hst_contsub/ngc7496_hst_ha_err.fits\n",
      "/Users/abarnes/Dropbox/work/Smallprojects/galaxies/data_hstha/ngc1385/hst_contsub/ngc1385_hst_ha_err.fits\n",
      "/Users/abarnes/Dropbox/work/Smallprojects/galaxies/data_hstha/ngc2835s/hst_contsub/ngc2835s_hst_ha_err.fits\n",
      "/Users/abarnes/Dropbox/work/Smallprojects/galaxies/data_hstha/ic5332/hst_contsub/ic5332_hst_ha_err.fits\n",
      "/Users/abarnes/Dropbox/work/Smallprojects/galaxies/data_hstha/ngc3351/hst_contsub/ngc3351_hst_ha_err.fits\n",
      "/Users/abarnes/Dropbox/work/Smallprojects/galaxies/data_hstha/ngc628c/hst_contsub/ngc628c_hst_ha_err.fits\n",
      "/Users/abarnes/Dropbox/work/Smallprojects/galaxies/data_hstha/ngc1672/hst_contsub/ngc1672_hst_ha_err.fits\n",
      "/Users/abarnes/Dropbox/work/Smallprojects/galaxies/data_hstha/ngc4535/hst_contsub/ngc4535_hst_ha_err.fits\n",
      "/Users/abarnes/Dropbox/work/Smallprojects/galaxies/data_hstha/ngc1300/hst_contsub/ngc1300_hst_ha_err.fits\n",
      "/Users/abarnes/Dropbox/work/Smallprojects/galaxies/data_hstha/ngc1566/hst_contsub/ngc1566_hst_ha_err.fits\n",
      "TOTAL NUMBER OF FILES: 20\n"
     ]
    }
   ],
   "source": [
    "def get_files(endswith, root_dir): \n",
    "\n",
    "    file_list = []\n",
    "    for root, dirs, files in os.walk(root_dir):\n",
    "        for file in files:\n",
    "            if file.endswith(endswith):\n",
    "                if '628e' in file: \n",
    "                    continue\n",
    "                else: \n",
    "                    print(os.path.join(root, file))\n",
    "                    file_list += [os.path.join(root, file)]\n",
    "\n",
    "    print('TOTAL NUMBER OF FILES:', len(file_list))\n",
    "    return(file_list)\n",
    "\n",
    "files_maps = get_files('_hst_ha_err.fits', root_dir)"
   ]
  },
  {
   "cell_type": "code",
   "execution_count": 11,
   "metadata": {},
   "outputs": [
    {
     "name": "stdout",
     "output_type": "stream",
     "text": [
      "Galaxy: ngc3627 STD: 741.4372 MAD_STD: 11.202508066993124 MEAN: 135.07921 MEDIAN: 128.13225 MEDIAN_ARCSEC2: 81.6261857183995\n",
      "Galaxy: ngc4254 STD: 860.69324 MAD_STD: 14.473515047471269 MEAN: 158.96504 MEDIAN: 149.96098 MEDIAN_ARCSEC2: 95.53210272728623\n",
      "Galaxy: ngc1512 STD: 1109.9398 MAD_STD: 9.175863498454989 MEAN: 133.11783 MEDIAN: 121.093056 MEDIAN_ARCSEC2: 77.14189375360081\n",
      "Galaxy: ngc1433 STD: 828.7947 MAD_STD: 11.035891774584465 MEAN: 128.91461 MEDIAN: 118.83138 MEDIAN_ARCSEC2: 75.70110315505939\n",
      "Galaxy: ngc5068 STD: 854.72504 MAD_STD: 11.256813893188232 MEAN: 142.12285 MEDIAN: 138.38815 MEDIAN_ARCSEC2: 88.15967305007479\n",
      "Galaxy: ngc4321 STD: 1178.9353 MAD_STD: 14.1879711448532 MEAN: 184.88867 MEDIAN: 172.38557 MEDIAN_ARCSEC2: 109.81760746579995\n",
      "Galaxy: ngc1365n STD: 802.20074 MAD_STD: 10.236767007029353 MEAN: 117.70629 MEDIAN: 108.017845 MEDIAN_ARCSEC2: 68.81237808768068\n",
      "Galaxy: ngc4303 STD: 1114.0188 MAD_STD: 11.439628049190182 MEAN: 147.83669 MEDIAN: 137.48105 MEDIAN_ARCSEC2: 87.58180540984776\n",
      "Galaxy: ngc1087 STD: 937.1163 MAD_STD: 10.591242320776976 MEAN: 128.89627 MEDIAN: 118.28903 MEDIAN_ARCSEC2: 75.35560055664718\n",
      "Galaxy: ngc7496 STD: 3295.7185 MAD_STD: 8.86234660933817 MEAN: 111.63264 MEDIAN: 102.90374 MEDIAN_ARCSEC2: 65.55445582682734\n",
      "Galaxy: ngc1385 STD: 943.44403 MAD_STD: 10.170131801423148 MEAN: 126.00541 MEDIAN: 116.25623 MEDIAN_ARCSEC2: 74.06061344467528\n",
      "Galaxy: ngc2835s STD: 1057.139 MAD_STD: 10.091133282334074 MEAN: 156.63844 MEDIAN: 146.50949 MEDIAN_ARCSEC2: 93.33334201849144\n",
      "Galaxy: ic5332 STD: 754.51575 MAD_STD: 7.761123767818074 MEAN: 122.24544 MEDIAN: 115.24809 MEDIAN_ARCSEC2: 73.41838113987143\n",
      "Galaxy: ngc3351 STD: 923.4145 MAD_STD: 9.900299374036283 MEAN: 135.84021 MEDIAN: 125.46607 MEDIAN_ARCSEC2: 79.92770802847404\n",
      "Galaxy: ngc628c STD: 76.00861 MAD_STD: 5.33402321827901 MEAN: 67.96709 MEDIAN: 64.96614 MEDIAN_ARCSEC2: 41.38644530095273\n",
      "Galaxy: ngc1672 STD: 170.98167 MAD_STD: 8.882017059609634 MEAN: 58.408237 MEDIAN: 57.81413 MEDIAN_ARCSEC2: 36.830281971853665\n",
      "Galaxy: ngc4535 STD: 1155.6355 MAD_STD: 10.352267275989623 MEAN: 142.01295 MEDIAN: 133.27931 MEDIAN_ARCSEC2: 84.90510438119892\n",
      "Galaxy: ngc1300 STD: 133.32657 MAD_STD: 3.2098408161061283 MEAN: 43.379917 MEDIAN: 41.48227 MEDIAN_ARCSEC2: 26.426129812671125\n",
      "Galaxy: ngc1566 STD: 1062.3435 MAD_STD: 9.594700434999984 MEAN: 128.2149 MEDIAN: 117.803185 MEDIAN_ARCSEC2: 75.04609317879344\n"
     ]
    }
   ],
   "source": [
    "output_stats = []\n",
    "\n",
    "for file_maps in files_maps: \n",
    "\n",
    "    if '628e' in file_maps:\n",
    "        continue\n",
    "    if 'ngc628mosaic' in file_maps:\n",
    "        continue\n",
    "\n",
    "    # Loading files...\n",
    "    hstha_hdu = fits.open(file_maps)[0]\n",
    "    gal = file_maps.split(root_dir)[-1].split('/')[0]\n",
    "\n",
    "    # Get RMS for whole map... \n",
    "    std = np.nanstd(hstha_hdu.data)\n",
    "    mad_std = stats.mad_std(hstha_hdu.data, ignore_nan=True)\n",
    "    mean = np.nanmean(hstha_hdu.data)\n",
    "    median = np.nanmedian(hstha_hdu.data)\n",
    "    try: \n",
    "        pix_scale = (np.absolute(hstha_hdu.header['CD1_1'])*u.deg).to('arcsec')\n",
    "    except:\n",
    "        pix_scale = (np.absolute(hstha_hdu.header['PC1_1'])*u.deg).to('arcsec')\n",
    "\n",
    "    pix_area = pix_scale**2\n",
    "    median_arcsec2 = (median/pix_area.value)/1e3 # erg/s/cm2/arcsec2 10-17\n",
    "\n",
    "    output_stats += [[std, mean, median, median_arcsec2]]\n",
    "    print(\"Galaxy:\", gal, \"STD:\", std, \"MAD_STD:\", mad_std, \"MEAN:\", mean, \"MEDIAN:\", median, \"MEDIAN_ARCSEC2:\", median_arcsec2)"
   ]
  },
  {
   "cell_type": "code",
   "execution_count": 12,
   "metadata": {},
   "outputs": [
    {
     "data": {
      "text/html": [
       "<div><i>QTable length=19</i>\n",
       "<table id=\"table140467994563296\" class=\"table-striped table-bordered table-condensed\">\n",
       "<thead><tr><th>gal_name</th><th>filter</th></tr></thead>\n",
       "<thead><tr><th>str10</th><th>str10</th></tr></thead>\n",
       "<tr><td>IC~5332</td><td>F658N WFC3</td></tr>\n",
       "<tr><td>NGC~0628</td><td>F658N ACS</td></tr>\n",
       "<tr><td>NGC~1087</td><td>F657N WFC3</td></tr>\n",
       "<tr><td>NGC~1300</td><td>F658N ACS</td></tr>\n",
       "<tr><td>NGC~1300</td><td>F658N ACS</td></tr>\n",
       "<tr><td>NGC~1365</td><td>F657N WFC3</td></tr>\n",
       "<tr><td>NGC~1385</td><td>F657N WFC3</td></tr>\n",
       "<tr><td>NGC~1433</td><td>F657N WFC3</td></tr>\n",
       "<tr><td>NGC~1512</td><td>F658N WFC3</td></tr>\n",
       "<tr><td>NGC~1566</td><td>F658N WFC3</td></tr>\n",
       "<tr><td>NGC~1672</td><td>F658N ACS</td></tr>\n",
       "<tr><td>NGC~2835</td><td>F658N WFC3</td></tr>\n",
       "<tr><td>NGC~3351</td><td>F658N WFC3</td></tr>\n",
       "<tr><td>NGC~3627</td><td>F658N WFC3</td></tr>\n",
       "<tr><td>NGC~4254</td><td>F657N WFC3</td></tr>\n",
       "<tr><td>NGC~4303</td><td>F658N WFC3</td></tr>\n",
       "<tr><td>NGC~4321</td><td>F657N WFC3</td></tr>\n",
       "<tr><td>NGC~5068</td><td>F658N WFC3</td></tr>\n",
       "<tr><td>NGC~7496</td><td>F657N WFC3</td></tr>\n",
       "</table></div>"
      ],
      "text/plain": [
       "<QTable length=19>\n",
       "gal_name   filter  \n",
       " str10     str10   \n",
       "-------- ----------\n",
       " IC~5332 F658N WFC3\n",
       "NGC~0628  F658N ACS\n",
       "NGC~1087 F657N WFC3\n",
       "NGC~1300  F658N ACS\n",
       "NGC~1300  F658N ACS\n",
       "NGC~1365 F657N WFC3\n",
       "NGC~1385 F657N WFC3\n",
       "NGC~1433 F657N WFC3\n",
       "NGC~1512 F658N WFC3\n",
       "NGC~1566 F658N WFC3\n",
       "NGC~1672  F658N ACS\n",
       "NGC~2835 F658N WFC3\n",
       "NGC~3351 F658N WFC3\n",
       "NGC~3627 F658N WFC3\n",
       "NGC~4254 F657N WFC3\n",
       "NGC~4303 F658N WFC3\n",
       "NGC~4321 F657N WFC3\n",
       "NGC~5068 F658N WFC3\n",
       "NGC~7496 F657N WFC3"
      ]
     },
     "execution_count": 12,
     "metadata": {},
     "output_type": "execute_result"
    }
   ],
   "source": [
    "filters = [\n",
    "            ['IC~5332', 'F658N WFC3'],\n",
    "            ['NGC~0628', 'F658N ACS'],\n",
    "            ['NGC~1087', 'F657N WFC3'],\n",
    "            ['NGC~1300', 'F658N ACS'],\n",
    "            ['NGC~1300', 'F658N ACS'],\n",
    "            ['NGC~1365', 'F657N WFC3'],\n",
    "            ['NGC~1385', 'F657N WFC3'],\n",
    "            ['NGC~1433', 'F657N WFC3'],\n",
    "            ['NGC~1512', 'F658N WFC3'],\n",
    "            ['NGC~1566', 'F658N WFC3'],\n",
    "            ['NGC~1672', 'F658N ACS'],\n",
    "            ['NGC~2835', 'F658N WFC3'],\n",
    "            ['NGC~3351', 'F658N WFC3'],\n",
    "            ['NGC~3627', 'F658N WFC3'],\n",
    "            ['NGC~4254', 'F657N WFC3'],\n",
    "            ['NGC~4303', 'F658N WFC3'],\n",
    "            ['NGC~4321', 'F657N WFC3'],\n",
    "            ['NGC~5068', 'F658N WFC3'],\n",
    "            ['NGC~7496', 'F657N WFC3'],\n",
    "            ]\n",
    "\n",
    "filters = np.array(filters)\n",
    "\n",
    "table_filters = QTable(filters, names=('gal_name', 'filter'))\n",
    "table_filters"
   ]
  },
  {
   "cell_type": "code",
   "execution_count": 14,
   "metadata": {
    "vscode": {
     "languageId": "ruby"
    }
   },
   "outputs": [
    {
     "data": {
      "text/html": [
       "<div><i>QTable length=20</i>\n",
       "<table id=\"table140468123127472\" class=\"table-striped table-bordered table-condensed\">\n",
       "<thead><tr><th>gal_name</th><th>std</th><th>mean</th><th>median</th><th>median_arcsec2</th></tr></thead>\n",
       "<thead><tr><th>str12</th><th>float64</th><th>float64</th><th>float64</th><th>float64</th></tr></thead>\n",
       "<tr><td>IC~</td><td>3295.718505859375</td><td>111.63263702392578</td><td>102.90373992919922</td><td>65.55445582682734</td></tr>\n",
       "<tr><td>IC~5332</td><td>923.4144897460938</td><td>135.8402099609375</td><td>125.46607208251953</td><td>79.92770802847404</td></tr>\n",
       "<tr><td>NGC~0628</td><td>170.98167419433594</td><td>58.40823745727539</td><td>57.81412887573242</td><td>36.830281971853665</td></tr>\n",
       "<tr><td>NGC~1087</td><td>937.1162719726562</td><td>128.89627075195312</td><td>118.28903198242188</td><td>75.35560055664718</td></tr>\n",
       "<tr><td>NGC~1300</td><td>1062.343505859375</td><td>128.21490478515625</td><td>117.80318450927734</td><td>75.04609317879344</td></tr>\n",
       "<tr><td>NGC~1365N</td><td>802.2007446289062</td><td>117.70629119873047</td><td>108.0178451538086</td><td>68.81237808768068</td></tr>\n",
       "<tr><td>NGC~1385</td><td>1057.1390380859375</td><td>156.63844299316406</td><td>146.50949096679688</td><td>93.33334201849144</td></tr>\n",
       "<tr><td>NGC~1433</td><td>828.794677734375</td><td>128.91461181640625</td><td>118.83138275146484</td><td>75.70110315505939</td></tr>\n",
       "<tr><td>NGC~1512</td><td>1109.9398193359375</td><td>133.11782836914062</td><td>121.09305572509766</td><td>77.14189375360081</td></tr>\n",
       "<tr><td>NGC~1566</td><td>--</td><td>--</td><td>--</td><td>--</td></tr>\n",
       "<tr><td>NGC~1672</td><td>1155.635498046875</td><td>142.01295471191406</td><td>133.27931213378906</td><td>84.90510438119892</td></tr>\n",
       "<tr><td>NGC~2835S</td><td>754.5157470703125</td><td>122.24543762207031</td><td>115.24809265136719</td><td>73.41838113987143</td></tr>\n",
       "<tr><td>NGC~3351</td><td>76.00861358642578</td><td>67.96708679199219</td><td>64.96614074707031</td><td>41.38644530095273</td></tr>\n",
       "<tr><td>NGC~3627</td><td>741.4371948242188</td><td>135.07920837402344</td><td>128.1322479248047</td><td>81.6261857183995</td></tr>\n",
       "<tr><td>NGC~4254</td><td>860.6932373046875</td><td>158.9650421142578</td><td>149.9609832763672</td><td>95.53210272728623</td></tr>\n",
       "<tr><td>NGC~4303</td><td>1114.018798828125</td><td>147.83668518066406</td><td>137.48104858398438</td><td>87.58180540984776</td></tr>\n",
       "<tr><td>NGC~4321</td><td>1178.935302734375</td><td>184.888671875</td><td>172.3855743408203</td><td>109.81760746579995</td></tr>\n",
       "<tr><td>NGC~4535</td><td>133.32656860351562</td><td>43.37991714477539</td><td>41.482269287109375</td><td>26.426129812671125</td></tr>\n",
       "<tr><td>NGC~5068</td><td>854.7250366210938</td><td>142.1228485107422</td><td>138.38815307617188</td><td>88.15967305007479</td></tr>\n",
       "<tr><td>NGC~7496</td><td>943.4440307617188</td><td>126.00540924072266</td><td>116.25623321533203</td><td>74.06061344467528</td></tr>\n",
       "</table></div>"
      ],
      "text/plain": [
       "<QTable length=20>\n",
       " gal_name        std         ...       median         median_arcsec2  \n",
       "  str12        float64       ...      float64            float64      \n",
       "--------- ------------------ ... ------------------ ------------------\n",
       "      IC~  3295.718505859375 ... 102.90373992919922  65.55445582682734\n",
       "  IC~5332  923.4144897460938 ... 125.46607208251953  79.92770802847404\n",
       " NGC~0628 170.98167419433594 ...  57.81412887573242 36.830281971853665\n",
       " NGC~1087  937.1162719726562 ... 118.28903198242188  75.35560055664718\n",
       " NGC~1300  1062.343505859375 ... 117.80318450927734  75.04609317879344\n",
       "NGC~1365N  802.2007446289062 ...  108.0178451538086  68.81237808768068\n",
       " NGC~1385 1057.1390380859375 ... 146.50949096679688  93.33334201849144\n",
       " NGC~1433   828.794677734375 ... 118.83138275146484  75.70110315505939\n",
       " NGC~1512 1109.9398193359375 ... 121.09305572509766  77.14189375360081\n",
       " NGC~1566                 -- ...                 --                 --\n",
       " NGC~1672  1155.635498046875 ... 133.27931213378906  84.90510438119892\n",
       "NGC~2835S  754.5157470703125 ... 115.24809265136719  73.41838113987143\n",
       " NGC~3351  76.00861358642578 ...  64.96614074707031  41.38644530095273\n",
       " NGC~3627  741.4371948242188 ...  128.1322479248047   81.6261857183995\n",
       " NGC~4254  860.6932373046875 ...  149.9609832763672  95.53210272728623\n",
       " NGC~4303  1114.018798828125 ... 137.48104858398438  87.58180540984776\n",
       " NGC~4321  1178.935302734375 ...  172.3855743408203 109.81760746579995\n",
       " NGC~4535 133.32656860351562 ... 41.482269287109375 26.426129812671125\n",
       " NGC~5068  854.7250366210938 ... 138.38815307617188  88.15967305007479\n",
       " NGC~7496  943.4440307617188 ... 116.25623321533203  74.06061344467528"
      ]
     },
     "execution_count": 14,
     "metadata": {},
     "output_type": "execute_result"
    }
   ],
   "source": [
    "# Get into a astropy table the output of the stats of the maps to .tex\n",
    "gals = []\n",
    "for file_maps in files_maps:\n",
    "    gal = file_maps.split(root_dir)[-1].split('/')[0]\n",
    "    gals += [gal]\n",
    "\n",
    "output_stats = np.array([output_stats][0], dtype=np.float64)\n",
    "gals = np.array(gals)\n",
    "\n",
    "for i, gal in enumerate(gals):\n",
    "    gal = gal.upper()\n",
    "    if 'NGC' in gal:\n",
    "        gal_split = gal.split('NGC')\n",
    "        gal = 'NGC~' + gal_split[1]\n",
    "    if 'IC' in gal:\n",
    "        gal_split = gal.split('IC')\n",
    "        gal = 'IC~' + gal_split[1]\n",
    "    if '628C' in gal:\n",
    "        gal_split = gal.split('628C')\n",
    "        gal = gal_split[0] + '0628'\n",
    "    gals[i] = gal\n",
    "\n",
    "table1 = Column(gals, name='gal_name')\n",
    "table2 = QTable(output_stats, names=('std', 'mean', 'median', 'median_arcsec2'))\n",
    "\n",
    "table = hstack([table1, table2])\n",
    "table.sort('gal_name')\n",
    "table"
   ]
  },
  {
   "cell_type": "code",
   "execution_count": 15,
   "metadata": {
    "vscode": {
     "languageId": "ruby"
    }
   },
   "outputs": [
    {
     "data": {
      "text/html": [
       "<div><i>QTable length=17</i>\n",
       "<table id=\"table140467994964944\" class=\"table-striped table-bordered table-condensed\">\n",
       "<thead><tr><th>gal_name</th><th>filter</th><th>std</th><th>mean</th><th>median</th><th>median_arcsec2</th></tr></thead>\n",
       "<thead><tr><th>str12</th><th>str10</th><th>float64</th><th>float64</th><th>float64</th><th>float64</th></tr></thead>\n",
       "<tr><td>IC~5332</td><td>F658N WFC3</td><td>923.4144897460938</td><td>135.8402099609375</td><td>125.46607208251953</td><td>79.92770802847404</td></tr>\n",
       "<tr><td>NGC~0628</td><td>F658N ACS</td><td>170.98167419433594</td><td>58.40823745727539</td><td>57.81412887573242</td><td>36.830281971853665</td></tr>\n",
       "<tr><td>NGC~1087</td><td>F657N WFC3</td><td>937.1162719726562</td><td>128.89627075195312</td><td>118.28903198242188</td><td>75.35560055664718</td></tr>\n",
       "<tr><td>NGC~1300</td><td>F658N ACS</td><td>1062.343505859375</td><td>128.21490478515625</td><td>117.80318450927734</td><td>75.04609317879344</td></tr>\n",
       "<tr><td>NGC~1300</td><td>F658N ACS</td><td>1062.343505859375</td><td>128.21490478515625</td><td>117.80318450927734</td><td>75.04609317879344</td></tr>\n",
       "<tr><td>NGC~1385</td><td>F657N WFC3</td><td>1057.1390380859375</td><td>156.63844299316406</td><td>146.50949096679688</td><td>93.33334201849144</td></tr>\n",
       "<tr><td>NGC~1433</td><td>F657N WFC3</td><td>828.794677734375</td><td>128.91461181640625</td><td>118.83138275146484</td><td>75.70110315505939</td></tr>\n",
       "<tr><td>NGC~1512</td><td>F658N WFC3</td><td>1109.9398193359375</td><td>133.11782836914062</td><td>121.09305572509766</td><td>77.14189375360081</td></tr>\n",
       "<tr><td>NGC~1566</td><td>F658N WFC3</td><td>--</td><td>--</td><td>--</td><td>--</td></tr>\n",
       "<tr><td>NGC~1672</td><td>F658N ACS</td><td>1155.635498046875</td><td>142.01295471191406</td><td>133.27931213378906</td><td>84.90510438119892</td></tr>\n",
       "<tr><td>NGC~3351</td><td>F658N WFC3</td><td>76.00861358642578</td><td>67.96708679199219</td><td>64.96614074707031</td><td>41.38644530095273</td></tr>\n",
       "<tr><td>NGC~3627</td><td>F658N WFC3</td><td>741.4371948242188</td><td>135.07920837402344</td><td>128.1322479248047</td><td>81.6261857183995</td></tr>\n",
       "<tr><td>NGC~4254</td><td>F657N WFC3</td><td>860.6932373046875</td><td>158.9650421142578</td><td>149.9609832763672</td><td>95.53210272728623</td></tr>\n",
       "<tr><td>NGC~4303</td><td>F658N WFC3</td><td>1114.018798828125</td><td>147.83668518066406</td><td>137.48104858398438</td><td>87.58180540984776</td></tr>\n",
       "<tr><td>NGC~4321</td><td>F657N WFC3</td><td>1178.935302734375</td><td>184.888671875</td><td>172.3855743408203</td><td>109.81760746579995</td></tr>\n",
       "<tr><td>NGC~5068</td><td>F658N WFC3</td><td>854.7250366210938</td><td>142.1228485107422</td><td>138.38815307617188</td><td>88.15967305007479</td></tr>\n",
       "<tr><td>NGC~7496</td><td>F657N WFC3</td><td>943.4440307617188</td><td>126.00540924072266</td><td>116.25623321533203</td><td>74.06061344467528</td></tr>\n",
       "</table></div>"
      ],
      "text/plain": [
       "<QTable length=17>\n",
       "gal_name   filter          std         ...       median         median_arcsec2  \n",
       " str12     str10         float64       ...      float64            float64      \n",
       "-------- ---------- ------------------ ... ------------------ ------------------\n",
       " IC~5332 F658N WFC3  923.4144897460938 ... 125.46607208251953  79.92770802847404\n",
       "NGC~0628  F658N ACS 170.98167419433594 ...  57.81412887573242 36.830281971853665\n",
       "NGC~1087 F657N WFC3  937.1162719726562 ... 118.28903198242188  75.35560055664718\n",
       "NGC~1300  F658N ACS  1062.343505859375 ... 117.80318450927734  75.04609317879344\n",
       "NGC~1300  F658N ACS  1062.343505859375 ... 117.80318450927734  75.04609317879344\n",
       "NGC~1385 F657N WFC3 1057.1390380859375 ... 146.50949096679688  93.33334201849144\n",
       "NGC~1433 F657N WFC3   828.794677734375 ... 118.83138275146484  75.70110315505939\n",
       "NGC~1512 F658N WFC3 1109.9398193359375 ... 121.09305572509766  77.14189375360081\n",
       "NGC~1566 F658N WFC3                 -- ...                 --                 --\n",
       "NGC~1672  F658N ACS  1155.635498046875 ... 133.27931213378906  84.90510438119892\n",
       "NGC~3351 F658N WFC3  76.00861358642578 ...  64.96614074707031  41.38644530095273\n",
       "NGC~3627 F658N WFC3  741.4371948242188 ...  128.1322479248047   81.6261857183995\n",
       "NGC~4254 F657N WFC3  860.6932373046875 ...  149.9609832763672  95.53210272728623\n",
       "NGC~4303 F658N WFC3  1114.018798828125 ... 137.48104858398438  87.58180540984776\n",
       "NGC~4321 F657N WFC3  1178.935302734375 ...  172.3855743408203 109.81760746579995\n",
       "NGC~5068 F658N WFC3  854.7250366210938 ... 138.38815307617188  88.15967305007479\n",
       "NGC~7496 F657N WFC3  943.4440307617188 ... 116.25623321533203  74.06061344467528"
      ]
     },
     "execution_count": 15,
     "metadata": {},
     "output_type": "execute_result"
    }
   ],
   "source": [
    "table = join(table_filters, table, keys='gal_name')\n",
    "table"
   ]
  },
  {
   "cell_type": "code",
   "execution_count": 9,
   "metadata": {
    "vscode": {
     "languageId": "ruby"
    }
   },
   "outputs": [],
   "source": [
    "table_out = table['gal_name', 'filter', 'median_arcsec2']\n",
    "\n",
    "formats={\n",
    "        'gal_name': '%s',\n",
    "        'filter': '%s',\n",
    "        'median_arcsec2': '%0.1f'}\n",
    "\n",
    "table_out.write('./tabs/galmap_errprops.tex', formats=formats, overwrite=True)"
   ]
  },
  {
   "cell_type": "code",
   "execution_count": 10,
   "metadata": {
    "vscode": {
     "languageId": "ruby"
    }
   },
   "outputs": [
    {
     "data": {
      "text/html": [
       "<div><i>QTable length=17</i>\n",
       "<table id=\"table140468122819936\" class=\"table-striped table-bordered table-condensed\">\n",
       "<thead><tr><th>gal_name</th><th>filter</th><th>std</th><th>mean</th><th>median</th><th>median_arcsec2</th></tr></thead>\n",
       "<thead><tr><th>str12</th><th>str10</th><th>float64</th><th>float64</th><th>float64</th><th>float64</th></tr></thead>\n",
       "<tr><td>IC~5332</td><td>F658N WFC3</td><td>754.5157470703125</td><td>122.24543762207031</td><td>115.24809265136719</td><td>73.41838113987143</td></tr>\n",
       "<tr><td>NGC~0628</td><td>F658N ACS</td><td>76.00861358642578</td><td>67.96708679199219</td><td>64.96614074707031</td><td>41.38644530095273</td></tr>\n",
       "<tr><td>NGC~1087</td><td>F657N WFC3</td><td>937.1162719726562</td><td>128.89627075195312</td><td>118.28903198242188</td><td>75.35560055664718</td></tr>\n",
       "<tr><td>NGC~1300</td><td>F658N ACS</td><td>133.32656860351562</td><td>43.37991714477539</td><td>41.482269287109375</td><td>26.426129812671125</td></tr>\n",
       "<tr><td>NGC~1300</td><td>F658N ACS</td><td>133.32656860351562</td><td>43.37991714477539</td><td>41.482269287109375</td><td>26.426129812671125</td></tr>\n",
       "<tr><td>NGC~1385</td><td>F657N WFC3</td><td>943.4440307617188</td><td>126.00540924072266</td><td>116.25623321533203</td><td>74.06061344467528</td></tr>\n",
       "<tr><td>NGC~1433</td><td>F657N WFC3</td><td>828.794677734375</td><td>128.91461181640625</td><td>118.83138275146484</td><td>75.70110315505939</td></tr>\n",
       "<tr><td>NGC~1512</td><td>F658N WFC3</td><td>1109.9398193359375</td><td>133.11782836914062</td><td>121.09305572509766</td><td>77.14189375360081</td></tr>\n",
       "<tr><td>NGC~1566</td><td>F658N WFC3</td><td>1062.343505859375</td><td>128.21490478515625</td><td>117.80318450927734</td><td>75.04609317879344</td></tr>\n",
       "<tr><td>NGC~1672</td><td>F658N ACS</td><td>170.98167419433594</td><td>58.40823745727539</td><td>57.81412887573242</td><td>36.830281971853665</td></tr>\n",
       "<tr><td>NGC~3351</td><td>F658N WFC3</td><td>923.4144897460938</td><td>135.8402099609375</td><td>125.46607208251953</td><td>79.92770802847404</td></tr>\n",
       "<tr><td>NGC~3627</td><td>F658N WFC3</td><td>741.4371948242188</td><td>135.07920837402344</td><td>128.1322479248047</td><td>81.6261857183995</td></tr>\n",
       "<tr><td>NGC~4254</td><td>F657N WFC3</td><td>860.6932373046875</td><td>158.9650421142578</td><td>149.9609832763672</td><td>95.53210272728623</td></tr>\n",
       "<tr><td>NGC~4303</td><td>F658N WFC3</td><td>1114.018798828125</td><td>147.83668518066406</td><td>137.48104858398438</td><td>87.58180540984776</td></tr>\n",
       "<tr><td>NGC~4321</td><td>F657N WFC3</td><td>1178.935302734375</td><td>184.888671875</td><td>172.3855743408203</td><td>109.81760746579995</td></tr>\n",
       "<tr><td>NGC~5068</td><td>F658N WFC3</td><td>854.7250366210938</td><td>142.1228485107422</td><td>138.38815307617188</td><td>88.15967305007479</td></tr>\n",
       "<tr><td>NGC~7496</td><td>F657N WFC3</td><td>3295.718505859375</td><td>111.63263702392578</td><td>102.90373992919922</td><td>65.55445582682734</td></tr>\n",
       "</table></div>"
      ],
      "text/plain": [
       "<QTable length=17>\n",
       "gal_name   filter          std         ...       median         median_arcsec2  \n",
       " str12     str10         float64       ...      float64            float64      \n",
       "-------- ---------- ------------------ ... ------------------ ------------------\n",
       " IC~5332 F658N WFC3  754.5157470703125 ... 115.24809265136719  73.41838113987143\n",
       "NGC~0628  F658N ACS  76.00861358642578 ...  64.96614074707031  41.38644530095273\n",
       "NGC~1087 F657N WFC3  937.1162719726562 ... 118.28903198242188  75.35560055664718\n",
       "NGC~1300  F658N ACS 133.32656860351562 ... 41.482269287109375 26.426129812671125\n",
       "NGC~1300  F658N ACS 133.32656860351562 ... 41.482269287109375 26.426129812671125\n",
       "NGC~1385 F657N WFC3  943.4440307617188 ... 116.25623321533203  74.06061344467528\n",
       "NGC~1433 F657N WFC3   828.794677734375 ... 118.83138275146484  75.70110315505939\n",
       "NGC~1512 F658N WFC3 1109.9398193359375 ... 121.09305572509766  77.14189375360081\n",
       "NGC~1566 F658N WFC3  1062.343505859375 ... 117.80318450927734  75.04609317879344\n",
       "NGC~1672  F658N ACS 170.98167419433594 ...  57.81412887573242 36.830281971853665\n",
       "NGC~3351 F658N WFC3  923.4144897460938 ... 125.46607208251953  79.92770802847404\n",
       "NGC~3627 F658N WFC3  741.4371948242188 ...  128.1322479248047   81.6261857183995\n",
       "NGC~4254 F657N WFC3  860.6932373046875 ...  149.9609832763672  95.53210272728623\n",
       "NGC~4303 F658N WFC3  1114.018798828125 ... 137.48104858398438  87.58180540984776\n",
       "NGC~4321 F657N WFC3  1178.935302734375 ...  172.3855743408203 109.81760746579995\n",
       "NGC~5068 F658N WFC3  854.7250366210938 ... 138.38815307617188  88.15967305007479\n",
       "NGC~7496 F657N WFC3  3295.718505859375 ... 102.90373992919922  65.55445582682734"
      ]
     },
     "execution_count": 10,
     "metadata": {},
     "output_type": "execute_result"
    }
   ],
   "source": [
    "# Reorganise to match names in .fits files\n",
    "gals = table['gal_name']\n",
    "\n",
    "# for i, gal in enumerate(gals):\n",
    "#     if '~' in gal:\n",
    "#         gal_split = gal.split('~')\n",
    "#         gal = gal_split[0] + gal_split[1]\n",
    "#     table['gal_name'][i] = gal\n",
    "\n",
    "table.write('./tabs/galmap_props.fits', overwrite=True)\n",
    "table"
   ]
  }
 ],
 "metadata": {
  "kernelspec": {
   "display_name": "base",
   "language": "python",
   "name": "python3"
  },
  "language_info": {
   "codemirror_mode": {
    "name": "ipython",
    "version": 3
   },
   "file_extension": ".py",
   "mimetype": "text/x-python",
   "name": "python",
   "nbconvert_exporter": "python",
   "pygments_lexer": "ipython3",
   "version": "3.9.13"
  }
 },
 "nbformat": 4,
 "nbformat_minor": 2
}
