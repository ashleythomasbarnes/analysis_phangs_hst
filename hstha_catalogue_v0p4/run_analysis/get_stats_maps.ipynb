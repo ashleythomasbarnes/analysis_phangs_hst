{
 "cells": [
  {
   "cell_type": "code",
   "execution_count": 1,
   "metadata": {},
   "outputs": [],
   "source": [
    "import numpy as np\n",
    "from astropy import units as u \n",
    "from astropy.io import fits\n",
    "import matplotlib.pyplot as plt\n",
    "import matplotlib as mpl\n",
    "from astropy.table import QTable\n",
    "from reproject import reproject_interp\n",
    "from astropy import stats\n",
    "import os \n",
    "from astropy.table import QTable, join, vstack, hstack, Column\n",
    "\n",
    "\n",
    "plt.style.use('paper.mplstyle')"
   ]
  },
  {
   "cell_type": "code",
   "execution_count": 2,
   "metadata": {},
   "outputs": [],
   "source": [
    "# Define names and filenames...\n",
    "root_dir = '/Users/abarnes/Dropbox/work/Smallprojects/galaxies/data_hstha/'"
   ]
  },
  {
   "cell_type": "code",
   "execution_count": 3,
   "metadata": {},
   "outputs": [
    {
     "name": "stdout",
     "output_type": "stream",
     "text": [
      "/Users/abarnes/Dropbox/work/Smallprojects/galaxies/data_hstha/ngc3627/hst_contsub/ngc3627_hst_ha_sic.fits\n",
      "/Users/abarnes/Dropbox/work/Smallprojects/galaxies/data_hstha/ngc4254/hst_contsub/ngc4254_hst_ha_sic.fits\n",
      "/Users/abarnes/Dropbox/work/Smallprojects/galaxies/data_hstha/ngc1512/hst_contsub/ngc1512_hst_ha_sic.fits\n",
      "/Users/abarnes/Dropbox/work/Smallprojects/galaxies/data_hstha/ngc1433/hst_contsub/ngc1433_hst_ha_sic.fits\n",
      "/Users/abarnes/Dropbox/work/Smallprojects/galaxies/data_hstha/ngc5068/hst_contsub/ngc5068_hst_ha_sic.fits\n",
      "/Users/abarnes/Dropbox/work/Smallprojects/galaxies/data_hstha/ngc4321/hst_contsub/ngc4321_hst_ha_sic.fits\n",
      "/Users/abarnes/Dropbox/work/Smallprojects/galaxies/data_hstha/ngc1365n/hst_contsub/ngc1365n_hst_ha_sic.fits\n",
      "/Users/abarnes/Dropbox/work/Smallprojects/galaxies/data_hstha/ngc4303/hst_contsub/ngc4303_hst_ha_sic.fits\n",
      "/Users/abarnes/Dropbox/work/Smallprojects/galaxies/data_hstha/ngc1087/hst_contsub/ngc1087_hst_ha_sic.fits\n",
      "/Users/abarnes/Dropbox/work/Smallprojects/galaxies/data_hstha/ngc7496/hst_contsub/ngc7496_hst_ha_sic.fits\n",
      "/Users/abarnes/Dropbox/work/Smallprojects/galaxies/data_hstha/ngc1385/hst_contsub/ngc1385_hst_ha_sic.fits\n",
      "/Users/abarnes/Dropbox/work/Smallprojects/galaxies/data_hstha/ngc2835s/hst_contsub/ngc2835s_hst_ha_sic.fits\n",
      "/Users/abarnes/Dropbox/work/Smallprojects/galaxies/data_hstha/ic5332/hst_contsub/ic5332_hst_ha_sic.fits\n",
      "/Users/abarnes/Dropbox/work/Smallprojects/galaxies/data_hstha/ngc3351/hst_contsub/ngc3351_hst_ha_sic.fits\n",
      "/Users/abarnes/Dropbox/work/Smallprojects/galaxies/data_hstha/ngc628c/hst_contsub/ngc628c_hst_ha_sic.fits\n",
      "/Users/abarnes/Dropbox/work/Smallprojects/galaxies/data_hstha/ngc1672/hst_contsub/ngc1672_hst_ha_sic.fits\n",
      "/Users/abarnes/Dropbox/work/Smallprojects/galaxies/data_hstha/ngc1300/hst_contsub/ngc1300_hst_ha_sic.fits\n",
      "/Users/abarnes/Dropbox/work/Smallprojects/galaxies/data_hstha/ngc1566/hst_contsub/ngc1566_hst_ha_sic.fits\n",
      "TOTAL NUMBER OF FILES: 18\n",
      "/Users/abarnes/Dropbox/work/Smallprojects/galaxies/data_hstha/ngc3627/muse/NGC3627_nebmask.fits\n",
      "/Users/abarnes/Dropbox/work/Smallprojects/galaxies/data_hstha/ngc4254/muse/NGC4254_nebmask.fits\n",
      "/Users/abarnes/Dropbox/work/Smallprojects/galaxies/data_hstha/ngc1512/muse/NGC1512_nebmask.fits\n",
      "/Users/abarnes/Dropbox/work/Smallprojects/galaxies/data_hstha/ngc1433/muse/NGC1433_nebmask.fits\n",
      "/Users/abarnes/Dropbox/work/Smallprojects/galaxies/data_hstha/ngc5068/muse/NGC5068_nebmask.fits\n",
      "/Users/abarnes/Dropbox/work/Smallprojects/galaxies/data_hstha/ngc4321/muse/NGC4321_nebmask.fits\n",
      "/Users/abarnes/Dropbox/work/Smallprojects/galaxies/data_hstha/ngc1365n/muse/NGC1365_nebmask.fits\n",
      "/Users/abarnes/Dropbox/work/Smallprojects/galaxies/data_hstha/ngc4303/muse/NGC4303_nebmask.fits\n",
      "/Users/abarnes/Dropbox/work/Smallprojects/galaxies/data_hstha/ngc1087/muse/NGC1087_nebmask.fits\n",
      "/Users/abarnes/Dropbox/work/Smallprojects/galaxies/data_hstha/ngc7496/muse/NGC7496_nebmask.fits\n",
      "/Users/abarnes/Dropbox/work/Smallprojects/galaxies/data_hstha/ngc1385/muse/NGC1385_nebmask.fits\n",
      "/Users/abarnes/Dropbox/work/Smallprojects/galaxies/data_hstha/ngc2835s/muse/NGC2835_nebmask.fits\n",
      "/Users/abarnes/Dropbox/work/Smallprojects/galaxies/data_hstha/ic5332/muse/IC5332_nebmask.fits\n",
      "/Users/abarnes/Dropbox/work/Smallprojects/galaxies/data_hstha/ngc628e/muse/NGC0628_nebmask.fits\n",
      "/Users/abarnes/Dropbox/work/Smallprojects/galaxies/data_hstha/ngc3351/muse/NGC3351_nebmask.fits\n",
      "/Users/abarnes/Dropbox/work/Smallprojects/galaxies/data_hstha/ngc628c/muse/NGC0628_nebmask.fits\n",
      "/Users/abarnes/Dropbox/work/Smallprojects/galaxies/data_hstha/ngc1672/muse/NGC1672_nebmask.fits\n",
      "/Users/abarnes/Dropbox/work/Smallprojects/galaxies/data_hstha/ngc4535/muse/NGC4535_nebmask.fits\n",
      "/Users/abarnes/Dropbox/work/Smallprojects/galaxies/data_hstha/ngc1300/muse/NGC1300_nebmask.fits\n",
      "/Users/abarnes/Dropbox/work/Smallprojects/galaxies/data_hstha/ngc1566/muse/NGC1566_nebmask.fits\n",
      "TOTAL NUMBER OF FILES: 20\n"
     ]
    }
   ],
   "source": [
    "def get_files(endswith, root_dir): \n",
    "\n",
    "    file_list = []\n",
    "    for root, dirs, files in os.walk(root_dir):\n",
    "        for file in files:\n",
    "            if file.endswith(endswith):\n",
    "                if '628e' in file: \n",
    "                    continue\n",
    "                else: \n",
    "                    print(os.path.join(root, file))\n",
    "                    file_list += [os.path.join(root, file)]\n",
    "\n",
    "    print('TOTAL NUMBER OF FILES:', len(file_list))\n",
    "    return(file_list)\n",
    "\n",
    "files_maps = get_files('_hst_ha_sic.fits', root_dir)\n",
    "files_nebs_ = get_files('_nebmask.fits', root_dir)"
   ]
  },
  {
   "cell_type": "code",
   "execution_count": 5,
   "metadata": {},
   "outputs": [
    {
     "name": "stdout",
     "output_type": "stream",
     "text": [
      "/Users/abarnes/Dropbox/work/Smallprojects/galaxies/data_hstha/ngc3627/hst_contsub/ngc3627_hst_ha_sic.fits /Users/abarnes/Dropbox/work/Smallprojects/galaxies/data_hstha/ngc3627/muse/NGC3627_nebmask.fits\n",
      "/Users/abarnes/Dropbox/work/Smallprojects/galaxies/data_hstha/ngc4254/hst_contsub/ngc4254_hst_ha_sic.fits /Users/abarnes/Dropbox/work/Smallprojects/galaxies/data_hstha/ngc4254/muse/NGC4254_nebmask.fits\n",
      "/Users/abarnes/Dropbox/work/Smallprojects/galaxies/data_hstha/ngc1512/hst_contsub/ngc1512_hst_ha_sic.fits /Users/abarnes/Dropbox/work/Smallprojects/galaxies/data_hstha/ngc1512/muse/NGC1512_nebmask.fits\n",
      "/Users/abarnes/Dropbox/work/Smallprojects/galaxies/data_hstha/ngc1433/hst_contsub/ngc1433_hst_ha_sic.fits /Users/abarnes/Dropbox/work/Smallprojects/galaxies/data_hstha/ngc1433/muse/NGC1433_nebmask.fits\n",
      "/Users/abarnes/Dropbox/work/Smallprojects/galaxies/data_hstha/ngc5068/hst_contsub/ngc5068_hst_ha_sic.fits /Users/abarnes/Dropbox/work/Smallprojects/galaxies/data_hstha/ngc5068/muse/NGC5068_nebmask.fits\n",
      "/Users/abarnes/Dropbox/work/Smallprojects/galaxies/data_hstha/ngc4321/hst_contsub/ngc4321_hst_ha_sic.fits /Users/abarnes/Dropbox/work/Smallprojects/galaxies/data_hstha/ngc4321/muse/NGC4321_nebmask.fits\n",
      "/Users/abarnes/Dropbox/work/Smallprojects/galaxies/data_hstha/ngc1365n/hst_contsub/ngc1365n_hst_ha_sic.fits /Users/abarnes/Dropbox/work/Smallprojects/galaxies/data_hstha/ngc1365n/muse/NGC1365_nebmask.fits\n",
      "/Users/abarnes/Dropbox/work/Smallprojects/galaxies/data_hstha/ngc4303/hst_contsub/ngc4303_hst_ha_sic.fits /Users/abarnes/Dropbox/work/Smallprojects/galaxies/data_hstha/ngc4303/muse/NGC4303_nebmask.fits\n",
      "/Users/abarnes/Dropbox/work/Smallprojects/galaxies/data_hstha/ngc1087/hst_contsub/ngc1087_hst_ha_sic.fits /Users/abarnes/Dropbox/work/Smallprojects/galaxies/data_hstha/ngc1087/muse/NGC1087_nebmask.fits\n",
      "/Users/abarnes/Dropbox/work/Smallprojects/galaxies/data_hstha/ngc7496/hst_contsub/ngc7496_hst_ha_sic.fits /Users/abarnes/Dropbox/work/Smallprojects/galaxies/data_hstha/ngc7496/muse/NGC7496_nebmask.fits\n",
      "/Users/abarnes/Dropbox/work/Smallprojects/galaxies/data_hstha/ngc1385/hst_contsub/ngc1385_hst_ha_sic.fits /Users/abarnes/Dropbox/work/Smallprojects/galaxies/data_hstha/ngc1385/muse/NGC1385_nebmask.fits\n",
      "/Users/abarnes/Dropbox/work/Smallprojects/galaxies/data_hstha/ngc2835s/hst_contsub/ngc2835s_hst_ha_sic.fits /Users/abarnes/Dropbox/work/Smallprojects/galaxies/data_hstha/ngc2835s/muse/NGC2835_nebmask.fits\n",
      "/Users/abarnes/Dropbox/work/Smallprojects/galaxies/data_hstha/ic5332/hst_contsub/ic5332_hst_ha_sic.fits /Users/abarnes/Dropbox/work/Smallprojects/galaxies/data_hstha/ic5332/muse/IC5332_nebmask.fits\n",
      "/Users/abarnes/Dropbox/work/Smallprojects/galaxies/data_hstha/ngc3351/hst_contsub/ngc3351_hst_ha_sic.fits /Users/abarnes/Dropbox/work/Smallprojects/galaxies/data_hstha/ngc3351/muse/NGC3351_nebmask.fits\n",
      "/Users/abarnes/Dropbox/work/Smallprojects/galaxies/data_hstha/ngc628c/hst_contsub/ngc628c_hst_ha_sic.fits /Users/abarnes/Dropbox/work/Smallprojects/galaxies/data_hstha/ngc628c/muse/NGC0628_nebmask.fits\n",
      "/Users/abarnes/Dropbox/work/Smallprojects/galaxies/data_hstha/ngc1672/hst_contsub/ngc1672_hst_ha_sic.fits /Users/abarnes/Dropbox/work/Smallprojects/galaxies/data_hstha/ngc1672/muse/NGC1672_nebmask.fits\n",
      "/Users/abarnes/Dropbox/work/Smallprojects/galaxies/data_hstha/ngc1300/hst_contsub/ngc1300_hst_ha_sic.fits /Users/abarnes/Dropbox/work/Smallprojects/galaxies/data_hstha/ngc1300/muse/NGC1300_nebmask.fits\n",
      "/Users/abarnes/Dropbox/work/Smallprojects/galaxies/data_hstha/ngc1566/hst_contsub/ngc1566_hst_ha_sic.fits /Users/abarnes/Dropbox/work/Smallprojects/galaxies/data_hstha/ngc1566/muse/NGC1566_nebmask.fits\n"
     ]
    }
   ],
   "source": [
    "files_nebs = []\n",
    "for file_maps in files_maps: \n",
    "    for file_nebs in files_nebs_: \n",
    "        if file_maps.split(root_dir)[-1].split('/')[0] == file_nebs.split(root_dir)[-1].split('/')[0]:\n",
    "            print(file_maps, file_nebs)\n",
    "            files_nebs += [file_nebs]\n",
    "            break\n",
    "\n",
    "if len(files_maps) != len(files_nebs):\n",
    "    print('WARNING: DIFFERENT NUMBER OF FILES')"
   ]
  },
  {
   "cell_type": "code",
   "execution_count": 6,
   "metadata": {},
   "outputs": [
    {
     "name": "stdout",
     "output_type": "stream",
     "text": [
      "104.19066496276069 20.455137 17.919247\n",
      "116.52447842590125 24.253899 21.304026\n",
      "97.14608739883653 8.452168 6.8892026\n",
      "89.60047326517433 7.658343 5.0533876\n",
      "107.32039309108784 14.663575 12.013839\n",
      "92.52699286036356 7.554715 5.776401\n",
      "86.74731347748111 14.996686 11.78062\n",
      "112.6206010068444 17.385052 15.513111\n",
      "94.22991203985963 8.879118 6.7230635\n",
      "81.67794208496485 11.648807 9.424653\n",
      "94.02981412996763 8.5234785 6.3709226\n",
      "118.91419493970301 8.067088 5.8374014\n",
      "91.6787315568802 12.29103 10.132849\n",
      "98.86243881507635 -1.3010136 -2.7290134\n",
      "38.43740588195304 13.72786 11.398844\n",
      "33.684780771050725 10.5704155 7.9639378\n",
      "23.091591482905738 4.5896654 3.8047748\n",
      "95.62139561997434 5.5193486 3.6181595\n"
     ]
    }
   ],
   "source": [
    "output_stats = []\n",
    "\n",
    "for file_maps, file_nebs in zip(files_maps, files_nebs): \n",
    "\n",
    "    # Loading files...\n",
    "    hstha_hdu = fits.open(file_maps)[0]\n",
    "    muscat_hdu = fits.open(file_nebs)[0]\n",
    "\n",
    "    # Update arrays\n",
    "    muscat_hdu.data = np.array(muscat_hdu.data, dtype=float)\n",
    "    muscat_hdu.data[muscat_hdu.data==-1] = np.nan\n",
    "\n",
    "    # Interpolate masks\n",
    "    muscat_data_re, _ = reproject_interp(muscat_hdu, hstha_hdu.header)\n",
    "    muscat_data_mask = ~np.isnan(muscat_data_re)\n",
    "    data_outmask = hstha_hdu.data[~muscat_data_mask]\n",
    "\n",
    "    # Get RMS for whole map... \n",
    "    std = stats.mad_std(data_outmask, ignore_nan=True)  # Get noise\n",
    "    std = stats.mad_std(data_outmask[data_outmask<20*std], ignore_nan=True)  \n",
    "    mean = np.nanmean(data_outmask[data_outmask<20*std])  \n",
    "    median = np.nanmedian(data_outmask[data_outmask<20*std])  \n",
    "    print(std, mean, median)\n",
    "    output_stats += [[std, mean, median]]"
   ]
  },
  {
   "cell_type": "code",
   "execution_count": 7,
   "metadata": {
    "vscode": {
     "languageId": "ruby"
    }
   },
   "outputs": [
    {
     "data": {
      "text/html": [
       "<div><i>QTable length=18</i>\n",
       "<table id=\"table140319419406176\" class=\"table-striped table-bordered table-condensed\">\n",
       "<thead><tr><th>gal_name</th><th>std</th><th>mean</th><th>median</th></tr></thead>\n",
       "<thead><tr><th>str8</th><th>float64</th><th>float64</th><th>float64</th></tr></thead>\n",
       "<tr><td>IC~5332</td><td>91.6787315568802</td><td>12.291029930114746</td><td>10.132848739624023</td></tr>\n",
       "<tr><td>NGC~0628</td><td>38.43740588195304</td><td>13.727860450744629</td><td>11.398843765258789</td></tr>\n",
       "<tr><td>NGC~1087</td><td>94.22991203985963</td><td>8.879117965698242</td><td>6.7230634689331055</td></tr>\n",
       "<tr><td>NGC~1300</td><td>23.091591482905738</td><td>4.589665412902832</td><td>3.804774761199951</td></tr>\n",
       "<tr><td>NGC~1365</td><td>86.74731347748111</td><td>14.996685981750488</td><td>11.780619621276855</td></tr>\n",
       "<tr><td>NGC~1385</td><td>94.02981412996763</td><td>8.523478507995605</td><td>6.370922565460205</td></tr>\n",
       "<tr><td>NGC~1433</td><td>89.60047326517433</td><td>7.6583428382873535</td><td>5.053387641906738</td></tr>\n",
       "<tr><td>NGC~1512</td><td>97.14608739883653</td><td>8.452168464660645</td><td>6.88920259475708</td></tr>\n",
       "<tr><td>NGC~1566</td><td>95.62139561997434</td><td>5.519348621368408</td><td>3.618159532546997</td></tr>\n",
       "<tr><td>NGC~1672</td><td>33.684780771050725</td><td>10.570415496826172</td><td>7.963937759399414</td></tr>\n",
       "<tr><td>NGC~2835</td><td>118.91419493970301</td><td>8.06708812713623</td><td>5.837401390075684</td></tr>\n",
       "<tr><td>NGC~3351</td><td>98.86243881507635</td><td>-1.3010135889053345</td><td>-2.729013442993164</td></tr>\n",
       "<tr><td>NGC~3627</td><td>104.19066496276069</td><td>20.455137252807617</td><td>17.919246673583984</td></tr>\n",
       "<tr><td>NGC~4254</td><td>116.52447842590125</td><td>24.25389862060547</td><td>21.304025650024414</td></tr>\n",
       "<tr><td>NGC~4303</td><td>112.6206010068444</td><td>17.385051727294922</td><td>15.513111114501953</td></tr>\n",
       "<tr><td>NGC~4321</td><td>92.52699286036356</td><td>7.554715156555176</td><td>5.776401042938232</td></tr>\n",
       "<tr><td>NGC~5068</td><td>107.32039309108784</td><td>14.663575172424316</td><td>12.013838768005371</td></tr>\n",
       "<tr><td>NGC~7496</td><td>81.67794208496485</td><td>11.64880657196045</td><td>9.424653053283691</td></tr>\n",
       "</table></div>"
      ],
      "text/plain": [
       "<QTable length=18>\n",
       "gal_name        std                 mean              median      \n",
       "  str8        float64             float64            float64      \n",
       "-------- ------------------ ------------------- ------------------\n",
       " IC~5332   91.6787315568802  12.291029930114746 10.132848739624023\n",
       "NGC~0628  38.43740588195304  13.727860450744629 11.398843765258789\n",
       "NGC~1087  94.22991203985963   8.879117965698242 6.7230634689331055\n",
       "NGC~1300 23.091591482905738   4.589665412902832  3.804774761199951\n",
       "NGC~1365  86.74731347748111  14.996685981750488 11.780619621276855\n",
       "NGC~1385  94.02981412996763   8.523478507995605  6.370922565460205\n",
       "NGC~1433  89.60047326517433  7.6583428382873535  5.053387641906738\n",
       "NGC~1512  97.14608739883653   8.452168464660645   6.88920259475708\n",
       "NGC~1566  95.62139561997434   5.519348621368408  3.618159532546997\n",
       "NGC~1672 33.684780771050725  10.570415496826172  7.963937759399414\n",
       "NGC~2835 118.91419493970301    8.06708812713623  5.837401390075684\n",
       "NGC~3351  98.86243881507635 -1.3010135889053345 -2.729013442993164\n",
       "NGC~3627 104.19066496276069  20.455137252807617 17.919246673583984\n",
       "NGC~4254 116.52447842590125   24.25389862060547 21.304025650024414\n",
       "NGC~4303  112.6206010068444  17.385051727294922 15.513111114501953\n",
       "NGC~4321  92.52699286036356   7.554715156555176  5.776401042938232\n",
       "NGC~5068 107.32039309108784  14.663575172424316 12.013838768005371\n",
       "NGC~7496  81.67794208496485   11.64880657196045  9.424653053283691"
      ]
     },
     "execution_count": 7,
     "metadata": {},
     "output_type": "execute_result"
    }
   ],
   "source": [
    "# Get into a astropy table the output of the stats of the maps to .tex\n",
    "gals = []\n",
    "for file_maps in files_maps:\n",
    "    gal = file_maps.split(root_dir)[-1].split('/')[0]\n",
    "    gals += [gal]\n",
    "\n",
    "output_stats = np.array([output_stats][0], dtype=np.float64)\n",
    "gals = np.array(gals)\n",
    "\n",
    "for i, gal in enumerate(gals):\n",
    "    gal = gal.upper()\n",
    "    if 'NGC' in gal:\n",
    "        gal_split = gal.split('NGC')\n",
    "        gal = 'NGC~' + gal_split[1]\n",
    "    if 'IC' in gal:\n",
    "        gal_split = gal.split('IC')\n",
    "        gal = 'IC~' + gal_split[1]\n",
    "    if '628C' in gal:\n",
    "        gal_split = gal.split('628C')\n",
    "        gal = gal_split[0] + '0628'\n",
    "    gals[i] = gal\n",
    "\n",
    "table1 = Column(gals, name='gal_name')\n",
    "table2 = QTable(output_stats, names=('std', 'mean', 'median'))\n",
    "\n",
    "table = hstack([table1, table2])\n",
    "table.sort('gal_name')\n",
    "table"
   ]
  },
  {
   "cell_type": "code",
   "execution_count": 8,
   "metadata": {
    "vscode": {
     "languageId": "ruby"
    }
   },
   "outputs": [],
   "source": [
    "formats={\n",
    "        'gal_name': '%s',\n",
    "        'std': '%0.1f',\n",
    "        'mean': '%0.1f',\n",
    "        'median': '%0.1f'}\n",
    "\n",
    "table.write('./tabs/galmap_props.tex', formats=formats, overwrite=True)"
   ]
  },
  {
   "cell_type": "code",
   "execution_count": 9,
   "metadata": {
    "vscode": {
     "languageId": "ruby"
    }
   },
   "outputs": [
    {
     "data": {
      "text/html": [
       "<div><i>QTable length=18</i>\n",
       "<table id=\"table140319419406176\" class=\"table-striped table-bordered table-condensed\">\n",
       "<thead><tr><th>gal_name</th><th>std</th><th>mean</th><th>median</th></tr></thead>\n",
       "<thead><tr><th>str8</th><th>float64</th><th>float64</th><th>float64</th></tr></thead>\n",
       "<tr><td>IC5332</td><td>91.6787315568802</td><td>12.291029930114746</td><td>10.132848739624023</td></tr>\n",
       "<tr><td>NGC0628</td><td>38.43740588195304</td><td>13.727860450744629</td><td>11.398843765258789</td></tr>\n",
       "<tr><td>NGC1087</td><td>94.22991203985963</td><td>8.879117965698242</td><td>6.7230634689331055</td></tr>\n",
       "<tr><td>NGC1300</td><td>23.091591482905738</td><td>4.589665412902832</td><td>3.804774761199951</td></tr>\n",
       "<tr><td>NGC1365</td><td>86.74731347748111</td><td>14.996685981750488</td><td>11.780619621276855</td></tr>\n",
       "<tr><td>NGC1385</td><td>94.02981412996763</td><td>8.523478507995605</td><td>6.370922565460205</td></tr>\n",
       "<tr><td>NGC1433</td><td>89.60047326517433</td><td>7.6583428382873535</td><td>5.053387641906738</td></tr>\n",
       "<tr><td>NGC1512</td><td>97.14608739883653</td><td>8.452168464660645</td><td>6.88920259475708</td></tr>\n",
       "<tr><td>NGC1566</td><td>95.62139561997434</td><td>5.519348621368408</td><td>3.618159532546997</td></tr>\n",
       "<tr><td>NGC1672</td><td>33.684780771050725</td><td>10.570415496826172</td><td>7.963937759399414</td></tr>\n",
       "<tr><td>NGC2835</td><td>118.91419493970301</td><td>8.06708812713623</td><td>5.837401390075684</td></tr>\n",
       "<tr><td>NGC3351</td><td>98.86243881507635</td><td>-1.3010135889053345</td><td>-2.729013442993164</td></tr>\n",
       "<tr><td>NGC3627</td><td>104.19066496276069</td><td>20.455137252807617</td><td>17.919246673583984</td></tr>\n",
       "<tr><td>NGC4254</td><td>116.52447842590125</td><td>24.25389862060547</td><td>21.304025650024414</td></tr>\n",
       "<tr><td>NGC4303</td><td>112.6206010068444</td><td>17.385051727294922</td><td>15.513111114501953</td></tr>\n",
       "<tr><td>NGC4321</td><td>92.52699286036356</td><td>7.554715156555176</td><td>5.776401042938232</td></tr>\n",
       "<tr><td>NGC5068</td><td>107.32039309108784</td><td>14.663575172424316</td><td>12.013838768005371</td></tr>\n",
       "<tr><td>NGC7496</td><td>81.67794208496485</td><td>11.64880657196045</td><td>9.424653053283691</td></tr>\n",
       "</table></div>"
      ],
      "text/plain": [
       "<QTable length=18>\n",
       "gal_name        std                 mean              median      \n",
       "  str8        float64             float64            float64      \n",
       "-------- ------------------ ------------------- ------------------\n",
       "  IC5332   91.6787315568802  12.291029930114746 10.132848739624023\n",
       " NGC0628  38.43740588195304  13.727860450744629 11.398843765258789\n",
       " NGC1087  94.22991203985963   8.879117965698242 6.7230634689331055\n",
       " NGC1300 23.091591482905738   4.589665412902832  3.804774761199951\n",
       " NGC1365  86.74731347748111  14.996685981750488 11.780619621276855\n",
       " NGC1385  94.02981412996763   8.523478507995605  6.370922565460205\n",
       " NGC1433  89.60047326517433  7.6583428382873535  5.053387641906738\n",
       " NGC1512  97.14608739883653   8.452168464660645   6.88920259475708\n",
       " NGC1566  95.62139561997434   5.519348621368408  3.618159532546997\n",
       " NGC1672 33.684780771050725  10.570415496826172  7.963937759399414\n",
       " NGC2835 118.91419493970301    8.06708812713623  5.837401390075684\n",
       " NGC3351  98.86243881507635 -1.3010135889053345 -2.729013442993164\n",
       " NGC3627 104.19066496276069  20.455137252807617 17.919246673583984\n",
       " NGC4254 116.52447842590125   24.25389862060547 21.304025650024414\n",
       " NGC4303  112.6206010068444  17.385051727294922 15.513111114501953\n",
       " NGC4321  92.52699286036356   7.554715156555176  5.776401042938232\n",
       " NGC5068 107.32039309108784  14.663575172424316 12.013838768005371\n",
       " NGC7496  81.67794208496485   11.64880657196045  9.424653053283691"
      ]
     },
     "execution_count": 9,
     "metadata": {},
     "output_type": "execute_result"
    }
   ],
   "source": [
    "# Reorganise to match names in .fits files\n",
    "gals = table['gal_name']\n",
    "\n",
    "for i, gal in enumerate(gals):\n",
    "    if '~' in gal:\n",
    "        gal_split = gal.split('~')\n",
    "        gal = gal_split[0] + gal_split[1]\n",
    "    table['gal_name'][i] = gal\n",
    "\n",
    "table.write('./tabs/galmap_props.fits', overwrite=True)\n",
    "table"
   ]
  }
 ],
 "metadata": {
  "kernelspec": {
   "display_name": "base",
   "language": "python",
   "name": "python3"
  },
  "language_info": {
   "codemirror_mode": {
    "name": "ipython",
    "version": 3
   },
   "file_extension": ".py",
   "mimetype": "text/x-python",
   "name": "python",
   "nbconvert_exporter": "python",
   "pygments_lexer": "ipython3",
   "version": "3.9.13"
  }
 },
 "nbformat": 4,
 "nbformat_minor": 2
}
