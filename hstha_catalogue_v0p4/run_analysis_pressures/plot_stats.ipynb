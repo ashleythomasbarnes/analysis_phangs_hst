{
 "cells": [
  {
   "cell_type": "code",
   "execution_count": 32,
   "metadata": {},
   "outputs": [],
   "source": [
    "from imports import *\n",
    "from tools import *"
   ]
  },
  {
   "cell_type": "code",
   "execution_count": 33,
   "metadata": {},
   "outputs": [
    {
     "name": "stdout",
     "output_type": "stream",
     "text": [
      "Number of regions: 7710\n",
      "Number of HII regions: 6989\n"
     ]
    }
   ],
   "source": [
    "root_dir = '/Users/abarnes/Dropbox/work/Smallprojects/galaxies'\n",
    "table = QTable.read('%s/data_hstha_nebulae_catalogue/all/nebulae_catalogue.fits' %root_dir)\n",
    "print('Number of regions: %i' %len(table))\n",
    "\n",
    "# Get HII region mask\n",
    "mask = table['HII_class_v3_MUSE'] == 1\n",
    "table = table[mask]\n",
    "print('Number of HII regions: %i' %len(table))"
   ]
  },
  {
   "cell_type": "code",
   "execution_count": 34,
   "metadata": {},
   "outputs": [
    {
     "name": "stdout",
     "output_type": "stream",
     "text": [
      "Number of regions: 5466\n",
      "Number of HII regions: 5151\n",
      "Number of regions <5 Myr: 2518\n"
     ]
    }
   ],
   "source": [
    "root_dir = '/Users/abarnes/Dropbox/work/Smallprojects/galaxies'\n",
    "table = QTable.read('%s/data_hstha_nebulae_catalogue/all/nebulae_catalogue_wclusters_wprops.fits' %root_dir)\n",
    "print('Number of regions: %i' %len(table))\n",
    "\n",
    "# Get HII region mask\n",
    "mask = table['HII_class_v3_MUSE'] == 1\n",
    "table = table[mask]\n",
    "print('Number of HII regions: %i' %len(table))\n",
    "\n",
    "# Get age mask\n",
    "age = table['reg_dolflux_Age_MinChiSq'].value\n",
    "age_ = table['reg_dolflux_Age_MinChiSq_massweighted'].value\n",
    "age[~age_.mask] = age_[~age_.mask]\n",
    "mask = age <= 5\n",
    "table = table[mask]\n",
    "print('Number of regions <5 Myr: %i' %len(table))\n",
    "\n",
    "radius_circ_pc  = np.log10(table['radius_circ_pc'].value)\n",
    "radius_mom_pc   = np.log10(table['mean_sigma_pc'].value)\n",
    "radius_strom_pc = np.log10(table['radius_strom_pc'].value)\n",
    "\n",
    "raduis_eff = table['r_reff_MUSE'].value\n",
    "\n",
    "Pdir_circ  = np.log10(table['Pdir_circ'].value)\n",
    "Pdir_mom   = np.log10(table['Pdir_mom'].value)\n",
    "Pdir_strom = np.log10(table['Pdir_strom'].value) \n",
    "Ptherm     = np.log10(table['Ptherm'].value)\n",
    "\n",
    "Pdir_circ_Lbol_KE12  = np.log10(table['Pdir_circ_Lbol_KE12'].value)\n",
    "Pdir_circ_Lbol_B21  = np.log10(table['Pdir_circ_Lbol_B21'].value)\n",
    "\n",
    "mass = np.log10(table['reg_dolflux_Mass_MinChiSq'].value)\n",
    "age = table['reg_dolflux_Age_MinChiSq'].value\n",
    "\n",
    "mass_ = np.log10(table['reg_dolflux_Mass_MinChiSq_sum'].value)\n",
    "age_ = table['reg_dolflux_Age_MinChiSq_massweighted'].value\n",
    "mass[~mass_.mask] = mass_[~mass_.mask]\n",
    "age[~age_.mask] = age_[~age_.mask]\n",
    "\n",
    "sii = table['SII6716_FLUX_CORR_MUSE'].value\n",
    "siii = table['SIII9068_FLUX_CORR_MUSE'].value\n",
    "sii_err = table['SII6716_FLUX_CORR_ERR_MUSE'].value\n",
    "siii_err = table['SIII9068_FLUX_CORR_ERR_MUSE'].value\n",
    "\n",
    "s_mask = (sii > 0) & (siii > 0) & (siii/sii > 0) & (sii/sii_err>3) & (siii/siii_err>3)\n",
    "ratio_siii_sii = np.log10(siii/sii)\n",
    "\n",
    "ebv = table['EBV_MUSE'].value"
   ]
  },
  {
   "cell_type": "code",
   "execution_count": 39,
   "metadata": {},
   "outputs": [
    {
     "name": "stdout",
     "output_type": "stream",
     "text": [
      "Pdir median: 4.67\n",
      "Pdir mean: 4.70\n",
      "Pdir std: 0.36\n",
      "Ptherm median: 5.84\n",
      "Ptherm mean: 5.85\n",
      "Ptherm std: 0.22\n"
     ]
    }
   ],
   "source": [
    "print('Pdir median: %.2f' %np.median(Pdir_circ))\n",
    "print('Pdir mean: %.2f' %np.mean(Pdir_circ))\n",
    "print('Pdir std: %.2f' %np.std(Pdir_circ))\n",
    "\n",
    "print('Ptherm median: %.2f' %np.median(Ptherm))\n",
    "print('Ptherm mean: %.2f' %np.mean(Ptherm))\n",
    "print('Ptherm std: %.2f' %np.std(Ptherm))"
   ]
  },
  {
   "cell_type": "code",
   "execution_count": 35,
   "metadata": {},
   "outputs": [
    {
     "name": "stdout",
     "output_type": "stream",
     "text": [
      "Te min = 6098.22, max = 15183.13\n",
      "Te mean = 8665.66, std = 1354.41\n",
      "Te median = 8396.15\n",
      "Number masked = 1133, non-masked = 2518\n"
     ]
    }
   ],
   "source": [
    "mask = table['t_N2_MUSE'] == 8000 *u.K\n",
    "Te_masked = table['t_N2_MUSE'][~mask]\n",
    "print('Te min = %.2f, max = %.2f' %(np.min(Te_masked.value), np.max(Te_masked.value)))\n",
    "print('Te mean = %.2f, std = %.2f' %(np.mean(Te_masked.value), np.std(Te_masked.value)))\n",
    "print('Te median = %.2f' %(np.median(Te_masked.value)))\n",
    "print('Number masked = %i, non-masked = %i' %(np.sum(mask), len(mask)))"
   ]
  },
  {
   "cell_type": "code",
   "execution_count": 36,
   "metadata": {},
   "outputs": [
    {
     "name": "stdout",
     "output_type": "stream",
     "text": [
      "Number of objects = 2518\n",
      "Number of objects with electron density 1055\n"
     ]
    }
   ],
   "source": [
    "print('Number of objects = %i' %len(table))\n",
    "print('Number of objects with electron density %i' %sum(~Ptherm.mask))"
   ]
  },
  {
   "cell_type": "code",
   "execution_count": null,
   "metadata": {},
   "outputs": [],
   "source": []
  }
 ],
 "metadata": {
  "kernelspec": {
   "display_name": "base",
   "language": "python",
   "name": "python3"
  },
  "language_info": {
   "codemirror_mode": {
    "name": "ipython",
    "version": 3
   },
   "file_extension": ".py",
   "mimetype": "text/x-python",
   "name": "python",
   "nbconvert_exporter": "python",
   "pygments_lexer": "ipython3",
   "version": "3.9.13"
  }
 },
 "nbformat": 4,
 "nbformat_minor": 2
}
