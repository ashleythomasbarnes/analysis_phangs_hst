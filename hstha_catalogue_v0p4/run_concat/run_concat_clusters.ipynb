{
 "cells": [
  {
   "cell_type": "code",
   "execution_count": null,
   "metadata": {},
   "outputs": [],
   "source": [
    "import warnings\n",
    "warnings.filterwarnings('ignore')\n",
    "\n",
    "from astropy.table import QTable, join, vstack\n",
    "import astropy.units as au\n",
    "import numpy as np\n",
    "from glob import glob\n",
    "import os"
   ]
  },
  {
   "cell_type": "code",
   "execution_count": null,
   "metadata": {},
   "outputs": [],
   "source": [
    "root_dir = '/Users/abarnes/Dropbox/work/Smallprojects/galaxies'\n",
    "dendro_dir = '%s/data_hstha_nebulae_catalogue/' %(root_dir)\n",
    "\n",
    "tables = []\n",
    "for root, dirs, files in os.walk(dendro_dir):\n",
    "    for file in files:\n",
    "        if file.endswith(\"props_all_cluster.fits\"):\n",
    "            if 'dendro' in root: \n",
    "                continue\n",
    "            print(os.path.join(root, file))\n",
    "            tables += [QTable.read(os.path.join(root, file))]"
   ]
  },
  {
   "cell_type": "code",
   "execution_count": null,
   "metadata": {},
   "outputs": [],
   "source": [
    "# Join tables\n",
    "table = vstack(tables)\n",
    "\n",
    "# Order by galaxy names and region IDs from MUSE\n",
    "gal_name = table['gal_name']\n",
    "table.remove_column('gal_name')\n",
    "table.add_column(gal_name, index=0)\n",
    "table.sort(['gal_name', 'region_ID'])\n",
    "\n",
    "# # Remove masked values\n",
    "# mask = table['_idx'].mask\n",
    "# table_masked = table[~mask]"
   ]
  },
  {
   "cell_type": "code",
   "execution_count": null,
   "metadata": {},
   "outputs": [],
   "source": [
    "table.write(dendro_dir+'/all/nebulae_catalogue_wclusters.fits', overwrite=True)"
   ]
  },
  {
   "cell_type": "code",
   "execution_count": null,
   "metadata": {},
   "outputs": [],
   "source": [
    "mask = table['gal_name'] == 'NGC4303'\n",
    "table_masked = table[mask]\n",
    "\n",
    "for region_ID, reg_id in zip(table_masked['region_ID'], table_masked['reg_id']):\n",
    "    print(region_ID, reg_id)"
   ]
  },
  {
   "cell_type": "code",
   "execution_count": null,
   "metadata": {},
   "outputs": [],
   "source": [
    "table"
   ]
  },
  {
   "cell_type": "code",
   "execution_count": null,
   "metadata": {},
   "outputs": [],
   "source": [
    "import matplotlib.pyplot as plt\n",
    "plt.style.use('paper')\n",
    "\n",
    "table_masked_ = table[table['reg_dolflux_Age_MinChiSq']<10]\n",
    "\n",
    "fig = plt.figure(figsize=(4,4))\n",
    "ax = fig.add_subplot(111)\n",
    "\n",
    "ax.scatter(table_masked_['mean_sigma_pc'], \n",
    "            table_masked_['HA6562_LUMINOSITY_HST']/table_masked_['mean_sigma_pc']**2,\n",
    "            c=table_masked_['reg_dolflux_Age_MinChiSq'],\n",
    "            s=np.log10(table_masked_['reg_dolflux_Mass_MinChiSq']))\n",
    "\n",
    "ax.set_xscale('log')\n",
    "ax.set_yscale('log')\n",
    "\n",
    "ax.set_xlabel('Radius (pc)')\n",
    "ax.set_ylabel('Luminosity (erg/s)')\n",
    "ax.grid(alpha=0.3, linestyle=':')\n",
    "\n",
    "fig.tight_layout()"
   ]
  },
  {
   "cell_type": "code",
   "execution_count": null,
   "metadata": {},
   "outputs": [],
   "source": [
    "import matplotlib.pyplot as plt\n",
    "plt.style.use('paper')\n",
    "\n",
    "table_masked_ = table[table['reg_dolflux_Age_MinChiSq']<10]\n",
    "\n",
    "fig = plt.figure(figsize=(8,3))\n",
    "ax1 = fig.add_subplot(121)\n",
    "ax2 = fig.add_subplot(122)\n",
    "\n",
    "ax1.scatter(table_masked_['reg_dolflux_Age_MinChiSq'], \n",
    "            table_masked_['HA6562_LUMINOSITY_HST']/table_masked_['mean_sigma_pc']**2)\n",
    "\n",
    "ax2.scatter(table_masked_['reg_dolflux_Mass_MinChiSq'], \n",
    "            table_masked_['HA6562_LUMINOSITY_HST']/table_masked_['mean_sigma_pc']**2)\n",
    "\n",
    "for ax in [ax1, ax2]:\n",
    "    ax.set_xscale('log')\n",
    "    ax.set_yscale('log')\n",
    "    ax.grid(alpha=0.3, linestyle=':')\n",
    "    \n",
    "# ax.set_xlabel('Radius (pc)')\n",
    "# ax.set_ylabel('Luminosity (erg/s)')\n",
    "\n",
    "fig.tight_layout()"
   ]
  },
  {
   "cell_type": "code",
   "execution_count": null,
   "metadata": {},
   "outputs": [],
   "source": [
    "import matplotlib.pyplot as plt\n",
    "import numpy as np\n",
    "\n",
    "fig = plt.figure(figsize=(12,3))\n",
    "ax1 = fig.add_subplot(131)\n",
    "ax2 = fig.add_subplot(132)\n",
    "ax3 = fig.add_subplot(133)\n",
    "\n",
    "bins = np.linspace(0,50,50)\n",
    "ax1.hist(table['reg_dolflux_Age_MinChiSq'], alpha=0.3, fc='C0', bins=bins)\n",
    "ax1.hist(table['reg_dolflux_Age_MinChiSq'], fc='none', ec='C0', lw=1.5, bins=bins)\n",
    "ax1.set_ylabel('#')\n",
    "ax1.set_xlabel('Cluster age, Myr')\n",
    "ax1.grid(alpha=0.3, linestyle=':')\n",
    "# ax1.set_xlim(0,20)\n",
    "\n",
    "bins = np.linspace(2,9,50)\n",
    "ax2.hist(np.log10(table['reg_dolflux_Mass_MinChiSq']), alpha=0.3, fc='C1', bins=bins)\n",
    "ax2.hist(np.log10(table['reg_dolflux_Mass_MinChiSq']), fc='none', ec='C1', lw=1.5, bins=bins)\n",
    "ax2.set_ylabel('#')\n",
    "ax2.set_xlabel('Cluster mass, log(Msun)')\n",
    "ax2.grid(alpha=0.3, linestyle=':')\n",
    "\n",
    "bins = np.linspace(0,2,50)\n",
    "ax3.hist(table['reg_dolflux_Ebv_MinChiSq'], alpha=0.3, fc='C2', bins=bins)\n",
    "ax3.hist(table['reg_dolflux_Ebv_MinChiSq'], fc='none', ec='C2', bins=bins)\n",
    "ax3.set_ylabel('#')\n",
    "ax3.set_xlabel('EBV (mag)')\n",
    "ax3.grid(alpha=0.3, linestyle=':')\n",
    "\n",
    "fig.tight_layout()"
   ]
  }
 ],
 "metadata": {
  "kernelspec": {
   "display_name": "base",
   "language": "python",
   "name": "python3"
  },
  "language_info": {
   "codemirror_mode": {
    "name": "ipython",
    "version": 3
   },
   "file_extension": ".py",
   "mimetype": "text/x-python",
   "name": "python",
   "nbconvert_exporter": "python",
   "pygments_lexer": "ipython3",
   "version": "3.9.13"
  }
 },
 "nbformat": 4,
 "nbformat_minor": 2
}
