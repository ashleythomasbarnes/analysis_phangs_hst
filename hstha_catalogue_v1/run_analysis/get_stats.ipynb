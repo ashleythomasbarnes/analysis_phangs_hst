{
 "cells": [
  {
   "cell_type": "code",
   "execution_count": 1,
   "metadata": {},
   "outputs": [],
   "source": [
    "import numpy as np\n",
    "from astropy import units as u \n",
    "from astropy.io import fits\n",
    "import matplotlib.pyplot as plt\n",
    "import matplotlib as mpl\n",
    "from astropy.table import QTable\n",
    "import numpy as np\n",
    "\n",
    "plt.style.use('paper.mplstyle')"
   ]
  },
  {
   "cell_type": "code",
   "execution_count": 2,
   "metadata": {},
   "outputs": [
    {
     "name": "stdout",
     "output_type": "stream",
     "text": [
      "Table length post-masking (inc. HII regions only): 5362\n"
     ]
    }
   ],
   "source": [
    "root_dir = '/Users/abarnes/Dropbox/work/Smallprojects/galaxies'\n",
    "\n",
    "# table = QTable.read('%s/data_hstha_nebulae_catalogue/all/nebulae_catalogue.fits' %root_dir)\n",
    "table = QTable.read('%s/data_hstha_nebulae_catalogue/all/nebulae_catalogue_fixediso_10pc.fits' %root_dir)\n",
    "\n",
    "table_muse = QTable.read('%s/data_misc/Nebulae_catalogue_v4/Nebulae_catalogue_v4.fits' %root_dir)\n",
    "\n",
    "table = table[(table['flag_star_MUSE']!=1) & (table['flag_edge_MUSE']!=1) & (table[\"flag_edge_hst\"]!=1)] # remove stars and edge objects\n",
    "table_muse = table_muse[(table_muse['flag_star']!=1) & (table_muse['flag_edge']!=1)] # remove stars and edge objects\n",
    "\n",
    "print(f'Table length post-masking (inc. HII regions only): {len(table)}')"
   ]
  },
  {
   "cell_type": "code",
   "execution_count": 3,
   "metadata": {},
   "outputs": [],
   "source": [
    "# Calculate the percentiles for each \"gal_name\"\n",
    "percentiles = [10, 50, 90]\n",
    "columns = ['gal_name'] + [f'percentile_{p}' for p in percentiles]\n",
    "data = []\n",
    "\n",
    "for gal_name in np.unique(table['gal_name']):\n",
    "\n",
    "    table_masked = table[table['gal_name'] == gal_name]\n",
    "    table_muse_masked = table_muse[table_muse['gal_name'] == gal_name]\n",
    "\n",
    "    gal_data = [gal_name.replace('NGC', 'NGC~').replace('IC', 'IC~')]\n",
    "        \n",
    "    p_lum = np.percentile(table_masked['HA6562_LUMINOSITY_HST'], percentiles).to('dex(erg/s)')\n",
    "    p_rad = np.percentile(table_masked['radius_circ_pc'], percentiles)\n",
    "    p_muse_rad = np.percentile(table_masked['region_circ_rad_pc_MUSE'], percentiles)\n",
    "    p_muse_rad_ratio = np.percentile(table_masked['radius_circ_pc']/table_masked['region_circ_rad_pc_MUSE'], percentiles)\n",
    "\n",
    "    for values in [p_lum, p_rad, p_muse_rad, p_muse_rad_ratio]:\n",
    "        for value in values:\n",
    "            gal_data.extend([value])\n",
    "    \n",
    "    data.append(gal_data)"
   ]
  },
  {
   "cell_type": "code",
   "execution_count": 4,
   "metadata": {},
   "outputs": [],
   "source": [
    "# Calculate the percentiles for each \"gal_name\"\n",
    "percentiles = [10, 50, 90]\n",
    "\n",
    "gal_data = ['All']\n",
    "\n",
    "p_lum = np.percentile(table['HA6562_LUMINOSITY_HST'], percentiles).to('dex(erg/s)')\n",
    "p_rad = np.percentile(table['radius_circ_pc'], percentiles)\n",
    "p_muse_rad = np.percentile(table['region_circ_rad_pc_MUSE'], percentiles)\n",
    "p_muse_rad_ratio = np.percentile(table['radius_circ_pc']/table['region_circ_rad_pc_MUSE'], percentiles)\n",
    "\n",
    "for values in [p_lum, p_rad, p_muse_rad, p_muse_rad_ratio]:\n",
    "    for value in values:\n",
    "        gal_data.extend([value])\n",
    "\n",
    "data.append(gal_data)"
   ]
  },
  {
   "cell_type": "code",
   "execution_count": 5,
   "metadata": {},
   "outputs": [
    {
     "data": {
      "text/html": [
       "<div><i>QTable length=20</i>\n",
       "<table id=\"table140159696123648\" class=\"table-striped table-bordered table-condensed\">\n",
       "<thead><tr><th>gal_name</th><th>p10_lum</th><th>p50_lum</th><th>p90_lum</th><th>p10_rad</th><th>p50_rad</th><th>p90_rad</th><th>p10_muse_rad</th><th>p50_muse_rad</th><th>p90_muse_rad</th><th>p10_rad_ratio</th><th>p50_rad_ratio</th><th>p90_rad_ratio</th></tr></thead>\n",
       "<thead><tr><th></th><th>dex(erg / s)</th><th>dex(erg / s)</th><th>dex(erg / s)</th><th>pc</th><th>pc</th><th>pc</th><th>pc</th><th>pc</th><th>pc</th><th></th><th></th><th></th></tr></thead>\n",
       "<thead><tr><th>str8</th><th>float64</th><th>float64</th><th>float64</th><th>float64</th><th>float64</th><th>float64</th><th>float64</th><th>float64</th><th>float64</th><th>float64</th><th>float64</th><th>float64</th></tr></thead>\n",
       "<tr><td>IC~5332</td><td>36.79074373670279</td><td>37.40689038769775</td><td>38.06479586319056</td><td>9.324678899869532</td><td>19.381478628549935</td><td>36.98294045814851</td><td>40.16252807536435</td><td>59.147387412092584</td><td>80.26347079142718</td><td>0.24191326529168655</td><td>0.354568631978044</td><td>0.5029604750845589</td></tr>\n",
       "<tr><td>NGC~0628</td><td>37.01379162128957</td><td>37.6205529630047</td><td>38.38866901411616</td><td>10.978251421890922</td><td>21.140019037979783</td><td>47.203093071862426</td><td>39.33604492144887</td><td>60.18380336382286</td><td>95.32625197813688</td><td>0.2306673184056076</td><td>0.35227071784161595</td><td>0.5246860403234874</td></tr>\n",
       "<tr><td>NGC~1087</td><td>37.08663407974769</td><td>37.848690325364096</td><td>38.91303360034424</td><td>12.853970067078556</td><td>30.19412929692673</td><td>84.88392740400859</td><td>51.29710043866201</td><td>76.08589573311988</td><td>139.11050114185855</td><td>0.23399520283297334</td><td>0.41653098955918766</td><td>0.6933644949101667</td></tr>\n",
       "<tr><td>NGC~1300</td><td>37.134826211863675</td><td>37.73400612378115</td><td>38.730913954003626</td><td>11.99992168578596</td><td>23.822720335544656</td><td>65.34498287765028</td><td>58.76645141744895</td><td>74.91282063054364</td><td>119.62597711786296</td><td>0.1824763230801414</td><td>0.3350174989459489</td><td>0.5691834328616229</td></tr>\n",
       "<tr><td>NGC~1365</td><td>37.14426708443285</td><td>38.23177493802275</td><td>40.122424032665236</td><td>12.274819704647058</td><td>39.27484566722177</td><td>150.8439795006193</td><td>77.2008369956835</td><td>96.0541609931615</td><td>182.78131183177067</td><td>0.14427547715122663</td><td>0.417473234167666</td><td>0.9416500208442331</td></tr>\n",
       "<tr><td>NGC~1385</td><td>37.28684800370148</td><td>38.18384332608336</td><td>39.31662267900049</td><td>14.694099228209405</td><td>43.4857389297616</td><td>117.91392107236496</td><td>48.03406284888858</td><td>81.85283819054975</td><td>149.09610457334495</td><td>0.27040401134398</td><td>0.5191791986013603</td><td>0.888124699084432</td></tr>\n",
       "<tr><td>NGC~1433</td><td>36.95869117278865</td><td>37.671808080895865</td><td>38.56646381104584</td><td>8.846148770609842</td><td>21.366620695430957</td><td>60.04816651560787</td><td>58.54628242932918</td><td>72.06549195523239</td><td>119.53186368400395</td><td>0.13822692761612254</td><td>0.30146299764211115</td><td>0.5610659825518604</td></tr>\n",
       "<tr><td>NGC~1512</td><td>36.87858203831007</td><td>37.68468582391812</td><td>38.9134793553805</td><td>10.243178511088516</td><td>24.402238975236262</td><td>100.22893336624648</td><td>79.12356420177082</td><td>84.63085805126394</td><td>176.19070507198376</td><td>0.12138049926644161</td><td>0.28415788951454907</td><td>0.5591257718460332</td></tr>\n",
       "<tr><td>NGC~1566</td><td>37.13137174111634</td><td>37.99981474146994</td><td>39.10860470856621</td><td>12.275346731123264</td><td>32.87119592627793</td><td>102.57021318538013</td><td>50.28509168208595</td><td>83.8084861368099</td><td>143.1462368553165</td><td>0.23621465483737106</td><td>0.4036340440487519</td><td>0.7526075817126565</td></tr>\n",
       "<tr><td>NGC~1672</td><td>37.2288069448475</td><td>38.06876839622091</td><td>39.29961326027278</td><td>12.718810721246552</td><td>37.726251095933534</td><td>111.72436577826552</td><td>63.67698468827126</td><td>84.90264625102836</td><td>161.02069221117515</td><td>0.190244800461474</td><td>0.4277463745130858</td><td>0.7854898225551915</td></tr>\n",
       "<tr><td>NGC~2835</td><td>37.00717170899258</td><td>37.706152162904736</td><td>38.75192106722707</td><td>10.551641472712241</td><td>27.747091687207007</td><td>66.76651181034526</td><td>49.12444009944424</td><td>77.38434888428795</td><td>119.65941089899499</td><td>0.2142865691799404</td><td>0.36535676255080385</td><td>0.6177515811647921</td></tr>\n",
       "<tr><td>NGC~3351</td><td>36.99967119210045</td><td>37.567658598512466</td><td>39.006815679916876</td><td>10.539376684556832</td><td>19.3386364904391</td><td>79.15295095285948</td><td>41.48966184037944</td><td>66.50924111746396</td><td>104.57493915175874</td><td>0.2305978822520602</td><td>0.3060220970185574</td><td>0.757334525307488</td></tr>\n",
       "<tr><td>NGC~3627</td><td>37.39522762160331</td><td>38.287474906768516</td><td>39.33199588538198</td><td>14.4092347843524</td><td>42.778369015888345</td><td>106.38322288691785</td><td>48.04237716653212</td><td>80.62325208373426</td><td>132.62953567355567</td><td>0.2822174283696161</td><td>0.5210857705514883</td><td>0.9209692983339481</td></tr>\n",
       "<tr><td>NGC~4254</td><td>37.37411226424935</td><td>38.19596121030182</td><td>38.97629408019445</td><td>15.057764164502297</td><td>38.448918208061485</td><td>81.04988689121583</td><td>47.26484982646866</td><td>74.81937490409362</td><td>120.34407080090523</td><td>0.2790570399130382</td><td>0.510901004162554</td><td>0.8203266143731105</td></tr>\n",
       "<tr><td>NGC~4303</td><td>37.19331225764528</td><td>38.098250366098036</td><td>39.08564990159076</td><td>13.40433587649241</td><td>35.79754689327836</td><td>98.2979623529667</td><td>48.295289450357764</td><td>82.61072562065326</td><td>141.87335915981996</td><td>0.24407814713060053</td><td>0.43524955472933496</td><td>0.7909876053337153</td></tr>\n",
       "<tr><td>NGC~4321</td><td>37.1086380179977</td><td>37.89065656622708</td><td>38.96537212723124</td><td>11.748209409152196</td><td>25.905482493644655</td><td>82.462454953551</td><td>60.57545265643592</td><td>77.61012084047714</td><td>135.34821746340168</td><td>0.16959603949239968</td><td>0.3527655776335846</td><td>0.638287761003036</td></tr>\n",
       "<tr><td>NGC~4535</td><td>37.07256042542477</td><td>37.75558319299518</td><td>38.66379890644704</td><td>11.245624941301555</td><td>24.94217401229246</td><td>59.86480587810401</td><td>41.64073252769016</td><td>65.13263554800444</td><td>106.95415839330185</td><td>0.2551054894747319</td><td>0.3787186894528528</td><td>0.6370343679858003</td></tr>\n",
       "<tr><td>NGC~5068</td><td>37.07149855403633</td><td>37.61096660563935</td><td>38.125755738751586</td><td>11.410484425037453</td><td>24.785681947208133</td><td>40.95019151686441</td><td>36.65042450757454</td><td>50.40465953351132</td><td>72.88612964478807</td><td>0.3150784464918935</td><td>0.4768153567828777</td><td>0.6920063107743893</td></tr>\n",
       "<tr><td>NGC~7496</td><td>37.091513830414705</td><td>37.99794567581671</td><td>38.964593006583364</td><td>12.45610994658632</td><td>31.914605141480905</td><td>95.78332639589192</td><td>56.74039542284426</td><td>85.98588677598124</td><td>141.95555511048912</td><td>0.20603029875180112</td><td>0.39515064434208225</td><td>0.7562937760273264</td></tr>\n",
       "<tr><td>All</td><td>37.14248819966285</td><td>37.97327671025859</td><td>39.0381299299857</td><td>12.306885503260197</td><td>31.46290308086649</td><td>91.8688097422952</td><td>49.56037516622038</td><td>77.8933043728956</td><td>134.8719888487403</td><td>0.21978059161472305</td><td>0.4127004317650701</td><td>0.7747398967526133</td></tr>\n",
       "</table></div>"
      ],
      "text/plain": [
       "<QTable length=20>\n",
       "gal_name      p10_lum       ...    p50_rad_ratio      p90_rad_ratio   \n",
       "            dex(erg / s)    ...                                       \n",
       "  str8        float64       ...       float64            float64      \n",
       "-------- ------------------ ... ------------------- ------------------\n",
       " IC~5332  36.79074373670279 ...   0.354568631978044 0.5029604750845589\n",
       "NGC~0628  37.01379162128957 ... 0.35227071784161595 0.5246860403234874\n",
       "NGC~1087  37.08663407974769 ... 0.41653098955918766 0.6933644949101667\n",
       "NGC~1300 37.134826211863675 ...  0.3350174989459489 0.5691834328616229\n",
       "NGC~1365  37.14426708443285 ...   0.417473234167666 0.9416500208442331\n",
       "NGC~1385  37.28684800370148 ...  0.5191791986013603  0.888124699084432\n",
       "NGC~1433  36.95869117278865 ... 0.30146299764211115 0.5610659825518604\n",
       "NGC~1512  36.87858203831007 ... 0.28415788951454907 0.5591257718460332\n",
       "NGC~1566  37.13137174111634 ...  0.4036340440487519 0.7526075817126565\n",
       "NGC~1672   37.2288069448475 ...  0.4277463745130858 0.7854898225551915\n",
       "NGC~2835  37.00717170899258 ... 0.36535676255080385 0.6177515811647921\n",
       "NGC~3351  36.99967119210045 ...  0.3060220970185574  0.757334525307488\n",
       "NGC~3627  37.39522762160331 ...  0.5210857705514883 0.9209692983339481\n",
       "NGC~4254  37.37411226424935 ...   0.510901004162554 0.8203266143731105\n",
       "NGC~4303  37.19331225764528 ... 0.43524955472933496 0.7909876053337153\n",
       "NGC~4321   37.1086380179977 ...  0.3527655776335846  0.638287761003036\n",
       "NGC~4535  37.07256042542477 ...  0.3787186894528528 0.6370343679858003\n",
       "NGC~5068  37.07149855403633 ...  0.4768153567828777 0.6920063107743893\n",
       "NGC~7496 37.091513830414705 ... 0.39515064434208225 0.7562937760273264\n",
       "     All  37.14248819966285 ...  0.4127004317650701 0.7747398967526133"
      ]
     },
     "execution_count": 5,
     "metadata": {},
     "output_type": "execute_result"
    }
   ],
   "source": [
    "# Create a new QTable with the calculated percentiles\n",
    "names1 = ['gal_name']\n",
    "names2 = [f'p{p}_lum' for p in percentiles]\n",
    "names3 = [f'p{p}_rad' for p in percentiles]\n",
    "names4 = [f'p{p}_muse_rad' for p in percentiles]\n",
    "names5 = [f'p{p}_rad_ratio' for p in percentiles]\n",
    "\n",
    "names = names1 + names2 + names3 + names4 + names5\n",
    "new_table = QTable(rows=data, names=names)\n",
    "\n",
    "new_table"
   ]
  },
  {
   "cell_type": "code",
   "execution_count": 6,
   "metadata": {},
   "outputs": [],
   "source": [
    "names = ['gal_name',\n",
    "        'p10_lum',\n",
    "        'p50_lum',\n",
    "        'p90_lum',\n",
    "        'p10_rad',\n",
    "        'p50_rad',\n",
    "        'p90_rad',\n",
    "        'p10_muse_rad',\n",
    "        'p50_muse_rad',\n",
    "        'p90_muse_rad',\n",
    "        'p10_rad_ratio',\n",
    "        'p50_rad_ratio',\n",
    "        'p90_rad_ratio']\n",
    "\n",
    "formats={\n",
    "        'gal_name': '%s',\n",
    "        'p10_lum': '%0.1f',\n",
    "        'p50_lum': '%0.1f',\n",
    "        'p90_lum': '%0.1f',\n",
    "        'p10_rad': '%0.1f',\n",
    "        'p50_rad': '%0.1f',\n",
    "        'p90_rad': '%0.1f', \n",
    "        'p10_muse_rad': '%0.1f',\n",
    "        'p50_muse_rad': '%0.1f',\n",
    "        'p90_muse_rad': '%0.1f',\n",
    "        'p10_rad_ratio': '%0.2f',\n",
    "        'p50_rad_ratio': '%0.2f',\n",
    "        'p90_rad_ratio': '%0.2f'\n",
    "        }\n",
    "\n",
    "new_table.write('./tabs/lumrad_props.tex', formats=formats, names=names, overwrite=True)\n",
    "# new_table.write('./tabs/lumrad_props.fits', overwrite=True)\n",
    "# new_table.write('./tabs/lumrad_props.dat', format='ascii', overwrite=True)"
   ]
  }
 ],
 "metadata": {
  "kernelspec": {
   "display_name": "base",
   "language": "python",
   "name": "python3"
  },
  "language_info": {
   "codemirror_mode": {
    "name": "ipython",
    "version": 3
   },
   "file_extension": ".py",
   "mimetype": "text/x-python",
   "name": "python",
   "nbconvert_exporter": "python",
   "pygments_lexer": "ipython3",
   "version": "3.9.13"
  }
 },
 "nbformat": 4,
 "nbformat_minor": 2
}
