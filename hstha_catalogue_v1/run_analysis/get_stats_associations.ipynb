{
 "cells": [
  {
   "cell_type": "code",
   "execution_count": 1,
   "metadata": {},
   "outputs": [],
   "source": [
    "import numpy as np\n",
    "from astropy import units as u \n",
    "from astropy.io import fits\n",
    "import matplotlib.pyplot as plt\n",
    "import matplotlib as mpl\n",
    "from astropy.table import QTable\n",
    "import numpy as np\n",
    "\n",
    "plt.style.use('paper.mplstyle')"
   ]
  },
  {
   "cell_type": "code",
   "execution_count": 2,
   "metadata": {},
   "outputs": [
    {
     "name": "stdout",
     "output_type": "stream",
     "text": [
      "Table length post-masking (inc. HII regions only): 5015\n",
      "Table length post-masking (inc. HII regions, and with clusters): 3227\n"
     ]
    }
   ],
   "source": [
    "root_dir = '/Users/abarnes/Dropbox/work/Smallprojects/galaxies'\n",
    "\n",
    "# table = QTable.read('%s/data_hstha_nebulae_catalogue/all/nebulae_catalogue.fits' %root_dir)\n",
    "# table_assoc = QTable.read('%s/data_hstha_nebulae_catalogue/all/nebulae_catalogue_wassociations_wprops.fits' %root_dir)\n",
    "table_muse = QTable.read('%s/data_misc/Nebulae_catalogue_v4/Nebulae_catalogue_v4.fits' %root_dir)\n",
    "\n",
    "table = QTable.read('%s/data_hstha_nebulae_catalogue/all/nebulae_catalogue_fixediso_10pc.fits' %root_dir)\n",
    "table_assoc = QTable.read('%s/data_hstha_nebulae_catalogue/all/nebulae_catalogue_wassociations_fixediso_10pc.fits' %root_dir)\n",
    "\n",
    "table = table[(table['flag_star_MUSE']!=1) & (table['flag_edge_MUSE']!=1) & (table[\"flag_edge_hst\"]!=1)] # remove stars and edge objects\n",
    "table_assoc = table_assoc[(table_assoc['flag_star_MUSE']!=1) & (table_assoc['flag_edge_MUSE']!=1) & (table_assoc[\"flag_edge_hst\"]!=1)] # remove stars and edge objects\n",
    "table_muse = table_muse[(table_muse['flag_star']!=1) & (table_muse['flag_edge']!=1)] # remove stars and edge objects\n",
    "\n",
    "table = table[table['HII_class_v3_MUSE']==1]\n",
    "table_assoc = table_assoc[table_assoc['HII_class_v3_MUSE']==1]\n",
    "table_muse = table_muse[table_muse['HII_class_v3']==1]\n",
    "\n",
    "table_assoc = table_assoc['gal_name', 'region_ID', 'region_ID_association_nuv_32pc', 'age_association_nuv_32pc', 'mass_association_nuv_32pc']\n",
    "table_assoc = table_assoc[np.isfinite(table_assoc['age_association_nuv_32pc'])]\n",
    "table_assoc = table_assoc[table_assoc['mass_association_nuv_32pc']>1]\n",
    "\n",
    "print(f'Table length post-masking (inc. HII regions only): {len(table)}')\n",
    "print(f'Table length post-masking (inc. HII regions, and with clusters): {len(table_assoc)}')"
   ]
  },
  {
   "cell_type": "code",
   "execution_count": 3,
   "metadata": {},
   "outputs": [],
   "source": [
    "# Calculate the percentiles for each \"gal_name\"\n",
    "percentiles = [10, 50, 90]\n",
    "columns = ['gal_name'] + [f'percentile_{p}' for p in percentiles]\n",
    "data = []\n",
    "\n",
    "for gal_name in np.unique(table['gal_name']):\n",
    "\n",
    "    table_masked = table[table['gal_name'] == gal_name]\n",
    "    table_muse_masked = table_muse[table_muse['gal_name'] == gal_name]\n",
    "\n",
    "    gal_data = [gal_name.replace('NGC', 'NGC~').replace('IC', 'IC~')]\n",
    "\n",
    "    p_age = np.nanpercentile(table_assoc[table_assoc['gal_name'] == gal_name]['age_association_nuv_32pc'], percentiles)\n",
    "    p_mass = np.log10(np.nanpercentile(table_assoc[table_assoc['gal_name'] == gal_name]['mass_association_nuv_32pc'], percentiles))\n",
    "\n",
    "    for values in [p_age, p_mass]:\n",
    "        for value in values:\n",
    "            gal_data.extend([value])\n",
    "    \n",
    "    data.append(gal_data)"
   ]
  },
  {
   "cell_type": "code",
   "execution_count": 4,
   "metadata": {},
   "outputs": [],
   "source": [
    "# Calculate the percentiles for each \"gal_name\"\n",
    "percentiles = [10, 50, 90]\n",
    "\n",
    "gal_data = ['All']\n",
    "\n",
    "p_age = np.nanpercentile(table_assoc['age_association_nuv_32pc'], percentiles)\n",
    "p_mass = np.log10(np.nanpercentile(table_assoc['mass_association_nuv_32pc'], percentiles))\n",
    "\n",
    "for values in [p_age, p_mass]:\n",
    "    for value in values:\n",
    "        gal_data.extend([value])\n",
    "\n",
    "data.append(gal_data)"
   ]
  },
  {
   "cell_type": "code",
   "execution_count": 5,
   "metadata": {},
   "outputs": [
    {
     "data": {
      "text/html": [
       "<div><i>QTable length=20</i>\n",
       "<table id=\"table140428933561504\" class=\"table-striped table-bordered table-condensed\">\n",
       "<thead><tr><th>gal_name</th><th>p10_age</th><th>p50_age</th><th>p90_age</th><th>p10_mass</th><th>p50_mass</th><th>p90_mass</th></tr></thead>\n",
       "<thead><tr><th>str8</th><th>float64</th><th>float64</th><th>float64</th><th>float64</th><th>float64</th><th>float64</th></tr></thead>\n",
       "<tr><td>IC~5332</td><td>1.0</td><td>1.0</td><td>4.300000000000004</td><td>3.05176020665029</td><td>3.6242583649609927</td><td>4.207316872897091</td></tr>\n",
       "<tr><td>NGC~0628</td><td>1.0</td><td>2.0</td><td>8.4</td><td>3.201597130023678</td><td>3.862453141062399</td><td>4.614040783194185</td></tr>\n",
       "<tr><td>NGC~1087</td><td>1.0</td><td>3.0</td><td>8.0</td><td>3.46785332510919</td><td>4.113319714388521</td><td>4.914031806884155</td></tr>\n",
       "<tr><td>NGC~1300</td><td>1.0</td><td>4.0</td><td>6.0</td><td>3.283923353143175</td><td>3.916380838983697</td><td>4.544268721689977</td></tr>\n",
       "<tr><td>NGC~1365</td><td>1.0</td><td>3.0</td><td>7.5</td><td>3.6169863804359</td><td>4.370047172135086</td><td>5.364268821981902</td></tr>\n",
       "<tr><td>NGC~1385</td><td>1.0</td><td>4.0</td><td>8.0</td><td>3.4965135559444844</td><td>4.1997659542979795</td><td>5.01644289559053</td></tr>\n",
       "<tr><td>NGC~1433</td><td>1.0</td><td>1.0</td><td>6.0</td><td>3.106149384426681</td><td>4.022829187915416</td><td>4.572377332991849</td></tr>\n",
       "<tr><td>NGC~1512</td><td>1.0</td><td>1.0</td><td>7.600000000000001</td><td>3.426453861226114</td><td>4.045721759372231</td><td>4.816252750020856</td></tr>\n",
       "<tr><td>NGC~1566</td><td>1.0</td><td>2.0</td><td>7.000000000000001</td><td>3.5882175601587813</td><td>4.189927131744368</td><td>5.084785511848023</td></tr>\n",
       "<tr><td>NGC~1672</td><td>1.0</td><td>3.0</td><td>5.0</td><td>3.5193366714503806</td><td>4.313382039967056</td><td>5.145648515423816</td></tr>\n",
       "<tr><td>NGC~2835</td><td>1.0</td><td>1.0</td><td>7.3999999999999995</td><td>3.256037724650792</td><td>3.9486364439252886</td><td>4.582625921140753</td></tr>\n",
       "<tr><td>NGC~3351</td><td>1.0</td><td>3.0</td><td>7.000000000000001</td><td>3.2733948628857585</td><td>4.0088308631136025</td><td>5.4448440783272565</td></tr>\n",
       "<tr><td>NGC~3627</td><td>1.0</td><td>4.0</td><td>8.0</td><td>3.671616794691393</td><td>4.420230166621943</td><td>5.21313347820156</td></tr>\n",
       "<tr><td>NGC~4254</td><td>1.0</td><td>4.0</td><td>7.000000000000001</td><td>3.586048697317361</td><td>4.336708842727509</td><td>5.1082560563192025</td></tr>\n",
       "<tr><td>NGC~4303</td><td>1.0</td><td>3.0</td><td>8.0</td><td>3.5735203259797665</td><td>4.314861871548791</td><td>5.1461916855066265</td></tr>\n",
       "<tr><td>NGC~4321</td><td>1.0</td><td>3.0</td><td>7.000000000000001</td><td>3.5473626693585305</td><td>4.273925888771649</td><td>5.126958106179177</td></tr>\n",
       "<tr><td>NGC~4535</td><td>1.0</td><td>4.0</td><td>8.0</td><td>3.4251720657680815</td><td>4.171401155745737</td><td>5.014942397471749</td></tr>\n",
       "<tr><td>NGC~5068</td><td>1.0</td><td>7.000000000000001</td><td>10.0</td><td>3.04833396332217</td><td>3.8027253312410556</td><td>4.681240271127411</td></tr>\n",
       "<tr><td>NGC~7496</td><td>1.0</td><td>1.0</td><td>5.0</td><td>3.492218405774092</td><td>4.0236668590257105</td><td>4.873281402964837</td></tr>\n",
       "<tr><td>All</td><td>1.0</td><td>3.0</td><td>8.0</td><td>3.488449987153111</td><td>4.22565592209968</td><td>5.04966134576629</td></tr>\n",
       "</table></div>"
      ],
      "text/plain": [
       "<QTable length=20>\n",
       "gal_name p10_age      p50_age      ...      p50_mass           p90_mass     \n",
       "  str8   float64      float64      ...      float64            float64      \n",
       "-------- ------- ----------------- ... ------------------ ------------------\n",
       " IC~5332     1.0               1.0 ... 3.6242583649609927  4.207316872897091\n",
       "NGC~0628     1.0               2.0 ...  3.862453141062399  4.614040783194185\n",
       "NGC~1087     1.0               3.0 ...  4.113319714388521  4.914031806884155\n",
       "NGC~1300     1.0               4.0 ...  3.916380838983697  4.544268721689977\n",
       "NGC~1365     1.0               3.0 ...  4.370047172135086  5.364268821981902\n",
       "NGC~1385     1.0               4.0 ... 4.1997659542979795   5.01644289559053\n",
       "NGC~1433     1.0               1.0 ...  4.022829187915416  4.572377332991849\n",
       "NGC~1512     1.0               1.0 ...  4.045721759372231  4.816252750020856\n",
       "NGC~1566     1.0               2.0 ...  4.189927131744368  5.084785511848023\n",
       "NGC~1672     1.0               3.0 ...  4.313382039967056  5.145648515423816\n",
       "NGC~2835     1.0               1.0 ... 3.9486364439252886  4.582625921140753\n",
       "NGC~3351     1.0               3.0 ... 4.0088308631136025 5.4448440783272565\n",
       "NGC~3627     1.0               4.0 ...  4.420230166621943   5.21313347820156\n",
       "NGC~4254     1.0               4.0 ...  4.336708842727509 5.1082560563192025\n",
       "NGC~4303     1.0               3.0 ...  4.314861871548791 5.1461916855066265\n",
       "NGC~4321     1.0               3.0 ...  4.273925888771649  5.126958106179177\n",
       "NGC~4535     1.0               4.0 ...  4.171401155745737  5.014942397471749\n",
       "NGC~5068     1.0 7.000000000000001 ... 3.8027253312410556  4.681240271127411\n",
       "NGC~7496     1.0               1.0 ... 4.0236668590257105  4.873281402964837\n",
       "     All     1.0               3.0 ...   4.22565592209968   5.04966134576629"
      ]
     },
     "execution_count": 5,
     "metadata": {},
     "output_type": "execute_result"
    }
   ],
   "source": [
    "# Create a new QTable with the calculated percentiles\n",
    "names1 = ['gal_name']\n",
    "names2 = [f'p{p}_age' for p in percentiles]\n",
    "names3 = [f'p{p}_mass' for p in percentiles]\n",
    "\n",
    "names = names1 + names2 + names3\n",
    "new_table = QTable(rows=data, names=names)\n",
    "\n",
    "new_table"
   ]
  },
  {
   "cell_type": "code",
   "execution_count": 6,
   "metadata": {},
   "outputs": [],
   "source": [
    "names = ['gal_name',\n",
    "        'p10_age',\n",
    "        'p50_age',\n",
    "        'p90_age',\n",
    "        'p10_mass',\n",
    "        'p50_mass',\n",
    "        'p90_mass'\n",
    "        ]\n",
    "\n",
    "formats={\n",
    "        'gal_name': '%s',\n",
    "        'p10_age': '%.1f',\n",
    "        'p50_age': '%.1f',\n",
    "        'p90_age': '%.1f',\n",
    "        'p10_mass': '%.2f',\n",
    "        'p50_mass': '%.2f',\n",
    "        'p90_mass': '%.2f'\n",
    "        }\n",
    "\n",
    "new_table.write('./tabs/agemass_props.tex', formats=formats, names=names, overwrite=True)\n",
    "# new_table.write('./tabs/lumrad_props.fits', overwrite=True)\n",
    "# new_table.write('./tabs/lumrad_props.dat', format='ascii', overwrite=True)"
   ]
  }
 ],
 "metadata": {
  "kernelspec": {
   "display_name": "base",
   "language": "python",
   "name": "python3"
  },
  "language_info": {
   "codemirror_mode": {
    "name": "ipython",
    "version": 3
   },
   "file_extension": ".py",
   "mimetype": "text/x-python",
   "name": "python",
   "nbconvert_exporter": "python",
   "pygments_lexer": "ipython3",
   "version": "3.9.13"
  }
 },
 "nbformat": 4,
 "nbformat_minor": 2
}
