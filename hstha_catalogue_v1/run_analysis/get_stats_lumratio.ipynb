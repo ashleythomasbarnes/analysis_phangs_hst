{
 "cells": [
  {
   "cell_type": "code",
   "execution_count": 1,
   "metadata": {},
   "outputs": [],
   "source": [
    "import numpy as np\n",
    "from astropy import units as u \n",
    "from astropy.io import fits\n",
    "import matplotlib.pyplot as plt\n",
    "import matplotlib as mpl\n",
    "from astropy.table import QTable\n",
    "import numpy as np\n",
    "\n",
    "plt.style.use('paper.mplstyle')"
   ]
  },
  {
   "cell_type": "code",
   "execution_count": 2,
   "metadata": {},
   "outputs": [
    {
     "name": "stdout",
     "output_type": "stream",
     "text": [
      "Table length post-masking (inc. HII regions only): 5362\n"
     ]
    }
   ],
   "source": [
    "root_dir = '/Users/abarnes/Dropbox/work/Smallprojects/galaxies'\n",
    "\n",
    "# table = QTable.read('%s/data_hstha_nebulae_catalogue/all/nebulae_catalogue.fits' %root_dir)\n",
    "table = QTable.read('%s/data_hstha_nebulae_catalogue/all/nebulae_catalogue_fixediso_10pc.fits' %root_dir)\n",
    "\n",
    "table_muse = QTable.read('%s/data_misc/Nebulae_catalogue_v4/Nebulae_catalogue_v4.fits' %root_dir)\n",
    "\n",
    "table = table[(table['flag_star_MUSE']!=1) & (table['flag_edge_MUSE']!=1) & (table[\"flag_edge_hst\"]!=1)] # remove stars and edge objects\n",
    "table_muse = table_muse[(table_muse['flag_star']!=1) & (table_muse['flag_edge']!=1)] # remove stars and edge objects\n",
    "\n",
    "print(f'Table length post-masking (inc. HII regions only): {len(table)}')"
   ]
  },
  {
   "cell_type": "code",
   "execution_count": 4,
   "metadata": {},
   "outputs": [],
   "source": [
    "lum_ratio = table['HA6562_LUMINOSITY_HST'].value/table['HA6562_LUMINOSITY_MUSE'].value\n",
    "rad_ratio = table['radius_circ_pc'].value/table['region_circ_rad_pc_MUSE'].value"
   ]
  },
  {
   "cell_type": "code",
   "execution_count": 7,
   "metadata": {},
   "outputs": [
    {
     "name": "stdout",
     "output_type": "stream",
     "text": [
      "Number ratio larger 1: 408\n",
      "Number ratio larger 5: 23\n",
      "Number ratio larger 10: 11\n",
      "Number ratio larger 20: 7\n"
     ]
    }
   ],
   "source": [
    "for ratio in [1,5,10,20]:\n",
    "    print(f'Number ratio larger {ratio}: {len(lum_ratio[lum_ratio>ratio])}')"
   ]
  },
  {
   "cell_type": "code",
   "execution_count": null,
   "metadata": {},
   "outputs": [],
   "source": []
  }
 ],
 "metadata": {
  "kernelspec": {
   "display_name": "base",
   "language": "python",
   "name": "python3"
  },
  "language_info": {
   "codemirror_mode": {
    "name": "ipython",
    "version": 3
   },
   "file_extension": ".py",
   "mimetype": "text/x-python",
   "name": "python",
   "nbconvert_exporter": "python",
   "pygments_lexer": "ipython3",
   "version": "3.9.13"
  }
 },
 "nbformat": 4,
 "nbformat_minor": 2
}
