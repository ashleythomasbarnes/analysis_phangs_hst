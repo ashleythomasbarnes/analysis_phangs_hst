{
 "cells": [
  {
   "cell_type": "code",
   "execution_count": 1,
   "metadata": {},
   "outputs": [],
   "source": [
    "from astropy.table import Table, vstack\n",
    "import numpy as np\n",
    "import matplotlib.pyplot as plt\n",
    "import astropy.units as au\n",
    "import glob"
   ]
  },
  {
   "cell_type": "code",
   "execution_count": 2,
   "metadata": {},
   "outputs": [
    {
     "name": "stdout",
     "output_type": "stream",
     "text": [
      "/Users/abarnes/Dropbox/work/Smallprojects/galaxies/data_misc/sample_table/phangs_sample_table_v1p6.fits\n",
      "/Users/abarnes/Dropbox/work/Smallprojects/galaxies/data_misc/nebulae_catalogue_v3/Nebulae_catalogue_v3.fits\n"
     ]
    }
   ],
   "source": [
    "# Define names and filenames...\n",
    "root_dir = '/Users/abarnes/Dropbox/work/Smallprojects/galaxies'\n",
    "\n",
    "sample_table_file = '%s/data_misc/sample_table/phangs_sample_table_v1p6.fits' %root_dir\n",
    "muscat_table_file = '%s/data_misc/nebulae_catalogue_v3/Nebulae_catalogue_v3.fits' %root_dir\n",
    "\n",
    "print(sample_table_file)\n",
    "print(muscat_table_file)\n",
    "\n",
    "sample_table = Table.read(sample_table_file)\n",
    "muscat_table = Table.read(muscat_table_file)"
   ]
  },
  {
   "cell_type": "code",
   "execution_count": 3,
   "metadata": {},
   "outputs": [],
   "source": [
    "sample_table_ = []\n",
    "gals = np.unique(muscat_table['gal_name'])\n",
    "\n",
    "for i, gal in enumerate(gals):\n",
    "    mask = sample_table['name'] == gal.lower()\n",
    "    sample_table_ += sample_table[mask]\n",
    "    \n",
    "sample_table = vstack(sample_table_)"
   ]
  },
  {
   "cell_type": "code",
   "execution_count": 4,
   "metadata": {},
   "outputs": [],
   "source": [
    "gals = np.unique(muscat_table['gal_name'])\n",
    "met = np.empty(len(gals)) *au.dimensionless_unscaled\n",
    "\n",
    "for i, gal in enumerate(gals): \n",
    "    mask = muscat_table['gal_name']==gal\n",
    "    # rmin_as[i] = np.nanmin((table[mask]['region_circ_rad']).quantity)\n",
    "    # rmin[i] = np.unique(table[mask]['rmin_pc'])\n",
    "    met[i] = np.nanmean(muscat_table[mask]['met_scal'])\n",
    "sample_table['12+log(O/H)'] = met\n",
    "\n",
    "mass_co = (sample_table['lco_phangs'].quantity * sample_table['appcor_phangs'].quantity * sample_table['aco10_phangs'].quantity) / 0.65\n",
    "sample_table['props_mmol'] = mass_co"
   ]
  },
  {
   "cell_type": "code",
   "execution_count": 5,
   "metadata": {},
   "outputs": [],
   "source": [
    "sample_table_cut = sample_table['name', 'orient_incl', 'orient_posang', \n",
    "                                'morph_string', 'dist', 'size_reff', '12+log(O/H)', 'props_mhi', 'props_mmol',  \n",
    "                                'props_mstar', 'props_sfr']\n",
    "\n",
    "for i, n in enumerate(sample_table_cut['name']):\n",
    "    sample_table_cut['name'][i] = n.upper()\n",
    "    \n",
    "sample_table_cut['size_reff'] = sample_table_cut['size_reff']*sample_table_cut['dist']*1e6/206268*1e-3*au.kpc/au.arcsec\n",
    "\n",
    "sample_table_cut['props_mhi'] = np.log10(sample_table_cut['props_mhi'])\n",
    "sample_table_cut['props_mstar'] = np.log10(sample_table_cut['props_mstar'])\n",
    "sample_table_cut['props_mmol'] = np.log10(sample_table_cut['props_mmol'])\n",
    "sample_table_cut['props_sfr'] = np.log10(sample_table_cut['props_sfr'])"
   ]
  },
  {
   "cell_type": "code",
   "execution_count": 6,
   "metadata": {},
   "outputs": [
    {
     "data": {
      "text/html": [
       "&lt;Column name=&apos;name&apos; dtype=&apos;bytes100&apos; length=19&gt;\n",
       "<table>\n",
       "<tr><td>IC5332</td></tr>\n",
       "<tr><td>NGC0628</td></tr>\n",
       "<tr><td>NGC1087</td></tr>\n",
       "<tr><td>NGC1300</td></tr>\n",
       "<tr><td>NGC1365</td></tr>\n",
       "<tr><td>NGC1385</td></tr>\n",
       "<tr><td>NGC1433</td></tr>\n",
       "<tr><td>NGC1512</td></tr>\n",
       "<tr><td>NGC1566</td></tr>\n",
       "<tr><td>NGC1672</td></tr>\n",
       "<tr><td>NGC2835</td></tr>\n",
       "<tr><td>NGC3351</td></tr>\n",
       "<tr><td>NGC3627</td></tr>\n",
       "<tr><td>NGC4254</td></tr>\n",
       "<tr><td>NGC4303</td></tr>\n",
       "<tr><td>NGC4321</td></tr>\n",
       "<tr><td>NGC4535</td></tr>\n",
       "<tr><td>NGC5068</td></tr>\n",
       "<tr><td>NGC7496</td></tr>\n",
       "</table>"
      ],
      "text/plain": [
       "<Column name='name' dtype='bytes100' length=19>\n",
       " IC5332\n",
       "NGC0628\n",
       "NGC1087\n",
       "NGC1300\n",
       "NGC1365\n",
       "NGC1385\n",
       "NGC1433\n",
       "NGC1512\n",
       "NGC1566\n",
       "NGC1672\n",
       "NGC2835\n",
       "NGC3351\n",
       "NGC3627\n",
       "NGC4254\n",
       "NGC4303\n",
       "NGC4321\n",
       "NGC4535\n",
       "NGC5068\n",
       "NGC7496"
      ]
     },
     "execution_count": 6,
     "metadata": {},
     "output_type": "execute_result"
    }
   ],
   "source": [
    "sample_table_cut['name']"
   ]
  },
  {
   "cell_type": "code",
   "execution_count": 7,
   "metadata": {},
   "outputs": [
    {
     "data": {
      "text/html": [
       "<div><i>Table length=19</i>\n",
       "<table id=\"table140610796560592\" class=\"table-striped table-bordered table-condensed\">\n",
       "<thead><tr><th>name</th><th>orient_incl</th><th>orient_posang</th><th>morph_string</th><th>dist</th><th>size_reff</th><th>12+log(O/H)</th><th>props_mhi</th><th>props_mmol</th><th>props_mstar</th><th>props_sfr</th></tr></thead>\n",
       "<thead><tr><th></th><th>deg</th><th>deg</th><th></th><th>Mpc</th><th>kpc</th><th></th><th>solMass</th><th>solMass</th><th>solMass</th><th>solMass / yr</th></tr></thead>\n",
       "<thead><tr><th>bytes100</th><th>float32</th><th>float32</th><th>bytes100</th><th>float32</th><th>float64</th><th>float64</th><th>float32</th><th>float32</th><th>float32</th><th>float32</th></tr></thead>\n",
       "<tr><td>IC~5332</td><td>26.9</td><td>74.4</td><td>SABc</td><td>9.01</td><td>3.6078543254406887</td><td>8.374076339343995</td><td>9.302761</td><td>nan</td><td>9.667926</td><td>-0.38537046</td></tr>\n",
       "<tr><td>NGC~0628</td><td>8.9</td><td>20.7</td><td>Sc</td><td>9.84</td><td>3.9026127562200634</td><td>8.48488580671925</td><td>9.696902</td><td>9.431176</td><td>10.3412485</td><td>0.24364336</td></tr>\n",
       "<tr><td>NGC~1087</td><td>42.9</td><td>359.1</td><td>Sc</td><td>15.85</td><td>3.2344145674559313</td><td>8.402747040234853</td><td>9.100571</td><td>9.202594</td><td>9.933384</td><td>0.11677002</td></tr>\n",
       "<tr><td>NGC~1300</td><td>31.8</td><td>278.0</td><td>Sbc</td><td>18.99</td><td>6.525384994279287</td><td>8.51570120996781</td><td>9.379162</td><td>9.399155</td><td>10.616569</td><td>0.06911268</td></tr>\n",
       "<tr><td>NGC~1365</td><td>55.4</td><td>201.1</td><td>Sb</td><td>19.57</td><td>2.78025155622782</td><td>8.526218263849604</td><td>9.939293</td><td>10.257017</td><td>10.99019</td><td>1.2279408</td></tr>\n",
       "<tr><td>NGC~1385</td><td>44.0</td><td>181.3</td><td>Sc</td><td>17.22</td><td>3.372879244478058</td><td>8.421211259149379</td><td>9.190578</td><td>9.226476</td><td>9.979256</td><td>0.32047546</td></tr>\n",
       "<tr><td>NGC~1433</td><td>28.6</td><td>199.7</td><td>SBa</td><td>18.63</td><td>4.303880543758606</td><td>8.538555117587507</td><td>9.401338</td><td>9.293801</td><td>10.865968</td><td>0.054865655</td></tr>\n",
       "<tr><td>NGC~1512</td><td>42.5</td><td>261.9</td><td>Sa</td><td>18.83</td><td>4.758504314774953</td><td>8.55483218949262</td><td>9.879812</td><td>9.123223</td><td>10.712756</td><td>0.10669651</td></tr>\n",
       "<tr><td>NGC~1566</td><td>29.5</td><td>214.7</td><td>SABb</td><td>17.69</td><td>3.1704837589931545</td><td>8.545418323669061</td><td>9.804367</td><td>9.703506</td><td>10.784289</td><td>0.6568184</td></tr>\n",
       "<tr><td>NGC~1672</td><td>42.6</td><td>134.3</td><td>Sb</td><td>19.4</td><td>3.3934393701398182</td><td>8.536359271946312</td><td>10.205316</td><td>9.859852</td><td>10.729274</td><td>0.8810402</td></tr>\n",
       "<tr><td>NGC~2835</td><td>41.3</td><td>1.0</td><td>Sc</td><td>12.22</td><td>3.301563247813524</td><td>8.378548833240473</td><td>9.484254</td><td>8.77792</td><td>10.000906</td><td>0.09488029</td></tr>\n",
       "<tr><td>NGC~3351</td><td>45.1</td><td>193.2</td><td>Sb</td><td>9.96</td><td>3.0416947272480463</td><td>8.589407420529442</td><td>8.927831</td><td>9.089215</td><td>10.361394</td><td>0.12219397</td></tr>\n",
       "<tr><td>NGC~3627</td><td>57.3</td><td>173.1</td><td>Sb</td><td>11.32</td><td>3.6363277289739564</td><td>8.546319211517304</td><td>9.092605</td><td>9.777565</td><td>10.832936</td><td>0.58486974</td></tr>\n",
       "<tr><td>NGC~4254</td><td>34.4</td><td>68.1</td><td>Sc</td><td>13.1</td><td>2.405896794461574</td><td>8.531778485869706</td><td>9.483854</td><td>9.853758</td><td>10.424713</td><td>0.48675337</td></tr>\n",
       "<tr><td>NGC~4303</td><td>23.5</td><td>312.4</td><td>Sbc</td><td>16.99</td><td>3.4272464172823707</td><td>8.5613867922003</td><td>9.666099</td><td>9.90963</td><td>10.523554</td><td>0.7271071</td></tr>\n",
       "<tr><td>NGC~4321</td><td>38.5</td><td>156.2</td><td>SABb</td><td>15.21</td><td>5.499487346558846</td><td>8.559255064609145</td><td>9.43237</td><td>9.89057</td><td>10.74512</td><td>0.550874</td></tr>\n",
       "<tr><td>NGC~4535</td><td>44.7</td><td>179.7</td><td>Sc</td><td>15.77</td><td>6.256103942443811</td><td>8.543839399754493</td><td>9.562975</td><td>9.600802</td><td>10.530957</td><td>0.33470824</td></tr>\n",
       "<tr><td>NGC~5068</td><td>35.7</td><td>342.4</td><td>Sc</td><td>5.2</td><td>1.9655156204549422</td><td>8.30493413719882</td><td>8.820919</td><td>8.415606</td><td>9.401049</td><td>-0.55962485</td></tr>\n",
       "<tr><td>NGC~7496</td><td>35.9</td><td>193.7</td><td>Sb</td><td>18.72</td><td>3.7862961971803677</td><td>8.491884046555803</td><td>9.0735235</td><td>9.258334</td><td>9.996621</td><td>0.35407695</td></tr>\n",
       "</table></div>"
      ],
      "text/plain": [
       "<Table length=19>\n",
       "  name   orient_incl orient_posang ... props_mmol props_mstar  props_sfr  \n",
       "             deg          deg      ...  solMass     solMass   solMass / yr\n",
       "bytes100   float32      float32    ...  float32     float32     float32   \n",
       "-------- ----------- ------------- ... ---------- ----------- ------------\n",
       " IC~5332        26.9          74.4 ...        nan    9.667926  -0.38537046\n",
       "NGC~0628         8.9          20.7 ...   9.431176  10.3412485   0.24364336\n",
       "NGC~1087        42.9         359.1 ...   9.202594    9.933384   0.11677002\n",
       "NGC~1300        31.8         278.0 ...   9.399155   10.616569   0.06911268\n",
       "NGC~1365        55.4         201.1 ...  10.257017    10.99019    1.2279408\n",
       "NGC~1385        44.0         181.3 ...   9.226476    9.979256   0.32047546\n",
       "NGC~1433        28.6         199.7 ...   9.293801   10.865968  0.054865655\n",
       "NGC~1512        42.5         261.9 ...   9.123223   10.712756   0.10669651\n",
       "NGC~1566        29.5         214.7 ...   9.703506   10.784289    0.6568184\n",
       "NGC~1672        42.6         134.3 ...   9.859852   10.729274    0.8810402\n",
       "NGC~2835        41.3           1.0 ...    8.77792   10.000906   0.09488029\n",
       "NGC~3351        45.1         193.2 ...   9.089215   10.361394   0.12219397\n",
       "NGC~3627        57.3         173.1 ...   9.777565   10.832936   0.58486974\n",
       "NGC~4254        34.4          68.1 ...   9.853758   10.424713   0.48675337\n",
       "NGC~4303        23.5         312.4 ...    9.90963   10.523554    0.7271071\n",
       "NGC~4321        38.5         156.2 ...    9.89057    10.74512     0.550874\n",
       "NGC~4535        44.7         179.7 ...   9.600802   10.530957   0.33470824\n",
       "NGC~5068        35.7         342.4 ...   8.415606    9.401049  -0.55962485\n",
       "NGC~7496        35.9         193.7 ...   9.258334    9.996621   0.35407695"
      ]
     },
     "execution_count": 7,
     "metadata": {},
     "output_type": "execute_result"
    }
   ],
   "source": [
    "for i, name in enumerate(sample_table_cut['name']):\n",
    "    if 'IC' in name:\n",
    "        name = name.split('IC')\n",
    "        name = f\"IC~{name[1]}\"\n",
    "    if 'NGC' in name:\n",
    "        name = name.split('NGC')\n",
    "        name = f\"NGC~{name[1]}\"\n",
    "    sample_table_cut['name'][i] = name\n",
    "sample_table_cut"
   ]
  },
  {
   "cell_type": "code",
   "execution_count": 9,
   "metadata": {},
   "outputs": [],
   "source": [
    "from numpy import source\n",
    "\n",
    "\n",
    "names = ['Galaxy',\n",
    "        #  'RA',\n",
    "        #  'DEC',\n",
    "         '$i$',\n",
    "         'PA',\n",
    "         'Morph.',\n",
    "         'Dist.',\n",
    "         '$R_\\mathrm{eff}$',\n",
    "         '12+log(O/H)',\n",
    "         '$M_\\mathrm{H_I}$',\n",
    "         '$M_\\mathrm{CO}$',\n",
    "         '$M_\\mathrm{star}$',\n",
    "         'SFR']\n",
    "\n",
    "formats={\n",
    "        # 'RA': '%0.3f',\n",
    "        # 'DEC': '%0.3f',\n",
    "        'Dist.': '%0.1f', \n",
    "        '$R_\\mathrm{eff}$': '%0.1f',\n",
    "        '$M_\\mathrm{H_I}$': '%0.1f',\n",
    "        '$M_\\mathrm{CO}$': '%0.1f',\n",
    "        '$M_\\mathrm{star}$': '%0.1f',\n",
    "#        '$r_\\mathrm{eff, min}$': '%0.1f',\n",
    "        'SFR': '%0.1f',\n",
    "        '12+log(O/H)': '%0.2f'}\n",
    "\n",
    "sample_table_cut.write('./tabs/sourceprops.tex', formats=formats, names=names, overwrite=True)\n",
    "sample_table_cut.write('./tabs/sourceprops.fits', overwrite=True)"
   ]
  },
  {
   "cell_type": "code",
   "execution_count": 10,
   "metadata": {},
   "outputs": [
    {
     "data": {
      "text/html": [
       "<div><i>Table length=19</i>\n",
       "<table id=\"table140610796560592\" class=\"table-striped table-bordered table-condensed\">\n",
       "<thead><tr><th>name</th><th>orient_incl</th><th>orient_posang</th><th>morph_string</th><th>dist</th><th>size_reff</th><th>12+log(O/H)</th><th>props_mhi</th><th>props_mmol</th><th>props_mstar</th><th>props_sfr</th></tr></thead>\n",
       "<thead><tr><th></th><th>deg</th><th>deg</th><th></th><th>Mpc</th><th>kpc</th><th></th><th>solMass</th><th>solMass</th><th>solMass</th><th>solMass / yr</th></tr></thead>\n",
       "<thead><tr><th>bytes100</th><th>float32</th><th>float32</th><th>bytes100</th><th>float32</th><th>float64</th><th>float64</th><th>float32</th><th>float32</th><th>float32</th><th>float32</th></tr></thead>\n",
       "<tr><td>IC~5332</td><td>26.9</td><td>74.4</td><td>SABc</td><td>9.01</td><td>3.6078543254406887</td><td>8.374076339343995</td><td>9.302761</td><td>nan</td><td>9.667926</td><td>-0.38537046</td></tr>\n",
       "<tr><td>NGC~0628</td><td>8.9</td><td>20.7</td><td>Sc</td><td>9.84</td><td>3.9026127562200634</td><td>8.48488580671925</td><td>9.696902</td><td>9.431176</td><td>10.3412485</td><td>0.24364336</td></tr>\n",
       "<tr><td>NGC~1087</td><td>42.9</td><td>359.1</td><td>Sc</td><td>15.85</td><td>3.2344145674559313</td><td>8.402747040234853</td><td>9.100571</td><td>9.202594</td><td>9.933384</td><td>0.11677002</td></tr>\n",
       "<tr><td>NGC~1300</td><td>31.8</td><td>278.0</td><td>Sbc</td><td>18.99</td><td>6.525384994279287</td><td>8.51570120996781</td><td>9.379162</td><td>9.399155</td><td>10.616569</td><td>0.06911268</td></tr>\n",
       "<tr><td>NGC~1365</td><td>55.4</td><td>201.1</td><td>Sb</td><td>19.57</td><td>2.78025155622782</td><td>8.526218263849604</td><td>9.939293</td><td>10.257017</td><td>10.99019</td><td>1.2279408</td></tr>\n",
       "<tr><td>NGC~1385</td><td>44.0</td><td>181.3</td><td>Sc</td><td>17.22</td><td>3.372879244478058</td><td>8.421211259149379</td><td>9.190578</td><td>9.226476</td><td>9.979256</td><td>0.32047546</td></tr>\n",
       "<tr><td>NGC~1433</td><td>28.6</td><td>199.7</td><td>SBa</td><td>18.63</td><td>4.303880543758606</td><td>8.538555117587507</td><td>9.401338</td><td>9.293801</td><td>10.865968</td><td>0.054865655</td></tr>\n",
       "<tr><td>NGC~1512</td><td>42.5</td><td>261.9</td><td>Sa</td><td>18.83</td><td>4.758504314774953</td><td>8.55483218949262</td><td>9.879812</td><td>9.123223</td><td>10.712756</td><td>0.10669651</td></tr>\n",
       "<tr><td>NGC~1566</td><td>29.5</td><td>214.7</td><td>SABb</td><td>17.69</td><td>3.1704837589931545</td><td>8.545418323669061</td><td>9.804367</td><td>9.703506</td><td>10.784289</td><td>0.6568184</td></tr>\n",
       "<tr><td>NGC~1672</td><td>42.6</td><td>134.3</td><td>Sb</td><td>19.4</td><td>3.3934393701398182</td><td>8.536359271946312</td><td>10.205316</td><td>9.859852</td><td>10.729274</td><td>0.8810402</td></tr>\n",
       "<tr><td>NGC~2835</td><td>41.3</td><td>1.0</td><td>Sc</td><td>12.22</td><td>3.301563247813524</td><td>8.378548833240473</td><td>9.484254</td><td>8.77792</td><td>10.000906</td><td>0.09488029</td></tr>\n",
       "<tr><td>NGC~3351</td><td>45.1</td><td>193.2</td><td>Sb</td><td>9.96</td><td>3.0416947272480463</td><td>8.589407420529442</td><td>8.927831</td><td>9.089215</td><td>10.361394</td><td>0.12219397</td></tr>\n",
       "<tr><td>NGC~3627</td><td>57.3</td><td>173.1</td><td>Sb</td><td>11.32</td><td>3.6363277289739564</td><td>8.546319211517304</td><td>9.092605</td><td>9.777565</td><td>10.832936</td><td>0.58486974</td></tr>\n",
       "<tr><td>NGC~4254</td><td>34.4</td><td>68.1</td><td>Sc</td><td>13.1</td><td>2.405896794461574</td><td>8.531778485869706</td><td>9.483854</td><td>9.853758</td><td>10.424713</td><td>0.48675337</td></tr>\n",
       "<tr><td>NGC~4303</td><td>23.5</td><td>312.4</td><td>Sbc</td><td>16.99</td><td>3.4272464172823707</td><td>8.5613867922003</td><td>9.666099</td><td>9.90963</td><td>10.523554</td><td>0.7271071</td></tr>\n",
       "<tr><td>NGC~4321</td><td>38.5</td><td>156.2</td><td>SABb</td><td>15.21</td><td>5.499487346558846</td><td>8.559255064609145</td><td>9.43237</td><td>9.89057</td><td>10.74512</td><td>0.550874</td></tr>\n",
       "<tr><td>NGC~4535</td><td>44.7</td><td>179.7</td><td>Sc</td><td>15.77</td><td>6.256103942443811</td><td>8.543839399754493</td><td>9.562975</td><td>9.600802</td><td>10.530957</td><td>0.33470824</td></tr>\n",
       "<tr><td>NGC~5068</td><td>35.7</td><td>342.4</td><td>Sc</td><td>5.2</td><td>1.9655156204549422</td><td>8.30493413719882</td><td>8.820919</td><td>8.415606</td><td>9.401049</td><td>-0.55962485</td></tr>\n",
       "<tr><td>NGC~7496</td><td>35.9</td><td>193.7</td><td>Sb</td><td>18.72</td><td>3.7862961971803677</td><td>8.491884046555803</td><td>9.0735235</td><td>9.258334</td><td>9.996621</td><td>0.35407695</td></tr>\n",
       "</table></div>"
      ],
      "text/plain": [
       "<Table length=19>\n",
       "  name   orient_incl orient_posang ... props_mmol props_mstar  props_sfr  \n",
       "             deg          deg      ...  solMass     solMass   solMass / yr\n",
       "bytes100   float32      float32    ...  float32     float32     float32   \n",
       "-------- ----------- ------------- ... ---------- ----------- ------------\n",
       " IC~5332        26.9          74.4 ...        nan    9.667926  -0.38537046\n",
       "NGC~0628         8.9          20.7 ...   9.431176  10.3412485   0.24364336\n",
       "NGC~1087        42.9         359.1 ...   9.202594    9.933384   0.11677002\n",
       "NGC~1300        31.8         278.0 ...   9.399155   10.616569   0.06911268\n",
       "NGC~1365        55.4         201.1 ...  10.257017    10.99019    1.2279408\n",
       "NGC~1385        44.0         181.3 ...   9.226476    9.979256   0.32047546\n",
       "NGC~1433        28.6         199.7 ...   9.293801   10.865968  0.054865655\n",
       "NGC~1512        42.5         261.9 ...   9.123223   10.712756   0.10669651\n",
       "NGC~1566        29.5         214.7 ...   9.703506   10.784289    0.6568184\n",
       "NGC~1672        42.6         134.3 ...   9.859852   10.729274    0.8810402\n",
       "NGC~2835        41.3           1.0 ...    8.77792   10.000906   0.09488029\n",
       "NGC~3351        45.1         193.2 ...   9.089215   10.361394   0.12219397\n",
       "NGC~3627        57.3         173.1 ...   9.777565   10.832936   0.58486974\n",
       "NGC~4254        34.4          68.1 ...   9.853758   10.424713   0.48675337\n",
       "NGC~4303        23.5         312.4 ...    9.90963   10.523554    0.7271071\n",
       "NGC~4321        38.5         156.2 ...    9.89057    10.74512     0.550874\n",
       "NGC~4535        44.7         179.7 ...   9.600802   10.530957   0.33470824\n",
       "NGC~5068        35.7         342.4 ...   8.415606    9.401049  -0.55962485\n",
       "NGC~7496        35.9         193.7 ...   9.258334    9.996621   0.35407695"
      ]
     },
     "execution_count": 10,
     "metadata": {},
     "output_type": "execute_result"
    }
   ],
   "source": [
    "sample_table_cut"
   ]
  },
  {
   "cell_type": "code",
   "execution_count": null,
   "metadata": {},
   "outputs": [],
   "source": []
  }
 ],
 "metadata": {
  "kernelspec": {
   "display_name": "base",
   "language": "python",
   "name": "python3"
  },
  "language_info": {
   "codemirror_mode": {
    "name": "ipython",
    "version": 3
   },
   "file_extension": ".py",
   "mimetype": "text/x-python",
   "name": "python",
   "nbconvert_exporter": "python",
   "pygments_lexer": "ipython3",
   "version": "3.9.13"
  }
 },
 "nbformat": 4,
 "nbformat_minor": 4
}
