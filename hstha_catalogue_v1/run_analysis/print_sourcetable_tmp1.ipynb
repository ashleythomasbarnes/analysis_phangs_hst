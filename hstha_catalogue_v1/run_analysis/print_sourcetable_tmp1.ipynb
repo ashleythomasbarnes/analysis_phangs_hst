{
 "cells": [
  {
   "cell_type": "code",
   "execution_count": 1,
   "metadata": {},
   "outputs": [],
   "source": [
    "from astropy.table import Table, vstack\n",
    "import numpy as np\n",
    "import matplotlib.pyplot as plt\n",
    "import astropy.units as au\n",
    "import glob"
   ]
  },
  {
   "cell_type": "code",
   "execution_count": 2,
   "metadata": {},
   "outputs": [
    {
     "name": "stdout",
     "output_type": "stream",
     "text": [
      "/Users/abarnes/Dropbox/work/Smallprojects/galaxies/data_misc/sample_table/phangs_sample_table_v1p6.fits\n"
     ]
    }
   ],
   "source": [
    "# Define names and filenames...\n",
    "root_dir = '/Users/abarnes/Dropbox/work/Smallprojects/galaxies'\n",
    "\n",
    "sample_table_file = '%s/data_misc/sample_table/phangs_sample_table_v1p6.fits' %root_dir\n",
    "\n",
    "print(sample_table_file)\n",
    "\n",
    "sample_table = Table.read(sample_table_file)"
   ]
  },
  {
   "cell_type": "code",
   "execution_count": 3,
   "metadata": {},
   "outputs": [],
   "source": [
    "sample_table_ = []\n",
    "gals = ['NGC3627', 'NGC4321', 'NGC6946']\n",
    "\n",
    "for i, gal in enumerate(gals):\n",
    "    mask = sample_table['name'] == gal.lower()\n",
    "    sample_table_ += sample_table[mask]\n",
    "    \n",
    "sample_table = vstack(sample_table_)"
   ]
  },
  {
   "cell_type": "code",
   "execution_count": 4,
   "metadata": {},
   "outputs": [],
   "source": [
    "mass_co = (sample_table['lco_phangs'].quantity * sample_table['appcor_phangs'].quantity * sample_table['aco10_phangs'].quantity) / 0.65\n",
    "sample_table['props_mmol'] = mass_co"
   ]
  },
  {
   "cell_type": "code",
   "execution_count": 5,
   "metadata": {},
   "outputs": [
    {
     "data": {
      "text/html": [
       "<div><i>Table length=3</i>\n",
       "<table id=\"table140419278399856\" class=\"table-striped table-bordered table-condensed\">\n",
       "<thead><tr><th>name</th><th>pgc</th><th>alias</th><th>survey_astrosat_status</th><th>survey_astrosat_instrument</th><th>survey_astrosat_notes</th><th>survey_astrosat_references</th><th>survey_galex_status</th><th>survey_galex_instrument</th><th>survey_galex_notes</th><th>survey_galex_references</th><th>survey_halpha_status</th><th>survey_halpha_instrument</th><th>survey_halpha_notes</th><th>survey_halpha_references</th><th>survey_muse_status</th><th>survey_muse_instrument</th><th>survey_muse_notes</th><th>survey_muse_references</th><th>survey_kcwi_status</th><th>survey_kcwi_instrument</th><th>survey_kcwi_notes</th><th>survey_kcwi_references</th><th>survey_sitelle_status</th><th>survey_sitelle_instrument</th><th>survey_sitelle_notes</th><th>survey_sitelle_references</th><th>survey_typhoon_status</th><th>survey_typhoon_instrument</th><th>survey_typhoon_notes</th><th>survey_typhoon_references</th><th>survey_hst_status</th><th>survey_hst_instrument</th><th>survey_hst_notes</th><th>survey_hst_references</th><th>survey_irac_status</th><th>survey_irac_instrument</th><th>survey_irac_notes</th><th>survey_irac_references</th><th>survey_mips_status</th><th>survey_mips_instrument</th><th>survey_mips_notes</th><th>survey_mips_references</th><th>survey_wise_status</th><th>survey_wise_instrument</th><th>survey_wise_notes</th><th>survey_wise_references</th><th>survey_herschel_status</th><th>survey_herschel_instrument</th><th>survey_herschel_notes</th><th>survey_herschel_references</th><th>survey_alma_status</th><th>survey_alma_instrument</th><th>survey_alma_notes</th><th>survey_alma_references</th><th>survey_otherco_status</th><th>survey_otherco_instrument</th><th>survey_otherco_notes</th><th>survey_otherco_references</th><th>survey_hiresco_status</th><th>survey_hiresco_instrument</th><th>survey_hiresco_notes</th><th>survey_hiresco_references</th><th>survey_multijco_status</th><th>survey_multijco_instrument</th><th>survey_multijco_notes</th><th>survey_multijco_references</th><th>survey_dense_status</th><th>survey_dense_instrument</th><th>survey_dense_notes</th><th>survey_dense_references</th><th>survey_hi_status</th><th>survey_hi_instrument</th><th>survey_hi_notes</th><th>survey_hi_references</th><th>orient_ra</th><th>orient_ra_unc</th><th>orient_dec</th><th>orient_dec_unc</th><th>orient_pos_ref</th><th>orient_vlsr</th><th>orient_vlsr_unc</th><th>orient_vlsr_ref</th><th>orient_incl</th><th>orient_incl_unc</th><th>orient_posang</th><th>orient_posang_unc</th><th>orient_ref</th><th>rotcur_v0</th><th>rotcur_v0_unc</th><th>rotcur_rt</th><th>rotcur_rt_unc</th><th>rotcur_ref</th><th>dist</th><th>dist_unc</th><th>dist_label</th><th>dist_ref</th><th>size_r90</th><th>size_r90_unc</th><th>size_r90_ref</th><th>mwext_sfd98</th><th>mwext_sfd98_unc</th><th>mwext_sf11</th><th>mwext_sf11_unc</th><th>z0mgs_mtol</th><th>props_mtol_method</th><th>props_sfr</th><th>props_sfr_unc</th><th>props_sfr_method</th><th>props_mstar</th><th>props_mstar_unc</th><th>props_mtol</th><th>props_deltams</th><th>props_deltams_unc</th><th>props_mhi</th><th>props_mhi_unc</th><th>lco_phangs</th><th>lco_phangs_unc</th><th>appcor_phangs</th><th>aco10_phangs</th><th>size_r25</th><th>size_r25_unc</th><th>size_reff</th><th>size_reff_unc</th><th>size_scalelength</th><th>size_scalelength_unc</th><th>mh2_phangs</th><th>mh2_phangs_unc</th><th>morph_t</th><th>morph_t_unc</th><th>morph_string</th><th>morph_bar</th><th>morph_buta15</th><th>morph_class</th><th>morph_gold</th><th>morph_bar_flag</th><th>morph_bar_axis_ratio</th><th>morph_bar_pa</th><th>morph_bar_r</th><th>morph_bar_red</th><th>morph_bar_q_flag</th><th>morph_nuclear_bar_axis_ratio</th><th>morph_nuclear_bar_pa</th><th>morph_nuclear_bar_r</th><th>morph_spiral_arms</th><th>morph_multi_arm</th><th>morph_featureless</th><th>morph_disk_1_axis_ratio</th><th>morph_disk_1_pa</th><th>morph_disk_1_r</th><th>morph_disk_2_axis_ratio</th><th>morph_disk_2_pa</th><th>morph_disk_2_r</th><th>morph_bulge_axis_ratio</th><th>morph_bulge_pa</th><th>morph_bulge_r</th><th>morph_rings_outer</th><th>morph_ring_inner</th><th>morph_lens_1_axis_ratio</th><th>morph_lens_1_pa</th><th>morph_lens_1_r</th><th>morph_lens_2_axis_ratio</th><th>morph_lens_2_pa</th><th>morph_lens_2_r</th><th>morph_ring_1_axis_ratio</th><th>morph_ring_1_pa</th><th>morph_ring_1_r</th><th>morph_ring_2_axis_ratio</th><th>morph_ring_2_pa</th><th>morph_ring_2_r</th><th>morph_vcc</th><th>morph_interacting</th><th>morph_in_virgo_fornax</th><th>morph_high_peculiar</th><th>morph_comments</th><th>agn_veron_y_n</th><th>agn_veron_class</th><th>agn_milliquas_y_n</th><th>agn_milliquas_class_pQSO</th><th>props_mmol</th></tr></thead>\n",
       "<thead><tr><th></th><th></th><th></th><th></th><th></th><th></th><th></th><th></th><th></th><th></th><th></th><th></th><th></th><th></th><th></th><th></th><th></th><th></th><th></th><th></th><th></th><th></th><th></th><th></th><th></th><th></th><th></th><th></th><th></th><th></th><th></th><th></th><th></th><th></th><th></th><th></th><th></th><th></th><th></th><th></th><th></th><th></th><th></th><th></th><th></th><th></th><th></th><th></th><th></th><th></th><th></th><th></th><th></th><th></th><th></th><th></th><th></th><th></th><th></th><th></th><th></th><th></th><th></th><th></th><th></th><th></th><th></th><th></th><th></th><th></th><th></th><th></th><th></th><th></th><th></th><th>deg</th><th>arcsec</th><th>deg</th><th>arcsec</th><th></th><th>km / s</th><th>km / s</th><th></th><th>deg</th><th>deg</th><th>deg</th><th>deg</th><th></th><th>km / s</th><th>km / s</th><th>arcsec</th><th>arcsec</th><th></th><th>Mpc</th><th></th><th></th><th></th><th>arcsec</th><th>arcsec</th><th></th><th>mag</th><th>mag</th><th>mag</th><th>mag</th><th>solMass / solLum</th><th></th><th>solMass / yr</th><th>solMass / yr</th><th></th><th>solMass</th><th>solMass</th><th></th><th></th><th></th><th>solMass</th><th>solMass</th><th>pc2 K km / s</th><th>pc2 K km / s</th><th></th><th>s solMass / (K km pc2)</th><th>arcsec</th><th>arcsec</th><th>arcsec</th><th>arcsec</th><th>arcsec</th><th>arcsec</th><th>solMass</th><th>solMass</th><th></th><th></th><th></th><th></th><th></th><th></th><th></th><th></th><th></th><th>deg</th><th>arcsec</th><th></th><th></th><th></th><th>deg</th><th>arcsec</th><th></th><th></th><th></th><th></th><th>deg</th><th>arcsec</th><th></th><th>deg</th><th>arcsec</th><th></th><th>deg</th><th>arcsec</th><th></th><th></th><th></th><th>deg</th><th>arcsec</th><th></th><th>deg</th><th>arcsec</th><th></th><th>deg</th><th>arcsec</th><th></th><th>deg</th><th>arcsec</th><th></th><th></th><th></th><th></th><th></th><th></th><th></th><th></th><th></th><th>solMass</th></tr></thead>\n",
       "<thead><tr><th>bytes100</th><th>int64</th><th>bytes1000</th><th>bytes100</th><th>bytes100</th><th>bytes1000</th><th>bytes100</th><th>bytes100</th><th>bytes100</th><th>bytes1000</th><th>bytes100</th><th>bytes100</th><th>bytes100</th><th>bytes1000</th><th>bytes100</th><th>bytes100</th><th>bytes100</th><th>bytes1000</th><th>bytes100</th><th>bytes100</th><th>bytes100</th><th>bytes1000</th><th>bytes100</th><th>bytes100</th><th>bytes100</th><th>bytes1000</th><th>bytes100</th><th>bytes100</th><th>bytes100</th><th>bytes1000</th><th>bytes100</th><th>bytes100</th><th>bytes100</th><th>bytes1000</th><th>bytes100</th><th>bytes100</th><th>bytes100</th><th>bytes1000</th><th>bytes100</th><th>bytes100</th><th>bytes100</th><th>bytes1000</th><th>bytes100</th><th>bytes100</th><th>bytes100</th><th>bytes1000</th><th>bytes100</th><th>bytes100</th><th>bytes100</th><th>bytes1000</th><th>bytes100</th><th>bytes100</th><th>bytes100</th><th>bytes1000</th><th>bytes100</th><th>bytes100</th><th>bytes100</th><th>bytes1000</th><th>bytes100</th><th>bytes100</th><th>bytes100</th><th>bytes1000</th><th>bytes100</th><th>bytes100</th><th>bytes100</th><th>bytes1000</th><th>bytes100</th><th>bytes100</th><th>bytes100</th><th>bytes1000</th><th>bytes100</th><th>bytes100</th><th>bytes100</th><th>bytes1000</th><th>bytes100</th><th>float32</th><th>float32</th><th>float32</th><th>float32</th><th>bytes100</th><th>float32</th><th>float32</th><th>bytes100</th><th>float32</th><th>float32</th><th>float32</th><th>float32</th><th>bytes100</th><th>float32</th><th>float32</th><th>float32</th><th>float32</th><th>bytes100</th><th>float32</th><th>float32</th><th>bytes100</th><th>bytes100</th><th>float32</th><th>float32</th><th>bytes100</th><th>float64</th><th>float64</th><th>float64</th><th>float64</th><th>float64</th><th>bytes100</th><th>float32</th><th>float32</th><th>bytes100</th><th>float32</th><th>float32</th><th>float32</th><th>float32</th><th>float32</th><th>float32</th><th>float32</th><th>float32</th><th>float32</th><th>float32</th><th>float32</th><th>float32</th><th>float32</th><th>float32</th><th>float32</th><th>float32</th><th>float32</th><th>float32</th><th>float32</th><th>float64</th><th>float64</th><th>bytes100</th><th>bytes100</th><th>bytes100</th><th>bytes100</th><th>float64</th><th>float64</th><th>float64</th><th>float64</th><th>float64</th><th>float64</th><th>float64</th><th>float64</th><th>float64</th><th>float64</th><th>float64</th><th>float64</th><th>float64</th><th>float64</th><th>float64</th><th>float64</th><th>float64</th><th>float64</th><th>float64</th><th>float64</th><th>float64</th><th>float64</th><th>float64</th><th>float64</th><th>float64</th><th>float64</th><th>float64</th><th>float64</th><th>float64</th><th>float64</th><th>float64</th><th>float64</th><th>float64</th><th>float64</th><th>float64</th><th>float64</th><th>float64</th><th>float64</th><th>float64</th><th>float64</th><th>bytes100</th><th>bytes100</th><th>bytes100</th><th>bytes100</th><th>bytes100</th><th>float32</th></tr></thead>\n",
       "<tr><td>ngc3627</td><td>34695</td><td>2masxj11201502+1259286;adbsj112020+1259;agc006346;ark288;arp016;arp317:;cgcg067-057;hipassj1120+13a;iras11176+1315;lgg231:[g93]003;m066;m66;mcg+02-29-019;messier066;messier66;mrc1117+132;ngc3627;pgc034695;pgc34695;sdssj112014.98+125929.4;ugc06346;ugc6346;uzc111736+13160;vv308:</td><td>observed_not_released</td><td></td><td></td><td></td><td>released</td><td>NUV;FUV</td><td></td><td>2019ApJS..244...24L</td><td>released</td><td>WFI</td><td></td><td></td><td>released</td><td></td><td></td><td></td><td>observed_not_released</td><td></td><td></td><td></td><td>observed_not_released</td><td>SIGNALS</td><td></td><td></td><td>not_in_survey</td><td></td><td></td><td></td><td>observed_not_released</td><td></td><td></td><td></td><td>released</td><td></td><td></td><td></td><td>not_in_survey</td><td></td><td></td><td></td><td>released</td><td>W1;W2;W3;W4</td><td></td><td>2019ApJS..244...24L;2014AJ....147..108L</td><td>released</td><td></td><td></td><td></td><td>released</td><td>12m;7m;tp</td><td></td><td>LeroyEtAlInPrep</td><td>not_in_survey</td><td></td><td></td><td></td><td>not_in_survey</td><td></td><td></td><td></td><td>observed_not_released</td><td></td><td></td><td></td><td>released</td><td>30m - ALMA7m</td><td>EMPIRE. Observed at 1mm with ACA but not released yet.</td><td>2019ApJ...880..127J</td><td>released</td><td>VLA</td><td>THINGS</td><td>2008AJ....136.2563W</td><td>170.06252</td><td>1.0</td><td>12.9915</td><td>1.0</td><td>2015ApJS..219....4S</td><td>715.35803</td><td>5.0</td><td>LANGMEIDT19</td><td>57.3</td><td>1.0</td><td>173.1</td><td>3.6</td><td>LANGMEIDT19</td><td>205.7</td><td>6.8</td><td>9.366803</td><td>2.3417008</td><td>LANGMEIDT19</td><td>11.32</td><td>0.018</td><td>TRGB</td><td>2009AJ....138..332J</td><td>179.24435</td><td>--</td><td>FIT_TO_MAJORAXIS</td><td>0.0334</td><td>0.0014</td><td>0.0287</td><td>0.0012</td><td>0.35643792152404785</td><td>SSFRLIKE</td><td>3.8447642</td><td>0.9955071</td><td>FUVW4</td><td>68066914000.0</td><td>17624254000.0</td><td>0.39667878</td><td>0.18847327</td><td>0.048800517</td><td>1237669500.0</td><td>320464100.0</td><td>974614850.0</td><td>2230871.8</td><td>1.1238141</td><td>3.555913</td><td>308.40494</td><td>79.853874</td><td>66.259544</td><td>17.15628</td><td>68.31079</td><td>17.687399</td><td>5991910000.0</td><td>13715350.0</td><td>3.0999999046325684</td><td>0.4000000059604645</td><td>Sb</td><td>BAR</td><td>SB_x_(s)b_pec</td><td>G</td><td>1.0</td><td>1.0</td><td>4.167</td><td>160.0</td><td>66.4</td><td>1.0</td><td>1.0</td><td>--</td><td>--</td><td>--</td><td>1.0</td><td>0.0</td><td>0.0</td><td>1.712</td><td>166.2</td><td>90.293</td><td>--</td><td>--</td><td>--</td><td>1.712</td><td>170.9</td><td>4.7</td><td>0.0</td><td>0.0</td><td>--</td><td>--</td><td>--</td><td>--</td><td>--</td><td>--</td><td>--</td><td>--</td><td>--</td><td>--</td><td>--</td><td>--</td><td>0.0</td><td>1.0</td><td>0.0</td><td>0.0</td><td>part of Leo triplet</td><td>1</td><td>S3</td><td>0</td><td></td><td>5991910000.0</td></tr>\n",
       "<tr><td>ngc4321</td><td>40153</td><td>2masxj12225489+1549205;agc007450;alfalfa1-289;cgcg099-030;evcc0467;hipassj1222+15;iras12203+1606;iras12204+1605;kug1220+160;lgg289:[g93]057;m100;mcg+03-32-015;messier100;ngc4321;nibles1641;pgc040153;pgc40153;sdssj122254.91+154920.2;ugc07450;ugc7450;uzc122024+16060;vcc0596;[th2002]006</td><td>not_in_survey</td><td></td><td></td><td></td><td>released</td><td>NUV;FUV</td><td></td><td>2019ApJS..244...24L</td><td>released</td><td>WFI</td><td></td><td></td><td>released</td><td></td><td></td><td></td><td>not_in_survey</td><td></td><td></td><td></td><td>awarded_not_observed</td><td>PHANGS</td><td>[OII] only</td><td></td><td>not_in_survey</td><td></td><td></td><td></td><td>awarded_not_observed</td><td></td><td></td><td></td><td>released</td><td></td><td></td><td></td><td>not_in_survey</td><td></td><td></td><td></td><td>released</td><td>W1;W2;W3;W4</td><td></td><td>2019ApJS..244...24L;2014AJ....147..108L</td><td>released</td><td></td><td></td><td></td><td>released</td><td>12m;7m;tp</td><td></td><td>LeroyEtAlInPrep</td><td>not_in_survey</td><td></td><td></td><td></td><td>awarded_not_observed</td><td>ALMA Band 6 0.25&quot; center</td><td>2019.1.00876.S (PI E. Schinnerer)</td><td></td><td>not_in_survey</td><td></td><td></td><td></td><td>released</td><td>30m - ALMA12m+TP - ALMA7m</td><td>EMPIRE and ALMA beta. Observed at 1mm with ACA but not released yet.</td><td>2019ApJ...880..127J</td><td>released</td><td>VLA</td><td>VLA-HERACLES</td><td>2009AJ....137.4670L</td><td>185.72887</td><td>1.0</td><td>15.822304</td><td>1.0</td><td>2015ApJS..219....4S</td><td>1572.3125</td><td>5.0</td><td>LANGMEIDT19</td><td>38.5</td><td>2.4</td><td>156.2</td><td>1.7</td><td>LANGMEIDT19</td><td>178.7</td><td>14.0</td><td>5.9708233</td><td>1.2213048</td><td>LANGMEIDT19</td><td>15.21</td><td>0.014</td><td>Cepheid</td><td>2001ApJ...553...47F</td><td>172.41925</td><td>--</td><td>FIT_TO_MAJORAXIS</td><td>0.0265</td><td>0.0003</td><td>0.0228</td><td>0.0003</td><td>0.3560020625591278</td><td>SSFRLIKE</td><td>3.5552816</td><td>0.92055273</td><td>FUVW4</td><td>55605805000.0</td><td>14397755000.0</td><td>0.3531106</td><td>0.21419239</td><td>0.055459853</td><td>2706265600.0</td><td>700720900.0</td><td>1067065540.0</td><td>2565866.0</td><td>1.2442555</td><td>3.8052394</td><td>182.86105</td><td>47.347374</td><td>74.58043</td><td>19.310768</td><td>49.311455</td><td>12.767988</td><td>7772653600.0</td><td>18690126.0</td><td>4.0</td><td>0.30000001192092896</td><td>SABb</td><td>BAR</td><td>SAB(rs_nr_nb)bc</td><td>G</td><td>1.0</td><td>1.0</td><td>2.5</td><td>115.0</td><td>7.9</td><td>1.0</td><td>1.0</td><td>2.5</td><td>115.0</td><td>7.9</td><td>1.0</td><td>0.0</td><td>0.0</td><td>1.215</td><td>158.2</td><td>102.165</td><td>--</td><td>--</td><td>--</td><td>1.258</td><td>127.7</td><td>7.2</td><td>0.0</td><td>1.0</td><td>--</td><td>--</td><td>--</td><td>--</td><td>--</td><td>--</td><td>1.429</td><td>109.0</td><td>8.4</td><td>--</td><td>--</td><td>--</td><td>0.0</td><td>0.5</td><td>1.0</td><td>0.0</td><td>several nearby companions, in Virgo,</td><td>0</td><td></td><td>0</td><td></td><td>7772653600.0</td></tr>\n",
       "<tr><td>ngc6946</td><td>65001</td><td>2masxj20345233+6009132;arp029;cgcg304-006;iras20338+5958;mcg+10-29-006;ngc6946;pgc065001;pgc65001;ugc11597;uzc203348+59590</td><td>observed_not_released</td><td></td><td></td><td></td><td>released</td><td>NUV;FUV</td><td></td><td>2019ApJS..244...24L</td><td>not_in_survey</td><td></td><td></td><td></td><td>not_in_survey</td><td></td><td></td><td></td><td>not_in_survey</td><td></td><td></td><td></td><td>observed_not_released</td><td>SIGNALS</td><td></td><td></td><td>not_in_survey</td><td></td><td></td><td></td><td>not_in_survey</td><td></td><td></td><td></td><td>released</td><td></td><td></td><td></td><td>not_in_survey</td><td></td><td></td><td></td><td>released</td><td>W1;W2;W3;W4</td><td></td><td>2019ApJS..244...24L;2014AJ....147..108L</td><td>released</td><td></td><td></td><td></td><td>cannot_be_observed</td><td></td><td></td><td></td><td>observed_not_released</td><td>CARMA CO(1-0)</td><td>CANON</td><td>2013ApJ...772..107D</td><td>not_in_survey</td><td></td><td></td><td></td><td>not_in_survey</td><td></td><td></td><td></td><td>released</td><td>30m</td><td>EMPIRE</td><td>2019ApJ...880..127J</td><td>released</td><td>VLA</td><td>THINGS</td><td>2008AJ....136.2563W</td><td>308.71918</td><td>1.0</td><td>60.153515</td><td>1.0</td><td>LEDA</td><td>61.289387</td><td>2.2</td><td>LEDA</td><td>33.0</td><td>5.0</td><td>243.0</td><td>10.0</td><td>2008AJ....136.2648D</td><td>--</td><td>--</td><td>--</td><td>--</td><td></td><td>7.34</td><td>0.038</td><td>TRGB</td><td>2009AJ....138..332J</td><td>270.7973</td><td>--</td><td>FIT_TO_MAJORAXIS</td><td>0.3421</td><td>0.0032</td><td>0.2942</td><td>0.0028</td><td>0.24620231986045837</td><td>SSFRLIKE</td><td>5.857527</td><td>1.5166625</td><td>FUVW4</td><td>29321056000.0</td><td>7591966000.0</td><td>0.24804635</td><td>0.6200322</td><td>0.16054209</td><td>10526987000.0</td><td>2725704400.0</td><td>--</td><td>--</td><td>--</td><td>--</td><td>342.07486</td><td>88.57187</td><td>125.55029</td><td>32.50816</td><td>81.71742</td><td>21.158716</td><td>--</td><td>--</td><td>5.900000095367432</td><td>0.30000001192092896</td><td>SABc</td><td>BAR</td><td></td><td></td><td>--</td><td>--</td><td>--</td><td>--</td><td>--</td><td>--</td><td>--</td><td>--</td><td>--</td><td>--</td><td>--</td><td>--</td><td>--</td><td>--</td><td>--</td><td>--</td><td>--</td><td>--</td><td>--</td><td>--</td><td>--</td><td>--</td><td>--</td><td>--</td><td>--</td><td>--</td><td>--</td><td>--</td><td>--</td><td>--</td><td>--</td><td>--</td><td>--</td><td>--</td><td>--</td><td>--</td><td>--</td><td>--</td><td>--</td><td>--</td><td></td><td></td><td></td><td></td><td></td><td>nan</td></tr>\n",
       "</table></div>"
      ],
      "text/plain": [
       "<Table length=3>\n",
       "  name    pgc  ... agn_milliquas_class_pQSO  props_mmol \n",
       "               ...                            solMass   \n",
       "bytes100 int64 ...         bytes100           float32   \n",
       "-------- ----- ... ------------------------ ------------\n",
       " ngc3627 34695 ...                          5991910000.0\n",
       " ngc4321 40153 ...                          7772653600.0\n",
       " ngc6946 65001 ...                                   nan"
      ]
     },
     "execution_count": 5,
     "metadata": {},
     "output_type": "execute_result"
    }
   ],
   "source": [
    "sample_table"
   ]
  },
  {
   "cell_type": "code",
   "execution_count": 6,
   "metadata": {},
   "outputs": [],
   "source": [
    "sample_table_cut = sample_table['name', 'orient_ra', 'orient_dec', 'orient_incl', 'orient_posang', \n",
    "                                'morph_string', 'dist', 'size_reff', 'orient_vlsr', 'props_mhi', 'props_mmol',  \n",
    "                                'props_mstar', 'props_sfr']\n",
    "\n",
    "for i, n in enumerate(sample_table_cut['name']):\n",
    "    sample_table_cut['name'][i] = n.upper()\n",
    "    \n",
    "sample_table_cut['size_reff'] = sample_table_cut['size_reff']*sample_table_cut['dist']*1e6/206268*1e-3*au.kpc/au.arcsec\n",
    "\n",
    "sample_table_cut['props_mhi'] = np.log10(sample_table_cut['props_mhi'])\n",
    "sample_table_cut['props_mstar'] = np.log10(sample_table_cut['props_mstar'])\n",
    "sample_table_cut['props_mmol'] = np.log10(sample_table_cut['props_mmol'])\n",
    "# sample_table_cut['props_sfr'] = np.log10(sample_table_cut['props_sfr'])"
   ]
  },
  {
   "cell_type": "code",
   "execution_count": 7,
   "metadata": {},
   "outputs": [
    {
     "data": {
      "text/html": [
       "<div><i>Table length=3</i>\n",
       "<table id=\"table140419279001872\" class=\"table-striped table-bordered table-condensed\">\n",
       "<thead><tr><th>name</th><th>orient_ra</th><th>orient_dec</th><th>orient_incl</th><th>orient_posang</th><th>morph_string</th><th>dist</th><th>size_reff</th><th>orient_vlsr</th><th>props_mhi</th><th>props_mmol</th><th>props_mstar</th><th>props_sfr</th></tr></thead>\n",
       "<thead><tr><th></th><th>deg</th><th>deg</th><th>deg</th><th>deg</th><th></th><th>Mpc</th><th>kpc</th><th>km / s</th><th>solMass</th><th>solMass</th><th>solMass</th><th>solMass / yr</th></tr></thead>\n",
       "<thead><tr><th>bytes100</th><th>float32</th><th>float32</th><th>float32</th><th>float32</th><th>bytes100</th><th>float32</th><th>float64</th><th>float32</th><th>float32</th><th>float32</th><th>float32</th><th>float32</th></tr></thead>\n",
       "<tr><td>NGC3627</td><td>170.06252</td><td>12.9915</td><td>57.3</td><td>173.1</td><td>Sb</td><td>11.32</td><td>3.6363277289739564</td><td>715.35803</td><td>9.092605</td><td>9.777565</td><td>10.832936</td><td>3.8447642</td></tr>\n",
       "<tr><td>NGC4321</td><td>185.72887</td><td>15.822304</td><td>38.5</td><td>156.2</td><td>SABb</td><td>15.21</td><td>5.499487346558846</td><td>1572.3125</td><td>9.43237</td><td>9.89057</td><td>10.74512</td><td>3.5552816</td></tr>\n",
       "<tr><td>NGC6946</td><td>308.71918</td><td>60.153515</td><td>33.0</td><td>243.0</td><td>SABc</td><td>7.34</td><td>4.467678941959005</td><td>61.289387</td><td>10.022305</td><td>nan</td><td>10.467179</td><td>5.857527</td></tr>\n",
       "</table></div>"
      ],
      "text/plain": [
       "<Table length=3>\n",
       "  name   orient_ra orient_dec ... props_mmol props_mstar  props_sfr  \n",
       "            deg       deg     ...  solMass     solMass   solMass / yr\n",
       "bytes100  float32   float32   ...  float32     float32     float32   \n",
       "-------- --------- ---------- ... ---------- ----------- ------------\n",
       " NGC3627 170.06252    12.9915 ...   9.777565   10.832936    3.8447642\n",
       " NGC4321 185.72887  15.822304 ...    9.89057    10.74512    3.5552816\n",
       " NGC6946 308.71918  60.153515 ...        nan   10.467179     5.857527"
      ]
     },
     "execution_count": 7,
     "metadata": {},
     "output_type": "execute_result"
    }
   ],
   "source": [
    "sample_table_cut"
   ]
  },
  {
   "cell_type": "code",
   "execution_count": 8,
   "metadata": {},
   "outputs": [],
   "source": [
    "names = ['Galaxy',\n",
    "         'RA',\n",
    "         'DEC',\n",
    "         '$i$',\n",
    "         'PA',\n",
    "         'Morph.',\n",
    "         'Dist.',\n",
    "         '$R_\\mathrm{eff}$',\n",
    "         '$V_\\mathrm{LSR}$',\n",
    "         '$M_\\mathrm{H_I}$',\n",
    "         '$M_\\mathrm{CO}$',\n",
    "         '$M_\\mathrm{star}$',\n",
    "         'SFR']\n",
    "\n",
    "formats={\n",
    "        'RA': '%0.3f',\n",
    "        'DEC': '%0.3f',\n",
    "        'Dist.': '%0.1f', \n",
    "        '$R_\\mathrm{eff}$': '%0.1f',\n",
    "        '$V_\\mathrm{LSR}$': '%0.1f',\n",
    "        '$M_\\mathrm{H_I}$': '%0.1f',\n",
    "        '$M_\\mathrm{CO}$': '%0.1f',\n",
    "        '$M_\\mathrm{star}$': '%0.1f',\n",
    "        'SFR': '%0.1f'}\n",
    "\n",
    "sample_table_cut.write('./tabs/sourceprops_tmp.tex', formats=formats, names=names, overwrite=True)"
   ]
  },
  {
   "cell_type": "code",
   "execution_count": null,
   "metadata": {},
   "outputs": [],
   "source": []
  }
 ],
 "metadata": {
  "kernelspec": {
   "display_name": "Python 3",
   "language": "python",
   "name": "python3"
  },
  "language_info": {
   "codemirror_mode": {
    "name": "ipython",
    "version": 3
   },
   "file_extension": ".py",
   "mimetype": "text/x-python",
   "name": "python",
   "nbconvert_exporter": "python",
   "pygments_lexer": "ipython3",
   "version": "3.9.undefined"
  }
 },
 "nbformat": 4,
 "nbformat_minor": 4
}
