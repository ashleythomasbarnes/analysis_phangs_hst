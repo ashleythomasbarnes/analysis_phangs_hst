{
 "cells": [
  {
   "cell_type": "code",
   "execution_count": 1,
   "metadata": {},
   "outputs": [],
   "source": [
    "from imports import *"
   ]
  },
  {
   "cell_type": "code",
   "execution_count": 2,
   "metadata": {},
   "outputs": [],
   "source": [
    "# # TODO Update to V4 of the catalogue...\n",
    "\n",
    "# cat_v3 = QTable.read('/Users/abarnes/Dropbox/work/Smallprojects/galaxies/data_misc/Nebulae_catalogue_v3/Nebulae_catalogue_v3.fits')\n",
    "# cat_v4 = QTable.read('/Users/abarnes/Dropbox/work/Smallprojects/galaxies/data_misc/Nebulae_catalogue_v4/Nebulae_catalogue_v4.fits')\n",
    "\n",
    "# for col in cat_v3.colnames:\n",
    "#     if col in cat_v4.colnames:\n",
    "        \n",
    "#         unit_v3 = cat_v3[col].unit\n",
    "#         unit_v4 = cat_v4[col].unit\n",
    "\n",
    "#         if unit_v3 != unit_v4:\n",
    "#             print(col)\n",
    "#             print('  v3:', unit_v3)\n",
    "#             print('  v4:', unit_v4)\n",
    "\n",
    "#             cat_v4[col] = cat_v4[col].value * unit_v3\n",
    "\n",
    "# for col in cat_v3.colnames:\n",
    "#     if col in cat_v4.colnames:\n",
    "        \n",
    "#         unit_v3 = cat_v3[col].unit\n",
    "#         unit_v4 = cat_v4[col].unit\n",
    "\n",
    "#         if unit_v3 != unit_v4:\n",
    "#             print('UPDATED', col)\n",
    "#             print('  v3:', unit_v3)\n",
    "#             print('  v4:', unit_v4)"
   ]
  },
  {
   "cell_type": "code",
   "execution_count": 3,
   "metadata": {},
   "outputs": [
    {
     "name": "stdout",
     "output_type": "stream",
     "text": [
      "[Info] Outputting to the following:\n",
      "/Users/abarnes/Dropbox/work/Smallprojects/galaxies/data_hstha_nebulae_catalogue/ic5332/\n",
      "[INFO] [get_MuseProps] Getting MUSE catalouge properties for ic5332...\n",
      "[INFO] [get_galaxyprops] Getting sample table properties for ic5332...\n",
      "[INFO] Generating new DS9 region file...\n",
      "[INFO] [get_regions] Opening regions file (this may take a min)... \n",
      "[INFO] [get_regions] Getting info for 816 regions...\n",
      "[INFO] [save_pickle] Saved to /Users/abarnes/Dropbox/work/Smallprojects/galaxies/data_hstha_nebulae_catalogue/ic5332/cutouts/sample.pickel\n",
      "[INFO] Generating cutouts for hstha_hdu...\n"
     ]
    },
    {
     "name": "stderr",
     "output_type": "stream",
     "text": [
      "Cropping regions: 100%|██████████| 816/816 [00:03<00:00, 238.14it/s]\n"
     ]
    },
    {
     "name": "stdout",
     "output_type": "stream",
     "text": [
      "[INFO] [save_pickle] Saved to /Users/abarnes/Dropbox/work/Smallprojects/galaxies/data_hstha_nebulae_catalogue/ic5332/cutouts/hstha_hdu.pickel\n",
      "[INFO] Generating cutouts for musha_hdu...\n"
     ]
    },
    {
     "name": "stderr",
     "output_type": "stream",
     "text": [
      "Cropping regions: 100%|██████████| 816/816 [00:02<00:00, 327.49it/s]\n"
     ]
    },
    {
     "name": "stdout",
     "output_type": "stream",
     "text": [
      "[INFO] [save_pickle] Saved to /Users/abarnes/Dropbox/work/Smallprojects/galaxies/data_hstha_nebulae_catalogue/ic5332/cutouts/musha_hdu.pickel\n",
      "[INFO] Generating cutouts for muscat_hdu...\n"
     ]
    },
    {
     "name": "stderr",
     "output_type": "stream",
     "text": [
      "Cropping regions: 100%|██████████| 816/816 [00:02<00:00, 292.61it/s]\n"
     ]
    },
    {
     "name": "stdout",
     "output_type": "stream",
     "text": [
      "[INFO] [save_pickle] Saved to /Users/abarnes/Dropbox/work/Smallprojects/galaxies/data_hstha_nebulae_catalogue/ic5332/cutouts/muscat_hdu.pickel\n",
      "[INFO] [load_pickle] Load /Users/abarnes/Dropbox/work/Smallprojects/galaxies/data_hstha_nebulae_catalogue/ic5332/cutouts/hstha_hdu.pickel\n",
      "[INFO] [load_pickle] Load /Users/abarnes/Dropbox/work/Smallprojects/galaxies/data_hstha_nebulae_catalogue/ic5332/cutouts/musha_hdu.pickel\n",
      "[INFO] [load_pickle] Load /Users/abarnes/Dropbox/work/Smallprojects/galaxies/data_hstha_nebulae_catalogue/ic5332/cutouts/muscat_hdu.pickel\n",
      "[INFO] All HDU cutouts saved to /Users/abarnes/Dropbox/work/Smallprojects/galaxies/data_hstha_nebulae_catalogue/ic5332/cutouts/hdus_all.pickel\n",
      "[INFO] [save_pickle] Saved to /Users/abarnes/Dropbox/work/Smallprojects/galaxies/data_hstha_nebulae_catalogue/ic5332/cutouts/hdus_all.pickel\n",
      "[CATALOGUE] Running catalogue generation for: ic5332\n",
      "[INFO] [get_maskedhdus] Getting HST maps masked by MUSE catalouge...\n"
     ]
    },
    {
     "name": "stderr",
     "output_type": "stream",
     "text": [
      "Masking regions: 100%|██████████| 816/816 [00:49<00:00, 16.61it/s]\n"
     ]
    },
    {
     "name": "stdout",
     "output_type": "stream",
     "text": [
      "[INFO] [save_pickle] Saved to /Users/abarnes/Dropbox/work/Smallprojects/galaxies/data_hstha_nebulae_catalogue/ic5332/cutouts/hdus_all_withmasked.pickel\n"
     ]
    },
    {
     "name": "stderr",
     "output_type": "stream",
     "text": [
      "Get sources:: 100%|██████████| 816/816 [00:07<00:00, 108.98it/s]\n"
     ]
    },
    {
     "name": "stdout",
     "output_type": "stream",
     "text": [
      "[INFO] [get_MuseProps] Getting MUSE catalouge properties for ic5332...\n",
      "[CATALOGUE] Final properties table saved to: /Users/abarnes/Dropbox/work/Smallprojects/galaxies/data_hstha_nebulae_catalogue/ic5332/catalogue/props_all.fits\n"
     ]
    },
    {
     "name": "stderr",
     "output_type": "stream",
     "text": [
      "Masking regions: 100%|██████████| 816/816 [00:00<00:00, 1635.54it/s]\n",
      "100%|██████████| 162/162 [00:03<00:00, 44.44it/s]\n"
     ]
    },
    {
     "name": "stdout",
     "output_type": "stream",
     "text": [
      "[CATALOGUE] Masks saved to /Users/abarnes/Dropbox/work/Smallprojects/galaxies/data_hstha_nebulae_catalogue/ic5332/catalogue/ic5332_mask.fits and /Users/abarnes/Dropbox/work/Smallprojects/galaxies/data_hstha_nebulae_catalogue/ic5332/catalogue/ic5332_complexity.fits...\n",
      "[CATALOGUE] DS9 regions output to /Users/abarnes/Dropbox/work/Smallprojects/galaxies/data_hstha_nebulae_catalogue/ic5332/catalogue/ic5332_mask...\n",
      "[CATALOGUE] Done!\n",
      "[ASSOCIATIONS] Checking association files for galaxy ic5332 ...\n",
      "Unpacking: /Users/abarnes/Dropbox/work/Smallprojects/galaxies/data_misc/multiscale_stellar_associations/ic5332/vselect/ws8pc/PHANGS_IR4_hst_wfc3_ic5332_v1p3_multi_assoc-vselect-ws8pc-idmask.fits.gz\n",
      "[INFO] Files found for v_08pc.\n",
      "Unpacking: /Users/abarnes/Dropbox/work/Smallprojects/galaxies/data_misc/multiscale_stellar_associations/ic5332/vselect/ws16pc/PHANGS_IR4_hst_wfc3_ic5332_v1p3_multi_assoc-vselect-ws16pc-idmask.fits.gz\n",
      "[INFO] Files found for v_16pc.\n",
      "Unpacking: /Users/abarnes/Dropbox/work/Smallprojects/galaxies/data_misc/multiscale_stellar_associations/ic5332/vselect/ws32pc/PHANGS_IR4_hst_wfc3_ic5332_v1p3_multi_assoc-vselect-ws32pc-idmask.fits.gz\n",
      "[INFO] Files found for v_32pc.\n",
      "Unpacking: /Users/abarnes/Dropbox/work/Smallprojects/galaxies/data_misc/multiscale_stellar_associations/ic5332/vselect/ws64pc/PHANGS_IR4_hst_wfc3_ic5332_v1p3_multi_assoc-vselect-ws64pc-idmask.fits.gz\n",
      "[INFO] Files found for v_64pc.\n",
      "Unpacking: /Users/abarnes/Dropbox/work/Smallprojects/galaxies/data_misc/multiscale_stellar_associations/ic5332/nuvselect/ws8pc/PHANGS_IR4_hst_wfc3_ic5332_v1p3_multi_assoc-nuvselect-ws8pc-idmask.fits.gz\n",
      "[INFO] Files found for nuv_08pc.\n",
      "Unpacking: /Users/abarnes/Dropbox/work/Smallprojects/galaxies/data_misc/multiscale_stellar_associations/ic5332/nuvselect/ws16pc/PHANGS_IR4_hst_wfc3_ic5332_v1p3_multi_assoc-nuvselect-ws16pc-idmask.fits.gz\n",
      "[INFO] Files found for nuv_16pc.\n",
      "Unpacking: /Users/abarnes/Dropbox/work/Smallprojects/galaxies/data_misc/multiscale_stellar_associations/ic5332/nuvselect/ws32pc/PHANGS_IR4_hst_wfc3_ic5332_v1p3_multi_assoc-nuvselect-ws32pc-idmask.fits.gz\n",
      "[INFO] Files found for nuv_32pc.\n",
      "Unpacking: /Users/abarnes/Dropbox/work/Smallprojects/galaxies/data_misc/multiscale_stellar_associations/ic5332/nuvselect/ws64pc/PHANGS_IR4_hst_wfc3_ic5332_v1p3_multi_assoc-nuvselect-ws64pc-idmask.fits.gz\n",
      "[INFO] Files found for nuv_64pc.\n",
      "[INFO] [load_pickle] Load /Users/abarnes/Dropbox/work/Smallprojects/galaxies/data_hstha_nebulae_catalogue/ic5332/cutouts/sample.pickel\n",
      "[ASSOCIATIONS] Generating new cutouts for association masks...\n"
     ]
    },
    {
     "name": "stderr",
     "output_type": "stream",
     "text": [
      "Cropping regions: 100%|██████████| 162/162 [00:00<00:00, 240.24it/s]\n"
     ]
    },
    {
     "name": "stdout",
     "output_type": "stream",
     "text": [
      "[INFO] [save_pickle] Saved to /Users/abarnes/Dropbox/work/Smallprojects/galaxies/data_hstha_nebulae_catalogue/ic5332/cutouts/hdus_catalog_mask_new.pickel\n"
     ]
    },
    {
     "name": "stderr",
     "output_type": "stream",
     "text": [
      "Cropping regions: 100%|██████████| 162/162 [00:00<00:00, 271.58it/s]\n"
     ]
    },
    {
     "name": "stdout",
     "output_type": "stream",
     "text": [
      "[INFO] [save_pickle] Saved to /Users/abarnes/Dropbox/work/Smallprojects/galaxies/data_hstha_nebulae_catalogue/ic5332/cutouts/hdus_association_mask_new_v_08pc.pickel\n"
     ]
    },
    {
     "name": "stderr",
     "output_type": "stream",
     "text": [
      "Cropping regions: 100%|██████████| 162/162 [00:00<00:00, 278.73it/s]\n"
     ]
    },
    {
     "name": "stdout",
     "output_type": "stream",
     "text": [
      "[INFO] [save_pickle] Saved to /Users/abarnes/Dropbox/work/Smallprojects/galaxies/data_hstha_nebulae_catalogue/ic5332/cutouts/hdus_association_mask_new_v_16pc.pickel\n"
     ]
    },
    {
     "name": "stderr",
     "output_type": "stream",
     "text": [
      "Cropping regions: 100%|██████████| 162/162 [00:00<00:00, 276.50it/s]\n"
     ]
    },
    {
     "name": "stdout",
     "output_type": "stream",
     "text": [
      "[INFO] [save_pickle] Saved to /Users/abarnes/Dropbox/work/Smallprojects/galaxies/data_hstha_nebulae_catalogue/ic5332/cutouts/hdus_association_mask_new_v_32pc.pickel\n"
     ]
    },
    {
     "name": "stderr",
     "output_type": "stream",
     "text": [
      "Cropping regions: 100%|██████████| 162/162 [00:00<00:00, 277.54it/s]\n"
     ]
    },
    {
     "name": "stdout",
     "output_type": "stream",
     "text": [
      "[INFO] [save_pickle] Saved to /Users/abarnes/Dropbox/work/Smallprojects/galaxies/data_hstha_nebulae_catalogue/ic5332/cutouts/hdus_association_mask_new_v_64pc.pickel\n"
     ]
    },
    {
     "name": "stderr",
     "output_type": "stream",
     "text": [
      "Cropping regions: 100%|██████████| 162/162 [00:00<00:00, 270.17it/s]\n"
     ]
    },
    {
     "name": "stdout",
     "output_type": "stream",
     "text": [
      "[INFO] [save_pickle] Saved to /Users/abarnes/Dropbox/work/Smallprojects/galaxies/data_hstha_nebulae_catalogue/ic5332/cutouts/hdus_association_mask_new_nuv_08pc.pickel\n"
     ]
    },
    {
     "name": "stderr",
     "output_type": "stream",
     "text": [
      "Cropping regions: 100%|██████████| 162/162 [00:00<00:00, 236.68it/s]\n"
     ]
    },
    {
     "name": "stdout",
     "output_type": "stream",
     "text": [
      "[INFO] [save_pickle] Saved to /Users/abarnes/Dropbox/work/Smallprojects/galaxies/data_hstha_nebulae_catalogue/ic5332/cutouts/hdus_association_mask_new_nuv_16pc.pickel\n"
     ]
    },
    {
     "name": "stderr",
     "output_type": "stream",
     "text": [
      "Cropping regions: 100%|██████████| 162/162 [00:00<00:00, 239.21it/s]\n"
     ]
    },
    {
     "name": "stdout",
     "output_type": "stream",
     "text": [
      "[INFO] [save_pickle] Saved to /Users/abarnes/Dropbox/work/Smallprojects/galaxies/data_hstha_nebulae_catalogue/ic5332/cutouts/hdus_association_mask_new_nuv_32pc.pickel\n"
     ]
    },
    {
     "name": "stderr",
     "output_type": "stream",
     "text": [
      "Cropping regions: 100%|██████████| 162/162 [00:00<00:00, 253.33it/s]\n"
     ]
    },
    {
     "name": "stdout",
     "output_type": "stream",
     "text": [
      "[INFO] [save_pickle] Saved to /Users/abarnes/Dropbox/work/Smallprojects/galaxies/data_hstha_nebulae_catalogue/ic5332/cutouts/hdus_association_mask_new_nuv_64pc.pickel\n"
     ]
    },
    {
     "name": "stderr",
     "output_type": "stream",
     "text": [
      "Match associations:: 100%|██████████| 162/162 [00:26<00:00,  6.16it/s]\n"
     ]
    },
    {
     "name": "stdout",
     "output_type": "stream",
     "text": [
      "[ASSOCIATIONS] Final association table saved to: /Users/abarnes/Dropbox/work/Smallprojects/galaxies/data_hstha_nebulae_catalogue/ic5332/catalogue/props_all_association.fits\n",
      "Cleaning: /Users/abarnes/Dropbox/work/Smallprojects/galaxies/data_misc/multiscale_stellar_associations/ic5332/vselect/ws8pc/PHANGS_IR4_hst_wfc3_ic5332_v1p3_multi_assoc-vselect-ws8pc-idmask.fits\n",
      "Cleaning: /Users/abarnes/Dropbox/work/Smallprojects/galaxies/data_misc/multiscale_stellar_associations/ic5332/vselect/ws16pc/PHANGS_IR4_hst_wfc3_ic5332_v1p3_multi_assoc-vselect-ws16pc-idmask.fits\n",
      "Cleaning: /Users/abarnes/Dropbox/work/Smallprojects/galaxies/data_misc/multiscale_stellar_associations/ic5332/vselect/ws32pc/PHANGS_IR4_hst_wfc3_ic5332_v1p3_multi_assoc-vselect-ws32pc-idmask.fits\n",
      "Cleaning: /Users/abarnes/Dropbox/work/Smallprojects/galaxies/data_misc/multiscale_stellar_associations/ic5332/vselect/ws64pc/PHANGS_IR4_hst_wfc3_ic5332_v1p3_multi_assoc-vselect-ws64pc-idmask.fits\n",
      "Cleaning: /Users/abarnes/Dropbox/work/Smallprojects/galaxies/data_misc/multiscale_stellar_associations/ic5332/nuvselect/ws8pc/PHANGS_IR4_hst_wfc3_ic5332_v1p3_multi_assoc-nuvselect-ws8pc-idmask.fits\n",
      "Cleaning: /Users/abarnes/Dropbox/work/Smallprojects/galaxies/data_misc/multiscale_stellar_associations/ic5332/nuvselect/ws16pc/PHANGS_IR4_hst_wfc3_ic5332_v1p3_multi_assoc-nuvselect-ws16pc-idmask.fits\n",
      "Cleaning: /Users/abarnes/Dropbox/work/Smallprojects/galaxies/data_misc/multiscale_stellar_associations/ic5332/nuvselect/ws32pc/PHANGS_IR4_hst_wfc3_ic5332_v1p3_multi_assoc-nuvselect-ws32pc-idmask.fits\n",
      "Cleaning: /Users/abarnes/Dropbox/work/Smallprojects/galaxies/data_misc/multiscale_stellar_associations/ic5332/nuvselect/ws64pc/PHANGS_IR4_hst_wfc3_ic5332_v1p3_multi_assoc-nuvselect-ws64pc-idmask.fits\n"
     ]
    },
    {
     "data": {
      "text/plain": [
       "17606"
      ]
     },
     "execution_count": 3,
     "metadata": {},
     "output_type": "execute_result"
    }
   ],
   "source": [
    "galaxyname = 'ic5332'\n",
    "\n",
    "mycat = catalogue_pipeline.PyHSTHACat(galaxyname)\n",
    "mycat.rerun_all = True\n",
    "\n",
    "mycat.make_paths()\n",
    "mycat.load_files()\n",
    "mycat.get_regions()\n",
    "mycat.get_cutouts()\n",
    "mycat.make_catalogue()\n",
    "\n",
    "mycat.rerun_cutouts_associations = True\n",
    "mycat.make_associations()\n",
    "\n",
    "# To free memory\n",
    "del mycat \n",
    "gc.collect()"
   ]
  },
  {
   "cell_type": "code",
   "execution_count": null,
   "metadata": {},
   "outputs": [],
   "source": [
    "galaxyname = 'ngc0628'\n",
    "galaxyname_hst = 'ngc628c'\n",
    "galaxyname_cat = 'ngc628'\n",
    "\n",
    "mycat = catalogue_pipeline.PyHSTHACat(galaxyname, galaxyname_hst, galaxyname_cat)\n",
    "mycat.rerun_all = True\n",
    "\n",
    "mycat.make_paths()\n",
    "mycat.load_files()\n",
    "mycat.get_regions()\n",
    "mycat.get_cutouts()\n",
    "mycat.make_catalogue()\n",
    "\n",
    "mycat.rerun_cutouts_associations = True\n",
    "mycat.make_associations()\n",
    "\n",
    "# To free memory\n",
    "del mycat \n",
    "gc.collect()"
   ]
  },
  {
   "cell_type": "code",
   "execution_count": null,
   "metadata": {},
   "outputs": [],
   "source": [
    "galaxyname = 'ngc1087'\n",
    "\n",
    "mycat = catalogue_pipeline.PyHSTHACat(galaxyname)\n",
    "mycat.rerun_all = True\n",
    "\n",
    "mycat.make_paths()\n",
    "mycat.load_files()\n",
    "mycat.get_regions()\n",
    "mycat.get_cutouts()\n",
    "mycat.make_catalogue()\n",
    "\n",
    "mycat.rerun_cutouts_associations = True\n",
    "mycat.make_associations()\n",
    "\n",
    "# To free memory\n",
    "del mycat \n",
    "gc.collect()"
   ]
  },
  {
   "cell_type": "code",
   "execution_count": null,
   "metadata": {},
   "outputs": [],
   "source": [
    "galaxyname = 'ngc1300'\n",
    "\n",
    "mycat = catalogue_pipeline.PyHSTHACat(galaxyname)\n",
    "mycat.rerun_all = True\n",
    "\n",
    "mycat.make_paths()\n",
    "mycat.load_files()\n",
    "mycat.get_regions()\n",
    "mycat.get_cutouts()\n",
    "mycat.make_catalogue()\n",
    "\n",
    "mycat.rerun_cutouts_associations = True\n",
    "mycat.make_associations()\n",
    "\n",
    "# To free memory\n",
    "del mycat \n",
    "gc.collect()"
   ]
  },
  {
   "cell_type": "code",
   "execution_count": null,
   "metadata": {},
   "outputs": [],
   "source": [
    "galaxyname = 'ngc1365'\n",
    "galaxyname_hst = 'ngc1365n'\n",
    "\n",
    "mycat = catalogue_pipeline.PyHSTHACat(galaxyname, galaxyname_hst)\n",
    "mycat.rerun_all = True\n",
    "\n",
    "mycat.make_paths()\n",
    "mycat.load_files()\n",
    "mycat.get_regions()\n",
    "mycat.get_cutouts()\n",
    "mycat.make_catalogue()\n",
    "\n",
    "mycat.rerun_cutouts_associations = True\n",
    "mycat.make_associations()\n",
    "\n",
    "# To free memory\n",
    "del mycat \n",
    "gc.collect()"
   ]
  },
  {
   "cell_type": "code",
   "execution_count": null,
   "metadata": {},
   "outputs": [],
   "source": [
    "galaxyname = 'ngc1385'\n",
    "\n",
    "mycat = catalogue_pipeline.PyHSTHACat(galaxyname)\n",
    "mycat.rerun_all = True\n",
    "\n",
    "mycat.make_paths()\n",
    "mycat.load_files()\n",
    "mycat.get_regions()\n",
    "mycat.get_cutouts()\n",
    "mycat.make_catalogue()\n",
    "\n",
    "mycat.rerun_cutouts_associations = True\n",
    "mycat.make_associations()\n",
    "\n",
    "# To free memory\n",
    "del mycat \n",
    "gc.collect()"
   ]
  },
  {
   "cell_type": "code",
   "execution_count": null,
   "metadata": {},
   "outputs": [],
   "source": [
    "galaxyname = 'ngc1433'\n",
    "\n",
    "mycat = catalogue_pipeline.PyHSTHACat(galaxyname)\n",
    "mycat.rerun_all = True\n",
    "\n",
    "mycat.make_paths()\n",
    "mycat.load_files()\n",
    "mycat.get_regions()\n",
    "mycat.get_cutouts()\n",
    "mycat.make_catalogue()\n",
    "\n",
    "mycat.rerun_cutouts_associations = True\n",
    "mycat.make_associations()\n",
    "\n",
    "# To free memory\n",
    "del mycat \n",
    "gc.collect()"
   ]
  },
  {
   "cell_type": "code",
   "execution_count": null,
   "metadata": {},
   "outputs": [],
   "source": [
    "galaxyname = 'ngc1512'\n",
    "\n",
    "mycat = catalogue_pipeline.PyHSTHACat(galaxyname)\n",
    "mycat.rerun_all = True\n",
    "\n",
    "mycat.make_paths()\n",
    "mycat.load_files()\n",
    "mycat.get_regions()\n",
    "mycat.get_cutouts()\n",
    "mycat.make_catalogue()\n",
    "\n",
    "mycat.rerun_cutouts_associations = True\n",
    "mycat.make_associations()\n",
    "\n",
    "# To free memory\n",
    "del mycat \n",
    "gc.collect()"
   ]
  },
  {
   "cell_type": "code",
   "execution_count": null,
   "metadata": {},
   "outputs": [],
   "source": [
    "galaxyname = 'ngc1566'\n",
    "\n",
    "mycat = catalogue_pipeline.PyHSTHACat(galaxyname)\n",
    "mycat.rerun_all = True\n",
    "\n",
    "mycat.make_paths()\n",
    "mycat.load_files()\n",
    "mycat.get_regions()\n",
    "mycat.get_cutouts()\n",
    "mycat.make_catalogue()\n",
    "\n",
    "mycat.rerun_cutouts_associations = True\n",
    "mycat.make_associations()\n",
    "\n",
    "# To free memory\n",
    "del mycat \n",
    "gc.collect()"
   ]
  },
  {
   "cell_type": "code",
   "execution_count": null,
   "metadata": {},
   "outputs": [],
   "source": [
    "galaxyname = 'ngc1672'\n",
    "\n",
    "mycat = catalogue_pipeline.PyHSTHACat(galaxyname)\n",
    "mycat.rerun_all = True\n",
    "\n",
    "mycat.make_paths()\n",
    "mycat.load_files()\n",
    "mycat.get_regions()\n",
    "mycat.get_cutouts()\n",
    "mycat.make_catalogue()\n",
    "\n",
    "mycat.rerun_cutouts_associations = True\n",
    "mycat.make_associations()\n",
    "\n",
    "# To free memory\n",
    "del mycat \n",
    "gc.collect()"
   ]
  },
  {
   "cell_type": "code",
   "execution_count": null,
   "metadata": {},
   "outputs": [],
   "source": [
    "galaxyname = 'ngc2835'\n",
    "galaxyname_hst = 'ngc2835s'\n",
    "\n",
    "mycat = catalogue_pipeline.PyHSTHACat(galaxyname, galaxyname_hst)\n",
    "mycat.rerun_all = True\n",
    "\n",
    "mycat.make_paths()\n",
    "mycat.load_files()\n",
    "mycat.get_regions()\n",
    "mycat.get_cutouts()\n",
    "mycat.make_catalogue()\n",
    "\n",
    "mycat.rerun_cutouts_associations = True\n",
    "mycat.make_associations()\n",
    "\n",
    "# To free memory\n",
    "del mycat \n",
    "gc.collect()"
   ]
  },
  {
   "cell_type": "code",
   "execution_count": null,
   "metadata": {},
   "outputs": [],
   "source": [
    "galaxyname = 'ngc3351'\n",
    "\n",
    "mycat = catalogue_pipeline.PyHSTHACat(galaxyname)\n",
    "mycat.rerun_all = True\n",
    "\n",
    "mycat.make_paths()\n",
    "mycat.load_files()\n",
    "mycat.get_regions()\n",
    "mycat.get_cutouts()\n",
    "mycat.make_catalogue()\n",
    "\n",
    "mycat.rerun_cutouts_associations = True\n",
    "mycat.make_associations()\n",
    "\n",
    "# To free memory\n",
    "del mycat \n",
    "gc.collect()"
   ]
  },
  {
   "cell_type": "code",
   "execution_count": null,
   "metadata": {},
   "outputs": [],
   "source": [
    "galaxyname = 'ngc3627'\n",
    "\n",
    "mycat = catalogue_pipeline.PyHSTHACat(galaxyname)\n",
    "mycat.rerun_all = True\n",
    "\n",
    "mycat.make_paths()\n",
    "mycat.load_files()\n",
    "mycat.get_regions()\n",
    "mycat.get_cutouts()\n",
    "mycat.make_catalogue()\n",
    "\n",
    "mycat.rerun_cutouts_associations = True\n",
    "mycat.make_associations()\n",
    "\n",
    "# To free memory\n",
    "del mycat \n",
    "gc.collect()"
   ]
  },
  {
   "cell_type": "code",
   "execution_count": null,
   "metadata": {},
   "outputs": [],
   "source": [
    "galaxyname = 'ngc4254'\n",
    "\n",
    "mycat = catalogue_pipeline.PyHSTHACat(galaxyname)\n",
    "mycat.rerun_all = True\n",
    "\n",
    "mycat.make_paths()\n",
    "mycat.load_files()\n",
    "mycat.get_regions()\n",
    "mycat.get_cutouts()\n",
    "mycat.make_catalogue()\n",
    "\n",
    "mycat.rerun_cutouts_associations = True\n",
    "mycat.make_associations()\n",
    "\n",
    "# To free memory\n",
    "del mycat \n",
    "gc.collect()"
   ]
  },
  {
   "cell_type": "code",
   "execution_count": null,
   "metadata": {},
   "outputs": [],
   "source": [
    "galaxyname = 'ngc4303'\n",
    "\n",
    "mycat = catalogue_pipeline.PyHSTHACat(galaxyname)\n",
    "mycat.rerun_all = True\n",
    "\n",
    "mycat.make_paths()\n",
    "mycat.load_files()\n",
    "mycat.get_regions()\n",
    "mycat.get_cutouts()\n",
    "mycat.make_catalogue()\n",
    "\n",
    "mycat.rerun_cutouts_associations = True\n",
    "mycat.make_associations()\n",
    "\n",
    "# To free memory\n",
    "del mycat \n",
    "gc.collect()"
   ]
  },
  {
   "cell_type": "code",
   "execution_count": null,
   "metadata": {},
   "outputs": [],
   "source": [
    "galaxyname = 'ngc4321'\n",
    "\n",
    "mycat = catalogue_pipeline.PyHSTHACat(galaxyname)\n",
    "mycat.rerun_all = True\n",
    "\n",
    "mycat.make_paths()\n",
    "mycat.load_files()\n",
    "mycat.get_regions()\n",
    "mycat.get_cutouts()\n",
    "mycat.make_catalogue()\n",
    "\n",
    "mycat.rerun_cutouts_associations = True\n",
    "mycat.make_associations()\n",
    "\n",
    "# To free memory\n",
    "del mycat \n",
    "gc.collect()"
   ]
  },
  {
   "cell_type": "code",
   "execution_count": null,
   "metadata": {},
   "outputs": [],
   "source": [
    "galaxyname = 'ngc4535'\n",
    "\n",
    "mycat = catalogue_pipeline.PyHSTHACat(galaxyname)\n",
    "mycat.rerun_all = True\n",
    "\n",
    "mycat.make_paths()\n",
    "mycat.load_files()\n",
    "mycat.get_regions()\n",
    "mycat.get_cutouts()\n",
    "mycat.make_catalogue()\n",
    "\n",
    "mycat.rerun_cutouts_associations = True\n",
    "mycat.make_associations()\n",
    "\n",
    "# To free memory\n",
    "del mycat \n",
    "gc.collect()"
   ]
  },
  {
   "cell_type": "code",
   "execution_count": null,
   "metadata": {},
   "outputs": [],
   "source": [
    "galaxyname = 'ngc5068'\n",
    "\n",
    "mycat = catalogue_pipeline.PyHSTHACat(galaxyname)\n",
    "mycat.rerun_all = True\n",
    "\n",
    "mycat.make_paths()\n",
    "mycat.load_files()\n",
    "mycat.get_regions()\n",
    "mycat.get_cutouts()\n",
    "mycat.make_catalogue()\n",
    "\n",
    "mycat.rerun_cutouts_associations = True\n",
    "mycat.make_associations()\n",
    "\n",
    "# To free memory\n",
    "del mycat \n",
    "gc.collect()"
   ]
  },
  {
   "cell_type": "code",
   "execution_count": null,
   "metadata": {},
   "outputs": [],
   "source": [
    "galaxyname = 'ngc7496'\n",
    "\n",
    "mycat = catalogue_pipeline.PyHSTHACat(galaxyname)\n",
    "mycat.rerun_all = True\n",
    "\n",
    "mycat.make_paths()\n",
    "mycat.load_files()\n",
    "mycat.get_regions()\n",
    "mycat.get_cutouts()\n",
    "mycat.make_catalogue()\n",
    "\n",
    "mycat.rerun_cutouts_associations = True\n",
    "mycat.make_associations()\n",
    "\n",
    "# To free memory\n",
    "del mycat \n",
    "gc.collect()"
   ]
  }
 ],
 "metadata": {
  "kernelspec": {
   "display_name": "base",
   "language": "python",
   "name": "python3"
  },
  "language_info": {
   "codemirror_mode": {
    "name": "ipython",
    "version": 3
   },
   "file_extension": ".py",
   "mimetype": "text/x-python",
   "name": "python",
   "nbconvert_exporter": "python",
   "pygments_lexer": "ipython3",
   "version": "3.9.13"
  }
 },
 "nbformat": 4,
 "nbformat_minor": 2
}
