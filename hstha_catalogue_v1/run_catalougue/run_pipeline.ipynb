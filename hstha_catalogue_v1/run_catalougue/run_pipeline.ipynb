{
 "cells": [
  {
   "cell_type": "code",
   "execution_count": 1,
   "metadata": {},
   "outputs": [],
   "source": [
    "from imports import * "
   ]
  },
  {
   "cell_type": "code",
   "execution_count": null,
   "metadata": {},
   "outputs": [],
   "source": [
    "galaxyname = 'ic5332'\n",
    "\n",
    "mycat = catalogue_pipeline.PyHSTHACat(galaxyname)\n",
    "\n",
    "mycat.make_paths()\n",
    "mycat.load_files()\n",
    "mycat.get_regions()\n",
    "mycat.get_cutouts()\n",
    "mycat.make_catalogue()\n",
    "\n",
    "mycat.rerun_cutouts_associations = True\n",
    "mycat.make_associations()"
   ]
  },
  {
   "cell_type": "code",
   "execution_count": null,
   "metadata": {},
   "outputs": [],
   "source": [
    "galaxyname = 'ngc0628'\n",
    "galaxyname_hst = 'ngc628c'\n",
    "galaxyname_cat = 'ngc628'\n",
    "\n",
    "mycat = catalogue_pipeline.PyHSTHACat(galaxyname, galaxyname_hst, galaxyname_cat)\n",
    "\n",
    "mycat.make_paths()\n",
    "mycat.load_files()\n",
    "mycat.get_regions()\n",
    "mycat.get_cutouts()\n",
    "mycat.make_catalogue()\n",
    "\n",
    "mycat.rerun_cutouts_associations = True\n",
    "mycat.make_associations()"
   ]
  },
  {
   "cell_type": "code",
   "execution_count": null,
   "metadata": {},
   "outputs": [],
   "source": [
    "galaxyname = 'ngc1087'\n",
    "\n",
    "mycat = catalogue_pipeline.PyHSTHACat(galaxyname)\n",
    "\n",
    "mycat.make_paths()\n",
    "mycat.load_files()\n",
    "mycat.get_regions()\n",
    "mycat.get_cutouts()\n",
    "mycat.make_catalogue()\n",
    "\n",
    "mycat.rerun_cutouts_associations = True\n",
    "mycat.make_associations()"
   ]
  },
  {
   "cell_type": "code",
   "execution_count": null,
   "metadata": {},
   "outputs": [],
   "source": [
    "galaxyname = 'ngc1300'\n",
    "\n",
    "mycat = catalogue_pipeline.PyHSTHACat(galaxyname)\n",
    "\n",
    "mycat.make_paths()\n",
    "mycat.load_files()\n",
    "mycat.get_regions()\n",
    "mycat.get_cutouts()\n",
    "mycat.make_catalogue()\n",
    "\n",
    "mycat.rerun_cutouts_associations = True\n",
    "mycat.make_associations()"
   ]
  },
  {
   "cell_type": "code",
   "execution_count": null,
   "metadata": {},
   "outputs": [],
   "source": [
    "galaxyname = 'ngc1365'\n",
    "galaxyname_hst = 'ngc1365n'\n",
    "\n",
    "mycat = catalogue_pipeline.PyHSTHACat(galaxyname, galaxyname_hst)\n",
    "\n",
    "mycat.make_paths()\n",
    "mycat.load_files()\n",
    "mycat.get_regions()\n",
    "mycat.get_cutouts()\n",
    "mycat.make_catalogue()\n",
    "\n",
    "mycat.rerun_cutouts_associations = True\n",
    "mycat.make_associations()"
   ]
  },
  {
   "cell_type": "code",
   "execution_count": null,
   "metadata": {},
   "outputs": [],
   "source": [
    "galaxyname = 'ngc1385'\n",
    "\n",
    "mycat = catalogue_pipeline.PyHSTHACat(galaxyname)\n",
    "\n",
    "mycat.make_paths()\n",
    "mycat.load_files()\n",
    "mycat.get_regions()\n",
    "mycat.get_cutouts()\n",
    "mycat.make_catalogue()\n",
    "\n",
    "mycat.rerun_cutouts_associations = True\n",
    "mycat.make_associations()"
   ]
  },
  {
   "cell_type": "code",
   "execution_count": null,
   "metadata": {},
   "outputs": [],
   "source": [
    "galaxyname = 'ngc1433'\n",
    "\n",
    "mycat = catalogue_pipeline.PyHSTHACat(galaxyname)\n",
    "\n",
    "mycat.make_paths()\n",
    "mycat.load_files()\n",
    "mycat.get_regions()\n",
    "mycat.get_cutouts()\n",
    "mycat.make_catalogue()\n",
    "\n",
    "mycat.rerun_cutouts_associations = True\n",
    "mycat.make_associations()"
   ]
  },
  {
   "cell_type": "code",
   "execution_count": null,
   "metadata": {},
   "outputs": [],
   "source": [
    "galaxyname = 'ngc1512'\n",
    "\n",
    "mycat = catalogue_pipeline.PyHSTHACat(galaxyname)\n",
    "\n",
    "mycat.make_paths()\n",
    "mycat.load_files()\n",
    "mycat.get_regions()\n",
    "mycat.get_cutouts()\n",
    "mycat.make_catalogue()\n",
    "\n",
    "mycat.rerun_cutouts_associations = True\n",
    "mycat.make_associations()"
   ]
  },
  {
   "cell_type": "code",
   "execution_count": null,
   "metadata": {},
   "outputs": [],
   "source": [
    "galaxyname = 'ngc1566'\n",
    "\n",
    "mycat = catalogue_pipeline.PyHSTHACat(galaxyname)\n",
    "\n",
    "mycat.make_paths()\n",
    "mycat.load_files()\n",
    "mycat.get_regions()\n",
    "mycat.get_cutouts()\n",
    "mycat.make_catalogue()\n",
    "\n",
    "mycat.rerun_cutouts_associations = True\n",
    "mycat.make_associations()"
   ]
  },
  {
   "cell_type": "code",
   "execution_count": null,
   "metadata": {},
   "outputs": [],
   "source": [
    "galaxyname = 'ngc1672'\n",
    "\n",
    "mycat = catalogue_pipeline.PyHSTHACat(galaxyname)\n",
    "\n",
    "mycat.make_paths()\n",
    "mycat.load_files()\n",
    "mycat.get_regions()\n",
    "mycat.get_cutouts()\n",
    "mycat.make_catalogue()\n",
    "\n",
    "mycat.rerun_cutouts_associations = True\n",
    "mycat.make_associations()"
   ]
  },
  {
   "cell_type": "code",
   "execution_count": null,
   "metadata": {},
   "outputs": [],
   "source": [
    "galaxyname = 'ngc2835'\n",
    "galaxyname_hst = 'ngc2835s'\n",
    "\n",
    "mycat = catalogue_pipeline.PyHSTHACat(galaxyname, galaxyname_hst)\n",
    "\n",
    "mycat.make_paths()\n",
    "mycat.load_files()\n",
    "mycat.get_regions()\n",
    "mycat.get_cutouts()\n",
    "mycat.make_catalogue()\n",
    "\n",
    "mycat.rerun_cutouts_associations = True\n",
    "mycat.make_associations()"
   ]
  },
  {
   "cell_type": "code",
   "execution_count": null,
   "metadata": {},
   "outputs": [],
   "source": [
    "galaxyname = 'ngc3351'\n",
    "\n",
    "mycat = catalogue_pipeline.PyHSTHACat(galaxyname)\n",
    "\n",
    "mycat.make_paths()\n",
    "mycat.load_files()\n",
    "mycat.get_regions()\n",
    "mycat.get_cutouts()\n",
    "mycat.make_catalogue()\n",
    "\n",
    "mycat.rerun_cutouts_associations = True\n",
    "mycat.make_associations()"
   ]
  },
  {
   "cell_type": "code",
   "execution_count": null,
   "metadata": {},
   "outputs": [],
   "source": [
    "galaxyname = 'ngc3627'\n",
    "\n",
    "mycat = catalogue_pipeline.PyHSTHACat(galaxyname)\n",
    "\n",
    "mycat.make_paths()\n",
    "mycat.load_files()\n",
    "mycat.get_regions()\n",
    "mycat.get_cutouts()\n",
    "mycat.make_catalogue()\n",
    "\n",
    "mycat.rerun_cutouts_associations = True\n",
    "mycat.make_associations()"
   ]
  },
  {
   "cell_type": "code",
   "execution_count": null,
   "metadata": {},
   "outputs": [],
   "source": [
    "galaxyname = 'ngc4254'\n",
    "\n",
    "mycat = catalogue_pipeline.PyHSTHACat(galaxyname)\n",
    "\n",
    "mycat.make_paths()\n",
    "mycat.load_files()\n",
    "mycat.get_regions()\n",
    "mycat.get_cutouts()\n",
    "mycat.make_catalogue()\n",
    "\n",
    "mycat.rerun_cutouts_associations = True\n",
    "mycat.make_associations()"
   ]
  },
  {
   "cell_type": "code",
   "execution_count": null,
   "metadata": {},
   "outputs": [],
   "source": [
    "galaxyname = 'ngc4303'\n",
    "\n",
    "mycat = catalogue_pipeline.PyHSTHACat(galaxyname)\n",
    "\n",
    "mycat.make_paths()\n",
    "mycat.load_files()\n",
    "mycat.get_regions()\n",
    "mycat.get_cutouts()\n",
    "mycat.make_catalogue()\n",
    "\n",
    "mycat.rerun_cutouts_associations = True\n",
    "mycat.make_associations()"
   ]
  },
  {
   "cell_type": "code",
   "execution_count": 4,
   "metadata": {},
   "outputs": [
    {
     "name": "stdout",
     "output_type": "stream",
     "text": [
      "[Info] Outputting to the following:\n",
      "/Users/abarnes/Dropbox/work/Smallprojects/galaxies/data_hstha_nebulae_catalogue/ngc4535/\n",
      "[INFO] [get_MuseProps] Getting MUSE catalouge properties for ngc4535...\n",
      "[INFO] [get_galaxyprops] Getting sample table properties for ngc4535...\n",
      "[INFO] Using existing region file: /Users/abarnes/Dropbox/work/Smallprojects/galaxies/data_hstha_nebulae_catalogue/ngc4535/cutouts/sample.reg\n",
      "[INFO] [load_pickle] Load /Users/abarnes/Dropbox/work/Smallprojects/galaxies/data_hstha_nebulae_catalogue/ngc4535/cutouts/sample.pickel\n",
      "[INFO] All cutouts already exist. Loading from file /Users/abarnes/Dropbox/work/Smallprojects/galaxies/data_hstha_nebulae_catalogue/ngc4535/cutouts/hdus_all.pickel\n",
      "[INFO] [load_pickle] Load /Users/abarnes/Dropbox/work/Smallprojects/galaxies/data_hstha_nebulae_catalogue/ngc4535/cutouts/hdus_all.pickel\n",
      "[CATALOGUE] Running catalogue generation for: ngc4535\n",
      "[INFO] [get_maskedhdus] Getting HST maps masked by MUSE catalouge...\n"
     ]
    },
    {
     "name": "stderr",
     "output_type": "stream",
     "text": [
      "Masking regions:  79%|███████▉  | 1529/1938 [01:15<00:18, 21.63it/s]"
     ]
    },
    {
     "ename": "",
     "evalue": "",
     "output_type": "error",
     "traceback": [
      "\u001b[1;31mThe Kernel crashed while executing code in the current cell or a previous cell. \n",
      "\u001b[1;31mPlease review the code in the cell(s) to identify a possible cause of the failure. \n",
      "\u001b[1;31mClick <a href='https://aka.ms/vscodeJupyterKernelCrash'>here</a> for more info. \n",
      "\u001b[1;31mView Jupyter <a href='command:jupyter.viewOutput'>log</a> for further details."
     ]
    }
   ],
   "source": [
    "# TODO \n",
    "galaxyname = 'ngc4535'\n",
    "\n",
    "mycat = catalogue_pipeline.PyHSTHACat(galaxyname)\n",
    "mycat.rerun_all = True\n",
    "\n",
    "mycat.make_paths()\n",
    "mycat.load_files()\n",
    "mycat.get_regions()\n",
    "mycat.get_cutouts()\n",
    "mycat.make_catalogue()\n",
    "\n",
    "mycat.rerun_cutouts_associations = True\n",
    "mycat.make_associations()\n",
    "del mycat "
   ]
  },
  {
   "cell_type": "code",
   "execution_count": 2,
   "metadata": {},
   "outputs": [
    {
     "name": "stdout",
     "output_type": "stream",
     "text": [
      "[Info] Outputting to the following:\n",
      "/Users/abarnes/Dropbox/work/Smallprojects/galaxies/data_hstha_nebulae_catalogue/ngc5068/\n",
      "[INFO] [get_MuseProps] Getting MUSE catalouge properties for ngc5068...\n",
      "[INFO] [get_galaxyprops] Getting sample table properties for ngc5068...\n",
      "[INFO] Using existing region file: /Users/abarnes/Dropbox/work/Smallprojects/galaxies/data_hstha_nebulae_catalogue/ngc5068/cutouts/sample.reg\n",
      "[INFO] [load_pickle] Load /Users/abarnes/Dropbox/work/Smallprojects/galaxies/data_hstha_nebulae_catalogue/ngc5068/cutouts/sample.pickel\n",
      "[INFO] All cutouts already exist. Loading from file /Users/abarnes/Dropbox/work/Smallprojects/galaxies/data_hstha_nebulae_catalogue/ngc5068/cutouts/hdus_all.pickel\n",
      "[INFO] [load_pickle] Load /Users/abarnes/Dropbox/work/Smallprojects/galaxies/data_hstha_nebulae_catalogue/ngc5068/cutouts/hdus_all.pickel\n",
      "[CATALOGUE] Running catalogue generation for: ngc5068\n",
      "[INFO] [load_pickle] Load /Users/abarnes/Dropbox/work/Smallprojects/galaxies/data_hstha_nebulae_catalogue/ngc5068/cutouts/hdus_all_withmasked.pickel\n"
     ]
    },
    {
     "name": "stderr",
     "output_type": "stream",
     "text": [
      "Get sources:: 100%|██████████| 1857/1857 [00:37<00:00, 49.52it/s] \n"
     ]
    },
    {
     "name": "stdout",
     "output_type": "stream",
     "text": [
      "[INFO] [get_MuseProps] Getting MUSE catalouge properties for ngc5068...\n",
      "[CATALOGUE] Final properties table saved to: /Users/abarnes/Dropbox/work/Smallprojects/galaxies/data_hstha_nebulae_catalogue/ngc5068/catalogue/props_all.fits\n"
     ]
    },
    {
     "name": "stderr",
     "output_type": "stream",
     "text": [
      "Masking regions: 100%|██████████| 1857/1857 [00:01<00:00, 1266.05it/s]\n",
      "100%|██████████| 445/445 [00:14<00:00, 31.45it/s]\n"
     ]
    },
    {
     "name": "stdout",
     "output_type": "stream",
     "text": [
      "[CATALOGUE] Masks saved to /Users/abarnes/Dropbox/work/Smallprojects/galaxies/data_hstha_nebulae_catalogue/ngc5068/catalogue/ngc5068_mask.fits and /Users/abarnes/Dropbox/work/Smallprojects/galaxies/data_hstha_nebulae_catalogue/ngc5068/catalogue/ngc5068_complexity.fits...\n",
      "[CATALOGUE] DS9 regions output to /Users/abarnes/Dropbox/work/Smallprojects/galaxies/data_hstha_nebulae_catalogue/ngc5068/catalogue/ngc5068_mask...\n",
      "[CATALOGUE] Done!\n",
      "[ASSOCIATIONS] Checking association files for galaxy ngc5068 ...\n",
      "Unpacking: /Users/abarnes/Dropbox/work/Smallprojects/galaxies/data_misc/multiscale_stellar_associations/ngc5068/vselect/ws8pc/PHANGS_IR4_hst_wfc3_ngc5068_v1p3_multi_assoc-vselect-ws8pc-idmask.fits.gz\n",
      "[INFO] Files found for v_08pc.\n",
      "Unpacking: /Users/abarnes/Dropbox/work/Smallprojects/galaxies/data_misc/multiscale_stellar_associations/ngc5068/vselect/ws16pc/PHANGS_IR4_hst_wfc3_ngc5068_v1p3_multi_assoc-vselect-ws16pc-idmask.fits.gz\n",
      "[INFO] Files found for v_16pc.\n",
      "Unpacking: /Users/abarnes/Dropbox/work/Smallprojects/galaxies/data_misc/multiscale_stellar_associations/ngc5068/vselect/ws32pc/PHANGS_IR4_hst_wfc3_ngc5068_v1p3_multi_assoc-vselect-ws32pc-idmask.fits.gz\n",
      "[INFO] Files found for v_32pc.\n",
      "Unpacking: /Users/abarnes/Dropbox/work/Smallprojects/galaxies/data_misc/multiscale_stellar_associations/ngc5068/vselect/ws64pc/PHANGS_IR4_hst_wfc3_ngc5068_v1p3_multi_assoc-vselect-ws64pc-idmask.fits.gz\n",
      "[INFO] Files found for v_64pc.\n",
      "Unpacking: /Users/abarnes/Dropbox/work/Smallprojects/galaxies/data_misc/multiscale_stellar_associations/ngc5068/nuvselect/ws8pc/PHANGS_IR4_hst_wfc3_ngc5068_v1p3_multi_assoc-nuvselect-ws8pc-idmask.fits.gz\n",
      "[INFO] Files found for nuv_08pc.\n",
      "Unpacking: /Users/abarnes/Dropbox/work/Smallprojects/galaxies/data_misc/multiscale_stellar_associations/ngc5068/nuvselect/ws16pc/PHANGS_IR4_hst_wfc3_ngc5068_v1p3_multi_assoc-nuvselect-ws16pc-idmask.fits.gz\n",
      "[INFO] Files found for nuv_16pc.\n",
      "Unpacking: /Users/abarnes/Dropbox/work/Smallprojects/galaxies/data_misc/multiscale_stellar_associations/ngc5068/nuvselect/ws32pc/PHANGS_IR4_hst_wfc3_ngc5068_v1p3_multi_assoc-nuvselect-ws32pc-idmask.fits.gz\n",
      "[INFO] Files found for nuv_32pc.\n",
      "Unpacking: /Users/abarnes/Dropbox/work/Smallprojects/galaxies/data_misc/multiscale_stellar_associations/ngc5068/nuvselect/ws64pc/PHANGS_IR4_hst_wfc3_ngc5068_v1p3_multi_assoc-nuvselect-ws64pc-idmask.fits.gz\n",
      "[INFO] Files found for nuv_64pc.\n",
      "[INFO] [load_pickle] Load /Users/abarnes/Dropbox/work/Smallprojects/galaxies/data_hstha_nebulae_catalogue/ngc5068/cutouts/sample.pickel\n",
      "[ASSOCIATIONS] Generating new cutouts for association masks...\n"
     ]
    },
    {
     "name": "stderr",
     "output_type": "stream",
     "text": [
      "Cropping regions: 100%|██████████| 445/445 [00:55<00:00,  8.05it/s]\n"
     ]
    },
    {
     "name": "stdout",
     "output_type": "stream",
     "text": [
      "[INFO] [save_pickle] Saved to /Users/abarnes/Dropbox/work/Smallprojects/galaxies/data_hstha_nebulae_catalogue/ngc5068/cutouts/hdus_catalog_mask_new.pickel\n"
     ]
    },
    {
     "name": "stderr",
     "output_type": "stream",
     "text": [
      "Cropping regions: 100%|██████████| 445/445 [00:55<00:00,  7.99it/s]\n"
     ]
    },
    {
     "name": "stdout",
     "output_type": "stream",
     "text": [
      "[INFO] [save_pickle] Saved to /Users/abarnes/Dropbox/work/Smallprojects/galaxies/data_hstha_nebulae_catalogue/ngc5068/cutouts/hdus_association_mask_new_v_08pc.pickel\n"
     ]
    },
    {
     "name": "stderr",
     "output_type": "stream",
     "text": [
      "Cropping regions: 100%|██████████| 445/445 [00:59<00:00,  7.42it/s]\n"
     ]
    },
    {
     "name": "stdout",
     "output_type": "stream",
     "text": [
      "[INFO] [save_pickle] Saved to /Users/abarnes/Dropbox/work/Smallprojects/galaxies/data_hstha_nebulae_catalogue/ngc5068/cutouts/hdus_association_mask_new_v_16pc.pickel\n"
     ]
    },
    {
     "name": "stderr",
     "output_type": "stream",
     "text": [
      "Cropping regions: 100%|██████████| 445/445 [01:02<00:00,  7.09it/s]\n"
     ]
    },
    {
     "name": "stdout",
     "output_type": "stream",
     "text": [
      "[INFO] [save_pickle] Saved to /Users/abarnes/Dropbox/work/Smallprojects/galaxies/data_hstha_nebulae_catalogue/ngc5068/cutouts/hdus_association_mask_new_v_32pc.pickel\n"
     ]
    },
    {
     "name": "stderr",
     "output_type": "stream",
     "text": [
      "Cropping regions: 100%|██████████| 445/445 [01:04<00:00,  6.93it/s]\n"
     ]
    },
    {
     "name": "stdout",
     "output_type": "stream",
     "text": [
      "[INFO] [save_pickle] Saved to /Users/abarnes/Dropbox/work/Smallprojects/galaxies/data_hstha_nebulae_catalogue/ngc5068/cutouts/hdus_association_mask_new_v_64pc.pickel\n"
     ]
    },
    {
     "name": "stderr",
     "output_type": "stream",
     "text": [
      "Cropping regions: 100%|██████████| 445/445 [01:07<00:00,  6.64it/s]\n"
     ]
    },
    {
     "name": "stdout",
     "output_type": "stream",
     "text": [
      "[INFO] [save_pickle] Saved to /Users/abarnes/Dropbox/work/Smallprojects/galaxies/data_hstha_nebulae_catalogue/ngc5068/cutouts/hdus_association_mask_new_nuv_08pc.pickel\n"
     ]
    },
    {
     "name": "stderr",
     "output_type": "stream",
     "text": [
      "Cropping regions: 100%|██████████| 445/445 [01:08<00:00,  6.53it/s]\n"
     ]
    },
    {
     "name": "stdout",
     "output_type": "stream",
     "text": [
      "[INFO] [save_pickle] Saved to /Users/abarnes/Dropbox/work/Smallprojects/galaxies/data_hstha_nebulae_catalogue/ngc5068/cutouts/hdus_association_mask_new_nuv_16pc.pickel\n"
     ]
    },
    {
     "name": "stderr",
     "output_type": "stream",
     "text": [
      "Cropping regions: 100%|██████████| 445/445 [01:10<00:00,  6.32it/s]\n"
     ]
    },
    {
     "name": "stdout",
     "output_type": "stream",
     "text": [
      "[INFO] [save_pickle] Saved to /Users/abarnes/Dropbox/work/Smallprojects/galaxies/data_hstha_nebulae_catalogue/ngc5068/cutouts/hdus_association_mask_new_nuv_32pc.pickel\n"
     ]
    },
    {
     "name": "stderr",
     "output_type": "stream",
     "text": [
      "Cropping regions: 100%|██████████| 445/445 [01:12<00:00,  6.17it/s]\n"
     ]
    },
    {
     "name": "stdout",
     "output_type": "stream",
     "text": [
      "[INFO] [save_pickle] Saved to /Users/abarnes/Dropbox/work/Smallprojects/galaxies/data_hstha_nebulae_catalogue/ngc5068/cutouts/hdus_association_mask_new_nuv_64pc.pickel\n"
     ]
    },
    {
     "name": "stderr",
     "output_type": "stream",
     "text": [
      "Match associations:: 100%|██████████| 445/445 [01:01<00:00,  7.25it/s]\n"
     ]
    },
    {
     "name": "stdout",
     "output_type": "stream",
     "text": [
      "[ASSOCIATIONS] Final association table saved to: /Users/abarnes/Dropbox/work/Smallprojects/galaxies/data_hstha_nebulae_catalogue/ngc5068/catalogue/props_all_association.fits\n",
      "Cleaning: /Users/abarnes/Dropbox/work/Smallprojects/galaxies/data_misc/multiscale_stellar_associations/ngc5068/vselect/ws8pc/PHANGS_IR4_hst_wfc3_ngc5068_v1p3_multi_assoc-vselect-ws8pc-idmask.fits\n",
      "Cleaning: /Users/abarnes/Dropbox/work/Smallprojects/galaxies/data_misc/multiscale_stellar_associations/ngc5068/vselect/ws16pc/PHANGS_IR4_hst_wfc3_ngc5068_v1p3_multi_assoc-vselect-ws16pc-idmask.fits\n",
      "Cleaning: /Users/abarnes/Dropbox/work/Smallprojects/galaxies/data_misc/multiscale_stellar_associations/ngc5068/vselect/ws32pc/PHANGS_IR4_hst_wfc3_ngc5068_v1p3_multi_assoc-vselect-ws32pc-idmask.fits\n",
      "Cleaning: /Users/abarnes/Dropbox/work/Smallprojects/galaxies/data_misc/multiscale_stellar_associations/ngc5068/vselect/ws64pc/PHANGS_IR4_hst_wfc3_ngc5068_v1p3_multi_assoc-vselect-ws64pc-idmask.fits\n",
      "Cleaning: /Users/abarnes/Dropbox/work/Smallprojects/galaxies/data_misc/multiscale_stellar_associations/ngc5068/nuvselect/ws8pc/PHANGS_IR4_hst_wfc3_ngc5068_v1p3_multi_assoc-nuvselect-ws8pc-idmask.fits\n",
      "Cleaning: /Users/abarnes/Dropbox/work/Smallprojects/galaxies/data_misc/multiscale_stellar_associations/ngc5068/nuvselect/ws16pc/PHANGS_IR4_hst_wfc3_ngc5068_v1p3_multi_assoc-nuvselect-ws16pc-idmask.fits\n",
      "Cleaning: /Users/abarnes/Dropbox/work/Smallprojects/galaxies/data_misc/multiscale_stellar_associations/ngc5068/nuvselect/ws32pc/PHANGS_IR4_hst_wfc3_ngc5068_v1p3_multi_assoc-nuvselect-ws32pc-idmask.fits\n",
      "Cleaning: /Users/abarnes/Dropbox/work/Smallprojects/galaxies/data_misc/multiscale_stellar_associations/ngc5068/nuvselect/ws64pc/PHANGS_IR4_hst_wfc3_ngc5068_v1p3_multi_assoc-nuvselect-ws64pc-idmask.fits\n"
     ]
    }
   ],
   "source": [
    "galaxyname = 'ngc5068'\n",
    "\n",
    "mycat = catalogue_pipeline.PyHSTHACat(galaxyname)\n",
    "\n",
    "mycat.make_paths()\n",
    "mycat.load_files()\n",
    "mycat.get_regions()\n",
    "mycat.get_cutouts()\n",
    "mycat.make_catalogue()\n",
    "\n",
    "mycat.rerun_cutouts_associations = True\n",
    "mycat.make_associations()\n",
    "del mycat "
   ]
  },
  {
   "cell_type": "code",
   "execution_count": 3,
   "metadata": {},
   "outputs": [
    {
     "name": "stdout",
     "output_type": "stream",
     "text": [
      "[Info] Outputting to the following:\n",
      "/Users/abarnes/Dropbox/work/Smallprojects/galaxies/data_hstha_nebulae_catalogue/ngc7496/\n",
      "[INFO] [get_MuseProps] Getting MUSE catalouge properties for ngc7496...\n",
      "[INFO] [get_galaxyprops] Getting sample table properties for ngc7496...\n",
      "[INFO] Using existing region file: /Users/abarnes/Dropbox/work/Smallprojects/galaxies/data_hstha_nebulae_catalogue/ngc7496/cutouts/sample.reg\n",
      "[INFO] [load_pickle] Load /Users/abarnes/Dropbox/work/Smallprojects/galaxies/data_hstha_nebulae_catalogue/ngc7496/cutouts/sample.pickel\n",
      "[INFO] All cutouts already exist. Loading from file /Users/abarnes/Dropbox/work/Smallprojects/galaxies/data_hstha_nebulae_catalogue/ngc7496/cutouts/hdus_all.pickel\n",
      "[INFO] [load_pickle] Load /Users/abarnes/Dropbox/work/Smallprojects/galaxies/data_hstha_nebulae_catalogue/ngc7496/cutouts/hdus_all.pickel\n",
      "[CATALOGUE] Running catalogue generation for: ngc7496\n",
      "[INFO] [load_pickle] Load /Users/abarnes/Dropbox/work/Smallprojects/galaxies/data_hstha_nebulae_catalogue/ngc7496/cutouts/hdus_all_withmasked.pickel\n"
     ]
    },
    {
     "name": "stderr",
     "output_type": "stream",
     "text": [
      "Get sources:: 100%|██████████| 777/777 [00:12<00:00, 61.81it/s] \n"
     ]
    },
    {
     "name": "stdout",
     "output_type": "stream",
     "text": [
      "[INFO] [get_MuseProps] Getting MUSE catalouge properties for ngc7496...\n",
      "[CATALOGUE] Final properties table saved to: /Users/abarnes/Dropbox/work/Smallprojects/galaxies/data_hstha_nebulae_catalogue/ngc7496/catalogue/props_all.fits\n"
     ]
    },
    {
     "name": "stderr",
     "output_type": "stream",
     "text": [
      "Masking regions: 100%|██████████| 777/777 [00:00<00:00, 967.56it/s] \n",
      "100%|██████████| 274/274 [00:05<00:00, 53.12it/s]\n"
     ]
    },
    {
     "name": "stdout",
     "output_type": "stream",
     "text": [
      "[CATALOGUE] Masks saved to /Users/abarnes/Dropbox/work/Smallprojects/galaxies/data_hstha_nebulae_catalogue/ngc7496/catalogue/ngc7496_mask.fits and /Users/abarnes/Dropbox/work/Smallprojects/galaxies/data_hstha_nebulae_catalogue/ngc7496/catalogue/ngc7496_complexity.fits...\n",
      "[CATALOGUE] DS9 regions output to /Users/abarnes/Dropbox/work/Smallprojects/galaxies/data_hstha_nebulae_catalogue/ngc7496/catalogue/ngc7496_mask...\n",
      "[CATALOGUE] Done!\n",
      "[ASSOCIATIONS] Checking association files for galaxy ngc7496 ...\n",
      "File not found: /Users/abarnes/Dropbox/work/Smallprojects/galaxies/data_misc/multiscale_stellar_associations/ngc7496/vselect/ws8pc/PHANGS_IR4_hst_wfc3_ngc7496_v1p3_multi_assoc-vselect-ws8pc-idmask.fits\n",
      "[WARNING] Files missing for v_08pc. Skipping.\n",
      "Unpacking: /Users/abarnes/Dropbox/work/Smallprojects/galaxies/data_misc/multiscale_stellar_associations/ngc7496/vselect/ws16pc/PHANGS_IR4_hst_wfc3_ngc7496_v1p3_multi_assoc-vselect-ws16pc-idmask.fits.gz\n",
      "[INFO] Files found for v_16pc.\n",
      "Unpacking: /Users/abarnes/Dropbox/work/Smallprojects/galaxies/data_misc/multiscale_stellar_associations/ngc7496/vselect/ws32pc/PHANGS_IR4_hst_wfc3_ngc7496_v1p3_multi_assoc-vselect-ws32pc-idmask.fits.gz\n",
      "[INFO] Files found for v_32pc.\n",
      "Unpacking: /Users/abarnes/Dropbox/work/Smallprojects/galaxies/data_misc/multiscale_stellar_associations/ngc7496/vselect/ws64pc/PHANGS_IR4_hst_wfc3_ngc7496_v1p3_multi_assoc-vselect-ws64pc-idmask.fits.gz\n",
      "[INFO] Files found for v_64pc.\n",
      "File not found: /Users/abarnes/Dropbox/work/Smallprojects/galaxies/data_misc/multiscale_stellar_associations/ngc7496/nuvselect/ws8pc/PHANGS_IR4_hst_wfc3_ngc7496_v1p3_multi_assoc-nuvselect-ws8pc-idmask.fits\n",
      "[WARNING] Files missing for nuv_08pc. Skipping.\n",
      "Unpacking: /Users/abarnes/Dropbox/work/Smallprojects/galaxies/data_misc/multiscale_stellar_associations/ngc7496/nuvselect/ws16pc/PHANGS_IR4_hst_wfc3_ngc7496_v1p3_multi_assoc-nuvselect-ws16pc-idmask.fits.gz\n",
      "[INFO] Files found for nuv_16pc.\n",
      "Unpacking: /Users/abarnes/Dropbox/work/Smallprojects/galaxies/data_misc/multiscale_stellar_associations/ngc7496/nuvselect/ws32pc/PHANGS_IR4_hst_wfc3_ngc7496_v1p3_multi_assoc-nuvselect-ws32pc-idmask.fits.gz\n",
      "[INFO] Files found for nuv_32pc.\n",
      "Unpacking: /Users/abarnes/Dropbox/work/Smallprojects/galaxies/data_misc/multiscale_stellar_associations/ngc7496/nuvselect/ws64pc/PHANGS_IR4_hst_wfc3_ngc7496_v1p3_multi_assoc-nuvselect-ws64pc-idmask.fits.gz\n",
      "[INFO] Files found for nuv_64pc.\n",
      "[INFO] [load_pickle] Load /Users/abarnes/Dropbox/work/Smallprojects/galaxies/data_hstha_nebulae_catalogue/ngc7496/cutouts/sample.pickel\n",
      "[ASSOCIATIONS] Generating new cutouts for association masks...\n"
     ]
    },
    {
     "name": "stderr",
     "output_type": "stream",
     "text": [
      "Cropping regions: 100%|██████████| 274/274 [00:24<00:00, 11.07it/s]\n"
     ]
    },
    {
     "name": "stdout",
     "output_type": "stream",
     "text": [
      "[INFO] [save_pickle] Saved to /Users/abarnes/Dropbox/work/Smallprojects/galaxies/data_hstha_nebulae_catalogue/ngc7496/cutouts/hdus_catalog_mask_new.pickel\n"
     ]
    },
    {
     "name": "stderr",
     "output_type": "stream",
     "text": [
      "Cropping regions: 100%|██████████| 274/274 [00:25<00:00, 10.72it/s]\n"
     ]
    },
    {
     "name": "stdout",
     "output_type": "stream",
     "text": [
      "[INFO] [save_pickle] Saved to /Users/abarnes/Dropbox/work/Smallprojects/galaxies/data_hstha_nebulae_catalogue/ngc7496/cutouts/hdus_association_mask_new_v_16pc.pickel\n"
     ]
    },
    {
     "name": "stderr",
     "output_type": "stream",
     "text": [
      "Cropping regions: 100%|██████████| 274/274 [00:26<00:00, 10.29it/s]\n"
     ]
    },
    {
     "name": "stdout",
     "output_type": "stream",
     "text": [
      "[INFO] [save_pickle] Saved to /Users/abarnes/Dropbox/work/Smallprojects/galaxies/data_hstha_nebulae_catalogue/ngc7496/cutouts/hdus_association_mask_new_v_32pc.pickel\n"
     ]
    },
    {
     "name": "stderr",
     "output_type": "stream",
     "text": [
      "Cropping regions: 100%|██████████| 274/274 [00:27<00:00,  9.94it/s]\n"
     ]
    },
    {
     "name": "stdout",
     "output_type": "stream",
     "text": [
      "[INFO] [save_pickle] Saved to /Users/abarnes/Dropbox/work/Smallprojects/galaxies/data_hstha_nebulae_catalogue/ngc7496/cutouts/hdus_association_mask_new_v_64pc.pickel\n"
     ]
    },
    {
     "name": "stderr",
     "output_type": "stream",
     "text": [
      "Cropping regions: 100%|██████████| 274/274 [00:26<00:00, 10.19it/s]\n"
     ]
    },
    {
     "name": "stdout",
     "output_type": "stream",
     "text": [
      "[INFO] [save_pickle] Saved to /Users/abarnes/Dropbox/work/Smallprojects/galaxies/data_hstha_nebulae_catalogue/ngc7496/cutouts/hdus_association_mask_new_nuv_16pc.pickel\n"
     ]
    },
    {
     "name": "stderr",
     "output_type": "stream",
     "text": [
      "Cropping regions: 100%|██████████| 274/274 [00:27<00:00,  9.82it/s]\n"
     ]
    },
    {
     "name": "stdout",
     "output_type": "stream",
     "text": [
      "[INFO] [save_pickle] Saved to /Users/abarnes/Dropbox/work/Smallprojects/galaxies/data_hstha_nebulae_catalogue/ngc7496/cutouts/hdus_association_mask_new_nuv_32pc.pickel\n"
     ]
    },
    {
     "name": "stderr",
     "output_type": "stream",
     "text": [
      "Cropping regions: 100%|██████████| 274/274 [00:28<00:00,  9.60it/s]\n"
     ]
    },
    {
     "name": "stdout",
     "output_type": "stream",
     "text": [
      "[INFO] [save_pickle] Saved to /Users/abarnes/Dropbox/work/Smallprojects/galaxies/data_hstha_nebulae_catalogue/ngc7496/cutouts/hdus_association_mask_new_nuv_64pc.pickel\n"
     ]
    },
    {
     "name": "stderr",
     "output_type": "stream",
     "text": [
      "Match associations:: 100%|██████████| 274/274 [00:26<00:00, 10.19it/s]\n"
     ]
    },
    {
     "name": "stdout",
     "output_type": "stream",
     "text": [
      "[ASSOCIATIONS] Final association table saved to: /Users/abarnes/Dropbox/work/Smallprojects/galaxies/data_hstha_nebulae_catalogue/ngc7496/catalogue/props_all_association.fits\n",
      "Cleaning: /Users/abarnes/Dropbox/work/Smallprojects/galaxies/data_misc/multiscale_stellar_associations/ngc7496/vselect/ws16pc/PHANGS_IR4_hst_wfc3_ngc7496_v1p3_multi_assoc-vselect-ws16pc-idmask.fits\n",
      "Cleaning: /Users/abarnes/Dropbox/work/Smallprojects/galaxies/data_misc/multiscale_stellar_associations/ngc7496/vselect/ws32pc/PHANGS_IR4_hst_wfc3_ngc7496_v1p3_multi_assoc-vselect-ws32pc-idmask.fits\n",
      "Cleaning: /Users/abarnes/Dropbox/work/Smallprojects/galaxies/data_misc/multiscale_stellar_associations/ngc7496/vselect/ws64pc/PHANGS_IR4_hst_wfc3_ngc7496_v1p3_multi_assoc-vselect-ws64pc-idmask.fits\n",
      "Cleaning: /Users/abarnes/Dropbox/work/Smallprojects/galaxies/data_misc/multiscale_stellar_associations/ngc7496/nuvselect/ws16pc/PHANGS_IR4_hst_wfc3_ngc7496_v1p3_multi_assoc-nuvselect-ws16pc-idmask.fits\n",
      "Cleaning: /Users/abarnes/Dropbox/work/Smallprojects/galaxies/data_misc/multiscale_stellar_associations/ngc7496/nuvselect/ws32pc/PHANGS_IR4_hst_wfc3_ngc7496_v1p3_multi_assoc-nuvselect-ws32pc-idmask.fits\n",
      "Cleaning: /Users/abarnes/Dropbox/work/Smallprojects/galaxies/data_misc/multiscale_stellar_associations/ngc7496/nuvselect/ws64pc/PHANGS_IR4_hst_wfc3_ngc7496_v1p3_multi_assoc-nuvselect-ws64pc-idmask.fits\n"
     ]
    }
   ],
   "source": [
    "galaxyname = 'ngc7496'\n",
    "\n",
    "mycat = catalogue_pipeline.PyHSTHACat(galaxyname)\n",
    "\n",
    "mycat.make_paths()\n",
    "mycat.load_files()\n",
    "mycat.get_regions()\n",
    "mycat.get_cutouts()\n",
    "mycat.make_catalogue()\n",
    "\n",
    "mycat.rerun_cutouts_associations = True\n",
    "mycat.make_associations()\n",
    "del mycat "
   ]
  },
  {
   "cell_type": "code",
   "execution_count": null,
   "metadata": {},
   "outputs": [],
   "source": []
  }
 ],
 "metadata": {
  "kernelspec": {
   "display_name": "base",
   "language": "python",
   "name": "python3"
  },
  "language_info": {
   "codemirror_mode": {
    "name": "ipython",
    "version": 3
   },
   "file_extension": ".py",
   "mimetype": "text/x-python",
   "name": "python",
   "nbconvert_exporter": "python",
   "pygments_lexer": "ipython3",
   "version": "3.9.13"
  }
 },
 "nbformat": 4,
 "nbformat_minor": 2
}
