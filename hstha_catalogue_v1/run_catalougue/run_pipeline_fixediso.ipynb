{
 "cells": [
  {
   "cell_type": "code",
   "execution_count": 1,
   "metadata": {},
   "outputs": [],
   "source": [
    "from imports import * "
   ]
  },
  {
   "cell_type": "code",
   "execution_count": null,
   "metadata": {},
   "outputs": [],
   "source": [
    "# FIXED ISO THRESHOLD FOR ALL THE IMAGES (in per pixel units) \n",
    "ISOTHRESHOLD = 150"
   ]
  },
  {
   "cell_type": "code",
   "execution_count": 2,
   "metadata": {},
   "outputs": [
    {
     "name": "stdout",
     "output_type": "stream",
     "text": [
      "[Info] Outputting to the following:\n",
      "/Users/abarnes/Dropbox/work/Smallprojects/galaxies/data_hstha_nebulae_catalogue/ic5332/\n",
      "[INFO] [get_MuseProps] Getting MUSE catalouge properties for ic5332...\n",
      "[INFO] [get_galaxyprops] Getting sample table properties for ic5332...\n",
      "[INFO] Using existing region file: /Users/abarnes/Dropbox/work/Smallprojects/galaxies/data_hstha_nebulae_catalogue/ic5332/cutouts_fixediso/sample.reg\n",
      "[INFO] [load_pickle] Load /Users/abarnes/Dropbox/work/Smallprojects/galaxies/data_hstha_nebulae_catalogue/ic5332/cutouts_fixediso/sample.pickel\n",
      "[INFO] All cutouts already exist. Loading from file /Users/abarnes/Dropbox/work/Smallprojects/galaxies/data_hstha_nebulae_catalogue/ic5332/cutouts_fixediso/hdus_all.pickel\n",
      "[INFO] [load_pickle] Load /Users/abarnes/Dropbox/work/Smallprojects/galaxies/data_hstha_nebulae_catalogue/ic5332/cutouts_fixediso/hdus_all.pickel\n",
      "[CATALOGUE] Running catalogue generation for: ic5332\n",
      "[INFO] [load_pickle] Load /Users/abarnes/Dropbox/work/Smallprojects/galaxies/data_hstha_nebulae_catalogue/ic5332/cutouts_fixediso/hdus_all_withmasked.pickel\n"
     ]
    },
    {
     "name": "stderr",
     "output_type": "stream",
     "text": [
      "Get sources:: 100%|██████████| 816/816 [00:05<00:00, 136.14it/s]\n"
     ]
    },
    {
     "name": "stdout",
     "output_type": "stream",
     "text": [
      "[INFO] [get_MuseProps] Getting MUSE catalouge properties for ic5332...\n",
      "[CATALOGUE] Final properties table saved to: /Users/abarnes/Dropbox/work/Smallprojects/galaxies/data_hstha_nebulae_catalogue/ic5332/catalogue_fixediso/props_all.fits\n"
     ]
    },
    {
     "name": "stderr",
     "output_type": "stream",
     "text": [
      "Masking regions: 100%|██████████| 816/816 [00:00<00:00, 1586.84it/s]\n",
      "100%|██████████| 106/106 [00:02<00:00, 41.32it/s]\n"
     ]
    },
    {
     "name": "stdout",
     "output_type": "stream",
     "text": [
      "[CATALOGUE] Masks saved to /Users/abarnes/Dropbox/work/Smallprojects/galaxies/data_hstha_nebulae_catalogue/ic5332/catalogue_fixediso/ic5332_mask.fits and /Users/abarnes/Dropbox/work/Smallprojects/galaxies/data_hstha_nebulae_catalogue/ic5332/catalogue_fixediso/ic5332_complexity.fits.\n",
      "[CATALOGUE] DS9 regions output to /Users/abarnes/Dropbox/work/Smallprojects/galaxies/data_hstha_nebulae_catalogue/ic5332/catalogue_fixediso/ic5332_mask.\n",
      "[CATALOGUE] Done!\n",
      "[ASSOCIATIONS] Checking association files for galaxy ic5332 ...\n",
      "File found: /Users/abarnes/Dropbox/work/Smallprojects/galaxies/data_misc/multiscale_stellar_associations/ic5332/vselect/ws8pc/PHANGS_IR4_hst_wfc3_ic5332_v1p3_multi_assoc-vselect-ws8pc-main.fits\n",
      "[INFO] File found: /Users/abarnes/Dropbox/work/Smallprojects/galaxies/data_misc/multiscale_stellar_associations/ic5332/vselect/ws8pc/PHANGS_IR4_hst_wfc3_ic5332_v1p3_multi_assoc-vselect-ws8pc-main.fits\n",
      "File found: /Users/abarnes/Dropbox/work/Smallprojects/galaxies/data_misc/multiscale_stellar_associations/ic5332/vselect/ws16pc/PHANGS_IR4_hst_wfc3_ic5332_v1p3_multi_assoc-vselect-ws16pc-main.fits\n",
      "[INFO] File found: /Users/abarnes/Dropbox/work/Smallprojects/galaxies/data_misc/multiscale_stellar_associations/ic5332/vselect/ws16pc/PHANGS_IR4_hst_wfc3_ic5332_v1p3_multi_assoc-vselect-ws16pc-main.fits\n",
      "File found: /Users/abarnes/Dropbox/work/Smallprojects/galaxies/data_misc/multiscale_stellar_associations/ic5332/vselect/ws32pc/PHANGS_IR4_hst_wfc3_ic5332_v1p3_multi_assoc-vselect-ws32pc-main.fits\n",
      "[INFO] File found: /Users/abarnes/Dropbox/work/Smallprojects/galaxies/data_misc/multiscale_stellar_associations/ic5332/vselect/ws32pc/PHANGS_IR4_hst_wfc3_ic5332_v1p3_multi_assoc-vselect-ws32pc-main.fits\n",
      "File found: /Users/abarnes/Dropbox/work/Smallprojects/galaxies/data_misc/multiscale_stellar_associations/ic5332/vselect/ws64pc/PHANGS_IR4_hst_wfc3_ic5332_v1p3_multi_assoc-vselect-ws64pc-main.fits\n",
      "[INFO] File found: /Users/abarnes/Dropbox/work/Smallprojects/galaxies/data_misc/multiscale_stellar_associations/ic5332/vselect/ws64pc/PHANGS_IR4_hst_wfc3_ic5332_v1p3_multi_assoc-vselect-ws64pc-main.fits\n",
      "File found: /Users/abarnes/Dropbox/work/Smallprojects/galaxies/data_misc/multiscale_stellar_associations/ic5332/nuvselect/ws8pc/PHANGS_IR4_hst_wfc3_ic5332_v1p3_multi_assoc-nuvselect-ws8pc-main.fits\n",
      "[INFO] File found: /Users/abarnes/Dropbox/work/Smallprojects/galaxies/data_misc/multiscale_stellar_associations/ic5332/nuvselect/ws8pc/PHANGS_IR4_hst_wfc3_ic5332_v1p3_multi_assoc-nuvselect-ws8pc-main.fits\n",
      "File found: /Users/abarnes/Dropbox/work/Smallprojects/galaxies/data_misc/multiscale_stellar_associations/ic5332/nuvselect/ws16pc/PHANGS_IR4_hst_wfc3_ic5332_v1p3_multi_assoc-nuvselect-ws16pc-main.fits\n",
      "[INFO] File found: /Users/abarnes/Dropbox/work/Smallprojects/galaxies/data_misc/multiscale_stellar_associations/ic5332/nuvselect/ws16pc/PHANGS_IR4_hst_wfc3_ic5332_v1p3_multi_assoc-nuvselect-ws16pc-main.fits\n",
      "File found: /Users/abarnes/Dropbox/work/Smallprojects/galaxies/data_misc/multiscale_stellar_associations/ic5332/nuvselect/ws32pc/PHANGS_IR4_hst_wfc3_ic5332_v1p3_multi_assoc-nuvselect-ws32pc-main.fits\n",
      "[INFO] File found: /Users/abarnes/Dropbox/work/Smallprojects/galaxies/data_misc/multiscale_stellar_associations/ic5332/nuvselect/ws32pc/PHANGS_IR4_hst_wfc3_ic5332_v1p3_multi_assoc-nuvselect-ws32pc-main.fits\n",
      "File found: /Users/abarnes/Dropbox/work/Smallprojects/galaxies/data_misc/multiscale_stellar_associations/ic5332/nuvselect/ws64pc/PHANGS_IR4_hst_wfc3_ic5332_v1p3_multi_assoc-nuvselect-ws64pc-main.fits\n",
      "[INFO] File found: /Users/abarnes/Dropbox/work/Smallprojects/galaxies/data_misc/multiscale_stellar_associations/ic5332/nuvselect/ws64pc/PHANGS_IR4_hst_wfc3_ic5332_v1p3_multi_assoc-nuvselect-ws64pc-main.fits\n",
      "Unpacking: /Users/abarnes/Dropbox/work/Smallprojects/galaxies/data_misc/multiscale_stellar_associations/ic5332/vselect/ws8pc/PHANGS_IR4_hst_wfc3_ic5332_v1p3_multi_assoc-vselect-ws8pc-idmask.fits.gz\n",
      "[INFO] File found: /Users/abarnes/Dropbox/work/Smallprojects/galaxies/data_misc/multiscale_stellar_associations/ic5332/vselect/ws8pc/PHANGS_IR4_hst_wfc3_ic5332_v1p3_multi_assoc-vselect-ws8pc-idmask.fits\n",
      "Unpacking: /Users/abarnes/Dropbox/work/Smallprojects/galaxies/data_misc/multiscale_stellar_associations/ic5332/vselect/ws16pc/PHANGS_IR4_hst_wfc3_ic5332_v1p3_multi_assoc-vselect-ws16pc-idmask.fits.gz\n",
      "[INFO] File found: /Users/abarnes/Dropbox/work/Smallprojects/galaxies/data_misc/multiscale_stellar_associations/ic5332/vselect/ws16pc/PHANGS_IR4_hst_wfc3_ic5332_v1p3_multi_assoc-vselect-ws16pc-idmask.fits\n",
      "Unpacking: /Users/abarnes/Dropbox/work/Smallprojects/galaxies/data_misc/multiscale_stellar_associations/ic5332/vselect/ws32pc/PHANGS_IR4_hst_wfc3_ic5332_v1p3_multi_assoc-vselect-ws32pc-idmask.fits.gz\n",
      "[INFO] File found: /Users/abarnes/Dropbox/work/Smallprojects/galaxies/data_misc/multiscale_stellar_associations/ic5332/vselect/ws32pc/PHANGS_IR4_hst_wfc3_ic5332_v1p3_multi_assoc-vselect-ws32pc-idmask.fits\n",
      "Unpacking: /Users/abarnes/Dropbox/work/Smallprojects/galaxies/data_misc/multiscale_stellar_associations/ic5332/vselect/ws64pc/PHANGS_IR4_hst_wfc3_ic5332_v1p3_multi_assoc-vselect-ws64pc-idmask.fits.gz\n",
      "[INFO] File found: /Users/abarnes/Dropbox/work/Smallprojects/galaxies/data_misc/multiscale_stellar_associations/ic5332/vselect/ws64pc/PHANGS_IR4_hst_wfc3_ic5332_v1p3_multi_assoc-vselect-ws64pc-idmask.fits\n",
      "Unpacking: /Users/abarnes/Dropbox/work/Smallprojects/galaxies/data_misc/multiscale_stellar_associations/ic5332/nuvselect/ws8pc/PHANGS_IR4_hst_wfc3_ic5332_v1p3_multi_assoc-nuvselect-ws8pc-idmask.fits.gz\n",
      "[INFO] File found: /Users/abarnes/Dropbox/work/Smallprojects/galaxies/data_misc/multiscale_stellar_associations/ic5332/nuvselect/ws8pc/PHANGS_IR4_hst_wfc3_ic5332_v1p3_multi_assoc-nuvselect-ws8pc-idmask.fits\n",
      "Unpacking: /Users/abarnes/Dropbox/work/Smallprojects/galaxies/data_misc/multiscale_stellar_associations/ic5332/nuvselect/ws16pc/PHANGS_IR4_hst_wfc3_ic5332_v1p3_multi_assoc-nuvselect-ws16pc-idmask.fits.gz\n",
      "[INFO] File found: /Users/abarnes/Dropbox/work/Smallprojects/galaxies/data_misc/multiscale_stellar_associations/ic5332/nuvselect/ws16pc/PHANGS_IR4_hst_wfc3_ic5332_v1p3_multi_assoc-nuvselect-ws16pc-idmask.fits\n",
      "Unpacking: /Users/abarnes/Dropbox/work/Smallprojects/galaxies/data_misc/multiscale_stellar_associations/ic5332/nuvselect/ws32pc/PHANGS_IR4_hst_wfc3_ic5332_v1p3_multi_assoc-nuvselect-ws32pc-idmask.fits.gz\n",
      "[INFO] File found: /Users/abarnes/Dropbox/work/Smallprojects/galaxies/data_misc/multiscale_stellar_associations/ic5332/nuvselect/ws32pc/PHANGS_IR4_hst_wfc3_ic5332_v1p3_multi_assoc-nuvselect-ws32pc-idmask.fits\n",
      "Unpacking: /Users/abarnes/Dropbox/work/Smallprojects/galaxies/data_misc/multiscale_stellar_associations/ic5332/nuvselect/ws64pc/PHANGS_IR4_hst_wfc3_ic5332_v1p3_multi_assoc-nuvselect-ws64pc-idmask.fits.gz\n",
      "[INFO] File found: /Users/abarnes/Dropbox/work/Smallprojects/galaxies/data_misc/multiscale_stellar_associations/ic5332/nuvselect/ws64pc/PHANGS_IR4_hst_wfc3_ic5332_v1p3_multi_assoc-nuvselect-ws64pc-idmask.fits\n",
      "[INFO] [load_pickle] Load /Users/abarnes/Dropbox/work/Smallprojects/galaxies/data_hstha_nebulae_catalogue/ic5332/cutouts_fixediso/sample.pickel\n",
      "[ASSOCIATIONS] Generating new cutouts for association masks...\n"
     ]
    },
    {
     "name": "stderr",
     "output_type": "stream",
     "text": [
      "Cropping regions: 100%|██████████| 106/106 [00:09<00:00, 11.20it/s]\n",
      "Cropping regions: 100%|██████████| 106/106 [00:09<00:00, 11.02it/s]\n",
      "Cropping regions: 100%|██████████| 106/106 [00:09<00:00, 10.73it/s]\n",
      "Cropping regions: 100%|██████████| 106/106 [00:10<00:00, 10.55it/s]\n",
      "Cropping regions: 100%|██████████| 106/106 [00:09<00:00, 10.89it/s]\n",
      "Cropping regions: 100%|██████████| 106/106 [00:09<00:00, 10.78it/s]\n",
      "Cropping regions: 100%|██████████| 106/106 [00:10<00:00, 10.42it/s]\n",
      "Cropping regions: 100%|██████████| 106/106 [00:10<00:00, 10.17it/s]\n",
      "Cropping regions: 100%|██████████| 106/106 [00:10<00:00, 10.26it/s]\n"
     ]
    },
    {
     "name": "stdout",
     "output_type": "stream",
     "text": [
      "[INFO] [save_pickle] Saved to /Users/abarnes/Dropbox/work/Smallprojects/galaxies/data_hstha_nebulae_catalogue/ic5332/cutouts_fixediso/hdus_association_mask_new_v_08pc.pickel\n",
      "[INFO] [save_pickle] Saved to /Users/abarnes/Dropbox/work/Smallprojects/galaxies/data_hstha_nebulae_catalogue/ic5332/cutouts_fixediso/hdus_association_mask_new_v_16pc.pickel\n",
      "[INFO] [save_pickle] Saved to /Users/abarnes/Dropbox/work/Smallprojects/galaxies/data_hstha_nebulae_catalogue/ic5332/cutouts_fixediso/hdus_association_mask_new_v_32pc.pickel\n",
      "[INFO] [save_pickle] Saved to /Users/abarnes/Dropbox/work/Smallprojects/galaxies/data_hstha_nebulae_catalogue/ic5332/cutouts_fixediso/hdus_association_mask_new_v_64pc.pickel\n",
      "[INFO] [save_pickle] Saved to /Users/abarnes/Dropbox/work/Smallprojects/galaxies/data_hstha_nebulae_catalogue/ic5332/cutouts_fixediso/hdus_association_mask_new_nuv_08pc.pickel\n",
      "[INFO] [save_pickle] Saved to /Users/abarnes/Dropbox/work/Smallprojects/galaxies/data_hstha_nebulae_catalogue/ic5332/cutouts_fixediso/hdus_association_mask_new_nuv_16pc.pickel\n",
      "[INFO] [save_pickle] Saved to /Users/abarnes/Dropbox/work/Smallprojects/galaxies/data_hstha_nebulae_catalogue/ic5332/cutouts_fixediso/hdus_association_mask_new_nuv_32pc.pickel\n",
      "[INFO] [save_pickle] Saved to /Users/abarnes/Dropbox/work/Smallprojects/galaxies/data_hstha_nebulae_catalogue/ic5332/cutouts_fixediso/hdus_association_mask_new_nuv_64pc.pickel\n",
      "[INFO] [save_pickle] Saved to /Users/abarnes/Dropbox/work/Smallprojects/galaxies/data_hstha_nebulae_catalogue/ic5332/cutouts_fixediso/hdus_catalog_mask_new.pickel\n"
     ]
    },
    {
     "name": "stderr",
     "output_type": "stream",
     "text": [
      "Match associations:: 100%|██████████| 106/106 [00:15<00:00,  6.70it/s]\n"
     ]
    },
    {
     "name": "stdout",
     "output_type": "stream",
     "text": [
      "[ASSOCIATIONS] Final association table saved to: /Users/abarnes/Dropbox/work/Smallprojects/galaxies/data_hstha_nebulae_catalogue/ic5332/catalogue_fixediso/props_all_association.fits\n",
      "Cleaning: /Users/abarnes/Dropbox/work/Smallprojects/galaxies/data_misc/multiscale_stellar_associations/ic5332/vselect/ws8pc/PHANGS_IR4_hst_wfc3_ic5332_v1p3_multi_assoc-vselect-ws8pc-idmask.fits\n",
      "Cleaning: /Users/abarnes/Dropbox/work/Smallprojects/galaxies/data_misc/multiscale_stellar_associations/ic5332/vselect/ws16pc/PHANGS_IR4_hst_wfc3_ic5332_v1p3_multi_assoc-vselect-ws16pc-idmask.fits\n",
      "Cleaning: /Users/abarnes/Dropbox/work/Smallprojects/galaxies/data_misc/multiscale_stellar_associations/ic5332/vselect/ws32pc/PHANGS_IR4_hst_wfc3_ic5332_v1p3_multi_assoc-vselect-ws32pc-idmask.fits\n",
      "Cleaning: /Users/abarnes/Dropbox/work/Smallprojects/galaxies/data_misc/multiscale_stellar_associations/ic5332/vselect/ws64pc/PHANGS_IR4_hst_wfc3_ic5332_v1p3_multi_assoc-vselect-ws64pc-idmask.fits\n",
      "Cleaning: /Users/abarnes/Dropbox/work/Smallprojects/galaxies/data_misc/multiscale_stellar_associations/ic5332/nuvselect/ws8pc/PHANGS_IR4_hst_wfc3_ic5332_v1p3_multi_assoc-nuvselect-ws8pc-idmask.fits\n",
      "Cleaning: /Users/abarnes/Dropbox/work/Smallprojects/galaxies/data_misc/multiscale_stellar_associations/ic5332/nuvselect/ws16pc/PHANGS_IR4_hst_wfc3_ic5332_v1p3_multi_assoc-nuvselect-ws16pc-idmask.fits\n",
      "Cleaning: /Users/abarnes/Dropbox/work/Smallprojects/galaxies/data_misc/multiscale_stellar_associations/ic5332/nuvselect/ws32pc/PHANGS_IR4_hst_wfc3_ic5332_v1p3_multi_assoc-nuvselect-ws32pc-idmask.fits\n",
      "Cleaning: /Users/abarnes/Dropbox/work/Smallprojects/galaxies/data_misc/multiscale_stellar_associations/ic5332/nuvselect/ws64pc/PHANGS_IR4_hst_wfc3_ic5332_v1p3_multi_assoc-nuvselect-ws64pc-idmask.fits\n",
      "[ASSOCIATIONS] Done building the multi-scale association catalog!\n"
     ]
    }
   ],
   "source": [
    "galaxyname = 'ic5332'\n",
    "\n",
    "mycat = catalogue_pipeline.PyHSTHACat(galaxyname, output_dir_append='_fixediso')\n",
    "mycat.hstha_err = ISOTHRESHOLD\n",
    "\n",
    "mycat.make_paths()\n",
    "mycat.load_files()\n",
    "mycat.get_regions()\n",
    "mycat.get_cutouts()\n",
    "mycat.make_catalogue()\n",
    "\n",
    "mycat.rerun_cutouts_associations = True\n",
    "mycat.make_associations()"
   ]
  },
  {
   "cell_type": "code",
   "execution_count": 3,
   "metadata": {},
   "outputs": [],
   "source": [
    "galaxyname = 'ngc628c'\n",
    "galaxyname_hst = 'ngc0628'\n",
    "\n",
    "mycat = catalogue_pipeline.PyHSTHACat(galaxyname, output_dir_append='_fixediso')\n",
    "mycat.hstha_err = ISOTHRESHOLD\n",
    "\n",
    "mycat.make_paths()\n",
    "mycat.load_files()\n",
    "mycat.get_regions()\n",
    "mycat.get_cutouts()\n",
    "mycat.make_catalogue()\n",
    "\n",
    "mycat.rerun_cutouts_associations = True\n",
    "mycat.make_associations()"
   ]
  },
  {
   "cell_type": "code",
   "execution_count": 4,
   "metadata": {},
   "outputs": [],
   "source": [
    "galaxyname = 'ngc1087'\n",
    "\n",
    "mycat = catalogue_pipeline.PyHSTHACat(galaxyname, output_dir_append='_fixediso')\n",
    "mycat.hstha_err = ISOTHRESHOLD\n",
    "\n",
    "mycat.make_paths()\n",
    "mycat.load_files()\n",
    "mycat.get_regions()\n",
    "mycat.get_cutouts()\n",
    "mycat.make_catalogue()\n",
    "\n",
    "mycat.rerun_cutouts_associations = True\n",
    "mycat.make_associations()"
   ]
  },
  {
   "cell_type": "code",
   "execution_count": 5,
   "metadata": {},
   "outputs": [],
   "source": [
    "galaxyname = 'ngc1300'\n",
    "\n",
    "mycat = catalogue_pipeline.PyHSTHACat(galaxyname, output_dir_append='_fixediso')\n",
    "mycat.hstha_err = ISOTHRESHOLD\n",
    "\n",
    "mycat.make_paths()\n",
    "mycat.load_files()\n",
    "mycat.get_regions()\n",
    "mycat.get_cutouts()\n",
    "mycat.make_catalogue()\n",
    "\n",
    "mycat.rerun_cutouts_associations = True\n",
    "mycat.make_associations()"
   ]
  },
  {
   "cell_type": "code",
   "execution_count": 6,
   "metadata": {},
   "outputs": [],
   "source": [
    "galaxyname = 'ngc1365n'\n",
    "galaxyname_hst = 'ngc1365'\n",
    "\n",
    "mycat = catalogue_pipeline.PyHSTHACat(galaxyname, output_dir_append='_fixediso')\n",
    "mycat.hstha_err = ISOTHRESHOLD\n",
    "\n",
    "mycat.make_paths()\n",
    "mycat.load_files()\n",
    "mycat.get_regions()\n",
    "mycat.get_cutouts()\n",
    "mycat.make_catalogue()\n",
    "\n",
    "mycat.rerun_cutouts_associations = True\n",
    "mycat.make_associations()"
   ]
  },
  {
   "cell_type": "code",
   "execution_count": 7,
   "metadata": {},
   "outputs": [],
   "source": [
    "galaxyname = 'ngc1385'\n",
    "\n",
    "mycat = catalogue_pipeline.PyHSTHACat(galaxyname, output_dir_append='_fixediso')\n",
    "mycat.hstha_err = ISOTHRESHOLD\n",
    "\n",
    "mycat.make_paths()\n",
    "mycat.load_files()\n",
    "mycat.get_regions()\n",
    "mycat.get_cutouts()\n",
    "mycat.make_catalogue()\n",
    "\n",
    "mycat.rerun_cutouts_associations = True\n",
    "mycat.make_associations()"
   ]
  },
  {
   "cell_type": "code",
   "execution_count": 8,
   "metadata": {},
   "outputs": [],
   "source": [
    "galaxyname = 'ngc1433'\n",
    "\n",
    "mycat = catalogue_pipeline.PyHSTHACat(galaxyname, output_dir_append='_fixediso')\n",
    "mycat.hstha_err = ISOTHRESHOLD\n",
    "\n",
    "mycat.make_paths()\n",
    "mycat.load_files()\n",
    "mycat.get_regions()\n",
    "mycat.get_cutouts()\n",
    "mycat.make_catalogue()\n",
    "\n",
    "mycat.rerun_cutouts_associations = True\n",
    "mycat.make_associations()"
   ]
  },
  {
   "cell_type": "code",
   "execution_count": 9,
   "metadata": {},
   "outputs": [],
   "source": [
    "galaxyname = 'ngc1512'\n",
    "\n",
    "mycat = catalogue_pipeline.PyHSTHACat(galaxyname, output_dir_append='_fixediso')\n",
    "mycat.hstha_err = ISOTHRESHOLD\n",
    "\n",
    "mycat.make_paths()\n",
    "mycat.load_files()\n",
    "mycat.get_regions()\n",
    "mycat.get_cutouts()\n",
    "mycat.make_catalogue()\n",
    "\n",
    "mycat.rerun_cutouts_associations = True\n",
    "mycat.make_associations()"
   ]
  },
  {
   "cell_type": "code",
   "execution_count": 10,
   "metadata": {},
   "outputs": [],
   "source": [
    "galaxyname = 'ngc1566'\n",
    "\n",
    "mycat = catalogue_pipeline.PyHSTHACat(galaxyname, output_dir_append='_fixediso')\n",
    "mycat.hstha_err = ISOTHRESHOLD\n",
    "\n",
    "mycat.make_paths()\n",
    "mycat.load_files()\n",
    "mycat.get_regions()\n",
    "mycat.get_cutouts()\n",
    "mycat.make_catalogue()\n",
    "\n",
    "mycat.rerun_cutouts_associations = True\n",
    "mycat.make_associations()"
   ]
  },
  {
   "cell_type": "code",
   "execution_count": 11,
   "metadata": {},
   "outputs": [],
   "source": [
    "galaxyname = 'ngc1672'\n",
    "\n",
    "mycat = catalogue_pipeline.PyHSTHACat(galaxyname, output_dir_append='_fixediso')\n",
    "mycat.hstha_err = ISOTHRESHOLD\n",
    "\n",
    "mycat.make_paths()\n",
    "mycat.load_files()\n",
    "mycat.get_regions()\n",
    "mycat.get_cutouts()\n",
    "mycat.make_catalogue()\n",
    "\n",
    "mycat.rerun_cutouts_associations = True\n",
    "mycat.make_associations()"
   ]
  },
  {
   "cell_type": "code",
   "execution_count": 12,
   "metadata": {},
   "outputs": [],
   "source": [
    "galaxyname = 'ngc2835s'\n",
    "galaxyname_hst = 'ngc2835'\n",
    "\n",
    "mycat = catalogue_pipeline.PyHSTHACat(galaxyname, output_dir_append='_fixediso')\n",
    "mycat.hstha_err = ISOTHRESHOLD\n",
    "\n",
    "mycat.make_paths()\n",
    "mycat.load_files()\n",
    "mycat.get_regions()\n",
    "mycat.get_cutouts()\n",
    "mycat.make_catalogue()\n",
    "\n",
    "mycat.rerun_cutouts_associations = True\n",
    "mycat.make_associations()"
   ]
  },
  {
   "cell_type": "code",
   "execution_count": 13,
   "metadata": {},
   "outputs": [],
   "source": [
    "galaxyname = 'ngc3351'\n",
    "\n",
    "mycat = catalogue_pipeline.PyHSTHACat(galaxyname, output_dir_append='_fixediso')\n",
    "mycat.hstha_err = ISOTHRESHOLD\n",
    "\n",
    "mycat.make_paths()\n",
    "mycat.load_files()\n",
    "mycat.get_regions()\n",
    "mycat.get_cutouts()\n",
    "mycat.make_catalogue()\n",
    "\n",
    "mycat.rerun_cutouts_associations = True\n",
    "mycat.make_associations()"
   ]
  },
  {
   "cell_type": "code",
   "execution_count": 14,
   "metadata": {},
   "outputs": [],
   "source": [
    "galaxyname = 'ngc3627'\n",
    "\n",
    "mycat = catalogue_pipeline.PyHSTHACat(galaxyname, output_dir_append='_fixediso')\n",
    "mycat.hstha_err = ISOTHRESHOLD\n",
    "\n",
    "mycat.make_paths()\n",
    "mycat.load_files()\n",
    "mycat.get_regions()\n",
    "mycat.get_cutouts()\n",
    "mycat.make_catalogue()\n",
    "\n",
    "mycat.rerun_cutouts_associations = True\n",
    "mycat.make_associations()"
   ]
  },
  {
   "cell_type": "code",
   "execution_count": 15,
   "metadata": {},
   "outputs": [],
   "source": [
    "galaxyname = 'ngc4254'\n",
    "\n",
    "mycat = catalogue_pipeline.PyHSTHACat(galaxyname, output_dir_append='_fixediso')\n",
    "mycat.hstha_err = ISOTHRESHOLD\n",
    "\n",
    "mycat.make_paths()\n",
    "mycat.load_files()\n",
    "mycat.get_regions()\n",
    "mycat.get_cutouts()\n",
    "mycat.make_catalogue()\n",
    "\n",
    "mycat.rerun_cutouts_associations = True\n",
    "mycat.make_associations()"
   ]
  },
  {
   "cell_type": "code",
   "execution_count": 16,
   "metadata": {},
   "outputs": [],
   "source": [
    "galaxyname = 'ngc4303'\n",
    "\n",
    "mycat = catalogue_pipeline.PyHSTHACat(galaxyname, output_dir_append='_fixediso')\n",
    "mycat.hstha_err = ISOTHRESHOLD\n",
    "\n",
    "mycat.make_paths()\n",
    "mycat.load_files()\n",
    "mycat.get_regions()\n",
    "mycat.get_cutouts()\n",
    "mycat.make_catalogue()\n",
    "\n",
    "mycat.rerun_cutouts_associations = True\n",
    "mycat.make_associations()"
   ]
  },
  {
   "cell_type": "code",
   "execution_count": 17,
   "metadata": {},
   "outputs": [],
   "source": [
    "galaxyname = 'ngc4535'\n",
    "\n",
    "mycat = catalogue_pipeline.PyHSTHACat(galaxyname, output_dir_append='_fixediso')\n",
    "mycat.hstha_err = ISOTHRESHOLD\n",
    "\n",
    "mycat.make_paths()\n",
    "mycat.load_files()\n",
    "mycat.get_regions()\n",
    "mycat.get_cutouts()\n",
    "mycat.make_catalogue()\n",
    "\n",
    "mycat.rerun_cutouts_associations = True\n",
    "mycat.make_associations()"
   ]
  },
  {
   "cell_type": "code",
   "execution_count": 18,
   "metadata": {},
   "outputs": [],
   "source": [
    "galaxyname = 'ngc5068'\n",
    "\n",
    "mycat = catalogue_pipeline.PyHSTHACat(galaxyname, output_dir_append='_fixediso')\n",
    "mycat.hstha_err = ISOTHRESHOLD\n",
    "\n",
    "mycat.make_paths()\n",
    "mycat.load_files()\n",
    "mycat.get_regions()\n",
    "mycat.get_cutouts()\n",
    "mycat.make_catalogue()\n",
    "\n",
    "mycat.rerun_cutouts_associations = True\n",
    "mycat.make_associations()"
   ]
  },
  {
   "cell_type": "code",
   "execution_count": 19,
   "metadata": {},
   "outputs": [],
   "source": [
    "galaxyname = 'ngc7496'\n",
    "\n",
    "mycat = catalogue_pipeline.PyHSTHACat(galaxyname, output_dir_append='_fixediso')\n",
    "mycat.hstha_err = ISOTHRESHOLD\n",
    "\n",
    "mycat.make_paths()\n",
    "mycat.load_files()\n",
    "mycat.get_regions()\n",
    "mycat.get_cutouts()\n",
    "mycat.make_catalogue()\n",
    "\n",
    "mycat.rerun_cutouts_associations = True\n",
    "mycat.make_associations()"
   ]
  }
 ],
 "metadata": {
  "kernelspec": {
   "display_name": "base",
   "language": "python",
   "name": "python3"
  },
  "language_info": {
   "codemirror_mode": {
    "name": "ipython",
    "version": 3
   },
   "file_extension": ".py",
   "mimetype": "text/x-python",
   "name": "python",
   "nbconvert_exporter": "python",
   "pygments_lexer": "ipython3",
   "version": "3.9.13"
  }
 },
 "nbformat": 4,
 "nbformat_minor": 2
}
