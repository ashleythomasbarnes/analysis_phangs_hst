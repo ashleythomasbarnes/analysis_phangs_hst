{
 "cells": [
  {
   "cell_type": "code",
   "execution_count": null,
   "metadata": {},
   "outputs": [],
   "source": [
    "# TODO Update to V4 of the catalogue..."
   ]
  },
  {
   "cell_type": "code",
   "execution_count": 1,
   "metadata": {},
   "outputs": [
    {
     "name": "stderr",
     "output_type": "stream",
     "text": [
      "/Users/abarnes/opt/anaconda3/lib/python3.9/site-packages/scipy/__init__.py:155: UserWarning: A NumPy version >=1.18.5 and <1.25.0 is required for this version of SciPy (detected version 1.25.2\n",
      "  warnings.warn(f\"A NumPy version >={np_minversion} and <{np_maxversion}\"\n"
     ]
    }
   ],
   "source": [
    "from imports import *"
   ]
  },
  {
   "cell_type": "code",
   "execution_count": 2,
   "metadata": {},
   "outputs": [],
   "source": [
    "# FIXED ISO THRESHOLD FOR ALL THE IMAGES (in per pixel units) \n",
    "ISOTHRESHOLD = 100"
   ]
  },
  {
   "cell_type": "code",
   "execution_count": null,
   "metadata": {},
   "outputs": [],
   "source": [
    "galaxyname = 'ic5332'\n",
    "\n",
    "mycat = catalogue_pipeline.PyHSTHACat(galaxyname, output_dir_append='_fixediso_10pc')\n",
    "mycat.hstha_err = ISOTHRESHOLD\n",
    "mycat.rerun_all = True\n",
    "mycat.hstha_file = mycat.hstha_file.replace('.fits', '_10pc_fixednoise.fits')\n",
    "\n",
    "mycat.make_paths()\n",
    "mycat.load_files()\n",
    "mycat.get_regions()\n",
    "mycat.get_cutouts()\n",
    "mycat.make_catalogue()\n",
    "\n",
    "mycat.rerun_cutouts_associations = True\n",
    "mycat.make_associations()\n",
    "\n",
    "# To free memory\n",
    "del mycat \n",
    "gc.collect()"
   ]
  },
  {
   "cell_type": "code",
   "execution_count": null,
   "metadata": {},
   "outputs": [],
   "source": [
    "galaxyname = 'ngc0628'\n",
    "galaxyname_hst = 'ngc628c'\n",
    "galaxyname_cat = 'ngc628'\n",
    "\n",
    "mycat = catalogue_pipeline.PyHSTHACat(galaxyname, galaxyname_hst, galaxyname_cat, output_dir_append='_fixediso_10pc')\n",
    "mycat.hstha_err = ISOTHRESHOLD\n",
    "mycat.rerun_all = True\n",
    "mycat.hstha_file = mycat.hstha_file.replace('.fits', '_10pc_fixednoise.fits')\n",
    "\n",
    "mycat.make_paths()\n",
    "mycat.load_files()\n",
    "mycat.get_regions()\n",
    "mycat.get_cutouts()\n",
    "mycat.make_catalogue()\n",
    "\n",
    "mycat.rerun_cutouts_associations = True\n",
    "mycat.make_associations()\n",
    "\n",
    "# To free memory\n",
    "del mycat \n",
    "gc.collect()"
   ]
  },
  {
   "cell_type": "code",
   "execution_count": null,
   "metadata": {},
   "outputs": [],
   "source": [
    "galaxyname = 'ngc1087'\n",
    "\n",
    "mycat = catalogue_pipeline.PyHSTHACat(galaxyname, output_dir_append='_fixediso_10pc')\n",
    "mycat.hstha_err = ISOTHRESHOLD\n",
    "mycat.rerun_all = True\n",
    "mycat.hstha_file = mycat.hstha_file.replace('.fits', '_10pc_fixednoise.fits')\n",
    "\n",
    "mycat.make_paths()\n",
    "mycat.load_files()\n",
    "mycat.get_regions()\n",
    "mycat.get_cutouts()\n",
    "mycat.make_catalogue()\n",
    "\n",
    "mycat.rerun_cutouts_associations = True\n",
    "mycat.make_associations()\n",
    "\n",
    "# To free memory\n",
    "del mycat \n",
    "gc.collect()"
   ]
  },
  {
   "cell_type": "code",
   "execution_count": null,
   "metadata": {},
   "outputs": [],
   "source": [
    "galaxyname = 'ngc1300'\n",
    "\n",
    "mycat = catalogue_pipeline.PyHSTHACat(galaxyname, output_dir_append='_fixediso_10pc')\n",
    "mycat.hstha_err = ISOTHRESHOLD\n",
    "mycat.rerun_all = True\n",
    "mycat.hstha_file = mycat.hstha_file.replace('.fits', '_10pc_fixednoise.fits')\n",
    "\n",
    "mycat.make_paths()\n",
    "mycat.load_files()\n",
    "mycat.get_regions()\n",
    "mycat.get_cutouts()\n",
    "mycat.make_catalogue()\n",
    "\n",
    "mycat.rerun_cutouts_associations = True\n",
    "mycat.make_associations()\n",
    "\n",
    "# To free memory\n",
    "del mycat \n",
    "gc.collect()"
   ]
  },
  {
   "cell_type": "code",
   "execution_count": null,
   "metadata": {},
   "outputs": [],
   "source": [
    "galaxyname = 'ngc1365'\n",
    "galaxyname_hst = 'ngc1365n'\n",
    "\n",
    "mycat = catalogue_pipeline.PyHSTHACat(galaxyname, galaxyname_hst, output_dir_append='_fixediso_10pc')\n",
    "mycat.hstha_err = ISOTHRESHOLD\n",
    "mycat.rerun_all = True\n",
    "mycat.hstha_file = mycat.hstha_file.replace('.fits', '_10pc_fixednoise.fits')\n",
    "\n",
    "mycat.make_paths()\n",
    "mycat.load_files()\n",
    "mycat.get_regions()\n",
    "mycat.get_cutouts()\n",
    "mycat.make_catalogue()\n",
    "\n",
    "mycat.rerun_cutouts_associations = True\n",
    "mycat.make_associations()\n",
    "\n",
    "# To free memory\n",
    "del mycat \n",
    "gc.collect()"
   ]
  },
  {
   "cell_type": "code",
   "execution_count": null,
   "metadata": {},
   "outputs": [],
   "source": [
    "galaxyname = 'ngc1385'\n",
    "\n",
    "mycat = catalogue_pipeline.PyHSTHACat(galaxyname, output_dir_append='_fixediso_10pc')\n",
    "mycat.hstha_err = ISOTHRESHOLD\n",
    "mycat.rerun_all = True\n",
    "mycat.hstha_file = mycat.hstha_file.replace('.fits', '_10pc_fixednoise.fits')\n",
    "\n",
    "mycat.make_paths()\n",
    "mycat.load_files()\n",
    "mycat.get_regions()\n",
    "mycat.get_cutouts()\n",
    "mycat.make_catalogue()\n",
    "\n",
    "mycat.rerun_cutouts_associations = True\n",
    "mycat.make_associations()\n",
    "\n",
    "# To free memory\n",
    "del mycat \n",
    "gc.collect()"
   ]
  },
  {
   "cell_type": "code",
   "execution_count": null,
   "metadata": {},
   "outputs": [],
   "source": [
    "galaxyname = 'ngc1433'\n",
    "\n",
    "mycat = catalogue_pipeline.PyHSTHACat(galaxyname, output_dir_append='_fixediso_10pc')\n",
    "mycat.hstha_err = ISOTHRESHOLD\n",
    "mycat.rerun_all = True\n",
    "mycat.hstha_file = mycat.hstha_file.replace('.fits', '_10pc_fixednoise.fits')\n",
    "\n",
    "mycat.make_paths()\n",
    "mycat.load_files()\n",
    "mycat.get_regions()\n",
    "mycat.get_cutouts()\n",
    "mycat.make_catalogue()\n",
    "\n",
    "mycat.rerun_cutouts_associations = True\n",
    "mycat.make_associations()\n",
    "\n",
    "# To free memory\n",
    "del mycat \n",
    "gc.collect()"
   ]
  },
  {
   "cell_type": "code",
   "execution_count": null,
   "metadata": {},
   "outputs": [],
   "source": [
    "galaxyname = 'ngc1512'\n",
    "\n",
    "mycat = catalogue_pipeline.PyHSTHACat(galaxyname, output_dir_append='_fixediso_10pc')\n",
    "mycat.hstha_err = ISOTHRESHOLD\n",
    "mycat.rerun_all = True\n",
    "mycat.hstha_file = mycat.hstha_file.replace('.fits', '_10pc_fixednoise.fits')\n",
    "\n",
    "mycat.make_paths()\n",
    "mycat.load_files()\n",
    "mycat.get_regions()\n",
    "mycat.get_cutouts()\n",
    "mycat.make_catalogue()\n",
    "\n",
    "mycat.rerun_cutouts_associations = True\n",
    "mycat.make_associations()\n",
    "\n",
    "# To free memory\n",
    "del mycat \n",
    "gc.collect()"
   ]
  },
  {
   "cell_type": "code",
   "execution_count": null,
   "metadata": {},
   "outputs": [],
   "source": [
    "galaxyname = 'ngc1566'\n",
    "\n",
    "mycat = catalogue_pipeline.PyHSTHACat(galaxyname, output_dir_append='_fixediso_10pc')\n",
    "mycat.hstha_err = ISOTHRESHOLD\n",
    "mycat.rerun_all = True\n",
    "mycat.hstha_file = mycat.hstha_file.replace('.fits', '_10pc_fixednoise.fits')\n",
    "\n",
    "mycat.make_paths()\n",
    "mycat.load_files()\n",
    "mycat.get_regions()\n",
    "mycat.get_cutouts()\n",
    "mycat.make_catalogue()\n",
    "\n",
    "mycat.rerun_cutouts_associations = True\n",
    "mycat.make_associations()\n",
    "\n",
    "# To free memory\n",
    "del mycat \n",
    "gc.collect()"
   ]
  },
  {
   "cell_type": "code",
   "execution_count": null,
   "metadata": {},
   "outputs": [],
   "source": [
    "galaxyname = 'ngc1672'\n",
    "\n",
    "mycat = catalogue_pipeline.PyHSTHACat(galaxyname, output_dir_append='_fixediso_10pc')\n",
    "mycat.hstha_err = ISOTHRESHOLD\n",
    "mycat.rerun_all = True\n",
    "mycat.hstha_file = mycat.hstha_file.replace('.fits', '_10pc_fixednoise.fits')\n",
    "\n",
    "mycat.make_paths()\n",
    "mycat.load_files()\n",
    "mycat.get_regions()\n",
    "mycat.get_cutouts()\n",
    "mycat.make_catalogue()\n",
    "\n",
    "mycat.rerun_cutouts_associations = True\n",
    "mycat.make_associations()\n",
    "\n",
    "# To free memory\n",
    "del mycat \n",
    "gc.collect()"
   ]
  },
  {
   "cell_type": "code",
   "execution_count": 4,
   "metadata": {},
   "outputs": [
    {
     "name": "stdout",
     "output_type": "stream",
     "text": [
      "[Info] Outputting to the following:\n",
      "/Users/abarnes/Dropbox/work/Smallprojects/galaxies/data_hstha_nebulae_catalogue/ngc2835/\n",
      "[INFO] [get_MuseProps] Getting MUSE catalouge properties for ngc2835...\n",
      "[INFO] [get_galaxyprops] Getting sample table properties for ngc2835...\n",
      "[INFO] Using PSF size from header -- > 0.12 arcsec\n",
      "[INFO] Pixel scale taken as PC1_1, PC2_2\n",
      "[INFO] Pixel scale -- > 0.04 arcsec\n",
      "[INFO] Generating new DS9 region file...\n",
      "[INFO] [get_regions] Opening regions file (this may take a min)... \n",
      "[INFO] [get_regions] Getting info for 1121 regions...\n",
      "[INFO] [save_pickle] Saved to /Users/abarnes/Dropbox/work/Smallprojects/galaxies/data_hstha_nebulae_catalogue/ngc2835/cutouts_fixediso_10pc/sample.pickel\n",
      "[INFO] Generating cutouts for hstha_hdu...\n"
     ]
    },
    {
     "name": "stderr",
     "output_type": "stream",
     "text": [
      "Cropping regions: 100%|██████████| 1121/1121 [00:04<00:00, 253.60it/s]\n"
     ]
    },
    {
     "name": "stdout",
     "output_type": "stream",
     "text": [
      "[INFO] [save_pickle] Saved to /Users/abarnes/Dropbox/work/Smallprojects/galaxies/data_hstha_nebulae_catalogue/ngc2835/cutouts_fixediso_10pc/hstha_hdu.pickel\n",
      "[INFO] Generating cutouts for musha_hdu...\n"
     ]
    },
    {
     "name": "stderr",
     "output_type": "stream",
     "text": [
      "Cropping regions: 100%|██████████| 1121/1121 [00:03<00:00, 315.58it/s]\n"
     ]
    },
    {
     "name": "stdout",
     "output_type": "stream",
     "text": [
      "[INFO] [save_pickle] Saved to /Users/abarnes/Dropbox/work/Smallprojects/galaxies/data_hstha_nebulae_catalogue/ngc2835/cutouts_fixediso_10pc/musha_hdu.pickel\n",
      "[INFO] Generating cutouts for muscat_hdu...\n"
     ]
    },
    {
     "name": "stderr",
     "output_type": "stream",
     "text": [
      "Cropping regions: 100%|██████████| 1121/1121 [00:03<00:00, 302.23it/s]\n"
     ]
    },
    {
     "name": "stdout",
     "output_type": "stream",
     "text": [
      "[INFO] [save_pickle] Saved to /Users/abarnes/Dropbox/work/Smallprojects/galaxies/data_hstha_nebulae_catalogue/ngc2835/cutouts_fixediso_10pc/muscat_hdu.pickel\n",
      "[INFO] [load_pickle] Load /Users/abarnes/Dropbox/work/Smallprojects/galaxies/data_hstha_nebulae_catalogue/ngc2835/cutouts_fixediso_10pc/hstha_hdu.pickel\n",
      "[INFO] [load_pickle] Load /Users/abarnes/Dropbox/work/Smallprojects/galaxies/data_hstha_nebulae_catalogue/ngc2835/cutouts_fixediso_10pc/musha_hdu.pickel\n",
      "[INFO] [load_pickle] Load /Users/abarnes/Dropbox/work/Smallprojects/galaxies/data_hstha_nebulae_catalogue/ngc2835/cutouts_fixediso_10pc/muscat_hdu.pickel\n",
      "[INFO] All HDU cutouts saved to /Users/abarnes/Dropbox/work/Smallprojects/galaxies/data_hstha_nebulae_catalogue/ngc2835/cutouts_fixediso_10pc/hdus_all.pickel\n",
      "[INFO] [save_pickle] Saved to /Users/abarnes/Dropbox/work/Smallprojects/galaxies/data_hstha_nebulae_catalogue/ngc2835/cutouts_fixediso_10pc/hdus_all.pickel\n",
      "[CATALOGUE] Running catalogue generation for: ngc2835\n",
      "[INFO] [get_maskedhdus] Getting HST maps masked by MUSE catalouge...\n"
     ]
    },
    {
     "name": "stderr",
     "output_type": "stream",
     "text": [
      "Masking regions: 100%|██████████| 1121/1121 [01:15<00:00, 14.91it/s]\n"
     ]
    },
    {
     "name": "stdout",
     "output_type": "stream",
     "text": [
      "[INFO] [save_pickle] Saved to /Users/abarnes/Dropbox/work/Smallprojects/galaxies/data_hstha_nebulae_catalogue/ngc2835/cutouts_fixediso_10pc/hdus_all_withmasked.pickel\n"
     ]
    },
    {
     "name": "stderr",
     "output_type": "stream",
     "text": [
      "Get sources: 100%|██████████| 1121/1121 [00:11<00:00, 94.69it/s] \n"
     ]
    },
    {
     "name": "stdout",
     "output_type": "stream",
     "text": [
      "[INFO] [get_MuseProps] Getting MUSE catalouge properties for ngc2835...\n"
     ]
    },
    {
     "name": "stderr",
     "output_type": "stream",
     "text": [
      "Masking regions: 100%|██████████| 1121/1121 [00:00<00:00, 1522.17it/s]\n",
      "Geting complexity score: 100%|██████████| 210/210 [00:04<00:00, 52.50it/s]\n",
      "Get touch flags:: 100%|██████████| 210/210 [00:18<00:00, 11.56it/s]\n"
     ]
    },
    {
     "name": "stdout",
     "output_type": "stream",
     "text": [
      "[CATALOGUE] Final properties table saved to: /Users/abarnes/Dropbox/work/Smallprojects/galaxies/data_hstha_nebulae_catalogue/ngc2835/catalogue_fixediso_10pc/props_all.fits\n",
      "[CATALOGUE] Masks saved to /Users/abarnes/Dropbox/work/Smallprojects/galaxies/data_hstha_nebulae_catalogue/ngc2835/catalogue_fixediso_10pc/ngc2835_mask.fits and /Users/abarnes/Dropbox/work/Smallprojects/galaxies/data_hstha_nebulae_catalogue/ngc2835/catalogue_fixediso_10pc/ngc2835_complexity.fits\n",
      "[CATALOGUE] DS9 regions output to /Users/abarnes/Dropbox/work/Smallprojects/galaxies/data_hstha_nebulae_catalogue/ngc2835/catalogue_fixediso_10pc/ngc2835_mask\n",
      "[CATALOGUE] Done!\n",
      "[ASSOCIATIONS] Checking association files for galaxy ngc2835 ...\n",
      "Unpacking: /Users/abarnes/Dropbox/work/Smallprojects/galaxies/data_misc/multiscale_stellar_associations/ngc2835/vselect/ws8pc/PHANGS_IR4_hst_wfc3_ngc2835_v1p3_multi_assoc-vselect-ws8pc-idmask.fits.gz\n",
      "[INFO] Files found for v_08pc.\n",
      "Unpacking: /Users/abarnes/Dropbox/work/Smallprojects/galaxies/data_misc/multiscale_stellar_associations/ngc2835/vselect/ws16pc/PHANGS_IR4_hst_wfc3_ngc2835_v1p3_multi_assoc-vselect-ws16pc-idmask.fits.gz\n",
      "[INFO] Files found for v_16pc.\n",
      "Unpacking: /Users/abarnes/Dropbox/work/Smallprojects/galaxies/data_misc/multiscale_stellar_associations/ngc2835/vselect/ws32pc/PHANGS_IR4_hst_wfc3_ngc2835_v1p3_multi_assoc-vselect-ws32pc-idmask.fits.gz\n",
      "[INFO] Files found for v_32pc.\n",
      "Unpacking: /Users/abarnes/Dropbox/work/Smallprojects/galaxies/data_misc/multiscale_stellar_associations/ngc2835/vselect/ws64pc/PHANGS_IR4_hst_wfc3_ngc2835_v1p3_multi_assoc-vselect-ws64pc-idmask.fits.gz\n",
      "[INFO] Files found for v_64pc.\n",
      "Unpacking: /Users/abarnes/Dropbox/work/Smallprojects/galaxies/data_misc/multiscale_stellar_associations/ngc2835/nuvselect/ws8pc/PHANGS_IR4_hst_wfc3_ngc2835_v1p3_multi_assoc-nuvselect-ws8pc-idmask.fits.gz\n",
      "[INFO] Files found for nuv_08pc.\n",
      "Unpacking: /Users/abarnes/Dropbox/work/Smallprojects/galaxies/data_misc/multiscale_stellar_associations/ngc2835/nuvselect/ws16pc/PHANGS_IR4_hst_wfc3_ngc2835_v1p3_multi_assoc-nuvselect-ws16pc-idmask.fits.gz\n",
      "[INFO] Files found for nuv_16pc.\n",
      "Unpacking: /Users/abarnes/Dropbox/work/Smallprojects/galaxies/data_misc/multiscale_stellar_associations/ngc2835/nuvselect/ws32pc/PHANGS_IR4_hst_wfc3_ngc2835_v1p3_multi_assoc-nuvselect-ws32pc-idmask.fits.gz\n",
      "[INFO] Files found for nuv_32pc.\n",
      "Unpacking: /Users/abarnes/Dropbox/work/Smallprojects/galaxies/data_misc/multiscale_stellar_associations/ngc2835/nuvselect/ws64pc/PHANGS_IR4_hst_wfc3_ngc2835_v1p3_multi_assoc-nuvselect-ws64pc-idmask.fits.gz\n",
      "[INFO] Files found for nuv_64pc.\n",
      "[INFO] [load_pickle] Load /Users/abarnes/Dropbox/work/Smallprojects/galaxies/data_hstha_nebulae_catalogue/ngc2835/cutouts_fixediso_10pc/sample.pickel\n",
      "[ASSOCIATIONS] Generating new cutouts for association masks...\n"
     ]
    },
    {
     "name": "stderr",
     "output_type": "stream",
     "text": [
      "Cropping regions: 100%|██████████| 210/210 [00:00<00:00, 223.93it/s]\n"
     ]
    },
    {
     "name": "stdout",
     "output_type": "stream",
     "text": [
      "[INFO] [save_pickle] Saved to /Users/abarnes/Dropbox/work/Smallprojects/galaxies/data_hstha_nebulae_catalogue/ngc2835/cutouts_fixediso_10pc/hdus_catalog_mask_new.pickel\n"
     ]
    },
    {
     "name": "stderr",
     "output_type": "stream",
     "text": [
      "Cropping regions: 100%|██████████| 210/210 [00:00<00:00, 249.76it/s]\n"
     ]
    },
    {
     "name": "stdout",
     "output_type": "stream",
     "text": [
      "[INFO] [save_pickle] Saved to /Users/abarnes/Dropbox/work/Smallprojects/galaxies/data_hstha_nebulae_catalogue/ngc2835/cutouts_fixediso_10pc/hdus_association_mask_new_v_08pc.pickel\n"
     ]
    },
    {
     "name": "stderr",
     "output_type": "stream",
     "text": [
      "Cropping regions: 100%|██████████| 210/210 [00:00<00:00, 253.16it/s]\n"
     ]
    },
    {
     "name": "stdout",
     "output_type": "stream",
     "text": [
      "[INFO] [save_pickle] Saved to /Users/abarnes/Dropbox/work/Smallprojects/galaxies/data_hstha_nebulae_catalogue/ngc2835/cutouts_fixediso_10pc/hdus_association_mask_new_v_16pc.pickel\n"
     ]
    },
    {
     "name": "stderr",
     "output_type": "stream",
     "text": [
      "Cropping regions: 100%|██████████| 210/210 [00:00<00:00, 250.08it/s]\n"
     ]
    },
    {
     "name": "stdout",
     "output_type": "stream",
     "text": [
      "[INFO] [save_pickle] Saved to /Users/abarnes/Dropbox/work/Smallprojects/galaxies/data_hstha_nebulae_catalogue/ngc2835/cutouts_fixediso_10pc/hdus_association_mask_new_v_32pc.pickel\n"
     ]
    },
    {
     "name": "stderr",
     "output_type": "stream",
     "text": [
      "Cropping regions: 100%|██████████| 210/210 [00:00<00:00, 212.47it/s]\n"
     ]
    },
    {
     "name": "stdout",
     "output_type": "stream",
     "text": [
      "[INFO] [save_pickle] Saved to /Users/abarnes/Dropbox/work/Smallprojects/galaxies/data_hstha_nebulae_catalogue/ngc2835/cutouts_fixediso_10pc/hdus_association_mask_new_v_64pc.pickel\n"
     ]
    },
    {
     "name": "stderr",
     "output_type": "stream",
     "text": [
      "Cropping regions: 100%|██████████| 210/210 [00:00<00:00, 257.88it/s]\n"
     ]
    },
    {
     "name": "stdout",
     "output_type": "stream",
     "text": [
      "[INFO] [save_pickle] Saved to /Users/abarnes/Dropbox/work/Smallprojects/galaxies/data_hstha_nebulae_catalogue/ngc2835/cutouts_fixediso_10pc/hdus_association_mask_new_nuv_08pc.pickel\n"
     ]
    },
    {
     "name": "stderr",
     "output_type": "stream",
     "text": [
      "Cropping regions: 100%|██████████| 210/210 [00:00<00:00, 288.08it/s]\n"
     ]
    },
    {
     "name": "stdout",
     "output_type": "stream",
     "text": [
      "[INFO] [save_pickle] Saved to /Users/abarnes/Dropbox/work/Smallprojects/galaxies/data_hstha_nebulae_catalogue/ngc2835/cutouts_fixediso_10pc/hdus_association_mask_new_nuv_16pc.pickel\n"
     ]
    },
    {
     "name": "stderr",
     "output_type": "stream",
     "text": [
      "Cropping regions: 100%|██████████| 210/210 [00:00<00:00, 288.75it/s]\n"
     ]
    },
    {
     "name": "stdout",
     "output_type": "stream",
     "text": [
      "[INFO] [save_pickle] Saved to /Users/abarnes/Dropbox/work/Smallprojects/galaxies/data_hstha_nebulae_catalogue/ngc2835/cutouts_fixediso_10pc/hdus_association_mask_new_nuv_32pc.pickel\n"
     ]
    },
    {
     "name": "stderr",
     "output_type": "stream",
     "text": [
      "Cropping regions: 100%|██████████| 210/210 [00:00<00:00, 292.56it/s]\n"
     ]
    },
    {
     "name": "stdout",
     "output_type": "stream",
     "text": [
      "[INFO] [save_pickle] Saved to /Users/abarnes/Dropbox/work/Smallprojects/galaxies/data_hstha_nebulae_catalogue/ngc2835/cutouts_fixediso_10pc/hdus_association_mask_new_nuv_64pc.pickel\n"
     ]
    },
    {
     "name": "stderr",
     "output_type": "stream",
     "text": [
      "Match associations:: 100%|██████████| 210/210 [00:33<00:00,  6.19it/s]\n"
     ]
    },
    {
     "name": "stdout",
     "output_type": "stream",
     "text": [
      "[ASSOCIATIONS] Final association table saved to: /Users/abarnes/Dropbox/work/Smallprojects/galaxies/data_hstha_nebulae_catalogue/ngc2835/catalogue_fixediso_10pc/props_all_association.fits\n",
      "Cleaning: /Users/abarnes/Dropbox/work/Smallprojects/galaxies/data_misc/multiscale_stellar_associations/ngc2835/vselect/ws8pc/PHANGS_IR4_hst_wfc3_ngc2835_v1p3_multi_assoc-vselect-ws8pc-idmask.fits\n",
      "Cleaning: /Users/abarnes/Dropbox/work/Smallprojects/galaxies/data_misc/multiscale_stellar_associations/ngc2835/vselect/ws16pc/PHANGS_IR4_hst_wfc3_ngc2835_v1p3_multi_assoc-vselect-ws16pc-idmask.fits\n",
      "Cleaning: /Users/abarnes/Dropbox/work/Smallprojects/galaxies/data_misc/multiscale_stellar_associations/ngc2835/vselect/ws32pc/PHANGS_IR4_hst_wfc3_ngc2835_v1p3_multi_assoc-vselect-ws32pc-idmask.fits\n",
      "Cleaning: /Users/abarnes/Dropbox/work/Smallprojects/galaxies/data_misc/multiscale_stellar_associations/ngc2835/vselect/ws64pc/PHANGS_IR4_hst_wfc3_ngc2835_v1p3_multi_assoc-vselect-ws64pc-idmask.fits\n",
      "Cleaning: /Users/abarnes/Dropbox/work/Smallprojects/galaxies/data_misc/multiscale_stellar_associations/ngc2835/nuvselect/ws8pc/PHANGS_IR4_hst_wfc3_ngc2835_v1p3_multi_assoc-nuvselect-ws8pc-idmask.fits\n",
      "Cleaning: /Users/abarnes/Dropbox/work/Smallprojects/galaxies/data_misc/multiscale_stellar_associations/ngc2835/nuvselect/ws16pc/PHANGS_IR4_hst_wfc3_ngc2835_v1p3_multi_assoc-nuvselect-ws16pc-idmask.fits\n",
      "Cleaning: /Users/abarnes/Dropbox/work/Smallprojects/galaxies/data_misc/multiscale_stellar_associations/ngc2835/nuvselect/ws32pc/PHANGS_IR4_hst_wfc3_ngc2835_v1p3_multi_assoc-nuvselect-ws32pc-idmask.fits\n",
      "Cleaning: /Users/abarnes/Dropbox/work/Smallprojects/galaxies/data_misc/multiscale_stellar_associations/ngc2835/nuvselect/ws64pc/PHANGS_IR4_hst_wfc3_ngc2835_v1p3_multi_assoc-nuvselect-ws64pc-idmask.fits\n"
     ]
    },
    {
     "data": {
      "text/plain": [
       "17720"
      ]
     },
     "execution_count": 4,
     "metadata": {},
     "output_type": "execute_result"
    }
   ],
   "source": [
    "galaxyname = 'ngc2835'\n",
    "\n",
    "mycat = catalogue_pipeline.PyHSTHACat(galaxyname, output_dir_append='_fixediso_10pc')\n",
    "mycat.hstha_err = ISOTHRESHOLD\n",
    "mycat.rerun_all = True\n",
    "mycat.hstha_file = mycat.hstha_file.replace('.fits', '_10pc_fixednoise.fits')\n",
    "\n",
    "mycat.make_paths()\n",
    "mycat.load_files()\n",
    "mycat.get_regions()\n",
    "mycat.get_cutouts()\n",
    "mycat.make_catalogue()\n",
    "\n",
    "mycat.rerun_cutouts_associations = True\n",
    "mycat.make_associations()\n",
    "\n",
    "# To free memory\n",
    "del mycat \n",
    "gc.collect()"
   ]
  },
  {
   "cell_type": "code",
   "execution_count": null,
   "metadata": {},
   "outputs": [],
   "source": [
    "galaxyname = 'ngc3351'\n",
    "\n",
    "mycat = catalogue_pipeline.PyHSTHACat(galaxyname, output_dir_append='_fixediso_10pc')\n",
    "mycat.hstha_err = ISOTHRESHOLD\n",
    "mycat.rerun_all = True\n",
    "mycat.hstha_file = mycat.hstha_file.replace('.fits', '_10pc_fixednoise.fits')\n",
    "\n",
    "mycat.make_paths()\n",
    "mycat.load_files()\n",
    "mycat.get_regions()\n",
    "mycat.get_cutouts()\n",
    "mycat.make_catalogue()\n",
    "\n",
    "mycat.rerun_cutouts_associations = True\n",
    "mycat.make_associations()\n",
    "\n",
    "# To free memory\n",
    "del mycat \n",
    "gc.collect()"
   ]
  },
  {
   "cell_type": "code",
   "execution_count": null,
   "metadata": {},
   "outputs": [],
   "source": [
    "galaxyname = 'ngc3627'\n",
    "\n",
    "mycat = catalogue_pipeline.PyHSTHACat(galaxyname, output_dir_append='_fixediso_10pc')\n",
    "mycat.hstha_err = ISOTHRESHOLD\n",
    "mycat.rerun_all = True\n",
    "mycat.hstha_file = mycat.hstha_file.replace('.fits', '_10pc_fixednoise.fits')\n",
    "\n",
    "mycat.make_paths()\n",
    "mycat.load_files()\n",
    "mycat.get_regions()\n",
    "mycat.get_cutouts()\n",
    "mycat.make_catalogue()\n",
    "\n",
    "mycat.rerun_cutouts_associations = True\n",
    "mycat.make_associations()\n",
    "\n",
    "# To free memory\n",
    "del mycat \n",
    "gc.collect()"
   ]
  },
  {
   "cell_type": "code",
   "execution_count": null,
   "metadata": {},
   "outputs": [],
   "source": [
    "galaxyname = 'ngc4254'\n",
    "\n",
    "mycat = catalogue_pipeline.PyHSTHACat(galaxyname, output_dir_append='_fixediso_10pc')\n",
    "mycat.hstha_err = ISOTHRESHOLD\n",
    "mycat.rerun_all = True\n",
    "mycat.hstha_file = mycat.hstha_file.replace('.fits', '_10pc_fixednoise.fits')\n",
    "\n",
    "mycat.make_paths()\n",
    "mycat.load_files()\n",
    "mycat.get_regions()\n",
    "mycat.get_cutouts()\n",
    "mycat.make_catalogue()\n",
    "\n",
    "mycat.rerun_cutouts_associations = True\n",
    "mycat.make_associations()\n",
    "\n",
    "# To free memory\n",
    "del mycat \n",
    "gc.collect()"
   ]
  },
  {
   "cell_type": "code",
   "execution_count": null,
   "metadata": {},
   "outputs": [],
   "source": [
    "galaxyname = 'ngc4303'\n",
    "\n",
    "mycat = catalogue_pipeline.PyHSTHACat(galaxyname, output_dir_append='_fixediso_10pc')\n",
    "mycat.hstha_err = ISOTHRESHOLD\n",
    "mycat.rerun_all = True\n",
    "mycat.hstha_file = mycat.hstha_file.replace('.fits', '_10pc_fixednoise.fits')\n",
    "\n",
    "mycat.make_paths()\n",
    "mycat.load_files()\n",
    "mycat.get_regions()\n",
    "mycat.get_cutouts()\n",
    "mycat.make_catalogue()\n",
    "\n",
    "mycat.rerun_cutouts_associations = True\n",
    "mycat.make_associations()\n",
    "\n",
    "# To free memory\n",
    "del mycat \n",
    "gc.collect()"
   ]
  },
  {
   "cell_type": "code",
   "execution_count": null,
   "metadata": {},
   "outputs": [],
   "source": [
    "galaxyname = 'ngc4321'\n",
    "\n",
    "mycat = catalogue_pipeline.PyHSTHACat(galaxyname, output_dir_append='_fixediso_10pc')\n",
    "mycat.hstha_err = ISOTHRESHOLD\n",
    "mycat.rerun_all = True\n",
    "mycat.hstha_file = mycat.hstha_file.replace('.fits', '_10pc_fixednoise.fits')\n",
    "\n",
    "mycat.make_paths()\n",
    "mycat.load_files()\n",
    "mycat.get_regions()\n",
    "mycat.get_cutouts()\n",
    "mycat.make_catalogue()\n",
    "\n",
    "mycat.rerun_cutouts_associations = True\n",
    "mycat.make_associations()\n",
    "\n",
    "# To free memory\n",
    "del mycat \n",
    "gc.collect()"
   ]
  },
  {
   "cell_type": "code",
   "execution_count": null,
   "metadata": {},
   "outputs": [],
   "source": [
    "galaxyname = 'ngc4535'\n",
    "\n",
    "mycat = catalogue_pipeline.PyHSTHACat(galaxyname, output_dir_append='_fixediso_10pc')\n",
    "mycat.hstha_err = ISOTHRESHOLD\n",
    "mycat.rerun_all = True\n",
    "mycat.hstha_file = mycat.hstha_file.replace('.fits', '_10pc_fixednoise.fits')\n",
    "\n",
    "mycat.make_paths()\n",
    "mycat.load_files()\n",
    "mycat.get_regions()\n",
    "mycat.get_cutouts()\n",
    "mycat.make_catalogue()\n",
    "\n",
    "mycat.rerun_cutouts_associations = True\n",
    "mycat.make_associations()\n",
    "\n",
    "# To free memory\n",
    "del mycat \n",
    "gc.collect()"
   ]
  },
  {
   "cell_type": "code",
   "execution_count": null,
   "metadata": {},
   "outputs": [],
   "source": [
    "galaxyname = 'ngc5068'\n",
    "\n",
    "mycat = catalogue_pipeline.PyHSTHACat(galaxyname, output_dir_append='_fixediso_10pc')\n",
    "mycat.hstha_err = ISOTHRESHOLD\n",
    "mycat.rerun_all = True\n",
    "mycat.hstha_file = mycat.hstha_file.replace('.fits', '_10pc_fixednoise.fits')\n",
    "\n",
    "mycat.make_paths()\n",
    "mycat.load_files()\n",
    "mycat.get_regions()\n",
    "mycat.get_cutouts()\n",
    "mycat.make_catalogue()\n",
    "\n",
    "mycat.rerun_cutouts_associations = True\n",
    "mycat.make_associations()\n",
    "\n",
    "# To free memory\n",
    "del mycat \n",
    "gc.collect()"
   ]
  },
  {
   "cell_type": "code",
   "execution_count": null,
   "metadata": {},
   "outputs": [],
   "source": [
    "galaxyname = 'ngc7496'\n",
    "\n",
    "mycat = catalogue_pipeline.PyHSTHACat(galaxyname, output_dir_append='_fixediso_10pc')\n",
    "mycat.hstha_err = ISOTHRESHOLD\n",
    "mycat.rerun_all = True\n",
    "mycat.hstha_file = mycat.hstha_file.replace('.fits', '_10pc_fixednoise.fits')\n",
    "\n",
    "mycat.make_paths()\n",
    "mycat.load_files()\n",
    "mycat.get_regions()\n",
    "mycat.get_cutouts()\n",
    "mycat.make_catalogue()\n",
    "\n",
    "mycat.rerun_cutouts_associations = True\n",
    "mycat.make_associations()\n",
    "\n",
    "# To free memory\n",
    "del mycat \n",
    "gc.collect()"
   ]
  }
 ],
 "metadata": {
  "kernelspec": {
   "display_name": "base",
   "language": "python",
   "name": "python3"
  },
  "language_info": {
   "codemirror_mode": {
    "name": "ipython",
    "version": 3
   },
   "file_extension": ".py",
   "mimetype": "text/x-python",
   "name": "python",
   "nbconvert_exporter": "python",
   "pygments_lexer": "ipython3",
   "version": "3.9.13"
  }
 },
 "nbformat": 4,
 "nbformat_minor": 2
}
