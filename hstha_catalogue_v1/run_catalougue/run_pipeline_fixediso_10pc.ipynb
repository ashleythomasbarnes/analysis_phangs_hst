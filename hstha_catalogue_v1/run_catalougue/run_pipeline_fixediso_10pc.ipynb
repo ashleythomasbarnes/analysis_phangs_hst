{
 "cells": [
  {
   "cell_type": "code",
   "execution_count": 1,
   "metadata": {},
   "outputs": [],
   "source": [
    "# TODO Update to V4 of the catalogue..."
   ]
  },
  {
   "cell_type": "code",
   "execution_count": 2,
   "metadata": {},
   "outputs": [],
   "source": [
    "from imports import *"
   ]
  },
  {
   "cell_type": "code",
   "execution_count": 3,
   "metadata": {},
   "outputs": [],
   "source": [
    "# FIXED ISO THRESHOLD FOR ALL THE IMAGES (in per pixel units) \n",
    "ISOTHRESHOLD = 100"
   ]
  },
  {
   "cell_type": "code",
   "execution_count": 3,
   "metadata": {},
   "outputs": [
    {
     "name": "stdout",
     "output_type": "stream",
     "text": [
      "[Info] Outputting to the following:\n",
      "/Users/abarnes/Dropbox/Projects/Extragalactic/hstha_nebulae_catalogue/ic5332/\n",
      "[INFO] [get_MuseProps] Getting MUSE catalouge properties for ic5332...\n",
      "[INFO] [get_galaxyprops] Getting sample table properties for ic5332...\n",
      "[INFO] Using PSF size from header -- > 0.16 arcsec\n",
      "[INFO] Pixel scale taken as PC1_1, PC2_2\n",
      "[INFO] Pixel scale -- > 0.04 arcsec\n",
      "[INFO] Generating new DS9 region file...\n",
      "[INFO] [get_regions] Opening regions file (this may take a min)... \n",
      "[INFO] [get_regions] Getting info for 816 regions...\n",
      "[INFO] [save_pickle] Saved to /Users/abarnes/Dropbox/Projects/Extragalactic/hstha_nebulae_catalogue/ic5332/cutouts_fixediso_10pc/sample.pickel\n",
      "[INFO] Generating cutouts for hstha_hdu...\n"
     ]
    },
    {
     "name": "stderr",
     "output_type": "stream",
     "text": [
      "Cropping regions: 100%|██████████| 816/816 [00:01<00:00, 740.64it/s]\n"
     ]
    },
    {
     "name": "stdout",
     "output_type": "stream",
     "text": [
      "[INFO] [save_pickle] Saved to /Users/abarnes/Dropbox/Projects/Extragalactic/hstha_nebulae_catalogue/ic5332/cutouts_fixediso_10pc/hstha_hdu.pickel\n",
      "[INFO] Generating cutouts for musha_hdu...\n"
     ]
    },
    {
     "name": "stderr",
     "output_type": "stream",
     "text": [
      "Cropping regions: 100%|██████████| 816/816 [00:00<00:00, 991.44it/s] \n"
     ]
    },
    {
     "name": "stdout",
     "output_type": "stream",
     "text": [
      "[INFO] [save_pickle] Saved to /Users/abarnes/Dropbox/Projects/Extragalactic/hstha_nebulae_catalogue/ic5332/cutouts_fixediso_10pc/musha_hdu.pickel\n",
      "[INFO] Generating cutouts for muscat_hdu...\n"
     ]
    },
    {
     "name": "stderr",
     "output_type": "stream",
     "text": [
      "Cropping regions: 100%|██████████| 816/816 [00:00<00:00, 841.12it/s]\n"
     ]
    },
    {
     "name": "stdout",
     "output_type": "stream",
     "text": [
      "[INFO] [save_pickle] Saved to /Users/abarnes/Dropbox/Projects/Extragalactic/hstha_nebulae_catalogue/ic5332/cutouts_fixediso_10pc/muscat_hdu.pickel\n",
      "[INFO] [load_pickle] Load /Users/abarnes/Dropbox/Projects/Extragalactic/hstha_nebulae_catalogue/ic5332/cutouts_fixediso_10pc/hstha_hdu.pickel\n",
      "[INFO] [load_pickle] Load /Users/abarnes/Dropbox/Projects/Extragalactic/hstha_nebulae_catalogue/ic5332/cutouts_fixediso_10pc/musha_hdu.pickel\n",
      "[INFO] [load_pickle] Load /Users/abarnes/Dropbox/Projects/Extragalactic/hstha_nebulae_catalogue/ic5332/cutouts_fixediso_10pc/muscat_hdu.pickel\n",
      "[INFO] All HDU cutouts saved to /Users/abarnes/Dropbox/Projects/Extragalactic/hstha_nebulae_catalogue/ic5332/cutouts_fixediso_10pc/hdus_all.pickel\n",
      "[INFO] [save_pickle] Saved to /Users/abarnes/Dropbox/Projects/Extragalactic/hstha_nebulae_catalogue/ic5332/cutouts_fixediso_10pc/hdus_all.pickel\n",
      "[CATALOGUE] Running catalogue generation for: ic5332\n",
      "[INFO] [get_maskedhdus] Getting HST maps masked by MUSE catalouge...\n"
     ]
    },
    {
     "name": "stderr",
     "output_type": "stream",
     "text": [
      "Masking regions: 100%|██████████| 816/816 [00:15<00:00, 51.38it/s]\n"
     ]
    },
    {
     "name": "stdout",
     "output_type": "stream",
     "text": [
      "[INFO] [save_pickle] Saved to /Users/abarnes/Dropbox/Projects/Extragalactic/hstha_nebulae_catalogue/ic5332/cutouts_fixediso_10pc/hdus_all_withmasked.pickel\n"
     ]
    },
    {
     "name": "stderr",
     "output_type": "stream",
     "text": [
      "Get sources: 100%|██████████| 816/816 [00:01<00:00, 526.21it/s]\n"
     ]
    },
    {
     "name": "stdout",
     "output_type": "stream",
     "text": [
      "[INFO] [get_MuseProps] Getting MUSE catalouge properties for ic5332...\n"
     ]
    },
    {
     "name": "stderr",
     "output_type": "stream",
     "text": [
      "Masking regions: 100%|██████████| 816/816 [00:00<00:00, 13680.96it/s]\n",
      "Geting complexity score: 100%|██████████| 44/44 [00:00<00:00, 60.63it/s]\n",
      "Get touch flags:: 100%|██████████| 44/44 [00:00<00:00, 50.38it/s]\n"
     ]
    },
    {
     "name": "stdout",
     "output_type": "stream",
     "text": [
      "[CATALOGUE] Final properties table saved to: /Users/abarnes/Dropbox/Projects/Extragalactic/hstha_nebulae_catalogue/ic5332/catalogue_fixediso_10pc/props_all.fits\n",
      "[CATALOGUE] Masks saved to /Users/abarnes/Dropbox/Projects/Extragalactic/hstha_nebulae_catalogue/ic5332/catalogue_fixediso_10pc/ic5332_mask.fits and /Users/abarnes/Dropbox/Projects/Extragalactic/hstha_nebulae_catalogue/ic5332/catalogue_fixediso_10pc/ic5332_complexity.fits\n",
      "[CATALOGUE] DS9 regions output to /Users/abarnes/Dropbox/Projects/Extragalactic/hstha_nebulae_catalogue/ic5332/catalogue_fixediso_10pc/ic5332_mask\n",
      "[CATALOGUE] Done!\n",
      "[ASSOCIATIONS] Checking association files for galaxy ic5332 ...\n",
      "Unpacking: /Users/abarnes/Dropbox/Data/Extragalactic/catalogues/multiscale_stellar_associations/ic5332/vselect/ws8pc/PHANGS_IR4_hst_wfc3_ic5332_v1p3_multi_assoc-vselect-ws8pc-idmask.fits.gz\n",
      "[INFO] Files found for v_08pc.\n",
      "Unpacking: /Users/abarnes/Dropbox/Data/Extragalactic/catalogues/multiscale_stellar_associations/ic5332/vselect/ws16pc/PHANGS_IR4_hst_wfc3_ic5332_v1p3_multi_assoc-vselect-ws16pc-idmask.fits.gz\n",
      "[INFO] Files found for v_16pc.\n",
      "Unpacking: /Users/abarnes/Dropbox/Data/Extragalactic/catalogues/multiscale_stellar_associations/ic5332/vselect/ws32pc/PHANGS_IR4_hst_wfc3_ic5332_v1p3_multi_assoc-vselect-ws32pc-idmask.fits.gz\n",
      "[INFO] Files found for v_32pc.\n",
      "Unpacking: /Users/abarnes/Dropbox/Data/Extragalactic/catalogues/multiscale_stellar_associations/ic5332/vselect/ws64pc/PHANGS_IR4_hst_wfc3_ic5332_v1p3_multi_assoc-vselect-ws64pc-idmask.fits.gz\n",
      "[INFO] Files found for v_64pc.\n",
      "Unpacking: /Users/abarnes/Dropbox/Data/Extragalactic/catalogues/multiscale_stellar_associations/ic5332/nuvselect/ws8pc/PHANGS_IR4_hst_wfc3_ic5332_v1p3_multi_assoc-nuvselect-ws8pc-idmask.fits.gz\n",
      "[INFO] Files found for nuv_08pc.\n",
      "Unpacking: /Users/abarnes/Dropbox/Data/Extragalactic/catalogues/multiscale_stellar_associations/ic5332/nuvselect/ws16pc/PHANGS_IR4_hst_wfc3_ic5332_v1p3_multi_assoc-nuvselect-ws16pc-idmask.fits.gz\n",
      "[INFO] Files found for nuv_16pc.\n",
      "Unpacking: /Users/abarnes/Dropbox/Data/Extragalactic/catalogues/multiscale_stellar_associations/ic5332/nuvselect/ws32pc/PHANGS_IR4_hst_wfc3_ic5332_v1p3_multi_assoc-nuvselect-ws32pc-idmask.fits.gz\n",
      "[INFO] Files found for nuv_32pc.\n",
      "Unpacking: /Users/abarnes/Dropbox/Data/Extragalactic/catalogues/multiscale_stellar_associations/ic5332/nuvselect/ws64pc/PHANGS_IR4_hst_wfc3_ic5332_v1p3_multi_assoc-nuvselect-ws64pc-idmask.fits.gz\n",
      "[INFO] Files found for nuv_64pc.\n",
      "[INFO] [load_pickle] Load /Users/abarnes/Dropbox/Projects/Extragalactic/hstha_nebulae_catalogue/ic5332/cutouts_fixediso_10pc/sample.pickel\n",
      "[ASSOCIATIONS] Generating new cutouts for association masks...\n"
     ]
    },
    {
     "name": "stderr",
     "output_type": "stream",
     "text": [
      "Cropping regions: 100%|██████████| 44/44 [00:00<00:00, 639.46it/s]\n"
     ]
    },
    {
     "name": "stdout",
     "output_type": "stream",
     "text": [
      "[INFO] [save_pickle] Saved to /Users/abarnes/Dropbox/Projects/Extragalactic/hstha_nebulae_catalogue/ic5332/cutouts_fixediso_10pc/hdus_catalog_mask_new.pickel\n"
     ]
    },
    {
     "name": "stderr",
     "output_type": "stream",
     "text": [
      "Cropping regions: 100%|██████████| 44/44 [00:00<00:00, 653.12it/s]\n"
     ]
    },
    {
     "name": "stdout",
     "output_type": "stream",
     "text": [
      "[INFO] [save_pickle] Saved to /Users/abarnes/Dropbox/Projects/Extragalactic/hstha_nebulae_catalogue/ic5332/cutouts_fixediso_10pc/hdus_association_mask_new_v_08pc.pickel\n"
     ]
    },
    {
     "name": "stderr",
     "output_type": "stream",
     "text": [
      "Cropping regions: 100%|██████████| 44/44 [00:00<00:00, 674.85it/s]\n"
     ]
    },
    {
     "name": "stdout",
     "output_type": "stream",
     "text": [
      "[INFO] [save_pickle] Saved to /Users/abarnes/Dropbox/Projects/Extragalactic/hstha_nebulae_catalogue/ic5332/cutouts_fixediso_10pc/hdus_association_mask_new_v_16pc.pickel\n"
     ]
    },
    {
     "name": "stderr",
     "output_type": "stream",
     "text": [
      "Cropping regions: 100%|██████████| 44/44 [00:00<00:00, 645.38it/s]\n"
     ]
    },
    {
     "name": "stdout",
     "output_type": "stream",
     "text": [
      "[INFO] [save_pickle] Saved to /Users/abarnes/Dropbox/Projects/Extragalactic/hstha_nebulae_catalogue/ic5332/cutouts_fixediso_10pc/hdus_association_mask_new_v_32pc.pickel\n"
     ]
    },
    {
     "name": "stderr",
     "output_type": "stream",
     "text": [
      "Cropping regions: 100%|██████████| 44/44 [00:00<00:00, 653.16it/s]\n"
     ]
    },
    {
     "name": "stdout",
     "output_type": "stream",
     "text": [
      "[INFO] [save_pickle] Saved to /Users/abarnes/Dropbox/Projects/Extragalactic/hstha_nebulae_catalogue/ic5332/cutouts_fixediso_10pc/hdus_association_mask_new_v_64pc.pickel\n"
     ]
    },
    {
     "name": "stderr",
     "output_type": "stream",
     "text": [
      "Cropping regions: 100%|██████████| 44/44 [00:00<00:00, 683.98it/s]\n"
     ]
    },
    {
     "name": "stdout",
     "output_type": "stream",
     "text": [
      "[INFO] [save_pickle] Saved to /Users/abarnes/Dropbox/Projects/Extragalactic/hstha_nebulae_catalogue/ic5332/cutouts_fixediso_10pc/hdus_association_mask_new_nuv_08pc.pickel\n"
     ]
    },
    {
     "name": "stderr",
     "output_type": "stream",
     "text": [
      "Cropping regions: 100%|██████████| 44/44 [00:00<00:00, 673.31it/s]\n"
     ]
    },
    {
     "name": "stdout",
     "output_type": "stream",
     "text": [
      "[INFO] [save_pickle] Saved to /Users/abarnes/Dropbox/Projects/Extragalactic/hstha_nebulae_catalogue/ic5332/cutouts_fixediso_10pc/hdus_association_mask_new_nuv_16pc.pickel\n"
     ]
    },
    {
     "name": "stderr",
     "output_type": "stream",
     "text": [
      "Cropping regions: 100%|██████████| 44/44 [00:00<00:00, 641.68it/s]\n"
     ]
    },
    {
     "name": "stdout",
     "output_type": "stream",
     "text": [
      "[INFO] [save_pickle] Saved to /Users/abarnes/Dropbox/Projects/Extragalactic/hstha_nebulae_catalogue/ic5332/cutouts_fixediso_10pc/hdus_association_mask_new_nuv_32pc.pickel\n"
     ]
    },
    {
     "name": "stderr",
     "output_type": "stream",
     "text": [
      "Cropping regions: 100%|██████████| 44/44 [00:00<00:00, 669.42it/s]\n"
     ]
    },
    {
     "name": "stdout",
     "output_type": "stream",
     "text": [
      "[INFO] [save_pickle] Saved to /Users/abarnes/Dropbox/Projects/Extragalactic/hstha_nebulae_catalogue/ic5332/cutouts_fixediso_10pc/hdus_association_mask_new_nuv_64pc.pickel\n"
     ]
    },
    {
     "name": "stderr",
     "output_type": "stream",
     "text": [
      "Match associations:: 100%|██████████| 44/44 [00:01<00:00, 22.92it/s]\n"
     ]
    },
    {
     "name": "stdout",
     "output_type": "stream",
     "text": [
      "[ASSOCIATIONS] Final association table saved to: /Users/abarnes/Dropbox/Projects/Extragalactic/hstha_nebulae_catalogue/ic5332/catalogue_fixediso_10pc/props_all_association.fits\n",
      "Cleaning: /Users/abarnes/Dropbox/Data/Extragalactic/catalogues/multiscale_stellar_associations/ic5332/vselect/ws8pc/PHANGS_IR4_hst_wfc3_ic5332_v1p3_multi_assoc-vselect-ws8pc-idmask.fits\n",
      "Cleaning: /Users/abarnes/Dropbox/Data/Extragalactic/catalogues/multiscale_stellar_associations/ic5332/vselect/ws16pc/PHANGS_IR4_hst_wfc3_ic5332_v1p3_multi_assoc-vselect-ws16pc-idmask.fits\n",
      "Cleaning: /Users/abarnes/Dropbox/Data/Extragalactic/catalogues/multiscale_stellar_associations/ic5332/vselect/ws32pc/PHANGS_IR4_hst_wfc3_ic5332_v1p3_multi_assoc-vselect-ws32pc-idmask.fits\n",
      "Cleaning: /Users/abarnes/Dropbox/Data/Extragalactic/catalogues/multiscale_stellar_associations/ic5332/vselect/ws64pc/PHANGS_IR4_hst_wfc3_ic5332_v1p3_multi_assoc-vselect-ws64pc-idmask.fits\n",
      "Cleaning: /Users/abarnes/Dropbox/Data/Extragalactic/catalogues/multiscale_stellar_associations/ic5332/nuvselect/ws8pc/PHANGS_IR4_hst_wfc3_ic5332_v1p3_multi_assoc-nuvselect-ws8pc-idmask.fits\n",
      "Cleaning: /Users/abarnes/Dropbox/Data/Extragalactic/catalogues/multiscale_stellar_associations/ic5332/nuvselect/ws16pc/PHANGS_IR4_hst_wfc3_ic5332_v1p3_multi_assoc-nuvselect-ws16pc-idmask.fits\n",
      "Cleaning: /Users/abarnes/Dropbox/Data/Extragalactic/catalogues/multiscale_stellar_associations/ic5332/nuvselect/ws32pc/PHANGS_IR4_hst_wfc3_ic5332_v1p3_multi_assoc-nuvselect-ws32pc-idmask.fits\n",
      "Cleaning: /Users/abarnes/Dropbox/Data/Extragalactic/catalogues/multiscale_stellar_associations/ic5332/nuvselect/ws64pc/PHANGS_IR4_hst_wfc3_ic5332_v1p3_multi_assoc-nuvselect-ws64pc-idmask.fits\n"
     ]
    },
    {
     "data": {
      "text/plain": [
       "21078"
      ]
     },
     "execution_count": 3,
     "metadata": {},
     "output_type": "execute_result"
    }
   ],
   "source": [
    "galaxyname = 'ic5332'\n",
    "\n",
    "mycat = catalogue_pipeline.PyHSTHACat(galaxyname, output_dir_append='_fixediso_10pc')\n",
    "mycat.hstha_err = ISOTHRESHOLD\n",
    "mycat.rerun_all = True\n",
    "mycat.hstha_file = mycat.hstha_file.replace('.fits', '_10pc_fixednoise.fits')\n",
    "\n",
    "mycat.make_paths()\n",
    "mycat.load_files()\n",
    "mycat.get_regions()\n",
    "mycat.get_cutouts()\n",
    "mycat.make_catalogue()\n",
    "\n",
    "mycat.rerun_cutouts_associations = True\n",
    "mycat.make_associations()\n",
    "\n",
    "# To free memory\n",
    "del mycat \n",
    "gc.collect()"
   ]
  },
  {
   "cell_type": "code",
   "execution_count": 4,
   "metadata": {},
   "outputs": [
    {
     "name": "stdout",
     "output_type": "stream",
     "text": [
      "[Info] Outputting to the following:\n",
      "/Users/abarnes/Dropbox/Projects/Extragalactic/hstha_nebulae_catalogue/ngc628c/\n",
      "[INFO] [get_MuseProps] Getting MUSE catalouge properties for ngc0628...\n",
      "[INFO] [get_galaxyprops] Getting sample table properties for ngc0628...\n",
      "[INFO] Using PSF size from header -- > 0.15 arcsec\n",
      "[INFO] Pixel scale taken as PC1_1, PC2_2\n",
      "[INFO] Pixel scale -- > 0.04 arcsec\n",
      "[INFO] Generating new DS9 region file...\n",
      "[INFO] [get_regions] Opening regions file (this may take a min)... \n",
      "[INFO] [get_regions] Getting info for 2869 regions...\n",
      "[INFO] [save_pickle] Saved to /Users/abarnes/Dropbox/Projects/Extragalactic/hstha_nebulae_catalogue/ngc628c/cutouts_fixediso_10pc/sample.pickel\n",
      "[INFO] Generating cutouts for hstha_hdu...\n"
     ]
    },
    {
     "name": "stderr",
     "output_type": "stream",
     "text": [
      "Cropping regions: 100%|██████████| 2869/2869 [00:04<00:00, 653.45it/s]\n"
     ]
    },
    {
     "name": "stdout",
     "output_type": "stream",
     "text": [
      "[INFO] [save_pickle] Saved to /Users/abarnes/Dropbox/Projects/Extragalactic/hstha_nebulae_catalogue/ngc628c/cutouts_fixediso_10pc/hstha_hdu.pickel\n",
      "[INFO] Generating cutouts for musha_hdu...\n"
     ]
    },
    {
     "name": "stderr",
     "output_type": "stream",
     "text": [
      "Cropping regions: 100%|██████████| 2869/2869 [00:03<00:00, 951.83it/s]\n"
     ]
    },
    {
     "name": "stdout",
     "output_type": "stream",
     "text": [
      "[INFO] [save_pickle] Saved to /Users/abarnes/Dropbox/Projects/Extragalactic/hstha_nebulae_catalogue/ngc628c/cutouts_fixediso_10pc/musha_hdu.pickel\n",
      "[INFO] Generating cutouts for muscat_hdu...\n"
     ]
    },
    {
     "name": "stderr",
     "output_type": "stream",
     "text": [
      "Cropping regions: 100%|██████████| 2869/2869 [00:03<00:00, 892.30it/s]\n"
     ]
    },
    {
     "name": "stdout",
     "output_type": "stream",
     "text": [
      "[INFO] [save_pickle] Saved to /Users/abarnes/Dropbox/Projects/Extragalactic/hstha_nebulae_catalogue/ngc628c/cutouts_fixediso_10pc/muscat_hdu.pickel\n",
      "[INFO] [load_pickle] Load /Users/abarnes/Dropbox/Projects/Extragalactic/hstha_nebulae_catalogue/ngc628c/cutouts_fixediso_10pc/hstha_hdu.pickel\n",
      "[INFO] [load_pickle] Load /Users/abarnes/Dropbox/Projects/Extragalactic/hstha_nebulae_catalogue/ngc628c/cutouts_fixediso_10pc/musha_hdu.pickel\n",
      "[INFO] [load_pickle] Load /Users/abarnes/Dropbox/Projects/Extragalactic/hstha_nebulae_catalogue/ngc628c/cutouts_fixediso_10pc/muscat_hdu.pickel\n",
      "[INFO] All HDU cutouts saved to /Users/abarnes/Dropbox/Projects/Extragalactic/hstha_nebulae_catalogue/ngc628c/cutouts_fixediso_10pc/hdus_all.pickel\n",
      "[INFO] [save_pickle] Saved to /Users/abarnes/Dropbox/Projects/Extragalactic/hstha_nebulae_catalogue/ngc628c/cutouts_fixediso_10pc/hdus_all.pickel\n",
      "[CATALOGUE] Running catalogue generation for: ngc0628\n",
      "[INFO] [get_maskedhdus] Getting HST maps masked by MUSE catalouge...\n"
     ]
    },
    {
     "name": "stderr",
     "output_type": "stream",
     "text": [
      "Masking regions: 100%|██████████| 2869/2869 [01:01<00:00, 46.30it/s]\n"
     ]
    },
    {
     "name": "stdout",
     "output_type": "stream",
     "text": [
      "[INFO] [save_pickle] Saved to /Users/abarnes/Dropbox/Projects/Extragalactic/hstha_nebulae_catalogue/ngc628c/cutouts_fixediso_10pc/hdus_all_withmasked.pickel\n"
     ]
    },
    {
     "name": "stderr",
     "output_type": "stream",
     "text": [
      "Get sources: 100%|██████████| 2869/2869 [00:07<00:00, 406.36it/s]\n"
     ]
    },
    {
     "name": "stdout",
     "output_type": "stream",
     "text": [
      "[INFO] [get_MuseProps] Getting MUSE catalouge properties for ngc0628...\n"
     ]
    },
    {
     "name": "stderr",
     "output_type": "stream",
     "text": [
      "Masking regions: 100%|██████████| 2869/2869 [00:00<00:00, 8144.78it/s]\n",
      "Geting complexity score: 100%|██████████| 258/258 [00:05<00:00, 46.74it/s]\n",
      "Get touch flags:: 100%|██████████| 258/258 [00:05<00:00, 46.24it/s]\n"
     ]
    },
    {
     "name": "stdout",
     "output_type": "stream",
     "text": [
      "[CATALOGUE] Final properties table saved to: /Users/abarnes/Dropbox/Projects/Extragalactic/hstha_nebulae_catalogue/ngc628c/catalogue_fixediso_10pc/props_all.fits\n",
      "[CATALOGUE] Masks saved to /Users/abarnes/Dropbox/Projects/Extragalactic/hstha_nebulae_catalogue/ngc628c/catalogue_fixediso_10pc/ngc0628_mask.fits and /Users/abarnes/Dropbox/Projects/Extragalactic/hstha_nebulae_catalogue/ngc628c/catalogue_fixediso_10pc/ngc0628_complexity.fits\n",
      "[CATALOGUE] DS9 regions output to /Users/abarnes/Dropbox/Projects/Extragalactic/hstha_nebulae_catalogue/ngc628c/catalogue_fixediso_10pc/ngc0628_mask\n",
      "[CATALOGUE] Done!\n",
      "[ASSOCIATIONS] Checking association files for galaxy ngc0628 ...\n",
      "Unpacking: /Users/abarnes/Dropbox/Data/Extragalactic/catalogues/multiscale_stellar_associations/ngc628/vselect/ws8pc/PHANGS_IR4_hst_wfc3_ngc628_v1p3_multi_assoc-vselect-ws8pc-idmask.fits.gz\n",
      "[INFO] Files found for v_08pc.\n",
      "Unpacking: /Users/abarnes/Dropbox/Data/Extragalactic/catalogues/multiscale_stellar_associations/ngc628/vselect/ws16pc/PHANGS_IR4_hst_wfc3_ngc628_v1p3_multi_assoc-vselect-ws16pc-idmask.fits.gz\n",
      "[INFO] Files found for v_16pc.\n",
      "Unpacking: /Users/abarnes/Dropbox/Data/Extragalactic/catalogues/multiscale_stellar_associations/ngc628/vselect/ws32pc/PHANGS_IR4_hst_wfc3_ngc628_v1p3_multi_assoc-vselect-ws32pc-idmask.fits.gz\n",
      "[INFO] Files found for v_32pc.\n",
      "Unpacking: /Users/abarnes/Dropbox/Data/Extragalactic/catalogues/multiscale_stellar_associations/ngc628/vselect/ws64pc/PHANGS_IR4_hst_wfc3_ngc628_v1p3_multi_assoc-vselect-ws64pc-idmask.fits.gz\n",
      "[INFO] Files found for v_64pc.\n",
      "Unpacking: /Users/abarnes/Dropbox/Data/Extragalactic/catalogues/multiscale_stellar_associations/ngc628/nuvselect/ws8pc/PHANGS_IR4_hst_wfc3_ngc628_v1p3_multi_assoc-nuvselect-ws8pc-idmask.fits.gz\n",
      "[INFO] Files found for nuv_08pc.\n",
      "Unpacking: /Users/abarnes/Dropbox/Data/Extragalactic/catalogues/multiscale_stellar_associations/ngc628/nuvselect/ws16pc/PHANGS_IR4_hst_wfc3_ngc628_v1p3_multi_assoc-nuvselect-ws16pc-idmask.fits.gz\n",
      "[INFO] Files found for nuv_16pc.\n",
      "Unpacking: /Users/abarnes/Dropbox/Data/Extragalactic/catalogues/multiscale_stellar_associations/ngc628/nuvselect/ws32pc/PHANGS_IR4_hst_wfc3_ngc628_v1p3_multi_assoc-nuvselect-ws32pc-idmask.fits.gz\n",
      "[INFO] Files found for nuv_32pc.\n",
      "Unpacking: /Users/abarnes/Dropbox/Data/Extragalactic/catalogues/multiscale_stellar_associations/ngc628/nuvselect/ws64pc/PHANGS_IR4_hst_wfc3_ngc628_v1p3_multi_assoc-nuvselect-ws64pc-idmask.fits.gz\n",
      "[INFO] Files found for nuv_64pc.\n",
      "[INFO] [load_pickle] Load /Users/abarnes/Dropbox/Projects/Extragalactic/hstha_nebulae_catalogue/ngc628c/cutouts_fixediso_10pc/sample.pickel\n",
      "[ASSOCIATIONS] Generating new cutouts for association masks...\n"
     ]
    },
    {
     "name": "stderr",
     "output_type": "stream",
     "text": [
      "Cropping regions: 100%|██████████| 258/258 [00:00<00:00, 622.42it/s]\n"
     ]
    },
    {
     "name": "stdout",
     "output_type": "stream",
     "text": [
      "[INFO] [save_pickle] Saved to /Users/abarnes/Dropbox/Projects/Extragalactic/hstha_nebulae_catalogue/ngc628c/cutouts_fixediso_10pc/hdus_catalog_mask_new.pickel\n"
     ]
    },
    {
     "name": "stderr",
     "output_type": "stream",
     "text": [
      "Cropping regions: 100%|██████████| 258/258 [00:00<00:00, 787.67it/s]\n"
     ]
    },
    {
     "name": "stdout",
     "output_type": "stream",
     "text": [
      "[INFO] [save_pickle] Saved to /Users/abarnes/Dropbox/Projects/Extragalactic/hstha_nebulae_catalogue/ngc628c/cutouts_fixediso_10pc/hdus_association_mask_new_v_08pc.pickel\n"
     ]
    },
    {
     "name": "stderr",
     "output_type": "stream",
     "text": [
      "Cropping regions: 100%|██████████| 258/258 [00:00<00:00, 712.17it/s]\n"
     ]
    },
    {
     "name": "stdout",
     "output_type": "stream",
     "text": [
      "[INFO] [save_pickle] Saved to /Users/abarnes/Dropbox/Projects/Extragalactic/hstha_nebulae_catalogue/ngc628c/cutouts_fixediso_10pc/hdus_association_mask_new_v_16pc.pickel\n"
     ]
    },
    {
     "name": "stderr",
     "output_type": "stream",
     "text": [
      "Cropping regions: 100%|██████████| 258/258 [00:00<00:00, 731.66it/s]\n"
     ]
    },
    {
     "name": "stdout",
     "output_type": "stream",
     "text": [
      "[INFO] [save_pickle] Saved to /Users/abarnes/Dropbox/Projects/Extragalactic/hstha_nebulae_catalogue/ngc628c/cutouts_fixediso_10pc/hdus_association_mask_new_v_32pc.pickel\n"
     ]
    },
    {
     "name": "stderr",
     "output_type": "stream",
     "text": [
      "Cropping regions: 100%|██████████| 258/258 [00:00<00:00, 778.63it/s]\n"
     ]
    },
    {
     "name": "stdout",
     "output_type": "stream",
     "text": [
      "[INFO] [save_pickle] Saved to /Users/abarnes/Dropbox/Projects/Extragalactic/hstha_nebulae_catalogue/ngc628c/cutouts_fixediso_10pc/hdus_association_mask_new_v_64pc.pickel\n"
     ]
    },
    {
     "name": "stderr",
     "output_type": "stream",
     "text": [
      "Cropping regions: 100%|██████████| 258/258 [00:00<00:00, 748.53it/s]\n"
     ]
    },
    {
     "name": "stdout",
     "output_type": "stream",
     "text": [
      "[INFO] [save_pickle] Saved to /Users/abarnes/Dropbox/Projects/Extragalactic/hstha_nebulae_catalogue/ngc628c/cutouts_fixediso_10pc/hdus_association_mask_new_nuv_08pc.pickel\n"
     ]
    },
    {
     "name": "stderr",
     "output_type": "stream",
     "text": [
      "Cropping regions: 100%|██████████| 258/258 [00:00<00:00, 668.39it/s]\n"
     ]
    },
    {
     "name": "stdout",
     "output_type": "stream",
     "text": [
      "[INFO] [save_pickle] Saved to /Users/abarnes/Dropbox/Projects/Extragalactic/hstha_nebulae_catalogue/ngc628c/cutouts_fixediso_10pc/hdus_association_mask_new_nuv_16pc.pickel\n"
     ]
    },
    {
     "name": "stderr",
     "output_type": "stream",
     "text": [
      "Cropping regions: 100%|██████████| 258/258 [00:00<00:00, 762.12it/s]\n"
     ]
    },
    {
     "name": "stdout",
     "output_type": "stream",
     "text": [
      "[INFO] [save_pickle] Saved to /Users/abarnes/Dropbox/Projects/Extragalactic/hstha_nebulae_catalogue/ngc628c/cutouts_fixediso_10pc/hdus_association_mask_new_nuv_32pc.pickel\n"
     ]
    },
    {
     "name": "stderr",
     "output_type": "stream",
     "text": [
      "Cropping regions: 100%|██████████| 258/258 [00:00<00:00, 736.15it/s]\n"
     ]
    },
    {
     "name": "stdout",
     "output_type": "stream",
     "text": [
      "[INFO] [save_pickle] Saved to /Users/abarnes/Dropbox/Projects/Extragalactic/hstha_nebulae_catalogue/ngc628c/cutouts_fixediso_10pc/hdus_association_mask_new_nuv_64pc.pickel\n"
     ]
    },
    {
     "name": "stderr",
     "output_type": "stream",
     "text": [
      "Match associations:: 100%|██████████| 258/258 [00:13<00:00, 19.05it/s]\n"
     ]
    },
    {
     "name": "stdout",
     "output_type": "stream",
     "text": [
      "[ASSOCIATIONS] Final association table saved to: /Users/abarnes/Dropbox/Projects/Extragalactic/hstha_nebulae_catalogue/ngc628c/catalogue_fixediso_10pc/props_all_association.fits\n",
      "Cleaning: /Users/abarnes/Dropbox/Data/Extragalactic/catalogues/multiscale_stellar_associations/ngc628/vselect/ws8pc/PHANGS_IR4_hst_wfc3_ngc628_v1p3_multi_assoc-vselect-ws8pc-idmask.fits\n",
      "Cleaning: /Users/abarnes/Dropbox/Data/Extragalactic/catalogues/multiscale_stellar_associations/ngc628/vselect/ws16pc/PHANGS_IR4_hst_wfc3_ngc628_v1p3_multi_assoc-vselect-ws16pc-idmask.fits\n",
      "Cleaning: /Users/abarnes/Dropbox/Data/Extragalactic/catalogues/multiscale_stellar_associations/ngc628/vselect/ws32pc/PHANGS_IR4_hst_wfc3_ngc628_v1p3_multi_assoc-vselect-ws32pc-idmask.fits\n",
      "Cleaning: /Users/abarnes/Dropbox/Data/Extragalactic/catalogues/multiscale_stellar_associations/ngc628/vselect/ws64pc/PHANGS_IR4_hst_wfc3_ngc628_v1p3_multi_assoc-vselect-ws64pc-idmask.fits\n",
      "Cleaning: /Users/abarnes/Dropbox/Data/Extragalactic/catalogues/multiscale_stellar_associations/ngc628/nuvselect/ws8pc/PHANGS_IR4_hst_wfc3_ngc628_v1p3_multi_assoc-nuvselect-ws8pc-idmask.fits\n",
      "Cleaning: /Users/abarnes/Dropbox/Data/Extragalactic/catalogues/multiscale_stellar_associations/ngc628/nuvselect/ws16pc/PHANGS_IR4_hst_wfc3_ngc628_v1p3_multi_assoc-nuvselect-ws16pc-idmask.fits\n",
      "Cleaning: /Users/abarnes/Dropbox/Data/Extragalactic/catalogues/multiscale_stellar_associations/ngc628/nuvselect/ws32pc/PHANGS_IR4_hst_wfc3_ngc628_v1p3_multi_assoc-nuvselect-ws32pc-idmask.fits\n",
      "Cleaning: /Users/abarnes/Dropbox/Data/Extragalactic/catalogues/multiscale_stellar_associations/ngc628/nuvselect/ws64pc/PHANGS_IR4_hst_wfc3_ngc628_v1p3_multi_assoc-nuvselect-ws64pc-idmask.fits\n"
     ]
    },
    {
     "data": {
      "text/plain": [
       "26849"
      ]
     },
     "execution_count": 4,
     "metadata": {},
     "output_type": "execute_result"
    }
   ],
   "source": [
    "galaxyname = 'ngc0628'\n",
    "galaxyname_hst = 'ngc628c'\n",
    "galaxyname_cat = 'ngc628'\n",
    "\n",
    "mycat = catalogue_pipeline.PyHSTHACat(galaxyname, galaxyname_hst, galaxyname_cat, output_dir_append='_fixediso_10pc')\n",
    "mycat.hstha_err = ISOTHRESHOLD\n",
    "mycat.rerun_all = True\n",
    "mycat.hstha_file = mycat.hstha_file.replace('.fits', '_10pc_fixednoise.fits')\n",
    "\n",
    "mycat.make_paths()\n",
    "mycat.load_files()\n",
    "mycat.get_regions()\n",
    "mycat.get_cutouts()\n",
    "mycat.make_catalogue()\n",
    "\n",
    "mycat.rerun_cutouts_associations = True\n",
    "mycat.make_associations()\n",
    "\n",
    "# To free memory\n",
    "del mycat \n",
    "gc.collect()"
   ]
  },
  {
   "cell_type": "code",
   "execution_count": 5,
   "metadata": {},
   "outputs": [
    {
     "name": "stdout",
     "output_type": "stream",
     "text": [
      "[Info] Outputting to the following:\n",
      "/Users/abarnes/Dropbox/Projects/Extragalactic/hstha_nebulae_catalogue/ngc1087/\n",
      "[INFO] [get_MuseProps] Getting MUSE catalouge properties for ngc1087...\n",
      "[INFO] [get_galaxyprops] Getting sample table properties for ngc1087...\n",
      "[INFO] Using PSF size from header -- > 0.09 arcsec\n",
      "[INFO] Pixel scale taken as CDELT1, CDELT2\n",
      "[INFO] Pixel scale -- > 0.04 arcsec\n",
      "[INFO] Generating new DS9 region file...\n",
      "[INFO] [get_regions] Opening regions file (this may take a min)... \n",
      "[INFO] [get_regions] Getting info for 1011 regions...\n",
      "[INFO] [save_pickle] Saved to /Users/abarnes/Dropbox/Projects/Extragalactic/hstha_nebulae_catalogue/ngc1087/cutouts_fixediso_10pc/sample.pickel\n",
      "[INFO] Generating cutouts for hstha_hdu...\n"
     ]
    },
    {
     "name": "stderr",
     "output_type": "stream",
     "text": [
      "Cropping regions: 100%|██████████| 1011/1011 [00:01<00:00, 726.85it/s]\n"
     ]
    },
    {
     "name": "stdout",
     "output_type": "stream",
     "text": [
      "[INFO] [save_pickle] Saved to /Users/abarnes/Dropbox/Projects/Extragalactic/hstha_nebulae_catalogue/ngc1087/cutouts_fixediso_10pc/hstha_hdu.pickel\n",
      "[INFO] Generating cutouts for musha_hdu...\n"
     ]
    },
    {
     "name": "stderr",
     "output_type": "stream",
     "text": [
      "Cropping regions: 100%|██████████| 1011/1011 [00:01<00:00, 969.58it/s]\n"
     ]
    },
    {
     "name": "stdout",
     "output_type": "stream",
     "text": [
      "[INFO] [save_pickle] Saved to /Users/abarnes/Dropbox/Projects/Extragalactic/hstha_nebulae_catalogue/ngc1087/cutouts_fixediso_10pc/musha_hdu.pickel\n",
      "[INFO] Generating cutouts for muscat_hdu...\n"
     ]
    },
    {
     "name": "stderr",
     "output_type": "stream",
     "text": [
      "Cropping regions: 100%|██████████| 1011/1011 [00:01<00:00, 875.95it/s]\n"
     ]
    },
    {
     "name": "stdout",
     "output_type": "stream",
     "text": [
      "[INFO] [save_pickle] Saved to /Users/abarnes/Dropbox/Projects/Extragalactic/hstha_nebulae_catalogue/ngc1087/cutouts_fixediso_10pc/muscat_hdu.pickel\n",
      "[INFO] [load_pickle] Load /Users/abarnes/Dropbox/Projects/Extragalactic/hstha_nebulae_catalogue/ngc1087/cutouts_fixediso_10pc/hstha_hdu.pickel\n",
      "[INFO] [load_pickle] Load /Users/abarnes/Dropbox/Projects/Extragalactic/hstha_nebulae_catalogue/ngc1087/cutouts_fixediso_10pc/musha_hdu.pickel\n",
      "[INFO] [load_pickle] Load /Users/abarnes/Dropbox/Projects/Extragalactic/hstha_nebulae_catalogue/ngc1087/cutouts_fixediso_10pc/muscat_hdu.pickel\n",
      "[INFO] All HDU cutouts saved to /Users/abarnes/Dropbox/Projects/Extragalactic/hstha_nebulae_catalogue/ngc1087/cutouts_fixediso_10pc/hdus_all.pickel\n",
      "[INFO] [save_pickle] Saved to /Users/abarnes/Dropbox/Projects/Extragalactic/hstha_nebulae_catalogue/ngc1087/cutouts_fixediso_10pc/hdus_all.pickel\n",
      "[CATALOGUE] Running catalogue generation for: ngc1087\n",
      "[INFO] [get_maskedhdus] Getting HST maps masked by MUSE catalouge...\n"
     ]
    },
    {
     "name": "stderr",
     "output_type": "stream",
     "text": [
      "Masking regions: 100%|██████████| 1011/1011 [00:21<00:00, 46.94it/s]\n"
     ]
    },
    {
     "name": "stdout",
     "output_type": "stream",
     "text": [
      "[INFO] [save_pickle] Saved to /Users/abarnes/Dropbox/Projects/Extragalactic/hstha_nebulae_catalogue/ngc1087/cutouts_fixediso_10pc/hdus_all_withmasked.pickel\n"
     ]
    },
    {
     "name": "stderr",
     "output_type": "stream",
     "text": [
      "Get sources: 100%|██████████| 1011/1011 [00:07<00:00, 144.26it/s]\n"
     ]
    },
    {
     "name": "stdout",
     "output_type": "stream",
     "text": [
      "[INFO] [get_MuseProps] Getting MUSE catalouge properties for ngc1087...\n"
     ]
    },
    {
     "name": "stderr",
     "output_type": "stream",
     "text": [
      "Masking regions: 100%|██████████| 1011/1011 [00:00<00:00, 3031.48it/s]\n",
      "Geting complexity score: 100%|██████████| 279/279 [00:04<00:00, 61.83it/s]\n",
      "Get touch flags:: 100%|██████████| 279/279 [00:05<00:00, 55.67it/s]\n"
     ]
    },
    {
     "name": "stdout",
     "output_type": "stream",
     "text": [
      "[CATALOGUE] Final properties table saved to: /Users/abarnes/Dropbox/Projects/Extragalactic/hstha_nebulae_catalogue/ngc1087/catalogue_fixediso_10pc/props_all.fits\n",
      "[CATALOGUE] Masks saved to /Users/abarnes/Dropbox/Projects/Extragalactic/hstha_nebulae_catalogue/ngc1087/catalogue_fixediso_10pc/ngc1087_mask.fits and /Users/abarnes/Dropbox/Projects/Extragalactic/hstha_nebulae_catalogue/ngc1087/catalogue_fixediso_10pc/ngc1087_complexity.fits\n",
      "[CATALOGUE] DS9 regions output to /Users/abarnes/Dropbox/Projects/Extragalactic/hstha_nebulae_catalogue/ngc1087/catalogue_fixediso_10pc/ngc1087_mask\n",
      "[CATALOGUE] Done!\n",
      "[ASSOCIATIONS] Checking association files for galaxy ngc1087 ...\n",
      "Unpacking: /Users/abarnes/Dropbox/Data/Extragalactic/catalogues/multiscale_stellar_associations/ngc1087/vselect/ws8pc/PHANGS_IR4_hst_wfc3_ngc1087_v1p3_multi_assoc-vselect-ws8pc-idmask.fits.gz\n",
      "[INFO] Files found for v_08pc.\n",
      "Unpacking: /Users/abarnes/Dropbox/Data/Extragalactic/catalogues/multiscale_stellar_associations/ngc1087/vselect/ws16pc/PHANGS_IR4_hst_wfc3_ngc1087_v1p3_multi_assoc-vselect-ws16pc-idmask.fits.gz\n",
      "[INFO] Files found for v_16pc.\n",
      "Unpacking: /Users/abarnes/Dropbox/Data/Extragalactic/catalogues/multiscale_stellar_associations/ngc1087/vselect/ws32pc/PHANGS_IR4_hst_wfc3_ngc1087_v1p3_multi_assoc-vselect-ws32pc-idmask.fits.gz\n",
      "[INFO] Files found for v_32pc.\n",
      "Unpacking: /Users/abarnes/Dropbox/Data/Extragalactic/catalogues/multiscale_stellar_associations/ngc1087/vselect/ws64pc/PHANGS_IR4_hst_wfc3_ngc1087_v1p3_multi_assoc-vselect-ws64pc-idmask.fits.gz\n",
      "[INFO] Files found for v_64pc.\n",
      "Unpacking: /Users/abarnes/Dropbox/Data/Extragalactic/catalogues/multiscale_stellar_associations/ngc1087/nuvselect/ws8pc/PHANGS_IR4_hst_wfc3_ngc1087_v1p3_multi_assoc-nuvselect-ws8pc-idmask.fits.gz\n",
      "[INFO] Files found for nuv_08pc.\n",
      "Unpacking: /Users/abarnes/Dropbox/Data/Extragalactic/catalogues/multiscale_stellar_associations/ngc1087/nuvselect/ws16pc/PHANGS_IR4_hst_wfc3_ngc1087_v1p3_multi_assoc-nuvselect-ws16pc-idmask.fits.gz\n",
      "[INFO] Files found for nuv_16pc.\n",
      "Unpacking: /Users/abarnes/Dropbox/Data/Extragalactic/catalogues/multiscale_stellar_associations/ngc1087/nuvselect/ws32pc/PHANGS_IR4_hst_wfc3_ngc1087_v1p3_multi_assoc-nuvselect-ws32pc-idmask.fits.gz\n",
      "[INFO] Files found for nuv_32pc.\n",
      "Unpacking: /Users/abarnes/Dropbox/Data/Extragalactic/catalogues/multiscale_stellar_associations/ngc1087/nuvselect/ws64pc/PHANGS_IR4_hst_wfc3_ngc1087_v1p3_multi_assoc-nuvselect-ws64pc-idmask.fits.gz\n",
      "[INFO] Files found for nuv_64pc.\n",
      "[INFO] [load_pickle] Load /Users/abarnes/Dropbox/Projects/Extragalactic/hstha_nebulae_catalogue/ngc1087/cutouts_fixediso_10pc/sample.pickel\n",
      "[ASSOCIATIONS] Generating new cutouts for association masks...\n"
     ]
    },
    {
     "name": "stderr",
     "output_type": "stream",
     "text": [
      "Cropping regions: 100%|██████████| 279/279 [00:00<00:00, 641.93it/s]\n"
     ]
    },
    {
     "name": "stdout",
     "output_type": "stream",
     "text": [
      "[INFO] [save_pickle] Saved to /Users/abarnes/Dropbox/Projects/Extragalactic/hstha_nebulae_catalogue/ngc1087/cutouts_fixediso_10pc/hdus_catalog_mask_new.pickel\n"
     ]
    },
    {
     "name": "stderr",
     "output_type": "stream",
     "text": [
      "Cropping regions: 100%|██████████| 279/279 [00:00<00:00, 653.85it/s]\n"
     ]
    },
    {
     "name": "stdout",
     "output_type": "stream",
     "text": [
      "[INFO] [save_pickle] Saved to /Users/abarnes/Dropbox/Projects/Extragalactic/hstha_nebulae_catalogue/ngc1087/cutouts_fixediso_10pc/hdus_association_mask_new_v_08pc.pickel\n"
     ]
    },
    {
     "name": "stderr",
     "output_type": "stream",
     "text": [
      "Cropping regions: 100%|██████████| 279/279 [00:00<00:00, 710.84it/s]\n"
     ]
    },
    {
     "name": "stdout",
     "output_type": "stream",
     "text": [
      "[INFO] [save_pickle] Saved to /Users/abarnes/Dropbox/Projects/Extragalactic/hstha_nebulae_catalogue/ngc1087/cutouts_fixediso_10pc/hdus_association_mask_new_v_16pc.pickel\n"
     ]
    },
    {
     "name": "stderr",
     "output_type": "stream",
     "text": [
      "Cropping regions: 100%|██████████| 279/279 [00:00<00:00, 762.57it/s]\n"
     ]
    },
    {
     "name": "stdout",
     "output_type": "stream",
     "text": [
      "[INFO] [save_pickle] Saved to /Users/abarnes/Dropbox/Projects/Extragalactic/hstha_nebulae_catalogue/ngc1087/cutouts_fixediso_10pc/hdus_association_mask_new_v_32pc.pickel\n"
     ]
    },
    {
     "name": "stderr",
     "output_type": "stream",
     "text": [
      "Cropping regions: 100%|██████████| 279/279 [00:00<00:00, 749.13it/s]\n"
     ]
    },
    {
     "name": "stdout",
     "output_type": "stream",
     "text": [
      "[INFO] [save_pickle] Saved to /Users/abarnes/Dropbox/Projects/Extragalactic/hstha_nebulae_catalogue/ngc1087/cutouts_fixediso_10pc/hdus_association_mask_new_v_64pc.pickel\n"
     ]
    },
    {
     "name": "stderr",
     "output_type": "stream",
     "text": [
      "Cropping regions: 100%|██████████| 279/279 [00:00<00:00, 678.57it/s]\n"
     ]
    },
    {
     "name": "stdout",
     "output_type": "stream",
     "text": [
      "[INFO] [save_pickle] Saved to /Users/abarnes/Dropbox/Projects/Extragalactic/hstha_nebulae_catalogue/ngc1087/cutouts_fixediso_10pc/hdus_association_mask_new_nuv_08pc.pickel\n"
     ]
    },
    {
     "name": "stderr",
     "output_type": "stream",
     "text": [
      "Cropping regions: 100%|██████████| 279/279 [00:00<00:00, 724.96it/s]\n"
     ]
    },
    {
     "name": "stdout",
     "output_type": "stream",
     "text": [
      "[INFO] [save_pickle] Saved to /Users/abarnes/Dropbox/Projects/Extragalactic/hstha_nebulae_catalogue/ngc1087/cutouts_fixediso_10pc/hdus_association_mask_new_nuv_16pc.pickel\n"
     ]
    },
    {
     "name": "stderr",
     "output_type": "stream",
     "text": [
      "Cropping regions: 100%|██████████| 279/279 [00:00<00:00, 720.87it/s]\n"
     ]
    },
    {
     "name": "stdout",
     "output_type": "stream",
     "text": [
      "[INFO] [save_pickle] Saved to /Users/abarnes/Dropbox/Projects/Extragalactic/hstha_nebulae_catalogue/ngc1087/cutouts_fixediso_10pc/hdus_association_mask_new_nuv_32pc.pickel\n"
     ]
    },
    {
     "name": "stderr",
     "output_type": "stream",
     "text": [
      "Cropping regions: 100%|██████████| 279/279 [00:00<00:00, 726.61it/s]\n"
     ]
    },
    {
     "name": "stdout",
     "output_type": "stream",
     "text": [
      "[INFO] [save_pickle] Saved to /Users/abarnes/Dropbox/Projects/Extragalactic/hstha_nebulae_catalogue/ngc1087/cutouts_fixediso_10pc/hdus_association_mask_new_nuv_64pc.pickel\n"
     ]
    },
    {
     "name": "stderr",
     "output_type": "stream",
     "text": [
      "Match associations:: 100%|██████████| 279/279 [00:17<00:00, 15.58it/s]\n"
     ]
    },
    {
     "name": "stdout",
     "output_type": "stream",
     "text": [
      "[ASSOCIATIONS] Final association table saved to: /Users/abarnes/Dropbox/Projects/Extragalactic/hstha_nebulae_catalogue/ngc1087/catalogue_fixediso_10pc/props_all_association.fits\n",
      "Cleaning: /Users/abarnes/Dropbox/Data/Extragalactic/catalogues/multiscale_stellar_associations/ngc1087/vselect/ws8pc/PHANGS_IR4_hst_wfc3_ngc1087_v1p3_multi_assoc-vselect-ws8pc-idmask.fits\n",
      "Cleaning: /Users/abarnes/Dropbox/Data/Extragalactic/catalogues/multiscale_stellar_associations/ngc1087/vselect/ws16pc/PHANGS_IR4_hst_wfc3_ngc1087_v1p3_multi_assoc-vselect-ws16pc-idmask.fits\n",
      "Cleaning: /Users/abarnes/Dropbox/Data/Extragalactic/catalogues/multiscale_stellar_associations/ngc1087/vselect/ws32pc/PHANGS_IR4_hst_wfc3_ngc1087_v1p3_multi_assoc-vselect-ws32pc-idmask.fits\n",
      "Cleaning: /Users/abarnes/Dropbox/Data/Extragalactic/catalogues/multiscale_stellar_associations/ngc1087/vselect/ws64pc/PHANGS_IR4_hst_wfc3_ngc1087_v1p3_multi_assoc-vselect-ws64pc-idmask.fits\n",
      "Cleaning: /Users/abarnes/Dropbox/Data/Extragalactic/catalogues/multiscale_stellar_associations/ngc1087/nuvselect/ws8pc/PHANGS_IR4_hst_wfc3_ngc1087_v1p3_multi_assoc-nuvselect-ws8pc-idmask.fits\n",
      "Cleaning: /Users/abarnes/Dropbox/Data/Extragalactic/catalogues/multiscale_stellar_associations/ngc1087/nuvselect/ws16pc/PHANGS_IR4_hst_wfc3_ngc1087_v1p3_multi_assoc-nuvselect-ws16pc-idmask.fits\n",
      "Cleaning: /Users/abarnes/Dropbox/Data/Extragalactic/catalogues/multiscale_stellar_associations/ngc1087/nuvselect/ws32pc/PHANGS_IR4_hst_wfc3_ngc1087_v1p3_multi_assoc-nuvselect-ws32pc-idmask.fits\n",
      "Cleaning: /Users/abarnes/Dropbox/Data/Extragalactic/catalogues/multiscale_stellar_associations/ngc1087/nuvselect/ws64pc/PHANGS_IR4_hst_wfc3_ngc1087_v1p3_multi_assoc-nuvselect-ws64pc-idmask.fits\n"
     ]
    },
    {
     "data": {
      "text/plain": [
       "55503"
      ]
     },
     "execution_count": 5,
     "metadata": {},
     "output_type": "execute_result"
    }
   ],
   "source": [
    "galaxyname = 'ngc1087'\n",
    "\n",
    "mycat = catalogue_pipeline.PyHSTHACat(galaxyname, output_dir_append='_fixediso_10pc')\n",
    "mycat.hstha_err = ISOTHRESHOLD\n",
    "mycat.rerun_all = True\n",
    "mycat.hstha_file = mycat.hstha_file.replace('.fits', '_10pc_fixednoise.fits')\n",
    "\n",
    "mycat.make_paths()\n",
    "mycat.load_files()\n",
    "mycat.get_regions()\n",
    "mycat.get_cutouts()\n",
    "mycat.make_catalogue()\n",
    "\n",
    "mycat.rerun_cutouts_associations = True\n",
    "mycat.make_associations()\n",
    "\n",
    "# To free memory\n",
    "del mycat \n",
    "gc.collect()"
   ]
  },
  {
   "cell_type": "code",
   "execution_count": 6,
   "metadata": {},
   "outputs": [
    {
     "name": "stdout",
     "output_type": "stream",
     "text": [
      "[Info] Outputting to the following:\n",
      "/Users/abarnes/Dropbox/Projects/Extragalactic/hstha_nebulae_catalogue/ngc1300/\n",
      "[INFO] [get_MuseProps] Getting MUSE catalouge properties for ngc1300...\n",
      "[INFO] [get_galaxyprops] Getting sample table properties for ngc1300...\n",
      "[INFO] Using PSF size from header -- > 0.08 arcsec\n",
      "[INFO] Pixel scale taken as CDELT1, CDELT2\n",
      "[INFO] Pixel scale -- > 0.04 arcsec\n",
      "[INFO] Generating new DS9 region file...\n",
      "[INFO] [get_regions] Opening regions file (this may take a min)... \n",
      "[INFO] [get_regions] Getting info for 1478 regions...\n",
      "[INFO] [save_pickle] Saved to /Users/abarnes/Dropbox/Projects/Extragalactic/hstha_nebulae_catalogue/ngc1300/cutouts_fixediso_10pc/sample.pickel\n",
      "[INFO] Generating cutouts for hstha_hdu...\n"
     ]
    },
    {
     "name": "stderr",
     "output_type": "stream",
     "text": [
      "Cropping regions: 100%|██████████| 1478/1478 [00:02<00:00, 618.64it/s]\n"
     ]
    },
    {
     "name": "stdout",
     "output_type": "stream",
     "text": [
      "[INFO] [save_pickle] Saved to /Users/abarnes/Dropbox/Projects/Extragalactic/hstha_nebulae_catalogue/ngc1300/cutouts_fixediso_10pc/hstha_hdu.pickel\n",
      "[INFO] Generating cutouts for musha_hdu...\n"
     ]
    },
    {
     "name": "stderr",
     "output_type": "stream",
     "text": [
      "Cropping regions: 100%|██████████| 1478/1478 [00:01<00:00, 898.49it/s]\n"
     ]
    },
    {
     "name": "stdout",
     "output_type": "stream",
     "text": [
      "[INFO] [save_pickle] Saved to /Users/abarnes/Dropbox/Projects/Extragalactic/hstha_nebulae_catalogue/ngc1300/cutouts_fixediso_10pc/musha_hdu.pickel\n",
      "[INFO] Generating cutouts for muscat_hdu...\n"
     ]
    },
    {
     "name": "stderr",
     "output_type": "stream",
     "text": [
      "Cropping regions: 100%|██████████| 1478/1478 [00:01<00:00, 829.26it/s]\n"
     ]
    },
    {
     "name": "stdout",
     "output_type": "stream",
     "text": [
      "[INFO] [save_pickle] Saved to /Users/abarnes/Dropbox/Projects/Extragalactic/hstha_nebulae_catalogue/ngc1300/cutouts_fixediso_10pc/muscat_hdu.pickel\n",
      "[INFO] [load_pickle] Load /Users/abarnes/Dropbox/Projects/Extragalactic/hstha_nebulae_catalogue/ngc1300/cutouts_fixediso_10pc/hstha_hdu.pickel\n",
      "[INFO] [load_pickle] Load /Users/abarnes/Dropbox/Projects/Extragalactic/hstha_nebulae_catalogue/ngc1300/cutouts_fixediso_10pc/musha_hdu.pickel\n",
      "[INFO] [load_pickle] Load /Users/abarnes/Dropbox/Projects/Extragalactic/hstha_nebulae_catalogue/ngc1300/cutouts_fixediso_10pc/muscat_hdu.pickel\n",
      "[INFO] All HDU cutouts saved to /Users/abarnes/Dropbox/Projects/Extragalactic/hstha_nebulae_catalogue/ngc1300/cutouts_fixediso_10pc/hdus_all.pickel\n",
      "[INFO] [save_pickle] Saved to /Users/abarnes/Dropbox/Projects/Extragalactic/hstha_nebulae_catalogue/ngc1300/cutouts_fixediso_10pc/hdus_all.pickel\n",
      "[CATALOGUE] Running catalogue generation for: ngc1300\n",
      "[INFO] [get_maskedhdus] Getting HST maps masked by MUSE catalouge...\n"
     ]
    },
    {
     "name": "stderr",
     "output_type": "stream",
     "text": [
      "Masking regions: 100%|██████████| 1478/1478 [00:33<00:00, 44.20it/s]\n"
     ]
    },
    {
     "name": "stdout",
     "output_type": "stream",
     "text": [
      "[INFO] [save_pickle] Saved to /Users/abarnes/Dropbox/Projects/Extragalactic/hstha_nebulae_catalogue/ngc1300/cutouts_fixediso_10pc/hdus_all_withmasked.pickel\n"
     ]
    },
    {
     "name": "stderr",
     "output_type": "stream",
     "text": [
      "Get sources: 100%|██████████| 1478/1478 [00:04<00:00, 335.76it/s]\n"
     ]
    },
    {
     "name": "stdout",
     "output_type": "stream",
     "text": [
      "[INFO] [get_MuseProps] Getting MUSE catalouge properties for ngc1300...\n"
     ]
    },
    {
     "name": "stderr",
     "output_type": "stream",
     "text": [
      "Masking regions: 100%|██████████| 1478/1478 [00:00<00:00, 4887.71it/s]\n",
      "Geting complexity score: 100%|██████████| 242/242 [00:12<00:00, 19.20it/s]\n",
      "Get touch flags:: 100%|██████████| 242/242 [00:09<00:00, 25.37it/s]\n"
     ]
    },
    {
     "name": "stdout",
     "output_type": "stream",
     "text": [
      "[CATALOGUE] Final properties table saved to: /Users/abarnes/Dropbox/Projects/Extragalactic/hstha_nebulae_catalogue/ngc1300/catalogue_fixediso_10pc/props_all.fits\n",
      "[CATALOGUE] Masks saved to /Users/abarnes/Dropbox/Projects/Extragalactic/hstha_nebulae_catalogue/ngc1300/catalogue_fixediso_10pc/ngc1300_mask.fits and /Users/abarnes/Dropbox/Projects/Extragalactic/hstha_nebulae_catalogue/ngc1300/catalogue_fixediso_10pc/ngc1300_complexity.fits\n",
      "[CATALOGUE] DS9 regions output to /Users/abarnes/Dropbox/Projects/Extragalactic/hstha_nebulae_catalogue/ngc1300/catalogue_fixediso_10pc/ngc1300_mask\n",
      "[CATALOGUE] Done!\n",
      "[ASSOCIATIONS] Checking association files for galaxy ngc1300 ...\n",
      "File not found: /Users/abarnes/Dropbox/Data/Extragalactic/catalogues/multiscale_stellar_associations/ngc1300/vselect/ws8pc/PHANGS_IR4_hst_wfc3_ngc1300_v1p3_multi_assoc-vselect-ws8pc-idmask.fits\n",
      "[WARNING] Files missing for v_08pc. Skipping.\n",
      "Unpacking: /Users/abarnes/Dropbox/Data/Extragalactic/catalogues/multiscale_stellar_associations/ngc1300/vselect/ws16pc/PHANGS_IR4_hst_wfc3_ngc1300_v1p3_multi_assoc-vselect-ws16pc-idmask.fits.gz\n",
      "[INFO] Files found for v_16pc.\n",
      "Unpacking: /Users/abarnes/Dropbox/Data/Extragalactic/catalogues/multiscale_stellar_associations/ngc1300/vselect/ws32pc/PHANGS_IR4_hst_wfc3_ngc1300_v1p3_multi_assoc-vselect-ws32pc-idmask.fits.gz\n",
      "[INFO] Files found for v_32pc.\n",
      "Unpacking: /Users/abarnes/Dropbox/Data/Extragalactic/catalogues/multiscale_stellar_associations/ngc1300/vselect/ws64pc/PHANGS_IR4_hst_wfc3_ngc1300_v1p3_multi_assoc-vselect-ws64pc-idmask.fits.gz\n",
      "[INFO] Files found for v_64pc.\n",
      "File not found: /Users/abarnes/Dropbox/Data/Extragalactic/catalogues/multiscale_stellar_associations/ngc1300/nuvselect/ws8pc/PHANGS_IR4_hst_wfc3_ngc1300_v1p3_multi_assoc-nuvselect-ws8pc-idmask.fits\n",
      "[WARNING] Files missing for nuv_08pc. Skipping.\n",
      "Unpacking: /Users/abarnes/Dropbox/Data/Extragalactic/catalogues/multiscale_stellar_associations/ngc1300/nuvselect/ws16pc/PHANGS_IR4_hst_wfc3_ngc1300_v1p3_multi_assoc-nuvselect-ws16pc-idmask.fits.gz\n",
      "[INFO] Files found for nuv_16pc.\n",
      "Unpacking: /Users/abarnes/Dropbox/Data/Extragalactic/catalogues/multiscale_stellar_associations/ngc1300/nuvselect/ws32pc/PHANGS_IR4_hst_wfc3_ngc1300_v1p3_multi_assoc-nuvselect-ws32pc-idmask.fits.gz\n",
      "[INFO] Files found for nuv_32pc.\n",
      "Unpacking: /Users/abarnes/Dropbox/Data/Extragalactic/catalogues/multiscale_stellar_associations/ngc1300/nuvselect/ws64pc/PHANGS_IR4_hst_wfc3_ngc1300_v1p3_multi_assoc-nuvselect-ws64pc-idmask.fits.gz\n",
      "[INFO] Files found for nuv_64pc.\n",
      "[INFO] [load_pickle] Load /Users/abarnes/Dropbox/Projects/Extragalactic/hstha_nebulae_catalogue/ngc1300/cutouts_fixediso_10pc/sample.pickel\n",
      "[ASSOCIATIONS] Generating new cutouts for association masks...\n"
     ]
    },
    {
     "name": "stderr",
     "output_type": "stream",
     "text": [
      "Cropping regions: 100%|██████████| 242/242 [00:00<00:00, 576.67it/s]\n"
     ]
    },
    {
     "name": "stdout",
     "output_type": "stream",
     "text": [
      "[INFO] [save_pickle] Saved to /Users/abarnes/Dropbox/Projects/Extragalactic/hstha_nebulae_catalogue/ngc1300/cutouts_fixediso_10pc/hdus_catalog_mask_new.pickel\n"
     ]
    },
    {
     "name": "stderr",
     "output_type": "stream",
     "text": [
      "Cropping regions: 100%|██████████| 242/242 [00:00<00:00, 558.65it/s]\n"
     ]
    },
    {
     "name": "stdout",
     "output_type": "stream",
     "text": [
      "[INFO] [save_pickle] Saved to /Users/abarnes/Dropbox/Projects/Extragalactic/hstha_nebulae_catalogue/ngc1300/cutouts_fixediso_10pc/hdus_association_mask_new_v_16pc.pickel\n"
     ]
    },
    {
     "name": "stderr",
     "output_type": "stream",
     "text": [
      "Cropping regions: 100%|██████████| 242/242 [00:00<00:00, 573.16it/s]\n"
     ]
    },
    {
     "name": "stdout",
     "output_type": "stream",
     "text": [
      "[INFO] [save_pickle] Saved to /Users/abarnes/Dropbox/Projects/Extragalactic/hstha_nebulae_catalogue/ngc1300/cutouts_fixediso_10pc/hdus_association_mask_new_v_32pc.pickel\n"
     ]
    },
    {
     "name": "stderr",
     "output_type": "stream",
     "text": [
      "Cropping regions: 100%|██████████| 242/242 [00:00<00:00, 589.85it/s]\n"
     ]
    },
    {
     "name": "stdout",
     "output_type": "stream",
     "text": [
      "[INFO] [save_pickle] Saved to /Users/abarnes/Dropbox/Projects/Extragalactic/hstha_nebulae_catalogue/ngc1300/cutouts_fixediso_10pc/hdus_association_mask_new_v_64pc.pickel\n"
     ]
    },
    {
     "name": "stderr",
     "output_type": "stream",
     "text": [
      "Cropping regions: 100%|██████████| 242/242 [00:00<00:00, 718.25it/s]\n"
     ]
    },
    {
     "name": "stdout",
     "output_type": "stream",
     "text": [
      "[INFO] [save_pickle] Saved to /Users/abarnes/Dropbox/Projects/Extragalactic/hstha_nebulae_catalogue/ngc1300/cutouts_fixediso_10pc/hdus_association_mask_new_nuv_16pc.pickel\n"
     ]
    },
    {
     "name": "stderr",
     "output_type": "stream",
     "text": [
      "Cropping regions: 100%|██████████| 242/242 [00:00<00:00, 701.38it/s]\n"
     ]
    },
    {
     "name": "stdout",
     "output_type": "stream",
     "text": [
      "[INFO] [save_pickle] Saved to /Users/abarnes/Dropbox/Projects/Extragalactic/hstha_nebulae_catalogue/ngc1300/cutouts_fixediso_10pc/hdus_association_mask_new_nuv_32pc.pickel\n"
     ]
    },
    {
     "name": "stderr",
     "output_type": "stream",
     "text": [
      "Cropping regions: 100%|██████████| 242/242 [00:00<00:00, 733.63it/s]\n"
     ]
    },
    {
     "name": "stdout",
     "output_type": "stream",
     "text": [
      "[INFO] [save_pickle] Saved to /Users/abarnes/Dropbox/Projects/Extragalactic/hstha_nebulae_catalogue/ngc1300/cutouts_fixediso_10pc/hdus_association_mask_new_nuv_64pc.pickel\n"
     ]
    },
    {
     "name": "stderr",
     "output_type": "stream",
     "text": [
      "Match associations:: 100%|██████████| 242/242 [00:08<00:00, 27.51it/s]\n"
     ]
    },
    {
     "name": "stdout",
     "output_type": "stream",
     "text": [
      "[ASSOCIATIONS] Final association table saved to: /Users/abarnes/Dropbox/Projects/Extragalactic/hstha_nebulae_catalogue/ngc1300/catalogue_fixediso_10pc/props_all_association.fits\n",
      "Cleaning: /Users/abarnes/Dropbox/Data/Extragalactic/catalogues/multiscale_stellar_associations/ngc1300/vselect/ws16pc/PHANGS_IR4_hst_wfc3_ngc1300_v1p3_multi_assoc-vselect-ws16pc-idmask.fits\n",
      "Cleaning: /Users/abarnes/Dropbox/Data/Extragalactic/catalogues/multiscale_stellar_associations/ngc1300/vselect/ws32pc/PHANGS_IR4_hst_wfc3_ngc1300_v1p3_multi_assoc-vselect-ws32pc-idmask.fits\n",
      "Cleaning: /Users/abarnes/Dropbox/Data/Extragalactic/catalogues/multiscale_stellar_associations/ngc1300/vselect/ws64pc/PHANGS_IR4_hst_wfc3_ngc1300_v1p3_multi_assoc-vselect-ws64pc-idmask.fits\n",
      "Cleaning: /Users/abarnes/Dropbox/Data/Extragalactic/catalogues/multiscale_stellar_associations/ngc1300/nuvselect/ws16pc/PHANGS_IR4_hst_wfc3_ngc1300_v1p3_multi_assoc-nuvselect-ws16pc-idmask.fits\n",
      "Cleaning: /Users/abarnes/Dropbox/Data/Extragalactic/catalogues/multiscale_stellar_associations/ngc1300/nuvselect/ws32pc/PHANGS_IR4_hst_wfc3_ngc1300_v1p3_multi_assoc-nuvselect-ws32pc-idmask.fits\n",
      "Cleaning: /Users/abarnes/Dropbox/Data/Extragalactic/catalogues/multiscale_stellar_associations/ngc1300/nuvselect/ws64pc/PHANGS_IR4_hst_wfc3_ngc1300_v1p3_multi_assoc-nuvselect-ws64pc-idmask.fits\n"
     ]
    },
    {
     "data": {
      "text/plain": [
       "16421"
      ]
     },
     "execution_count": 6,
     "metadata": {},
     "output_type": "execute_result"
    }
   ],
   "source": [
    "galaxyname = 'ngc1300'\n",
    "\n",
    "mycat = catalogue_pipeline.PyHSTHACat(galaxyname, output_dir_append='_fixediso_10pc')\n",
    "mycat.hstha_err = ISOTHRESHOLD\n",
    "mycat.rerun_all = True\n",
    "mycat.hstha_file = mycat.hstha_file.replace('.fits', '_10pc_fixednoise.fits')\n",
    "\n",
    "mycat.make_paths()\n",
    "mycat.load_files()\n",
    "mycat.get_regions()\n",
    "mycat.get_cutouts()\n",
    "mycat.make_catalogue()\n",
    "\n",
    "mycat.rerun_cutouts_associations = True\n",
    "mycat.make_associations()\n",
    "\n",
    "# To free memory\n",
    "del mycat \n",
    "gc.collect()"
   ]
  },
  {
   "cell_type": "code",
   "execution_count": 7,
   "metadata": {},
   "outputs": [
    {
     "name": "stdout",
     "output_type": "stream",
     "text": [
      "[Info] Outputting to the following:\n",
      "/Users/abarnes/Dropbox/Projects/Extragalactic/hstha_nebulae_catalogue/ngc1365n/\n",
      "[INFO] [get_MuseProps] Getting MUSE catalouge properties for ngc1365...\n",
      "[INFO] [get_galaxyprops] Getting sample table properties for ngc1365...\n",
      "[INFO] Using PSF size from header -- > 0.07 arcsec\n",
      "[INFO] Pixel scale taken as CDELT1, CDELT2\n",
      "[INFO] Pixel scale -- > 0.04 arcsec\n",
      "[INFO] Generating new DS9 region file...\n",
      "[INFO] [get_regions] Opening regions file (this may take a min)... \n",
      "[INFO] [get_regions] Getting info for 1455 regions...\n",
      "[INFO] [save_pickle] Saved to /Users/abarnes/Dropbox/Projects/Extragalactic/hstha_nebulae_catalogue/ngc1365n/cutouts_fixediso_10pc/sample.pickel\n",
      "[INFO] Generating cutouts for hstha_hdu...\n"
     ]
    },
    {
     "name": "stderr",
     "output_type": "stream",
     "text": [
      "Cropping regions: 100%|██████████| 1455/1455 [00:01<00:00, 761.12it/s]\n"
     ]
    },
    {
     "name": "stdout",
     "output_type": "stream",
     "text": [
      "[INFO] [save_pickle] Saved to /Users/abarnes/Dropbox/Projects/Extragalactic/hstha_nebulae_catalogue/ngc1365n/cutouts_fixediso_10pc/hstha_hdu.pickel\n",
      "[INFO] Generating cutouts for musha_hdu...\n"
     ]
    },
    {
     "name": "stderr",
     "output_type": "stream",
     "text": [
      "Cropping regions: 100%|██████████| 1455/1455 [00:01<00:00, 880.79it/s]\n"
     ]
    },
    {
     "name": "stdout",
     "output_type": "stream",
     "text": [
      "[INFO] [save_pickle] Saved to /Users/abarnes/Dropbox/Projects/Extragalactic/hstha_nebulae_catalogue/ngc1365n/cutouts_fixediso_10pc/musha_hdu.pickel\n",
      "[INFO] Generating cutouts for muscat_hdu...\n"
     ]
    },
    {
     "name": "stderr",
     "output_type": "stream",
     "text": [
      "Cropping regions: 100%|██████████| 1455/1455 [00:01<00:00, 826.35it/s]\n"
     ]
    },
    {
     "name": "stdout",
     "output_type": "stream",
     "text": [
      "[INFO] [save_pickle] Saved to /Users/abarnes/Dropbox/Projects/Extragalactic/hstha_nebulae_catalogue/ngc1365n/cutouts_fixediso_10pc/muscat_hdu.pickel\n",
      "[INFO] [load_pickle] Load /Users/abarnes/Dropbox/Projects/Extragalactic/hstha_nebulae_catalogue/ngc1365n/cutouts_fixediso_10pc/hstha_hdu.pickel\n",
      "[INFO] [load_pickle] Load /Users/abarnes/Dropbox/Projects/Extragalactic/hstha_nebulae_catalogue/ngc1365n/cutouts_fixediso_10pc/musha_hdu.pickel\n",
      "[INFO] [load_pickle] Load /Users/abarnes/Dropbox/Projects/Extragalactic/hstha_nebulae_catalogue/ngc1365n/cutouts_fixediso_10pc/muscat_hdu.pickel\n",
      "[INFO] All HDU cutouts saved to /Users/abarnes/Dropbox/Projects/Extragalactic/hstha_nebulae_catalogue/ngc1365n/cutouts_fixediso_10pc/hdus_all.pickel\n",
      "[INFO] [save_pickle] Saved to /Users/abarnes/Dropbox/Projects/Extragalactic/hstha_nebulae_catalogue/ngc1365n/cutouts_fixediso_10pc/hdus_all.pickel\n",
      "[CATALOGUE] Running catalogue generation for: ngc1365\n",
      "[INFO] [get_maskedhdus] Getting HST maps masked by MUSE catalouge...\n"
     ]
    },
    {
     "name": "stderr",
     "output_type": "stream",
     "text": [
      "Masking regions: 100%|██████████| 1455/1455 [00:32<00:00, 44.47it/s]\n"
     ]
    },
    {
     "name": "stdout",
     "output_type": "stream",
     "text": [
      "[INFO] [save_pickle] Saved to /Users/abarnes/Dropbox/Projects/Extragalactic/hstha_nebulae_catalogue/ngc1365n/cutouts_fixediso_10pc/hdus_all_withmasked.pickel\n"
     ]
    },
    {
     "name": "stderr",
     "output_type": "stream",
     "text": [
      "Get sources: 100%|██████████| 1455/1455 [00:08<00:00, 162.88it/s]\n"
     ]
    },
    {
     "name": "stdout",
     "output_type": "stream",
     "text": [
      "[INFO] [get_MuseProps] Getting MUSE catalouge properties for ngc1365...\n"
     ]
    },
    {
     "name": "stderr",
     "output_type": "stream",
     "text": [
      "Masking regions: 100%|██████████| 1455/1455 [00:00<00:00, 5999.80it/s]\n",
      "Geting complexity score: 100%|██████████| 213/213 [00:02<00:00, 76.95it/s]\n",
      "Get touch flags:: 100%|██████████| 213/213 [00:03<00:00, 61.23it/s]\n"
     ]
    },
    {
     "name": "stdout",
     "output_type": "stream",
     "text": [
      "[CATALOGUE] Final properties table saved to: /Users/abarnes/Dropbox/Projects/Extragalactic/hstha_nebulae_catalogue/ngc1365n/catalogue_fixediso_10pc/props_all.fits\n",
      "[CATALOGUE] Masks saved to /Users/abarnes/Dropbox/Projects/Extragalactic/hstha_nebulae_catalogue/ngc1365n/catalogue_fixediso_10pc/ngc1365_mask.fits and /Users/abarnes/Dropbox/Projects/Extragalactic/hstha_nebulae_catalogue/ngc1365n/catalogue_fixediso_10pc/ngc1365_complexity.fits\n",
      "[CATALOGUE] DS9 regions output to /Users/abarnes/Dropbox/Projects/Extragalactic/hstha_nebulae_catalogue/ngc1365n/catalogue_fixediso_10pc/ngc1365_mask\n",
      "[CATALOGUE] Done!\n",
      "[ASSOCIATIONS] Checking association files for galaxy ngc1365 ...\n",
      "File not found: /Users/abarnes/Dropbox/Data/Extragalactic/catalogues/multiscale_stellar_associations/ngc1365/vselect/ws8pc/PHANGS_IR4_hst_wfc3_ngc1365_v1p3_multi_assoc-vselect-ws8pc-idmask.fits\n",
      "[WARNING] Files missing for v_08pc. Skipping.\n",
      "Unpacking: /Users/abarnes/Dropbox/Data/Extragalactic/catalogues/multiscale_stellar_associations/ngc1365/vselect/ws16pc/PHANGS_IR4_hst_wfc3_ngc1365_v1p3_multi_assoc-vselect-ws16pc-idmask.fits.gz\n",
      "[INFO] Files found for v_16pc.\n",
      "Unpacking: /Users/abarnes/Dropbox/Data/Extragalactic/catalogues/multiscale_stellar_associations/ngc1365/vselect/ws32pc/PHANGS_IR4_hst_wfc3_ngc1365_v1p3_multi_assoc-vselect-ws32pc-idmask.fits.gz\n",
      "[INFO] Files found for v_32pc.\n",
      "Unpacking: /Users/abarnes/Dropbox/Data/Extragalactic/catalogues/multiscale_stellar_associations/ngc1365/vselect/ws64pc/PHANGS_IR4_hst_wfc3_ngc1365_v1p3_multi_assoc-vselect-ws64pc-idmask.fits.gz\n",
      "[INFO] Files found for v_64pc.\n",
      "File not found: /Users/abarnes/Dropbox/Data/Extragalactic/catalogues/multiscale_stellar_associations/ngc1365/nuvselect/ws8pc/PHANGS_IR4_hst_wfc3_ngc1365_v1p3_multi_assoc-nuvselect-ws8pc-idmask.fits\n",
      "[WARNING] Files missing for nuv_08pc. Skipping.\n",
      "Unpacking: /Users/abarnes/Dropbox/Data/Extragalactic/catalogues/multiscale_stellar_associations/ngc1365/nuvselect/ws16pc/PHANGS_IR4_hst_wfc3_ngc1365_v1p3_multi_assoc-nuvselect-ws16pc-idmask.fits.gz\n",
      "[INFO] Files found for nuv_16pc.\n",
      "Unpacking: /Users/abarnes/Dropbox/Data/Extragalactic/catalogues/multiscale_stellar_associations/ngc1365/nuvselect/ws32pc/PHANGS_IR4_hst_wfc3_ngc1365_v1p3_multi_assoc-nuvselect-ws32pc-idmask.fits.gz\n",
      "[INFO] Files found for nuv_32pc.\n",
      "Unpacking: /Users/abarnes/Dropbox/Data/Extragalactic/catalogues/multiscale_stellar_associations/ngc1365/nuvselect/ws64pc/PHANGS_IR4_hst_wfc3_ngc1365_v1p3_multi_assoc-nuvselect-ws64pc-idmask.fits.gz\n",
      "[INFO] Files found for nuv_64pc.\n",
      "[INFO] [load_pickle] Load /Users/abarnes/Dropbox/Projects/Extragalactic/hstha_nebulae_catalogue/ngc1365n/cutouts_fixediso_10pc/sample.pickel\n",
      "[ASSOCIATIONS] Generating new cutouts for association masks...\n"
     ]
    },
    {
     "name": "stderr",
     "output_type": "stream",
     "text": [
      "Cropping regions: 100%|██████████| 213/213 [00:00<00:00, 746.91it/s]\n"
     ]
    },
    {
     "name": "stdout",
     "output_type": "stream",
     "text": [
      "[INFO] [save_pickle] Saved to /Users/abarnes/Dropbox/Projects/Extragalactic/hstha_nebulae_catalogue/ngc1365n/cutouts_fixediso_10pc/hdus_catalog_mask_new.pickel\n"
     ]
    },
    {
     "name": "stderr",
     "output_type": "stream",
     "text": [
      "Cropping regions: 100%|██████████| 213/213 [00:00<00:00, 710.18it/s]\n"
     ]
    },
    {
     "name": "stdout",
     "output_type": "stream",
     "text": [
      "[INFO] [save_pickle] Saved to /Users/abarnes/Dropbox/Projects/Extragalactic/hstha_nebulae_catalogue/ngc1365n/cutouts_fixediso_10pc/hdus_association_mask_new_v_16pc.pickel\n"
     ]
    },
    {
     "name": "stderr",
     "output_type": "stream",
     "text": [
      "Cropping regions: 100%|██████████| 213/213 [00:00<00:00, 744.32it/s]\n"
     ]
    },
    {
     "name": "stdout",
     "output_type": "stream",
     "text": [
      "[INFO] [save_pickle] Saved to /Users/abarnes/Dropbox/Projects/Extragalactic/hstha_nebulae_catalogue/ngc1365n/cutouts_fixediso_10pc/hdus_association_mask_new_v_32pc.pickel\n"
     ]
    },
    {
     "name": "stderr",
     "output_type": "stream",
     "text": [
      "Cropping regions: 100%|██████████| 213/213 [00:00<00:00, 748.28it/s]\n"
     ]
    },
    {
     "name": "stdout",
     "output_type": "stream",
     "text": [
      "[INFO] [save_pickle] Saved to /Users/abarnes/Dropbox/Projects/Extragalactic/hstha_nebulae_catalogue/ngc1365n/cutouts_fixediso_10pc/hdus_association_mask_new_v_64pc.pickel\n"
     ]
    },
    {
     "name": "stderr",
     "output_type": "stream",
     "text": [
      "Cropping regions: 100%|██████████| 213/213 [00:00<00:00, 672.30it/s]\n"
     ]
    },
    {
     "name": "stdout",
     "output_type": "stream",
     "text": [
      "[INFO] [save_pickle] Saved to /Users/abarnes/Dropbox/Projects/Extragalactic/hstha_nebulae_catalogue/ngc1365n/cutouts_fixediso_10pc/hdus_association_mask_new_nuv_16pc.pickel\n"
     ]
    },
    {
     "name": "stderr",
     "output_type": "stream",
     "text": [
      "Cropping regions: 100%|██████████| 213/213 [00:00<00:00, 704.82it/s]\n"
     ]
    },
    {
     "name": "stdout",
     "output_type": "stream",
     "text": [
      "[INFO] [save_pickle] Saved to /Users/abarnes/Dropbox/Projects/Extragalactic/hstha_nebulae_catalogue/ngc1365n/cutouts_fixediso_10pc/hdus_association_mask_new_nuv_32pc.pickel\n"
     ]
    },
    {
     "name": "stderr",
     "output_type": "stream",
     "text": [
      "Cropping regions: 100%|██████████| 213/213 [00:00<00:00, 658.83it/s]\n"
     ]
    },
    {
     "name": "stdout",
     "output_type": "stream",
     "text": [
      "[INFO] [save_pickle] Saved to /Users/abarnes/Dropbox/Projects/Extragalactic/hstha_nebulae_catalogue/ngc1365n/cutouts_fixediso_10pc/hdus_association_mask_new_nuv_64pc.pickel\n"
     ]
    },
    {
     "name": "stderr",
     "output_type": "stream",
     "text": [
      "Match associations:: 100%|██████████| 213/213 [00:08<00:00, 26.34it/s]\n"
     ]
    },
    {
     "name": "stdout",
     "output_type": "stream",
     "text": [
      "[ASSOCIATIONS] Final association table saved to: /Users/abarnes/Dropbox/Projects/Extragalactic/hstha_nebulae_catalogue/ngc1365n/catalogue_fixediso_10pc/props_all_association.fits\n",
      "Cleaning: /Users/abarnes/Dropbox/Data/Extragalactic/catalogues/multiscale_stellar_associations/ngc1365/vselect/ws16pc/PHANGS_IR4_hst_wfc3_ngc1365_v1p3_multi_assoc-vselect-ws16pc-idmask.fits\n",
      "Cleaning: /Users/abarnes/Dropbox/Data/Extragalactic/catalogues/multiscale_stellar_associations/ngc1365/vselect/ws32pc/PHANGS_IR4_hst_wfc3_ngc1365_v1p3_multi_assoc-vselect-ws32pc-idmask.fits\n",
      "Cleaning: /Users/abarnes/Dropbox/Data/Extragalactic/catalogues/multiscale_stellar_associations/ngc1365/vselect/ws64pc/PHANGS_IR4_hst_wfc3_ngc1365_v1p3_multi_assoc-vselect-ws64pc-idmask.fits\n",
      "Cleaning: /Users/abarnes/Dropbox/Data/Extragalactic/catalogues/multiscale_stellar_associations/ngc1365/nuvselect/ws16pc/PHANGS_IR4_hst_wfc3_ngc1365_v1p3_multi_assoc-nuvselect-ws16pc-idmask.fits\n",
      "Cleaning: /Users/abarnes/Dropbox/Data/Extragalactic/catalogues/multiscale_stellar_associations/ngc1365/nuvselect/ws32pc/PHANGS_IR4_hst_wfc3_ngc1365_v1p3_multi_assoc-nuvselect-ws32pc-idmask.fits\n",
      "Cleaning: /Users/abarnes/Dropbox/Data/Extragalactic/catalogues/multiscale_stellar_associations/ngc1365/nuvselect/ws64pc/PHANGS_IR4_hst_wfc3_ngc1365_v1p3_multi_assoc-nuvselect-ws64pc-idmask.fits\n"
     ]
    },
    {
     "data": {
      "text/plain": [
       "9259"
      ]
     },
     "execution_count": 7,
     "metadata": {},
     "output_type": "execute_result"
    }
   ],
   "source": [
    "galaxyname = 'ngc1365'\n",
    "galaxyname_hst = 'ngc1365n'\n",
    "\n",
    "mycat = catalogue_pipeline.PyHSTHACat(galaxyname, galaxyname_hst, output_dir_append='_fixediso_10pc')\n",
    "mycat.hstha_err = ISOTHRESHOLD\n",
    "mycat.rerun_all = True\n",
    "mycat.hstha_file = mycat.hstha_file.replace('.fits', '_10pc_fixednoise.fits')\n",
    "\n",
    "mycat.make_paths()\n",
    "mycat.load_files()\n",
    "mycat.get_regions()\n",
    "mycat.get_cutouts()\n",
    "mycat.make_catalogue()\n",
    "\n",
    "mycat.rerun_cutouts_associations = True\n",
    "mycat.make_associations()\n",
    "\n",
    "# To free memory\n",
    "del mycat \n",
    "gc.collect()"
   ]
  },
  {
   "cell_type": "code",
   "execution_count": 8,
   "metadata": {},
   "outputs": [
    {
     "name": "stdout",
     "output_type": "stream",
     "text": [
      "[Info] Outputting to the following:\n",
      "/Users/abarnes/Dropbox/Projects/Extragalactic/hstha_nebulae_catalogue/ngc1385/\n",
      "[INFO] [get_MuseProps] Getting MUSE catalouge properties for ngc1385...\n",
      "[INFO] [get_galaxyprops] Getting sample table properties for ngc1385...\n",
      "[INFO] Using PSF size from header -- > 0.08 arcsec\n",
      "[INFO] Pixel scale taken as CDELT1, CDELT2\n",
      "[INFO] Pixel scale -- > 0.04 arcsec\n",
      "[INFO] Generating new DS9 region file...\n",
      "[INFO] [get_regions] Opening regions file (this may take a min)... \n",
      "[INFO] [get_regions] Getting info for 1029 regions...\n",
      "[INFO] [save_pickle] Saved to /Users/abarnes/Dropbox/Projects/Extragalactic/hstha_nebulae_catalogue/ngc1385/cutouts_fixediso_10pc/sample.pickel\n",
      "[INFO] Generating cutouts for hstha_hdu...\n"
     ]
    },
    {
     "name": "stderr",
     "output_type": "stream",
     "text": [
      "Cropping regions: 100%|██████████| 1029/1029 [00:01<00:00, 687.41it/s]\n"
     ]
    },
    {
     "name": "stdout",
     "output_type": "stream",
     "text": [
      "[INFO] [save_pickle] Saved to /Users/abarnes/Dropbox/Projects/Extragalactic/hstha_nebulae_catalogue/ngc1385/cutouts_fixediso_10pc/hstha_hdu.pickel\n",
      "[INFO] Generating cutouts for musha_hdu...\n"
     ]
    },
    {
     "name": "stderr",
     "output_type": "stream",
     "text": [
      "Cropping regions: 100%|██████████| 1029/1029 [00:01<00:00, 891.40it/s]\n"
     ]
    },
    {
     "name": "stdout",
     "output_type": "stream",
     "text": [
      "[INFO] [save_pickle] Saved to /Users/abarnes/Dropbox/Projects/Extragalactic/hstha_nebulae_catalogue/ngc1385/cutouts_fixediso_10pc/musha_hdu.pickel\n",
      "[INFO] Generating cutouts for muscat_hdu...\n"
     ]
    },
    {
     "name": "stderr",
     "output_type": "stream",
     "text": [
      "Cropping regions: 100%|██████████| 1029/1029 [00:01<00:00, 881.63it/s]\n"
     ]
    },
    {
     "name": "stdout",
     "output_type": "stream",
     "text": [
      "[INFO] [save_pickle] Saved to /Users/abarnes/Dropbox/Projects/Extragalactic/hstha_nebulae_catalogue/ngc1385/cutouts_fixediso_10pc/muscat_hdu.pickel\n",
      "[INFO] [load_pickle] Load /Users/abarnes/Dropbox/Projects/Extragalactic/hstha_nebulae_catalogue/ngc1385/cutouts_fixediso_10pc/hstha_hdu.pickel\n",
      "[INFO] [load_pickle] Load /Users/abarnes/Dropbox/Projects/Extragalactic/hstha_nebulae_catalogue/ngc1385/cutouts_fixediso_10pc/musha_hdu.pickel\n",
      "[INFO] [load_pickle] Load /Users/abarnes/Dropbox/Projects/Extragalactic/hstha_nebulae_catalogue/ngc1385/cutouts_fixediso_10pc/muscat_hdu.pickel\n",
      "[INFO] All HDU cutouts saved to /Users/abarnes/Dropbox/Projects/Extragalactic/hstha_nebulae_catalogue/ngc1385/cutouts_fixediso_10pc/hdus_all.pickel\n",
      "[INFO] [save_pickle] Saved to /Users/abarnes/Dropbox/Projects/Extragalactic/hstha_nebulae_catalogue/ngc1385/cutouts_fixediso_10pc/hdus_all.pickel\n",
      "[CATALOGUE] Running catalogue generation for: ngc1385\n",
      "[INFO] [get_maskedhdus] Getting HST maps masked by MUSE catalouge...\n"
     ]
    },
    {
     "name": "stderr",
     "output_type": "stream",
     "text": [
      "Masking regions: 100%|██████████| 1029/1029 [00:22<00:00, 46.31it/s]\n"
     ]
    },
    {
     "name": "stdout",
     "output_type": "stream",
     "text": [
      "[INFO] [save_pickle] Saved to /Users/abarnes/Dropbox/Projects/Extragalactic/hstha_nebulae_catalogue/ngc1385/cutouts_fixediso_10pc/hdus_all_withmasked.pickel\n"
     ]
    },
    {
     "name": "stderr",
     "output_type": "stream",
     "text": [
      "Get sources: 100%|██████████| 1029/1029 [00:09<00:00, 108.35it/s]\n"
     ]
    },
    {
     "name": "stdout",
     "output_type": "stream",
     "text": [
      "[INFO] [get_MuseProps] Getting MUSE catalouge properties for ngc1385...\n"
     ]
    },
    {
     "name": "stderr",
     "output_type": "stream",
     "text": [
      "Masking regions: 100%|██████████| 1029/1029 [00:00<00:00, 2828.62it/s]\n",
      "Geting complexity score: 100%|██████████| 313/313 [00:03<00:00, 85.57it/s]\n",
      "Get touch flags:: 100%|██████████| 313/313 [00:04<00:00, 72.78it/s]\n"
     ]
    },
    {
     "name": "stdout",
     "output_type": "stream",
     "text": [
      "[CATALOGUE] Final properties table saved to: /Users/abarnes/Dropbox/Projects/Extragalactic/hstha_nebulae_catalogue/ngc1385/catalogue_fixediso_10pc/props_all.fits\n",
      "[CATALOGUE] Masks saved to /Users/abarnes/Dropbox/Projects/Extragalactic/hstha_nebulae_catalogue/ngc1385/catalogue_fixediso_10pc/ngc1385_mask.fits and /Users/abarnes/Dropbox/Projects/Extragalactic/hstha_nebulae_catalogue/ngc1385/catalogue_fixediso_10pc/ngc1385_complexity.fits\n",
      "[CATALOGUE] DS9 regions output to /Users/abarnes/Dropbox/Projects/Extragalactic/hstha_nebulae_catalogue/ngc1385/catalogue_fixediso_10pc/ngc1385_mask\n",
      "[CATALOGUE] Done!\n",
      "[ASSOCIATIONS] Checking association files for galaxy ngc1385 ...\n",
      "File not found: /Users/abarnes/Dropbox/Data/Extragalactic/catalogues/multiscale_stellar_associations/ngc1385/vselect/ws8pc/PHANGS_IR4_hst_wfc3_ngc1385_v1p3_multi_assoc-vselect-ws8pc-idmask.fits\n",
      "[WARNING] Files missing for v_08pc. Skipping.\n",
      "Unpacking: /Users/abarnes/Dropbox/Data/Extragalactic/catalogues/multiscale_stellar_associations/ngc1385/vselect/ws16pc/PHANGS_IR4_hst_wfc3_ngc1385_v1p3_multi_assoc-vselect-ws16pc-idmask.fits.gz\n",
      "[INFO] Files found for v_16pc.\n",
      "Unpacking: /Users/abarnes/Dropbox/Data/Extragalactic/catalogues/multiscale_stellar_associations/ngc1385/vselect/ws32pc/PHANGS_IR4_hst_wfc3_ngc1385_v1p3_multi_assoc-vselect-ws32pc-idmask.fits.gz\n",
      "[INFO] Files found for v_32pc.\n",
      "Unpacking: /Users/abarnes/Dropbox/Data/Extragalactic/catalogues/multiscale_stellar_associations/ngc1385/vselect/ws64pc/PHANGS_IR4_hst_wfc3_ngc1385_v1p3_multi_assoc-vselect-ws64pc-idmask.fits.gz\n",
      "[INFO] Files found for v_64pc.\n",
      "File not found: /Users/abarnes/Dropbox/Data/Extragalactic/catalogues/multiscale_stellar_associations/ngc1385/nuvselect/ws8pc/PHANGS_IR4_hst_wfc3_ngc1385_v1p3_multi_assoc-nuvselect-ws8pc-idmask.fits\n",
      "[WARNING] Files missing for nuv_08pc. Skipping.\n",
      "Unpacking: /Users/abarnes/Dropbox/Data/Extragalactic/catalogues/multiscale_stellar_associations/ngc1385/nuvselect/ws16pc/PHANGS_IR4_hst_wfc3_ngc1385_v1p3_multi_assoc-nuvselect-ws16pc-idmask.fits.gz\n",
      "[INFO] Files found for nuv_16pc.\n",
      "Unpacking: /Users/abarnes/Dropbox/Data/Extragalactic/catalogues/multiscale_stellar_associations/ngc1385/nuvselect/ws32pc/PHANGS_IR4_hst_wfc3_ngc1385_v1p3_multi_assoc-nuvselect-ws32pc-idmask.fits.gz\n",
      "[INFO] Files found for nuv_32pc.\n",
      "Unpacking: /Users/abarnes/Dropbox/Data/Extragalactic/catalogues/multiscale_stellar_associations/ngc1385/nuvselect/ws64pc/PHANGS_IR4_hst_wfc3_ngc1385_v1p3_multi_assoc-nuvselect-ws64pc-idmask.fits.gz\n",
      "[INFO] Files found for nuv_64pc.\n",
      "[INFO] [load_pickle] Load /Users/abarnes/Dropbox/Projects/Extragalactic/hstha_nebulae_catalogue/ngc1385/cutouts_fixediso_10pc/sample.pickel\n",
      "[ASSOCIATIONS] Generating new cutouts for association masks...\n"
     ]
    },
    {
     "name": "stderr",
     "output_type": "stream",
     "text": [
      "Cropping regions: 100%|██████████| 313/313 [00:00<00:00, 699.51it/s]\n"
     ]
    },
    {
     "name": "stdout",
     "output_type": "stream",
     "text": [
      "[INFO] [save_pickle] Saved to /Users/abarnes/Dropbox/Projects/Extragalactic/hstha_nebulae_catalogue/ngc1385/cutouts_fixediso_10pc/hdus_catalog_mask_new.pickel\n"
     ]
    },
    {
     "name": "stderr",
     "output_type": "stream",
     "text": [
      "Cropping regions: 100%|██████████| 313/313 [00:00<00:00, 775.33it/s]\n"
     ]
    },
    {
     "name": "stdout",
     "output_type": "stream",
     "text": [
      "[INFO] [save_pickle] Saved to /Users/abarnes/Dropbox/Projects/Extragalactic/hstha_nebulae_catalogue/ngc1385/cutouts_fixediso_10pc/hdus_association_mask_new_v_16pc.pickel\n"
     ]
    },
    {
     "name": "stderr",
     "output_type": "stream",
     "text": [
      "Cropping regions: 100%|██████████| 313/313 [00:00<00:00, 788.29it/s]\n"
     ]
    },
    {
     "name": "stdout",
     "output_type": "stream",
     "text": [
      "[INFO] [save_pickle] Saved to /Users/abarnes/Dropbox/Projects/Extragalactic/hstha_nebulae_catalogue/ngc1385/cutouts_fixediso_10pc/hdus_association_mask_new_v_32pc.pickel\n"
     ]
    },
    {
     "name": "stderr",
     "output_type": "stream",
     "text": [
      "Cropping regions: 100%|██████████| 313/313 [00:00<00:00, 728.70it/s]\n"
     ]
    },
    {
     "name": "stdout",
     "output_type": "stream",
     "text": [
      "[INFO] [save_pickle] Saved to /Users/abarnes/Dropbox/Projects/Extragalactic/hstha_nebulae_catalogue/ngc1385/cutouts_fixediso_10pc/hdus_association_mask_new_v_64pc.pickel\n"
     ]
    },
    {
     "name": "stderr",
     "output_type": "stream",
     "text": [
      "Cropping regions: 100%|██████████| 313/313 [00:00<00:00, 745.31it/s]\n"
     ]
    },
    {
     "name": "stdout",
     "output_type": "stream",
     "text": [
      "[INFO] [save_pickle] Saved to /Users/abarnes/Dropbox/Projects/Extragalactic/hstha_nebulae_catalogue/ngc1385/cutouts_fixediso_10pc/hdus_association_mask_new_nuv_16pc.pickel\n"
     ]
    },
    {
     "name": "stderr",
     "output_type": "stream",
     "text": [
      "Cropping regions: 100%|██████████| 313/313 [00:00<00:00, 760.84it/s]\n"
     ]
    },
    {
     "name": "stdout",
     "output_type": "stream",
     "text": [
      "[INFO] [save_pickle] Saved to /Users/abarnes/Dropbox/Projects/Extragalactic/hstha_nebulae_catalogue/ngc1385/cutouts_fixediso_10pc/hdus_association_mask_new_nuv_32pc.pickel\n"
     ]
    },
    {
     "name": "stderr",
     "output_type": "stream",
     "text": [
      "Cropping regions: 100%|██████████| 313/313 [00:00<00:00, 742.74it/s]\n"
     ]
    },
    {
     "name": "stdout",
     "output_type": "stream",
     "text": [
      "[INFO] [save_pickle] Saved to /Users/abarnes/Dropbox/Projects/Extragalactic/hstha_nebulae_catalogue/ngc1385/cutouts_fixediso_10pc/hdus_association_mask_new_nuv_64pc.pickel\n"
     ]
    },
    {
     "name": "stderr",
     "output_type": "stream",
     "text": [
      "Match associations:: 100%|██████████| 313/313 [00:09<00:00, 32.17it/s]\n"
     ]
    },
    {
     "name": "stdout",
     "output_type": "stream",
     "text": [
      "[ASSOCIATIONS] Final association table saved to: /Users/abarnes/Dropbox/Projects/Extragalactic/hstha_nebulae_catalogue/ngc1385/catalogue_fixediso_10pc/props_all_association.fits\n",
      "Cleaning: /Users/abarnes/Dropbox/Data/Extragalactic/catalogues/multiscale_stellar_associations/ngc1385/vselect/ws16pc/PHANGS_IR4_hst_wfc3_ngc1385_v1p3_multi_assoc-vselect-ws16pc-idmask.fits\n",
      "Cleaning: /Users/abarnes/Dropbox/Data/Extragalactic/catalogues/multiscale_stellar_associations/ngc1385/vselect/ws32pc/PHANGS_IR4_hst_wfc3_ngc1385_v1p3_multi_assoc-vselect-ws32pc-idmask.fits\n",
      "Cleaning: /Users/abarnes/Dropbox/Data/Extragalactic/catalogues/multiscale_stellar_associations/ngc1385/vselect/ws64pc/PHANGS_IR4_hst_wfc3_ngc1385_v1p3_multi_assoc-vselect-ws64pc-idmask.fits\n",
      "Cleaning: /Users/abarnes/Dropbox/Data/Extragalactic/catalogues/multiscale_stellar_associations/ngc1385/nuvselect/ws16pc/PHANGS_IR4_hst_wfc3_ngc1385_v1p3_multi_assoc-nuvselect-ws16pc-idmask.fits\n",
      "Cleaning: /Users/abarnes/Dropbox/Data/Extragalactic/catalogues/multiscale_stellar_associations/ngc1385/nuvselect/ws32pc/PHANGS_IR4_hst_wfc3_ngc1385_v1p3_multi_assoc-nuvselect-ws32pc-idmask.fits\n",
      "Cleaning: /Users/abarnes/Dropbox/Data/Extragalactic/catalogues/multiscale_stellar_associations/ngc1385/nuvselect/ws64pc/PHANGS_IR4_hst_wfc3_ngc1385_v1p3_multi_assoc-nuvselect-ws64pc-idmask.fits\n"
     ]
    },
    {
     "data": {
      "text/plain": [
       "40380"
      ]
     },
     "execution_count": 8,
     "metadata": {},
     "output_type": "execute_result"
    }
   ],
   "source": [
    "galaxyname = 'ngc1385'\n",
    "\n",
    "mycat = catalogue_pipeline.PyHSTHACat(galaxyname, output_dir_append='_fixediso_10pc')\n",
    "mycat.hstha_err = ISOTHRESHOLD\n",
    "mycat.rerun_all = True\n",
    "mycat.hstha_file = mycat.hstha_file.replace('.fits', '_10pc_fixednoise.fits')\n",
    "\n",
    "mycat.make_paths()\n",
    "mycat.load_files()\n",
    "mycat.get_regions()\n",
    "mycat.get_cutouts()\n",
    "mycat.make_catalogue()\n",
    "\n",
    "mycat.rerun_cutouts_associations = True\n",
    "mycat.make_associations()\n",
    "\n",
    "# To free memory\n",
    "del mycat \n",
    "gc.collect()"
   ]
  },
  {
   "cell_type": "code",
   "execution_count": 9,
   "metadata": {},
   "outputs": [
    {
     "name": "stdout",
     "output_type": "stream",
     "text": [
      "[Info] Outputting to the following:\n",
      "/Users/abarnes/Dropbox/Projects/Extragalactic/hstha_nebulae_catalogue/ngc1433/\n",
      "[INFO] [get_MuseProps] Getting MUSE catalouge properties for ngc1433...\n",
      "[INFO] [get_galaxyprops] Getting sample table properties for ngc1433...\n",
      "[INFO] Using PSF size from header -- > 0.08 arcsec\n",
      "[INFO] Pixel scale taken as CDELT1, CDELT2\n",
      "[INFO] Pixel scale -- > 0.04 arcsec\n",
      "[INFO] Generating new DS9 region file...\n",
      "[INFO] [get_regions] Opening regions file (this may take a min)... \n",
      "[INFO] [get_regions] Getting info for 1736 regions...\n",
      "[INFO] [save_pickle] Saved to /Users/abarnes/Dropbox/Projects/Extragalactic/hstha_nebulae_catalogue/ngc1433/cutouts_fixediso_10pc/sample.pickel\n",
      "[INFO] Generating cutouts for hstha_hdu...\n"
     ]
    },
    {
     "name": "stderr",
     "output_type": "stream",
     "text": [
      "Cropping regions: 100%|██████████| 1736/1736 [00:02<00:00, 804.14it/s]\n"
     ]
    },
    {
     "name": "stdout",
     "output_type": "stream",
     "text": [
      "[INFO] [save_pickle] Saved to /Users/abarnes/Dropbox/Projects/Extragalactic/hstha_nebulae_catalogue/ngc1433/cutouts_fixediso_10pc/hstha_hdu.pickel\n",
      "[INFO] Generating cutouts for musha_hdu...\n"
     ]
    },
    {
     "name": "stderr",
     "output_type": "stream",
     "text": [
      "Cropping regions: 100%|██████████| 1736/1736 [00:01<00:00, 952.65it/s]\n"
     ]
    },
    {
     "name": "stdout",
     "output_type": "stream",
     "text": [
      "[INFO] [save_pickle] Saved to /Users/abarnes/Dropbox/Projects/Extragalactic/hstha_nebulae_catalogue/ngc1433/cutouts_fixediso_10pc/musha_hdu.pickel\n",
      "[INFO] Generating cutouts for muscat_hdu...\n"
     ]
    },
    {
     "name": "stderr",
     "output_type": "stream",
     "text": [
      "Cropping regions: 100%|██████████| 1736/1736 [00:01<00:00, 877.93it/s]\n"
     ]
    },
    {
     "name": "stdout",
     "output_type": "stream",
     "text": [
      "[INFO] [save_pickle] Saved to /Users/abarnes/Dropbox/Projects/Extragalactic/hstha_nebulae_catalogue/ngc1433/cutouts_fixediso_10pc/muscat_hdu.pickel\n",
      "[INFO] [load_pickle] Load /Users/abarnes/Dropbox/Projects/Extragalactic/hstha_nebulae_catalogue/ngc1433/cutouts_fixediso_10pc/hstha_hdu.pickel\n",
      "[INFO] [load_pickle] Load /Users/abarnes/Dropbox/Projects/Extragalactic/hstha_nebulae_catalogue/ngc1433/cutouts_fixediso_10pc/musha_hdu.pickel\n",
      "[INFO] [load_pickle] Load /Users/abarnes/Dropbox/Projects/Extragalactic/hstha_nebulae_catalogue/ngc1433/cutouts_fixediso_10pc/muscat_hdu.pickel\n",
      "[INFO] All HDU cutouts saved to /Users/abarnes/Dropbox/Projects/Extragalactic/hstha_nebulae_catalogue/ngc1433/cutouts_fixediso_10pc/hdus_all.pickel\n",
      "[INFO] [save_pickle] Saved to /Users/abarnes/Dropbox/Projects/Extragalactic/hstha_nebulae_catalogue/ngc1433/cutouts_fixediso_10pc/hdus_all.pickel\n",
      "[CATALOGUE] Running catalogue generation for: ngc1433\n",
      "[INFO] [get_maskedhdus] Getting HST maps masked by MUSE catalouge...\n"
     ]
    },
    {
     "name": "stderr",
     "output_type": "stream",
     "text": [
      "Masking regions: 100%|██████████| 1736/1736 [00:31<00:00, 55.60it/s]\n"
     ]
    },
    {
     "name": "stdout",
     "output_type": "stream",
     "text": [
      "[INFO] [save_pickle] Saved to /Users/abarnes/Dropbox/Projects/Extragalactic/hstha_nebulae_catalogue/ngc1433/cutouts_fixediso_10pc/hdus_all_withmasked.pickel\n"
     ]
    },
    {
     "name": "stderr",
     "output_type": "stream",
     "text": [
      "Get sources: 100%|██████████| 1736/1736 [00:03<00:00, 484.72it/s]\n"
     ]
    },
    {
     "name": "stdout",
     "output_type": "stream",
     "text": [
      "[INFO] [get_MuseProps] Getting MUSE catalouge properties for ngc1433...\n"
     ]
    },
    {
     "name": "stderr",
     "output_type": "stream",
     "text": [
      "Masking regions: 100%|██████████| 1736/1736 [00:00<00:00, 8883.20it/s]\n",
      "Geting complexity score: 100%|██████████| 176/176 [00:03<00:00, 57.70it/s]\n",
      "Get touch flags:: 100%|██████████| 176/176 [00:02<00:00, 61.95it/s]\n"
     ]
    },
    {
     "name": "stdout",
     "output_type": "stream",
     "text": [
      "[CATALOGUE] Final properties table saved to: /Users/abarnes/Dropbox/Projects/Extragalactic/hstha_nebulae_catalogue/ngc1433/catalogue_fixediso_10pc/props_all.fits\n",
      "[CATALOGUE] Masks saved to /Users/abarnes/Dropbox/Projects/Extragalactic/hstha_nebulae_catalogue/ngc1433/catalogue_fixediso_10pc/ngc1433_mask.fits and /Users/abarnes/Dropbox/Projects/Extragalactic/hstha_nebulae_catalogue/ngc1433/catalogue_fixediso_10pc/ngc1433_complexity.fits\n",
      "[CATALOGUE] DS9 regions output to /Users/abarnes/Dropbox/Projects/Extragalactic/hstha_nebulae_catalogue/ngc1433/catalogue_fixediso_10pc/ngc1433_mask\n",
      "[CATALOGUE] Done!\n",
      "[ASSOCIATIONS] Checking association files for galaxy ngc1433 ...\n",
      "File not found: /Users/abarnes/Dropbox/Data/Extragalactic/catalogues/multiscale_stellar_associations/ngc1433/vselect/ws8pc/PHANGS_IR4_hst_wfc3_ngc1433_v1p3_multi_assoc-vselect-ws8pc-idmask.fits\n",
      "[WARNING] Files missing for v_08pc. Skipping.\n",
      "Unpacking: /Users/abarnes/Dropbox/Data/Extragalactic/catalogues/multiscale_stellar_associations/ngc1433/vselect/ws16pc/PHANGS_IR4_hst_wfc3_ngc1433_v1p3_multi_assoc-vselect-ws16pc-idmask.fits.gz\n",
      "[INFO] Files found for v_16pc.\n",
      "Unpacking: /Users/abarnes/Dropbox/Data/Extragalactic/catalogues/multiscale_stellar_associations/ngc1433/vselect/ws32pc/PHANGS_IR4_hst_wfc3_ngc1433_v1p3_multi_assoc-vselect-ws32pc-idmask.fits.gz\n",
      "[INFO] Files found for v_32pc.\n",
      "Unpacking: /Users/abarnes/Dropbox/Data/Extragalactic/catalogues/multiscale_stellar_associations/ngc1433/vselect/ws64pc/PHANGS_IR4_hst_wfc3_ngc1433_v1p3_multi_assoc-vselect-ws64pc-idmask.fits.gz\n",
      "[INFO] Files found for v_64pc.\n",
      "File not found: /Users/abarnes/Dropbox/Data/Extragalactic/catalogues/multiscale_stellar_associations/ngc1433/nuvselect/ws8pc/PHANGS_IR4_hst_wfc3_ngc1433_v1p3_multi_assoc-nuvselect-ws8pc-idmask.fits\n",
      "[WARNING] Files missing for nuv_08pc. Skipping.\n",
      "Unpacking: /Users/abarnes/Dropbox/Data/Extragalactic/catalogues/multiscale_stellar_associations/ngc1433/nuvselect/ws16pc/PHANGS_IR4_hst_wfc3_ngc1433_v1p3_multi_assoc-nuvselect-ws16pc-idmask.fits.gz\n",
      "[INFO] Files found for nuv_16pc.\n",
      "Unpacking: /Users/abarnes/Dropbox/Data/Extragalactic/catalogues/multiscale_stellar_associations/ngc1433/nuvselect/ws32pc/PHANGS_IR4_hst_wfc3_ngc1433_v1p3_multi_assoc-nuvselect-ws32pc-idmask.fits.gz\n",
      "[INFO] Files found for nuv_32pc.\n",
      "Unpacking: /Users/abarnes/Dropbox/Data/Extragalactic/catalogues/multiscale_stellar_associations/ngc1433/nuvselect/ws64pc/PHANGS_IR4_hst_wfc3_ngc1433_v1p3_multi_assoc-nuvselect-ws64pc-idmask.fits.gz\n",
      "[INFO] Files found for nuv_64pc.\n",
      "[INFO] [load_pickle] Load /Users/abarnes/Dropbox/Projects/Extragalactic/hstha_nebulae_catalogue/ngc1433/cutouts_fixediso_10pc/sample.pickel\n",
      "[ASSOCIATIONS] Generating new cutouts for association masks...\n"
     ]
    },
    {
     "name": "stderr",
     "output_type": "stream",
     "text": [
      "Cropping regions: 100%|██████████| 176/176 [00:00<00:00, 701.55it/s]\n"
     ]
    },
    {
     "name": "stdout",
     "output_type": "stream",
     "text": [
      "[INFO] [save_pickle] Saved to /Users/abarnes/Dropbox/Projects/Extragalactic/hstha_nebulae_catalogue/ngc1433/cutouts_fixediso_10pc/hdus_catalog_mask_new.pickel\n"
     ]
    },
    {
     "name": "stderr",
     "output_type": "stream",
     "text": [
      "Cropping regions: 100%|██████████| 176/176 [00:00<00:00, 766.62it/s]\n"
     ]
    },
    {
     "name": "stdout",
     "output_type": "stream",
     "text": [
      "[INFO] [save_pickle] Saved to /Users/abarnes/Dropbox/Projects/Extragalactic/hstha_nebulae_catalogue/ngc1433/cutouts_fixediso_10pc/hdus_association_mask_new_v_16pc.pickel\n"
     ]
    },
    {
     "name": "stderr",
     "output_type": "stream",
     "text": [
      "Cropping regions: 100%|██████████| 176/176 [00:00<00:00, 762.40it/s]\n"
     ]
    },
    {
     "name": "stdout",
     "output_type": "stream",
     "text": [
      "[INFO] [save_pickle] Saved to /Users/abarnes/Dropbox/Projects/Extragalactic/hstha_nebulae_catalogue/ngc1433/cutouts_fixediso_10pc/hdus_association_mask_new_v_32pc.pickel\n"
     ]
    },
    {
     "name": "stderr",
     "output_type": "stream",
     "text": [
      "Cropping regions: 100%|██████████| 176/176 [00:00<00:00, 767.32it/s]\n"
     ]
    },
    {
     "name": "stdout",
     "output_type": "stream",
     "text": [
      "[INFO] [save_pickle] Saved to /Users/abarnes/Dropbox/Projects/Extragalactic/hstha_nebulae_catalogue/ngc1433/cutouts_fixediso_10pc/hdus_association_mask_new_v_64pc.pickel\n"
     ]
    },
    {
     "name": "stderr",
     "output_type": "stream",
     "text": [
      "Cropping regions: 100%|██████████| 176/176 [00:00<00:00, 682.50it/s]\n"
     ]
    },
    {
     "name": "stdout",
     "output_type": "stream",
     "text": [
      "[INFO] [save_pickle] Saved to /Users/abarnes/Dropbox/Projects/Extragalactic/hstha_nebulae_catalogue/ngc1433/cutouts_fixediso_10pc/hdus_association_mask_new_nuv_16pc.pickel\n"
     ]
    },
    {
     "name": "stderr",
     "output_type": "stream",
     "text": [
      "Cropping regions: 100%|██████████| 176/176 [00:00<00:00, 722.56it/s]\n"
     ]
    },
    {
     "name": "stdout",
     "output_type": "stream",
     "text": [
      "[INFO] [save_pickle] Saved to /Users/abarnes/Dropbox/Projects/Extragalactic/hstha_nebulae_catalogue/ngc1433/cutouts_fixediso_10pc/hdus_association_mask_new_nuv_32pc.pickel\n"
     ]
    },
    {
     "name": "stderr",
     "output_type": "stream",
     "text": [
      "Cropping regions: 100%|██████████| 176/176 [00:00<00:00, 690.92it/s]\n"
     ]
    },
    {
     "name": "stdout",
     "output_type": "stream",
     "text": [
      "[INFO] [save_pickle] Saved to /Users/abarnes/Dropbox/Projects/Extragalactic/hstha_nebulae_catalogue/ngc1433/cutouts_fixediso_10pc/hdus_association_mask_new_nuv_64pc.pickel\n"
     ]
    },
    {
     "name": "stderr",
     "output_type": "stream",
     "text": [
      "Match associations:: 100%|██████████| 176/176 [00:06<00:00, 25.54it/s]\n"
     ]
    },
    {
     "name": "stdout",
     "output_type": "stream",
     "text": [
      "[ASSOCIATIONS] Final association table saved to: /Users/abarnes/Dropbox/Projects/Extragalactic/hstha_nebulae_catalogue/ngc1433/catalogue_fixediso_10pc/props_all_association.fits\n",
      "Cleaning: /Users/abarnes/Dropbox/Data/Extragalactic/catalogues/multiscale_stellar_associations/ngc1433/vselect/ws16pc/PHANGS_IR4_hst_wfc3_ngc1433_v1p3_multi_assoc-vselect-ws16pc-idmask.fits\n",
      "Cleaning: /Users/abarnes/Dropbox/Data/Extragalactic/catalogues/multiscale_stellar_associations/ngc1433/vselect/ws32pc/PHANGS_IR4_hst_wfc3_ngc1433_v1p3_multi_assoc-vselect-ws32pc-idmask.fits\n",
      "Cleaning: /Users/abarnes/Dropbox/Data/Extragalactic/catalogues/multiscale_stellar_associations/ngc1433/vselect/ws64pc/PHANGS_IR4_hst_wfc3_ngc1433_v1p3_multi_assoc-vselect-ws64pc-idmask.fits\n",
      "Cleaning: /Users/abarnes/Dropbox/Data/Extragalactic/catalogues/multiscale_stellar_associations/ngc1433/nuvselect/ws16pc/PHANGS_IR4_hst_wfc3_ngc1433_v1p3_multi_assoc-nuvselect-ws16pc-idmask.fits\n",
      "Cleaning: /Users/abarnes/Dropbox/Data/Extragalactic/catalogues/multiscale_stellar_associations/ngc1433/nuvselect/ws32pc/PHANGS_IR4_hst_wfc3_ngc1433_v1p3_multi_assoc-nuvselect-ws32pc-idmask.fits\n",
      "Cleaning: /Users/abarnes/Dropbox/Data/Extragalactic/catalogues/multiscale_stellar_associations/ngc1433/nuvselect/ws64pc/PHANGS_IR4_hst_wfc3_ngc1433_v1p3_multi_assoc-nuvselect-ws64pc-idmask.fits\n"
     ]
    },
    {
     "data": {
      "text/plain": [
       "56134"
      ]
     },
     "execution_count": 9,
     "metadata": {},
     "output_type": "execute_result"
    }
   ],
   "source": [
    "galaxyname = 'ngc1433'\n",
    "\n",
    "mycat = catalogue_pipeline.PyHSTHACat(galaxyname, output_dir_append='_fixediso_10pc')\n",
    "mycat.hstha_err = ISOTHRESHOLD\n",
    "mycat.rerun_all = True\n",
    "mycat.hstha_file = mycat.hstha_file.replace('.fits', '_10pc_fixednoise.fits')\n",
    "\n",
    "mycat.make_paths()\n",
    "mycat.load_files()\n",
    "mycat.get_regions()\n",
    "mycat.get_cutouts()\n",
    "mycat.make_catalogue()\n",
    "\n",
    "mycat.rerun_cutouts_associations = True\n",
    "mycat.make_associations()\n",
    "\n",
    "# To free memory\n",
    "del mycat \n",
    "gc.collect()"
   ]
  },
  {
   "cell_type": "code",
   "execution_count": 10,
   "metadata": {},
   "outputs": [
    {
     "name": "stdout",
     "output_type": "stream",
     "text": [
      "[Info] Outputting to the following:\n",
      "/Users/abarnes/Dropbox/Projects/Extragalactic/hstha_nebulae_catalogue/ngc1512/\n",
      "[INFO] [get_MuseProps] Getting MUSE catalouge properties for ngc1512...\n",
      "[INFO] [get_galaxyprops] Getting sample table properties for ngc1512...\n",
      "[INFO] Using PSF size from header -- > 0.08 arcsec\n",
      "[INFO] Pixel scale taken as CDELT1, CDELT2\n",
      "[INFO] Pixel scale -- > 0.04 arcsec\n",
      "[INFO] Generating new DS9 region file...\n",
      "[INFO] [get_regions] Opening regions file (this may take a min)... \n",
      "[INFO] [get_regions] Getting info for 632 regions...\n",
      "[INFO] [save_pickle] Saved to /Users/abarnes/Dropbox/Projects/Extragalactic/hstha_nebulae_catalogue/ngc1512/cutouts_fixediso_10pc/sample.pickel\n",
      "[INFO] Generating cutouts for hstha_hdu...\n"
     ]
    },
    {
     "name": "stderr",
     "output_type": "stream",
     "text": [
      "Cropping regions: 100%|██████████| 632/632 [00:00<00:00, 734.31it/s]\n"
     ]
    },
    {
     "name": "stdout",
     "output_type": "stream",
     "text": [
      "[INFO] [save_pickle] Saved to /Users/abarnes/Dropbox/Projects/Extragalactic/hstha_nebulae_catalogue/ngc1512/cutouts_fixediso_10pc/hstha_hdu.pickel\n",
      "[INFO] Generating cutouts for musha_hdu...\n"
     ]
    },
    {
     "name": "stderr",
     "output_type": "stream",
     "text": [
      "Cropping regions: 100%|██████████| 632/632 [00:00<00:00, 977.42it/s]\n"
     ]
    },
    {
     "name": "stdout",
     "output_type": "stream",
     "text": [
      "[INFO] [save_pickle] Saved to /Users/abarnes/Dropbox/Projects/Extragalactic/hstha_nebulae_catalogue/ngc1512/cutouts_fixediso_10pc/musha_hdu.pickel\n",
      "[INFO] Generating cutouts for muscat_hdu...\n"
     ]
    },
    {
     "name": "stderr",
     "output_type": "stream",
     "text": [
      "Cropping regions: 100%|██████████| 632/632 [00:00<00:00, 888.44it/s]\n"
     ]
    },
    {
     "name": "stdout",
     "output_type": "stream",
     "text": [
      "[INFO] [save_pickle] Saved to /Users/abarnes/Dropbox/Projects/Extragalactic/hstha_nebulae_catalogue/ngc1512/cutouts_fixediso_10pc/muscat_hdu.pickel\n",
      "[INFO] [load_pickle] Load /Users/abarnes/Dropbox/Projects/Extragalactic/hstha_nebulae_catalogue/ngc1512/cutouts_fixediso_10pc/hstha_hdu.pickel\n",
      "[INFO] [load_pickle] Load /Users/abarnes/Dropbox/Projects/Extragalactic/hstha_nebulae_catalogue/ngc1512/cutouts_fixediso_10pc/musha_hdu.pickel\n",
      "[INFO] [load_pickle] Load /Users/abarnes/Dropbox/Projects/Extragalactic/hstha_nebulae_catalogue/ngc1512/cutouts_fixediso_10pc/muscat_hdu.pickel\n",
      "[INFO] All HDU cutouts saved to /Users/abarnes/Dropbox/Projects/Extragalactic/hstha_nebulae_catalogue/ngc1512/cutouts_fixediso_10pc/hdus_all.pickel\n",
      "[INFO] [save_pickle] Saved to /Users/abarnes/Dropbox/Projects/Extragalactic/hstha_nebulae_catalogue/ngc1512/cutouts_fixediso_10pc/hdus_all.pickel\n",
      "[CATALOGUE] Running catalogue generation for: ngc1512\n",
      "[INFO] [get_maskedhdus] Getting HST maps masked by MUSE catalouge...\n"
     ]
    },
    {
     "name": "stderr",
     "output_type": "stream",
     "text": [
      "Masking regions: 100%|██████████| 632/632 [00:13<00:00, 45.53it/s]\n"
     ]
    },
    {
     "name": "stdout",
     "output_type": "stream",
     "text": [
      "[INFO] [save_pickle] Saved to /Users/abarnes/Dropbox/Projects/Extragalactic/hstha_nebulae_catalogue/ngc1512/cutouts_fixediso_10pc/hdus_all_withmasked.pickel\n"
     ]
    },
    {
     "name": "stderr",
     "output_type": "stream",
     "text": [
      "Get sources: 100%|██████████| 632/632 [00:02<00:00, 299.88it/s]\n"
     ]
    },
    {
     "name": "stdout",
     "output_type": "stream",
     "text": [
      "[INFO] [get_MuseProps] Getting MUSE catalouge properties for ngc1512...\n"
     ]
    },
    {
     "name": "stderr",
     "output_type": "stream",
     "text": [
      "Masking regions: 100%|██████████| 632/632 [00:00<00:00, 5268.28it/s]\n",
      "Geting complexity score: 100%|██████████| 97/97 [00:01<00:00, 62.47it/s]\n",
      "Get touch flags:: 100%|██████████| 97/97 [00:01<00:00, 57.23it/s]\n"
     ]
    },
    {
     "name": "stdout",
     "output_type": "stream",
     "text": [
      "[CATALOGUE] Final properties table saved to: /Users/abarnes/Dropbox/Projects/Extragalactic/hstha_nebulae_catalogue/ngc1512/catalogue_fixediso_10pc/props_all.fits\n",
      "[CATALOGUE] Masks saved to /Users/abarnes/Dropbox/Projects/Extragalactic/hstha_nebulae_catalogue/ngc1512/catalogue_fixediso_10pc/ngc1512_mask.fits and /Users/abarnes/Dropbox/Projects/Extragalactic/hstha_nebulae_catalogue/ngc1512/catalogue_fixediso_10pc/ngc1512_complexity.fits\n",
      "[CATALOGUE] DS9 regions output to /Users/abarnes/Dropbox/Projects/Extragalactic/hstha_nebulae_catalogue/ngc1512/catalogue_fixediso_10pc/ngc1512_mask\n",
      "[CATALOGUE] Done!\n",
      "[ASSOCIATIONS] Checking association files for galaxy ngc1512 ...\n",
      "File not found: /Users/abarnes/Dropbox/Data/Extragalactic/catalogues/multiscale_stellar_associations/ngc1512/vselect/ws8pc/PHANGS_IR4_hst_wfc3_ngc1512_v1p3_multi_assoc-vselect-ws8pc-idmask.fits\n",
      "[WARNING] Files missing for v_08pc. Skipping.\n",
      "Unpacking: /Users/abarnes/Dropbox/Data/Extragalactic/catalogues/multiscale_stellar_associations/ngc1512/vselect/ws16pc/PHANGS_IR4_hst_wfc3_ngc1512_v1p3_multi_assoc-vselect-ws16pc-idmask.fits.gz\n",
      "[INFO] Files found for v_16pc.\n",
      "Unpacking: /Users/abarnes/Dropbox/Data/Extragalactic/catalogues/multiscale_stellar_associations/ngc1512/vselect/ws32pc/PHANGS_IR4_hst_wfc3_ngc1512_v1p3_multi_assoc-vselect-ws32pc-idmask.fits.gz\n",
      "[INFO] Files found for v_32pc.\n",
      "Unpacking: /Users/abarnes/Dropbox/Data/Extragalactic/catalogues/multiscale_stellar_associations/ngc1512/vselect/ws64pc/PHANGS_IR4_hst_wfc3_ngc1512_v1p3_multi_assoc-vselect-ws64pc-idmask.fits.gz\n",
      "[INFO] Files found for v_64pc.\n",
      "File not found: /Users/abarnes/Dropbox/Data/Extragalactic/catalogues/multiscale_stellar_associations/ngc1512/nuvselect/ws8pc/PHANGS_IR4_hst_wfc3_ngc1512_v1p3_multi_assoc-nuvselect-ws8pc-idmask.fits\n",
      "[WARNING] Files missing for nuv_08pc. Skipping.\n",
      "Unpacking: /Users/abarnes/Dropbox/Data/Extragalactic/catalogues/multiscale_stellar_associations/ngc1512/nuvselect/ws16pc/PHANGS_IR4_hst_wfc3_ngc1512_v1p3_multi_assoc-nuvselect-ws16pc-idmask.fits.gz\n",
      "[INFO] Files found for nuv_16pc.\n",
      "Unpacking: /Users/abarnes/Dropbox/Data/Extragalactic/catalogues/multiscale_stellar_associations/ngc1512/nuvselect/ws32pc/PHANGS_IR4_hst_wfc3_ngc1512_v1p3_multi_assoc-nuvselect-ws32pc-idmask.fits.gz\n",
      "[INFO] Files found for nuv_32pc.\n",
      "Unpacking: /Users/abarnes/Dropbox/Data/Extragalactic/catalogues/multiscale_stellar_associations/ngc1512/nuvselect/ws64pc/PHANGS_IR4_hst_wfc3_ngc1512_v1p3_multi_assoc-nuvselect-ws64pc-idmask.fits.gz\n",
      "[INFO] Files found for nuv_64pc.\n",
      "[INFO] [load_pickle] Load /Users/abarnes/Dropbox/Projects/Extragalactic/hstha_nebulae_catalogue/ngc1512/cutouts_fixediso_10pc/sample.pickel\n",
      "[ASSOCIATIONS] Generating new cutouts for association masks...\n"
     ]
    },
    {
     "name": "stderr",
     "output_type": "stream",
     "text": [
      "Cropping regions: 100%|██████████| 97/97 [00:00<00:00, 735.04it/s]\n"
     ]
    },
    {
     "name": "stdout",
     "output_type": "stream",
     "text": [
      "[INFO] [save_pickle] Saved to /Users/abarnes/Dropbox/Projects/Extragalactic/hstha_nebulae_catalogue/ngc1512/cutouts_fixediso_10pc/hdus_catalog_mask_new.pickel\n"
     ]
    },
    {
     "name": "stderr",
     "output_type": "stream",
     "text": [
      "Cropping regions: 100%|██████████| 97/97 [00:00<00:00, 802.65it/s]\n"
     ]
    },
    {
     "name": "stdout",
     "output_type": "stream",
     "text": [
      "[INFO] [save_pickle] Saved to /Users/abarnes/Dropbox/Projects/Extragalactic/hstha_nebulae_catalogue/ngc1512/cutouts_fixediso_10pc/hdus_association_mask_new_v_16pc.pickel\n"
     ]
    },
    {
     "name": "stderr",
     "output_type": "stream",
     "text": [
      "Cropping regions: 100%|██████████| 97/97 [00:00<00:00, 795.12it/s]\n"
     ]
    },
    {
     "name": "stdout",
     "output_type": "stream",
     "text": [
      "[INFO] [save_pickle] Saved to /Users/abarnes/Dropbox/Projects/Extragalactic/hstha_nebulae_catalogue/ngc1512/cutouts_fixediso_10pc/hdus_association_mask_new_v_32pc.pickel\n"
     ]
    },
    {
     "name": "stderr",
     "output_type": "stream",
     "text": [
      "Cropping regions: 100%|██████████| 97/97 [00:00<00:00, 808.09it/s]\n"
     ]
    },
    {
     "name": "stdout",
     "output_type": "stream",
     "text": [
      "[INFO] [save_pickle] Saved to /Users/abarnes/Dropbox/Projects/Extragalactic/hstha_nebulae_catalogue/ngc1512/cutouts_fixediso_10pc/hdus_association_mask_new_v_64pc.pickel\n"
     ]
    },
    {
     "name": "stderr",
     "output_type": "stream",
     "text": [
      "Cropping regions: 100%|██████████| 97/97 [00:00<00:00, 766.97it/s]\n"
     ]
    },
    {
     "name": "stdout",
     "output_type": "stream",
     "text": [
      "[INFO] [save_pickle] Saved to /Users/abarnes/Dropbox/Projects/Extragalactic/hstha_nebulae_catalogue/ngc1512/cutouts_fixediso_10pc/hdus_association_mask_new_nuv_16pc.pickel\n"
     ]
    },
    {
     "name": "stderr",
     "output_type": "stream",
     "text": [
      "Cropping regions: 100%|██████████| 97/97 [00:00<00:00, 797.43it/s]\n"
     ]
    },
    {
     "name": "stdout",
     "output_type": "stream",
     "text": [
      "[INFO] [save_pickle] Saved to /Users/abarnes/Dropbox/Projects/Extragalactic/hstha_nebulae_catalogue/ngc1512/cutouts_fixediso_10pc/hdus_association_mask_new_nuv_32pc.pickel\n"
     ]
    },
    {
     "name": "stderr",
     "output_type": "stream",
     "text": [
      "Cropping regions: 100%|██████████| 97/97 [00:00<00:00, 804.75it/s]\n"
     ]
    },
    {
     "name": "stdout",
     "output_type": "stream",
     "text": [
      "[INFO] [save_pickle] Saved to /Users/abarnes/Dropbox/Projects/Extragalactic/hstha_nebulae_catalogue/ngc1512/cutouts_fixediso_10pc/hdus_association_mask_new_nuv_64pc.pickel\n"
     ]
    },
    {
     "name": "stderr",
     "output_type": "stream",
     "text": [
      "Match associations:: 100%|██████████| 97/97 [00:02<00:00, 33.96it/s]\n"
     ]
    },
    {
     "name": "stdout",
     "output_type": "stream",
     "text": [
      "[ASSOCIATIONS] Final association table saved to: /Users/abarnes/Dropbox/Projects/Extragalactic/hstha_nebulae_catalogue/ngc1512/catalogue_fixediso_10pc/props_all_association.fits\n",
      "Cleaning: /Users/abarnes/Dropbox/Data/Extragalactic/catalogues/multiscale_stellar_associations/ngc1512/vselect/ws16pc/PHANGS_IR4_hst_wfc3_ngc1512_v1p3_multi_assoc-vselect-ws16pc-idmask.fits\n",
      "Cleaning: /Users/abarnes/Dropbox/Data/Extragalactic/catalogues/multiscale_stellar_associations/ngc1512/vselect/ws32pc/PHANGS_IR4_hst_wfc3_ngc1512_v1p3_multi_assoc-vselect-ws32pc-idmask.fits\n",
      "Cleaning: /Users/abarnes/Dropbox/Data/Extragalactic/catalogues/multiscale_stellar_associations/ngc1512/vselect/ws64pc/PHANGS_IR4_hst_wfc3_ngc1512_v1p3_multi_assoc-vselect-ws64pc-idmask.fits\n",
      "Cleaning: /Users/abarnes/Dropbox/Data/Extragalactic/catalogues/multiscale_stellar_associations/ngc1512/nuvselect/ws16pc/PHANGS_IR4_hst_wfc3_ngc1512_v1p3_multi_assoc-nuvselect-ws16pc-idmask.fits\n",
      "Cleaning: /Users/abarnes/Dropbox/Data/Extragalactic/catalogues/multiscale_stellar_associations/ngc1512/nuvselect/ws32pc/PHANGS_IR4_hst_wfc3_ngc1512_v1p3_multi_assoc-nuvselect-ws32pc-idmask.fits\n",
      "Cleaning: /Users/abarnes/Dropbox/Data/Extragalactic/catalogues/multiscale_stellar_associations/ngc1512/nuvselect/ws64pc/PHANGS_IR4_hst_wfc3_ngc1512_v1p3_multi_assoc-nuvselect-ws64pc-idmask.fits\n"
     ]
    },
    {
     "data": {
      "text/plain": [
       "28298"
      ]
     },
     "execution_count": 10,
     "metadata": {},
     "output_type": "execute_result"
    }
   ],
   "source": [
    "galaxyname = 'ngc1512'\n",
    "\n",
    "mycat = catalogue_pipeline.PyHSTHACat(galaxyname, output_dir_append='_fixediso_10pc')\n",
    "mycat.hstha_err = ISOTHRESHOLD\n",
    "mycat.rerun_all = True\n",
    "mycat.hstha_file = mycat.hstha_file.replace('.fits', '_10pc_fixednoise.fits')\n",
    "\n",
    "mycat.make_paths()\n",
    "mycat.load_files()\n",
    "mycat.get_regions()\n",
    "mycat.get_cutouts()\n",
    "mycat.make_catalogue()\n",
    "\n",
    "mycat.rerun_cutouts_associations = True\n",
    "mycat.make_associations()\n",
    "\n",
    "# To free memory\n",
    "del mycat \n",
    "gc.collect()"
   ]
  },
  {
   "cell_type": "code",
   "execution_count": 11,
   "metadata": {},
   "outputs": [
    {
     "name": "stdout",
     "output_type": "stream",
     "text": [
      "[Info] Outputting to the following:\n",
      "/Users/abarnes/Dropbox/Projects/Extragalactic/hstha_nebulae_catalogue/ngc1566/\n",
      "[INFO] [get_MuseProps] Getting MUSE catalouge properties for ngc1566...\n",
      "[INFO] [get_galaxyprops] Getting sample table properties for ngc1566...\n",
      "[INFO] Using PSF size from header -- > 0.08 arcsec\n",
      "[INFO] Pixel scale taken as CDELT1, CDELT2\n",
      "[INFO] Pixel scale -- > 0.04 arcsec\n",
      "[INFO] Generating new DS9 region file...\n",
      "[INFO] [get_regions] Opening regions file (this may take a min)... \n",
      "[INFO] [get_regions] Getting info for 2404 regions...\n",
      "[INFO] [save_pickle] Saved to /Users/abarnes/Dropbox/Projects/Extragalactic/hstha_nebulae_catalogue/ngc1566/cutouts_fixediso_10pc/sample.pickel\n",
      "[INFO] Generating cutouts for hstha_hdu...\n"
     ]
    },
    {
     "name": "stderr",
     "output_type": "stream",
     "text": [
      "Cropping regions: 100%|██████████| 2404/2404 [00:03<00:00, 784.22it/s]\n"
     ]
    },
    {
     "name": "stdout",
     "output_type": "stream",
     "text": [
      "[INFO] [save_pickle] Saved to /Users/abarnes/Dropbox/Projects/Extragalactic/hstha_nebulae_catalogue/ngc1566/cutouts_fixediso_10pc/hstha_hdu.pickel\n",
      "[INFO] Generating cutouts for musha_hdu...\n"
     ]
    },
    {
     "name": "stderr",
     "output_type": "stream",
     "text": [
      "Cropping regions: 100%|██████████| 2404/2404 [00:02<00:00, 947.89it/s]\n"
     ]
    },
    {
     "name": "stdout",
     "output_type": "stream",
     "text": [
      "[INFO] [save_pickle] Saved to /Users/abarnes/Dropbox/Projects/Extragalactic/hstha_nebulae_catalogue/ngc1566/cutouts_fixediso_10pc/musha_hdu.pickel\n",
      "[INFO] Generating cutouts for muscat_hdu...\n"
     ]
    },
    {
     "name": "stderr",
     "output_type": "stream",
     "text": [
      "Cropping regions: 100%|██████████| 2404/2404 [00:02<00:00, 878.07it/s]\n"
     ]
    },
    {
     "name": "stdout",
     "output_type": "stream",
     "text": [
      "[INFO] [save_pickle] Saved to /Users/abarnes/Dropbox/Projects/Extragalactic/hstha_nebulae_catalogue/ngc1566/cutouts_fixediso_10pc/muscat_hdu.pickel\n",
      "[INFO] [load_pickle] Load /Users/abarnes/Dropbox/Projects/Extragalactic/hstha_nebulae_catalogue/ngc1566/cutouts_fixediso_10pc/hstha_hdu.pickel\n",
      "[INFO] [load_pickle] Load /Users/abarnes/Dropbox/Projects/Extragalactic/hstha_nebulae_catalogue/ngc1566/cutouts_fixediso_10pc/musha_hdu.pickel\n",
      "[INFO] [load_pickle] Load /Users/abarnes/Dropbox/Projects/Extragalactic/hstha_nebulae_catalogue/ngc1566/cutouts_fixediso_10pc/muscat_hdu.pickel\n",
      "[INFO] All HDU cutouts saved to /Users/abarnes/Dropbox/Projects/Extragalactic/hstha_nebulae_catalogue/ngc1566/cutouts_fixediso_10pc/hdus_all.pickel\n",
      "[INFO] [save_pickle] Saved to /Users/abarnes/Dropbox/Projects/Extragalactic/hstha_nebulae_catalogue/ngc1566/cutouts_fixediso_10pc/hdus_all.pickel\n",
      "[CATALOGUE] Running catalogue generation for: ngc1566\n",
      "[INFO] [get_maskedhdus] Getting HST maps masked by MUSE catalouge...\n"
     ]
    },
    {
     "name": "stderr",
     "output_type": "stream",
     "text": [
      "Masking regions: 100%|██████████| 2404/2404 [00:45<00:00, 52.55it/s]\n"
     ]
    },
    {
     "name": "stdout",
     "output_type": "stream",
     "text": [
      "[INFO] [save_pickle] Saved to /Users/abarnes/Dropbox/Projects/Extragalactic/hstha_nebulae_catalogue/ngc1566/cutouts_fixediso_10pc/hdus_all_withmasked.pickel\n"
     ]
    },
    {
     "name": "stderr",
     "output_type": "stream",
     "text": [
      "Get sources: 100%|██████████| 2404/2404 [00:12<00:00, 185.26it/s]\n"
     ]
    },
    {
     "name": "stdout",
     "output_type": "stream",
     "text": [
      "[INFO] [get_MuseProps] Getting MUSE catalouge properties for ngc1566...\n"
     ]
    },
    {
     "name": "stderr",
     "output_type": "stream",
     "text": [
      "Masking regions: 100%|██████████| 2404/2404 [00:00<00:00, 3832.18it/s]\n",
      "Geting complexity score: 100%|██████████| 497/497 [00:08<00:00, 57.27it/s]\n",
      "Get touch flags:: 100%|██████████| 497/497 [00:08<00:00, 55.32it/s]\n"
     ]
    },
    {
     "name": "stdout",
     "output_type": "stream",
     "text": [
      "[CATALOGUE] Final properties table saved to: /Users/abarnes/Dropbox/Projects/Extragalactic/hstha_nebulae_catalogue/ngc1566/catalogue_fixediso_10pc/props_all.fits\n",
      "[CATALOGUE] Masks saved to /Users/abarnes/Dropbox/Projects/Extragalactic/hstha_nebulae_catalogue/ngc1566/catalogue_fixediso_10pc/ngc1566_mask.fits and /Users/abarnes/Dropbox/Projects/Extragalactic/hstha_nebulae_catalogue/ngc1566/catalogue_fixediso_10pc/ngc1566_complexity.fits\n",
      "[CATALOGUE] DS9 regions output to /Users/abarnes/Dropbox/Projects/Extragalactic/hstha_nebulae_catalogue/ngc1566/catalogue_fixediso_10pc/ngc1566_mask\n",
      "[CATALOGUE] Done!\n",
      "[ASSOCIATIONS] Checking association files for galaxy ngc1566 ...\n",
      "File not found: /Users/abarnes/Dropbox/Data/Extragalactic/catalogues/multiscale_stellar_associations/ngc1566/vselect/ws8pc/PHANGS_IR4_hst_wfc3_ngc1566_v1p3_multi_assoc-vselect-ws8pc-idmask.fits\n",
      "[WARNING] Files missing for v_08pc. Skipping.\n",
      "Unpacking: /Users/abarnes/Dropbox/Data/Extragalactic/catalogues/multiscale_stellar_associations/ngc1566/vselect/ws16pc/PHANGS_IR4_hst_wfc3_ngc1566_v1p3_multi_assoc-vselect-ws16pc-idmask.fits.gz\n",
      "[INFO] Files found for v_16pc.\n",
      "Unpacking: /Users/abarnes/Dropbox/Data/Extragalactic/catalogues/multiscale_stellar_associations/ngc1566/vselect/ws32pc/PHANGS_IR4_hst_wfc3_ngc1566_v1p3_multi_assoc-vselect-ws32pc-idmask.fits.gz\n",
      "[INFO] Files found for v_32pc.\n",
      "Unpacking: /Users/abarnes/Dropbox/Data/Extragalactic/catalogues/multiscale_stellar_associations/ngc1566/vselect/ws64pc/PHANGS_IR4_hst_wfc3_ngc1566_v1p3_multi_assoc-vselect-ws64pc-idmask.fits.gz\n",
      "[INFO] Files found for v_64pc.\n",
      "File not found: /Users/abarnes/Dropbox/Data/Extragalactic/catalogues/multiscale_stellar_associations/ngc1566/nuvselect/ws8pc/PHANGS_IR4_hst_wfc3_ngc1566_v1p3_multi_assoc-nuvselect-ws8pc-idmask.fits\n",
      "[WARNING] Files missing for nuv_08pc. Skipping.\n",
      "Unpacking: /Users/abarnes/Dropbox/Data/Extragalactic/catalogues/multiscale_stellar_associations/ngc1566/nuvselect/ws16pc/PHANGS_IR4_hst_wfc3_ngc1566_v1p3_multi_assoc-nuvselect-ws16pc-idmask.fits.gz\n",
      "[INFO] Files found for nuv_16pc.\n",
      "File found: /Users/abarnes/Dropbox/Data/Extragalactic/catalogues/multiscale_stellar_associations/ngc1566/nuvselect/ws32pc/PHANGS_IR4_hst_wfc3_ngc1566_v1p3_multi_assoc-nuvselect-ws32pc-idmask.fits\n",
      "[INFO] Files found for nuv_32pc.\n",
      "Unpacking: /Users/abarnes/Dropbox/Data/Extragalactic/catalogues/multiscale_stellar_associations/ngc1566/nuvselect/ws64pc/PHANGS_IR4_hst_wfc3_ngc1566_v1p3_multi_assoc-nuvselect-ws64pc-idmask.fits.gz\n",
      "[INFO] Files found for nuv_64pc.\n",
      "[INFO] [load_pickle] Load /Users/abarnes/Dropbox/Projects/Extragalactic/hstha_nebulae_catalogue/ngc1566/cutouts_fixediso_10pc/sample.pickel\n",
      "[ASSOCIATIONS] Generating new cutouts for association masks...\n"
     ]
    },
    {
     "name": "stderr",
     "output_type": "stream",
     "text": [
      "Cropping regions: 100%|██████████| 497/497 [00:00<00:00, 778.16it/s]\n"
     ]
    },
    {
     "name": "stdout",
     "output_type": "stream",
     "text": [
      "[INFO] [save_pickle] Saved to /Users/abarnes/Dropbox/Projects/Extragalactic/hstha_nebulae_catalogue/ngc1566/cutouts_fixediso_10pc/hdus_catalog_mask_new.pickel\n"
     ]
    },
    {
     "name": "stderr",
     "output_type": "stream",
     "text": [
      "Cropping regions: 100%|██████████| 497/497 [00:00<00:00, 758.24it/s]\n"
     ]
    },
    {
     "name": "stdout",
     "output_type": "stream",
     "text": [
      "[INFO] [save_pickle] Saved to /Users/abarnes/Dropbox/Projects/Extragalactic/hstha_nebulae_catalogue/ngc1566/cutouts_fixediso_10pc/hdus_association_mask_new_v_16pc.pickel\n"
     ]
    },
    {
     "name": "stderr",
     "output_type": "stream",
     "text": [
      "Cropping regions: 100%|██████████| 497/497 [00:00<00:00, 748.65it/s]\n"
     ]
    },
    {
     "name": "stdout",
     "output_type": "stream",
     "text": [
      "[INFO] [save_pickle] Saved to /Users/abarnes/Dropbox/Projects/Extragalactic/hstha_nebulae_catalogue/ngc1566/cutouts_fixediso_10pc/hdus_association_mask_new_v_32pc.pickel\n"
     ]
    },
    {
     "name": "stderr",
     "output_type": "stream",
     "text": [
      "Cropping regions: 100%|██████████| 497/497 [00:00<00:00, 771.73it/s]\n"
     ]
    },
    {
     "name": "stdout",
     "output_type": "stream",
     "text": [
      "[INFO] [save_pickle] Saved to /Users/abarnes/Dropbox/Projects/Extragalactic/hstha_nebulae_catalogue/ngc1566/cutouts_fixediso_10pc/hdus_association_mask_new_v_64pc.pickel\n"
     ]
    },
    {
     "name": "stderr",
     "output_type": "stream",
     "text": [
      "Cropping regions: 100%|██████████| 497/497 [00:00<00:00, 709.75it/s]\n"
     ]
    },
    {
     "name": "stdout",
     "output_type": "stream",
     "text": [
      "[INFO] [save_pickle] Saved to /Users/abarnes/Dropbox/Projects/Extragalactic/hstha_nebulae_catalogue/ngc1566/cutouts_fixediso_10pc/hdus_association_mask_new_nuv_16pc.pickel\n"
     ]
    },
    {
     "name": "stderr",
     "output_type": "stream",
     "text": [
      "Cropping regions: 100%|██████████| 497/497 [00:00<00:00, 724.37it/s]\n"
     ]
    },
    {
     "name": "stdout",
     "output_type": "stream",
     "text": [
      "[INFO] [save_pickle] Saved to /Users/abarnes/Dropbox/Projects/Extragalactic/hstha_nebulae_catalogue/ngc1566/cutouts_fixediso_10pc/hdus_association_mask_new_nuv_32pc.pickel\n"
     ]
    },
    {
     "name": "stderr",
     "output_type": "stream",
     "text": [
      "Cropping regions: 100%|██████████| 497/497 [00:00<00:00, 781.17it/s]\n"
     ]
    },
    {
     "name": "stdout",
     "output_type": "stream",
     "text": [
      "[INFO] [save_pickle] Saved to /Users/abarnes/Dropbox/Projects/Extragalactic/hstha_nebulae_catalogue/ngc1566/cutouts_fixediso_10pc/hdus_association_mask_new_nuv_64pc.pickel\n"
     ]
    },
    {
     "name": "stderr",
     "output_type": "stream",
     "text": [
      "Match associations:: 100%|██████████| 497/497 [00:13<00:00, 35.75it/s]\n"
     ]
    },
    {
     "name": "stdout",
     "output_type": "stream",
     "text": [
      "[ASSOCIATIONS] Final association table saved to: /Users/abarnes/Dropbox/Projects/Extragalactic/hstha_nebulae_catalogue/ngc1566/catalogue_fixediso_10pc/props_all_association.fits\n",
      "Cleaning: /Users/abarnes/Dropbox/Data/Extragalactic/catalogues/multiscale_stellar_associations/ngc1566/vselect/ws16pc/PHANGS_IR4_hst_wfc3_ngc1566_v1p3_multi_assoc-vselect-ws16pc-idmask.fits\n",
      "Cleaning: /Users/abarnes/Dropbox/Data/Extragalactic/catalogues/multiscale_stellar_associations/ngc1566/vselect/ws32pc/PHANGS_IR4_hst_wfc3_ngc1566_v1p3_multi_assoc-vselect-ws32pc-idmask.fits\n",
      "Cleaning: /Users/abarnes/Dropbox/Data/Extragalactic/catalogues/multiscale_stellar_associations/ngc1566/vselect/ws64pc/PHANGS_IR4_hst_wfc3_ngc1566_v1p3_multi_assoc-vselect-ws64pc-idmask.fits\n",
      "Cleaning: /Users/abarnes/Dropbox/Data/Extragalactic/catalogues/multiscale_stellar_associations/ngc1566/nuvselect/ws16pc/PHANGS_IR4_hst_wfc3_ngc1566_v1p3_multi_assoc-nuvselect-ws16pc-idmask.fits\n",
      "Cleaning: /Users/abarnes/Dropbox/Data/Extragalactic/catalogues/multiscale_stellar_associations/ngc1566/nuvselect/ws32pc/PHANGS_IR4_hst_wfc3_ngc1566_v1p3_multi_assoc-nuvselect-ws32pc-idmask.fits\n",
      "Cleaning: /Users/abarnes/Dropbox/Data/Extragalactic/catalogues/multiscale_stellar_associations/ngc1566/nuvselect/ws64pc/PHANGS_IR4_hst_wfc3_ngc1566_v1p3_multi_assoc-nuvselect-ws64pc-idmask.fits\n"
     ]
    },
    {
     "data": {
      "text/plain": [
       "38673"
      ]
     },
     "execution_count": 11,
     "metadata": {},
     "output_type": "execute_result"
    }
   ],
   "source": [
    "galaxyname = 'ngc1566'\n",
    "\n",
    "mycat = catalogue_pipeline.PyHSTHACat(galaxyname, output_dir_append='_fixediso_10pc')\n",
    "mycat.hstha_err = ISOTHRESHOLD\n",
    "mycat.rerun_all = True\n",
    "mycat.hstha_file = mycat.hstha_file.replace('.fits', '_10pc_fixednoise.fits')\n",
    "\n",
    "mycat.make_paths()\n",
    "mycat.load_files()\n",
    "mycat.get_regions()\n",
    "mycat.get_cutouts()\n",
    "mycat.make_catalogue()\n",
    "\n",
    "mycat.rerun_cutouts_associations = True\n",
    "mycat.make_associations()\n",
    "\n",
    "# To free memory\n",
    "del mycat \n",
    "gc.collect()"
   ]
  },
  {
   "cell_type": "code",
   "execution_count": 12,
   "metadata": {},
   "outputs": [
    {
     "name": "stdout",
     "output_type": "stream",
     "text": [
      "[Info] Outputting to the following:\n",
      "/Users/abarnes/Dropbox/Projects/Extragalactic/hstha_nebulae_catalogue/ngc1672/\n",
      "[INFO] [get_MuseProps] Getting MUSE catalouge properties for ngc1672...\n",
      "[INFO] [get_galaxyprops] Getting sample table properties for ngc1672...\n",
      "[INFO] Using PSF size from header -- > 0.07 arcsec\n",
      "[INFO] Pixel scale taken as CDELT1, CDELT2\n",
      "[INFO] Pixel scale -- > 0.04 arcsec\n",
      "[INFO] Generating new DS9 region file...\n",
      "[INFO] [get_regions] Opening regions file (this may take a min)... \n",
      "[INFO] [get_regions] Getting info for 1581 regions...\n",
      "[INFO] [save_pickle] Saved to /Users/abarnes/Dropbox/Projects/Extragalactic/hstha_nebulae_catalogue/ngc1672/cutouts_fixediso_10pc/sample.pickel\n",
      "[INFO] Generating cutouts for hstha_hdu...\n"
     ]
    },
    {
     "name": "stderr",
     "output_type": "stream",
     "text": [
      "Cropping regions: 100%|██████████| 1581/1581 [00:02<00:00, 632.60it/s]\n"
     ]
    },
    {
     "name": "stdout",
     "output_type": "stream",
     "text": [
      "[INFO] [save_pickle] Saved to /Users/abarnes/Dropbox/Projects/Extragalactic/hstha_nebulae_catalogue/ngc1672/cutouts_fixediso_10pc/hstha_hdu.pickel\n",
      "[INFO] Generating cutouts for musha_hdu...\n"
     ]
    },
    {
     "name": "stderr",
     "output_type": "stream",
     "text": [
      "Cropping regions: 100%|██████████| 1581/1581 [00:01<00:00, 924.59it/s]\n"
     ]
    },
    {
     "name": "stdout",
     "output_type": "stream",
     "text": [
      "[INFO] [save_pickle] Saved to /Users/abarnes/Dropbox/Projects/Extragalactic/hstha_nebulae_catalogue/ngc1672/cutouts_fixediso_10pc/musha_hdu.pickel\n",
      "[INFO] Generating cutouts for muscat_hdu...\n"
     ]
    },
    {
     "name": "stderr",
     "output_type": "stream",
     "text": [
      "Cropping regions: 100%|██████████| 1581/1581 [00:01<00:00, 830.81it/s]\n"
     ]
    },
    {
     "name": "stdout",
     "output_type": "stream",
     "text": [
      "[INFO] [save_pickle] Saved to /Users/abarnes/Dropbox/Projects/Extragalactic/hstha_nebulae_catalogue/ngc1672/cutouts_fixediso_10pc/muscat_hdu.pickel\n",
      "[INFO] [load_pickle] Load /Users/abarnes/Dropbox/Projects/Extragalactic/hstha_nebulae_catalogue/ngc1672/cutouts_fixediso_10pc/hstha_hdu.pickel\n",
      "[INFO] [load_pickle] Load /Users/abarnes/Dropbox/Projects/Extragalactic/hstha_nebulae_catalogue/ngc1672/cutouts_fixediso_10pc/musha_hdu.pickel\n",
      "[INFO] [load_pickle] Load /Users/abarnes/Dropbox/Projects/Extragalactic/hstha_nebulae_catalogue/ngc1672/cutouts_fixediso_10pc/muscat_hdu.pickel\n",
      "[INFO] All HDU cutouts saved to /Users/abarnes/Dropbox/Projects/Extragalactic/hstha_nebulae_catalogue/ngc1672/cutouts_fixediso_10pc/hdus_all.pickel\n",
      "[INFO] [save_pickle] Saved to /Users/abarnes/Dropbox/Projects/Extragalactic/hstha_nebulae_catalogue/ngc1672/cutouts_fixediso_10pc/hdus_all.pickel\n",
      "[CATALOGUE] Running catalogue generation for: ngc1672\n",
      "[INFO] [get_maskedhdus] Getting HST maps masked by MUSE catalouge...\n"
     ]
    },
    {
     "name": "stderr",
     "output_type": "stream",
     "text": [
      "Masking regions: 100%|██████████| 1581/1581 [00:38<00:00, 41.00it/s]\n"
     ]
    },
    {
     "name": "stdout",
     "output_type": "stream",
     "text": [
      "[INFO] [save_pickle] Saved to /Users/abarnes/Dropbox/Projects/Extragalactic/hstha_nebulae_catalogue/ngc1672/cutouts_fixediso_10pc/hdus_all_withmasked.pickel\n"
     ]
    },
    {
     "name": "stderr",
     "output_type": "stream",
     "text": [
      "Get sources: 100%|██████████| 1581/1581 [00:11<00:00, 141.52it/s]\n"
     ]
    },
    {
     "name": "stdout",
     "output_type": "stream",
     "text": [
      "[INFO] [get_MuseProps] Getting MUSE catalouge properties for ngc1672...\n"
     ]
    },
    {
     "name": "stderr",
     "output_type": "stream",
     "text": [
      "Masking regions: 100%|██████████| 1581/1581 [00:00<00:00, 2892.47it/s]\n",
      "Geting complexity score: 100%|██████████| 438/438 [00:16<00:00, 26.17it/s]\n",
      "Get touch flags:: 100%|██████████| 438/438 [00:14<00:00, 30.51it/s]\n"
     ]
    },
    {
     "name": "stdout",
     "output_type": "stream",
     "text": [
      "[CATALOGUE] Final properties table saved to: /Users/abarnes/Dropbox/Projects/Extragalactic/hstha_nebulae_catalogue/ngc1672/catalogue_fixediso_10pc/props_all.fits\n",
      "[CATALOGUE] Masks saved to /Users/abarnes/Dropbox/Projects/Extragalactic/hstha_nebulae_catalogue/ngc1672/catalogue_fixediso_10pc/ngc1672_mask.fits and /Users/abarnes/Dropbox/Projects/Extragalactic/hstha_nebulae_catalogue/ngc1672/catalogue_fixediso_10pc/ngc1672_complexity.fits\n",
      "[CATALOGUE] DS9 regions output to /Users/abarnes/Dropbox/Projects/Extragalactic/hstha_nebulae_catalogue/ngc1672/catalogue_fixediso_10pc/ngc1672_mask\n",
      "[CATALOGUE] Done!\n",
      "[ASSOCIATIONS] Checking association files for galaxy ngc1672 ...\n",
      "File not found: /Users/abarnes/Dropbox/Data/Extragalactic/catalogues/multiscale_stellar_associations/ngc1672/vselect/ws8pc/PHANGS_IR4_hst_wfc3_ngc1672_v1p3_multi_assoc-vselect-ws8pc-idmask.fits\n",
      "[WARNING] Files missing for v_08pc. Skipping.\n",
      "Unpacking: /Users/abarnes/Dropbox/Data/Extragalactic/catalogues/multiscale_stellar_associations/ngc1672/vselect/ws16pc/PHANGS_IR4_hst_wfc3_ngc1672_v1p3_multi_assoc-vselect-ws16pc-idmask.fits.gz\n",
      "[INFO] Files found for v_16pc.\n",
      "Unpacking: /Users/abarnes/Dropbox/Data/Extragalactic/catalogues/multiscale_stellar_associations/ngc1672/vselect/ws32pc/PHANGS_IR4_hst_wfc3_ngc1672_v1p3_multi_assoc-vselect-ws32pc-idmask.fits.gz\n",
      "[INFO] Files found for v_32pc.\n",
      "Unpacking: /Users/abarnes/Dropbox/Data/Extragalactic/catalogues/multiscale_stellar_associations/ngc1672/vselect/ws64pc/PHANGS_IR4_hst_wfc3_ngc1672_v1p3_multi_assoc-vselect-ws64pc-idmask.fits.gz\n",
      "[INFO] Files found for v_64pc.\n",
      "File not found: /Users/abarnes/Dropbox/Data/Extragalactic/catalogues/multiscale_stellar_associations/ngc1672/nuvselect/ws8pc/PHANGS_IR4_hst_wfc3_ngc1672_v1p3_multi_assoc-nuvselect-ws8pc-idmask.fits\n",
      "[WARNING] Files missing for nuv_08pc. Skipping.\n",
      "Unpacking: /Users/abarnes/Dropbox/Data/Extragalactic/catalogues/multiscale_stellar_associations/ngc1672/nuvselect/ws16pc/PHANGS_IR4_hst_wfc3_ngc1672_v1p3_multi_assoc-nuvselect-ws16pc-idmask.fits.gz\n",
      "[INFO] Files found for nuv_16pc.\n",
      "Unpacking: /Users/abarnes/Dropbox/Data/Extragalactic/catalogues/multiscale_stellar_associations/ngc1672/nuvselect/ws32pc/PHANGS_IR4_hst_wfc3_ngc1672_v1p3_multi_assoc-nuvselect-ws32pc-idmask.fits.gz\n",
      "[INFO] Files found for nuv_32pc.\n",
      "Unpacking: /Users/abarnes/Dropbox/Data/Extragalactic/catalogues/multiscale_stellar_associations/ngc1672/nuvselect/ws64pc/PHANGS_IR4_hst_wfc3_ngc1672_v1p3_multi_assoc-nuvselect-ws64pc-idmask.fits.gz\n",
      "[INFO] Files found for nuv_64pc.\n",
      "[INFO] [load_pickle] Load /Users/abarnes/Dropbox/Projects/Extragalactic/hstha_nebulae_catalogue/ngc1672/cutouts_fixediso_10pc/sample.pickel\n",
      "[ASSOCIATIONS] Generating new cutouts for association masks...\n"
     ]
    },
    {
     "name": "stderr",
     "output_type": "stream",
     "text": [
      "Cropping regions: 100%|██████████| 438/438 [00:00<00:00, 611.11it/s]\n"
     ]
    },
    {
     "name": "stdout",
     "output_type": "stream",
     "text": [
      "[INFO] [save_pickle] Saved to /Users/abarnes/Dropbox/Projects/Extragalactic/hstha_nebulae_catalogue/ngc1672/cutouts_fixediso_10pc/hdus_catalog_mask_new.pickel\n"
     ]
    },
    {
     "name": "stderr",
     "output_type": "stream",
     "text": [
      "Cropping regions: 100%|██████████| 438/438 [00:00<00:00, 711.59it/s]\n"
     ]
    },
    {
     "name": "stdout",
     "output_type": "stream",
     "text": [
      "[INFO] [save_pickle] Saved to /Users/abarnes/Dropbox/Projects/Extragalactic/hstha_nebulae_catalogue/ngc1672/cutouts_fixediso_10pc/hdus_association_mask_new_v_16pc.pickel\n"
     ]
    },
    {
     "name": "stderr",
     "output_type": "stream",
     "text": [
      "Cropping regions: 100%|██████████| 438/438 [00:00<00:00, 713.17it/s]\n"
     ]
    },
    {
     "name": "stdout",
     "output_type": "stream",
     "text": [
      "[INFO] [save_pickle] Saved to /Users/abarnes/Dropbox/Projects/Extragalactic/hstha_nebulae_catalogue/ngc1672/cutouts_fixediso_10pc/hdus_association_mask_new_v_32pc.pickel\n"
     ]
    },
    {
     "name": "stderr",
     "output_type": "stream",
     "text": [
      "Cropping regions: 100%|██████████| 438/438 [00:00<00:00, 746.25it/s]\n"
     ]
    },
    {
     "name": "stdout",
     "output_type": "stream",
     "text": [
      "[INFO] [save_pickle] Saved to /Users/abarnes/Dropbox/Projects/Extragalactic/hstha_nebulae_catalogue/ngc1672/cutouts_fixediso_10pc/hdus_association_mask_new_v_64pc.pickel\n"
     ]
    },
    {
     "name": "stderr",
     "output_type": "stream",
     "text": [
      "Cropping regions: 100%|██████████| 438/438 [00:00<00:00, 704.59it/s]\n"
     ]
    },
    {
     "name": "stdout",
     "output_type": "stream",
     "text": [
      "[INFO] [save_pickle] Saved to /Users/abarnes/Dropbox/Projects/Extragalactic/hstha_nebulae_catalogue/ngc1672/cutouts_fixediso_10pc/hdus_association_mask_new_nuv_16pc.pickel\n"
     ]
    },
    {
     "name": "stderr",
     "output_type": "stream",
     "text": [
      "Cropping regions: 100%|██████████| 438/438 [00:00<00:00, 780.13it/s]\n"
     ]
    },
    {
     "name": "stdout",
     "output_type": "stream",
     "text": [
      "[INFO] [save_pickle] Saved to /Users/abarnes/Dropbox/Projects/Extragalactic/hstha_nebulae_catalogue/ngc1672/cutouts_fixediso_10pc/hdus_association_mask_new_nuv_32pc.pickel\n"
     ]
    },
    {
     "name": "stderr",
     "output_type": "stream",
     "text": [
      "Cropping regions: 100%|██████████| 438/438 [00:00<00:00, 766.47it/s]\n"
     ]
    },
    {
     "name": "stdout",
     "output_type": "stream",
     "text": [
      "[INFO] [save_pickle] Saved to /Users/abarnes/Dropbox/Projects/Extragalactic/hstha_nebulae_catalogue/ngc1672/cutouts_fixediso_10pc/hdus_association_mask_new_nuv_64pc.pickel\n"
     ]
    },
    {
     "name": "stderr",
     "output_type": "stream",
     "text": [
      "Match associations:: 100%|██████████| 438/438 [00:13<00:00, 31.90it/s]\n"
     ]
    },
    {
     "name": "stdout",
     "output_type": "stream",
     "text": [
      "[ASSOCIATIONS] Final association table saved to: /Users/abarnes/Dropbox/Projects/Extragalactic/hstha_nebulae_catalogue/ngc1672/catalogue_fixediso_10pc/props_all_association.fits\n",
      "Cleaning: /Users/abarnes/Dropbox/Data/Extragalactic/catalogues/multiscale_stellar_associations/ngc1672/vselect/ws16pc/PHANGS_IR4_hst_wfc3_ngc1672_v1p3_multi_assoc-vselect-ws16pc-idmask.fits\n",
      "Cleaning: /Users/abarnes/Dropbox/Data/Extragalactic/catalogues/multiscale_stellar_associations/ngc1672/vselect/ws32pc/PHANGS_IR4_hst_wfc3_ngc1672_v1p3_multi_assoc-vselect-ws32pc-idmask.fits\n",
      "Cleaning: /Users/abarnes/Dropbox/Data/Extragalactic/catalogues/multiscale_stellar_associations/ngc1672/vselect/ws64pc/PHANGS_IR4_hst_wfc3_ngc1672_v1p3_multi_assoc-vselect-ws64pc-idmask.fits\n",
      "Cleaning: /Users/abarnes/Dropbox/Data/Extragalactic/catalogues/multiscale_stellar_associations/ngc1672/nuvselect/ws16pc/PHANGS_IR4_hst_wfc3_ngc1672_v1p3_multi_assoc-nuvselect-ws16pc-idmask.fits\n",
      "Cleaning: /Users/abarnes/Dropbox/Data/Extragalactic/catalogues/multiscale_stellar_associations/ngc1672/nuvselect/ws32pc/PHANGS_IR4_hst_wfc3_ngc1672_v1p3_multi_assoc-nuvselect-ws32pc-idmask.fits\n",
      "Cleaning: /Users/abarnes/Dropbox/Data/Extragalactic/catalogues/multiscale_stellar_associations/ngc1672/nuvselect/ws64pc/PHANGS_IR4_hst_wfc3_ngc1672_v1p3_multi_assoc-nuvselect-ws64pc-idmask.fits\n"
     ]
    },
    {
     "data": {
      "text/plain": [
       "54895"
      ]
     },
     "execution_count": 12,
     "metadata": {},
     "output_type": "execute_result"
    }
   ],
   "source": [
    "galaxyname = 'ngc1672'\n",
    "\n",
    "mycat = catalogue_pipeline.PyHSTHACat(galaxyname, output_dir_append='_fixediso_10pc')\n",
    "mycat.hstha_err = ISOTHRESHOLD\n",
    "mycat.rerun_all = True\n",
    "mycat.hstha_file = mycat.hstha_file.replace('.fits', '_10pc_fixednoise.fits')\n",
    "\n",
    "mycat.make_paths()\n",
    "mycat.load_files()\n",
    "mycat.get_regions()\n",
    "mycat.get_cutouts()\n",
    "mycat.make_catalogue()\n",
    "\n",
    "mycat.rerun_cutouts_associations = True\n",
    "mycat.make_associations()\n",
    "\n",
    "# To free memory\n",
    "del mycat \n",
    "gc.collect()"
   ]
  },
  {
   "cell_type": "code",
   "execution_count": 13,
   "metadata": {},
   "outputs": [
    {
     "name": "stdout",
     "output_type": "stream",
     "text": [
      "[Info] Outputting to the following:\n",
      "/Users/abarnes/Dropbox/Projects/Extragalactic/hstha_nebulae_catalogue/ngc2835/\n",
      "[INFO] [get_MuseProps] Getting MUSE catalouge properties for ngc2835...\n",
      "[INFO] [get_galaxyprops] Getting sample table properties for ngc2835...\n",
      "[INFO] Using PSF size from header -- > 0.12 arcsec\n",
      "[INFO] Pixel scale taken as PC1_1, PC2_2\n",
      "[INFO] Pixel scale -- > 0.04 arcsec\n",
      "[INFO] Generating new DS9 region file...\n",
      "[INFO] [get_regions] Opening regions file (this may take a min)... \n",
      "[INFO] [get_regions] Getting info for 1121 regions...\n",
      "[INFO] [save_pickle] Saved to /Users/abarnes/Dropbox/Projects/Extragalactic/hstha_nebulae_catalogue/ngc2835/cutouts_fixediso_10pc/sample.pickel\n",
      "[INFO] Generating cutouts for hstha_hdu...\n"
     ]
    },
    {
     "name": "stderr",
     "output_type": "stream",
     "text": [
      "Cropping regions: 100%|██████████| 1121/1121 [00:01<00:00, 691.58it/s]\n"
     ]
    },
    {
     "name": "stdout",
     "output_type": "stream",
     "text": [
      "[INFO] [save_pickle] Saved to /Users/abarnes/Dropbox/Projects/Extragalactic/hstha_nebulae_catalogue/ngc2835/cutouts_fixediso_10pc/hstha_hdu.pickel\n",
      "[INFO] Generating cutouts for musha_hdu...\n"
     ]
    },
    {
     "name": "stderr",
     "output_type": "stream",
     "text": [
      "Cropping regions: 100%|██████████| 1121/1121 [00:01<00:00, 791.38it/s]\n"
     ]
    },
    {
     "name": "stdout",
     "output_type": "stream",
     "text": [
      "[INFO] [save_pickle] Saved to /Users/abarnes/Dropbox/Projects/Extragalactic/hstha_nebulae_catalogue/ngc2835/cutouts_fixediso_10pc/musha_hdu.pickel\n",
      "[INFO] Generating cutouts for muscat_hdu...\n"
     ]
    },
    {
     "name": "stderr",
     "output_type": "stream",
     "text": [
      "Cropping regions: 100%|██████████| 1121/1121 [00:01<00:00, 842.53it/s]\n"
     ]
    },
    {
     "name": "stdout",
     "output_type": "stream",
     "text": [
      "[INFO] [save_pickle] Saved to /Users/abarnes/Dropbox/Projects/Extragalactic/hstha_nebulae_catalogue/ngc2835/cutouts_fixediso_10pc/muscat_hdu.pickel\n",
      "[INFO] [load_pickle] Load /Users/abarnes/Dropbox/Projects/Extragalactic/hstha_nebulae_catalogue/ngc2835/cutouts_fixediso_10pc/hstha_hdu.pickel\n",
      "[INFO] [load_pickle] Load /Users/abarnes/Dropbox/Projects/Extragalactic/hstha_nebulae_catalogue/ngc2835/cutouts_fixediso_10pc/musha_hdu.pickel\n",
      "[INFO] [load_pickle] Load /Users/abarnes/Dropbox/Projects/Extragalactic/hstha_nebulae_catalogue/ngc2835/cutouts_fixediso_10pc/muscat_hdu.pickel\n",
      "[INFO] All HDU cutouts saved to /Users/abarnes/Dropbox/Projects/Extragalactic/hstha_nebulae_catalogue/ngc2835/cutouts_fixediso_10pc/hdus_all.pickel\n",
      "[INFO] [save_pickle] Saved to /Users/abarnes/Dropbox/Projects/Extragalactic/hstha_nebulae_catalogue/ngc2835/cutouts_fixediso_10pc/hdus_all.pickel\n",
      "[CATALOGUE] Running catalogue generation for: ngc2835\n",
      "[INFO] [get_maskedhdus] Getting HST maps masked by MUSE catalouge...\n"
     ]
    },
    {
     "name": "stderr",
     "output_type": "stream",
     "text": [
      "Masking regions: 100%|██████████| 1121/1121 [00:28<00:00, 39.60it/s]\n"
     ]
    },
    {
     "name": "stdout",
     "output_type": "stream",
     "text": [
      "[INFO] [save_pickle] Saved to /Users/abarnes/Dropbox/Projects/Extragalactic/hstha_nebulae_catalogue/ngc2835/cutouts_fixediso_10pc/hdus_all_withmasked.pickel\n"
     ]
    },
    {
     "name": "stderr",
     "output_type": "stream",
     "text": [
      "Get sources: 100%|██████████| 1121/1121 [00:04<00:00, 224.79it/s]\n"
     ]
    },
    {
     "name": "stdout",
     "output_type": "stream",
     "text": [
      "[INFO] [get_MuseProps] Getting MUSE catalouge properties for ngc2835...\n"
     ]
    },
    {
     "name": "stderr",
     "output_type": "stream",
     "text": [
      "Masking regions: 100%|██████████| 1121/1121 [00:00<00:00, 4378.48it/s]\n",
      "Geting complexity score: 100%|██████████| 207/207 [00:02<00:00, 69.53it/s]\n",
      "Get touch flags:: 100%|██████████| 207/207 [00:03<00:00, 61.21it/s]\n"
     ]
    },
    {
     "name": "stdout",
     "output_type": "stream",
     "text": [
      "[CATALOGUE] Final properties table saved to: /Users/abarnes/Dropbox/Projects/Extragalactic/hstha_nebulae_catalogue/ngc2835/catalogue_fixediso_10pc/props_all.fits\n",
      "[CATALOGUE] Masks saved to /Users/abarnes/Dropbox/Projects/Extragalactic/hstha_nebulae_catalogue/ngc2835/catalogue_fixediso_10pc/ngc2835_mask.fits and /Users/abarnes/Dropbox/Projects/Extragalactic/hstha_nebulae_catalogue/ngc2835/catalogue_fixediso_10pc/ngc2835_complexity.fits\n",
      "[CATALOGUE] DS9 regions output to /Users/abarnes/Dropbox/Projects/Extragalactic/hstha_nebulae_catalogue/ngc2835/catalogue_fixediso_10pc/ngc2835_mask\n",
      "[CATALOGUE] Done!\n",
      "[ASSOCIATIONS] Checking association files for galaxy ngc2835 ...\n",
      "Unpacking: /Users/abarnes/Dropbox/Data/Extragalactic/catalogues/multiscale_stellar_associations/ngc2835/vselect/ws8pc/PHANGS_IR4_hst_wfc3_ngc2835_v1p3_multi_assoc-vselect-ws8pc-idmask.fits.gz\n",
      "[INFO] Files found for v_08pc.\n",
      "Unpacking: /Users/abarnes/Dropbox/Data/Extragalactic/catalogues/multiscale_stellar_associations/ngc2835/vselect/ws16pc/PHANGS_IR4_hst_wfc3_ngc2835_v1p3_multi_assoc-vselect-ws16pc-idmask.fits.gz\n",
      "[INFO] Files found for v_16pc.\n",
      "Unpacking: /Users/abarnes/Dropbox/Data/Extragalactic/catalogues/multiscale_stellar_associations/ngc2835/vselect/ws32pc/PHANGS_IR4_hst_wfc3_ngc2835_v1p3_multi_assoc-vselect-ws32pc-idmask.fits.gz\n",
      "[INFO] Files found for v_32pc.\n",
      "Unpacking: /Users/abarnes/Dropbox/Data/Extragalactic/catalogues/multiscale_stellar_associations/ngc2835/vselect/ws64pc/PHANGS_IR4_hst_wfc3_ngc2835_v1p3_multi_assoc-vselect-ws64pc-idmask.fits.gz\n",
      "[INFO] Files found for v_64pc.\n",
      "Unpacking: /Users/abarnes/Dropbox/Data/Extragalactic/catalogues/multiscale_stellar_associations/ngc2835/nuvselect/ws8pc/PHANGS_IR4_hst_wfc3_ngc2835_v1p3_multi_assoc-nuvselect-ws8pc-idmask.fits.gz\n",
      "[INFO] Files found for nuv_08pc.\n",
      "Unpacking: /Users/abarnes/Dropbox/Data/Extragalactic/catalogues/multiscale_stellar_associations/ngc2835/nuvselect/ws16pc/PHANGS_IR4_hst_wfc3_ngc2835_v1p3_multi_assoc-nuvselect-ws16pc-idmask.fits.gz\n",
      "[INFO] Files found for nuv_16pc.\n",
      "Unpacking: /Users/abarnes/Dropbox/Data/Extragalactic/catalogues/multiscale_stellar_associations/ngc2835/nuvselect/ws32pc/PHANGS_IR4_hst_wfc3_ngc2835_v1p3_multi_assoc-nuvselect-ws32pc-idmask.fits.gz\n",
      "[INFO] Files found for nuv_32pc.\n",
      "Unpacking: /Users/abarnes/Dropbox/Data/Extragalactic/catalogues/multiscale_stellar_associations/ngc2835/nuvselect/ws64pc/PHANGS_IR4_hst_wfc3_ngc2835_v1p3_multi_assoc-nuvselect-ws64pc-idmask.fits.gz\n",
      "[INFO] Files found for nuv_64pc.\n",
      "[INFO] [load_pickle] Load /Users/abarnes/Dropbox/Projects/Extragalactic/hstha_nebulae_catalogue/ngc2835/cutouts_fixediso_10pc/sample.pickel\n",
      "[ASSOCIATIONS] Generating new cutouts for association masks...\n"
     ]
    },
    {
     "name": "stderr",
     "output_type": "stream",
     "text": [
      "Cropping regions: 100%|██████████| 207/207 [00:00<00:00, 719.74it/s]\n"
     ]
    },
    {
     "name": "stdout",
     "output_type": "stream",
     "text": [
      "[INFO] [save_pickle] Saved to /Users/abarnes/Dropbox/Projects/Extragalactic/hstha_nebulae_catalogue/ngc2835/cutouts_fixediso_10pc/hdus_catalog_mask_new.pickel\n"
     ]
    },
    {
     "name": "stderr",
     "output_type": "stream",
     "text": [
      "Cropping regions: 100%|██████████| 207/207 [00:00<00:00, 751.77it/s]\n"
     ]
    },
    {
     "name": "stdout",
     "output_type": "stream",
     "text": [
      "[INFO] [save_pickle] Saved to /Users/abarnes/Dropbox/Projects/Extragalactic/hstha_nebulae_catalogue/ngc2835/cutouts_fixediso_10pc/hdus_association_mask_new_v_08pc.pickel\n"
     ]
    },
    {
     "name": "stderr",
     "output_type": "stream",
     "text": [
      "Cropping regions: 100%|██████████| 207/207 [00:00<00:00, 597.60it/s]\n"
     ]
    },
    {
     "name": "stdout",
     "output_type": "stream",
     "text": [
      "[INFO] [save_pickle] Saved to /Users/abarnes/Dropbox/Projects/Extragalactic/hstha_nebulae_catalogue/ngc2835/cutouts_fixediso_10pc/hdus_association_mask_new_v_16pc.pickel\n"
     ]
    },
    {
     "name": "stderr",
     "output_type": "stream",
     "text": [
      "Cropping regions: 100%|██████████| 207/207 [00:00<00:00, 721.66it/s]\n"
     ]
    },
    {
     "name": "stdout",
     "output_type": "stream",
     "text": [
      "[INFO] [save_pickle] Saved to /Users/abarnes/Dropbox/Projects/Extragalactic/hstha_nebulae_catalogue/ngc2835/cutouts_fixediso_10pc/hdus_association_mask_new_v_32pc.pickel\n"
     ]
    },
    {
     "name": "stderr",
     "output_type": "stream",
     "text": [
      "Cropping regions: 100%|██████████| 207/207 [00:00<00:00, 689.11it/s]\n"
     ]
    },
    {
     "name": "stdout",
     "output_type": "stream",
     "text": [
      "[INFO] [save_pickle] Saved to /Users/abarnes/Dropbox/Projects/Extragalactic/hstha_nebulae_catalogue/ngc2835/cutouts_fixediso_10pc/hdus_association_mask_new_v_64pc.pickel\n"
     ]
    },
    {
     "name": "stderr",
     "output_type": "stream",
     "text": [
      "Cropping regions: 100%|██████████| 207/207 [00:00<00:00, 781.06it/s]\n"
     ]
    },
    {
     "name": "stdout",
     "output_type": "stream",
     "text": [
      "[INFO] [save_pickle] Saved to /Users/abarnes/Dropbox/Projects/Extragalactic/hstha_nebulae_catalogue/ngc2835/cutouts_fixediso_10pc/hdus_association_mask_new_nuv_08pc.pickel\n"
     ]
    },
    {
     "name": "stderr",
     "output_type": "stream",
     "text": [
      "Cropping regions: 100%|██████████| 207/207 [00:00<00:00, 766.80it/s]\n"
     ]
    },
    {
     "name": "stdout",
     "output_type": "stream",
     "text": [
      "[INFO] [save_pickle] Saved to /Users/abarnes/Dropbox/Projects/Extragalactic/hstha_nebulae_catalogue/ngc2835/cutouts_fixediso_10pc/hdus_association_mask_new_nuv_16pc.pickel\n"
     ]
    },
    {
     "name": "stderr",
     "output_type": "stream",
     "text": [
      "Cropping regions: 100%|██████████| 207/207 [00:00<00:00, 801.50it/s]\n"
     ]
    },
    {
     "name": "stdout",
     "output_type": "stream",
     "text": [
      "[INFO] [save_pickle] Saved to /Users/abarnes/Dropbox/Projects/Extragalactic/hstha_nebulae_catalogue/ngc2835/cutouts_fixediso_10pc/hdus_association_mask_new_nuv_32pc.pickel\n"
     ]
    },
    {
     "name": "stderr",
     "output_type": "stream",
     "text": [
      "Cropping regions: 100%|██████████| 207/207 [00:00<00:00, 809.09it/s]\n"
     ]
    },
    {
     "name": "stdout",
     "output_type": "stream",
     "text": [
      "[INFO] [save_pickle] Saved to /Users/abarnes/Dropbox/Projects/Extragalactic/hstha_nebulae_catalogue/ngc2835/cutouts_fixediso_10pc/hdus_association_mask_new_nuv_64pc.pickel\n"
     ]
    },
    {
     "name": "stderr",
     "output_type": "stream",
     "text": [
      "Match associations:: 100%|██████████| 207/207 [00:11<00:00, 17.65it/s]\n"
     ]
    },
    {
     "name": "stdout",
     "output_type": "stream",
     "text": [
      "[ASSOCIATIONS] Final association table saved to: /Users/abarnes/Dropbox/Projects/Extragalactic/hstha_nebulae_catalogue/ngc2835/catalogue_fixediso_10pc/props_all_association.fits\n",
      "Cleaning: /Users/abarnes/Dropbox/Data/Extragalactic/catalogues/multiscale_stellar_associations/ngc2835/vselect/ws8pc/PHANGS_IR4_hst_wfc3_ngc2835_v1p3_multi_assoc-vselect-ws8pc-idmask.fits\n",
      "Cleaning: /Users/abarnes/Dropbox/Data/Extragalactic/catalogues/multiscale_stellar_associations/ngc2835/vselect/ws16pc/PHANGS_IR4_hst_wfc3_ngc2835_v1p3_multi_assoc-vselect-ws16pc-idmask.fits\n",
      "Cleaning: /Users/abarnes/Dropbox/Data/Extragalactic/catalogues/multiscale_stellar_associations/ngc2835/vselect/ws32pc/PHANGS_IR4_hst_wfc3_ngc2835_v1p3_multi_assoc-vselect-ws32pc-idmask.fits\n",
      "Cleaning: /Users/abarnes/Dropbox/Data/Extragalactic/catalogues/multiscale_stellar_associations/ngc2835/vselect/ws64pc/PHANGS_IR4_hst_wfc3_ngc2835_v1p3_multi_assoc-vselect-ws64pc-idmask.fits\n",
      "Cleaning: /Users/abarnes/Dropbox/Data/Extragalactic/catalogues/multiscale_stellar_associations/ngc2835/nuvselect/ws8pc/PHANGS_IR4_hst_wfc3_ngc2835_v1p3_multi_assoc-nuvselect-ws8pc-idmask.fits\n",
      "Cleaning: /Users/abarnes/Dropbox/Data/Extragalactic/catalogues/multiscale_stellar_associations/ngc2835/nuvselect/ws16pc/PHANGS_IR4_hst_wfc3_ngc2835_v1p3_multi_assoc-nuvselect-ws16pc-idmask.fits\n",
      "Cleaning: /Users/abarnes/Dropbox/Data/Extragalactic/catalogues/multiscale_stellar_associations/ngc2835/nuvselect/ws32pc/PHANGS_IR4_hst_wfc3_ngc2835_v1p3_multi_assoc-nuvselect-ws32pc-idmask.fits\n",
      "Cleaning: /Users/abarnes/Dropbox/Data/Extragalactic/catalogues/multiscale_stellar_associations/ngc2835/nuvselect/ws64pc/PHANGS_IR4_hst_wfc3_ngc2835_v1p3_multi_assoc-nuvselect-ws64pc-idmask.fits\n"
     ]
    },
    {
     "data": {
      "text/plain": [
       "58689"
      ]
     },
     "execution_count": 13,
     "metadata": {},
     "output_type": "execute_result"
    }
   ],
   "source": [
    "galaxyname = 'ngc2835'\n",
    "\n",
    "mycat = catalogue_pipeline.PyHSTHACat(galaxyname, output_dir_append='_fixediso_10pc')\n",
    "mycat.hstha_err = ISOTHRESHOLD\n",
    "mycat.rerun_all = True\n",
    "mycat.hstha_file = mycat.hstha_file.replace('.fits', '_10pc_fixednoise.fits')\n",
    "\n",
    "mycat.make_paths()\n",
    "mycat.load_files()\n",
    "mycat.get_regions()\n",
    "mycat.get_cutouts()\n",
    "mycat.make_catalogue()\n",
    "\n",
    "mycat.rerun_cutouts_associations = True\n",
    "mycat.make_associations()\n",
    "\n",
    "# To free memory\n",
    "del mycat \n",
    "gc.collect()"
   ]
  },
  {
   "cell_type": "code",
   "execution_count": 14,
   "metadata": {},
   "outputs": [
    {
     "name": "stdout",
     "output_type": "stream",
     "text": [
      "[Info] Outputting to the following:\n",
      "/Users/abarnes/Dropbox/Projects/Extragalactic/hstha_nebulae_catalogue/ngc3351/\n",
      "[INFO] [get_MuseProps] Getting MUSE catalouge properties for ngc3351...\n",
      "[INFO] [get_galaxyprops] Getting sample table properties for ngc3351...\n",
      "[INFO] Using PSF size from header -- > 0.14 arcsec\n",
      "[INFO] Pixel scale taken as CDELT1, CDELT2\n",
      "[INFO] Pixel scale -- > 0.04 arcsec\n",
      "[INFO] Generating new DS9 region file...\n",
      "[INFO] [get_regions] Opening regions file (this may take a min)... \n",
      "[INFO] [get_regions] Getting info for 1284 regions...\n",
      "[INFO] [save_pickle] Saved to /Users/abarnes/Dropbox/Projects/Extragalactic/hstha_nebulae_catalogue/ngc3351/cutouts_fixediso_10pc/sample.pickel\n",
      "[INFO] Generating cutouts for hstha_hdu...\n"
     ]
    },
    {
     "name": "stderr",
     "output_type": "stream",
     "text": [
      "Cropping regions: 100%|██████████| 1284/1284 [00:01<00:00, 777.39it/s]\n"
     ]
    },
    {
     "name": "stdout",
     "output_type": "stream",
     "text": [
      "[INFO] [save_pickle] Saved to /Users/abarnes/Dropbox/Projects/Extragalactic/hstha_nebulae_catalogue/ngc3351/cutouts_fixediso_10pc/hstha_hdu.pickel\n",
      "[INFO] Generating cutouts for musha_hdu...\n"
     ]
    },
    {
     "name": "stderr",
     "output_type": "stream",
     "text": [
      "Cropping regions: 100%|██████████| 1284/1284 [00:01<00:00, 921.52it/s]\n"
     ]
    },
    {
     "name": "stdout",
     "output_type": "stream",
     "text": [
      "[INFO] [save_pickle] Saved to /Users/abarnes/Dropbox/Projects/Extragalactic/hstha_nebulae_catalogue/ngc3351/cutouts_fixediso_10pc/musha_hdu.pickel\n",
      "[INFO] Generating cutouts for muscat_hdu...\n"
     ]
    },
    {
     "name": "stderr",
     "output_type": "stream",
     "text": [
      "Cropping regions: 100%|██████████| 1284/1284 [00:01<00:00, 877.29it/s]\n"
     ]
    },
    {
     "name": "stdout",
     "output_type": "stream",
     "text": [
      "[INFO] [save_pickle] Saved to /Users/abarnes/Dropbox/Projects/Extragalactic/hstha_nebulae_catalogue/ngc3351/cutouts_fixediso_10pc/muscat_hdu.pickel\n",
      "[INFO] [load_pickle] Load /Users/abarnes/Dropbox/Projects/Extragalactic/hstha_nebulae_catalogue/ngc3351/cutouts_fixediso_10pc/hstha_hdu.pickel\n",
      "[INFO] [load_pickle] Load /Users/abarnes/Dropbox/Projects/Extragalactic/hstha_nebulae_catalogue/ngc3351/cutouts_fixediso_10pc/musha_hdu.pickel\n",
      "[INFO] [load_pickle] Load /Users/abarnes/Dropbox/Projects/Extragalactic/hstha_nebulae_catalogue/ngc3351/cutouts_fixediso_10pc/muscat_hdu.pickel\n",
      "[INFO] All HDU cutouts saved to /Users/abarnes/Dropbox/Projects/Extragalactic/hstha_nebulae_catalogue/ngc3351/cutouts_fixediso_10pc/hdus_all.pickel\n",
      "[INFO] [save_pickle] Saved to /Users/abarnes/Dropbox/Projects/Extragalactic/hstha_nebulae_catalogue/ngc3351/cutouts_fixediso_10pc/hdus_all.pickel\n",
      "[CATALOGUE] Running catalogue generation for: ngc3351\n",
      "[INFO] [get_maskedhdus] Getting HST maps masked by MUSE catalouge...\n"
     ]
    },
    {
     "name": "stderr",
     "output_type": "stream",
     "text": [
      "Masking regions: 100%|██████████| 1284/1284 [00:25<00:00, 50.44it/s]\n"
     ]
    },
    {
     "name": "stdout",
     "output_type": "stream",
     "text": [
      "[INFO] [save_pickle] Saved to /Users/abarnes/Dropbox/Projects/Extragalactic/hstha_nebulae_catalogue/ngc3351/cutouts_fixediso_10pc/hdus_all_withmasked.pickel\n"
     ]
    },
    {
     "name": "stderr",
     "output_type": "stream",
     "text": [
      "Get sources: 100%|██████████| 1284/1284 [00:03<00:00, 361.92it/s]\n"
     ]
    },
    {
     "name": "stdout",
     "output_type": "stream",
     "text": [
      "[INFO] [get_MuseProps] Getting MUSE catalouge properties for ngc3351...\n"
     ]
    },
    {
     "name": "stderr",
     "output_type": "stream",
     "text": [
      "Masking regions: 100%|██████████| 1284/1284 [00:00<00:00, 11845.89it/s]\n",
      "Geting complexity score: 100%|██████████| 92/92 [00:01<00:00, 66.00it/s]\n",
      "Get touch flags:: 100%|██████████| 92/92 [00:01<00:00, 58.21it/s]\n"
     ]
    },
    {
     "name": "stdout",
     "output_type": "stream",
     "text": [
      "[CATALOGUE] Final properties table saved to: /Users/abarnes/Dropbox/Projects/Extragalactic/hstha_nebulae_catalogue/ngc3351/catalogue_fixediso_10pc/props_all.fits\n",
      "[CATALOGUE] Masks saved to /Users/abarnes/Dropbox/Projects/Extragalactic/hstha_nebulae_catalogue/ngc3351/catalogue_fixediso_10pc/ngc3351_mask.fits and /Users/abarnes/Dropbox/Projects/Extragalactic/hstha_nebulae_catalogue/ngc3351/catalogue_fixediso_10pc/ngc3351_complexity.fits\n",
      "[CATALOGUE] DS9 regions output to /Users/abarnes/Dropbox/Projects/Extragalactic/hstha_nebulae_catalogue/ngc3351/catalogue_fixediso_10pc/ngc3351_mask\n",
      "[CATALOGUE] Done!\n",
      "[ASSOCIATIONS] Checking association files for galaxy ngc3351 ...\n",
      "Unpacking: /Users/abarnes/Dropbox/Data/Extragalactic/catalogues/multiscale_stellar_associations/ngc3351/vselect/ws8pc/PHANGS_IR4_hst_wfc3_ngc3351_v1p3_multi_assoc-vselect-ws8pc-idmask.fits.gz\n",
      "[INFO] Files found for v_08pc.\n",
      "Unpacking: /Users/abarnes/Dropbox/Data/Extragalactic/catalogues/multiscale_stellar_associations/ngc3351/vselect/ws16pc/PHANGS_IR4_hst_wfc3_ngc3351_v1p3_multi_assoc-vselect-ws16pc-idmask.fits.gz\n",
      "[INFO] Files found for v_16pc.\n",
      "Unpacking: /Users/abarnes/Dropbox/Data/Extragalactic/catalogues/multiscale_stellar_associations/ngc3351/vselect/ws32pc/PHANGS_IR4_hst_wfc3_ngc3351_v1p3_multi_assoc-vselect-ws32pc-idmask.fits.gz\n",
      "[INFO] Files found for v_32pc.\n",
      "Unpacking: /Users/abarnes/Dropbox/Data/Extragalactic/catalogues/multiscale_stellar_associations/ngc3351/vselect/ws64pc/PHANGS_IR4_hst_wfc3_ngc3351_v1p3_multi_assoc-vselect-ws64pc-idmask.fits.gz\n",
      "[INFO] Files found for v_64pc.\n",
      "Unpacking: /Users/abarnes/Dropbox/Data/Extragalactic/catalogues/multiscale_stellar_associations/ngc3351/nuvselect/ws8pc/PHANGS_IR4_hst_wfc3_ngc3351_v1p3_multi_assoc-nuvselect-ws8pc-idmask.fits.gz\n",
      "[INFO] Files found for nuv_08pc.\n",
      "Unpacking: /Users/abarnes/Dropbox/Data/Extragalactic/catalogues/multiscale_stellar_associations/ngc3351/nuvselect/ws16pc/PHANGS_IR4_hst_wfc3_ngc3351_v1p3_multi_assoc-nuvselect-ws16pc-idmask.fits.gz\n",
      "[INFO] Files found for nuv_16pc.\n",
      "Unpacking: /Users/abarnes/Dropbox/Data/Extragalactic/catalogues/multiscale_stellar_associations/ngc3351/nuvselect/ws32pc/PHANGS_IR4_hst_wfc3_ngc3351_v1p3_multi_assoc-nuvselect-ws32pc-idmask.fits.gz\n",
      "[INFO] Files found for nuv_32pc.\n",
      "Unpacking: /Users/abarnes/Dropbox/Data/Extragalactic/catalogues/multiscale_stellar_associations/ngc3351/nuvselect/ws64pc/PHANGS_IR4_hst_wfc3_ngc3351_v1p3_multi_assoc-nuvselect-ws64pc-idmask.fits.gz\n",
      "[INFO] Files found for nuv_64pc.\n",
      "[INFO] [load_pickle] Load /Users/abarnes/Dropbox/Projects/Extragalactic/hstha_nebulae_catalogue/ngc3351/cutouts_fixediso_10pc/sample.pickel\n",
      "[ASSOCIATIONS] Generating new cutouts for association masks...\n"
     ]
    },
    {
     "name": "stderr",
     "output_type": "stream",
     "text": [
      "Cropping regions: 100%|██████████| 92/92 [00:00<00:00, 727.03it/s]\n"
     ]
    },
    {
     "name": "stdout",
     "output_type": "stream",
     "text": [
      "[INFO] [save_pickle] Saved to /Users/abarnes/Dropbox/Projects/Extragalactic/hstha_nebulae_catalogue/ngc3351/cutouts_fixediso_10pc/hdus_catalog_mask_new.pickel\n"
     ]
    },
    {
     "name": "stderr",
     "output_type": "stream",
     "text": [
      "Cropping regions: 100%|██████████| 92/92 [00:00<00:00, 675.46it/s]\n"
     ]
    },
    {
     "name": "stdout",
     "output_type": "stream",
     "text": [
      "[INFO] [save_pickle] Saved to /Users/abarnes/Dropbox/Projects/Extragalactic/hstha_nebulae_catalogue/ngc3351/cutouts_fixediso_10pc/hdus_association_mask_new_v_08pc.pickel\n"
     ]
    },
    {
     "name": "stderr",
     "output_type": "stream",
     "text": [
      "Cropping regions: 100%|██████████| 92/92 [00:00<00:00, 747.66it/s]\n"
     ]
    },
    {
     "name": "stdout",
     "output_type": "stream",
     "text": [
      "[INFO] [save_pickle] Saved to /Users/abarnes/Dropbox/Projects/Extragalactic/hstha_nebulae_catalogue/ngc3351/cutouts_fixediso_10pc/hdus_association_mask_new_v_16pc.pickel\n"
     ]
    },
    {
     "name": "stderr",
     "output_type": "stream",
     "text": [
      "Cropping regions: 100%|██████████| 92/92 [00:00<00:00, 774.40it/s]\n"
     ]
    },
    {
     "name": "stdout",
     "output_type": "stream",
     "text": [
      "[INFO] [save_pickle] Saved to /Users/abarnes/Dropbox/Projects/Extragalactic/hstha_nebulae_catalogue/ngc3351/cutouts_fixediso_10pc/hdus_association_mask_new_v_32pc.pickel\n"
     ]
    },
    {
     "name": "stderr",
     "output_type": "stream",
     "text": [
      "Cropping regions: 100%|██████████| 92/92 [00:00<00:00, 725.94it/s]\n"
     ]
    },
    {
     "name": "stdout",
     "output_type": "stream",
     "text": [
      "[INFO] [save_pickle] Saved to /Users/abarnes/Dropbox/Projects/Extragalactic/hstha_nebulae_catalogue/ngc3351/cutouts_fixediso_10pc/hdus_association_mask_new_v_64pc.pickel\n"
     ]
    },
    {
     "name": "stderr",
     "output_type": "stream",
     "text": [
      "Cropping regions: 100%|██████████| 92/92 [00:00<00:00, 790.04it/s]\n"
     ]
    },
    {
     "name": "stdout",
     "output_type": "stream",
     "text": [
      "[INFO] [save_pickle] Saved to /Users/abarnes/Dropbox/Projects/Extragalactic/hstha_nebulae_catalogue/ngc3351/cutouts_fixediso_10pc/hdus_association_mask_new_nuv_08pc.pickel\n"
     ]
    },
    {
     "name": "stderr",
     "output_type": "stream",
     "text": [
      "Cropping regions: 100%|██████████| 92/92 [00:00<00:00, 743.28it/s]\n"
     ]
    },
    {
     "name": "stdout",
     "output_type": "stream",
     "text": [
      "[INFO] [save_pickle] Saved to /Users/abarnes/Dropbox/Projects/Extragalactic/hstha_nebulae_catalogue/ngc3351/cutouts_fixediso_10pc/hdus_association_mask_new_nuv_16pc.pickel\n"
     ]
    },
    {
     "name": "stderr",
     "output_type": "stream",
     "text": [
      "Cropping regions: 100%|██████████| 92/92 [00:00<00:00, 762.71it/s]\n"
     ]
    },
    {
     "name": "stdout",
     "output_type": "stream",
     "text": [
      "[INFO] [save_pickle] Saved to /Users/abarnes/Dropbox/Projects/Extragalactic/hstha_nebulae_catalogue/ngc3351/cutouts_fixediso_10pc/hdus_association_mask_new_nuv_32pc.pickel\n"
     ]
    },
    {
     "name": "stderr",
     "output_type": "stream",
     "text": [
      "Cropping regions: 100%|██████████| 92/92 [00:00<00:00, 764.70it/s]\n"
     ]
    },
    {
     "name": "stdout",
     "output_type": "stream",
     "text": [
      "[INFO] [save_pickle] Saved to /Users/abarnes/Dropbox/Projects/Extragalactic/hstha_nebulae_catalogue/ngc3351/cutouts_fixediso_10pc/hdus_association_mask_new_nuv_64pc.pickel\n"
     ]
    },
    {
     "name": "stderr",
     "output_type": "stream",
     "text": [
      "Match associations:: 100%|██████████| 92/92 [00:03<00:00, 23.07it/s]\n"
     ]
    },
    {
     "name": "stdout",
     "output_type": "stream",
     "text": [
      "[ASSOCIATIONS] Final association table saved to: /Users/abarnes/Dropbox/Projects/Extragalactic/hstha_nebulae_catalogue/ngc3351/catalogue_fixediso_10pc/props_all_association.fits\n",
      "Cleaning: /Users/abarnes/Dropbox/Data/Extragalactic/catalogues/multiscale_stellar_associations/ngc3351/vselect/ws8pc/PHANGS_IR4_hst_wfc3_ngc3351_v1p3_multi_assoc-vselect-ws8pc-idmask.fits\n",
      "Cleaning: /Users/abarnes/Dropbox/Data/Extragalactic/catalogues/multiscale_stellar_associations/ngc3351/vselect/ws16pc/PHANGS_IR4_hst_wfc3_ngc3351_v1p3_multi_assoc-vselect-ws16pc-idmask.fits\n",
      "Cleaning: /Users/abarnes/Dropbox/Data/Extragalactic/catalogues/multiscale_stellar_associations/ngc3351/vselect/ws32pc/PHANGS_IR4_hst_wfc3_ngc3351_v1p3_multi_assoc-vselect-ws32pc-idmask.fits\n",
      "Cleaning: /Users/abarnes/Dropbox/Data/Extragalactic/catalogues/multiscale_stellar_associations/ngc3351/vselect/ws64pc/PHANGS_IR4_hst_wfc3_ngc3351_v1p3_multi_assoc-vselect-ws64pc-idmask.fits\n",
      "Cleaning: /Users/abarnes/Dropbox/Data/Extragalactic/catalogues/multiscale_stellar_associations/ngc3351/nuvselect/ws8pc/PHANGS_IR4_hst_wfc3_ngc3351_v1p3_multi_assoc-nuvselect-ws8pc-idmask.fits\n",
      "Cleaning: /Users/abarnes/Dropbox/Data/Extragalactic/catalogues/multiscale_stellar_associations/ngc3351/nuvselect/ws16pc/PHANGS_IR4_hst_wfc3_ngc3351_v1p3_multi_assoc-nuvselect-ws16pc-idmask.fits\n",
      "Cleaning: /Users/abarnes/Dropbox/Data/Extragalactic/catalogues/multiscale_stellar_associations/ngc3351/nuvselect/ws32pc/PHANGS_IR4_hst_wfc3_ngc3351_v1p3_multi_assoc-nuvselect-ws32pc-idmask.fits\n",
      "Cleaning: /Users/abarnes/Dropbox/Data/Extragalactic/catalogues/multiscale_stellar_associations/ngc3351/nuvselect/ws64pc/PHANGS_IR4_hst_wfc3_ngc3351_v1p3_multi_assoc-nuvselect-ws64pc-idmask.fits\n"
     ]
    },
    {
     "data": {
      "text/plain": [
       "47271"
      ]
     },
     "execution_count": 14,
     "metadata": {},
     "output_type": "execute_result"
    }
   ],
   "source": [
    "galaxyname = 'ngc3351'\n",
    "\n",
    "mycat = catalogue_pipeline.PyHSTHACat(galaxyname, output_dir_append='_fixediso_10pc')\n",
    "mycat.hstha_err = ISOTHRESHOLD\n",
    "mycat.rerun_all = True\n",
    "mycat.hstha_file = mycat.hstha_file.replace('.fits', '_10pc_fixednoise.fits')\n",
    "\n",
    "mycat.make_paths()\n",
    "mycat.load_files()\n",
    "mycat.get_regions()\n",
    "mycat.get_cutouts()\n",
    "mycat.make_catalogue()\n",
    "\n",
    "mycat.rerun_cutouts_associations = True\n",
    "mycat.make_associations()\n",
    "\n",
    "# To free memory\n",
    "del mycat \n",
    "gc.collect()"
   ]
  },
  {
   "cell_type": "code",
   "execution_count": 15,
   "metadata": {},
   "outputs": [
    {
     "name": "stdout",
     "output_type": "stream",
     "text": [
      "[Info] Outputting to the following:\n",
      "/Users/abarnes/Dropbox/Projects/Extragalactic/hstha_nebulae_catalogue/ngc3627/\n",
      "[INFO] [get_MuseProps] Getting MUSE catalouge properties for ngc3627...\n",
      "[INFO] [get_galaxyprops] Getting sample table properties for ngc3627...\n",
      "[INFO] Using PSF size from header -- > 0.13 arcsec\n",
      "[INFO] Pixel scale taken as CDELT1, CDELT2\n",
      "[INFO] Pixel scale -- > 0.04 arcsec\n",
      "[INFO] Generating new DS9 region file...\n",
      "[INFO] [get_regions] Opening regions file (this may take a min)... \n",
      "[INFO] [get_regions] Getting info for 1635 regions...\n",
      "[INFO] [save_pickle] Saved to /Users/abarnes/Dropbox/Projects/Extragalactic/hstha_nebulae_catalogue/ngc3627/cutouts_fixediso_10pc/sample.pickel\n",
      "[INFO] Generating cutouts for hstha_hdu...\n"
     ]
    },
    {
     "name": "stderr",
     "output_type": "stream",
     "text": [
      "Cropping regions: 100%|██████████| 1635/1635 [00:02<00:00, 811.14it/s]\n"
     ]
    },
    {
     "name": "stdout",
     "output_type": "stream",
     "text": [
      "[INFO] [save_pickle] Saved to /Users/abarnes/Dropbox/Projects/Extragalactic/hstha_nebulae_catalogue/ngc3627/cutouts_fixediso_10pc/hstha_hdu.pickel\n",
      "[INFO] Generating cutouts for musha_hdu...\n"
     ]
    },
    {
     "name": "stderr",
     "output_type": "stream",
     "text": [
      "Cropping regions: 100%|██████████| 1635/1635 [00:01<00:00, 948.42it/s]\n"
     ]
    },
    {
     "name": "stdout",
     "output_type": "stream",
     "text": [
      "[INFO] [save_pickle] Saved to /Users/abarnes/Dropbox/Projects/Extragalactic/hstha_nebulae_catalogue/ngc3627/cutouts_fixediso_10pc/musha_hdu.pickel\n",
      "[INFO] Generating cutouts for muscat_hdu...\n"
     ]
    },
    {
     "name": "stderr",
     "output_type": "stream",
     "text": [
      "Cropping regions: 100%|██████████| 1635/1635 [00:01<00:00, 887.22it/s]\n"
     ]
    },
    {
     "name": "stdout",
     "output_type": "stream",
     "text": [
      "[INFO] [save_pickle] Saved to /Users/abarnes/Dropbox/Projects/Extragalactic/hstha_nebulae_catalogue/ngc3627/cutouts_fixediso_10pc/muscat_hdu.pickel\n",
      "[INFO] [load_pickle] Load /Users/abarnes/Dropbox/Projects/Extragalactic/hstha_nebulae_catalogue/ngc3627/cutouts_fixediso_10pc/hstha_hdu.pickel\n",
      "[INFO] [load_pickle] Load /Users/abarnes/Dropbox/Projects/Extragalactic/hstha_nebulae_catalogue/ngc3627/cutouts_fixediso_10pc/musha_hdu.pickel\n",
      "[INFO] [load_pickle] Load /Users/abarnes/Dropbox/Projects/Extragalactic/hstha_nebulae_catalogue/ngc3627/cutouts_fixediso_10pc/muscat_hdu.pickel\n",
      "[INFO] All HDU cutouts saved to /Users/abarnes/Dropbox/Projects/Extragalactic/hstha_nebulae_catalogue/ngc3627/cutouts_fixediso_10pc/hdus_all.pickel\n",
      "[INFO] [save_pickle] Saved to /Users/abarnes/Dropbox/Projects/Extragalactic/hstha_nebulae_catalogue/ngc3627/cutouts_fixediso_10pc/hdus_all.pickel\n",
      "[CATALOGUE] Running catalogue generation for: ngc3627\n",
      "[INFO] [get_maskedhdus] Getting HST maps masked by MUSE catalouge...\n"
     ]
    },
    {
     "name": "stderr",
     "output_type": "stream",
     "text": [
      "Masking regions: 100%|██████████| 1635/1635 [00:36<00:00, 45.27it/s]\n"
     ]
    },
    {
     "name": "stdout",
     "output_type": "stream",
     "text": [
      "[INFO] [save_pickle] Saved to /Users/abarnes/Dropbox/Projects/Extragalactic/hstha_nebulae_catalogue/ngc3627/cutouts_fixediso_10pc/hdus_all_withmasked.pickel\n"
     ]
    },
    {
     "name": "stderr",
     "output_type": "stream",
     "text": [
      "Get sources: 100%|██████████| 1635/1635 [00:13<00:00, 119.96it/s]\n"
     ]
    },
    {
     "name": "stdout",
     "output_type": "stream",
     "text": [
      "[INFO] [get_MuseProps] Getting MUSE catalouge properties for ngc3627...\n"
     ]
    },
    {
     "name": "stderr",
     "output_type": "stream",
     "text": [
      "Masking regions: 100%|██████████| 1635/1635 [00:00<00:00, 4736.93it/s]\n",
      "Geting complexity score: 100%|██████████| 290/290 [00:02<00:00, 112.45it/s]\n",
      "Get touch flags:: 100%|██████████| 290/290 [00:04<00:00, 68.50it/s]\n"
     ]
    },
    {
     "name": "stdout",
     "output_type": "stream",
     "text": [
      "[CATALOGUE] Final properties table saved to: /Users/abarnes/Dropbox/Projects/Extragalactic/hstha_nebulae_catalogue/ngc3627/catalogue_fixediso_10pc/props_all.fits\n",
      "[CATALOGUE] Masks saved to /Users/abarnes/Dropbox/Projects/Extragalactic/hstha_nebulae_catalogue/ngc3627/catalogue_fixediso_10pc/ngc3627_mask.fits and /Users/abarnes/Dropbox/Projects/Extragalactic/hstha_nebulae_catalogue/ngc3627/catalogue_fixediso_10pc/ngc3627_complexity.fits\n",
      "[CATALOGUE] DS9 regions output to /Users/abarnes/Dropbox/Projects/Extragalactic/hstha_nebulae_catalogue/ngc3627/catalogue_fixediso_10pc/ngc3627_mask\n",
      "[CATALOGUE] Done!\n",
      "[ASSOCIATIONS] Checking association files for galaxy ngc3627 ...\n",
      "Unpacking: /Users/abarnes/Dropbox/Data/Extragalactic/catalogues/multiscale_stellar_associations/ngc3627/vselect/ws8pc/PHANGS_IR4_hst_wfc3_ngc3627_v1p3_multi_assoc-vselect-ws8pc-idmask.fits.gz\n",
      "[INFO] Files found for v_08pc.\n",
      "Unpacking: /Users/abarnes/Dropbox/Data/Extragalactic/catalogues/multiscale_stellar_associations/ngc3627/vselect/ws16pc/PHANGS_IR4_hst_wfc3_ngc3627_v1p3_multi_assoc-vselect-ws16pc-idmask.fits.gz\n",
      "[INFO] Files found for v_16pc.\n",
      "Unpacking: /Users/abarnes/Dropbox/Data/Extragalactic/catalogues/multiscale_stellar_associations/ngc3627/vselect/ws32pc/PHANGS_IR4_hst_wfc3_ngc3627_v1p3_multi_assoc-vselect-ws32pc-idmask.fits.gz\n",
      "[INFO] Files found for v_32pc.\n",
      "Unpacking: /Users/abarnes/Dropbox/Data/Extragalactic/catalogues/multiscale_stellar_associations/ngc3627/vselect/ws64pc/PHANGS_IR4_hst_wfc3_ngc3627_v1p3_multi_assoc-vselect-ws64pc-idmask.fits.gz\n",
      "[INFO] Files found for v_64pc.\n",
      "Unpacking: /Users/abarnes/Dropbox/Data/Extragalactic/catalogues/multiscale_stellar_associations/ngc3627/nuvselect/ws8pc/PHANGS_IR4_hst_wfc3_ngc3627_v1p3_multi_assoc-nuvselect-ws8pc-idmask.fits.gz\n",
      "[INFO] Files found for nuv_08pc.\n",
      "Unpacking: /Users/abarnes/Dropbox/Data/Extragalactic/catalogues/multiscale_stellar_associations/ngc3627/nuvselect/ws16pc/PHANGS_IR4_hst_wfc3_ngc3627_v1p3_multi_assoc-nuvselect-ws16pc-idmask.fits.gz\n",
      "[INFO] Files found for nuv_16pc.\n",
      "Unpacking: /Users/abarnes/Dropbox/Data/Extragalactic/catalogues/multiscale_stellar_associations/ngc3627/nuvselect/ws32pc/PHANGS_IR4_hst_wfc3_ngc3627_v1p3_multi_assoc-nuvselect-ws32pc-idmask.fits.gz\n",
      "[INFO] Files found for nuv_32pc.\n",
      "Unpacking: /Users/abarnes/Dropbox/Data/Extragalactic/catalogues/multiscale_stellar_associations/ngc3627/nuvselect/ws64pc/PHANGS_IR4_hst_wfc3_ngc3627_v1p3_multi_assoc-nuvselect-ws64pc-idmask.fits.gz\n",
      "[INFO] Files found for nuv_64pc.\n",
      "[INFO] [load_pickle] Load /Users/abarnes/Dropbox/Projects/Extragalactic/hstha_nebulae_catalogue/ngc3627/cutouts_fixediso_10pc/sample.pickel\n",
      "[ASSOCIATIONS] Generating new cutouts for association masks...\n"
     ]
    },
    {
     "name": "stderr",
     "output_type": "stream",
     "text": [
      "Cropping regions: 100%|██████████| 290/290 [00:00<00:00, 675.85it/s]\n"
     ]
    },
    {
     "name": "stdout",
     "output_type": "stream",
     "text": [
      "[INFO] [save_pickle] Saved to /Users/abarnes/Dropbox/Projects/Extragalactic/hstha_nebulae_catalogue/ngc3627/cutouts_fixediso_10pc/hdus_catalog_mask_new.pickel\n"
     ]
    },
    {
     "name": "stderr",
     "output_type": "stream",
     "text": [
      "Cropping regions: 100%|██████████| 290/290 [00:00<00:00, 661.01it/s]\n"
     ]
    },
    {
     "name": "stdout",
     "output_type": "stream",
     "text": [
      "[INFO] [save_pickle] Saved to /Users/abarnes/Dropbox/Projects/Extragalactic/hstha_nebulae_catalogue/ngc3627/cutouts_fixediso_10pc/hdus_association_mask_new_v_08pc.pickel\n"
     ]
    },
    {
     "name": "stderr",
     "output_type": "stream",
     "text": [
      "Cropping regions: 100%|██████████| 290/290 [00:00<00:00, 636.83it/s]\n"
     ]
    },
    {
     "name": "stdout",
     "output_type": "stream",
     "text": [
      "[INFO] [save_pickle] Saved to /Users/abarnes/Dropbox/Projects/Extragalactic/hstha_nebulae_catalogue/ngc3627/cutouts_fixediso_10pc/hdus_association_mask_new_v_16pc.pickel\n"
     ]
    },
    {
     "name": "stderr",
     "output_type": "stream",
     "text": [
      "Cropping regions: 100%|██████████| 290/290 [00:00<00:00, 718.86it/s]\n"
     ]
    },
    {
     "name": "stdout",
     "output_type": "stream",
     "text": [
      "[INFO] [save_pickle] Saved to /Users/abarnes/Dropbox/Projects/Extragalactic/hstha_nebulae_catalogue/ngc3627/cutouts_fixediso_10pc/hdus_association_mask_new_v_32pc.pickel\n"
     ]
    },
    {
     "name": "stderr",
     "output_type": "stream",
     "text": [
      "Cropping regions: 100%|██████████| 290/290 [00:00<00:00, 746.32it/s]\n"
     ]
    },
    {
     "name": "stdout",
     "output_type": "stream",
     "text": [
      "[INFO] [save_pickle] Saved to /Users/abarnes/Dropbox/Projects/Extragalactic/hstha_nebulae_catalogue/ngc3627/cutouts_fixediso_10pc/hdus_association_mask_new_v_64pc.pickel\n"
     ]
    },
    {
     "name": "stderr",
     "output_type": "stream",
     "text": [
      "Cropping regions: 100%|██████████| 290/290 [00:00<00:00, 770.71it/s]\n"
     ]
    },
    {
     "name": "stdout",
     "output_type": "stream",
     "text": [
      "[INFO] [save_pickle] Saved to /Users/abarnes/Dropbox/Projects/Extragalactic/hstha_nebulae_catalogue/ngc3627/cutouts_fixediso_10pc/hdus_association_mask_new_nuv_08pc.pickel\n"
     ]
    },
    {
     "name": "stderr",
     "output_type": "stream",
     "text": [
      "Cropping regions: 100%|██████████| 290/290 [00:00<00:00, 754.16it/s]\n"
     ]
    },
    {
     "name": "stdout",
     "output_type": "stream",
     "text": [
      "[INFO] [save_pickle] Saved to /Users/abarnes/Dropbox/Projects/Extragalactic/hstha_nebulae_catalogue/ngc3627/cutouts_fixediso_10pc/hdus_association_mask_new_nuv_16pc.pickel\n"
     ]
    },
    {
     "name": "stderr",
     "output_type": "stream",
     "text": [
      "Cropping regions: 100%|██████████| 290/290 [00:00<00:00, 787.93it/s]\n"
     ]
    },
    {
     "name": "stdout",
     "output_type": "stream",
     "text": [
      "[INFO] [save_pickle] Saved to /Users/abarnes/Dropbox/Projects/Extragalactic/hstha_nebulae_catalogue/ngc3627/cutouts_fixediso_10pc/hdus_association_mask_new_nuv_32pc.pickel\n"
     ]
    },
    {
     "name": "stderr",
     "output_type": "stream",
     "text": [
      "Cropping regions: 100%|██████████| 290/290 [00:00<00:00, 792.20it/s]\n"
     ]
    },
    {
     "name": "stdout",
     "output_type": "stream",
     "text": [
      "[INFO] [save_pickle] Saved to /Users/abarnes/Dropbox/Projects/Extragalactic/hstha_nebulae_catalogue/ngc3627/cutouts_fixediso_10pc/hdus_association_mask_new_nuv_64pc.pickel\n"
     ]
    },
    {
     "name": "stderr",
     "output_type": "stream",
     "text": [
      "Match associations:: 100%|██████████| 290/290 [00:14<00:00, 19.37it/s]\n"
     ]
    },
    {
     "name": "stdout",
     "output_type": "stream",
     "text": [
      "[ASSOCIATIONS] Final association table saved to: /Users/abarnes/Dropbox/Projects/Extragalactic/hstha_nebulae_catalogue/ngc3627/catalogue_fixediso_10pc/props_all_association.fits\n",
      "Cleaning: /Users/abarnes/Dropbox/Data/Extragalactic/catalogues/multiscale_stellar_associations/ngc3627/vselect/ws8pc/PHANGS_IR4_hst_wfc3_ngc3627_v1p3_multi_assoc-vselect-ws8pc-idmask.fits\n",
      "Cleaning: /Users/abarnes/Dropbox/Data/Extragalactic/catalogues/multiscale_stellar_associations/ngc3627/vselect/ws16pc/PHANGS_IR4_hst_wfc3_ngc3627_v1p3_multi_assoc-vselect-ws16pc-idmask.fits\n",
      "Cleaning: /Users/abarnes/Dropbox/Data/Extragalactic/catalogues/multiscale_stellar_associations/ngc3627/vselect/ws32pc/PHANGS_IR4_hst_wfc3_ngc3627_v1p3_multi_assoc-vselect-ws32pc-idmask.fits\n",
      "Cleaning: /Users/abarnes/Dropbox/Data/Extragalactic/catalogues/multiscale_stellar_associations/ngc3627/vselect/ws64pc/PHANGS_IR4_hst_wfc3_ngc3627_v1p3_multi_assoc-vselect-ws64pc-idmask.fits\n",
      "Cleaning: /Users/abarnes/Dropbox/Data/Extragalactic/catalogues/multiscale_stellar_associations/ngc3627/nuvselect/ws8pc/PHANGS_IR4_hst_wfc3_ngc3627_v1p3_multi_assoc-nuvselect-ws8pc-idmask.fits\n",
      "Cleaning: /Users/abarnes/Dropbox/Data/Extragalactic/catalogues/multiscale_stellar_associations/ngc3627/nuvselect/ws16pc/PHANGS_IR4_hst_wfc3_ngc3627_v1p3_multi_assoc-nuvselect-ws16pc-idmask.fits\n",
      "Cleaning: /Users/abarnes/Dropbox/Data/Extragalactic/catalogues/multiscale_stellar_associations/ngc3627/nuvselect/ws32pc/PHANGS_IR4_hst_wfc3_ngc3627_v1p3_multi_assoc-nuvselect-ws32pc-idmask.fits\n",
      "Cleaning: /Users/abarnes/Dropbox/Data/Extragalactic/catalogues/multiscale_stellar_associations/ngc3627/nuvselect/ws64pc/PHANGS_IR4_hst_wfc3_ngc3627_v1p3_multi_assoc-nuvselect-ws64pc-idmask.fits\n"
     ]
    },
    {
     "data": {
      "text/plain": [
       "82304"
      ]
     },
     "execution_count": 15,
     "metadata": {},
     "output_type": "execute_result"
    }
   ],
   "source": [
    "galaxyname = 'ngc3627'\n",
    "\n",
    "mycat = catalogue_pipeline.PyHSTHACat(galaxyname, output_dir_append='_fixediso_10pc')\n",
    "mycat.hstha_err = ISOTHRESHOLD\n",
    "mycat.rerun_all = True\n",
    "mycat.hstha_file = mycat.hstha_file.replace('.fits', '_10pc_fixednoise.fits')\n",
    "\n",
    "mycat.make_paths()\n",
    "mycat.load_files()\n",
    "mycat.get_regions()\n",
    "mycat.get_cutouts()\n",
    "mycat.make_catalogue()\n",
    "\n",
    "mycat.rerun_cutouts_associations = True\n",
    "mycat.make_associations()\n",
    "\n",
    "# To free memory\n",
    "del mycat \n",
    "gc.collect()"
   ]
  },
  {
   "cell_type": "code",
   "execution_count": 16,
   "metadata": {},
   "outputs": [
    {
     "name": "stdout",
     "output_type": "stream",
     "text": [
      "[Info] Outputting to the following:\n",
      "/Users/abarnes/Dropbox/Projects/Extragalactic/hstha_nebulae_catalogue/ngc4254/\n",
      "[INFO] [get_MuseProps] Getting MUSE catalouge properties for ngc4254...\n",
      "[INFO] [get_galaxyprops] Getting sample table properties for ngc4254...\n",
      "[INFO] Using PSF size from header -- > 0.11 arcsec\n",
      "[INFO] Pixel scale taken as CDELT1, CDELT2\n",
      "[INFO] Pixel scale -- > 0.04 arcsec\n",
      "[INFO] Generating new DS9 region file...\n",
      "[INFO] [get_regions] Opening regions file (this may take a min)... \n",
      "[INFO] [get_regions] Getting info for 2960 regions...\n",
      "[INFO] [save_pickle] Saved to /Users/abarnes/Dropbox/Projects/Extragalactic/hstha_nebulae_catalogue/ngc4254/cutouts_fixediso_10pc/sample.pickel\n",
      "[INFO] Generating cutouts for hstha_hdu...\n"
     ]
    },
    {
     "name": "stderr",
     "output_type": "stream",
     "text": [
      "Cropping regions: 100%|██████████| 2960/2960 [00:04<00:00, 737.07it/s]\n"
     ]
    },
    {
     "name": "stdout",
     "output_type": "stream",
     "text": [
      "[INFO] [save_pickle] Saved to /Users/abarnes/Dropbox/Projects/Extragalactic/hstha_nebulae_catalogue/ngc4254/cutouts_fixediso_10pc/hstha_hdu.pickel\n",
      "[INFO] Generating cutouts for musha_hdu...\n"
     ]
    },
    {
     "name": "stderr",
     "output_type": "stream",
     "text": [
      "Cropping regions: 100%|██████████| 2960/2960 [00:03<00:00, 923.43it/s]\n"
     ]
    },
    {
     "name": "stdout",
     "output_type": "stream",
     "text": [
      "[INFO] [save_pickle] Saved to /Users/abarnes/Dropbox/Projects/Extragalactic/hstha_nebulae_catalogue/ngc4254/cutouts_fixediso_10pc/musha_hdu.pickel\n",
      "[INFO] Generating cutouts for muscat_hdu...\n"
     ]
    },
    {
     "name": "stderr",
     "output_type": "stream",
     "text": [
      "Cropping regions: 100%|██████████| 2960/2960 [00:03<00:00, 847.54it/s]\n"
     ]
    },
    {
     "name": "stdout",
     "output_type": "stream",
     "text": [
      "[INFO] [save_pickle] Saved to /Users/abarnes/Dropbox/Projects/Extragalactic/hstha_nebulae_catalogue/ngc4254/cutouts_fixediso_10pc/muscat_hdu.pickel\n",
      "[INFO] [load_pickle] Load /Users/abarnes/Dropbox/Projects/Extragalactic/hstha_nebulae_catalogue/ngc4254/cutouts_fixediso_10pc/hstha_hdu.pickel\n",
      "[INFO] [load_pickle] Load /Users/abarnes/Dropbox/Projects/Extragalactic/hstha_nebulae_catalogue/ngc4254/cutouts_fixediso_10pc/musha_hdu.pickel\n",
      "[INFO] [load_pickle] Load /Users/abarnes/Dropbox/Projects/Extragalactic/hstha_nebulae_catalogue/ngc4254/cutouts_fixediso_10pc/muscat_hdu.pickel\n",
      "[INFO] All HDU cutouts saved to /Users/abarnes/Dropbox/Projects/Extragalactic/hstha_nebulae_catalogue/ngc4254/cutouts_fixediso_10pc/hdus_all.pickel\n",
      "[INFO] [save_pickle] Saved to /Users/abarnes/Dropbox/Projects/Extragalactic/hstha_nebulae_catalogue/ngc4254/cutouts_fixediso_10pc/hdus_all.pickel\n",
      "[CATALOGUE] Running catalogue generation for: ngc4254\n",
      "[INFO] [get_maskedhdus] Getting HST maps masked by MUSE catalouge...\n"
     ]
    },
    {
     "name": "stderr",
     "output_type": "stream",
     "text": [
      "Masking regions: 100%|██████████| 2960/2960 [01:02<00:00, 47.67it/s]\n"
     ]
    },
    {
     "name": "stdout",
     "output_type": "stream",
     "text": [
      "[INFO] [save_pickle] Saved to /Users/abarnes/Dropbox/Projects/Extragalactic/hstha_nebulae_catalogue/ngc4254/cutouts_fixediso_10pc/hdus_all_withmasked.pickel\n"
     ]
    },
    {
     "name": "stderr",
     "output_type": "stream",
     "text": [
      "Get sources: 100%|██████████| 2960/2960 [00:21<00:00, 137.81it/s]\n"
     ]
    },
    {
     "name": "stdout",
     "output_type": "stream",
     "text": [
      "[INFO] [get_MuseProps] Getting MUSE catalouge properties for ngc4254...\n"
     ]
    },
    {
     "name": "stderr",
     "output_type": "stream",
     "text": [
      "Masking regions: 100%|██████████| 2960/2960 [00:00<00:00, 3006.34it/s]\n",
      "Geting complexity score: 100%|██████████| 776/776 [00:21<00:00, 35.62it/s]\n",
      "Get touch flags:: 100%|██████████| 776/776 [00:20<00:00, 38.45it/s]\n"
     ]
    },
    {
     "name": "stdout",
     "output_type": "stream",
     "text": [
      "[CATALOGUE] Final properties table saved to: /Users/abarnes/Dropbox/Projects/Extragalactic/hstha_nebulae_catalogue/ngc4254/catalogue_fixediso_10pc/props_all.fits\n",
      "[CATALOGUE] Masks saved to /Users/abarnes/Dropbox/Projects/Extragalactic/hstha_nebulae_catalogue/ngc4254/catalogue_fixediso_10pc/ngc4254_mask.fits and /Users/abarnes/Dropbox/Projects/Extragalactic/hstha_nebulae_catalogue/ngc4254/catalogue_fixediso_10pc/ngc4254_complexity.fits\n",
      "[CATALOGUE] DS9 regions output to /Users/abarnes/Dropbox/Projects/Extragalactic/hstha_nebulae_catalogue/ngc4254/catalogue_fixediso_10pc/ngc4254_mask\n",
      "[CATALOGUE] Done!\n",
      "[ASSOCIATIONS] Checking association files for galaxy ngc4254 ...\n",
      "Unpacking: /Users/abarnes/Dropbox/Data/Extragalactic/catalogues/multiscale_stellar_associations/ngc4254/vselect/ws8pc/PHANGS_IR4_hst_wfc3_ngc4254_v1p3_multi_assoc-vselect-ws8pc-idmask.fits.gz\n",
      "[INFO] Files found for v_08pc.\n",
      "Unpacking: /Users/abarnes/Dropbox/Data/Extragalactic/catalogues/multiscale_stellar_associations/ngc4254/vselect/ws16pc/PHANGS_IR4_hst_wfc3_ngc4254_v1p3_multi_assoc-vselect-ws16pc-idmask.fits.gz\n",
      "[INFO] Files found for v_16pc.\n",
      "Unpacking: /Users/abarnes/Dropbox/Data/Extragalactic/catalogues/multiscale_stellar_associations/ngc4254/vselect/ws32pc/PHANGS_IR4_hst_wfc3_ngc4254_v1p3_multi_assoc-vselect-ws32pc-idmask.fits.gz\n",
      "[INFO] Files found for v_32pc.\n",
      "Unpacking: /Users/abarnes/Dropbox/Data/Extragalactic/catalogues/multiscale_stellar_associations/ngc4254/vselect/ws64pc/PHANGS_IR4_hst_wfc3_ngc4254_v1p3_multi_assoc-vselect-ws64pc-idmask.fits.gz\n",
      "[INFO] Files found for v_64pc.\n",
      "Unpacking: /Users/abarnes/Dropbox/Data/Extragalactic/catalogues/multiscale_stellar_associations/ngc4254/nuvselect/ws8pc/PHANGS_IR4_hst_wfc3_ngc4254_v1p3_multi_assoc-nuvselect-ws8pc-idmask.fits.gz\n",
      "[INFO] Files found for nuv_08pc.\n",
      "Unpacking: /Users/abarnes/Dropbox/Data/Extragalactic/catalogues/multiscale_stellar_associations/ngc4254/nuvselect/ws16pc/PHANGS_IR4_hst_wfc3_ngc4254_v1p3_multi_assoc-nuvselect-ws16pc-idmask.fits.gz\n",
      "[INFO] Files found for nuv_16pc.\n",
      "Unpacking: /Users/abarnes/Dropbox/Data/Extragalactic/catalogues/multiscale_stellar_associations/ngc4254/nuvselect/ws32pc/PHANGS_IR4_hst_wfc3_ngc4254_v1p3_multi_assoc-nuvselect-ws32pc-idmask.fits.gz\n",
      "[INFO] Files found for nuv_32pc.\n",
      "Unpacking: /Users/abarnes/Dropbox/Data/Extragalactic/catalogues/multiscale_stellar_associations/ngc4254/nuvselect/ws64pc/PHANGS_IR4_hst_wfc3_ngc4254_v1p3_multi_assoc-nuvselect-ws64pc-idmask.fits.gz\n",
      "[INFO] Files found for nuv_64pc.\n",
      "[INFO] [load_pickle] Load /Users/abarnes/Dropbox/Projects/Extragalactic/hstha_nebulae_catalogue/ngc4254/cutouts_fixediso_10pc/sample.pickel\n",
      "[ASSOCIATIONS] Generating new cutouts for association masks...\n"
     ]
    },
    {
     "name": "stderr",
     "output_type": "stream",
     "text": [
      "Cropping regions: 100%|██████████| 776/776 [00:01<00:00, 688.82it/s]\n"
     ]
    },
    {
     "name": "stdout",
     "output_type": "stream",
     "text": [
      "[INFO] [save_pickle] Saved to /Users/abarnes/Dropbox/Projects/Extragalactic/hstha_nebulae_catalogue/ngc4254/cutouts_fixediso_10pc/hdus_catalog_mask_new.pickel\n"
     ]
    },
    {
     "name": "stderr",
     "output_type": "stream",
     "text": [
      "Cropping regions: 100%|██████████| 776/776 [00:01<00:00, 737.69it/s]\n"
     ]
    },
    {
     "name": "stdout",
     "output_type": "stream",
     "text": [
      "[INFO] [save_pickle] Saved to /Users/abarnes/Dropbox/Projects/Extragalactic/hstha_nebulae_catalogue/ngc4254/cutouts_fixediso_10pc/hdus_association_mask_new_v_08pc.pickel\n"
     ]
    },
    {
     "name": "stderr",
     "output_type": "stream",
     "text": [
      "Cropping regions: 100%|██████████| 776/776 [00:01<00:00, 764.48it/s]\n"
     ]
    },
    {
     "name": "stdout",
     "output_type": "stream",
     "text": [
      "[INFO] [save_pickle] Saved to /Users/abarnes/Dropbox/Projects/Extragalactic/hstha_nebulae_catalogue/ngc4254/cutouts_fixediso_10pc/hdus_association_mask_new_v_16pc.pickel\n"
     ]
    },
    {
     "name": "stderr",
     "output_type": "stream",
     "text": [
      "Cropping regions: 100%|██████████| 776/776 [00:01<00:00, 771.47it/s]\n"
     ]
    },
    {
     "name": "stdout",
     "output_type": "stream",
     "text": [
      "[INFO] [save_pickle] Saved to /Users/abarnes/Dropbox/Projects/Extragalactic/hstha_nebulae_catalogue/ngc4254/cutouts_fixediso_10pc/hdus_association_mask_new_v_32pc.pickel\n"
     ]
    },
    {
     "name": "stderr",
     "output_type": "stream",
     "text": [
      "Cropping regions: 100%|██████████| 776/776 [00:00<00:00, 779.39it/s]\n"
     ]
    },
    {
     "name": "stdout",
     "output_type": "stream",
     "text": [
      "[INFO] [save_pickle] Saved to /Users/abarnes/Dropbox/Projects/Extragalactic/hstha_nebulae_catalogue/ngc4254/cutouts_fixediso_10pc/hdus_association_mask_new_v_64pc.pickel\n"
     ]
    },
    {
     "name": "stderr",
     "output_type": "stream",
     "text": [
      "Cropping regions: 100%|██████████| 776/776 [00:01<00:00, 774.85it/s]\n"
     ]
    },
    {
     "name": "stdout",
     "output_type": "stream",
     "text": [
      "[INFO] [save_pickle] Saved to /Users/abarnes/Dropbox/Projects/Extragalactic/hstha_nebulae_catalogue/ngc4254/cutouts_fixediso_10pc/hdus_association_mask_new_nuv_08pc.pickel\n"
     ]
    },
    {
     "name": "stderr",
     "output_type": "stream",
     "text": [
      "Cropping regions: 100%|██████████| 776/776 [00:00<00:00, 799.91it/s]\n"
     ]
    },
    {
     "name": "stdout",
     "output_type": "stream",
     "text": [
      "[INFO] [save_pickle] Saved to /Users/abarnes/Dropbox/Projects/Extragalactic/hstha_nebulae_catalogue/ngc4254/cutouts_fixediso_10pc/hdus_association_mask_new_nuv_16pc.pickel\n"
     ]
    },
    {
     "name": "stderr",
     "output_type": "stream",
     "text": [
      "Cropping regions: 100%|██████████| 776/776 [00:01<00:00, 775.43it/s]\n"
     ]
    },
    {
     "name": "stdout",
     "output_type": "stream",
     "text": [
      "[INFO] [save_pickle] Saved to /Users/abarnes/Dropbox/Projects/Extragalactic/hstha_nebulae_catalogue/ngc4254/cutouts_fixediso_10pc/hdus_association_mask_new_nuv_32pc.pickel\n"
     ]
    },
    {
     "name": "stderr",
     "output_type": "stream",
     "text": [
      "Cropping regions: 100%|██████████| 776/776 [00:00<00:00, 788.04it/s]\n"
     ]
    },
    {
     "name": "stdout",
     "output_type": "stream",
     "text": [
      "[INFO] [save_pickle] Saved to /Users/abarnes/Dropbox/Projects/Extragalactic/hstha_nebulae_catalogue/ngc4254/cutouts_fixediso_10pc/hdus_association_mask_new_nuv_64pc.pickel\n"
     ]
    },
    {
     "name": "stderr",
     "output_type": "stream",
     "text": [
      "Match associations:: 100%|██████████| 776/776 [00:41<00:00, 18.63it/s]\n"
     ]
    },
    {
     "name": "stdout",
     "output_type": "stream",
     "text": [
      "[ASSOCIATIONS] Final association table saved to: /Users/abarnes/Dropbox/Projects/Extragalactic/hstha_nebulae_catalogue/ngc4254/catalogue_fixediso_10pc/props_all_association.fits\n",
      "Cleaning: /Users/abarnes/Dropbox/Data/Extragalactic/catalogues/multiscale_stellar_associations/ngc4254/vselect/ws8pc/PHANGS_IR4_hst_wfc3_ngc4254_v1p3_multi_assoc-vselect-ws8pc-idmask.fits\n",
      "Cleaning: /Users/abarnes/Dropbox/Data/Extragalactic/catalogues/multiscale_stellar_associations/ngc4254/vselect/ws16pc/PHANGS_IR4_hst_wfc3_ngc4254_v1p3_multi_assoc-vselect-ws16pc-idmask.fits\n",
      "Cleaning: /Users/abarnes/Dropbox/Data/Extragalactic/catalogues/multiscale_stellar_associations/ngc4254/vselect/ws32pc/PHANGS_IR4_hst_wfc3_ngc4254_v1p3_multi_assoc-vselect-ws32pc-idmask.fits\n",
      "Cleaning: /Users/abarnes/Dropbox/Data/Extragalactic/catalogues/multiscale_stellar_associations/ngc4254/vselect/ws64pc/PHANGS_IR4_hst_wfc3_ngc4254_v1p3_multi_assoc-vselect-ws64pc-idmask.fits\n",
      "Cleaning: /Users/abarnes/Dropbox/Data/Extragalactic/catalogues/multiscale_stellar_associations/ngc4254/nuvselect/ws8pc/PHANGS_IR4_hst_wfc3_ngc4254_v1p3_multi_assoc-nuvselect-ws8pc-idmask.fits\n",
      "Cleaning: /Users/abarnes/Dropbox/Data/Extragalactic/catalogues/multiscale_stellar_associations/ngc4254/nuvselect/ws16pc/PHANGS_IR4_hst_wfc3_ngc4254_v1p3_multi_assoc-nuvselect-ws16pc-idmask.fits\n",
      "Cleaning: /Users/abarnes/Dropbox/Data/Extragalactic/catalogues/multiscale_stellar_associations/ngc4254/nuvselect/ws32pc/PHANGS_IR4_hst_wfc3_ngc4254_v1p3_multi_assoc-nuvselect-ws32pc-idmask.fits\n",
      "Cleaning: /Users/abarnes/Dropbox/Data/Extragalactic/catalogues/multiscale_stellar_associations/ngc4254/nuvselect/ws64pc/PHANGS_IR4_hst_wfc3_ngc4254_v1p3_multi_assoc-nuvselect-ws64pc-idmask.fits\n"
     ]
    },
    {
     "data": {
      "text/plain": [
       "140254"
      ]
     },
     "execution_count": 16,
     "metadata": {},
     "output_type": "execute_result"
    }
   ],
   "source": [
    "galaxyname = 'ngc4254'\n",
    "\n",
    "mycat = catalogue_pipeline.PyHSTHACat(galaxyname, output_dir_append='_fixediso_10pc')\n",
    "mycat.hstha_err = ISOTHRESHOLD\n",
    "mycat.rerun_all = True\n",
    "mycat.hstha_file = mycat.hstha_file.replace('.fits', '_10pc_fixednoise.fits')\n",
    "\n",
    "mycat.make_paths()\n",
    "mycat.load_files()\n",
    "mycat.get_regions()\n",
    "mycat.get_cutouts()\n",
    "mycat.make_catalogue()\n",
    "\n",
    "mycat.rerun_cutouts_associations = True\n",
    "mycat.make_associations()\n",
    "\n",
    "# To free memory\n",
    "del mycat \n",
    "gc.collect()"
   ]
  },
  {
   "cell_type": "code",
   "execution_count": 17,
   "metadata": {},
   "outputs": [
    {
     "name": "stdout",
     "output_type": "stream",
     "text": [
      "[Info] Outputting to the following:\n",
      "/Users/abarnes/Dropbox/Projects/Extragalactic/hstha_nebulae_catalogue/ngc4303/\n",
      "[INFO] [get_MuseProps] Getting MUSE catalouge properties for ngc4303...\n",
      "[INFO] [get_galaxyprops] Getting sample table properties for ngc4303...\n",
      "[INFO] Using PSF size from header -- > 0.08 arcsec\n",
      "[INFO] Pixel scale taken as CDELT1, CDELT2\n",
      "[INFO] Pixel scale -- > 0.04 arcsec\n",
      "[INFO] Generating new DS9 region file...\n",
      "[INFO] [get_regions] Opening regions file (this may take a min)... \n",
      "[INFO] [get_regions] Getting info for 3067 regions...\n",
      "[INFO] [save_pickle] Saved to /Users/abarnes/Dropbox/Projects/Extragalactic/hstha_nebulae_catalogue/ngc4303/cutouts_fixediso_10pc/sample.pickel\n",
      "[INFO] Generating cutouts for hstha_hdu...\n"
     ]
    },
    {
     "name": "stderr",
     "output_type": "stream",
     "text": [
      "Cropping regions: 100%|██████████| 3067/3067 [00:04<00:00, 709.80it/s]\n"
     ]
    },
    {
     "name": "stdout",
     "output_type": "stream",
     "text": [
      "[INFO] [save_pickle] Saved to /Users/abarnes/Dropbox/Projects/Extragalactic/hstha_nebulae_catalogue/ngc4303/cutouts_fixediso_10pc/hstha_hdu.pickel\n",
      "[INFO] Generating cutouts for musha_hdu...\n"
     ]
    },
    {
     "name": "stderr",
     "output_type": "stream",
     "text": [
      "Cropping regions: 100%|██████████| 3067/3067 [00:03<00:00, 898.05it/s]\n"
     ]
    },
    {
     "name": "stdout",
     "output_type": "stream",
     "text": [
      "[INFO] [save_pickle] Saved to /Users/abarnes/Dropbox/Projects/Extragalactic/hstha_nebulae_catalogue/ngc4303/cutouts_fixediso_10pc/musha_hdu.pickel\n",
      "[INFO] Generating cutouts for muscat_hdu...\n"
     ]
    },
    {
     "name": "stderr",
     "output_type": "stream",
     "text": [
      "Cropping regions: 100%|██████████| 3067/3067 [00:03<00:00, 833.40it/s]\n"
     ]
    },
    {
     "name": "stdout",
     "output_type": "stream",
     "text": [
      "[INFO] [save_pickle] Saved to /Users/abarnes/Dropbox/Projects/Extragalactic/hstha_nebulae_catalogue/ngc4303/cutouts_fixediso_10pc/muscat_hdu.pickel\n",
      "[INFO] [load_pickle] Load /Users/abarnes/Dropbox/Projects/Extragalactic/hstha_nebulae_catalogue/ngc4303/cutouts_fixediso_10pc/hstha_hdu.pickel\n",
      "[INFO] [load_pickle] Load /Users/abarnes/Dropbox/Projects/Extragalactic/hstha_nebulae_catalogue/ngc4303/cutouts_fixediso_10pc/musha_hdu.pickel\n",
      "[INFO] [load_pickle] Load /Users/abarnes/Dropbox/Projects/Extragalactic/hstha_nebulae_catalogue/ngc4303/cutouts_fixediso_10pc/muscat_hdu.pickel\n",
      "[INFO] All HDU cutouts saved to /Users/abarnes/Dropbox/Projects/Extragalactic/hstha_nebulae_catalogue/ngc4303/cutouts_fixediso_10pc/hdus_all.pickel\n",
      "[INFO] [save_pickle] Saved to /Users/abarnes/Dropbox/Projects/Extragalactic/hstha_nebulae_catalogue/ngc4303/cutouts_fixediso_10pc/hdus_all.pickel\n",
      "[CATALOGUE] Running catalogue generation for: ngc4303\n",
      "[INFO] [get_maskedhdus] Getting HST maps masked by MUSE catalouge...\n"
     ]
    },
    {
     "name": "stderr",
     "output_type": "stream",
     "text": [
      "Masking regions: 100%|██████████| 3067/3067 [01:05<00:00, 46.82it/s]\n"
     ]
    },
    {
     "name": "stdout",
     "output_type": "stream",
     "text": [
      "[INFO] [save_pickle] Saved to /Users/abarnes/Dropbox/Projects/Extragalactic/hstha_nebulae_catalogue/ngc4303/cutouts_fixediso_10pc/hdus_all_withmasked.pickel\n"
     ]
    },
    {
     "name": "stderr",
     "output_type": "stream",
     "text": [
      "Get sources: 100%|██████████| 3067/3067 [00:18<00:00, 164.92it/s]\n"
     ]
    },
    {
     "name": "stdout",
     "output_type": "stream",
     "text": [
      "[INFO] [get_MuseProps] Getting MUSE catalouge properties for ngc4303...\n"
     ]
    },
    {
     "name": "stderr",
     "output_type": "stream",
     "text": [
      "Masking regions: 100%|██████████| 3067/3067 [00:00<00:00, 3622.00it/s]\n",
      "Geting complexity score: 100%|██████████| 722/722 [00:11<00:00, 65.47it/s]\n",
      "Get touch flags:: 100%|██████████| 722/722 [00:12<00:00, 60.13it/s]\n"
     ]
    },
    {
     "name": "stdout",
     "output_type": "stream",
     "text": [
      "[CATALOGUE] Final properties table saved to: /Users/abarnes/Dropbox/Projects/Extragalactic/hstha_nebulae_catalogue/ngc4303/catalogue_fixediso_10pc/props_all.fits\n",
      "[CATALOGUE] Masks saved to /Users/abarnes/Dropbox/Projects/Extragalactic/hstha_nebulae_catalogue/ngc4303/catalogue_fixediso_10pc/ngc4303_mask.fits and /Users/abarnes/Dropbox/Projects/Extragalactic/hstha_nebulae_catalogue/ngc4303/catalogue_fixediso_10pc/ngc4303_complexity.fits\n",
      "[CATALOGUE] DS9 regions output to /Users/abarnes/Dropbox/Projects/Extragalactic/hstha_nebulae_catalogue/ngc4303/catalogue_fixediso_10pc/ngc4303_mask\n",
      "[CATALOGUE] Done!\n",
      "[ASSOCIATIONS] Checking association files for galaxy ngc4303 ...\n",
      "Unpacking: /Users/abarnes/Dropbox/Data/Extragalactic/catalogues/multiscale_stellar_associations/ngc4303/vselect/ws8pc/PHANGS_IR4_hst_wfc3_ngc4303_v1p3_multi_assoc-vselect-ws8pc-idmask.fits.gz\n",
      "[INFO] Files found for v_08pc.\n",
      "Unpacking: /Users/abarnes/Dropbox/Data/Extragalactic/catalogues/multiscale_stellar_associations/ngc4303/vselect/ws16pc/PHANGS_IR4_hst_wfc3_ngc4303_v1p3_multi_assoc-vselect-ws16pc-idmask.fits.gz\n",
      "[INFO] Files found for v_16pc.\n",
      "Unpacking: /Users/abarnes/Dropbox/Data/Extragalactic/catalogues/multiscale_stellar_associations/ngc4303/vselect/ws32pc/PHANGS_IR4_hst_wfc3_ngc4303_v1p3_multi_assoc-vselect-ws32pc-idmask.fits.gz\n",
      "[INFO] Files found for v_32pc.\n",
      "Unpacking: /Users/abarnes/Dropbox/Data/Extragalactic/catalogues/multiscale_stellar_associations/ngc4303/vselect/ws64pc/PHANGS_IR4_hst_wfc3_ngc4303_v1p3_multi_assoc-vselect-ws64pc-idmask.fits.gz\n",
      "[INFO] Files found for v_64pc.\n",
      "Unpacking: /Users/abarnes/Dropbox/Data/Extragalactic/catalogues/multiscale_stellar_associations/ngc4303/nuvselect/ws8pc/PHANGS_IR4_hst_wfc3_ngc4303_v1p3_multi_assoc-nuvselect-ws8pc-idmask.fits.gz\n",
      "[INFO] Files found for nuv_08pc.\n",
      "Unpacking: /Users/abarnes/Dropbox/Data/Extragalactic/catalogues/multiscale_stellar_associations/ngc4303/nuvselect/ws16pc/PHANGS_IR4_hst_wfc3_ngc4303_v1p3_multi_assoc-nuvselect-ws16pc-idmask.fits.gz\n",
      "[INFO] Files found for nuv_16pc.\n",
      "Unpacking: /Users/abarnes/Dropbox/Data/Extragalactic/catalogues/multiscale_stellar_associations/ngc4303/nuvselect/ws32pc/PHANGS_IR4_hst_wfc3_ngc4303_v1p3_multi_assoc-nuvselect-ws32pc-idmask.fits.gz\n",
      "[INFO] Files found for nuv_32pc.\n",
      "Unpacking: /Users/abarnes/Dropbox/Data/Extragalactic/catalogues/multiscale_stellar_associations/ngc4303/nuvselect/ws64pc/PHANGS_IR4_hst_wfc3_ngc4303_v1p3_multi_assoc-nuvselect-ws64pc-idmask.fits.gz\n",
      "[INFO] Files found for nuv_64pc.\n",
      "[INFO] [load_pickle] Load /Users/abarnes/Dropbox/Projects/Extragalactic/hstha_nebulae_catalogue/ngc4303/cutouts_fixediso_10pc/sample.pickel\n",
      "[ASSOCIATIONS] Generating new cutouts for association masks...\n"
     ]
    },
    {
     "name": "stderr",
     "output_type": "stream",
     "text": [
      "Cropping regions: 100%|██████████| 722/722 [00:01<00:00, 720.47it/s]\n"
     ]
    },
    {
     "name": "stdout",
     "output_type": "stream",
     "text": [
      "[INFO] [save_pickle] Saved to /Users/abarnes/Dropbox/Projects/Extragalactic/hstha_nebulae_catalogue/ngc4303/cutouts_fixediso_10pc/hdus_catalog_mask_new.pickel\n"
     ]
    },
    {
     "name": "stderr",
     "output_type": "stream",
     "text": [
      "Cropping regions: 100%|██████████| 722/722 [00:01<00:00, 715.96it/s]\n"
     ]
    },
    {
     "name": "stdout",
     "output_type": "stream",
     "text": [
      "[INFO] [save_pickle] Saved to /Users/abarnes/Dropbox/Projects/Extragalactic/hstha_nebulae_catalogue/ngc4303/cutouts_fixediso_10pc/hdus_association_mask_new_v_08pc.pickel\n"
     ]
    },
    {
     "name": "stderr",
     "output_type": "stream",
     "text": [
      "Cropping regions: 100%|██████████| 722/722 [00:00<00:00, 784.05it/s]\n"
     ]
    },
    {
     "name": "stdout",
     "output_type": "stream",
     "text": [
      "[INFO] [save_pickle] Saved to /Users/abarnes/Dropbox/Projects/Extragalactic/hstha_nebulae_catalogue/ngc4303/cutouts_fixediso_10pc/hdus_association_mask_new_v_16pc.pickel\n"
     ]
    },
    {
     "name": "stderr",
     "output_type": "stream",
     "text": [
      "Cropping regions: 100%|██████████| 722/722 [00:00<00:00, 786.44it/s]\n"
     ]
    },
    {
     "name": "stdout",
     "output_type": "stream",
     "text": [
      "[INFO] [save_pickle] Saved to /Users/abarnes/Dropbox/Projects/Extragalactic/hstha_nebulae_catalogue/ngc4303/cutouts_fixediso_10pc/hdus_association_mask_new_v_32pc.pickel\n"
     ]
    },
    {
     "name": "stderr",
     "output_type": "stream",
     "text": [
      "Cropping regions: 100%|██████████| 722/722 [00:00<00:00, 754.85it/s]\n"
     ]
    },
    {
     "name": "stdout",
     "output_type": "stream",
     "text": [
      "[INFO] [save_pickle] Saved to /Users/abarnes/Dropbox/Projects/Extragalactic/hstha_nebulae_catalogue/ngc4303/cutouts_fixediso_10pc/hdus_association_mask_new_v_64pc.pickel\n"
     ]
    },
    {
     "name": "stderr",
     "output_type": "stream",
     "text": [
      "Cropping regions: 100%|██████████| 722/722 [00:00<00:00, 772.90it/s]\n"
     ]
    },
    {
     "name": "stdout",
     "output_type": "stream",
     "text": [
      "[INFO] [save_pickle] Saved to /Users/abarnes/Dropbox/Projects/Extragalactic/hstha_nebulae_catalogue/ngc4303/cutouts_fixediso_10pc/hdus_association_mask_new_nuv_08pc.pickel\n"
     ]
    },
    {
     "name": "stderr",
     "output_type": "stream",
     "text": [
      "Cropping regions: 100%|██████████| 722/722 [00:00<00:00, 722.90it/s]\n"
     ]
    },
    {
     "name": "stdout",
     "output_type": "stream",
     "text": [
      "[INFO] [save_pickle] Saved to /Users/abarnes/Dropbox/Projects/Extragalactic/hstha_nebulae_catalogue/ngc4303/cutouts_fixediso_10pc/hdus_association_mask_new_nuv_16pc.pickel\n"
     ]
    },
    {
     "name": "stderr",
     "output_type": "stream",
     "text": [
      "Cropping regions: 100%|██████████| 722/722 [00:00<00:00, 738.06it/s]\n"
     ]
    },
    {
     "name": "stdout",
     "output_type": "stream",
     "text": [
      "[INFO] [save_pickle] Saved to /Users/abarnes/Dropbox/Projects/Extragalactic/hstha_nebulae_catalogue/ngc4303/cutouts_fixediso_10pc/hdus_association_mask_new_nuv_32pc.pickel\n"
     ]
    },
    {
     "name": "stderr",
     "output_type": "stream",
     "text": [
      "Cropping regions: 100%|██████████| 722/722 [00:00<00:00, 727.78it/s]\n"
     ]
    },
    {
     "name": "stdout",
     "output_type": "stream",
     "text": [
      "[INFO] [save_pickle] Saved to /Users/abarnes/Dropbox/Projects/Extragalactic/hstha_nebulae_catalogue/ngc4303/cutouts_fixediso_10pc/hdus_association_mask_new_nuv_64pc.pickel\n"
     ]
    },
    {
     "name": "stderr",
     "output_type": "stream",
     "text": [
      "Match associations:: 100%|██████████| 722/722 [00:43<00:00, 16.63it/s]\n"
     ]
    },
    {
     "name": "stdout",
     "output_type": "stream",
     "text": [
      "[ASSOCIATIONS] Final association table saved to: /Users/abarnes/Dropbox/Projects/Extragalactic/hstha_nebulae_catalogue/ngc4303/catalogue_fixediso_10pc/props_all_association.fits\n",
      "Cleaning: /Users/abarnes/Dropbox/Data/Extragalactic/catalogues/multiscale_stellar_associations/ngc4303/vselect/ws8pc/PHANGS_IR4_hst_wfc3_ngc4303_v1p3_multi_assoc-vselect-ws8pc-idmask.fits\n",
      "Cleaning: /Users/abarnes/Dropbox/Data/Extragalactic/catalogues/multiscale_stellar_associations/ngc4303/vselect/ws16pc/PHANGS_IR4_hst_wfc3_ngc4303_v1p3_multi_assoc-vselect-ws16pc-idmask.fits\n",
      "Cleaning: /Users/abarnes/Dropbox/Data/Extragalactic/catalogues/multiscale_stellar_associations/ngc4303/vselect/ws32pc/PHANGS_IR4_hst_wfc3_ngc4303_v1p3_multi_assoc-vselect-ws32pc-idmask.fits\n",
      "Cleaning: /Users/abarnes/Dropbox/Data/Extragalactic/catalogues/multiscale_stellar_associations/ngc4303/vselect/ws64pc/PHANGS_IR4_hst_wfc3_ngc4303_v1p3_multi_assoc-vselect-ws64pc-idmask.fits\n",
      "Cleaning: /Users/abarnes/Dropbox/Data/Extragalactic/catalogues/multiscale_stellar_associations/ngc4303/nuvselect/ws8pc/PHANGS_IR4_hst_wfc3_ngc4303_v1p3_multi_assoc-nuvselect-ws8pc-idmask.fits\n",
      "Cleaning: /Users/abarnes/Dropbox/Data/Extragalactic/catalogues/multiscale_stellar_associations/ngc4303/nuvselect/ws16pc/PHANGS_IR4_hst_wfc3_ngc4303_v1p3_multi_assoc-nuvselect-ws16pc-idmask.fits\n",
      "Cleaning: /Users/abarnes/Dropbox/Data/Extragalactic/catalogues/multiscale_stellar_associations/ngc4303/nuvselect/ws32pc/PHANGS_IR4_hst_wfc3_ngc4303_v1p3_multi_assoc-nuvselect-ws32pc-idmask.fits\n",
      "Cleaning: /Users/abarnes/Dropbox/Data/Extragalactic/catalogues/multiscale_stellar_associations/ngc4303/nuvselect/ws64pc/PHANGS_IR4_hst_wfc3_ngc4303_v1p3_multi_assoc-nuvselect-ws64pc-idmask.fits\n"
     ]
    },
    {
     "data": {
      "text/plain": [
       "138256"
      ]
     },
     "execution_count": 17,
     "metadata": {},
     "output_type": "execute_result"
    }
   ],
   "source": [
    "galaxyname = 'ngc4303'\n",
    "\n",
    "mycat = catalogue_pipeline.PyHSTHACat(galaxyname, output_dir_append='_fixediso_10pc')\n",
    "mycat.hstha_err = ISOTHRESHOLD\n",
    "mycat.rerun_all = True\n",
    "mycat.hstha_file = mycat.hstha_file.replace('.fits', '_10pc_fixednoise.fits')\n",
    "\n",
    "mycat.make_paths()\n",
    "mycat.load_files()\n",
    "mycat.get_regions()\n",
    "mycat.get_cutouts()\n",
    "mycat.make_catalogue()\n",
    "\n",
    "mycat.rerun_cutouts_associations = True\n",
    "mycat.make_associations()\n",
    "\n",
    "# To free memory\n",
    "del mycat \n",
    "gc.collect()"
   ]
  },
  {
   "cell_type": "code",
   "execution_count": 18,
   "metadata": {},
   "outputs": [
    {
     "name": "stdout",
     "output_type": "stream",
     "text": [
      "[Info] Outputting to the following:\n",
      "/Users/abarnes/Dropbox/Projects/Extragalactic/hstha_nebulae_catalogue/ngc4321/\n",
      "[INFO] [get_MuseProps] Getting MUSE catalouge properties for ngc4321...\n",
      "[INFO] [get_galaxyprops] Getting sample table properties for ngc4321...\n",
      "[INFO] Using PSF size from header -- > 0.09 arcsec\n",
      "[INFO] Pixel scale taken as CDELT1, CDELT2\n",
      "[INFO] Pixel scale -- > 0.04 arcsec\n",
      "[INFO] Generating new DS9 region file...\n",
      "[INFO] [get_regions] Opening regions file (this may take a min)... \n",
      "[INFO] [get_regions] Getting info for 1847 regions...\n",
      "[INFO] [save_pickle] Saved to /Users/abarnes/Dropbox/Projects/Extragalactic/hstha_nebulae_catalogue/ngc4321/cutouts_fixediso_10pc/sample.pickel\n",
      "[INFO] Generating cutouts for hstha_hdu...\n"
     ]
    },
    {
     "name": "stderr",
     "output_type": "stream",
     "text": [
      "Cropping regions: 100%|██████████| 1847/1847 [00:02<00:00, 726.10it/s]\n"
     ]
    },
    {
     "name": "stdout",
     "output_type": "stream",
     "text": [
      "[INFO] [save_pickle] Saved to /Users/abarnes/Dropbox/Projects/Extragalactic/hstha_nebulae_catalogue/ngc4321/cutouts_fixediso_10pc/hstha_hdu.pickel\n",
      "[INFO] Generating cutouts for musha_hdu...\n"
     ]
    },
    {
     "name": "stderr",
     "output_type": "stream",
     "text": [
      "Cropping regions: 100%|██████████| 1847/1847 [00:02<00:00, 836.71it/s]\n"
     ]
    },
    {
     "name": "stdout",
     "output_type": "stream",
     "text": [
      "[INFO] [save_pickle] Saved to /Users/abarnes/Dropbox/Projects/Extragalactic/hstha_nebulae_catalogue/ngc4321/cutouts_fixediso_10pc/musha_hdu.pickel\n",
      "[INFO] Generating cutouts for muscat_hdu...\n"
     ]
    },
    {
     "name": "stderr",
     "output_type": "stream",
     "text": [
      "Cropping regions: 100%|██████████| 1847/1847 [00:02<00:00, 826.17it/s]\n"
     ]
    },
    {
     "name": "stdout",
     "output_type": "stream",
     "text": [
      "[INFO] [save_pickle] Saved to /Users/abarnes/Dropbox/Projects/Extragalactic/hstha_nebulae_catalogue/ngc4321/cutouts_fixediso_10pc/muscat_hdu.pickel\n",
      "[INFO] [load_pickle] Load /Users/abarnes/Dropbox/Projects/Extragalactic/hstha_nebulae_catalogue/ngc4321/cutouts_fixediso_10pc/hstha_hdu.pickel\n",
      "[INFO] [load_pickle] Load /Users/abarnes/Dropbox/Projects/Extragalactic/hstha_nebulae_catalogue/ngc4321/cutouts_fixediso_10pc/musha_hdu.pickel\n",
      "[INFO] [load_pickle] Load /Users/abarnes/Dropbox/Projects/Extragalactic/hstha_nebulae_catalogue/ngc4321/cutouts_fixediso_10pc/muscat_hdu.pickel\n",
      "[INFO] All HDU cutouts saved to /Users/abarnes/Dropbox/Projects/Extragalactic/hstha_nebulae_catalogue/ngc4321/cutouts_fixediso_10pc/hdus_all.pickel\n",
      "[INFO] [save_pickle] Saved to /Users/abarnes/Dropbox/Projects/Extragalactic/hstha_nebulae_catalogue/ngc4321/cutouts_fixediso_10pc/hdus_all.pickel\n",
      "[CATALOGUE] Running catalogue generation for: ngc4321\n",
      "[INFO] [get_maskedhdus] Getting HST maps masked by MUSE catalouge...\n"
     ]
    },
    {
     "name": "stderr",
     "output_type": "stream",
     "text": [
      "Masking regions: 100%|██████████| 1847/1847 [00:43<00:00, 42.12it/s]\n"
     ]
    },
    {
     "name": "stdout",
     "output_type": "stream",
     "text": [
      "[INFO] [save_pickle] Saved to /Users/abarnes/Dropbox/Projects/Extragalactic/hstha_nebulae_catalogue/ngc4321/cutouts_fixediso_10pc/hdus_all_withmasked.pickel\n"
     ]
    },
    {
     "name": "stderr",
     "output_type": "stream",
     "text": [
      "Get sources: 100%|██████████| 1847/1847 [00:09<00:00, 200.06it/s]\n"
     ]
    },
    {
     "name": "stdout",
     "output_type": "stream",
     "text": [
      "[INFO] [get_MuseProps] Getting MUSE catalouge properties for ngc4321...\n"
     ]
    },
    {
     "name": "stderr",
     "output_type": "stream",
     "text": [
      "Masking regions: 100%|██████████| 1847/1847 [00:00<00:00, 4144.08it/s]\n",
      "Geting complexity score: 100%|██████████| 344/344 [00:04<00:00, 84.55it/s]\n",
      "Get touch flags:: 100%|██████████| 344/344 [00:05<00:00, 63.53it/s]\n"
     ]
    },
    {
     "name": "stdout",
     "output_type": "stream",
     "text": [
      "[CATALOGUE] Final properties table saved to: /Users/abarnes/Dropbox/Projects/Extragalactic/hstha_nebulae_catalogue/ngc4321/catalogue_fixediso_10pc/props_all.fits\n",
      "[CATALOGUE] Masks saved to /Users/abarnes/Dropbox/Projects/Extragalactic/hstha_nebulae_catalogue/ngc4321/catalogue_fixediso_10pc/ngc4321_mask.fits and /Users/abarnes/Dropbox/Projects/Extragalactic/hstha_nebulae_catalogue/ngc4321/catalogue_fixediso_10pc/ngc4321_complexity.fits\n",
      "[CATALOGUE] DS9 regions output to /Users/abarnes/Dropbox/Projects/Extragalactic/hstha_nebulae_catalogue/ngc4321/catalogue_fixediso_10pc/ngc4321_mask\n",
      "[CATALOGUE] Done!\n",
      "[ASSOCIATIONS] Checking association files for galaxy ngc4321 ...\n",
      "Unpacking: /Users/abarnes/Dropbox/Data/Extragalactic/catalogues/multiscale_stellar_associations/ngc4321/vselect/ws8pc/PHANGS_IR4_hst_wfc3_ngc4321_v1p3_multi_assoc-vselect-ws8pc-idmask.fits.gz\n",
      "[INFO] Files found for v_08pc.\n",
      "Unpacking: /Users/abarnes/Dropbox/Data/Extragalactic/catalogues/multiscale_stellar_associations/ngc4321/vselect/ws16pc/PHANGS_IR4_hst_wfc3_ngc4321_v1p3_multi_assoc-vselect-ws16pc-idmask.fits.gz\n",
      "[INFO] Files found for v_16pc.\n",
      "Unpacking: /Users/abarnes/Dropbox/Data/Extragalactic/catalogues/multiscale_stellar_associations/ngc4321/vselect/ws32pc/PHANGS_IR4_hst_wfc3_ngc4321_v1p3_multi_assoc-vselect-ws32pc-idmask.fits.gz\n",
      "[INFO] Files found for v_32pc.\n",
      "Unpacking: /Users/abarnes/Dropbox/Data/Extragalactic/catalogues/multiscale_stellar_associations/ngc4321/vselect/ws64pc/PHANGS_IR4_hst_wfc3_ngc4321_v1p3_multi_assoc-vselect-ws64pc-idmask.fits.gz\n",
      "[INFO] Files found for v_64pc.\n",
      "Unpacking: /Users/abarnes/Dropbox/Data/Extragalactic/catalogues/multiscale_stellar_associations/ngc4321/nuvselect/ws8pc/PHANGS_IR4_hst_wfc3_ngc4321_v1p3_multi_assoc-nuvselect-ws8pc-idmask.fits.gz\n",
      "[INFO] Files found for nuv_08pc.\n",
      "Unpacking: /Users/abarnes/Dropbox/Data/Extragalactic/catalogues/multiscale_stellar_associations/ngc4321/nuvselect/ws16pc/PHANGS_IR4_hst_wfc3_ngc4321_v1p3_multi_assoc-nuvselect-ws16pc-idmask.fits.gz\n",
      "[INFO] Files found for nuv_16pc.\n",
      "Unpacking: /Users/abarnes/Dropbox/Data/Extragalactic/catalogues/multiscale_stellar_associations/ngc4321/nuvselect/ws32pc/PHANGS_IR4_hst_wfc3_ngc4321_v1p3_multi_assoc-nuvselect-ws32pc-idmask.fits.gz\n",
      "[INFO] Files found for nuv_32pc.\n",
      "Unpacking: /Users/abarnes/Dropbox/Data/Extragalactic/catalogues/multiscale_stellar_associations/ngc4321/nuvselect/ws64pc/PHANGS_IR4_hst_wfc3_ngc4321_v1p3_multi_assoc-nuvselect-ws64pc-idmask.fits.gz\n",
      "[INFO] Files found for nuv_64pc.\n",
      "[INFO] [load_pickle] Load /Users/abarnes/Dropbox/Projects/Extragalactic/hstha_nebulae_catalogue/ngc4321/cutouts_fixediso_10pc/sample.pickel\n",
      "[ASSOCIATIONS] Generating new cutouts for association masks...\n"
     ]
    },
    {
     "name": "stderr",
     "output_type": "stream",
     "text": [
      "Cropping regions: 100%|██████████| 344/344 [00:00<00:00, 671.94it/s]\n"
     ]
    },
    {
     "name": "stdout",
     "output_type": "stream",
     "text": [
      "[INFO] [save_pickle] Saved to /Users/abarnes/Dropbox/Projects/Extragalactic/hstha_nebulae_catalogue/ngc4321/cutouts_fixediso_10pc/hdus_catalog_mask_new.pickel\n"
     ]
    },
    {
     "name": "stderr",
     "output_type": "stream",
     "text": [
      "Cropping regions: 100%|██████████| 344/344 [00:00<00:00, 723.65it/s]\n"
     ]
    },
    {
     "name": "stdout",
     "output_type": "stream",
     "text": [
      "[INFO] [save_pickle] Saved to /Users/abarnes/Dropbox/Projects/Extragalactic/hstha_nebulae_catalogue/ngc4321/cutouts_fixediso_10pc/hdus_association_mask_new_v_08pc.pickel\n"
     ]
    },
    {
     "name": "stderr",
     "output_type": "stream",
     "text": [
      "Cropping regions: 100%|██████████| 344/344 [00:00<00:00, 707.35it/s]\n"
     ]
    },
    {
     "name": "stdout",
     "output_type": "stream",
     "text": [
      "[INFO] [save_pickle] Saved to /Users/abarnes/Dropbox/Projects/Extragalactic/hstha_nebulae_catalogue/ngc4321/cutouts_fixediso_10pc/hdus_association_mask_new_v_16pc.pickel\n"
     ]
    },
    {
     "name": "stderr",
     "output_type": "stream",
     "text": [
      "Cropping regions: 100%|██████████| 344/344 [00:00<00:00, 755.61it/s]\n"
     ]
    },
    {
     "name": "stdout",
     "output_type": "stream",
     "text": [
      "[INFO] [save_pickle] Saved to /Users/abarnes/Dropbox/Projects/Extragalactic/hstha_nebulae_catalogue/ngc4321/cutouts_fixediso_10pc/hdus_association_mask_new_v_32pc.pickel\n"
     ]
    },
    {
     "name": "stderr",
     "output_type": "stream",
     "text": [
      "Cropping regions: 100%|██████████| 344/344 [00:00<00:00, 716.27it/s]\n"
     ]
    },
    {
     "name": "stdout",
     "output_type": "stream",
     "text": [
      "[INFO] [save_pickle] Saved to /Users/abarnes/Dropbox/Projects/Extragalactic/hstha_nebulae_catalogue/ngc4321/cutouts_fixediso_10pc/hdus_association_mask_new_v_64pc.pickel\n"
     ]
    },
    {
     "name": "stderr",
     "output_type": "stream",
     "text": [
      "Cropping regions: 100%|██████████| 344/344 [00:00<00:00, 786.75it/s]\n"
     ]
    },
    {
     "name": "stdout",
     "output_type": "stream",
     "text": [
      "[INFO] [save_pickle] Saved to /Users/abarnes/Dropbox/Projects/Extragalactic/hstha_nebulae_catalogue/ngc4321/cutouts_fixediso_10pc/hdus_association_mask_new_nuv_08pc.pickel\n"
     ]
    },
    {
     "name": "stderr",
     "output_type": "stream",
     "text": [
      "Cropping regions: 100%|██████████| 344/344 [00:00<00:00, 767.32it/s]\n"
     ]
    },
    {
     "name": "stdout",
     "output_type": "stream",
     "text": [
      "[INFO] [save_pickle] Saved to /Users/abarnes/Dropbox/Projects/Extragalactic/hstha_nebulae_catalogue/ngc4321/cutouts_fixediso_10pc/hdus_association_mask_new_nuv_16pc.pickel\n"
     ]
    },
    {
     "name": "stderr",
     "output_type": "stream",
     "text": [
      "Cropping regions: 100%|██████████| 344/344 [00:00<00:00, 735.91it/s]\n"
     ]
    },
    {
     "name": "stdout",
     "output_type": "stream",
     "text": [
      "[INFO] [save_pickle] Saved to /Users/abarnes/Dropbox/Projects/Extragalactic/hstha_nebulae_catalogue/ngc4321/cutouts_fixediso_10pc/hdus_association_mask_new_nuv_32pc.pickel\n"
     ]
    },
    {
     "name": "stderr",
     "output_type": "stream",
     "text": [
      "Cropping regions: 100%|██████████| 344/344 [00:00<00:00, 741.22it/s]\n"
     ]
    },
    {
     "name": "stdout",
     "output_type": "stream",
     "text": [
      "[INFO] [save_pickle] Saved to /Users/abarnes/Dropbox/Projects/Extragalactic/hstha_nebulae_catalogue/ngc4321/cutouts_fixediso_10pc/hdus_association_mask_new_nuv_64pc.pickel\n"
     ]
    },
    {
     "name": "stderr",
     "output_type": "stream",
     "text": [
      "Match associations:: 100%|██████████| 344/344 [00:19<00:00, 17.36it/s]\n"
     ]
    },
    {
     "name": "stdout",
     "output_type": "stream",
     "text": [
      "[ASSOCIATIONS] Final association table saved to: /Users/abarnes/Dropbox/Projects/Extragalactic/hstha_nebulae_catalogue/ngc4321/catalogue_fixediso_10pc/props_all_association.fits\n",
      "Cleaning: /Users/abarnes/Dropbox/Data/Extragalactic/catalogues/multiscale_stellar_associations/ngc4321/vselect/ws8pc/PHANGS_IR4_hst_wfc3_ngc4321_v1p3_multi_assoc-vselect-ws8pc-idmask.fits\n",
      "Cleaning: /Users/abarnes/Dropbox/Data/Extragalactic/catalogues/multiscale_stellar_associations/ngc4321/vselect/ws16pc/PHANGS_IR4_hst_wfc3_ngc4321_v1p3_multi_assoc-vselect-ws16pc-idmask.fits\n",
      "Cleaning: /Users/abarnes/Dropbox/Data/Extragalactic/catalogues/multiscale_stellar_associations/ngc4321/vselect/ws32pc/PHANGS_IR4_hst_wfc3_ngc4321_v1p3_multi_assoc-vselect-ws32pc-idmask.fits\n",
      "Cleaning: /Users/abarnes/Dropbox/Data/Extragalactic/catalogues/multiscale_stellar_associations/ngc4321/vselect/ws64pc/PHANGS_IR4_hst_wfc3_ngc4321_v1p3_multi_assoc-vselect-ws64pc-idmask.fits\n",
      "Cleaning: /Users/abarnes/Dropbox/Data/Extragalactic/catalogues/multiscale_stellar_associations/ngc4321/nuvselect/ws8pc/PHANGS_IR4_hst_wfc3_ngc4321_v1p3_multi_assoc-nuvselect-ws8pc-idmask.fits\n",
      "Cleaning: /Users/abarnes/Dropbox/Data/Extragalactic/catalogues/multiscale_stellar_associations/ngc4321/nuvselect/ws16pc/PHANGS_IR4_hst_wfc3_ngc4321_v1p3_multi_assoc-nuvselect-ws16pc-idmask.fits\n",
      "Cleaning: /Users/abarnes/Dropbox/Data/Extragalactic/catalogues/multiscale_stellar_associations/ngc4321/nuvselect/ws32pc/PHANGS_IR4_hst_wfc3_ngc4321_v1p3_multi_assoc-nuvselect-ws32pc-idmask.fits\n",
      "Cleaning: /Users/abarnes/Dropbox/Data/Extragalactic/catalogues/multiscale_stellar_associations/ngc4321/nuvselect/ws64pc/PHANGS_IR4_hst_wfc3_ngc4321_v1p3_multi_assoc-nuvselect-ws64pc-idmask.fits\n"
     ]
    },
    {
     "data": {
      "text/plain": [
       "14736"
      ]
     },
     "execution_count": 18,
     "metadata": {},
     "output_type": "execute_result"
    }
   ],
   "source": [
    "galaxyname = 'ngc4321'\n",
    "\n",
    "mycat = catalogue_pipeline.PyHSTHACat(galaxyname, output_dir_append='_fixediso_10pc')\n",
    "mycat.hstha_err = ISOTHRESHOLD\n",
    "mycat.rerun_all = True\n",
    "mycat.hstha_file = mycat.hstha_file.replace('.fits', '_10pc_fixednoise.fits')\n",
    "\n",
    "mycat.make_paths()\n",
    "mycat.load_files()\n",
    "mycat.get_regions()\n",
    "mycat.get_cutouts()\n",
    "mycat.make_catalogue()\n",
    "\n",
    "mycat.rerun_cutouts_associations = True\n",
    "mycat.make_associations()\n",
    "\n",
    "# To free memory\n",
    "del mycat \n",
    "gc.collect()"
   ]
  },
  {
   "cell_type": "code",
   "execution_count": 19,
   "metadata": {},
   "outputs": [
    {
     "name": "stdout",
     "output_type": "stream",
     "text": [
      "[Info] Outputting to the following:\n",
      "/Users/abarnes/Dropbox/Projects/Extragalactic/hstha_nebulae_catalogue/ngc4535/\n",
      "[INFO] [get_MuseProps] Getting MUSE catalouge properties for ngc4535...\n",
      "[INFO] [get_galaxyprops] Getting sample table properties for ngc4535...\n",
      "[INFO] Using PSF size from header -- > 0.09 arcsec\n",
      "[INFO] Pixel scale taken as CDELT1, CDELT2\n",
      "[INFO] Pixel scale -- > 0.04 arcsec\n",
      "[INFO] Generating new DS9 region file...\n",
      "[INFO] [get_regions] Opening regions file (this may take a min)... \n",
      "[INFO] [get_regions] Getting info for 1938 regions...\n",
      "[INFO] [save_pickle] Saved to /Users/abarnes/Dropbox/Projects/Extragalactic/hstha_nebulae_catalogue/ngc4535/cutouts_fixediso_10pc/sample.pickel\n",
      "[INFO] Generating cutouts for hstha_hdu...\n"
     ]
    },
    {
     "name": "stderr",
     "output_type": "stream",
     "text": [
      "Cropping regions: 100%|██████████| 1938/1938 [00:02<00:00, 693.86it/s]\n"
     ]
    },
    {
     "name": "stdout",
     "output_type": "stream",
     "text": [
      "[INFO] [save_pickle] Saved to /Users/abarnes/Dropbox/Projects/Extragalactic/hstha_nebulae_catalogue/ngc4535/cutouts_fixediso_10pc/hstha_hdu.pickel\n",
      "[INFO] Generating cutouts for musha_hdu...\n"
     ]
    },
    {
     "name": "stderr",
     "output_type": "stream",
     "text": [
      "Cropping regions: 100%|██████████| 1938/1938 [00:02<00:00, 876.17it/s]\n"
     ]
    },
    {
     "name": "stdout",
     "output_type": "stream",
     "text": [
      "[INFO] [save_pickle] Saved to /Users/abarnes/Dropbox/Projects/Extragalactic/hstha_nebulae_catalogue/ngc4535/cutouts_fixediso_10pc/musha_hdu.pickel\n",
      "[INFO] Generating cutouts for muscat_hdu...\n"
     ]
    },
    {
     "name": "stderr",
     "output_type": "stream",
     "text": [
      "Cropping regions: 100%|██████████| 1938/1938 [00:02<00:00, 798.82it/s]\n"
     ]
    },
    {
     "name": "stdout",
     "output_type": "stream",
     "text": [
      "[INFO] [save_pickle] Saved to /Users/abarnes/Dropbox/Projects/Extragalactic/hstha_nebulae_catalogue/ngc4535/cutouts_fixediso_10pc/muscat_hdu.pickel\n",
      "[INFO] [load_pickle] Load /Users/abarnes/Dropbox/Projects/Extragalactic/hstha_nebulae_catalogue/ngc4535/cutouts_fixediso_10pc/hstha_hdu.pickel\n",
      "[INFO] [load_pickle] Load /Users/abarnes/Dropbox/Projects/Extragalactic/hstha_nebulae_catalogue/ngc4535/cutouts_fixediso_10pc/musha_hdu.pickel\n",
      "[INFO] [load_pickle] Load /Users/abarnes/Dropbox/Projects/Extragalactic/hstha_nebulae_catalogue/ngc4535/cutouts_fixediso_10pc/muscat_hdu.pickel\n",
      "[INFO] All HDU cutouts saved to /Users/abarnes/Dropbox/Projects/Extragalactic/hstha_nebulae_catalogue/ngc4535/cutouts_fixediso_10pc/hdus_all.pickel\n",
      "[INFO] [save_pickle] Saved to /Users/abarnes/Dropbox/Projects/Extragalactic/hstha_nebulae_catalogue/ngc4535/cutouts_fixediso_10pc/hdus_all.pickel\n",
      "[CATALOGUE] Running catalogue generation for: ngc4535\n",
      "[INFO] [get_maskedhdus] Getting HST maps masked by MUSE catalouge...\n"
     ]
    },
    {
     "name": "stderr",
     "output_type": "stream",
     "text": [
      "Masking regions: 100%|██████████| 1938/1938 [00:36<00:00, 52.60it/s]\n"
     ]
    },
    {
     "name": "stdout",
     "output_type": "stream",
     "text": [
      "[INFO] [save_pickle] Saved to /Users/abarnes/Dropbox/Projects/Extragalactic/hstha_nebulae_catalogue/ngc4535/cutouts_fixediso_10pc/hdus_all_withmasked.pickel\n"
     ]
    },
    {
     "name": "stderr",
     "output_type": "stream",
     "text": [
      "Get sources: 100%|██████████| 1938/1938 [00:04<00:00, 396.25it/s]\n"
     ]
    },
    {
     "name": "stdout",
     "output_type": "stream",
     "text": [
      "[INFO] [get_MuseProps] Getting MUSE catalouge properties for ngc4535...\n"
     ]
    },
    {
     "name": "stderr",
     "output_type": "stream",
     "text": [
      "Masking regions: 100%|██████████| 1938/1938 [00:00<00:00, 7068.02it/s]\n",
      "Geting complexity score: 100%|██████████| 223/223 [00:02<00:00, 76.56it/s]\n",
      "Get touch flags:: 100%|██████████| 223/223 [00:03<00:00, 63.42it/s]\n"
     ]
    },
    {
     "name": "stdout",
     "output_type": "stream",
     "text": [
      "[CATALOGUE] Final properties table saved to: /Users/abarnes/Dropbox/Projects/Extragalactic/hstha_nebulae_catalogue/ngc4535/catalogue_fixediso_10pc/props_all.fits\n",
      "[CATALOGUE] Masks saved to /Users/abarnes/Dropbox/Projects/Extragalactic/hstha_nebulae_catalogue/ngc4535/catalogue_fixediso_10pc/ngc4535_mask.fits and /Users/abarnes/Dropbox/Projects/Extragalactic/hstha_nebulae_catalogue/ngc4535/catalogue_fixediso_10pc/ngc4535_complexity.fits\n",
      "[CATALOGUE] DS9 regions output to /Users/abarnes/Dropbox/Projects/Extragalactic/hstha_nebulae_catalogue/ngc4535/catalogue_fixediso_10pc/ngc4535_mask\n",
      "[CATALOGUE] Done!\n",
      "[ASSOCIATIONS] Checking association files for galaxy ngc4535 ...\n",
      "Unpacking: /Users/abarnes/Dropbox/Data/Extragalactic/catalogues/multiscale_stellar_associations/ngc4535/vselect/ws8pc/PHANGS_IR4_hst_wfc3_ngc4535_v1p3_multi_assoc-vselect-ws8pc-idmask.fits.gz\n",
      "[INFO] Files found for v_08pc.\n",
      "Unpacking: /Users/abarnes/Dropbox/Data/Extragalactic/catalogues/multiscale_stellar_associations/ngc4535/vselect/ws16pc/PHANGS_IR4_hst_wfc3_ngc4535_v1p3_multi_assoc-vselect-ws16pc-idmask.fits.gz\n",
      "[INFO] Files found for v_16pc.\n",
      "Unpacking: /Users/abarnes/Dropbox/Data/Extragalactic/catalogues/multiscale_stellar_associations/ngc4535/vselect/ws32pc/PHANGS_IR4_hst_wfc3_ngc4535_v1p3_multi_assoc-vselect-ws32pc-idmask.fits.gz\n",
      "[INFO] Files found for v_32pc.\n",
      "Unpacking: /Users/abarnes/Dropbox/Data/Extragalactic/catalogues/multiscale_stellar_associations/ngc4535/vselect/ws64pc/PHANGS_IR4_hst_wfc3_ngc4535_v1p3_multi_assoc-vselect-ws64pc-idmask.fits.gz\n",
      "[INFO] Files found for v_64pc.\n",
      "Unpacking: /Users/abarnes/Dropbox/Data/Extragalactic/catalogues/multiscale_stellar_associations/ngc4535/nuvselect/ws8pc/PHANGS_IR4_hst_wfc3_ngc4535_v1p3_multi_assoc-nuvselect-ws8pc-idmask.fits.gz\n",
      "[INFO] Files found for nuv_08pc.\n",
      "Unpacking: /Users/abarnes/Dropbox/Data/Extragalactic/catalogues/multiscale_stellar_associations/ngc4535/nuvselect/ws16pc/PHANGS_IR4_hst_wfc3_ngc4535_v1p3_multi_assoc-nuvselect-ws16pc-idmask.fits.gz\n",
      "[INFO] Files found for nuv_16pc.\n",
      "Unpacking: /Users/abarnes/Dropbox/Data/Extragalactic/catalogues/multiscale_stellar_associations/ngc4535/nuvselect/ws32pc/PHANGS_IR4_hst_wfc3_ngc4535_v1p3_multi_assoc-nuvselect-ws32pc-idmask.fits.gz\n",
      "[INFO] Files found for nuv_32pc.\n",
      "Unpacking: /Users/abarnes/Dropbox/Data/Extragalactic/catalogues/multiscale_stellar_associations/ngc4535/nuvselect/ws64pc/PHANGS_IR4_hst_wfc3_ngc4535_v1p3_multi_assoc-nuvselect-ws64pc-idmask.fits.gz\n",
      "[INFO] Files found for nuv_64pc.\n",
      "[INFO] [load_pickle] Load /Users/abarnes/Dropbox/Projects/Extragalactic/hstha_nebulae_catalogue/ngc4535/cutouts_fixediso_10pc/sample.pickel\n",
      "[ASSOCIATIONS] Generating new cutouts for association masks...\n"
     ]
    },
    {
     "name": "stderr",
     "output_type": "stream",
     "text": [
      "Cropping regions: 100%|██████████| 223/223 [00:00<00:00, 736.82it/s]\n"
     ]
    },
    {
     "name": "stdout",
     "output_type": "stream",
     "text": [
      "[INFO] [save_pickle] Saved to /Users/abarnes/Dropbox/Projects/Extragalactic/hstha_nebulae_catalogue/ngc4535/cutouts_fixediso_10pc/hdus_catalog_mask_new.pickel\n"
     ]
    },
    {
     "name": "stderr",
     "output_type": "stream",
     "text": [
      "Cropping regions: 100%|██████████| 223/223 [00:00<00:00, 752.24it/s]\n"
     ]
    },
    {
     "name": "stdout",
     "output_type": "stream",
     "text": [
      "[INFO] [save_pickle] Saved to /Users/abarnes/Dropbox/Projects/Extragalactic/hstha_nebulae_catalogue/ngc4535/cutouts_fixediso_10pc/hdus_association_mask_new_v_08pc.pickel\n"
     ]
    },
    {
     "name": "stderr",
     "output_type": "stream",
     "text": [
      "Cropping regions: 100%|██████████| 223/223 [00:00<00:00, 809.40it/s]\n"
     ]
    },
    {
     "name": "stdout",
     "output_type": "stream",
     "text": [
      "[INFO] [save_pickle] Saved to /Users/abarnes/Dropbox/Projects/Extragalactic/hstha_nebulae_catalogue/ngc4535/cutouts_fixediso_10pc/hdus_association_mask_new_v_16pc.pickel\n"
     ]
    },
    {
     "name": "stderr",
     "output_type": "stream",
     "text": [
      "Cropping regions: 100%|██████████| 223/223 [00:00<00:00, 733.44it/s]\n"
     ]
    },
    {
     "name": "stdout",
     "output_type": "stream",
     "text": [
      "[INFO] [save_pickle] Saved to /Users/abarnes/Dropbox/Projects/Extragalactic/hstha_nebulae_catalogue/ngc4535/cutouts_fixediso_10pc/hdus_association_mask_new_v_32pc.pickel\n"
     ]
    },
    {
     "name": "stderr",
     "output_type": "stream",
     "text": [
      "Cropping regions: 100%|██████████| 223/223 [00:00<00:00, 724.09it/s]\n"
     ]
    },
    {
     "name": "stdout",
     "output_type": "stream",
     "text": [
      "[INFO] [save_pickle] Saved to /Users/abarnes/Dropbox/Projects/Extragalactic/hstha_nebulae_catalogue/ngc4535/cutouts_fixediso_10pc/hdus_association_mask_new_v_64pc.pickel\n"
     ]
    },
    {
     "name": "stderr",
     "output_type": "stream",
     "text": [
      "Cropping regions: 100%|██████████| 223/223 [00:00<00:00, 748.17it/s]\n"
     ]
    },
    {
     "name": "stdout",
     "output_type": "stream",
     "text": [
      "[INFO] [save_pickle] Saved to /Users/abarnes/Dropbox/Projects/Extragalactic/hstha_nebulae_catalogue/ngc4535/cutouts_fixediso_10pc/hdus_association_mask_new_nuv_08pc.pickel\n"
     ]
    },
    {
     "name": "stderr",
     "output_type": "stream",
     "text": [
      "Cropping regions: 100%|██████████| 223/223 [00:00<00:00, 780.73it/s]\n"
     ]
    },
    {
     "name": "stdout",
     "output_type": "stream",
     "text": [
      "[INFO] [save_pickle] Saved to /Users/abarnes/Dropbox/Projects/Extragalactic/hstha_nebulae_catalogue/ngc4535/cutouts_fixediso_10pc/hdus_association_mask_new_nuv_16pc.pickel\n"
     ]
    },
    {
     "name": "stderr",
     "output_type": "stream",
     "text": [
      "Cropping regions: 100%|██████████| 223/223 [00:00<00:00, 800.85it/s]\n"
     ]
    },
    {
     "name": "stdout",
     "output_type": "stream",
     "text": [
      "[INFO] [save_pickle] Saved to /Users/abarnes/Dropbox/Projects/Extragalactic/hstha_nebulae_catalogue/ngc4535/cutouts_fixediso_10pc/hdus_association_mask_new_nuv_32pc.pickel\n"
     ]
    },
    {
     "name": "stderr",
     "output_type": "stream",
     "text": [
      "Cropping regions: 100%|██████████| 223/223 [00:00<00:00, 709.43it/s]\n"
     ]
    },
    {
     "name": "stdout",
     "output_type": "stream",
     "text": [
      "[INFO] [save_pickle] Saved to /Users/abarnes/Dropbox/Projects/Extragalactic/hstha_nebulae_catalogue/ngc4535/cutouts_fixediso_10pc/hdus_association_mask_new_nuv_64pc.pickel\n"
     ]
    },
    {
     "name": "stderr",
     "output_type": "stream",
     "text": [
      "Match associations:: 100%|██████████| 223/223 [00:14<00:00, 15.49it/s]\n"
     ]
    },
    {
     "name": "stdout",
     "output_type": "stream",
     "text": [
      "[ASSOCIATIONS] Final association table saved to: /Users/abarnes/Dropbox/Projects/Extragalactic/hstha_nebulae_catalogue/ngc4535/catalogue_fixediso_10pc/props_all_association.fits\n",
      "Cleaning: /Users/abarnes/Dropbox/Data/Extragalactic/catalogues/multiscale_stellar_associations/ngc4535/vselect/ws8pc/PHANGS_IR4_hst_wfc3_ngc4535_v1p3_multi_assoc-vselect-ws8pc-idmask.fits\n",
      "Cleaning: /Users/abarnes/Dropbox/Data/Extragalactic/catalogues/multiscale_stellar_associations/ngc4535/vselect/ws16pc/PHANGS_IR4_hst_wfc3_ngc4535_v1p3_multi_assoc-vselect-ws16pc-idmask.fits\n",
      "Cleaning: /Users/abarnes/Dropbox/Data/Extragalactic/catalogues/multiscale_stellar_associations/ngc4535/vselect/ws32pc/PHANGS_IR4_hst_wfc3_ngc4535_v1p3_multi_assoc-vselect-ws32pc-idmask.fits\n",
      "Cleaning: /Users/abarnes/Dropbox/Data/Extragalactic/catalogues/multiscale_stellar_associations/ngc4535/vselect/ws64pc/PHANGS_IR4_hst_wfc3_ngc4535_v1p3_multi_assoc-vselect-ws64pc-idmask.fits\n",
      "Cleaning: /Users/abarnes/Dropbox/Data/Extragalactic/catalogues/multiscale_stellar_associations/ngc4535/nuvselect/ws8pc/PHANGS_IR4_hst_wfc3_ngc4535_v1p3_multi_assoc-nuvselect-ws8pc-idmask.fits\n",
      "Cleaning: /Users/abarnes/Dropbox/Data/Extragalactic/catalogues/multiscale_stellar_associations/ngc4535/nuvselect/ws16pc/PHANGS_IR4_hst_wfc3_ngc4535_v1p3_multi_assoc-nuvselect-ws16pc-idmask.fits\n",
      "Cleaning: /Users/abarnes/Dropbox/Data/Extragalactic/catalogues/multiscale_stellar_associations/ngc4535/nuvselect/ws32pc/PHANGS_IR4_hst_wfc3_ngc4535_v1p3_multi_assoc-nuvselect-ws32pc-idmask.fits\n",
      "Cleaning: /Users/abarnes/Dropbox/Data/Extragalactic/catalogues/multiscale_stellar_associations/ngc4535/nuvselect/ws64pc/PHANGS_IR4_hst_wfc3_ngc4535_v1p3_multi_assoc-nuvselect-ws64pc-idmask.fits\n"
     ]
    },
    {
     "data": {
      "text/plain": [
       "56713"
      ]
     },
     "execution_count": 19,
     "metadata": {},
     "output_type": "execute_result"
    }
   ],
   "source": [
    "galaxyname = 'ngc4535'\n",
    "\n",
    "mycat = catalogue_pipeline.PyHSTHACat(galaxyname, output_dir_append='_fixediso_10pc')\n",
    "mycat.hstha_err = ISOTHRESHOLD\n",
    "mycat.rerun_all = True\n",
    "mycat.hstha_file = mycat.hstha_file.replace('.fits', '_10pc_fixednoise.fits')\n",
    "\n",
    "mycat.make_paths()\n",
    "mycat.load_files()\n",
    "mycat.get_regions()\n",
    "mycat.get_cutouts()\n",
    "mycat.make_catalogue()\n",
    "\n",
    "mycat.rerun_cutouts_associations = True\n",
    "mycat.make_associations()\n",
    "\n",
    "# To free memory\n",
    "del mycat \n",
    "gc.collect()"
   ]
  },
  {
   "cell_type": "code",
   "execution_count": 20,
   "metadata": {},
   "outputs": [
    {
     "name": "stdout",
     "output_type": "stream",
     "text": [
      "[Info] Outputting to the following:\n",
      "/Users/abarnes/Dropbox/Projects/Extragalactic/hstha_nebulae_catalogue/ngc5068/\n",
      "[INFO] [get_MuseProps] Getting MUSE catalouge properties for ngc5068...\n",
      "[INFO] [get_galaxyprops] Getting sample table properties for ngc5068...\n",
      "[INFO] Using PSF size from header -- > 0.28 arcsec\n",
      "[INFO] Pixel scale taken as CDELT1, CDELT2\n",
      "[INFO] Pixel scale -- > 0.04 arcsec\n",
      "[INFO] Generating new DS9 region file...\n",
      "[INFO] [get_regions] Opening regions file (this may take a min)... \n",
      "[INFO] [get_regions] Getting info for 1857 regions...\n",
      "[INFO] [save_pickle] Saved to /Users/abarnes/Dropbox/Projects/Extragalactic/hstha_nebulae_catalogue/ngc5068/cutouts_fixediso_10pc/sample.pickel\n",
      "[INFO] Generating cutouts for hstha_hdu...\n"
     ]
    },
    {
     "name": "stderr",
     "output_type": "stream",
     "text": [
      "Cropping regions: 100%|██████████| 1857/1857 [00:02<00:00, 696.62it/s]\n"
     ]
    },
    {
     "name": "stdout",
     "output_type": "stream",
     "text": [
      "[INFO] [save_pickle] Saved to /Users/abarnes/Dropbox/Projects/Extragalactic/hstha_nebulae_catalogue/ngc5068/cutouts_fixediso_10pc/hstha_hdu.pickel\n",
      "[INFO] Generating cutouts for musha_hdu...\n"
     ]
    },
    {
     "name": "stderr",
     "output_type": "stream",
     "text": [
      "Cropping regions: 100%|██████████| 1857/1857 [00:02<00:00, 816.91it/s]\n"
     ]
    },
    {
     "name": "stdout",
     "output_type": "stream",
     "text": [
      "[INFO] [save_pickle] Saved to /Users/abarnes/Dropbox/Projects/Extragalactic/hstha_nebulae_catalogue/ngc5068/cutouts_fixediso_10pc/musha_hdu.pickel\n",
      "[INFO] Generating cutouts for muscat_hdu...\n"
     ]
    },
    {
     "name": "stderr",
     "output_type": "stream",
     "text": [
      "Cropping regions: 100%|██████████| 1857/1857 [00:02<00:00, 783.33it/s]\n"
     ]
    },
    {
     "name": "stdout",
     "output_type": "stream",
     "text": [
      "[INFO] [save_pickle] Saved to /Users/abarnes/Dropbox/Projects/Extragalactic/hstha_nebulae_catalogue/ngc5068/cutouts_fixediso_10pc/muscat_hdu.pickel\n",
      "[INFO] [load_pickle] Load /Users/abarnes/Dropbox/Projects/Extragalactic/hstha_nebulae_catalogue/ngc5068/cutouts_fixediso_10pc/hstha_hdu.pickel\n",
      "[INFO] [load_pickle] Load /Users/abarnes/Dropbox/Projects/Extragalactic/hstha_nebulae_catalogue/ngc5068/cutouts_fixediso_10pc/musha_hdu.pickel\n",
      "[INFO] [load_pickle] Load /Users/abarnes/Dropbox/Projects/Extragalactic/hstha_nebulae_catalogue/ngc5068/cutouts_fixediso_10pc/muscat_hdu.pickel\n",
      "[INFO] All HDU cutouts saved to /Users/abarnes/Dropbox/Projects/Extragalactic/hstha_nebulae_catalogue/ngc5068/cutouts_fixediso_10pc/hdus_all.pickel\n",
      "[INFO] [save_pickle] Saved to /Users/abarnes/Dropbox/Projects/Extragalactic/hstha_nebulae_catalogue/ngc5068/cutouts_fixediso_10pc/hdus_all.pickel\n",
      "[CATALOGUE] Running catalogue generation for: ngc5068\n",
      "[INFO] [get_maskedhdus] Getting HST maps masked by MUSE catalouge...\n"
     ]
    },
    {
     "name": "stderr",
     "output_type": "stream",
     "text": [
      "Masking regions: 100%|██████████| 1857/1857 [00:47<00:00, 39.01it/s]\n"
     ]
    },
    {
     "name": "stdout",
     "output_type": "stream",
     "text": [
      "[INFO] [save_pickle] Saved to /Users/abarnes/Dropbox/Projects/Extragalactic/hstha_nebulae_catalogue/ngc5068/cutouts_fixediso_10pc/hdus_all_withmasked.pickel\n"
     ]
    },
    {
     "name": "stderr",
     "output_type": "stream",
     "text": [
      "Get sources: 100%|██████████| 1857/1857 [00:08<00:00, 230.68it/s]\n"
     ]
    },
    {
     "name": "stdout",
     "output_type": "stream",
     "text": [
      "[INFO] [get_MuseProps] Getting MUSE catalouge properties for ngc5068...\n"
     ]
    },
    {
     "name": "stderr",
     "output_type": "stream",
     "text": [
      "Masking regions: 100%|██████████| 1857/1857 [00:00<00:00, 10820.03it/s]\n",
      "Geting complexity score: 100%|██████████| 133/133 [00:03<00:00, 43.60it/s]\n",
      "Get touch flags:: 100%|██████████| 133/133 [00:03<00:00, 35.73it/s]\n"
     ]
    },
    {
     "name": "stdout",
     "output_type": "stream",
     "text": [
      "[CATALOGUE] Final properties table saved to: /Users/abarnes/Dropbox/Projects/Extragalactic/hstha_nebulae_catalogue/ngc5068/catalogue_fixediso_10pc/props_all.fits\n",
      "[CATALOGUE] Masks saved to /Users/abarnes/Dropbox/Projects/Extragalactic/hstha_nebulae_catalogue/ngc5068/catalogue_fixediso_10pc/ngc5068_mask.fits and /Users/abarnes/Dropbox/Projects/Extragalactic/hstha_nebulae_catalogue/ngc5068/catalogue_fixediso_10pc/ngc5068_complexity.fits\n",
      "[CATALOGUE] DS9 regions output to /Users/abarnes/Dropbox/Projects/Extragalactic/hstha_nebulae_catalogue/ngc5068/catalogue_fixediso_10pc/ngc5068_mask\n",
      "[CATALOGUE] Done!\n",
      "[ASSOCIATIONS] Checking association files for galaxy ngc5068 ...\n",
      "Unpacking: /Users/abarnes/Dropbox/Data/Extragalactic/catalogues/multiscale_stellar_associations/ngc5068/vselect/ws8pc/PHANGS_IR4_hst_wfc3_ngc5068_v1p3_multi_assoc-vselect-ws8pc-idmask.fits.gz\n",
      "[INFO] Files found for v_08pc.\n",
      "Unpacking: /Users/abarnes/Dropbox/Data/Extragalactic/catalogues/multiscale_stellar_associations/ngc5068/vselect/ws16pc/PHANGS_IR4_hst_wfc3_ngc5068_v1p3_multi_assoc-vselect-ws16pc-idmask.fits.gz\n",
      "[INFO] Files found for v_16pc.\n",
      "Unpacking: /Users/abarnes/Dropbox/Data/Extragalactic/catalogues/multiscale_stellar_associations/ngc5068/vselect/ws32pc/PHANGS_IR4_hst_wfc3_ngc5068_v1p3_multi_assoc-vselect-ws32pc-idmask.fits.gz\n",
      "[INFO] Files found for v_32pc.\n",
      "Unpacking: /Users/abarnes/Dropbox/Data/Extragalactic/catalogues/multiscale_stellar_associations/ngc5068/vselect/ws64pc/PHANGS_IR4_hst_wfc3_ngc5068_v1p3_multi_assoc-vselect-ws64pc-idmask.fits.gz\n",
      "[INFO] Files found for v_64pc.\n",
      "Unpacking: /Users/abarnes/Dropbox/Data/Extragalactic/catalogues/multiscale_stellar_associations/ngc5068/nuvselect/ws8pc/PHANGS_IR4_hst_wfc3_ngc5068_v1p3_multi_assoc-nuvselect-ws8pc-idmask.fits.gz\n",
      "[INFO] Files found for nuv_08pc.\n",
      "Unpacking: /Users/abarnes/Dropbox/Data/Extragalactic/catalogues/multiscale_stellar_associations/ngc5068/nuvselect/ws16pc/PHANGS_IR4_hst_wfc3_ngc5068_v1p3_multi_assoc-nuvselect-ws16pc-idmask.fits.gz\n",
      "[INFO] Files found for nuv_16pc.\n",
      "Unpacking: /Users/abarnes/Dropbox/Data/Extragalactic/catalogues/multiscale_stellar_associations/ngc5068/nuvselect/ws32pc/PHANGS_IR4_hst_wfc3_ngc5068_v1p3_multi_assoc-nuvselect-ws32pc-idmask.fits.gz\n",
      "[INFO] Files found for nuv_32pc.\n",
      "Unpacking: /Users/abarnes/Dropbox/Data/Extragalactic/catalogues/multiscale_stellar_associations/ngc5068/nuvselect/ws64pc/PHANGS_IR4_hst_wfc3_ngc5068_v1p3_multi_assoc-nuvselect-ws64pc-idmask.fits.gz\n",
      "[INFO] Files found for nuv_64pc.\n",
      "[INFO] [load_pickle] Load /Users/abarnes/Dropbox/Projects/Extragalactic/hstha_nebulae_catalogue/ngc5068/cutouts_fixediso_10pc/sample.pickel\n",
      "[ASSOCIATIONS] Generating new cutouts for association masks...\n"
     ]
    },
    {
     "name": "stderr",
     "output_type": "stream",
     "text": [
      "Cropping regions: 100%|██████████| 133/133 [00:00<00:00, 721.52it/s]\n"
     ]
    },
    {
     "name": "stdout",
     "output_type": "stream",
     "text": [
      "[INFO] [save_pickle] Saved to /Users/abarnes/Dropbox/Projects/Extragalactic/hstha_nebulae_catalogue/ngc5068/cutouts_fixediso_10pc/hdus_catalog_mask_new.pickel\n"
     ]
    },
    {
     "name": "stderr",
     "output_type": "stream",
     "text": [
      "Cropping regions: 100%|██████████| 133/133 [00:00<00:00, 710.88it/s]\n"
     ]
    },
    {
     "name": "stdout",
     "output_type": "stream",
     "text": [
      "[INFO] [save_pickle] Saved to /Users/abarnes/Dropbox/Projects/Extragalactic/hstha_nebulae_catalogue/ngc5068/cutouts_fixediso_10pc/hdus_association_mask_new_v_08pc.pickel\n"
     ]
    },
    {
     "name": "stderr",
     "output_type": "stream",
     "text": [
      "Cropping regions: 100%|██████████| 133/133 [00:00<00:00, 680.52it/s]\n"
     ]
    },
    {
     "name": "stdout",
     "output_type": "stream",
     "text": [
      "[INFO] [save_pickle] Saved to /Users/abarnes/Dropbox/Projects/Extragalactic/hstha_nebulae_catalogue/ngc5068/cutouts_fixediso_10pc/hdus_association_mask_new_v_16pc.pickel\n"
     ]
    },
    {
     "name": "stderr",
     "output_type": "stream",
     "text": [
      "Cropping regions: 100%|██████████| 133/133 [00:00<00:00, 734.98it/s]\n"
     ]
    },
    {
     "name": "stdout",
     "output_type": "stream",
     "text": [
      "[INFO] [save_pickle] Saved to /Users/abarnes/Dropbox/Projects/Extragalactic/hstha_nebulae_catalogue/ngc5068/cutouts_fixediso_10pc/hdus_association_mask_new_v_32pc.pickel\n"
     ]
    },
    {
     "name": "stderr",
     "output_type": "stream",
     "text": [
      "Cropping regions: 100%|██████████| 133/133 [00:00<00:00, 647.99it/s]\n"
     ]
    },
    {
     "name": "stdout",
     "output_type": "stream",
     "text": [
      "[INFO] [save_pickle] Saved to /Users/abarnes/Dropbox/Projects/Extragalactic/hstha_nebulae_catalogue/ngc5068/cutouts_fixediso_10pc/hdus_association_mask_new_v_64pc.pickel\n"
     ]
    },
    {
     "name": "stderr",
     "output_type": "stream",
     "text": [
      "Cropping regions: 100%|██████████| 133/133 [00:00<00:00, 716.40it/s]\n"
     ]
    },
    {
     "name": "stdout",
     "output_type": "stream",
     "text": [
      "[INFO] [save_pickle] Saved to /Users/abarnes/Dropbox/Projects/Extragalactic/hstha_nebulae_catalogue/ngc5068/cutouts_fixediso_10pc/hdus_association_mask_new_nuv_08pc.pickel\n"
     ]
    },
    {
     "name": "stderr",
     "output_type": "stream",
     "text": [
      "Cropping regions: 100%|██████████| 133/133 [00:00<00:00, 769.70it/s]\n"
     ]
    },
    {
     "name": "stdout",
     "output_type": "stream",
     "text": [
      "[INFO] [save_pickle] Saved to /Users/abarnes/Dropbox/Projects/Extragalactic/hstha_nebulae_catalogue/ngc5068/cutouts_fixediso_10pc/hdus_association_mask_new_nuv_16pc.pickel\n"
     ]
    },
    {
     "name": "stderr",
     "output_type": "stream",
     "text": [
      "Cropping regions: 100%|██████████| 133/133 [00:00<00:00, 724.48it/s]\n"
     ]
    },
    {
     "name": "stdout",
     "output_type": "stream",
     "text": [
      "[INFO] [save_pickle] Saved to /Users/abarnes/Dropbox/Projects/Extragalactic/hstha_nebulae_catalogue/ngc5068/cutouts_fixediso_10pc/hdus_association_mask_new_nuv_32pc.pickel\n"
     ]
    },
    {
     "name": "stderr",
     "output_type": "stream",
     "text": [
      "Cropping regions: 100%|██████████| 133/133 [00:00<00:00, 743.60it/s]\n"
     ]
    },
    {
     "name": "stdout",
     "output_type": "stream",
     "text": [
      "[INFO] [save_pickle] Saved to /Users/abarnes/Dropbox/Projects/Extragalactic/hstha_nebulae_catalogue/ngc5068/cutouts_fixediso_10pc/hdus_association_mask_new_nuv_64pc.pickel\n"
     ]
    },
    {
     "name": "stderr",
     "output_type": "stream",
     "text": [
      "Match associations:: 100%|██████████| 133/133 [00:05<00:00, 24.42it/s]\n"
     ]
    },
    {
     "name": "stdout",
     "output_type": "stream",
     "text": [
      "[ASSOCIATIONS] Final association table saved to: /Users/abarnes/Dropbox/Projects/Extragalactic/hstha_nebulae_catalogue/ngc5068/catalogue_fixediso_10pc/props_all_association.fits\n",
      "Cleaning: /Users/abarnes/Dropbox/Data/Extragalactic/catalogues/multiscale_stellar_associations/ngc5068/vselect/ws8pc/PHANGS_IR4_hst_wfc3_ngc5068_v1p3_multi_assoc-vselect-ws8pc-idmask.fits\n",
      "Cleaning: /Users/abarnes/Dropbox/Data/Extragalactic/catalogues/multiscale_stellar_associations/ngc5068/vselect/ws16pc/PHANGS_IR4_hst_wfc3_ngc5068_v1p3_multi_assoc-vselect-ws16pc-idmask.fits\n",
      "Cleaning: /Users/abarnes/Dropbox/Data/Extragalactic/catalogues/multiscale_stellar_associations/ngc5068/vselect/ws32pc/PHANGS_IR4_hst_wfc3_ngc5068_v1p3_multi_assoc-vselect-ws32pc-idmask.fits\n",
      "Cleaning: /Users/abarnes/Dropbox/Data/Extragalactic/catalogues/multiscale_stellar_associations/ngc5068/vselect/ws64pc/PHANGS_IR4_hst_wfc3_ngc5068_v1p3_multi_assoc-vselect-ws64pc-idmask.fits\n",
      "Cleaning: /Users/abarnes/Dropbox/Data/Extragalactic/catalogues/multiscale_stellar_associations/ngc5068/nuvselect/ws8pc/PHANGS_IR4_hst_wfc3_ngc5068_v1p3_multi_assoc-nuvselect-ws8pc-idmask.fits\n",
      "Cleaning: /Users/abarnes/Dropbox/Data/Extragalactic/catalogues/multiscale_stellar_associations/ngc5068/nuvselect/ws16pc/PHANGS_IR4_hst_wfc3_ngc5068_v1p3_multi_assoc-nuvselect-ws16pc-idmask.fits\n",
      "Cleaning: /Users/abarnes/Dropbox/Data/Extragalactic/catalogues/multiscale_stellar_associations/ngc5068/nuvselect/ws32pc/PHANGS_IR4_hst_wfc3_ngc5068_v1p3_multi_assoc-nuvselect-ws32pc-idmask.fits\n",
      "Cleaning: /Users/abarnes/Dropbox/Data/Extragalactic/catalogues/multiscale_stellar_associations/ngc5068/nuvselect/ws64pc/PHANGS_IR4_hst_wfc3_ngc5068_v1p3_multi_assoc-nuvselect-ws64pc-idmask.fits\n"
     ]
    },
    {
     "data": {
      "text/plain": [
       "60987"
      ]
     },
     "execution_count": 20,
     "metadata": {},
     "output_type": "execute_result"
    }
   ],
   "source": [
    "galaxyname = 'ngc5068'\n",
    "\n",
    "mycat = catalogue_pipeline.PyHSTHACat(galaxyname, output_dir_append='_fixediso_10pc')\n",
    "mycat.hstha_err = ISOTHRESHOLD\n",
    "mycat.rerun_all = True\n",
    "mycat.hstha_file = mycat.hstha_file.replace('.fits', '_10pc_fixednoise.fits')\n",
    "\n",
    "mycat.make_paths()\n",
    "mycat.load_files()\n",
    "mycat.get_regions()\n",
    "mycat.get_cutouts()\n",
    "mycat.make_catalogue()\n",
    "\n",
    "mycat.rerun_cutouts_associations = True\n",
    "mycat.make_associations()\n",
    "\n",
    "# To free memory\n",
    "del mycat \n",
    "gc.collect()"
   ]
  },
  {
   "cell_type": "code",
   "execution_count": 21,
   "metadata": {},
   "outputs": [
    {
     "name": "stdout",
     "output_type": "stream",
     "text": [
      "[Info] Outputting to the following:\n",
      "/Users/abarnes/Dropbox/Projects/Extragalactic/hstha_nebulae_catalogue/ngc7496/\n",
      "[INFO] [get_MuseProps] Getting MUSE catalouge properties for ngc7496...\n",
      "[INFO] [get_galaxyprops] Getting sample table properties for ngc7496...\n",
      "[INFO] Using PSF size from header -- > 0.08 arcsec\n",
      "[INFO] Pixel scale taken as CDELT1, CDELT2\n",
      "[INFO] Pixel scale -- > 0.04 arcsec\n",
      "[INFO] Generating new DS9 region file...\n",
      "[INFO] [get_regions] Opening regions file (this may take a min)... \n",
      "[INFO] [get_regions] Getting info for 777 regions...\n",
      "[INFO] [save_pickle] Saved to /Users/abarnes/Dropbox/Projects/Extragalactic/hstha_nebulae_catalogue/ngc7496/cutouts_fixediso_10pc/sample.pickel\n",
      "[INFO] Generating cutouts for hstha_hdu...\n"
     ]
    },
    {
     "name": "stderr",
     "output_type": "stream",
     "text": [
      "Cropping regions: 100%|██████████| 777/777 [00:01<00:00, 722.60it/s]\n"
     ]
    },
    {
     "name": "stdout",
     "output_type": "stream",
     "text": [
      "[INFO] [save_pickle] Saved to /Users/abarnes/Dropbox/Projects/Extragalactic/hstha_nebulae_catalogue/ngc7496/cutouts_fixediso_10pc/hstha_hdu.pickel\n",
      "[INFO] Generating cutouts for musha_hdu...\n"
     ]
    },
    {
     "name": "stderr",
     "output_type": "stream",
     "text": [
      "Cropping regions: 100%|██████████| 777/777 [00:00<00:00, 897.22it/s]\n"
     ]
    },
    {
     "name": "stdout",
     "output_type": "stream",
     "text": [
      "[INFO] [save_pickle] Saved to /Users/abarnes/Dropbox/Projects/Extragalactic/hstha_nebulae_catalogue/ngc7496/cutouts_fixediso_10pc/musha_hdu.pickel\n",
      "[INFO] Generating cutouts for muscat_hdu...\n"
     ]
    },
    {
     "name": "stderr",
     "output_type": "stream",
     "text": [
      "Cropping regions: 100%|██████████| 777/777 [00:01<00:00, 750.93it/s]\n"
     ]
    },
    {
     "name": "stdout",
     "output_type": "stream",
     "text": [
      "[INFO] [save_pickle] Saved to /Users/abarnes/Dropbox/Projects/Extragalactic/hstha_nebulae_catalogue/ngc7496/cutouts_fixediso_10pc/muscat_hdu.pickel\n",
      "[INFO] [load_pickle] Load /Users/abarnes/Dropbox/Projects/Extragalactic/hstha_nebulae_catalogue/ngc7496/cutouts_fixediso_10pc/hstha_hdu.pickel\n",
      "[INFO] [load_pickle] Load /Users/abarnes/Dropbox/Projects/Extragalactic/hstha_nebulae_catalogue/ngc7496/cutouts_fixediso_10pc/musha_hdu.pickel\n",
      "[INFO] [load_pickle] Load /Users/abarnes/Dropbox/Projects/Extragalactic/hstha_nebulae_catalogue/ngc7496/cutouts_fixediso_10pc/muscat_hdu.pickel\n",
      "[INFO] All HDU cutouts saved to /Users/abarnes/Dropbox/Projects/Extragalactic/hstha_nebulae_catalogue/ngc7496/cutouts_fixediso_10pc/hdus_all.pickel\n",
      "[INFO] [save_pickle] Saved to /Users/abarnes/Dropbox/Projects/Extragalactic/hstha_nebulae_catalogue/ngc7496/cutouts_fixediso_10pc/hdus_all.pickel\n",
      "[CATALOGUE] Running catalogue generation for: ngc7496\n",
      "[INFO] [get_maskedhdus] Getting HST maps masked by MUSE catalouge...\n"
     ]
    },
    {
     "name": "stderr",
     "output_type": "stream",
     "text": [
      "Masking regions: 100%|██████████| 777/777 [00:16<00:00, 47.23it/s]\n"
     ]
    },
    {
     "name": "stdout",
     "output_type": "stream",
     "text": [
      "[INFO] [save_pickle] Saved to /Users/abarnes/Dropbox/Projects/Extragalactic/hstha_nebulae_catalogue/ngc7496/cutouts_fixediso_10pc/hdus_all_withmasked.pickel\n"
     ]
    },
    {
     "name": "stderr",
     "output_type": "stream",
     "text": [
      "Get sources: 100%|██████████| 777/777 [00:03<00:00, 215.27it/s]\n"
     ]
    },
    {
     "name": "stdout",
     "output_type": "stream",
     "text": [
      "[INFO] [get_MuseProps] Getting MUSE catalouge properties for ngc7496...\n"
     ]
    },
    {
     "name": "stderr",
     "output_type": "stream",
     "text": [
      "Masking regions: 100%|██████████| 777/777 [00:00<00:00, 4608.62it/s]\n",
      "Geting complexity score: 100%|██████████| 136/136 [00:01<00:00, 69.40it/s]\n",
      "Get touch flags:: 100%|██████████| 136/136 [00:02<00:00, 57.41it/s]\n"
     ]
    },
    {
     "name": "stdout",
     "output_type": "stream",
     "text": [
      "[CATALOGUE] Final properties table saved to: /Users/abarnes/Dropbox/Projects/Extragalactic/hstha_nebulae_catalogue/ngc7496/catalogue_fixediso_10pc/props_all.fits\n",
      "[CATALOGUE] Masks saved to /Users/abarnes/Dropbox/Projects/Extragalactic/hstha_nebulae_catalogue/ngc7496/catalogue_fixediso_10pc/ngc7496_mask.fits and /Users/abarnes/Dropbox/Projects/Extragalactic/hstha_nebulae_catalogue/ngc7496/catalogue_fixediso_10pc/ngc7496_complexity.fits\n",
      "[CATALOGUE] DS9 regions output to /Users/abarnes/Dropbox/Projects/Extragalactic/hstha_nebulae_catalogue/ngc7496/catalogue_fixediso_10pc/ngc7496_mask\n",
      "[CATALOGUE] Done!\n",
      "[ASSOCIATIONS] Checking association files for galaxy ngc7496 ...\n",
      "File not found: /Users/abarnes/Dropbox/Data/Extragalactic/catalogues/multiscale_stellar_associations/ngc7496/vselect/ws8pc/PHANGS_IR4_hst_wfc3_ngc7496_v1p3_multi_assoc-vselect-ws8pc-idmask.fits\n",
      "[WARNING] Files missing for v_08pc. Skipping.\n",
      "Unpacking: /Users/abarnes/Dropbox/Data/Extragalactic/catalogues/multiscale_stellar_associations/ngc7496/vselect/ws16pc/PHANGS_IR4_hst_wfc3_ngc7496_v1p3_multi_assoc-vselect-ws16pc-idmask.fits.gz\n",
      "[INFO] Files found for v_16pc.\n",
      "Unpacking: /Users/abarnes/Dropbox/Data/Extragalactic/catalogues/multiscale_stellar_associations/ngc7496/vselect/ws32pc/PHANGS_IR4_hst_wfc3_ngc7496_v1p3_multi_assoc-vselect-ws32pc-idmask.fits.gz\n",
      "[INFO] Files found for v_32pc.\n",
      "Unpacking: /Users/abarnes/Dropbox/Data/Extragalactic/catalogues/multiscale_stellar_associations/ngc7496/vselect/ws64pc/PHANGS_IR4_hst_wfc3_ngc7496_v1p3_multi_assoc-vselect-ws64pc-idmask.fits.gz\n",
      "[INFO] Files found for v_64pc.\n",
      "File not found: /Users/abarnes/Dropbox/Data/Extragalactic/catalogues/multiscale_stellar_associations/ngc7496/nuvselect/ws8pc/PHANGS_IR4_hst_wfc3_ngc7496_v1p3_multi_assoc-nuvselect-ws8pc-idmask.fits\n",
      "[WARNING] Files missing for nuv_08pc. Skipping.\n",
      "Unpacking: /Users/abarnes/Dropbox/Data/Extragalactic/catalogues/multiscale_stellar_associations/ngc7496/nuvselect/ws16pc/PHANGS_IR4_hst_wfc3_ngc7496_v1p3_multi_assoc-nuvselect-ws16pc-idmask.fits.gz\n",
      "[INFO] Files found for nuv_16pc.\n",
      "Unpacking: /Users/abarnes/Dropbox/Data/Extragalactic/catalogues/multiscale_stellar_associations/ngc7496/nuvselect/ws32pc/PHANGS_IR4_hst_wfc3_ngc7496_v1p3_multi_assoc-nuvselect-ws32pc-idmask.fits.gz\n",
      "[INFO] Files found for nuv_32pc.\n",
      "Unpacking: /Users/abarnes/Dropbox/Data/Extragalactic/catalogues/multiscale_stellar_associations/ngc7496/nuvselect/ws64pc/PHANGS_IR4_hst_wfc3_ngc7496_v1p3_multi_assoc-nuvselect-ws64pc-idmask.fits.gz\n",
      "[INFO] Files found for nuv_64pc.\n",
      "[INFO] [load_pickle] Load /Users/abarnes/Dropbox/Projects/Extragalactic/hstha_nebulae_catalogue/ngc7496/cutouts_fixediso_10pc/sample.pickel\n",
      "[ASSOCIATIONS] Generating new cutouts for association masks...\n"
     ]
    },
    {
     "name": "stderr",
     "output_type": "stream",
     "text": [
      "Cropping regions: 100%|██████████| 136/136 [00:00<00:00, 676.48it/s]\n"
     ]
    },
    {
     "name": "stdout",
     "output_type": "stream",
     "text": [
      "[INFO] [save_pickle] Saved to /Users/abarnes/Dropbox/Projects/Extragalactic/hstha_nebulae_catalogue/ngc7496/cutouts_fixediso_10pc/hdus_catalog_mask_new.pickel\n"
     ]
    },
    {
     "name": "stderr",
     "output_type": "stream",
     "text": [
      "Cropping regions: 100%|██████████| 136/136 [00:00<00:00, 756.62it/s]\n"
     ]
    },
    {
     "name": "stdout",
     "output_type": "stream",
     "text": [
      "[INFO] [save_pickle] Saved to /Users/abarnes/Dropbox/Projects/Extragalactic/hstha_nebulae_catalogue/ngc7496/cutouts_fixediso_10pc/hdus_association_mask_new_v_16pc.pickel\n"
     ]
    },
    {
     "name": "stderr",
     "output_type": "stream",
     "text": [
      "Cropping regions: 100%|██████████| 136/136 [00:00<00:00, 784.64it/s]\n"
     ]
    },
    {
     "name": "stdout",
     "output_type": "stream",
     "text": [
      "[INFO] [save_pickle] Saved to /Users/abarnes/Dropbox/Projects/Extragalactic/hstha_nebulae_catalogue/ngc7496/cutouts_fixediso_10pc/hdus_association_mask_new_v_32pc.pickel\n"
     ]
    },
    {
     "name": "stderr",
     "output_type": "stream",
     "text": [
      "Cropping regions: 100%|██████████| 136/136 [00:00<00:00, 757.01it/s]\n"
     ]
    },
    {
     "name": "stdout",
     "output_type": "stream",
     "text": [
      "[INFO] [save_pickle] Saved to /Users/abarnes/Dropbox/Projects/Extragalactic/hstha_nebulae_catalogue/ngc7496/cutouts_fixediso_10pc/hdus_association_mask_new_v_64pc.pickel\n"
     ]
    },
    {
     "name": "stderr",
     "output_type": "stream",
     "text": [
      "Cropping regions: 100%|██████████| 136/136 [00:00<00:00, 715.17it/s]\n"
     ]
    },
    {
     "name": "stdout",
     "output_type": "stream",
     "text": [
      "[INFO] [save_pickle] Saved to /Users/abarnes/Dropbox/Projects/Extragalactic/hstha_nebulae_catalogue/ngc7496/cutouts_fixediso_10pc/hdus_association_mask_new_nuv_16pc.pickel\n"
     ]
    },
    {
     "name": "stderr",
     "output_type": "stream",
     "text": [
      "Cropping regions: 100%|██████████| 136/136 [00:00<00:00, 727.32it/s]\n"
     ]
    },
    {
     "name": "stdout",
     "output_type": "stream",
     "text": [
      "[INFO] [save_pickle] Saved to /Users/abarnes/Dropbox/Projects/Extragalactic/hstha_nebulae_catalogue/ngc7496/cutouts_fixediso_10pc/hdus_association_mask_new_nuv_32pc.pickel\n"
     ]
    },
    {
     "name": "stderr",
     "output_type": "stream",
     "text": [
      "Cropping regions: 100%|██████████| 136/136 [00:00<00:00, 711.58it/s]\n"
     ]
    },
    {
     "name": "stdout",
     "output_type": "stream",
     "text": [
      "[INFO] [save_pickle] Saved to /Users/abarnes/Dropbox/Projects/Extragalactic/hstha_nebulae_catalogue/ngc7496/cutouts_fixediso_10pc/hdus_association_mask_new_nuv_64pc.pickel\n"
     ]
    },
    {
     "name": "stderr",
     "output_type": "stream",
     "text": [
      "Match associations:: 100%|██████████| 136/136 [00:04<00:00, 31.61it/s]\n"
     ]
    },
    {
     "name": "stdout",
     "output_type": "stream",
     "text": [
      "[ASSOCIATIONS] Final association table saved to: /Users/abarnes/Dropbox/Projects/Extragalactic/hstha_nebulae_catalogue/ngc7496/catalogue_fixediso_10pc/props_all_association.fits\n",
      "Cleaning: /Users/abarnes/Dropbox/Data/Extragalactic/catalogues/multiscale_stellar_associations/ngc7496/vselect/ws16pc/PHANGS_IR4_hst_wfc3_ngc7496_v1p3_multi_assoc-vselect-ws16pc-idmask.fits\n",
      "Cleaning: /Users/abarnes/Dropbox/Data/Extragalactic/catalogues/multiscale_stellar_associations/ngc7496/vselect/ws32pc/PHANGS_IR4_hst_wfc3_ngc7496_v1p3_multi_assoc-vselect-ws32pc-idmask.fits\n",
      "Cleaning: /Users/abarnes/Dropbox/Data/Extragalactic/catalogues/multiscale_stellar_associations/ngc7496/vselect/ws64pc/PHANGS_IR4_hst_wfc3_ngc7496_v1p3_multi_assoc-vselect-ws64pc-idmask.fits\n",
      "Cleaning: /Users/abarnes/Dropbox/Data/Extragalactic/catalogues/multiscale_stellar_associations/ngc7496/nuvselect/ws16pc/PHANGS_IR4_hst_wfc3_ngc7496_v1p3_multi_assoc-nuvselect-ws16pc-idmask.fits\n",
      "Cleaning: /Users/abarnes/Dropbox/Data/Extragalactic/catalogues/multiscale_stellar_associations/ngc7496/nuvselect/ws32pc/PHANGS_IR4_hst_wfc3_ngc7496_v1p3_multi_assoc-nuvselect-ws32pc-idmask.fits\n",
      "Cleaning: /Users/abarnes/Dropbox/Data/Extragalactic/catalogues/multiscale_stellar_associations/ngc7496/nuvselect/ws64pc/PHANGS_IR4_hst_wfc3_ngc7496_v1p3_multi_assoc-nuvselect-ws64pc-idmask.fits\n"
     ]
    },
    {
     "data": {
      "text/plain": [
       "1805"
      ]
     },
     "execution_count": 21,
     "metadata": {},
     "output_type": "execute_result"
    }
   ],
   "source": [
    "galaxyname = 'ngc7496'\n",
    "\n",
    "mycat = catalogue_pipeline.PyHSTHACat(galaxyname, output_dir_append='_fixediso_10pc')\n",
    "mycat.hstha_err = ISOTHRESHOLD\n",
    "mycat.rerun_all = True\n",
    "mycat.hstha_file = mycat.hstha_file.replace('.fits', '_10pc_fixednoise.fits')\n",
    "\n",
    "mycat.make_paths()\n",
    "mycat.load_files()\n",
    "mycat.get_regions()\n",
    "mycat.get_cutouts()\n",
    "mycat.make_catalogue()\n",
    "\n",
    "mycat.rerun_cutouts_associations = True\n",
    "mycat.make_associations()\n",
    "\n",
    "# To free memory\n",
    "del mycat \n",
    "gc.collect()"
   ]
  }
 ],
 "metadata": {
  "kernelspec": {
   "display_name": "base",
   "language": "python",
   "name": "python3"
  },
  "language_info": {
   "codemirror_mode": {
    "name": "ipython",
    "version": 3
   },
   "file_extension": ".py",
   "mimetype": "text/x-python",
   "name": "python",
   "nbconvert_exporter": "python",
   "pygments_lexer": "ipython3",
   "version": "3.12.7"
  }
 },
 "nbformat": 4,
 "nbformat_minor": 2
}
