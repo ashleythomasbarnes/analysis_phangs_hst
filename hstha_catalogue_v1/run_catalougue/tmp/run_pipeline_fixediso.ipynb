{
 "cells": [
  {
   "cell_type": "code",
   "execution_count": 1,
   "metadata": {},
   "outputs": [],
   "source": [
    "# TODO Update to V4 of the catalogue..."
   ]
  },
  {
   "cell_type": "code",
   "execution_count": 2,
   "metadata": {},
   "outputs": [],
   "source": [
    "from imports import *"
   ]
  },
  {
   "cell_type": "code",
   "execution_count": 3,
   "metadata": {},
   "outputs": [],
   "source": [
    "# FIXED ISO THRESHOLD FOR ALL THE IMAGES (in per pixel units) \n",
    "ISOTHRESHOLD = 150"
   ]
  },
  {
   "cell_type": "code",
   "execution_count": 4,
   "metadata": {},
   "outputs": [
    {
     "name": "stdout",
     "output_type": "stream",
     "text": [
      "[Info] Outputting to the following:\n",
      "/Users/abarnes/Dropbox/work/Smallprojects/galaxies/data_hstha_nebulae_catalogue/ic5332/\n",
      "[INFO] [get_MuseProps] Getting MUSE catalouge properties for ic5332...\n",
      "[INFO] [get_galaxyprops] Getting sample table properties for ic5332...\n",
      "[INFO] Generating new DS9 region file...\n",
      "[INFO] [get_regions] Opening regions file (this may take a min)... \n",
      "[INFO] [get_regions] Getting info for 816 regions...\n",
      "[INFO] [save_pickle] Saved to /Users/abarnes/Dropbox/work/Smallprojects/galaxies/data_hstha_nebulae_catalogue/ic5332/cutouts_fixediso/sample.pickel\n",
      "[INFO] Generating cutouts for hstha_hdu...\n"
     ]
    },
    {
     "name": "stderr",
     "output_type": "stream",
     "text": [
      "Cropping regions: 100%|██████████| 816/816 [00:03<00:00, 221.37it/s]\n"
     ]
    },
    {
     "name": "stdout",
     "output_type": "stream",
     "text": [
      "[INFO] [save_pickle] Saved to /Users/abarnes/Dropbox/work/Smallprojects/galaxies/data_hstha_nebulae_catalogue/ic5332/cutouts_fixediso/hstha_hdu.pickel\n",
      "[INFO] Generating cutouts for musha_hdu...\n"
     ]
    },
    {
     "name": "stderr",
     "output_type": "stream",
     "text": [
      "Cropping regions: 100%|██████████| 816/816 [00:02<00:00, 294.06it/s]\n"
     ]
    },
    {
     "name": "stdout",
     "output_type": "stream",
     "text": [
      "[INFO] [save_pickle] Saved to /Users/abarnes/Dropbox/work/Smallprojects/galaxies/data_hstha_nebulae_catalogue/ic5332/cutouts_fixediso/musha_hdu.pickel\n",
      "[INFO] Generating cutouts for muscat_hdu...\n"
     ]
    },
    {
     "name": "stderr",
     "output_type": "stream",
     "text": [
      "Cropping regions: 100%|██████████| 816/816 [00:02<00:00, 282.69it/s]\n"
     ]
    },
    {
     "name": "stdout",
     "output_type": "stream",
     "text": [
      "[INFO] [save_pickle] Saved to /Users/abarnes/Dropbox/work/Smallprojects/galaxies/data_hstha_nebulae_catalogue/ic5332/cutouts_fixediso/muscat_hdu.pickel\n",
      "[INFO] [load_pickle] Load /Users/abarnes/Dropbox/work/Smallprojects/galaxies/data_hstha_nebulae_catalogue/ic5332/cutouts_fixediso/hstha_hdu.pickel\n",
      "[INFO] [load_pickle] Load /Users/abarnes/Dropbox/work/Smallprojects/galaxies/data_hstha_nebulae_catalogue/ic5332/cutouts_fixediso/musha_hdu.pickel\n",
      "[INFO] [load_pickle] Load /Users/abarnes/Dropbox/work/Smallprojects/galaxies/data_hstha_nebulae_catalogue/ic5332/cutouts_fixediso/muscat_hdu.pickel\n",
      "[INFO] All HDU cutouts saved to /Users/abarnes/Dropbox/work/Smallprojects/galaxies/data_hstha_nebulae_catalogue/ic5332/cutouts_fixediso/hdus_all.pickel\n",
      "[INFO] [save_pickle] Saved to /Users/abarnes/Dropbox/work/Smallprojects/galaxies/data_hstha_nebulae_catalogue/ic5332/cutouts_fixediso/hdus_all.pickel\n",
      "[CATALOGUE] Running catalogue generation for: ic5332\n",
      "[INFO] [get_maskedhdus] Getting HST maps masked by MUSE catalouge...\n"
     ]
    },
    {
     "name": "stderr",
     "output_type": "stream",
     "text": [
      "Masking regions: 100%|██████████| 816/816 [00:50<00:00, 16.21it/s]\n"
     ]
    },
    {
     "name": "stdout",
     "output_type": "stream",
     "text": [
      "[INFO] [save_pickle] Saved to /Users/abarnes/Dropbox/work/Smallprojects/galaxies/data_hstha_nebulae_catalogue/ic5332/cutouts_fixediso/hdus_all_withmasked.pickel\n"
     ]
    },
    {
     "name": "stderr",
     "output_type": "stream",
     "text": [
      "Get sources:: 100%|██████████| 816/816 [00:05<00:00, 142.70it/s]\n"
     ]
    },
    {
     "name": "stdout",
     "output_type": "stream",
     "text": [
      "[INFO] [get_MuseProps] Getting MUSE catalouge properties for ic5332...\n",
      "[CATALOGUE] Final properties table saved to: /Users/abarnes/Dropbox/work/Smallprojects/galaxies/data_hstha_nebulae_catalogue/ic5332/catalogue_fixediso/props_all.fits\n"
     ]
    },
    {
     "name": "stderr",
     "output_type": "stream",
     "text": [
      "Masking regions: 100%|██████████| 816/816 [00:00<00:00, 2151.04it/s]\n",
      "100%|██████████| 106/106 [00:02<00:00, 42.41it/s]\n"
     ]
    },
    {
     "name": "stdout",
     "output_type": "stream",
     "text": [
      "[CATALOGUE] Masks saved to /Users/abarnes/Dropbox/work/Smallprojects/galaxies/data_hstha_nebulae_catalogue/ic5332/catalogue_fixediso/ic5332_mask.fits and /Users/abarnes/Dropbox/work/Smallprojects/galaxies/data_hstha_nebulae_catalogue/ic5332/catalogue_fixediso/ic5332_complexity.fits...\n",
      "[CATALOGUE] DS9 regions output to /Users/abarnes/Dropbox/work/Smallprojects/galaxies/data_hstha_nebulae_catalogue/ic5332/catalogue_fixediso/ic5332_mask...\n",
      "[CATALOGUE] Done!\n",
      "[ASSOCIATIONS] Checking association files for galaxy ic5332 ...\n",
      "Unpacking: /Users/abarnes/Dropbox/work/Smallprojects/galaxies/data_misc/multiscale_stellar_associations/ic5332/vselect/ws8pc/PHANGS_IR4_hst_wfc3_ic5332_v1p3_multi_assoc-vselect-ws8pc-idmask.fits.gz\n",
      "[INFO] Files found for v_08pc.\n",
      "Unpacking: /Users/abarnes/Dropbox/work/Smallprojects/galaxies/data_misc/multiscale_stellar_associations/ic5332/vselect/ws16pc/PHANGS_IR4_hst_wfc3_ic5332_v1p3_multi_assoc-vselect-ws16pc-idmask.fits.gz\n",
      "[INFO] Files found for v_16pc.\n",
      "Unpacking: /Users/abarnes/Dropbox/work/Smallprojects/galaxies/data_misc/multiscale_stellar_associations/ic5332/vselect/ws32pc/PHANGS_IR4_hst_wfc3_ic5332_v1p3_multi_assoc-vselect-ws32pc-idmask.fits.gz\n",
      "[INFO] Files found for v_32pc.\n",
      "Unpacking: /Users/abarnes/Dropbox/work/Smallprojects/galaxies/data_misc/multiscale_stellar_associations/ic5332/vselect/ws64pc/PHANGS_IR4_hst_wfc3_ic5332_v1p3_multi_assoc-vselect-ws64pc-idmask.fits.gz\n",
      "[INFO] Files found for v_64pc.\n",
      "Unpacking: /Users/abarnes/Dropbox/work/Smallprojects/galaxies/data_misc/multiscale_stellar_associations/ic5332/nuvselect/ws8pc/PHANGS_IR4_hst_wfc3_ic5332_v1p3_multi_assoc-nuvselect-ws8pc-idmask.fits.gz\n",
      "[INFO] Files found for nuv_08pc.\n",
      "Unpacking: /Users/abarnes/Dropbox/work/Smallprojects/galaxies/data_misc/multiscale_stellar_associations/ic5332/nuvselect/ws16pc/PHANGS_IR4_hst_wfc3_ic5332_v1p3_multi_assoc-nuvselect-ws16pc-idmask.fits.gz\n",
      "[INFO] Files found for nuv_16pc.\n",
      "Unpacking: /Users/abarnes/Dropbox/work/Smallprojects/galaxies/data_misc/multiscale_stellar_associations/ic5332/nuvselect/ws32pc/PHANGS_IR4_hst_wfc3_ic5332_v1p3_multi_assoc-nuvselect-ws32pc-idmask.fits.gz\n",
      "[INFO] Files found for nuv_32pc.\n",
      "Unpacking: /Users/abarnes/Dropbox/work/Smallprojects/galaxies/data_misc/multiscale_stellar_associations/ic5332/nuvselect/ws64pc/PHANGS_IR4_hst_wfc3_ic5332_v1p3_multi_assoc-nuvselect-ws64pc-idmask.fits.gz\n",
      "[INFO] Files found for nuv_64pc.\n",
      "[INFO] [load_pickle] Load /Users/abarnes/Dropbox/work/Smallprojects/galaxies/data_hstha_nebulae_catalogue/ic5332/cutouts_fixediso/sample.pickel\n",
      "[ASSOCIATIONS] Generating new cutouts for association masks...\n"
     ]
    },
    {
     "name": "stderr",
     "output_type": "stream",
     "text": [
      "Cropping regions: 100%|██████████| 106/106 [00:00<00:00, 228.42it/s]\n"
     ]
    },
    {
     "name": "stdout",
     "output_type": "stream",
     "text": [
      "[INFO] [save_pickle] Saved to /Users/abarnes/Dropbox/work/Smallprojects/galaxies/data_hstha_nebulae_catalogue/ic5332/cutouts_fixediso/hdus_catalog_mask_new.pickel\n"
     ]
    },
    {
     "name": "stderr",
     "output_type": "stream",
     "text": [
      "Cropping regions: 100%|██████████| 106/106 [00:00<00:00, 237.67it/s]\n"
     ]
    },
    {
     "name": "stdout",
     "output_type": "stream",
     "text": [
      "[INFO] [save_pickle] Saved to /Users/abarnes/Dropbox/work/Smallprojects/galaxies/data_hstha_nebulae_catalogue/ic5332/cutouts_fixediso/hdus_association_mask_new_v_08pc.pickel\n"
     ]
    },
    {
     "name": "stderr",
     "output_type": "stream",
     "text": [
      "Cropping regions: 100%|██████████| 106/106 [00:00<00:00, 239.10it/s]\n"
     ]
    },
    {
     "name": "stdout",
     "output_type": "stream",
     "text": [
      "[INFO] [save_pickle] Saved to /Users/abarnes/Dropbox/work/Smallprojects/galaxies/data_hstha_nebulae_catalogue/ic5332/cutouts_fixediso/hdus_association_mask_new_v_16pc.pickel\n"
     ]
    },
    {
     "name": "stderr",
     "output_type": "stream",
     "text": [
      "Cropping regions: 100%|██████████| 106/106 [00:00<00:00, 245.21it/s]\n"
     ]
    },
    {
     "name": "stdout",
     "output_type": "stream",
     "text": [
      "[INFO] [save_pickle] Saved to /Users/abarnes/Dropbox/work/Smallprojects/galaxies/data_hstha_nebulae_catalogue/ic5332/cutouts_fixediso/hdus_association_mask_new_v_32pc.pickel\n"
     ]
    },
    {
     "name": "stderr",
     "output_type": "stream",
     "text": [
      "Cropping regions: 100%|██████████| 106/106 [00:00<00:00, 231.47it/s]\n"
     ]
    },
    {
     "name": "stdout",
     "output_type": "stream",
     "text": [
      "[INFO] [save_pickle] Saved to /Users/abarnes/Dropbox/work/Smallprojects/galaxies/data_hstha_nebulae_catalogue/ic5332/cutouts_fixediso/hdus_association_mask_new_v_64pc.pickel\n"
     ]
    },
    {
     "name": "stderr",
     "output_type": "stream",
     "text": [
      "Cropping regions: 100%|██████████| 106/106 [00:00<00:00, 224.59it/s]\n"
     ]
    },
    {
     "name": "stdout",
     "output_type": "stream",
     "text": [
      "[INFO] [save_pickle] Saved to /Users/abarnes/Dropbox/work/Smallprojects/galaxies/data_hstha_nebulae_catalogue/ic5332/cutouts_fixediso/hdus_association_mask_new_nuv_08pc.pickel\n"
     ]
    },
    {
     "name": "stderr",
     "output_type": "stream",
     "text": [
      "Cropping regions: 100%|██████████| 106/106 [00:00<00:00, 229.86it/s]\n"
     ]
    },
    {
     "name": "stdout",
     "output_type": "stream",
     "text": [
      "[INFO] [save_pickle] Saved to /Users/abarnes/Dropbox/work/Smallprojects/galaxies/data_hstha_nebulae_catalogue/ic5332/cutouts_fixediso/hdus_association_mask_new_nuv_16pc.pickel\n"
     ]
    },
    {
     "name": "stderr",
     "output_type": "stream",
     "text": [
      "Cropping regions: 100%|██████████| 106/106 [00:00<00:00, 239.55it/s]\n"
     ]
    },
    {
     "name": "stdout",
     "output_type": "stream",
     "text": [
      "[INFO] [save_pickle] Saved to /Users/abarnes/Dropbox/work/Smallprojects/galaxies/data_hstha_nebulae_catalogue/ic5332/cutouts_fixediso/hdus_association_mask_new_nuv_32pc.pickel\n"
     ]
    },
    {
     "name": "stderr",
     "output_type": "stream",
     "text": [
      "Cropping regions: 100%|██████████| 106/106 [00:00<00:00, 235.71it/s]\n"
     ]
    },
    {
     "name": "stdout",
     "output_type": "stream",
     "text": [
      "[INFO] [save_pickle] Saved to /Users/abarnes/Dropbox/work/Smallprojects/galaxies/data_hstha_nebulae_catalogue/ic5332/cutouts_fixediso/hdus_association_mask_new_nuv_64pc.pickel\n"
     ]
    },
    {
     "name": "stderr",
     "output_type": "stream",
     "text": [
      "Match associations:: 100%|██████████| 106/106 [00:16<00:00,  6.33it/s]\n"
     ]
    },
    {
     "name": "stdout",
     "output_type": "stream",
     "text": [
      "[ASSOCIATIONS] Final association table saved to: /Users/abarnes/Dropbox/work/Smallprojects/galaxies/data_hstha_nebulae_catalogue/ic5332/catalogue_fixediso/props_all_association.fits\n",
      "Cleaning: /Users/abarnes/Dropbox/work/Smallprojects/galaxies/data_misc/multiscale_stellar_associations/ic5332/vselect/ws8pc/PHANGS_IR4_hst_wfc3_ic5332_v1p3_multi_assoc-vselect-ws8pc-idmask.fits\n",
      "Cleaning: /Users/abarnes/Dropbox/work/Smallprojects/galaxies/data_misc/multiscale_stellar_associations/ic5332/vselect/ws16pc/PHANGS_IR4_hst_wfc3_ic5332_v1p3_multi_assoc-vselect-ws16pc-idmask.fits\n",
      "Cleaning: /Users/abarnes/Dropbox/work/Smallprojects/galaxies/data_misc/multiscale_stellar_associations/ic5332/vselect/ws32pc/PHANGS_IR4_hst_wfc3_ic5332_v1p3_multi_assoc-vselect-ws32pc-idmask.fits\n",
      "Cleaning: /Users/abarnes/Dropbox/work/Smallprojects/galaxies/data_misc/multiscale_stellar_associations/ic5332/vselect/ws64pc/PHANGS_IR4_hst_wfc3_ic5332_v1p3_multi_assoc-vselect-ws64pc-idmask.fits\n",
      "Cleaning: /Users/abarnes/Dropbox/work/Smallprojects/galaxies/data_misc/multiscale_stellar_associations/ic5332/nuvselect/ws8pc/PHANGS_IR4_hst_wfc3_ic5332_v1p3_multi_assoc-nuvselect-ws8pc-idmask.fits\n",
      "Cleaning: /Users/abarnes/Dropbox/work/Smallprojects/galaxies/data_misc/multiscale_stellar_associations/ic5332/nuvselect/ws16pc/PHANGS_IR4_hst_wfc3_ic5332_v1p3_multi_assoc-nuvselect-ws16pc-idmask.fits\n",
      "Cleaning: /Users/abarnes/Dropbox/work/Smallprojects/galaxies/data_misc/multiscale_stellar_associations/ic5332/nuvselect/ws32pc/PHANGS_IR4_hst_wfc3_ic5332_v1p3_multi_assoc-nuvselect-ws32pc-idmask.fits\n",
      "Cleaning: /Users/abarnes/Dropbox/work/Smallprojects/galaxies/data_misc/multiscale_stellar_associations/ic5332/nuvselect/ws64pc/PHANGS_IR4_hst_wfc3_ic5332_v1p3_multi_assoc-nuvselect-ws64pc-idmask.fits\n"
     ]
    },
    {
     "data": {
      "text/plain": [
       "26107"
      ]
     },
     "execution_count": 4,
     "metadata": {},
     "output_type": "execute_result"
    }
   ],
   "source": [
    "galaxyname = 'ic5332'\n",
    "\n",
    "mycat = catalogue_pipeline.PyHSTHACat(galaxyname, output_dir_append='_fixediso')\n",
    "mycat.hstha_err = ISOTHRESHOLD\n",
    "mycat.rerun_all = True\n",
    "\n",
    "mycat.make_paths()\n",
    "mycat.load_files()\n",
    "mycat.get_regions()\n",
    "mycat.get_cutouts()\n",
    "mycat.make_catalogue()\n",
    "\n",
    "mycat.rerun_cutouts_associations = True\n",
    "mycat.make_associations()\n",
    "\n",
    "# To free memory\n",
    "del mycat \n",
    "gc.collect()"
   ]
  },
  {
   "cell_type": "code",
   "execution_count": 5,
   "metadata": {},
   "outputs": [
    {
     "name": "stdout",
     "output_type": "stream",
     "text": [
      "[Info] Outputting to the following:\n",
      "/Users/abarnes/Dropbox/work/Smallprojects/galaxies/data_hstha_nebulae_catalogue/ngc628c/\n",
      "[INFO] [get_MuseProps] Getting MUSE catalouge properties for ngc0628...\n",
      "[INFO] [get_galaxyprops] Getting sample table properties for ngc0628...\n",
      "[INFO] Generating new DS9 region file...\n",
      "[INFO] [get_regions] Opening regions file (this may take a min)... \n",
      "[INFO] [get_regions] Getting info for 2869 regions...\n",
      "[INFO] [save_pickle] Saved to /Users/abarnes/Dropbox/work/Smallprojects/galaxies/data_hstha_nebulae_catalogue/ngc628c/cutouts_fixediso/sample.pickel\n",
      "[INFO] Generating cutouts for hstha_hdu...\n"
     ]
    },
    {
     "name": "stderr",
     "output_type": "stream",
     "text": [
      "Cropping regions: 100%|██████████| 2869/2869 [00:12<00:00, 234.81it/s]\n"
     ]
    },
    {
     "name": "stdout",
     "output_type": "stream",
     "text": [
      "[INFO] [save_pickle] Saved to /Users/abarnes/Dropbox/work/Smallprojects/galaxies/data_hstha_nebulae_catalogue/ngc628c/cutouts_fixediso/hstha_hdu.pickel\n",
      "[INFO] Generating cutouts for musha_hdu...\n"
     ]
    },
    {
     "name": "stderr",
     "output_type": "stream",
     "text": [
      "Cropping regions: 100%|██████████| 2869/2869 [00:08<00:00, 321.10it/s]\n"
     ]
    },
    {
     "name": "stdout",
     "output_type": "stream",
     "text": [
      "[INFO] [save_pickle] Saved to /Users/abarnes/Dropbox/work/Smallprojects/galaxies/data_hstha_nebulae_catalogue/ngc628c/cutouts_fixediso/musha_hdu.pickel\n",
      "[INFO] Generating cutouts for muscat_hdu...\n"
     ]
    },
    {
     "name": "stderr",
     "output_type": "stream",
     "text": [
      "Cropping regions: 100%|██████████| 2869/2869 [00:09<00:00, 299.99it/s]\n"
     ]
    },
    {
     "name": "stdout",
     "output_type": "stream",
     "text": [
      "[INFO] [save_pickle] Saved to /Users/abarnes/Dropbox/work/Smallprojects/galaxies/data_hstha_nebulae_catalogue/ngc628c/cutouts_fixediso/muscat_hdu.pickel\n",
      "[INFO] [load_pickle] Load /Users/abarnes/Dropbox/work/Smallprojects/galaxies/data_hstha_nebulae_catalogue/ngc628c/cutouts_fixediso/hstha_hdu.pickel\n",
      "[INFO] [load_pickle] Load /Users/abarnes/Dropbox/work/Smallprojects/galaxies/data_hstha_nebulae_catalogue/ngc628c/cutouts_fixediso/musha_hdu.pickel\n",
      "[INFO] [load_pickle] Load /Users/abarnes/Dropbox/work/Smallprojects/galaxies/data_hstha_nebulae_catalogue/ngc628c/cutouts_fixediso/muscat_hdu.pickel\n",
      "[INFO] All HDU cutouts saved to /Users/abarnes/Dropbox/work/Smallprojects/galaxies/data_hstha_nebulae_catalogue/ngc628c/cutouts_fixediso/hdus_all.pickel\n",
      "[INFO] [save_pickle] Saved to /Users/abarnes/Dropbox/work/Smallprojects/galaxies/data_hstha_nebulae_catalogue/ngc628c/cutouts_fixediso/hdus_all.pickel\n",
      "[CATALOGUE] Running catalogue generation for: ngc0628\n",
      "[INFO] [get_maskedhdus] Getting HST maps masked by MUSE catalouge...\n"
     ]
    },
    {
     "name": "stderr",
     "output_type": "stream",
     "text": [
      "Masking regions: 100%|██████████| 2869/2869 [03:07<00:00, 15.27it/s]\n"
     ]
    },
    {
     "name": "stdout",
     "output_type": "stream",
     "text": [
      "[INFO] [save_pickle] Saved to /Users/abarnes/Dropbox/work/Smallprojects/galaxies/data_hstha_nebulae_catalogue/ngc628c/cutouts_fixediso/hdus_all_withmasked.pickel\n"
     ]
    },
    {
     "name": "stderr",
     "output_type": "stream",
     "text": [
      "Get sources:: 100%|██████████| 2869/2869 [00:22<00:00, 125.80it/s]\n"
     ]
    },
    {
     "name": "stdout",
     "output_type": "stream",
     "text": [
      "[INFO] [get_MuseProps] Getting MUSE catalouge properties for ngc0628...\n",
      "[CATALOGUE] Final properties table saved to: /Users/abarnes/Dropbox/work/Smallprojects/galaxies/data_hstha_nebulae_catalogue/ngc628c/catalogue_fixediso/props_all.fits\n"
     ]
    },
    {
     "name": "stderr",
     "output_type": "stream",
     "text": [
      "Masking regions: 100%|██████████| 2869/2869 [00:01<00:00, 2191.18it/s]\n",
      "100%|██████████| 404/404 [00:12<00:00, 31.54it/s]\n"
     ]
    },
    {
     "name": "stdout",
     "output_type": "stream",
     "text": [
      "[CATALOGUE] Masks saved to /Users/abarnes/Dropbox/work/Smallprojects/galaxies/data_hstha_nebulae_catalogue/ngc628c/catalogue_fixediso/ngc0628_mask.fits and /Users/abarnes/Dropbox/work/Smallprojects/galaxies/data_hstha_nebulae_catalogue/ngc628c/catalogue_fixediso/ngc0628_complexity.fits...\n",
      "[CATALOGUE] DS9 regions output to /Users/abarnes/Dropbox/work/Smallprojects/galaxies/data_hstha_nebulae_catalogue/ngc628c/catalogue_fixediso/ngc0628_mask...\n",
      "[CATALOGUE] Done!\n",
      "[ASSOCIATIONS] Checking association files for galaxy ngc0628 ...\n",
      "Unpacking: /Users/abarnes/Dropbox/work/Smallprojects/galaxies/data_misc/multiscale_stellar_associations/ngc628/vselect/ws8pc/PHANGS_IR4_hst_wfc3_ngc628_v1p3_multi_assoc-vselect-ws8pc-idmask.fits.gz\n",
      "[INFO] Files found for v_08pc.\n",
      "Unpacking: /Users/abarnes/Dropbox/work/Smallprojects/galaxies/data_misc/multiscale_stellar_associations/ngc628/vselect/ws16pc/PHANGS_IR4_hst_wfc3_ngc628_v1p3_multi_assoc-vselect-ws16pc-idmask.fits.gz\n",
      "[INFO] Files found for v_16pc.\n",
      "Unpacking: /Users/abarnes/Dropbox/work/Smallprojects/galaxies/data_misc/multiscale_stellar_associations/ngc628/vselect/ws32pc/PHANGS_IR4_hst_wfc3_ngc628_v1p3_multi_assoc-vselect-ws32pc-idmask.fits.gz\n",
      "[INFO] Files found for v_32pc.\n",
      "Unpacking: /Users/abarnes/Dropbox/work/Smallprojects/galaxies/data_misc/multiscale_stellar_associations/ngc628/vselect/ws64pc/PHANGS_IR4_hst_wfc3_ngc628_v1p3_multi_assoc-vselect-ws64pc-idmask.fits.gz\n",
      "[INFO] Files found for v_64pc.\n",
      "Unpacking: /Users/abarnes/Dropbox/work/Smallprojects/galaxies/data_misc/multiscale_stellar_associations/ngc628/nuvselect/ws8pc/PHANGS_IR4_hst_wfc3_ngc628_v1p3_multi_assoc-nuvselect-ws8pc-idmask.fits.gz\n",
      "[INFO] Files found for nuv_08pc.\n",
      "Unpacking: /Users/abarnes/Dropbox/work/Smallprojects/galaxies/data_misc/multiscale_stellar_associations/ngc628/nuvselect/ws16pc/PHANGS_IR4_hst_wfc3_ngc628_v1p3_multi_assoc-nuvselect-ws16pc-idmask.fits.gz\n",
      "[INFO] Files found for nuv_16pc.\n",
      "Unpacking: /Users/abarnes/Dropbox/work/Smallprojects/galaxies/data_misc/multiscale_stellar_associations/ngc628/nuvselect/ws32pc/PHANGS_IR4_hst_wfc3_ngc628_v1p3_multi_assoc-nuvselect-ws32pc-idmask.fits.gz\n",
      "[INFO] Files found for nuv_32pc.\n",
      "Unpacking: /Users/abarnes/Dropbox/work/Smallprojects/galaxies/data_misc/multiscale_stellar_associations/ngc628/nuvselect/ws64pc/PHANGS_IR4_hst_wfc3_ngc628_v1p3_multi_assoc-nuvselect-ws64pc-idmask.fits.gz\n",
      "[INFO] Files found for nuv_64pc.\n",
      "[INFO] [load_pickle] Load /Users/abarnes/Dropbox/work/Smallprojects/galaxies/data_hstha_nebulae_catalogue/ngc628c/cutouts_fixediso/sample.pickel\n",
      "[ASSOCIATIONS] Generating new cutouts for association masks...\n"
     ]
    },
    {
     "name": "stderr",
     "output_type": "stream",
     "text": [
      "Cropping regions: 100%|██████████| 404/404 [00:01<00:00, 242.39it/s]\n"
     ]
    },
    {
     "name": "stdout",
     "output_type": "stream",
     "text": [
      "[INFO] [save_pickle] Saved to /Users/abarnes/Dropbox/work/Smallprojects/galaxies/data_hstha_nebulae_catalogue/ngc628c/cutouts_fixediso/hdus_catalog_mask_new.pickel\n"
     ]
    },
    {
     "name": "stderr",
     "output_type": "stream",
     "text": [
      "Cropping regions: 100%|██████████| 404/404 [00:01<00:00, 280.06it/s]\n"
     ]
    },
    {
     "name": "stdout",
     "output_type": "stream",
     "text": [
      "[INFO] [save_pickle] Saved to /Users/abarnes/Dropbox/work/Smallprojects/galaxies/data_hstha_nebulae_catalogue/ngc628c/cutouts_fixediso/hdus_association_mask_new_v_08pc.pickel\n"
     ]
    },
    {
     "name": "stderr",
     "output_type": "stream",
     "text": [
      "Cropping regions: 100%|██████████| 404/404 [00:01<00:00, 292.35it/s]\n"
     ]
    },
    {
     "name": "stdout",
     "output_type": "stream",
     "text": [
      "[INFO] [save_pickle] Saved to /Users/abarnes/Dropbox/work/Smallprojects/galaxies/data_hstha_nebulae_catalogue/ngc628c/cutouts_fixediso/hdus_association_mask_new_v_16pc.pickel\n"
     ]
    },
    {
     "name": "stderr",
     "output_type": "stream",
     "text": [
      "Cropping regions: 100%|██████████| 404/404 [00:01<00:00, 282.55it/s]\n"
     ]
    },
    {
     "name": "stdout",
     "output_type": "stream",
     "text": [
      "[INFO] [save_pickle] Saved to /Users/abarnes/Dropbox/work/Smallprojects/galaxies/data_hstha_nebulae_catalogue/ngc628c/cutouts_fixediso/hdus_association_mask_new_v_32pc.pickel\n"
     ]
    },
    {
     "name": "stderr",
     "output_type": "stream",
     "text": [
      "Cropping regions: 100%|██████████| 404/404 [00:01<00:00, 288.85it/s]\n"
     ]
    },
    {
     "name": "stdout",
     "output_type": "stream",
     "text": [
      "[INFO] [save_pickle] Saved to /Users/abarnes/Dropbox/work/Smallprojects/galaxies/data_hstha_nebulae_catalogue/ngc628c/cutouts_fixediso/hdus_association_mask_new_v_64pc.pickel\n"
     ]
    },
    {
     "name": "stderr",
     "output_type": "stream",
     "text": [
      "Cropping regions: 100%|██████████| 404/404 [00:01<00:00, 274.03it/s]\n"
     ]
    },
    {
     "name": "stdout",
     "output_type": "stream",
     "text": [
      "[INFO] [save_pickle] Saved to /Users/abarnes/Dropbox/work/Smallprojects/galaxies/data_hstha_nebulae_catalogue/ngc628c/cutouts_fixediso/hdus_association_mask_new_nuv_08pc.pickel\n"
     ]
    },
    {
     "name": "stderr",
     "output_type": "stream",
     "text": [
      "Cropping regions: 100%|██████████| 404/404 [00:01<00:00, 273.23it/s]\n"
     ]
    },
    {
     "name": "stdout",
     "output_type": "stream",
     "text": [
      "[INFO] [save_pickle] Saved to /Users/abarnes/Dropbox/work/Smallprojects/galaxies/data_hstha_nebulae_catalogue/ngc628c/cutouts_fixediso/hdus_association_mask_new_nuv_16pc.pickel\n"
     ]
    },
    {
     "name": "stderr",
     "output_type": "stream",
     "text": [
      "Cropping regions: 100%|██████████| 404/404 [00:01<00:00, 277.72it/s]\n"
     ]
    },
    {
     "name": "stdout",
     "output_type": "stream",
     "text": [
      "[INFO] [save_pickle] Saved to /Users/abarnes/Dropbox/work/Smallprojects/galaxies/data_hstha_nebulae_catalogue/ngc628c/cutouts_fixediso/hdus_association_mask_new_nuv_32pc.pickel\n"
     ]
    },
    {
     "name": "stderr",
     "output_type": "stream",
     "text": [
      "Cropping regions: 100%|██████████| 404/404 [00:01<00:00, 278.91it/s]\n"
     ]
    },
    {
     "name": "stdout",
     "output_type": "stream",
     "text": [
      "[INFO] [save_pickle] Saved to /Users/abarnes/Dropbox/work/Smallprojects/galaxies/data_hstha_nebulae_catalogue/ngc628c/cutouts_fixediso/hdus_association_mask_new_nuv_64pc.pickel\n"
     ]
    },
    {
     "name": "stderr",
     "output_type": "stream",
     "text": [
      "Match associations:: 100%|██████████| 404/404 [01:08<00:00,  5.93it/s]\n"
     ]
    },
    {
     "name": "stdout",
     "output_type": "stream",
     "text": [
      "[ASSOCIATIONS] Final association table saved to: /Users/abarnes/Dropbox/work/Smallprojects/galaxies/data_hstha_nebulae_catalogue/ngc628c/catalogue_fixediso/props_all_association.fits\n",
      "Cleaning: /Users/abarnes/Dropbox/work/Smallprojects/galaxies/data_misc/multiscale_stellar_associations/ngc628/vselect/ws8pc/PHANGS_IR4_hst_wfc3_ngc628_v1p3_multi_assoc-vselect-ws8pc-idmask.fits\n",
      "Cleaning: /Users/abarnes/Dropbox/work/Smallprojects/galaxies/data_misc/multiscale_stellar_associations/ngc628/vselect/ws16pc/PHANGS_IR4_hst_wfc3_ngc628_v1p3_multi_assoc-vselect-ws16pc-idmask.fits\n",
      "Cleaning: /Users/abarnes/Dropbox/work/Smallprojects/galaxies/data_misc/multiscale_stellar_associations/ngc628/vselect/ws32pc/PHANGS_IR4_hst_wfc3_ngc628_v1p3_multi_assoc-vselect-ws32pc-idmask.fits\n",
      "Cleaning: /Users/abarnes/Dropbox/work/Smallprojects/galaxies/data_misc/multiscale_stellar_associations/ngc628/vselect/ws64pc/PHANGS_IR4_hst_wfc3_ngc628_v1p3_multi_assoc-vselect-ws64pc-idmask.fits\n",
      "Cleaning: /Users/abarnes/Dropbox/work/Smallprojects/galaxies/data_misc/multiscale_stellar_associations/ngc628/nuvselect/ws8pc/PHANGS_IR4_hst_wfc3_ngc628_v1p3_multi_assoc-nuvselect-ws8pc-idmask.fits\n",
      "Cleaning: /Users/abarnes/Dropbox/work/Smallprojects/galaxies/data_misc/multiscale_stellar_associations/ngc628/nuvselect/ws16pc/PHANGS_IR4_hst_wfc3_ngc628_v1p3_multi_assoc-nuvselect-ws16pc-idmask.fits\n",
      "Cleaning: /Users/abarnes/Dropbox/work/Smallprojects/galaxies/data_misc/multiscale_stellar_associations/ngc628/nuvselect/ws32pc/PHANGS_IR4_hst_wfc3_ngc628_v1p3_multi_assoc-nuvselect-ws32pc-idmask.fits\n",
      "Cleaning: /Users/abarnes/Dropbox/work/Smallprojects/galaxies/data_misc/multiscale_stellar_associations/ngc628/nuvselect/ws64pc/PHANGS_IR4_hst_wfc3_ngc628_v1p3_multi_assoc-nuvselect-ws64pc-idmask.fits\n"
     ]
    },
    {
     "data": {
      "text/plain": [
       "35311"
      ]
     },
     "execution_count": 5,
     "metadata": {},
     "output_type": "execute_result"
    }
   ],
   "source": [
    "galaxyname = 'ngc0628'\n",
    "galaxyname_hst = 'ngc628c'\n",
    "galaxyname_cat = 'ngc628'\n",
    "\n",
    "mycat = catalogue_pipeline.PyHSTHACat(galaxyname, galaxyname_hst, galaxyname_cat, output_dir_append='_fixediso')\n",
    "mycat.hstha_err = ISOTHRESHOLD\n",
    "mycat.rerun_all = True\n",
    "\n",
    "mycat.make_paths()\n",
    "mycat.load_files()\n",
    "mycat.get_regions()\n",
    "mycat.get_cutouts()\n",
    "mycat.make_catalogue()\n",
    "\n",
    "mycat.rerun_cutouts_associations = True\n",
    "mycat.make_associations()\n",
    "\n",
    "# To free memory\n",
    "del mycat \n",
    "gc.collect()"
   ]
  },
  {
   "cell_type": "code",
   "execution_count": 6,
   "metadata": {},
   "outputs": [
    {
     "name": "stdout",
     "output_type": "stream",
     "text": [
      "[Info] Outputting to the following:\n",
      "/Users/abarnes/Dropbox/work/Smallprojects/galaxies/data_hstha_nebulae_catalogue/ngc1087/\n",
      "[INFO] [get_MuseProps] Getting MUSE catalouge properties for ngc1087...\n",
      "[INFO] [get_galaxyprops] Getting sample table properties for ngc1087...\n",
      "[INFO] Generating new DS9 region file...\n",
      "[INFO] [get_regions] Opening regions file (this may take a min)... \n",
      "[INFO] [get_regions] Getting info for 1011 regions...\n",
      "[INFO] [save_pickle] Saved to /Users/abarnes/Dropbox/work/Smallprojects/galaxies/data_hstha_nebulae_catalogue/ngc1087/cutouts_fixediso/sample.pickel\n",
      "[INFO] Generating cutouts for hstha_hdu...\n"
     ]
    },
    {
     "name": "stderr",
     "output_type": "stream",
     "text": [
      "Cropping regions: 100%|██████████| 1011/1011 [00:03<00:00, 273.03it/s]\n"
     ]
    },
    {
     "name": "stdout",
     "output_type": "stream",
     "text": [
      "[INFO] [save_pickle] Saved to /Users/abarnes/Dropbox/work/Smallprojects/galaxies/data_hstha_nebulae_catalogue/ngc1087/cutouts_fixediso/hstha_hdu.pickel\n",
      "[INFO] Generating cutouts for musha_hdu...\n"
     ]
    },
    {
     "name": "stderr",
     "output_type": "stream",
     "text": [
      "Cropping regions: 100%|██████████| 1011/1011 [00:03<00:00, 323.48it/s]\n"
     ]
    },
    {
     "name": "stdout",
     "output_type": "stream",
     "text": [
      "[INFO] [save_pickle] Saved to /Users/abarnes/Dropbox/work/Smallprojects/galaxies/data_hstha_nebulae_catalogue/ngc1087/cutouts_fixediso/musha_hdu.pickel\n",
      "[INFO] Generating cutouts for muscat_hdu...\n"
     ]
    },
    {
     "name": "stderr",
     "output_type": "stream",
     "text": [
      "Cropping regions: 100%|██████████| 1011/1011 [00:03<00:00, 307.03it/s]\n"
     ]
    },
    {
     "name": "stdout",
     "output_type": "stream",
     "text": [
      "[INFO] [save_pickle] Saved to /Users/abarnes/Dropbox/work/Smallprojects/galaxies/data_hstha_nebulae_catalogue/ngc1087/cutouts_fixediso/muscat_hdu.pickel\n",
      "[INFO] [load_pickle] Load /Users/abarnes/Dropbox/work/Smallprojects/galaxies/data_hstha_nebulae_catalogue/ngc1087/cutouts_fixediso/hstha_hdu.pickel\n",
      "[INFO] [load_pickle] Load /Users/abarnes/Dropbox/work/Smallprojects/galaxies/data_hstha_nebulae_catalogue/ngc1087/cutouts_fixediso/musha_hdu.pickel\n",
      "[INFO] [load_pickle] Load /Users/abarnes/Dropbox/work/Smallprojects/galaxies/data_hstha_nebulae_catalogue/ngc1087/cutouts_fixediso/muscat_hdu.pickel\n",
      "[INFO] All HDU cutouts saved to /Users/abarnes/Dropbox/work/Smallprojects/galaxies/data_hstha_nebulae_catalogue/ngc1087/cutouts_fixediso/hdus_all.pickel\n",
      "[INFO] [save_pickle] Saved to /Users/abarnes/Dropbox/work/Smallprojects/galaxies/data_hstha_nebulae_catalogue/ngc1087/cutouts_fixediso/hdus_all.pickel\n",
      "[CATALOGUE] Running catalogue generation for: ngc1087\n",
      "[INFO] [get_maskedhdus] Getting HST maps masked by MUSE catalouge...\n"
     ]
    },
    {
     "name": "stderr",
     "output_type": "stream",
     "text": [
      "Masking regions: 100%|██████████| 1011/1011 [00:57<00:00, 17.60it/s]\n"
     ]
    },
    {
     "name": "stdout",
     "output_type": "stream",
     "text": [
      "[INFO] [save_pickle] Saved to /Users/abarnes/Dropbox/work/Smallprojects/galaxies/data_hstha_nebulae_catalogue/ngc1087/cutouts_fixediso/hdus_all_withmasked.pickel\n"
     ]
    },
    {
     "name": "stderr",
     "output_type": "stream",
     "text": [
      "Get sources:: 100%|██████████| 1011/1011 [00:22<00:00, 44.76it/s]\n"
     ]
    },
    {
     "name": "stdout",
     "output_type": "stream",
     "text": [
      "[INFO] [get_MuseProps] Getting MUSE catalouge properties for ngc1087...\n",
      "[CATALOGUE] Final properties table saved to: /Users/abarnes/Dropbox/work/Smallprojects/galaxies/data_hstha_nebulae_catalogue/ngc1087/catalogue_fixediso/props_all.fits\n"
     ]
    },
    {
     "name": "stderr",
     "output_type": "stream",
     "text": [
      "Masking regions: 100%|██████████| 1011/1011 [00:01<00:00, 825.93it/s]\n",
      "100%|██████████| 406/406 [00:09<00:00, 42.66it/s]\n"
     ]
    },
    {
     "name": "stdout",
     "output_type": "stream",
     "text": [
      "[CATALOGUE] Masks saved to /Users/abarnes/Dropbox/work/Smallprojects/galaxies/data_hstha_nebulae_catalogue/ngc1087/catalogue_fixediso/ngc1087_mask.fits and /Users/abarnes/Dropbox/work/Smallprojects/galaxies/data_hstha_nebulae_catalogue/ngc1087/catalogue_fixediso/ngc1087_complexity.fits...\n",
      "[CATALOGUE] DS9 regions output to /Users/abarnes/Dropbox/work/Smallprojects/galaxies/data_hstha_nebulae_catalogue/ngc1087/catalogue_fixediso/ngc1087_mask...\n",
      "[CATALOGUE] Done!\n",
      "[ASSOCIATIONS] Checking association files for galaxy ngc1087 ...\n",
      "Unpacking: /Users/abarnes/Dropbox/work/Smallprojects/galaxies/data_misc/multiscale_stellar_associations/ngc1087/vselect/ws8pc/PHANGS_IR4_hst_wfc3_ngc1087_v1p3_multi_assoc-vselect-ws8pc-idmask.fits.gz\n",
      "[INFO] Files found for v_08pc.\n",
      "Unpacking: /Users/abarnes/Dropbox/work/Smallprojects/galaxies/data_misc/multiscale_stellar_associations/ngc1087/vselect/ws16pc/PHANGS_IR4_hst_wfc3_ngc1087_v1p3_multi_assoc-vselect-ws16pc-idmask.fits.gz\n",
      "[INFO] Files found for v_16pc.\n",
      "Unpacking: /Users/abarnes/Dropbox/work/Smallprojects/galaxies/data_misc/multiscale_stellar_associations/ngc1087/vselect/ws32pc/PHANGS_IR4_hst_wfc3_ngc1087_v1p3_multi_assoc-vselect-ws32pc-idmask.fits.gz\n",
      "[INFO] Files found for v_32pc.\n",
      "Unpacking: /Users/abarnes/Dropbox/work/Smallprojects/galaxies/data_misc/multiscale_stellar_associations/ngc1087/vselect/ws64pc/PHANGS_IR4_hst_wfc3_ngc1087_v1p3_multi_assoc-vselect-ws64pc-idmask.fits.gz\n",
      "[INFO] Files found for v_64pc.\n",
      "Unpacking: /Users/abarnes/Dropbox/work/Smallprojects/galaxies/data_misc/multiscale_stellar_associations/ngc1087/nuvselect/ws8pc/PHANGS_IR4_hst_wfc3_ngc1087_v1p3_multi_assoc-nuvselect-ws8pc-idmask.fits.gz\n",
      "[INFO] Files found for nuv_08pc.\n",
      "Unpacking: /Users/abarnes/Dropbox/work/Smallprojects/galaxies/data_misc/multiscale_stellar_associations/ngc1087/nuvselect/ws16pc/PHANGS_IR4_hst_wfc3_ngc1087_v1p3_multi_assoc-nuvselect-ws16pc-idmask.fits.gz\n",
      "[INFO] Files found for nuv_16pc.\n",
      "Unpacking: /Users/abarnes/Dropbox/work/Smallprojects/galaxies/data_misc/multiscale_stellar_associations/ngc1087/nuvselect/ws32pc/PHANGS_IR4_hst_wfc3_ngc1087_v1p3_multi_assoc-nuvselect-ws32pc-idmask.fits.gz\n",
      "[INFO] Files found for nuv_32pc.\n",
      "Unpacking: /Users/abarnes/Dropbox/work/Smallprojects/galaxies/data_misc/multiscale_stellar_associations/ngc1087/nuvselect/ws64pc/PHANGS_IR4_hst_wfc3_ngc1087_v1p3_multi_assoc-nuvselect-ws64pc-idmask.fits.gz\n",
      "[INFO] Files found for nuv_64pc.\n",
      "[INFO] [load_pickle] Load /Users/abarnes/Dropbox/work/Smallprojects/galaxies/data_hstha_nebulae_catalogue/ngc1087/cutouts_fixediso/sample.pickel\n",
      "[ASSOCIATIONS] Generating new cutouts for association masks...\n"
     ]
    },
    {
     "name": "stderr",
     "output_type": "stream",
     "text": [
      "Cropping regions: 100%|██████████| 406/406 [00:01<00:00, 260.56it/s]\n"
     ]
    },
    {
     "name": "stdout",
     "output_type": "stream",
     "text": [
      "[INFO] [save_pickle] Saved to /Users/abarnes/Dropbox/work/Smallprojects/galaxies/data_hstha_nebulae_catalogue/ngc1087/cutouts_fixediso/hdus_catalog_mask_new.pickel\n"
     ]
    },
    {
     "name": "stderr",
     "output_type": "stream",
     "text": [
      "Cropping regions: 100%|██████████| 406/406 [00:01<00:00, 282.66it/s]\n"
     ]
    },
    {
     "name": "stdout",
     "output_type": "stream",
     "text": [
      "[INFO] [save_pickle] Saved to /Users/abarnes/Dropbox/work/Smallprojects/galaxies/data_hstha_nebulae_catalogue/ngc1087/cutouts_fixediso/hdus_association_mask_new_v_08pc.pickel\n"
     ]
    },
    {
     "name": "stderr",
     "output_type": "stream",
     "text": [
      "Cropping regions: 100%|██████████| 406/406 [00:01<00:00, 290.54it/s]\n"
     ]
    },
    {
     "name": "stdout",
     "output_type": "stream",
     "text": [
      "[INFO] [save_pickle] Saved to /Users/abarnes/Dropbox/work/Smallprojects/galaxies/data_hstha_nebulae_catalogue/ngc1087/cutouts_fixediso/hdus_association_mask_new_v_16pc.pickel\n"
     ]
    },
    {
     "name": "stderr",
     "output_type": "stream",
     "text": [
      "Cropping regions: 100%|██████████| 406/406 [00:01<00:00, 297.12it/s]\n"
     ]
    },
    {
     "name": "stdout",
     "output_type": "stream",
     "text": [
      "[INFO] [save_pickle] Saved to /Users/abarnes/Dropbox/work/Smallprojects/galaxies/data_hstha_nebulae_catalogue/ngc1087/cutouts_fixediso/hdus_association_mask_new_v_32pc.pickel\n"
     ]
    },
    {
     "name": "stderr",
     "output_type": "stream",
     "text": [
      "Cropping regions: 100%|██████████| 406/406 [00:01<00:00, 291.09it/s]\n"
     ]
    },
    {
     "name": "stdout",
     "output_type": "stream",
     "text": [
      "[INFO] [save_pickle] Saved to /Users/abarnes/Dropbox/work/Smallprojects/galaxies/data_hstha_nebulae_catalogue/ngc1087/cutouts_fixediso/hdus_association_mask_new_v_64pc.pickel\n"
     ]
    },
    {
     "name": "stderr",
     "output_type": "stream",
     "text": [
      "Cropping regions: 100%|██████████| 406/406 [00:01<00:00, 284.04it/s]\n"
     ]
    },
    {
     "name": "stdout",
     "output_type": "stream",
     "text": [
      "[INFO] [save_pickle] Saved to /Users/abarnes/Dropbox/work/Smallprojects/galaxies/data_hstha_nebulae_catalogue/ngc1087/cutouts_fixediso/hdus_association_mask_new_nuv_08pc.pickel\n"
     ]
    },
    {
     "name": "stderr",
     "output_type": "stream",
     "text": [
      "Cropping regions: 100%|██████████| 406/406 [00:01<00:00, 282.37it/s]\n"
     ]
    },
    {
     "name": "stdout",
     "output_type": "stream",
     "text": [
      "[INFO] [save_pickle] Saved to /Users/abarnes/Dropbox/work/Smallprojects/galaxies/data_hstha_nebulae_catalogue/ngc1087/cutouts_fixediso/hdus_association_mask_new_nuv_16pc.pickel\n"
     ]
    },
    {
     "name": "stderr",
     "output_type": "stream",
     "text": [
      "Cropping regions: 100%|██████████| 406/406 [00:01<00:00, 279.94it/s]\n"
     ]
    },
    {
     "name": "stdout",
     "output_type": "stream",
     "text": [
      "[INFO] [save_pickle] Saved to /Users/abarnes/Dropbox/work/Smallprojects/galaxies/data_hstha_nebulae_catalogue/ngc1087/cutouts_fixediso/hdus_association_mask_new_nuv_32pc.pickel\n"
     ]
    },
    {
     "name": "stderr",
     "output_type": "stream",
     "text": [
      "Cropping regions: 100%|██████████| 406/406 [00:01<00:00, 280.25it/s]\n"
     ]
    },
    {
     "name": "stdout",
     "output_type": "stream",
     "text": [
      "[INFO] [save_pickle] Saved to /Users/abarnes/Dropbox/work/Smallprojects/galaxies/data_hstha_nebulae_catalogue/ngc1087/cutouts_fixediso/hdus_association_mask_new_nuv_64pc.pickel\n"
     ]
    },
    {
     "name": "stderr",
     "output_type": "stream",
     "text": [
      "Match associations:: 100%|██████████| 406/406 [01:07<00:00,  5.97it/s]\n"
     ]
    },
    {
     "name": "stdout",
     "output_type": "stream",
     "text": [
      "[ASSOCIATIONS] Final association table saved to: /Users/abarnes/Dropbox/work/Smallprojects/galaxies/data_hstha_nebulae_catalogue/ngc1087/catalogue_fixediso/props_all_association.fits\n",
      "Cleaning: /Users/abarnes/Dropbox/work/Smallprojects/galaxies/data_misc/multiscale_stellar_associations/ngc1087/vselect/ws8pc/PHANGS_IR4_hst_wfc3_ngc1087_v1p3_multi_assoc-vselect-ws8pc-idmask.fits\n",
      "Cleaning: /Users/abarnes/Dropbox/work/Smallprojects/galaxies/data_misc/multiscale_stellar_associations/ngc1087/vselect/ws16pc/PHANGS_IR4_hst_wfc3_ngc1087_v1p3_multi_assoc-vselect-ws16pc-idmask.fits\n",
      "Cleaning: /Users/abarnes/Dropbox/work/Smallprojects/galaxies/data_misc/multiscale_stellar_associations/ngc1087/vselect/ws32pc/PHANGS_IR4_hst_wfc3_ngc1087_v1p3_multi_assoc-vselect-ws32pc-idmask.fits\n",
      "Cleaning: /Users/abarnes/Dropbox/work/Smallprojects/galaxies/data_misc/multiscale_stellar_associations/ngc1087/vselect/ws64pc/PHANGS_IR4_hst_wfc3_ngc1087_v1p3_multi_assoc-vselect-ws64pc-idmask.fits\n",
      "Cleaning: /Users/abarnes/Dropbox/work/Smallprojects/galaxies/data_misc/multiscale_stellar_associations/ngc1087/nuvselect/ws8pc/PHANGS_IR4_hst_wfc3_ngc1087_v1p3_multi_assoc-nuvselect-ws8pc-idmask.fits\n",
      "Cleaning: /Users/abarnes/Dropbox/work/Smallprojects/galaxies/data_misc/multiscale_stellar_associations/ngc1087/nuvselect/ws16pc/PHANGS_IR4_hst_wfc3_ngc1087_v1p3_multi_assoc-nuvselect-ws16pc-idmask.fits\n",
      "Cleaning: /Users/abarnes/Dropbox/work/Smallprojects/galaxies/data_misc/multiscale_stellar_associations/ngc1087/nuvselect/ws32pc/PHANGS_IR4_hst_wfc3_ngc1087_v1p3_multi_assoc-nuvselect-ws32pc-idmask.fits\n",
      "Cleaning: /Users/abarnes/Dropbox/work/Smallprojects/galaxies/data_misc/multiscale_stellar_associations/ngc1087/nuvselect/ws64pc/PHANGS_IR4_hst_wfc3_ngc1087_v1p3_multi_assoc-nuvselect-ws64pc-idmask.fits\n"
     ]
    },
    {
     "data": {
      "text/plain": [
       "45220"
      ]
     },
     "execution_count": 6,
     "metadata": {},
     "output_type": "execute_result"
    }
   ],
   "source": [
    "galaxyname = 'ngc1087'\n",
    "\n",
    "mycat = catalogue_pipeline.PyHSTHACat(galaxyname, output_dir_append='_fixediso')\n",
    "mycat.hstha_err = ISOTHRESHOLD\n",
    "mycat.rerun_all = True\n",
    "\n",
    "mycat.make_paths()\n",
    "mycat.load_files()\n",
    "mycat.get_regions()\n",
    "mycat.get_cutouts()\n",
    "mycat.make_catalogue()\n",
    "\n",
    "mycat.rerun_cutouts_associations = True\n",
    "mycat.make_associations()\n",
    "\n",
    "# To free memory\n",
    "del mycat \n",
    "gc.collect()"
   ]
  },
  {
   "cell_type": "code",
   "execution_count": 7,
   "metadata": {},
   "outputs": [
    {
     "name": "stdout",
     "output_type": "stream",
     "text": [
      "[Info] Outputting to the following:\n",
      "/Users/abarnes/Dropbox/work/Smallprojects/galaxies/data_hstha_nebulae_catalogue/ngc1300/\n",
      "[INFO] [get_MuseProps] Getting MUSE catalouge properties for ngc1300...\n",
      "[INFO] [get_galaxyprops] Getting sample table properties for ngc1300...\n",
      "[INFO] Generating new DS9 region file...\n",
      "[INFO] [get_regions] Opening regions file (this may take a min)... \n",
      "[INFO] [get_regions] Getting info for 1478 regions...\n",
      "[INFO] [save_pickle] Saved to /Users/abarnes/Dropbox/work/Smallprojects/galaxies/data_hstha_nebulae_catalogue/ngc1300/cutouts_fixediso/sample.pickel\n",
      "[INFO] Generating cutouts for hstha_hdu...\n"
     ]
    },
    {
     "name": "stderr",
     "output_type": "stream",
     "text": [
      "Cropping regions: 100%|██████████| 1478/1478 [00:06<00:00, 245.85it/s]\n"
     ]
    },
    {
     "name": "stdout",
     "output_type": "stream",
     "text": [
      "[INFO] [save_pickle] Saved to /Users/abarnes/Dropbox/work/Smallprojects/galaxies/data_hstha_nebulae_catalogue/ngc1300/cutouts_fixediso/hstha_hdu.pickel\n",
      "[INFO] Generating cutouts for musha_hdu...\n"
     ]
    },
    {
     "name": "stderr",
     "output_type": "stream",
     "text": [
      "Cropping regions: 100%|██████████| 1478/1478 [00:04<00:00, 336.86it/s]\n"
     ]
    },
    {
     "name": "stdout",
     "output_type": "stream",
     "text": [
      "[INFO] [save_pickle] Saved to /Users/abarnes/Dropbox/work/Smallprojects/galaxies/data_hstha_nebulae_catalogue/ngc1300/cutouts_fixediso/musha_hdu.pickel\n",
      "[INFO] Generating cutouts for muscat_hdu...\n"
     ]
    },
    {
     "name": "stderr",
     "output_type": "stream",
     "text": [
      "Cropping regions: 100%|██████████| 1478/1478 [00:05<00:00, 282.59it/s]\n"
     ]
    },
    {
     "name": "stdout",
     "output_type": "stream",
     "text": [
      "[INFO] [save_pickle] Saved to /Users/abarnes/Dropbox/work/Smallprojects/galaxies/data_hstha_nebulae_catalogue/ngc1300/cutouts_fixediso/muscat_hdu.pickel\n",
      "[INFO] [load_pickle] Load /Users/abarnes/Dropbox/work/Smallprojects/galaxies/data_hstha_nebulae_catalogue/ngc1300/cutouts_fixediso/hstha_hdu.pickel\n",
      "[INFO] [load_pickle] Load /Users/abarnes/Dropbox/work/Smallprojects/galaxies/data_hstha_nebulae_catalogue/ngc1300/cutouts_fixediso/musha_hdu.pickel\n",
      "[INFO] [load_pickle] Load /Users/abarnes/Dropbox/work/Smallprojects/galaxies/data_hstha_nebulae_catalogue/ngc1300/cutouts_fixediso/muscat_hdu.pickel\n",
      "[INFO] All HDU cutouts saved to /Users/abarnes/Dropbox/work/Smallprojects/galaxies/data_hstha_nebulae_catalogue/ngc1300/cutouts_fixediso/hdus_all.pickel\n",
      "[INFO] [save_pickle] Saved to /Users/abarnes/Dropbox/work/Smallprojects/galaxies/data_hstha_nebulae_catalogue/ngc1300/cutouts_fixediso/hdus_all.pickel\n",
      "[CATALOGUE] Running catalogue generation for: ngc1300\n",
      "[INFO] [get_maskedhdus] Getting HST maps masked by MUSE catalouge...\n"
     ]
    },
    {
     "name": "stderr",
     "output_type": "stream",
     "text": [
      "Masking regions: 100%|██████████| 1478/1478 [01:23<00:00, 17.60it/s]\n"
     ]
    },
    {
     "name": "stdout",
     "output_type": "stream",
     "text": [
      "[INFO] [save_pickle] Saved to /Users/abarnes/Dropbox/work/Smallprojects/galaxies/data_hstha_nebulae_catalogue/ngc1300/cutouts_fixediso/hdus_all_withmasked.pickel\n"
     ]
    },
    {
     "name": "stderr",
     "output_type": "stream",
     "text": [
      "Get sources:: 100%|██████████| 1478/1478 [00:10<00:00, 136.10it/s]\n"
     ]
    },
    {
     "name": "stdout",
     "output_type": "stream",
     "text": [
      "[INFO] [get_MuseProps] Getting MUSE catalouge properties for ngc1300...\n",
      "[CATALOGUE] Final properties table saved to: /Users/abarnes/Dropbox/work/Smallprojects/galaxies/data_hstha_nebulae_catalogue/ngc1300/catalogue_fixediso/props_all.fits\n"
     ]
    },
    {
     "name": "stderr",
     "output_type": "stream",
     "text": [
      "Masking regions: 100%|██████████| 1478/1478 [00:00<00:00, 1804.54it/s]\n",
      "100%|██████████| 252/252 [00:18<00:00, 13.69it/s]\n"
     ]
    },
    {
     "name": "stdout",
     "output_type": "stream",
     "text": [
      "[CATALOGUE] Masks saved to /Users/abarnes/Dropbox/work/Smallprojects/galaxies/data_hstha_nebulae_catalogue/ngc1300/catalogue_fixediso/ngc1300_mask.fits and /Users/abarnes/Dropbox/work/Smallprojects/galaxies/data_hstha_nebulae_catalogue/ngc1300/catalogue_fixediso/ngc1300_complexity.fits...\n",
      "[CATALOGUE] DS9 regions output to /Users/abarnes/Dropbox/work/Smallprojects/galaxies/data_hstha_nebulae_catalogue/ngc1300/catalogue_fixediso/ngc1300_mask...\n",
      "[CATALOGUE] Done!\n",
      "[ASSOCIATIONS] Checking association files for galaxy ngc1300 ...\n",
      "File not found: /Users/abarnes/Dropbox/work/Smallprojects/galaxies/data_misc/multiscale_stellar_associations/ngc1300/vselect/ws8pc/PHANGS_IR4_hst_wfc3_ngc1300_v1p3_multi_assoc-vselect-ws8pc-idmask.fits\n",
      "[WARNING] Files missing for v_08pc. Skipping.\n",
      "Unpacking: /Users/abarnes/Dropbox/work/Smallprojects/galaxies/data_misc/multiscale_stellar_associations/ngc1300/vselect/ws16pc/PHANGS_IR4_hst_wfc3_ngc1300_v1p3_multi_assoc-vselect-ws16pc-idmask.fits.gz\n",
      "[INFO] Files found for v_16pc.\n",
      "Unpacking: /Users/abarnes/Dropbox/work/Smallprojects/galaxies/data_misc/multiscale_stellar_associations/ngc1300/vselect/ws32pc/PHANGS_IR4_hst_wfc3_ngc1300_v1p3_multi_assoc-vselect-ws32pc-idmask.fits.gz\n",
      "[INFO] Files found for v_32pc.\n",
      "Unpacking: /Users/abarnes/Dropbox/work/Smallprojects/galaxies/data_misc/multiscale_stellar_associations/ngc1300/vselect/ws64pc/PHANGS_IR4_hst_wfc3_ngc1300_v1p3_multi_assoc-vselect-ws64pc-idmask.fits.gz\n",
      "[INFO] Files found for v_64pc.\n",
      "File not found: /Users/abarnes/Dropbox/work/Smallprojects/galaxies/data_misc/multiscale_stellar_associations/ngc1300/nuvselect/ws8pc/PHANGS_IR4_hst_wfc3_ngc1300_v1p3_multi_assoc-nuvselect-ws8pc-idmask.fits\n",
      "[WARNING] Files missing for nuv_08pc. Skipping.\n",
      "Unpacking: /Users/abarnes/Dropbox/work/Smallprojects/galaxies/data_misc/multiscale_stellar_associations/ngc1300/nuvselect/ws16pc/PHANGS_IR4_hst_wfc3_ngc1300_v1p3_multi_assoc-nuvselect-ws16pc-idmask.fits.gz\n",
      "[INFO] Files found for nuv_16pc.\n",
      "Unpacking: /Users/abarnes/Dropbox/work/Smallprojects/galaxies/data_misc/multiscale_stellar_associations/ngc1300/nuvselect/ws32pc/PHANGS_IR4_hst_wfc3_ngc1300_v1p3_multi_assoc-nuvselect-ws32pc-idmask.fits.gz\n",
      "[INFO] Files found for nuv_32pc.\n",
      "Unpacking: /Users/abarnes/Dropbox/work/Smallprojects/galaxies/data_misc/multiscale_stellar_associations/ngc1300/nuvselect/ws64pc/PHANGS_IR4_hst_wfc3_ngc1300_v1p3_multi_assoc-nuvselect-ws64pc-idmask.fits.gz\n",
      "[INFO] Files found for nuv_64pc.\n",
      "[INFO] [load_pickle] Load /Users/abarnes/Dropbox/work/Smallprojects/galaxies/data_hstha_nebulae_catalogue/ngc1300/cutouts_fixediso/sample.pickel\n",
      "[ASSOCIATIONS] Generating new cutouts for association masks...\n"
     ]
    },
    {
     "name": "stderr",
     "output_type": "stream",
     "text": [
      "Cropping regions: 100%|██████████| 252/252 [00:01<00:00, 224.20it/s]\n"
     ]
    },
    {
     "name": "stdout",
     "output_type": "stream",
     "text": [
      "[INFO] [save_pickle] Saved to /Users/abarnes/Dropbox/work/Smallprojects/galaxies/data_hstha_nebulae_catalogue/ngc1300/cutouts_fixediso/hdus_catalog_mask_new.pickel\n"
     ]
    },
    {
     "name": "stderr",
     "output_type": "stream",
     "text": [
      "Cropping regions: 100%|██████████| 252/252 [00:01<00:00, 210.17it/s]\n"
     ]
    },
    {
     "name": "stdout",
     "output_type": "stream",
     "text": [
      "[INFO] [save_pickle] Saved to /Users/abarnes/Dropbox/work/Smallprojects/galaxies/data_hstha_nebulae_catalogue/ngc1300/cutouts_fixediso/hdus_association_mask_new_v_16pc.pickel\n"
     ]
    },
    {
     "name": "stderr",
     "output_type": "stream",
     "text": [
      "Cropping regions: 100%|██████████| 252/252 [00:01<00:00, 237.56it/s]\n"
     ]
    },
    {
     "name": "stdout",
     "output_type": "stream",
     "text": [
      "[INFO] [save_pickle] Saved to /Users/abarnes/Dropbox/work/Smallprojects/galaxies/data_hstha_nebulae_catalogue/ngc1300/cutouts_fixediso/hdus_association_mask_new_v_32pc.pickel\n"
     ]
    },
    {
     "name": "stderr",
     "output_type": "stream",
     "text": [
      "Cropping regions: 100%|██████████| 252/252 [00:01<00:00, 235.32it/s]\n"
     ]
    },
    {
     "name": "stdout",
     "output_type": "stream",
     "text": [
      "[INFO] [save_pickle] Saved to /Users/abarnes/Dropbox/work/Smallprojects/galaxies/data_hstha_nebulae_catalogue/ngc1300/cutouts_fixediso/hdus_association_mask_new_v_64pc.pickel\n"
     ]
    },
    {
     "name": "stderr",
     "output_type": "stream",
     "text": [
      "Cropping regions: 100%|██████████| 252/252 [00:00<00:00, 275.09it/s]\n"
     ]
    },
    {
     "name": "stdout",
     "output_type": "stream",
     "text": [
      "[INFO] [save_pickle] Saved to /Users/abarnes/Dropbox/work/Smallprojects/galaxies/data_hstha_nebulae_catalogue/ngc1300/cutouts_fixediso/hdus_association_mask_new_nuv_16pc.pickel\n"
     ]
    },
    {
     "name": "stderr",
     "output_type": "stream",
     "text": [
      "Cropping regions: 100%|██████████| 252/252 [00:00<00:00, 272.12it/s]\n"
     ]
    },
    {
     "name": "stdout",
     "output_type": "stream",
     "text": [
      "[INFO] [save_pickle] Saved to /Users/abarnes/Dropbox/work/Smallprojects/galaxies/data_hstha_nebulae_catalogue/ngc1300/cutouts_fixediso/hdus_association_mask_new_nuv_32pc.pickel\n"
     ]
    },
    {
     "name": "stderr",
     "output_type": "stream",
     "text": [
      "Cropping regions: 100%|██████████| 252/252 [00:00<00:00, 279.76it/s]\n"
     ]
    },
    {
     "name": "stdout",
     "output_type": "stream",
     "text": [
      "[INFO] [save_pickle] Saved to /Users/abarnes/Dropbox/work/Smallprojects/galaxies/data_hstha_nebulae_catalogue/ngc1300/cutouts_fixediso/hdus_association_mask_new_nuv_64pc.pickel\n"
     ]
    },
    {
     "name": "stderr",
     "output_type": "stream",
     "text": [
      "Match associations:: 100%|██████████| 252/252 [00:22<00:00, 11.41it/s]\n"
     ]
    },
    {
     "name": "stdout",
     "output_type": "stream",
     "text": [
      "[ASSOCIATIONS] Final association table saved to: /Users/abarnes/Dropbox/work/Smallprojects/galaxies/data_hstha_nebulae_catalogue/ngc1300/catalogue_fixediso/props_all_association.fits\n",
      "Cleaning: /Users/abarnes/Dropbox/work/Smallprojects/galaxies/data_misc/multiscale_stellar_associations/ngc1300/vselect/ws16pc/PHANGS_IR4_hst_wfc3_ngc1300_v1p3_multi_assoc-vselect-ws16pc-idmask.fits\n",
      "Cleaning: /Users/abarnes/Dropbox/work/Smallprojects/galaxies/data_misc/multiscale_stellar_associations/ngc1300/vselect/ws32pc/PHANGS_IR4_hst_wfc3_ngc1300_v1p3_multi_assoc-vselect-ws32pc-idmask.fits\n",
      "Cleaning: /Users/abarnes/Dropbox/work/Smallprojects/galaxies/data_misc/multiscale_stellar_associations/ngc1300/vselect/ws64pc/PHANGS_IR4_hst_wfc3_ngc1300_v1p3_multi_assoc-vselect-ws64pc-idmask.fits\n",
      "Cleaning: /Users/abarnes/Dropbox/work/Smallprojects/galaxies/data_misc/multiscale_stellar_associations/ngc1300/nuvselect/ws16pc/PHANGS_IR4_hst_wfc3_ngc1300_v1p3_multi_assoc-nuvselect-ws16pc-idmask.fits\n",
      "Cleaning: /Users/abarnes/Dropbox/work/Smallprojects/galaxies/data_misc/multiscale_stellar_associations/ngc1300/nuvselect/ws32pc/PHANGS_IR4_hst_wfc3_ngc1300_v1p3_multi_assoc-nuvselect-ws32pc-idmask.fits\n",
      "Cleaning: /Users/abarnes/Dropbox/work/Smallprojects/galaxies/data_misc/multiscale_stellar_associations/ngc1300/nuvselect/ws64pc/PHANGS_IR4_hst_wfc3_ngc1300_v1p3_multi_assoc-nuvselect-ws64pc-idmask.fits\n"
     ]
    },
    {
     "data": {
      "text/plain": [
       "27009"
      ]
     },
     "execution_count": 7,
     "metadata": {},
     "output_type": "execute_result"
    }
   ],
   "source": [
    "galaxyname = 'ngc1300'\n",
    "\n",
    "mycat = catalogue_pipeline.PyHSTHACat(galaxyname, output_dir_append='_fixediso')\n",
    "mycat.hstha_err = ISOTHRESHOLD\n",
    "mycat.rerun_all = True\n",
    "\n",
    "mycat.make_paths()\n",
    "mycat.load_files()\n",
    "mycat.get_regions()\n",
    "mycat.get_cutouts()\n",
    "mycat.make_catalogue()\n",
    "\n",
    "mycat.rerun_cutouts_associations = True\n",
    "mycat.make_associations()\n",
    "\n",
    "# To free memory\n",
    "del mycat \n",
    "gc.collect()"
   ]
  },
  {
   "cell_type": "code",
   "execution_count": 8,
   "metadata": {},
   "outputs": [
    {
     "name": "stdout",
     "output_type": "stream",
     "text": [
      "[Info] Outputting to the following:\n",
      "/Users/abarnes/Dropbox/work/Smallprojects/galaxies/data_hstha_nebulae_catalogue/ngc1365n/\n",
      "[INFO] [get_MuseProps] Getting MUSE catalouge properties for ngc1365...\n",
      "[INFO] [get_galaxyprops] Getting sample table properties for ngc1365...\n",
      "[INFO] Generating new DS9 region file...\n",
      "[INFO] [get_regions] Opening regions file (this may take a min)... \n",
      "[INFO] [get_regions] Getting info for 1455 regions...\n",
      "[INFO] [save_pickle] Saved to /Users/abarnes/Dropbox/work/Smallprojects/galaxies/data_hstha_nebulae_catalogue/ngc1365n/cutouts_fixediso/sample.pickel\n",
      "[INFO] Generating cutouts for hstha_hdu...\n"
     ]
    },
    {
     "name": "stderr",
     "output_type": "stream",
     "text": [
      "Cropping regions: 100%|██████████| 1455/1455 [00:04<00:00, 294.50it/s]\n"
     ]
    },
    {
     "name": "stdout",
     "output_type": "stream",
     "text": [
      "[INFO] [save_pickle] Saved to /Users/abarnes/Dropbox/work/Smallprojects/galaxies/data_hstha_nebulae_catalogue/ngc1365n/cutouts_fixediso/hstha_hdu.pickel\n",
      "[INFO] Generating cutouts for musha_hdu...\n"
     ]
    },
    {
     "name": "stderr",
     "output_type": "stream",
     "text": [
      "Cropping regions: 100%|██████████| 1455/1455 [00:04<00:00, 328.01it/s]\n"
     ]
    },
    {
     "name": "stdout",
     "output_type": "stream",
     "text": [
      "[INFO] [save_pickle] Saved to /Users/abarnes/Dropbox/work/Smallprojects/galaxies/data_hstha_nebulae_catalogue/ngc1365n/cutouts_fixediso/musha_hdu.pickel\n",
      "[INFO] Generating cutouts for muscat_hdu...\n"
     ]
    },
    {
     "name": "stderr",
     "output_type": "stream",
     "text": [
      "Cropping regions: 100%|██████████| 1455/1455 [00:04<00:00, 317.73it/s]\n"
     ]
    },
    {
     "name": "stdout",
     "output_type": "stream",
     "text": [
      "[INFO] [save_pickle] Saved to /Users/abarnes/Dropbox/work/Smallprojects/galaxies/data_hstha_nebulae_catalogue/ngc1365n/cutouts_fixediso/muscat_hdu.pickel\n",
      "[INFO] [load_pickle] Load /Users/abarnes/Dropbox/work/Smallprojects/galaxies/data_hstha_nebulae_catalogue/ngc1365n/cutouts_fixediso/hstha_hdu.pickel\n",
      "[INFO] [load_pickle] Load /Users/abarnes/Dropbox/work/Smallprojects/galaxies/data_hstha_nebulae_catalogue/ngc1365n/cutouts_fixediso/musha_hdu.pickel\n",
      "[INFO] [load_pickle] Load /Users/abarnes/Dropbox/work/Smallprojects/galaxies/data_hstha_nebulae_catalogue/ngc1365n/cutouts_fixediso/muscat_hdu.pickel\n",
      "[INFO] All HDU cutouts saved to /Users/abarnes/Dropbox/work/Smallprojects/galaxies/data_hstha_nebulae_catalogue/ngc1365n/cutouts_fixediso/hdus_all.pickel\n",
      "[INFO] [save_pickle] Saved to /Users/abarnes/Dropbox/work/Smallprojects/galaxies/data_hstha_nebulae_catalogue/ngc1365n/cutouts_fixediso/hdus_all.pickel\n",
      "[CATALOGUE] Running catalogue generation for: ngc1365\n",
      "[INFO] [get_maskedhdus] Getting HST maps masked by MUSE catalouge...\n"
     ]
    },
    {
     "name": "stderr",
     "output_type": "stream",
     "text": [
      "Masking regions: 100%|██████████| 1455/1455 [01:22<00:00, 17.59it/s]\n"
     ]
    },
    {
     "name": "stdout",
     "output_type": "stream",
     "text": [
      "[INFO] [save_pickle] Saved to /Users/abarnes/Dropbox/work/Smallprojects/galaxies/data_hstha_nebulae_catalogue/ngc1365n/cutouts_fixediso/hdus_all_withmasked.pickel\n"
     ]
    },
    {
     "name": "stderr",
     "output_type": "stream",
     "text": [
      "Get sources:: 100%|██████████| 1455/1455 [00:22<00:00, 63.40it/s] \n"
     ]
    },
    {
     "name": "stdout",
     "output_type": "stream",
     "text": [
      "[INFO] [get_MuseProps] Getting MUSE catalouge properties for ngc1365...\n",
      "[CATALOGUE] Final properties table saved to: /Users/abarnes/Dropbox/work/Smallprojects/galaxies/data_hstha_nebulae_catalogue/ngc1365n/catalogue_fixediso/props_all.fits\n"
     ]
    },
    {
     "name": "stderr",
     "output_type": "stream",
     "text": [
      "Masking regions: 100%|██████████| 1455/1455 [00:00<00:00, 1897.42it/s]\n",
      "100%|██████████| 267/267 [00:04<00:00, 53.45it/s]\n"
     ]
    },
    {
     "name": "stdout",
     "output_type": "stream",
     "text": [
      "[CATALOGUE] Masks saved to /Users/abarnes/Dropbox/work/Smallprojects/galaxies/data_hstha_nebulae_catalogue/ngc1365n/catalogue_fixediso/ngc1365_mask.fits and /Users/abarnes/Dropbox/work/Smallprojects/galaxies/data_hstha_nebulae_catalogue/ngc1365n/catalogue_fixediso/ngc1365_complexity.fits...\n",
      "[CATALOGUE] DS9 regions output to /Users/abarnes/Dropbox/work/Smallprojects/galaxies/data_hstha_nebulae_catalogue/ngc1365n/catalogue_fixediso/ngc1365_mask...\n",
      "[CATALOGUE] Done!\n",
      "[ASSOCIATIONS] Checking association files for galaxy ngc1365 ...\n",
      "File not found: /Users/abarnes/Dropbox/work/Smallprojects/galaxies/data_misc/multiscale_stellar_associations/ngc1365/vselect/ws8pc/PHANGS_IR4_hst_wfc3_ngc1365_v1p3_multi_assoc-vselect-ws8pc-idmask.fits\n",
      "[WARNING] Files missing for v_08pc. Skipping.\n",
      "Unpacking: /Users/abarnes/Dropbox/work/Smallprojects/galaxies/data_misc/multiscale_stellar_associations/ngc1365/vselect/ws16pc/PHANGS_IR4_hst_wfc3_ngc1365_v1p3_multi_assoc-vselect-ws16pc-idmask.fits.gz\n",
      "[INFO] Files found for v_16pc.\n",
      "Unpacking: /Users/abarnes/Dropbox/work/Smallprojects/galaxies/data_misc/multiscale_stellar_associations/ngc1365/vselect/ws32pc/PHANGS_IR4_hst_wfc3_ngc1365_v1p3_multi_assoc-vselect-ws32pc-idmask.fits.gz\n",
      "[INFO] Files found for v_32pc.\n",
      "Unpacking: /Users/abarnes/Dropbox/work/Smallprojects/galaxies/data_misc/multiscale_stellar_associations/ngc1365/vselect/ws64pc/PHANGS_IR4_hst_wfc3_ngc1365_v1p3_multi_assoc-vselect-ws64pc-idmask.fits.gz\n",
      "[INFO] Files found for v_64pc.\n",
      "File not found: /Users/abarnes/Dropbox/work/Smallprojects/galaxies/data_misc/multiscale_stellar_associations/ngc1365/nuvselect/ws8pc/PHANGS_IR4_hst_wfc3_ngc1365_v1p3_multi_assoc-nuvselect-ws8pc-idmask.fits\n",
      "[WARNING] Files missing for nuv_08pc. Skipping.\n",
      "Unpacking: /Users/abarnes/Dropbox/work/Smallprojects/galaxies/data_misc/multiscale_stellar_associations/ngc1365/nuvselect/ws16pc/PHANGS_IR4_hst_wfc3_ngc1365_v1p3_multi_assoc-nuvselect-ws16pc-idmask.fits.gz\n",
      "[INFO] Files found for nuv_16pc.\n",
      "Unpacking: /Users/abarnes/Dropbox/work/Smallprojects/galaxies/data_misc/multiscale_stellar_associations/ngc1365/nuvselect/ws32pc/PHANGS_IR4_hst_wfc3_ngc1365_v1p3_multi_assoc-nuvselect-ws32pc-idmask.fits.gz\n",
      "[INFO] Files found for nuv_32pc.\n",
      "Unpacking: /Users/abarnes/Dropbox/work/Smallprojects/galaxies/data_misc/multiscale_stellar_associations/ngc1365/nuvselect/ws64pc/PHANGS_IR4_hst_wfc3_ngc1365_v1p3_multi_assoc-nuvselect-ws64pc-idmask.fits.gz\n",
      "[INFO] Files found for nuv_64pc.\n",
      "[INFO] [load_pickle] Load /Users/abarnes/Dropbox/work/Smallprojects/galaxies/data_hstha_nebulae_catalogue/ngc1365n/cutouts_fixediso/sample.pickel\n",
      "[ASSOCIATIONS] Generating new cutouts for association masks...\n"
     ]
    },
    {
     "name": "stderr",
     "output_type": "stream",
     "text": [
      "Cropping regions: 100%|██████████| 267/267 [00:00<00:00, 287.37it/s]\n"
     ]
    },
    {
     "name": "stdout",
     "output_type": "stream",
     "text": [
      "[INFO] [save_pickle] Saved to /Users/abarnes/Dropbox/work/Smallprojects/galaxies/data_hstha_nebulae_catalogue/ngc1365n/cutouts_fixediso/hdus_catalog_mask_new.pickel\n"
     ]
    },
    {
     "name": "stderr",
     "output_type": "stream",
     "text": [
      "Cropping regions: 100%|██████████| 267/267 [00:00<00:00, 270.16it/s]\n"
     ]
    },
    {
     "name": "stdout",
     "output_type": "stream",
     "text": [
      "[INFO] [save_pickle] Saved to /Users/abarnes/Dropbox/work/Smallprojects/galaxies/data_hstha_nebulae_catalogue/ngc1365n/cutouts_fixediso/hdus_association_mask_new_v_16pc.pickel\n"
     ]
    },
    {
     "name": "stderr",
     "output_type": "stream",
     "text": [
      "Cropping regions: 100%|██████████| 267/267 [00:00<00:00, 280.01it/s]\n"
     ]
    },
    {
     "name": "stdout",
     "output_type": "stream",
     "text": [
      "[INFO] [save_pickle] Saved to /Users/abarnes/Dropbox/work/Smallprojects/galaxies/data_hstha_nebulae_catalogue/ngc1365n/cutouts_fixediso/hdus_association_mask_new_v_32pc.pickel\n"
     ]
    },
    {
     "name": "stderr",
     "output_type": "stream",
     "text": [
      "Cropping regions: 100%|██████████| 267/267 [00:01<00:00, 241.22it/s]\n"
     ]
    },
    {
     "name": "stdout",
     "output_type": "stream",
     "text": [
      "[INFO] [save_pickle] Saved to /Users/abarnes/Dropbox/work/Smallprojects/galaxies/data_hstha_nebulae_catalogue/ngc1365n/cutouts_fixediso/hdus_association_mask_new_v_64pc.pickel\n"
     ]
    },
    {
     "name": "stderr",
     "output_type": "stream",
     "text": [
      "Cropping regions: 100%|██████████| 267/267 [00:00<00:00, 280.93it/s]\n"
     ]
    },
    {
     "name": "stdout",
     "output_type": "stream",
     "text": [
      "[INFO] [save_pickle] Saved to /Users/abarnes/Dropbox/work/Smallprojects/galaxies/data_hstha_nebulae_catalogue/ngc1365n/cutouts_fixediso/hdus_association_mask_new_nuv_16pc.pickel\n"
     ]
    },
    {
     "name": "stderr",
     "output_type": "stream",
     "text": [
      "Cropping regions: 100%|██████████| 267/267 [00:00<00:00, 277.22it/s]\n"
     ]
    },
    {
     "name": "stdout",
     "output_type": "stream",
     "text": [
      "[INFO] [save_pickle] Saved to /Users/abarnes/Dropbox/work/Smallprojects/galaxies/data_hstha_nebulae_catalogue/ngc1365n/cutouts_fixediso/hdus_association_mask_new_nuv_32pc.pickel\n"
     ]
    },
    {
     "name": "stderr",
     "output_type": "stream",
     "text": [
      "Cropping regions: 100%|██████████| 267/267 [00:00<00:00, 279.18it/s]\n"
     ]
    },
    {
     "name": "stdout",
     "output_type": "stream",
     "text": [
      "[INFO] [save_pickle] Saved to /Users/abarnes/Dropbox/work/Smallprojects/galaxies/data_hstha_nebulae_catalogue/ngc1365n/cutouts_fixediso/hdus_association_mask_new_nuv_64pc.pickel\n"
     ]
    },
    {
     "name": "stderr",
     "output_type": "stream",
     "text": [
      "Match associations:: 100%|██████████| 267/267 [00:26<00:00, 10.26it/s]\n"
     ]
    },
    {
     "name": "stdout",
     "output_type": "stream",
     "text": [
      "[ASSOCIATIONS] Final association table saved to: /Users/abarnes/Dropbox/work/Smallprojects/galaxies/data_hstha_nebulae_catalogue/ngc1365n/catalogue_fixediso/props_all_association.fits\n",
      "Cleaning: /Users/abarnes/Dropbox/work/Smallprojects/galaxies/data_misc/multiscale_stellar_associations/ngc1365/vselect/ws16pc/PHANGS_IR4_hst_wfc3_ngc1365_v1p3_multi_assoc-vselect-ws16pc-idmask.fits\n",
      "Cleaning: /Users/abarnes/Dropbox/work/Smallprojects/galaxies/data_misc/multiscale_stellar_associations/ngc1365/vselect/ws32pc/PHANGS_IR4_hst_wfc3_ngc1365_v1p3_multi_assoc-vselect-ws32pc-idmask.fits\n",
      "Cleaning: /Users/abarnes/Dropbox/work/Smallprojects/galaxies/data_misc/multiscale_stellar_associations/ngc1365/vselect/ws64pc/PHANGS_IR4_hst_wfc3_ngc1365_v1p3_multi_assoc-vselect-ws64pc-idmask.fits\n",
      "Cleaning: /Users/abarnes/Dropbox/work/Smallprojects/galaxies/data_misc/multiscale_stellar_associations/ngc1365/nuvselect/ws16pc/PHANGS_IR4_hst_wfc3_ngc1365_v1p3_multi_assoc-nuvselect-ws16pc-idmask.fits\n",
      "Cleaning: /Users/abarnes/Dropbox/work/Smallprojects/galaxies/data_misc/multiscale_stellar_associations/ngc1365/nuvselect/ws32pc/PHANGS_IR4_hst_wfc3_ngc1365_v1p3_multi_assoc-nuvselect-ws32pc-idmask.fits\n",
      "Cleaning: /Users/abarnes/Dropbox/work/Smallprojects/galaxies/data_misc/multiscale_stellar_associations/ngc1365/nuvselect/ws64pc/PHANGS_IR4_hst_wfc3_ngc1365_v1p3_multi_assoc-nuvselect-ws64pc-idmask.fits\n"
     ]
    },
    {
     "data": {
      "text/plain": [
       "45830"
      ]
     },
     "execution_count": 8,
     "metadata": {},
     "output_type": "execute_result"
    }
   ],
   "source": [
    "galaxyname = 'ngc1365'\n",
    "galaxyname_hst = 'ngc1365n'\n",
    "\n",
    "mycat = catalogue_pipeline.PyHSTHACat(galaxyname, galaxyname_hst, output_dir_append='_fixediso')\n",
    "mycat.hstha_err = ISOTHRESHOLD\n",
    "mycat.rerun_all = True\n",
    "\n",
    "mycat.make_paths()\n",
    "mycat.load_files()\n",
    "mycat.get_regions()\n",
    "mycat.get_cutouts()\n",
    "mycat.make_catalogue()\n",
    "\n",
    "mycat.rerun_cutouts_associations = True\n",
    "mycat.make_associations()\n",
    "\n",
    "# To free memory\n",
    "del mycat \n",
    "gc.collect()"
   ]
  },
  {
   "cell_type": "code",
   "execution_count": 9,
   "metadata": {},
   "outputs": [
    {
     "name": "stdout",
     "output_type": "stream",
     "text": [
      "[Info] Outputting to the following:\n",
      "/Users/abarnes/Dropbox/work/Smallprojects/galaxies/data_hstha_nebulae_catalogue/ngc1385/\n",
      "[INFO] [get_MuseProps] Getting MUSE catalouge properties for ngc1385...\n",
      "[INFO] [get_galaxyprops] Getting sample table properties for ngc1385...\n",
      "[INFO] Generating new DS9 region file...\n",
      "[INFO] [get_regions] Opening regions file (this may take a min)... \n",
      "[INFO] [get_regions] Getting info for 1029 regions...\n",
      "[INFO] [save_pickle] Saved to /Users/abarnes/Dropbox/work/Smallprojects/galaxies/data_hstha_nebulae_catalogue/ngc1385/cutouts_fixediso/sample.pickel\n",
      "[INFO] Generating cutouts for hstha_hdu...\n"
     ]
    },
    {
     "name": "stderr",
     "output_type": "stream",
     "text": [
      "Cropping regions: 100%|██████████| 1029/1029 [00:03<00:00, 270.09it/s]\n"
     ]
    },
    {
     "name": "stdout",
     "output_type": "stream",
     "text": [
      "[INFO] [save_pickle] Saved to /Users/abarnes/Dropbox/work/Smallprojects/galaxies/data_hstha_nebulae_catalogue/ngc1385/cutouts_fixediso/hstha_hdu.pickel\n",
      "[INFO] Generating cutouts for musha_hdu...\n"
     ]
    },
    {
     "name": "stderr",
     "output_type": "stream",
     "text": [
      "Cropping regions: 100%|██████████| 1029/1029 [00:02<00:00, 345.97it/s]\n"
     ]
    },
    {
     "name": "stdout",
     "output_type": "stream",
     "text": [
      "[INFO] [save_pickle] Saved to /Users/abarnes/Dropbox/work/Smallprojects/galaxies/data_hstha_nebulae_catalogue/ngc1385/cutouts_fixediso/musha_hdu.pickel\n",
      "[INFO] Generating cutouts for muscat_hdu...\n"
     ]
    },
    {
     "name": "stderr",
     "output_type": "stream",
     "text": [
      "Cropping regions: 100%|██████████| 1029/1029 [00:03<00:00, 323.58it/s]\n"
     ]
    },
    {
     "name": "stdout",
     "output_type": "stream",
     "text": [
      "[INFO] [save_pickle] Saved to /Users/abarnes/Dropbox/work/Smallprojects/galaxies/data_hstha_nebulae_catalogue/ngc1385/cutouts_fixediso/muscat_hdu.pickel\n",
      "[INFO] [load_pickle] Load /Users/abarnes/Dropbox/work/Smallprojects/galaxies/data_hstha_nebulae_catalogue/ngc1385/cutouts_fixediso/hstha_hdu.pickel\n",
      "[INFO] [load_pickle] Load /Users/abarnes/Dropbox/work/Smallprojects/galaxies/data_hstha_nebulae_catalogue/ngc1385/cutouts_fixediso/musha_hdu.pickel\n",
      "[INFO] [load_pickle] Load /Users/abarnes/Dropbox/work/Smallprojects/galaxies/data_hstha_nebulae_catalogue/ngc1385/cutouts_fixediso/muscat_hdu.pickel\n",
      "[INFO] All HDU cutouts saved to /Users/abarnes/Dropbox/work/Smallprojects/galaxies/data_hstha_nebulae_catalogue/ngc1385/cutouts_fixediso/hdus_all.pickel\n",
      "[INFO] [save_pickle] Saved to /Users/abarnes/Dropbox/work/Smallprojects/galaxies/data_hstha_nebulae_catalogue/ngc1385/cutouts_fixediso/hdus_all.pickel\n",
      "[CATALOGUE] Running catalogue generation for: ngc1385\n",
      "[INFO] [get_maskedhdus] Getting HST maps masked by MUSE catalouge...\n"
     ]
    },
    {
     "name": "stderr",
     "output_type": "stream",
     "text": [
      "Masking regions: 100%|██████████| 1029/1029 [00:54<00:00, 18.80it/s]\n"
     ]
    },
    {
     "name": "stdout",
     "output_type": "stream",
     "text": [
      "[INFO] [save_pickle] Saved to /Users/abarnes/Dropbox/work/Smallprojects/galaxies/data_hstha_nebulae_catalogue/ngc1385/cutouts_fixediso/hdus_all_withmasked.pickel\n"
     ]
    },
    {
     "name": "stderr",
     "output_type": "stream",
     "text": [
      "Get sources:: 100%|██████████| 1029/1029 [00:26<00:00, 38.97it/s]\n"
     ]
    },
    {
     "name": "stdout",
     "output_type": "stream",
     "text": [
      "[INFO] [get_MuseProps] Getting MUSE catalouge properties for ngc1385...\n",
      "[CATALOGUE] Final properties table saved to: /Users/abarnes/Dropbox/work/Smallprojects/galaxies/data_hstha_nebulae_catalogue/ngc1385/catalogue_fixediso/props_all.fits\n"
     ]
    },
    {
     "name": "stderr",
     "output_type": "stream",
     "text": [
      "Masking regions: 100%|██████████| 1029/1029 [00:01<00:00, 859.67it/s]\n",
      "100%|██████████| 408/408 [00:06<00:00, 60.91it/s]\n"
     ]
    },
    {
     "name": "stdout",
     "output_type": "stream",
     "text": [
      "[CATALOGUE] Masks saved to /Users/abarnes/Dropbox/work/Smallprojects/galaxies/data_hstha_nebulae_catalogue/ngc1385/catalogue_fixediso/ngc1385_mask.fits and /Users/abarnes/Dropbox/work/Smallprojects/galaxies/data_hstha_nebulae_catalogue/ngc1385/catalogue_fixediso/ngc1385_complexity.fits...\n",
      "[CATALOGUE] DS9 regions output to /Users/abarnes/Dropbox/work/Smallprojects/galaxies/data_hstha_nebulae_catalogue/ngc1385/catalogue_fixediso/ngc1385_mask...\n",
      "[CATALOGUE] Done!\n",
      "[ASSOCIATIONS] Checking association files for galaxy ngc1385 ...\n",
      "File not found: /Users/abarnes/Dropbox/work/Smallprojects/galaxies/data_misc/multiscale_stellar_associations/ngc1385/vselect/ws8pc/PHANGS_IR4_hst_wfc3_ngc1385_v1p3_multi_assoc-vselect-ws8pc-idmask.fits\n",
      "[WARNING] Files missing for v_08pc. Skipping.\n",
      "Unpacking: /Users/abarnes/Dropbox/work/Smallprojects/galaxies/data_misc/multiscale_stellar_associations/ngc1385/vselect/ws16pc/PHANGS_IR4_hst_wfc3_ngc1385_v1p3_multi_assoc-vselect-ws16pc-idmask.fits.gz\n",
      "[INFO] Files found for v_16pc.\n",
      "Unpacking: /Users/abarnes/Dropbox/work/Smallprojects/galaxies/data_misc/multiscale_stellar_associations/ngc1385/vselect/ws32pc/PHANGS_IR4_hst_wfc3_ngc1385_v1p3_multi_assoc-vselect-ws32pc-idmask.fits.gz\n",
      "[INFO] Files found for v_32pc.\n",
      "Unpacking: /Users/abarnes/Dropbox/work/Smallprojects/galaxies/data_misc/multiscale_stellar_associations/ngc1385/vselect/ws64pc/PHANGS_IR4_hst_wfc3_ngc1385_v1p3_multi_assoc-vselect-ws64pc-idmask.fits.gz\n",
      "[INFO] Files found for v_64pc.\n",
      "File not found: /Users/abarnes/Dropbox/work/Smallprojects/galaxies/data_misc/multiscale_stellar_associations/ngc1385/nuvselect/ws8pc/PHANGS_IR4_hst_wfc3_ngc1385_v1p3_multi_assoc-nuvselect-ws8pc-idmask.fits\n",
      "[WARNING] Files missing for nuv_08pc. Skipping.\n",
      "Unpacking: /Users/abarnes/Dropbox/work/Smallprojects/galaxies/data_misc/multiscale_stellar_associations/ngc1385/nuvselect/ws16pc/PHANGS_IR4_hst_wfc3_ngc1385_v1p3_multi_assoc-nuvselect-ws16pc-idmask.fits.gz\n",
      "[INFO] Files found for nuv_16pc.\n",
      "Unpacking: /Users/abarnes/Dropbox/work/Smallprojects/galaxies/data_misc/multiscale_stellar_associations/ngc1385/nuvselect/ws32pc/PHANGS_IR4_hst_wfc3_ngc1385_v1p3_multi_assoc-nuvselect-ws32pc-idmask.fits.gz\n",
      "[INFO] Files found for nuv_32pc.\n",
      "Unpacking: /Users/abarnes/Dropbox/work/Smallprojects/galaxies/data_misc/multiscale_stellar_associations/ngc1385/nuvselect/ws64pc/PHANGS_IR4_hst_wfc3_ngc1385_v1p3_multi_assoc-nuvselect-ws64pc-idmask.fits.gz\n",
      "[INFO] Files found for nuv_64pc.\n",
      "[INFO] [load_pickle] Load /Users/abarnes/Dropbox/work/Smallprojects/galaxies/data_hstha_nebulae_catalogue/ngc1385/cutouts_fixediso/sample.pickel\n",
      "[ASSOCIATIONS] Generating new cutouts for association masks...\n"
     ]
    },
    {
     "name": "stderr",
     "output_type": "stream",
     "text": [
      "Cropping regions: 100%|██████████| 408/408 [00:01<00:00, 279.68it/s]\n"
     ]
    },
    {
     "name": "stdout",
     "output_type": "stream",
     "text": [
      "[INFO] [save_pickle] Saved to /Users/abarnes/Dropbox/work/Smallprojects/galaxies/data_hstha_nebulae_catalogue/ngc1385/cutouts_fixediso/hdus_catalog_mask_new.pickel\n"
     ]
    },
    {
     "name": "stderr",
     "output_type": "stream",
     "text": [
      "Cropping regions: 100%|██████████| 408/408 [00:01<00:00, 264.97it/s]\n"
     ]
    },
    {
     "name": "stdout",
     "output_type": "stream",
     "text": [
      "[INFO] [save_pickle] Saved to /Users/abarnes/Dropbox/work/Smallprojects/galaxies/data_hstha_nebulae_catalogue/ngc1385/cutouts_fixediso/hdus_association_mask_new_v_16pc.pickel\n"
     ]
    },
    {
     "name": "stderr",
     "output_type": "stream",
     "text": [
      "Cropping regions: 100%|██████████| 408/408 [00:01<00:00, 300.47it/s]\n"
     ]
    },
    {
     "name": "stdout",
     "output_type": "stream",
     "text": [
      "[INFO] [save_pickle] Saved to /Users/abarnes/Dropbox/work/Smallprojects/galaxies/data_hstha_nebulae_catalogue/ngc1385/cutouts_fixediso/hdus_association_mask_new_v_32pc.pickel\n"
     ]
    },
    {
     "name": "stderr",
     "output_type": "stream",
     "text": [
      "Cropping regions: 100%|██████████| 408/408 [00:01<00:00, 300.64it/s]\n"
     ]
    },
    {
     "name": "stdout",
     "output_type": "stream",
     "text": [
      "[INFO] [save_pickle] Saved to /Users/abarnes/Dropbox/work/Smallprojects/galaxies/data_hstha_nebulae_catalogue/ngc1385/cutouts_fixediso/hdus_association_mask_new_v_64pc.pickel\n"
     ]
    },
    {
     "name": "stderr",
     "output_type": "stream",
     "text": [
      "Cropping regions: 100%|██████████| 408/408 [00:01<00:00, 285.94it/s]\n"
     ]
    },
    {
     "name": "stdout",
     "output_type": "stream",
     "text": [
      "[INFO] [save_pickle] Saved to /Users/abarnes/Dropbox/work/Smallprojects/galaxies/data_hstha_nebulae_catalogue/ngc1385/cutouts_fixediso/hdus_association_mask_new_nuv_16pc.pickel\n"
     ]
    },
    {
     "name": "stderr",
     "output_type": "stream",
     "text": [
      "Cropping regions: 100%|██████████| 408/408 [00:01<00:00, 289.64it/s]\n"
     ]
    },
    {
     "name": "stdout",
     "output_type": "stream",
     "text": [
      "[INFO] [save_pickle] Saved to /Users/abarnes/Dropbox/work/Smallprojects/galaxies/data_hstha_nebulae_catalogue/ngc1385/cutouts_fixediso/hdus_association_mask_new_nuv_32pc.pickel\n"
     ]
    },
    {
     "name": "stderr",
     "output_type": "stream",
     "text": [
      "Cropping regions: 100%|██████████| 408/408 [00:01<00:00, 287.45it/s]\n"
     ]
    },
    {
     "name": "stdout",
     "output_type": "stream",
     "text": [
      "[INFO] [save_pickle] Saved to /Users/abarnes/Dropbox/work/Smallprojects/galaxies/data_hstha_nebulae_catalogue/ngc1385/cutouts_fixediso/hdus_association_mask_new_nuv_64pc.pickel\n"
     ]
    },
    {
     "name": "stderr",
     "output_type": "stream",
     "text": [
      "Match associations:: 100%|██████████| 408/408 [00:33<00:00, 12.24it/s]\n"
     ]
    },
    {
     "name": "stdout",
     "output_type": "stream",
     "text": [
      "[ASSOCIATIONS] Final association table saved to: /Users/abarnes/Dropbox/work/Smallprojects/galaxies/data_hstha_nebulae_catalogue/ngc1385/catalogue_fixediso/props_all_association.fits\n",
      "Cleaning: /Users/abarnes/Dropbox/work/Smallprojects/galaxies/data_misc/multiscale_stellar_associations/ngc1385/vselect/ws16pc/PHANGS_IR4_hst_wfc3_ngc1385_v1p3_multi_assoc-vselect-ws16pc-idmask.fits\n",
      "Cleaning: /Users/abarnes/Dropbox/work/Smallprojects/galaxies/data_misc/multiscale_stellar_associations/ngc1385/vselect/ws32pc/PHANGS_IR4_hst_wfc3_ngc1385_v1p3_multi_assoc-vselect-ws32pc-idmask.fits\n",
      "Cleaning: /Users/abarnes/Dropbox/work/Smallprojects/galaxies/data_misc/multiscale_stellar_associations/ngc1385/vselect/ws64pc/PHANGS_IR4_hst_wfc3_ngc1385_v1p3_multi_assoc-vselect-ws64pc-idmask.fits\n",
      "Cleaning: /Users/abarnes/Dropbox/work/Smallprojects/galaxies/data_misc/multiscale_stellar_associations/ngc1385/nuvselect/ws16pc/PHANGS_IR4_hst_wfc3_ngc1385_v1p3_multi_assoc-nuvselect-ws16pc-idmask.fits\n",
      "Cleaning: /Users/abarnes/Dropbox/work/Smallprojects/galaxies/data_misc/multiscale_stellar_associations/ngc1385/nuvselect/ws32pc/PHANGS_IR4_hst_wfc3_ngc1385_v1p3_multi_assoc-nuvselect-ws32pc-idmask.fits\n",
      "Cleaning: /Users/abarnes/Dropbox/work/Smallprojects/galaxies/data_misc/multiscale_stellar_associations/ngc1385/nuvselect/ws64pc/PHANGS_IR4_hst_wfc3_ngc1385_v1p3_multi_assoc-nuvselect-ws64pc-idmask.fits\n"
     ]
    },
    {
     "data": {
      "text/plain": [
       "34002"
      ]
     },
     "execution_count": 9,
     "metadata": {},
     "output_type": "execute_result"
    }
   ],
   "source": [
    "galaxyname = 'ngc1385'\n",
    "\n",
    "mycat = catalogue_pipeline.PyHSTHACat(galaxyname, output_dir_append='_fixediso')\n",
    "mycat.hstha_err = ISOTHRESHOLD\n",
    "mycat.rerun_all = True\n",
    "\n",
    "mycat.make_paths()\n",
    "mycat.load_files()\n",
    "mycat.get_regions()\n",
    "mycat.get_cutouts()\n",
    "mycat.make_catalogue()\n",
    "\n",
    "mycat.rerun_cutouts_associations = True\n",
    "mycat.make_associations()\n",
    "\n",
    "# To free memory\n",
    "del mycat \n",
    "gc.collect()"
   ]
  },
  {
   "cell_type": "code",
   "execution_count": 10,
   "metadata": {},
   "outputs": [
    {
     "name": "stdout",
     "output_type": "stream",
     "text": [
      "[Info] Outputting to the following:\n",
      "/Users/abarnes/Dropbox/work/Smallprojects/galaxies/data_hstha_nebulae_catalogue/ngc1433/\n",
      "[INFO] [get_MuseProps] Getting MUSE catalouge properties for ngc1433...\n",
      "[INFO] [get_galaxyprops] Getting sample table properties for ngc1433...\n",
      "[INFO] Generating new DS9 region file...\n",
      "[INFO] [get_regions] Opening regions file (this may take a min)... \n",
      "[INFO] [get_regions] Getting info for 1736 regions...\n",
      "[INFO] [save_pickle] Saved to /Users/abarnes/Dropbox/work/Smallprojects/galaxies/data_hstha_nebulae_catalogue/ngc1433/cutouts_fixediso/sample.pickel\n",
      "[INFO] Generating cutouts for hstha_hdu...\n"
     ]
    },
    {
     "name": "stderr",
     "output_type": "stream",
     "text": [
      "Cropping regions: 100%|██████████| 1736/1736 [00:05<00:00, 294.80it/s]\n"
     ]
    },
    {
     "name": "stdout",
     "output_type": "stream",
     "text": [
      "[INFO] [save_pickle] Saved to /Users/abarnes/Dropbox/work/Smallprojects/galaxies/data_hstha_nebulae_catalogue/ngc1433/cutouts_fixediso/hstha_hdu.pickel\n",
      "[INFO] Generating cutouts for musha_hdu...\n"
     ]
    },
    {
     "name": "stderr",
     "output_type": "stream",
     "text": [
      "Cropping regions: 100%|██████████| 1736/1736 [00:05<00:00, 337.71it/s]\n"
     ]
    },
    {
     "name": "stdout",
     "output_type": "stream",
     "text": [
      "[INFO] [save_pickle] Saved to /Users/abarnes/Dropbox/work/Smallprojects/galaxies/data_hstha_nebulae_catalogue/ngc1433/cutouts_fixediso/musha_hdu.pickel\n",
      "[INFO] Generating cutouts for muscat_hdu...\n"
     ]
    },
    {
     "name": "stderr",
     "output_type": "stream",
     "text": [
      "Cropping regions: 100%|██████████| 1736/1736 [00:05<00:00, 319.94it/s]\n"
     ]
    },
    {
     "name": "stdout",
     "output_type": "stream",
     "text": [
      "[INFO] [save_pickle] Saved to /Users/abarnes/Dropbox/work/Smallprojects/galaxies/data_hstha_nebulae_catalogue/ngc1433/cutouts_fixediso/muscat_hdu.pickel\n",
      "[INFO] [load_pickle] Load /Users/abarnes/Dropbox/work/Smallprojects/galaxies/data_hstha_nebulae_catalogue/ngc1433/cutouts_fixediso/hstha_hdu.pickel\n",
      "[INFO] [load_pickle] Load /Users/abarnes/Dropbox/work/Smallprojects/galaxies/data_hstha_nebulae_catalogue/ngc1433/cutouts_fixediso/musha_hdu.pickel\n",
      "[INFO] [load_pickle] Load /Users/abarnes/Dropbox/work/Smallprojects/galaxies/data_hstha_nebulae_catalogue/ngc1433/cutouts_fixediso/muscat_hdu.pickel\n",
      "[INFO] All HDU cutouts saved to /Users/abarnes/Dropbox/work/Smallprojects/galaxies/data_hstha_nebulae_catalogue/ngc1433/cutouts_fixediso/hdus_all.pickel\n",
      "[INFO] [save_pickle] Saved to /Users/abarnes/Dropbox/work/Smallprojects/galaxies/data_hstha_nebulae_catalogue/ngc1433/cutouts_fixediso/hdus_all.pickel\n",
      "[CATALOGUE] Running catalogue generation for: ngc1433\n",
      "[INFO] [get_maskedhdus] Getting HST maps masked by MUSE catalouge...\n"
     ]
    },
    {
     "name": "stderr",
     "output_type": "stream",
     "text": [
      "Masking regions: 100%|██████████| 1736/1736 [01:24<00:00, 20.53it/s]\n"
     ]
    },
    {
     "name": "stdout",
     "output_type": "stream",
     "text": [
      "[INFO] [save_pickle] Saved to /Users/abarnes/Dropbox/work/Smallprojects/galaxies/data_hstha_nebulae_catalogue/ngc1433/cutouts_fixediso/hdus_all_withmasked.pickel\n"
     ]
    },
    {
     "name": "stderr",
     "output_type": "stream",
     "text": [
      "Get sources:: 100%|██████████| 1736/1736 [00:09<00:00, 177.00it/s]\n"
     ]
    },
    {
     "name": "stdout",
     "output_type": "stream",
     "text": [
      "[INFO] [get_MuseProps] Getting MUSE catalouge properties for ngc1433...\n",
      "[CATALOGUE] Final properties table saved to: /Users/abarnes/Dropbox/work/Smallprojects/galaxies/data_hstha_nebulae_catalogue/ngc1433/catalogue_fixediso/props_all.fits\n"
     ]
    },
    {
     "name": "stderr",
     "output_type": "stream",
     "text": [
      "Masking regions: 100%|██████████| 1736/1736 [00:00<00:00, 2980.46it/s]\n",
      "100%|██████████| 204/204 [00:04<00:00, 42.06it/s]\n"
     ]
    },
    {
     "name": "stdout",
     "output_type": "stream",
     "text": [
      "[CATALOGUE] Masks saved to /Users/abarnes/Dropbox/work/Smallprojects/galaxies/data_hstha_nebulae_catalogue/ngc1433/catalogue_fixediso/ngc1433_mask.fits and /Users/abarnes/Dropbox/work/Smallprojects/galaxies/data_hstha_nebulae_catalogue/ngc1433/catalogue_fixediso/ngc1433_complexity.fits...\n",
      "[CATALOGUE] DS9 regions output to /Users/abarnes/Dropbox/work/Smallprojects/galaxies/data_hstha_nebulae_catalogue/ngc1433/catalogue_fixediso/ngc1433_mask...\n",
      "[CATALOGUE] Done!\n",
      "[ASSOCIATIONS] Checking association files for galaxy ngc1433 ...\n",
      "File not found: /Users/abarnes/Dropbox/work/Smallprojects/galaxies/data_misc/multiscale_stellar_associations/ngc1433/vselect/ws8pc/PHANGS_IR4_hst_wfc3_ngc1433_v1p3_multi_assoc-vselect-ws8pc-idmask.fits\n",
      "[WARNING] Files missing for v_08pc. Skipping.\n",
      "Unpacking: /Users/abarnes/Dropbox/work/Smallprojects/galaxies/data_misc/multiscale_stellar_associations/ngc1433/vselect/ws16pc/PHANGS_IR4_hst_wfc3_ngc1433_v1p3_multi_assoc-vselect-ws16pc-idmask.fits.gz\n",
      "[INFO] Files found for v_16pc.\n",
      "Unpacking: /Users/abarnes/Dropbox/work/Smallprojects/galaxies/data_misc/multiscale_stellar_associations/ngc1433/vselect/ws32pc/PHANGS_IR4_hst_wfc3_ngc1433_v1p3_multi_assoc-vselect-ws32pc-idmask.fits.gz\n",
      "[INFO] Files found for v_32pc.\n",
      "Unpacking: /Users/abarnes/Dropbox/work/Smallprojects/galaxies/data_misc/multiscale_stellar_associations/ngc1433/vselect/ws64pc/PHANGS_IR4_hst_wfc3_ngc1433_v1p3_multi_assoc-vselect-ws64pc-idmask.fits.gz\n",
      "[INFO] Files found for v_64pc.\n",
      "File not found: /Users/abarnes/Dropbox/work/Smallprojects/galaxies/data_misc/multiscale_stellar_associations/ngc1433/nuvselect/ws8pc/PHANGS_IR4_hst_wfc3_ngc1433_v1p3_multi_assoc-nuvselect-ws8pc-idmask.fits\n",
      "[WARNING] Files missing for nuv_08pc. Skipping.\n",
      "Unpacking: /Users/abarnes/Dropbox/work/Smallprojects/galaxies/data_misc/multiscale_stellar_associations/ngc1433/nuvselect/ws16pc/PHANGS_IR4_hst_wfc3_ngc1433_v1p3_multi_assoc-nuvselect-ws16pc-idmask.fits.gz\n",
      "[INFO] Files found for nuv_16pc.\n",
      "Unpacking: /Users/abarnes/Dropbox/work/Smallprojects/galaxies/data_misc/multiscale_stellar_associations/ngc1433/nuvselect/ws32pc/PHANGS_IR4_hst_wfc3_ngc1433_v1p3_multi_assoc-nuvselect-ws32pc-idmask.fits.gz\n",
      "[INFO] Files found for nuv_32pc.\n",
      "Unpacking: /Users/abarnes/Dropbox/work/Smallprojects/galaxies/data_misc/multiscale_stellar_associations/ngc1433/nuvselect/ws64pc/PHANGS_IR4_hst_wfc3_ngc1433_v1p3_multi_assoc-nuvselect-ws64pc-idmask.fits.gz\n",
      "[INFO] Files found for nuv_64pc.\n",
      "[INFO] [load_pickle] Load /Users/abarnes/Dropbox/work/Smallprojects/galaxies/data_hstha_nebulae_catalogue/ngc1433/cutouts_fixediso/sample.pickel\n",
      "[ASSOCIATIONS] Generating new cutouts for association masks...\n"
     ]
    },
    {
     "name": "stderr",
     "output_type": "stream",
     "text": [
      "Cropping regions: 100%|██████████| 204/204 [00:00<00:00, 280.14it/s]\n"
     ]
    },
    {
     "name": "stdout",
     "output_type": "stream",
     "text": [
      "[INFO] [save_pickle] Saved to /Users/abarnes/Dropbox/work/Smallprojects/galaxies/data_hstha_nebulae_catalogue/ngc1433/cutouts_fixediso/hdus_catalog_mask_new.pickel\n"
     ]
    },
    {
     "name": "stderr",
     "output_type": "stream",
     "text": [
      "Cropping regions: 100%|██████████| 204/204 [00:00<00:00, 266.07it/s]\n"
     ]
    },
    {
     "name": "stdout",
     "output_type": "stream",
     "text": [
      "[INFO] [save_pickle] Saved to /Users/abarnes/Dropbox/work/Smallprojects/galaxies/data_hstha_nebulae_catalogue/ngc1433/cutouts_fixediso/hdus_association_mask_new_v_16pc.pickel\n"
     ]
    },
    {
     "name": "stderr",
     "output_type": "stream",
     "text": [
      "Cropping regions: 100%|██████████| 204/204 [00:00<00:00, 290.32it/s]\n"
     ]
    },
    {
     "name": "stdout",
     "output_type": "stream",
     "text": [
      "[INFO] [save_pickle] Saved to /Users/abarnes/Dropbox/work/Smallprojects/galaxies/data_hstha_nebulae_catalogue/ngc1433/cutouts_fixediso/hdus_association_mask_new_v_32pc.pickel\n"
     ]
    },
    {
     "name": "stderr",
     "output_type": "stream",
     "text": [
      "Cropping regions: 100%|██████████| 204/204 [00:00<00:00, 292.79it/s]\n"
     ]
    },
    {
     "name": "stdout",
     "output_type": "stream",
     "text": [
      "[INFO] [save_pickle] Saved to /Users/abarnes/Dropbox/work/Smallprojects/galaxies/data_hstha_nebulae_catalogue/ngc1433/cutouts_fixediso/hdus_association_mask_new_v_64pc.pickel\n"
     ]
    },
    {
     "name": "stderr",
     "output_type": "stream",
     "text": [
      "Cropping regions: 100%|██████████| 204/204 [00:00<00:00, 283.07it/s]\n"
     ]
    },
    {
     "name": "stdout",
     "output_type": "stream",
     "text": [
      "[INFO] [save_pickle] Saved to /Users/abarnes/Dropbox/work/Smallprojects/galaxies/data_hstha_nebulae_catalogue/ngc1433/cutouts_fixediso/hdus_association_mask_new_nuv_16pc.pickel\n"
     ]
    },
    {
     "name": "stderr",
     "output_type": "stream",
     "text": [
      "Cropping regions: 100%|██████████| 204/204 [00:00<00:00, 279.21it/s]\n"
     ]
    },
    {
     "name": "stdout",
     "output_type": "stream",
     "text": [
      "[INFO] [save_pickle] Saved to /Users/abarnes/Dropbox/work/Smallprojects/galaxies/data_hstha_nebulae_catalogue/ngc1433/cutouts_fixediso/hdus_association_mask_new_nuv_32pc.pickel\n"
     ]
    },
    {
     "name": "stderr",
     "output_type": "stream",
     "text": [
      "Cropping regions: 100%|██████████| 204/204 [00:00<00:00, 279.22it/s]\n"
     ]
    },
    {
     "name": "stdout",
     "output_type": "stream",
     "text": [
      "[INFO] [save_pickle] Saved to /Users/abarnes/Dropbox/work/Smallprojects/galaxies/data_hstha_nebulae_catalogue/ngc1433/cutouts_fixediso/hdus_association_mask_new_nuv_64pc.pickel\n"
     ]
    },
    {
     "name": "stderr",
     "output_type": "stream",
     "text": [
      "Match associations:: 100%|██████████| 204/204 [00:19<00:00, 10.50it/s]\n"
     ]
    },
    {
     "name": "stdout",
     "output_type": "stream",
     "text": [
      "[ASSOCIATIONS] Final association table saved to: /Users/abarnes/Dropbox/work/Smallprojects/galaxies/data_hstha_nebulae_catalogue/ngc1433/catalogue_fixediso/props_all_association.fits\n",
      "Cleaning: /Users/abarnes/Dropbox/work/Smallprojects/galaxies/data_misc/multiscale_stellar_associations/ngc1433/vselect/ws16pc/PHANGS_IR4_hst_wfc3_ngc1433_v1p3_multi_assoc-vselect-ws16pc-idmask.fits\n",
      "Cleaning: /Users/abarnes/Dropbox/work/Smallprojects/galaxies/data_misc/multiscale_stellar_associations/ngc1433/vselect/ws32pc/PHANGS_IR4_hst_wfc3_ngc1433_v1p3_multi_assoc-vselect-ws32pc-idmask.fits\n",
      "Cleaning: /Users/abarnes/Dropbox/work/Smallprojects/galaxies/data_misc/multiscale_stellar_associations/ngc1433/vselect/ws64pc/PHANGS_IR4_hst_wfc3_ngc1433_v1p3_multi_assoc-vselect-ws64pc-idmask.fits\n",
      "Cleaning: /Users/abarnes/Dropbox/work/Smallprojects/galaxies/data_misc/multiscale_stellar_associations/ngc1433/nuvselect/ws16pc/PHANGS_IR4_hst_wfc3_ngc1433_v1p3_multi_assoc-nuvselect-ws16pc-idmask.fits\n",
      "Cleaning: /Users/abarnes/Dropbox/work/Smallprojects/galaxies/data_misc/multiscale_stellar_associations/ngc1433/nuvselect/ws32pc/PHANGS_IR4_hst_wfc3_ngc1433_v1p3_multi_assoc-nuvselect-ws32pc-idmask.fits\n",
      "Cleaning: /Users/abarnes/Dropbox/work/Smallprojects/galaxies/data_misc/multiscale_stellar_associations/ngc1433/nuvselect/ws64pc/PHANGS_IR4_hst_wfc3_ngc1433_v1p3_multi_assoc-nuvselect-ws64pc-idmask.fits\n"
     ]
    },
    {
     "data": {
      "text/plain": [
       "14521"
      ]
     },
     "execution_count": 10,
     "metadata": {},
     "output_type": "execute_result"
    }
   ],
   "source": [
    "galaxyname = 'ngc1433'\n",
    "\n",
    "mycat = catalogue_pipeline.PyHSTHACat(galaxyname, output_dir_append='_fixediso')\n",
    "mycat.hstha_err = ISOTHRESHOLD\n",
    "mycat.rerun_all = True\n",
    "\n",
    "mycat.make_paths()\n",
    "mycat.load_files()\n",
    "mycat.get_regions()\n",
    "mycat.get_cutouts()\n",
    "mycat.make_catalogue()\n",
    "\n",
    "mycat.rerun_cutouts_associations = True\n",
    "mycat.make_associations()\n",
    "\n",
    "# To free memory\n",
    "del mycat \n",
    "gc.collect()"
   ]
  },
  {
   "cell_type": "code",
   "execution_count": 11,
   "metadata": {},
   "outputs": [
    {
     "name": "stdout",
     "output_type": "stream",
     "text": [
      "[Info] Outputting to the following:\n",
      "/Users/abarnes/Dropbox/work/Smallprojects/galaxies/data_hstha_nebulae_catalogue/ngc1512/\n",
      "[INFO] [get_MuseProps] Getting MUSE catalouge properties for ngc1512...\n",
      "[INFO] [get_galaxyprops] Getting sample table properties for ngc1512...\n",
      "[INFO] Generating new DS9 region file...\n",
      "[INFO] [get_regions] Opening regions file (this may take a min)... \n",
      "[INFO] [get_regions] Getting info for 632 regions...\n",
      "[INFO] [save_pickle] Saved to /Users/abarnes/Dropbox/work/Smallprojects/galaxies/data_hstha_nebulae_catalogue/ngc1512/cutouts_fixediso/sample.pickel\n",
      "[INFO] Generating cutouts for hstha_hdu...\n"
     ]
    },
    {
     "name": "stderr",
     "output_type": "stream",
     "text": [
      "Cropping regions: 100%|██████████| 632/632 [00:02<00:00, 281.10it/s]\n"
     ]
    },
    {
     "name": "stdout",
     "output_type": "stream",
     "text": [
      "[INFO] [save_pickle] Saved to /Users/abarnes/Dropbox/work/Smallprojects/galaxies/data_hstha_nebulae_catalogue/ngc1512/cutouts_fixediso/hstha_hdu.pickel\n",
      "[INFO] Generating cutouts for musha_hdu...\n"
     ]
    },
    {
     "name": "stderr",
     "output_type": "stream",
     "text": [
      "Cropping regions: 100%|██████████| 632/632 [00:01<00:00, 320.25it/s]\n"
     ]
    },
    {
     "name": "stdout",
     "output_type": "stream",
     "text": [
      "[INFO] [save_pickle] Saved to /Users/abarnes/Dropbox/work/Smallprojects/galaxies/data_hstha_nebulae_catalogue/ngc1512/cutouts_fixediso/musha_hdu.pickel\n",
      "[INFO] Generating cutouts for muscat_hdu...\n"
     ]
    },
    {
     "name": "stderr",
     "output_type": "stream",
     "text": [
      "Cropping regions: 100%|██████████| 632/632 [00:01<00:00, 316.67it/s]\n"
     ]
    },
    {
     "name": "stdout",
     "output_type": "stream",
     "text": [
      "[INFO] [save_pickle] Saved to /Users/abarnes/Dropbox/work/Smallprojects/galaxies/data_hstha_nebulae_catalogue/ngc1512/cutouts_fixediso/muscat_hdu.pickel\n",
      "[INFO] [load_pickle] Load /Users/abarnes/Dropbox/work/Smallprojects/galaxies/data_hstha_nebulae_catalogue/ngc1512/cutouts_fixediso/hstha_hdu.pickel\n",
      "[INFO] [load_pickle] Load /Users/abarnes/Dropbox/work/Smallprojects/galaxies/data_hstha_nebulae_catalogue/ngc1512/cutouts_fixediso/musha_hdu.pickel\n",
      "[INFO] [load_pickle] Load /Users/abarnes/Dropbox/work/Smallprojects/galaxies/data_hstha_nebulae_catalogue/ngc1512/cutouts_fixediso/muscat_hdu.pickel\n",
      "[INFO] All HDU cutouts saved to /Users/abarnes/Dropbox/work/Smallprojects/galaxies/data_hstha_nebulae_catalogue/ngc1512/cutouts_fixediso/hdus_all.pickel\n",
      "[INFO] [save_pickle] Saved to /Users/abarnes/Dropbox/work/Smallprojects/galaxies/data_hstha_nebulae_catalogue/ngc1512/cutouts_fixediso/hdus_all.pickel\n",
      "[CATALOGUE] Running catalogue generation for: ngc1512\n",
      "[INFO] [get_maskedhdus] Getting HST maps masked by MUSE catalouge...\n"
     ]
    },
    {
     "name": "stderr",
     "output_type": "stream",
     "text": [
      "Masking regions: 100%|██████████| 632/632 [00:38<00:00, 16.23it/s]\n"
     ]
    },
    {
     "name": "stdout",
     "output_type": "stream",
     "text": [
      "[INFO] [save_pickle] Saved to /Users/abarnes/Dropbox/work/Smallprojects/galaxies/data_hstha_nebulae_catalogue/ngc1512/cutouts_fixediso/hdus_all_withmasked.pickel\n"
     ]
    },
    {
     "name": "stderr",
     "output_type": "stream",
     "text": [
      "Get sources:: 100%|██████████| 632/632 [00:06<00:00, 104.05it/s]\n"
     ]
    },
    {
     "name": "stdout",
     "output_type": "stream",
     "text": [
      "[INFO] [get_MuseProps] Getting MUSE catalouge properties for ngc1512...\n",
      "[CATALOGUE] Final properties table saved to: /Users/abarnes/Dropbox/work/Smallprojects/galaxies/data_hstha_nebulae_catalogue/ngc1512/catalogue_fixediso/props_all.fits\n"
     ]
    },
    {
     "name": "stderr",
     "output_type": "stream",
     "text": [
      "Masking regions: 100%|██████████| 632/632 [00:00<00:00, 1648.05it/s]\n",
      "100%|██████████| 121/121 [00:02<00:00, 41.95it/s]\n"
     ]
    },
    {
     "name": "stdout",
     "output_type": "stream",
     "text": [
      "[CATALOGUE] Masks saved to /Users/abarnes/Dropbox/work/Smallprojects/galaxies/data_hstha_nebulae_catalogue/ngc1512/catalogue_fixediso/ngc1512_mask.fits and /Users/abarnes/Dropbox/work/Smallprojects/galaxies/data_hstha_nebulae_catalogue/ngc1512/catalogue_fixediso/ngc1512_complexity.fits...\n",
      "[CATALOGUE] DS9 regions output to /Users/abarnes/Dropbox/work/Smallprojects/galaxies/data_hstha_nebulae_catalogue/ngc1512/catalogue_fixediso/ngc1512_mask...\n",
      "[CATALOGUE] Done!\n",
      "[ASSOCIATIONS] Checking association files for galaxy ngc1512 ...\n",
      "File not found: /Users/abarnes/Dropbox/work/Smallprojects/galaxies/data_misc/multiscale_stellar_associations/ngc1512/vselect/ws8pc/PHANGS_IR4_hst_wfc3_ngc1512_v1p3_multi_assoc-vselect-ws8pc-idmask.fits\n",
      "[WARNING] Files missing for v_08pc. Skipping.\n",
      "Unpacking: /Users/abarnes/Dropbox/work/Smallprojects/galaxies/data_misc/multiscale_stellar_associations/ngc1512/vselect/ws16pc/PHANGS_IR4_hst_wfc3_ngc1512_v1p3_multi_assoc-vselect-ws16pc-idmask.fits.gz\n",
      "[INFO] Files found for v_16pc.\n",
      "Unpacking: /Users/abarnes/Dropbox/work/Smallprojects/galaxies/data_misc/multiscale_stellar_associations/ngc1512/vselect/ws32pc/PHANGS_IR4_hst_wfc3_ngc1512_v1p3_multi_assoc-vselect-ws32pc-idmask.fits.gz\n",
      "[INFO] Files found for v_32pc.\n",
      "Unpacking: /Users/abarnes/Dropbox/work/Smallprojects/galaxies/data_misc/multiscale_stellar_associations/ngc1512/vselect/ws64pc/PHANGS_IR4_hst_wfc3_ngc1512_v1p3_multi_assoc-vselect-ws64pc-idmask.fits.gz\n",
      "[INFO] Files found for v_64pc.\n",
      "File not found: /Users/abarnes/Dropbox/work/Smallprojects/galaxies/data_misc/multiscale_stellar_associations/ngc1512/nuvselect/ws8pc/PHANGS_IR4_hst_wfc3_ngc1512_v1p3_multi_assoc-nuvselect-ws8pc-idmask.fits\n",
      "[WARNING] Files missing for nuv_08pc. Skipping.\n",
      "Unpacking: /Users/abarnes/Dropbox/work/Smallprojects/galaxies/data_misc/multiscale_stellar_associations/ngc1512/nuvselect/ws16pc/PHANGS_IR4_hst_wfc3_ngc1512_v1p3_multi_assoc-nuvselect-ws16pc-idmask.fits.gz\n",
      "[INFO] Files found for nuv_16pc.\n",
      "Unpacking: /Users/abarnes/Dropbox/work/Smallprojects/galaxies/data_misc/multiscale_stellar_associations/ngc1512/nuvselect/ws32pc/PHANGS_IR4_hst_wfc3_ngc1512_v1p3_multi_assoc-nuvselect-ws32pc-idmask.fits.gz\n",
      "[INFO] Files found for nuv_32pc.\n",
      "Unpacking: /Users/abarnes/Dropbox/work/Smallprojects/galaxies/data_misc/multiscale_stellar_associations/ngc1512/nuvselect/ws64pc/PHANGS_IR4_hst_wfc3_ngc1512_v1p3_multi_assoc-nuvselect-ws64pc-idmask.fits.gz\n",
      "[INFO] Files found for nuv_64pc.\n",
      "[INFO] [load_pickle] Load /Users/abarnes/Dropbox/work/Smallprojects/galaxies/data_hstha_nebulae_catalogue/ngc1512/cutouts_fixediso/sample.pickel\n",
      "[ASSOCIATIONS] Generating new cutouts for association masks...\n"
     ]
    },
    {
     "name": "stderr",
     "output_type": "stream",
     "text": [
      "Cropping regions: 100%|██████████| 121/121 [00:00<00:00, 253.18it/s]\n"
     ]
    },
    {
     "name": "stdout",
     "output_type": "stream",
     "text": [
      "[INFO] [save_pickle] Saved to /Users/abarnes/Dropbox/work/Smallprojects/galaxies/data_hstha_nebulae_catalogue/ngc1512/cutouts_fixediso/hdus_catalog_mask_new.pickel\n"
     ]
    },
    {
     "name": "stderr",
     "output_type": "stream",
     "text": [
      "Cropping regions: 100%|██████████| 121/121 [00:00<00:00, 291.89it/s]\n"
     ]
    },
    {
     "name": "stdout",
     "output_type": "stream",
     "text": [
      "[INFO] [save_pickle] Saved to /Users/abarnes/Dropbox/work/Smallprojects/galaxies/data_hstha_nebulae_catalogue/ngc1512/cutouts_fixediso/hdus_association_mask_new_v_16pc.pickel\n"
     ]
    },
    {
     "name": "stderr",
     "output_type": "stream",
     "text": [
      "Cropping regions: 100%|██████████| 121/121 [00:00<00:00, 263.14it/s]\n"
     ]
    },
    {
     "name": "stdout",
     "output_type": "stream",
     "text": [
      "[INFO] [save_pickle] Saved to /Users/abarnes/Dropbox/work/Smallprojects/galaxies/data_hstha_nebulae_catalogue/ngc1512/cutouts_fixediso/hdus_association_mask_new_v_32pc.pickel\n"
     ]
    },
    {
     "name": "stderr",
     "output_type": "stream",
     "text": [
      "Cropping regions: 100%|██████████| 121/121 [00:00<00:00, 277.30it/s]\n"
     ]
    },
    {
     "name": "stdout",
     "output_type": "stream",
     "text": [
      "[INFO] [save_pickle] Saved to /Users/abarnes/Dropbox/work/Smallprojects/galaxies/data_hstha_nebulae_catalogue/ngc1512/cutouts_fixediso/hdus_association_mask_new_v_64pc.pickel\n"
     ]
    },
    {
     "name": "stderr",
     "output_type": "stream",
     "text": [
      "Cropping regions: 100%|██████████| 121/121 [00:00<00:00, 293.02it/s]\n"
     ]
    },
    {
     "name": "stdout",
     "output_type": "stream",
     "text": [
      "[INFO] [save_pickle] Saved to /Users/abarnes/Dropbox/work/Smallprojects/galaxies/data_hstha_nebulae_catalogue/ngc1512/cutouts_fixediso/hdus_association_mask_new_nuv_16pc.pickel\n"
     ]
    },
    {
     "name": "stderr",
     "output_type": "stream",
     "text": [
      "Cropping regions: 100%|██████████| 121/121 [00:00<00:00, 278.98it/s]\n"
     ]
    },
    {
     "name": "stdout",
     "output_type": "stream",
     "text": [
      "[INFO] [save_pickle] Saved to /Users/abarnes/Dropbox/work/Smallprojects/galaxies/data_hstha_nebulae_catalogue/ngc1512/cutouts_fixediso/hdus_association_mask_new_nuv_32pc.pickel\n"
     ]
    },
    {
     "name": "stderr",
     "output_type": "stream",
     "text": [
      "Cropping regions: 100%|██████████| 121/121 [00:00<00:00, 286.14it/s]\n"
     ]
    },
    {
     "name": "stdout",
     "output_type": "stream",
     "text": [
      "[INFO] [save_pickle] Saved to /Users/abarnes/Dropbox/work/Smallprojects/galaxies/data_hstha_nebulae_catalogue/ngc1512/cutouts_fixediso/hdus_association_mask_new_nuv_64pc.pickel\n"
     ]
    },
    {
     "name": "stderr",
     "output_type": "stream",
     "text": [
      "Match associations:: 100%|██████████| 121/121 [00:09<00:00, 13.30it/s]\n"
     ]
    },
    {
     "name": "stdout",
     "output_type": "stream",
     "text": [
      "[ASSOCIATIONS] Final association table saved to: /Users/abarnes/Dropbox/work/Smallprojects/galaxies/data_hstha_nebulae_catalogue/ngc1512/catalogue_fixediso/props_all_association.fits\n",
      "Cleaning: /Users/abarnes/Dropbox/work/Smallprojects/galaxies/data_misc/multiscale_stellar_associations/ngc1512/vselect/ws16pc/PHANGS_IR4_hst_wfc3_ngc1512_v1p3_multi_assoc-vselect-ws16pc-idmask.fits\n",
      "Cleaning: /Users/abarnes/Dropbox/work/Smallprojects/galaxies/data_misc/multiscale_stellar_associations/ngc1512/vselect/ws32pc/PHANGS_IR4_hst_wfc3_ngc1512_v1p3_multi_assoc-vselect-ws32pc-idmask.fits\n",
      "Cleaning: /Users/abarnes/Dropbox/work/Smallprojects/galaxies/data_misc/multiscale_stellar_associations/ngc1512/vselect/ws64pc/PHANGS_IR4_hst_wfc3_ngc1512_v1p3_multi_assoc-vselect-ws64pc-idmask.fits\n",
      "Cleaning: /Users/abarnes/Dropbox/work/Smallprojects/galaxies/data_misc/multiscale_stellar_associations/ngc1512/nuvselect/ws16pc/PHANGS_IR4_hst_wfc3_ngc1512_v1p3_multi_assoc-nuvselect-ws16pc-idmask.fits\n",
      "Cleaning: /Users/abarnes/Dropbox/work/Smallprojects/galaxies/data_misc/multiscale_stellar_associations/ngc1512/nuvselect/ws32pc/PHANGS_IR4_hst_wfc3_ngc1512_v1p3_multi_assoc-nuvselect-ws32pc-idmask.fits\n",
      "Cleaning: /Users/abarnes/Dropbox/work/Smallprojects/galaxies/data_misc/multiscale_stellar_associations/ngc1512/nuvselect/ws64pc/PHANGS_IR4_hst_wfc3_ngc1512_v1p3_multi_assoc-nuvselect-ws64pc-idmask.fits\n"
     ]
    },
    {
     "data": {
      "text/plain": [
       "7570"
      ]
     },
     "execution_count": 11,
     "metadata": {},
     "output_type": "execute_result"
    }
   ],
   "source": [
    "galaxyname = 'ngc1512'\n",
    "\n",
    "mycat = catalogue_pipeline.PyHSTHACat(galaxyname, output_dir_append='_fixediso')\n",
    "mycat.hstha_err = ISOTHRESHOLD\n",
    "mycat.rerun_all = True\n",
    "\n",
    "mycat.make_paths()\n",
    "mycat.load_files()\n",
    "mycat.get_regions()\n",
    "mycat.get_cutouts()\n",
    "mycat.make_catalogue()\n",
    "\n",
    "mycat.rerun_cutouts_associations = True\n",
    "mycat.make_associations()\n",
    "\n",
    "# To free memory\n",
    "del mycat \n",
    "gc.collect()"
   ]
  },
  {
   "cell_type": "code",
   "execution_count": 12,
   "metadata": {},
   "outputs": [
    {
     "name": "stdout",
     "output_type": "stream",
     "text": [
      "[Info] Outputting to the following:\n",
      "/Users/abarnes/Dropbox/work/Smallprojects/galaxies/data_hstha_nebulae_catalogue/ngc1566/\n",
      "[INFO] [get_MuseProps] Getting MUSE catalouge properties for ngc1566...\n",
      "[INFO] [get_galaxyprops] Getting sample table properties for ngc1566...\n",
      "[INFO] Generating new DS9 region file...\n",
      "[INFO] [get_regions] Opening regions file (this may take a min)... \n",
      "[INFO] [get_regions] Getting info for 2404 regions...\n",
      "[INFO] [save_pickle] Saved to /Users/abarnes/Dropbox/work/Smallprojects/galaxies/data_hstha_nebulae_catalogue/ngc1566/cutouts_fixediso/sample.pickel\n",
      "[INFO] Generating cutouts for hstha_hdu...\n"
     ]
    },
    {
     "name": "stderr",
     "output_type": "stream",
     "text": [
      "Cropping regions: 100%|██████████| 2404/2404 [00:08<00:00, 295.33it/s]\n"
     ]
    },
    {
     "name": "stdout",
     "output_type": "stream",
     "text": [
      "[INFO] [save_pickle] Saved to /Users/abarnes/Dropbox/work/Smallprojects/galaxies/data_hstha_nebulae_catalogue/ngc1566/cutouts_fixediso/hstha_hdu.pickel\n",
      "[INFO] Generating cutouts for musha_hdu...\n"
     ]
    },
    {
     "name": "stderr",
     "output_type": "stream",
     "text": [
      "Cropping regions: 100%|██████████| 2404/2404 [00:07<00:00, 340.70it/s]\n"
     ]
    },
    {
     "name": "stdout",
     "output_type": "stream",
     "text": [
      "[INFO] [save_pickle] Saved to /Users/abarnes/Dropbox/work/Smallprojects/galaxies/data_hstha_nebulae_catalogue/ngc1566/cutouts_fixediso/musha_hdu.pickel\n",
      "[INFO] Generating cutouts for muscat_hdu...\n"
     ]
    },
    {
     "name": "stderr",
     "output_type": "stream",
     "text": [
      "Cropping regions: 100%|██████████| 2404/2404 [00:07<00:00, 321.88it/s]\n"
     ]
    },
    {
     "name": "stdout",
     "output_type": "stream",
     "text": [
      "[INFO] [save_pickle] Saved to /Users/abarnes/Dropbox/work/Smallprojects/galaxies/data_hstha_nebulae_catalogue/ngc1566/cutouts_fixediso/muscat_hdu.pickel\n",
      "[INFO] [load_pickle] Load /Users/abarnes/Dropbox/work/Smallprojects/galaxies/data_hstha_nebulae_catalogue/ngc1566/cutouts_fixediso/hstha_hdu.pickel\n",
      "[INFO] [load_pickle] Load /Users/abarnes/Dropbox/work/Smallprojects/galaxies/data_hstha_nebulae_catalogue/ngc1566/cutouts_fixediso/musha_hdu.pickel\n",
      "[INFO] [load_pickle] Load /Users/abarnes/Dropbox/work/Smallprojects/galaxies/data_hstha_nebulae_catalogue/ngc1566/cutouts_fixediso/muscat_hdu.pickel\n",
      "[INFO] All HDU cutouts saved to /Users/abarnes/Dropbox/work/Smallprojects/galaxies/data_hstha_nebulae_catalogue/ngc1566/cutouts_fixediso/hdus_all.pickel\n",
      "[INFO] [save_pickle] Saved to /Users/abarnes/Dropbox/work/Smallprojects/galaxies/data_hstha_nebulae_catalogue/ngc1566/cutouts_fixediso/hdus_all.pickel\n",
      "[CATALOGUE] Running catalogue generation for: ngc1566\n",
      "[INFO] [get_maskedhdus] Getting HST maps masked by MUSE catalouge...\n"
     ]
    },
    {
     "name": "stderr",
     "output_type": "stream",
     "text": [
      "Masking regions: 100%|██████████| 2404/2404 [02:02<00:00, 19.69it/s]\n"
     ]
    },
    {
     "name": "stdout",
     "output_type": "stream",
     "text": [
      "[INFO] [save_pickle] Saved to /Users/abarnes/Dropbox/work/Smallprojects/galaxies/data_hstha_nebulae_catalogue/ngc1566/cutouts_fixediso/hdus_all_withmasked.pickel\n"
     ]
    },
    {
     "name": "stderr",
     "output_type": "stream",
     "text": [
      "Get sources:: 100%|██████████| 2404/2404 [00:35<00:00, 67.16it/s] \n"
     ]
    },
    {
     "name": "stdout",
     "output_type": "stream",
     "text": [
      "[INFO] [get_MuseProps] Getting MUSE catalouge properties for ngc1566...\n",
      "[CATALOGUE] Final properties table saved to: /Users/abarnes/Dropbox/work/Smallprojects/galaxies/data_hstha_nebulae_catalogue/ngc1566/catalogue_fixediso/props_all.fits\n"
     ]
    },
    {
     "name": "stderr",
     "output_type": "stream",
     "text": [
      "Masking regions: 100%|██████████| 2404/2404 [00:01<00:00, 1344.62it/s]\n",
      "100%|██████████| 627/627 [00:14<00:00, 42.24it/s]\n"
     ]
    },
    {
     "name": "stdout",
     "output_type": "stream",
     "text": [
      "[CATALOGUE] Masks saved to /Users/abarnes/Dropbox/work/Smallprojects/galaxies/data_hstha_nebulae_catalogue/ngc1566/catalogue_fixediso/ngc1566_mask.fits and /Users/abarnes/Dropbox/work/Smallprojects/galaxies/data_hstha_nebulae_catalogue/ngc1566/catalogue_fixediso/ngc1566_complexity.fits...\n",
      "[CATALOGUE] DS9 regions output to /Users/abarnes/Dropbox/work/Smallprojects/galaxies/data_hstha_nebulae_catalogue/ngc1566/catalogue_fixediso/ngc1566_mask...\n",
      "[CATALOGUE] Done!\n",
      "[ASSOCIATIONS] Checking association files for galaxy ngc1566 ...\n",
      "File not found: /Users/abarnes/Dropbox/work/Smallprojects/galaxies/data_misc/multiscale_stellar_associations/ngc1566/vselect/ws8pc/PHANGS_IR4_hst_wfc3_ngc1566_v1p3_multi_assoc-vselect-ws8pc-idmask.fits\n",
      "[WARNING] Files missing for v_08pc. Skipping.\n",
      "Unpacking: /Users/abarnes/Dropbox/work/Smallprojects/galaxies/data_misc/multiscale_stellar_associations/ngc1566/vselect/ws16pc/PHANGS_IR4_hst_wfc3_ngc1566_v1p3_multi_assoc-vselect-ws16pc-idmask.fits.gz\n",
      "[INFO] Files found for v_16pc.\n",
      "Unpacking: /Users/abarnes/Dropbox/work/Smallprojects/galaxies/data_misc/multiscale_stellar_associations/ngc1566/vselect/ws32pc/PHANGS_IR4_hst_wfc3_ngc1566_v1p3_multi_assoc-vselect-ws32pc-idmask.fits.gz\n",
      "[INFO] Files found for v_32pc.\n",
      "Unpacking: /Users/abarnes/Dropbox/work/Smallprojects/galaxies/data_misc/multiscale_stellar_associations/ngc1566/vselect/ws64pc/PHANGS_IR4_hst_wfc3_ngc1566_v1p3_multi_assoc-vselect-ws64pc-idmask.fits.gz\n",
      "[INFO] Files found for v_64pc.\n",
      "File not found: /Users/abarnes/Dropbox/work/Smallprojects/galaxies/data_misc/multiscale_stellar_associations/ngc1566/nuvselect/ws8pc/PHANGS_IR4_hst_wfc3_ngc1566_v1p3_multi_assoc-nuvselect-ws8pc-idmask.fits\n",
      "[WARNING] Files missing for nuv_08pc. Skipping.\n",
      "Unpacking: /Users/abarnes/Dropbox/work/Smallprojects/galaxies/data_misc/multiscale_stellar_associations/ngc1566/nuvselect/ws16pc/PHANGS_IR4_hst_wfc3_ngc1566_v1p3_multi_assoc-nuvselect-ws16pc-idmask.fits.gz\n",
      "[INFO] Files found for nuv_16pc.\n",
      "Unpacking: /Users/abarnes/Dropbox/work/Smallprojects/galaxies/data_misc/multiscale_stellar_associations/ngc1566/nuvselect/ws32pc/PHANGS_IR4_hst_wfc3_ngc1566_v1p3_multi_assoc-nuvselect-ws32pc-idmask.fits.gz\n",
      "[INFO] Files found for nuv_32pc.\n",
      "Unpacking: /Users/abarnes/Dropbox/work/Smallprojects/galaxies/data_misc/multiscale_stellar_associations/ngc1566/nuvselect/ws64pc/PHANGS_IR4_hst_wfc3_ngc1566_v1p3_multi_assoc-nuvselect-ws64pc-idmask.fits.gz\n",
      "[INFO] Files found for nuv_64pc.\n",
      "[INFO] [load_pickle] Load /Users/abarnes/Dropbox/work/Smallprojects/galaxies/data_hstha_nebulae_catalogue/ngc1566/cutouts_fixediso/sample.pickel\n",
      "[ASSOCIATIONS] Generating new cutouts for association masks...\n"
     ]
    },
    {
     "name": "stderr",
     "output_type": "stream",
     "text": [
      "Cropping regions: 100%|██████████| 627/627 [00:02<00:00, 271.37it/s]\n"
     ]
    },
    {
     "name": "stdout",
     "output_type": "stream",
     "text": [
      "[INFO] [save_pickle] Saved to /Users/abarnes/Dropbox/work/Smallprojects/galaxies/data_hstha_nebulae_catalogue/ngc1566/cutouts_fixediso/hdus_catalog_mask_new.pickel\n"
     ]
    },
    {
     "name": "stderr",
     "output_type": "stream",
     "text": [
      "Cropping regions: 100%|██████████| 627/627 [00:02<00:00, 278.91it/s]\n"
     ]
    },
    {
     "name": "stdout",
     "output_type": "stream",
     "text": [
      "[INFO] [save_pickle] Saved to /Users/abarnes/Dropbox/work/Smallprojects/galaxies/data_hstha_nebulae_catalogue/ngc1566/cutouts_fixediso/hdus_association_mask_new_v_16pc.pickel\n"
     ]
    },
    {
     "name": "stderr",
     "output_type": "stream",
     "text": [
      "Cropping regions: 100%|██████████| 627/627 [00:02<00:00, 285.79it/s]\n"
     ]
    },
    {
     "name": "stdout",
     "output_type": "stream",
     "text": [
      "[INFO] [save_pickle] Saved to /Users/abarnes/Dropbox/work/Smallprojects/galaxies/data_hstha_nebulae_catalogue/ngc1566/cutouts_fixediso/hdus_association_mask_new_v_32pc.pickel\n"
     ]
    },
    {
     "name": "stderr",
     "output_type": "stream",
     "text": [
      "Cropping regions: 100%|██████████| 627/627 [00:02<00:00, 284.65it/s]\n"
     ]
    },
    {
     "name": "stdout",
     "output_type": "stream",
     "text": [
      "[INFO] [save_pickle] Saved to /Users/abarnes/Dropbox/work/Smallprojects/galaxies/data_hstha_nebulae_catalogue/ngc1566/cutouts_fixediso/hdus_association_mask_new_v_64pc.pickel\n"
     ]
    },
    {
     "name": "stderr",
     "output_type": "stream",
     "text": [
      "Cropping regions: 100%|██████████| 627/627 [00:02<00:00, 268.11it/s]\n"
     ]
    },
    {
     "name": "stdout",
     "output_type": "stream",
     "text": [
      "[INFO] [save_pickle] Saved to /Users/abarnes/Dropbox/work/Smallprojects/galaxies/data_hstha_nebulae_catalogue/ngc1566/cutouts_fixediso/hdus_association_mask_new_nuv_16pc.pickel\n"
     ]
    },
    {
     "name": "stderr",
     "output_type": "stream",
     "text": [
      "Cropping regions: 100%|██████████| 627/627 [00:02<00:00, 282.72it/s]\n"
     ]
    },
    {
     "name": "stdout",
     "output_type": "stream",
     "text": [
      "[INFO] [save_pickle] Saved to /Users/abarnes/Dropbox/work/Smallprojects/galaxies/data_hstha_nebulae_catalogue/ngc1566/cutouts_fixediso/hdus_association_mask_new_nuv_32pc.pickel\n"
     ]
    },
    {
     "name": "stderr",
     "output_type": "stream",
     "text": [
      "Cropping regions: 100%|██████████| 627/627 [00:02<00:00, 286.00it/s]\n"
     ]
    },
    {
     "name": "stdout",
     "output_type": "stream",
     "text": [
      "[INFO] [save_pickle] Saved to /Users/abarnes/Dropbox/work/Smallprojects/galaxies/data_hstha_nebulae_catalogue/ngc1566/cutouts_fixediso/hdus_association_mask_new_nuv_64pc.pickel\n"
     ]
    },
    {
     "name": "stderr",
     "output_type": "stream",
     "text": [
      "Match associations:: 100%|██████████| 627/627 [00:47<00:00, 13.20it/s]\n"
     ]
    },
    {
     "name": "stdout",
     "output_type": "stream",
     "text": [
      "[ASSOCIATIONS] Final association table saved to: /Users/abarnes/Dropbox/work/Smallprojects/galaxies/data_hstha_nebulae_catalogue/ngc1566/catalogue_fixediso/props_all_association.fits\n",
      "Cleaning: /Users/abarnes/Dropbox/work/Smallprojects/galaxies/data_misc/multiscale_stellar_associations/ngc1566/vselect/ws16pc/PHANGS_IR4_hst_wfc3_ngc1566_v1p3_multi_assoc-vselect-ws16pc-idmask.fits\n",
      "Cleaning: /Users/abarnes/Dropbox/work/Smallprojects/galaxies/data_misc/multiscale_stellar_associations/ngc1566/vselect/ws32pc/PHANGS_IR4_hst_wfc3_ngc1566_v1p3_multi_assoc-vselect-ws32pc-idmask.fits\n",
      "Cleaning: /Users/abarnes/Dropbox/work/Smallprojects/galaxies/data_misc/multiscale_stellar_associations/ngc1566/vselect/ws64pc/PHANGS_IR4_hst_wfc3_ngc1566_v1p3_multi_assoc-vselect-ws64pc-idmask.fits\n",
      "Cleaning: /Users/abarnes/Dropbox/work/Smallprojects/galaxies/data_misc/multiscale_stellar_associations/ngc1566/nuvselect/ws16pc/PHANGS_IR4_hst_wfc3_ngc1566_v1p3_multi_assoc-nuvselect-ws16pc-idmask.fits\n",
      "Cleaning: /Users/abarnes/Dropbox/work/Smallprojects/galaxies/data_misc/multiscale_stellar_associations/ngc1566/nuvselect/ws32pc/PHANGS_IR4_hst_wfc3_ngc1566_v1p3_multi_assoc-nuvselect-ws32pc-idmask.fits\n",
      "Cleaning: /Users/abarnes/Dropbox/work/Smallprojects/galaxies/data_misc/multiscale_stellar_associations/ngc1566/nuvselect/ws64pc/PHANGS_IR4_hst_wfc3_ngc1566_v1p3_multi_assoc-nuvselect-ws64pc-idmask.fits\n"
     ]
    },
    {
     "data": {
      "text/plain": [
       "4475"
      ]
     },
     "execution_count": 12,
     "metadata": {},
     "output_type": "execute_result"
    }
   ],
   "source": [
    "galaxyname = 'ngc1566'\n",
    "\n",
    "mycat = catalogue_pipeline.PyHSTHACat(galaxyname, output_dir_append='_fixediso')\n",
    "mycat.hstha_err = ISOTHRESHOLD\n",
    "mycat.rerun_all = True\n",
    "\n",
    "mycat.make_paths()\n",
    "mycat.load_files()\n",
    "mycat.get_regions()\n",
    "mycat.get_cutouts()\n",
    "mycat.make_catalogue()\n",
    "\n",
    "mycat.rerun_cutouts_associations = True\n",
    "mycat.make_associations()\n",
    "\n",
    "# To free memory\n",
    "del mycat \n",
    "gc.collect()"
   ]
  },
  {
   "cell_type": "code",
   "execution_count": 13,
   "metadata": {},
   "outputs": [
    {
     "name": "stdout",
     "output_type": "stream",
     "text": [
      "[Info] Outputting to the following:\n",
      "/Users/abarnes/Dropbox/work/Smallprojects/galaxies/data_hstha_nebulae_catalogue/ngc1672/\n",
      "[INFO] [get_MuseProps] Getting MUSE catalouge properties for ngc1672...\n",
      "[INFO] [get_galaxyprops] Getting sample table properties for ngc1672...\n",
      "[INFO] Generating new DS9 region file...\n",
      "[INFO] [get_regions] Opening regions file (this may take a min)... \n",
      "[INFO] [get_regions] Getting info for 1581 regions...\n",
      "[INFO] [save_pickle] Saved to /Users/abarnes/Dropbox/work/Smallprojects/galaxies/data_hstha_nebulae_catalogue/ngc1672/cutouts_fixediso/sample.pickel\n",
      "[INFO] Generating cutouts for hstha_hdu...\n"
     ]
    },
    {
     "name": "stderr",
     "output_type": "stream",
     "text": [
      "Cropping regions: 100%|██████████| 1581/1581 [00:06<00:00, 252.05it/s]\n"
     ]
    },
    {
     "name": "stdout",
     "output_type": "stream",
     "text": [
      "[INFO] [save_pickle] Saved to /Users/abarnes/Dropbox/work/Smallprojects/galaxies/data_hstha_nebulae_catalogue/ngc1672/cutouts_fixediso/hstha_hdu.pickel\n",
      "[INFO] Generating cutouts for musha_hdu...\n"
     ]
    },
    {
     "name": "stderr",
     "output_type": "stream",
     "text": [
      "Cropping regions: 100%|██████████| 1581/1581 [00:04<00:00, 339.17it/s]\n"
     ]
    },
    {
     "name": "stdout",
     "output_type": "stream",
     "text": [
      "[INFO] [save_pickle] Saved to /Users/abarnes/Dropbox/work/Smallprojects/galaxies/data_hstha_nebulae_catalogue/ngc1672/cutouts_fixediso/musha_hdu.pickel\n",
      "[INFO] Generating cutouts for muscat_hdu...\n"
     ]
    },
    {
     "name": "stderr",
     "output_type": "stream",
     "text": [
      "Cropping regions: 100%|██████████| 1581/1581 [00:04<00:00, 319.42it/s]\n"
     ]
    },
    {
     "name": "stdout",
     "output_type": "stream",
     "text": [
      "[INFO] [save_pickle] Saved to /Users/abarnes/Dropbox/work/Smallprojects/galaxies/data_hstha_nebulae_catalogue/ngc1672/cutouts_fixediso/muscat_hdu.pickel\n",
      "[INFO] [load_pickle] Load /Users/abarnes/Dropbox/work/Smallprojects/galaxies/data_hstha_nebulae_catalogue/ngc1672/cutouts_fixediso/hstha_hdu.pickel\n",
      "[INFO] [load_pickle] Load /Users/abarnes/Dropbox/work/Smallprojects/galaxies/data_hstha_nebulae_catalogue/ngc1672/cutouts_fixediso/musha_hdu.pickel\n",
      "[INFO] [load_pickle] Load /Users/abarnes/Dropbox/work/Smallprojects/galaxies/data_hstha_nebulae_catalogue/ngc1672/cutouts_fixediso/muscat_hdu.pickel\n",
      "[INFO] All HDU cutouts saved to /Users/abarnes/Dropbox/work/Smallprojects/galaxies/data_hstha_nebulae_catalogue/ngc1672/cutouts_fixediso/hdus_all.pickel\n",
      "[INFO] [save_pickle] Saved to /Users/abarnes/Dropbox/work/Smallprojects/galaxies/data_hstha_nebulae_catalogue/ngc1672/cutouts_fixediso/hdus_all.pickel\n",
      "[CATALOGUE] Running catalogue generation for: ngc1672\n",
      "[INFO] [get_maskedhdus] Getting HST maps masked by MUSE catalouge...\n"
     ]
    },
    {
     "name": "stderr",
     "output_type": "stream",
     "text": [
      "Masking regions: 100%|██████████| 1581/1581 [01:37<00:00, 16.28it/s]\n"
     ]
    },
    {
     "name": "stdout",
     "output_type": "stream",
     "text": [
      "[INFO] [save_pickle] Saved to /Users/abarnes/Dropbox/work/Smallprojects/galaxies/data_hstha_nebulae_catalogue/ngc1672/cutouts_fixediso/hdus_all_withmasked.pickel\n"
     ]
    },
    {
     "name": "stderr",
     "output_type": "stream",
     "text": [
      "Get sources:: 100%|██████████| 1581/1581 [00:26<00:00, 59.22it/s] \n"
     ]
    },
    {
     "name": "stdout",
     "output_type": "stream",
     "text": [
      "[INFO] [get_MuseProps] Getting MUSE catalouge properties for ngc1672...\n",
      "[CATALOGUE] Final properties table saved to: /Users/abarnes/Dropbox/work/Smallprojects/galaxies/data_hstha_nebulae_catalogue/ngc1672/catalogue_fixediso/props_all.fits\n"
     ]
    },
    {
     "name": "stderr",
     "output_type": "stream",
     "text": [
      "Masking regions: 100%|██████████| 1581/1581 [00:01<00:00, 1153.33it/s]\n",
      "100%|██████████| 443/443 [00:24<00:00, 18.43it/s]\n"
     ]
    },
    {
     "name": "stdout",
     "output_type": "stream",
     "text": [
      "[CATALOGUE] Masks saved to /Users/abarnes/Dropbox/work/Smallprojects/galaxies/data_hstha_nebulae_catalogue/ngc1672/catalogue_fixediso/ngc1672_mask.fits and /Users/abarnes/Dropbox/work/Smallprojects/galaxies/data_hstha_nebulae_catalogue/ngc1672/catalogue_fixediso/ngc1672_complexity.fits...\n",
      "[CATALOGUE] DS9 regions output to /Users/abarnes/Dropbox/work/Smallprojects/galaxies/data_hstha_nebulae_catalogue/ngc1672/catalogue_fixediso/ngc1672_mask...\n",
      "[CATALOGUE] Done!\n",
      "[ASSOCIATIONS] Checking association files for galaxy ngc1672 ...\n",
      "File not found: /Users/abarnes/Dropbox/work/Smallprojects/galaxies/data_misc/multiscale_stellar_associations/ngc1672/vselect/ws8pc/PHANGS_IR4_hst_wfc3_ngc1672_v1p3_multi_assoc-vselect-ws8pc-idmask.fits\n",
      "[WARNING] Files missing for v_08pc. Skipping.\n",
      "Unpacking: /Users/abarnes/Dropbox/work/Smallprojects/galaxies/data_misc/multiscale_stellar_associations/ngc1672/vselect/ws16pc/PHANGS_IR4_hst_wfc3_ngc1672_v1p3_multi_assoc-vselect-ws16pc-idmask.fits.gz\n",
      "[INFO] Files found for v_16pc.\n",
      "Unpacking: /Users/abarnes/Dropbox/work/Smallprojects/galaxies/data_misc/multiscale_stellar_associations/ngc1672/vselect/ws32pc/PHANGS_IR4_hst_wfc3_ngc1672_v1p3_multi_assoc-vselect-ws32pc-idmask.fits.gz\n",
      "[INFO] Files found for v_32pc.\n",
      "Unpacking: /Users/abarnes/Dropbox/work/Smallprojects/galaxies/data_misc/multiscale_stellar_associations/ngc1672/vselect/ws64pc/PHANGS_IR4_hst_wfc3_ngc1672_v1p3_multi_assoc-vselect-ws64pc-idmask.fits.gz\n",
      "[INFO] Files found for v_64pc.\n",
      "File not found: /Users/abarnes/Dropbox/work/Smallprojects/galaxies/data_misc/multiscale_stellar_associations/ngc1672/nuvselect/ws8pc/PHANGS_IR4_hst_wfc3_ngc1672_v1p3_multi_assoc-nuvselect-ws8pc-idmask.fits\n",
      "[WARNING] Files missing for nuv_08pc. Skipping.\n",
      "Unpacking: /Users/abarnes/Dropbox/work/Smallprojects/galaxies/data_misc/multiscale_stellar_associations/ngc1672/nuvselect/ws16pc/PHANGS_IR4_hst_wfc3_ngc1672_v1p3_multi_assoc-nuvselect-ws16pc-idmask.fits.gz\n",
      "[INFO] Files found for nuv_16pc.\n",
      "Unpacking: /Users/abarnes/Dropbox/work/Smallprojects/galaxies/data_misc/multiscale_stellar_associations/ngc1672/nuvselect/ws32pc/PHANGS_IR4_hst_wfc3_ngc1672_v1p3_multi_assoc-nuvselect-ws32pc-idmask.fits.gz\n",
      "[INFO] Files found for nuv_32pc.\n",
      "Unpacking: /Users/abarnes/Dropbox/work/Smallprojects/galaxies/data_misc/multiscale_stellar_associations/ngc1672/nuvselect/ws64pc/PHANGS_IR4_hst_wfc3_ngc1672_v1p3_multi_assoc-nuvselect-ws64pc-idmask.fits.gz\n",
      "[INFO] Files found for nuv_64pc.\n",
      "[INFO] [load_pickle] Load /Users/abarnes/Dropbox/work/Smallprojects/galaxies/data_hstha_nebulae_catalogue/ngc1672/cutouts_fixediso/sample.pickel\n",
      "[ASSOCIATIONS] Generating new cutouts for association masks...\n"
     ]
    },
    {
     "name": "stderr",
     "output_type": "stream",
     "text": [
      "Cropping regions: 100%|██████████| 443/443 [00:01<00:00, 224.66it/s]\n"
     ]
    },
    {
     "name": "stdout",
     "output_type": "stream",
     "text": [
      "[INFO] [save_pickle] Saved to /Users/abarnes/Dropbox/work/Smallprojects/galaxies/data_hstha_nebulae_catalogue/ngc1672/cutouts_fixediso/hdus_catalog_mask_new.pickel\n"
     ]
    },
    {
     "name": "stderr",
     "output_type": "stream",
     "text": [
      "Cropping regions: 100%|██████████| 443/443 [00:01<00:00, 297.15it/s]\n"
     ]
    },
    {
     "name": "stdout",
     "output_type": "stream",
     "text": [
      "[INFO] [save_pickle] Saved to /Users/abarnes/Dropbox/work/Smallprojects/galaxies/data_hstha_nebulae_catalogue/ngc1672/cutouts_fixediso/hdus_association_mask_new_v_16pc.pickel\n"
     ]
    },
    {
     "name": "stderr",
     "output_type": "stream",
     "text": [
      "Cropping regions: 100%|██████████| 443/443 [00:01<00:00, 299.51it/s]\n"
     ]
    },
    {
     "name": "stdout",
     "output_type": "stream",
     "text": [
      "[INFO] [save_pickle] Saved to /Users/abarnes/Dropbox/work/Smallprojects/galaxies/data_hstha_nebulae_catalogue/ngc1672/cutouts_fixediso/hdus_association_mask_new_v_32pc.pickel\n"
     ]
    },
    {
     "name": "stderr",
     "output_type": "stream",
     "text": [
      "Cropping regions: 100%|██████████| 443/443 [00:01<00:00, 287.83it/s]\n"
     ]
    },
    {
     "name": "stdout",
     "output_type": "stream",
     "text": [
      "[INFO] [save_pickle] Saved to /Users/abarnes/Dropbox/work/Smallprojects/galaxies/data_hstha_nebulae_catalogue/ngc1672/cutouts_fixediso/hdus_association_mask_new_v_64pc.pickel\n"
     ]
    },
    {
     "name": "stderr",
     "output_type": "stream",
     "text": [
      "Cropping regions: 100%|██████████| 443/443 [00:01<00:00, 298.14it/s]\n"
     ]
    },
    {
     "name": "stdout",
     "output_type": "stream",
     "text": [
      "[INFO] [save_pickle] Saved to /Users/abarnes/Dropbox/work/Smallprojects/galaxies/data_hstha_nebulae_catalogue/ngc1672/cutouts_fixediso/hdus_association_mask_new_nuv_16pc.pickel\n"
     ]
    },
    {
     "name": "stderr",
     "output_type": "stream",
     "text": [
      "Cropping regions: 100%|██████████| 443/443 [00:01<00:00, 288.50it/s]\n"
     ]
    },
    {
     "name": "stdout",
     "output_type": "stream",
     "text": [
      "[INFO] [save_pickle] Saved to /Users/abarnes/Dropbox/work/Smallprojects/galaxies/data_hstha_nebulae_catalogue/ngc1672/cutouts_fixediso/hdus_association_mask_new_nuv_32pc.pickel\n"
     ]
    },
    {
     "name": "stderr",
     "output_type": "stream",
     "text": [
      "Cropping regions: 100%|██████████| 443/443 [00:01<00:00, 281.72it/s]\n"
     ]
    },
    {
     "name": "stdout",
     "output_type": "stream",
     "text": [
      "[INFO] [save_pickle] Saved to /Users/abarnes/Dropbox/work/Smallprojects/galaxies/data_hstha_nebulae_catalogue/ngc1672/cutouts_fixediso/hdus_association_mask_new_nuv_64pc.pickel\n"
     ]
    },
    {
     "name": "stderr",
     "output_type": "stream",
     "text": [
      "Match associations:: 100%|██████████| 443/443 [00:33<00:00, 13.26it/s]\n"
     ]
    },
    {
     "name": "stdout",
     "output_type": "stream",
     "text": [
      "[ASSOCIATIONS] Final association table saved to: /Users/abarnes/Dropbox/work/Smallprojects/galaxies/data_hstha_nebulae_catalogue/ngc1672/catalogue_fixediso/props_all_association.fits\n",
      "Cleaning: /Users/abarnes/Dropbox/work/Smallprojects/galaxies/data_misc/multiscale_stellar_associations/ngc1672/vselect/ws16pc/PHANGS_IR4_hst_wfc3_ngc1672_v1p3_multi_assoc-vselect-ws16pc-idmask.fits\n",
      "Cleaning: /Users/abarnes/Dropbox/work/Smallprojects/galaxies/data_misc/multiscale_stellar_associations/ngc1672/vselect/ws32pc/PHANGS_IR4_hst_wfc3_ngc1672_v1p3_multi_assoc-vselect-ws32pc-idmask.fits\n",
      "Cleaning: /Users/abarnes/Dropbox/work/Smallprojects/galaxies/data_misc/multiscale_stellar_associations/ngc1672/vselect/ws64pc/PHANGS_IR4_hst_wfc3_ngc1672_v1p3_multi_assoc-vselect-ws64pc-idmask.fits\n",
      "Cleaning: /Users/abarnes/Dropbox/work/Smallprojects/galaxies/data_misc/multiscale_stellar_associations/ngc1672/nuvselect/ws16pc/PHANGS_IR4_hst_wfc3_ngc1672_v1p3_multi_assoc-nuvselect-ws16pc-idmask.fits\n",
      "Cleaning: /Users/abarnes/Dropbox/work/Smallprojects/galaxies/data_misc/multiscale_stellar_associations/ngc1672/nuvselect/ws32pc/PHANGS_IR4_hst_wfc3_ngc1672_v1p3_multi_assoc-nuvselect-ws32pc-idmask.fits\n",
      "Cleaning: /Users/abarnes/Dropbox/work/Smallprojects/galaxies/data_misc/multiscale_stellar_associations/ngc1672/nuvselect/ws64pc/PHANGS_IR4_hst_wfc3_ngc1672_v1p3_multi_assoc-nuvselect-ws64pc-idmask.fits\n"
     ]
    },
    {
     "data": {
      "text/plain": [
       "4050"
      ]
     },
     "execution_count": 13,
     "metadata": {},
     "output_type": "execute_result"
    }
   ],
   "source": [
    "galaxyname = 'ngc1672'\n",
    "\n",
    "mycat = catalogue_pipeline.PyHSTHACat(galaxyname, output_dir_append='_fixediso')\n",
    "mycat.hstha_err = ISOTHRESHOLD\n",
    "mycat.rerun_all = True\n",
    "\n",
    "mycat.make_paths()\n",
    "mycat.load_files()\n",
    "mycat.get_regions()\n",
    "mycat.get_cutouts()\n",
    "mycat.make_catalogue()\n",
    "\n",
    "mycat.rerun_cutouts_associations = True\n",
    "mycat.make_associations()\n",
    "\n",
    "# To free memory\n",
    "del mycat \n",
    "gc.collect()"
   ]
  },
  {
   "cell_type": "code",
   "execution_count": 14,
   "metadata": {},
   "outputs": [
    {
     "name": "stdout",
     "output_type": "stream",
     "text": [
      "[Info] Outputting to the following:\n",
      "/Users/abarnes/Dropbox/work/Smallprojects/galaxies/data_hstha_nebulae_catalogue/ngc2835s/\n",
      "[INFO] [get_MuseProps] Getting MUSE catalouge properties for ngc2835...\n",
      "[INFO] [get_galaxyprops] Getting sample table properties for ngc2835...\n",
      "[INFO] Generating new DS9 region file...\n",
      "[INFO] [get_regions] Opening regions file (this may take a min)... \n",
      "[INFO] [get_regions] Getting info for 1121 regions...\n",
      "[INFO] [save_pickle] Saved to /Users/abarnes/Dropbox/work/Smallprojects/galaxies/data_hstha_nebulae_catalogue/ngc2835s/cutouts_fixediso/sample.pickel\n",
      "[INFO] Generating cutouts for hstha_hdu...\n"
     ]
    },
    {
     "name": "stderr",
     "output_type": "stream",
     "text": [
      "Cropping regions: 100%|██████████| 1121/1121 [00:03<00:00, 305.18it/s]\n"
     ]
    },
    {
     "name": "stdout",
     "output_type": "stream",
     "text": [
      "[INFO] [save_pickle] Saved to /Users/abarnes/Dropbox/work/Smallprojects/galaxies/data_hstha_nebulae_catalogue/ngc2835s/cutouts_fixediso/hstha_hdu.pickel\n",
      "[INFO] Generating cutouts for musha_hdu...\n"
     ]
    },
    {
     "name": "stderr",
     "output_type": "stream",
     "text": [
      "Cropping regions: 100%|██████████| 1121/1121 [00:03<00:00, 338.06it/s]\n"
     ]
    },
    {
     "name": "stdout",
     "output_type": "stream",
     "text": [
      "[INFO] [save_pickle] Saved to /Users/abarnes/Dropbox/work/Smallprojects/galaxies/data_hstha_nebulae_catalogue/ngc2835s/cutouts_fixediso/musha_hdu.pickel\n",
      "[INFO] Generating cutouts for muscat_hdu...\n"
     ]
    },
    {
     "name": "stderr",
     "output_type": "stream",
     "text": [
      "Cropping regions: 100%|██████████| 1121/1121 [00:03<00:00, 315.06it/s]\n"
     ]
    },
    {
     "name": "stdout",
     "output_type": "stream",
     "text": [
      "[INFO] [save_pickle] Saved to /Users/abarnes/Dropbox/work/Smallprojects/galaxies/data_hstha_nebulae_catalogue/ngc2835s/cutouts_fixediso/muscat_hdu.pickel\n",
      "[INFO] [load_pickle] Load /Users/abarnes/Dropbox/work/Smallprojects/galaxies/data_hstha_nebulae_catalogue/ngc2835s/cutouts_fixediso/hstha_hdu.pickel\n",
      "[INFO] [load_pickle] Load /Users/abarnes/Dropbox/work/Smallprojects/galaxies/data_hstha_nebulae_catalogue/ngc2835s/cutouts_fixediso/musha_hdu.pickel\n",
      "[INFO] [load_pickle] Load /Users/abarnes/Dropbox/work/Smallprojects/galaxies/data_hstha_nebulae_catalogue/ngc2835s/cutouts_fixediso/muscat_hdu.pickel\n",
      "[INFO] All HDU cutouts saved to /Users/abarnes/Dropbox/work/Smallprojects/galaxies/data_hstha_nebulae_catalogue/ngc2835s/cutouts_fixediso/hdus_all.pickel\n",
      "[INFO] [save_pickle] Saved to /Users/abarnes/Dropbox/work/Smallprojects/galaxies/data_hstha_nebulae_catalogue/ngc2835s/cutouts_fixediso/hdus_all.pickel\n",
      "[CATALOGUE] Running catalogue generation for: ngc2835\n",
      "[INFO] [get_maskedhdus] Getting HST maps masked by MUSE catalouge...\n"
     ]
    },
    {
     "name": "stderr",
     "output_type": "stream",
     "text": [
      "Masking regions: 100%|██████████| 1121/1121 [00:54<00:00, 20.49it/s]\n"
     ]
    },
    {
     "name": "stdout",
     "output_type": "stream",
     "text": [
      "[INFO] [save_pickle] Saved to /Users/abarnes/Dropbox/work/Smallprojects/galaxies/data_hstha_nebulae_catalogue/ngc2835s/cutouts_fixediso/hdus_all_withmasked.pickel\n"
     ]
    },
    {
     "name": "stderr",
     "output_type": "stream",
     "text": [
      "Get sources:: 100%|██████████| 1121/1121 [00:07<00:00, 146.57it/s]\n"
     ]
    },
    {
     "name": "stdout",
     "output_type": "stream",
     "text": [
      "[INFO] [get_MuseProps] Getting MUSE catalouge properties for ngc2835...\n",
      "[CATALOGUE] Final properties table saved to: /Users/abarnes/Dropbox/work/Smallprojects/galaxies/data_hstha_nebulae_catalogue/ngc2835s/catalogue_fixediso/props_all.fits\n"
     ]
    },
    {
     "name": "stderr",
     "output_type": "stream",
     "text": [
      "Masking regions: 100%|██████████| 1121/1121 [00:00<00:00, 3421.53it/s]\n",
      "100%|██████████| 109/109 [00:01<00:00, 85.01it/s]\n"
     ]
    },
    {
     "name": "stdout",
     "output_type": "stream",
     "text": [
      "[CATALOGUE] Masks saved to /Users/abarnes/Dropbox/work/Smallprojects/galaxies/data_hstha_nebulae_catalogue/ngc2835s/catalogue_fixediso/ngc2835_mask.fits and /Users/abarnes/Dropbox/work/Smallprojects/galaxies/data_hstha_nebulae_catalogue/ngc2835s/catalogue_fixediso/ngc2835_complexity.fits...\n",
      "[CATALOGUE] DS9 regions output to /Users/abarnes/Dropbox/work/Smallprojects/galaxies/data_hstha_nebulae_catalogue/ngc2835s/catalogue_fixediso/ngc2835_mask...\n",
      "[CATALOGUE] Done!\n",
      "[ASSOCIATIONS] Checking association files for galaxy ngc2835 ...\n",
      "Unpacking: /Users/abarnes/Dropbox/work/Smallprojects/galaxies/data_misc/multiscale_stellar_associations/ngc2835/vselect/ws8pc/PHANGS_IR4_hst_wfc3_ngc2835_v1p3_multi_assoc-vselect-ws8pc-idmask.fits.gz\n",
      "[INFO] Files found for v_08pc.\n",
      "Unpacking: /Users/abarnes/Dropbox/work/Smallprojects/galaxies/data_misc/multiscale_stellar_associations/ngc2835/vselect/ws16pc/PHANGS_IR4_hst_wfc3_ngc2835_v1p3_multi_assoc-vselect-ws16pc-idmask.fits.gz\n",
      "[INFO] Files found for v_16pc.\n",
      "Unpacking: /Users/abarnes/Dropbox/work/Smallprojects/galaxies/data_misc/multiscale_stellar_associations/ngc2835/vselect/ws32pc/PHANGS_IR4_hst_wfc3_ngc2835_v1p3_multi_assoc-vselect-ws32pc-idmask.fits.gz\n",
      "[INFO] Files found for v_32pc.\n",
      "Unpacking: /Users/abarnes/Dropbox/work/Smallprojects/galaxies/data_misc/multiscale_stellar_associations/ngc2835/vselect/ws64pc/PHANGS_IR4_hst_wfc3_ngc2835_v1p3_multi_assoc-vselect-ws64pc-idmask.fits.gz\n",
      "[INFO] Files found for v_64pc.\n",
      "Unpacking: /Users/abarnes/Dropbox/work/Smallprojects/galaxies/data_misc/multiscale_stellar_associations/ngc2835/nuvselect/ws8pc/PHANGS_IR4_hst_wfc3_ngc2835_v1p3_multi_assoc-nuvselect-ws8pc-idmask.fits.gz\n",
      "[INFO] Files found for nuv_08pc.\n",
      "Unpacking: /Users/abarnes/Dropbox/work/Smallprojects/galaxies/data_misc/multiscale_stellar_associations/ngc2835/nuvselect/ws16pc/PHANGS_IR4_hst_wfc3_ngc2835_v1p3_multi_assoc-nuvselect-ws16pc-idmask.fits.gz\n",
      "[INFO] Files found for nuv_16pc.\n",
      "Unpacking: /Users/abarnes/Dropbox/work/Smallprojects/galaxies/data_misc/multiscale_stellar_associations/ngc2835/nuvselect/ws32pc/PHANGS_IR4_hst_wfc3_ngc2835_v1p3_multi_assoc-nuvselect-ws32pc-idmask.fits.gz\n",
      "[INFO] Files found for nuv_32pc.\n",
      "Unpacking: /Users/abarnes/Dropbox/work/Smallprojects/galaxies/data_misc/multiscale_stellar_associations/ngc2835/nuvselect/ws64pc/PHANGS_IR4_hst_wfc3_ngc2835_v1p3_multi_assoc-nuvselect-ws64pc-idmask.fits.gz\n",
      "[INFO] Files found for nuv_64pc.\n",
      "[INFO] [load_pickle] Load /Users/abarnes/Dropbox/work/Smallprojects/galaxies/data_hstha_nebulae_catalogue/ngc2835s/cutouts_fixediso/sample.pickel\n",
      "[ASSOCIATIONS] Generating new cutouts for association masks...\n"
     ]
    },
    {
     "name": "stderr",
     "output_type": "stream",
     "text": [
      "Cropping regions: 100%|██████████| 109/109 [00:00<00:00, 275.90it/s]\n"
     ]
    },
    {
     "name": "stdout",
     "output_type": "stream",
     "text": [
      "[INFO] [save_pickle] Saved to /Users/abarnes/Dropbox/work/Smallprojects/galaxies/data_hstha_nebulae_catalogue/ngc2835s/cutouts_fixediso/hdus_catalog_mask_new.pickel\n"
     ]
    },
    {
     "name": "stderr",
     "output_type": "stream",
     "text": [
      "Cropping regions: 100%|██████████| 109/109 [00:00<00:00, 281.95it/s]\n"
     ]
    },
    {
     "name": "stdout",
     "output_type": "stream",
     "text": [
      "[INFO] [save_pickle] Saved to /Users/abarnes/Dropbox/work/Smallprojects/galaxies/data_hstha_nebulae_catalogue/ngc2835s/cutouts_fixediso/hdus_association_mask_new_v_08pc.pickel\n"
     ]
    },
    {
     "name": "stderr",
     "output_type": "stream",
     "text": [
      "Cropping regions: 100%|██████████| 109/109 [00:00<00:00, 250.65it/s]\n"
     ]
    },
    {
     "name": "stdout",
     "output_type": "stream",
     "text": [
      "[INFO] [save_pickle] Saved to /Users/abarnes/Dropbox/work/Smallprojects/galaxies/data_hstha_nebulae_catalogue/ngc2835s/cutouts_fixediso/hdus_association_mask_new_v_16pc.pickel\n"
     ]
    },
    {
     "name": "stderr",
     "output_type": "stream",
     "text": [
      "Cropping regions: 100%|██████████| 109/109 [00:00<00:00, 272.21it/s]\n"
     ]
    },
    {
     "name": "stdout",
     "output_type": "stream",
     "text": [
      "[INFO] [save_pickle] Saved to /Users/abarnes/Dropbox/work/Smallprojects/galaxies/data_hstha_nebulae_catalogue/ngc2835s/cutouts_fixediso/hdus_association_mask_new_v_32pc.pickel\n"
     ]
    },
    {
     "name": "stderr",
     "output_type": "stream",
     "text": [
      "Cropping regions: 100%|██████████| 109/109 [00:00<00:00, 272.85it/s]\n"
     ]
    },
    {
     "name": "stdout",
     "output_type": "stream",
     "text": [
      "[INFO] [save_pickle] Saved to /Users/abarnes/Dropbox/work/Smallprojects/galaxies/data_hstha_nebulae_catalogue/ngc2835s/cutouts_fixediso/hdus_association_mask_new_v_64pc.pickel\n"
     ]
    },
    {
     "name": "stderr",
     "output_type": "stream",
     "text": [
      "Cropping regions: 100%|██████████| 109/109 [00:00<00:00, 291.02it/s]\n"
     ]
    },
    {
     "name": "stdout",
     "output_type": "stream",
     "text": [
      "[INFO] [save_pickle] Saved to /Users/abarnes/Dropbox/work/Smallprojects/galaxies/data_hstha_nebulae_catalogue/ngc2835s/cutouts_fixediso/hdus_association_mask_new_nuv_08pc.pickel\n"
     ]
    },
    {
     "name": "stderr",
     "output_type": "stream",
     "text": [
      "Cropping regions: 100%|██████████| 109/109 [00:00<00:00, 279.88it/s]\n"
     ]
    },
    {
     "name": "stdout",
     "output_type": "stream",
     "text": [
      "[INFO] [save_pickle] Saved to /Users/abarnes/Dropbox/work/Smallprojects/galaxies/data_hstha_nebulae_catalogue/ngc2835s/cutouts_fixediso/hdus_association_mask_new_nuv_16pc.pickel\n"
     ]
    },
    {
     "name": "stderr",
     "output_type": "stream",
     "text": [
      "Cropping regions: 100%|██████████| 109/109 [00:00<00:00, 296.18it/s]\n"
     ]
    },
    {
     "name": "stdout",
     "output_type": "stream",
     "text": [
      "[INFO] [save_pickle] Saved to /Users/abarnes/Dropbox/work/Smallprojects/galaxies/data_hstha_nebulae_catalogue/ngc2835s/cutouts_fixediso/hdus_association_mask_new_nuv_32pc.pickel\n"
     ]
    },
    {
     "name": "stderr",
     "output_type": "stream",
     "text": [
      "Cropping regions: 100%|██████████| 109/109 [00:00<00:00, 293.88it/s]\n"
     ]
    },
    {
     "name": "stdout",
     "output_type": "stream",
     "text": [
      "[INFO] [save_pickle] Saved to /Users/abarnes/Dropbox/work/Smallprojects/galaxies/data_hstha_nebulae_catalogue/ngc2835s/cutouts_fixediso/hdus_association_mask_new_nuv_64pc.pickel\n"
     ]
    },
    {
     "name": "stderr",
     "output_type": "stream",
     "text": [
      "Match associations:: 100%|██████████| 109/109 [00:16<00:00,  6.74it/s]\n"
     ]
    },
    {
     "name": "stdout",
     "output_type": "stream",
     "text": [
      "[ASSOCIATIONS] Final association table saved to: /Users/abarnes/Dropbox/work/Smallprojects/galaxies/data_hstha_nebulae_catalogue/ngc2835s/catalogue_fixediso/props_all_association.fits\n",
      "Cleaning: /Users/abarnes/Dropbox/work/Smallprojects/galaxies/data_misc/multiscale_stellar_associations/ngc2835/vselect/ws8pc/PHANGS_IR4_hst_wfc3_ngc2835_v1p3_multi_assoc-vselect-ws8pc-idmask.fits\n",
      "Cleaning: /Users/abarnes/Dropbox/work/Smallprojects/galaxies/data_misc/multiscale_stellar_associations/ngc2835/vselect/ws16pc/PHANGS_IR4_hst_wfc3_ngc2835_v1p3_multi_assoc-vselect-ws16pc-idmask.fits\n",
      "Cleaning: /Users/abarnes/Dropbox/work/Smallprojects/galaxies/data_misc/multiscale_stellar_associations/ngc2835/vselect/ws32pc/PHANGS_IR4_hst_wfc3_ngc2835_v1p3_multi_assoc-vselect-ws32pc-idmask.fits\n",
      "Cleaning: /Users/abarnes/Dropbox/work/Smallprojects/galaxies/data_misc/multiscale_stellar_associations/ngc2835/vselect/ws64pc/PHANGS_IR4_hst_wfc3_ngc2835_v1p3_multi_assoc-vselect-ws64pc-idmask.fits\n",
      "Cleaning: /Users/abarnes/Dropbox/work/Smallprojects/galaxies/data_misc/multiscale_stellar_associations/ngc2835/nuvselect/ws8pc/PHANGS_IR4_hst_wfc3_ngc2835_v1p3_multi_assoc-nuvselect-ws8pc-idmask.fits\n",
      "Cleaning: /Users/abarnes/Dropbox/work/Smallprojects/galaxies/data_misc/multiscale_stellar_associations/ngc2835/nuvselect/ws16pc/PHANGS_IR4_hst_wfc3_ngc2835_v1p3_multi_assoc-nuvselect-ws16pc-idmask.fits\n",
      "Cleaning: /Users/abarnes/Dropbox/work/Smallprojects/galaxies/data_misc/multiscale_stellar_associations/ngc2835/nuvselect/ws32pc/PHANGS_IR4_hst_wfc3_ngc2835_v1p3_multi_assoc-nuvselect-ws32pc-idmask.fits\n",
      "Cleaning: /Users/abarnes/Dropbox/work/Smallprojects/galaxies/data_misc/multiscale_stellar_associations/ngc2835/nuvselect/ws64pc/PHANGS_IR4_hst_wfc3_ngc2835_v1p3_multi_assoc-nuvselect-ws64pc-idmask.fits\n"
     ]
    },
    {
     "data": {
      "text/plain": [
       "19345"
      ]
     },
     "execution_count": 14,
     "metadata": {},
     "output_type": "execute_result"
    }
   ],
   "source": [
    "galaxyname = 'ngc2835'\n",
    "galaxyname_hst = 'ngc2835s'\n",
    "\n",
    "mycat = catalogue_pipeline.PyHSTHACat(galaxyname, galaxyname_hst, output_dir_append='_fixediso')\n",
    "mycat.hstha_err = ISOTHRESHOLD\n",
    "mycat.rerun_all = True\n",
    "\n",
    "mycat.make_paths()\n",
    "mycat.load_files()\n",
    "mycat.get_regions()\n",
    "mycat.get_cutouts()\n",
    "mycat.make_catalogue()\n",
    "\n",
    "mycat.rerun_cutouts_associations = True\n",
    "mycat.make_associations()\n",
    "\n",
    "# To free memory\n",
    "del mycat \n",
    "gc.collect()"
   ]
  },
  {
   "cell_type": "code",
   "execution_count": 15,
   "metadata": {},
   "outputs": [
    {
     "name": "stdout",
     "output_type": "stream",
     "text": [
      "[Info] Outputting to the following:\n",
      "/Users/abarnes/Dropbox/work/Smallprojects/galaxies/data_hstha_nebulae_catalogue/ngc3351/\n",
      "[INFO] [get_MuseProps] Getting MUSE catalouge properties for ngc3351...\n",
      "[INFO] [get_galaxyprops] Getting sample table properties for ngc3351...\n",
      "[INFO] Generating new DS9 region file...\n",
      "[INFO] [get_regions] Opening regions file (this may take a min)... \n",
      "[INFO] [get_regions] Getting info for 1284 regions...\n",
      "[INFO] [save_pickle] Saved to /Users/abarnes/Dropbox/work/Smallprojects/galaxies/data_hstha_nebulae_catalogue/ngc3351/cutouts_fixediso/sample.pickel\n",
      "[INFO] Generating cutouts for hstha_hdu...\n"
     ]
    },
    {
     "name": "stderr",
     "output_type": "stream",
     "text": [
      "Cropping regions: 100%|██████████| 1284/1284 [00:04<00:00, 290.75it/s]\n"
     ]
    },
    {
     "name": "stdout",
     "output_type": "stream",
     "text": [
      "[INFO] [save_pickle] Saved to /Users/abarnes/Dropbox/work/Smallprojects/galaxies/data_hstha_nebulae_catalogue/ngc3351/cutouts_fixediso/hstha_hdu.pickel\n",
      "[INFO] Generating cutouts for musha_hdu...\n"
     ]
    },
    {
     "name": "stderr",
     "output_type": "stream",
     "text": [
      "Cropping regions: 100%|██████████| 1284/1284 [00:03<00:00, 329.83it/s]\n"
     ]
    },
    {
     "name": "stdout",
     "output_type": "stream",
     "text": [
      "[INFO] [save_pickle] Saved to /Users/abarnes/Dropbox/work/Smallprojects/galaxies/data_hstha_nebulae_catalogue/ngc3351/cutouts_fixediso/musha_hdu.pickel\n",
      "[INFO] Generating cutouts for muscat_hdu...\n"
     ]
    },
    {
     "name": "stderr",
     "output_type": "stream",
     "text": [
      "Cropping regions: 100%|██████████| 1284/1284 [00:04<00:00, 318.93it/s]\n"
     ]
    },
    {
     "name": "stdout",
     "output_type": "stream",
     "text": [
      "[INFO] [save_pickle] Saved to /Users/abarnes/Dropbox/work/Smallprojects/galaxies/data_hstha_nebulae_catalogue/ngc3351/cutouts_fixediso/muscat_hdu.pickel\n",
      "[INFO] [load_pickle] Load /Users/abarnes/Dropbox/work/Smallprojects/galaxies/data_hstha_nebulae_catalogue/ngc3351/cutouts_fixediso/hstha_hdu.pickel\n",
      "[INFO] [load_pickle] Load /Users/abarnes/Dropbox/work/Smallprojects/galaxies/data_hstha_nebulae_catalogue/ngc3351/cutouts_fixediso/musha_hdu.pickel\n",
      "[INFO] [load_pickle] Load /Users/abarnes/Dropbox/work/Smallprojects/galaxies/data_hstha_nebulae_catalogue/ngc3351/cutouts_fixediso/muscat_hdu.pickel\n",
      "[INFO] All HDU cutouts saved to /Users/abarnes/Dropbox/work/Smallprojects/galaxies/data_hstha_nebulae_catalogue/ngc3351/cutouts_fixediso/hdus_all.pickel\n",
      "[INFO] [save_pickle] Saved to /Users/abarnes/Dropbox/work/Smallprojects/galaxies/data_hstha_nebulae_catalogue/ngc3351/cutouts_fixediso/hdus_all.pickel\n",
      "[CATALOGUE] Running catalogue generation for: ngc3351\n",
      "[INFO] [get_maskedhdus] Getting HST maps masked by MUSE catalouge...\n"
     ]
    },
    {
     "name": "stderr",
     "output_type": "stream",
     "text": [
      "Masking regions: 100%|██████████| 1284/1284 [01:11<00:00, 17.92it/s]\n"
     ]
    },
    {
     "name": "stdout",
     "output_type": "stream",
     "text": [
      "[INFO] [save_pickle] Saved to /Users/abarnes/Dropbox/work/Smallprojects/galaxies/data_hstha_nebulae_catalogue/ngc3351/cutouts_fixediso/hdus_all_withmasked.pickel\n"
     ]
    },
    {
     "name": "stderr",
     "output_type": "stream",
     "text": [
      "Get sources:: 100%|██████████| 1284/1284 [00:11<00:00, 110.87it/s]\n"
     ]
    },
    {
     "name": "stdout",
     "output_type": "stream",
     "text": [
      "[INFO] [get_MuseProps] Getting MUSE catalouge properties for ngc3351...\n",
      "[CATALOGUE] Final properties table saved to: /Users/abarnes/Dropbox/work/Smallprojects/galaxies/data_hstha_nebulae_catalogue/ngc3351/catalogue_fixediso/props_all.fits\n"
     ]
    },
    {
     "name": "stderr",
     "output_type": "stream",
     "text": [
      "Masking regions: 100%|██████████| 1284/1284 [00:00<00:00, 2284.17it/s]\n",
      "100%|██████████| 193/193 [00:04<00:00, 45.16it/s]\n"
     ]
    },
    {
     "name": "stdout",
     "output_type": "stream",
     "text": [
      "[CATALOGUE] Masks saved to /Users/abarnes/Dropbox/work/Smallprojects/galaxies/data_hstha_nebulae_catalogue/ngc3351/catalogue_fixediso/ngc3351_mask.fits and /Users/abarnes/Dropbox/work/Smallprojects/galaxies/data_hstha_nebulae_catalogue/ngc3351/catalogue_fixediso/ngc3351_complexity.fits...\n",
      "[CATALOGUE] DS9 regions output to /Users/abarnes/Dropbox/work/Smallprojects/galaxies/data_hstha_nebulae_catalogue/ngc3351/catalogue_fixediso/ngc3351_mask...\n",
      "[CATALOGUE] Done!\n",
      "[ASSOCIATIONS] Checking association files for galaxy ngc3351 ...\n",
      "Unpacking: /Users/abarnes/Dropbox/work/Smallprojects/galaxies/data_misc/multiscale_stellar_associations/ngc3351/vselect/ws8pc/PHANGS_IR4_hst_wfc3_ngc3351_v1p3_multi_assoc-vselect-ws8pc-idmask.fits.gz\n",
      "[INFO] Files found for v_08pc.\n",
      "Unpacking: /Users/abarnes/Dropbox/work/Smallprojects/galaxies/data_misc/multiscale_stellar_associations/ngc3351/vselect/ws16pc/PHANGS_IR4_hst_wfc3_ngc3351_v1p3_multi_assoc-vselect-ws16pc-idmask.fits.gz\n",
      "[INFO] Files found for v_16pc.\n",
      "Unpacking: /Users/abarnes/Dropbox/work/Smallprojects/galaxies/data_misc/multiscale_stellar_associations/ngc3351/vselect/ws32pc/PHANGS_IR4_hst_wfc3_ngc3351_v1p3_multi_assoc-vselect-ws32pc-idmask.fits.gz\n",
      "[INFO] Files found for v_32pc.\n",
      "Unpacking: /Users/abarnes/Dropbox/work/Smallprojects/galaxies/data_misc/multiscale_stellar_associations/ngc3351/vselect/ws64pc/PHANGS_IR4_hst_wfc3_ngc3351_v1p3_multi_assoc-vselect-ws64pc-idmask.fits.gz\n",
      "[INFO] Files found for v_64pc.\n",
      "Unpacking: /Users/abarnes/Dropbox/work/Smallprojects/galaxies/data_misc/multiscale_stellar_associations/ngc3351/nuvselect/ws8pc/PHANGS_IR4_hst_wfc3_ngc3351_v1p3_multi_assoc-nuvselect-ws8pc-idmask.fits.gz\n",
      "[INFO] Files found for nuv_08pc.\n",
      "Unpacking: /Users/abarnes/Dropbox/work/Smallprojects/galaxies/data_misc/multiscale_stellar_associations/ngc3351/nuvselect/ws16pc/PHANGS_IR4_hst_wfc3_ngc3351_v1p3_multi_assoc-nuvselect-ws16pc-idmask.fits.gz\n",
      "[INFO] Files found for nuv_16pc.\n",
      "Unpacking: /Users/abarnes/Dropbox/work/Smallprojects/galaxies/data_misc/multiscale_stellar_associations/ngc3351/nuvselect/ws32pc/PHANGS_IR4_hst_wfc3_ngc3351_v1p3_multi_assoc-nuvselect-ws32pc-idmask.fits.gz\n",
      "[INFO] Files found for nuv_32pc.\n",
      "Unpacking: /Users/abarnes/Dropbox/work/Smallprojects/galaxies/data_misc/multiscale_stellar_associations/ngc3351/nuvselect/ws64pc/PHANGS_IR4_hst_wfc3_ngc3351_v1p3_multi_assoc-nuvselect-ws64pc-idmask.fits.gz\n",
      "[INFO] Files found for nuv_64pc.\n",
      "[INFO] [load_pickle] Load /Users/abarnes/Dropbox/work/Smallprojects/galaxies/data_hstha_nebulae_catalogue/ngc3351/cutouts_fixediso/sample.pickel\n",
      "[ASSOCIATIONS] Generating new cutouts for association masks...\n"
     ]
    },
    {
     "name": "stderr",
     "output_type": "stream",
     "text": [
      "Cropping regions: 100%|██████████| 193/193 [00:00<00:00, 245.60it/s]\n"
     ]
    },
    {
     "name": "stdout",
     "output_type": "stream",
     "text": [
      "[INFO] [save_pickle] Saved to /Users/abarnes/Dropbox/work/Smallprojects/galaxies/data_hstha_nebulae_catalogue/ngc3351/cutouts_fixediso/hdus_catalog_mask_new.pickel\n"
     ]
    },
    {
     "name": "stderr",
     "output_type": "stream",
     "text": [
      "Cropping regions: 100%|██████████| 193/193 [00:00<00:00, 247.23it/s]\n"
     ]
    },
    {
     "name": "stdout",
     "output_type": "stream",
     "text": [
      "[INFO] [save_pickle] Saved to /Users/abarnes/Dropbox/work/Smallprojects/galaxies/data_hstha_nebulae_catalogue/ngc3351/cutouts_fixediso/hdus_association_mask_new_v_08pc.pickel\n"
     ]
    },
    {
     "name": "stderr",
     "output_type": "stream",
     "text": [
      "Cropping regions: 100%|██████████| 193/193 [00:00<00:00, 273.21it/s]\n"
     ]
    },
    {
     "name": "stdout",
     "output_type": "stream",
     "text": [
      "[INFO] [save_pickle] Saved to /Users/abarnes/Dropbox/work/Smallprojects/galaxies/data_hstha_nebulae_catalogue/ngc3351/cutouts_fixediso/hdus_association_mask_new_v_16pc.pickel\n"
     ]
    },
    {
     "name": "stderr",
     "output_type": "stream",
     "text": [
      "Cropping regions: 100%|██████████| 193/193 [00:00<00:00, 281.92it/s]\n"
     ]
    },
    {
     "name": "stdout",
     "output_type": "stream",
     "text": [
      "[INFO] [save_pickle] Saved to /Users/abarnes/Dropbox/work/Smallprojects/galaxies/data_hstha_nebulae_catalogue/ngc3351/cutouts_fixediso/hdus_association_mask_new_v_32pc.pickel\n"
     ]
    },
    {
     "name": "stderr",
     "output_type": "stream",
     "text": [
      "Cropping regions: 100%|██████████| 193/193 [00:00<00:00, 284.27it/s]\n"
     ]
    },
    {
     "name": "stdout",
     "output_type": "stream",
     "text": [
      "[INFO] [save_pickle] Saved to /Users/abarnes/Dropbox/work/Smallprojects/galaxies/data_hstha_nebulae_catalogue/ngc3351/cutouts_fixediso/hdus_association_mask_new_v_64pc.pickel\n"
     ]
    },
    {
     "name": "stderr",
     "output_type": "stream",
     "text": [
      "Cropping regions: 100%|██████████| 193/193 [00:00<00:00, 295.53it/s]\n"
     ]
    },
    {
     "name": "stdout",
     "output_type": "stream",
     "text": [
      "[INFO] [save_pickle] Saved to /Users/abarnes/Dropbox/work/Smallprojects/galaxies/data_hstha_nebulae_catalogue/ngc3351/cutouts_fixediso/hdus_association_mask_new_nuv_08pc.pickel\n"
     ]
    },
    {
     "name": "stderr",
     "output_type": "stream",
     "text": [
      "Cropping regions: 100%|██████████| 193/193 [00:00<00:00, 297.58it/s]\n"
     ]
    },
    {
     "name": "stdout",
     "output_type": "stream",
     "text": [
      "[INFO] [save_pickle] Saved to /Users/abarnes/Dropbox/work/Smallprojects/galaxies/data_hstha_nebulae_catalogue/ngc3351/cutouts_fixediso/hdus_association_mask_new_nuv_16pc.pickel\n"
     ]
    },
    {
     "name": "stderr",
     "output_type": "stream",
     "text": [
      "Cropping regions: 100%|██████████| 193/193 [00:00<00:00, 293.71it/s]\n"
     ]
    },
    {
     "name": "stdout",
     "output_type": "stream",
     "text": [
      "[INFO] [save_pickle] Saved to /Users/abarnes/Dropbox/work/Smallprojects/galaxies/data_hstha_nebulae_catalogue/ngc3351/cutouts_fixediso/hdus_association_mask_new_nuv_32pc.pickel\n"
     ]
    },
    {
     "name": "stderr",
     "output_type": "stream",
     "text": [
      "Cropping regions: 100%|██████████| 193/193 [00:00<00:00, 292.29it/s]\n"
     ]
    },
    {
     "name": "stdout",
     "output_type": "stream",
     "text": [
      "[INFO] [save_pickle] Saved to /Users/abarnes/Dropbox/work/Smallprojects/galaxies/data_hstha_nebulae_catalogue/ngc3351/cutouts_fixediso/hdus_association_mask_new_nuv_64pc.pickel\n"
     ]
    },
    {
     "name": "stderr",
     "output_type": "stream",
     "text": [
      "Match associations:: 100%|██████████| 193/193 [00:27<00:00,  7.11it/s]\n"
     ]
    },
    {
     "name": "stdout",
     "output_type": "stream",
     "text": [
      "[ASSOCIATIONS] Final association table saved to: /Users/abarnes/Dropbox/work/Smallprojects/galaxies/data_hstha_nebulae_catalogue/ngc3351/catalogue_fixediso/props_all_association.fits\n",
      "Cleaning: /Users/abarnes/Dropbox/work/Smallprojects/galaxies/data_misc/multiscale_stellar_associations/ngc3351/vselect/ws8pc/PHANGS_IR4_hst_wfc3_ngc3351_v1p3_multi_assoc-vselect-ws8pc-idmask.fits\n",
      "Cleaning: /Users/abarnes/Dropbox/work/Smallprojects/galaxies/data_misc/multiscale_stellar_associations/ngc3351/vselect/ws16pc/PHANGS_IR4_hst_wfc3_ngc3351_v1p3_multi_assoc-vselect-ws16pc-idmask.fits\n",
      "Cleaning: /Users/abarnes/Dropbox/work/Smallprojects/galaxies/data_misc/multiscale_stellar_associations/ngc3351/vselect/ws32pc/PHANGS_IR4_hst_wfc3_ngc3351_v1p3_multi_assoc-vselect-ws32pc-idmask.fits\n",
      "Cleaning: /Users/abarnes/Dropbox/work/Smallprojects/galaxies/data_misc/multiscale_stellar_associations/ngc3351/vselect/ws64pc/PHANGS_IR4_hst_wfc3_ngc3351_v1p3_multi_assoc-vselect-ws64pc-idmask.fits\n",
      "Cleaning: /Users/abarnes/Dropbox/work/Smallprojects/galaxies/data_misc/multiscale_stellar_associations/ngc3351/nuvselect/ws8pc/PHANGS_IR4_hst_wfc3_ngc3351_v1p3_multi_assoc-nuvselect-ws8pc-idmask.fits\n",
      "Cleaning: /Users/abarnes/Dropbox/work/Smallprojects/galaxies/data_misc/multiscale_stellar_associations/ngc3351/nuvselect/ws16pc/PHANGS_IR4_hst_wfc3_ngc3351_v1p3_multi_assoc-nuvselect-ws16pc-idmask.fits\n",
      "Cleaning: /Users/abarnes/Dropbox/work/Smallprojects/galaxies/data_misc/multiscale_stellar_associations/ngc3351/nuvselect/ws32pc/PHANGS_IR4_hst_wfc3_ngc3351_v1p3_multi_assoc-nuvselect-ws32pc-idmask.fits\n",
      "Cleaning: /Users/abarnes/Dropbox/work/Smallprojects/galaxies/data_misc/multiscale_stellar_associations/ngc3351/nuvselect/ws64pc/PHANGS_IR4_hst_wfc3_ngc3351_v1p3_multi_assoc-nuvselect-ws64pc-idmask.fits\n"
     ]
    },
    {
     "data": {
      "text/plain": [
       "2910"
      ]
     },
     "execution_count": 15,
     "metadata": {},
     "output_type": "execute_result"
    }
   ],
   "source": [
    "galaxyname = 'ngc3351'\n",
    "\n",
    "mycat = catalogue_pipeline.PyHSTHACat(galaxyname, output_dir_append='_fixediso')\n",
    "mycat.hstha_err = ISOTHRESHOLD\n",
    "mycat.rerun_all = True\n",
    "\n",
    "mycat.make_paths()\n",
    "mycat.load_files()\n",
    "mycat.get_regions()\n",
    "mycat.get_cutouts()\n",
    "mycat.make_catalogue()\n",
    "\n",
    "mycat.rerun_cutouts_associations = True\n",
    "mycat.make_associations()\n",
    "\n",
    "# To free memory\n",
    "del mycat \n",
    "gc.collect()"
   ]
  },
  {
   "cell_type": "code",
   "execution_count": 16,
   "metadata": {},
   "outputs": [
    {
     "name": "stdout",
     "output_type": "stream",
     "text": [
      "[Info] Outputting to the following:\n",
      "/Users/abarnes/Dropbox/work/Smallprojects/galaxies/data_hstha_nebulae_catalogue/ngc3627/\n",
      "[INFO] [get_MuseProps] Getting MUSE catalouge properties for ngc3627...\n",
      "[INFO] [get_galaxyprops] Getting sample table properties for ngc3627...\n",
      "[INFO] Generating new DS9 region file...\n",
      "[INFO] [get_regions] Opening regions file (this may take a min)... \n",
      "[INFO] [get_regions] Getting info for 1635 regions...\n",
      "[INFO] [save_pickle] Saved to /Users/abarnes/Dropbox/work/Smallprojects/galaxies/data_hstha_nebulae_catalogue/ngc3627/cutouts_fixediso/sample.pickel\n",
      "[INFO] Generating cutouts for hstha_hdu...\n"
     ]
    },
    {
     "name": "stderr",
     "output_type": "stream",
     "text": [
      "Cropping regions: 100%|██████████| 1635/1635 [00:05<00:00, 281.73it/s]\n"
     ]
    },
    {
     "name": "stdout",
     "output_type": "stream",
     "text": [
      "[INFO] [save_pickle] Saved to /Users/abarnes/Dropbox/work/Smallprojects/galaxies/data_hstha_nebulae_catalogue/ngc3627/cutouts_fixediso/hstha_hdu.pickel\n",
      "[INFO] Generating cutouts for musha_hdu...\n"
     ]
    },
    {
     "name": "stderr",
     "output_type": "stream",
     "text": [
      "Cropping regions: 100%|██████████| 1635/1635 [00:05<00:00, 317.41it/s]\n"
     ]
    },
    {
     "name": "stdout",
     "output_type": "stream",
     "text": [
      "[INFO] [save_pickle] Saved to /Users/abarnes/Dropbox/work/Smallprojects/galaxies/data_hstha_nebulae_catalogue/ngc3627/cutouts_fixediso/musha_hdu.pickel\n",
      "[INFO] Generating cutouts for muscat_hdu...\n"
     ]
    },
    {
     "name": "stderr",
     "output_type": "stream",
     "text": [
      "Cropping regions: 100%|██████████| 1635/1635 [00:05<00:00, 299.07it/s]\n"
     ]
    },
    {
     "name": "stdout",
     "output_type": "stream",
     "text": [
      "[INFO] [save_pickle] Saved to /Users/abarnes/Dropbox/work/Smallprojects/galaxies/data_hstha_nebulae_catalogue/ngc3627/cutouts_fixediso/muscat_hdu.pickel\n",
      "[INFO] [load_pickle] Load /Users/abarnes/Dropbox/work/Smallprojects/galaxies/data_hstha_nebulae_catalogue/ngc3627/cutouts_fixediso/hstha_hdu.pickel\n",
      "[INFO] [load_pickle] Load /Users/abarnes/Dropbox/work/Smallprojects/galaxies/data_hstha_nebulae_catalogue/ngc3627/cutouts_fixediso/musha_hdu.pickel\n",
      "[INFO] [load_pickle] Load /Users/abarnes/Dropbox/work/Smallprojects/galaxies/data_hstha_nebulae_catalogue/ngc3627/cutouts_fixediso/muscat_hdu.pickel\n",
      "[INFO] All HDU cutouts saved to /Users/abarnes/Dropbox/work/Smallprojects/galaxies/data_hstha_nebulae_catalogue/ngc3627/cutouts_fixediso/hdus_all.pickel\n",
      "[INFO] [save_pickle] Saved to /Users/abarnes/Dropbox/work/Smallprojects/galaxies/data_hstha_nebulae_catalogue/ngc3627/cutouts_fixediso/hdus_all.pickel\n",
      "[CATALOGUE] Running catalogue generation for: ngc3627\n",
      "[INFO] [get_maskedhdus] Getting HST maps masked by MUSE catalouge...\n"
     ]
    },
    {
     "name": "stderr",
     "output_type": "stream",
     "text": [
      "Masking regions: 100%|██████████| 1635/1635 [01:41<00:00, 16.18it/s]\n"
     ]
    },
    {
     "name": "stdout",
     "output_type": "stream",
     "text": [
      "[INFO] [save_pickle] Saved to /Users/abarnes/Dropbox/work/Smallprojects/galaxies/data_hstha_nebulae_catalogue/ngc3627/cutouts_fixediso/hdus_all_withmasked.pickel\n"
     ]
    },
    {
     "name": "stderr",
     "output_type": "stream",
     "text": [
      "Get sources:: 100%|██████████| 1635/1635 [00:46<00:00, 35.11it/s] \n"
     ]
    },
    {
     "name": "stdout",
     "output_type": "stream",
     "text": [
      "[INFO] [get_MuseProps] Getting MUSE catalouge properties for ngc3627...\n",
      "[CATALOGUE] Final properties table saved to: /Users/abarnes/Dropbox/work/Smallprojects/galaxies/data_hstha_nebulae_catalogue/ngc3627/catalogue_fixediso/props_all.fits\n"
     ]
    },
    {
     "name": "stderr",
     "output_type": "stream",
     "text": [
      "Masking regions: 100%|██████████| 1635/1635 [00:01<00:00, 1131.98it/s]\n",
      "100%|██████████| 480/480 [00:06<00:00, 77.56it/s]\n"
     ]
    },
    {
     "name": "stdout",
     "output_type": "stream",
     "text": [
      "[CATALOGUE] Masks saved to /Users/abarnes/Dropbox/work/Smallprojects/galaxies/data_hstha_nebulae_catalogue/ngc3627/catalogue_fixediso/ngc3627_mask.fits and /Users/abarnes/Dropbox/work/Smallprojects/galaxies/data_hstha_nebulae_catalogue/ngc3627/catalogue_fixediso/ngc3627_complexity.fits...\n",
      "[CATALOGUE] DS9 regions output to /Users/abarnes/Dropbox/work/Smallprojects/galaxies/data_hstha_nebulae_catalogue/ngc3627/catalogue_fixediso/ngc3627_mask...\n",
      "[CATALOGUE] Done!\n",
      "[ASSOCIATIONS] Checking association files for galaxy ngc3627 ...\n",
      "Unpacking: /Users/abarnes/Dropbox/work/Smallprojects/galaxies/data_misc/multiscale_stellar_associations/ngc3627/vselect/ws8pc/PHANGS_IR4_hst_wfc3_ngc3627_v1p3_multi_assoc-vselect-ws8pc-idmask.fits.gz\n",
      "[INFO] Files found for v_08pc.\n",
      "Unpacking: /Users/abarnes/Dropbox/work/Smallprojects/galaxies/data_misc/multiscale_stellar_associations/ngc3627/vselect/ws16pc/PHANGS_IR4_hst_wfc3_ngc3627_v1p3_multi_assoc-vselect-ws16pc-idmask.fits.gz\n",
      "[INFO] Files found for v_16pc.\n",
      "Unpacking: /Users/abarnes/Dropbox/work/Smallprojects/galaxies/data_misc/multiscale_stellar_associations/ngc3627/vselect/ws32pc/PHANGS_IR4_hst_wfc3_ngc3627_v1p3_multi_assoc-vselect-ws32pc-idmask.fits.gz\n",
      "[INFO] Files found for v_32pc.\n",
      "Unpacking: /Users/abarnes/Dropbox/work/Smallprojects/galaxies/data_misc/multiscale_stellar_associations/ngc3627/vselect/ws64pc/PHANGS_IR4_hst_wfc3_ngc3627_v1p3_multi_assoc-vselect-ws64pc-idmask.fits.gz\n",
      "[INFO] Files found for v_64pc.\n",
      "Unpacking: /Users/abarnes/Dropbox/work/Smallprojects/galaxies/data_misc/multiscale_stellar_associations/ngc3627/nuvselect/ws8pc/PHANGS_IR4_hst_wfc3_ngc3627_v1p3_multi_assoc-nuvselect-ws8pc-idmask.fits.gz\n",
      "[INFO] Files found for nuv_08pc.\n",
      "Unpacking: /Users/abarnes/Dropbox/work/Smallprojects/galaxies/data_misc/multiscale_stellar_associations/ngc3627/nuvselect/ws16pc/PHANGS_IR4_hst_wfc3_ngc3627_v1p3_multi_assoc-nuvselect-ws16pc-idmask.fits.gz\n",
      "[INFO] Files found for nuv_16pc.\n",
      "Unpacking: /Users/abarnes/Dropbox/work/Smallprojects/galaxies/data_misc/multiscale_stellar_associations/ngc3627/nuvselect/ws32pc/PHANGS_IR4_hst_wfc3_ngc3627_v1p3_multi_assoc-nuvselect-ws32pc-idmask.fits.gz\n",
      "[INFO] Files found for nuv_32pc.\n",
      "Unpacking: /Users/abarnes/Dropbox/work/Smallprojects/galaxies/data_misc/multiscale_stellar_associations/ngc3627/nuvselect/ws64pc/PHANGS_IR4_hst_wfc3_ngc3627_v1p3_multi_assoc-nuvselect-ws64pc-idmask.fits.gz\n",
      "[INFO] Files found for nuv_64pc.\n",
      "[INFO] [load_pickle] Load /Users/abarnes/Dropbox/work/Smallprojects/galaxies/data_hstha_nebulae_catalogue/ngc3627/cutouts_fixediso/sample.pickel\n",
      "[ASSOCIATIONS] Generating new cutouts for association masks...\n"
     ]
    },
    {
     "name": "stderr",
     "output_type": "stream",
     "text": [
      "Cropping regions: 100%|██████████| 480/480 [00:01<00:00, 257.62it/s]\n"
     ]
    },
    {
     "name": "stdout",
     "output_type": "stream",
     "text": [
      "[INFO] [save_pickle] Saved to /Users/abarnes/Dropbox/work/Smallprojects/galaxies/data_hstha_nebulae_catalogue/ngc3627/cutouts_fixediso/hdus_catalog_mask_new.pickel\n"
     ]
    },
    {
     "name": "stderr",
     "output_type": "stream",
     "text": [
      "Cropping regions: 100%|██████████| 480/480 [00:01<00:00, 269.82it/s]\n"
     ]
    },
    {
     "name": "stdout",
     "output_type": "stream",
     "text": [
      "[INFO] [save_pickle] Saved to /Users/abarnes/Dropbox/work/Smallprojects/galaxies/data_hstha_nebulae_catalogue/ngc3627/cutouts_fixediso/hdus_association_mask_new_v_08pc.pickel\n"
     ]
    },
    {
     "name": "stderr",
     "output_type": "stream",
     "text": [
      "Cropping regions: 100%|██████████| 480/480 [00:01<00:00, 272.36it/s]\n"
     ]
    },
    {
     "name": "stdout",
     "output_type": "stream",
     "text": [
      "[INFO] [save_pickle] Saved to /Users/abarnes/Dropbox/work/Smallprojects/galaxies/data_hstha_nebulae_catalogue/ngc3627/cutouts_fixediso/hdus_association_mask_new_v_16pc.pickel\n"
     ]
    },
    {
     "name": "stderr",
     "output_type": "stream",
     "text": [
      "Cropping regions: 100%|██████████| 480/480 [00:01<00:00, 250.80it/s]\n"
     ]
    },
    {
     "name": "stdout",
     "output_type": "stream",
     "text": [
      "[INFO] [save_pickle] Saved to /Users/abarnes/Dropbox/work/Smallprojects/galaxies/data_hstha_nebulae_catalogue/ngc3627/cutouts_fixediso/hdus_association_mask_new_v_32pc.pickel\n"
     ]
    },
    {
     "name": "stderr",
     "output_type": "stream",
     "text": [
      "Cropping regions: 100%|██████████| 480/480 [00:01<00:00, 265.07it/s]\n"
     ]
    },
    {
     "name": "stdout",
     "output_type": "stream",
     "text": [
      "[INFO] [save_pickle] Saved to /Users/abarnes/Dropbox/work/Smallprojects/galaxies/data_hstha_nebulae_catalogue/ngc3627/cutouts_fixediso/hdus_association_mask_new_v_64pc.pickel\n"
     ]
    },
    {
     "name": "stderr",
     "output_type": "stream",
     "text": [
      "Cropping regions: 100%|██████████| 480/480 [00:01<00:00, 247.35it/s]\n"
     ]
    },
    {
     "name": "stdout",
     "output_type": "stream",
     "text": [
      "[INFO] [save_pickle] Saved to /Users/abarnes/Dropbox/work/Smallprojects/galaxies/data_hstha_nebulae_catalogue/ngc3627/cutouts_fixediso/hdus_association_mask_new_nuv_08pc.pickel\n"
     ]
    },
    {
     "name": "stderr",
     "output_type": "stream",
     "text": [
      "Cropping regions: 100%|██████████| 480/480 [00:01<00:00, 252.15it/s]\n"
     ]
    },
    {
     "name": "stdout",
     "output_type": "stream",
     "text": [
      "[INFO] [save_pickle] Saved to /Users/abarnes/Dropbox/work/Smallprojects/galaxies/data_hstha_nebulae_catalogue/ngc3627/cutouts_fixediso/hdus_association_mask_new_nuv_16pc.pickel\n"
     ]
    },
    {
     "name": "stderr",
     "output_type": "stream",
     "text": [
      "Cropping regions: 100%|██████████| 480/480 [00:01<00:00, 261.50it/s]\n"
     ]
    },
    {
     "name": "stdout",
     "output_type": "stream",
     "text": [
      "[INFO] [save_pickle] Saved to /Users/abarnes/Dropbox/work/Smallprojects/galaxies/data_hstha_nebulae_catalogue/ngc3627/cutouts_fixediso/hdus_association_mask_new_nuv_32pc.pickel\n"
     ]
    },
    {
     "name": "stderr",
     "output_type": "stream",
     "text": [
      "Cropping regions: 100%|██████████| 480/480 [00:01<00:00, 266.50it/s]\n"
     ]
    },
    {
     "name": "stdout",
     "output_type": "stream",
     "text": [
      "[INFO] [save_pickle] Saved to /Users/abarnes/Dropbox/work/Smallprojects/galaxies/data_hstha_nebulae_catalogue/ngc3627/cutouts_fixediso/hdus_association_mask_new_nuv_64pc.pickel\n"
     ]
    },
    {
     "name": "stderr",
     "output_type": "stream",
     "text": [
      "Match associations::  23%|██▎       | 112/480 [00:18<01:07,  5.48it/s]"
     ]
    },
    {
     "name": "stdout",
     "output_type": "stream",
     "text": [
      "[INFO] Padding added to catalog mask to match association mask shape... \n"
     ]
    },
    {
     "name": "stderr",
     "output_type": "stream",
     "text": [
      "Match associations:: 100%|██████████| 480/480 [01:17<00:00,  6.22it/s]\n"
     ]
    },
    {
     "name": "stdout",
     "output_type": "stream",
     "text": [
      "[ASSOCIATIONS] Final association table saved to: /Users/abarnes/Dropbox/work/Smallprojects/galaxies/data_hstha_nebulae_catalogue/ngc3627/catalogue_fixediso/props_all_association.fits\n",
      "Cleaning: /Users/abarnes/Dropbox/work/Smallprojects/galaxies/data_misc/multiscale_stellar_associations/ngc3627/vselect/ws8pc/PHANGS_IR4_hst_wfc3_ngc3627_v1p3_multi_assoc-vselect-ws8pc-idmask.fits\n",
      "Cleaning: /Users/abarnes/Dropbox/work/Smallprojects/galaxies/data_misc/multiscale_stellar_associations/ngc3627/vselect/ws16pc/PHANGS_IR4_hst_wfc3_ngc3627_v1p3_multi_assoc-vselect-ws16pc-idmask.fits\n",
      "Cleaning: /Users/abarnes/Dropbox/work/Smallprojects/galaxies/data_misc/multiscale_stellar_associations/ngc3627/vselect/ws32pc/PHANGS_IR4_hst_wfc3_ngc3627_v1p3_multi_assoc-vselect-ws32pc-idmask.fits\n",
      "Cleaning: /Users/abarnes/Dropbox/work/Smallprojects/galaxies/data_misc/multiscale_stellar_associations/ngc3627/vselect/ws64pc/PHANGS_IR4_hst_wfc3_ngc3627_v1p3_multi_assoc-vselect-ws64pc-idmask.fits\n",
      "Cleaning: /Users/abarnes/Dropbox/work/Smallprojects/galaxies/data_misc/multiscale_stellar_associations/ngc3627/nuvselect/ws8pc/PHANGS_IR4_hst_wfc3_ngc3627_v1p3_multi_assoc-nuvselect-ws8pc-idmask.fits\n",
      "Cleaning: /Users/abarnes/Dropbox/work/Smallprojects/galaxies/data_misc/multiscale_stellar_associations/ngc3627/nuvselect/ws16pc/PHANGS_IR4_hst_wfc3_ngc3627_v1p3_multi_assoc-nuvselect-ws16pc-idmask.fits\n",
      "Cleaning: /Users/abarnes/Dropbox/work/Smallprojects/galaxies/data_misc/multiscale_stellar_associations/ngc3627/nuvselect/ws32pc/PHANGS_IR4_hst_wfc3_ngc3627_v1p3_multi_assoc-nuvselect-ws32pc-idmask.fits\n",
      "Cleaning: /Users/abarnes/Dropbox/work/Smallprojects/galaxies/data_misc/multiscale_stellar_associations/ngc3627/nuvselect/ws64pc/PHANGS_IR4_hst_wfc3_ngc3627_v1p3_multi_assoc-nuvselect-ws64pc-idmask.fits\n"
     ]
    },
    {
     "data": {
      "text/plain": [
       "36187"
      ]
     },
     "execution_count": 16,
     "metadata": {},
     "output_type": "execute_result"
    }
   ],
   "source": [
    "galaxyname = 'ngc3627'\n",
    "\n",
    "mycat = catalogue_pipeline.PyHSTHACat(galaxyname, output_dir_append='_fixediso')\n",
    "mycat.hstha_err = ISOTHRESHOLD\n",
    "mycat.rerun_all = True\n",
    "\n",
    "mycat.make_paths()\n",
    "mycat.load_files()\n",
    "mycat.get_regions()\n",
    "mycat.get_cutouts()\n",
    "mycat.make_catalogue()\n",
    "\n",
    "mycat.rerun_cutouts_associations = True\n",
    "mycat.make_associations()\n",
    "\n",
    "# To free memory\n",
    "del mycat \n",
    "gc.collect()"
   ]
  },
  {
   "cell_type": "code",
   "execution_count": 17,
   "metadata": {},
   "outputs": [
    {
     "name": "stdout",
     "output_type": "stream",
     "text": [
      "[Info] Outputting to the following:\n",
      "/Users/abarnes/Dropbox/work/Smallprojects/galaxies/data_hstha_nebulae_catalogue/ngc4254/\n",
      "[INFO] [get_MuseProps] Getting MUSE catalouge properties for ngc4254...\n",
      "[INFO] [get_galaxyprops] Getting sample table properties for ngc4254...\n",
      "[INFO] Generating new DS9 region file...\n",
      "[INFO] [get_regions] Opening regions file (this may take a min)... \n",
      "[INFO] [get_regions] Getting info for 2960 regions...\n",
      "[INFO] [save_pickle] Saved to /Users/abarnes/Dropbox/work/Smallprojects/galaxies/data_hstha_nebulae_catalogue/ngc4254/cutouts_fixediso/sample.pickel\n",
      "[INFO] Generating cutouts for hstha_hdu...\n"
     ]
    },
    {
     "name": "stderr",
     "output_type": "stream",
     "text": [
      "Cropping regions: 100%|██████████| 2960/2960 [00:11<00:00, 251.95it/s]\n"
     ]
    },
    {
     "name": "stdout",
     "output_type": "stream",
     "text": [
      "[INFO] [save_pickle] Saved to /Users/abarnes/Dropbox/work/Smallprojects/galaxies/data_hstha_nebulae_catalogue/ngc4254/cutouts_fixediso/hstha_hdu.pickel\n",
      "[INFO] Generating cutouts for musha_hdu...\n"
     ]
    },
    {
     "name": "stderr",
     "output_type": "stream",
     "text": [
      "Cropping regions: 100%|██████████| 2960/2960 [00:09<00:00, 313.31it/s]\n"
     ]
    },
    {
     "name": "stdout",
     "output_type": "stream",
     "text": [
      "[INFO] [save_pickle] Saved to /Users/abarnes/Dropbox/work/Smallprojects/galaxies/data_hstha_nebulae_catalogue/ngc4254/cutouts_fixediso/musha_hdu.pickel\n",
      "[INFO] Generating cutouts for muscat_hdu...\n"
     ]
    },
    {
     "name": "stderr",
     "output_type": "stream",
     "text": [
      "Cropping regions: 100%|██████████| 2960/2960 [00:10<00:00, 283.95it/s]\n"
     ]
    },
    {
     "name": "stdout",
     "output_type": "stream",
     "text": [
      "[INFO] [save_pickle] Saved to /Users/abarnes/Dropbox/work/Smallprojects/galaxies/data_hstha_nebulae_catalogue/ngc4254/cutouts_fixediso/muscat_hdu.pickel\n",
      "[INFO] [load_pickle] Load /Users/abarnes/Dropbox/work/Smallprojects/galaxies/data_hstha_nebulae_catalogue/ngc4254/cutouts_fixediso/hstha_hdu.pickel\n",
      "[INFO] [load_pickle] Load /Users/abarnes/Dropbox/work/Smallprojects/galaxies/data_hstha_nebulae_catalogue/ngc4254/cutouts_fixediso/musha_hdu.pickel\n",
      "[INFO] [load_pickle] Load /Users/abarnes/Dropbox/work/Smallprojects/galaxies/data_hstha_nebulae_catalogue/ngc4254/cutouts_fixediso/muscat_hdu.pickel\n",
      "[INFO] All HDU cutouts saved to /Users/abarnes/Dropbox/work/Smallprojects/galaxies/data_hstha_nebulae_catalogue/ngc4254/cutouts_fixediso/hdus_all.pickel\n",
      "[INFO] [save_pickle] Saved to /Users/abarnes/Dropbox/work/Smallprojects/galaxies/data_hstha_nebulae_catalogue/ngc4254/cutouts_fixediso/hdus_all.pickel\n",
      "[CATALOGUE] Running catalogue generation for: ngc4254\n",
      "[INFO] [get_maskedhdus] Getting HST maps masked by MUSE catalouge...\n"
     ]
    },
    {
     "name": "stderr",
     "output_type": "stream",
     "text": [
      "Masking regions: 100%|██████████| 2960/2960 [03:02<00:00, 16.20it/s]\n"
     ]
    },
    {
     "name": "stdout",
     "output_type": "stream",
     "text": [
      "[INFO] [save_pickle] Saved to /Users/abarnes/Dropbox/work/Smallprojects/galaxies/data_hstha_nebulae_catalogue/ngc4254/cutouts_fixediso/hdus_all_withmasked.pickel\n"
     ]
    },
    {
     "name": "stderr",
     "output_type": "stream",
     "text": [
      "Get sources:: 100%|██████████| 2960/2960 [01:21<00:00, 36.54it/s] \n"
     ]
    },
    {
     "name": "stdout",
     "output_type": "stream",
     "text": [
      "[INFO] [get_MuseProps] Getting MUSE catalouge properties for ngc4254...\n",
      "[CATALOGUE] Final properties table saved to: /Users/abarnes/Dropbox/work/Smallprojects/galaxies/data_hstha_nebulae_catalogue/ngc4254/catalogue_fixediso/props_all.fits\n"
     ]
    },
    {
     "name": "stderr",
     "output_type": "stream",
     "text": [
      "Masking regions: 100%|██████████| 2960/2960 [00:04<00:00, 729.59it/s] \n",
      "100%|██████████| 1253/1253 [00:52<00:00, 23.81it/s]\n"
     ]
    },
    {
     "name": "stdout",
     "output_type": "stream",
     "text": [
      "[CATALOGUE] Masks saved to /Users/abarnes/Dropbox/work/Smallprojects/galaxies/data_hstha_nebulae_catalogue/ngc4254/catalogue_fixediso/ngc4254_mask.fits and /Users/abarnes/Dropbox/work/Smallprojects/galaxies/data_hstha_nebulae_catalogue/ngc4254/catalogue_fixediso/ngc4254_complexity.fits...\n",
      "[CATALOGUE] DS9 regions output to /Users/abarnes/Dropbox/work/Smallprojects/galaxies/data_hstha_nebulae_catalogue/ngc4254/catalogue_fixediso/ngc4254_mask...\n",
      "[CATALOGUE] Done!\n",
      "[ASSOCIATIONS] Checking association files for galaxy ngc4254 ...\n",
      "Unpacking: /Users/abarnes/Dropbox/work/Smallprojects/galaxies/data_misc/multiscale_stellar_associations/ngc4254/vselect/ws8pc/PHANGS_IR4_hst_wfc3_ngc4254_v1p3_multi_assoc-vselect-ws8pc-idmask.fits.gz\n",
      "[INFO] Files found for v_08pc.\n",
      "Unpacking: /Users/abarnes/Dropbox/work/Smallprojects/galaxies/data_misc/multiscale_stellar_associations/ngc4254/vselect/ws16pc/PHANGS_IR4_hst_wfc3_ngc4254_v1p3_multi_assoc-vselect-ws16pc-idmask.fits.gz\n",
      "[INFO] Files found for v_16pc.\n",
      "Unpacking: /Users/abarnes/Dropbox/work/Smallprojects/galaxies/data_misc/multiscale_stellar_associations/ngc4254/vselect/ws32pc/PHANGS_IR4_hst_wfc3_ngc4254_v1p3_multi_assoc-vselect-ws32pc-idmask.fits.gz\n",
      "[INFO] Files found for v_32pc.\n",
      "Unpacking: /Users/abarnes/Dropbox/work/Smallprojects/galaxies/data_misc/multiscale_stellar_associations/ngc4254/vselect/ws64pc/PHANGS_IR4_hst_wfc3_ngc4254_v1p3_multi_assoc-vselect-ws64pc-idmask.fits.gz\n",
      "[INFO] Files found for v_64pc.\n",
      "Unpacking: /Users/abarnes/Dropbox/work/Smallprojects/galaxies/data_misc/multiscale_stellar_associations/ngc4254/nuvselect/ws8pc/PHANGS_IR4_hst_wfc3_ngc4254_v1p3_multi_assoc-nuvselect-ws8pc-idmask.fits.gz\n",
      "[INFO] Files found for nuv_08pc.\n",
      "Unpacking: /Users/abarnes/Dropbox/work/Smallprojects/galaxies/data_misc/multiscale_stellar_associations/ngc4254/nuvselect/ws16pc/PHANGS_IR4_hst_wfc3_ngc4254_v1p3_multi_assoc-nuvselect-ws16pc-idmask.fits.gz\n",
      "[INFO] Files found for nuv_16pc.\n",
      "Unpacking: /Users/abarnes/Dropbox/work/Smallprojects/galaxies/data_misc/multiscale_stellar_associations/ngc4254/nuvselect/ws32pc/PHANGS_IR4_hst_wfc3_ngc4254_v1p3_multi_assoc-nuvselect-ws32pc-idmask.fits.gz\n",
      "[INFO] Files found for nuv_32pc.\n",
      "Unpacking: /Users/abarnes/Dropbox/work/Smallprojects/galaxies/data_misc/multiscale_stellar_associations/ngc4254/nuvselect/ws64pc/PHANGS_IR4_hst_wfc3_ngc4254_v1p3_multi_assoc-nuvselect-ws64pc-idmask.fits.gz\n",
      "[INFO] Files found for nuv_64pc.\n",
      "[INFO] [load_pickle] Load /Users/abarnes/Dropbox/work/Smallprojects/galaxies/data_hstha_nebulae_catalogue/ngc4254/cutouts_fixediso/sample.pickel\n",
      "[ASSOCIATIONS] Generating new cutouts for association masks...\n"
     ]
    },
    {
     "name": "stderr",
     "output_type": "stream",
     "text": [
      "Cropping regions: 100%|██████████| 1253/1253 [00:04<00:00, 274.48it/s]\n"
     ]
    },
    {
     "name": "stdout",
     "output_type": "stream",
     "text": [
      "[INFO] [save_pickle] Saved to /Users/abarnes/Dropbox/work/Smallprojects/galaxies/data_hstha_nebulae_catalogue/ngc4254/cutouts_fixediso/hdus_catalog_mask_new.pickel\n"
     ]
    },
    {
     "name": "stderr",
     "output_type": "stream",
     "text": [
      "Cropping regions: 100%|██████████| 1253/1253 [00:04<00:00, 281.47it/s]\n"
     ]
    },
    {
     "name": "stdout",
     "output_type": "stream",
     "text": [
      "[INFO] [save_pickle] Saved to /Users/abarnes/Dropbox/work/Smallprojects/galaxies/data_hstha_nebulae_catalogue/ngc4254/cutouts_fixediso/hdus_association_mask_new_v_08pc.pickel\n"
     ]
    },
    {
     "name": "stderr",
     "output_type": "stream",
     "text": [
      "Cropping regions: 100%|██████████| 1253/1253 [00:04<00:00, 288.17it/s]\n"
     ]
    },
    {
     "name": "stdout",
     "output_type": "stream",
     "text": [
      "[INFO] [save_pickle] Saved to /Users/abarnes/Dropbox/work/Smallprojects/galaxies/data_hstha_nebulae_catalogue/ngc4254/cutouts_fixediso/hdus_association_mask_new_v_16pc.pickel\n"
     ]
    },
    {
     "name": "stderr",
     "output_type": "stream",
     "text": [
      "Cropping regions: 100%|██████████| 1253/1253 [00:04<00:00, 273.19it/s]\n"
     ]
    },
    {
     "name": "stdout",
     "output_type": "stream",
     "text": [
      "[INFO] [save_pickle] Saved to /Users/abarnes/Dropbox/work/Smallprojects/galaxies/data_hstha_nebulae_catalogue/ngc4254/cutouts_fixediso/hdus_association_mask_new_v_32pc.pickel\n"
     ]
    },
    {
     "name": "stderr",
     "output_type": "stream",
     "text": [
      "Cropping regions: 100%|██████████| 1253/1253 [00:04<00:00, 282.04it/s]\n"
     ]
    },
    {
     "name": "stdout",
     "output_type": "stream",
     "text": [
      "[INFO] [save_pickle] Saved to /Users/abarnes/Dropbox/work/Smallprojects/galaxies/data_hstha_nebulae_catalogue/ngc4254/cutouts_fixediso/hdus_association_mask_new_v_64pc.pickel\n"
     ]
    },
    {
     "name": "stderr",
     "output_type": "stream",
     "text": [
      "Cropping regions: 100%|██████████| 1253/1253 [00:04<00:00, 286.63it/s]\n"
     ]
    },
    {
     "name": "stdout",
     "output_type": "stream",
     "text": [
      "[INFO] [save_pickle] Saved to /Users/abarnes/Dropbox/work/Smallprojects/galaxies/data_hstha_nebulae_catalogue/ngc4254/cutouts_fixediso/hdus_association_mask_new_nuv_08pc.pickel\n"
     ]
    },
    {
     "name": "stderr",
     "output_type": "stream",
     "text": [
      "Cropping regions: 100%|██████████| 1253/1253 [00:04<00:00, 281.30it/s]\n"
     ]
    },
    {
     "name": "stdout",
     "output_type": "stream",
     "text": [
      "[INFO] [save_pickle] Saved to /Users/abarnes/Dropbox/work/Smallprojects/galaxies/data_hstha_nebulae_catalogue/ngc4254/cutouts_fixediso/hdus_association_mask_new_nuv_16pc.pickel\n"
     ]
    },
    {
     "name": "stderr",
     "output_type": "stream",
     "text": [
      "Cropping regions: 100%|██████████| 1253/1253 [00:04<00:00, 287.88it/s]\n"
     ]
    },
    {
     "name": "stdout",
     "output_type": "stream",
     "text": [
      "[INFO] [save_pickle] Saved to /Users/abarnes/Dropbox/work/Smallprojects/galaxies/data_hstha_nebulae_catalogue/ngc4254/cutouts_fixediso/hdus_association_mask_new_nuv_32pc.pickel\n"
     ]
    },
    {
     "name": "stderr",
     "output_type": "stream",
     "text": [
      "Cropping regions: 100%|██████████| 1253/1253 [00:04<00:00, 283.85it/s]\n"
     ]
    },
    {
     "name": "stdout",
     "output_type": "stream",
     "text": [
      "[INFO] [save_pickle] Saved to /Users/abarnes/Dropbox/work/Smallprojects/galaxies/data_hstha_nebulae_catalogue/ngc4254/cutouts_fixediso/hdus_association_mask_new_nuv_64pc.pickel\n"
     ]
    },
    {
     "name": "stderr",
     "output_type": "stream",
     "text": [
      "Match associations:: 100%|██████████| 1253/1253 [03:20<00:00,  6.25it/s]\n"
     ]
    },
    {
     "name": "stdout",
     "output_type": "stream",
     "text": [
      "[ASSOCIATIONS] Final association table saved to: /Users/abarnes/Dropbox/work/Smallprojects/galaxies/data_hstha_nebulae_catalogue/ngc4254/catalogue_fixediso/props_all_association.fits\n",
      "Cleaning: /Users/abarnes/Dropbox/work/Smallprojects/galaxies/data_misc/multiscale_stellar_associations/ngc4254/vselect/ws8pc/PHANGS_IR4_hst_wfc3_ngc4254_v1p3_multi_assoc-vselect-ws8pc-idmask.fits\n",
      "Cleaning: /Users/abarnes/Dropbox/work/Smallprojects/galaxies/data_misc/multiscale_stellar_associations/ngc4254/vselect/ws16pc/PHANGS_IR4_hst_wfc3_ngc4254_v1p3_multi_assoc-vselect-ws16pc-idmask.fits\n",
      "Cleaning: /Users/abarnes/Dropbox/work/Smallprojects/galaxies/data_misc/multiscale_stellar_associations/ngc4254/vselect/ws32pc/PHANGS_IR4_hst_wfc3_ngc4254_v1p3_multi_assoc-vselect-ws32pc-idmask.fits\n",
      "Cleaning: /Users/abarnes/Dropbox/work/Smallprojects/galaxies/data_misc/multiscale_stellar_associations/ngc4254/vselect/ws64pc/PHANGS_IR4_hst_wfc3_ngc4254_v1p3_multi_assoc-vselect-ws64pc-idmask.fits\n",
      "Cleaning: /Users/abarnes/Dropbox/work/Smallprojects/galaxies/data_misc/multiscale_stellar_associations/ngc4254/nuvselect/ws8pc/PHANGS_IR4_hst_wfc3_ngc4254_v1p3_multi_assoc-nuvselect-ws8pc-idmask.fits\n",
      "Cleaning: /Users/abarnes/Dropbox/work/Smallprojects/galaxies/data_misc/multiscale_stellar_associations/ngc4254/nuvselect/ws16pc/PHANGS_IR4_hst_wfc3_ngc4254_v1p3_multi_assoc-nuvselect-ws16pc-idmask.fits\n",
      "Cleaning: /Users/abarnes/Dropbox/work/Smallprojects/galaxies/data_misc/multiscale_stellar_associations/ngc4254/nuvselect/ws32pc/PHANGS_IR4_hst_wfc3_ngc4254_v1p3_multi_assoc-nuvselect-ws32pc-idmask.fits\n",
      "Cleaning: /Users/abarnes/Dropbox/work/Smallprojects/galaxies/data_misc/multiscale_stellar_associations/ngc4254/nuvselect/ws64pc/PHANGS_IR4_hst_wfc3_ngc4254_v1p3_multi_assoc-nuvselect-ws64pc-idmask.fits\n"
     ]
    },
    {
     "data": {
      "text/plain": [
       "177374"
      ]
     },
     "execution_count": 17,
     "metadata": {},
     "output_type": "execute_result"
    }
   ],
   "source": [
    "galaxyname = 'ngc4254'\n",
    "\n",
    "mycat = catalogue_pipeline.PyHSTHACat(galaxyname, output_dir_append='_fixediso')\n",
    "mycat.hstha_err = ISOTHRESHOLD\n",
    "mycat.rerun_all = True\n",
    "\n",
    "mycat.make_paths()\n",
    "mycat.load_files()\n",
    "mycat.get_regions()\n",
    "mycat.get_cutouts()\n",
    "mycat.make_catalogue()\n",
    "\n",
    "mycat.rerun_cutouts_associations = True\n",
    "mycat.make_associations()\n",
    "\n",
    "# To free memory\n",
    "del mycat \n",
    "gc.collect()"
   ]
  },
  {
   "cell_type": "code",
   "execution_count": 18,
   "metadata": {},
   "outputs": [
    {
     "name": "stdout",
     "output_type": "stream",
     "text": [
      "[Info] Outputting to the following:\n",
      "/Users/abarnes/Dropbox/work/Smallprojects/galaxies/data_hstha_nebulae_catalogue/ngc4303/\n",
      "[INFO] [get_MuseProps] Getting MUSE catalouge properties for ngc4303...\n",
      "[INFO] [get_galaxyprops] Getting sample table properties for ngc4303...\n",
      "[INFO] Generating new DS9 region file...\n",
      "[INFO] [get_regions] Opening regions file (this may take a min)... \n",
      "[INFO] [get_regions] Getting info for 3067 regions...\n",
      "[INFO] [save_pickle] Saved to /Users/abarnes/Dropbox/work/Smallprojects/galaxies/data_hstha_nebulae_catalogue/ngc4303/cutouts_fixediso/sample.pickel\n",
      "[INFO] Generating cutouts for hstha_hdu...\n"
     ]
    },
    {
     "name": "stderr",
     "output_type": "stream",
     "text": [
      "Cropping regions: 100%|██████████| 3067/3067 [00:11<00:00, 263.36it/s]\n"
     ]
    },
    {
     "name": "stdout",
     "output_type": "stream",
     "text": [
      "[INFO] [save_pickle] Saved to /Users/abarnes/Dropbox/work/Smallprojects/galaxies/data_hstha_nebulae_catalogue/ngc4303/cutouts_fixediso/hstha_hdu.pickel\n",
      "[INFO] Generating cutouts for musha_hdu...\n"
     ]
    },
    {
     "name": "stderr",
     "output_type": "stream",
     "text": [
      "Cropping regions: 100%|██████████| 3067/3067 [00:09<00:00, 314.34it/s]\n"
     ]
    },
    {
     "name": "stdout",
     "output_type": "stream",
     "text": [
      "[INFO] [save_pickle] Saved to /Users/abarnes/Dropbox/work/Smallprojects/galaxies/data_hstha_nebulae_catalogue/ngc4303/cutouts_fixediso/musha_hdu.pickel\n",
      "[INFO] Generating cutouts for muscat_hdu...\n"
     ]
    },
    {
     "name": "stderr",
     "output_type": "stream",
     "text": [
      "Cropping regions: 100%|██████████| 3067/3067 [00:10<00:00, 297.05it/s]\n"
     ]
    },
    {
     "name": "stdout",
     "output_type": "stream",
     "text": [
      "[INFO] [save_pickle] Saved to /Users/abarnes/Dropbox/work/Smallprojects/galaxies/data_hstha_nebulae_catalogue/ngc4303/cutouts_fixediso/muscat_hdu.pickel\n",
      "[INFO] [load_pickle] Load /Users/abarnes/Dropbox/work/Smallprojects/galaxies/data_hstha_nebulae_catalogue/ngc4303/cutouts_fixediso/hstha_hdu.pickel\n",
      "[INFO] [load_pickle] Load /Users/abarnes/Dropbox/work/Smallprojects/galaxies/data_hstha_nebulae_catalogue/ngc4303/cutouts_fixediso/musha_hdu.pickel\n",
      "[INFO] [load_pickle] Load /Users/abarnes/Dropbox/work/Smallprojects/galaxies/data_hstha_nebulae_catalogue/ngc4303/cutouts_fixediso/muscat_hdu.pickel\n",
      "[INFO] All HDU cutouts saved to /Users/abarnes/Dropbox/work/Smallprojects/galaxies/data_hstha_nebulae_catalogue/ngc4303/cutouts_fixediso/hdus_all.pickel\n",
      "[INFO] [save_pickle] Saved to /Users/abarnes/Dropbox/work/Smallprojects/galaxies/data_hstha_nebulae_catalogue/ngc4303/cutouts_fixediso/hdus_all.pickel\n",
      "[CATALOGUE] Running catalogue generation for: ngc4303\n",
      "[INFO] [get_maskedhdus] Getting HST maps masked by MUSE catalouge...\n"
     ]
    },
    {
     "name": "stderr",
     "output_type": "stream",
     "text": [
      "Masking regions: 100%|██████████| 3067/3067 [02:58<00:00, 17.15it/s]\n"
     ]
    },
    {
     "name": "stdout",
     "output_type": "stream",
     "text": [
      "[INFO] [save_pickle] Saved to /Users/abarnes/Dropbox/work/Smallprojects/galaxies/data_hstha_nebulae_catalogue/ngc4303/cutouts_fixediso/hdus_all_withmasked.pickel\n"
     ]
    },
    {
     "name": "stderr",
     "output_type": "stream",
     "text": [
      "Get sources:: 100%|██████████| 3067/3067 [01:00<00:00, 51.02it/s] \n"
     ]
    },
    {
     "name": "stdout",
     "output_type": "stream",
     "text": [
      "[INFO] [get_MuseProps] Getting MUSE catalouge properties for ngc4303...\n",
      "[CATALOGUE] Final properties table saved to: /Users/abarnes/Dropbox/work/Smallprojects/galaxies/data_hstha_nebulae_catalogue/ngc4303/catalogue_fixediso/props_all.fits\n"
     ]
    },
    {
     "name": "stderr",
     "output_type": "stream",
     "text": [
      "Masking regions: 100%|██████████| 3067/3067 [00:03<00:00, 937.56it/s] \n",
      "100%|██████████| 1020/1020 [00:23<00:00, 44.00it/s]\n"
     ]
    },
    {
     "name": "stdout",
     "output_type": "stream",
     "text": [
      "[CATALOGUE] Masks saved to /Users/abarnes/Dropbox/work/Smallprojects/galaxies/data_hstha_nebulae_catalogue/ngc4303/catalogue_fixediso/ngc4303_mask.fits and /Users/abarnes/Dropbox/work/Smallprojects/galaxies/data_hstha_nebulae_catalogue/ngc4303/catalogue_fixediso/ngc4303_complexity.fits...\n",
      "[CATALOGUE] DS9 regions output to /Users/abarnes/Dropbox/work/Smallprojects/galaxies/data_hstha_nebulae_catalogue/ngc4303/catalogue_fixediso/ngc4303_mask...\n",
      "[CATALOGUE] Done!\n",
      "[ASSOCIATIONS] Checking association files for galaxy ngc4303 ...\n",
      "Unpacking: /Users/abarnes/Dropbox/work/Smallprojects/galaxies/data_misc/multiscale_stellar_associations/ngc4303/vselect/ws8pc/PHANGS_IR4_hst_wfc3_ngc4303_v1p3_multi_assoc-vselect-ws8pc-idmask.fits.gz\n",
      "[INFO] Files found for v_08pc.\n",
      "Unpacking: /Users/abarnes/Dropbox/work/Smallprojects/galaxies/data_misc/multiscale_stellar_associations/ngc4303/vselect/ws16pc/PHANGS_IR4_hst_wfc3_ngc4303_v1p3_multi_assoc-vselect-ws16pc-idmask.fits.gz\n",
      "[INFO] Files found for v_16pc.\n",
      "Unpacking: /Users/abarnes/Dropbox/work/Smallprojects/galaxies/data_misc/multiscale_stellar_associations/ngc4303/vselect/ws32pc/PHANGS_IR4_hst_wfc3_ngc4303_v1p3_multi_assoc-vselect-ws32pc-idmask.fits.gz\n",
      "[INFO] Files found for v_32pc.\n",
      "Unpacking: /Users/abarnes/Dropbox/work/Smallprojects/galaxies/data_misc/multiscale_stellar_associations/ngc4303/vselect/ws64pc/PHANGS_IR4_hst_wfc3_ngc4303_v1p3_multi_assoc-vselect-ws64pc-idmask.fits.gz\n",
      "[INFO] Files found for v_64pc.\n",
      "Unpacking: /Users/abarnes/Dropbox/work/Smallprojects/galaxies/data_misc/multiscale_stellar_associations/ngc4303/nuvselect/ws8pc/PHANGS_IR4_hst_wfc3_ngc4303_v1p3_multi_assoc-nuvselect-ws8pc-idmask.fits.gz\n",
      "[INFO] Files found for nuv_08pc.\n",
      "Unpacking: /Users/abarnes/Dropbox/work/Smallprojects/galaxies/data_misc/multiscale_stellar_associations/ngc4303/nuvselect/ws16pc/PHANGS_IR4_hst_wfc3_ngc4303_v1p3_multi_assoc-nuvselect-ws16pc-idmask.fits.gz\n",
      "[INFO] Files found for nuv_16pc.\n",
      "Unpacking: /Users/abarnes/Dropbox/work/Smallprojects/galaxies/data_misc/multiscale_stellar_associations/ngc4303/nuvselect/ws32pc/PHANGS_IR4_hst_wfc3_ngc4303_v1p3_multi_assoc-nuvselect-ws32pc-idmask.fits.gz\n",
      "[INFO] Files found for nuv_32pc.\n",
      "Unpacking: /Users/abarnes/Dropbox/work/Smallprojects/galaxies/data_misc/multiscale_stellar_associations/ngc4303/nuvselect/ws64pc/PHANGS_IR4_hst_wfc3_ngc4303_v1p3_multi_assoc-nuvselect-ws64pc-idmask.fits.gz\n",
      "[INFO] Files found for nuv_64pc.\n",
      "[INFO] [load_pickle] Load /Users/abarnes/Dropbox/work/Smallprojects/galaxies/data_hstha_nebulae_catalogue/ngc4303/cutouts_fixediso/sample.pickel\n",
      "[ASSOCIATIONS] Generating new cutouts for association masks...\n"
     ]
    },
    {
     "name": "stderr",
     "output_type": "stream",
     "text": [
      "Cropping regions: 100%|██████████| 1020/1020 [00:03<00:00, 266.05it/s]\n"
     ]
    },
    {
     "name": "stdout",
     "output_type": "stream",
     "text": [
      "[INFO] [save_pickle] Saved to /Users/abarnes/Dropbox/work/Smallprojects/galaxies/data_hstha_nebulae_catalogue/ngc4303/cutouts_fixediso/hdus_catalog_mask_new.pickel\n"
     ]
    },
    {
     "name": "stderr",
     "output_type": "stream",
     "text": [
      "Cropping regions: 100%|██████████| 1020/1020 [00:03<00:00, 285.95it/s]\n"
     ]
    },
    {
     "name": "stdout",
     "output_type": "stream",
     "text": [
      "[INFO] [save_pickle] Saved to /Users/abarnes/Dropbox/work/Smallprojects/galaxies/data_hstha_nebulae_catalogue/ngc4303/cutouts_fixediso/hdus_association_mask_new_v_08pc.pickel\n"
     ]
    },
    {
     "name": "stderr",
     "output_type": "stream",
     "text": [
      "Cropping regions: 100%|██████████| 1020/1020 [00:03<00:00, 281.89it/s]\n"
     ]
    },
    {
     "name": "stdout",
     "output_type": "stream",
     "text": [
      "[INFO] [save_pickle] Saved to /Users/abarnes/Dropbox/work/Smallprojects/galaxies/data_hstha_nebulae_catalogue/ngc4303/cutouts_fixediso/hdus_association_mask_new_v_16pc.pickel\n"
     ]
    },
    {
     "name": "stderr",
     "output_type": "stream",
     "text": [
      "Cropping regions: 100%|██████████| 1020/1020 [00:03<00:00, 288.59it/s]\n"
     ]
    },
    {
     "name": "stdout",
     "output_type": "stream",
     "text": [
      "[INFO] [save_pickle] Saved to /Users/abarnes/Dropbox/work/Smallprojects/galaxies/data_hstha_nebulae_catalogue/ngc4303/cutouts_fixediso/hdus_association_mask_new_v_32pc.pickel\n"
     ]
    },
    {
     "name": "stderr",
     "output_type": "stream",
     "text": [
      "Cropping regions: 100%|██████████| 1020/1020 [00:03<00:00, 290.31it/s]\n"
     ]
    },
    {
     "name": "stdout",
     "output_type": "stream",
     "text": [
      "[INFO] [save_pickle] Saved to /Users/abarnes/Dropbox/work/Smallprojects/galaxies/data_hstha_nebulae_catalogue/ngc4303/cutouts_fixediso/hdus_association_mask_new_v_64pc.pickel\n"
     ]
    },
    {
     "name": "stderr",
     "output_type": "stream",
     "text": [
      "Cropping regions: 100%|██████████| 1020/1020 [00:03<00:00, 274.91it/s]\n"
     ]
    },
    {
     "name": "stdout",
     "output_type": "stream",
     "text": [
      "[INFO] [save_pickle] Saved to /Users/abarnes/Dropbox/work/Smallprojects/galaxies/data_hstha_nebulae_catalogue/ngc4303/cutouts_fixediso/hdus_association_mask_new_nuv_08pc.pickel\n"
     ]
    },
    {
     "name": "stderr",
     "output_type": "stream",
     "text": [
      "Cropping regions: 100%|██████████| 1020/1020 [00:03<00:00, 273.95it/s]\n"
     ]
    },
    {
     "name": "stdout",
     "output_type": "stream",
     "text": [
      "[INFO] [save_pickle] Saved to /Users/abarnes/Dropbox/work/Smallprojects/galaxies/data_hstha_nebulae_catalogue/ngc4303/cutouts_fixediso/hdus_association_mask_new_nuv_16pc.pickel\n"
     ]
    },
    {
     "name": "stderr",
     "output_type": "stream",
     "text": [
      "Cropping regions: 100%|██████████| 1020/1020 [00:03<00:00, 273.38it/s]\n"
     ]
    },
    {
     "name": "stdout",
     "output_type": "stream",
     "text": [
      "[INFO] [save_pickle] Saved to /Users/abarnes/Dropbox/work/Smallprojects/galaxies/data_hstha_nebulae_catalogue/ngc4303/cutouts_fixediso/hdus_association_mask_new_nuv_32pc.pickel\n"
     ]
    },
    {
     "name": "stderr",
     "output_type": "stream",
     "text": [
      "Cropping regions: 100%|██████████| 1020/1020 [00:03<00:00, 275.19it/s]\n"
     ]
    },
    {
     "name": "stdout",
     "output_type": "stream",
     "text": [
      "[INFO] [save_pickle] Saved to /Users/abarnes/Dropbox/work/Smallprojects/galaxies/data_hstha_nebulae_catalogue/ngc4303/cutouts_fixediso/hdus_association_mask_new_nuv_64pc.pickel\n"
     ]
    },
    {
     "name": "stderr",
     "output_type": "stream",
     "text": [
      "Match associations:: 100%|██████████| 1020/1020 [02:54<00:00,  5.84it/s]\n"
     ]
    },
    {
     "name": "stdout",
     "output_type": "stream",
     "text": [
      "[ASSOCIATIONS] Final association table saved to: /Users/abarnes/Dropbox/work/Smallprojects/galaxies/data_hstha_nebulae_catalogue/ngc4303/catalogue_fixediso/props_all_association.fits\n",
      "Cleaning: /Users/abarnes/Dropbox/work/Smallprojects/galaxies/data_misc/multiscale_stellar_associations/ngc4303/vselect/ws8pc/PHANGS_IR4_hst_wfc3_ngc4303_v1p3_multi_assoc-vselect-ws8pc-idmask.fits\n",
      "Cleaning: /Users/abarnes/Dropbox/work/Smallprojects/galaxies/data_misc/multiscale_stellar_associations/ngc4303/vselect/ws16pc/PHANGS_IR4_hst_wfc3_ngc4303_v1p3_multi_assoc-vselect-ws16pc-idmask.fits\n",
      "Cleaning: /Users/abarnes/Dropbox/work/Smallprojects/galaxies/data_misc/multiscale_stellar_associations/ngc4303/vselect/ws32pc/PHANGS_IR4_hst_wfc3_ngc4303_v1p3_multi_assoc-vselect-ws32pc-idmask.fits\n",
      "Cleaning: /Users/abarnes/Dropbox/work/Smallprojects/galaxies/data_misc/multiscale_stellar_associations/ngc4303/vselect/ws64pc/PHANGS_IR4_hst_wfc3_ngc4303_v1p3_multi_assoc-vselect-ws64pc-idmask.fits\n",
      "Cleaning: /Users/abarnes/Dropbox/work/Smallprojects/galaxies/data_misc/multiscale_stellar_associations/ngc4303/nuvselect/ws8pc/PHANGS_IR4_hst_wfc3_ngc4303_v1p3_multi_assoc-nuvselect-ws8pc-idmask.fits\n",
      "Cleaning: /Users/abarnes/Dropbox/work/Smallprojects/galaxies/data_misc/multiscale_stellar_associations/ngc4303/nuvselect/ws16pc/PHANGS_IR4_hst_wfc3_ngc4303_v1p3_multi_assoc-nuvselect-ws16pc-idmask.fits\n",
      "Cleaning: /Users/abarnes/Dropbox/work/Smallprojects/galaxies/data_misc/multiscale_stellar_associations/ngc4303/nuvselect/ws32pc/PHANGS_IR4_hst_wfc3_ngc4303_v1p3_multi_assoc-nuvselect-ws32pc-idmask.fits\n",
      "Cleaning: /Users/abarnes/Dropbox/work/Smallprojects/galaxies/data_misc/multiscale_stellar_associations/ngc4303/nuvselect/ws64pc/PHANGS_IR4_hst_wfc3_ngc4303_v1p3_multi_assoc-nuvselect-ws64pc-idmask.fits\n"
     ]
    },
    {
     "data": {
      "text/plain": [
       "61988"
      ]
     },
     "execution_count": 18,
     "metadata": {},
     "output_type": "execute_result"
    }
   ],
   "source": [
    "galaxyname = 'ngc4303'\n",
    "\n",
    "mycat = catalogue_pipeline.PyHSTHACat(galaxyname, output_dir_append='_fixediso')\n",
    "mycat.hstha_err = ISOTHRESHOLD\n",
    "mycat.rerun_all = True\n",
    "\n",
    "mycat.make_paths()\n",
    "mycat.load_files()\n",
    "mycat.get_regions()\n",
    "mycat.get_cutouts()\n",
    "mycat.make_catalogue()\n",
    "\n",
    "mycat.rerun_cutouts_associations = True\n",
    "mycat.make_associations()\n",
    "\n",
    "# To free memory\n",
    "del mycat \n",
    "gc.collect()"
   ]
  },
  {
   "cell_type": "code",
   "execution_count": 19,
   "metadata": {},
   "outputs": [
    {
     "name": "stdout",
     "output_type": "stream",
     "text": [
      "[Info] Outputting to the following:\n",
      "/Users/abarnes/Dropbox/work/Smallprojects/galaxies/data_hstha_nebulae_catalogue/ngc4321/\n",
      "[INFO] [get_MuseProps] Getting MUSE catalouge properties for ngc4321...\n",
      "[INFO] [get_galaxyprops] Getting sample table properties for ngc4321...\n",
      "[INFO] Generating new DS9 region file...\n",
      "[INFO] [get_regions] Opening regions file (this may take a min)... \n",
      "[INFO] [get_regions] Getting info for 1847 regions...\n",
      "[INFO] [save_pickle] Saved to /Users/abarnes/Dropbox/work/Smallprojects/galaxies/data_hstha_nebulae_catalogue/ngc4321/cutouts_fixediso/sample.pickel\n",
      "[INFO] Generating cutouts for hstha_hdu...\n"
     ]
    },
    {
     "name": "stderr",
     "output_type": "stream",
     "text": [
      "Cropping regions: 100%|██████████| 1847/1847 [00:06<00:00, 272.29it/s]\n"
     ]
    },
    {
     "name": "stdout",
     "output_type": "stream",
     "text": [
      "[INFO] [save_pickle] Saved to /Users/abarnes/Dropbox/work/Smallprojects/galaxies/data_hstha_nebulae_catalogue/ngc4321/cutouts_fixediso/hstha_hdu.pickel\n",
      "[INFO] Generating cutouts for musha_hdu...\n"
     ]
    },
    {
     "name": "stderr",
     "output_type": "stream",
     "text": [
      "Cropping regions: 100%|██████████| 1847/1847 [00:05<00:00, 312.06it/s]\n"
     ]
    },
    {
     "name": "stdout",
     "output_type": "stream",
     "text": [
      "[INFO] [save_pickle] Saved to /Users/abarnes/Dropbox/work/Smallprojects/galaxies/data_hstha_nebulae_catalogue/ngc4321/cutouts_fixediso/musha_hdu.pickel\n",
      "[INFO] Generating cutouts for muscat_hdu...\n"
     ]
    },
    {
     "name": "stderr",
     "output_type": "stream",
     "text": [
      "Cropping regions: 100%|██████████| 1847/1847 [00:07<00:00, 256.06it/s]\n"
     ]
    },
    {
     "name": "stdout",
     "output_type": "stream",
     "text": [
      "[INFO] [save_pickle] Saved to /Users/abarnes/Dropbox/work/Smallprojects/galaxies/data_hstha_nebulae_catalogue/ngc4321/cutouts_fixediso/muscat_hdu.pickel\n",
      "[INFO] [load_pickle] Load /Users/abarnes/Dropbox/work/Smallprojects/galaxies/data_hstha_nebulae_catalogue/ngc4321/cutouts_fixediso/hstha_hdu.pickel\n",
      "[INFO] [load_pickle] Load /Users/abarnes/Dropbox/work/Smallprojects/galaxies/data_hstha_nebulae_catalogue/ngc4321/cutouts_fixediso/musha_hdu.pickel\n",
      "[INFO] [load_pickle] Load /Users/abarnes/Dropbox/work/Smallprojects/galaxies/data_hstha_nebulae_catalogue/ngc4321/cutouts_fixediso/muscat_hdu.pickel\n",
      "[INFO] All HDU cutouts saved to /Users/abarnes/Dropbox/work/Smallprojects/galaxies/data_hstha_nebulae_catalogue/ngc4321/cutouts_fixediso/hdus_all.pickel\n",
      "[INFO] [save_pickle] Saved to /Users/abarnes/Dropbox/work/Smallprojects/galaxies/data_hstha_nebulae_catalogue/ngc4321/cutouts_fixediso/hdus_all.pickel\n",
      "[CATALOGUE] Running catalogue generation for: ngc4321\n",
      "[INFO] [get_maskedhdus] Getting HST maps masked by MUSE catalouge...\n"
     ]
    },
    {
     "name": "stderr",
     "output_type": "stream",
     "text": [
      "Masking regions: 100%|██████████| 1847/1847 [01:55<00:00, 16.01it/s]\n"
     ]
    },
    {
     "name": "stdout",
     "output_type": "stream",
     "text": [
      "[INFO] [save_pickle] Saved to /Users/abarnes/Dropbox/work/Smallprojects/galaxies/data_hstha_nebulae_catalogue/ngc4321/cutouts_fixediso/hdus_all_withmasked.pickel\n"
     ]
    },
    {
     "name": "stderr",
     "output_type": "stream",
     "text": [
      "Get sources:: 100%|██████████| 1847/1847 [00:29<00:00, 62.82it/s] \n"
     ]
    },
    {
     "name": "stdout",
     "output_type": "stream",
     "text": [
      "[INFO] [get_MuseProps] Getting MUSE catalouge properties for ngc4321...\n",
      "[CATALOGUE] Final properties table saved to: /Users/abarnes/Dropbox/work/Smallprojects/galaxies/data_hstha_nebulae_catalogue/ngc4321/catalogue_fixediso/props_all.fits\n"
     ]
    },
    {
     "name": "stderr",
     "output_type": "stream",
     "text": [
      "Masking regions: 100%|██████████| 1847/1847 [00:01<00:00, 1244.15it/s]\n",
      "100%|██████████| 469/469 [00:07<00:00, 59.09it/s]\n"
     ]
    },
    {
     "name": "stdout",
     "output_type": "stream",
     "text": [
      "[CATALOGUE] Masks saved to /Users/abarnes/Dropbox/work/Smallprojects/galaxies/data_hstha_nebulae_catalogue/ngc4321/catalogue_fixediso/ngc4321_mask.fits and /Users/abarnes/Dropbox/work/Smallprojects/galaxies/data_hstha_nebulae_catalogue/ngc4321/catalogue_fixediso/ngc4321_complexity.fits...\n",
      "[CATALOGUE] DS9 regions output to /Users/abarnes/Dropbox/work/Smallprojects/galaxies/data_hstha_nebulae_catalogue/ngc4321/catalogue_fixediso/ngc4321_mask...\n",
      "[CATALOGUE] Done!\n",
      "[ASSOCIATIONS] Checking association files for galaxy ngc4321 ...\n",
      "Unpacking: /Users/abarnes/Dropbox/work/Smallprojects/galaxies/data_misc/multiscale_stellar_associations/ngc4321/vselect/ws8pc/PHANGS_IR4_hst_wfc3_ngc4321_v1p3_multi_assoc-vselect-ws8pc-idmask.fits.gz\n",
      "[INFO] Files found for v_08pc.\n",
      "Unpacking: /Users/abarnes/Dropbox/work/Smallprojects/galaxies/data_misc/multiscale_stellar_associations/ngc4321/vselect/ws16pc/PHANGS_IR4_hst_wfc3_ngc4321_v1p3_multi_assoc-vselect-ws16pc-idmask.fits.gz\n",
      "[INFO] Files found for v_16pc.\n",
      "Unpacking: /Users/abarnes/Dropbox/work/Smallprojects/galaxies/data_misc/multiscale_stellar_associations/ngc4321/vselect/ws32pc/PHANGS_IR4_hst_wfc3_ngc4321_v1p3_multi_assoc-vselect-ws32pc-idmask.fits.gz\n",
      "[INFO] Files found for v_32pc.\n",
      "Unpacking: /Users/abarnes/Dropbox/work/Smallprojects/galaxies/data_misc/multiscale_stellar_associations/ngc4321/vselect/ws64pc/PHANGS_IR4_hst_wfc3_ngc4321_v1p3_multi_assoc-vselect-ws64pc-idmask.fits.gz\n",
      "[INFO] Files found for v_64pc.\n",
      "Unpacking: /Users/abarnes/Dropbox/work/Smallprojects/galaxies/data_misc/multiscale_stellar_associations/ngc4321/nuvselect/ws8pc/PHANGS_IR4_hst_wfc3_ngc4321_v1p3_multi_assoc-nuvselect-ws8pc-idmask.fits.gz\n",
      "[INFO] Files found for nuv_08pc.\n",
      "Unpacking: /Users/abarnes/Dropbox/work/Smallprojects/galaxies/data_misc/multiscale_stellar_associations/ngc4321/nuvselect/ws16pc/PHANGS_IR4_hst_wfc3_ngc4321_v1p3_multi_assoc-nuvselect-ws16pc-idmask.fits.gz\n",
      "[INFO] Files found for nuv_16pc.\n",
      "Unpacking: /Users/abarnes/Dropbox/work/Smallprojects/galaxies/data_misc/multiscale_stellar_associations/ngc4321/nuvselect/ws32pc/PHANGS_IR4_hst_wfc3_ngc4321_v1p3_multi_assoc-nuvselect-ws32pc-idmask.fits.gz\n",
      "[INFO] Files found for nuv_32pc.\n",
      "Unpacking: /Users/abarnes/Dropbox/work/Smallprojects/galaxies/data_misc/multiscale_stellar_associations/ngc4321/nuvselect/ws64pc/PHANGS_IR4_hst_wfc3_ngc4321_v1p3_multi_assoc-nuvselect-ws64pc-idmask.fits.gz\n",
      "[INFO] Files found for nuv_64pc.\n",
      "[INFO] [load_pickle] Load /Users/abarnes/Dropbox/work/Smallprojects/galaxies/data_hstha_nebulae_catalogue/ngc4321/cutouts_fixediso/sample.pickel\n",
      "[ASSOCIATIONS] Generating new cutouts for association masks...\n"
     ]
    },
    {
     "name": "stderr",
     "output_type": "stream",
     "text": [
      "Cropping regions: 100%|██████████| 469/469 [00:01<00:00, 257.63it/s]\n"
     ]
    },
    {
     "name": "stdout",
     "output_type": "stream",
     "text": [
      "[INFO] [save_pickle] Saved to /Users/abarnes/Dropbox/work/Smallprojects/galaxies/data_hstha_nebulae_catalogue/ngc4321/cutouts_fixediso/hdus_catalog_mask_new.pickel\n"
     ]
    },
    {
     "name": "stderr",
     "output_type": "stream",
     "text": [
      "Cropping regions: 100%|██████████| 469/469 [00:01<00:00, 268.78it/s]\n"
     ]
    },
    {
     "name": "stdout",
     "output_type": "stream",
     "text": [
      "[INFO] [save_pickle] Saved to /Users/abarnes/Dropbox/work/Smallprojects/galaxies/data_hstha_nebulae_catalogue/ngc4321/cutouts_fixediso/hdus_association_mask_new_v_08pc.pickel\n"
     ]
    },
    {
     "name": "stderr",
     "output_type": "stream",
     "text": [
      "Cropping regions: 100%|██████████| 469/469 [00:01<00:00, 268.68it/s]\n"
     ]
    },
    {
     "name": "stdout",
     "output_type": "stream",
     "text": [
      "[INFO] [save_pickle] Saved to /Users/abarnes/Dropbox/work/Smallprojects/galaxies/data_hstha_nebulae_catalogue/ngc4321/cutouts_fixediso/hdus_association_mask_new_v_16pc.pickel\n"
     ]
    },
    {
     "name": "stderr",
     "output_type": "stream",
     "text": [
      "Cropping regions: 100%|██████████| 469/469 [00:01<00:00, 270.75it/s]\n"
     ]
    },
    {
     "name": "stdout",
     "output_type": "stream",
     "text": [
      "[INFO] [save_pickle] Saved to /Users/abarnes/Dropbox/work/Smallprojects/galaxies/data_hstha_nebulae_catalogue/ngc4321/cutouts_fixediso/hdus_association_mask_new_v_32pc.pickel\n"
     ]
    },
    {
     "name": "stderr",
     "output_type": "stream",
     "text": [
      "Cropping regions: 100%|██████████| 469/469 [00:01<00:00, 267.42it/s]\n"
     ]
    },
    {
     "name": "stdout",
     "output_type": "stream",
     "text": [
      "[INFO] [save_pickle] Saved to /Users/abarnes/Dropbox/work/Smallprojects/galaxies/data_hstha_nebulae_catalogue/ngc4321/cutouts_fixediso/hdus_association_mask_new_v_64pc.pickel\n"
     ]
    },
    {
     "name": "stderr",
     "output_type": "stream",
     "text": [
      "Cropping regions: 100%|██████████| 469/469 [00:01<00:00, 286.10it/s]\n"
     ]
    },
    {
     "name": "stdout",
     "output_type": "stream",
     "text": [
      "[INFO] [save_pickle] Saved to /Users/abarnes/Dropbox/work/Smallprojects/galaxies/data_hstha_nebulae_catalogue/ngc4321/cutouts_fixediso/hdus_association_mask_new_nuv_08pc.pickel\n"
     ]
    },
    {
     "name": "stderr",
     "output_type": "stream",
     "text": [
      "Cropping regions: 100%|██████████| 469/469 [00:01<00:00, 283.74it/s]\n"
     ]
    },
    {
     "name": "stdout",
     "output_type": "stream",
     "text": [
      "[INFO] [save_pickle] Saved to /Users/abarnes/Dropbox/work/Smallprojects/galaxies/data_hstha_nebulae_catalogue/ngc4321/cutouts_fixediso/hdus_association_mask_new_nuv_16pc.pickel\n"
     ]
    },
    {
     "name": "stderr",
     "output_type": "stream",
     "text": [
      "Cropping regions: 100%|██████████| 469/469 [00:01<00:00, 284.08it/s]\n"
     ]
    },
    {
     "name": "stdout",
     "output_type": "stream",
     "text": [
      "[INFO] [save_pickle] Saved to /Users/abarnes/Dropbox/work/Smallprojects/galaxies/data_hstha_nebulae_catalogue/ngc4321/cutouts_fixediso/hdus_association_mask_new_nuv_32pc.pickel\n"
     ]
    },
    {
     "name": "stderr",
     "output_type": "stream",
     "text": [
      "Cropping regions: 100%|██████████| 469/469 [00:01<00:00, 283.30it/s]\n"
     ]
    },
    {
     "name": "stdout",
     "output_type": "stream",
     "text": [
      "[INFO] [save_pickle] Saved to /Users/abarnes/Dropbox/work/Smallprojects/galaxies/data_hstha_nebulae_catalogue/ngc4321/cutouts_fixediso/hdus_association_mask_new_nuv_64pc.pickel\n"
     ]
    },
    {
     "name": "stderr",
     "output_type": "stream",
     "text": [
      "Match associations:: 100%|██████████| 469/469 [01:14<00:00,  6.27it/s]\n"
     ]
    },
    {
     "name": "stdout",
     "output_type": "stream",
     "text": [
      "[ASSOCIATIONS] Final association table saved to: /Users/abarnes/Dropbox/work/Smallprojects/galaxies/data_hstha_nebulae_catalogue/ngc4321/catalogue_fixediso/props_all_association.fits\n",
      "Cleaning: /Users/abarnes/Dropbox/work/Smallprojects/galaxies/data_misc/multiscale_stellar_associations/ngc4321/vselect/ws8pc/PHANGS_IR4_hst_wfc3_ngc4321_v1p3_multi_assoc-vselect-ws8pc-idmask.fits\n",
      "Cleaning: /Users/abarnes/Dropbox/work/Smallprojects/galaxies/data_misc/multiscale_stellar_associations/ngc4321/vselect/ws16pc/PHANGS_IR4_hst_wfc3_ngc4321_v1p3_multi_assoc-vselect-ws16pc-idmask.fits\n",
      "Cleaning: /Users/abarnes/Dropbox/work/Smallprojects/galaxies/data_misc/multiscale_stellar_associations/ngc4321/vselect/ws32pc/PHANGS_IR4_hst_wfc3_ngc4321_v1p3_multi_assoc-vselect-ws32pc-idmask.fits\n",
      "Cleaning: /Users/abarnes/Dropbox/work/Smallprojects/galaxies/data_misc/multiscale_stellar_associations/ngc4321/vselect/ws64pc/PHANGS_IR4_hst_wfc3_ngc4321_v1p3_multi_assoc-vselect-ws64pc-idmask.fits\n",
      "Cleaning: /Users/abarnes/Dropbox/work/Smallprojects/galaxies/data_misc/multiscale_stellar_associations/ngc4321/nuvselect/ws8pc/PHANGS_IR4_hst_wfc3_ngc4321_v1p3_multi_assoc-nuvselect-ws8pc-idmask.fits\n",
      "Cleaning: /Users/abarnes/Dropbox/work/Smallprojects/galaxies/data_misc/multiscale_stellar_associations/ngc4321/nuvselect/ws16pc/PHANGS_IR4_hst_wfc3_ngc4321_v1p3_multi_assoc-nuvselect-ws16pc-idmask.fits\n",
      "Cleaning: /Users/abarnes/Dropbox/work/Smallprojects/galaxies/data_misc/multiscale_stellar_associations/ngc4321/nuvselect/ws32pc/PHANGS_IR4_hst_wfc3_ngc4321_v1p3_multi_assoc-nuvselect-ws32pc-idmask.fits\n",
      "Cleaning: /Users/abarnes/Dropbox/work/Smallprojects/galaxies/data_misc/multiscale_stellar_associations/ngc4321/nuvselect/ws64pc/PHANGS_IR4_hst_wfc3_ngc4321_v1p3_multi_assoc-nuvselect-ws64pc-idmask.fits\n"
     ]
    },
    {
     "data": {
      "text/plain": [
       "29006"
      ]
     },
     "execution_count": 19,
     "metadata": {},
     "output_type": "execute_result"
    }
   ],
   "source": [
    "galaxyname = 'ngc4321'\n",
    "\n",
    "mycat = catalogue_pipeline.PyHSTHACat(galaxyname, output_dir_append='_fixediso')\n",
    "mycat.hstha_err = ISOTHRESHOLD\n",
    "mycat.rerun_all = True\n",
    "\n",
    "mycat.make_paths()\n",
    "mycat.load_files()\n",
    "mycat.get_regions()\n",
    "mycat.get_cutouts()\n",
    "mycat.make_catalogue()\n",
    "\n",
    "mycat.rerun_cutouts_associations = True\n",
    "mycat.make_associations()\n",
    "\n",
    "# To free memory\n",
    "del mycat \n",
    "gc.collect()"
   ]
  },
  {
   "cell_type": "code",
   "execution_count": 20,
   "metadata": {},
   "outputs": [
    {
     "name": "stdout",
     "output_type": "stream",
     "text": [
      "[Info] Outputting to the following:\n",
      "/Users/abarnes/Dropbox/work/Smallprojects/galaxies/data_hstha_nebulae_catalogue/ngc4535/\n",
      "[INFO] [get_MuseProps] Getting MUSE catalouge properties for ngc4535...\n",
      "[INFO] [get_galaxyprops] Getting sample table properties for ngc4535...\n",
      "[INFO] Generating new DS9 region file...\n",
      "[INFO] [get_regions] Opening regions file (this may take a min)... \n",
      "[INFO] [get_regions] Getting info for 1938 regions...\n",
      "[INFO] [save_pickle] Saved to /Users/abarnes/Dropbox/work/Smallprojects/galaxies/data_hstha_nebulae_catalogue/ngc4535/cutouts_fixediso/sample.pickel\n",
      "[INFO] Generating cutouts for hstha_hdu...\n"
     ]
    },
    {
     "name": "stderr",
     "output_type": "stream",
     "text": [
      "Cropping regions: 100%|██████████| 1938/1938 [00:07<00:00, 275.03it/s]\n"
     ]
    },
    {
     "name": "stdout",
     "output_type": "stream",
     "text": [
      "[INFO] [save_pickle] Saved to /Users/abarnes/Dropbox/work/Smallprojects/galaxies/data_hstha_nebulae_catalogue/ngc4535/cutouts_fixediso/hstha_hdu.pickel\n",
      "[INFO] Generating cutouts for musha_hdu...\n"
     ]
    },
    {
     "name": "stderr",
     "output_type": "stream",
     "text": [
      "Cropping regions: 100%|██████████| 1938/1938 [00:06<00:00, 315.96it/s]\n"
     ]
    },
    {
     "name": "stdout",
     "output_type": "stream",
     "text": [
      "[INFO] [save_pickle] Saved to /Users/abarnes/Dropbox/work/Smallprojects/galaxies/data_hstha_nebulae_catalogue/ngc4535/cutouts_fixediso/musha_hdu.pickel\n",
      "[INFO] Generating cutouts for muscat_hdu...\n"
     ]
    },
    {
     "name": "stderr",
     "output_type": "stream",
     "text": [
      "Cropping regions: 100%|██████████| 1938/1938 [00:06<00:00, 298.70it/s]\n"
     ]
    },
    {
     "name": "stdout",
     "output_type": "stream",
     "text": [
      "[INFO] [save_pickle] Saved to /Users/abarnes/Dropbox/work/Smallprojects/galaxies/data_hstha_nebulae_catalogue/ngc4535/cutouts_fixediso/muscat_hdu.pickel\n",
      "[INFO] [load_pickle] Load /Users/abarnes/Dropbox/work/Smallprojects/galaxies/data_hstha_nebulae_catalogue/ngc4535/cutouts_fixediso/hstha_hdu.pickel\n",
      "[INFO] [load_pickle] Load /Users/abarnes/Dropbox/work/Smallprojects/galaxies/data_hstha_nebulae_catalogue/ngc4535/cutouts_fixediso/musha_hdu.pickel\n",
      "[INFO] [load_pickle] Load /Users/abarnes/Dropbox/work/Smallprojects/galaxies/data_hstha_nebulae_catalogue/ngc4535/cutouts_fixediso/muscat_hdu.pickel\n",
      "[INFO] All HDU cutouts saved to /Users/abarnes/Dropbox/work/Smallprojects/galaxies/data_hstha_nebulae_catalogue/ngc4535/cutouts_fixediso/hdus_all.pickel\n",
      "[INFO] [save_pickle] Saved to /Users/abarnes/Dropbox/work/Smallprojects/galaxies/data_hstha_nebulae_catalogue/ngc4535/cutouts_fixediso/hdus_all.pickel\n",
      "[CATALOGUE] Running catalogue generation for: ngc4535\n",
      "[INFO] [get_maskedhdus] Getting HST maps masked by MUSE catalouge...\n"
     ]
    },
    {
     "name": "stderr",
     "output_type": "stream",
     "text": [
      "Masking regions: 100%|██████████| 1938/1938 [01:37<00:00, 19.96it/s]\n"
     ]
    },
    {
     "name": "stdout",
     "output_type": "stream",
     "text": [
      "[INFO] [save_pickle] Saved to /Users/abarnes/Dropbox/work/Smallprojects/galaxies/data_hstha_nebulae_catalogue/ngc4535/cutouts_fixediso/hdus_all_withmasked.pickel\n"
     ]
    },
    {
     "name": "stderr",
     "output_type": "stream",
     "text": [
      "Get sources:: 100%|██████████| 1938/1938 [00:16<00:00, 116.80it/s]\n"
     ]
    },
    {
     "name": "stdout",
     "output_type": "stream",
     "text": [
      "[INFO] [get_MuseProps] Getting MUSE catalouge properties for ngc4535...\n",
      "[CATALOGUE] Final properties table saved to: /Users/abarnes/Dropbox/work/Smallprojects/galaxies/data_hstha_nebulae_catalogue/ngc4535/catalogue_fixediso/props_all.fits\n"
     ]
    },
    {
     "name": "stderr",
     "output_type": "stream",
     "text": [
      "Masking regions: 100%|██████████| 1938/1938 [00:01<00:00, 1758.62it/s]\n",
      "100%|██████████| 357/357 [00:06<00:00, 53.62it/s]\n"
     ]
    },
    {
     "name": "stdout",
     "output_type": "stream",
     "text": [
      "[CATALOGUE] Masks saved to /Users/abarnes/Dropbox/work/Smallprojects/galaxies/data_hstha_nebulae_catalogue/ngc4535/catalogue_fixediso/ngc4535_mask.fits and /Users/abarnes/Dropbox/work/Smallprojects/galaxies/data_hstha_nebulae_catalogue/ngc4535/catalogue_fixediso/ngc4535_complexity.fits...\n",
      "[CATALOGUE] DS9 regions output to /Users/abarnes/Dropbox/work/Smallprojects/galaxies/data_hstha_nebulae_catalogue/ngc4535/catalogue_fixediso/ngc4535_mask...\n",
      "[CATALOGUE] Done!\n",
      "[ASSOCIATIONS] Checking association files for galaxy ngc4535 ...\n",
      "Unpacking: /Users/abarnes/Dropbox/work/Smallprojects/galaxies/data_misc/multiscale_stellar_associations/ngc4535/vselect/ws8pc/PHANGS_IR4_hst_wfc3_ngc4535_v1p3_multi_assoc-vselect-ws8pc-idmask.fits.gz\n",
      "[INFO] Files found for v_08pc.\n",
      "Unpacking: /Users/abarnes/Dropbox/work/Smallprojects/galaxies/data_misc/multiscale_stellar_associations/ngc4535/vselect/ws16pc/PHANGS_IR4_hst_wfc3_ngc4535_v1p3_multi_assoc-vselect-ws16pc-idmask.fits.gz\n",
      "[INFO] Files found for v_16pc.\n",
      "Unpacking: /Users/abarnes/Dropbox/work/Smallprojects/galaxies/data_misc/multiscale_stellar_associations/ngc4535/vselect/ws32pc/PHANGS_IR4_hst_wfc3_ngc4535_v1p3_multi_assoc-vselect-ws32pc-idmask.fits.gz\n",
      "[INFO] Files found for v_32pc.\n",
      "Unpacking: /Users/abarnes/Dropbox/work/Smallprojects/galaxies/data_misc/multiscale_stellar_associations/ngc4535/vselect/ws64pc/PHANGS_IR4_hst_wfc3_ngc4535_v1p3_multi_assoc-vselect-ws64pc-idmask.fits.gz\n",
      "[INFO] Files found for v_64pc.\n",
      "Unpacking: /Users/abarnes/Dropbox/work/Smallprojects/galaxies/data_misc/multiscale_stellar_associations/ngc4535/nuvselect/ws8pc/PHANGS_IR4_hst_wfc3_ngc4535_v1p3_multi_assoc-nuvselect-ws8pc-idmask.fits.gz\n",
      "[INFO] Files found for nuv_08pc.\n",
      "Unpacking: /Users/abarnes/Dropbox/work/Smallprojects/galaxies/data_misc/multiscale_stellar_associations/ngc4535/nuvselect/ws16pc/PHANGS_IR4_hst_wfc3_ngc4535_v1p3_multi_assoc-nuvselect-ws16pc-idmask.fits.gz\n",
      "[INFO] Files found for nuv_16pc.\n",
      "Unpacking: /Users/abarnes/Dropbox/work/Smallprojects/galaxies/data_misc/multiscale_stellar_associations/ngc4535/nuvselect/ws32pc/PHANGS_IR4_hst_wfc3_ngc4535_v1p3_multi_assoc-nuvselect-ws32pc-idmask.fits.gz\n",
      "[INFO] Files found for nuv_32pc.\n",
      "Unpacking: /Users/abarnes/Dropbox/work/Smallprojects/galaxies/data_misc/multiscale_stellar_associations/ngc4535/nuvselect/ws64pc/PHANGS_IR4_hst_wfc3_ngc4535_v1p3_multi_assoc-nuvselect-ws64pc-idmask.fits.gz\n",
      "[INFO] Files found for nuv_64pc.\n",
      "[INFO] [load_pickle] Load /Users/abarnes/Dropbox/work/Smallprojects/galaxies/data_hstha_nebulae_catalogue/ngc4535/cutouts_fixediso/sample.pickel\n",
      "[ASSOCIATIONS] Generating new cutouts for association masks...\n"
     ]
    },
    {
     "name": "stderr",
     "output_type": "stream",
     "text": [
      "Cropping regions: 100%|██████████| 357/357 [00:01<00:00, 271.01it/s]\n"
     ]
    },
    {
     "name": "stdout",
     "output_type": "stream",
     "text": [
      "[INFO] [save_pickle] Saved to /Users/abarnes/Dropbox/work/Smallprojects/galaxies/data_hstha_nebulae_catalogue/ngc4535/cutouts_fixediso/hdus_catalog_mask_new.pickel\n"
     ]
    },
    {
     "name": "stderr",
     "output_type": "stream",
     "text": [
      "Cropping regions: 100%|██████████| 357/357 [00:01<00:00, 270.83it/s]\n"
     ]
    },
    {
     "name": "stdout",
     "output_type": "stream",
     "text": [
      "[INFO] [save_pickle] Saved to /Users/abarnes/Dropbox/work/Smallprojects/galaxies/data_hstha_nebulae_catalogue/ngc4535/cutouts_fixediso/hdus_association_mask_new_v_08pc.pickel\n"
     ]
    },
    {
     "name": "stderr",
     "output_type": "stream",
     "text": [
      "Cropping regions: 100%|██████████| 357/357 [00:01<00:00, 282.37it/s]\n"
     ]
    },
    {
     "name": "stdout",
     "output_type": "stream",
     "text": [
      "[INFO] [save_pickle] Saved to /Users/abarnes/Dropbox/work/Smallprojects/galaxies/data_hstha_nebulae_catalogue/ngc4535/cutouts_fixediso/hdus_association_mask_new_v_16pc.pickel\n"
     ]
    },
    {
     "name": "stderr",
     "output_type": "stream",
     "text": [
      "Cropping regions: 100%|██████████| 357/357 [00:01<00:00, 288.88it/s]\n"
     ]
    },
    {
     "name": "stdout",
     "output_type": "stream",
     "text": [
      "[INFO] [save_pickle] Saved to /Users/abarnes/Dropbox/work/Smallprojects/galaxies/data_hstha_nebulae_catalogue/ngc4535/cutouts_fixediso/hdus_association_mask_new_v_32pc.pickel\n"
     ]
    },
    {
     "name": "stderr",
     "output_type": "stream",
     "text": [
      "Cropping regions: 100%|██████████| 357/357 [00:01<00:00, 278.33it/s]\n"
     ]
    },
    {
     "name": "stdout",
     "output_type": "stream",
     "text": [
      "[INFO] [save_pickle] Saved to /Users/abarnes/Dropbox/work/Smallprojects/galaxies/data_hstha_nebulae_catalogue/ngc4535/cutouts_fixediso/hdus_association_mask_new_v_64pc.pickel\n"
     ]
    },
    {
     "name": "stderr",
     "output_type": "stream",
     "text": [
      "Cropping regions: 100%|██████████| 357/357 [00:01<00:00, 285.45it/s]\n"
     ]
    },
    {
     "name": "stdout",
     "output_type": "stream",
     "text": [
      "[INFO] [save_pickle] Saved to /Users/abarnes/Dropbox/work/Smallprojects/galaxies/data_hstha_nebulae_catalogue/ngc4535/cutouts_fixediso/hdus_association_mask_new_nuv_08pc.pickel\n"
     ]
    },
    {
     "name": "stderr",
     "output_type": "stream",
     "text": [
      "Cropping regions: 100%|██████████| 357/357 [00:01<00:00, 288.54it/s]\n"
     ]
    },
    {
     "name": "stdout",
     "output_type": "stream",
     "text": [
      "[INFO] [save_pickle] Saved to /Users/abarnes/Dropbox/work/Smallprojects/galaxies/data_hstha_nebulae_catalogue/ngc4535/cutouts_fixediso/hdus_association_mask_new_nuv_16pc.pickel\n"
     ]
    },
    {
     "name": "stderr",
     "output_type": "stream",
     "text": [
      "Cropping regions: 100%|██████████| 357/357 [00:01<00:00, 281.17it/s]\n"
     ]
    },
    {
     "name": "stdout",
     "output_type": "stream",
     "text": [
      "[INFO] [save_pickle] Saved to /Users/abarnes/Dropbox/work/Smallprojects/galaxies/data_hstha_nebulae_catalogue/ngc4535/cutouts_fixediso/hdus_association_mask_new_nuv_32pc.pickel\n"
     ]
    },
    {
     "name": "stderr",
     "output_type": "stream",
     "text": [
      "Cropping regions: 100%|██████████| 357/357 [00:01<00:00, 286.44it/s]\n"
     ]
    },
    {
     "name": "stdout",
     "output_type": "stream",
     "text": [
      "[INFO] [save_pickle] Saved to /Users/abarnes/Dropbox/work/Smallprojects/galaxies/data_hstha_nebulae_catalogue/ngc4535/cutouts_fixediso/hdus_association_mask_new_nuv_64pc.pickel\n"
     ]
    },
    {
     "name": "stderr",
     "output_type": "stream",
     "text": [
      "Match associations:: 100%|██████████| 357/357 [01:03<00:00,  5.58it/s]\n"
     ]
    },
    {
     "name": "stdout",
     "output_type": "stream",
     "text": [
      "[ASSOCIATIONS] Final association table saved to: /Users/abarnes/Dropbox/work/Smallprojects/galaxies/data_hstha_nebulae_catalogue/ngc4535/catalogue_fixediso/props_all_association.fits\n",
      "Cleaning: /Users/abarnes/Dropbox/work/Smallprojects/galaxies/data_misc/multiscale_stellar_associations/ngc4535/vselect/ws8pc/PHANGS_IR4_hst_wfc3_ngc4535_v1p3_multi_assoc-vselect-ws8pc-idmask.fits\n",
      "Cleaning: /Users/abarnes/Dropbox/work/Smallprojects/galaxies/data_misc/multiscale_stellar_associations/ngc4535/vselect/ws16pc/PHANGS_IR4_hst_wfc3_ngc4535_v1p3_multi_assoc-vselect-ws16pc-idmask.fits\n",
      "Cleaning: /Users/abarnes/Dropbox/work/Smallprojects/galaxies/data_misc/multiscale_stellar_associations/ngc4535/vselect/ws32pc/PHANGS_IR4_hst_wfc3_ngc4535_v1p3_multi_assoc-vselect-ws32pc-idmask.fits\n",
      "Cleaning: /Users/abarnes/Dropbox/work/Smallprojects/galaxies/data_misc/multiscale_stellar_associations/ngc4535/vselect/ws64pc/PHANGS_IR4_hst_wfc3_ngc4535_v1p3_multi_assoc-vselect-ws64pc-idmask.fits\n",
      "Cleaning: /Users/abarnes/Dropbox/work/Smallprojects/galaxies/data_misc/multiscale_stellar_associations/ngc4535/nuvselect/ws8pc/PHANGS_IR4_hst_wfc3_ngc4535_v1p3_multi_assoc-nuvselect-ws8pc-idmask.fits\n",
      "Cleaning: /Users/abarnes/Dropbox/work/Smallprojects/galaxies/data_misc/multiscale_stellar_associations/ngc4535/nuvselect/ws16pc/PHANGS_IR4_hst_wfc3_ngc4535_v1p3_multi_assoc-nuvselect-ws16pc-idmask.fits\n",
      "Cleaning: /Users/abarnes/Dropbox/work/Smallprojects/galaxies/data_misc/multiscale_stellar_associations/ngc4535/nuvselect/ws32pc/PHANGS_IR4_hst_wfc3_ngc4535_v1p3_multi_assoc-nuvselect-ws32pc-idmask.fits\n",
      "Cleaning: /Users/abarnes/Dropbox/work/Smallprojects/galaxies/data_misc/multiscale_stellar_associations/ngc4535/nuvselect/ws64pc/PHANGS_IR4_hst_wfc3_ngc4535_v1p3_multi_assoc-nuvselect-ws64pc-idmask.fits\n"
     ]
    },
    {
     "data": {
      "text/plain": [
       "83940"
      ]
     },
     "execution_count": 20,
     "metadata": {},
     "output_type": "execute_result"
    }
   ],
   "source": [
    "galaxyname = 'ngc4535'\n",
    "\n",
    "mycat = catalogue_pipeline.PyHSTHACat(galaxyname, output_dir_append='_fixediso')\n",
    "mycat.hstha_err = ISOTHRESHOLD\n",
    "mycat.rerun_all = True\n",
    "\n",
    "mycat.make_paths()\n",
    "mycat.load_files()\n",
    "mycat.get_regions()\n",
    "mycat.get_cutouts()\n",
    "mycat.make_catalogue()\n",
    "\n",
    "mycat.rerun_cutouts_associations = True\n",
    "mycat.make_associations()\n",
    "\n",
    "# To free memory\n",
    "del mycat \n",
    "gc.collect()"
   ]
  },
  {
   "cell_type": "code",
   "execution_count": 21,
   "metadata": {},
   "outputs": [
    {
     "name": "stdout",
     "output_type": "stream",
     "text": [
      "[Info] Outputting to the following:\n",
      "/Users/abarnes/Dropbox/work/Smallprojects/galaxies/data_hstha_nebulae_catalogue/ngc5068/\n",
      "[INFO] [get_MuseProps] Getting MUSE catalouge properties for ngc5068...\n",
      "[INFO] [get_galaxyprops] Getting sample table properties for ngc5068...\n",
      "[INFO] Generating new DS9 region file...\n",
      "[INFO] [get_regions] Opening regions file (this may take a min)... \n",
      "[INFO] [get_regions] Getting info for 1857 regions...\n",
      "[INFO] [save_pickle] Saved to /Users/abarnes/Dropbox/work/Smallprojects/galaxies/data_hstha_nebulae_catalogue/ngc5068/cutouts_fixediso/sample.pickel\n",
      "[INFO] Generating cutouts for hstha_hdu...\n"
     ]
    },
    {
     "name": "stderr",
     "output_type": "stream",
     "text": [
      "Cropping regions: 100%|██████████| 1857/1857 [00:07<00:00, 262.69it/s]\n"
     ]
    },
    {
     "name": "stdout",
     "output_type": "stream",
     "text": [
      "[INFO] [save_pickle] Saved to /Users/abarnes/Dropbox/work/Smallprojects/galaxies/data_hstha_nebulae_catalogue/ngc5068/cutouts_fixediso/hstha_hdu.pickel\n",
      "[INFO] Generating cutouts for musha_hdu...\n"
     ]
    },
    {
     "name": "stderr",
     "output_type": "stream",
     "text": [
      "Cropping regions: 100%|██████████| 1857/1857 [00:05<00:00, 321.10it/s]\n"
     ]
    },
    {
     "name": "stdout",
     "output_type": "stream",
     "text": [
      "[INFO] [save_pickle] Saved to /Users/abarnes/Dropbox/work/Smallprojects/galaxies/data_hstha_nebulae_catalogue/ngc5068/cutouts_fixediso/musha_hdu.pickel\n",
      "[INFO] Generating cutouts for muscat_hdu...\n"
     ]
    },
    {
     "name": "stderr",
     "output_type": "stream",
     "text": [
      "Cropping regions: 100%|██████████| 1857/1857 [00:06<00:00, 289.08it/s]\n"
     ]
    },
    {
     "name": "stdout",
     "output_type": "stream",
     "text": [
      "[INFO] [save_pickle] Saved to /Users/abarnes/Dropbox/work/Smallprojects/galaxies/data_hstha_nebulae_catalogue/ngc5068/cutouts_fixediso/muscat_hdu.pickel\n",
      "[INFO] [load_pickle] Load /Users/abarnes/Dropbox/work/Smallprojects/galaxies/data_hstha_nebulae_catalogue/ngc5068/cutouts_fixediso/hstha_hdu.pickel\n",
      "[INFO] [load_pickle] Load /Users/abarnes/Dropbox/work/Smallprojects/galaxies/data_hstha_nebulae_catalogue/ngc5068/cutouts_fixediso/musha_hdu.pickel\n",
      "[INFO] [load_pickle] Load /Users/abarnes/Dropbox/work/Smallprojects/galaxies/data_hstha_nebulae_catalogue/ngc5068/cutouts_fixediso/muscat_hdu.pickel\n",
      "[INFO] All HDU cutouts saved to /Users/abarnes/Dropbox/work/Smallprojects/galaxies/data_hstha_nebulae_catalogue/ngc5068/cutouts_fixediso/hdus_all.pickel\n",
      "[INFO] [save_pickle] Saved to /Users/abarnes/Dropbox/work/Smallprojects/galaxies/data_hstha_nebulae_catalogue/ngc5068/cutouts_fixediso/hdus_all.pickel\n",
      "[CATALOGUE] Running catalogue generation for: ngc5068\n",
      "[INFO] [get_maskedhdus] Getting HST maps masked by MUSE catalouge...\n"
     ]
    },
    {
     "name": "stderr",
     "output_type": "stream",
     "text": [
      "Masking regions: 100%|██████████| 1857/1857 [02:16<00:00, 13.57it/s]\n"
     ]
    },
    {
     "name": "stdout",
     "output_type": "stream",
     "text": [
      "[INFO] [save_pickle] Saved to /Users/abarnes/Dropbox/work/Smallprojects/galaxies/data_hstha_nebulae_catalogue/ngc5068/cutouts_fixediso/hdus_all_withmasked.pickel\n"
     ]
    },
    {
     "name": "stderr",
     "output_type": "stream",
     "text": [
      "Get sources:: 100%|██████████| 1857/1857 [00:35<00:00, 52.12it/s] \n"
     ]
    },
    {
     "name": "stdout",
     "output_type": "stream",
     "text": [
      "[INFO] [get_MuseProps] Getting MUSE catalouge properties for ngc5068...\n",
      "[CATALOGUE] Final properties table saved to: /Users/abarnes/Dropbox/work/Smallprojects/galaxies/data_hstha_nebulae_catalogue/ngc5068/catalogue_fixediso/props_all.fits\n"
     ]
    },
    {
     "name": "stderr",
     "output_type": "stream",
     "text": [
      "Masking regions: 100%|██████████| 1857/1857 [00:01<00:00, 1359.16it/s]\n",
      "100%|██████████| 414/414 [00:13<00:00, 30.14it/s]\n"
     ]
    },
    {
     "name": "stdout",
     "output_type": "stream",
     "text": [
      "[CATALOGUE] Masks saved to /Users/abarnes/Dropbox/work/Smallprojects/galaxies/data_hstha_nebulae_catalogue/ngc5068/catalogue_fixediso/ngc5068_mask.fits and /Users/abarnes/Dropbox/work/Smallprojects/galaxies/data_hstha_nebulae_catalogue/ngc5068/catalogue_fixediso/ngc5068_complexity.fits...\n",
      "[CATALOGUE] DS9 regions output to /Users/abarnes/Dropbox/work/Smallprojects/galaxies/data_hstha_nebulae_catalogue/ngc5068/catalogue_fixediso/ngc5068_mask...\n",
      "[CATALOGUE] Done!\n",
      "[ASSOCIATIONS] Checking association files for galaxy ngc5068 ...\n",
      "Unpacking: /Users/abarnes/Dropbox/work/Smallprojects/galaxies/data_misc/multiscale_stellar_associations/ngc5068/vselect/ws8pc/PHANGS_IR4_hst_wfc3_ngc5068_v1p3_multi_assoc-vselect-ws8pc-idmask.fits.gz\n",
      "[INFO] Files found for v_08pc.\n",
      "Unpacking: /Users/abarnes/Dropbox/work/Smallprojects/galaxies/data_misc/multiscale_stellar_associations/ngc5068/vselect/ws16pc/PHANGS_IR4_hst_wfc3_ngc5068_v1p3_multi_assoc-vselect-ws16pc-idmask.fits.gz\n",
      "[INFO] Files found for v_16pc.\n",
      "Unpacking: /Users/abarnes/Dropbox/work/Smallprojects/galaxies/data_misc/multiscale_stellar_associations/ngc5068/vselect/ws32pc/PHANGS_IR4_hst_wfc3_ngc5068_v1p3_multi_assoc-vselect-ws32pc-idmask.fits.gz\n",
      "[INFO] Files found for v_32pc.\n",
      "Unpacking: /Users/abarnes/Dropbox/work/Smallprojects/galaxies/data_misc/multiscale_stellar_associations/ngc5068/vselect/ws64pc/PHANGS_IR4_hst_wfc3_ngc5068_v1p3_multi_assoc-vselect-ws64pc-idmask.fits.gz\n",
      "[INFO] Files found for v_64pc.\n",
      "Unpacking: /Users/abarnes/Dropbox/work/Smallprojects/galaxies/data_misc/multiscale_stellar_associations/ngc5068/nuvselect/ws8pc/PHANGS_IR4_hst_wfc3_ngc5068_v1p3_multi_assoc-nuvselect-ws8pc-idmask.fits.gz\n",
      "[INFO] Files found for nuv_08pc.\n",
      "Unpacking: /Users/abarnes/Dropbox/work/Smallprojects/galaxies/data_misc/multiscale_stellar_associations/ngc5068/nuvselect/ws16pc/PHANGS_IR4_hst_wfc3_ngc5068_v1p3_multi_assoc-nuvselect-ws16pc-idmask.fits.gz\n",
      "[INFO] Files found for nuv_16pc.\n",
      "Unpacking: /Users/abarnes/Dropbox/work/Smallprojects/galaxies/data_misc/multiscale_stellar_associations/ngc5068/nuvselect/ws32pc/PHANGS_IR4_hst_wfc3_ngc5068_v1p3_multi_assoc-nuvselect-ws32pc-idmask.fits.gz\n",
      "[INFO] Files found for nuv_32pc.\n",
      "Unpacking: /Users/abarnes/Dropbox/work/Smallprojects/galaxies/data_misc/multiscale_stellar_associations/ngc5068/nuvselect/ws64pc/PHANGS_IR4_hst_wfc3_ngc5068_v1p3_multi_assoc-nuvselect-ws64pc-idmask.fits.gz\n",
      "[INFO] Files found for nuv_64pc.\n",
      "[INFO] [load_pickle] Load /Users/abarnes/Dropbox/work/Smallprojects/galaxies/data_hstha_nebulae_catalogue/ngc5068/cutouts_fixediso/sample.pickel\n",
      "[ASSOCIATIONS] Generating new cutouts for association masks...\n"
     ]
    },
    {
     "name": "stderr",
     "output_type": "stream",
     "text": [
      "Cropping regions: 100%|██████████| 414/414 [00:01<00:00, 261.83it/s]\n"
     ]
    },
    {
     "name": "stdout",
     "output_type": "stream",
     "text": [
      "[INFO] [save_pickle] Saved to /Users/abarnes/Dropbox/work/Smallprojects/galaxies/data_hstha_nebulae_catalogue/ngc5068/cutouts_fixediso/hdus_catalog_mask_new.pickel\n"
     ]
    },
    {
     "name": "stderr",
     "output_type": "stream",
     "text": [
      "Cropping regions: 100%|██████████| 414/414 [00:01<00:00, 246.33it/s]\n"
     ]
    },
    {
     "name": "stdout",
     "output_type": "stream",
     "text": [
      "[INFO] [save_pickle] Saved to /Users/abarnes/Dropbox/work/Smallprojects/galaxies/data_hstha_nebulae_catalogue/ngc5068/cutouts_fixediso/hdus_association_mask_new_v_08pc.pickel\n"
     ]
    },
    {
     "name": "stderr",
     "output_type": "stream",
     "text": [
      "Cropping regions: 100%|██████████| 414/414 [00:01<00:00, 265.47it/s]\n"
     ]
    },
    {
     "name": "stdout",
     "output_type": "stream",
     "text": [
      "[INFO] [save_pickle] Saved to /Users/abarnes/Dropbox/work/Smallprojects/galaxies/data_hstha_nebulae_catalogue/ngc5068/cutouts_fixediso/hdus_association_mask_new_v_16pc.pickel\n"
     ]
    },
    {
     "name": "stderr",
     "output_type": "stream",
     "text": [
      "Cropping regions: 100%|██████████| 414/414 [00:01<00:00, 269.77it/s]\n"
     ]
    },
    {
     "name": "stdout",
     "output_type": "stream",
     "text": [
      "[INFO] [save_pickle] Saved to /Users/abarnes/Dropbox/work/Smallprojects/galaxies/data_hstha_nebulae_catalogue/ngc5068/cutouts_fixediso/hdus_association_mask_new_v_32pc.pickel\n"
     ]
    },
    {
     "name": "stderr",
     "output_type": "stream",
     "text": [
      "Cropping regions: 100%|██████████| 414/414 [00:01<00:00, 272.72it/s]\n"
     ]
    },
    {
     "name": "stdout",
     "output_type": "stream",
     "text": [
      "[INFO] [save_pickle] Saved to /Users/abarnes/Dropbox/work/Smallprojects/galaxies/data_hstha_nebulae_catalogue/ngc5068/cutouts_fixediso/hdus_association_mask_new_v_64pc.pickel\n"
     ]
    },
    {
     "name": "stderr",
     "output_type": "stream",
     "text": [
      "Cropping regions: 100%|██████████| 414/414 [00:01<00:00, 267.07it/s]\n"
     ]
    },
    {
     "name": "stdout",
     "output_type": "stream",
     "text": [
      "[INFO] [save_pickle] Saved to /Users/abarnes/Dropbox/work/Smallprojects/galaxies/data_hstha_nebulae_catalogue/ngc5068/cutouts_fixediso/hdus_association_mask_new_nuv_08pc.pickel\n"
     ]
    },
    {
     "name": "stderr",
     "output_type": "stream",
     "text": [
      "Cropping regions: 100%|██████████| 414/414 [00:01<00:00, 291.48it/s]\n"
     ]
    },
    {
     "name": "stdout",
     "output_type": "stream",
     "text": [
      "[INFO] [save_pickle] Saved to /Users/abarnes/Dropbox/work/Smallprojects/galaxies/data_hstha_nebulae_catalogue/ngc5068/cutouts_fixediso/hdus_association_mask_new_nuv_16pc.pickel\n"
     ]
    },
    {
     "name": "stderr",
     "output_type": "stream",
     "text": [
      "Cropping regions: 100%|██████████| 414/414 [00:01<00:00, 291.37it/s]\n"
     ]
    },
    {
     "name": "stdout",
     "output_type": "stream",
     "text": [
      "[INFO] [save_pickle] Saved to /Users/abarnes/Dropbox/work/Smallprojects/galaxies/data_hstha_nebulae_catalogue/ngc5068/cutouts_fixediso/hdus_association_mask_new_nuv_32pc.pickel\n"
     ]
    },
    {
     "name": "stderr",
     "output_type": "stream",
     "text": [
      "Cropping regions: 100%|██████████| 414/414 [00:01<00:00, 290.68it/s]\n"
     ]
    },
    {
     "name": "stdout",
     "output_type": "stream",
     "text": [
      "[INFO] [save_pickle] Saved to /Users/abarnes/Dropbox/work/Smallprojects/galaxies/data_hstha_nebulae_catalogue/ngc5068/cutouts_fixediso/hdus_association_mask_new_nuv_64pc.pickel\n"
     ]
    },
    {
     "name": "stderr",
     "output_type": "stream",
     "text": [
      "Match associations:: 100%|██████████| 414/414 [01:00<00:00,  6.86it/s]\n"
     ]
    },
    {
     "name": "stdout",
     "output_type": "stream",
     "text": [
      "[ASSOCIATIONS] Final association table saved to: /Users/abarnes/Dropbox/work/Smallprojects/galaxies/data_hstha_nebulae_catalogue/ngc5068/catalogue_fixediso/props_all_association.fits\n",
      "Cleaning: /Users/abarnes/Dropbox/work/Smallprojects/galaxies/data_misc/multiscale_stellar_associations/ngc5068/vselect/ws8pc/PHANGS_IR4_hst_wfc3_ngc5068_v1p3_multi_assoc-vselect-ws8pc-idmask.fits\n",
      "Cleaning: /Users/abarnes/Dropbox/work/Smallprojects/galaxies/data_misc/multiscale_stellar_associations/ngc5068/vselect/ws16pc/PHANGS_IR4_hst_wfc3_ngc5068_v1p3_multi_assoc-vselect-ws16pc-idmask.fits\n",
      "Cleaning: /Users/abarnes/Dropbox/work/Smallprojects/galaxies/data_misc/multiscale_stellar_associations/ngc5068/vselect/ws32pc/PHANGS_IR4_hst_wfc3_ngc5068_v1p3_multi_assoc-vselect-ws32pc-idmask.fits\n",
      "Cleaning: /Users/abarnes/Dropbox/work/Smallprojects/galaxies/data_misc/multiscale_stellar_associations/ngc5068/vselect/ws64pc/PHANGS_IR4_hst_wfc3_ngc5068_v1p3_multi_assoc-vselect-ws64pc-idmask.fits\n",
      "Cleaning: /Users/abarnes/Dropbox/work/Smallprojects/galaxies/data_misc/multiscale_stellar_associations/ngc5068/nuvselect/ws8pc/PHANGS_IR4_hst_wfc3_ngc5068_v1p3_multi_assoc-nuvselect-ws8pc-idmask.fits\n",
      "Cleaning: /Users/abarnes/Dropbox/work/Smallprojects/galaxies/data_misc/multiscale_stellar_associations/ngc5068/nuvselect/ws16pc/PHANGS_IR4_hst_wfc3_ngc5068_v1p3_multi_assoc-nuvselect-ws16pc-idmask.fits\n",
      "Cleaning: /Users/abarnes/Dropbox/work/Smallprojects/galaxies/data_misc/multiscale_stellar_associations/ngc5068/nuvselect/ws32pc/PHANGS_IR4_hst_wfc3_ngc5068_v1p3_multi_assoc-nuvselect-ws32pc-idmask.fits\n",
      "Cleaning: /Users/abarnes/Dropbox/work/Smallprojects/galaxies/data_misc/multiscale_stellar_associations/ngc5068/nuvselect/ws64pc/PHANGS_IR4_hst_wfc3_ngc5068_v1p3_multi_assoc-nuvselect-ws64pc-idmask.fits\n"
     ]
    },
    {
     "data": {
      "text/plain": [
       "87502"
      ]
     },
     "execution_count": 21,
     "metadata": {},
     "output_type": "execute_result"
    }
   ],
   "source": [
    "galaxyname = 'ngc5068'\n",
    "\n",
    "mycat = catalogue_pipeline.PyHSTHACat(galaxyname, output_dir_append='_fixediso')\n",
    "mycat.hstha_err = ISOTHRESHOLD\n",
    "mycat.rerun_all = True\n",
    "\n",
    "mycat.make_paths()\n",
    "mycat.load_files()\n",
    "mycat.get_regions()\n",
    "mycat.get_cutouts()\n",
    "mycat.make_catalogue()\n",
    "\n",
    "mycat.rerun_cutouts_associations = True\n",
    "mycat.make_associations()\n",
    "\n",
    "# To free memory\n",
    "del mycat \n",
    "gc.collect()"
   ]
  },
  {
   "cell_type": "code",
   "execution_count": 22,
   "metadata": {},
   "outputs": [
    {
     "name": "stdout",
     "output_type": "stream",
     "text": [
      "[Info] Outputting to the following:\n",
      "/Users/abarnes/Dropbox/work/Smallprojects/galaxies/data_hstha_nebulae_catalogue/ngc7496/\n",
      "[INFO] [get_MuseProps] Getting MUSE catalouge properties for ngc7496...\n",
      "[INFO] [get_galaxyprops] Getting sample table properties for ngc7496...\n",
      "[INFO] Generating new DS9 region file...\n",
      "[INFO] [get_regions] Opening regions file (this may take a min)... \n",
      "[INFO] [get_regions] Getting info for 777 regions...\n",
      "[INFO] [save_pickle] Saved to /Users/abarnes/Dropbox/work/Smallprojects/galaxies/data_hstha_nebulae_catalogue/ngc7496/cutouts_fixediso/sample.pickel\n",
      "[INFO] Generating cutouts for hstha_hdu...\n"
     ]
    },
    {
     "name": "stderr",
     "output_type": "stream",
     "text": [
      "Cropping regions: 100%|██████████| 777/777 [00:03<00:00, 257.93it/s]\n"
     ]
    },
    {
     "name": "stdout",
     "output_type": "stream",
     "text": [
      "[INFO] [save_pickle] Saved to /Users/abarnes/Dropbox/work/Smallprojects/galaxies/data_hstha_nebulae_catalogue/ngc7496/cutouts_fixediso/hstha_hdu.pickel\n",
      "[INFO] Generating cutouts for musha_hdu...\n"
     ]
    },
    {
     "name": "stderr",
     "output_type": "stream",
     "text": [
      "Cropping regions: 100%|██████████| 777/777 [00:02<00:00, 318.65it/s]\n"
     ]
    },
    {
     "name": "stdout",
     "output_type": "stream",
     "text": [
      "[INFO] [save_pickle] Saved to /Users/abarnes/Dropbox/work/Smallprojects/galaxies/data_hstha_nebulae_catalogue/ngc7496/cutouts_fixediso/musha_hdu.pickel\n",
      "[INFO] Generating cutouts for muscat_hdu...\n"
     ]
    },
    {
     "name": "stderr",
     "output_type": "stream",
     "text": [
      "Cropping regions: 100%|██████████| 777/777 [00:02<00:00, 301.78it/s]\n"
     ]
    },
    {
     "name": "stdout",
     "output_type": "stream",
     "text": [
      "[INFO] [save_pickle] Saved to /Users/abarnes/Dropbox/work/Smallprojects/galaxies/data_hstha_nebulae_catalogue/ngc7496/cutouts_fixediso/muscat_hdu.pickel\n",
      "[INFO] [load_pickle] Load /Users/abarnes/Dropbox/work/Smallprojects/galaxies/data_hstha_nebulae_catalogue/ngc7496/cutouts_fixediso/hstha_hdu.pickel\n",
      "[INFO] [load_pickle] Load /Users/abarnes/Dropbox/work/Smallprojects/galaxies/data_hstha_nebulae_catalogue/ngc7496/cutouts_fixediso/musha_hdu.pickel\n",
      "[INFO] [load_pickle] Load /Users/abarnes/Dropbox/work/Smallprojects/galaxies/data_hstha_nebulae_catalogue/ngc7496/cutouts_fixediso/muscat_hdu.pickel\n",
      "[INFO] All HDU cutouts saved to /Users/abarnes/Dropbox/work/Smallprojects/galaxies/data_hstha_nebulae_catalogue/ngc7496/cutouts_fixediso/hdus_all.pickel\n",
      "[INFO] [save_pickle] Saved to /Users/abarnes/Dropbox/work/Smallprojects/galaxies/data_hstha_nebulae_catalogue/ngc7496/cutouts_fixediso/hdus_all.pickel\n",
      "[CATALOGUE] Running catalogue generation for: ngc7496\n",
      "[INFO] [get_maskedhdus] Getting HST maps masked by MUSE catalouge...\n"
     ]
    },
    {
     "name": "stderr",
     "output_type": "stream",
     "text": [
      "Masking regions: 100%|██████████| 777/777 [00:43<00:00, 17.79it/s]\n"
     ]
    },
    {
     "name": "stdout",
     "output_type": "stream",
     "text": [
      "[INFO] [save_pickle] Saved to /Users/abarnes/Dropbox/work/Smallprojects/galaxies/data_hstha_nebulae_catalogue/ngc7496/cutouts_fixediso/hdus_all_withmasked.pickel\n"
     ]
    },
    {
     "name": "stderr",
     "output_type": "stream",
     "text": [
      "Get sources:: 100%|██████████| 777/777 [00:10<00:00, 77.20it/s] \n"
     ]
    },
    {
     "name": "stdout",
     "output_type": "stream",
     "text": [
      "[INFO] [get_MuseProps] Getting MUSE catalouge properties for ngc7496...\n",
      "[CATALOGUE] Final properties table saved to: /Users/abarnes/Dropbox/work/Smallprojects/galaxies/data_hstha_nebulae_catalogue/ngc7496/catalogue_fixediso/props_all.fits\n"
     ]
    },
    {
     "name": "stderr",
     "output_type": "stream",
     "text": [
      "Masking regions: 100%|██████████| 777/777 [00:00<00:00, 1458.67it/s]\n",
      "100%|██████████| 174/174 [00:03<00:00, 48.87it/s]\n"
     ]
    },
    {
     "name": "stdout",
     "output_type": "stream",
     "text": [
      "[CATALOGUE] Masks saved to /Users/abarnes/Dropbox/work/Smallprojects/galaxies/data_hstha_nebulae_catalogue/ngc7496/catalogue_fixediso/ngc7496_mask.fits and /Users/abarnes/Dropbox/work/Smallprojects/galaxies/data_hstha_nebulae_catalogue/ngc7496/catalogue_fixediso/ngc7496_complexity.fits...\n",
      "[CATALOGUE] DS9 regions output to /Users/abarnes/Dropbox/work/Smallprojects/galaxies/data_hstha_nebulae_catalogue/ngc7496/catalogue_fixediso/ngc7496_mask...\n",
      "[CATALOGUE] Done!\n",
      "[ASSOCIATIONS] Checking association files for galaxy ngc7496 ...\n",
      "File not found: /Users/abarnes/Dropbox/work/Smallprojects/galaxies/data_misc/multiscale_stellar_associations/ngc7496/vselect/ws8pc/PHANGS_IR4_hst_wfc3_ngc7496_v1p3_multi_assoc-vselect-ws8pc-idmask.fits\n",
      "[WARNING] Files missing for v_08pc. Skipping.\n",
      "Unpacking: /Users/abarnes/Dropbox/work/Smallprojects/galaxies/data_misc/multiscale_stellar_associations/ngc7496/vselect/ws16pc/PHANGS_IR4_hst_wfc3_ngc7496_v1p3_multi_assoc-vselect-ws16pc-idmask.fits.gz\n",
      "[INFO] Files found for v_16pc.\n",
      "Unpacking: /Users/abarnes/Dropbox/work/Smallprojects/galaxies/data_misc/multiscale_stellar_associations/ngc7496/vselect/ws32pc/PHANGS_IR4_hst_wfc3_ngc7496_v1p3_multi_assoc-vselect-ws32pc-idmask.fits.gz\n",
      "[INFO] Files found for v_32pc.\n",
      "Unpacking: /Users/abarnes/Dropbox/work/Smallprojects/galaxies/data_misc/multiscale_stellar_associations/ngc7496/vselect/ws64pc/PHANGS_IR4_hst_wfc3_ngc7496_v1p3_multi_assoc-vselect-ws64pc-idmask.fits.gz\n",
      "[INFO] Files found for v_64pc.\n",
      "File not found: /Users/abarnes/Dropbox/work/Smallprojects/galaxies/data_misc/multiscale_stellar_associations/ngc7496/nuvselect/ws8pc/PHANGS_IR4_hst_wfc3_ngc7496_v1p3_multi_assoc-nuvselect-ws8pc-idmask.fits\n",
      "[WARNING] Files missing for nuv_08pc. Skipping.\n",
      "Unpacking: /Users/abarnes/Dropbox/work/Smallprojects/galaxies/data_misc/multiscale_stellar_associations/ngc7496/nuvselect/ws16pc/PHANGS_IR4_hst_wfc3_ngc7496_v1p3_multi_assoc-nuvselect-ws16pc-idmask.fits.gz\n",
      "[INFO] Files found for nuv_16pc.\n",
      "Unpacking: /Users/abarnes/Dropbox/work/Smallprojects/galaxies/data_misc/multiscale_stellar_associations/ngc7496/nuvselect/ws32pc/PHANGS_IR4_hst_wfc3_ngc7496_v1p3_multi_assoc-nuvselect-ws32pc-idmask.fits.gz\n",
      "[INFO] Files found for nuv_32pc.\n",
      "Unpacking: /Users/abarnes/Dropbox/work/Smallprojects/galaxies/data_misc/multiscale_stellar_associations/ngc7496/nuvselect/ws64pc/PHANGS_IR4_hst_wfc3_ngc7496_v1p3_multi_assoc-nuvselect-ws64pc-idmask.fits.gz\n",
      "[INFO] Files found for nuv_64pc.\n",
      "[INFO] [load_pickle] Load /Users/abarnes/Dropbox/work/Smallprojects/galaxies/data_hstha_nebulae_catalogue/ngc7496/cutouts_fixediso/sample.pickel\n",
      "[ASSOCIATIONS] Generating new cutouts for association masks...\n"
     ]
    },
    {
     "name": "stderr",
     "output_type": "stream",
     "text": [
      "Cropping regions: 100%|██████████| 174/174 [00:00<00:00, 269.58it/s]\n"
     ]
    },
    {
     "name": "stdout",
     "output_type": "stream",
     "text": [
      "[INFO] [save_pickle] Saved to /Users/abarnes/Dropbox/work/Smallprojects/galaxies/data_hstha_nebulae_catalogue/ngc7496/cutouts_fixediso/hdus_catalog_mask_new.pickel\n"
     ]
    },
    {
     "name": "stderr",
     "output_type": "stream",
     "text": [
      "Cropping regions: 100%|██████████| 174/174 [00:00<00:00, 273.72it/s]\n"
     ]
    },
    {
     "name": "stdout",
     "output_type": "stream",
     "text": [
      "[INFO] [save_pickle] Saved to /Users/abarnes/Dropbox/work/Smallprojects/galaxies/data_hstha_nebulae_catalogue/ngc7496/cutouts_fixediso/hdus_association_mask_new_v_16pc.pickel\n"
     ]
    },
    {
     "name": "stderr",
     "output_type": "stream",
     "text": [
      "Cropping regions: 100%|██████████| 174/174 [00:00<00:00, 286.84it/s]\n"
     ]
    },
    {
     "name": "stdout",
     "output_type": "stream",
     "text": [
      "[INFO] [save_pickle] Saved to /Users/abarnes/Dropbox/work/Smallprojects/galaxies/data_hstha_nebulae_catalogue/ngc7496/cutouts_fixediso/hdus_association_mask_new_v_32pc.pickel\n"
     ]
    },
    {
     "name": "stderr",
     "output_type": "stream",
     "text": [
      "Cropping regions: 100%|██████████| 174/174 [00:00<00:00, 260.16it/s]\n"
     ]
    },
    {
     "name": "stdout",
     "output_type": "stream",
     "text": [
      "[INFO] [save_pickle] Saved to /Users/abarnes/Dropbox/work/Smallprojects/galaxies/data_hstha_nebulae_catalogue/ngc7496/cutouts_fixediso/hdus_association_mask_new_v_64pc.pickel\n"
     ]
    },
    {
     "name": "stderr",
     "output_type": "stream",
     "text": [
      "Cropping regions: 100%|██████████| 174/174 [00:00<00:00, 231.76it/s]\n"
     ]
    },
    {
     "name": "stdout",
     "output_type": "stream",
     "text": [
      "[INFO] [save_pickle] Saved to /Users/abarnes/Dropbox/work/Smallprojects/galaxies/data_hstha_nebulae_catalogue/ngc7496/cutouts_fixediso/hdus_association_mask_new_nuv_16pc.pickel\n"
     ]
    },
    {
     "name": "stderr",
     "output_type": "stream",
     "text": [
      "Cropping regions: 100%|██████████| 174/174 [00:00<00:00, 264.82it/s]\n"
     ]
    },
    {
     "name": "stdout",
     "output_type": "stream",
     "text": [
      "[INFO] [save_pickle] Saved to /Users/abarnes/Dropbox/work/Smallprojects/galaxies/data_hstha_nebulae_catalogue/ngc7496/cutouts_fixediso/hdus_association_mask_new_nuv_32pc.pickel\n"
     ]
    },
    {
     "name": "stderr",
     "output_type": "stream",
     "text": [
      "Cropping regions: 100%|██████████| 174/174 [00:00<00:00, 283.32it/s]\n"
     ]
    },
    {
     "name": "stdout",
     "output_type": "stream",
     "text": [
      "[INFO] [save_pickle] Saved to /Users/abarnes/Dropbox/work/Smallprojects/galaxies/data_hstha_nebulae_catalogue/ngc7496/cutouts_fixediso/hdus_association_mask_new_nuv_64pc.pickel\n"
     ]
    },
    {
     "name": "stderr",
     "output_type": "stream",
     "text": [
      "Match associations:: 100%|██████████| 174/174 [00:15<00:00, 10.88it/s]\n"
     ]
    },
    {
     "name": "stdout",
     "output_type": "stream",
     "text": [
      "[ASSOCIATIONS] Final association table saved to: /Users/abarnes/Dropbox/work/Smallprojects/galaxies/data_hstha_nebulae_catalogue/ngc7496/catalogue_fixediso/props_all_association.fits\n",
      "Cleaning: /Users/abarnes/Dropbox/work/Smallprojects/galaxies/data_misc/multiscale_stellar_associations/ngc7496/vselect/ws16pc/PHANGS_IR4_hst_wfc3_ngc7496_v1p3_multi_assoc-vselect-ws16pc-idmask.fits\n",
      "Cleaning: /Users/abarnes/Dropbox/work/Smallprojects/galaxies/data_misc/multiscale_stellar_associations/ngc7496/vselect/ws32pc/PHANGS_IR4_hst_wfc3_ngc7496_v1p3_multi_assoc-vselect-ws32pc-idmask.fits\n",
      "Cleaning: /Users/abarnes/Dropbox/work/Smallprojects/galaxies/data_misc/multiscale_stellar_associations/ngc7496/vselect/ws64pc/PHANGS_IR4_hst_wfc3_ngc7496_v1p3_multi_assoc-vselect-ws64pc-idmask.fits\n",
      "Cleaning: /Users/abarnes/Dropbox/work/Smallprojects/galaxies/data_misc/multiscale_stellar_associations/ngc7496/nuvselect/ws16pc/PHANGS_IR4_hst_wfc3_ngc7496_v1p3_multi_assoc-nuvselect-ws16pc-idmask.fits\n",
      "Cleaning: /Users/abarnes/Dropbox/work/Smallprojects/galaxies/data_misc/multiscale_stellar_associations/ngc7496/nuvselect/ws32pc/PHANGS_IR4_hst_wfc3_ngc7496_v1p3_multi_assoc-nuvselect-ws32pc-idmask.fits\n",
      "Cleaning: /Users/abarnes/Dropbox/work/Smallprojects/galaxies/data_misc/multiscale_stellar_associations/ngc7496/nuvselect/ws64pc/PHANGS_IR4_hst_wfc3_ngc7496_v1p3_multi_assoc-nuvselect-ws64pc-idmask.fits\n"
     ]
    },
    {
     "data": {
      "text/plain": [
       "21895"
      ]
     },
     "execution_count": 22,
     "metadata": {},
     "output_type": "execute_result"
    }
   ],
   "source": [
    "galaxyname = 'ngc7496'\n",
    "\n",
    "mycat = catalogue_pipeline.PyHSTHACat(galaxyname, output_dir_append='_fixediso')\n",
    "mycat.hstha_err = ISOTHRESHOLD\n",
    "mycat.rerun_all = True\n",
    "\n",
    "mycat.make_paths()\n",
    "mycat.load_files()\n",
    "mycat.get_regions()\n",
    "mycat.get_cutouts()\n",
    "mycat.make_catalogue()\n",
    "\n",
    "mycat.rerun_cutouts_associations = True\n",
    "mycat.make_associations()\n",
    "\n",
    "# To free memory\n",
    "del mycat \n",
    "gc.collect()"
   ]
  }
 ],
 "metadata": {
  "kernelspec": {
   "display_name": "base",
   "language": "python",
   "name": "python3"
  },
  "language_info": {
   "codemirror_mode": {
    "name": "ipython",
    "version": 3
   },
   "file_extension": ".py",
   "mimetype": "text/x-python",
   "name": "python",
   "nbconvert_exporter": "python",
   "pygments_lexer": "ipython3",
   "version": "3.9.13"
  }
 },
 "nbformat": 4,
 "nbformat_minor": 2
}
