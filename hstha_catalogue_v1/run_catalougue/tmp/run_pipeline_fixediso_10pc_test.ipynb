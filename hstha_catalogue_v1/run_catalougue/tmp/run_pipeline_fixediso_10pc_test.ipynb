{
 "cells": [
  {
   "cell_type": "code",
   "execution_count": 1,
   "metadata": {},
   "outputs": [],
   "source": [
    "# TODO Update to V4 of the catalogue..."
   ]
  },
  {
   "cell_type": "code",
   "execution_count": 2,
   "metadata": {},
   "outputs": [],
   "source": [
    "from imports import *"
   ]
  },
  {
   "cell_type": "code",
   "execution_count": 3,
   "metadata": {},
   "outputs": [],
   "source": [
    "# FIXED ISO THRESHOLD FOR ALL THE IMAGES (in per pixel units) \n",
    "ISOTHRESHOLD = 100"
   ]
  },
  {
   "cell_type": "code",
   "execution_count": null,
   "metadata": {},
   "outputs": [],
   "source": [
    "galaxyname = 'ngc0628'\n",
    "galaxyname_hst = 'ngc628c'\n",
    "galaxyname_cat = 'ngc628'\n",
    "\n",
    "mycat = catalogue_pipeline.PyHSTHACat(galaxyname, galaxyname_hst, galaxyname_cat, output_dir_append='_fixediso_10pc')\n",
    "mycat.hstha_err = ISOTHRESHOLD\n",
    "# mycat.rerun_all = True\n",
    "mycat.hstha_file = mycat.hstha_file.replace('.fits', '_10pc_fixednoise.fits')\n",
    "\n",
    "# mycat.make_paths()\n",
    "mycat.load_files()\n",
    "mycat.get_regions()\n",
    "mycat.get_cutouts()\n",
    "mycat.make_catalogue()\n",
    "\n",
    "# mycat.rerun_cutouts_associations = True\n",
    "# mycat.make_associations()"
   ]
  },
  {
   "cell_type": "code",
   "execution_count": null,
   "metadata": {},
   "outputs": [],
   "source": [
    "mycat.props['region_ID', 'flag_touch_hst']"
   ]
  },
  {
   "cell_type": "code",
   "execution_count": null,
   "metadata": {},
   "outputs": [],
   "source": [
    "hdus = cat_misc.load_pickle(f'{mycat.cutout_dir}/hdus_all_withmasked.pickel')"
   ]
  },
  {
   "cell_type": "code",
   "execution_count": null,
   "metadata": {},
   "outputs": [],
   "source": [
    "ii = []\n",
    "\n",
    "for i in range(len(hdus['hstha_hdu_masked_ones'])):\n",
    "    if np.isnan(hdus['hstha_hdu_masked_ones'][i].data).any()*1:\n",
    "        sum_ = np.nansum(hdus['hstha_hdu_masked_ones'][i].data[hdus['hstha_hdu_masked_ones'][i].data!=1])\n",
    "        if sum_!=0:\n",
    "            ii = ii + [i]\n",
    "\n",
    "print(len(ii))"
   ]
  },
  {
   "cell_type": "code",
   "execution_count": 45,
   "metadata": {},
   "outputs": [],
   "source": [
    "edge_mask = mycat.props['flag_touch_hst'] == 1\n",
    "props_edge = mycat.props[edge_mask]"
   ]
  },
  {
   "cell_type": "code",
   "execution_count": 65,
   "metadata": {},
   "outputs": [],
   "source": [
    "from scipy.ndimage import binary_closing, binary_fill_holes, binary_erosion, binary_opening, binary_dilation\n",
    "from matplotlib import pyplot as plt"
   ]
  },
  {
   "cell_type": "code",
   "execution_count": null,
   "metadata": {},
   "outputs": [],
   "source": [
    "\n",
    "\n",
    "iii = int(props_edge['region_ID'][15])\n",
    "\n",
    "data = hdus['hstha_hdu'][iii].data\n",
    "mask = ~np.isnan(data)\n",
    "mask = mask*1\n",
    "\n",
    "mask_holes = binary_closing(mask, structure=np.ones((3,3)), iterations=5, border_value=1)\n",
    "# mask_holes = binary_opening(mask, structure=np.ones((3,3)), iterations=5)\n",
    "# mask_holes = binary_fill_holes(mask, structure=np.ones((1,1)))\n",
    "\n",
    "fig, ax = plt.subplots(2, 2, figsize=(10, 10))\n",
    "ax = ax.ravel()\n",
    "\n",
    "ax[0].imshow(data)\n",
    "ax[1].imshow(mask, vmin=0, vmax=1)\n",
    "ax[2].imshow(mask_holes, vmin=0, vmax=1)\n",
    "ax[3].imshow(mask-mask_holes, vmin=-1, vmax=1)"
   ]
  },
  {
   "cell_type": "code",
   "execution_count": null,
   "metadata": {},
   "outputs": [],
   "source": [
    "hdu_mask = fits.open('/Users/abarnes/Dropbox/work/Smallprojects/galaxies/data_hstha_nebulae_catalogue/ngc628c/catalogue_fixediso_10pc/ngc0628_mask.fits')[0]\n",
    "hdu_mask.writeto('ngc0628_mask.fits')\n",
    "data_mask = hdu_mask.data\n",
    "data_mask_binary = data_mask > -1\n",
    "plt.imshow(data_mask_binary)"
   ]
  },
  {
   "cell_type": "code",
   "execution_count": 79,
   "metadata": {},
   "outputs": [],
   "source": [
    "# region_ID = mycat.props['region_ID'][0]\n",
    "# region_ID = 2181\n",
    "region_ID = 649\n",
    "\n",
    "data_mask_region = data_mask == region_ID\n",
    "data_mask_region_inv = (data_mask != region_ID) & (data_mask != -1)\n",
    "\n",
    "data_mask_region = data_mask_region.astype(int)\n",
    "data_mask_region_inv = data_mask_region_inv.astype(int)\n",
    "\n",
    "hdu_mask_region = fits.PrimaryHDU(data_mask_region, header=hdu_mask.header)\n",
    "hdu_mask_region_inv = fits.PrimaryHDU(data_mask_region_inv, header=hdu_mask.header)\n",
    "\n",
    "hdu_mask_region.writeto('ngc0628_mask_region.fits', overwrite=True)\n",
    "hdu_mask_region_inv.writeto('ngc0628_mask_region_inv.fits', overwrite=True)\n",
    "\n",
    "mask_touch = (binary_dilation(data_mask_region) & data_mask_region_inv)\n",
    "mask_touch = np.sum(mask_touch) > 0 \n",
    "mask_touch"
   ]
  },
  {
   "cell_type": "code",
   "execution_count": null,
   "metadata": {},
   "outputs": [],
   "source": []
  }
 ],
 "metadata": {
  "kernelspec": {
   "display_name": "base",
   "language": "python",
   "name": "python3"
  },
  "language_info": {
   "codemirror_mode": {
    "name": "ipython",
    "version": 3
   },
   "file_extension": ".py",
   "mimetype": "text/x-python",
   "name": "python",
   "nbconvert_exporter": "python",
   "pygments_lexer": "ipython3",
   "version": "3.9.13"
  }
 },
 "nbformat": 4,
 "nbformat_minor": 2
}
